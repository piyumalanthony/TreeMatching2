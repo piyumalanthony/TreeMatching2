{
 "cells": [
  {
   "cell_type": "code",
   "id": "initial_id",
   "metadata": {
    "collapsed": true,
    "ExecuteTime": {
     "end_time": "2024-04-14T07:14:11.608991Z",
     "start_time": "2024-04-14T07:14:11.606777Z"
    }
   },
   "source": [
    "import numpy as np\n",
    "import pandas as pd\n",
    "import matplotlib.pyplot as plt"
   ],
   "outputs": [],
   "execution_count": 38
  },
  {
   "cell_type": "code",
   "source": [
    "import pandas as pd"
   ],
   "metadata": {
    "collapsed": false,
    "ExecuteTime": {
     "end_time": "2024-04-14T07:14:11.952128Z",
     "start_time": "2024-04-14T07:14:11.949650Z"
    }
   },
   "id": "234835355cde083c",
   "outputs": [],
   "execution_count": 39
  },
  {
   "cell_type": "code",
   "source": [
    "iqtree_JC_time = []\n",
    "iqtree_JC_memory = []\n",
    "mcmctree_JC_time = []\n",
    "mcmctree_JC_memory = []\n",
    "iqtree_JC_Gamma_time = []\n",
    "iqtree_JC_Gamma_memory = []\n",
    "mcmctree_JC_Gamma_time = []\n",
    "mcmctree_JC_Gamma_memory = []\n",
    "iqtree_HKY_time = []\n",
    "iqtree_HKY_memory = []\n",
    "mcmctree_HKY_time = []\n",
    "mcmctree_HKY_memory = []\n",
    "iqtree_HKY_Gamma_time = []\n",
    "iqtree_HKY_Gamma_memory = []\n",
    "mcmctree_HKY_Gamma_time = []\n",
    "mcmctree_HKY_Gamma_memory = []"
   ],
   "metadata": {
    "collapsed": false,
    "ExecuteTime": {
     "end_time": "2024-04-14T07:14:12.293576Z",
     "start_time": "2024-04-14T07:14:12.290070Z"
    }
   },
   "id": "5cc08bd42df84ed1",
   "outputs": [],
   "execution_count": 40
  },
  {
   "cell_type": "code",
   "source": [
    "iqtree_Poisson_time = []\n",
    "iqtree_Poisson_memory = []\n",
    "mcmctree_Poisson_time = []\n",
    "mcmctree_Poisson_memory = []"
   ],
   "metadata": {
    "collapsed": false,
    "ExecuteTime": {
     "end_time": "2024-04-14T07:14:12.873134Z",
     "start_time": "2024-04-14T07:14:12.870363Z"
    }
   },
   "id": "71110b6c3e0208f3",
   "outputs": [],
   "execution_count": 41
  },
  {
   "cell_type": "code",
   "source": [
    "file_path = \"/home/piyumal/PHD/TimeTree/TimeComplexityAnalysis/Hessian_experiment_2/JC/iqtree_output/100/10000/time.txt\""
   ],
   "metadata": {
    "collapsed": false,
    "ExecuteTime": {
     "end_time": "2024-04-14T07:14:13.285333Z",
     "start_time": "2024-04-14T07:14:13.283012Z"
    }
   },
   "id": "a6d8b84982bffa42",
   "outputs": [],
   "execution_count": 42
  },
  {
   "cell_type": "code",
   "source": [
    "with open(file_path) as f:\n",
    "    data = f.readlines()\n",
    "    print(data)"
   ],
   "metadata": {
    "collapsed": false,
    "ExecuteTime": {
     "end_time": "2024-04-14T07:14:13.680357Z",
     "start_time": "2024-04-14T07:14:13.674655Z"
    }
   },
   "id": "2d582078d8ab9457",
   "outputs": [
    {
     "name": "stdout",
     "output_type": "stream",
     "text": [
      "['\\tCommand being timed: \"/home/piyumal/Tools/IQTREE/pointer_to_root/iqtree2 -s /home/piyumal/PHD/TimeTree/TimeComplexityAnalysis/Hessian_experiment_2/JC/simulated_data/100/10000.phy --redo -nt 1 -m JC --dating mcmctree -seed 1 -te /home/piyumal/PHD/TimeTree/TimeComplexityAnalysis/Hessian_experiment_2/JC/simulated_data/100/10000.nw --prefix /home/piyumal/PHD/TimeTree/TimeComplexityAnalysis/Hessian_experiment_2/JC/iqtree_output/100/10000/output -keep-ident\"\\n', '\\tUser time (seconds): 0.27\\n', '\\tSystem time (seconds): 0.03\\n', '\\tPercent of CPU this job got: 99%\\n', '\\tElapsed (wall clock) time (h:mm:ss or m:ss): 0:00.30\\n', '\\tAverage shared text size (kbytes): 0\\n', '\\tAverage unshared data size (kbytes): 0\\n', '\\tAverage stack size (kbytes): 0\\n', '\\tAverage total size (kbytes): 0\\n', '\\tMaximum resident set size (kbytes): 107720\\n', '\\tAverage resident set size (kbytes): 0\\n', '\\tMajor (requiring I/O) page faults: 0\\n', '\\tMinor (reclaiming a frame) page faults: 24917\\n', '\\tVoluntary context switches: 1\\n', '\\tInvoluntary context switches: 4\\n', '\\tSwaps: 0\\n', '\\tFile system inputs: 0\\n', '\\tFile system outputs: 1952\\n', '\\tSocket messages sent: 0\\n', '\\tSocket messages received: 0\\n', '\\tSignals delivered: 0\\n', '\\tPage size (bytes): 4096\\n', '\\tExit status: 0\\n']\n"
     ]
    }
   ],
   "execution_count": 43
  },
  {
   "cell_type": "code",
   "source": [
    "line_time = \"Elapsed (wall clock) time (h:mm:ss or m:ss):\"\n",
    "line_memory = \"Maximum resident set size (kbytes):\""
   ],
   "metadata": {
    "collapsed": false,
    "ExecuteTime": {
     "end_time": "2024-04-14T07:14:14.479020Z",
     "start_time": "2024-04-14T07:14:14.476638Z"
    }
   },
   "id": "4d4207da4714a4c0",
   "outputs": [],
   "execution_count": 44
  },
  {
   "cell_type": "code",
   "source": [
    "for i in data:\n",
    "    if line_time in i:\n",
    "        a = i.strip().split(\":\")\n",
    "        print(a)\n",
    "        print(float(a[-1]))\n",
    "    elif line_memory in i:\n",
    "        a = i.strip().split(\":\")\n",
    "        print(a)"
   ],
   "metadata": {
    "collapsed": false,
    "ExecuteTime": {
     "end_time": "2024-04-14T07:14:14.943035Z",
     "start_time": "2024-04-14T07:14:14.939013Z"
    }
   },
   "id": "950d73a2c41f919b",
   "outputs": [
    {
     "name": "stdout",
     "output_type": "stream",
     "text": [
      "['Elapsed (wall clock) time (h', 'mm', 'ss or m', 'ss)', ' 0', '00.30']\n",
      "0.3\n",
      "['Maximum resident set size (kbytes)', ' 107720']\n"
     ]
    }
   ],
   "execution_count": 45
  },
  {
   "cell_type": "code",
   "source": [
    "model_list = [\"JC\", \"JC_Gamma\", \"HKY\", \"HKY_Gamma\"]"
   ],
   "metadata": {
    "collapsed": false,
    "ExecuteTime": {
     "end_time": "2024-04-14T07:14:15.754955Z",
     "start_time": "2024-04-14T07:14:15.752330Z"
    }
   },
   "id": "8d150f9bc31ee90f",
   "outputs": [],
   "execution_count": 46
  },
  {
   "cell_type": "code",
   "source": [
    "for model in model_list:\n",
    "    for j in range(10, 110, 10):\n",
    "        iqtree_file_path = f\"/home/piyumal/PHD/TimeTree/TimeComplexityAnalysis/Hessian_experiment_2/{model}/iqtree_output/{j}/10000/time.txt\"\n",
    "        mcmctree_file_path = f\"/home/piyumal/PHD/TimeTree/TimeComplexityAnalysis/Hessian_experiment_2/{model}/mcmctree_output/{j}/10000/time.txt\"\n",
    "        with open(iqtree_file_path) as f1:\n",
    "            data1 = f1.readlines()\n",
    "        with open(mcmctree_file_path) as f2:\n",
    "            data2 = f2.readlines()\n",
    "        l1, l2, l3, l4 = 0,0,0,0\n",
    "        for line in data1:\n",
    "            if line_time in line:\n",
    "                a = line.strip().split(\":\")\n",
    "                a1 = float(a[-1].strip())\n",
    "                a2 = float(a[-2].strip())\n",
    "                l1 = 60*a2 + a1\n",
    "            elif line_memory in line:\n",
    "                b = line.strip().split(\":\")\n",
    "                b1 = float(b[-1].strip())\n",
    "                print(b1)\n",
    "                l2 = b1//1024\n",
    "                \n",
    "        for line in data2:\n",
    "            if line_time in line:\n",
    "                a = line.strip().split(\":\")\n",
    "                a1 = float(a[-1].strip())\n",
    "                a2 = float(a[-2].strip())\n",
    "                l3 = 60*a2 + a1\n",
    "            elif line_memory in line:\n",
    "                b = line.strip().split(\":\")\n",
    "                b1 = float(b[-1].strip())\n",
    "                l4 = b1//1024\n",
    "        print(model, j, l1, l2, l3, l4)\n",
    "        if model == \"JC\":\n",
    "            iqtree_JC_time.append(l1)\n",
    "            iqtree_JC_memory.append(l2)\n",
    "            mcmctree_JC_time.append(l3)\n",
    "            mcmctree_JC_memory.append(l4)\n",
    "        if model == \"JC_Gamma\":\n",
    "            iqtree_JC_Gamma_time.append(l1)\n",
    "            iqtree_JC_Gamma_memory.append(l2)\n",
    "            mcmctree_JC_Gamma_time.append(l3)\n",
    "            mcmctree_JC_Gamma_memory.append(l4)\n",
    "        if model == \"HKY\":\n",
    "            iqtree_HKY_time.append(l1)\n",
    "            iqtree_HKY_memory.append(l2)\n",
    "            mcmctree_HKY_time.append(l3)\n",
    "            mcmctree_HKY_memory.append(l4)\n",
    "        if model == \"HKY_Gamma\":\n",
    "            iqtree_HKY_Gamma_time.append(l1)\n",
    "            iqtree_HKY_Gamma_memory.append(l2)\n",
    "            mcmctree_HKY_Gamma_time.append(l3)\n",
    "            mcmctree_HKY_Gamma_memory.append(l4)"
   ],
   "metadata": {
    "collapsed": false,
    "ExecuteTime": {
     "end_time": "2024-04-14T07:14:20.063219Z",
     "start_time": "2024-04-14T07:14:20.021100Z"
    }
   },
   "id": "de1bc43a0d051074",
   "outputs": [
    {
     "name": "stdout",
     "output_type": "stream",
     "text": [
      "19988.0\n",
      "JC 10 0.02 19.0 0.14 7.0\n",
      "31856.0\n",
      "JC 20 0.05 31.0 0.56 14.0\n",
      "40972.0\n",
      "JC 30 0.08 40.0 1.49 20.0\n",
      "51324.0\n",
      "JC 40 0.1 50.0 1.76 26.0\n",
      "60484.0\n",
      "JC 50 0.13 59.0 2.44 33.0\n",
      "70208.0\n",
      "JC 60 0.17 68.0 4.14 39.0\n",
      "79036.0\n",
      "JC 70 0.21 77.0 4.38 45.0\n",
      "88460.0\n",
      "JC 80 0.22 86.0 6.33 51.0\n",
      "97828.0\n",
      "JC 90 0.28 95.0 7.49 58.0\n",
      "107720.0\n",
      "JC 100 0.3 105.0 8.52 64.0\n",
      "22040.0\n",
      "JC_Gamma 10 0.04 21.0 0.97 5.0\n",
      "41368.0\n",
      "JC_Gamma 20 0.15 40.0 11.7 11.0\n",
      "60056.0\n",
      "JC_Gamma 30 0.24 58.0 44.94 16.0\n",
      "80924.0\n",
      "JC_Gamma 40 0.36 79.0 138.1 22.0\n",
      "101840.0\n",
      "JC_Gamma 50 0.36 99.0 230.21 28.0\n",
      "123752.0\n",
      "JC_Gamma 60 0.44 120.0 472.69 34.0\n",
      "144444.0\n",
      "JC_Gamma 70 0.53 141.0 1065.75 40.0\n",
      "167720.0\n",
      "JC_Gamma 80 0.62 163.0 1037.78 46.0\n",
      "187724.0\n",
      "JC_Gamma 90 0.72 183.0 2015.81 52.0\n",
      "209832.0\n",
      "JC_Gamma 100 0.81 204.0 2452.85 59.0\n",
      "19740.0\n",
      "HKY 10 0.03 19.0 0.18 7.0\n",
      "31580.0\n",
      "HKY 20 0.08 30.0 0.46 14.0\n",
      "40976.0\n",
      "HKY 30 0.12 40.0 1.43 20.0\n",
      "51324.0\n",
      "HKY 40 0.17 50.0 1.87 27.0\n",
      "60372.0\n",
      "HKY 50 0.22 58.0 2.48 33.0\n",
      "70208.0\n",
      "HKY 60 0.29 68.0 3.83 39.0\n",
      "79012.0\n",
      "HKY 70 0.34 77.0 5.45 45.0\n",
      "88332.0\n",
      "HKY 80 0.41 86.0 6.95 52.0\n",
      "97360.0\n",
      "HKY 90 0.48 95.0 7.48 58.0\n",
      "107708.0\n",
      "HKY 100 0.52 105.0 8.89 64.0\n",
      "22428.0\n",
      "HKY_Gamma 10 0.05 21.0 2.01 6.0\n",
      "41116.0\n",
      "HKY_Gamma 20 0.22 40.0 21.64 11.0\n",
      "60188.0\n",
      "HKY_Gamma 30 0.28 58.0 67.76 16.0\n",
      "80920.0\n",
      "HKY_Gamma 40 0.43 79.0 158.46 22.0\n",
      "101032.0\n",
      "HKY_Gamma 50 0.59 98.0 269.65 28.0\n",
      "123724.0\n",
      "HKY_Gamma 60 0.69 120.0 770.23 34.0\n",
      "144260.0\n",
      "HKY_Gamma 70 0.75 140.0 925.75 40.0\n",
      "166952.0\n",
      "HKY_Gamma 80 0.92 163.0 1669.45 46.0\n",
      "188684.0\n",
      "HKY_Gamma 90 1.07 184.0 2705.13 53.0\n",
      "210680.0\n",
      "HKY_Gamma 100 1.21 205.0 3530.2 59.0\n"
     ]
    }
   ],
   "execution_count": 47
  },
  {
   "cell_type": "code",
   "source": [
    "iqtree_JC_memory"
   ],
   "metadata": {
    "collapsed": false,
    "ExecuteTime": {
     "end_time": "2024-04-14T07:14:22.778202Z",
     "start_time": "2024-04-14T07:14:22.774714Z"
    }
   },
   "id": "68d31239cf3ff779",
   "outputs": [
    {
     "data": {
      "text/plain": [
       "[19.0, 31.0, 40.0, 50.0, 59.0, 68.0, 77.0, 86.0, 95.0, 105.0]"
      ]
     },
     "execution_count": 48,
     "metadata": {},
     "output_type": "execute_result"
    }
   ],
   "execution_count": 48
  },
  {
   "cell_type": "code",
   "source": [
    "iqtree_JC_time"
   ],
   "metadata": {
    "collapsed": false,
    "ExecuteTime": {
     "end_time": "2024-04-14T07:14:23.139483Z",
     "start_time": "2024-04-14T07:14:23.135928Z"
    }
   },
   "id": "8769fad2f3d76e8f",
   "outputs": [
    {
     "data": {
      "text/plain": [
       "[0.02, 0.05, 0.08, 0.1, 0.13, 0.17, 0.21, 0.22, 0.28, 0.3]"
      ]
     },
     "execution_count": 49,
     "metadata": {},
     "output_type": "execute_result"
    }
   ],
   "execution_count": 49
  },
  {
   "cell_type": "code",
   "source": [
    "num_taxa = [i for i in range(10,110, 10)]"
   ],
   "metadata": {
    "collapsed": false,
    "ExecuteTime": {
     "end_time": "2024-04-14T07:14:23.619443Z",
     "start_time": "2024-04-14T07:14:23.616848Z"
    }
   },
   "id": "971aa4b3cbb9c3d0",
   "outputs": [],
   "execution_count": 50
  },
  {
   "cell_type": "code",
   "source": [
    "num_taxa"
   ],
   "metadata": {
    "collapsed": false,
    "ExecuteTime": {
     "end_time": "2024-04-14T07:14:24.290447Z",
     "start_time": "2024-04-14T07:14:24.286563Z"
    }
   },
   "id": "dab67a2a8a45d831",
   "outputs": [
    {
     "data": {
      "text/plain": [
       "[10, 20, 30, 40, 50, 60, 70, 80, 90, 100]"
      ]
     },
     "execution_count": 51,
     "metadata": {},
     "output_type": "execute_result"
    }
   ],
   "execution_count": 51
  },
  {
   "cell_type": "code",
   "source": [
    "iqtree_JC_time"
   ],
   "metadata": {
    "collapsed": false,
    "ExecuteTime": {
     "end_time": "2024-04-14T07:14:26.439515Z",
     "start_time": "2024-04-14T07:14:26.436360Z"
    }
   },
   "id": "9e6b1dde9152d024",
   "outputs": [
    {
     "data": {
      "text/plain": [
       "[0.02, 0.05, 0.08, 0.1, 0.13, 0.17, 0.21, 0.22, 0.28, 0.3]"
      ]
     },
     "execution_count": 52,
     "metadata": {},
     "output_type": "execute_result"
    }
   ],
   "execution_count": 52
  },
  {
   "cell_type": "code",
   "source": [
    "plt.plot(num_taxa, iqtree_JC_time, 'd--', label=\"IQ-TREE + JC\")\n",
    "plt.plot(num_taxa, iqtree_HKY_time, 'd--', label=\"IQ-TREE + HKY\")\n",
    "plt.plot(num_taxa, mcmctree_JC_time,'d--', label=\"BaseML + JC\")\n",
    "plt.plot(num_taxa, mcmctree_HKY_time,'d--', label=\"BaseML + HKY\")\n",
    "# plt.ylim([0, 10])\n",
    "plt.xlim([10, 100])\n",
    "plt.title('Runtime comparison for DNA data')\n",
    "plt.xlabel('Num Taxa')\n",
    "plt.ylabel('Time(Minutes)')\n",
    "plt.legend()\n",
    "plt.savefig(\"/home/piyumal/PHD/TimeTree/TimeComplexityAnalysis/Hessian_experiment_2/plot_1.png\")\n",
    "plt.clf()\n"
   ],
   "metadata": {
    "collapsed": false,
    "ExecuteTime": {
     "end_time": "2024-04-14T07:14:43.080524Z",
     "start_time": "2024-04-14T07:14:42.951615Z"
    }
   },
   "id": "d55e8992ae6c1112",
   "outputs": [
    {
     "data": {
      "text/plain": [
       "<Figure size 640x480 with 0 Axes>"
      ]
     },
     "metadata": {},
     "output_type": "display_data"
    }
   ],
   "execution_count": 53
  },
  {
   "cell_type": "code",
   "source": [
    "plt.plot(num_taxa, iqtree_JC_memory, 'd--', label=\"IQ-TREE + JC\")\n",
    "plt.plot(num_taxa, iqtree_HKY_memory, 'd--', label=\"IQ-TREE + HKY\")\n",
    "plt.plot(num_taxa, mcmctree_JC_memory,'d--', label=\"BaseML + JC\")\n",
    "plt.plot(num_taxa, mcmctree_HKY_memory,'d--', label=\"BaseML + HKY\")\n",
    "# plt.ylim([0, 10])\n",
    "plt.xlim([10, 100])\n",
    "plt.title('Memory consumption for DNA data')\n",
    "plt.xlabel('Num Taxa')\n",
    "plt.ylabel('Memory(MB)')\n",
    "plt.legend()\n",
    "plt.savefig(\"/home/piyumal/PHD/TimeTree/TimeComplexityAnalysis/Hessian_experiment_2/plot_1_memory.png\")\n",
    "plt.clf()"
   ],
   "metadata": {
    "collapsed": false,
    "ExecuteTime": {
     "end_time": "2024-04-14T07:15:04.192479Z",
     "start_time": "2024-04-14T07:15:04.070074Z"
    }
   },
   "id": "b34f8aacb966e58b",
   "outputs": [
    {
     "data": {
      "text/plain": [
       "<Figure size 640x480 with 0 Axes>"
      ]
     },
     "metadata": {},
     "output_type": "display_data"
    }
   ],
   "execution_count": 54
  },
  {
   "cell_type": "code",
   "source": [
    "plt.plot(num_taxa, iqtree_JC_Gamma_time, 'd--',  label=\"IQ-TREE + JC + Gamma\")\n",
    "plt.plot(num_taxa, iqtree_HKY_Gamma_time, 'd--', label=\"IQ-TREE + HKY + Gamma\")\n",
    "plt.plot(num_taxa, mcmctree_JC_Gamma_time, 'd--', label=\"BaseML + JC + Gamma\")\n",
    "plt.plot(num_taxa, mcmctree_HKY_Gamma_time, 'd--', label=\"BaseML + HKY + Gamma\")\n",
    "# plt.ylim([0, 10])\n",
    "plt.xlim([10, 100])\n",
    "plt.title('Runtime comparison for DNA data')\n",
    "plt.xlabel('Num Taxa')\n",
    "plt.ylabel('Time(Minutes)')\n",
    "plt.legend()\n",
    "plt.savefig(\"/home/piyumal/PHD/TimeTree/TimeComplexityAnalysis/Hessian_experiment_2/plot_2.png\")\n",
    "plt.clf()"
   ],
   "metadata": {
    "collapsed": false,
    "ExecuteTime": {
     "end_time": "2024-04-14T07:15:20.475313Z",
     "start_time": "2024-04-14T07:15:20.365739Z"
    }
   },
   "id": "b8e511d3a02b8517",
   "outputs": [
    {
     "data": {
      "text/plain": [
       "<Figure size 640x480 with 0 Axes>"
      ]
     },
     "metadata": {},
     "output_type": "display_data"
    }
   ],
   "execution_count": 55
  },
  {
   "cell_type": "code",
   "source": [
    "plt.plot(num_taxa, iqtree_JC_Gamma_memory, 'd--', label=\"IQ-TREE + JC + Gamma\")\n",
    "plt.plot(num_taxa, iqtree_HKY_Gamma_memory, 'd--', label=\"IQ-TREE + HKY + Gamma\")\n",
    "plt.plot(num_taxa, mcmctree_JC_Gamma_memory,'d--', label=\"BaseML + JC + Gamma\")\n",
    "plt.plot(num_taxa, mcmctree_HKY_Gamma_memory,'d--', label=\"BaseML + HKY + Gamma\")\n",
    "# plt.ylim([0, 10])\n",
    "plt.xlim([10, 100])\n",
    "plt.title('Memory consumption for DNA data')\n",
    "plt.xlabel('Num Taxa')\n",
    "plt.ylabel('Memory(MB)')\n",
    "plt.legend()\n",
    "plt.savefig(\"/home/piyumal/PHD/TimeTree/TimeComplexityAnalysis/Hessian_experiment_2/plot_2_memory.png\")\n",
    "plt.clf()"
   ],
   "metadata": {
    "collapsed": false,
    "ExecuteTime": {
     "end_time": "2024-04-14T07:15:35.157210Z",
     "start_time": "2024-04-14T07:15:35.021309Z"
    }
   },
   "id": "c0a30b5f9809cc15",
   "outputs": [
    {
     "data": {
      "text/plain": [
       "<Figure size 640x480 with 0 Axes>"
      ]
     },
     "metadata": {},
     "output_type": "display_data"
    }
   ],
   "execution_count": 56
  },
  {
   "cell_type": "code",
   "source": [
    "for model in [\"Poisson\"]:\n",
    "    for j in range(10, 110, 10):\n",
    "        iqtree_file_path = f\"/home/piyumal/PHD/TimeTree/TimeComplexityAnalysis/Hessian_experiment_2/AA/{model}/iqtree_output/{j}/10000/time.txt\"\n",
    "        mcmctree_file_path = f\"/home/piyumal/PHD/TimeTree/TimeComplexityAnalysis/Hessian_experiment_2/AA/{model}/mcmctree_output/{j}/10000/time.txt\"\n",
    "        with open(iqtree_file_path) as f1:\n",
    "            data1 = f1.readlines()\n",
    "        with open(mcmctree_file_path) as f2:\n",
    "            data2 = f2.readlines()\n",
    "        l1, l2, l3, l4 = 0,0,0,0\n",
    "        for line in data1:\n",
    "            if line_time in line:\n",
    "                a = line.strip().split(\":\")\n",
    "                a1 = float(a[-1].strip())\n",
    "                a2 = float(a[-2].strip())\n",
    "                l1 = 60*a2 + a1\n",
    "            elif line_memory in line:\n",
    "                b = line.strip().split(\":\")\n",
    "                b1 = float(b[-1].strip())\n",
    "                print(b1)\n",
    "                l2 = b1//1024\n",
    "                \n",
    "        for line in data2:\n",
    "            if line_time in line:\n",
    "                a = line.strip().split(\":\")\n",
    "                a1 = float(a[-1].strip())\n",
    "                a2 = float(a[-2].strip())\n",
    "                l3 = 60*a2 + a1\n",
    "            elif line_memory in line:\n",
    "                b = line.strip().split(\":\")\n",
    "                b1 = float(b[-1].strip())\n",
    "                l4 = b1//1024\n",
    "        print(model, j, l1, l2, l3, l4)\n",
    "        if model == \"Poisson\":\n",
    "            iqtree_Poisson_time.append(l1)\n",
    "            iqtree_Poisson_memory.append(l2)\n",
    "            mcmctree_Poisson_time.append(l3)\n",
    "            mcmctree_Poisson_memory.append(l4)\n",
    "       "
   ],
   "metadata": {
    "collapsed": false,
    "ExecuteTime": {
     "end_time": "2024-04-14T07:15:38.025318Z",
     "start_time": "2024-04-14T07:15:38.012338Z"
    }
   },
   "id": "9b7da155bff09413",
   "outputs": [
    {
     "name": "stdout",
     "output_type": "stream",
     "text": [
      "32732.0\n",
      "Poisson 10 0.15 31.0 0.65 8.0\n",
      "55520.0\n",
      "Poisson 20 0.34 54.0 5.94 36.0\n",
      "77312.0\n",
      "Poisson 30 0.5 75.0 12.04 55.0\n",
      "99084.0\n",
      "Poisson 40 0.76 96.0 17.79 73.0\n",
      "121488.0\n",
      "Poisson 50 0.91 118.0 27.94 92.0\n",
      "143992.0\n",
      "Poisson 60 1.13 140.0 41.23 110.0\n",
      "165304.0\n",
      "Poisson 70 1.55 161.0 50.45 129.0\n",
      "187968.0\n",
      "Poisson 80 1.54 183.0 66.42 147.0\n",
      "209756.0\n",
      "Poisson 90 1.77 204.0 76.14 166.0\n",
      "232892.0\n",
      "Poisson 100 2.03 227.0 94.71000000000001 184.0\n"
     ]
    }
   ],
   "execution_count": 57
  },
  {
   "cell_type": "code",
   "source": [
    "plt.plot(num_taxa, iqtree_Poisson_time, 'd--',  label=\"IQ-TREE + Poisson\")\n",
    "plt.plot(num_taxa, mcmctree_Poisson_time, 'd--', label=\"BaseML + Poisson\")\n",
    "# plt.ylim([0, 10])\n",
    "plt.xlim([10, 100])\n",
    "plt.title('Runtime comparison for AA data')\n",
    "plt.xlabel('Num Taxa')\n",
    "plt.ylabel('Time(Minutes)')\n",
    "plt.legend()\n",
    "plt.savefig(\"/home/piyumal/PHD/TimeTree/TimeComplexityAnalysis/Hessian_experiment_2/plot_3.png\")\n",
    "plt.clf()"
   ],
   "metadata": {
    "collapsed": false,
    "ExecuteTime": {
     "end_time": "2024-04-14T07:15:49.257441Z",
     "start_time": "2024-04-14T07:15:49.167384Z"
    }
   },
   "id": "bae9dadaa451e194",
   "outputs": [
    {
     "data": {
      "text/plain": [
       "<Figure size 640x480 with 0 Axes>"
      ]
     },
     "metadata": {},
     "output_type": "display_data"
    }
   ],
   "execution_count": 58
  },
  {
   "cell_type": "code",
   "source": [
    "plt.plot(num_taxa, iqtree_Poisson_memory, 'd--',  label=\"IQ-TREE + Poisson\")\n",
    "plt.plot(num_taxa, mcmctree_Poisson_memory, 'd--', label=\"BaseML + Poisson\")\n",
    "# plt.ylim([0, 10])\n",
    "plt.xlim([10, 100])\n",
    "plt.title('Memory consumption for AA data')\n",
    "plt.xlabel('Num Taxa')\n",
    "plt.ylabel('Memory(MB)')\n",
    "plt.legend()\n",
    "plt.savefig(\"/home/piyumal/PHD/TimeTree/TimeComplexityAnalysis/Hessian_experiment_2/plot_3_memory.png\")\n",
    "plt.clf()"
   ],
   "metadata": {
    "collapsed": false,
    "ExecuteTime": {
     "end_time": "2024-04-14T07:16:01.601078Z",
     "start_time": "2024-04-14T07:16:01.495790Z"
    }
   },
   "id": "92be96bd83634b6c",
   "outputs": [
    {
     "data": {
      "text/plain": [
       "<Figure size 640x480 with 0 Axes>"
      ]
     },
     "metadata": {},
     "output_type": "display_data"
    }
   ],
   "execution_count": 59
  },
  {
   "cell_type": "code",
   "source": [
    "iqtree_Poisson_memory"
   ],
   "metadata": {
    "collapsed": false,
    "ExecuteTime": {
     "end_time": "2024-04-14T07:16:02.409603Z",
     "start_time": "2024-04-14T07:16:02.406754Z"
    }
   },
   "id": "8f4515f1e83a51f",
   "outputs": [
    {
     "data": {
      "text/plain": [
       "[31.0, 54.0, 75.0, 96.0, 118.0, 140.0, 161.0, 183.0, 204.0, 227.0]"
      ]
     },
     "execution_count": 60,
     "metadata": {},
     "output_type": "execute_result"
    }
   ],
   "execution_count": 60
  },
  {
   "cell_type": "code",
   "execution_count": 23,
   "outputs": [],
   "source": [],
   "metadata": {
    "collapsed": false,
    "ExecuteTime": {
     "end_time": "2023-11-23T22:42:00.480143689Z",
     "start_time": "2023-11-23T22:42:00.479567006Z"
    }
   },
   "id": "3d1ec76cc30430b7"
  }
 ],
 "metadata": {
  "kernelspec": {
   "display_name": "Python 3",
   "language": "python",
   "name": "python3"
  },
  "language_info": {
   "codemirror_mode": {
    "name": "ipython",
    "version": 2
   },
   "file_extension": ".py",
   "mimetype": "text/x-python",
   "name": "python",
   "nbconvert_exporter": "python",
   "pygments_lexer": "ipython2",
   "version": "2.7.6"
  }
 },
 "nbformat": 4,
 "nbformat_minor": 5
}
