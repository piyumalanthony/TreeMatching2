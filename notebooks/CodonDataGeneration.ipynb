{
 "cells": [
  {
   "cell_type": "code",
   "execution_count": 1,
   "id": "initial_id",
   "metadata": {
    "collapsed": true,
    "ExecuteTime": {
     "end_time": "2024-02-20T06:24:43.690606764Z",
     "start_time": "2024-02-20T06:24:43.024229789Z"
    }
   },
   "outputs": [],
   "source": [
    "import os\n",
    "import ete3"
   ]
  },
  {
   "cell_type": "code",
   "outputs": [],
   "source": [
    "file_str = \"/home/piyumal/PHD/TimeTree/Codon_models\"\n",
    "IQTREE_PATH = '/home/piyumal/Tools/IQTREE/pointer_to_root/iqtree2'"
   ],
   "metadata": {
    "collapsed": false,
    "ExecuteTime": {
     "end_time": "2024-02-20T06:26:26.543920194Z",
     "start_time": "2024-02-20T06:26:26.503318193Z"
    }
   },
   "id": "ef774fcf1cc10698",
   "execution_count": 4
  },
  {
   "cell_type": "code",
   "outputs": [],
   "source": [
    "t = ete3.Tree()\n",
    "taxa = [\"T\" + str(i) for i in range(1, 11)]\n",
    "t.populate(10, taxa, random_branches=True, branch_range=[0.0005, 0.4])\n",
    "t.write(format=1, outfile=f'{file_str}/tree.nw')"
   ],
   "metadata": {
    "collapsed": false,
    "ExecuteTime": {
     "end_time": "2024-02-20T06:26:27.969825887Z",
     "start_time": "2024-02-20T06:26:27.966282394Z"
    }
   },
   "id": "4be40604e623f6c1",
   "execution_count": 5
  },
  {
   "cell_type": "code",
   "outputs": [
    {
     "name": "stdout",
     "output_type": "stream",
     "text": [
      "IQ-TREE multicore version 2.2.2.9 COVID-edition for Linux 64-bit built Oct 30 2023\n",
      "Developed by Bui Quang Minh, James Barbetti, Nguyen Lam Tung,\n",
      "Olga Chernomor, Heiko Schmidt, Dominik Schrempf, Michael Woodhams, Ly Trong Nhan.\n",
      "\n",
      "Host:    piyumal (AVX2, FMA3, 15 GB RAM)\n",
      "Command: /home/piyumal/Tools/IQTREE/pointer_to_root/iqtree2 --alisim /home/piyumal/PHD/TimeTree/Codon_models -m MG{2.0}+F1X4{0.2/0.3/0.4/0.1} --seqtype CODON -t /home/piyumal/PHD/TimeTree/Codon_models/tree.nw -seed 1 --length 9999\n",
      "Seed:    1 (Using SPRNG - Scalable Parallel Random Number Generator)\n",
      "Time:    Tue Feb 20 17:33:53 2024\n",
      "Kernel:  AVX+FMA - 1 threads (12 CPU cores detected)\n",
      "\n",
      "[Alignment Simulator] Executing\n",
      " - Tree filepath: /home/piyumal/PHD/TimeTree/Codon_models/tree.nw\n",
      " - Length of output sequences: 9999\n",
      " - Model: MG{2.0}+F1X4{0.2/0.3/0.4/0.1}\n",
      " - Number of output datasets: 1\n",
      "SUBSTITUTION PROCESS\n",
      "--------------------\n",
      "\n",
      "Model of substitution: MG+F1X4\n",
      "\n",
      "State frequencies: \n",
      "  pi(AAA) = 0.008  pi(AAC) = 0.012  pi(AAG) = 0.016  pi(AAT) = 0.004\n",
      "  pi(ACA) = 0.012  pi(ACC) = 0.018  pi(ACG) = 0.024  pi(ACT) = 0.006\n",
      "  pi(AGA) = 0.016  pi(AGC) = 0.024  pi(AGG) = 0.033  pi(AGT) = 0.008\n",
      "  pi(ATA) = 0.004  pi(ATC) = 0.006  pi(ATG) = 0.008  pi(ATT) = 0.002\n",
      "  pi(CAA) = 0.012  pi(CAC) = 0.018  pi(CAG) = 0.024  pi(CAT) = 0.006\n",
      "  pi(CCA) = 0.018  pi(CCC) = 0.028  pi(CCG) = 0.037  pi(CCT) = 0.009\n",
      "  pi(CGA) = 0.024  pi(CGC) = 0.037  pi(CGG) = 0.049  pi(CGT) = 0.012\n",
      "  pi(CTA) = 0.006  pi(CTC) = 0.009  pi(CTG) = 0.012  pi(CTT) = 0.003\n",
      "  pi(GAA) = 0.016  pi(GAC) = 0.024  pi(GAG) = 0.033  pi(GAT) = 0.008\n",
      "  pi(GCA) = 0.024  pi(GCC) = 0.037  pi(GCG) = 0.049  pi(GCT) = 0.012\n",
      "  pi(GGA) = 0.033  pi(GGC) = 0.049  pi(GGG) = 0.065  pi(GGT) = 0.016\n",
      "  pi(GTA) = 0.008  pi(GTC) = 0.012  pi(GTG) = 0.016  pi(GTT) = 0.004\n",
      "  pi(TAC) = 0.006  pi(TAT) = 0.002  pi(TCA) = 0.006  pi(TCC) = 0.009\n",
      "  pi(TCG) = 0.012  pi(TCT) = 0.003  pi(TGC) = 0.012  pi(TGG) = 0.016\n",
      "  pi(TGT) = 0.004  pi(TTA) = 0.002  pi(TTC) = 0.003  pi(TTG) = 0.004\n",
      "  pi(TTT) = 0.001\n",
      "Model of rate heterogeneity: Uniform\n",
      "\n",
      "Nonsynonymous/synonymous ratio (omega): 2.000\n",
      "Transition/transversion ratio (kappa): 1.000\n",
      "[Alignment Simulator] Done\n",
      "Simulation time: 0.007s\n",
      "Date and Time: Tue Feb 20 17:33:53 2024\n"
     ]
    },
    {
     "data": {
      "text/plain": "0"
     },
     "execution_count": 13,
     "metadata": {},
     "output_type": "execute_result"
    }
   ],
   "source": [
    "cmd_alisim = f'{IQTREE_PATH} --alisim {file_str} -m MG{{2.0}}+F1X4{{0.2/0.3/0.4/0.1}}  --seqtype CODON -t {file_str}/tree.nw -seed 1 --length {9999}'\n",
    "os.system(cmd_alisim)"
   ],
   "metadata": {
    "collapsed": false,
    "ExecuteTime": {
     "end_time": "2024-02-20T06:33:53.240379175Z",
     "start_time": "2024-02-20T06:33:53.194716301Z"
    }
   },
   "id": "a04d09b345975459",
   "execution_count": 13
  },
  {
   "cell_type": "code",
   "outputs": [],
   "source": [],
   "metadata": {
    "collapsed": false
   },
   "id": "2d41538796d165c7"
  }
 ],
 "metadata": {
  "kernelspec": {
   "display_name": "Python 3",
   "language": "python",
   "name": "python3"
  },
  "language_info": {
   "codemirror_mode": {
    "name": "ipython",
    "version": 2
   },
   "file_extension": ".py",
   "mimetype": "text/x-python",
   "name": "python",
   "nbconvert_exporter": "python",
   "pygments_lexer": "ipython2",
   "version": "2.7.6"
  }
 },
 "nbformat": 4,
 "nbformat_minor": 5
}
