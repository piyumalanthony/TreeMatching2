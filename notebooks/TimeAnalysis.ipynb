{
 "cells": [
  {
   "cell_type": "code",
   "id": "initial_id",
   "metadata": {
    "collapsed": true,
    "ExecuteTime": {
     "end_time": "2024-04-14T07:11:46.037815Z",
     "start_time": "2024-04-14T07:11:45.384939Z"
    }
   },
   "source": [
    "import numpy as np\n",
    "import pandas as pd\n",
    "import matplotlib.pyplot as plt"
   ],
   "outputs": [],
   "execution_count": 1
  },
  {
   "cell_type": "code",
   "source": [
    "import pandas as pd"
   ],
   "metadata": {
    "collapsed": false,
    "ExecuteTime": {
     "end_time": "2024-04-14T07:11:46.040641Z",
     "start_time": "2024-04-14T07:11:46.038566Z"
    }
   },
   "id": "234835355cde083c",
   "outputs": [],
   "execution_count": 2
  },
  {
   "cell_type": "code",
   "source": [
    "iqtree_JC_time = []\n",
    "iqtree_JC_memory = []\n",
    "mcmctree_JC_time = []\n",
    "mcmctree_JC_memory = []\n",
    "iqtree_JC_Gamma_time = []\n",
    "iqtree_JC_Gamma_memory = []\n",
    "mcmctree_JC_Gamma_time = []\n",
    "mcmctree_JC_Gamma_memory = []\n",
    "iqtree_HKY_time = []\n",
    "iqtree_HKY_memory = []\n",
    "mcmctree_HKY_time = []\n",
    "mcmctree_HKY_memory = []\n",
    "iqtree_HKY_Gamma_time = []\n",
    "iqtree_HKY_Gamma_memory = []\n",
    "mcmctree_HKY_Gamma_time = []\n",
    "mcmctree_HKY_Gamma_memory = []"
   ],
   "metadata": {
    "collapsed": false,
    "ExecuteTime": {
     "end_time": "2024-04-14T07:11:46.864947Z",
     "start_time": "2024-04-14T07:11:46.862355Z"
    }
   },
   "id": "5cc08bd42df84ed1",
   "outputs": [],
   "execution_count": 3
  },
  {
   "cell_type": "code",
   "source": [
    "iqtree_Poisson_time = []\n",
    "iqtree_Poisson_memory = []\n",
    "mcmctree_Poisson_time = []\n",
    "mcmctree_Poisson_memory = []"
   ],
   "metadata": {
    "collapsed": false,
    "ExecuteTime": {
     "end_time": "2024-04-14T07:11:47.686745Z",
     "start_time": "2024-04-14T07:11:47.682890Z"
    }
   },
   "id": "71110b6c3e0208f3",
   "outputs": [],
   "execution_count": 4
  },
  {
   "cell_type": "code",
   "source": [
    "file_path = \"/home/piyumal/PHD/TimeTree/TimeComplexityAnalysis/Hessian_experiment_1/JC/iqtree_output/100/1000/time.txt\""
   ],
   "metadata": {
    "collapsed": false,
    "ExecuteTime": {
     "end_time": "2024-04-14T07:11:48.378727Z",
     "start_time": "2024-04-14T07:11:48.376005Z"
    }
   },
   "id": "a6d8b84982bffa42",
   "outputs": [],
   "execution_count": 5
  },
  {
   "cell_type": "code",
   "source": [
    "with open(file_path) as f:\n",
    "    data = f.readlines()\n",
    "    print(data)"
   ],
   "metadata": {
    "collapsed": false,
    "ExecuteTime": {
     "end_time": "2024-04-14T07:11:51.489733Z",
     "start_time": "2024-04-14T07:11:51.483393Z"
    }
   },
   "id": "2d582078d8ab9457",
   "outputs": [
    {
     "name": "stdout",
     "output_type": "stream",
     "text": [
      "['\\tCommand being timed: \"/home/piyumal/Tools/IQTREE/pointer_to_root/iqtree2 -s /home/piyumal/PHD/TimeTree/TimeComplexityAnalysis/Hessian_experiment_1/JC/simulated_data/100/1000.phy --redo -nt 1 -m JC --dating mcmctree -seed 1 -te /home/piyumal/PHD/TimeTree/TimeComplexityAnalysis/Hessian_experiment_1/JC/simulated_data/100/1000.nw --prefix /home/piyumal/PHD/TimeTree/TimeComplexityAnalysis/Hessian_experiment_1/JC/iqtree_output/100/1000/output -keep-ident\"\\n', '\\tUser time (seconds): 0.07\\n', '\\tSystem time (seconds): 0.00\\n', '\\tPercent of CPU this job got: 100%\\n', '\\tElapsed (wall clock) time (h:mm:ss or m:ss): 0:00.08\\n', '\\tAverage shared text size (kbytes): 0\\n', '\\tAverage unshared data size (kbytes): 0\\n', '\\tAverage stack size (kbytes): 0\\n', '\\tAverage total size (kbytes): 0\\n', '\\tMaximum resident set size (kbytes): 21528\\n', '\\tAverage resident set size (kbytes): 0\\n', '\\tMajor (requiring I/O) page faults: 0\\n', '\\tMinor (reclaiming a frame) page faults: 3389\\n', '\\tVoluntary context switches: 1\\n', '\\tInvoluntary context switches: 1\\n', '\\tSwaps: 0\\n', '\\tFile system inputs: 0\\n', '\\tFile system outputs: 1952\\n', '\\tSocket messages sent: 0\\n', '\\tSocket messages received: 0\\n', '\\tSignals delivered: 0\\n', '\\tPage size (bytes): 4096\\n', '\\tExit status: 0\\n']\n"
     ]
    }
   ],
   "execution_count": 6
  },
  {
   "cell_type": "code",
   "source": [
    "line_time = \"Elapsed (wall clock) time (h:mm:ss or m:ss):\"\n",
    "line_memory = \"Maximum resident set size (kbytes):\""
   ],
   "metadata": {
    "collapsed": false,
    "ExecuteTime": {
     "end_time": "2024-04-14T07:11:52.081813Z",
     "start_time": "2024-04-14T07:11:52.079230Z"
    }
   },
   "id": "4d4207da4714a4c0",
   "outputs": [],
   "execution_count": 7
  },
  {
   "cell_type": "code",
   "source": [
    "for i in data:\n",
    "    if line_time in i:\n",
    "        a = i.strip().split(\":\")\n",
    "        print(a)\n",
    "        print(float(a[-1]))\n",
    "    elif line_memory in i:\n",
    "        a = i.strip().split(\":\")\n",
    "        print(a)"
   ],
   "metadata": {
    "collapsed": false,
    "ExecuteTime": {
     "end_time": "2024-04-14T07:11:54.826354Z",
     "start_time": "2024-04-14T07:11:54.820746Z"
    }
   },
   "id": "950d73a2c41f919b",
   "outputs": [
    {
     "name": "stdout",
     "output_type": "stream",
     "text": [
      "['Elapsed (wall clock) time (h', 'mm', 'ss or m', 'ss)', ' 0', '00.08']\n",
      "0.08\n",
      "['Maximum resident set size (kbytes)', ' 21528']\n"
     ]
    }
   ],
   "execution_count": 8
  },
  {
   "cell_type": "code",
   "source": [
    "model_list = [\"JC\", \"JC_Gamma\", \"HKY\", \"HKY_Gamma\"]"
   ],
   "metadata": {
    "collapsed": false,
    "ExecuteTime": {
     "end_time": "2024-04-14T07:11:55.574601Z",
     "start_time": "2024-04-14T07:11:55.571213Z"
    }
   },
   "id": "8d150f9bc31ee90f",
   "outputs": [],
   "execution_count": 9
  },
  {
   "cell_type": "code",
   "source": [
    "for model in model_list:\n",
    "    for j in range(1000, 11000, 1000):\n",
    "        iqtree_file_path = f\"/home/piyumal/PHD/TimeTree/TimeComplexityAnalysis/Hessian_experiment_1/{model}/iqtree_output/100/{j}/time.txt\"\n",
    "        mcmctree_file_path = f\"/home/piyumal/PHD/TimeTree/TimeComplexityAnalysis/Hessian_experiment_1/{model}/mcmctree_output/100/{j}/time.txt\"\n",
    "        with open(iqtree_file_path) as f1:\n",
    "            data1 = f1.readlines()\n",
    "        with open(mcmctree_file_path) as f2:\n",
    "            data2 = f2.readlines()\n",
    "        l1, l2, l3, l4 = 0,0,0,0\n",
    "        for line in data1:\n",
    "            if line_time in line:\n",
    "                a = line.strip().split(\":\")\n",
    "                a1 = float(a[-1].strip())\n",
    "                a2 = float(a[-2].strip())\n",
    "                l1 = 60*a2 + a1\n",
    "            elif line_memory in line:\n",
    "                b = line.strip().split(\":\")\n",
    "                b1 = float(b[-1].strip())\n",
    "                print(b1)\n",
    "                l2 = b1//1024\n",
    "                \n",
    "        for line in data2:\n",
    "            if line_time in line:\n",
    "                a = line.strip().split(\":\")\n",
    "                a1 = float(a[-1].strip())\n",
    "                a2 = float(a[-2].strip())\n",
    "                l3 = 60*a2 + a1\n",
    "            elif line_memory in line:\n",
    "                b = line.strip().split(\":\")\n",
    "                b1 = float(b[-1].strip())\n",
    "                l4 = b1//1024\n",
    "        print(model, j, l1, l2, l3, l4)\n",
    "        if model == \"JC\":\n",
    "            iqtree_JC_time.append(l1)\n",
    "            iqtree_JC_memory.append(l2)\n",
    "            mcmctree_JC_time.append(l3)\n",
    "            mcmctree_JC_memory.append(l4)\n",
    "        if model == \"JC_Gamma\":\n",
    "            iqtree_JC_Gamma_time.append(l1)\n",
    "            iqtree_JC_Gamma_memory.append(l2)\n",
    "            mcmctree_JC_Gamma_time.append(l3)\n",
    "            mcmctree_JC_Gamma_memory.append(l4)\n",
    "        if model == \"HKY\":\n",
    "            iqtree_HKY_time.append(l1)\n",
    "            iqtree_HKY_memory.append(l2)\n",
    "            mcmctree_HKY_time.append(l3)\n",
    "            mcmctree_HKY_memory.append(l4)\n",
    "        if model == \"HKY_Gamma\":\n",
    "            iqtree_HKY_Gamma_time.append(l1)\n",
    "            iqtree_HKY_Gamma_memory.append(l2)\n",
    "            mcmctree_HKY_Gamma_time.append(l3)\n",
    "            mcmctree_HKY_Gamma_memory.append(l4)"
   ],
   "metadata": {
    "collapsed": false,
    "ExecuteTime": {
     "end_time": "2024-04-14T07:12:04.108368Z",
     "start_time": "2024-04-14T07:12:04.079520Z"
    }
   },
   "id": "de1bc43a0d051074",
   "outputs": [
    {
     "name": "stdout",
     "output_type": "stream",
     "text": [
      "21528.0\n",
      "JC 1000 0.08 21.0 0.7 9.0\n",
      "31640.0\n",
      "JC 2000 0.1 30.0 1.62 15.0\n",
      "41112.0\n",
      "JC 3000 0.12 40.0 2.07 21.0\n",
      "50440.0\n",
      "JC 4000 0.16 49.0 3.42 27.0\n",
      "60312.0\n",
      "JC 5000 0.18 58.0 4.25 34.0\n",
      "69516.0\n",
      "JC 6000 0.21 67.0 6.59 40.0\n",
      "78364.0\n",
      "JC 7000 0.24 76.0 6.26 46.0\n",
      "87580.0\n",
      "JC 8000 0.29 85.0 8.59 52.0\n",
      "98792.0\n",
      "JC 9000 0.29 96.0 7.55 58.0\n",
      "107716.0\n",
      "JC 10000 0.31 105.0 10.47 64.0\n",
      "33436.0\n",
      "JC_Gamma 1000 0.12 32.0 191.18 9.0\n",
      "53148.0\n",
      "JC_Gamma 2000 0.19 51.0 401.75 15.0\n",
      "73112.0\n",
      "JC_Gamma 3000 0.27 71.0 531.61 20.0\n",
      "93244.0\n",
      "JC_Gamma 4000 0.35 91.0 895.16 26.0\n",
      "113604.0\n",
      "JC_Gamma 5000 0.44 110.0 1013.56 32.0\n",
      "132576.0\n",
      "JC_Gamma 6000 0.51 129.0 1199.88 37.0\n",
      "152308.0\n",
      "JC_Gamma 7000 0.61 148.0 1718.3 43.0\n",
      "171172.0\n",
      "JC_Gamma 8000 0.69 167.0 2314.53 48.0\n",
      "189928.0\n",
      "JC_Gamma 9000 0.77 185.0 2931.01 53.0\n",
      "210760.0\n",
      "JC_Gamma 10000 0.93 205.0 2464.84 58.0\n",
      "21784.0\n",
      "HKY 1000 0.09 21.0 0.64 9.0\n",
      "31516.0\n",
      "HKY 2000 0.13 30.0 1.62 15.0\n",
      "41116.0\n",
      "HKY 3000 0.17 40.0 2.5 22.0\n",
      "50276.0\n",
      "HKY 4000 0.21 49.0 3.66 28.0\n",
      "60236.0\n",
      "HKY 5000 0.28 58.0 4.79 34.0\n",
      "69648.0\n",
      "HKY 6000 0.32 68.0 6.24 40.0\n",
      "78408.0\n",
      "HKY 7000 0.37 76.0 6.2 46.0\n",
      "87752.0\n",
      "HKY 8000 0.41 85.0 9.83 52.0\n",
      "98824.0\n",
      "HKY 9000 0.47 96.0 10.81 58.0\n",
      "107584.0\n",
      "HKY 10000 0.53 105.0 11.47 64.0\n",
      "33432.0\n",
      "HKY_Gamma 1000 0.16 32.0 159.69 9.0\n",
      "53528.0\n",
      "HKY_Gamma 2000 0.29 52.0 321.76 15.0\n",
      "72984.0\n",
      "HKY_Gamma 3000 0.41 71.0 598.93 20.0\n",
      "93344.0\n",
      "HKY_Gamma 4000 0.54 91.0 955.92 26.0\n",
      "113244.0\n",
      "HKY_Gamma 5000 0.69 110.0 934.72 32.0\n",
      "132296.0\n",
      "HKY_Gamma 6000 0.75 129.0 1136.21 37.0\n",
      "152320.0\n",
      "HKY_Gamma 7000 0.95 148.0 1643.43 43.0\n",
      "170948.0\n",
      "HKY_Gamma 8000 0.97 166.0 2265.54 48.0\n",
      "189088.0\n",
      "HKY_Gamma 9000 1.25 184.0 2306.98 53.0\n",
      "210772.0\n",
      "HKY_Gamma 10000 1.51 205.0 2431.69 59.0\n"
     ]
    }
   ],
   "execution_count": 10
  },
  {
   "cell_type": "code",
   "source": [
    "iqtree_JC_memory"
   ],
   "metadata": {
    "collapsed": false,
    "ExecuteTime": {
     "end_time": "2024-04-14T07:12:07.656384Z",
     "start_time": "2024-04-14T07:12:07.651129Z"
    }
   },
   "id": "68d31239cf3ff779",
   "outputs": [
    {
     "data": {
      "text/plain": [
       "[21.0, 30.0, 40.0, 49.0, 58.0, 67.0, 76.0, 85.0, 96.0, 105.0]"
      ]
     },
     "execution_count": 11,
     "metadata": {},
     "output_type": "execute_result"
    }
   ],
   "execution_count": 11
  },
  {
   "cell_type": "code",
   "source": [
    "iqtree_JC_time"
   ],
   "metadata": {
    "collapsed": false,
    "ExecuteTime": {
     "end_time": "2024-04-14T07:12:08.463243Z",
     "start_time": "2024-04-14T07:12:08.459952Z"
    }
   },
   "id": "8769fad2f3d76e8f",
   "outputs": [
    {
     "data": {
      "text/plain": [
       "[0.08, 0.1, 0.12, 0.16, 0.18, 0.21, 0.24, 0.29, 0.29, 0.31]"
      ]
     },
     "execution_count": 12,
     "metadata": {},
     "output_type": "execute_result"
    }
   ],
   "execution_count": 12
  },
  {
   "cell_type": "code",
   "source": [
    "seq_len = [i for i in range(1000,11000, 1000)]"
   ],
   "metadata": {
    "collapsed": false,
    "ExecuteTime": {
     "end_time": "2024-04-14T07:12:12.471202Z",
     "start_time": "2024-04-14T07:12:12.468490Z"
    }
   },
   "id": "971aa4b3cbb9c3d0",
   "outputs": [],
   "execution_count": 13
  },
  {
   "cell_type": "code",
   "source": [
    "seq_len"
   ],
   "metadata": {
    "collapsed": false,
    "ExecuteTime": {
     "end_time": "2024-04-14T07:12:13.139004Z",
     "start_time": "2024-04-14T07:12:13.135120Z"
    }
   },
   "id": "dab67a2a8a45d831",
   "outputs": [
    {
     "data": {
      "text/plain": [
       "[1000, 2000, 3000, 4000, 5000, 6000, 7000, 8000, 9000, 10000]"
      ]
     },
     "execution_count": 14,
     "metadata": {},
     "output_type": "execute_result"
    }
   ],
   "execution_count": 14
  },
  {
   "cell_type": "code",
   "source": [
    "iqtree_JC_time"
   ],
   "metadata": {
    "collapsed": false,
    "ExecuteTime": {
     "end_time": "2024-04-14T07:12:13.987706Z",
     "start_time": "2024-04-14T07:12:13.984523Z"
    }
   },
   "id": "9e6b1dde9152d024",
   "outputs": [
    {
     "data": {
      "text/plain": [
       "[0.08, 0.1, 0.12, 0.16, 0.18, 0.21, 0.24, 0.29, 0.29, 0.31]"
      ]
     },
     "execution_count": 15,
     "metadata": {},
     "output_type": "execute_result"
    }
   ],
   "execution_count": 15
  },
  {
   "cell_type": "code",
   "source": [
    "plt.plot(seq_len, iqtree_JC_time, 'd--', label=\"IQ-TREE + JC\")\n",
    "plt.plot(seq_len, iqtree_HKY_time, 'd--', label=\"IQ-TREE + HKY\")\n",
    "plt.plot(seq_len, mcmctree_JC_time,'d--', label=\"BaseML + JC\")\n",
    "plt.plot(seq_len, mcmctree_HKY_time,'d--', label=\"BaseML + HKY\")\n",
    "# plt.ylim([0, 10])\n",
    "plt.xlim([1000, 10000])\n",
    "plt.title('Runtime time comparison for DNA data')\n",
    "plt.xlabel('Sequence length')\n",
    "plt.ylabel('Time(Minutes)')\n",
    "plt.legend()\n",
    "plt.savefig(\"/home/piyumal/PHD/TimeTree/TimeComplexityAnalysis/Hessian_experiment_1/plot_1.png\")\n",
    "plt.clf()\n"
   ],
   "metadata": {
    "collapsed": false,
    "ExecuteTime": {
     "end_time": "2024-04-14T07:13:03.299677Z",
     "start_time": "2024-04-14T07:13:03.181066Z"
    }
   },
   "id": "d55e8992ae6c1112",
   "outputs": [
    {
     "data": {
      "text/plain": [
       "<Figure size 640x480 with 0 Axes>"
      ]
     },
     "metadata": {},
     "output_type": "display_data"
    }
   ],
   "execution_count": 18
  },
  {
   "cell_type": "code",
   "source": [
    "plt.plot(seq_len, iqtree_JC_memory, 'd--', label=\"IQ-TREE + JC\")\n",
    "plt.plot(seq_len, iqtree_HKY_memory, 'd--', label=\"IQ-TREE + HKY\")\n",
    "plt.plot(seq_len, mcmctree_JC_memory,'d--', label=\"BaseML + JC\")\n",
    "plt.plot(seq_len, mcmctree_HKY_memory,'d--', label=\"BaseML + HKY\")\n",
    "# plt.ylim([0, 10])\n",
    "plt.xlim([1000, 10000])\n",
    "plt.title('Memory consumption for DNA data')\n",
    "plt.xlabel('Sequence length')\n",
    "plt.ylabel('Memory(MB)')\n",
    "plt.legend()\n",
    "plt.savefig(\"/home/piyumal/PHD/TimeTree/TimeComplexityAnalysis/Hessian_experiment_1/plot_1_memory.png\")\n",
    "plt.clf()"
   ],
   "metadata": {
    "collapsed": false,
    "ExecuteTime": {
     "end_time": "2024-04-14T07:13:17.449121Z",
     "start_time": "2024-04-14T07:13:17.356117Z"
    }
   },
   "id": "b34f8aacb966e58b",
   "outputs": [
    {
     "data": {
      "text/plain": [
       "<Figure size 640x480 with 0 Axes>"
      ]
     },
     "metadata": {},
     "output_type": "display_data"
    }
   ],
   "execution_count": 19
  },
  {
   "cell_type": "code",
   "source": [
    "plt.plot(seq_len, iqtree_JC_Gamma_time, 'd--',  label=\"IQ-TREE + JC + Gamma\")\n",
    "plt.plot(seq_len, iqtree_HKY_Gamma_time, 'd--', label=\"IQ-TREE + HKY + Gamma\")\n",
    "plt.plot(seq_len, mcmctree_JC_Gamma_time, 'd--', label=\"BaseML + JC + Gamma\")\n",
    "plt.plot(seq_len, mcmctree_HKY_Gamma_time, 'd--', label=\"BaseML + HKY + Gamma\")\n",
    "# plt.ylim([0, 10])\n",
    "plt.xlim([1000, 10000])\n",
    "plt.title('Runtime comparison for DNA data')\n",
    "plt.xlabel('Sequence length')\n",
    "plt.ylabel('Time(Minutes)')\n",
    "plt.legend()\n",
    "plt.savefig(\"/home/piyumal/PHD/TimeTree/TimeComplexityAnalysis/Hessian_experiment_1/plot_2.png\")\n",
    "plt.clf()"
   ],
   "metadata": {
    "collapsed": false,
    "ExecuteTime": {
     "end_time": "2024-04-14T07:13:31.340143Z",
     "start_time": "2024-04-14T07:13:31.231891Z"
    }
   },
   "id": "b8e511d3a02b8517",
   "outputs": [
    {
     "data": {
      "text/plain": [
       "<Figure size 640x480 with 0 Axes>"
      ]
     },
     "metadata": {},
     "output_type": "display_data"
    }
   ],
   "execution_count": 20
  },
  {
   "cell_type": "code",
   "source": [
    "plt.plot(seq_len, iqtree_JC_Gamma_memory, 'd--', label=\"IQ-TREE + JC + Gamma\")\n",
    "plt.plot(seq_len, iqtree_HKY_Gamma_memory, 'd--', label=\"IQ-TREE + HKY + Gamma\")\n",
    "plt.plot(seq_len, mcmctree_JC_Gamma_memory,'d--', label=\"BaseML + JC + Gamma\")\n",
    "plt.plot(seq_len, mcmctree_HKY_Gamma_memory,'d--', label=\"BaseML + HKY + Gamma\")\n",
    "# plt.ylim([0, 10])\n",
    "plt.xlim([1000, 10000])\n",
    "plt.title('Memory consumption for DNA data')\n",
    "plt.xlabel('Sequence length')\n",
    "plt.ylabel('Memory(MB)')\n",
    "plt.legend()\n",
    "plt.savefig(\"/home/piyumal/PHD/TimeTree/TimeComplexityAnalysis/Hessian_experiment_1/plot_2_memory.png\")\n",
    "plt.clf()"
   ],
   "metadata": {
    "collapsed": false,
    "ExecuteTime": {
     "end_time": "2024-04-14T07:13:37.403832Z",
     "start_time": "2024-04-14T07:13:37.309422Z"
    }
   },
   "id": "c0a30b5f9809cc15",
   "outputs": [
    {
     "data": {
      "text/plain": [
       "<Figure size 640x480 with 0 Axes>"
      ]
     },
     "metadata": {},
     "output_type": "display_data"
    }
   ],
   "execution_count": 21
  },
  {
   "cell_type": "code",
   "source": [
    "for model in [\"Poisson\"]:\n",
    "    for j in range(1000, 11000, 1000):\n",
    "        iqtree_file_path = f\"/home/piyumal/PHD/TimeTree/TimeComplexityAnalysis/Hessian_experiment_1/AA/{model}/iqtree_output/100/{j}/time.txt\"\n",
    "        mcmctree_file_path = f\"/home/piyumal/PHD/TimeTree/TimeComplexityAnalysis/Hessian_experiment_1/AA/{model}/mcmctree_output/100/{j}/time.txt\"\n",
    "        with open(iqtree_file_path) as f1:\n",
    "            data1 = f1.readlines()\n",
    "        with open(mcmctree_file_path) as f2:\n",
    "            data2 = f2.readlines()\n",
    "        l1, l2, l3, l4 = 0,0,0,0\n",
    "        for line in data1:\n",
    "            if line_time in line:\n",
    "                a = line.strip().split(\":\")\n",
    "                a1 = float(a[-1].strip())\n",
    "                a2 = float(a[-2].strip())\n",
    "                l1 = 60*a2 + a1\n",
    "            elif line_memory in line:\n",
    "                b = line.strip().split(\":\")\n",
    "                b1 = float(b[-1].strip())\n",
    "                print(b1)\n",
    "                l2 = b1//1024\n",
    "                \n",
    "        for line in data2:\n",
    "            if line_time in line:\n",
    "                a = line.strip().split(\":\")\n",
    "                a1 = float(a[-1].strip())\n",
    "                a2 = float(a[-2].strip())\n",
    "                l3 = 60*a2 + a1\n",
    "            elif line_memory in line:\n",
    "                b = line.strip().split(\":\")\n",
    "                b1 = float(b[-1].strip())\n",
    "                l4 = b1//1024\n",
    "        print(model, j, l1, l2, l3, l4)\n",
    "        if model == \"Poisson\":\n",
    "            iqtree_Poisson_time.append(l1)\n",
    "            iqtree_Poisson_memory.append(l2)\n",
    "            mcmctree_Poisson_time.append(l3)\n",
    "            mcmctree_Poisson_memory.append(l4)\n",
    "       "
   ],
   "metadata": {
    "collapsed": false,
    "ExecuteTime": {
     "end_time": "2024-04-14T07:13:40.527908Z",
     "start_time": "2024-04-14T07:13:40.516447Z"
    }
   },
   "id": "9b7da155bff09413",
   "outputs": [
    {
     "name": "stdout",
     "output_type": "stream",
     "text": [
      "35356.0\n",
      "Poisson 1000 0.23 34.0 8.28 21.0\n",
      "57496.0\n",
      "Poisson 2000 0.43 56.0 17.38 39.0\n",
      "79388.0\n",
      "Poisson 3000 0.6 77.0 26.93 57.0\n",
      "100796.0\n",
      "Poisson 4000 0.92 98.0 36.2 76.0\n",
      "123548.0\n",
      "Poisson 5000 1.02 120.0 48.18 94.0\n",
      "144784.0\n",
      "Poisson 6000 1.27 141.0 59.07 111.0\n",
      "166468.0\n",
      "Poisson 7000 1.58 162.0 65.52 130.0\n",
      "187884.0\n",
      "Poisson 8000 2.2 183.0 74.5 148.0\n",
      "210644.0\n",
      "Poisson 9000 1.91 205.0 78.08 166.0\n",
      "232840.0\n",
      "Poisson 10000 2.03 227.0 94.81 184.0\n"
     ]
    }
   ],
   "execution_count": 22
  },
  {
   "cell_type": "code",
   "source": [
    "plt.plot(seq_len, iqtree_Poisson_time, 'd--',  label=\"IQ-TREE + Poisson\")\n",
    "plt.plot(seq_len, mcmctree_Poisson_time, 'd--', label=\"BaseML + Poisson\")\n",
    "# plt.ylim([0, 10])\n",
    "plt.xlim([1000, 10000])\n",
    "plt.title('Runtime comparison for AA data')\n",
    "plt.xlabel('Sequence length')\n",
    "plt.ylabel('Time(Minutes)')\n",
    "plt.legend()\n",
    "plt.savefig(\"/home/piyumal/PHD/TimeTree/TimeComplexityAnalysis/Hessian_experiment_1/plot_3.png\")\n",
    "plt.clf()"
   ],
   "metadata": {
    "collapsed": false,
    "ExecuteTime": {
     "end_time": "2024-04-14T07:13:54.730888Z",
     "start_time": "2024-04-14T07:13:54.630385Z"
    }
   },
   "id": "bae9dadaa451e194",
   "outputs": [
    {
     "data": {
      "text/plain": [
       "<Figure size 640x480 with 0 Axes>"
      ]
     },
     "metadata": {},
     "output_type": "display_data"
    }
   ],
   "execution_count": 23
  },
  {
   "cell_type": "code",
   "source": [
    "plt.plot(seq_len, iqtree_Poisson_memory, 'd--',  label=\"IQ-TREE + Poisson\")\n",
    "plt.plot(seq_len, mcmctree_Poisson_memory, 'd--', label=\"BaseML + Poisson\")\n",
    "# plt.ylim([0, 10])\n",
    "plt.xlim([1000, 10000])\n",
    "plt.title('Memory consumption for AA data')\n",
    "plt.xlabel('Sequence length')\n",
    "plt.ylabel('Memory(MB)')\n",
    "plt.legend()\n",
    "plt.savefig(\"/home/piyumal/PHD/TimeTree/TimeComplexityAnalysis/Hessian_experiment_1/plot_3_memory.png\")\n",
    "plt.clf()"
   ],
   "metadata": {
    "collapsed": false,
    "ExecuteTime": {
     "end_time": "2024-04-14T07:14:00.811881Z",
     "start_time": "2024-04-14T07:14:00.727414Z"
    }
   },
   "id": "92be96bd83634b6c",
   "outputs": [
    {
     "data": {
      "text/plain": [
       "<Figure size 640x480 with 0 Axes>"
      ]
     },
     "metadata": {},
     "output_type": "display_data"
    }
   ],
   "execution_count": 24
  },
  {
   "cell_type": "code",
   "execution_count": 25,
   "outputs": [],
   "source": [],
   "metadata": {
    "collapsed": false,
    "ExecuteTime": {
     "end_time": "2023-11-23T22:40:47.775929002Z",
     "start_time": "2023-11-23T22:40:47.734329923Z"
    }
   },
   "id": "8f4515f1e83a51f"
  }
 ],
 "metadata": {
  "kernelspec": {
   "display_name": "Python 3",
   "language": "python",
   "name": "python3"
  },
  "language_info": {
   "codemirror_mode": {
    "name": "ipython",
    "version": 2
   },
   "file_extension": ".py",
   "mimetype": "text/x-python",
   "name": "python",
   "nbconvert_exporter": "python",
   "pygments_lexer": "ipython2",
   "version": "2.7.6"
  }
 },
 "nbformat": 4,
 "nbformat_minor": 5
}
