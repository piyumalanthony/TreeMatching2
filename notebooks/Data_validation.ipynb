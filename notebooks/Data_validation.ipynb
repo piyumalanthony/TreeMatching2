{
 "cells": [
  {
   "cell_type": "code",
   "execution_count": 3,
   "id": "initial_id",
   "metadata": {
    "collapsed": true,
    "ExecuteTime": {
     "end_time": "2024-02-20T10:38:42.397315703Z",
     "start_time": "2024-02-20T10:38:42.388217700Z"
    }
   },
   "outputs": [],
   "source": [
    "import pickle\n",
    "import numpy as np"
   ]
  },
  {
   "cell_type": "code",
   "outputs": [],
   "source": [
    "def rmse(arr1, arr2):\n",
    "    arr_1 = np.array(arr1)\n",
    "    arr_2 = np.array(arr2)\n",
    "    err = arr_1 - arr_2\n",
    "    err_sqr = np.power(err, 2)\n",
    "    err_sqr_mean = np.sum(err_sqr) / np.shape(err_sqr)[0]\n",
    "    return np.sqrt(err_sqr_mean)"
   ],
   "metadata": {
    "collapsed": false,
    "ExecuteTime": {
     "end_time": "2024-02-20T10:38:42.996962842Z",
     "start_time": "2024-02-20T10:38:42.994335957Z"
    }
   },
   "id": "4aa7927c567997f2",
   "execution_count": 4
  },
  {
   "cell_type": "code",
   "outputs": [
    {
     "name": "stdout",
     "output_type": "stream",
     "text": [
      "####################################\n",
      "Alignment length:  1000\n",
      "RMSE:  0.00238954297982531\n",
      "####################################\n",
      "Alignment length:  2000\n",
      "RMSE:  0.006207961691416699\n",
      "####################################\n",
      "Alignment length:  3000\n",
      "RMSE:  0.0002708311871587871\n",
      "####################################\n",
      "Alignment length:  4000\n",
      "RMSE:  0.0023124205437920083\n",
      "####################################\n",
      "Alignment length:  5000\n",
      "RMSE:  0.0003127510850872409\n",
      "####################################\n",
      "Alignment length:  6000\n",
      "RMSE:  0.00024091200928184837\n",
      "####################################\n",
      "Alignment length:  7000\n",
      "RMSE:  3.5689607844695364e-05\n",
      "####################################\n",
      "Alignment length:  8000\n",
      "RMSE:  0.0030122702518200397\n",
      "####################################\n",
      "Alignment length:  9000\n",
      "RMSE:  0.0007705526264697674\n",
      "####################################\n",
      "Alignment length:  10000\n",
      "RMSE:  6.893151077974785e-05\n"
     ]
    }
   ],
   "source": [
    "for i in range(1000,11000,1000):\n",
    "    file_path = f'/home/piyumal/PHD/TimeTree/Hessian_experiment_v14/HKY_Gamma/pickle/br_idx_mapping_20_{i}.pkl'\n",
    "    with open(file_path, 'rb') as f:\n",
    "        pickle_data = pickle.load(f)\n",
    "        # print(pickle_data)\n",
    "        iq_br = pickle_data['iqtree_blengths']\n",
    "        mcmctree_br = pickle_data['mcmctree_blengths']\n",
    "        print(\"####################################\")\n",
    "        print(\"Alignment length: \", i)\n",
    "        # print(\"IQ-TREE br lengths: \", iq_br)\n",
    "        # print(\"MCMCTree br lengths: \", mcmctree_br)\n",
    "        print(\"RMSE: \", rmse(iq_br, mcmctree_br))\n",
    "        "
   ],
   "metadata": {
    "collapsed": false,
    "ExecuteTime": {
     "end_time": "2024-02-20T10:40:57.655547991Z",
     "start_time": "2024-02-20T10:40:57.607197673Z"
    }
   },
   "id": "bbfee5bb35427d95",
   "execution_count": 6
  },
  {
   "cell_type": "code",
   "outputs": [],
   "source": [],
   "metadata": {
    "collapsed": false
   },
   "id": "55f23b12150b6cc0"
  }
 ],
 "metadata": {
  "kernelspec": {
   "display_name": "Python 3",
   "language": "python",
   "name": "python3"
  },
  "language_info": {
   "codemirror_mode": {
    "name": "ipython",
    "version": 2
   },
   "file_extension": ".py",
   "mimetype": "text/x-python",
   "name": "python",
   "nbconvert_exporter": "python",
   "pygments_lexer": "ipython2",
   "version": "2.7.6"
  }
 },
 "nbformat": 4,
 "nbformat_minor": 5
}
