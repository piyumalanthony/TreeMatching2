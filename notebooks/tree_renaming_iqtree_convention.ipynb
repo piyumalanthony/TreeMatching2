{
 "cells": [
  {
   "cell_type": "code",
   "id": "initial_id",
   "metadata": {
    "collapsed": true,
    "ExecuteTime": {
     "end_time": "2024-08-06T21:32:10.029937Z",
     "start_time": "2024-08-06T21:32:10.026912Z"
    }
   },
   "source": "import re",
   "outputs": [],
   "execution_count": 1
  },
  {
   "metadata": {},
   "cell_type": "markdown",
   "source": "# Sciurdae",
   "id": "9fabb935ebb99468"
  },
  {
   "metadata": {
    "ExecuteTime": {
     "end_time": "2024-07-29T12:51:34.352909Z",
     "start_time": "2024-07-29T12:51:34.350829Z"
    }
   },
   "cell_type": "code",
   "source": [
    "sciurdae_dict = {}\n",
    "sciurdae_dict[\"petinomys_setosus_\"] = \"petinomys_setosus~\"\n",
    "sciurdae_dict[\"dremomys_pernyi_owstoni_\"] = \"dremomys_pernyi_owstoni~\"\n",
    "sciurdae_dict[\"petaurillus_kinlochii_\"] = \"petaurillus_kinlochii~\"\n",
    "sciurdae_dict[\"syntheosciurus_brochus_\"] = \"syntheosciurus_brochus~\"\n",
    "sciurdae_dict[\"microsciurus_alfari_\"] = \"microsciurus_alfari~\"\n",
    "sciurdae_dict[\"callosciurus_finlaysonii_\"] = \"callosciurus_finlaysonii~\"\n",
    "sciurdae_dict[\"urocitellus_townsendi_vigilis_\"] = \"urocitellus_townsendi_vigilis~\"\n",
    "sciurdae_dict[\"sciurus_colliaei_\"] = \"sciurus_colliaei~\"\n",
    "sciurdae_dict[\"tamias_minimus_scrutator_\"] = \"tamias_minimus_scrutator~\"\n",
    "sciurdae_dict[\"otospermophilus_atricapillus_\"] = \"otospermophilus_atricapillus~\"\n",
    "sciurdae_dict[\"sundasciurus_jentinki_\"] = \"sundasciurus_jentinki~\"\n",
    "sciurdae_dict[\"rheithrosciurus_macrotis_\"] = \"rheithrosciurus_macrotis~\"\n",
    "sciurdae_dict[\"iomys_horsfieldi_\"] = \"iomys_horsfieldi~\"\n",
    "sciurdae_dict[\"microsciurus_flaviventer_\"] = \"microsciurus_flaviventer~\"\n",
    "sciurdae_dict[\"funisciurus_\"] = \"funisciurus~\"                "
   ],
   "id": "c1aafa083a3eabb4",
   "outputs": [],
   "execution_count": 2
  },
  {
   "metadata": {
    "ExecuteTime": {
     "end_time": "2024-07-29T12:51:34.369314Z",
     "start_time": "2024-07-29T12:51:34.365106Z"
    }
   },
   "cell_type": "code",
   "source": [
    "sciurdae_tree_file = \"/media/piyumal/LaCie/phd_data/timetree/emperical/mammal/experiments/Sciurdae/Sciuridae_and_related_5parts_iqtree.nex.rooted.mcmctree.tree\"\n",
    "\n",
    "with open(sciurdae_tree_file, \"r\") as f:\n",
    "    tree_str = f.read()\n",
    "    \n",
    "for i in sciurdae_dict.keys():\n",
    "    tree_str = re.sub(fr\"\\b{i}:\\b\", sciurdae_dict[i]+\":\", tree_str)"
   ],
   "id": "6869d60e770195e8",
   "outputs": [],
   "execution_count": 3
  },
  {
   "metadata": {
    "ExecuteTime": {
     "end_time": "2024-07-29T12:51:34.371286Z",
     "start_time": "2024-07-29T12:51:34.369873Z"
    }
   },
   "cell_type": "code",
   "source": [
    "sciurdae_new_file = \"/media/piyumal/LaCie/phd_data/timetree/emperical/mammal/experiments/Sciurdae/Sciuridae_and_related_5parts_iqtree.nex.rooted.mcmctree_v2.tree\"\n",
    "with open(sciurdae_new_file, \"w\") as f:\n",
    "    f.write(tree_str)\n",
    "    "
   ],
   "id": "afffe8b73a0c488a",
   "outputs": [],
   "execution_count": 4
  },
  {
   "metadata": {},
   "cell_type": "markdown",
   "source": "# Lagomorpha",
   "id": "ddaae2bcaee96dc2"
  },
  {
   "metadata": {
    "ExecuteTime": {
     "end_time": "2024-07-29T12:51:34.373319Z",
     "start_time": "2024-07-29T12:51:34.371665Z"
    }
   },
   "cell_type": "code",
   "source": [
    "lagomorpha_dict = {}\n",
    "lagomorpha_dict[\"ochotona_curzoniae_melanostoma_\"] =\"ochotona_curzoniae_melanostoma~\"\n",
    "lagomorpha_dict[\"lepus_capensis_mediterraneus_\"] = \"lepus_capensis_mediterraneus~\"\n",
    "lagomorpha_dict[\"lepus_insularis_\"] = \"lepus_insularis~\"\n",
    "lagomorpha_dict[\"lepus_oiostolus_qinghaiensis_\"] = \"lepus_oiostolus_qinghaiensis~\"\n",
    "lagomorpha_dict[\"ochotona_thibetana_nangqenica_\"] = \"ochotona_thibetana_nangqenica~\""
   ],
   "id": "fef54c373dd379c9",
   "outputs": [],
   "execution_count": 5
  },
  {
   "metadata": {
    "ExecuteTime": {
     "end_time": "2024-07-29T12:51:34.376022Z",
     "start_time": "2024-07-29T12:51:34.373955Z"
    }
   },
   "cell_type": "code",
   "source": [
    "lagomorpha_tree_file = \"/media/piyumal/LaCie/phd_data/timetree/emperical/mammal/experiments/Lagomorpha/Lagomorpha_5parts_iqtree.nex.rooted.mcmctree.tree\"\n",
    "\n",
    "with open(lagomorpha_tree_file, \"r\") as f:\n",
    "    tree_str = f.read()\n",
    "\n",
    "for i in lagomorpha_dict.keys():\n",
    "   tree_str = re.sub(fr\"\\b{i}:\\b\", lagomorpha_dict[i]+\":\", tree_str)"
   ],
   "id": "fdb2f3e65afb11f9",
   "outputs": [],
   "execution_count": 6
  },
  {
   "metadata": {
    "ExecuteTime": {
     "end_time": "2024-07-29T12:51:34.377925Z",
     "start_time": "2024-07-29T12:51:34.376504Z"
    }
   },
   "cell_type": "code",
   "source": [
    "lagomorpha_new_file = \"/media/piyumal/LaCie/phd_data/timetree/emperical/mammal/experiments/Lagomorpha/Lagomorpha_5parts_iqtree.nex.rooted.mcmctree_v2.tree\"\n",
    "with open(lagomorpha_new_file, \"w\") as f:\n",
    "    f.write(tree_str)"
   ],
   "id": "c4798ae153e9ed52",
   "outputs": [],
   "execution_count": 7
  },
  {
   "metadata": {},
   "cell_type": "markdown",
   "source": "# Ctenohystrica",
   "id": "fe56ec13b538866a"
  },
  {
   "metadata": {
    "ExecuteTime": {
     "end_time": "2024-08-06T22:16:54.708545Z",
     "start_time": "2024-08-06T22:16:54.706366Z"
    }
   },
   "cell_type": "code",
   "source": [
    "ctenohystrica_dict = {}\n",
    "ctenohystrica_dict[\"carterodon_sulcidens_\"] = \"carterodon_sulcidens~\"\n",
    "ctenohystrica_dict[\"pattonomys_semivillosus_\"] = \"pattonomys_semivillosus~\"\n",
    "ctenohystrica_dict[\"cuscomys_ashaninka_\"] = \"cuscomys_ashaninka~\"\n",
    "ctenohystrica_dict[\"cavia_tschudii_\"] = \"cavia_tschudii~\"\n",
    "ctenohystrica_dict[\"cavia_aperea_\"] = \"cavia_aperea~\"\n",
    "ctenohystrica_dict[\"atherurus_africanus_\"] = \"atherurus_africanus~\"\n",
    "ctenohystrica_dict[\"pattonomys_occasius_\"] = \"pattonomys_occasius~\"\n",
    "ctenohystrica_dict[\"atherurus_macrourus_\"] = \"atherurus_macrourus~\""
   ],
   "id": "1f8efbc8bfb9b15e",
   "outputs": [],
   "execution_count": 5
  },
  {
   "metadata": {
    "ExecuteTime": {
     "end_time": "2024-08-06T22:16:55.227924Z",
     "start_time": "2024-08-06T22:16:55.224841Z"
    }
   },
   "cell_type": "code",
   "source": [
    "ctenohystrica_tree_file = \"/media/piyumal/LaCie/phd_data/timetree/emperical/mammal/experiments/Ctenohystrica_v4/Ctenohystrica_5parts_iqtree.nex.rooted.mcmctree.tree\"\n",
    "\n",
    "with open(ctenohystrica_tree_file, \"r\") as f:\n",
    "    tree_str = f.read()\n",
    "\n",
    "for i in ctenohystrica_dict.keys():\n",
    "    # re.sub(fr\"\\b{i}:\\b\", ctenohystrica_dict[i]+\"_abc\", tree_str)\n",
    "    # tree_str = tree_str.replace(fr\"\\b{i}:\\b\", ctenohystrica_dict[i])\n",
    "    tree_str = re.sub(fr\"\\b{i}:\\b\", ctenohystrica_dict[i]+\":\", tree_str)"
   ],
   "id": "1890fa35e88eeaff",
   "outputs": [],
   "execution_count": 6
  },
  {
   "metadata": {
    "ExecuteTime": {
     "end_time": "2024-08-06T22:16:56.107820Z",
     "start_time": "2024-08-06T22:16:56.104950Z"
    }
   },
   "cell_type": "code",
   "source": [
    "ctenohystrica_new_file = \"/media/piyumal/LaCie/phd_data/timetree/emperical/mammal/experiments/Ctenohystrica_v4/Ctenohystrica_5parts_iqtree.nex.rooted.mcmctree_v2.taxa_renamed.tree\"\n",
    "with open(ctenohystrica_new_file, \"w\") as f:\n",
    "    f.write(tree_str)"
   ],
   "id": "a5c12e836964b754",
   "outputs": [],
   "execution_count": 7
  },
  {
   "metadata": {},
   "cell_type": "markdown",
   "source": "# Chiroptera_1",
   "id": "6703b0cedf46e90b"
  },
  {
   "metadata": {
    "ExecuteTime": {
     "end_time": "2024-07-29T12:51:34.386770Z",
     "start_time": "2024-07-29T12:51:34.385425Z"
    }
   },
   "cell_type": "code",
   "source": [
    "chiroptera_1_dict = {}\n",
    "chiroptera_1_dict[\"pteropus_personatus_\"] = \"pteropus_personatus~\"\n",
    "chiroptera_1_dict[\"aproteles_bulmerae_\"] = \"aproteles_bulmerae~\""
   ],
   "id": "dffd77955de58125",
   "outputs": [],
   "execution_count": 11
  },
  {
   "metadata": {
    "ExecuteTime": {
     "end_time": "2024-07-29T12:51:34.389418Z",
     "start_time": "2024-07-29T12:51:34.387495Z"
    }
   },
   "cell_type": "code",
   "source": [
    "chiroptera_1_tree_file = \"/media/piyumal/LaCie/phd_data/timetree/emperical/mammal/experiments/Chiroptera_1/Chiroptera_subt1_5parts_iqtree.nex.rooted.mcmctree.tree\"\n",
    "\n",
    "with open(chiroptera_1_tree_file, \"r\") as f:\n",
    "    tree_str = f.read()\n",
    "\n",
    "for i in chiroptera_1_dict.keys():\n",
    "    tree_str = re.sub(fr\"\\b{i}:\\b\", chiroptera_1_dict[i]+\":\", tree_str)"
   ],
   "id": "f5264ed2b26bf481",
   "outputs": [],
   "execution_count": 12
  },
  {
   "metadata": {
    "ExecuteTime": {
     "end_time": "2024-07-29T12:51:34.391178Z",
     "start_time": "2024-07-29T12:51:34.389833Z"
    }
   },
   "cell_type": "code",
   "source": [
    "chiroptera_1_new_file = \"/media/piyumal/LaCie/phd_data/timetree/emperical/mammal/experiments/Chiroptera_1/Chiroptera_subt1_5parts_iqtree.nex.rooted.mcmctree_v2.tree\"\n",
    "with open(chiroptera_1_new_file, \"w\") as f:\n",
    "    f.write(tree_str)"
   ],
   "id": "32f2814cddcfc36",
   "outputs": [],
   "execution_count": 13
  },
  {
   "metadata": {},
   "cell_type": "markdown",
   "source": "# Xenarthra and Afrotheria trees do not include taxa renaming",
   "id": "cb232010a006d7a3"
  },
  {
   "metadata": {
    "ExecuteTime": {
     "end_time": "2024-07-29T12:51:34.392573Z",
     "start_time": "2024-07-29T12:51:34.391601Z"
    }
   },
   "cell_type": "code",
   "source": "",
   "id": "be5cb92a1f521d18",
   "outputs": [],
   "execution_count": 13
  }
 ],
 "metadata": {
  "kernelspec": {
   "display_name": "Python 3",
   "language": "python",
   "name": "python3"
  },
  "language_info": {
   "codemirror_mode": {
    "name": "ipython",
    "version": 2
   },
   "file_extension": ".py",
   "mimetype": "text/x-python",
   "name": "python",
   "nbconvert_exporter": "python",
   "pygments_lexer": "ipython2",
   "version": "2.7.6"
  }
 },
 "nbformat": 4,
 "nbformat_minor": 5
}
