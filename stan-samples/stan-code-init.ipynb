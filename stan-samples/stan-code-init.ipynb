{
 "cells": [
  {
   "cell_type": "code",
   "id": "initial_id",
   "metadata": {
    "collapsed": true,
    "ExecuteTime": {
     "end_time": "2024-09-19T02:48:58.339450Z",
     "start_time": "2024-09-19T02:48:57.876324Z"
    }
   },
   "source": [
    "import numpy as np\n",
    "import pystan as stan"
   ],
   "outputs": [],
   "execution_count": 1
  },
  {
   "metadata": {
    "ExecuteTime": {
     "end_time": "2024-09-19T03:56:03.252389Z",
     "start_time": "2024-09-19T03:56:03.245955Z"
    }
   },
   "cell_type": "code",
   "source": "stan.__version__",
   "id": "8c23e0d06e22984f",
   "outputs": [
    {
     "data": {
      "text/plain": [
       "'2.19.1.1'"
      ]
     },
     "execution_count": 4,
     "metadata": {},
     "output_type": "execute_result"
    }
   ],
   "execution_count": 4
  },
  {
   "metadata": {},
   "cell_type": "code",
   "outputs": [],
   "execution_count": null,
   "source": [
    "## summary statistics of output file from MCMC sampling\n",
    "def summary_stats(file):\n",
    "    with open(file) as f:\n",
    "        lines = f.readlines()\n",
    "    for i, line in enumerate(lines):\n",
    "        if 'mean' in line:\n",
    "            start = i + 1\n",
    "        if 'Rhat' in line:\n",
    "            end = i\n",
    "            break\n",
    "    stats = lines[start:end]\n",
    "    stats = [line.split() for line in stats]\n",
    "    stats = np.array(stats)\n",
    "    stats = stats[:, 1:].astype(float)\n",
    "    return stats\n",
    "    "
   ],
   "id": "88583e706d9ca91d"
  }
 ],
 "metadata": {
  "kernelspec": {
   "display_name": "Python 3",
   "language": "python",
   "name": "python3"
  },
  "language_info": {
   "codemirror_mode": {
    "name": "ipython",
    "version": 2
   },
   "file_extension": ".py",
   "mimetype": "text/x-python",
   "name": "python",
   "nbconvert_exporter": "python",
   "pygments_lexer": "ipython2",
   "version": "2.7.6"
  }
 },
 "nbformat": 4,
 "nbformat_minor": 5
}
