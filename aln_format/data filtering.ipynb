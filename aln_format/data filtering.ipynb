{
 "cells": [
  {
   "cell_type": "code",
   "id": "initial_id",
   "metadata": {
    "collapsed": true,
    "ExecuteTime": {
     "end_time": "2024-05-28T21:56:54.293066Z",
     "start_time": "2024-05-28T21:56:54.264953Z"
    }
   },
   "source": [
    "import numpy as np\n",
    "import pandas as pd\n",
    "import matplotlib.pyplot as plt\n",
    "import seaborn as sns\n",
    "import os\n",
    "from  Bio import AlignIO"
   ],
   "outputs": [],
   "execution_count": 1
  },
  {
   "metadata": {
    "ExecuteTime": {
     "end_time": "2024-05-28T07:15:48.954003Z",
     "start_time": "2024-05-28T07:15:48.951792Z"
    }
   },
   "cell_type": "code",
   "source": "iqtree_path = \"/home/piyumal/PHD/TimeTree/IQTREE builds/20230301_mcmctree/iqtree-2.2.6.mcmctree-Linux/bin/iqtree2\"",
   "id": "79fb2475105de71c",
   "outputs": [],
   "execution_count": 3
  },
  {
   "metadata": {
    "ExecuteTime": {
     "end_time": "2024-05-28T07:16:39.585876Z",
     "start_time": "2024-05-28T07:16:39.553512Z"
    }
   },
   "cell_type": "code",
   "source": [
    "alignment = AlignIO.read(\"/home/piyumal/Downloads/Alvarez-Carretero_etal_SI/aln/00_step1/alignment_4parts.aln\", \"phylip-relaxed\")\n",
    "print(\"Alignment length %i\" % alignment.get_alignment_length())"
   ],
   "id": "33648f592c6a2a31",
   "outputs": [
    {
     "ename": "ValueError",
     "evalue": "not enough values to unpack (expected 2, got 0)",
     "output_type": "error",
     "traceback": [
      "\u001B[0;31m---------------------------------------------------------------------------\u001B[0m",
      "\u001B[0;31mValueError\u001B[0m                                Traceback (most recent call last)",
      "Cell \u001B[0;32mIn[5], line 1\u001B[0m\n\u001B[0;32m----> 1\u001B[0m alignment \u001B[38;5;241m=\u001B[39m \u001B[43mAlignIO\u001B[49m\u001B[38;5;241;43m.\u001B[39;49m\u001B[43mread\u001B[49m\u001B[43m(\u001B[49m\u001B[38;5;124;43m\"\u001B[39;49m\u001B[38;5;124;43m/home/piyumal/Downloads/Alvarez-Carretero_etal_SI/aln/00_step1/alignment_4parts.aln\u001B[39;49m\u001B[38;5;124;43m\"\u001B[39;49m\u001B[43m,\u001B[49m\u001B[43m \u001B[49m\u001B[38;5;124;43m\"\u001B[39;49m\u001B[38;5;124;43mphylip-relaxed\u001B[39;49m\u001B[38;5;124;43m\"\u001B[39;49m\u001B[43m)\u001B[49m\n\u001B[1;32m      2\u001B[0m \u001B[38;5;28mprint\u001B[39m(\u001B[38;5;124m\"\u001B[39m\u001B[38;5;124mAlignment length \u001B[39m\u001B[38;5;132;01m%i\u001B[39;00m\u001B[38;5;124m\"\u001B[39m \u001B[38;5;241m%\u001B[39m alignment\u001B[38;5;241m.\u001B[39mget_alignment_length())\n",
      "File \u001B[0;32m~/anaconda3/envs/timetree2/lib/python3.9/site-packages/Bio/AlignIO/__init__.py:386\u001B[0m, in \u001B[0;36mread\u001B[0;34m(handle, format, seq_count)\u001B[0m\n\u001B[1;32m    384\u001B[0m iterator \u001B[38;5;241m=\u001B[39m parse(handle, \u001B[38;5;28mformat\u001B[39m, seq_count)\n\u001B[1;32m    385\u001B[0m \u001B[38;5;28;01mtry\u001B[39;00m:\n\u001B[0;32m--> 386\u001B[0m     alignment \u001B[38;5;241m=\u001B[39m \u001B[38;5;28;43mnext\u001B[39;49m\u001B[43m(\u001B[49m\u001B[43miterator\u001B[49m\u001B[43m)\u001B[49m\n\u001B[1;32m    387\u001B[0m \u001B[38;5;28;01mexcept\u001B[39;00m \u001B[38;5;167;01mStopIteration\u001B[39;00m:\n\u001B[1;32m    388\u001B[0m     \u001B[38;5;28;01mraise\u001B[39;00m \u001B[38;5;167;01mValueError\u001B[39;00m(\u001B[38;5;124m\"\u001B[39m\u001B[38;5;124mNo records found in handle\u001B[39m\u001B[38;5;124m\"\u001B[39m) \u001B[38;5;28;01mfrom\u001B[39;00m \u001B[38;5;28;01mNone\u001B[39;00m\n",
      "File \u001B[0;32m~/anaconda3/envs/timetree2/lib/python3.9/site-packages/Bio/AlignIO/__init__.py:337\u001B[0m, in \u001B[0;36mparse\u001B[0;34m(handle, format, seq_count)\u001B[0m\n\u001B[1;32m    334\u001B[0m \u001B[38;5;28;01melse\u001B[39;00m:\n\u001B[1;32m    335\u001B[0m     \u001B[38;5;28;01mraise\u001B[39;00m \u001B[38;5;167;01mValueError\u001B[39;00m(\u001B[38;5;124m\"\u001B[39m\u001B[38;5;124mUnknown format \u001B[39m\u001B[38;5;124m'\u001B[39m\u001B[38;5;132;01m%s\u001B[39;00m\u001B[38;5;124m'\u001B[39m\u001B[38;5;124m\"\u001B[39m \u001B[38;5;241m%\u001B[39m \u001B[38;5;28mformat\u001B[39m)\n\u001B[0;32m--> 337\u001B[0m \u001B[38;5;28;01myield from\u001B[39;00m i\n",
      "File \u001B[0;32m~/anaconda3/envs/timetree2/lib/python3.9/site-packages/Bio/AlignIO/PhylipIO.py:228\u001B[0m, in \u001B[0;36mPhylipIterator.__next__\u001B[0;34m(self)\u001B[0m\n\u001B[1;32m    226\u001B[0m \u001B[38;5;28;01mfor\u001B[39;00m i \u001B[38;5;129;01min\u001B[39;00m \u001B[38;5;28mrange\u001B[39m(number_of_seqs):\n\u001B[1;32m    227\u001B[0m     line \u001B[38;5;241m=\u001B[39m handle\u001B[38;5;241m.\u001B[39mreadline()\u001B[38;5;241m.\u001B[39mrstrip()\n\u001B[0;32m--> 228\u001B[0m     sequence_id, s \u001B[38;5;241m=\u001B[39m \u001B[38;5;28;43mself\u001B[39;49m\u001B[38;5;241;43m.\u001B[39;49m\u001B[43m_split_id\u001B[49m\u001B[43m(\u001B[49m\u001B[43mline\u001B[49m\u001B[43m)\u001B[49m\n\u001B[1;32m    229\u001B[0m     ids\u001B[38;5;241m.\u001B[39mappend(sequence_id)\n\u001B[1;32m    230\u001B[0m     \u001B[38;5;28;01mif\u001B[39;00m \u001B[38;5;124m\"\u001B[39m\u001B[38;5;124m.\u001B[39m\u001B[38;5;124m\"\u001B[39m \u001B[38;5;129;01min\u001B[39;00m s:\n",
      "File \u001B[0;32m~/anaconda3/envs/timetree2/lib/python3.9/site-packages/Bio/AlignIO/PhylipIO.py:301\u001B[0m, in \u001B[0;36mRelaxedPhylipIterator._split_id\u001B[0;34m(self, line)\u001B[0m\n\u001B[1;32m    294\u001B[0m \u001B[38;5;28;01mdef\u001B[39;00m \u001B[38;5;21m_split_id\u001B[39m(\u001B[38;5;28mself\u001B[39m, line):\n\u001B[1;32m    295\u001B[0m \u001B[38;5;250m    \u001B[39m\u001B[38;5;124;03m\"\"\"Extract the sequence ID from a Phylip line (PRIVATE).\u001B[39;00m\n\u001B[1;32m    296\u001B[0m \n\u001B[1;32m    297\u001B[0m \u001B[38;5;124;03m    Returns a tuple containing: (sequence_id, sequence_residues)\u001B[39;00m\n\u001B[1;32m    298\u001B[0m \n\u001B[1;32m    299\u001B[0m \u001B[38;5;124;03m    For relaxed format split at the first whitespace character.\u001B[39;00m\n\u001B[1;32m    300\u001B[0m \u001B[38;5;124;03m    \"\"\"\u001B[39;00m\n\u001B[0;32m--> 301\u001B[0m     seq_id, sequence \u001B[38;5;241m=\u001B[39m line\u001B[38;5;241m.\u001B[39msplit(\u001B[38;5;28;01mNone\u001B[39;00m, \u001B[38;5;241m1\u001B[39m)\n\u001B[1;32m    302\u001B[0m     sequence \u001B[38;5;241m=\u001B[39m sequence\u001B[38;5;241m.\u001B[39mstrip()\u001B[38;5;241m.\u001B[39mreplace(\u001B[38;5;124m\"\u001B[39m\u001B[38;5;124m \u001B[39m\u001B[38;5;124m\"\u001B[39m, \u001B[38;5;124m\"\u001B[39m\u001B[38;5;124m\"\u001B[39m)\n\u001B[1;32m    303\u001B[0m     \u001B[38;5;28;01mreturn\u001B[39;00m seq_id, sequence\n",
      "\u001B[0;31mValueError\u001B[0m: not enough values to unpack (expected 2, got 0)"
     ]
    }
   ],
   "execution_count": 5
  },
  {
   "metadata": {
    "ExecuteTime": {
     "end_time": "2024-05-28T07:32:57.767717Z",
     "start_time": "2024-05-28T07:32:57.680147Z"
    }
   },
   "cell_type": "code",
   "source": [
    "from Bio import AlignIO\n",
    "filename = \"/home/piyumal/Downloads/Alvarez-Carretero_etal_SI/aln/01_step2/Afrotheria_5parts.aln\"\n",
    "format = \"phylip\"\n",
    "alignment = AlignIO.read(open(filename), format)"
   ],
   "id": "37199b520115aa2e",
   "outputs": [
    {
     "ename": "ValueError",
     "evalue": "Sequences must all be the same length",
     "output_type": "error",
     "traceback": [
      "\u001B[0;31m---------------------------------------------------------------------------\u001B[0m",
      "\u001B[0;31mTypeError\u001B[0m                                 Traceback (most recent call last)",
      "File \u001B[0;32m~/anaconda3/envs/timetree2/lib/python3.9/site-packages/Bio/File.py:72\u001B[0m, in \u001B[0;36mas_handle\u001B[0;34m(handleish, mode, **kwargs)\u001B[0m\n\u001B[1;32m     71\u001B[0m \u001B[38;5;28;01mtry\u001B[39;00m:\n\u001B[0;32m---> 72\u001B[0m     \u001B[38;5;28;01mwith\u001B[39;00m \u001B[38;5;28;43mopen\u001B[39;49m\u001B[43m(\u001B[49m\u001B[43mhandleish\u001B[49m\u001B[43m,\u001B[49m\u001B[43m \u001B[49m\u001B[43mmode\u001B[49m\u001B[43m,\u001B[49m\u001B[43m \u001B[49m\u001B[38;5;241;43m*\u001B[39;49m\u001B[38;5;241;43m*\u001B[39;49m\u001B[43mkwargs\u001B[49m\u001B[43m)\u001B[49m \u001B[38;5;28;01mas\u001B[39;00m fp:\n\u001B[1;32m     73\u001B[0m         \u001B[38;5;28;01myield\u001B[39;00m fp\n",
      "\u001B[0;31mTypeError\u001B[0m: expected str, bytes or os.PathLike object, not TextIOWrapper",
      "\nDuring handling of the above exception, another exception occurred:\n",
      "\u001B[0;31mValueError\u001B[0m                                Traceback (most recent call last)",
      "Cell \u001B[0;32mIn[14], line 4\u001B[0m\n\u001B[1;32m      2\u001B[0m filename \u001B[38;5;241m=\u001B[39m \u001B[38;5;124m\"\u001B[39m\u001B[38;5;124m/home/piyumal/Downloads/Alvarez-Carretero_etal_SI/aln/01_step2/Afrotheria_5parts.aln\u001B[39m\u001B[38;5;124m\"\u001B[39m\n\u001B[1;32m      3\u001B[0m \u001B[38;5;28mformat\u001B[39m \u001B[38;5;241m=\u001B[39m \u001B[38;5;124m\"\u001B[39m\u001B[38;5;124mphylip\u001B[39m\u001B[38;5;124m\"\u001B[39m\n\u001B[0;32m----> 4\u001B[0m alignment \u001B[38;5;241m=\u001B[39m \u001B[43mAlignIO\u001B[49m\u001B[38;5;241;43m.\u001B[39;49m\u001B[43mread\u001B[49m\u001B[43m(\u001B[49m\u001B[38;5;28;43mopen\u001B[39;49m\u001B[43m(\u001B[49m\u001B[43mfilename\u001B[49m\u001B[43m)\u001B[49m\u001B[43m,\u001B[49m\u001B[43m \u001B[49m\u001B[38;5;28;43mformat\u001B[39;49m\u001B[43m)\u001B[49m\n",
      "File \u001B[0;32m~/anaconda3/envs/timetree2/lib/python3.9/site-packages/Bio/AlignIO/__init__.py:386\u001B[0m, in \u001B[0;36mread\u001B[0;34m(handle, format, seq_count)\u001B[0m\n\u001B[1;32m    384\u001B[0m iterator \u001B[38;5;241m=\u001B[39m parse(handle, \u001B[38;5;28mformat\u001B[39m, seq_count)\n\u001B[1;32m    385\u001B[0m \u001B[38;5;28;01mtry\u001B[39;00m:\n\u001B[0;32m--> 386\u001B[0m     alignment \u001B[38;5;241m=\u001B[39m \u001B[38;5;28;43mnext\u001B[39;49m\u001B[43m(\u001B[49m\u001B[43miterator\u001B[49m\u001B[43m)\u001B[49m\n\u001B[1;32m    387\u001B[0m \u001B[38;5;28;01mexcept\u001B[39;00m \u001B[38;5;167;01mStopIteration\u001B[39;00m:\n\u001B[1;32m    388\u001B[0m     \u001B[38;5;28;01mraise\u001B[39;00m \u001B[38;5;167;01mValueError\u001B[39;00m(\u001B[38;5;124m\"\u001B[39m\u001B[38;5;124mNo records found in handle\u001B[39m\u001B[38;5;124m\"\u001B[39m) \u001B[38;5;28;01mfrom\u001B[39;00m \u001B[38;5;28;01mNone\u001B[39;00m\n",
      "File \u001B[0;32m~/anaconda3/envs/timetree2/lib/python3.9/site-packages/Bio/AlignIO/__init__.py:337\u001B[0m, in \u001B[0;36mparse\u001B[0;34m(handle, format, seq_count)\u001B[0m\n\u001B[1;32m    334\u001B[0m \u001B[38;5;28;01melse\u001B[39;00m:\n\u001B[1;32m    335\u001B[0m     \u001B[38;5;28;01mraise\u001B[39;00m \u001B[38;5;167;01mValueError\u001B[39;00m(\u001B[38;5;124m\"\u001B[39m\u001B[38;5;124mUnknown format \u001B[39m\u001B[38;5;124m'\u001B[39m\u001B[38;5;132;01m%s\u001B[39;00m\u001B[38;5;124m'\u001B[39m\u001B[38;5;124m\"\u001B[39m \u001B[38;5;241m%\u001B[39m \u001B[38;5;28mformat\u001B[39m)\n\u001B[0;32m--> 337\u001B[0m \u001B[38;5;28;01myield from\u001B[39;00m i\n",
      "File \u001B[0;32m~/anaconda3/envs/timetree2/lib/python3.9/site-packages/Bio/AlignIO/PhylipIO.py:266\u001B[0m, in \u001B[0;36mPhylipIterator.__next__\u001B[0;34m(self)\u001B[0m\n\u001B[1;32m    260\u001B[0m         \u001B[38;5;28;01mbreak\u001B[39;00m  \u001B[38;5;66;03m# end of file\u001B[39;00m\n\u001B[1;32m    262\u001B[0m records \u001B[38;5;241m=\u001B[39m (\n\u001B[1;32m    263\u001B[0m     SeqRecord(Seq(\u001B[38;5;124m\"\u001B[39m\u001B[38;5;124m\"\u001B[39m\u001B[38;5;241m.\u001B[39mjoin(s)), \u001B[38;5;28mid\u001B[39m\u001B[38;5;241m=\u001B[39mi, name\u001B[38;5;241m=\u001B[39mi, description\u001B[38;5;241m=\u001B[39mi)\n\u001B[1;32m    264\u001B[0m     \u001B[38;5;28;01mfor\u001B[39;00m (i, s) \u001B[38;5;129;01min\u001B[39;00m \u001B[38;5;28mzip\u001B[39m(ids, seqs)\n\u001B[1;32m    265\u001B[0m )\n\u001B[0;32m--> 266\u001B[0m \u001B[38;5;28;01mreturn\u001B[39;00m \u001B[43mMultipleSeqAlignment\u001B[49m\u001B[43m(\u001B[49m\u001B[43mrecords\u001B[49m\u001B[43m)\u001B[49m\n",
      "File \u001B[0;32m~/anaconda3/envs/timetree2/lib/python3.9/site-packages/Bio/Align/__init__.py:160\u001B[0m, in \u001B[0;36mMultipleSeqAlignment.__init__\u001B[0;34m(self, records, alphabet, annotations, column_annotations)\u001B[0m\n\u001B[1;32m    158\u001B[0m \u001B[38;5;28mself\u001B[39m\u001B[38;5;241m.\u001B[39m_records \u001B[38;5;241m=\u001B[39m []\n\u001B[1;32m    159\u001B[0m \u001B[38;5;28;01mif\u001B[39;00m records:\n\u001B[0;32m--> 160\u001B[0m     \u001B[38;5;28;43mself\u001B[39;49m\u001B[38;5;241;43m.\u001B[39;49m\u001B[43mextend\u001B[49m\u001B[43m(\u001B[49m\u001B[43mrecords\u001B[49m\u001B[43m)\u001B[49m\n\u001B[1;32m    162\u001B[0m \u001B[38;5;66;03m# Annotations about the whole alignment\u001B[39;00m\n\u001B[1;32m    163\u001B[0m \u001B[38;5;28;01mif\u001B[39;00m annotations \u001B[38;5;129;01mis\u001B[39;00m \u001B[38;5;28;01mNone\u001B[39;00m:\n",
      "File \u001B[0;32m~/anaconda3/envs/timetree2/lib/python3.9/site-packages/Bio/Align/__init__.py:462\u001B[0m, in \u001B[0;36mMultipleSeqAlignment.extend\u001B[0;34m(self, records)\u001B[0m\n\u001B[1;32m    459\u001B[0m     \u001B[38;5;66;03m# Now continue to the rest of the records as usual\u001B[39;00m\n\u001B[1;32m    461\u001B[0m \u001B[38;5;28;01mfor\u001B[39;00m rec \u001B[38;5;129;01min\u001B[39;00m records:\n\u001B[0;32m--> 462\u001B[0m     \u001B[38;5;28;43mself\u001B[39;49m\u001B[38;5;241;43m.\u001B[39;49m\u001B[43m_append\u001B[49m\u001B[43m(\u001B[49m\u001B[43mrec\u001B[49m\u001B[43m,\u001B[49m\u001B[43m \u001B[49m\u001B[43mexpected_length\u001B[49m\u001B[43m)\u001B[49m\n",
      "File \u001B[0;32m~/anaconda3/envs/timetree2/lib/python3.9/site-packages/Bio/Align/__init__.py:524\u001B[0m, in \u001B[0;36mMultipleSeqAlignment._append\u001B[0;34m(self, record, expected_length)\u001B[0m\n\u001B[1;32m    517\u001B[0m \u001B[38;5;66;03m# Currently the get_alignment_length() call is expensive, so we need\u001B[39;00m\n\u001B[1;32m    518\u001B[0m \u001B[38;5;66;03m# to avoid calling it repeatedly for __init__ and extend, hence this\u001B[39;00m\n\u001B[1;32m    519\u001B[0m \u001B[38;5;66;03m# private _append method\u001B[39;00m\n\u001B[1;32m    520\u001B[0m \u001B[38;5;28;01mif\u001B[39;00m expected_length \u001B[38;5;129;01mis\u001B[39;00m \u001B[38;5;129;01mnot\u001B[39;00m \u001B[38;5;28;01mNone\u001B[39;00m \u001B[38;5;129;01mand\u001B[39;00m \u001B[38;5;28mlen\u001B[39m(record) \u001B[38;5;241m!=\u001B[39m expected_length:\n\u001B[1;32m    521\u001B[0m     \u001B[38;5;66;03m# TODO - Use the following more helpful error, but update unit tests\u001B[39;00m\n\u001B[1;32m    522\u001B[0m     \u001B[38;5;66;03m# raise ValueError(\"New sequence is not of length %i\"\u001B[39;00m\n\u001B[1;32m    523\u001B[0m     \u001B[38;5;66;03m#                  % self.get_alignment_length())\u001B[39;00m\n\u001B[0;32m--> 524\u001B[0m     \u001B[38;5;28;01mraise\u001B[39;00m \u001B[38;5;167;01mValueError\u001B[39;00m(\u001B[38;5;124m\"\u001B[39m\u001B[38;5;124mSequences must all be the same length\u001B[39m\u001B[38;5;124m\"\u001B[39m)\n\u001B[1;32m    526\u001B[0m \u001B[38;5;28mself\u001B[39m\u001B[38;5;241m.\u001B[39m_records\u001B[38;5;241m.\u001B[39mappend(record)\n",
      "\u001B[0;31mValueError\u001B[0m: Sequences must all be the same length"
     ]
    }
   ],
   "execution_count": 14
  },
  {
   "metadata": {
    "ExecuteTime": {
     "end_time": "2024-05-28T07:27:51.824781Z",
     "start_time": "2024-05-28T07:27:51.818650Z"
    }
   },
   "cell_type": "code",
   "source": "alignment.get_alignment_length()",
   "id": "a2f861862d62b0f4",
   "outputs": [
    {
     "data": {
      "text/plain": [
       "4013"
      ]
     },
     "execution_count": 10,
     "metadata": {},
     "output_type": "execute_result"
    }
   ],
   "execution_count": 10
  },
  {
   "metadata": {
    "ExecuteTime": {
     "end_time": "2024-05-28T21:58:48.120158Z",
     "start_time": "2024-05-28T21:58:47.949819Z"
    }
   },
   "cell_type": "code",
   "source": [
    "alignment = AlignIO.read(\"/home/piyumal/PHD/TimeTree/Hessian Reversible Models/Empirical data/Alvarez-Carretero_etal_SI/aln/01_step2/Xenarthra_5parts.aln\", \"phylip\")\n",
    "AlignIO.write(alignment, \"//home/piyumal/PHD/TimeTree/Hessian Reversible Models/Empirical data/Alvarez-Carretero_etal_SI/aln/01_step2/Xenarthra_output.nex\", \"nexus\")"
   ],
   "id": "50313a452202aae2",
   "outputs": [
    {
     "ename": "ValueError",
     "evalue": "Sequences must all be the same length",
     "output_type": "error",
     "traceback": [
      "\u001B[0;31m---------------------------------------------------------------------------\u001B[0m",
      "\u001B[0;31mValueError\u001B[0m                                Traceback (most recent call last)",
      "Cell \u001B[0;32mIn[4], line 1\u001B[0m\n\u001B[0;32m----> 1\u001B[0m alignment \u001B[38;5;241m=\u001B[39m \u001B[43mAlignIO\u001B[49m\u001B[38;5;241;43m.\u001B[39;49m\u001B[43mread\u001B[49m\u001B[43m(\u001B[49m\u001B[38;5;124;43m\"\u001B[39;49m\u001B[38;5;124;43m/home/piyumal/PHD/TimeTree/Hessian Reversible Models/Empirical data/Alvarez-Carretero_etal_SI/aln/01_step2/Xenarthra_5parts.aln\u001B[39;49m\u001B[38;5;124;43m\"\u001B[39;49m\u001B[43m,\u001B[49m\u001B[43m \u001B[49m\u001B[38;5;124;43m\"\u001B[39;49m\u001B[38;5;124;43mphylip\u001B[39;49m\u001B[38;5;124;43m\"\u001B[39;49m\u001B[43m)\u001B[49m\n\u001B[1;32m      2\u001B[0m AlignIO\u001B[38;5;241m.\u001B[39mwrite(alignment, \u001B[38;5;124m\"\u001B[39m\u001B[38;5;124m//home/piyumal/PHD/TimeTree/Hessian Reversible Models/Empirical data/Alvarez-Carretero_etal_SI/aln/01_step2/Xenarthra_output.nex\u001B[39m\u001B[38;5;124m\"\u001B[39m, \u001B[38;5;124m\"\u001B[39m\u001B[38;5;124mnexus\u001B[39m\u001B[38;5;124m\"\u001B[39m)\n",
      "File \u001B[0;32m~/anaconda3/envs/timetree2/lib/python3.9/site-packages/Bio/AlignIO/__init__.py:386\u001B[0m, in \u001B[0;36mread\u001B[0;34m(handle, format, seq_count)\u001B[0m\n\u001B[1;32m    384\u001B[0m iterator \u001B[38;5;241m=\u001B[39m parse(handle, \u001B[38;5;28mformat\u001B[39m, seq_count)\n\u001B[1;32m    385\u001B[0m \u001B[38;5;28;01mtry\u001B[39;00m:\n\u001B[0;32m--> 386\u001B[0m     alignment \u001B[38;5;241m=\u001B[39m \u001B[38;5;28;43mnext\u001B[39;49m\u001B[43m(\u001B[49m\u001B[43miterator\u001B[49m\u001B[43m)\u001B[49m\n\u001B[1;32m    387\u001B[0m \u001B[38;5;28;01mexcept\u001B[39;00m \u001B[38;5;167;01mStopIteration\u001B[39;00m:\n\u001B[1;32m    388\u001B[0m     \u001B[38;5;28;01mraise\u001B[39;00m \u001B[38;5;167;01mValueError\u001B[39;00m(\u001B[38;5;124m\"\u001B[39m\u001B[38;5;124mNo records found in handle\u001B[39m\u001B[38;5;124m\"\u001B[39m) \u001B[38;5;28;01mfrom\u001B[39;00m \u001B[38;5;28;01mNone\u001B[39;00m\n",
      "File \u001B[0;32m~/anaconda3/envs/timetree2/lib/python3.9/site-packages/Bio/AlignIO/__init__.py:337\u001B[0m, in \u001B[0;36mparse\u001B[0;34m(handle, format, seq_count)\u001B[0m\n\u001B[1;32m    334\u001B[0m \u001B[38;5;28;01melse\u001B[39;00m:\n\u001B[1;32m    335\u001B[0m     \u001B[38;5;28;01mraise\u001B[39;00m \u001B[38;5;167;01mValueError\u001B[39;00m(\u001B[38;5;124m\"\u001B[39m\u001B[38;5;124mUnknown format \u001B[39m\u001B[38;5;124m'\u001B[39m\u001B[38;5;132;01m%s\u001B[39;00m\u001B[38;5;124m'\u001B[39m\u001B[38;5;124m\"\u001B[39m \u001B[38;5;241m%\u001B[39m \u001B[38;5;28mformat\u001B[39m)\n\u001B[0;32m--> 337\u001B[0m \u001B[38;5;28;01myield from\u001B[39;00m i\n",
      "File \u001B[0;32m~/anaconda3/envs/timetree2/lib/python3.9/site-packages/Bio/AlignIO/PhylipIO.py:266\u001B[0m, in \u001B[0;36mPhylipIterator.__next__\u001B[0;34m(self)\u001B[0m\n\u001B[1;32m    260\u001B[0m         \u001B[38;5;28;01mbreak\u001B[39;00m  \u001B[38;5;66;03m# end of file\u001B[39;00m\n\u001B[1;32m    262\u001B[0m records \u001B[38;5;241m=\u001B[39m (\n\u001B[1;32m    263\u001B[0m     SeqRecord(Seq(\u001B[38;5;124m\"\u001B[39m\u001B[38;5;124m\"\u001B[39m\u001B[38;5;241m.\u001B[39mjoin(s)), \u001B[38;5;28mid\u001B[39m\u001B[38;5;241m=\u001B[39mi, name\u001B[38;5;241m=\u001B[39mi, description\u001B[38;5;241m=\u001B[39mi)\n\u001B[1;32m    264\u001B[0m     \u001B[38;5;28;01mfor\u001B[39;00m (i, s) \u001B[38;5;129;01min\u001B[39;00m \u001B[38;5;28mzip\u001B[39m(ids, seqs)\n\u001B[1;32m    265\u001B[0m )\n\u001B[0;32m--> 266\u001B[0m \u001B[38;5;28;01mreturn\u001B[39;00m \u001B[43mMultipleSeqAlignment\u001B[49m\u001B[43m(\u001B[49m\u001B[43mrecords\u001B[49m\u001B[43m)\u001B[49m\n",
      "File \u001B[0;32m~/anaconda3/envs/timetree2/lib/python3.9/site-packages/Bio/Align/__init__.py:160\u001B[0m, in \u001B[0;36mMultipleSeqAlignment.__init__\u001B[0;34m(self, records, alphabet, annotations, column_annotations)\u001B[0m\n\u001B[1;32m    158\u001B[0m \u001B[38;5;28mself\u001B[39m\u001B[38;5;241m.\u001B[39m_records \u001B[38;5;241m=\u001B[39m []\n\u001B[1;32m    159\u001B[0m \u001B[38;5;28;01mif\u001B[39;00m records:\n\u001B[0;32m--> 160\u001B[0m     \u001B[38;5;28;43mself\u001B[39;49m\u001B[38;5;241;43m.\u001B[39;49m\u001B[43mextend\u001B[49m\u001B[43m(\u001B[49m\u001B[43mrecords\u001B[49m\u001B[43m)\u001B[49m\n\u001B[1;32m    162\u001B[0m \u001B[38;5;66;03m# Annotations about the whole alignment\u001B[39;00m\n\u001B[1;32m    163\u001B[0m \u001B[38;5;28;01mif\u001B[39;00m annotations \u001B[38;5;129;01mis\u001B[39;00m \u001B[38;5;28;01mNone\u001B[39;00m:\n",
      "File \u001B[0;32m~/anaconda3/envs/timetree2/lib/python3.9/site-packages/Bio/Align/__init__.py:462\u001B[0m, in \u001B[0;36mMultipleSeqAlignment.extend\u001B[0;34m(self, records)\u001B[0m\n\u001B[1;32m    459\u001B[0m     \u001B[38;5;66;03m# Now continue to the rest of the records as usual\u001B[39;00m\n\u001B[1;32m    461\u001B[0m \u001B[38;5;28;01mfor\u001B[39;00m rec \u001B[38;5;129;01min\u001B[39;00m records:\n\u001B[0;32m--> 462\u001B[0m     \u001B[38;5;28;43mself\u001B[39;49m\u001B[38;5;241;43m.\u001B[39;49m\u001B[43m_append\u001B[49m\u001B[43m(\u001B[49m\u001B[43mrec\u001B[49m\u001B[43m,\u001B[49m\u001B[43m \u001B[49m\u001B[43mexpected_length\u001B[49m\u001B[43m)\u001B[49m\n",
      "File \u001B[0;32m~/anaconda3/envs/timetree2/lib/python3.9/site-packages/Bio/Align/__init__.py:524\u001B[0m, in \u001B[0;36mMultipleSeqAlignment._append\u001B[0;34m(self, record, expected_length)\u001B[0m\n\u001B[1;32m    517\u001B[0m \u001B[38;5;66;03m# Currently the get_alignment_length() call is expensive, so we need\u001B[39;00m\n\u001B[1;32m    518\u001B[0m \u001B[38;5;66;03m# to avoid calling it repeatedly for __init__ and extend, hence this\u001B[39;00m\n\u001B[1;32m    519\u001B[0m \u001B[38;5;66;03m# private _append method\u001B[39;00m\n\u001B[1;32m    520\u001B[0m \u001B[38;5;28;01mif\u001B[39;00m expected_length \u001B[38;5;129;01mis\u001B[39;00m \u001B[38;5;129;01mnot\u001B[39;00m \u001B[38;5;28;01mNone\u001B[39;00m \u001B[38;5;129;01mand\u001B[39;00m \u001B[38;5;28mlen\u001B[39m(record) \u001B[38;5;241m!=\u001B[39m expected_length:\n\u001B[1;32m    521\u001B[0m     \u001B[38;5;66;03m# TODO - Use the following more helpful error, but update unit tests\u001B[39;00m\n\u001B[1;32m    522\u001B[0m     \u001B[38;5;66;03m# raise ValueError(\"New sequence is not of length %i\"\u001B[39;00m\n\u001B[1;32m    523\u001B[0m     \u001B[38;5;66;03m#                  % self.get_alignment_length())\u001B[39;00m\n\u001B[0;32m--> 524\u001B[0m     \u001B[38;5;28;01mraise\u001B[39;00m \u001B[38;5;167;01mValueError\u001B[39;00m(\u001B[38;5;124m\"\u001B[39m\u001B[38;5;124mSequences must all be the same length\u001B[39m\u001B[38;5;124m\"\u001B[39m)\n\u001B[1;32m    526\u001B[0m \u001B[38;5;28mself\u001B[39m\u001B[38;5;241m.\u001B[39m_records\u001B[38;5;241m.\u001B[39mappend(record)\n",
      "\u001B[0;31mValueError\u001B[0m: Sequences must all be the same length"
     ]
    }
   ],
   "execution_count": 4
  },
  {
   "metadata": {},
   "cell_type": "code",
   "outputs": [],
   "execution_count": null,
   "source": "",
   "id": "a806ce3f1659bc97"
  }
 ],
 "metadata": {
  "kernelspec": {
   "display_name": "Python 3",
   "language": "python",
   "name": "python3"
  },
  "language_info": {
   "codemirror_mode": {
    "name": "ipython",
    "version": 2
   },
   "file_extension": ".py",
   "mimetype": "text/x-python",
   "name": "python",
   "nbconvert_exporter": "python",
   "pygments_lexer": "ipython2",
   "version": "2.7.6"
  }
 },
 "nbformat": 4,
 "nbformat_minor": 5
}
