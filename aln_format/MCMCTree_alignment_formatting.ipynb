{
 "cells": [
  {
   "metadata": {
    "ExecuteTime": {
     "end_time": "2024-07-30T23:44:15.034553Z",
     "start_time": "2024-07-30T23:44:15.032857Z"
    }
   },
   "cell_type": "code",
   "source": "import copy",
   "id": "249b82db9c848f5f",
   "outputs": [],
   "execution_count": 19
  },
  {
   "metadata": {
    "ExecuteTime": {
     "end_time": "2024-07-30T23:44:20.883344Z",
     "start_time": "2024-07-30T23:44:20.881219Z"
    }
   },
   "cell_type": "code",
   "source": [
    "alignment_file = '/media/piyumal/LaCie/phd_data/timetree/emperical/mammal/aln/01_step2/Sciuridae_and_related_5parts.aln'\n",
    "alignment_file_formatted = '/media/piyumal/LaCie/phd_data/timetree/emperical/mammal/aln/01_step2/Sciuridae_and_related_5parts_gaps_removed_v2.aln'"
   ],
   "id": "b4e96a525700fcbe",
   "outputs": [],
   "execution_count": 20
  },
  {
   "metadata": {
    "ExecuteTime": {
     "end_time": "2024-07-30T23:44:21.647453Z",
     "start_time": "2024-07-30T23:44:21.462567Z"
    }
   },
   "cell_type": "code",
   "source": [
    "formatted_lines = []\n",
    "formatted_lines_local = []\n",
    "counter = 0\n",
    "\n",
    "data = []\n",
    "with open(alignment_file, 'r') as f:\n",
    "    data.extend(f.readlines())\n",
    "    \n",
    "data. append('\\n')\n",
    "data. append('\\n')\n",
    "            \n",
    "\n",
    "for k, line in enumerate(data):\n",
    "    stripped_line = line.strip().split()\n",
    "    \n",
    "    # Check if the stripped line contains only hyphens\n",
    "    if  len(stripped_line) == 2 and stripped_line[1] and all(char == '-' for char in stripped_line[1]):\n",
    "        continue\n",
    "    else:\n",
    "        formatted_lines_local.append(line)\n",
    "        counter += 1\n",
    "\n",
    "    if  len(stripped_line) == 0 and (counter-1) == 0:\n",
    "        formatted_lines.extend(copy.deepcopy(formatted_lines_local))\n",
    "        formatted_lines_local = []\n",
    "        counter = 0\n",
    "        \n",
    "    elif len(stripped_line) == 0 and (counter-1) != 0:\n",
    "        species_num = formatted_lines_local[0]\n",
    "        species_num = species_num.strip().split()\n",
    "        species_num[0] = str(counter-2)\n",
    "        species_num_str = \" \".join(species_num) + '\\n'\n",
    "        formatted_lines_local[0] = species_num_str\n",
    "        counter = 0\n",
    "        \n",
    "        \n",
    "            \n",
    "file_str = ''.join(formatted_lines)\n",
    "\n",
    "with open(alignment_file_formatted, 'w') as f:\n",
    "    f.write(file_str)\n",
    "            "
   ],
   "id": "initial_id",
   "outputs": [],
   "execution_count": 21
  },
  {
   "metadata": {
    "ExecuteTime": {
     "end_time": "2024-07-01T12:19:51.491799Z",
     "start_time": "2024-07-01T12:19:51.485118Z"
    }
   },
   "cell_type": "code",
   "source": "      ",
   "id": "d94c40b3b2f20288",
   "outputs": [],
   "execution_count": 26
  }
 ],
 "metadata": {
  "kernelspec": {
   "display_name": "Python 3",
   "language": "python",
   "name": "python3"
  },
  "language_info": {
   "codemirror_mode": {
    "name": "ipython",
    "version": 2
   },
   "file_extension": ".py",
   "mimetype": "text/x-python",
   "name": "python",
   "nbconvert_exporter": "python",
   "pygments_lexer": "ipython2",
   "version": "2.7.6"
  }
 },
 "nbformat": 4,
 "nbformat_minor": 5
}
