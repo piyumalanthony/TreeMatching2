{
 "cells": [
  {
   "cell_type": "code",
   "id": "initial_id",
   "metadata": {
    "collapsed": true,
    "ExecuteTime": {
     "end_time": "2024-08-03T13:10:29.210640Z",
     "start_time": "2024-08-03T13:10:28.829963Z"
    }
   },
   "source": [
    "# Code to get all the Posterior mean (95% Equal-tail CI) (95% HPD CI) HPD-CI-width from ./xenarthra_mcmc_out.txt\n",
    "import numpy as np\n",
    "import pandas as pd\n",
    "import matplotlib.pyplot as plt\n",
    "\n",
    "\n",
    "# Read the file\n",
    "file = open(\"Xenarthra_mcmc_out_iqtree.txt\", \"r\")\n",
    "lines = file.readlines()\n",
    "file.close()\n",
    "\n",
    "# Extract the data\n",
    "data = []\n",
    "\n",
    "read_flag = False\n",
    "for line in lines:\n",
    "    if line.startswith(\"Posterior\"):\n",
    "        read_flag = True\n",
    "    if read_flag and line.startswith(\"t\"):\n",
    "        data.append(line)"
   ],
   "outputs": [],
   "execution_count": 1
  },
  {
   "metadata": {
    "ExecuteTime": {
     "end_time": "2024-08-03T13:10:29.216010Z",
     "start_time": "2024-08-03T13:10:29.211698Z"
    }
   },
   "cell_type": "code",
   "source": "data",
   "id": "54808ee54195795",
   "outputs": [
    {
     "data": {
      "text/plain": [
       "['t_n34          1.8033 ( 1.6180,  2.1289) ( 1.5859,  2.0680)  0.4821 (Jnode 64)\\n',\n",
       " 't_n35          0.6350 ( 0.6070,  0.6652) ( 0.6074,  0.6654)  0.0580 (Jnode 63)\\n',\n",
       " 't_n36          0.4376 ( 0.4084,  0.4703) ( 0.4088,  0.4706)  0.0618 (Jnode 62)\\n',\n",
       " 't_n37          0.3423 ( 0.3188,  0.3697) ( 0.3169,  0.3675)  0.0505 (Jnode 61)\\n',\n",
       " 't_n38          0.3116 ( 0.2873,  0.3392) ( 0.2870,  0.3386)  0.0516 (Jnode 60)\\n',\n",
       " 't_n39          0.2554 ( 0.2306,  0.2819) ( 0.2301,  0.2811)  0.0510 (Jnode 59)\\n',\n",
       " 't_n40          0.2327 ( 0.2086,  0.2592) ( 0.2080,  0.2584)  0.0504 (Jnode 58)\\n',\n",
       " 't_n41          0.1163 ( 0.0959,  0.1390) ( 0.0958,  0.1388)  0.0430 (Jnode 57)\\n',\n",
       " 't_n42          0.0912 ( 0.0737,  0.1108) ( 0.0728,  0.1097)  0.0369 (Jnode 56)\\n',\n",
       " 't_n43          0.0171 ( 0.0123,  0.0231) ( 0.0121,  0.0229)  0.0107 (Jnode 55)\\n',\n",
       " 't_n44          0.1630 ( 0.1399,  0.1887) ( 0.1384,  0.1871)  0.0487 (Jnode 54)\\n',\n",
       " 't_n45          0.1956 ( 0.1671,  0.2250) ( 0.1670,  0.2246)  0.0576 (Jnode 53)\\n',\n",
       " 't_n46          0.0913 ( 0.0716,  0.1126) ( 0.0707,  0.1115)  0.0408 (Jnode 52)\\n',\n",
       " 't_n47          0.0783 ( 0.0607,  0.0973) ( 0.0607,  0.0973)  0.0366 (Jnode 51)\\n',\n",
       " 't_n48          0.0660 ( 0.0506,  0.0831) ( 0.0500,  0.0822)  0.0323 (Jnode 50)\\n',\n",
       " 't_n49          0.1456 ( 0.1167,  0.1772) ( 0.1153,  0.1756)  0.0602 (Jnode 49)\\n',\n",
       " 't_n50          0.0561 ( 0.0431,  0.0710) ( 0.0429,  0.0706)  0.0277 (Jnode 48)\\n',\n",
       " 't_n51          0.0532 ( 0.0408,  0.0674) ( 0.0404,  0.0669)  0.0265 (Jnode 47)\\n',\n",
       " 't_n52          0.0449 ( 0.0340,  0.0579) ( 0.0329,  0.0565)  0.0236 (Jnode 46)\\n',\n",
       " 't_n53          0.0097 ( 0.0067,  0.0135) ( 0.0065,  0.0132)  0.0067 (Jnode 45)\\n',\n",
       " 't_n54          0.0003 ( 0.0001,  0.0006) ( 0.0001,  0.0006)  0.0005 (Jnode 44)\\n',\n",
       " 't_n55          0.5524 ( 0.5234,  0.5759) ( 0.5247,  0.5769)  0.0521 (Jnode 43)\\n',\n",
       " 't_n56          0.2903 ( 0.2470,  0.3303) ( 0.2477,  0.3309)  0.0831 (Jnode 42)\\n',\n",
       " 't_n57          0.1983 ( 0.1623,  0.2334) ( 0.1631,  0.2340)  0.0710 (Jnode 41)\\n',\n",
       " 't_n58          0.0923 ( 0.0709,  0.1152) ( 0.0704,  0.1146)  0.0441 (Jnode 40)\\n',\n",
       " 't_n59          0.0010 ( 0.0001,  0.0030) ( 0.0000,  0.0026)  0.0026 (Jnode 39)\\n',\n",
       " 't_n60          0.0950 ( 0.0685,  0.1248) ( 0.0674,  0.1233)  0.0559 (Jnode 38)\\n',\n",
       " 't_n61          0.3784 ( 0.3368,  0.4153) ( 0.3380,  0.4163)  0.0783 (Jnode 37)\\n',\n",
       " 't_n62          0.1437 ( 0.1153,  0.1756) ( 0.1149,  0.1747)  0.0599 (Jnode 36)\\n',\n",
       " 't_n63          0.0171 ( 0.0118,  0.0240) ( 0.0114,  0.0234)  0.0120 (Jnode 35)\\n',\n",
       " 't_n64          0.6593 ( 0.4293,  0.9344) ( 0.4213,  0.9216)  0.5003 (Jnode 34)\\n',\n",
       " 't_n65          0.1490 ( 0.0903,  0.2278) ( 0.0846,  0.2194)  0.1348 (Jnode 33)\\n']"
      ]
     },
     "execution_count": 2,
     "metadata": {},
     "output_type": "execute_result"
    }
   ],
   "execution_count": 2
  },
  {
   "metadata": {
    "ExecuteTime": {
     "end_time": "2024-08-03T13:10:29.220941Z",
     "start_time": "2024-08-03T13:10:29.217435Z"
    }
   },
   "cell_type": "code",
   "source": [
    "node_name = []\n",
    "posterior_mean_iqtree = []\n",
    "posterior_mean_baseml = []\n",
    "\n",
    "lower_ci_iqtree = []\n",
    "upper_ci_iqtree = []\n",
    "\n",
    "# Credible intervals for McmcDate\n",
    "lower_ci_baseml = []\n",
    "upper_ci_baseml = []\n"
   ],
   "id": "e5cf93a69d327e61",
   "outputs": [],
   "execution_count": 3
  },
  {
   "metadata": {
    "ExecuteTime": {
     "end_time": "2024-08-03T13:10:29.226631Z",
     "start_time": "2024-08-03T13:10:29.222796Z"
    }
   },
   "cell_type": "code",
   "source": [
    "for line in data:\n",
    "    line = line.strip().split()\n",
    "    node_name.append(line[0])\n",
    "    posterior_mean_iqtree.append(float(line[1]))\n",
    "    lower_ci_iqtree.append(float(line[3][:-1]))\n",
    "    upper_ci_iqtree.append(float(line[4][:-1]))\n",
    "    # posterior_mean_baseml.append(float(line[4]))\n",
    "    # lower_ci_baseml.append(float(line[5]))\n",
    "    # upper_ci_baseml.append(float(line[6]))"
   ],
   "id": "4e79ee928ea76b59",
   "outputs": [],
   "execution_count": 4
  },
  {
   "metadata": {
    "ExecuteTime": {
     "end_time": "2024-08-03T13:10:29.229985Z",
     "start_time": "2024-08-03T13:10:29.227556Z"
    }
   },
   "cell_type": "code",
   "source": "node_name",
   "id": "2c17f55ec9626a0b",
   "outputs": [
    {
     "data": {
      "text/plain": [
       "['t_n34',\n",
       " 't_n35',\n",
       " 't_n36',\n",
       " 't_n37',\n",
       " 't_n38',\n",
       " 't_n39',\n",
       " 't_n40',\n",
       " 't_n41',\n",
       " 't_n42',\n",
       " 't_n43',\n",
       " 't_n44',\n",
       " 't_n45',\n",
       " 't_n46',\n",
       " 't_n47',\n",
       " 't_n48',\n",
       " 't_n49',\n",
       " 't_n50',\n",
       " 't_n51',\n",
       " 't_n52',\n",
       " 't_n53',\n",
       " 't_n54',\n",
       " 't_n55',\n",
       " 't_n56',\n",
       " 't_n57',\n",
       " 't_n58',\n",
       " 't_n59',\n",
       " 't_n60',\n",
       " 't_n61',\n",
       " 't_n62',\n",
       " 't_n63',\n",
       " 't_n64',\n",
       " 't_n65']"
      ]
     },
     "execution_count": 5,
     "metadata": {},
     "output_type": "execute_result"
    }
   ],
   "execution_count": 5
  },
  {
   "metadata": {
    "ExecuteTime": {
     "end_time": "2024-08-03T13:10:29.234341Z",
     "start_time": "2024-08-03T13:10:29.230747Z"
    }
   },
   "cell_type": "code",
   "source": "posterior_mean_iqtree",
   "id": "24a55c806a41f33e",
   "outputs": [
    {
     "data": {
      "text/plain": [
       "[1.8033,\n",
       " 0.635,\n",
       " 0.4376,\n",
       " 0.3423,\n",
       " 0.3116,\n",
       " 0.2554,\n",
       " 0.2327,\n",
       " 0.1163,\n",
       " 0.0912,\n",
       " 0.0171,\n",
       " 0.163,\n",
       " 0.1956,\n",
       " 0.0913,\n",
       " 0.0783,\n",
       " 0.066,\n",
       " 0.1456,\n",
       " 0.0561,\n",
       " 0.0532,\n",
       " 0.0449,\n",
       " 0.0097,\n",
       " 0.0003,\n",
       " 0.5524,\n",
       " 0.2903,\n",
       " 0.1983,\n",
       " 0.0923,\n",
       " 0.001,\n",
       " 0.095,\n",
       " 0.3784,\n",
       " 0.1437,\n",
       " 0.0171,\n",
       " 0.6593,\n",
       " 0.149]"
      ]
     },
     "execution_count": 6,
     "metadata": {},
     "output_type": "execute_result"
    }
   ],
   "execution_count": 6
  },
  {
   "metadata": {
    "ExecuteTime": {
     "end_time": "2024-08-03T13:10:29.239532Z",
     "start_time": "2024-08-03T13:10:29.235812Z"
    }
   },
   "cell_type": "code",
   "source": "lower_ci_iqtree",
   "id": "388aa27ad336d43f",
   "outputs": [
    {
     "data": {
      "text/plain": [
       "[1.618,\n",
       " 0.607,\n",
       " 0.4084,\n",
       " 0.3188,\n",
       " 0.2873,\n",
       " 0.2306,\n",
       " 0.2086,\n",
       " 0.0959,\n",
       " 0.0737,\n",
       " 0.0123,\n",
       " 0.1399,\n",
       " 0.1671,\n",
       " 0.0716,\n",
       " 0.0607,\n",
       " 0.0506,\n",
       " 0.1167,\n",
       " 0.0431,\n",
       " 0.0408,\n",
       " 0.034,\n",
       " 0.0067,\n",
       " 0.0001,\n",
       " 0.5234,\n",
       " 0.247,\n",
       " 0.1623,\n",
       " 0.0709,\n",
       " 0.0001,\n",
       " 0.0685,\n",
       " 0.3368,\n",
       " 0.1153,\n",
       " 0.0118,\n",
       " 0.4293,\n",
       " 0.0903]"
      ]
     },
     "execution_count": 7,
     "metadata": {},
     "output_type": "execute_result"
    }
   ],
   "execution_count": 7
  },
  {
   "metadata": {
    "ExecuteTime": {
     "end_time": "2024-08-03T13:10:29.244582Z",
     "start_time": "2024-08-03T13:10:29.240660Z"
    }
   },
   "cell_type": "code",
   "source": "upper_ci_iqtree",
   "id": "816e569fb763e797",
   "outputs": [
    {
     "data": {
      "text/plain": [
       "[2.1289,\n",
       " 0.6652,\n",
       " 0.4703,\n",
       " 0.3697,\n",
       " 0.3392,\n",
       " 0.2819,\n",
       " 0.2592,\n",
       " 0.139,\n",
       " 0.1108,\n",
       " 0.0231,\n",
       " 0.1887,\n",
       " 0.225,\n",
       " 0.1126,\n",
       " 0.0973,\n",
       " 0.0831,\n",
       " 0.1772,\n",
       " 0.071,\n",
       " 0.0674,\n",
       " 0.0579,\n",
       " 0.0135,\n",
       " 0.0006,\n",
       " 0.5759,\n",
       " 0.3303,\n",
       " 0.2334,\n",
       " 0.1152,\n",
       " 0.003,\n",
       " 0.1248,\n",
       " 0.4153,\n",
       " 0.1756,\n",
       " 0.024,\n",
       " 0.9344,\n",
       " 0.2278]"
      ]
     },
     "execution_count": 8,
     "metadata": {},
     "output_type": "execute_result"
    }
   ],
   "execution_count": 8
  },
  {
   "metadata": {
    "ExecuteTime": {
     "end_time": "2024-08-03T13:10:29.255148Z",
     "start_time": "2024-08-03T13:10:29.245835Z"
    }
   },
   "cell_type": "code",
   "source": [
    "file_mcmctree = open(\"/home/piyumal/PHD/TimeTree/TreeMatching2/date_testing/Xenarthra_baseml_mcmc_out.txt\", \"r\")\n",
    "lines1 = file_mcmctree.readlines()\n",
    "file_mcmctree.close()\n",
    "\n",
    "# Extract the data\n",
    "data1 = []\n",
    "\n",
    "read_flag = False\n",
    "for line in lines1:\n",
    "    if line.startswith(\"Posterior\"):\n",
    "        read_flag = True\n",
    "    if read_flag and line.startswith(\"t\"):\n",
    "        data1.append(line)\n",
    "        \n",
    "for line in data1:\n",
    "    line = line.strip().split()\n",
    "    # node_name.append(line[0])\n",
    "    posterior_mean_baseml.append(float(line[1]))\n",
    "    lower_ci_baseml.append(float(line[3][:-1]))\n",
    "    upper_ci_baseml.append(float(line[4][:-1]))"
   ],
   "id": "f75c012c6bef60a2",
   "outputs": [],
   "execution_count": 9
  },
  {
   "metadata": {
    "ExecuteTime": {
     "end_time": "2024-08-03T13:10:29.398183Z",
     "start_time": "2024-08-03T13:10:29.256227Z"
    }
   },
   "cell_type": "code",
   "source": [
    "import matplotlib.pyplot as plt\n",
    "import numpy as np\n",
    "\n",
    "# # Example data\n",
    "# # Posterior means for MCMCtree (x-axis) and McmcDate (y-axis)\n",
    "# posterior_mean_mcmctree = [100, 200, 300, 400, 500, 600, 700, 800, 900, 1000]\n",
    "# posterior_mean_mcmcdate = [110, 210, 310, 410, 510, 610, 710, 810, 910, 1010]\n",
    "# \n",
    "# # Credible intervals for MCMCtree\n",
    "# lower_ci_mcmctree = [90, 180, 270, 360, 450, 540, 630, 720, 810, 900]\n",
    "# upper_ci_mcmctree = [110, 220, 330, 440, 550, 660, 770, 880, 990, 1100]\n",
    "# \n",
    "# # Credible intervals for McmcDate\n",
    "# lower_ci_mcmcdate = [100, 200, 300, 400, 500, 600, 700, 800, 900, 1000]\n",
    "# upper_ci_mcmcdate = [120, 220, 320, 420, 520, 620, 720, 820, 920, 1020]\n",
    "\n",
    "# Calculate error bars\n",
    "xerr = [np.array(lower_ci_baseml), \n",
    "        np.array(upper_ci_baseml)]\n",
    "yerr = [np.array(lower_ci_iqtree), \n",
    "        np.array(upper_ci_iqtree)]\n",
    "\n",
    "# Plotting\n",
    "fig, ax = plt.subplots()\n",
    "ax.errorbar(posterior_mean_baseml, posterior_mean_iqtree, \n",
    "            xerr=xerr, yerr=yerr, fmt='o', ecolor='r', capsize=5, label='Data points')\n",
    "\n",
    "# Labels and title\n",
    "ax.set_xlabel('Posterior mean age MCMCtree [Mya]')\n",
    "ax.set_ylabel('Posterior mean age McmcDate [Mya]')\n",
    "ax.set_title('Posterior mean age comparison between McmcDate and MCMCtree')\n",
    "ax.legend()\n",
    "\n",
    "# Show plot\n",
    "plt.show()"
   ],
   "id": "12db486fa4fac82c",
   "outputs": [
    {
     "data": {
      "text/plain": [
       "<Figure size 640x480 with 1 Axes>"
      ],
      "image/png": "[encoded data removed]"
     },
     "metadata": {},
     "output_type": "display_data"
    }
   ],
   "execution_count": 10
  },
  {
   "metadata": {
    "ExecuteTime": {
     "end_time": "2024-08-03T13:10:29.402297Z",
     "start_time": "2024-08-03T13:10:29.399054Z"
    }
   },
   "cell_type": "code",
   "source": "posterior_mean_baseml",
   "id": "917b2e31cff4b992",
   "outputs": [
    {
     "data": {
      "text/plain": [
       "[1.8153,\n",
       " 0.6356,\n",
       " 0.4374,\n",
       " 0.3423,\n",
       " 0.3118,\n",
       " 0.256,\n",
       " 0.2332,\n",
       " 0.1164,\n",
       " 0.0911,\n",
       " 0.0172,\n",
       " 0.1634,\n",
       " 0.1958,\n",
       " 0.0907,\n",
       " 0.0779,\n",
       " 0.0658,\n",
       " 0.1453,\n",
       " 0.0561,\n",
       " 0.0533,\n",
       " 0.045,\n",
       " 0.0097,\n",
       " 0.0004,\n",
       " 0.5514,\n",
       " 0.2876,\n",
       " 0.1964,\n",
       " 0.0915,\n",
       " 0.001,\n",
       " 0.093,\n",
       " 0.3777,\n",
       " 0.1434,\n",
       " 0.017,\n",
       " 0.6628,\n",
       " 0.1448]"
      ]
     },
     "execution_count": 11,
     "metadata": {},
     "output_type": "execute_result"
    }
   ],
   "execution_count": 11
  },
  {
   "metadata": {
    "ExecuteTime": {
     "end_time": "2024-08-03T13:10:29.409321Z",
     "start_time": "2024-08-03T13:10:29.403109Z"
    }
   },
   "cell_type": "code",
   "source": "posterior_mean_iqtree",
   "id": "59ad8fd34f7bbf11",
   "outputs": [
    {
     "data": {
      "text/plain": [
       "[1.8033,\n",
       " 0.635,\n",
       " 0.4376,\n",
       " 0.3423,\n",
       " 0.3116,\n",
       " 0.2554,\n",
       " 0.2327,\n",
       " 0.1163,\n",
       " 0.0912,\n",
       " 0.0171,\n",
       " 0.163,\n",
       " 0.1956,\n",
       " 0.0913,\n",
       " 0.0783,\n",
       " 0.066,\n",
       " 0.1456,\n",
       " 0.0561,\n",
       " 0.0532,\n",
       " 0.0449,\n",
       " 0.0097,\n",
       " 0.0003,\n",
       " 0.5524,\n",
       " 0.2903,\n",
       " 0.1983,\n",
       " 0.0923,\n",
       " 0.001,\n",
       " 0.095,\n",
       " 0.3784,\n",
       " 0.1437,\n",
       " 0.0171,\n",
       " 0.6593,\n",
       " 0.149]"
      ]
     },
     "execution_count": 12,
     "metadata": {},
     "output_type": "execute_result"
    }
   ],
   "execution_count": 12
  },
  {
   "metadata": {
    "ExecuteTime": {
     "end_time": "2024-08-03T13:10:29.412762Z",
     "start_time": "2024-08-03T13:10:29.410579Z"
    }
   },
   "cell_type": "code",
   "source": "",
   "id": "c6d69ee36c77970c",
   "outputs": [],
   "execution_count": 12
  }
 ],
 "metadata": {
  "kernelspec": {
   "display_name": "Python 3",
   "language": "python",
   "name": "python3"
  },
  "language_info": {
   "codemirror_mode": {
    "name": "ipython",
    "version": 2
   },
   "file_extension": ".py",
   "mimetype": "text/x-python",
   "name": "python",
   "nbconvert_exporter": "python",
   "pygments_lexer": "ipython2",
   "version": "2.7.6"
  }
 },
 "nbformat": 4,
 "nbformat_minor": 5
}
