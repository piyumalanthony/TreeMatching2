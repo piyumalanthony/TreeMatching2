{
 "cells": [
  {
   "cell_type": "code",
   "id": "initial_id",
   "metadata": {
    "collapsed": true,
    "ExecuteTime": {
     "end_time": "2024-12-09T04:40:25.770211Z",
     "start_time": "2024-12-09T04:40:25.479291Z"
    }
   },
   "source": [
    "import copy\n",
    "import numpy as np\n",
    "import matplotlib.pyplot as plt\n",
    "from ete3.utils import color"
   ],
   "outputs": [],
   "execution_count": 1
  },
  {
   "metadata": {
    "ExecuteTime": {
     "end_time": "2024-12-09T04:40:25.778593Z",
     "start_time": "2024-12-09T04:40:25.775869Z"
    }
   },
   "cell_type": "code",
   "source": [
    "LG_G4_file = \"/home/piyumal/PHD/Implementation/Phylogenetics/TreeMatching2/date_testing/eucaryote-origin/complex-models-v5-mario/blength-variation/LG_G4_in.BV\"\n",
    "\n",
    "LG_G4_C60_file = \"/home/piyumal/PHD/Implementation/Phylogenetics/TreeMatching2/date_testing/eucaryote-origin/complex-models-v5-mario/blength-variation/LG_G4_C60_in.BV\""
   ],
   "id": "3cd3ac3463b9f8e3",
   "outputs": [],
   "execution_count": 2
  },
  {
   "metadata": {
    "ExecuteTime": {
     "end_time": "2024-12-09T04:40:26.052167Z",
     "start_time": "2024-12-09T04:40:26.044188Z"
    }
   },
   "cell_type": "code",
   "source": [
    "import copy\n",
    "\n",
    "def parse_iqtree_file(file_path):\n",
    "    \"\"\"\n",
    "    Parses an IQ-TREE file to extract Hessian matrices and gradient vectors.\n",
    "\n",
    "    Parameters:\n",
    "    - file_path (str): Path to the IQ-TREE output file.\n",
    "\n",
    "    Returns:\n",
    "    - hessians (list): A list of Hessian matrices.\n",
    "    - gradient_vectors (list): A list of gradient vectors.\n",
    "    \"\"\"\n",
    "    hessians = []\n",
    "    treestrings = []\n",
    "    branch_lengths = []\n",
    "    gradient_vectors = []\n",
    "    hessian_list = []\n",
    "    counter = 0\n",
    "\n",
    "    with open(file_path) as f:\n",
    "        for k, line in enumerate(f.readlines()):\n",
    "            if counter == 3:\n",
    "                treestrings.append(line.strip())\n",
    "                print('tree string', k)\n",
    "            if counter == 5:\n",
    "                branch_lengths_numerical = line.strip().split()\n",
    "                branch_lengths.append([float(i) for i in branch_lengths_numerical])\n",
    "                print('branch lengths', k)\n",
    "            if counter == 7:\n",
    "                gradients_numerical = line.strip().split()\n",
    "                gradient_vectors.append([float(i) for i in gradients_numerical])\n",
    "                print('gradients', k)\n",
    "\n",
    "            if counter > 10 and line.strip() == '':\n",
    "                hessians.append(copy.deepcopy(hessian_list))\n",
    "                hessian_list = []\n",
    "                counter = 0\n",
    "                print('Hessian all string', k)\n",
    "            elif counter > 10:\n",
    "                hessian_row_numerical = line.strip().split()\n",
    "                hessian_list.append([float(i) for i in hessian_row_numerical])\n",
    "                print('local hessian', k)\n",
    "            counter += 1\n",
    "        else:\n",
    "            if hessian_list:  # Append the last Hessian if the file doesn't end with an empty line\n",
    "                hessians.append(copy.deepcopy(hessian_list))\n",
    "\n",
    "    return hessians[0], branch_lengths[0]\n"
   ],
   "id": "61e8ccf990446594",
   "outputs": [],
   "execution_count": 3
  },
  {
   "metadata": {
    "ExecuteTime": {
     "end_time": "2024-12-09T04:40:27.389113Z",
     "start_time": "2024-12-09T04:40:27.341029Z"
    }
   },
   "cell_type": "code",
   "source": [
    "LG_G4_h, LG_G4_b = parse_iqtree_file(LG_G4_file)\n",
    "LG_G4_C60_h, LG_G4_C60_b = parse_iqtree_file(LG_G4_C60_file)"
   ],
   "id": "d382a98d39a23121",
   "outputs": [
    {
     "name": "stdout",
     "output_type": "stream",
     "text": [
      "tree string 3\n",
      "branch lengths 5\n",
      "gradients 7\n",
      "local hessian 11\n",
      "local hessian 12\n",
      "local hessian 13\n",
      "local hessian 14\n",
      "local hessian 15\n",
      "local hessian 16\n",
      "local hessian 17\n",
      "local hessian 18\n",
      "local hessian 19\n",
      "local hessian 20\n",
      "local hessian 21\n",
      "local hessian 22\n",
      "local hessian 23\n",
      "local hessian 24\n",
      "local hessian 25\n",
      "local hessian 26\n",
      "local hessian 27\n",
      "local hessian 28\n",
      "local hessian 29\n",
      "local hessian 30\n",
      "local hessian 31\n",
      "local hessian 32\n",
      "local hessian 33\n",
      "local hessian 34\n",
      "local hessian 35\n",
      "local hessian 36\n",
      "local hessian 37\n",
      "local hessian 38\n",
      "local hessian 39\n",
      "local hessian 40\n",
      "local hessian 41\n",
      "local hessian 42\n",
      "local hessian 43\n",
      "local hessian 44\n",
      "local hessian 45\n",
      "local hessian 46\n",
      "local hessian 47\n",
      "local hessian 48\n",
      "local hessian 49\n",
      "local hessian 50\n",
      "local hessian 51\n",
      "local hessian 52\n",
      "local hessian 53\n",
      "local hessian 54\n",
      "local hessian 55\n",
      "local hessian 56\n",
      "local hessian 57\n",
      "local hessian 58\n",
      "local hessian 59\n",
      "local hessian 60\n",
      "local hessian 61\n",
      "local hessian 62\n",
      "local hessian 63\n",
      "local hessian 64\n",
      "local hessian 65\n",
      "local hessian 66\n",
      "local hessian 67\n",
      "local hessian 68\n",
      "local hessian 69\n",
      "local hessian 70\n",
      "local hessian 71\n",
      "local hessian 72\n",
      "local hessian 73\n",
      "local hessian 74\n",
      "local hessian 75\n",
      "local hessian 76\n",
      "local hessian 77\n",
      "local hessian 78\n",
      "local hessian 79\n",
      "local hessian 80\n",
      "local hessian 81\n",
      "local hessian 82\n",
      "local hessian 83\n",
      "local hessian 84\n",
      "local hessian 85\n",
      "local hessian 86\n",
      "local hessian 87\n",
      "local hessian 88\n",
      "local hessian 89\n",
      "local hessian 90\n",
      "local hessian 91\n",
      "local hessian 92\n",
      "local hessian 93\n",
      "local hessian 94\n",
      "local hessian 95\n",
      "local hessian 96\n",
      "local hessian 97\n",
      "local hessian 98\n",
      "local hessian 99\n",
      "local hessian 100\n",
      "local hessian 101\n",
      "local hessian 102\n",
      "local hessian 103\n",
      "local hessian 104\n",
      "local hessian 105\n",
      "local hessian 106\n",
      "local hessian 107\n",
      "local hessian 108\n",
      "local hessian 109\n",
      "local hessian 110\n",
      "local hessian 111\n",
      "local hessian 112\n",
      "local hessian 113\n",
      "local hessian 114\n",
      "local hessian 115\n",
      "local hessian 116\n",
      "local hessian 117\n",
      "local hessian 118\n",
      "local hessian 119\n",
      "local hessian 120\n",
      "local hessian 121\n",
      "local hessian 122\n",
      "local hessian 123\n",
      "local hessian 124\n",
      "local hessian 125\n",
      "local hessian 126\n",
      "local hessian 127\n",
      "local hessian 128\n",
      "local hessian 129\n",
      "local hessian 130\n",
      "local hessian 131\n",
      "local hessian 132\n",
      "local hessian 133\n",
      "local hessian 134\n",
      "local hessian 135\n",
      "local hessian 136\n",
      "local hessian 137\n",
      "local hessian 138\n",
      "local hessian 139\n",
      "local hessian 140\n",
      "local hessian 141\n",
      "local hessian 142\n",
      "local hessian 143\n",
      "local hessian 144\n",
      "local hessian 145\n",
      "local hessian 146\n",
      "local hessian 147\n",
      "local hessian 148\n",
      "local hessian 149\n",
      "local hessian 150\n",
      "local hessian 151\n",
      "local hessian 152\n",
      "local hessian 153\n",
      "local hessian 154\n",
      "local hessian 155\n",
      "local hessian 156\n",
      "local hessian 157\n",
      "local hessian 158\n",
      "local hessian 159\n",
      "local hessian 160\n",
      "local hessian 161\n",
      "local hessian 162\n",
      "local hessian 163\n",
      "local hessian 164\n",
      "local hessian 165\n",
      "local hessian 166\n",
      "local hessian 167\n",
      "local hessian 168\n",
      "local hessian 169\n",
      "local hessian 170\n",
      "local hessian 171\n",
      "local hessian 172\n",
      "local hessian 173\n",
      "local hessian 174\n",
      "local hessian 175\n",
      "local hessian 176\n",
      "local hessian 177\n",
      "local hessian 178\n",
      "local hessian 179\n",
      "local hessian 180\n",
      "local hessian 181\n",
      "local hessian 182\n",
      "local hessian 183\n",
      "local hessian 184\n",
      "local hessian 185\n",
      "local hessian 186\n",
      "local hessian 187\n",
      "local hessian 188\n",
      "local hessian 189\n",
      "local hessian 190\n",
      "local hessian 191\n",
      "local hessian 192\n",
      "local hessian 193\n",
      "local hessian 194\n",
      "local hessian 195\n",
      "local hessian 196\n",
      "local hessian 197\n",
      "local hessian 198\n",
      "local hessian 199\n",
      "local hessian 200\n",
      "local hessian 201\n",
      "local hessian 202\n",
      "local hessian 203\n",
      "local hessian 204\n",
      "local hessian 205\n",
      "local hessian 206\n",
      "local hessian 207\n",
      "local hessian 208\n",
      "local hessian 209\n",
      "local hessian 210\n",
      "local hessian 211\n",
      "tree string 3\n",
      "branch lengths 5\n",
      "gradients 7\n",
      "local hessian 11\n",
      "local hessian 12\n",
      "local hessian 13\n",
      "local hessian 14\n",
      "local hessian 15\n",
      "local hessian 16\n",
      "local hessian 17\n",
      "local hessian 18\n",
      "local hessian 19\n",
      "local hessian 20\n",
      "local hessian 21\n",
      "local hessian 22\n",
      "local hessian 23\n",
      "local hessian 24\n",
      "local hessian 25\n",
      "local hessian 26\n",
      "local hessian 27\n",
      "local hessian 28\n",
      "local hessian 29\n",
      "local hessian 30\n",
      "local hessian 31\n",
      "local hessian 32\n",
      "local hessian 33\n",
      "local hessian 34\n",
      "local hessian 35\n",
      "local hessian 36\n",
      "local hessian 37\n",
      "local hessian 38\n",
      "local hessian 39\n",
      "local hessian 40\n",
      "local hessian 41\n",
      "local hessian 42\n",
      "local hessian 43\n",
      "local hessian 44\n",
      "local hessian 45\n",
      "local hessian 46\n",
      "local hessian 47\n",
      "local hessian 48\n",
      "local hessian 49\n",
      "local hessian 50\n",
      "local hessian 51\n",
      "local hessian 52\n",
      "local hessian 53\n",
      "local hessian 54\n",
      "local hessian 55\n",
      "local hessian 56\n",
      "local hessian 57\n",
      "local hessian 58\n",
      "local hessian 59\n",
      "local hessian 60\n",
      "local hessian 61\n",
      "local hessian 62\n",
      "local hessian 63\n",
      "local hessian 64\n",
      "local hessian 65\n",
      "local hessian 66\n",
      "local hessian 67\n",
      "local hessian 68\n",
      "local hessian 69\n",
      "local hessian 70\n",
      "local hessian 71\n",
      "local hessian 72\n",
      "local hessian 73\n",
      "local hessian 74\n",
      "local hessian 75\n",
      "local hessian 76\n",
      "local hessian 77\n",
      "local hessian 78\n",
      "local hessian 79\n",
      "local hessian 80\n",
      "local hessian 81\n",
      "local hessian 82\n",
      "local hessian 83\n",
      "local hessian 84\n",
      "local hessian 85\n",
      "local hessian 86\n",
      "local hessian 87\n",
      "local hessian 88\n",
      "local hessian 89\n",
      "local hessian 90\n",
      "local hessian 91\n",
      "local hessian 92\n",
      "local hessian 93\n",
      "local hessian 94\n",
      "local hessian 95\n",
      "local hessian 96\n",
      "local hessian 97\n",
      "local hessian 98\n",
      "local hessian 99\n",
      "local hessian 100\n",
      "local hessian 101\n",
      "local hessian 102\n",
      "local hessian 103\n",
      "local hessian 104\n",
      "local hessian 105\n",
      "local hessian 106\n",
      "local hessian 107\n",
      "local hessian 108\n",
      "local hessian 109\n",
      "local hessian 110\n",
      "local hessian 111\n",
      "local hessian 112\n",
      "local hessian 113\n",
      "local hessian 114\n",
      "local hessian 115\n",
      "local hessian 116\n",
      "local hessian 117\n",
      "local hessian 118\n",
      "local hessian 119\n",
      "local hessian 120\n",
      "local hessian 121\n",
      "local hessian 122\n",
      "local hessian 123\n",
      "local hessian 124\n",
      "local hessian 125\n",
      "local hessian 126\n",
      "local hessian 127\n",
      "local hessian 128\n",
      "local hessian 129\n",
      "local hessian 130\n",
      "local hessian 131\n",
      "local hessian 132\n",
      "local hessian 133\n",
      "local hessian 134\n",
      "local hessian 135\n",
      "local hessian 136\n",
      "local hessian 137\n",
      "local hessian 138\n",
      "local hessian 139\n",
      "local hessian 140\n",
      "local hessian 141\n",
      "local hessian 142\n",
      "local hessian 143\n",
      "local hessian 144\n",
      "local hessian 145\n",
      "local hessian 146\n",
      "local hessian 147\n",
      "local hessian 148\n",
      "local hessian 149\n",
      "local hessian 150\n",
      "local hessian 151\n",
      "local hessian 152\n",
      "local hessian 153\n",
      "local hessian 154\n",
      "local hessian 155\n",
      "local hessian 156\n",
      "local hessian 157\n",
      "local hessian 158\n",
      "local hessian 159\n",
      "local hessian 160\n",
      "local hessian 161\n",
      "local hessian 162\n",
      "local hessian 163\n",
      "local hessian 164\n",
      "local hessian 165\n",
      "local hessian 166\n",
      "local hessian 167\n",
      "local hessian 168\n",
      "local hessian 169\n",
      "local hessian 170\n",
      "local hessian 171\n",
      "local hessian 172\n",
      "local hessian 173\n",
      "local hessian 174\n",
      "local hessian 175\n",
      "local hessian 176\n",
      "local hessian 177\n",
      "local hessian 178\n",
      "local hessian 179\n",
      "local hessian 180\n",
      "local hessian 181\n",
      "local hessian 182\n",
      "local hessian 183\n",
      "local hessian 184\n",
      "local hessian 185\n",
      "local hessian 186\n",
      "local hessian 187\n",
      "local hessian 188\n",
      "local hessian 189\n",
      "local hessian 190\n",
      "local hessian 191\n",
      "local hessian 192\n",
      "local hessian 193\n",
      "local hessian 194\n",
      "local hessian 195\n",
      "local hessian 196\n",
      "local hessian 197\n",
      "local hessian 198\n",
      "local hessian 199\n",
      "local hessian 200\n",
      "local hessian 201\n",
      "local hessian 202\n",
      "local hessian 203\n",
      "local hessian 204\n",
      "local hessian 205\n",
      "local hessian 206\n",
      "local hessian 207\n",
      "local hessian 208\n",
      "local hessian 209\n",
      "local hessian 210\n",
      "local hessian 211\n"
     ]
    }
   ],
   "execution_count": 4
  },
  {
   "metadata": {
    "ExecuteTime": {
     "end_time": "2024-12-09T04:40:33.284589Z",
     "start_time": "2024-12-09T04:40:33.275754Z"
    }
   },
   "cell_type": "code",
   "source": [
    "LG_G4_h = np.array(LG_G4_h)\n",
    "LG_G4_b = np.array(LG_G4_b)\n",
    "\n",
    "\n",
    "LG_G4_C60_h = np.array(LG_G4_C60_h)\n",
    "LG_G4_C60_b = np.array(LG_G4_C60_b)"
   ],
   "id": "20386abf8fedbcc6",
   "outputs": [],
   "execution_count": 5
  },
  {
   "metadata": {
    "ExecuteTime": {
     "end_time": "2024-12-09T04:40:35.042549Z",
     "start_time": "2024-12-09T04:40:35.037865Z"
    }
   },
   "cell_type": "code",
   "source": "LG_G4_h.shape",
   "id": "159771b607c15d25",
   "outputs": [
    {
     "data": {
      "text/plain": [
       "(201, 201)"
      ]
     },
     "execution_count": 6,
     "metadata": {},
     "output_type": "execute_result"
    }
   ],
   "execution_count": 6
  },
  {
   "metadata": {
    "ExecuteTime": {
     "end_time": "2024-12-09T04:40:36.072344Z",
     "start_time": "2024-12-09T04:40:36.064128Z"
    }
   },
   "cell_type": "code",
   "source": "LG_G4_h",
   "id": "8354294f0d173c20",
   "outputs": [
    {
     "data": {
      "text/plain": [
       "array([[-46743.5  ,  -1599.34 ,  -2187.6  , ...,    671.622,    207.003,\n",
       "           655.366],\n",
       "       [ -1599.34 , -33429.7  , -13923.1  , ...,    369.967,    256.794,\n",
       "           859.09 ],\n",
       "       [ -2187.6  , -13923.1  , -63560.3  , ...,    719.334,    567.045,\n",
       "           709.201],\n",
       "       ...,\n",
       "       [   671.622,    369.967,    719.334, ...,  -8248.51 ,   -631.679,\n",
       "          -563.071],\n",
       "       [   207.003,    256.794,    567.045, ...,   -631.679,  -4726.92 ,\n",
       "          -607.277],\n",
       "       [   655.366,    859.09 ,    709.201, ...,   -563.071,   -607.277,\n",
       "         -6213.9  ]])"
      ]
     },
     "execution_count": 7,
     "metadata": {},
     "output_type": "execute_result"
    }
   ],
   "execution_count": 7
  },
  {
   "metadata": {
    "ExecuteTime": {
     "end_time": "2024-12-09T04:40:38.102268Z",
     "start_time": "2024-12-09T04:40:38.096321Z"
    }
   },
   "cell_type": "code",
   "source": "LG_G4_b.shape",
   "id": "2bf96d16c3b0c866",
   "outputs": [
    {
     "data": {
      "text/plain": [
       "(201,)"
      ]
     },
     "execution_count": 8,
     "metadata": {},
     "output_type": "execute_result"
    }
   ],
   "execution_count": 8
  },
  {
   "metadata": {
    "ExecuteTime": {
     "end_time": "2024-12-09T04:40:38.976247Z",
     "start_time": "2024-12-09T04:40:38.971688Z"
    }
   },
   "cell_type": "code",
   "source": "LG_G4_C60_h.shape",
   "id": "d3453b2b781eab43",
   "outputs": [
    {
     "data": {
      "text/plain": [
       "(201, 201)"
      ]
     },
     "execution_count": 9,
     "metadata": {},
     "output_type": "execute_result"
    }
   ],
   "execution_count": 9
  },
  {
   "metadata": {
    "ExecuteTime": {
     "end_time": "2024-12-09T04:40:42.530740Z",
     "start_time": "2024-12-09T04:40:42.527652Z"
    }
   },
   "cell_type": "code",
   "source": "LG_G4_C60_b.shape",
   "id": "4f9a8a8ac057a613",
   "outputs": [
    {
     "data": {
      "text/plain": [
       "(201,)"
      ]
     },
     "execution_count": 10,
     "metadata": {},
     "output_type": "execute_result"
    }
   ],
   "execution_count": 10
  },
  {
   "metadata": {
    "ExecuteTime": {
     "end_time": "2024-12-09T04:40:47.617943Z",
     "start_time": "2024-12-09T04:40:47.533292Z"
    }
   },
   "cell_type": "code",
   "source": "LG_G4_h_inv = np.linalg.inv((-1)*LG_G4_h)",
   "id": "a6f149e8f9af598d",
   "outputs": [],
   "execution_count": 11
  },
  {
   "metadata": {
    "ExecuteTime": {
     "end_time": "2024-12-09T04:40:48.417891Z",
     "start_time": "2024-12-09T04:40:48.411197Z"
    }
   },
   "cell_type": "code",
   "source": "identity = np.dot(LG_G4_h, LG_G4_h_inv)",
   "id": "1ec7a600c42ab451",
   "outputs": [],
   "execution_count": 12
  },
  {
   "metadata": {
    "ExecuteTime": {
     "end_time": "2024-12-09T04:40:50.197234Z",
     "start_time": "2024-12-09T04:40:50.191762Z"
    }
   },
   "cell_type": "code",
   "source": "identity",
   "id": "d38f7e3a2303a983",
   "outputs": [
    {
     "data": {
      "text/plain": [
       "array([[-1.00000000e+00, -1.89819686e-17, -2.75644751e-17, ...,\n",
       "         6.93778340e-17, -2.45538300e-17, -1.98330639e-17],\n",
       "       [ 4.87042390e-17, -1.00000000e+00,  7.98093939e-17, ...,\n",
       "         3.64270487e-17,  1.06452247e-17,  2.03442605e-17],\n",
       "       [-3.80248930e-17,  6.42315076e-17, -1.00000000e+00, ...,\n",
       "         1.85574677e-17, -2.87829681e-17, -6.67282090e-18],\n",
       "       ...,\n",
       "       [-1.34351234e-18,  7.02934695e-18, -3.06964229e-18, ...,\n",
       "        -1.00000000e+00, -6.00267016e-17, -1.01345227e-17],\n",
       "       [-1.68101140e-18,  2.61798034e-18, -2.91515743e-18, ...,\n",
       "         2.52202434e-18, -1.00000000e+00, -3.64583912e-18],\n",
       "       [ 1.38777878e-17,  6.93889390e-18, -1.73472348e-18, ...,\n",
       "        -1.38777878e-17, -2.77555756e-17, -1.00000000e+00]])"
      ]
     },
     "execution_count": 13,
     "metadata": {},
     "output_type": "execute_result"
    }
   ],
   "execution_count": 13
  },
  {
   "metadata": {
    "ExecuteTime": {
     "end_time": "2024-12-09T04:41:07.477612Z",
     "start_time": "2024-12-09T04:41:07.463510Z"
    }
   },
   "cell_type": "code",
   "source": "LG_G4_C60_h_inv = np.linalg.inv((-1)*LG_G4_C60_h)",
   "id": "9a0556385863fe4c",
   "outputs": [],
   "execution_count": 14
  },
  {
   "metadata": {
    "ExecuteTime": {
     "end_time": "2024-12-09T04:41:08.834667Z",
     "start_time": "2024-12-09T04:41:08.830815Z"
    }
   },
   "cell_type": "code",
   "source": "LG_G4_h_inv_diag = np.diag(LG_G4_h_inv)",
   "id": "c3c1f26f44c1b35b",
   "outputs": [],
   "execution_count": 15
  },
  {
   "metadata": {
    "ExecuteTime": {
     "end_time": "2024-12-09T04:41:09.527782Z",
     "start_time": "2024-12-09T04:41:09.523481Z"
    }
   },
   "cell_type": "code",
   "source": "LG_G4_h_inv_diag.shape",
   "id": "a6a353bedd9ce702",
   "outputs": [
    {
     "data": {
      "text/plain": [
       "(201,)"
      ]
     },
     "execution_count": 16,
     "metadata": {},
     "output_type": "execute_result"
    }
   ],
   "execution_count": 16
  },
  {
   "metadata": {
    "ExecuteTime": {
     "end_time": "2024-12-09T04:41:15.034532Z",
     "start_time": "2024-12-09T04:41:15.031256Z"
    }
   },
   "cell_type": "code",
   "source": "LG_G4_C60_h_inv_diag = np.diag(LG_G4_C60_h_inv)",
   "id": "c8839ca49e65e700",
   "outputs": [],
   "execution_count": 17
  },
  {
   "metadata": {
    "ExecuteTime": {
     "end_time": "2024-12-09T04:41:19.121203Z",
     "start_time": "2024-12-09T04:41:19.114515Z"
    }
   },
   "cell_type": "code",
   "source": "LG_G4_C60_h_inv_diag.shape",
   "id": "d063fd2feea94a18",
   "outputs": [
    {
     "data": {
      "text/plain": [
       "(201,)"
      ]
     },
     "execution_count": 18,
     "metadata": {},
     "output_type": "execute_result"
    }
   ],
   "execution_count": 18
  },
  {
   "metadata": {
    "ExecuteTime": {
     "end_time": "2024-12-09T05:32:27.508572Z",
     "start_time": "2024-12-09T05:32:27.392918Z"
    }
   },
   "cell_type": "code",
   "source": [
    "plt.figure(figsize=(6, 6))\n",
    "plt.scatter(LG_G4_h_inv_diag,LG_G4_C60_h_inv_diag, color='black')\n",
    "min_value = min(min(LG_G4_h_inv_diag), min(LG_G4_C60_h_inv_diag))\n",
    "max_value = max(max(LG_G4_h_inv_diag), max(LG_G4_C60_h_inv_diag))\n",
    "\n",
    "# Add y = x line\n",
    "plt.plot([min_value, max_value], [min_value, max_value], color='red', linestyle='--', label='y = x')\n",
    "\n",
    "\n",
    "# Add labels and title\n",
    "plt.xlabel('LG+G4')\n",
    "plt.ylabel('LG+G4+C60')\n",
    "plt.title('Branch-Length Variation')\n",
    "\n",
    "# Show the plot\n",
    "plt.savefig(\"./bv_LG_G4_C60.png\")"
   ],
   "id": "f74e2068863ad417",
   "outputs": [
    {
     "data": {
      "text/plain": [
       "<Figure size 600x600 with 1 Axes>"
      ],
      "image/png": "[encoded data removed]"
     },
     "metadata": {},
     "output_type": "display_data"
    }
   ],
   "execution_count": 23
  },
  {
   "metadata": {
    "ExecuteTime": {
     "end_time": "2024-12-09T05:32:37.440019Z",
     "start_time": "2024-12-09T05:32:37.315169Z"
    }
   },
   "cell_type": "code",
   "source": [
    "plt.figure(figsize=(6, 6))\n",
    "plt.scatter(LG_G4_b, LG_G4_C60_b, color='black')\n",
    "min_value = min(min(LG_G4_b), min(LG_G4_C60_b))\n",
    "max_value = max(max(LG_G4_b), max(LG_G4_C60_b))\n",
    "\n",
    "# Add y = x line\n",
    "plt.plot([min_value, max_value], [min_value, max_value], color='red', linestyle='--', label='y = x')\n",
    "\n",
    "\n",
    "# Add labels and title\n",
    "plt.xlabel('LG+G4')\n",
    "plt.ylabel('LG+G4+C60')\n",
    "plt.title('Branch-Lengths')\n",
    "\n",
    "# Show the plot\n",
    "plt.savefig(\"./b_LG_G4_C60.png\")"
   ],
   "id": "4243e2d449f4c671",
   "outputs": [
    {
     "data": {
      "text/plain": [
       "<Figure size 600x600 with 1 Axes>"
      ],
      "image/png": "[encoded data removed]"
     },
     "metadata": {},
     "output_type": "display_data"
    }
   ],
   "execution_count": 24
  },
  {
   "metadata": {},
   "cell_type": "code",
   "outputs": [],
   "execution_count": null,
   "source": "",
   "id": "68fe65f0df5d52f5"
  }
 ],
 "metadata": {
  "kernelspec": {
   "display_name": "Python 3",
   "language": "python",
   "name": "python3"
  },
  "language_info": {
   "codemirror_mode": {
    "name": "ipython",
    "version": 2
   },
   "file_extension": ".py",
   "mimetype": "text/x-python",
   "name": "python",
   "nbconvert_exporter": "python",
   "pygments_lexer": "ipython2",
   "version": "2.7.6"
  }
 },
 "nbformat": 4,
 "nbformat_minor": 5
}
