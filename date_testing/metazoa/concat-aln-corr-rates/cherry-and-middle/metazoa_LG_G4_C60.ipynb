{
 "cells": [
  {
   "cell_type": "code",
   "id": "initial_id",
   "metadata": {
    "collapsed": true,
    "ExecuteTime": {
     "end_time": "2024-10-08T15:13:42.743875Z",
     "start_time": "2024-10-08T15:13:42.199989Z"
    }
   },
   "source": [
    "# Code to get all the Posterior mean (95% Equal-tail CI) (95% HPD CI) HPD-CI-width from ./xenarthra_mcmc_out.txt\n",
    "import numpy as np\n",
    "import pandas as pd\n",
    "import matplotlib.pyplot as plt\n",
    "\n",
    "\n",
    "# Read the file\n",
    "file = open(\"LG_G4_C60_cm_out.txt\", \"r\")\n",
    "lines = file.readlines()\n",
    "file.close()\n",
    "\n",
    "# Extract the data\n",
    "data = []\n",
    "mu_data = []\n",
    "var_data = []\n",
    "\n",
    "read_flag = False\n",
    "for line in lines:\n",
    "    if line.startswith(\"Posterior\"):\n",
    "        read_flag = True\n",
    "    if read_flag and line.startswith(\"t\"):\n",
    "        data.append(line)\n",
    "    if read_flag and line.startswith(\"mu\"):\n",
    "        mu_data.append(line)\n",
    "    if read_flag and line.startswith(\"sigma\"):\n",
    "        var_data.append(line)"
   ],
   "outputs": [],
   "execution_count": 1
  },
  {
   "metadata": {
    "ExecuteTime": {
     "end_time": "2024-10-08T15:13:42.757409Z",
     "start_time": "2024-10-08T15:13:42.753306Z"
    }
   },
   "cell_type": "code",
   "source": "data",
   "id": "54808ee54195795",
   "outputs": [
    {
     "data": {
      "text/plain": [
       "['t_n55          6.6866 ( 6.4190,  7.2417) ( 6.3724,  7.1298)  0.7574 (Jnode 106)\\n',\n",
       " 't_n56          6.5059 ( 6.3619,  6.6742) ( 6.3555,  6.6666)  0.3112 (Jnode 105)\\n',\n",
       " 't_n57          6.3579 ( 6.2464,  6.4637) ( 6.2497,  6.4656)  0.2159 (Jnode 104)\\n',\n",
       " 't_n58          6.0558 ( 5.9403,  6.1650) ( 5.9414,  6.1655)  0.2241 (Jnode 103)\\n',\n",
       " 't_n59          5.9887 ( 5.8711,  6.0993) ( 5.8714,  6.0994)  0.2280 (Jnode 102)\\n',\n",
       " 't_n60          5.8894 ( 5.7589,  6.0083) ( 5.7634,  6.0120)  0.2486 (Jnode 101)\\n',\n",
       " 't_n61          5.7350 ( 5.5594,  5.8799) ( 5.5692,  5.8881)  0.3189 (Jnode 100)\\n',\n",
       " 't_n62          3.9433 ( 1.6993,  5.0469) ( 2.1457,  5.1790)  3.0333 (Jnode 99)\\n',\n",
       " 't_n63          5.0814 ( 4.8221,  5.3398) ( 4.8191,  5.3361)  0.5171 (Jnode 98)\\n',\n",
       " 't_n64          4.5207 ( 4.3789,  4.6771) ( 4.3880,  4.6855)  0.2975 (Jnode 97)\\n',\n",
       " 't_n65          4.2683 ( 4.2083,  4.4121) ( 4.2061,  4.3815)  0.1754 (Jnode 96)\\n',\n",
       " 't_n66          3.4967 ( 3.4529,  3.5185) ( 3.4596,  3.5221)  0.0625 (Jnode 95)\\n',\n",
       " 't_n67          3.1990 ( 3.1803,  3.2451) ( 3.1795,  3.2346)  0.0550 (Jnode 94)\\n',\n",
       " 't_n68          1.8824 ( 1.6703,  2.0209) ( 1.6806,  2.0283)  0.3477 (Jnode 93)\\n',\n",
       " 't_n69          0.9179 ( 0.6334,  1.3105) ( 0.6156,  1.2495)  0.6339 (Jnode 92)\\n',\n",
       " 't_n70          4.3716 ( 3.6969,  4.9015) ( 3.7199,  4.9150)  1.1951 (Jnode 91)\\n',\n",
       " 't_n71          5.9377 ( 5.8161,  6.0512) ( 5.8144,  6.0491)  0.2347 (Jnode 90)\\n',\n",
       " 't_n72          5.8676 ( 5.7230,  5.9976) ( 5.7299,  6.0025)  0.2726 (Jnode 89)\\n',\n",
       " 't_n73          5.7560 ( 5.6084,  5.8871) ( 5.6126,  5.8898)  0.2773 (Jnode 88)\\n',\n",
       " 't_n74          5.0275 ( 4.1678,  5.4062) ( 4.3280,  5.4783)  1.1503 (Jnode 87)\\n',\n",
       " 't_n75          4.7407 ( 3.6057,  5.2636) ( 3.8788,  5.3640)  1.4852 (Jnode 86)\\n',\n",
       " 't_n76          5.1637 ( 5.0479,  5.3903) ( 5.0423,  5.3450)  0.3027 (Jnode 85)\\n',\n",
       " 't_n77          5.8749 ( 5.7699,  5.9788) ( 5.7716,  5.9800)  0.2085 (Jnode 84)\\n',\n",
       " 't_n78          5.7685 ( 5.6713,  5.8705) ( 5.6706,  5.8689)  0.1984 (Jnode 83)\\n',\n",
       " 't_n79          5.6860 ( 5.5920,  5.7873) ( 5.5910,  5.7847)  0.1937 (Jnode 82)\\n',\n",
       " 't_n80          5.5305 ( 5.4563,  5.6182) ( 5.4536,  5.6143)  0.1607 (Jnode 81)\\n',\n",
       " 't_n81          5.3574 ( 5.3217,  5.3973) ( 5.3212,  5.3967)  0.0755 (Jnode 80)\\n',\n",
       " 't_n82          5.3080 ( 5.2823,  5.3286) ( 5.2836,  5.3297)  0.0460 (Jnode 79)\\n',\n",
       " 't_n83          5.1532 ( 5.1403,  5.1805) ( 5.1398,  5.1750)  0.0353 (Jnode 78)\\n',\n",
       " 't_n84          5.0212 ( 4.9911,  5.0718) ( 4.9892,  5.0627)  0.0735 (Jnode 77)\\n',\n",
       " 't_n85          4.8576 ( 4.7074,  4.9688) ( 4.7321,  4.9816)  0.2494 (Jnode 76)\\n',\n",
       " 't_n86          4.0631 ( 3.3839,  4.3873) ( 3.4282,  4.4161)  0.9879 (Jnode 75)\\n',\n",
       " 't_n87          3.8265 ( 3.1189,  4.1596) ( 3.1577,  4.1817)  1.0241 (Jnode 74)\\n',\n",
       " 't_n88          5.0793 ( 4.9820,  5.1809) ( 4.9752,  5.1696)  0.1944 (Jnode 73)\\n',\n",
       " 't_n89          4.6276 ( 4.2035,  4.9305) ( 4.2075,  4.9330)  0.7255 (Jnode 72)\\n',\n",
       " 't_n90          5.8345 ( 5.7327,  5.9367) ( 5.7312,  5.9348)  0.2036 (Jnode 71)\\n',\n",
       " 't_n91          2.8084 ( 0.5085,  4.5603) ( 0.5489,  4.5893)  4.0404 (Jnode 70)\\n',\n",
       " 't_n92          5.7869 ( 5.6899,  5.8847) ( 5.6865,  5.8806)  0.1941 (Jnode 69)\\n',\n",
       " 't_n93          5.6552 ( 5.5727,  5.7414) ( 5.5670,  5.7354)  0.1684 (Jnode 68)\\n',\n",
       " 't_n94          5.4513 ( 5.3996,  5.4914) ( 5.4040,  5.4941)  0.0900 (Jnode 67)\\n',\n",
       " 't_n95          5.3284 ( 5.3007,  5.3838) ( 5.2996,  5.3742)  0.0746 (Jnode 66)\\n',\n",
       " 't_n96          4.6011 ( 3.4920,  5.0664) ( 3.8147,  5.1630)  1.3483 (Jnode 65)\\n',\n",
       " 't_n97          4.9447 ( 4.7314,  5.1656) ( 4.7297,  5.1632)  0.4335 (Jnode 64)\\n',\n",
       " 't_n98          5.2662 ( 4.9350,  5.4517) ( 5.0027,  5.4817)  0.4790 (Jnode 63)\\n',\n",
       " 't_n99          5.1656 ( 4.7787,  5.3869) ( 4.8430,  5.4223)  0.5793 (Jnode 62)\\n',\n",
       " 't_n100         4.9538 ( 4.3638,  5.2854) ( 4.4809,  5.3371)  0.8561 (Jnode 61)\\n',\n",
       " 't_n101         4.0633 ( 2.4947,  4.8978) ( 3.1179,  5.0699)  1.9519 (Jnode 60)\\n',\n",
       " 't_n102         4.8465 ( 3.6684,  5.3344) ( 4.0288,  5.3991)  1.3703 (Jnode 59)\\n',\n",
       " 't_n103         6.1162 ( 5.8702,  6.2666) ( 5.9107,  6.2915)  0.3808 (Jnode 58)\\n',\n",
       " 't_n104         5.3875 ( 4.5168,  5.8917) ( 4.7482,  5.9695)  1.2213 (Jnode 57)\\n',\n",
       " 't_n105         4.2362 ( 2.2810,  5.3421) ( 2.7519,  5.4687)  2.7168 (Jnode 56)\\n',\n",
       " 't_n106         3.8937 ( 1.2627,  5.2476) ( 1.5854,  5.3828)  3.7974 (Jnode 55)\\n',\n",
       " 't_n107         5.4382 ( 3.7793,  6.4973) ( 4.0355,  6.6684)  2.6329 (Jnode 54)\\n']"
      ]
     },
     "execution_count": 2,
     "metadata": {},
     "output_type": "execute_result"
    }
   ],
   "execution_count": 2
  },
  {
   "metadata": {
    "ExecuteTime": {
     "end_time": "2024-10-08T15:13:42.808726Z",
     "start_time": "2024-10-08T15:13:42.805642Z"
    }
   },
   "cell_type": "code",
   "source": [
    "node_name = []\n",
    "posterior_mean_iqtree = []\n",
    "posterior_mean_baseml = []\n",
    "\n",
    "posterior_mean_mu_iqtree = []\n",
    "posterior_mean_mu_baseml = []\n",
    "\n",
    "posterior_mean_var_iqtree = []\n",
    "posterior_mean_var_baseml = []\n",
    "\n",
    "lower_ci_iqtree = []\n",
    "upper_ci_iqtree = []\n",
    "\n",
    "lower_ci_mu_iqtree = []\n",
    "upper_ci_mu_iqtree = []\n",
    "\n",
    "lower_ci_var_iqtree = []\n",
    "upper_ci_var_iqtree = []\n",
    "\n",
    "# Credible intervals for McmcDate\n",
    "lower_ci_baseml = []\n",
    "upper_ci_baseml = []\n",
    "\n",
    "lower_ci_mu_baseml = []\n",
    "upper_ci_mu_baseml = []\n",
    "\n",
    "lower_ci_var_baseml = []\n",
    "upper_ci_var_baseml = []"
   ],
   "id": "e5cf93a69d327e61",
   "outputs": [],
   "execution_count": 3
  },
  {
   "metadata": {
    "ExecuteTime": {
     "end_time": "2024-10-08T15:13:42.861062Z",
     "start_time": "2024-10-08T15:13:42.856843Z"
    }
   },
   "cell_type": "code",
   "source": [
    "for line in data:\n",
    "    line = line.strip().split()\n",
    "    node_name.append(line[0])\n",
    "    posterior_mean_iqtree.append(float(line[1]))\n",
    "#     if line[3].startswith('('):\n",
    "#         lower_ci_iqtree.append(float(line[3][1:-1]))\n",
    "#     else:\n",
    "#         lower_ci_iqtree.append(float(line[3][1:-1]))\n",
    "#     if line[4].startswith('('):\n",
    "#         upper_ci_iqtree.append(float(line[4][1:-1]))\n",
    "#     else:\n",
    "#         upper_ci_iqtree.append(float(line[4][:-1]))\n",
    "#     # posterior_mean_baseml.append(float(line[4]))\n",
    "#     # lower_ci_baseml.append(float(line[5]))\n",
    "#     # upper_ci_baseml.append(float(line[6]))\n",
    "# \n",
    "# for line in mu_data:\n",
    "#     line = line.strip().split()\n",
    "#     # node_name.append(line[0])\n",
    "#     posterior_mean_mu_iqtree.append(float(line[1]))\n",
    "#     lower_ci_mu_iqtree.append(float(line[3][:-1]))\n",
    "#     upper_ci_mu_iqtree.append(float(line[4][:-1]))\n",
    "#\n",
    "# for line in var_data:\n",
    "#     line = line.strip().split()\n",
    "#     # node_name.append(line[0])\n",
    "#     posterior_mean_var_iqtree.append(float(line[1]))\n",
    "#     lower_ci_var_iqtree.append(float(line[3][:-1]))\n",
    "#     upper_ci_var_iqtree.append(float(line[4][:-1]))"
   ],
   "id": "4e79ee928ea76b59",
   "outputs": [],
   "execution_count": 4
  },
  {
   "metadata": {
    "ExecuteTime": {
     "end_time": "2024-10-08T15:13:42.917067Z",
     "start_time": "2024-10-08T15:13:42.913427Z"
    }
   },
   "cell_type": "code",
   "source": "node_name",
   "id": "2c17f55ec9626a0b",
   "outputs": [
    {
     "data": {
      "text/plain": [
       "['t_n55',\n",
       " 't_n56',\n",
       " 't_n57',\n",
       " 't_n58',\n",
       " 't_n59',\n",
       " 't_n60',\n",
       " 't_n61',\n",
       " 't_n62',\n",
       " 't_n63',\n",
       " 't_n64',\n",
       " 't_n65',\n",
       " 't_n66',\n",
       " 't_n67',\n",
       " 't_n68',\n",
       " 't_n69',\n",
       " 't_n70',\n",
       " 't_n71',\n",
       " 't_n72',\n",
       " 't_n73',\n",
       " 't_n74',\n",
       " 't_n75',\n",
       " 't_n76',\n",
       " 't_n77',\n",
       " 't_n78',\n",
       " 't_n79',\n",
       " 't_n80',\n",
       " 't_n81',\n",
       " 't_n82',\n",
       " 't_n83',\n",
       " 't_n84',\n",
       " 't_n85',\n",
       " 't_n86',\n",
       " 't_n87',\n",
       " 't_n88',\n",
       " 't_n89',\n",
       " 't_n90',\n",
       " 't_n91',\n",
       " 't_n92',\n",
       " 't_n93',\n",
       " 't_n94',\n",
       " 't_n95',\n",
       " 't_n96',\n",
       " 't_n97',\n",
       " 't_n98',\n",
       " 't_n99',\n",
       " 't_n100',\n",
       " 't_n101',\n",
       " 't_n102',\n",
       " 't_n103',\n",
       " 't_n104',\n",
       " 't_n105',\n",
       " 't_n106',\n",
       " 't_n107']"
      ]
     },
     "execution_count": 5,
     "metadata": {},
     "output_type": "execute_result"
    }
   ],
   "execution_count": 5
  },
  {
   "metadata": {
    "ExecuteTime": {
     "end_time": "2024-10-08T15:13:42.976334Z",
     "start_time": "2024-10-08T15:13:42.972395Z"
    }
   },
   "cell_type": "code",
   "source": "posterior_mean_iqtree",
   "id": "24a55c806a41f33e",
   "outputs": [
    {
     "data": {
      "text/plain": [
       "[6.6866,\n",
       " 6.5059,\n",
       " 6.3579,\n",
       " 6.0558,\n",
       " 5.9887,\n",
       " 5.8894,\n",
       " 5.735,\n",
       " 3.9433,\n",
       " 5.0814,\n",
       " 4.5207,\n",
       " 4.2683,\n",
       " 3.4967,\n",
       " 3.199,\n",
       " 1.8824,\n",
       " 0.9179,\n",
       " 4.3716,\n",
       " 5.9377,\n",
       " 5.8676,\n",
       " 5.756,\n",
       " 5.0275,\n",
       " 4.7407,\n",
       " 5.1637,\n",
       " 5.8749,\n",
       " 5.7685,\n",
       " 5.686,\n",
       " 5.5305,\n",
       " 5.3574,\n",
       " 5.308,\n",
       " 5.1532,\n",
       " 5.0212,\n",
       " 4.8576,\n",
       " 4.0631,\n",
       " 3.8265,\n",
       " 5.0793,\n",
       " 4.6276,\n",
       " 5.8345,\n",
       " 2.8084,\n",
       " 5.7869,\n",
       " 5.6552,\n",
       " 5.4513,\n",
       " 5.3284,\n",
       " 4.6011,\n",
       " 4.9447,\n",
       " 5.2662,\n",
       " 5.1656,\n",
       " 4.9538,\n",
       " 4.0633,\n",
       " 4.8465,\n",
       " 6.1162,\n",
       " 5.3875,\n",
       " 4.2362,\n",
       " 3.8937,\n",
       " 5.4382]"
      ]
     },
     "execution_count": 6,
     "metadata": {},
     "output_type": "execute_result"
    }
   ],
   "execution_count": 6
  },
  {
   "metadata": {
    "ExecuteTime": {
     "end_time": "2024-10-08T15:13:43.036077Z",
     "start_time": "2024-10-08T15:13:43.032823Z"
    }
   },
   "cell_type": "code",
   "source": "lower_ci_iqtree",
   "id": "388aa27ad336d43f",
   "outputs": [
    {
     "data": {
      "text/plain": [
       "[]"
      ]
     },
     "execution_count": 7,
     "metadata": {},
     "output_type": "execute_result"
    }
   ],
   "execution_count": 7
  },
  {
   "metadata": {
    "ExecuteTime": {
     "end_time": "2024-10-08T15:13:43.100359Z",
     "start_time": "2024-10-08T15:13:43.096987Z"
    }
   },
   "cell_type": "code",
   "source": "upper_ci_iqtree",
   "id": "816e569fb763e797",
   "outputs": [
    {
     "data": {
      "text/plain": [
       "[]"
      ]
     },
     "execution_count": 8,
     "metadata": {},
     "output_type": "execute_result"
    }
   ],
   "execution_count": 8
  },
  {
   "metadata": {
    "ExecuteTime": {
     "end_time": "2024-10-08T15:13:43.162358Z",
     "start_time": "2024-10-08T15:13:43.155653Z"
    }
   },
   "cell_type": "code",
   "source": [
    "file_LG = open(\"LG_cm_out.txt\", \"r\")\n",
    "lines1 = file_LG.readlines()\n",
    "file_LG.close()\n",
    "\n",
    "# Extract the data\n",
    "data1 = []\n",
    "mu_data1 = []\n",
    "var_data1 = []\n",
    "\n",
    "read_flag = False\n",
    "for line in lines1:\n",
    "    if line.startswith(\"Posterior\"):\n",
    "        read_flag = True\n",
    "    if read_flag and line.startswith(\"t\"):\n",
    "        data1.append(line)\n",
    "    if read_flag and line.startswith(\"mu\"):\n",
    "        mu_data1.append(line)\n",
    "    if read_flag and line.startswith(\"sigma\"):\n",
    "        var_data1.append(line)\n",
    "\n",
    "        \n",
    "for line in data1:\n",
    "    line = line.strip().split()\n",
    "    # node_name.append(line[0])\n",
    "    posterior_mean_baseml.append(float(line[1]))\n",
    "#     if line[3].startswith('('):\n",
    "#         lower_ci_baseml.append(float(line[3][1:-1]))\n",
    "#     else:\n",
    "#          lower_ci_baseml.append(float(line[3][:-1]))\n",
    "#     if line[4].startswith('('):\n",
    "#         upper_ci_baseml.append(float(line[4][1:-1]))\n",
    "#     else:\n",
    "#          upper_ci_baseml.append(float(line[4][:-1]))\n",
    "#         \n",
    "#     \n",
    "# for line in mu_data1:\n",
    "#     line = line.strip().split()\n",
    "#     # node_name.append(line[0])\n",
    "#     posterior_mean_mu_baseml.append(float(line[1]))\n",
    "#     lower_ci_mu_baseml.append(float(line[3][:-1]))\n",
    "#     upper_ci_mu_baseml.append(float(line[4][:-1]))\n",
    "    \n",
    "# for line in var_data1:\n",
    "#     line = line.strip().split()\n",
    "#     # node_name.append(line[0])\n",
    "#     posterior_mean_var_baseml.append(float(line[1]))\n",
    "#     lower_ci_var_baseml.append(float(line[3][:-1]))\n",
    "#     upper_ci_var_baseml.append(float(line[4][:-1]))"
   ],
   "id": "f75c012c6bef60a2",
   "outputs": [],
   "execution_count": 9
  },
  {
   "metadata": {
    "ExecuteTime": {
     "end_time": "2024-10-08T15:13:43.216238Z",
     "start_time": "2024-10-08T15:13:43.209364Z"
    }
   },
   "cell_type": "code",
   "source": [
    "import matplotlib.pyplot as plt\n",
    "import numpy as np\n",
    "\n",
    "# # Example data\n",
    "# # Posterior means for MCMCtree (x-axis) and McmcDate (y-axis)\n",
    "# posterior_mean_mcmctree = [100, 200, 300, 400, 500, 600, 700, 800, 900, 1000]\n",
    "# posterior_mean_mcmcdate = [110, 210, 310, 410, 510, 610, 710, 810, 910, 1010]\n",
    "# \n",
    "# # Credible intervals for MCMCtree\n",
    "# lower_ci_mcmctree = [90, 180, 270, 360, 450, 540, 630, 720, 810, 900]\n",
    "# upper_ci_mcmctree = [110, 220, 330, 440, 550, 660, 770, 880, 990, 1100]\n",
    "# \n",
    "# # Credible intervals for McmcDate\n",
    "# lower_ci_mcmcdate = [100, 200, 300, 400, 500, 600, 700, 800, 900, 1000]\n",
    "# upper_ci_mcmcdate = [120, 220, 320, 420, 520, 620, 720, 820, 920, 1020]\n",
    "\n",
    "# Calculate error bars\n",
    "# xerr = [np.array(lower_ci_baseml), \n",
    "#         np.array(upper_ci_baseml)]\n",
    "# yerr = [np.array(lower_ci_iqtree), \n",
    "#         np.array(upper_ci_iqtree)]\n",
    "# \n",
    "# # Plotting\n",
    "# fig, ax = plt.subplots(figsize=(15, 15))\n",
    "# ax.plot([-0.1,90], \n",
    "#         [-0.1, 90], \n",
    "#         'k--', label='y=x')\n",
    "# ax.errorbar(posterior_mean_baseml, posterior_mean_iqtree, \n",
    "#             xerr=xerr, yerr=yerr, fmt='*', ecolor='r', capsize=3, label='95% HPD CI')\n",
    "# \n",
    "# # Labels and title\n",
    "# ax.set_xlabel('Posterior mean age LG [100 Mya]', fontsize=18)\n",
    "# ax.set_ylabel('Posterior mean age LG+G4 [100 Mya]', fontsize=18)\n",
    "# ax.set_title('Posterior mean age comparison between LG and LG+G4 models [t116 ~ B(1.25,2.482)]')\n",
    "# ax.legend()\n",
    "# \n",
    "# # Show plot\n",
    "# # plt.show()\n",
    "# plt.savefig('./animal_origin_posterior_mean_age_comparison_LG_G4_c11.png')"
   ],
   "id": "12db486fa4fac82c",
   "outputs": [],
   "execution_count": 10
  },
  {
   "metadata": {
    "ExecuteTime": {
     "end_time": "2024-10-08T15:13:43.277126Z",
     "start_time": "2024-10-08T15:13:43.272075Z"
    }
   },
   "cell_type": "code",
   "source": "posterior_mean_baseml",
   "id": "917b2e31cff4b992",
   "outputs": [
    {
     "data": {
      "text/plain": [
       "[6.7484,\n",
       " 6.6132,\n",
       " 6.3617,\n",
       " 6.0952,\n",
       " 5.9962,\n",
       " 5.8609,\n",
       " 5.6516,\n",
       " 4.2185,\n",
       " 5.0804,\n",
       " 4.5598,\n",
       " 4.2719,\n",
       " 3.4945,\n",
       " 3.2015,\n",
       " 1.877,\n",
       " 0.9247,\n",
       " 4.4247,\n",
       " 5.8842,\n",
       " 5.3363,\n",
       " 5.6838,\n",
       " 5.0611,\n",
       " 4.6602,\n",
       " 5.1637,\n",
       " 5.9208,\n",
       " 5.7849,\n",
       " 5.6793,\n",
       " 5.5435,\n",
       " 5.3809,\n",
       " 5.3051,\n",
       " 5.1558,\n",
       " 5.0196,\n",
       " 4.8206,\n",
       " 4.215,\n",
       " 3.7836,\n",
       " 5.1016,\n",
       " 4.6265,\n",
       " 5.8592,\n",
       " 3.6989,\n",
       " 5.7907,\n",
       " 5.6533,\n",
       " 5.4606,\n",
       " 5.3252,\n",
       " 4.7348,\n",
       " 4.9157,\n",
       " 5.3143,\n",
       " 5.1018,\n",
       " 4.6516,\n",
       " 4.3733,\n",
       " 4.9219,\n",
       " 6.1088,\n",
       " 5.4774,\n",
       " 4.4321,\n",
       " 4.4162,\n",
       " 5.6189]"
      ]
     },
     "execution_count": 11,
     "metadata": {},
     "output_type": "execute_result"
    }
   ],
   "execution_count": 11
  },
  {
   "metadata": {
    "ExecuteTime": {
     "end_time": "2024-10-08T15:13:43.338939Z",
     "start_time": "2024-10-08T15:13:43.335556Z"
    }
   },
   "cell_type": "code",
   "source": "posterior_mean_iqtree",
   "id": "59ad8fd34f7bbf11",
   "outputs": [
    {
     "data": {
      "text/plain": [
       "[6.6866,\n",
       " 6.5059,\n",
       " 6.3579,\n",
       " 6.0558,\n",
       " 5.9887,\n",
       " 5.8894,\n",
       " 5.735,\n",
       " 3.9433,\n",
       " 5.0814,\n",
       " 4.5207,\n",
       " 4.2683,\n",
       " 3.4967,\n",
       " 3.199,\n",
       " 1.8824,\n",
       " 0.9179,\n",
       " 4.3716,\n",
       " 5.9377,\n",
       " 5.8676,\n",
       " 5.756,\n",
       " 5.0275,\n",
       " 4.7407,\n",
       " 5.1637,\n",
       " 5.8749,\n",
       " 5.7685,\n",
       " 5.686,\n",
       " 5.5305,\n",
       " 5.3574,\n",
       " 5.308,\n",
       " 5.1532,\n",
       " 5.0212,\n",
       " 4.8576,\n",
       " 4.0631,\n",
       " 3.8265,\n",
       " 5.0793,\n",
       " 4.6276,\n",
       " 5.8345,\n",
       " 2.8084,\n",
       " 5.7869,\n",
       " 5.6552,\n",
       " 5.4513,\n",
       " 5.3284,\n",
       " 4.6011,\n",
       " 4.9447,\n",
       " 5.2662,\n",
       " 5.1656,\n",
       " 4.9538,\n",
       " 4.0633,\n",
       " 4.8465,\n",
       " 6.1162,\n",
       " 5.3875,\n",
       " 4.2362,\n",
       " 3.8937,\n",
       " 5.4382]"
      ]
     },
     "execution_count": 12,
     "metadata": {},
     "output_type": "execute_result"
    }
   ],
   "execution_count": 12
  },
  {
   "metadata": {
    "ExecuteTime": {
     "end_time": "2024-10-08T15:13:43.707099Z",
     "start_time": "2024-10-08T15:13:43.529735Z"
    }
   },
   "cell_type": "code",
   "source": [
    "# Calculate error bars\n",
    "xerr = [np.array(lower_ci_baseml), \n",
    "        np.array(upper_ci_baseml)]\n",
    "yerr = [np.array(lower_ci_iqtree), \n",
    "        np.array(upper_ci_iqtree)]\n",
    "\n",
    "# Plotting\n",
    "fig, ax = plt.subplots(figsize=(9 ,9))\n",
    "ax.plot([-0.1,17], \n",
    "        [-0.1, 17], \n",
    "        'k--', label='y=x')\n",
    "ax.plot(posterior_mean_baseml, posterior_mean_iqtree, 'o', label='Posterior mean age')\n",
    " \n",
    "# Labels and title\n",
    "ax.set_xlabel('Posterior mean age LG [Mya]', fontsize=18)\n",
    "ax.set_ylabel('Posterior mean age LG+G4+C60 [Mya]', fontsize=18)\n",
    "ax.set_title('Posterior mean age comparison between LG and LG+G4 [cherry and middle calibrations]')\n",
    "ax.legend()\n",
    "\n",
    "# point_x = posterior_mean_baseml[0]  # Example: first point in the list\n",
    "# point_y = posterior_mean_iqtree[0]  # Example: first point in the list\n",
    "# ax.annotate('Root age', xy=(point_x, point_y), xytext=(point_x - 0.1, point_y - 0.1), color='red')\n",
    "# Show plot\n",
    "# plt.show()\n",
    "plt.savefig('./metazoa_posterior_mean_age_comparison_LG_G4_C60_cm_scatter.png')"
   ],
   "id": "592d0bb72aa1ad4c",
   "outputs": [
    {
     "data": {
      "text/plain": [
       "<Figure size 900x900 with 1 Axes>"
      ],
      "image/png": "[encoded data removed]"
     },
     "metadata": {},
     "output_type": "display_data"
    }
   ],
   "execution_count": 13
  },
  {
   "metadata": {
    "ExecuteTime": {
     "end_time": "2024-10-08T15:13:43.716483Z",
     "start_time": "2024-10-08T15:13:43.714412Z"
    }
   },
   "cell_type": "code",
   "source": [
    "# fig, ax = plt.subplots(figsize=(9 ,9))\n",
    "# ax.plot([0.01,0.04], \n",
    "#         [0.01, 0.04], \n",
    "#         'k--', label='y=x')\n",
    "# ax.plot(posterior_mean_mu_baseml, posterior_mean_mu_iqtree, 'o', label='Posterior mean rates for partitions')\n",
    "#  \n",
    "# # Labels and title\n",
    "# ax.set_xlabel('Posterior mean rate [LG]', fontsize=18)\n",
    "# ax.set_ylabel('Posterior mean rate [LG+G4]', fontsize=18)\n",
    "# ax.set_title('Posterior mean rate comparison between LG and LG+G4 [Cherry only calibration/IQ-TREE]')\n",
    "# ax.legend()\n",
    "# \n",
    "# # point_x = posterior_mean_baseml[0]  # Example: first point in the list\n",
    "# # point_y = posterior_mean_iqtree[0]  # Example: first point in the list\n",
    "# # ax.annotate('Root age', xy=(point_x, point_y), xytext=(point_x - 0.1, point_y - 0.1), color='red')\n",
    "# # Show plot\n",
    "# # plt.show()\n",
    "# plt.savefig('./animal_origin__posterior_mean_rate_comparison_LG_G4_all_scatter.png')"
   ],
   "id": "c6d69ee36c77970c",
   "outputs": [],
   "execution_count": 14
  },
  {
   "metadata": {
    "ExecuteTime": {
     "end_time": "2024-10-08T15:13:43.758804Z",
     "start_time": "2024-10-08T15:13:43.757156Z"
    }
   },
   "cell_type": "code",
   "source": "",
   "id": "ca69d5b521db3aa7",
   "outputs": [],
   "execution_count": null
  }
 ],
 "metadata": {
  "kernelspec": {
   "display_name": "Python 3",
   "language": "python",
   "name": "python3"
  },
  "language_info": {
   "codemirror_mode": {
    "name": "ipython",
    "version": 2
   },
   "file_extension": ".py",
   "mimetype": "text/x-python",
   "name": "python",
   "nbconvert_exporter": "python",
   "pygments_lexer": "ipython2",
   "version": "2.7.6"
  }
 },
 "nbformat": 4,
 "nbformat_minor": 5
}
