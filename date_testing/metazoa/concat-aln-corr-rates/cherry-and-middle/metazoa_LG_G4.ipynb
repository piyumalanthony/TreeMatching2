{
 "cells": [
  {
   "cell_type": "code",
   "id": "initial_id",
   "metadata": {
    "collapsed": true,
    "ExecuteTime": {
     "end_time": "2024-10-08T15:12:16.396109Z",
     "start_time": "2024-10-08T15:12:16.011339Z"
    }
   },
   "source": [
    "# Code to get all the Posterior mean (95% Equal-tail CI) (95% HPD CI) HPD-CI-width from ./xenarthra_mcmc_out.txt\n",
    "import numpy as np\n",
    "import pandas as pd\n",
    "import matplotlib.pyplot as plt\n",
    "\n",
    "\n",
    "# Read the file\n",
    "file = open(\"LG_G4_cm_out.txt\", \"r\")\n",
    "lines = file.readlines()\n",
    "file.close()\n",
    "\n",
    "# Extract the data\n",
    "data = []\n",
    "mu_data = []\n",
    "var_data = []\n",
    "\n",
    "read_flag = False\n",
    "for line in lines:\n",
    "    if line.startswith(\"Posterior\"):\n",
    "        read_flag = True\n",
    "    if read_flag and line.startswith(\"t\"):\n",
    "        data.append(line)\n",
    "    if read_flag and line.startswith(\"mu\"):\n",
    "        mu_data.append(line)\n",
    "    if read_flag and line.startswith(\"sigma\"):\n",
    "        var_data.append(line)"
   ],
   "outputs": [],
   "execution_count": 1
  },
  {
   "metadata": {
    "ExecuteTime": {
     "end_time": "2024-10-08T15:12:16.408051Z",
     "start_time": "2024-10-08T15:12:16.403551Z"
    }
   },
   "cell_type": "code",
   "source": "data",
   "id": "54808ee54195795",
   "outputs": [
    {
     "data": {
      "text/plain": [
       "['t_n55          6.7027 ( 6.4522,  7.2242) ( 6.4017,  7.1032)  0.7016 (Jnode 106)\\n',\n",
       " 't_n56          6.5599 ( 6.4003,  6.7757) ( 6.3843,  6.7519)  0.3676 (Jnode 105)\\n',\n",
       " 't_n57          6.3619 ( 6.2533,  6.4742) ( 6.2505,  6.4705)  0.2200 (Jnode 104)\\n',\n",
       " 't_n58          6.0789 ( 5.9654,  6.1887) ( 5.9680,  6.1908)  0.2228 (Jnode 103)\\n',\n",
       " 't_n59          5.9975 ( 5.8806,  6.1085) ( 5.8809,  6.1087)  0.2278 (Jnode 102)\\n',\n",
       " 't_n60          5.8893 ( 5.7536,  6.0137) ( 5.7530,  6.0128)  0.2597 (Jnode 101)\\n',\n",
       " 't_n61          5.7091 ( 5.5087,  5.8717) ( 5.5164,  5.8752)  0.3588 (Jnode 100)\\n',\n",
       " 't_n62          4.1637 ( 1.9870,  5.1332) ( 2.6001,  5.3262)  2.7261 (Jnode 99)\\n',\n",
       " 't_n63          5.0948 ( 4.8244,  5.3601) ( 4.8226,  5.3568)  0.5342 (Jnode 98)\\n',\n",
       " 't_n64          4.5486 ( 4.3987,  4.6860) ( 4.4089,  4.6937)  0.2848 (Jnode 97)\\n',\n",
       " 't_n65          4.2708 ( 4.2085,  4.4148) ( 4.2063,  4.3833)  0.1771 (Jnode 96)\\n',\n",
       " 't_n66          3.4955 ( 3.4484,  3.5182) ( 3.4553,  3.5213)  0.0660 (Jnode 95)\\n',\n",
       " 't_n67          3.2003 ( 3.1804,  3.2504) ( 3.1796,  3.2386)  0.0590 (Jnode 94)\\n',\n",
       " 't_n68          1.8789 ( 1.6675,  2.0206) ( 1.6759,  2.0256)  0.3497 (Jnode 93)\\n',\n",
       " 't_n69          0.9240 ( 0.6344,  1.3159) ( 0.6145,  1.2592)  0.6447 (Jnode 92)\\n',\n",
       " 't_n70          4.4136 ( 3.7218,  4.9171) ( 3.7709,  4.9575)  1.1866 (Jnode 91)\\n',\n",
       " 't_n71          5.9200 ( 5.7928,  6.0382) ( 5.7933,  6.0384)  0.2451 (Jnode 90)\\n',\n",
       " 't_n72          5.6315 ( 5.1265,  5.8514) ( 5.2784,  5.8926)  0.6142 (Jnode 89)\\n',\n",
       " 't_n73          5.7323 ( 5.5690,  5.8743) ( 5.5712,  5.8761)  0.3049 (Jnode 88)\\n',\n",
       " 't_n74          5.0666 ( 4.3209,  5.4349) ( 4.4921,  5.5045)  1.0124 (Jnode 87)\\n',\n",
       " 't_n75          4.7175 ( 3.6684,  5.2724) ( 3.9083,  5.3533)  1.4450 (Jnode 86)\\n',\n",
       " 't_n76          5.1702 ( 5.0480,  5.4140) ( 5.0420,  5.3665)  0.3244 (Jnode 85)\\n',\n",
       " 't_n77          5.8924 ( 5.7909,  5.9965) ( 5.7900,  5.9949)  0.2048 (Jnode 84)\\n',\n",
       " 't_n78          5.7669 ( 5.6730,  5.8655) ( 5.6704,  5.8629)  0.1925 (Jnode 83)\\n',\n",
       " 't_n79          5.6690 ( 5.5801,  5.7657) ( 5.5770,  5.7614)  0.1844 (Jnode 82)\\n',\n",
       " 't_n80          5.5395 ( 5.4665,  5.6254) ( 5.4640,  5.6224)  0.1584 (Jnode 81)\\n',\n",
       " 't_n81          5.3695 ( 5.3314,  5.4106) ( 5.3319,  5.4111)  0.0791 (Jnode 80)\\n',\n",
       " 't_n82          5.3068 ( 5.2804,  5.3271) ( 5.2821,  5.3284)  0.0463 (Jnode 79)\\n',\n",
       " 't_n83          5.1537 ( 5.1403,  5.1817) ( 5.1396,  5.1760)  0.0364 (Jnode 78)\\n',\n",
       " 't_n84          5.0222 ( 4.9912,  5.0738) ( 4.9895,  5.0643)  0.0748 (Jnode 77)\\n',\n",
       " 't_n85          4.8381 ( 4.6702,  4.9555) ( 4.6896,  4.9671)  0.2775 (Jnode 76)\\n',\n",
       " 't_n86          4.1666 ( 3.5054,  4.4816) ( 3.5825,  4.5193)  0.9368 (Jnode 75)\\n',\n",
       " 't_n87          3.8138 ( 3.1324,  4.1543) ( 3.1898,  4.1822)  0.9924 (Jnode 74)\\n',\n",
       " 't_n88          5.0936 ( 4.9832,  5.1983) ( 4.9762,  5.1867)  0.2106 (Jnode 73)\\n',\n",
       " 't_n89          4.6182 ( 4.2042,  4.9356) ( 4.1957,  4.9236)  0.7279 (Jnode 72)\\n',\n",
       " 't_n90          5.8417 ( 5.7433,  5.9433) ( 5.7419,  5.9411)  0.1992 (Jnode 71)\\n',\n",
       " 't_n91          3.2635 ( 0.6692,  4.8609) ( 0.8131,  4.9561)  4.1430 (Jnode 70)\\n',\n",
       " 't_n92          5.7832 ( 5.6912,  5.8795) ( 5.6897,  5.8777)  0.1879 (Jnode 69)\\n',\n",
       " 't_n93          5.6486 ( 5.5688,  5.7312) ( 5.5671,  5.7292)  0.1621 (Jnode 68)\\n',\n",
       " 't_n94          5.4566 ( 5.4062,  5.4922) ( 5.4114,  5.4948)  0.0834 (Jnode 67)\\n',\n",
       " 't_n95          5.3262 ( 5.3007,  5.3789) ( 5.2995,  5.3691)  0.0695 (Jnode 66)\\n',\n",
       " 't_n96          4.7005 ( 3.7016,  5.0994) ( 4.0332,  5.1713)  1.1381 (Jnode 65)\\n',\n",
       " 't_n97          4.9257 ( 4.7249,  5.1501) ( 4.7135,  5.1343)  0.4208 (Jnode 64)\\n',\n",
       " 't_n98          5.2965 ( 4.9764,  5.4664) ( 5.0523,  5.4946)  0.4423 (Jnode 63)\\n',\n",
       " 't_n99          5.1473 ( 4.7315,  5.3675) ( 4.8112,  5.3988)  0.5876 (Jnode 62)\\n',\n",
       " 't_n100         4.7971 ( 4.0770,  5.1890) ( 4.1896,  5.2313)  1.0417 (Jnode 61)\\n',\n",
       " 't_n101         4.3058 ( 3.1832,  5.0351) ( 3.2584,  5.0694)  1.8110 (Jnode 60)\\n',\n",
       " 't_n102         4.8431 ( 3.6129,  5.3486) ( 3.9916,  5.4239)  1.4322 (Jnode 59)\\n',\n",
       " 't_n103         6.1282 ( 5.8938,  6.2748) ( 5.9299,  6.2923)  0.3625 (Jnode 58)\\n',\n",
       " 't_n104         5.4756 ( 4.6542,  5.9173) ( 4.8140,  5.9728)  1.1587 (Jnode 57)\\n',\n",
       " 't_n105         4.3897 ( 2.4741,  5.3881) ( 3.0958,  5.5410)  2.4452 (Jnode 56)\\n',\n",
       " 't_n106         4.2759 ( 1.8097,  5.3446) ( 2.3363,  5.5016)  3.1654 (Jnode 55)\\n',\n",
       " 't_n107         5.5625 ( 4.1250,  6.5877) ( 4.2303,  6.6524)  2.4221 (Jnode 54)\\n']"
      ]
     },
     "execution_count": 2,
     "metadata": {},
     "output_type": "execute_result"
    }
   ],
   "execution_count": 2
  },
  {
   "metadata": {
    "ExecuteTime": {
     "end_time": "2024-10-08T15:12:16.458641Z",
     "start_time": "2024-10-08T15:12:16.455754Z"
    }
   },
   "cell_type": "code",
   "source": [
    "node_name = []\n",
    "posterior_mean_iqtree = []\n",
    "posterior_mean_baseml = []\n",
    "\n",
    "posterior_mean_mu_iqtree = []\n",
    "posterior_mean_mu_baseml = []\n",
    "\n",
    "posterior_mean_var_iqtree = []\n",
    "posterior_mean_var_baseml = []\n",
    "\n",
    "lower_ci_iqtree = []\n",
    "upper_ci_iqtree = []\n",
    "\n",
    "lower_ci_mu_iqtree = []\n",
    "upper_ci_mu_iqtree = []\n",
    "\n",
    "lower_ci_var_iqtree = []\n",
    "upper_ci_var_iqtree = []\n",
    "\n",
    "# Credible intervals for McmcDate\n",
    "lower_ci_baseml = []\n",
    "upper_ci_baseml = []\n",
    "\n",
    "lower_ci_mu_baseml = []\n",
    "upper_ci_mu_baseml = []\n",
    "\n",
    "lower_ci_var_baseml = []\n",
    "upper_ci_var_baseml = []"
   ],
   "id": "e5cf93a69d327e61",
   "outputs": [],
   "execution_count": 3
  },
  {
   "metadata": {
    "ExecuteTime": {
     "end_time": "2024-10-08T15:12:16.504600Z",
     "start_time": "2024-10-08T15:12:16.501493Z"
    }
   },
   "cell_type": "code",
   "source": [
    "for line in data:\n",
    "    line = line.strip().split()\n",
    "    node_name.append(line[0])\n",
    "    posterior_mean_iqtree.append(float(line[1]))\n",
    "#     if line[3].startswith('('):\n",
    "#         lower_ci_iqtree.append(float(line[3][1:-1]))\n",
    "#     else:\n",
    "#         lower_ci_iqtree.append(float(line[3][1:-1]))\n",
    "#     if line[4].startswith('('):\n",
    "#         upper_ci_iqtree.append(float(line[4][1:-1]))\n",
    "#     else:\n",
    "#         upper_ci_iqtree.append(float(line[4][:-1]))\n",
    "#     # posterior_mean_baseml.append(float(line[4]))\n",
    "#     # lower_ci_baseml.append(float(line[5]))\n",
    "#     # upper_ci_baseml.append(float(line[6]))\n",
    "# \n",
    "# for line in mu_data:\n",
    "#     line = line.strip().split()\n",
    "#     # node_name.append(line[0])\n",
    "#     posterior_mean_mu_iqtree.append(float(line[1]))\n",
    "#     lower_ci_mu_iqtree.append(float(line[3][:-1]))\n",
    "#     upper_ci_mu_iqtree.append(float(line[4][:-1]))\n",
    "#\n",
    "# for line in var_data:\n",
    "#     line = line.strip().split()\n",
    "#     # node_name.append(line[0])\n",
    "#     posterior_mean_var_iqtree.append(float(line[1]))\n",
    "#     lower_ci_var_iqtree.append(float(line[3][:-1]))\n",
    "#     upper_ci_var_iqtree.append(float(line[4][:-1]))"
   ],
   "id": "4e79ee928ea76b59",
   "outputs": [],
   "execution_count": 4
  },
  {
   "metadata": {
    "ExecuteTime": {
     "end_time": "2024-10-08T15:12:16.557490Z",
     "start_time": "2024-10-08T15:12:16.553279Z"
    }
   },
   "cell_type": "code",
   "source": "node_name",
   "id": "2c17f55ec9626a0b",
   "outputs": [
    {
     "data": {
      "text/plain": [
       "['t_n55',\n",
       " 't_n56',\n",
       " 't_n57',\n",
       " 't_n58',\n",
       " 't_n59',\n",
       " 't_n60',\n",
       " 't_n61',\n",
       " 't_n62',\n",
       " 't_n63',\n",
       " 't_n64',\n",
       " 't_n65',\n",
       " 't_n66',\n",
       " 't_n67',\n",
       " 't_n68',\n",
       " 't_n69',\n",
       " 't_n70',\n",
       " 't_n71',\n",
       " 't_n72',\n",
       " 't_n73',\n",
       " 't_n74',\n",
       " 't_n75',\n",
       " 't_n76',\n",
       " 't_n77',\n",
       " 't_n78',\n",
       " 't_n79',\n",
       " 't_n80',\n",
       " 't_n81',\n",
       " 't_n82',\n",
       " 't_n83',\n",
       " 't_n84',\n",
       " 't_n85',\n",
       " 't_n86',\n",
       " 't_n87',\n",
       " 't_n88',\n",
       " 't_n89',\n",
       " 't_n90',\n",
       " 't_n91',\n",
       " 't_n92',\n",
       " 't_n93',\n",
       " 't_n94',\n",
       " 't_n95',\n",
       " 't_n96',\n",
       " 't_n97',\n",
       " 't_n98',\n",
       " 't_n99',\n",
       " 't_n100',\n",
       " 't_n101',\n",
       " 't_n102',\n",
       " 't_n103',\n",
       " 't_n104',\n",
       " 't_n105',\n",
       " 't_n106',\n",
       " 't_n107']"
      ]
     },
     "execution_count": 5,
     "metadata": {},
     "output_type": "execute_result"
    }
   ],
   "execution_count": 5
  },
  {
   "metadata": {
    "ExecuteTime": {
     "end_time": "2024-10-08T15:12:16.611262Z",
     "start_time": "2024-10-08T15:12:16.607948Z"
    }
   },
   "cell_type": "code",
   "source": "posterior_mean_iqtree",
   "id": "24a55c806a41f33e",
   "outputs": [
    {
     "data": {
      "text/plain": [
       "[6.7027,\n",
       " 6.5599,\n",
       " 6.3619,\n",
       " 6.0789,\n",
       " 5.9975,\n",
       " 5.8893,\n",
       " 5.7091,\n",
       " 4.1637,\n",
       " 5.0948,\n",
       " 4.5486,\n",
       " 4.2708,\n",
       " 3.4955,\n",
       " 3.2003,\n",
       " 1.8789,\n",
       " 0.924,\n",
       " 4.4136,\n",
       " 5.92,\n",
       " 5.6315,\n",
       " 5.7323,\n",
       " 5.0666,\n",
       " 4.7175,\n",
       " 5.1702,\n",
       " 5.8924,\n",
       " 5.7669,\n",
       " 5.669,\n",
       " 5.5395,\n",
       " 5.3695,\n",
       " 5.3068,\n",
       " 5.1537,\n",
       " 5.0222,\n",
       " 4.8381,\n",
       " 4.1666,\n",
       " 3.8138,\n",
       " 5.0936,\n",
       " 4.6182,\n",
       " 5.8417,\n",
       " 3.2635,\n",
       " 5.7832,\n",
       " 5.6486,\n",
       " 5.4566,\n",
       " 5.3262,\n",
       " 4.7005,\n",
       " 4.9257,\n",
       " 5.2965,\n",
       " 5.1473,\n",
       " 4.7971,\n",
       " 4.3058,\n",
       " 4.8431,\n",
       " 6.1282,\n",
       " 5.4756,\n",
       " 4.3897,\n",
       " 4.2759,\n",
       " 5.5625]"
      ]
     },
     "execution_count": 6,
     "metadata": {},
     "output_type": "execute_result"
    }
   ],
   "execution_count": 6
  },
  {
   "metadata": {
    "ExecuteTime": {
     "end_time": "2024-10-08T15:12:16.673380Z",
     "start_time": "2024-10-08T15:12:16.669845Z"
    }
   },
   "cell_type": "code",
   "source": "lower_ci_iqtree",
   "id": "388aa27ad336d43f",
   "outputs": [
    {
     "data": {
      "text/plain": [
       "[]"
      ]
     },
     "execution_count": 7,
     "metadata": {},
     "output_type": "execute_result"
    }
   ],
   "execution_count": 7
  },
  {
   "metadata": {
    "ExecuteTime": {
     "end_time": "2024-10-08T15:12:16.737062Z",
     "start_time": "2024-10-08T15:12:16.731563Z"
    }
   },
   "cell_type": "code",
   "source": "upper_ci_iqtree",
   "id": "816e569fb763e797",
   "outputs": [
    {
     "data": {
      "text/plain": [
       "[]"
      ]
     },
     "execution_count": 8,
     "metadata": {},
     "output_type": "execute_result"
    }
   ],
   "execution_count": 8
  },
  {
   "metadata": {
    "ExecuteTime": {
     "end_time": "2024-10-08T15:12:16.790510Z",
     "start_time": "2024-10-08T15:12:16.785790Z"
    }
   },
   "cell_type": "code",
   "source": [
    "file_LG = open(\"LG_cm_out.txt\", \"r\")\n",
    "lines1 = file_LG.readlines()\n",
    "file_LG.close()\n",
    "\n",
    "# Extract the data\n",
    "data1 = []\n",
    "mu_data1 = []\n",
    "var_data1 = []\n",
    "\n",
    "read_flag = False\n",
    "for line in lines1:\n",
    "    if line.startswith(\"Posterior\"):\n",
    "        read_flag = True\n",
    "    if read_flag and line.startswith(\"t\"):\n",
    "        data1.append(line)\n",
    "    if read_flag and line.startswith(\"mu\"):\n",
    "        mu_data1.append(line)\n",
    "    if read_flag and line.startswith(\"sigma\"):\n",
    "        var_data1.append(line)\n",
    "\n",
    "        \n",
    "for line in data1:\n",
    "    line = line.strip().split()\n",
    "    # node_name.append(line[0])\n",
    "    posterior_mean_baseml.append(float(line[1]))\n",
    "#     if line[3].startswith('('):\n",
    "#         lower_ci_baseml.append(float(line[3][1:-1]))\n",
    "#     else:\n",
    "#          lower_ci_baseml.append(float(line[3][:-1]))\n",
    "#     if line[4].startswith('('):\n",
    "#         upper_ci_baseml.append(float(line[4][1:-1]))\n",
    "#     else:\n",
    "#          upper_ci_baseml.append(float(line[4][:-1]))\n",
    "#         \n",
    "#     \n",
    "# for line in mu_data1:\n",
    "#     line = line.strip().split()\n",
    "#     # node_name.append(line[0])\n",
    "#     posterior_mean_mu_baseml.append(float(line[1]))\n",
    "#     lower_ci_mu_baseml.append(float(line[3][:-1]))\n",
    "#     upper_ci_mu_baseml.append(float(line[4][:-1]))\n",
    "    \n",
    "# for line in var_data1:\n",
    "#     line = line.strip().split()\n",
    "#     # node_name.append(line[0])\n",
    "#     posterior_mean_var_baseml.append(float(line[1]))\n",
    "#     lower_ci_var_baseml.append(float(line[3][:-1]))\n",
    "#     upper_ci_var_baseml.append(float(line[4][:-1]))"
   ],
   "id": "f75c012c6bef60a2",
   "outputs": [],
   "execution_count": 9
  },
  {
   "metadata": {
    "ExecuteTime": {
     "end_time": "2024-10-08T15:12:16.838045Z",
     "start_time": "2024-10-08T15:12:16.834872Z"
    }
   },
   "cell_type": "code",
   "source": [
    "import matplotlib.pyplot as plt\n",
    "import numpy as np\n",
    "\n",
    "# # Example data\n",
    "# # Posterior means for MCMCtree (x-axis) and McmcDate (y-axis)\n",
    "# posterior_mean_mcmctree = [100, 200, 300, 400, 500, 600, 700, 800, 900, 1000]\n",
    "# posterior_mean_mcmcdate = [110, 210, 310, 410, 510, 610, 710, 810, 910, 1010]\n",
    "# \n",
    "# # Credible intervals for MCMCtree\n",
    "# lower_ci_mcmctree = [90, 180, 270, 360, 450, 540, 630, 720, 810, 900]\n",
    "# upper_ci_mcmctree = [110, 220, 330, 440, 550, 660, 770, 880, 990, 1100]\n",
    "# \n",
    "# # Credible intervals for McmcDate\n",
    "# lower_ci_mcmcdate = [100, 200, 300, 400, 500, 600, 700, 800, 900, 1000]\n",
    "# upper_ci_mcmcdate = [120, 220, 320, 420, 520, 620, 720, 820, 920, 1020]\n",
    "\n",
    "# Calculate error bars\n",
    "# xerr = [np.array(lower_ci_baseml), \n",
    "#         np.array(upper_ci_baseml)]\n",
    "# yerr = [np.array(lower_ci_iqtree), \n",
    "#         np.array(upper_ci_iqtree)]\n",
    "# \n",
    "# # Plotting\n",
    "# fig, ax = plt.subplots(figsize=(15, 15))\n",
    "# ax.plot([-0.1,90], \n",
    "#         [-0.1, 90], \n",
    "#         'k--', label='y=x')\n",
    "# ax.errorbar(posterior_mean_baseml, posterior_mean_iqtree, \n",
    "#             xerr=xerr, yerr=yerr, fmt='*', ecolor='r', capsize=3, label='95% HPD CI')\n",
    "# \n",
    "# # Labels and title\n",
    "# ax.set_xlabel('Posterior mean age LG [100 Mya]', fontsize=18)\n",
    "# ax.set_ylabel('Posterior mean age LG+G4 [100 Mya]', fontsize=18)\n",
    "# ax.set_title('Posterior mean age comparison between LG and LG+G4 models [t116 ~ B(1.25,2.482)]')\n",
    "# ax.legend()\n",
    "# \n",
    "# # Show plot\n",
    "# # plt.show()\n",
    "# plt.savefig('./animal_origin_posterior_mean_age_comparison_LG_G4_c11.png')"
   ],
   "id": "12db486fa4fac82c",
   "outputs": [],
   "execution_count": 10
  },
  {
   "metadata": {
    "ExecuteTime": {
     "end_time": "2024-10-08T15:12:16.892249Z",
     "start_time": "2024-10-08T15:12:16.887533Z"
    }
   },
   "cell_type": "code",
   "source": "posterior_mean_baseml",
   "id": "917b2e31cff4b992",
   "outputs": [
    {
     "data": {
      "text/plain": [
       "[6.7484,\n",
       " 6.6132,\n",
       " 6.3617,\n",
       " 6.0952,\n",
       " 5.9962,\n",
       " 5.8609,\n",
       " 5.6516,\n",
       " 4.2185,\n",
       " 5.0804,\n",
       " 4.5598,\n",
       " 4.2719,\n",
       " 3.4945,\n",
       " 3.2015,\n",
       " 1.877,\n",
       " 0.9247,\n",
       " 4.4247,\n",
       " 5.8842,\n",
       " 5.3363,\n",
       " 5.6838,\n",
       " 5.0611,\n",
       " 4.6602,\n",
       " 5.1637,\n",
       " 5.9208,\n",
       " 5.7849,\n",
       " 5.6793,\n",
       " 5.5435,\n",
       " 5.3809,\n",
       " 5.3051,\n",
       " 5.1558,\n",
       " 5.0196,\n",
       " 4.8206,\n",
       " 4.215,\n",
       " 3.7836,\n",
       " 5.1016,\n",
       " 4.6265,\n",
       " 5.8592,\n",
       " 3.6989,\n",
       " 5.7907,\n",
       " 5.6533,\n",
       " 5.4606,\n",
       " 5.3252,\n",
       " 4.7348,\n",
       " 4.9157,\n",
       " 5.3143,\n",
       " 5.1018,\n",
       " 4.6516,\n",
       " 4.3733,\n",
       " 4.9219,\n",
       " 6.1088,\n",
       " 5.4774,\n",
       " 4.4321,\n",
       " 4.4162,\n",
       " 5.6189]"
      ]
     },
     "execution_count": 11,
     "metadata": {},
     "output_type": "execute_result"
    }
   ],
   "execution_count": 11
  },
  {
   "metadata": {
    "ExecuteTime": {
     "end_time": "2024-10-08T15:12:16.950392Z",
     "start_time": "2024-10-08T15:12:16.946061Z"
    }
   },
   "cell_type": "code",
   "source": "posterior_mean_iqtree",
   "id": "59ad8fd34f7bbf11",
   "outputs": [
    {
     "data": {
      "text/plain": [
       "[6.7027,\n",
       " 6.5599,\n",
       " 6.3619,\n",
       " 6.0789,\n",
       " 5.9975,\n",
       " 5.8893,\n",
       " 5.7091,\n",
       " 4.1637,\n",
       " 5.0948,\n",
       " 4.5486,\n",
       " 4.2708,\n",
       " 3.4955,\n",
       " 3.2003,\n",
       " 1.8789,\n",
       " 0.924,\n",
       " 4.4136,\n",
       " 5.92,\n",
       " 5.6315,\n",
       " 5.7323,\n",
       " 5.0666,\n",
       " 4.7175,\n",
       " 5.1702,\n",
       " 5.8924,\n",
       " 5.7669,\n",
       " 5.669,\n",
       " 5.5395,\n",
       " 5.3695,\n",
       " 5.3068,\n",
       " 5.1537,\n",
       " 5.0222,\n",
       " 4.8381,\n",
       " 4.1666,\n",
       " 3.8138,\n",
       " 5.0936,\n",
       " 4.6182,\n",
       " 5.8417,\n",
       " 3.2635,\n",
       " 5.7832,\n",
       " 5.6486,\n",
       " 5.4566,\n",
       " 5.3262,\n",
       " 4.7005,\n",
       " 4.9257,\n",
       " 5.2965,\n",
       " 5.1473,\n",
       " 4.7971,\n",
       " 4.3058,\n",
       " 4.8431,\n",
       " 6.1282,\n",
       " 5.4756,\n",
       " 4.3897,\n",
       " 4.2759,\n",
       " 5.5625]"
      ]
     },
     "execution_count": 12,
     "metadata": {},
     "output_type": "execute_result"
    }
   ],
   "execution_count": 12
  },
  {
   "metadata": {
    "ExecuteTime": {
     "end_time": "2024-10-08T15:12:17.311150Z",
     "start_time": "2024-10-08T15:12:17.135380Z"
    }
   },
   "cell_type": "code",
   "source": [
    "# Calculate error bars\n",
    "xerr = [np.array(lower_ci_baseml), \n",
    "        np.array(upper_ci_baseml)]\n",
    "yerr = [np.array(lower_ci_iqtree), \n",
    "        np.array(upper_ci_iqtree)]\n",
    "\n",
    "# Plotting\n",
    "fig, ax = plt.subplots(figsize=(9 ,9))\n",
    "ax.plot([-0.1,17], \n",
    "        [-0.1, 17], \n",
    "        'k--', label='y=x')\n",
    "ax.plot(posterior_mean_baseml, posterior_mean_iqtree, 'o', label='Posterior mean age')\n",
    " \n",
    "# Labels and title\n",
    "ax.set_xlabel('Posterior mean age LG [Mya]', fontsize=18)\n",
    "ax.set_ylabel('Posterior mean age LG+G4 [Mya]', fontsize=18)\n",
    "ax.set_title('Posterior mean age comparison between LG and LG+G4 [cherry and middle calibrations]')\n",
    "ax.legend()\n",
    "\n",
    "# point_x = posterior_mean_baseml[0]  # Example: first point in the list\n",
    "# point_y = posterior_mean_iqtree[0]  # Example: first point in the list\n",
    "# ax.annotate('Root age', xy=(point_x, point_y), xytext=(point_x - 0.1, point_y - 0.1), color='red')\n",
    "# Show plot\n",
    "# plt.show()\n",
    "plt.savefig('./metazoa_posterior_mean_age_comparison_LG_G4_cm_scatter.png')"
   ],
   "id": "592d0bb72aa1ad4c",
   "outputs": [
    {
     "data": {
      "text/plain": [
       "<Figure size 900x900 with 1 Axes>"
      ],
      "image/png": "[encoded data removed]"
     },
     "metadata": {},
     "output_type": "display_data"
    }
   ],
   "execution_count": 13
  },
  {
   "metadata": {
    "ExecuteTime": {
     "end_time": "2024-10-08T15:12:17.326849Z",
     "start_time": "2024-10-08T15:12:17.324135Z"
    }
   },
   "cell_type": "code",
   "source": [
    "# fig, ax = plt.subplots(figsize=(9 ,9))\n",
    "# ax.plot([0.01,0.04], \n",
    "#         [0.01, 0.04], \n",
    "#         'k--', label='y=x')\n",
    "# ax.plot(posterior_mean_mu_baseml, posterior_mean_mu_iqtree, 'o', label='Posterior mean rates for partitions')\n",
    "#  \n",
    "# # Labels and title\n",
    "# ax.set_xlabel('Posterior mean rate [LG]', fontsize=18)\n",
    "# ax.set_ylabel('Posterior mean rate [LG+G4]', fontsize=18)\n",
    "# ax.set_title('Posterior mean rate comparison between LG and LG+G4 [Cherry only calibration/IQ-TREE]')\n",
    "# ax.legend()\n",
    "# \n",
    "# # point_x = posterior_mean_baseml[0]  # Example: first point in the list\n",
    "# # point_y = posterior_mean_iqtree[0]  # Example: first point in the list\n",
    "# # ax.annotate('Root age', xy=(point_x, point_y), xytext=(point_x - 0.1, point_y - 0.1), color='red')\n",
    "# # Show plot\n",
    "# # plt.show()\n",
    "# plt.savefig('./animal_origin__posterior_mean_rate_comparison_LG_G4_all_scatter.png')"
   ],
   "id": "c6d69ee36c77970c",
   "outputs": [],
   "execution_count": 14
  },
  {
   "metadata": {
    "ExecuteTime": {
     "end_time": "2024-10-08T15:12:17.371749Z",
     "start_time": "2024-10-08T15:12:17.369772Z"
    }
   },
   "cell_type": "code",
   "source": "",
   "id": "ca69d5b521db3aa7",
   "outputs": [],
   "execution_count": null
  }
 ],
 "metadata": {
  "kernelspec": {
   "display_name": "Python 3",
   "language": "python",
   "name": "python3"
  },
  "language_info": {
   "codemirror_mode": {
    "name": "ipython",
    "version": 2
   },
   "file_extension": ".py",
   "mimetype": "text/x-python",
   "name": "python",
   "nbconvert_exporter": "python",
   "pygments_lexer": "ipython2",
   "version": "2.7.6"
  }
 },
 "nbformat": 4,
 "nbformat_minor": 5
}
