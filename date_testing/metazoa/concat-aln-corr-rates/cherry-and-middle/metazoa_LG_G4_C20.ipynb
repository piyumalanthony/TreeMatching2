{
 "cells": [
  {
   "cell_type": "code",
   "id": "initial_id",
   "metadata": {
    "collapsed": true,
    "ExecuteTime": {
     "end_time": "2024-10-08T15:13:04.439730Z",
     "start_time": "2024-10-08T15:13:04.031629Z"
    }
   },
   "source": [
    "# Code to get all the Posterior mean (95% Equal-tail CI) (95% HPD CI) HPD-CI-width from ./xenarthra_mcmc_out.txt\n",
    "import numpy as np\n",
    "import pandas as pd\n",
    "import matplotlib.pyplot as plt\n",
    "\n",
    "\n",
    "# Read the file\n",
    "file = open(\"LG_G4_C20_cm_out.txt\", \"r\")\n",
    "lines = file.readlines()\n",
    "file.close()\n",
    "\n",
    "# Extract the data\n",
    "data = []\n",
    "mu_data = []\n",
    "var_data = []\n",
    "\n",
    "read_flag = False\n",
    "for line in lines:\n",
    "    if line.startswith(\"Posterior\"):\n",
    "        read_flag = True\n",
    "    if read_flag and line.startswith(\"t\"):\n",
    "        data.append(line)\n",
    "    if read_flag and line.startswith(\"mu\"):\n",
    "        mu_data.append(line)\n",
    "    if read_flag and line.startswith(\"sigma\"):\n",
    "        var_data.append(line)"
   ],
   "outputs": [],
   "execution_count": 1
  },
  {
   "metadata": {
    "ExecuteTime": {
     "end_time": "2024-10-08T15:13:04.457620Z",
     "start_time": "2024-10-08T15:13:04.448931Z"
    }
   },
   "cell_type": "code",
   "source": "data",
   "id": "54808ee54195795",
   "outputs": [
    {
     "data": {
      "text/plain": [
       "['t_n55          6.6877 ( 6.4235,  7.2371) ( 6.3682,  7.1088)  0.7405 (Jnode 106)\\n',\n",
       " 't_n56          6.5152 ( 6.3663,  6.6924) ( 6.3594,  6.6828)  0.3235 (Jnode 105)\\n',\n",
       " 't_n57          6.3568 ( 6.2437,  6.4627) ( 6.2480,  6.4666)  0.2186 (Jnode 104)\\n',\n",
       " 't_n58          6.0592 ( 5.9436,  6.1670) ( 5.9480,  6.1697)  0.2216 (Jnode 103)\\n',\n",
       " 't_n59          5.9875 ( 5.8714,  6.0960) ( 5.8771,  6.1008)  0.2237 (Jnode 102)\\n',\n",
       " 't_n60          5.8856 ( 5.7565,  6.0054) ( 5.7643,  6.0118)  0.2475 (Jnode 101)\\n',\n",
       " 't_n61          5.7332 ( 5.5564,  5.8808) ( 5.5628,  5.8852)  0.3224 (Jnode 100)\\n',\n",
       " 't_n62          3.9997 ( 1.8177,  5.0656) ( 2.2666,  5.1999)  2.9333 (Jnode 99)\\n',\n",
       " 't_n63          5.0887 ( 4.8265,  5.3431) ( 4.8185,  5.3331)  0.5147 (Jnode 98)\\n',\n",
       " 't_n64          4.5279 ( 4.3853,  4.6792) ( 4.3936,  4.6856)  0.2920 (Jnode 97)\\n',\n",
       " 't_n65          4.2685 ( 4.2084,  4.4143) ( 4.2062,  4.3822)  0.1760 (Jnode 96)\\n',\n",
       " 't_n66          3.4966 ( 3.4520,  3.5187) ( 3.4596,  3.5228)  0.0632 (Jnode 95)\\n',\n",
       " 't_n67          3.1990 ( 3.1804,  3.2446) ( 3.1796,  3.2343)  0.0547 (Jnode 94)\\n',\n",
       " 't_n68          1.8819 ( 1.6709,  2.0218) ( 1.6804,  2.0276)  0.3472 (Jnode 93)\\n',\n",
       " 't_n69          0.9106 ( 0.6336,  1.3011) ( 0.6155,  1.2355)  0.6200 (Jnode 92)\\n',\n",
       " 't_n70          4.3951 ( 3.7150,  4.9064) ( 3.7693,  4.9462)  1.1770 (Jnode 91)\\n',\n",
       " 't_n71          5.9321 ( 5.8120,  6.0439) ( 5.8167,  6.0479)  0.2312 (Jnode 90)\\n',\n",
       " 't_n72          5.8299 ( 5.6727,  5.9651) ( 5.6830,  5.9732)  0.2902 (Jnode 89)\\n',\n",
       " 't_n73          5.7556 ( 5.6082,  5.8835) ( 5.6141,  5.8879)  0.2738 (Jnode 88)\\n',\n",
       " 't_n74          5.0445 ( 4.2275,  5.4143) ( 4.4022,  5.4878)  1.0855 (Jnode 87)\\n',\n",
       " 't_n75          4.7594 ( 3.6916,  5.2755) ( 3.9318,  5.3440)  1.4122 (Jnode 86)\\n',\n",
       " 't_n76          5.1659 ( 5.0475,  5.4007) ( 5.0423,  5.3560)  0.3137 (Jnode 85)\\n',\n",
       " 't_n77          5.8765 ( 5.7733,  5.9782) ( 5.7720,  5.9765)  0.2046 (Jnode 84)\\n',\n",
       " 't_n78          5.7650 ( 5.6689,  5.8629) ( 5.6670,  5.8609)  0.1938 (Jnode 83)\\n',\n",
       " 't_n79          5.6823 ( 5.5900,  5.7819) ( 5.5886,  5.7801)  0.1915 (Jnode 82)\\n',\n",
       " 't_n80          5.5262 ( 5.4527,  5.6138) ( 5.4488,  5.6080)  0.1592 (Jnode 81)\\n',\n",
       " 't_n81          5.3580 ( 5.3214,  5.3974) ( 5.3206,  5.3963)  0.0757 (Jnode 80)\\n',\n",
       " 't_n82          5.3076 ( 5.2810,  5.3278) ( 5.2824,  5.3289)  0.0464 (Jnode 79)\\n',\n",
       " 't_n83          5.1537 ( 5.1403,  5.1817) ( 5.1396,  5.1763)  0.0366 (Jnode 78)\\n',\n",
       " 't_n84          5.0197 ( 4.9909,  5.0709) ( 4.9895,  5.0611)  0.0716 (Jnode 77)\\n',\n",
       " 't_n85          4.8590 ( 4.7118,  4.9674) ( 4.7328,  4.9796)  0.2468 (Jnode 76)\\n',\n",
       " 't_n86          4.0935 ( 3.4168,  4.4101) ( 3.4510,  4.4296)  0.9786 (Jnode 75)\\n',\n",
       " 't_n87          3.8302 ( 3.1277,  4.1585) ( 3.1765,  4.1868)  1.0103 (Jnode 74)\\n',\n",
       " 't_n88          5.0814 ( 4.9823,  5.1829) ( 4.9747,  5.1704)  0.1957 (Jnode 73)\\n',\n",
       " 't_n89          4.6214 ( 4.2038,  4.9259) ( 4.2037,  4.9254)  0.7216 (Jnode 72)\\n',\n",
       " 't_n90          5.8375 ( 5.7378,  5.9365) ( 5.7380,  5.9366)  0.1986 (Jnode 71)\\n',\n",
       " 't_n91          2.8356 ( 0.5303,  4.5696) ( 0.5302,  4.5694)  4.0392 (Jnode 70)\\n',\n",
       " 't_n92          5.7860 ( 5.6920,  5.8814) ( 5.6903,  5.8793)  0.1890 (Jnode 69)\\n',\n",
       " 't_n93          5.6540 ( 5.5724,  5.7365) ( 5.5704,  5.7339)  0.1635 (Jnode 68)\\n',\n",
       " 't_n94          5.4550 ( 5.4040,  5.4920) ( 5.4080,  5.4944)  0.0864 (Jnode 67)\\n',\n",
       " 't_n95          5.3272 ( 5.3007,  5.3806) ( 5.2994,  5.3710)  0.0715 (Jnode 66)\\n',\n",
       " 't_n96          4.6166 ( 3.4970,  5.0659) ( 3.8280,  5.1573)  1.3293 (Jnode 65)\\n',\n",
       " 't_n97          4.9434 ( 4.7298,  5.1639) ( 4.7166,  5.1482)  0.4316 (Jnode 64)\\n',\n",
       " 't_n98          5.2695 ( 4.9213,  5.4488) ( 4.9977,  5.4809)  0.4831 (Jnode 63)\\n',\n",
       " 't_n99          5.1648 ( 4.7547,  5.3764) ( 4.8301,  5.4157)  0.5857 (Jnode 62)\\n',\n",
       " 't_n100         4.9190 ( 4.2813,  5.2501) ( 4.3915,  5.3246)  0.9331 (Jnode 61)\\n',\n",
       " 't_n101         4.1046 ( 2.6596,  4.9254) ( 3.1659,  5.0531)  1.8872 (Jnode 60)\\n',\n",
       " 't_n102         4.8488 ( 3.6707,  5.3349) ( 4.0335,  5.3961)  1.3627 (Jnode 59)\\n',\n",
       " 't_n103         6.1139 ( 5.8581,  6.2645) ( 5.8984,  6.2855)  0.3871 (Jnode 58)\\n',\n",
       " 't_n104         5.3856 ( 4.4595,  5.8908) ( 4.6934,  5.9451)  1.2517 (Jnode 57)\\n',\n",
       " 't_n105         4.2183 ( 2.1045,  5.3481) ( 2.5999,  5.5191)  2.9191 (Jnode 56)\\n',\n",
       " 't_n106         3.9583 ( 1.1916,  5.2846) ( 1.5799,  5.3986)  3.8187 (Jnode 55)\\n',\n",
       " 't_n107         5.4558 ( 3.9320,  6.5204) ( 4.0408,  6.5705)  2.5297 (Jnode 54)\\n']"
      ]
     },
     "execution_count": 2,
     "metadata": {},
     "output_type": "execute_result"
    }
   ],
   "execution_count": 2
  },
  {
   "metadata": {
    "ExecuteTime": {
     "end_time": "2024-10-08T15:13:04.642734Z",
     "start_time": "2024-10-08T15:13:04.639126Z"
    }
   },
   "cell_type": "code",
   "source": [
    "node_name = []\n",
    "posterior_mean_iqtree = []\n",
    "posterior_mean_baseml = []\n",
    "\n",
    "posterior_mean_mu_iqtree = []\n",
    "posterior_mean_mu_baseml = []\n",
    "\n",
    "posterior_mean_var_iqtree = []\n",
    "posterior_mean_var_baseml = []\n",
    "\n",
    "lower_ci_iqtree = []\n",
    "upper_ci_iqtree = []\n",
    "\n",
    "lower_ci_mu_iqtree = []\n",
    "upper_ci_mu_iqtree = []\n",
    "\n",
    "lower_ci_var_iqtree = []\n",
    "upper_ci_var_iqtree = []\n",
    "\n",
    "# Credible intervals for McmcDate\n",
    "lower_ci_baseml = []\n",
    "upper_ci_baseml = []\n",
    "\n",
    "lower_ci_mu_baseml = []\n",
    "upper_ci_mu_baseml = []\n",
    "\n",
    "lower_ci_var_baseml = []\n",
    "upper_ci_var_baseml = []"
   ],
   "id": "e5cf93a69d327e61",
   "outputs": [],
   "execution_count": 3
  },
  {
   "metadata": {
    "ExecuteTime": {
     "end_time": "2024-10-08T15:13:04.702680Z",
     "start_time": "2024-10-08T15:13:04.699441Z"
    }
   },
   "cell_type": "code",
   "source": [
    "for line in data:\n",
    "    line = line.strip().split()\n",
    "    node_name.append(line[0])\n",
    "    posterior_mean_iqtree.append(float(line[1]))\n",
    "#     if line[3].startswith('('):\n",
    "#         lower_ci_iqtree.append(float(line[3][1:-1]))\n",
    "#     else:\n",
    "#         lower_ci_iqtree.append(float(line[3][1:-1]))\n",
    "#     if line[4].startswith('('):\n",
    "#         upper_ci_iqtree.append(float(line[4][1:-1]))\n",
    "#     else:\n",
    "#         upper_ci_iqtree.append(float(line[4][:-1]))\n",
    "#     # posterior_mean_baseml.append(float(line[4]))\n",
    "#     # lower_ci_baseml.append(float(line[5]))\n",
    "#     # upper_ci_baseml.append(float(line[6]))\n",
    "# \n",
    "# for line in mu_data:\n",
    "#     line = line.strip().split()\n",
    "#     # node_name.append(line[0])\n",
    "#     posterior_mean_mu_iqtree.append(float(line[1]))\n",
    "#     lower_ci_mu_iqtree.append(float(line[3][:-1]))\n",
    "#     upper_ci_mu_iqtree.append(float(line[4][:-1]))\n",
    "#\n",
    "# for line in var_data:\n",
    "#     line = line.strip().split()\n",
    "#     # node_name.append(line[0])\n",
    "#     posterior_mean_var_iqtree.append(float(line[1]))\n",
    "#     lower_ci_var_iqtree.append(float(line[3][:-1]))\n",
    "#     upper_ci_var_iqtree.append(float(line[4][:-1]))"
   ],
   "id": "4e79ee928ea76b59",
   "outputs": [],
   "execution_count": 4
  },
  {
   "metadata": {
    "ExecuteTime": {
     "end_time": "2024-10-08T15:13:04.755169Z",
     "start_time": "2024-10-08T15:13:04.751493Z"
    }
   },
   "cell_type": "code",
   "source": "node_name",
   "id": "2c17f55ec9626a0b",
   "outputs": [
    {
     "data": {
      "text/plain": [
       "['t_n55',\n",
       " 't_n56',\n",
       " 't_n57',\n",
       " 't_n58',\n",
       " 't_n59',\n",
       " 't_n60',\n",
       " 't_n61',\n",
       " 't_n62',\n",
       " 't_n63',\n",
       " 't_n64',\n",
       " 't_n65',\n",
       " 't_n66',\n",
       " 't_n67',\n",
       " 't_n68',\n",
       " 't_n69',\n",
       " 't_n70',\n",
       " 't_n71',\n",
       " 't_n72',\n",
       " 't_n73',\n",
       " 't_n74',\n",
       " 't_n75',\n",
       " 't_n76',\n",
       " 't_n77',\n",
       " 't_n78',\n",
       " 't_n79',\n",
       " 't_n80',\n",
       " 't_n81',\n",
       " 't_n82',\n",
       " 't_n83',\n",
       " 't_n84',\n",
       " 't_n85',\n",
       " 't_n86',\n",
       " 't_n87',\n",
       " 't_n88',\n",
       " 't_n89',\n",
       " 't_n90',\n",
       " 't_n91',\n",
       " 't_n92',\n",
       " 't_n93',\n",
       " 't_n94',\n",
       " 't_n95',\n",
       " 't_n96',\n",
       " 't_n97',\n",
       " 't_n98',\n",
       " 't_n99',\n",
       " 't_n100',\n",
       " 't_n101',\n",
       " 't_n102',\n",
       " 't_n103',\n",
       " 't_n104',\n",
       " 't_n105',\n",
       " 't_n106',\n",
       " 't_n107']"
      ]
     },
     "execution_count": 5,
     "metadata": {},
     "output_type": "execute_result"
    }
   ],
   "execution_count": 5
  },
  {
   "metadata": {
    "ExecuteTime": {
     "end_time": "2024-10-08T15:13:04.815360Z",
     "start_time": "2024-10-08T15:13:04.811993Z"
    }
   },
   "cell_type": "code",
   "source": "posterior_mean_iqtree",
   "id": "24a55c806a41f33e",
   "outputs": [
    {
     "data": {
      "text/plain": [
       "[6.6877,\n",
       " 6.5152,\n",
       " 6.3568,\n",
       " 6.0592,\n",
       " 5.9875,\n",
       " 5.8856,\n",
       " 5.7332,\n",
       " 3.9997,\n",
       " 5.0887,\n",
       " 4.5279,\n",
       " 4.2685,\n",
       " 3.4966,\n",
       " 3.199,\n",
       " 1.8819,\n",
       " 0.9106,\n",
       " 4.3951,\n",
       " 5.9321,\n",
       " 5.8299,\n",
       " 5.7556,\n",
       " 5.0445,\n",
       " 4.7594,\n",
       " 5.1659,\n",
       " 5.8765,\n",
       " 5.765,\n",
       " 5.6823,\n",
       " 5.5262,\n",
       " 5.358,\n",
       " 5.3076,\n",
       " 5.1537,\n",
       " 5.0197,\n",
       " 4.859,\n",
       " 4.0935,\n",
       " 3.8302,\n",
       " 5.0814,\n",
       " 4.6214,\n",
       " 5.8375,\n",
       " 2.8356,\n",
       " 5.786,\n",
       " 5.654,\n",
       " 5.455,\n",
       " 5.3272,\n",
       " 4.6166,\n",
       " 4.9434,\n",
       " 5.2695,\n",
       " 5.1648,\n",
       " 4.919,\n",
       " 4.1046,\n",
       " 4.8488,\n",
       " 6.1139,\n",
       " 5.3856,\n",
       " 4.2183,\n",
       " 3.9583,\n",
       " 5.4558]"
      ]
     },
     "execution_count": 6,
     "metadata": {},
     "output_type": "execute_result"
    }
   ],
   "execution_count": 6
  },
  {
   "metadata": {
    "ExecuteTime": {
     "end_time": "2024-10-08T15:13:04.878995Z",
     "start_time": "2024-10-08T15:13:04.875564Z"
    }
   },
   "cell_type": "code",
   "source": "lower_ci_iqtree",
   "id": "388aa27ad336d43f",
   "outputs": [
    {
     "data": {
      "text/plain": [
       "[]"
      ]
     },
     "execution_count": 7,
     "metadata": {},
     "output_type": "execute_result"
    }
   ],
   "execution_count": 7
  },
  {
   "metadata": {
    "ExecuteTime": {
     "end_time": "2024-10-08T15:13:04.939841Z",
     "start_time": "2024-10-08T15:13:04.936564Z"
    }
   },
   "cell_type": "code",
   "source": "upper_ci_iqtree",
   "id": "816e569fb763e797",
   "outputs": [
    {
     "data": {
      "text/plain": [
       "[]"
      ]
     },
     "execution_count": 8,
     "metadata": {},
     "output_type": "execute_result"
    }
   ],
   "execution_count": 8
  },
  {
   "metadata": {
    "ExecuteTime": {
     "end_time": "2024-10-08T15:13:05.003278Z",
     "start_time": "2024-10-08T15:13:04.996156Z"
    }
   },
   "cell_type": "code",
   "source": [
    "file_LG = open(\"LG_cm_out.txt\", \"r\")\n",
    "lines1 = file_LG.readlines()\n",
    "file_LG.close()\n",
    "\n",
    "# Extract the data\n",
    "data1 = []\n",
    "mu_data1 = []\n",
    "var_data1 = []\n",
    "\n",
    "read_flag = False\n",
    "for line in lines1:\n",
    "    if line.startswith(\"Posterior\"):\n",
    "        read_flag = True\n",
    "    if read_flag and line.startswith(\"t\"):\n",
    "        data1.append(line)\n",
    "    if read_flag and line.startswith(\"mu\"):\n",
    "        mu_data1.append(line)\n",
    "    if read_flag and line.startswith(\"sigma\"):\n",
    "        var_data1.append(line)\n",
    "\n",
    "        \n",
    "for line in data1:\n",
    "    line = line.strip().split()\n",
    "    # node_name.append(line[0])\n",
    "    posterior_mean_baseml.append(float(line[1]))\n",
    "#     if line[3].startswith('('):\n",
    "#         lower_ci_baseml.append(float(line[3][1:-1]))\n",
    "#     else:\n",
    "#          lower_ci_baseml.append(float(line[3][:-1]))\n",
    "#     if line[4].startswith('('):\n",
    "#         upper_ci_baseml.append(float(line[4][1:-1]))\n",
    "#     else:\n",
    "#          upper_ci_baseml.append(float(line[4][:-1]))\n",
    "#         \n",
    "#     \n",
    "# for line in mu_data1:\n",
    "#     line = line.strip().split()\n",
    "#     # node_name.append(line[0])\n",
    "#     posterior_mean_mu_baseml.append(float(line[1]))\n",
    "#     lower_ci_mu_baseml.append(float(line[3][:-1]))\n",
    "#     upper_ci_mu_baseml.append(float(line[4][:-1]))\n",
    "    \n",
    "# for line in var_data1:\n",
    "#     line = line.strip().split()\n",
    "#     # node_name.append(line[0])\n",
    "#     posterior_mean_var_baseml.append(float(line[1]))\n",
    "#     lower_ci_var_baseml.append(float(line[3][:-1]))\n",
    "#     upper_ci_var_baseml.append(float(line[4][:-1]))"
   ],
   "id": "f75c012c6bef60a2",
   "outputs": [],
   "execution_count": 9
  },
  {
   "metadata": {
    "ExecuteTime": {
     "end_time": "2024-10-08T15:13:05.053972Z",
     "start_time": "2024-10-08T15:13:05.049928Z"
    }
   },
   "cell_type": "code",
   "source": [
    "import matplotlib.pyplot as plt\n",
    "import numpy as np\n",
    "\n",
    "# # Example data\n",
    "# # Posterior means for MCMCtree (x-axis) and McmcDate (y-axis)\n",
    "# posterior_mean_mcmctree = [100, 200, 300, 400, 500, 600, 700, 800, 900, 1000]\n",
    "# posterior_mean_mcmcdate = [110, 210, 310, 410, 510, 610, 710, 810, 910, 1010]\n",
    "# \n",
    "# # Credible intervals for MCMCtree\n",
    "# lower_ci_mcmctree = [90, 180, 270, 360, 450, 540, 630, 720, 810, 900]\n",
    "# upper_ci_mcmctree = [110, 220, 330, 440, 550, 660, 770, 880, 990, 1100]\n",
    "# \n",
    "# # Credible intervals for McmcDate\n",
    "# lower_ci_mcmcdate = [100, 200, 300, 400, 500, 600, 700, 800, 900, 1000]\n",
    "# upper_ci_mcmcdate = [120, 220, 320, 420, 520, 620, 720, 820, 920, 1020]\n",
    "\n",
    "# Calculate error bars\n",
    "# xerr = [np.array(lower_ci_baseml), \n",
    "#         np.array(upper_ci_baseml)]\n",
    "# yerr = [np.array(lower_ci_iqtree), \n",
    "#         np.array(upper_ci_iqtree)]\n",
    "# \n",
    "# # Plotting\n",
    "# fig, ax = plt.subplots(figsize=(15, 15))\n",
    "# ax.plot([-0.1,90], \n",
    "#         [-0.1, 90], \n",
    "#         'k--', label='y=x')\n",
    "# ax.errorbar(posterior_mean_baseml, posterior_mean_iqtree, \n",
    "#             xerr=xerr, yerr=yerr, fmt='*', ecolor='r', capsize=3, label='95% HPD CI')\n",
    "# \n",
    "# # Labels and title\n",
    "# ax.set_xlabel('Posterior mean age LG [100 Mya]', fontsize=18)\n",
    "# ax.set_ylabel('Posterior mean age LG+G4 [100 Mya]', fontsize=18)\n",
    "# ax.set_title('Posterior mean age comparison between LG and LG+G4 models [t116 ~ B(1.25,2.482)]')\n",
    "# ax.legend()\n",
    "# \n",
    "# # Show plot\n",
    "# # plt.show()\n",
    "# plt.savefig('./animal_origin_posterior_mean_age_comparison_LG_G4_c11.png')"
   ],
   "id": "12db486fa4fac82c",
   "outputs": [],
   "execution_count": 10
  },
  {
   "metadata": {
    "ExecuteTime": {
     "end_time": "2024-10-08T15:13:05.114200Z",
     "start_time": "2024-10-08T15:13:05.109650Z"
    }
   },
   "cell_type": "code",
   "source": "posterior_mean_baseml",
   "id": "917b2e31cff4b992",
   "outputs": [
    {
     "data": {
      "text/plain": [
       "[6.7484,\n",
       " 6.6132,\n",
       " 6.3617,\n",
       " 6.0952,\n",
       " 5.9962,\n",
       " 5.8609,\n",
       " 5.6516,\n",
       " 4.2185,\n",
       " 5.0804,\n",
       " 4.5598,\n",
       " 4.2719,\n",
       " 3.4945,\n",
       " 3.2015,\n",
       " 1.877,\n",
       " 0.9247,\n",
       " 4.4247,\n",
       " 5.8842,\n",
       " 5.3363,\n",
       " 5.6838,\n",
       " 5.0611,\n",
       " 4.6602,\n",
       " 5.1637,\n",
       " 5.9208,\n",
       " 5.7849,\n",
       " 5.6793,\n",
       " 5.5435,\n",
       " 5.3809,\n",
       " 5.3051,\n",
       " 5.1558,\n",
       " 5.0196,\n",
       " 4.8206,\n",
       " 4.215,\n",
       " 3.7836,\n",
       " 5.1016,\n",
       " 4.6265,\n",
       " 5.8592,\n",
       " 3.6989,\n",
       " 5.7907,\n",
       " 5.6533,\n",
       " 5.4606,\n",
       " 5.3252,\n",
       " 4.7348,\n",
       " 4.9157,\n",
       " 5.3143,\n",
       " 5.1018,\n",
       " 4.6516,\n",
       " 4.3733,\n",
       " 4.9219,\n",
       " 6.1088,\n",
       " 5.4774,\n",
       " 4.4321,\n",
       " 4.4162,\n",
       " 5.6189]"
      ]
     },
     "execution_count": 11,
     "metadata": {},
     "output_type": "execute_result"
    }
   ],
   "execution_count": 11
  },
  {
   "metadata": {
    "ExecuteTime": {
     "end_time": "2024-10-08T15:13:05.178386Z",
     "start_time": "2024-10-08T15:13:05.174583Z"
    }
   },
   "cell_type": "code",
   "source": "posterior_mean_iqtree",
   "id": "59ad8fd34f7bbf11",
   "outputs": [
    {
     "data": {
      "text/plain": [
       "[6.6877,\n",
       " 6.5152,\n",
       " 6.3568,\n",
       " 6.0592,\n",
       " 5.9875,\n",
       " 5.8856,\n",
       " 5.7332,\n",
       " 3.9997,\n",
       " 5.0887,\n",
       " 4.5279,\n",
       " 4.2685,\n",
       " 3.4966,\n",
       " 3.199,\n",
       " 1.8819,\n",
       " 0.9106,\n",
       " 4.3951,\n",
       " 5.9321,\n",
       " 5.8299,\n",
       " 5.7556,\n",
       " 5.0445,\n",
       " 4.7594,\n",
       " 5.1659,\n",
       " 5.8765,\n",
       " 5.765,\n",
       " 5.6823,\n",
       " 5.5262,\n",
       " 5.358,\n",
       " 5.3076,\n",
       " 5.1537,\n",
       " 5.0197,\n",
       " 4.859,\n",
       " 4.0935,\n",
       " 3.8302,\n",
       " 5.0814,\n",
       " 4.6214,\n",
       " 5.8375,\n",
       " 2.8356,\n",
       " 5.786,\n",
       " 5.654,\n",
       " 5.455,\n",
       " 5.3272,\n",
       " 4.6166,\n",
       " 4.9434,\n",
       " 5.2695,\n",
       " 5.1648,\n",
       " 4.919,\n",
       " 4.1046,\n",
       " 4.8488,\n",
       " 6.1139,\n",
       " 5.3856,\n",
       " 4.2183,\n",
       " 3.9583,\n",
       " 5.4558]"
      ]
     },
     "execution_count": 12,
     "metadata": {},
     "output_type": "execute_result"
    }
   ],
   "execution_count": 12
  },
  {
   "metadata": {
    "ExecuteTime": {
     "end_time": "2024-10-08T15:13:05.532001Z",
     "start_time": "2024-10-08T15:13:05.353754Z"
    }
   },
   "cell_type": "code",
   "source": [
    "# Calculate error bars\n",
    "xerr = [np.array(lower_ci_baseml), \n",
    "        np.array(upper_ci_baseml)]\n",
    "yerr = [np.array(lower_ci_iqtree), \n",
    "        np.array(upper_ci_iqtree)]\n",
    "\n",
    "# Plotting\n",
    "fig, ax = plt.subplots(figsize=(9 ,9))\n",
    "ax.plot([-0.1,17], \n",
    "        [-0.1, 17], \n",
    "        'k--', label='y=x')\n",
    "ax.plot(posterior_mean_baseml, posterior_mean_iqtree, 'o', label='Posterior mean age')\n",
    " \n",
    "# Labels and title\n",
    "ax.set_xlabel('Posterior mean age LG [Mya]', fontsize=18)\n",
    "ax.set_ylabel('Posterior mean age LG+G4+C20 [Mya]', fontsize=18)\n",
    "ax.set_title('Posterior mean age comparison between LG and LG+G4 [cherry and middle]')\n",
    "ax.legend()\n",
    "\n",
    "# point_x = posterior_mean_baseml[0]  # Example: first point in the list\n",
    "# point_y = posterior_mean_iqtree[0]  # Example: first point in the list\n",
    "# ax.annotate('Root age', xy=(point_x, point_y), xytext=(point_x - 0.1, point_y - 0.1), color='red')\n",
    "# Show plot\n",
    "# plt.show()\n",
    "plt.savefig('metazoa_posterior_mean_age_comparison_LG_G4_C20_cm_scatter.png')"
   ],
   "id": "592d0bb72aa1ad4c",
   "outputs": [
    {
     "data": {
      "text/plain": [
       "<Figure size 900x900 with 1 Axes>"
      ],
      "image/png": "[encoded data removed]"
     },
     "metadata": {},
     "output_type": "display_data"
    }
   ],
   "execution_count": 13
  },
  {
   "metadata": {
    "ExecuteTime": {
     "end_time": "2024-10-08T15:13:05.543541Z",
     "start_time": "2024-10-08T15:13:05.540618Z"
    }
   },
   "cell_type": "code",
   "source": [
    "# fig, ax = plt.subplots(figsize=(9 ,9))\n",
    "# ax.plot([0.01,0.04], \n",
    "#         [0.01, 0.04], \n",
    "#         'k--', label='y=x')\n",
    "# ax.plot(posterior_mean_mu_baseml, posterior_mean_mu_iqtree, 'o', label='Posterior mean rates for partitions')\n",
    "#  \n",
    "# # Labels and title\n",
    "# ax.set_xlabel('Posterior mean rate [LG]', fontsize=18)\n",
    "# ax.set_ylabel('Posterior mean rate [LG+G4]', fontsize=18)\n",
    "# ax.set_title('Posterior mean rate comparison between LG and LG+G4 [Cherry only calibration/IQ-TREE]')\n",
    "# ax.legend()\n",
    "# \n",
    "# # point_x = posterior_mean_baseml[0]  # Example: first point in the list\n",
    "# # point_y = posterior_mean_iqtree[0]  # Example: first point in the list\n",
    "# # ax.annotate('Root age', xy=(point_x, point_y), xytext=(point_x - 0.1, point_y - 0.1), color='red')\n",
    "# # Show plot\n",
    "# # plt.show()\n",
    "# plt.savefig('./animal_origin__posterior_mean_rate_comparison_LG_G4_all_scatter.png')"
   ],
   "id": "c6d69ee36c77970c",
   "outputs": [],
   "execution_count": 14
  },
  {
   "metadata": {
    "ExecuteTime": {
     "end_time": "2024-10-08T15:13:05.584240Z",
     "start_time": "2024-10-08T15:13:05.582126Z"
    }
   },
   "cell_type": "code",
   "source": "",
   "id": "ca69d5b521db3aa7",
   "outputs": [],
   "execution_count": null
  }
 ],
 "metadata": {
  "kernelspec": {
   "display_name": "Python 3",
   "language": "python",
   "name": "python3"
  },
  "language_info": {
   "codemirror_mode": {
    "name": "ipython",
    "version": 2
   },
   "file_extension": ".py",
   "mimetype": "text/x-python",
   "name": "python",
   "nbconvert_exporter": "python",
   "pygments_lexer": "ipython2",
   "version": "2.7.6"
  }
 },
 "nbformat": 4,
 "nbformat_minor": 5
}
