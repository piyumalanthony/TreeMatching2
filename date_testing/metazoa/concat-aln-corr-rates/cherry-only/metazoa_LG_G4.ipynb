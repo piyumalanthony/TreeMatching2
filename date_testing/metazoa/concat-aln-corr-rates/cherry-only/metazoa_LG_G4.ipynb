{
 "cells": [
  {
   "cell_type": "code",
   "id": "initial_id",
   "metadata": {
    "collapsed": true,
    "ExecuteTime": {
     "end_time": "2024-10-08T15:36:26.788316Z",
     "start_time": "2024-10-08T15:36:26.783499Z"
    }
   },
   "source": [
    "# Code to get all the Posterior mean (95% Equal-tail CI) (95% HPD CI) HPD-CI-width from ./xenarthra_mcmc_out.txt\n",
    "import numpy as np\n",
    "import pandas as pd\n",
    "import matplotlib.pyplot as plt\n",
    "\n",
    "\n",
    "# Read the file\n",
    "file = open(\"LG_G4_co_out.txt\", \"r\")\n",
    "lines = file.readlines()\n",
    "file.close()\n",
    "\n",
    "# Extract the data\n",
    "data = []\n",
    "mu_data = []\n",
    "var_data = []\n",
    "\n",
    "read_flag = False\n",
    "for line in lines:\n",
    "    if line.startswith(\"Posterior\"):\n",
    "        read_flag = True\n",
    "    if read_flag and line.startswith(\"t\"):\n",
    "        data.append(line)\n",
    "    if read_flag and line.startswith(\"mu\"):\n",
    "        mu_data.append(line)\n",
    "    if read_flag and line.startswith(\"sigma\"):\n",
    "        var_data.append(line)"
   ],
   "outputs": [],
   "execution_count": 29
  },
  {
   "metadata": {
    "ExecuteTime": {
     "end_time": "2024-10-08T15:36:26.831942Z",
     "start_time": "2024-10-08T15:36:26.828321Z"
    }
   },
   "cell_type": "code",
   "source": "data",
   "id": "54808ee54195795",
   "outputs": [
    {
     "data": {
      "text/plain": [
       "['t_n55         10.5826 ( 9.2317, 12.0166) ( 9.2081, 11.9820)  2.7740 (Jnode 106)\\n',\n",
       " 't_n56         10.4734 ( 9.1540, 11.8757) ( 9.1423, 11.8574)  2.7151 (Jnode 105)\\n',\n",
       " 't_n57          9.8379 ( 8.6819, 11.0720) ( 8.6690, 11.0553)  2.3863 (Jnode 104)\\n',\n",
       " 't_n58          8.7399 ( 7.8401,  9.7102) ( 7.8045,  9.6678)  1.8634 (Jnode 103)\\n',\n",
       " 't_n59          8.4568 ( 7.6087,  9.3756) ( 7.5715,  9.3234)  1.7519 (Jnode 102)\\n',\n",
       " 't_n60          8.1072 ( 7.3196,  8.9659) ( 7.3064,  8.9486)  1.6421 (Jnode 101)\\n',\n",
       " 't_n61          7.5548 ( 6.8279,  8.3620) ( 6.8001,  8.3252)  1.5251 (Jnode 100)\\n',\n",
       " 't_n62          4.0903 ( 3.0146,  5.1427) ( 3.0826,  5.1852)  2.1026 (Jnode 99)\\n',\n",
       " 't_n63          5.8856 ( 5.1886,  6.6323) ( 5.1560,  6.5948)  1.4387 (Jnode 98)\\n',\n",
       " 't_n64          4.6091 ( 3.9166,  5.3086) ( 3.8946,  5.2830)  1.3883 (Jnode 97)\\n',\n",
       " 't_n65          4.1003 ( 3.4364,  4.7702) ( 3.4239,  4.7556)  1.3317 (Jnode 96)\\n',\n",
       " 't_n66          3.2980 ( 2.7012,  3.9066) ( 2.6736,  3.8690)  1.1954 (Jnode 95)\\n',\n",
       " 't_n67          2.3188 ( 1.8803,  2.8694) ( 1.8433,  2.8080)  0.9647 (Jnode 94)\\n',\n",
       " 't_n68          1.5755 ( 1.2748,  2.0159) ( 1.2228,  1.9369)  0.7140 (Jnode 93)\\n',\n",
       " 't_n69          0.7305 ( 0.6186,  0.9847) ( 0.6137,  0.9259)  0.3122 (Jnode 92)\\n',\n",
       " 't_n70          4.5747 ( 3.8232,  5.4136) ( 3.7898,  5.3681)  1.5784 (Jnode 91)\\n',\n",
       " 't_n71          8.1930 ( 7.3944,  9.0720) ( 7.3446,  9.0130)  1.6684 (Jnode 90)\\n',\n",
       " 't_n72          7.3853 ( 6.6234,  8.2075) ( 6.5797,  8.1567)  1.5770 (Jnode 89)\\n',\n",
       " 't_n73          7.5296 ( 6.8341,  8.3106) ( 6.8026,  8.2747)  1.4721 (Jnode 88)\\n',\n",
       " 't_n74          5.6065 ( 4.7532,  6.4606) ( 4.8027,  6.5051)  1.7024 (Jnode 87)\\n',\n",
       " 't_n75          4.9248 ( 4.0453,  5.8232) ( 4.1151,  5.8785)  1.7633 (Jnode 86)\\n',\n",
       " 't_n76          5.3442 ( 5.0544,  5.9284) ( 5.0415,  5.8127)  0.7712 (Jnode 85)\\n',\n",
       " 't_n77          8.0647 ( 7.3011,  8.9070) ( 7.2964,  8.8983)  1.6019 (Jnode 84)\\n',\n",
       " 't_n78          7.6527 ( 6.9556,  8.4304) ( 6.9306,  8.3984)  1.4678 (Jnode 83)\\n',\n",
       " 't_n79          7.3629 ( 6.7062,  8.0937) ( 6.6837,  8.0640)  1.3802 (Jnode 82)\\n',\n",
       " 't_n80          6.9834 ( 6.3736,  7.6713) ( 6.3368,  7.6269)  1.2902 (Jnode 81)\\n',\n",
       " 't_n81          6.4532 ( 5.9159,  7.0789) ( 5.8782,  7.0287)  1.1506 (Jnode 80)\\n',\n",
       " 't_n82          6.2339 ( 5.7213,  6.8347) ( 5.7071,  6.8143)  1.1072 (Jnode 79)\\n',\n",
       " 't_n83          5.4953 ( 5.0528,  6.0258) ( 5.0270,  5.9954)  0.9684 (Jnode 78)\\n',\n",
       " 't_n84          5.0379 ( 4.6305,  5.5403) ( 4.6064,  5.5059)  0.8995 (Jnode 77)\\n',\n",
       " 't_n85          4.6026 ( 4.2376,  5.0782) ( 4.2083,  5.0349)  0.8266 (Jnode 76)\\n',\n",
       " 't_n86          3.6257 ( 3.3834,  4.0631) ( 3.3527,  3.9885)  0.6358 (Jnode 75)\\n',\n",
       " 't_n87          3.2515 ( 3.0601,  3.6817) ( 3.0525,  3.5872)  0.5347 (Jnode 74)\\n',\n",
       " 't_n88          5.5823 ( 5.1273,  6.1466) ( 5.0975,  6.1015)  1.0041 (Jnode 73)\\n',\n",
       " 't_n89          4.5193 ( 4.1793,  5.0820) ( 4.1589,  4.9819)  0.8229 (Jnode 72)\\n',\n",
       " 't_n90          7.8845 ( 7.1505,  8.6965) ( 7.1243,  8.6620)  1.5377 (Jnode 71)\\n',\n",
       " 't_n91          2.0809 ( 0.9714,  3.7079) ( 0.9078,  3.6092)  2.7014 (Jnode 70)\\n',\n",
       " 't_n92          7.6734 ( 6.9731,  8.4538) ( 6.9567,  8.4267)  1.4700 (Jnode 69)\\n',\n",
       " 't_n93          7.1652 ( 6.5462,  7.8684) ( 6.5294,  7.8409)  1.3115 (Jnode 68)\\n',\n",
       " 't_n94          6.4148 ( 5.9158,  7.0103) ( 5.8769,  6.9621)  1.0852 (Jnode 67)\\n',\n",
       " 't_n95          5.9268 ( 5.5074,  6.4569) ( 5.4844,  6.4283)  0.9439 (Jnode 66)\\n',\n",
       " 't_n96          4.4921 ( 3.8323,  5.0825) ( 3.8565,  5.0985)  1.2420 (Jnode 65)\\n',\n",
       " 't_n97          4.9446 ( 4.7099,  5.4027) ( 4.7009,  5.3318)  0.6310 (Jnode 64)\\n',\n",
       " 't_n98          6.1627 ( 5.5552,  6.8103) ( 5.5535,  6.8072)  1.2537 (Jnode 63)\\n',\n",
       " 't_n99          5.8273 ( 5.2044,  6.4727) ( 5.1825,  6.4486)  1.2662 (Jnode 62)\\n',\n",
       " 't_n100         5.1891 ( 4.5121,  5.8636) ( 4.5169,  5.8670)  1.3500 (Jnode 61)\\n',\n",
       " 't_n101         4.2419 ( 3.3520,  5.0140) ( 3.3644,  5.0230)  1.6586 (Jnode 60)\\n',\n",
       " 't_n102         5.2348 ( 4.3016,  6.1328) ( 4.2953,  6.1218)  1.8265 (Jnode 59)\\n',\n",
       " 't_n103         9.0414 ( 8.0174, 10.1422) ( 8.0144, 10.1352)  2.1208 (Jnode 58)\\n',\n",
       " 't_n104         7.0579 ( 5.8208,  8.1755) ( 5.8697,  8.2081)  2.3384 (Jnode 57)\\n',\n",
       " 't_n105         4.6060 ( 3.3364,  5.8659) ( 3.2585,  5.7836)  2.5252 (Jnode 56)\\n',\n",
       " 't_n106         4.1887 ( 2.6031,  5.5563) ( 2.8024,  5.7000)  2.8976 (Jnode 55)\\n',\n",
       " 't_n107         7.4856 ( 5.3715,  9.1669) ( 5.5685,  9.3316)  3.7631 (Jnode 54)\\n']"
      ]
     },
     "execution_count": 30,
     "metadata": {},
     "output_type": "execute_result"
    }
   ],
   "execution_count": 30
  },
  {
   "metadata": {
    "ExecuteTime": {
     "end_time": "2024-10-08T15:36:26.889806Z",
     "start_time": "2024-10-08T15:36:26.884023Z"
    }
   },
   "cell_type": "code",
   "source": [
    "node_name = []\n",
    "posterior_mean_iqtree = []\n",
    "posterior_mean_baseml = []\n",
    "\n",
    "posterior_mean_mu_iqtree = []\n",
    "posterior_mean_mu_baseml = []\n",
    "\n",
    "posterior_mean_var_iqtree = []\n",
    "posterior_mean_var_baseml = []\n",
    "\n",
    "lower_ci_iqtree = []\n",
    "upper_ci_iqtree = []\n",
    "\n",
    "lower_ci_mu_iqtree = []\n",
    "upper_ci_mu_iqtree = []\n",
    "\n",
    "lower_ci_var_iqtree = []\n",
    "upper_ci_var_iqtree = []\n",
    "\n",
    "# Credible intervals for McmcDate\n",
    "lower_ci_baseml = []\n",
    "upper_ci_baseml = []\n",
    "\n",
    "lower_ci_mu_baseml = []\n",
    "upper_ci_mu_baseml = []\n",
    "\n",
    "lower_ci_var_baseml = []\n",
    "upper_ci_var_baseml = []"
   ],
   "id": "e5cf93a69d327e61",
   "outputs": [],
   "execution_count": 31
  },
  {
   "metadata": {
    "ExecuteTime": {
     "end_time": "2024-10-08T15:36:26.941105Z",
     "start_time": "2024-10-08T15:36:26.934666Z"
    }
   },
   "cell_type": "code",
   "source": [
    "for line in data:\n",
    "    line = line.strip().split()\n",
    "    node_name.append(line[0])\n",
    "    posterior_mean_iqtree.append(float(line[1]))\n",
    "#     if line[3].startswith('('):\n",
    "#         lower_ci_iqtree.append(float(line[3][1:-1]))\n",
    "#     else:\n",
    "#         lower_ci_iqtree.append(float(line[3][1:-1]))\n",
    "#     if line[4].startswith('('):\n",
    "#         upper_ci_iqtree.append(float(line[4][1:-1]))\n",
    "#     else:\n",
    "#         upper_ci_iqtree.append(float(line[4][:-1]))\n",
    "#     # posterior_mean_baseml.append(float(line[4]))\n",
    "#     # lower_ci_baseml.append(float(line[5]))\n",
    "#     # upper_ci_baseml.append(float(line[6]))\n",
    "# \n",
    "# for line in mu_data:\n",
    "#     line = line.strip().split()\n",
    "#     # node_name.append(line[0])\n",
    "#     posterior_mean_mu_iqtree.append(float(line[1]))\n",
    "#     lower_ci_mu_iqtree.append(float(line[3][:-1]))\n",
    "#     upper_ci_mu_iqtree.append(float(line[4][:-1]))\n",
    "#\n",
    "# for line in var_data:\n",
    "#     line = line.strip().split()\n",
    "#     # node_name.append(line[0])\n",
    "#     posterior_mean_var_iqtree.append(float(line[1]))\n",
    "#     lower_ci_var_iqtree.append(float(line[3][:-1]))\n",
    "#     upper_ci_var_iqtree.append(float(line[4][:-1]))"
   ],
   "id": "4e79ee928ea76b59",
   "outputs": [],
   "execution_count": 32
  },
  {
   "metadata": {
    "ExecuteTime": {
     "end_time": "2024-10-08T15:36:27.005529Z",
     "start_time": "2024-10-08T15:36:26.998396Z"
    }
   },
   "cell_type": "code",
   "source": "node_name",
   "id": "2c17f55ec9626a0b",
   "outputs": [
    {
     "data": {
      "text/plain": [
       "['t_n55',\n",
       " 't_n56',\n",
       " 't_n57',\n",
       " 't_n58',\n",
       " 't_n59',\n",
       " 't_n60',\n",
       " 't_n61',\n",
       " 't_n62',\n",
       " 't_n63',\n",
       " 't_n64',\n",
       " 't_n65',\n",
       " 't_n66',\n",
       " 't_n67',\n",
       " 't_n68',\n",
       " 't_n69',\n",
       " 't_n70',\n",
       " 't_n71',\n",
       " 't_n72',\n",
       " 't_n73',\n",
       " 't_n74',\n",
       " 't_n75',\n",
       " 't_n76',\n",
       " 't_n77',\n",
       " 't_n78',\n",
       " 't_n79',\n",
       " 't_n80',\n",
       " 't_n81',\n",
       " 't_n82',\n",
       " 't_n83',\n",
       " 't_n84',\n",
       " 't_n85',\n",
       " 't_n86',\n",
       " 't_n87',\n",
       " 't_n88',\n",
       " 't_n89',\n",
       " 't_n90',\n",
       " 't_n91',\n",
       " 't_n92',\n",
       " 't_n93',\n",
       " 't_n94',\n",
       " 't_n95',\n",
       " 't_n96',\n",
       " 't_n97',\n",
       " 't_n98',\n",
       " 't_n99',\n",
       " 't_n100',\n",
       " 't_n101',\n",
       " 't_n102',\n",
       " 't_n103',\n",
       " 't_n104',\n",
       " 't_n105',\n",
       " 't_n106',\n",
       " 't_n107']"
      ]
     },
     "execution_count": 33,
     "metadata": {},
     "output_type": "execute_result"
    }
   ],
   "execution_count": 33
  },
  {
   "metadata": {
    "ExecuteTime": {
     "end_time": "2024-10-08T15:36:27.056960Z",
     "start_time": "2024-10-08T15:36:27.053116Z"
    }
   },
   "cell_type": "code",
   "source": "posterior_mean_iqtree",
   "id": "24a55c806a41f33e",
   "outputs": [
    {
     "data": {
      "text/plain": [
       "[10.5826,\n",
       " 10.4734,\n",
       " 9.8379,\n",
       " 8.7399,\n",
       " 8.4568,\n",
       " 8.1072,\n",
       " 7.5548,\n",
       " 4.0903,\n",
       " 5.8856,\n",
       " 4.6091,\n",
       " 4.1003,\n",
       " 3.298,\n",
       " 2.3188,\n",
       " 1.5755,\n",
       " 0.7305,\n",
       " 4.5747,\n",
       " 8.193,\n",
       " 7.3853,\n",
       " 7.5296,\n",
       " 5.6065,\n",
       " 4.9248,\n",
       " 5.3442,\n",
       " 8.0647,\n",
       " 7.6527,\n",
       " 7.3629,\n",
       " 6.9834,\n",
       " 6.4532,\n",
       " 6.2339,\n",
       " 5.4953,\n",
       " 5.0379,\n",
       " 4.6026,\n",
       " 3.6257,\n",
       " 3.2515,\n",
       " 5.5823,\n",
       " 4.5193,\n",
       " 7.8845,\n",
       " 2.0809,\n",
       " 7.6734,\n",
       " 7.1652,\n",
       " 6.4148,\n",
       " 5.9268,\n",
       " 4.4921,\n",
       " 4.9446,\n",
       " 6.1627,\n",
       " 5.8273,\n",
       " 5.1891,\n",
       " 4.2419,\n",
       " 5.2348,\n",
       " 9.0414,\n",
       " 7.0579,\n",
       " 4.606,\n",
       " 4.1887,\n",
       " 7.4856]"
      ]
     },
     "execution_count": 34,
     "metadata": {},
     "output_type": "execute_result"
    }
   ],
   "execution_count": 34
  },
  {
   "metadata": {
    "ExecuteTime": {
     "end_time": "2024-10-08T15:36:27.163769Z",
     "start_time": "2024-10-08T15:36:27.159662Z"
    }
   },
   "cell_type": "code",
   "source": "lower_ci_iqtree",
   "id": "388aa27ad336d43f",
   "outputs": [
    {
     "data": {
      "text/plain": [
       "[]"
      ]
     },
     "execution_count": 35,
     "metadata": {},
     "output_type": "execute_result"
    }
   ],
   "execution_count": 35
  },
  {
   "metadata": {
    "ExecuteTime": {
     "end_time": "2024-10-08T15:36:27.214279Z",
     "start_time": "2024-10-08T15:36:27.211363Z"
    }
   },
   "cell_type": "code",
   "source": "upper_ci_iqtree",
   "id": "816e569fb763e797",
   "outputs": [
    {
     "data": {
      "text/plain": [
       "[]"
      ]
     },
     "execution_count": 36,
     "metadata": {},
     "output_type": "execute_result"
    }
   ],
   "execution_count": 36
  },
  {
   "metadata": {
    "ExecuteTime": {
     "end_time": "2024-10-08T15:36:27.268716Z",
     "start_time": "2024-10-08T15:36:27.262666Z"
    }
   },
   "cell_type": "code",
   "source": [
    "file_LG = open(\"LG_co_out.txt\", \"r\")\n",
    "lines1 = file_LG.readlines()\n",
    "file_LG.close()\n",
    "\n",
    "# Extract the data\n",
    "data1 = []\n",
    "mu_data1 = []\n",
    "var_data1 = []\n",
    "\n",
    "read_flag = False\n",
    "for line in lines1:\n",
    "    if line.startswith(\"Posterior\"):\n",
    "        read_flag = True\n",
    "    if read_flag and line.startswith(\"t\"):\n",
    "        data1.append(line)\n",
    "    if read_flag and line.startswith(\"mu\"):\n",
    "        mu_data1.append(line)\n",
    "    if read_flag and line.startswith(\"sigma\"):\n",
    "        var_data1.append(line)\n",
    "\n",
    "        \n",
    "for line in data1:\n",
    "    line = line.strip().split()\n",
    "    # node_name.append(line[0])\n",
    "    posterior_mean_baseml.append(float(line[1]))\n",
    "#     if line[3].startswith('('):\n",
    "#         lower_ci_baseml.append(float(line[3][1:-1]))\n",
    "#     else:\n",
    "#          lower_ci_baseml.append(float(line[3][:-1]))\n",
    "#     if line[4].startswith('('):\n",
    "#         upper_ci_baseml.append(float(line[4][1:-1]))\n",
    "#     else:\n",
    "#          upper_ci_baseml.append(float(line[4][:-1]))\n",
    "#         \n",
    "#     \n",
    "# for line in mu_data1:\n",
    "#     line = line.strip().split()\n",
    "#     # node_name.append(line[0])\n",
    "#     posterior_mean_mu_baseml.append(float(line[1]))\n",
    "#     lower_ci_mu_baseml.append(float(line[3][:-1]))\n",
    "#     upper_ci_mu_baseml.append(float(line[4][:-1]))\n",
    "    \n",
    "# for line in var_data1:\n",
    "#     line = line.strip().split()\n",
    "#     # node_name.append(line[0])\n",
    "#     posterior_mean_var_baseml.append(float(line[1]))\n",
    "#     lower_ci_var_baseml.append(float(line[3][:-1]))\n",
    "#     upper_ci_var_baseml.append(float(line[4][:-1]))"
   ],
   "id": "f75c012c6bef60a2",
   "outputs": [],
   "execution_count": 37
  },
  {
   "metadata": {
    "ExecuteTime": {
     "end_time": "2024-10-08T15:36:27.315708Z",
     "start_time": "2024-10-08T15:36:27.312293Z"
    }
   },
   "cell_type": "code",
   "source": [
    "import matplotlib.pyplot as plt\n",
    "import numpy as np\n",
    "\n",
    "# # Example data\n",
    "# # Posterior means for MCMCtree (x-axis) and McmcDate (y-axis)\n",
    "# posterior_mean_mcmctree = [100, 200, 300, 400, 500, 600, 700, 800, 900, 1000]\n",
    "# posterior_mean_mcmcdate = [110, 210, 310, 410, 510, 610, 710, 810, 910, 1010]\n",
    "# \n",
    "# # Credible intervals for MCMCtree\n",
    "# lower_ci_mcmctree = [90, 180, 270, 360, 450, 540, 630, 720, 810, 900]\n",
    "# upper_ci_mcmctree = [110, 220, 330, 440, 550, 660, 770, 880, 990, 1100]\n",
    "# \n",
    "# # Credible intervals for McmcDate\n",
    "# lower_ci_mcmcdate = [100, 200, 300, 400, 500, 600, 700, 800, 900, 1000]\n",
    "# upper_ci_mcmcdate = [120, 220, 320, 420, 520, 620, 720, 820, 920, 1020]\n",
    "\n",
    "# Calculate error bars\n",
    "# xerr = [np.array(lower_ci_baseml), \n",
    "#         np.array(upper_ci_baseml)]\n",
    "# yerr = [np.array(lower_ci_iqtree), \n",
    "#         np.array(upper_ci_iqtree)]\n",
    "# \n",
    "# # Plotting\n",
    "# fig, ax = plt.subplots(figsize=(15, 15))\n",
    "# ax.plot([-0.1,90], \n",
    "#         [-0.1, 90], \n",
    "#         'k--', label='y=x')\n",
    "# ax.errorbar(posterior_mean_baseml, posterior_mean_iqtree, \n",
    "#             xerr=xerr, yerr=yerr, fmt='*', ecolor='r', capsize=3, label='95% HPD CI')\n",
    "# \n",
    "# # Labels and title\n",
    "# ax.set_xlabel('Posterior mean age LG [100 Mya]', fontsize=18)\n",
    "# ax.set_ylabel('Posterior mean age LG+G4 [100 Mya]', fontsize=18)\n",
    "# ax.set_title('Posterior mean age comparison between LG and LG+G4 models [t116 ~ B(1.25,2.482)]')\n",
    "# ax.legend()\n",
    "# \n",
    "# # Show plot\n",
    "# # plt.show()\n",
    "# plt.savefig('./animal_origin_posterior_mean_age_comparison_LG_G4_c11.png')"
   ],
   "id": "12db486fa4fac82c",
   "outputs": [],
   "execution_count": 38
  },
  {
   "metadata": {
    "ExecuteTime": {
     "end_time": "2024-10-08T15:36:27.370569Z",
     "start_time": "2024-10-08T15:36:27.367334Z"
    }
   },
   "cell_type": "code",
   "source": "posterior_mean_baseml",
   "id": "917b2e31cff4b992",
   "outputs": [
    {
     "data": {
      "text/plain": [
       "[11.5133,\n",
       " 11.3993,\n",
       " 10.526,\n",
       " 9.3662,\n",
       " 8.9827,\n",
       " 8.506,\n",
       " 7.8188,\n",
       " 4.3775,\n",
       " 6.1195,\n",
       " 4.769,\n",
       " 4.1669,\n",
       " 3.2929,\n",
       " 2.2873,\n",
       " 1.5568,\n",
       " 0.7175,\n",
       " 4.7394,\n",
       " 8.5698,\n",
       " 7.2037,\n",
       " 7.7828,\n",
       " 5.7834,\n",
       " 4.9481,\n",
       " 5.4336,\n",
       " 8.6259,\n",
       " 8.1174,\n",
       " 7.7566,\n",
       " 7.3025,\n",
       " 6.7314,\n",
       " 6.4347,\n",
       " 5.6625,\n",
       " 5.1296,\n",
       " 4.6264,\n",
       " 3.6692,\n",
       " 3.1983,\n",
       " 5.7662,\n",
       " 4.5933,\n",
       " 8.3677,\n",
       " 2.6975,\n",
       " 8.0756,\n",
       " 7.4859,\n",
       " 6.6366,\n",
       " 6.052,\n",
       " 4.5921,\n",
       " 4.9189,\n",
       " 6.3879,\n",
       " 5.8549,\n",
       " 4.9785,\n",
       " 4.4407,\n",
       " 5.489,\n",
       " 9.5604,\n",
       " 7.4096,\n",
       " 4.7546,\n",
       " 4.601,\n",
       " 8.4264]"
      ]
     },
     "execution_count": 39,
     "metadata": {},
     "output_type": "execute_result"
    }
   ],
   "execution_count": 39
  },
  {
   "metadata": {
    "ExecuteTime": {
     "end_time": "2024-10-08T15:36:27.439208Z",
     "start_time": "2024-10-08T15:36:27.425827Z"
    }
   },
   "cell_type": "code",
   "source": "posterior_mean_iqtree",
   "id": "59ad8fd34f7bbf11",
   "outputs": [
    {
     "data": {
      "text/plain": [
       "[10.5826,\n",
       " 10.4734,\n",
       " 9.8379,\n",
       " 8.7399,\n",
       " 8.4568,\n",
       " 8.1072,\n",
       " 7.5548,\n",
       " 4.0903,\n",
       " 5.8856,\n",
       " 4.6091,\n",
       " 4.1003,\n",
       " 3.298,\n",
       " 2.3188,\n",
       " 1.5755,\n",
       " 0.7305,\n",
       " 4.5747,\n",
       " 8.193,\n",
       " 7.3853,\n",
       " 7.5296,\n",
       " 5.6065,\n",
       " 4.9248,\n",
       " 5.3442,\n",
       " 8.0647,\n",
       " 7.6527,\n",
       " 7.3629,\n",
       " 6.9834,\n",
       " 6.4532,\n",
       " 6.2339,\n",
       " 5.4953,\n",
       " 5.0379,\n",
       " 4.6026,\n",
       " 3.6257,\n",
       " 3.2515,\n",
       " 5.5823,\n",
       " 4.5193,\n",
       " 7.8845,\n",
       " 2.0809,\n",
       " 7.6734,\n",
       " 7.1652,\n",
       " 6.4148,\n",
       " 5.9268,\n",
       " 4.4921,\n",
       " 4.9446,\n",
       " 6.1627,\n",
       " 5.8273,\n",
       " 5.1891,\n",
       " 4.2419,\n",
       " 5.2348,\n",
       " 9.0414,\n",
       " 7.0579,\n",
       " 4.606,\n",
       " 4.1887,\n",
       " 7.4856]"
      ]
     },
     "execution_count": 40,
     "metadata": {},
     "output_type": "execute_result"
    }
   ],
   "execution_count": 40
  },
  {
   "metadata": {
    "ExecuteTime": {
     "end_time": "2024-10-08T15:36:27.789472Z",
     "start_time": "2024-10-08T15:36:27.611922Z"
    }
   },
   "cell_type": "code",
   "source": [
    "# Calculate error bars\n",
    "xerr = [np.array(lower_ci_baseml), \n",
    "        np.array(upper_ci_baseml)]\n",
    "yerr = [np.array(lower_ci_iqtree), \n",
    "        np.array(upper_ci_iqtree)]\n",
    "\n",
    "# Plotting\n",
    "fig, ax = plt.subplots(figsize=(9 ,9))\n",
    "ax.plot([-0.1,17], \n",
    "        [-0.1, 17], \n",
    "        'k--', label='y=x')\n",
    "ax.plot(posterior_mean_baseml, posterior_mean_iqtree, 'o', label='Posterior mean age')\n",
    " \n",
    "# Labels and title\n",
    "ax.set_xlabel('Posterior mean age LG [Mya]', fontsize=18)\n",
    "ax.set_ylabel('Posterior mean age LG+G4 [Mya]', fontsize=18)\n",
    "ax.set_title('Posterior mean age comparison between LG and LG+G4 [cherry only calibrations]')\n",
    "ax.legend()\n",
    "\n",
    "# point_x = posterior_mean_baseml[0]  # Example: first point in the list\n",
    "# point_y = posterior_mean_iqtree[0]  # Example: first point in the list\n",
    "# ax.annotate('Root age', xy=(point_x, point_y), xytext=(point_x - 0.1, point_y - 0.1), color='red')\n",
    "# Show plot\n",
    "# plt.show()\n",
    "plt.savefig('./metazoa_posterior_mean_age_comparison_LG_G4_co_scatter.png')"
   ],
   "id": "592d0bb72aa1ad4c",
   "outputs": [
    {
     "data": {
      "text/plain": [
       "<Figure size 900x900 with 1 Axes>"
      ],
      "image/png": "[encoded data removed]"
     },
     "metadata": {},
     "output_type": "display_data"
    }
   ],
   "execution_count": 41
  },
  {
   "metadata": {
    "ExecuteTime": {
     "end_time": "2024-10-08T15:36:27.808611Z",
     "start_time": "2024-10-08T15:36:27.805732Z"
    }
   },
   "cell_type": "code",
   "source": [
    "# fig, ax = plt.subplots(figsize=(9 ,9))\n",
    "# ax.plot([0.01,0.04], \n",
    "#         [0.01, 0.04], \n",
    "#         'k--', label='y=x')\n",
    "# ax.plot(posterior_mean_mu_baseml, posterior_mean_mu_iqtree, 'o', label='Posterior mean rates for partitions')\n",
    "#  \n",
    "# # Labels and title\n",
    "# ax.set_xlabel('Posterior mean rate [LG]', fontsize=18)\n",
    "# ax.set_ylabel('Posterior mean rate [LG+G4]', fontsize=18)\n",
    "# ax.set_title('Posterior mean rate comparison between LG and LG+G4 [Cherry only calibration/IQ-TREE]')\n",
    "# ax.legend()\n",
    "# \n",
    "# # point_x = posterior_mean_baseml[0]  # Example: first point in the list\n",
    "# # point_y = posterior_mean_iqtree[0]  # Example: first point in the list\n",
    "# # ax.annotate('Root age', xy=(point_x, point_y), xytext=(point_x - 0.1, point_y - 0.1), color='red')\n",
    "# # Show plot\n",
    "# # plt.show()\n",
    "# plt.savefig('./animal_origin__posterior_mean_rate_comparison_LG_G4_all_scatter.png')"
   ],
   "id": "c6d69ee36c77970c",
   "outputs": [],
   "execution_count": 42
  },
  {
   "metadata": {
    "ExecuteTime": {
     "end_time": "2024-10-08T15:36:27.853763Z",
     "start_time": "2024-10-08T15:36:27.851733Z"
    }
   },
   "cell_type": "code",
   "source": "",
   "id": "ca69d5b521db3aa7",
   "outputs": [],
   "execution_count": null
  }
 ],
 "metadata": {
  "kernelspec": {
   "display_name": "Python 3",
   "language": "python",
   "name": "python3"
  },
  "language_info": {
   "codemirror_mode": {
    "name": "ipython",
    "version": 2
   },
   "file_extension": ".py",
   "mimetype": "text/x-python",
   "name": "python",
   "nbconvert_exporter": "python",
   "pygments_lexer": "ipython2",
   "version": "2.7.6"
  }
 },
 "nbformat": 4,
 "nbformat_minor": 5
}
