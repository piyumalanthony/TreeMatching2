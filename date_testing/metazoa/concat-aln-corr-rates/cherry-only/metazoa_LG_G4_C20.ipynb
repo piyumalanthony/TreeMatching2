{
 "cells": [
  {
   "cell_type": "code",
   "id": "initial_id",
   "metadata": {
    "collapsed": true,
    "ExecuteTime": {
     "end_time": "2024-10-08T15:36:12.978521Z",
     "start_time": "2024-10-08T15:36:12.436186Z"
    }
   },
   "source": [
    "# Code to get all the Posterior mean (95% Equal-tail CI) (95% HPD CI) HPD-CI-width from ./xenarthra_mcmc_out.txt\n",
    "import numpy as np\n",
    "import pandas as pd\n",
    "import matplotlib.pyplot as plt\n",
    "\n",
    "\n",
    "# Read the file\n",
    "file = open(\"LG_G4_C20_co_out.txt\", \"r\")\n",
    "lines = file.readlines()\n",
    "file.close()\n",
    "\n",
    "# Extract the data\n",
    "data = []\n",
    "mu_data = []\n",
    "var_data = []\n",
    "\n",
    "read_flag = False\n",
    "for line in lines:\n",
    "    if line.startswith(\"Posterior\"):\n",
    "        read_flag = True\n",
    "    if read_flag and line.startswith(\"t\"):\n",
    "        data.append(line)\n",
    "    if read_flag and line.startswith(\"mu\"):\n",
    "        mu_data.append(line)\n",
    "    if read_flag and line.startswith(\"sigma\"):\n",
    "        var_data.append(line)"
   ],
   "outputs": [],
   "execution_count": 1
  },
  {
   "metadata": {
    "ExecuteTime": {
     "end_time": "2024-10-08T15:36:12.993444Z",
     "start_time": "2024-10-08T15:36:12.989129Z"
    }
   },
   "cell_type": "code",
   "source": "data",
   "id": "54808ee54195795",
   "outputs": [
    {
     "data": {
      "text/plain": [
       "['t_n55          9.6587 ( 8.5473, 10.8946) ( 8.4829, 10.7989)  2.3159 (Jnode 106)\\n',\n",
       " 't_n56          9.5566 ( 8.4694, 10.7487) ( 8.4243, 10.6887)  2.2644 (Jnode 105)\\n',\n",
       " 't_n57          9.1232 ( 8.1432, 10.2178) ( 8.0946, 10.1514)  2.0568 (Jnode 104)\\n',\n",
       " 't_n58          8.1653 ( 7.3969,  9.0329) ( 7.3567,  8.9798)  1.6232 (Jnode 103)\\n',\n",
       " 't_n59          7.9557 ( 7.2271,  8.7806) ( 7.1915,  8.7339)  1.5424 (Jnode 102)\\n',\n",
       " 't_n60          7.6745 ( 6.9941,  8.4575) ( 6.9557,  8.4121)  1.4564 (Jnode 101)\\n',\n",
       " 't_n61          7.2567 ( 6.6138,  7.9948) ( 6.5935,  7.9655)  1.3720 (Jnode 100)\\n',\n",
       " 't_n62          3.8122 ( 2.5341,  4.8770) ( 2.6255,  4.9314)  2.3059 (Jnode 99)\\n',\n",
       " 't_n63          5.6061 ( 4.9606,  6.3261) ( 4.9535,  6.3158)  1.3622 (Jnode 98)\\n',\n",
       " 't_n64          4.3716 ( 3.7042,  5.1112) ( 3.6498,  5.0378)  1.3880 (Jnode 97)\\n',\n",
       " 't_n65          3.9385 ( 3.2985,  4.6528) ( 3.2634,  4.6051)  1.3417 (Jnode 96)\\n',\n",
       " 't_n66          3.1958 ( 2.6096,  3.8588) ( 2.5610,  3.7883)  1.2272 (Jnode 95)\\n',\n",
       " 't_n67          2.2648 ( 1.8217,  2.8476) ( 1.7874,  2.7763)  0.9889 (Jnode 94)\\n',\n",
       " 't_n68          1.5627 ( 1.2558,  2.0302) ( 1.2228,  1.9672)  0.7444 (Jnode 93)\\n',\n",
       " 't_n69          0.7300 ( 0.6181,  1.0029) ( 0.6141,  0.9389)  0.3248 (Jnode 92)\\n',\n",
       " 't_n70          4.3742 ( 3.6931,  5.1927) ( 3.6311,  5.0722)  1.4412 (Jnode 91)\\n',\n",
       " 't_n71          7.7971 ( 7.0949,  8.5968) ( 7.0690,  8.5622)  1.4932 (Jnode 90)\\n',\n",
       " 't_n72          7.5339 ( 6.8554,  8.3115) ( 6.8237,  8.2729)  1.4491 (Jnode 89)\\n',\n",
       " 't_n73          7.2624 ( 6.6424,  7.9831) ( 6.6110,  7.9447)  1.3337 (Jnode 88)\\n',\n",
       " 't_n74          5.4680 ( 4.5695,  6.2600) ( 4.6172,  6.3027)  1.6855 (Jnode 87)\\n',\n",
       " 't_n75          4.9544 ( 4.0181,  5.7826) ( 4.0693,  5.8276)  1.7583 (Jnode 86)\\n',\n",
       " 't_n76          5.2941 ( 5.0519,  5.8260) ( 5.0418,  5.7052)  0.6634 (Jnode 85)\\n',\n",
       " 't_n77          7.6147 ( 6.9482,  8.3775) ( 6.9444,  8.3659)  1.4215 (Jnode 84)\\n',\n",
       " 't_n78          7.3048 ( 6.6819,  8.0243) ( 6.6523,  7.9841)  1.3317 (Jnode 83)\\n',\n",
       " 't_n79          7.0990 ( 6.5035,  7.7939) ( 6.4860,  7.7703)  1.2843 (Jnode 82)\\n',\n",
       " 't_n80          6.7121 ( 6.1619,  7.3618) ( 6.1327,  7.3222)  1.1895 (Jnode 81)\\n',\n",
       " 't_n81          6.2527 ( 5.7543,  6.8421) ( 5.7254,  6.8093)  1.0839 (Jnode 80)\\n',\n",
       " 't_n82          6.1012 ( 5.6178,  6.6825) ( 5.5855,  6.6355)  1.0499 (Jnode 79)\\n',\n",
       " 't_n83          5.4269 ( 4.9823,  5.9722) ( 4.9675,  5.9470)  0.9795 (Jnode 78)\\n',\n",
       " 't_n84          4.9920 ( 4.5634,  5.5170) ( 4.5242,  5.4701)  0.9459 (Jnode 77)\\n',\n",
       " 't_n85          4.6262 ( 4.2214,  5.1480) ( 4.1984,  5.1103)  0.9119 (Jnode 76)\\n',\n",
       " 't_n86          3.5971 ( 3.3073,  4.1015) ( 3.2653,  4.0094)  0.7441 (Jnode 75)\\n',\n",
       " 't_n87          3.3199 ( 3.0640,  3.8153) ( 3.0528,  3.7210)  0.6682 (Jnode 74)\\n',\n",
       " 't_n88          5.4460 ( 5.0226,  5.9874) ( 4.9935,  5.9471)  0.9536 (Jnode 73)\\n',\n",
       " 't_n89          4.4916 ( 4.1753,  5.0428) ( 4.1582,  4.9383)  0.7801 (Jnode 72)\\n',\n",
       " 't_n90          7.4986 ( 6.8496,  8.2419) ( 6.8205,  8.2056)  1.3852 (Jnode 71)\\n',\n",
       " 't_n91          1.6541 ( 0.7982,  3.2242) ( 0.6769,  2.8094)  2.1325 (Jnode 70)\\n',\n",
       " 't_n92          7.3445 ( 6.7201,  8.0650) ( 6.6880,  8.0202)  1.3323 (Jnode 69)\\n',\n",
       " 't_n93          6.9272 ( 6.3655,  7.5814) ( 6.3231,  7.5318)  1.2086 (Jnode 68)\\n',\n",
       " 't_n94          6.2639 ( 5.7888,  6.8235) ( 5.7563,  6.7821)  1.0259 (Jnode 67)\\n',\n",
       " 't_n95          5.8478 ( 5.4317,  6.3506) ( 5.4137,  6.3252)  0.9116 (Jnode 66)\\n',\n",
       " 't_n96          4.3873 ( 3.6758,  5.0307) ( 3.6935,  5.0453)  1.3518 (Jnode 65)\\n',\n",
       " 't_n97          5.0069 ( 4.7149,  5.4509) ( 4.7017,  5.4024)  0.7007 (Jnode 64)\\n',\n",
       " 't_n98          5.9994 ( 5.4368,  6.6101) ( 5.4228,  6.5880)  1.1652 (Jnode 63)\\n',\n",
       " 't_n99          5.7895 ( 5.2164,  6.4043) ( 5.1971,  6.3763)  1.1792 (Jnode 62)\\n',\n",
       " 't_n100         5.3654 ( 4.7449,  5.9993) ( 4.7400,  5.9889)  1.2489 (Jnode 61)\\n',\n",
       " 't_n101         4.0497 ( 3.2685,  4.8435) ( 3.2738,  4.8464)  1.5726 (Jnode 60)\\n',\n",
       " 't_n102         5.2391 ( 4.2854,  6.0589) ( 4.3026,  6.0711)  1.7685 (Jnode 59)\\n',\n",
       " 't_n103         8.4231 ( 7.5497,  9.4018) ( 7.5369,  9.3811)  1.8443 (Jnode 58)\\n',\n",
       " 't_n104         6.5040 ( 5.3511,  7.5948) ( 5.3997,  7.6254)  2.2258 (Jnode 57)\\n',\n",
       " 't_n105         4.2164 ( 3.1046,  5.4896) ( 3.1208,  5.5011)  2.3803 (Jnode 56)\\n',\n",
       " 't_n106         3.6427 ( 1.8244,  5.0845) ( 1.9204,  5.1761)  3.2556 (Jnode 55)\\n',\n",
       " 't_n107         6.5269 ( 4.7084,  8.1053) ( 4.7677,  8.1408)  3.3731 (Jnode 54)\\n']"
      ]
     },
     "execution_count": 2,
     "metadata": {},
     "output_type": "execute_result"
    }
   ],
   "execution_count": 2
  },
  {
   "metadata": {
    "ExecuteTime": {
     "end_time": "2024-10-08T15:36:13.044758Z",
     "start_time": "2024-10-08T15:36:13.041542Z"
    }
   },
   "cell_type": "code",
   "source": [
    "node_name = []\n",
    "posterior_mean_iqtree = []\n",
    "posterior_mean_baseml = []\n",
    "\n",
    "posterior_mean_mu_iqtree = []\n",
    "posterior_mean_mu_baseml = []\n",
    "\n",
    "posterior_mean_var_iqtree = []\n",
    "posterior_mean_var_baseml = []\n",
    "\n",
    "lower_ci_iqtree = []\n",
    "upper_ci_iqtree = []\n",
    "\n",
    "lower_ci_mu_iqtree = []\n",
    "upper_ci_mu_iqtree = []\n",
    "\n",
    "lower_ci_var_iqtree = []\n",
    "upper_ci_var_iqtree = []\n",
    "\n",
    "# Credible intervals for McmcDate\n",
    "lower_ci_baseml = []\n",
    "upper_ci_baseml = []\n",
    "\n",
    "lower_ci_mu_baseml = []\n",
    "upper_ci_mu_baseml = []\n",
    "\n",
    "lower_ci_var_baseml = []\n",
    "upper_ci_var_baseml = []"
   ],
   "id": "e5cf93a69d327e61",
   "outputs": [],
   "execution_count": 3
  },
  {
   "metadata": {
    "ExecuteTime": {
     "end_time": "2024-10-08T15:36:13.094681Z",
     "start_time": "2024-10-08T15:36:13.090231Z"
    }
   },
   "cell_type": "code",
   "source": [
    "for line in data:\n",
    "    line = line.strip().split()\n",
    "    node_name.append(line[0])\n",
    "    posterior_mean_iqtree.append(float(line[1]))\n",
    "#     if line[3].startswith('('):\n",
    "#         lower_ci_iqtree.append(float(line[3][1:-1]))\n",
    "#     else:\n",
    "#         lower_ci_iqtree.append(float(line[3][1:-1]))\n",
    "#     if line[4].startswith('('):\n",
    "#         upper_ci_iqtree.append(float(line[4][1:-1]))\n",
    "#     else:\n",
    "#         upper_ci_iqtree.append(float(line[4][:-1]))\n",
    "#     # posterior_mean_baseml.append(float(line[4]))\n",
    "#     # lower_ci_baseml.append(float(line[5]))\n",
    "#     # upper_ci_baseml.append(float(line[6]))\n",
    "# \n",
    "# for line in mu_data:\n",
    "#     line = line.strip().split()\n",
    "#     # node_name.append(line[0])\n",
    "#     posterior_mean_mu_iqtree.append(float(line[1]))\n",
    "#     lower_ci_mu_iqtree.append(float(line[3][:-1]))\n",
    "#     upper_ci_mu_iqtree.append(float(line[4][:-1]))\n",
    "#\n",
    "# for line in var_data:\n",
    "#     line = line.strip().split()\n",
    "#     # node_name.append(line[0])\n",
    "#     posterior_mean_var_iqtree.append(float(line[1]))\n",
    "#     lower_ci_var_iqtree.append(float(line[3][:-1]))\n",
    "#     upper_ci_var_iqtree.append(float(line[4][:-1]))"
   ],
   "id": "4e79ee928ea76b59",
   "outputs": [],
   "execution_count": 4
  },
  {
   "metadata": {
    "ExecuteTime": {
     "end_time": "2024-10-08T15:36:13.160187Z",
     "start_time": "2024-10-08T15:36:13.151148Z"
    }
   },
   "cell_type": "code",
   "source": "node_name",
   "id": "2c17f55ec9626a0b",
   "outputs": [
    {
     "data": {
      "text/plain": [
       "['t_n55',\n",
       " 't_n56',\n",
       " 't_n57',\n",
       " 't_n58',\n",
       " 't_n59',\n",
       " 't_n60',\n",
       " 't_n61',\n",
       " 't_n62',\n",
       " 't_n63',\n",
       " 't_n64',\n",
       " 't_n65',\n",
       " 't_n66',\n",
       " 't_n67',\n",
       " 't_n68',\n",
       " 't_n69',\n",
       " 't_n70',\n",
       " 't_n71',\n",
       " 't_n72',\n",
       " 't_n73',\n",
       " 't_n74',\n",
       " 't_n75',\n",
       " 't_n76',\n",
       " 't_n77',\n",
       " 't_n78',\n",
       " 't_n79',\n",
       " 't_n80',\n",
       " 't_n81',\n",
       " 't_n82',\n",
       " 't_n83',\n",
       " 't_n84',\n",
       " 't_n85',\n",
       " 't_n86',\n",
       " 't_n87',\n",
       " 't_n88',\n",
       " 't_n89',\n",
       " 't_n90',\n",
       " 't_n91',\n",
       " 't_n92',\n",
       " 't_n93',\n",
       " 't_n94',\n",
       " 't_n95',\n",
       " 't_n96',\n",
       " 't_n97',\n",
       " 't_n98',\n",
       " 't_n99',\n",
       " 't_n100',\n",
       " 't_n101',\n",
       " 't_n102',\n",
       " 't_n103',\n",
       " 't_n104',\n",
       " 't_n105',\n",
       " 't_n106',\n",
       " 't_n107']"
      ]
     },
     "execution_count": 5,
     "metadata": {},
     "output_type": "execute_result"
    }
   ],
   "execution_count": 5
  },
  {
   "metadata": {
    "ExecuteTime": {
     "end_time": "2024-10-08T15:36:13.220706Z",
     "start_time": "2024-10-08T15:36:13.217253Z"
    }
   },
   "cell_type": "code",
   "source": "posterior_mean_iqtree",
   "id": "24a55c806a41f33e",
   "outputs": [
    {
     "data": {
      "text/plain": [
       "[9.6587,\n",
       " 9.5566,\n",
       " 9.1232,\n",
       " 8.1653,\n",
       " 7.9557,\n",
       " 7.6745,\n",
       " 7.2567,\n",
       " 3.8122,\n",
       " 5.6061,\n",
       " 4.3716,\n",
       " 3.9385,\n",
       " 3.1958,\n",
       " 2.2648,\n",
       " 1.5627,\n",
       " 0.73,\n",
       " 4.3742,\n",
       " 7.7971,\n",
       " 7.5339,\n",
       " 7.2624,\n",
       " 5.468,\n",
       " 4.9544,\n",
       " 5.2941,\n",
       " 7.6147,\n",
       " 7.3048,\n",
       " 7.099,\n",
       " 6.7121,\n",
       " 6.2527,\n",
       " 6.1012,\n",
       " 5.4269,\n",
       " 4.992,\n",
       " 4.6262,\n",
       " 3.5971,\n",
       " 3.3199,\n",
       " 5.446,\n",
       " 4.4916,\n",
       " 7.4986,\n",
       " 1.6541,\n",
       " 7.3445,\n",
       " 6.9272,\n",
       " 6.2639,\n",
       " 5.8478,\n",
       " 4.3873,\n",
       " 5.0069,\n",
       " 5.9994,\n",
       " 5.7895,\n",
       " 5.3654,\n",
       " 4.0497,\n",
       " 5.2391,\n",
       " 8.4231,\n",
       " 6.504,\n",
       " 4.2164,\n",
       " 3.6427,\n",
       " 6.5269]"
      ]
     },
     "execution_count": 6,
     "metadata": {},
     "output_type": "execute_result"
    }
   ],
   "execution_count": 6
  },
  {
   "metadata": {
    "ExecuteTime": {
     "end_time": "2024-10-08T15:36:13.278814Z",
     "start_time": "2024-10-08T15:36:13.275318Z"
    }
   },
   "cell_type": "code",
   "source": "lower_ci_iqtree",
   "id": "388aa27ad336d43f",
   "outputs": [
    {
     "data": {
      "text/plain": [
       "[]"
      ]
     },
     "execution_count": 7,
     "metadata": {},
     "output_type": "execute_result"
    }
   ],
   "execution_count": 7
  },
  {
   "metadata": {
    "ExecuteTime": {
     "end_time": "2024-10-08T15:36:13.340075Z",
     "start_time": "2024-10-08T15:36:13.336164Z"
    }
   },
   "cell_type": "code",
   "source": "upper_ci_iqtree",
   "id": "816e569fb763e797",
   "outputs": [
    {
     "data": {
      "text/plain": [
       "[]"
      ]
     },
     "execution_count": 8,
     "metadata": {},
     "output_type": "execute_result"
    }
   ],
   "execution_count": 8
  },
  {
   "metadata": {
    "ExecuteTime": {
     "end_time": "2024-10-08T15:36:13.416373Z",
     "start_time": "2024-10-08T15:36:13.410876Z"
    }
   },
   "cell_type": "code",
   "source": [
    "file_LG = open(\"LG_co_out.txt\", \"r\")\n",
    "lines1 = file_LG.readlines()\n",
    "file_LG.close()\n",
    "\n",
    "# Extract the data\n",
    "data1 = []\n",
    "mu_data1 = []\n",
    "var_data1 = []\n",
    "\n",
    "read_flag = False\n",
    "for line in lines1:\n",
    "    if line.startswith(\"Posterior\"):\n",
    "        read_flag = True\n",
    "    if read_flag and line.startswith(\"t\"):\n",
    "        data1.append(line)\n",
    "    if read_flag and line.startswith(\"mu\"):\n",
    "        mu_data1.append(line)\n",
    "    if read_flag and line.startswith(\"sigma\"):\n",
    "        var_data1.append(line)\n",
    "\n",
    "        \n",
    "for line in data1:\n",
    "    line = line.strip().split()\n",
    "    # node_name.append(line[0])\n",
    "    posterior_mean_baseml.append(float(line[1]))\n",
    "#     if line[3].startswith('('):\n",
    "#         lower_ci_baseml.append(float(line[3][1:-1]))\n",
    "#     else:\n",
    "#          lower_ci_baseml.append(float(line[3][:-1]))\n",
    "#     if line[4].startswith('('):\n",
    "#         upper_ci_baseml.append(float(line[4][1:-1]))\n",
    "#     else:\n",
    "#          upper_ci_baseml.append(float(line[4][:-1]))\n",
    "#         \n",
    "#     \n",
    "# for line in mu_data1:\n",
    "#     line = line.strip().split()\n",
    "#     # node_name.append(line[0])\n",
    "#     posterior_mean_mu_baseml.append(float(line[1]))\n",
    "#     lower_ci_mu_baseml.append(float(line[3][:-1]))\n",
    "#     upper_ci_mu_baseml.append(float(line[4][:-1]))\n",
    "    \n",
    "# for line in var_data1:\n",
    "#     line = line.strip().split()\n",
    "#     # node_name.append(line[0])\n",
    "#     posterior_mean_var_baseml.append(float(line[1]))\n",
    "#     lower_ci_var_baseml.append(float(line[3][:-1]))\n",
    "#     upper_ci_var_baseml.append(float(line[4][:-1]))"
   ],
   "id": "f75c012c6bef60a2",
   "outputs": [],
   "execution_count": 9
  },
  {
   "metadata": {
    "ExecuteTime": {
     "end_time": "2024-10-08T15:36:13.466884Z",
     "start_time": "2024-10-08T15:36:13.463039Z"
    }
   },
   "cell_type": "code",
   "source": [
    "import matplotlib.pyplot as plt\n",
    "import numpy as np\n",
    "\n",
    "# # Example data\n",
    "# # Posterior means for MCMCtree (x-axis) and McmcDate (y-axis)\n",
    "# posterior_mean_mcmctree = [100, 200, 300, 400, 500, 600, 700, 800, 900, 1000]\n",
    "# posterior_mean_mcmcdate = [110, 210, 310, 410, 510, 610, 710, 810, 910, 1010]\n",
    "# \n",
    "# # Credible intervals for MCMCtree\n",
    "# lower_ci_mcmctree = [90, 180, 270, 360, 450, 540, 630, 720, 810, 900]\n",
    "# upper_ci_mcmctree = [110, 220, 330, 440, 550, 660, 770, 880, 990, 1100]\n",
    "# \n",
    "# # Credible intervals for McmcDate\n",
    "# lower_ci_mcmcdate = [100, 200, 300, 400, 500, 600, 700, 800, 900, 1000]\n",
    "# upper_ci_mcmcdate = [120, 220, 320, 420, 520, 620, 720, 820, 920, 1020]\n",
    "\n",
    "# Calculate error bars\n",
    "# xerr = [np.array(lower_ci_baseml), \n",
    "#         np.array(upper_ci_baseml)]\n",
    "# yerr = [np.array(lower_ci_iqtree), \n",
    "#         np.array(upper_ci_iqtree)]\n",
    "# \n",
    "# # Plotting\n",
    "# fig, ax = plt.subplots(figsize=(15, 15))\n",
    "# ax.plot([-0.1,90], \n",
    "#         [-0.1, 90], \n",
    "#         'k--', label='y=x')\n",
    "# ax.errorbar(posterior_mean_baseml, posterior_mean_iqtree, \n",
    "#             xerr=xerr, yerr=yerr, fmt='*', ecolor='r', capsize=3, label='95% HPD CI')\n",
    "# \n",
    "# # Labels and title\n",
    "# ax.set_xlabel('Posterior mean age LG [100 Mya]', fontsize=18)\n",
    "# ax.set_ylabel('Posterior mean age LG+G4 [100 Mya]', fontsize=18)\n",
    "# ax.set_title('Posterior mean age comparison between LG and LG+G4 models [t116 ~ B(1.25,2.482)]')\n",
    "# ax.legend()\n",
    "# \n",
    "# # Show plot\n",
    "# # plt.show()\n",
    "# plt.savefig('./animal_origin_posterior_mean_age_comparison_LG_G4_c11.png')"
   ],
   "id": "12db486fa4fac82c",
   "outputs": [],
   "execution_count": 10
  },
  {
   "metadata": {
    "ExecuteTime": {
     "end_time": "2024-10-08T15:36:13.533655Z",
     "start_time": "2024-10-08T15:36:13.526395Z"
    }
   },
   "cell_type": "code",
   "source": "posterior_mean_baseml",
   "id": "917b2e31cff4b992",
   "outputs": [
    {
     "data": {
      "text/plain": [
       "[11.5133,\n",
       " 11.3993,\n",
       " 10.526,\n",
       " 9.3662,\n",
       " 8.9827,\n",
       " 8.506,\n",
       " 7.8188,\n",
       " 4.3775,\n",
       " 6.1195,\n",
       " 4.769,\n",
       " 4.1669,\n",
       " 3.2929,\n",
       " 2.2873,\n",
       " 1.5568,\n",
       " 0.7175,\n",
       " 4.7394,\n",
       " 8.5698,\n",
       " 7.2037,\n",
       " 7.7828,\n",
       " 5.7834,\n",
       " 4.9481,\n",
       " 5.4336,\n",
       " 8.6259,\n",
       " 8.1174,\n",
       " 7.7566,\n",
       " 7.3025,\n",
       " 6.7314,\n",
       " 6.4347,\n",
       " 5.6625,\n",
       " 5.1296,\n",
       " 4.6264,\n",
       " 3.6692,\n",
       " 3.1983,\n",
       " 5.7662,\n",
       " 4.5933,\n",
       " 8.3677,\n",
       " 2.6975,\n",
       " 8.0756,\n",
       " 7.4859,\n",
       " 6.6366,\n",
       " 6.052,\n",
       " 4.5921,\n",
       " 4.9189,\n",
       " 6.3879,\n",
       " 5.8549,\n",
       " 4.9785,\n",
       " 4.4407,\n",
       " 5.489,\n",
       " 9.5604,\n",
       " 7.4096,\n",
       " 4.7546,\n",
       " 4.601,\n",
       " 8.4264]"
      ]
     },
     "execution_count": 11,
     "metadata": {},
     "output_type": "execute_result"
    }
   ],
   "execution_count": 11
  },
  {
   "metadata": {
    "ExecuteTime": {
     "end_time": "2024-10-08T15:36:13.605445Z",
     "start_time": "2024-10-08T15:36:13.595154Z"
    }
   },
   "cell_type": "code",
   "source": "posterior_mean_iqtree",
   "id": "59ad8fd34f7bbf11",
   "outputs": [
    {
     "data": {
      "text/plain": [
       "[9.6587,\n",
       " 9.5566,\n",
       " 9.1232,\n",
       " 8.1653,\n",
       " 7.9557,\n",
       " 7.6745,\n",
       " 7.2567,\n",
       " 3.8122,\n",
       " 5.6061,\n",
       " 4.3716,\n",
       " 3.9385,\n",
       " 3.1958,\n",
       " 2.2648,\n",
       " 1.5627,\n",
       " 0.73,\n",
       " 4.3742,\n",
       " 7.7971,\n",
       " 7.5339,\n",
       " 7.2624,\n",
       " 5.468,\n",
       " 4.9544,\n",
       " 5.2941,\n",
       " 7.6147,\n",
       " 7.3048,\n",
       " 7.099,\n",
       " 6.7121,\n",
       " 6.2527,\n",
       " 6.1012,\n",
       " 5.4269,\n",
       " 4.992,\n",
       " 4.6262,\n",
       " 3.5971,\n",
       " 3.3199,\n",
       " 5.446,\n",
       " 4.4916,\n",
       " 7.4986,\n",
       " 1.6541,\n",
       " 7.3445,\n",
       " 6.9272,\n",
       " 6.2639,\n",
       " 5.8478,\n",
       " 4.3873,\n",
       " 5.0069,\n",
       " 5.9994,\n",
       " 5.7895,\n",
       " 5.3654,\n",
       " 4.0497,\n",
       " 5.2391,\n",
       " 8.4231,\n",
       " 6.504,\n",
       " 4.2164,\n",
       " 3.6427,\n",
       " 6.5269]"
      ]
     },
     "execution_count": 12,
     "metadata": {},
     "output_type": "execute_result"
    }
   ],
   "execution_count": 12
  },
  {
   "metadata": {
    "ExecuteTime": {
     "end_time": "2024-10-08T15:36:13.991844Z",
     "start_time": "2024-10-08T15:36:13.783963Z"
    }
   },
   "cell_type": "code",
   "source": [
    "# Calculate error bars\n",
    "xerr = [np.array(lower_ci_baseml), \n",
    "        np.array(upper_ci_baseml)]\n",
    "yerr = [np.array(lower_ci_iqtree), \n",
    "        np.array(upper_ci_iqtree)]\n",
    "\n",
    "# Plotting\n",
    "fig, ax = plt.subplots(figsize=(9 ,9))\n",
    "ax.plot([-0.1,17], \n",
    "        [-0.1, 17], \n",
    "        'k--', label='y=x')\n",
    "ax.plot(posterior_mean_baseml, posterior_mean_iqtree, 'o', label='Posterior mean age')\n",
    " \n",
    "# Labels and title\n",
    "ax.set_xlabel('Posterior mean age LG [Mya]', fontsize=18)\n",
    "ax.set_ylabel('Posterior mean age LG+G4+C20 [Mya]', fontsize=18)\n",
    "ax.set_title('Posterior mean age comparison between LG and LG+G4 [cherry only calibrations]')\n",
    "ax.legend()\n",
    "\n",
    "# point_x = posterior_mean_baseml[0]  # Example: first point in the list\n",
    "# point_y = posterior_mean_iqtree[0]  # Example: first point in the list\n",
    "# ax.annotate('Root age', xy=(point_x, point_y), xytext=(point_x - 0.1, point_y - 0.1), color='red')\n",
    "# Show plot\n",
    "# plt.show()\n",
    "plt.savefig('metazoa_posterior_mean_age_comparison_LG_G4_C20_co_scatter.png')"
   ],
   "id": "592d0bb72aa1ad4c",
   "outputs": [
    {
     "data": {
      "text/plain": [
       "<Figure size 900x900 with 1 Axes>"
      ],
      "image/png": "[encoded data removed]"
     },
     "metadata": {},
     "output_type": "display_data"
    }
   ],
   "execution_count": 13
  },
  {
   "metadata": {
    "ExecuteTime": {
     "end_time": "2024-10-08T15:36:14.003703Z",
     "start_time": "2024-10-08T15:36:14.001463Z"
    }
   },
   "cell_type": "code",
   "source": [
    "# fig, ax = plt.subplots(figsize=(9 ,9))\n",
    "# ax.plot([0.01,0.04], \n",
    "#         [0.01, 0.04], \n",
    "#         'k--', label='y=x')\n",
    "# ax.plot(posterior_mean_mu_baseml, posterior_mean_mu_iqtree, 'o', label='Posterior mean rates for partitions')\n",
    "#  \n",
    "# # Labels and title\n",
    "# ax.set_xlabel('Posterior mean rate [LG]', fontsize=18)\n",
    "# ax.set_ylabel('Posterior mean rate [LG+G4]', fontsize=18)\n",
    "# ax.set_title('Posterior mean rate comparison between LG and LG+G4 [Cherry only calibration/IQ-TREE]')\n",
    "# ax.legend()\n",
    "# \n",
    "# # point_x = posterior_mean_baseml[0]  # Example: first point in the list\n",
    "# # point_y = posterior_mean_iqtree[0]  # Example: first point in the list\n",
    "# # ax.annotate('Root age', xy=(point_x, point_y), xytext=(point_x - 0.1, point_y - 0.1), color='red')\n",
    "# # Show plot\n",
    "# # plt.show()\n",
    "# plt.savefig('./animal_origin__posterior_mean_rate_comparison_LG_G4_all_scatter.png')"
   ],
   "id": "c6d69ee36c77970c",
   "outputs": [],
   "execution_count": 14
  },
  {
   "metadata": {
    "ExecuteTime": {
     "end_time": "2024-10-08T15:36:14.045527Z",
     "start_time": "2024-10-08T15:36:14.043690Z"
    }
   },
   "cell_type": "code",
   "source": "",
   "id": "ca69d5b521db3aa7",
   "outputs": [],
   "execution_count": null
  }
 ],
 "metadata": {
  "kernelspec": {
   "display_name": "Python 3",
   "language": "python",
   "name": "python3"
  },
  "language_info": {
   "codemirror_mode": {
    "name": "ipython",
    "version": 2
   },
   "file_extension": ".py",
   "mimetype": "text/x-python",
   "name": "python",
   "nbconvert_exporter": "python",
   "pygments_lexer": "ipython2",
   "version": "2.7.6"
  }
 },
 "nbformat": 4,
 "nbformat_minor": 5
}
