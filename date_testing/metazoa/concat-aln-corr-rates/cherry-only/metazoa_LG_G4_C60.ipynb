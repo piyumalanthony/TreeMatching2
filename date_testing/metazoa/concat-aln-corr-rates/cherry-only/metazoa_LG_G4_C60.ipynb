{
 "cells": [
  {
   "cell_type": "code",
   "id": "initial_id",
   "metadata": {
    "collapsed": true,
    "ExecuteTime": {
     "end_time": "2024-10-08T15:37:06.099286Z",
     "start_time": "2024-10-08T15:37:05.727117Z"
    }
   },
   "source": [
    "# Code to get all the Posterior mean (95% Equal-tail CI) (95% HPD CI) HPD-CI-width from ./xenarthra_mcmc_out.txt\n",
    "import numpy as np\n",
    "import pandas as pd\n",
    "import matplotlib.pyplot as plt\n",
    "\n",
    "\n",
    "# Read the file\n",
    "file = open(\"LG_G4_C60_co_out.txt\", \"r\")\n",
    "lines = file.readlines()\n",
    "file.close()\n",
    "\n",
    "# Extract the data\n",
    "data = []\n",
    "mu_data = []\n",
    "var_data = []\n",
    "\n",
    "read_flag = False\n",
    "for line in lines:\n",
    "    if line.startswith(\"Posterior\"):\n",
    "        read_flag = True\n",
    "    if read_flag and line.startswith(\"t\"):\n",
    "        data.append(line)\n",
    "    if read_flag and line.startswith(\"mu\"):\n",
    "        mu_data.append(line)\n",
    "    if read_flag and line.startswith(\"sigma\"):\n",
    "        var_data.append(line)"
   ],
   "outputs": [],
   "execution_count": 1
  },
  {
   "metadata": {
    "ExecuteTime": {
     "end_time": "2024-10-08T15:37:06.114483Z",
     "start_time": "2024-10-08T15:37:06.108558Z"
    }
   },
   "cell_type": "code",
   "source": "data",
   "id": "54808ee54195795",
   "outputs": [
    {
     "data": {
      "text/plain": [
       "['t_n55          9.5767 ( 8.5040, 10.8048) ( 8.4490, 10.7302)  2.2813 (Jnode 106)\\n',\n",
       " 't_n56          9.4745 ( 8.4202, 10.6598) ( 8.3427, 10.5667)  2.2240 (Jnode 105)\\n',\n",
       " 't_n57          9.0739 ( 8.1102, 10.1553) ( 8.0486, 10.0774)  2.0288 (Jnode 104)\\n',\n",
       " 't_n58          8.1135 ( 7.3666,  8.9775) ( 7.3444,  8.9432)  1.5988 (Jnode 103)\\n',\n",
       " 't_n59          7.9212 ( 7.2086,  8.7545) ( 7.1573,  8.6877)  1.5304 (Jnode 102)\\n',\n",
       " 't_n60          7.6494 ( 6.9784,  8.4456) ( 6.9266,  8.3772)  1.4507 (Jnode 101)\\n',\n",
       " 't_n61          7.2338 ( 6.6085,  7.9808) ( 6.5860,  7.9375)  1.3515 (Jnode 100)\\n',\n",
       " 't_n62          3.7766 ( 2.4965,  4.8498) ( 2.6335,  4.9566)  2.3230 (Jnode 99)\\n',\n",
       " 't_n63          5.5721 ( 4.9288,  6.2951) ( 4.8978,  6.2549)  1.3571 (Jnode 98)\\n',\n",
       " 't_n64          4.3528 ( 3.6926,  5.0901) ( 3.6481,  5.0304)  1.3823 (Jnode 97)\\n',\n",
       " 't_n65          3.9401 ( 3.3016,  4.6627) ( 3.2770,  4.6172)  1.3402 (Jnode 96)\\n',\n",
       " 't_n66          3.1991 ( 2.6097,  3.8695) ( 2.5634,  3.8007)  1.2373 (Jnode 95)\\n',\n",
       " 't_n67          2.2703 ( 1.8166,  2.8438) ( 1.7824,  2.7866)  1.0042 (Jnode 94)\\n',\n",
       " 't_n68          1.5632 ( 1.2446,  2.0286) ( 1.2233,  1.9805)  0.7573 (Jnode 93)\\n',\n",
       " 't_n69          0.7334 ( 0.6184,  0.9994) ( 0.6133,  0.9373)  0.3240 (Jnode 92)\\n',\n",
       " 't_n70          4.3284 ( 3.6783,  5.1346) ( 3.6068,  5.0016)  1.3947 (Jnode 91)\\n',\n",
       " 't_n71          7.7784 ( 7.0904,  8.5880) ( 7.0225,  8.5084)  1.4860 (Jnode 90)\\n',\n",
       " 't_n72          7.5967 ( 6.9197,  8.3955) ( 6.8677,  8.3265)  1.4589 (Jnode 89)\\n',\n",
       " 't_n73          7.2395 ( 6.6388,  7.9635) ( 6.6093,  7.9183)  1.3089 (Jnode 88)\\n',\n",
       " 't_n74          5.4573 ( 4.5286,  6.2479) ( 4.6148,  6.3186)  1.7038 (Jnode 87)\\n',\n",
       " 't_n75          4.9485 ( 3.9807,  5.7776) ( 4.0646,  5.8532)  1.7887 (Jnode 86)\\n',\n",
       " 't_n76          5.2901 ( 5.0520,  5.8191) ( 5.0426,  5.6984)  0.6558 (Jnode 85)\\n',\n",
       " 't_n77          7.5679 ( 6.9203,  8.3294) ( 6.8857,  8.2799)  1.3941 (Jnode 84)\\n',\n",
       " 't_n78          7.2751 ( 6.6628,  7.9948) ( 6.6405,  7.9546)  1.3141 (Jnode 83)\\n',\n",
       " 't_n79          7.0746 ( 6.4862,  7.7669) ( 6.4589,  7.7286)  1.2696 (Jnode 82)\\n',\n",
       " 't_n80          6.6958 ( 6.1510,  7.3413) ( 6.1192,  7.3005)  1.1813 (Jnode 81)\\n',\n",
       " 't_n81          6.2304 ( 5.7398,  6.8247) ( 5.6864,  6.7632)  1.0768 (Jnode 80)\\n',\n",
       " 't_n82          6.0863 ( 5.6046,  6.6660) ( 5.5659,  6.6179)  1.0520 (Jnode 79)\\n',\n",
       " 't_n83          5.4029 ( 4.9632,  5.9461) ( 4.9322,  5.9087)  0.9766 (Jnode 78)\\n',\n",
       " 't_n84          4.9796 ( 4.5550,  5.5093) ( 4.5330,  5.4780)  0.9450 (Jnode 77)\\n',\n",
       " 't_n85          4.6097 ( 4.2059,  5.1313) ( 4.1727,  5.0866)  0.9140 (Jnode 76)\\n',\n",
       " 't_n86          3.5711 ( 3.2804,  4.0635) ( 3.2413,  3.9826)  0.7413 (Jnode 75)\\n',\n",
       " 't_n87          3.3227 ( 3.0648,  3.8106) ( 3.0534,  3.7185)  0.6651 (Jnode 74)\\n',\n",
       " 't_n88          5.4268 ( 5.0027,  5.9709) ( 4.9610,  5.9130)  0.9519 (Jnode 73)\\n',\n",
       " 't_n89          4.4934 ( 4.1749,  5.0563) ( 4.1584,  4.9460)  0.7876 (Jnode 72)\\n',\n",
       " 't_n90          7.4486 ( 6.8170,  8.1915) ( 6.7831,  8.1388)  1.3557 (Jnode 71)\\n',\n",
       " 't_n91          1.6200 ( 0.7906,  3.1284) ( 0.6450,  2.6929)  2.0478 (Jnode 70)\\n',\n",
       " 't_n92          7.3077 ( 6.6990,  8.0258) ( 6.6674,  7.9793)  1.3120 (Jnode 69)\\n',\n",
       " 't_n93          6.8983 ( 6.3480,  7.5520) ( 6.3311,  7.5256)  1.1945 (Jnode 68)\\n',\n",
       " 't_n94          6.2272 ( 5.7640,  6.7929) ( 5.7353,  6.7537)  1.0184 (Jnode 67)\\n',\n",
       " 't_n95          5.8392 ( 5.4257,  6.3521) ( 5.3954,  6.3138)  0.9184 (Jnode 66)\\n',\n",
       " 't_n96          4.3776 ( 3.6457,  5.0213) ( 3.6791,  5.0522)  1.3731 (Jnode 65)\\n',\n",
       " 't_n97          5.0152 ( 4.7151,  5.4565) ( 4.7014,  5.4138)  0.7125 (Jnode 64)\\n',\n",
       " 't_n98          5.9774 ( 5.4237,  6.5914) ( 5.4226,  6.5879)  1.1653 (Jnode 63)\\n',\n",
       " 't_n99          5.7788 ( 5.2114,  6.3927) ( 5.1946,  6.3712)  1.1766 (Jnode 62)\\n',\n",
       " 't_n100         5.4114 ( 4.8154,  6.0365) ( 4.8139,  6.0343)  1.2205 (Jnode 61)\\n',\n",
       " 't_n101         4.0117 ( 3.2422,  4.8243) ( 3.2280,  4.8055)  1.5775 (Jnode 60)\\n',\n",
       " 't_n102         5.2462 ( 4.2909,  6.0563) ( 4.3287,  6.0849)  1.7561 (Jnode 59)\\n',\n",
       " 't_n103         8.3893 ( 7.5240,  9.3823) ( 7.4651,  9.3037)  1.8386 (Jnode 58)\\n',\n",
       " 't_n104         6.4826 ( 5.3192,  7.5734) ( 5.3747,  7.6182)  2.2435 (Jnode 57)\\n',\n",
       " 't_n105         4.2021 ( 3.0940,  5.4969) ( 3.1257,  5.5231)  2.3974 (Jnode 56)\\n',\n",
       " 't_n106         3.6065 ( 1.7615,  5.0436) ( 1.7920,  5.0690)  3.2770 (Jnode 55)\\n',\n",
       " 't_n107         6.4108 ( 4.5752,  8.0111) ( 4.6443,  8.0517)  3.4074 (Jnode 54)\\n']"
      ]
     },
     "execution_count": 2,
     "metadata": {},
     "output_type": "execute_result"
    }
   ],
   "execution_count": 2
  },
  {
   "metadata": {
    "ExecuteTime": {
     "end_time": "2024-10-08T15:37:06.165026Z",
     "start_time": "2024-10-08T15:37:06.162230Z"
    }
   },
   "cell_type": "code",
   "source": [
    "node_name = []\n",
    "posterior_mean_iqtree = []\n",
    "posterior_mean_baseml = []\n",
    "\n",
    "posterior_mean_mu_iqtree = []\n",
    "posterior_mean_mu_baseml = []\n",
    "\n",
    "posterior_mean_var_iqtree = []\n",
    "posterior_mean_var_baseml = []\n",
    "\n",
    "lower_ci_iqtree = []\n",
    "upper_ci_iqtree = []\n",
    "\n",
    "lower_ci_mu_iqtree = []\n",
    "upper_ci_mu_iqtree = []\n",
    "\n",
    "lower_ci_var_iqtree = []\n",
    "upper_ci_var_iqtree = []\n",
    "\n",
    "# Credible intervals for McmcDate\n",
    "lower_ci_baseml = []\n",
    "upper_ci_baseml = []\n",
    "\n",
    "lower_ci_mu_baseml = []\n",
    "upper_ci_mu_baseml = []\n",
    "\n",
    "lower_ci_var_baseml = []\n",
    "upper_ci_var_baseml = []"
   ],
   "id": "e5cf93a69d327e61",
   "outputs": [],
   "execution_count": 3
  },
  {
   "metadata": {
    "ExecuteTime": {
     "end_time": "2024-10-08T15:37:06.217754Z",
     "start_time": "2024-10-08T15:37:06.212436Z"
    }
   },
   "cell_type": "code",
   "source": [
    "for line in data:\n",
    "    line = line.strip().split()\n",
    "    node_name.append(line[0])\n",
    "    posterior_mean_iqtree.append(float(line[1]))\n",
    "#     if line[3].startswith('('):\n",
    "#         lower_ci_iqtree.append(float(line[3][1:-1]))\n",
    "#     else:\n",
    "#         lower_ci_iqtree.append(float(line[3][1:-1]))\n",
    "#     if line[4].startswith('('):\n",
    "#         upper_ci_iqtree.append(float(line[4][1:-1]))\n",
    "#     else:\n",
    "#         upper_ci_iqtree.append(float(line[4][:-1]))\n",
    "#     # posterior_mean_baseml.append(float(line[4]))\n",
    "#     # lower_ci_baseml.append(float(line[5]))\n",
    "#     # upper_ci_baseml.append(float(line[6]))\n",
    "# \n",
    "# for line in mu_data:\n",
    "#     line = line.strip().split()\n",
    "#     # node_name.append(line[0])\n",
    "#     posterior_mean_mu_iqtree.append(float(line[1]))\n",
    "#     lower_ci_mu_iqtree.append(float(line[3][:-1]))\n",
    "#     upper_ci_mu_iqtree.append(float(line[4][:-1]))\n",
    "#\n",
    "# for line in var_data:\n",
    "#     line = line.strip().split()\n",
    "#     # node_name.append(line[0])\n",
    "#     posterior_mean_var_iqtree.append(float(line[1]))\n",
    "#     lower_ci_var_iqtree.append(float(line[3][:-1]))\n",
    "#     upper_ci_var_iqtree.append(float(line[4][:-1]))"
   ],
   "id": "4e79ee928ea76b59",
   "outputs": [],
   "execution_count": 4
  },
  {
   "metadata": {
    "ExecuteTime": {
     "end_time": "2024-10-08T15:37:06.277979Z",
     "start_time": "2024-10-08T15:37:06.274012Z"
    }
   },
   "cell_type": "code",
   "source": "node_name",
   "id": "2c17f55ec9626a0b",
   "outputs": [
    {
     "data": {
      "text/plain": [
       "['t_n55',\n",
       " 't_n56',\n",
       " 't_n57',\n",
       " 't_n58',\n",
       " 't_n59',\n",
       " 't_n60',\n",
       " 't_n61',\n",
       " 't_n62',\n",
       " 't_n63',\n",
       " 't_n64',\n",
       " 't_n65',\n",
       " 't_n66',\n",
       " 't_n67',\n",
       " 't_n68',\n",
       " 't_n69',\n",
       " 't_n70',\n",
       " 't_n71',\n",
       " 't_n72',\n",
       " 't_n73',\n",
       " 't_n74',\n",
       " 't_n75',\n",
       " 't_n76',\n",
       " 't_n77',\n",
       " 't_n78',\n",
       " 't_n79',\n",
       " 't_n80',\n",
       " 't_n81',\n",
       " 't_n82',\n",
       " 't_n83',\n",
       " 't_n84',\n",
       " 't_n85',\n",
       " 't_n86',\n",
       " 't_n87',\n",
       " 't_n88',\n",
       " 't_n89',\n",
       " 't_n90',\n",
       " 't_n91',\n",
       " 't_n92',\n",
       " 't_n93',\n",
       " 't_n94',\n",
       " 't_n95',\n",
       " 't_n96',\n",
       " 't_n97',\n",
       " 't_n98',\n",
       " 't_n99',\n",
       " 't_n100',\n",
       " 't_n101',\n",
       " 't_n102',\n",
       " 't_n103',\n",
       " 't_n104',\n",
       " 't_n105',\n",
       " 't_n106',\n",
       " 't_n107']"
      ]
     },
     "execution_count": 5,
     "metadata": {},
     "output_type": "execute_result"
    }
   ],
   "execution_count": 5
  },
  {
   "metadata": {
    "ExecuteTime": {
     "end_time": "2024-10-08T15:37:06.342935Z",
     "start_time": "2024-10-08T15:37:06.339135Z"
    }
   },
   "cell_type": "code",
   "source": "posterior_mean_iqtree",
   "id": "24a55c806a41f33e",
   "outputs": [
    {
     "data": {
      "text/plain": [
       "[9.5767,\n",
       " 9.4745,\n",
       " 9.0739,\n",
       " 8.1135,\n",
       " 7.9212,\n",
       " 7.6494,\n",
       " 7.2338,\n",
       " 3.7766,\n",
       " 5.5721,\n",
       " 4.3528,\n",
       " 3.9401,\n",
       " 3.1991,\n",
       " 2.2703,\n",
       " 1.5632,\n",
       " 0.7334,\n",
       " 4.3284,\n",
       " 7.7784,\n",
       " 7.5967,\n",
       " 7.2395,\n",
       " 5.4573,\n",
       " 4.9485,\n",
       " 5.2901,\n",
       " 7.5679,\n",
       " 7.2751,\n",
       " 7.0746,\n",
       " 6.6958,\n",
       " 6.2304,\n",
       " 6.0863,\n",
       " 5.4029,\n",
       " 4.9796,\n",
       " 4.6097,\n",
       " 3.5711,\n",
       " 3.3227,\n",
       " 5.4268,\n",
       " 4.4934,\n",
       " 7.4486,\n",
       " 1.62,\n",
       " 7.3077,\n",
       " 6.8983,\n",
       " 6.2272,\n",
       " 5.8392,\n",
       " 4.3776,\n",
       " 5.0152,\n",
       " 5.9774,\n",
       " 5.7788,\n",
       " 5.4114,\n",
       " 4.0117,\n",
       " 5.2462,\n",
       " 8.3893,\n",
       " 6.4826,\n",
       " 4.2021,\n",
       " 3.6065,\n",
       " 6.4108]"
      ]
     },
     "execution_count": 6,
     "metadata": {},
     "output_type": "execute_result"
    }
   ],
   "execution_count": 6
  },
  {
   "metadata": {
    "ExecuteTime": {
     "end_time": "2024-10-08T15:37:06.395155Z",
     "start_time": "2024-10-08T15:37:06.391976Z"
    }
   },
   "cell_type": "code",
   "source": "lower_ci_iqtree",
   "id": "388aa27ad336d43f",
   "outputs": [
    {
     "data": {
      "text/plain": [
       "[]"
      ]
     },
     "execution_count": 7,
     "metadata": {},
     "output_type": "execute_result"
    }
   ],
   "execution_count": 7
  },
  {
   "metadata": {
    "ExecuteTime": {
     "end_time": "2024-10-08T15:37:06.451675Z",
     "start_time": "2024-10-08T15:37:06.448831Z"
    }
   },
   "cell_type": "code",
   "source": "upper_ci_iqtree",
   "id": "816e569fb763e797",
   "outputs": [
    {
     "data": {
      "text/plain": [
       "[]"
      ]
     },
     "execution_count": 8,
     "metadata": {},
     "output_type": "execute_result"
    }
   ],
   "execution_count": 8
  },
  {
   "metadata": {
    "ExecuteTime": {
     "end_time": "2024-10-08T15:37:06.512284Z",
     "start_time": "2024-10-08T15:37:06.505270Z"
    }
   },
   "cell_type": "code",
   "source": [
    "file_LG = open(\"LG_co_out.txt\", \"r\")\n",
    "lines1 = file_LG.readlines()\n",
    "file_LG.close()\n",
    "\n",
    "# Extract the data\n",
    "data1 = []\n",
    "mu_data1 = []\n",
    "var_data1 = []\n",
    "\n",
    "read_flag = False\n",
    "for line in lines1:\n",
    "    if line.startswith(\"Posterior\"):\n",
    "        read_flag = True\n",
    "    if read_flag and line.startswith(\"t\"):\n",
    "        data1.append(line)\n",
    "    if read_flag and line.startswith(\"mu\"):\n",
    "        mu_data1.append(line)\n",
    "    if read_flag and line.startswith(\"sigma\"):\n",
    "        var_data1.append(line)\n",
    "\n",
    "        \n",
    "for line in data1:\n",
    "    line = line.strip().split()\n",
    "    # node_name.append(line[0])\n",
    "    posterior_mean_baseml.append(float(line[1]))\n",
    "#     if line[3].startswith('('):\n",
    "#         lower_ci_baseml.append(float(line[3][1:-1]))\n",
    "#     else:\n",
    "#          lower_ci_baseml.append(float(line[3][:-1]))\n",
    "#     if line[4].startswith('('):\n",
    "#         upper_ci_baseml.append(float(line[4][1:-1]))\n",
    "#     else:\n",
    "#          upper_ci_baseml.append(float(line[4][:-1]))\n",
    "#         \n",
    "#     \n",
    "# for line in mu_data1:\n",
    "#     line = line.strip().split()\n",
    "#     # node_name.append(line[0])\n",
    "#     posterior_mean_mu_baseml.append(float(line[1]))\n",
    "#     lower_ci_mu_baseml.append(float(line[3][:-1]))\n",
    "#     upper_ci_mu_baseml.append(float(line[4][:-1]))\n",
    "    \n",
    "# for line in var_data1:\n",
    "#     line = line.strip().split()\n",
    "#     # node_name.append(line[0])\n",
    "#     posterior_mean_var_baseml.append(float(line[1]))\n",
    "#     lower_ci_var_baseml.append(float(line[3][:-1]))\n",
    "#     upper_ci_var_baseml.append(float(line[4][:-1]))"
   ],
   "id": "f75c012c6bef60a2",
   "outputs": [],
   "execution_count": 9
  },
  {
   "metadata": {
    "ExecuteTime": {
     "end_time": "2024-10-08T15:37:06.566367Z",
     "start_time": "2024-10-08T15:37:06.560647Z"
    }
   },
   "cell_type": "code",
   "source": [
    "import matplotlib.pyplot as plt\n",
    "import numpy as np\n",
    "\n",
    "# # Example data\n",
    "# # Posterior means for MCMCtree (x-axis) and McmcDate (y-axis)\n",
    "# posterior_mean_mcmctree = [100, 200, 300, 400, 500, 600, 700, 800, 900, 1000]\n",
    "# posterior_mean_mcmcdate = [110, 210, 310, 410, 510, 610, 710, 810, 910, 1010]\n",
    "# \n",
    "# # Credible intervals for MCMCtree\n",
    "# lower_ci_mcmctree = [90, 180, 270, 360, 450, 540, 630, 720, 810, 900]\n",
    "# upper_ci_mcmctree = [110, 220, 330, 440, 550, 660, 770, 880, 990, 1100]\n",
    "# \n",
    "# # Credible intervals for McmcDate\n",
    "# lower_ci_mcmcdate = [100, 200, 300, 400, 500, 600, 700, 800, 900, 1000]\n",
    "# upper_ci_mcmcdate = [120, 220, 320, 420, 520, 620, 720, 820, 920, 1020]\n",
    "\n",
    "# Calculate error bars\n",
    "# xerr = [np.array(lower_ci_baseml), \n",
    "#         np.array(upper_ci_baseml)]\n",
    "# yerr = [np.array(lower_ci_iqtree), \n",
    "#         np.array(upper_ci_iqtree)]\n",
    "# \n",
    "# # Plotting\n",
    "# fig, ax = plt.subplots(figsize=(15, 15))\n",
    "# ax.plot([-0.1,90], \n",
    "#         [-0.1, 90], \n",
    "#         'k--', label='y=x')\n",
    "# ax.errorbar(posterior_mean_baseml, posterior_mean_iqtree, \n",
    "#             xerr=xerr, yerr=yerr, fmt='*', ecolor='r', capsize=3, label='95% HPD CI')\n",
    "# \n",
    "# # Labels and title\n",
    "# ax.set_xlabel('Posterior mean age LG [100 Mya]', fontsize=18)\n",
    "# ax.set_ylabel('Posterior mean age LG+G4 [100 Mya]', fontsize=18)\n",
    "# ax.set_title('Posterior mean age comparison between LG and LG+G4 models [t116 ~ B(1.25,2.482)]')\n",
    "# ax.legend()\n",
    "# \n",
    "# # Show plot\n",
    "# # plt.show()\n",
    "# plt.savefig('./animal_origin_posterior_mean_age_comparison_LG_G4_c11.png')"
   ],
   "id": "12db486fa4fac82c",
   "outputs": [],
   "execution_count": 10
  },
  {
   "metadata": {
    "ExecuteTime": {
     "end_time": "2024-10-08T15:37:06.627969Z",
     "start_time": "2024-10-08T15:37:06.621179Z"
    }
   },
   "cell_type": "code",
   "source": "posterior_mean_baseml",
   "id": "917b2e31cff4b992",
   "outputs": [
    {
     "data": {
      "text/plain": [
       "[11.5133,\n",
       " 11.3993,\n",
       " 10.526,\n",
       " 9.3662,\n",
       " 8.9827,\n",
       " 8.506,\n",
       " 7.8188,\n",
       " 4.3775,\n",
       " 6.1195,\n",
       " 4.769,\n",
       " 4.1669,\n",
       " 3.2929,\n",
       " 2.2873,\n",
       " 1.5568,\n",
       " 0.7175,\n",
       " 4.7394,\n",
       " 8.5698,\n",
       " 7.2037,\n",
       " 7.7828,\n",
       " 5.7834,\n",
       " 4.9481,\n",
       " 5.4336,\n",
       " 8.6259,\n",
       " 8.1174,\n",
       " 7.7566,\n",
       " 7.3025,\n",
       " 6.7314,\n",
       " 6.4347,\n",
       " 5.6625,\n",
       " 5.1296,\n",
       " 4.6264,\n",
       " 3.6692,\n",
       " 3.1983,\n",
       " 5.7662,\n",
       " 4.5933,\n",
       " 8.3677,\n",
       " 2.6975,\n",
       " 8.0756,\n",
       " 7.4859,\n",
       " 6.6366,\n",
       " 6.052,\n",
       " 4.5921,\n",
       " 4.9189,\n",
       " 6.3879,\n",
       " 5.8549,\n",
       " 4.9785,\n",
       " 4.4407,\n",
       " 5.489,\n",
       " 9.5604,\n",
       " 7.4096,\n",
       " 4.7546,\n",
       " 4.601,\n",
       " 8.4264]"
      ]
     },
     "execution_count": 11,
     "metadata": {},
     "output_type": "execute_result"
    }
   ],
   "execution_count": 11
  },
  {
   "metadata": {
    "ExecuteTime": {
     "end_time": "2024-10-08T15:37:06.690828Z",
     "start_time": "2024-10-08T15:37:06.686990Z"
    }
   },
   "cell_type": "code",
   "source": "posterior_mean_iqtree",
   "id": "59ad8fd34f7bbf11",
   "outputs": [
    {
     "data": {
      "text/plain": [
       "[9.5767,\n",
       " 9.4745,\n",
       " 9.0739,\n",
       " 8.1135,\n",
       " 7.9212,\n",
       " 7.6494,\n",
       " 7.2338,\n",
       " 3.7766,\n",
       " 5.5721,\n",
       " 4.3528,\n",
       " 3.9401,\n",
       " 3.1991,\n",
       " 2.2703,\n",
       " 1.5632,\n",
       " 0.7334,\n",
       " 4.3284,\n",
       " 7.7784,\n",
       " 7.5967,\n",
       " 7.2395,\n",
       " 5.4573,\n",
       " 4.9485,\n",
       " 5.2901,\n",
       " 7.5679,\n",
       " 7.2751,\n",
       " 7.0746,\n",
       " 6.6958,\n",
       " 6.2304,\n",
       " 6.0863,\n",
       " 5.4029,\n",
       " 4.9796,\n",
       " 4.6097,\n",
       " 3.5711,\n",
       " 3.3227,\n",
       " 5.4268,\n",
       " 4.4934,\n",
       " 7.4486,\n",
       " 1.62,\n",
       " 7.3077,\n",
       " 6.8983,\n",
       " 6.2272,\n",
       " 5.8392,\n",
       " 4.3776,\n",
       " 5.0152,\n",
       " 5.9774,\n",
       " 5.7788,\n",
       " 5.4114,\n",
       " 4.0117,\n",
       " 5.2462,\n",
       " 8.3893,\n",
       " 6.4826,\n",
       " 4.2021,\n",
       " 3.6065,\n",
       " 6.4108]"
      ]
     },
     "execution_count": 12,
     "metadata": {},
     "output_type": "execute_result"
    }
   ],
   "execution_count": 12
  },
  {
   "metadata": {
    "ExecuteTime": {
     "end_time": "2024-10-08T15:37:07.058235Z",
     "start_time": "2024-10-08T15:37:06.860435Z"
    }
   },
   "cell_type": "code",
   "source": [
    "# Calculate error bars\n",
    "xerr = [np.array(lower_ci_baseml), \n",
    "        np.array(upper_ci_baseml)]\n",
    "yerr = [np.array(lower_ci_iqtree), \n",
    "        np.array(upper_ci_iqtree)]\n",
    "\n",
    "# Plotting\n",
    "fig, ax = plt.subplots(figsize=(9 ,9))\n",
    "ax.plot([-0.1,17], \n",
    "        [-0.1, 17], \n",
    "        'k--', label='y=x')\n",
    "ax.plot(posterior_mean_baseml, posterior_mean_iqtree, 'o', label='Posterior mean age')\n",
    " \n",
    "# Labels and title\n",
    "ax.set_xlabel('Posterior mean age LG [Mya]', fontsize=18)\n",
    "ax.set_ylabel('Posterior mean age LG+G4+C60 [Mya]', fontsize=18)\n",
    "ax.set_title('Posterior mean age comparison between LG and LG+G4 [cherry only calibrations]')\n",
    "ax.legend()\n",
    "\n",
    "# point_x = posterior_mean_baseml[0]  # Example: first point in the list\n",
    "# point_y = posterior_mean_iqtree[0]  # Example: first point in the list\n",
    "# ax.annotate('Root age', xy=(point_x, point_y), xytext=(point_x - 0.1, point_y - 0.1), color='red')\n",
    "# Show plot\n",
    "# plt.show()\n",
    "plt.savefig('./metazoa_posterior_mean_age_comparison_LG_G4_C60_co_scatter.png')"
   ],
   "id": "592d0bb72aa1ad4c",
   "outputs": [
    {
     "data": {
      "text/plain": [
       "<Figure size 900x900 with 1 Axes>"
      ],
      "image/png": "[encoded data removed]"
     },
     "metadata": {},
     "output_type": "display_data"
    }
   ],
   "execution_count": 13
  },
  {
   "metadata": {
    "ExecuteTime": {
     "end_time": "2024-10-08T15:37:07.075874Z",
     "start_time": "2024-10-08T15:37:07.072907Z"
    }
   },
   "cell_type": "code",
   "source": [
    "# fig, ax = plt.subplots(figsize=(9 ,9))\n",
    "# ax.plot([0.01,0.04], \n",
    "#         [0.01, 0.04], \n",
    "#         'k--', label='y=x')\n",
    "# ax.plot(posterior_mean_mu_baseml, posterior_mean_mu_iqtree, 'o', label='Posterior mean rates for partitions')\n",
    "#  \n",
    "# # Labels and title\n",
    "# ax.set_xlabel('Posterior mean rate [LG]', fontsize=18)\n",
    "# ax.set_ylabel('Posterior mean rate [LG+G4]', fontsize=18)\n",
    "# ax.set_title('Posterior mean rate comparison between LG and LG+G4 [Cherry only calibration/IQ-TREE]')\n",
    "# ax.legend()\n",
    "# \n",
    "# # point_x = posterior_mean_baseml[0]  # Example: first point in the list\n",
    "# # point_y = posterior_mean_iqtree[0]  # Example: first point in the list\n",
    "# # ax.annotate('Root age', xy=(point_x, point_y), xytext=(point_x - 0.1, point_y - 0.1), color='red')\n",
    "# # Show plot\n",
    "# # plt.show()\n",
    "# plt.savefig('./animal_origin__posterior_mean_rate_comparison_LG_G4_all_scatter.png')"
   ],
   "id": "c6d69ee36c77970c",
   "outputs": [],
   "execution_count": 14
  },
  {
   "metadata": {
    "ExecuteTime": {
     "end_time": "2024-10-08T15:37:07.120455Z",
     "start_time": "2024-10-08T15:37:07.118461Z"
    }
   },
   "cell_type": "code",
   "source": "",
   "id": "ca69d5b521db3aa7",
   "outputs": [],
   "execution_count": null
  }
 ],
 "metadata": {
  "kernelspec": {
   "display_name": "Python 3",
   "language": "python",
   "name": "python3"
  },
  "language_info": {
   "codemirror_mode": {
    "name": "ipython",
    "version": 2
   },
   "file_extension": ".py",
   "mimetype": "text/x-python",
   "name": "python",
   "nbconvert_exporter": "python",
   "pygments_lexer": "ipython2",
   "version": "2.7.6"
  }
 },
 "nbformat": 4,
 "nbformat_minor": 5
}
