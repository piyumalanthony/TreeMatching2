{
 "cells": [
  {
   "cell_type": "code",
   "id": "initial_id",
   "metadata": {
    "collapsed": true,
    "ExecuteTime": {
     "end_time": "2024-10-08T15:51:00.055426Z",
     "start_time": "2024-10-08T15:51:00.051778Z"
    }
   },
   "source": [
    "# Code to get all the Posterior mean (95% Equal-tail CI) (95% HPD CI) HPD-CI-width from ./xenarthra_mcmc_out.txt\n",
    "import numpy as np\n",
    "import pandas as pd\n",
    "import matplotlib.pyplot as plt\n",
    "\n",
    "\n",
    "# Read the file\n",
    "file = open(\"LG_G4_C60_m12_out.txt\", \"r\")\n",
    "lines = file.readlines()\n",
    "file.close()\n",
    "\n",
    "# Extract the data\n",
    "data = []\n",
    "mu_data = []\n",
    "var_data = []\n",
    "\n",
    "read_flag = False\n",
    "for line in lines:\n",
    "    if line.startswith(\"Posterior\"):\n",
    "        read_flag = True\n",
    "    if read_flag and line.startswith(\"t\"):\n",
    "        data.append(line)\n",
    "    if read_flag and line.startswith(\"mu\"):\n",
    "        mu_data.append(line)\n",
    "    if read_flag and line.startswith(\"sigma\"):\n",
    "        var_data.append(line)"
   ],
   "outputs": [],
   "execution_count": 15
  },
  {
   "metadata": {
    "ExecuteTime": {
     "end_time": "2024-10-08T15:51:00.070253Z",
     "start_time": "2024-10-08T15:51:00.065895Z"
    }
   },
   "cell_type": "code",
   "source": "data",
   "id": "54808ee54195795",
   "outputs": [
    {
     "data": {
      "text/plain": [
       "['t_n55          8.7871 ( 7.7807, 10.2575) ( 7.6545, 10.0431)  2.3887 (Jnode 106)\\n',\n",
       " 't_n56          8.4954 ( 7.6364,  9.6950) ( 7.5587,  9.5698)  2.0112 (Jnode 105)\\n',\n",
       " 't_n57          8.0229 ( 7.2653,  9.0864) ( 7.2200,  9.0107)  1.7906 (Jnode 104)\\n',\n",
       " 't_n58          6.8547 ( 6.3637,  7.6534) ( 6.3142,  7.5637)  1.2495 (Jnode 103)\\n',\n",
       " 't_n59          6.6413 ( 6.1758,  7.4107) ( 6.1296,  7.3210)  1.1915 (Jnode 102)\\n',\n",
       " 't_n60          6.3423 ( 5.8988,  7.0752) ( 5.8603,  6.9956)  1.1354 (Jnode 101)\\n',\n",
       " 't_n61          5.8861 ( 5.4473,  6.5775) ( 5.4175,  6.5139)  1.0963 (Jnode 100)\\n',\n",
       " 't_n62          2.5215 ( 1.6453,  3.4257) ( 1.6230,  3.4008)  1.7778 (Jnode 99)\\n',\n",
       " 't_n63          3.9925 ( 3.2804,  4.7156) ( 3.2833,  4.7162)  1.4329 (Jnode 98)\\n',\n",
       " 't_n64          2.7993 ( 2.1769,  3.4632) ( 2.1677,  3.4522)  1.2844 (Jnode 97)\\n',\n",
       " 't_n65          2.4541 ( 1.8836,  3.0784) ( 1.8650,  3.0536)  1.1886 (Jnode 96)\\n',\n",
       " 't_n66          1.8850 ( 1.4121,  2.4243) ( 1.3929,  2.3915)  0.9986 (Jnode 95)\\n',\n",
       " 't_n67          1.2623 ( 0.9128,  1.6705) ( 0.8975,  1.6453)  0.7478 (Jnode 94)\\n',\n",
       " 't_n68          0.8365 ( 0.5934,  1.1361) ( 0.5698,  1.1055)  0.5357 (Jnode 93)\\n',\n",
       " 't_n69          0.3579 ( 0.2404,  0.5134) ( 0.2321,  0.5009)  0.2688 (Jnode 92)\\n',\n",
       " 't_n70          2.9361 ( 2.2667,  3.6393) ( 2.2512,  3.6161)  1.3649 (Jnode 91)\\n',\n",
       " 't_n71          6.4851 ( 6.0297,  7.2285) ( 5.9822,  7.1475)  1.1653 (Jnode 90)\\n',\n",
       " 't_n72          6.2916 ( 5.8150,  7.0312) ( 5.7846,  6.9803)  1.1956 (Jnode 89)\\n',\n",
       " 't_n73          5.8741 ( 5.4317,  6.5655) ( 5.3901,  6.5055)  1.1154 (Jnode 88)\\n',\n",
       " 't_n74          4.0916 ( 3.2741,  4.8716) ( 3.3146,  4.9092)  1.5945 (Jnode 87)\\n',\n",
       " 't_n75          3.6592 ( 2.8654,  4.4419) ( 2.8491,  4.4227)  1.5736 (Jnode 86)\\n',\n",
       " 't_n76          3.1502 ( 2.1081,  4.1157) ( 2.1561,  4.1551)  1.9990 (Jnode 85)\\n',\n",
       " 't_n77          6.2839 ( 5.8902,  6.9886) ( 5.8419,  6.9007)  1.0588 (Jnode 84)\\n',\n",
       " 't_n78          5.9960 ( 5.6171,  6.6672) ( 5.5818,  6.5943)  1.0125 (Jnode 83)\\n',\n",
       " 't_n79          5.8034 ( 5.4252,  6.4588) ( 5.3852,  6.3804)  0.9952 (Jnode 82)\\n',\n",
       " 't_n80          5.4272 ( 5.0195,  6.0601) ( 5.0037,  6.0265)  1.0228 (Jnode 81)\\n',\n",
       " 't_n81          4.9629 ( 4.5197,  5.5690) ( 4.5003,  5.5392)  1.0389 (Jnode 80)\\n',\n",
       " 't_n82          4.8230 ( 4.3684,  5.4278) ( 4.3415,  5.3922)  1.0506 (Jnode 79)\\n',\n",
       " 't_n83          4.1651 ( 3.6695,  4.7600) ( 3.6676,  4.7578)  1.0902 (Jnode 78)\\n',\n",
       " 't_n84          3.7811 ( 3.2820,  4.3540) ( 3.2769,  4.3466)  1.0697 (Jnode 77)\\n',\n",
       " 't_n85          3.4562 ( 2.9610,  4.0174) ( 2.9275,  3.9779)  1.0504 (Jnode 76)\\n',\n",
       " 't_n86          2.5547 ( 2.0774,  3.0804) ( 2.0563,  3.0563)  1.0000 (Jnode 75)\\n',\n",
       " 't_n87          2.3558 ( 1.8928,  2.8657) ( 1.8672,  2.8360)  0.9688 (Jnode 74)\\n',\n",
       " 't_n88          4.1972 ( 3.6711,  4.8100) ( 3.6521,  4.7883)  1.1362 (Jnode 73)\\n',\n",
       " 't_n89          3.3643 ( 2.7883,  3.9745) ( 2.7906,  3.9765)  1.1859 (Jnode 72)\\n',\n",
       " 't_n90          6.1673 ( 5.7869,  6.8564) ( 5.7419,  6.7698)  1.0278 (Jnode 71)\\n',\n",
       " 't_n91          1.2434 ( 0.6487,  2.0150) ( 0.5935,  1.9279)  1.3343 (Jnode 70)\\n',\n",
       " 't_n92          6.0309 ( 5.6716,  6.7037) ( 5.6358,  6.6179)  0.9821 (Jnode 69)\\n',\n",
       " 't_n93          5.6421 ( 5.3477,  6.2623) ( 5.3374,  6.1690)  0.8316 (Jnode 68)\\n',\n",
       " 't_n94          4.9982 ( 4.6185,  5.5798) ( 4.5984,  5.5522)  0.9538 (Jnode 67)\\n',\n",
       " 't_n95          4.6346 ( 4.2184,  5.2040) ( 4.2139,  5.1955)  0.9815 (Jnode 66)\\n',\n",
       " 't_n96          3.3623 ( 2.7365,  3.9910) ( 2.7163,  3.9636)  1.2473 (Jnode 65)\\n',\n",
       " 't_n97          3.8723 ( 3.3613,  4.4477) ( 3.3372,  4.4230)  1.0858 (Jnode 64)\\n',\n",
       " 't_n98          4.7976 ( 4.3664,  5.3759) ( 4.3390,  5.3461)  1.0071 (Jnode 63)\\n',\n",
       " 't_n99          4.6243 ( 4.1734,  5.1955) ( 4.1502,  5.1653)  1.0151 (Jnode 62)\\n',\n",
       " 't_n100         4.3094 ( 3.8214,  4.8826) ( 3.8004,  4.8582)  1.0578 (Jnode 61)\\n',\n",
       " 't_n101         3.0767 ( 2.3932,  3.7491) ( 2.3929,  3.7480)  1.3552 (Jnode 60)\\n',\n",
       " 't_n102         4.1575 ( 3.4177,  4.8646) ( 3.4451,  4.8874)  1.4423 (Jnode 59)\\n',\n",
       " 't_n103         7.2729 ( 6.5634,  8.2407) ( 6.5083,  8.1575)  1.6492 (Jnode 58)\\n',\n",
       " 't_n104         5.4399 ( 4.1777,  6.4716) ( 4.2123,  6.4929)  2.2806 (Jnode 57)\\n',\n",
       " 't_n105         3.3040 ( 2.1269,  4.4360) ( 2.1420,  4.4464)  2.3044 (Jnode 56)\\n',\n",
       " 't_n106         2.4155 ( 1.3290,  3.6648) ( 1.3154,  3.6501)  2.3346 (Jnode 55)\\n',\n",
       " 't_n107         6.0984 ( 4.3935,  7.7282) ( 4.3603,  7.6842)  3.3240 (Jnode 54)\\n']"
      ]
     },
     "execution_count": 16,
     "metadata": {},
     "output_type": "execute_result"
    }
   ],
   "execution_count": 16
  },
  {
   "metadata": {
    "ExecuteTime": {
     "end_time": "2024-10-08T15:51:00.131957Z",
     "start_time": "2024-10-08T15:51:00.128371Z"
    }
   },
   "cell_type": "code",
   "source": [
    "node_name = []\n",
    "posterior_mean_iqtree = []\n",
    "posterior_mean_baseml = []\n",
    "\n",
    "posterior_mean_mu_iqtree = []\n",
    "posterior_mean_mu_baseml = []\n",
    "\n",
    "posterior_mean_var_iqtree = []\n",
    "posterior_mean_var_baseml = []\n",
    "\n",
    "lower_ci_iqtree = []\n",
    "upper_ci_iqtree = []\n",
    "\n",
    "lower_ci_mu_iqtree = []\n",
    "upper_ci_mu_iqtree = []\n",
    "\n",
    "lower_ci_var_iqtree = []\n",
    "upper_ci_var_iqtree = []\n",
    "\n",
    "# Credible intervals for McmcDate\n",
    "lower_ci_baseml = []\n",
    "upper_ci_baseml = []\n",
    "\n",
    "lower_ci_mu_baseml = []\n",
    "upper_ci_mu_baseml = []\n",
    "\n",
    "lower_ci_var_baseml = []\n",
    "upper_ci_var_baseml = []"
   ],
   "id": "e5cf93a69d327e61",
   "outputs": [],
   "execution_count": 17
  },
  {
   "metadata": {
    "ExecuteTime": {
     "end_time": "2024-10-08T15:51:00.184662Z",
     "start_time": "2024-10-08T15:51:00.179675Z"
    }
   },
   "cell_type": "code",
   "source": [
    "for line in data:\n",
    "    line = line.strip().split()\n",
    "    node_name.append(line[0])\n",
    "    posterior_mean_iqtree.append(float(line[1]))\n",
    "#     if line[3].startswith('('):\n",
    "#         lower_ci_iqtree.append(float(line[3][1:-1]))\n",
    "#     else:\n",
    "#         lower_ci_iqtree.append(float(line[3][1:-1]))\n",
    "#     if line[4].startswith('('):\n",
    "#         upper_ci_iqtree.append(float(line[4][1:-1]))\n",
    "#     else:\n",
    "#         upper_ci_iqtree.append(float(line[4][:-1]))\n",
    "#     # posterior_mean_baseml.append(float(line[4]))\n",
    "#     # lower_ci_baseml.append(float(line[5]))\n",
    "#     # upper_ci_baseml.append(float(line[6]))\n",
    "# \n",
    "# for line in mu_data:\n",
    "#     line = line.strip().split()\n",
    "#     # node_name.append(line[0])\n",
    "#     posterior_mean_mu_iqtree.append(float(line[1]))\n",
    "#     lower_ci_mu_iqtree.append(float(line[3][:-1]))\n",
    "#     upper_ci_mu_iqtree.append(float(line[4][:-1]))\n",
    "#\n",
    "# for line in var_data:\n",
    "#     line = line.strip().split()\n",
    "#     # node_name.append(line[0])\n",
    "#     posterior_mean_var_iqtree.append(float(line[1]))\n",
    "#     lower_ci_var_iqtree.append(float(line[3][:-1]))\n",
    "#     upper_ci_var_iqtree.append(float(line[4][:-1]))"
   ],
   "id": "4e79ee928ea76b59",
   "outputs": [],
   "execution_count": 18
  },
  {
   "metadata": {
    "ExecuteTime": {
     "end_time": "2024-10-08T15:51:00.248263Z",
     "start_time": "2024-10-08T15:51:00.243483Z"
    }
   },
   "cell_type": "code",
   "source": "node_name",
   "id": "2c17f55ec9626a0b",
   "outputs": [
    {
     "data": {
      "text/plain": [
       "['t_n55',\n",
       " 't_n56',\n",
       " 't_n57',\n",
       " 't_n58',\n",
       " 't_n59',\n",
       " 't_n60',\n",
       " 't_n61',\n",
       " 't_n62',\n",
       " 't_n63',\n",
       " 't_n64',\n",
       " 't_n65',\n",
       " 't_n66',\n",
       " 't_n67',\n",
       " 't_n68',\n",
       " 't_n69',\n",
       " 't_n70',\n",
       " 't_n71',\n",
       " 't_n72',\n",
       " 't_n73',\n",
       " 't_n74',\n",
       " 't_n75',\n",
       " 't_n76',\n",
       " 't_n77',\n",
       " 't_n78',\n",
       " 't_n79',\n",
       " 't_n80',\n",
       " 't_n81',\n",
       " 't_n82',\n",
       " 't_n83',\n",
       " 't_n84',\n",
       " 't_n85',\n",
       " 't_n86',\n",
       " 't_n87',\n",
       " 't_n88',\n",
       " 't_n89',\n",
       " 't_n90',\n",
       " 't_n91',\n",
       " 't_n92',\n",
       " 't_n93',\n",
       " 't_n94',\n",
       " 't_n95',\n",
       " 't_n96',\n",
       " 't_n97',\n",
       " 't_n98',\n",
       " 't_n99',\n",
       " 't_n100',\n",
       " 't_n101',\n",
       " 't_n102',\n",
       " 't_n103',\n",
       " 't_n104',\n",
       " 't_n105',\n",
       " 't_n106',\n",
       " 't_n107']"
      ]
     },
     "execution_count": 19,
     "metadata": {},
     "output_type": "execute_result"
    }
   ],
   "execution_count": 19
  },
  {
   "metadata": {
    "ExecuteTime": {
     "end_time": "2024-10-08T15:51:00.314454Z",
     "start_time": "2024-10-08T15:51:00.309825Z"
    }
   },
   "cell_type": "code",
   "source": "posterior_mean_iqtree",
   "id": "24a55c806a41f33e",
   "outputs": [
    {
     "data": {
      "text/plain": [
       "[8.7871,\n",
       " 8.4954,\n",
       " 8.0229,\n",
       " 6.8547,\n",
       " 6.6413,\n",
       " 6.3423,\n",
       " 5.8861,\n",
       " 2.5215,\n",
       " 3.9925,\n",
       " 2.7993,\n",
       " 2.4541,\n",
       " 1.885,\n",
       " 1.2623,\n",
       " 0.8365,\n",
       " 0.3579,\n",
       " 2.9361,\n",
       " 6.4851,\n",
       " 6.2916,\n",
       " 5.8741,\n",
       " 4.0916,\n",
       " 3.6592,\n",
       " 3.1502,\n",
       " 6.2839,\n",
       " 5.996,\n",
       " 5.8034,\n",
       " 5.4272,\n",
       " 4.9629,\n",
       " 4.823,\n",
       " 4.1651,\n",
       " 3.7811,\n",
       " 3.4562,\n",
       " 2.5547,\n",
       " 2.3558,\n",
       " 4.1972,\n",
       " 3.3643,\n",
       " 6.1673,\n",
       " 1.2434,\n",
       " 6.0309,\n",
       " 5.6421,\n",
       " 4.9982,\n",
       " 4.6346,\n",
       " 3.3623,\n",
       " 3.8723,\n",
       " 4.7976,\n",
       " 4.6243,\n",
       " 4.3094,\n",
       " 3.0767,\n",
       " 4.1575,\n",
       " 7.2729,\n",
       " 5.4399,\n",
       " 3.304,\n",
       " 2.4155,\n",
       " 6.0984]"
      ]
     },
     "execution_count": 20,
     "metadata": {},
     "output_type": "execute_result"
    }
   ],
   "execution_count": 20
  },
  {
   "metadata": {
    "ExecuteTime": {
     "end_time": "2024-10-08T15:51:00.366439Z",
     "start_time": "2024-10-08T15:51:00.362718Z"
    }
   },
   "cell_type": "code",
   "source": "lower_ci_iqtree",
   "id": "388aa27ad336d43f",
   "outputs": [
    {
     "data": {
      "text/plain": [
       "[]"
      ]
     },
     "execution_count": 21,
     "metadata": {},
     "output_type": "execute_result"
    }
   ],
   "execution_count": 21
  },
  {
   "metadata": {
    "ExecuteTime": {
     "end_time": "2024-10-08T15:51:00.420429Z",
     "start_time": "2024-10-08T15:51:00.416673Z"
    }
   },
   "cell_type": "code",
   "source": "upper_ci_iqtree",
   "id": "816e569fb763e797",
   "outputs": [
    {
     "data": {
      "text/plain": [
       "[]"
      ]
     },
     "execution_count": 22,
     "metadata": {},
     "output_type": "execute_result"
    }
   ],
   "execution_count": 22
  },
  {
   "metadata": {
    "ExecuteTime": {
     "end_time": "2024-10-08T15:51:00.477573Z",
     "start_time": "2024-10-08T15:51:00.473519Z"
    }
   },
   "cell_type": "code",
   "source": [
    "file_LG = open(\"LG_m12_out.txt\", \"r\")\n",
    "lines1 = file_LG.readlines()\n",
    "file_LG.close()\n",
    "\n",
    "# Extract the data\n",
    "data1 = []\n",
    "mu_data1 = []\n",
    "var_data1 = []\n",
    "\n",
    "read_flag = False\n",
    "for line in lines1:\n",
    "    if line.startswith(\"Posterior\"):\n",
    "        read_flag = True\n",
    "    if read_flag and line.startswith(\"t\"):\n",
    "        data1.append(line)\n",
    "    if read_flag and line.startswith(\"mu\"):\n",
    "        mu_data1.append(line)\n",
    "    if read_flag and line.startswith(\"sigma\"):\n",
    "        var_data1.append(line)\n",
    "\n",
    "        \n",
    "for line in data1:\n",
    "    line = line.strip().split()\n",
    "    # node_name.append(line[0])\n",
    "    posterior_mean_baseml.append(float(line[1]))\n",
    "#     if line[3].startswith('('):\n",
    "#         lower_ci_baseml.append(float(line[3][1:-1]))\n",
    "#     else:\n",
    "#          lower_ci_baseml.append(float(line[3][:-1]))\n",
    "#     if line[4].startswith('('):\n",
    "#         upper_ci_baseml.append(float(line[4][1:-1]))\n",
    "#     else:\n",
    "#          upper_ci_baseml.append(float(line[4][:-1]))\n",
    "#         \n",
    "#     \n",
    "# for line in mu_data1:\n",
    "#     line = line.strip().split()\n",
    "#     # node_name.append(line[0])\n",
    "#     posterior_mean_mu_baseml.append(float(line[1]))\n",
    "#     lower_ci_mu_baseml.append(float(line[3][:-1]))\n",
    "#     upper_ci_mu_baseml.append(float(line[4][:-1]))\n",
    "    \n",
    "# for line in var_data1:\n",
    "#     line = line.strip().split()\n",
    "#     # node_name.append(line[0])\n",
    "#     posterior_mean_var_baseml.append(float(line[1]))\n",
    "#     lower_ci_var_baseml.append(float(line[3][:-1]))\n",
    "#     upper_ci_var_baseml.append(float(line[4][:-1]))"
   ],
   "id": "f75c012c6bef60a2",
   "outputs": [],
   "execution_count": 23
  },
  {
   "metadata": {
    "ExecuteTime": {
     "end_time": "2024-10-08T15:51:00.534282Z",
     "start_time": "2024-10-08T15:51:00.530803Z"
    }
   },
   "cell_type": "code",
   "source": [
    "import matplotlib.pyplot as plt\n",
    "import numpy as np\n",
    "\n",
    "# # Example data\n",
    "# # Posterior means for MCMCtree (x-axis) and McmcDate (y-axis)\n",
    "# posterior_mean_mcmctree = [100, 200, 300, 400, 500, 600, 700, 800, 900, 1000]\n",
    "# posterior_mean_mcmcdate = [110, 210, 310, 410, 510, 610, 710, 810, 910, 1010]\n",
    "# \n",
    "# # Credible intervals for MCMCtree\n",
    "# lower_ci_mcmctree = [90, 180, 270, 360, 450, 540, 630, 720, 810, 900]\n",
    "# upper_ci_mcmctree = [110, 220, 330, 440, 550, 660, 770, 880, 990, 1100]\n",
    "# \n",
    "# # Credible intervals for McmcDate\n",
    "# lower_ci_mcmcdate = [100, 200, 300, 400, 500, 600, 700, 800, 900, 1000]\n",
    "# upper_ci_mcmcdate = [120, 220, 320, 420, 520, 620, 720, 820, 920, 1020]\n",
    "\n",
    "# Calculate error bars\n",
    "# xerr = [np.array(lower_ci_baseml), \n",
    "#         np.array(upper_ci_baseml)]\n",
    "# yerr = [np.array(lower_ci_iqtree), \n",
    "#         np.array(upper_ci_iqtree)]\n",
    "# \n",
    "# # Plotting\n",
    "# fig, ax = plt.subplots(figsize=(15, 15))\n",
    "# ax.plot([-0.1,90], \n",
    "#         [-0.1, 90], \n",
    "#         'k--', label='y=x')\n",
    "# ax.errorbar(posterior_mean_baseml, posterior_mean_iqtree, \n",
    "#             xerr=xerr, yerr=yerr, fmt='*', ecolor='r', capsize=3, label='95% HPD CI')\n",
    "# \n",
    "# # Labels and title\n",
    "# ax.set_xlabel('Posterior mean age LG [100 Mya]', fontsize=18)\n",
    "# ax.set_ylabel('Posterior mean age LG+G4 [100 Mya]', fontsize=18)\n",
    "# ax.set_title('Posterior mean age comparison between LG and LG+G4 models [t116 ~ B(1.25,2.482)]')\n",
    "# ax.legend()\n",
    "# \n",
    "# # Show plot\n",
    "# # plt.show()\n",
    "# plt.savefig('./animal_origin_posterior_mean_age_comparison_LG_G4_c11.png')"
   ],
   "id": "12db486fa4fac82c",
   "outputs": [],
   "execution_count": 24
  },
  {
   "metadata": {
    "ExecuteTime": {
     "end_time": "2024-10-08T15:51:00.583242Z",
     "start_time": "2024-10-08T15:51:00.579962Z"
    }
   },
   "cell_type": "code",
   "source": "posterior_mean_baseml",
   "id": "917b2e31cff4b992",
   "outputs": [
    {
     "data": {
      "text/plain": [
       "[10.4071,\n",
       " 10.0825,\n",
       " 8.9723,\n",
       " 7.5331,\n",
       " 7.1233,\n",
       " 6.6275,\n",
       " 5.9185,\n",
       " 2.8393,\n",
       " 4.164,\n",
       " 2.9261,\n",
       " 2.4561,\n",
       " 1.8359,\n",
       " 1.2109,\n",
       " 0.7995,\n",
       " 0.3408,\n",
       " 3.0726,\n",
       " 6.7123,\n",
       " 5.5408,\n",
       " 5.9417,\n",
       " 4.2225,\n",
       " 3.5784,\n",
       " 3.4425,\n",
       " 6.7307,\n",
       " 6.2256,\n",
       " 5.8791,\n",
       " 5.4459,\n",
       " 4.9033,\n",
       " 4.6274,\n",
       " 3.9087,\n",
       " 3.4407,\n",
       " 3.015,\n",
       " 2.2395,\n",
       " 1.8995,\n",
       " 4.079,\n",
       " 3.1712,\n",
       " 6.4731,\n",
       " 1.6826,\n",
       " 6.1906,\n",
       " 5.626,\n",
       " 4.8234,\n",
       " 4.2962,\n",
       " 3.0824,\n",
       " 3.3239,\n",
       " 4.6631,\n",
       " 4.2394,\n",
       " 3.5785,\n",
       " 3.0751,\n",
       " 4.0306,\n",
       " 7.9028,\n",
       " 5.9089,\n",
       " 3.6065,\n",
       " 3.1764,\n",
       " 7.493]"
      ]
     },
     "execution_count": 25,
     "metadata": {},
     "output_type": "execute_result"
    }
   ],
   "execution_count": 25
  },
  {
   "metadata": {
    "ExecuteTime": {
     "end_time": "2024-10-08T15:51:00.651265Z",
     "start_time": "2024-10-08T15:51:00.645656Z"
    }
   },
   "cell_type": "code",
   "source": "posterior_mean_iqtree",
   "id": "59ad8fd34f7bbf11",
   "outputs": [
    {
     "data": {
      "text/plain": [
       "[8.7871,\n",
       " 8.4954,\n",
       " 8.0229,\n",
       " 6.8547,\n",
       " 6.6413,\n",
       " 6.3423,\n",
       " 5.8861,\n",
       " 2.5215,\n",
       " 3.9925,\n",
       " 2.7993,\n",
       " 2.4541,\n",
       " 1.885,\n",
       " 1.2623,\n",
       " 0.8365,\n",
       " 0.3579,\n",
       " 2.9361,\n",
       " 6.4851,\n",
       " 6.2916,\n",
       " 5.8741,\n",
       " 4.0916,\n",
       " 3.6592,\n",
       " 3.1502,\n",
       " 6.2839,\n",
       " 5.996,\n",
       " 5.8034,\n",
       " 5.4272,\n",
       " 4.9629,\n",
       " 4.823,\n",
       " 4.1651,\n",
       " 3.7811,\n",
       " 3.4562,\n",
       " 2.5547,\n",
       " 2.3558,\n",
       " 4.1972,\n",
       " 3.3643,\n",
       " 6.1673,\n",
       " 1.2434,\n",
       " 6.0309,\n",
       " 5.6421,\n",
       " 4.9982,\n",
       " 4.6346,\n",
       " 3.3623,\n",
       " 3.8723,\n",
       " 4.7976,\n",
       " 4.6243,\n",
       " 4.3094,\n",
       " 3.0767,\n",
       " 4.1575,\n",
       " 7.2729,\n",
       " 5.4399,\n",
       " 3.304,\n",
       " 2.4155,\n",
       " 6.0984]"
      ]
     },
     "execution_count": 26,
     "metadata": {},
     "output_type": "execute_result"
    }
   ],
   "execution_count": 26
  },
  {
   "metadata": {
    "ExecuteTime": {
     "end_time": "2024-10-08T15:51:00.948562Z",
     "start_time": "2024-10-08T15:51:00.776061Z"
    }
   },
   "cell_type": "code",
   "source": [
    "# Calculate error bars\n",
    "xerr = [np.array(lower_ci_baseml), \n",
    "        np.array(upper_ci_baseml)]\n",
    "yerr = [np.array(lower_ci_iqtree), \n",
    "        np.array(upper_ci_iqtree)]\n",
    "\n",
    "# Plotting\n",
    "fig, ax = plt.subplots(figsize=(9 ,9))\n",
    "ax.plot([-0.1,17], \n",
    "        [-0.1, 17], \n",
    "        'k--', label='y=x')\n",
    "ax.plot(posterior_mean_baseml, posterior_mean_iqtree, 'o', label='Posterior mean age')\n",
    " \n",
    "# Labels and title\n",
    "ax.set_xlabel('Posterior mean age LG [Mya]', fontsize=18)\n",
    "ax.set_ylabel('Posterior mean age LG+G4+C60 [Mya]', fontsize=18)\n",
    "ax.set_title('Posterior mean age comparison between LG and LG+G4 [t93 ~ B(5.3400 6.3610)]')\n",
    "ax.legend()\n",
    "\n",
    "# point_x = posterior_mean_baseml[0]  # Example: first point in the list\n",
    "# point_y = posterior_mean_iqtree[0]  # Example: first point in the list\n",
    "# ax.annotate('Root age', xy=(point_x, point_y), xytext=(point_x - 0.1, point_y - 0.1), color='red')\n",
    "# Show plot\n",
    "# plt.show()\n",
    "plt.savefig('./metazoa_posterior_mean_age_comparison_LG_G4_C60_m12_scatter.png')"
   ],
   "id": "592d0bb72aa1ad4c",
   "outputs": [
    {
     "data": {
      "text/plain": [
       "<Figure size 900x900 with 1 Axes>"
      ],
      "image/png": "[encoded data removed]"
     },
     "metadata": {},
     "output_type": "display_data"
    }
   ],
   "execution_count": 27
  },
  {
   "metadata": {
    "ExecuteTime": {
     "end_time": "2024-10-08T15:51:00.967333Z",
     "start_time": "2024-10-08T15:51:00.964454Z"
    }
   },
   "cell_type": "code",
   "source": [
    "# fig, ax = plt.subplots(figsize=(9 ,9))\n",
    "# ax.plot([0.01,0.04], \n",
    "#         [0.01, 0.04], \n",
    "#         'k--', label='y=x')\n",
    "# ax.plot(posterior_mean_mu_baseml, posterior_mean_mu_iqtree, 'o', label='Posterior mean rates for partitions')\n",
    "#  \n",
    "# # Labels and title\n",
    "# ax.set_xlabel('Posterior mean rate [LG]', fontsize=18)\n",
    "# ax.set_ylabel('Posterior mean rate [LG+G4]', fontsize=18)\n",
    "# ax.set_title('Posterior mean rate comparison between LG and LG+G4 [Cherry only calibration/IQ-TREE]')\n",
    "# ax.legend()\n",
    "# \n",
    "# # point_x = posterior_mean_baseml[0]  # Example: first point in the list\n",
    "# # point_y = posterior_mean_iqtree[0]  # Example: first point in the list\n",
    "# # ax.annotate('Root age', xy=(point_x, point_y), xytext=(point_x - 0.1, point_y - 0.1), color='red')\n",
    "# # Show plot\n",
    "# # plt.show()\n",
    "# plt.savefig('./animal_origin__posterior_mean_rate_comparison_LG_G4_all_scatter.png')"
   ],
   "id": "c6d69ee36c77970c",
   "outputs": [],
   "execution_count": 28
  },
  {
   "metadata": {
    "ExecuteTime": {
     "end_time": "2024-10-08T15:51:01.012383Z",
     "start_time": "2024-10-08T15:51:01.010561Z"
    }
   },
   "cell_type": "code",
   "source": "",
   "id": "ca69d5b521db3aa7",
   "outputs": [],
   "execution_count": null
  }
 ],
 "metadata": {
  "kernelspec": {
   "display_name": "Python 3",
   "language": "python",
   "name": "python3"
  },
  "language_info": {
   "codemirror_mode": {
    "name": "ipython",
    "version": 2
   },
   "file_extension": ".py",
   "mimetype": "text/x-python",
   "name": "python",
   "nbconvert_exporter": "python",
   "pygments_lexer": "ipython2",
   "version": "2.7.6"
  }
 },
 "nbformat": 4,
 "nbformat_minor": 5
}
