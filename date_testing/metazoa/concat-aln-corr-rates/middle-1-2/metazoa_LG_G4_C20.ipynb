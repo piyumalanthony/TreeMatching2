{
 "cells": [
  {
   "cell_type": "code",
   "id": "initial_id",
   "metadata": {
    "collapsed": true,
    "ExecuteTime": {
     "end_time": "2024-10-08T15:50:29.845084Z",
     "start_time": "2024-10-08T15:50:29.314706Z"
    }
   },
   "source": [
    "# Code to get all the Posterior mean (95% Equal-tail CI) (95% HPD CI) HPD-CI-width from ./xenarthra_mcmc_out.txt\n",
    "import numpy as np\n",
    "import pandas as pd\n",
    "import matplotlib.pyplot as plt\n",
    "\n",
    "\n",
    "# Read the file\n",
    "file = open(\"LG_G4_C20_m12_out.txt\", \"r\")\n",
    "lines = file.readlines()\n",
    "file.close()\n",
    "\n",
    "# Extract the data\n",
    "data = []\n",
    "mu_data = []\n",
    "var_data = []\n",
    "\n",
    "read_flag = False\n",
    "for line in lines:\n",
    "    if line.startswith(\"Posterior\"):\n",
    "        read_flag = True\n",
    "    if read_flag and line.startswith(\"t\"):\n",
    "        data.append(line)\n",
    "    if read_flag and line.startswith(\"mu\"):\n",
    "        mu_data.append(line)\n",
    "    if read_flag and line.startswith(\"sigma\"):\n",
    "        var_data.append(line)"
   ],
   "outputs": [],
   "execution_count": 1
  },
  {
   "metadata": {
    "ExecuteTime": {
     "end_time": "2024-10-08T15:50:29.859418Z",
     "start_time": "2024-10-08T15:50:29.854813Z"
    }
   },
   "cell_type": "code",
   "source": "data",
   "id": "54808ee54195795",
   "outputs": [
    {
     "data": {
      "text/plain": [
       "['t_n55          8.8317 ( 7.8371, 10.2819) ( 7.7087, 10.0935)  2.3848 (Jnode 106)\\n',\n",
       " 't_n56          8.5476 ( 7.6956,  9.7404) ( 7.6239,  9.6397)  2.0159 (Jnode 105)\\n',\n",
       " 't_n57          8.0363 ( 7.2979,  9.0940) ( 7.2541,  9.0175)  1.7634 (Jnode 104)\\n',\n",
       " 't_n58          6.8751 ( 6.3850,  7.6821) ( 6.3325,  7.5925)  1.2600 (Jnode 103)\\n',\n",
       " 't_n59          6.6423 ( 6.1794,  7.4161) ( 6.1312,  7.3310)  1.1998 (Jnode 102)\\n',\n",
       " 't_n60          6.3335 ( 5.8925,  7.0710) ( 5.8627,  7.0015)  1.1388 (Jnode 101)\\n',\n",
       " 't_n61          5.8766 ( 5.4388,  6.5727) ( 5.4000,  6.5033)  1.1034 (Jnode 100)\\n',\n",
       " 't_n62          2.5465 ( 1.6539,  3.4279) ( 1.6347,  3.4035)  1.7688 (Jnode 99)\\n',\n",
       " 't_n63          4.0090 ( 3.3116,  4.7182) ( 3.3045,  4.7090)  1.4045 (Jnode 98)\\n',\n",
       " 't_n64          2.7991 ( 2.1726,  3.4519) ( 2.1684,  3.4460)  1.2775 (Jnode 97)\\n',\n",
       " 't_n65          2.4393 ( 1.8679,  3.0547) ( 1.8414,  3.0170)  1.1756 (Jnode 96)\\n',\n",
       " 't_n66          1.8712 ( 1.3980,  2.3982) ( 1.4036,  2.4015)  0.9979 (Jnode 95)\\n',\n",
       " 't_n67          1.2501 ( 0.9041,  1.6641) ( 0.8914,  1.6421)  0.7507 (Jnode 94)\\n',\n",
       " 't_n68          0.8294 ( 0.5857,  1.1294) ( 0.5710,  1.1066)  0.5356 (Jnode 93)\\n',\n",
       " 't_n69          0.3529 ( 0.2369,  0.5049) ( 0.2313,  0.4955)  0.2642 (Jnode 92)\\n',\n",
       " 't_n70          2.9669 ( 2.3032,  3.6677) ( 2.2661,  3.6274)  1.3612 (Jnode 91)\\n',\n",
       " 't_n71          6.4696 ( 6.0187,  7.2242) ( 5.9548,  7.1266)  1.1718 (Jnode 90)\\n',\n",
       " 't_n72          6.1917 ( 5.7201,  6.9291) ( 5.6823,  6.8685)  1.1863 (Jnode 89)\\n',\n",
       " 't_n73          5.8689 ( 5.4281,  6.5626) ( 5.3906,  6.4988)  1.1082 (Jnode 88)\\n',\n",
       " 't_n74          4.0952 ( 3.3065,  4.8583) ( 3.3382,  4.8818)  1.5436 (Jnode 87)\\n',\n",
       " 't_n75          3.6631 ( 2.8919,  4.4222) ( 2.8956,  4.4247)  1.5290 (Jnode 86)\\n',\n",
       " 't_n76          3.1723 ( 2.1714,  4.1225) ( 2.1917,  4.1320)  1.9403 (Jnode 85)\\n',\n",
       " 't_n77          6.2991 ( 5.9050,  7.0075) ( 5.8621,  6.9238)  1.0617 (Jnode 84)\\n',\n",
       " 't_n78          5.9935 ( 5.6189,  6.6703) ( 5.5730,  6.5873)  1.0143 (Jnode 83)\\n',\n",
       " 't_n79          5.7972 ( 5.4256,  6.4587) ( 5.3930,  6.3905)  0.9975 (Jnode 82)\\n',\n",
       " 't_n80          5.4125 ( 5.0096,  6.0508) ( 4.9760,  5.9947)  1.0187 (Jnode 81)\\n',\n",
       " 't_n81          4.9577 ( 4.5207,  5.5783) ( 4.4795,  5.5263)  1.0468 (Jnode 80)\\n',\n",
       " 't_n82          4.8112 ( 4.3634,  5.4225) ( 4.3143,  5.3667)  1.0524 (Jnode 79)\\n',\n",
       " 't_n83          4.1659 ( 3.6752,  4.7598) ( 3.6495,  4.7237)  1.0742 (Jnode 78)\\n',\n",
       " 't_n84          3.7728 ( 3.2795,  4.3447) ( 3.2520,  4.3129)  1.0609 (Jnode 77)\\n',\n",
       " 't_n85          3.4514 ( 2.9649,  4.0115) ( 2.9461,  3.9857)  1.0396 (Jnode 76)\\n',\n",
       " 't_n86          2.5590 ( 2.0911,  3.0783) ( 2.0930,  3.0790)  0.9860 (Jnode 75)\\n',\n",
       " 't_n87          2.3380 ( 1.8861,  2.8445) ( 1.8678,  2.8215)  0.9537 (Jnode 74)\\n',\n",
       " 't_n88          4.1941 ( 3.6745,  4.8100) ( 3.6493,  4.7799)  1.1306 (Jnode 73)\\n',\n",
       " 't_n89          3.3472 ( 2.7729,  3.9713) ( 2.7645,  3.9590)  1.1945 (Jnode 72)\\n',\n",
       " 't_n90          6.1852 ( 5.8035,  6.8770) ( 5.7714,  6.8091)  1.0376 (Jnode 71)\\n',\n",
       " 't_n91          1.2702 ( 0.6609,  2.0526) ( 0.6132,  1.9798)  1.3666 (Jnode 70)\\n',\n",
       " 't_n92          6.0361 ( 5.6790,  6.7114) ( 5.6475,  6.6377)  0.9902 (Jnode 69)\\n',\n",
       " 't_n93          5.6399 ( 5.3472,  6.2675) ( 5.3379,  6.1723)  0.8344 (Jnode 68)\\n',\n",
       " 't_n94          5.0041 ( 4.6223,  5.5897) ( 4.5948,  5.5543)  0.9595 (Jnode 67)\\n',\n",
       " 't_n95          4.6144 ( 4.1931,  5.1879) ( 4.1830,  5.1740)  0.9910 (Jnode 66)\\n',\n",
       " 't_n96          3.3436 ( 2.7318,  3.9552) ( 2.7144,  3.9341)  1.2197 (Jnode 65)\\n',\n",
       " 't_n97          3.8432 ( 3.3245,  4.4226) ( 3.3118,  4.4079)  1.0961 (Jnode 64)\\n',\n",
       " 't_n98          4.7942 ( 4.3607,  5.3783) ( 4.3303,  5.3430)  1.0128 (Jnode 63)\\n',\n",
       " 't_n99          4.6122 ( 4.1631,  5.1882) ( 4.1515,  5.1716)  1.0201 (Jnode 62)\\n',\n",
       " 't_n100         4.2486 ( 3.7571,  4.8189) ( 3.7349,  4.7892)  1.0543 (Jnode 61)\\n',\n",
       " 't_n101         3.0995 ( 2.4193,  3.7503) ( 2.4296,  3.7586)  1.3290 (Jnode 60)\\n',\n",
       " 't_n102         4.1319 ( 3.3861,  4.8366) ( 3.3910,  4.8402)  1.4493 (Jnode 59)\\n',\n",
       " 't_n103         7.2709 ( 6.5771,  8.2286) ( 6.5539,  8.1866)  1.6327 (Jnode 58)\\n',\n",
       " 't_n104         5.4451 ( 4.2034,  6.4700) ( 4.2867,  6.5432)  2.2565 (Jnode 57)\\n',\n",
       " 't_n105         3.3119 ( 2.1387,  4.4309) ( 2.1418,  4.4313)  2.2896 (Jnode 56)\\n',\n",
       " 't_n106         2.4490 ( 1.3524,  3.6802) ( 1.3013,  3.6212)  2.3199 (Jnode 55)\\n',\n",
       " 't_n107         6.1622 ( 4.5569,  7.8442) ( 4.5318,  7.8006)  3.2688 (Jnode 54)\\n']"
      ]
     },
     "execution_count": 2,
     "metadata": {},
     "output_type": "execute_result"
    }
   ],
   "execution_count": 2
  },
  {
   "metadata": {
    "ExecuteTime": {
     "end_time": "2024-10-08T15:50:29.911434Z",
     "start_time": "2024-10-08T15:50:29.907190Z"
    }
   },
   "cell_type": "code",
   "source": [
    "node_name = []\n",
    "posterior_mean_iqtree = []\n",
    "posterior_mean_baseml = []\n",
    "\n",
    "posterior_mean_mu_iqtree = []\n",
    "posterior_mean_mu_baseml = []\n",
    "\n",
    "posterior_mean_var_iqtree = []\n",
    "posterior_mean_var_baseml = []\n",
    "\n",
    "lower_ci_iqtree = []\n",
    "upper_ci_iqtree = []\n",
    "\n",
    "lower_ci_mu_iqtree = []\n",
    "upper_ci_mu_iqtree = []\n",
    "\n",
    "lower_ci_var_iqtree = []\n",
    "upper_ci_var_iqtree = []\n",
    "\n",
    "# Credible intervals for McmcDate\n",
    "lower_ci_baseml = []\n",
    "upper_ci_baseml = []\n",
    "\n",
    "lower_ci_mu_baseml = []\n",
    "upper_ci_mu_baseml = []\n",
    "\n",
    "lower_ci_var_baseml = []\n",
    "upper_ci_var_baseml = []"
   ],
   "id": "e5cf93a69d327e61",
   "outputs": [],
   "execution_count": 3
  },
  {
   "metadata": {
    "ExecuteTime": {
     "end_time": "2024-10-08T15:50:29.965152Z",
     "start_time": "2024-10-08T15:50:29.958846Z"
    }
   },
   "cell_type": "code",
   "source": [
    "for line in data:\n",
    "    line = line.strip().split()\n",
    "    node_name.append(line[0])\n",
    "    posterior_mean_iqtree.append(float(line[1]))\n",
    "#     if line[3].startswith('('):\n",
    "#         lower_ci_iqtree.append(float(line[3][1:-1]))\n",
    "#     else:\n",
    "#         lower_ci_iqtree.append(float(line[3][1:-1]))\n",
    "#     if line[4].startswith('('):\n",
    "#         upper_ci_iqtree.append(float(line[4][1:-1]))\n",
    "#     else:\n",
    "#         upper_ci_iqtree.append(float(line[4][:-1]))\n",
    "#     # posterior_mean_baseml.append(float(line[4]))\n",
    "#     # lower_ci_baseml.append(float(line[5]))\n",
    "#     # upper_ci_baseml.append(float(line[6]))\n",
    "# \n",
    "# for line in mu_data:\n",
    "#     line = line.strip().split()\n",
    "#     # node_name.append(line[0])\n",
    "#     posterior_mean_mu_iqtree.append(float(line[1]))\n",
    "#     lower_ci_mu_iqtree.append(float(line[3][:-1]))\n",
    "#     upper_ci_mu_iqtree.append(float(line[4][:-1]))\n",
    "#\n",
    "# for line in var_data:\n",
    "#     line = line.strip().split()\n",
    "#     # node_name.append(line[0])\n",
    "#     posterior_mean_var_iqtree.append(float(line[1]))\n",
    "#     lower_ci_var_iqtree.append(float(line[3][:-1]))\n",
    "#     upper_ci_var_iqtree.append(float(line[4][:-1]))"
   ],
   "id": "4e79ee928ea76b59",
   "outputs": [],
   "execution_count": 4
  },
  {
   "metadata": {
    "ExecuteTime": {
     "end_time": "2024-10-08T15:50:30.023327Z",
     "start_time": "2024-10-08T15:50:30.018489Z"
    }
   },
   "cell_type": "code",
   "source": "node_name",
   "id": "2c17f55ec9626a0b",
   "outputs": [
    {
     "data": {
      "text/plain": [
       "['t_n55',\n",
       " 't_n56',\n",
       " 't_n57',\n",
       " 't_n58',\n",
       " 't_n59',\n",
       " 't_n60',\n",
       " 't_n61',\n",
       " 't_n62',\n",
       " 't_n63',\n",
       " 't_n64',\n",
       " 't_n65',\n",
       " 't_n66',\n",
       " 't_n67',\n",
       " 't_n68',\n",
       " 't_n69',\n",
       " 't_n70',\n",
       " 't_n71',\n",
       " 't_n72',\n",
       " 't_n73',\n",
       " 't_n74',\n",
       " 't_n75',\n",
       " 't_n76',\n",
       " 't_n77',\n",
       " 't_n78',\n",
       " 't_n79',\n",
       " 't_n80',\n",
       " 't_n81',\n",
       " 't_n82',\n",
       " 't_n83',\n",
       " 't_n84',\n",
       " 't_n85',\n",
       " 't_n86',\n",
       " 't_n87',\n",
       " 't_n88',\n",
       " 't_n89',\n",
       " 't_n90',\n",
       " 't_n91',\n",
       " 't_n92',\n",
       " 't_n93',\n",
       " 't_n94',\n",
       " 't_n95',\n",
       " 't_n96',\n",
       " 't_n97',\n",
       " 't_n98',\n",
       " 't_n99',\n",
       " 't_n100',\n",
       " 't_n101',\n",
       " 't_n102',\n",
       " 't_n103',\n",
       " 't_n104',\n",
       " 't_n105',\n",
       " 't_n106',\n",
       " 't_n107']"
      ]
     },
     "execution_count": 5,
     "metadata": {},
     "output_type": "execute_result"
    }
   ],
   "execution_count": 5
  },
  {
   "metadata": {
    "ExecuteTime": {
     "end_time": "2024-10-08T15:50:30.090453Z",
     "start_time": "2024-10-08T15:50:30.085503Z"
    }
   },
   "cell_type": "code",
   "source": "posterior_mean_iqtree",
   "id": "24a55c806a41f33e",
   "outputs": [
    {
     "data": {
      "text/plain": [
       "[8.8317,\n",
       " 8.5476,\n",
       " 8.0363,\n",
       " 6.8751,\n",
       " 6.6423,\n",
       " 6.3335,\n",
       " 5.8766,\n",
       " 2.5465,\n",
       " 4.009,\n",
       " 2.7991,\n",
       " 2.4393,\n",
       " 1.8712,\n",
       " 1.2501,\n",
       " 0.8294,\n",
       " 0.3529,\n",
       " 2.9669,\n",
       " 6.4696,\n",
       " 6.1917,\n",
       " 5.8689,\n",
       " 4.0952,\n",
       " 3.6631,\n",
       " 3.1723,\n",
       " 6.2991,\n",
       " 5.9935,\n",
       " 5.7972,\n",
       " 5.4125,\n",
       " 4.9577,\n",
       " 4.8112,\n",
       " 4.1659,\n",
       " 3.7728,\n",
       " 3.4514,\n",
       " 2.559,\n",
       " 2.338,\n",
       " 4.1941,\n",
       " 3.3472,\n",
       " 6.1852,\n",
       " 1.2702,\n",
       " 6.0361,\n",
       " 5.6399,\n",
       " 5.0041,\n",
       " 4.6144,\n",
       " 3.3436,\n",
       " 3.8432,\n",
       " 4.7942,\n",
       " 4.6122,\n",
       " 4.2486,\n",
       " 3.0995,\n",
       " 4.1319,\n",
       " 7.2709,\n",
       " 5.4451,\n",
       " 3.3119,\n",
       " 2.449,\n",
       " 6.1622]"
      ]
     },
     "execution_count": 6,
     "metadata": {},
     "output_type": "execute_result"
    }
   ],
   "execution_count": 6
  },
  {
   "metadata": {
    "ExecuteTime": {
     "end_time": "2024-10-08T15:50:30.151865Z",
     "start_time": "2024-10-08T15:50:30.147926Z"
    }
   },
   "cell_type": "code",
   "source": "lower_ci_iqtree",
   "id": "388aa27ad336d43f",
   "outputs": [
    {
     "data": {
      "text/plain": [
       "[]"
      ]
     },
     "execution_count": 7,
     "metadata": {},
     "output_type": "execute_result"
    }
   ],
   "execution_count": 7
  },
  {
   "metadata": {
    "ExecuteTime": {
     "end_time": "2024-10-08T15:50:30.218479Z",
     "start_time": "2024-10-08T15:50:30.213715Z"
    }
   },
   "cell_type": "code",
   "source": "upper_ci_iqtree",
   "id": "816e569fb763e797",
   "outputs": [
    {
     "data": {
      "text/plain": [
       "[]"
      ]
     },
     "execution_count": 8,
     "metadata": {},
     "output_type": "execute_result"
    }
   ],
   "execution_count": 8
  },
  {
   "metadata": {
    "ExecuteTime": {
     "end_time": "2024-10-08T15:50:30.279793Z",
     "start_time": "2024-10-08T15:50:30.274547Z"
    }
   },
   "cell_type": "code",
   "source": [
    "file_LG = open(\"LG_m12_out.txt\", \"r\")\n",
    "lines1 = file_LG.readlines()\n",
    "file_LG.close()\n",
    "\n",
    "# Extract the data\n",
    "data1 = []\n",
    "mu_data1 = []\n",
    "var_data1 = []\n",
    "\n",
    "read_flag = False\n",
    "for line in lines1:\n",
    "    if line.startswith(\"Posterior\"):\n",
    "        read_flag = True\n",
    "    if read_flag and line.startswith(\"t\"):\n",
    "        data1.append(line)\n",
    "    if read_flag and line.startswith(\"mu\"):\n",
    "        mu_data1.append(line)\n",
    "    if read_flag and line.startswith(\"sigma\"):\n",
    "        var_data1.append(line)\n",
    "\n",
    "        \n",
    "for line in data1:\n",
    "    line = line.strip().split()\n",
    "    # node_name.append(line[0])\n",
    "    posterior_mean_baseml.append(float(line[1]))\n",
    "#     if line[3].startswith('('):\n",
    "#         lower_ci_baseml.append(float(line[3][1:-1]))\n",
    "#     else:\n",
    "#          lower_ci_baseml.append(float(line[3][:-1]))\n",
    "#     if line[4].startswith('('):\n",
    "#         upper_ci_baseml.append(float(line[4][1:-1]))\n",
    "#     else:\n",
    "#          upper_ci_baseml.append(float(line[4][:-1]))\n",
    "#         \n",
    "#     \n",
    "# for line in mu_data1:\n",
    "#     line = line.strip().split()\n",
    "#     # node_name.append(line[0])\n",
    "#     posterior_mean_mu_baseml.append(float(line[1]))\n",
    "#     lower_ci_mu_baseml.append(float(line[3][:-1]))\n",
    "#     upper_ci_mu_baseml.append(float(line[4][:-1]))\n",
    "    \n",
    "# for line in var_data1:\n",
    "#     line = line.strip().split()\n",
    "#     # node_name.append(line[0])\n",
    "#     posterior_mean_var_baseml.append(float(line[1]))\n",
    "#     lower_ci_var_baseml.append(float(line[3][:-1]))\n",
    "#     upper_ci_var_baseml.append(float(line[4][:-1]))"
   ],
   "id": "f75c012c6bef60a2",
   "outputs": [],
   "execution_count": 9
  },
  {
   "metadata": {
    "ExecuteTime": {
     "end_time": "2024-10-08T15:50:30.333649Z",
     "start_time": "2024-10-08T15:50:30.329263Z"
    }
   },
   "cell_type": "code",
   "source": [
    "import matplotlib.pyplot as plt\n",
    "import numpy as np\n",
    "\n",
    "# # Example data\n",
    "# # Posterior means for MCMCtree (x-axis) and McmcDate (y-axis)\n",
    "# posterior_mean_mcmctree = [100, 200, 300, 400, 500, 600, 700, 800, 900, 1000]\n",
    "# posterior_mean_mcmcdate = [110, 210, 310, 410, 510, 610, 710, 810, 910, 1010]\n",
    "# \n",
    "# # Credible intervals for MCMCtree\n",
    "# lower_ci_mcmctree = [90, 180, 270, 360, 450, 540, 630, 720, 810, 900]\n",
    "# upper_ci_mcmctree = [110, 220, 330, 440, 550, 660, 770, 880, 990, 1100]\n",
    "# \n",
    "# # Credible intervals for McmcDate\n",
    "# lower_ci_mcmcdate = [100, 200, 300, 400, 500, 600, 700, 800, 900, 1000]\n",
    "# upper_ci_mcmcdate = [120, 220, 320, 420, 520, 620, 720, 820, 920, 1020]\n",
    "\n",
    "# Calculate error bars\n",
    "# xerr = [np.array(lower_ci_baseml), \n",
    "#         np.array(upper_ci_baseml)]\n",
    "# yerr = [np.array(lower_ci_iqtree), \n",
    "#         np.array(upper_ci_iqtree)]\n",
    "# \n",
    "# # Plotting\n",
    "# fig, ax = plt.subplots(figsize=(15, 15))\n",
    "# ax.plot([-0.1,90], \n",
    "#         [-0.1, 90], \n",
    "#         'k--', label='y=x')\n",
    "# ax.errorbar(posterior_mean_baseml, posterior_mean_iqtree, \n",
    "#             xerr=xerr, yerr=yerr, fmt='*', ecolor='r', capsize=3, label='95% HPD CI')\n",
    "# \n",
    "# # Labels and title\n",
    "# ax.set_xlabel('Posterior mean age LG [100 Mya]', fontsize=18)\n",
    "# ax.set_ylabel('Posterior mean age LG+G4 [100 Mya]', fontsize=18)\n",
    "# ax.set_title('Posterior mean age comparison between LG and LG+G4 models [t116 ~ B(1.25,2.482)]')\n",
    "# ax.legend()\n",
    "# \n",
    "# # Show plot\n",
    "# # plt.show()\n",
    "# plt.savefig('./animal_origin_posterior_mean_age_comparison_LG_G4_c11.png')"
   ],
   "id": "12db486fa4fac82c",
   "outputs": [],
   "execution_count": 10
  },
  {
   "metadata": {
    "ExecuteTime": {
     "end_time": "2024-10-08T15:50:30.383764Z",
     "start_time": "2024-10-08T15:50:30.380728Z"
    }
   },
   "cell_type": "code",
   "source": "posterior_mean_baseml",
   "id": "917b2e31cff4b992",
   "outputs": [
    {
     "data": {
      "text/plain": [
       "[10.4071,\n",
       " 10.0825,\n",
       " 8.9723,\n",
       " 7.5331,\n",
       " 7.1233,\n",
       " 6.6275,\n",
       " 5.9185,\n",
       " 2.8393,\n",
       " 4.164,\n",
       " 2.9261,\n",
       " 2.4561,\n",
       " 1.8359,\n",
       " 1.2109,\n",
       " 0.7995,\n",
       " 0.3408,\n",
       " 3.0726,\n",
       " 6.7123,\n",
       " 5.5408,\n",
       " 5.9417,\n",
       " 4.2225,\n",
       " 3.5784,\n",
       " 3.4425,\n",
       " 6.7307,\n",
       " 6.2256,\n",
       " 5.8791,\n",
       " 5.4459,\n",
       " 4.9033,\n",
       " 4.6274,\n",
       " 3.9087,\n",
       " 3.4407,\n",
       " 3.015,\n",
       " 2.2395,\n",
       " 1.8995,\n",
       " 4.079,\n",
       " 3.1712,\n",
       " 6.4731,\n",
       " 1.6826,\n",
       " 6.1906,\n",
       " 5.626,\n",
       " 4.8234,\n",
       " 4.2962,\n",
       " 3.0824,\n",
       " 3.3239,\n",
       " 4.6631,\n",
       " 4.2394,\n",
       " 3.5785,\n",
       " 3.0751,\n",
       " 4.0306,\n",
       " 7.9028,\n",
       " 5.9089,\n",
       " 3.6065,\n",
       " 3.1764,\n",
       " 7.493]"
      ]
     },
     "execution_count": 11,
     "metadata": {},
     "output_type": "execute_result"
    }
   ],
   "execution_count": 11
  },
  {
   "metadata": {
    "ExecuteTime": {
     "end_time": "2024-10-08T15:50:30.443422Z",
     "start_time": "2024-10-08T15:50:30.438935Z"
    }
   },
   "cell_type": "code",
   "source": "posterior_mean_iqtree",
   "id": "59ad8fd34f7bbf11",
   "outputs": [
    {
     "data": {
      "text/plain": [
       "[8.8317,\n",
       " 8.5476,\n",
       " 8.0363,\n",
       " 6.8751,\n",
       " 6.6423,\n",
       " 6.3335,\n",
       " 5.8766,\n",
       " 2.5465,\n",
       " 4.009,\n",
       " 2.7991,\n",
       " 2.4393,\n",
       " 1.8712,\n",
       " 1.2501,\n",
       " 0.8294,\n",
       " 0.3529,\n",
       " 2.9669,\n",
       " 6.4696,\n",
       " 6.1917,\n",
       " 5.8689,\n",
       " 4.0952,\n",
       " 3.6631,\n",
       " 3.1723,\n",
       " 6.2991,\n",
       " 5.9935,\n",
       " 5.7972,\n",
       " 5.4125,\n",
       " 4.9577,\n",
       " 4.8112,\n",
       " 4.1659,\n",
       " 3.7728,\n",
       " 3.4514,\n",
       " 2.559,\n",
       " 2.338,\n",
       " 4.1941,\n",
       " 3.3472,\n",
       " 6.1852,\n",
       " 1.2702,\n",
       " 6.0361,\n",
       " 5.6399,\n",
       " 5.0041,\n",
       " 4.6144,\n",
       " 3.3436,\n",
       " 3.8432,\n",
       " 4.7942,\n",
       " 4.6122,\n",
       " 4.2486,\n",
       " 3.0995,\n",
       " 4.1319,\n",
       " 7.2709,\n",
       " 5.4451,\n",
       " 3.3119,\n",
       " 2.449,\n",
       " 6.1622]"
      ]
     },
     "execution_count": 12,
     "metadata": {},
     "output_type": "execute_result"
    }
   ],
   "execution_count": 12
  },
  {
   "metadata": {
    "ExecuteTime": {
     "end_time": "2024-10-08T15:50:30.797160Z",
     "start_time": "2024-10-08T15:50:30.619450Z"
    }
   },
   "cell_type": "code",
   "source": [
    "# Calculate error bars\n",
    "xerr = [np.array(lower_ci_baseml), \n",
    "        np.array(upper_ci_baseml)]\n",
    "yerr = [np.array(lower_ci_iqtree), \n",
    "        np.array(upper_ci_iqtree)]\n",
    "\n",
    "# Plotting\n",
    "fig, ax = plt.subplots(figsize=(9 ,9))\n",
    "ax.plot([-0.1,17], \n",
    "        [-0.1, 17], \n",
    "        'k--', label='y=x')\n",
    "ax.plot(posterior_mean_baseml, posterior_mean_iqtree, 'o', label='Posterior mean age')\n",
    " \n",
    "# Labels and title\n",
    "ax.set_xlabel('Posterior mean age LG [Mya]', fontsize=18)\n",
    "ax.set_ylabel('Posterior mean age LG+G4+C20 [Mya]', fontsize=18)\n",
    "ax.set_title('Posterior mean age comparison between LG and LG+G4 [t93 ~ B(5.3400 6.3610)]')\n",
    "ax.legend()\n",
    "\n",
    "# point_x = posterior_mean_baseml[0]  # Example: first point in the list\n",
    "# point_y = posterior_mean_iqtree[0]  # Example: first point in the list\n",
    "# ax.annotate('Root age', xy=(point_x, point_y), xytext=(point_x - 0.1, point_y - 0.1), color='red')\n",
    "# Show plot\n",
    "# plt.show()\n",
    "plt.savefig('metazoa_posterior_mean_age_comparison_LG_G4_C20_m12_scatter.png')"
   ],
   "id": "592d0bb72aa1ad4c",
   "outputs": [
    {
     "data": {
      "text/plain": [
       "<Figure size 900x900 with 1 Axes>"
      ],
      "image/png": "[encoded data removed]"
     },
     "metadata": {},
     "output_type": "display_data"
    }
   ],
   "execution_count": 13
  },
  {
   "metadata": {
    "ExecuteTime": {
     "end_time": "2024-10-08T15:50:30.806312Z",
     "start_time": "2024-10-08T15:50:30.804279Z"
    }
   },
   "cell_type": "code",
   "source": [
    "# fig, ax = plt.subplots(figsize=(9 ,9))\n",
    "# ax.plot([0.01,0.04], \n",
    "#         [0.01, 0.04], \n",
    "#         'k--', label='y=x')\n",
    "# ax.plot(posterior_mean_mu_baseml, posterior_mean_mu_iqtree, 'o', label='Posterior mean rates for partitions')\n",
    "#  \n",
    "# # Labels and title\n",
    "# ax.set_xlabel('Posterior mean rate [LG]', fontsize=18)\n",
    "# ax.set_ylabel('Posterior mean rate [LG+G4]', fontsize=18)\n",
    "# ax.set_title('Posterior mean rate comparison between LG and LG+G4 [Cherry only calibration/IQ-TREE]')\n",
    "# ax.legend()\n",
    "# \n",
    "# # point_x = posterior_mean_baseml[0]  # Example: first point in the list\n",
    "# # point_y = posterior_mean_iqtree[0]  # Example: first point in the list\n",
    "# # ax.annotate('Root age', xy=(point_x, point_y), xytext=(point_x - 0.1, point_y - 0.1), color='red')\n",
    "# # Show plot\n",
    "# # plt.show()\n",
    "# plt.savefig('./animal_origin__posterior_mean_rate_comparison_LG_G4_all_scatter.png')"
   ],
   "id": "c6d69ee36c77970c",
   "outputs": [],
   "execution_count": 14
  },
  {
   "metadata": {
    "ExecuteTime": {
     "end_time": "2024-10-08T15:50:30.848840Z",
     "start_time": "2024-10-08T15:50:30.846900Z"
    }
   },
   "cell_type": "code",
   "source": "",
   "id": "ca69d5b521db3aa7",
   "outputs": [],
   "execution_count": null
  }
 ],
 "metadata": {
  "kernelspec": {
   "display_name": "Python 3",
   "language": "python",
   "name": "python3"
  },
  "language_info": {
   "codemirror_mode": {
    "name": "ipython",
    "version": 2
   },
   "file_extension": ".py",
   "mimetype": "text/x-python",
   "name": "python",
   "nbconvert_exporter": "python",
   "pygments_lexer": "ipython2",
   "version": "2.7.6"
  }
 },
 "nbformat": 4,
 "nbformat_minor": 5
}
