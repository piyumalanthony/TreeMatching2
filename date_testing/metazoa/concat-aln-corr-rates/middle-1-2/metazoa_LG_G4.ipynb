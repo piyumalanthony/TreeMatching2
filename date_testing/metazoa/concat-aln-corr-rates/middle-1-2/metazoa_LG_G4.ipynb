{
 "cells": [
  {
   "cell_type": "code",
   "id": "initial_id",
   "metadata": {
    "collapsed": true,
    "ExecuteTime": {
     "end_time": "2024-10-08T15:49:48.782858Z",
     "start_time": "2024-10-08T15:49:48.316165Z"
    }
   },
   "source": [
    "# Code to get all the Posterior mean (95% Equal-tail CI) (95% HPD CI) HPD-CI-width from ./xenarthra_mcmc_out.txt\n",
    "import numpy as np\n",
    "import pandas as pd\n",
    "import matplotlib.pyplot as plt\n",
    "\n",
    "\n",
    "# Read the file\n",
    "file = open(\"LG_G4_m12_out.txt\", \"r\")\n",
    "lines = file.readlines()\n",
    "file.close()\n",
    "\n",
    "# Extract the data\n",
    "data = []\n",
    "mu_data = []\n",
    "var_data = []\n",
    "\n",
    "read_flag = False\n",
    "for line in lines:\n",
    "    if line.startswith(\"Posterior\"):\n",
    "        read_flag = True\n",
    "    if read_flag and line.startswith(\"t\"):\n",
    "        data.append(line)\n",
    "    if read_flag and line.startswith(\"mu\"):\n",
    "        mu_data.append(line)\n",
    "    if read_flag and line.startswith(\"sigma\"):\n",
    "        var_data.append(line)"
   ],
   "outputs": [],
   "execution_count": 1
  },
  {
   "metadata": {
    "ExecuteTime": {
     "end_time": "2024-10-08T15:49:48.800045Z",
     "start_time": "2024-10-08T15:49:48.793290Z"
    }
   },
   "cell_type": "code",
   "source": "data",
   "id": "54808ee54195795",
   "outputs": [
    {
     "data": {
      "text/plain": [
       "['t_n55          9.6153 ( 8.4591, 11.3015) ( 8.3116, 11.0560)  2.7444 (Jnode 106)\\n',\n",
       " 't_n56          9.3110 ( 8.3073, 10.6936) ( 8.2211, 10.5483)  2.3273 (Jnode 105)\\n',\n",
       " 't_n57          8.5472 ( 7.7191,  9.7207) ( 7.6470,  9.5946)  1.9477 (Jnode 104)\\n',\n",
       " 't_n58          7.2118 ( 6.6703,  8.0594) ( 6.6258,  7.9808)  1.3551 (Jnode 103)\\n',\n",
       " 't_n59          6.9038 ( 6.4014,  7.7135) ( 6.3467,  7.6135)  1.2668 (Jnode 102)\\n',\n",
       " 't_n60          6.5292 ( 6.0565,  7.2889) ( 6.0008,  7.1948)  1.1939 (Jnode 101)\\n',\n",
       " 't_n61          5.9376 ( 5.4676,  6.6472) ( 5.4220,  6.5795)  1.1575 (Jnode 100)\\n',\n",
       " 't_n62          2.7045 ( 1.8479,  3.5648) ( 1.8441,  3.5568)  1.7127 (Jnode 99)\\n',\n",
       " 't_n63          4.1300 ( 3.4656,  4.8323) ( 3.4408,  4.8004)  1.3596 (Jnode 98)\\n',\n",
       " 't_n64          2.9200 ( 2.3308,  3.5607) ( 2.3270,  3.5519)  1.2249 (Jnode 97)\\n',\n",
       " 't_n65          2.5087 ( 1.9698,  3.0988) ( 1.9615,  3.0891)  1.1275 (Jnode 96)\\n',\n",
       " 't_n66          1.9165 ( 1.4621,  2.4218) ( 1.4472,  2.4011)  0.9539 (Jnode 95)\\n',\n",
       " 't_n67          1.2811 ( 0.9479,  1.6690) ( 0.9295,  1.6443)  0.7148 (Jnode 94)\\n',\n",
       " 't_n68          0.8431 ( 0.6136,  1.1274) ( 0.6040,  1.1142)  0.5102 (Jnode 93)\\n',\n",
       " 't_n69          0.3617 ( 0.2512,  0.5062) ( 0.2415,  0.4916)  0.2501 (Jnode 92)\\n',\n",
       " 't_n70          3.0521 ( 2.4295,  3.7047) ( 2.4397,  3.7129)  1.2732 (Jnode 91)\\n',\n",
       " 't_n71          6.6283 ( 6.1510,  7.3985) ( 6.0971,  7.3041)  1.2070 (Jnode 90)\\n',\n",
       " 't_n72          5.8638 ( 5.3966,  6.5739) ( 5.3661,  6.5241)  1.1580 (Jnode 89)\\n',\n",
       " 't_n73          5.9299 ( 5.4571,  6.6435) ( 5.4096,  6.5649)  1.1553 (Jnode 88)\\n',\n",
       " 't_n74          4.1667 ( 3.4239,  4.9233) ( 3.4223,  4.9187)  1.4964 (Jnode 87)\\n',\n",
       " 't_n75          3.6186 ( 2.8899,  4.3583) ( 2.8958,  4.3615)  1.4657 (Jnode 86)\\n',\n",
       " 't_n76          3.3169 ( 2.3855,  4.2033) ( 2.4159,  4.2281)  1.8122 (Jnode 85)\\n',\n",
       " 't_n77          6.5022 ( 6.0794,  7.2349) ( 6.0386,  7.1522)  1.1136 (Jnode 84)\\n',\n",
       " 't_n78          6.1026 ( 5.7034,  6.7914) ( 5.6654,  6.7157)  1.0502 (Jnode 83)\\n',\n",
       " 't_n79          5.8293 ( 5.4307,  6.4967) ( 5.3847,  6.4130)  1.0283 (Jnode 82)\\n',\n",
       " 't_n80          5.4692 ( 5.0469,  6.1215) ( 5.0084,  6.0543)  1.0459 (Jnode 81)\\n',\n",
       " 't_n81          4.9608 ( 4.5154,  5.5848) ( 4.4841,  5.5424)  1.0583 (Jnode 80)\\n',\n",
       " 't_n82          4.7546 ( 4.2989,  5.3682) ( 4.2645,  5.3175)  1.0530 (Jnode 79)\\n',\n",
       " 't_n83          4.0641 ( 3.5778,  4.6526) ( 3.5714,  4.6431)  1.0717 (Jnode 78)\\n',\n",
       " 't_n84          3.6572 ( 3.1736,  4.2279) ( 3.1651,  4.2134)  1.0483 (Jnode 77)\\n',\n",
       " 't_n85          3.2811 ( 2.8101,  3.8297) ( 2.7949,  3.8110)  1.0160 (Jnode 76)\\n',\n",
       " 't_n86          2.4522 ( 2.0150,  2.9525) ( 1.9921,  2.9275)  0.9355 (Jnode 75)\\n',\n",
       " 't_n87          2.1635 ( 1.7514,  2.6338) ( 1.7343,  2.6124)  0.8781 (Jnode 74)\\n',\n",
       " 't_n88          4.1776 ( 3.6721,  4.7833) ( 3.6481,  4.7534)  1.1053 (Jnode 73)\\n',\n",
       " 't_n89          3.2857 ( 2.7417,  3.8862) ( 2.7323,  3.8729)  1.1407 (Jnode 72)\\n',\n",
       " 't_n90          6.3255 ( 5.9270,  7.0319) ( 5.8815,  6.9459)  1.0644 (Jnode 71)\\n',\n",
       " 't_n91          1.4832 ( 0.8328,  2.2918) ( 0.7693,  2.2107)  1.4414 (Jnode 70)\\n',\n",
       " 't_n92          6.1224 ( 5.7563,  6.7979) ( 5.7141,  6.7143)  1.0002 (Jnode 69)\\n',\n",
       " 't_n93          5.6359 ( 5.3476,  6.2481) ( 5.3385,  6.1605)  0.8220 (Jnode 68)\\n',\n",
       " 't_n94          4.9171 ( 4.5373,  5.4939) ( 4.5054,  5.4543)  0.9490 (Jnode 67)\\n',\n",
       " 't_n95          4.4631 ( 4.0435,  5.0145) ( 4.0279,  4.9966)  0.9687 (Jnode 66)\\n',\n",
       " 't_n96          3.2259 ( 2.6623,  3.7958) ( 2.6603,  3.7928)  1.1325 (Jnode 65)\\n',\n",
       " 't_n97          3.5820 ( 3.0877,  4.1343) ( 3.0760,  4.1176)  1.0416 (Jnode 64)\\n',\n",
       " 't_n98          4.7347 ( 4.3171,  5.3058) ( 4.3029,  5.2801)  0.9772 (Jnode 63)\\n',\n",
       " 't_n99          4.4522 ( 4.0158,  5.0124) ( 3.9982,  4.9905)  0.9923 (Jnode 62)\\n',\n",
       " 't_n100         3.9340 ( 3.4532,  4.4924) ( 3.4227,  4.4560)  1.0333 (Jnode 61)\\n',\n",
       " 't_n101         3.1096 ( 2.4938,  3.7157) ( 2.4670,  3.6871)  1.2201 (Jnode 60)\\n',\n",
       " 't_n102         4.0072 ( 3.2839,  4.7064) ( 3.2928,  4.7119)  1.4191 (Jnode 59)\\n',\n",
       " 't_n103         7.6733 ( 6.9355,  8.7056) ( 6.8597,  8.5961)  1.7364 (Jnode 58)\\n',\n",
       " 't_n104         5.8118 ( 4.7229,  6.7606) ( 4.7674,  6.7956)  2.0281 (Jnode 57)\\n',\n",
       " 't_n105         3.5911 ( 2.5295,  4.6306) ( 2.5487,  4.6472)  2.0985 (Jnode 56)\\n',\n",
       " 't_n106         2.8489 ( 1.6889,  4.1120) ( 1.6649,  4.0721)  2.4072 (Jnode 55)\\n',\n",
       " 't_n107         6.8413 ( 5.4586,  8.9158) ( 5.3935,  8.7930)  3.3995 (Jnode 54)\\n']"
      ]
     },
     "execution_count": 2,
     "metadata": {},
     "output_type": "execute_result"
    }
   ],
   "execution_count": 2
  },
  {
   "metadata": {
    "ExecuteTime": {
     "end_time": "2024-10-08T15:49:48.851707Z",
     "start_time": "2024-10-08T15:49:48.847578Z"
    }
   },
   "cell_type": "code",
   "source": [
    "node_name = []\n",
    "posterior_mean_iqtree = []\n",
    "posterior_mean_baseml = []\n",
    "\n",
    "posterior_mean_mu_iqtree = []\n",
    "posterior_mean_mu_baseml = []\n",
    "\n",
    "posterior_mean_var_iqtree = []\n",
    "posterior_mean_var_baseml = []\n",
    "\n",
    "lower_ci_iqtree = []\n",
    "upper_ci_iqtree = []\n",
    "\n",
    "lower_ci_mu_iqtree = []\n",
    "upper_ci_mu_iqtree = []\n",
    "\n",
    "lower_ci_var_iqtree = []\n",
    "upper_ci_var_iqtree = []\n",
    "\n",
    "# Credible intervals for McmcDate\n",
    "lower_ci_baseml = []\n",
    "upper_ci_baseml = []\n",
    "\n",
    "lower_ci_mu_baseml = []\n",
    "upper_ci_mu_baseml = []\n",
    "\n",
    "lower_ci_var_baseml = []\n",
    "upper_ci_var_baseml = []"
   ],
   "id": "e5cf93a69d327e61",
   "outputs": [],
   "execution_count": 3
  },
  {
   "metadata": {
    "ExecuteTime": {
     "end_time": "2024-10-08T15:49:48.901156Z",
     "start_time": "2024-10-08T15:49:48.896599Z"
    }
   },
   "cell_type": "code",
   "source": [
    "for line in data:\n",
    "    line = line.strip().split()\n",
    "    node_name.append(line[0])\n",
    "    posterior_mean_iqtree.append(float(line[1]))\n",
    "#     if line[3].startswith('('):\n",
    "#         lower_ci_iqtree.append(float(line[3][1:-1]))\n",
    "#     else:\n",
    "#         lower_ci_iqtree.append(float(line[3][1:-1]))\n",
    "#     if line[4].startswith('('):\n",
    "#         upper_ci_iqtree.append(float(line[4][1:-1]))\n",
    "#     else:\n",
    "#         upper_ci_iqtree.append(float(line[4][:-1]))\n",
    "#     # posterior_mean_baseml.append(float(line[4]))\n",
    "#     # lower_ci_baseml.append(float(line[5]))\n",
    "#     # upper_ci_baseml.append(float(line[6]))\n",
    "# \n",
    "# for line in mu_data:\n",
    "#     line = line.strip().split()\n",
    "#     # node_name.append(line[0])\n",
    "#     posterior_mean_mu_iqtree.append(float(line[1]))\n",
    "#     lower_ci_mu_iqtree.append(float(line[3][:-1]))\n",
    "#     upper_ci_mu_iqtree.append(float(line[4][:-1]))\n",
    "#\n",
    "# for line in var_data:\n",
    "#     line = line.strip().split()\n",
    "#     # node_name.append(line[0])\n",
    "#     posterior_mean_var_iqtree.append(float(line[1]))\n",
    "#     lower_ci_var_iqtree.append(float(line[3][:-1]))\n",
    "#     upper_ci_var_iqtree.append(float(line[4][:-1]))"
   ],
   "id": "4e79ee928ea76b59",
   "outputs": [],
   "execution_count": 4
  },
  {
   "metadata": {
    "ExecuteTime": {
     "end_time": "2024-10-08T15:49:48.963210Z",
     "start_time": "2024-10-08T15:49:48.957015Z"
    }
   },
   "cell_type": "code",
   "source": "node_name",
   "id": "2c17f55ec9626a0b",
   "outputs": [
    {
     "data": {
      "text/plain": [
       "['t_n55',\n",
       " 't_n56',\n",
       " 't_n57',\n",
       " 't_n58',\n",
       " 't_n59',\n",
       " 't_n60',\n",
       " 't_n61',\n",
       " 't_n62',\n",
       " 't_n63',\n",
       " 't_n64',\n",
       " 't_n65',\n",
       " 't_n66',\n",
       " 't_n67',\n",
       " 't_n68',\n",
       " 't_n69',\n",
       " 't_n70',\n",
       " 't_n71',\n",
       " 't_n72',\n",
       " 't_n73',\n",
       " 't_n74',\n",
       " 't_n75',\n",
       " 't_n76',\n",
       " 't_n77',\n",
       " 't_n78',\n",
       " 't_n79',\n",
       " 't_n80',\n",
       " 't_n81',\n",
       " 't_n82',\n",
       " 't_n83',\n",
       " 't_n84',\n",
       " 't_n85',\n",
       " 't_n86',\n",
       " 't_n87',\n",
       " 't_n88',\n",
       " 't_n89',\n",
       " 't_n90',\n",
       " 't_n91',\n",
       " 't_n92',\n",
       " 't_n93',\n",
       " 't_n94',\n",
       " 't_n95',\n",
       " 't_n96',\n",
       " 't_n97',\n",
       " 't_n98',\n",
       " 't_n99',\n",
       " 't_n100',\n",
       " 't_n101',\n",
       " 't_n102',\n",
       " 't_n103',\n",
       " 't_n104',\n",
       " 't_n105',\n",
       " 't_n106',\n",
       " 't_n107']"
      ]
     },
     "execution_count": 5,
     "metadata": {},
     "output_type": "execute_result"
    }
   ],
   "execution_count": 5
  },
  {
   "metadata": {
    "ExecuteTime": {
     "end_time": "2024-10-08T15:49:49.024571Z",
     "start_time": "2024-10-08T15:49:49.020505Z"
    }
   },
   "cell_type": "code",
   "source": "posterior_mean_iqtree",
   "id": "24a55c806a41f33e",
   "outputs": [
    {
     "data": {
      "text/plain": [
       "[9.6153,\n",
       " 9.311,\n",
       " 8.5472,\n",
       " 7.2118,\n",
       " 6.9038,\n",
       " 6.5292,\n",
       " 5.9376,\n",
       " 2.7045,\n",
       " 4.13,\n",
       " 2.92,\n",
       " 2.5087,\n",
       " 1.9165,\n",
       " 1.2811,\n",
       " 0.8431,\n",
       " 0.3617,\n",
       " 3.0521,\n",
       " 6.6283,\n",
       " 5.8638,\n",
       " 5.9299,\n",
       " 4.1667,\n",
       " 3.6186,\n",
       " 3.3169,\n",
       " 6.5022,\n",
       " 6.1026,\n",
       " 5.8293,\n",
       " 5.4692,\n",
       " 4.9608,\n",
       " 4.7546,\n",
       " 4.0641,\n",
       " 3.6572,\n",
       " 3.2811,\n",
       " 2.4522,\n",
       " 2.1635,\n",
       " 4.1776,\n",
       " 3.2857,\n",
       " 6.3255,\n",
       " 1.4832,\n",
       " 6.1224,\n",
       " 5.6359,\n",
       " 4.9171,\n",
       " 4.4631,\n",
       " 3.2259,\n",
       " 3.582,\n",
       " 4.7347,\n",
       " 4.4522,\n",
       " 3.934,\n",
       " 3.1096,\n",
       " 4.0072,\n",
       " 7.6733,\n",
       " 5.8118,\n",
       " 3.5911,\n",
       " 2.8489,\n",
       " 6.8413]"
      ]
     },
     "execution_count": 6,
     "metadata": {},
     "output_type": "execute_result"
    }
   ],
   "execution_count": 6
  },
  {
   "metadata": {
    "ExecuteTime": {
     "end_time": "2024-10-08T15:49:49.077212Z",
     "start_time": "2024-10-08T15:49:49.074396Z"
    }
   },
   "cell_type": "code",
   "source": "lower_ci_iqtree",
   "id": "388aa27ad336d43f",
   "outputs": [
    {
     "data": {
      "text/plain": [
       "[]"
      ]
     },
     "execution_count": 7,
     "metadata": {},
     "output_type": "execute_result"
    }
   ],
   "execution_count": 7
  },
  {
   "metadata": {
    "ExecuteTime": {
     "end_time": "2024-10-08T15:49:49.136945Z",
     "start_time": "2024-10-08T15:49:49.133295Z"
    }
   },
   "cell_type": "code",
   "source": "upper_ci_iqtree",
   "id": "816e569fb763e797",
   "outputs": [
    {
     "data": {
      "text/plain": [
       "[]"
      ]
     },
     "execution_count": 8,
     "metadata": {},
     "output_type": "execute_result"
    }
   ],
   "execution_count": 8
  },
  {
   "metadata": {
    "ExecuteTime": {
     "end_time": "2024-10-08T15:49:49.195549Z",
     "start_time": "2024-10-08T15:49:49.189784Z"
    }
   },
   "cell_type": "code",
   "source": [
    "file_LG = open(\"LG_m12_out.txt\", \"r\")\n",
    "lines1 = file_LG.readlines()\n",
    "file_LG.close()\n",
    "\n",
    "# Extract the data\n",
    "data1 = []\n",
    "mu_data1 = []\n",
    "var_data1 = []\n",
    "\n",
    "read_flag = False\n",
    "for line in lines1:\n",
    "    if line.startswith(\"Posterior\"):\n",
    "        read_flag = True\n",
    "    if read_flag and line.startswith(\"t\"):\n",
    "        data1.append(line)\n",
    "    if read_flag and line.startswith(\"mu\"):\n",
    "        mu_data1.append(line)\n",
    "    if read_flag and line.startswith(\"sigma\"):\n",
    "        var_data1.append(line)\n",
    "\n",
    "        \n",
    "for line in data1:\n",
    "    line = line.strip().split()\n",
    "    # node_name.append(line[0])\n",
    "    posterior_mean_baseml.append(float(line[1]))\n",
    "#     if line[3].startswith('('):\n",
    "#         lower_ci_baseml.append(float(line[3][1:-1]))\n",
    "#     else:\n",
    "#          lower_ci_baseml.append(float(line[3][:-1]))\n",
    "#     if line[4].startswith('('):\n",
    "#         upper_ci_baseml.append(float(line[4][1:-1]))\n",
    "#     else:\n",
    "#          upper_ci_baseml.append(float(line[4][:-1]))\n",
    "#         \n",
    "#     \n",
    "# for line in mu_data1:\n",
    "#     line = line.strip().split()\n",
    "#     # node_name.append(line[0])\n",
    "#     posterior_mean_mu_baseml.append(float(line[1]))\n",
    "#     lower_ci_mu_baseml.append(float(line[3][:-1]))\n",
    "#     upper_ci_mu_baseml.append(float(line[4][:-1]))\n",
    "    \n",
    "# for line in var_data1:\n",
    "#     line = line.strip().split()\n",
    "#     # node_name.append(line[0])\n",
    "#     posterior_mean_var_baseml.append(float(line[1]))\n",
    "#     lower_ci_var_baseml.append(float(line[3][:-1]))\n",
    "#     upper_ci_var_baseml.append(float(line[4][:-1]))"
   ],
   "id": "f75c012c6bef60a2",
   "outputs": [],
   "execution_count": 9
  },
  {
   "metadata": {
    "ExecuteTime": {
     "end_time": "2024-10-08T15:49:49.247962Z",
     "start_time": "2024-10-08T15:49:49.242750Z"
    }
   },
   "cell_type": "code",
   "source": [
    "import matplotlib.pyplot as plt\n",
    "import numpy as np\n",
    "\n",
    "# # Example data\n",
    "# # Posterior means for MCMCtree (x-axis) and McmcDate (y-axis)\n",
    "# posterior_mean_mcmctree = [100, 200, 300, 400, 500, 600, 700, 800, 900, 1000]\n",
    "# posterior_mean_mcmcdate = [110, 210, 310, 410, 510, 610, 710, 810, 910, 1010]\n",
    "# \n",
    "# # Credible intervals for MCMCtree\n",
    "# lower_ci_mcmctree = [90, 180, 270, 360, 450, 540, 630, 720, 810, 900]\n",
    "# upper_ci_mcmctree = [110, 220, 330, 440, 550, 660, 770, 880, 990, 1100]\n",
    "# \n",
    "# # Credible intervals for McmcDate\n",
    "# lower_ci_mcmcdate = [100, 200, 300, 400, 500, 600, 700, 800, 900, 1000]\n",
    "# upper_ci_mcmcdate = [120, 220, 320, 420, 520, 620, 720, 820, 920, 1020]\n",
    "\n",
    "# Calculate error bars\n",
    "# xerr = [np.array(lower_ci_baseml), \n",
    "#         np.array(upper_ci_baseml)]\n",
    "# yerr = [np.array(lower_ci_iqtree), \n",
    "#         np.array(upper_ci_iqtree)]\n",
    "# \n",
    "# # Plotting\n",
    "# fig, ax = plt.subplots(figsize=(15, 15))\n",
    "# ax.plot([-0.1,90], \n",
    "#         [-0.1, 90], \n",
    "#         'k--', label='y=x')\n",
    "# ax.errorbar(posterior_mean_baseml, posterior_mean_iqtree, \n",
    "#             xerr=xerr, yerr=yerr, fmt='*', ecolor='r', capsize=3, label='95% HPD CI')\n",
    "# \n",
    "# # Labels and title\n",
    "# ax.set_xlabel('Posterior mean age LG [100 Mya]', fontsize=18)\n",
    "# ax.set_ylabel('Posterior mean age LG+G4 [100 Mya]', fontsize=18)\n",
    "# ax.set_title('Posterior mean age comparison between LG and LG+G4 models [t116 ~ B(1.25,2.482)]')\n",
    "# ax.legend()\n",
    "# \n",
    "# # Show plot\n",
    "# # plt.show()\n",
    "# plt.savefig('./animal_origin_posterior_mean_age_comparison_LG_G4_c11.png')"
   ],
   "id": "12db486fa4fac82c",
   "outputs": [],
   "execution_count": 10
  },
  {
   "metadata": {
    "ExecuteTime": {
     "end_time": "2024-10-08T15:49:49.309072Z",
     "start_time": "2024-10-08T15:49:49.303201Z"
    }
   },
   "cell_type": "code",
   "source": "posterior_mean_baseml",
   "id": "917b2e31cff4b992",
   "outputs": [
    {
     "data": {
      "text/plain": [
       "[10.4071,\n",
       " 10.0825,\n",
       " 8.9723,\n",
       " 7.5331,\n",
       " 7.1233,\n",
       " 6.6275,\n",
       " 5.9185,\n",
       " 2.8393,\n",
       " 4.164,\n",
       " 2.9261,\n",
       " 2.4561,\n",
       " 1.8359,\n",
       " 1.2109,\n",
       " 0.7995,\n",
       " 0.3408,\n",
       " 3.0726,\n",
       " 6.7123,\n",
       " 5.5408,\n",
       " 5.9417,\n",
       " 4.2225,\n",
       " 3.5784,\n",
       " 3.4425,\n",
       " 6.7307,\n",
       " 6.2256,\n",
       " 5.8791,\n",
       " 5.4459,\n",
       " 4.9033,\n",
       " 4.6274,\n",
       " 3.9087,\n",
       " 3.4407,\n",
       " 3.015,\n",
       " 2.2395,\n",
       " 1.8995,\n",
       " 4.079,\n",
       " 3.1712,\n",
       " 6.4731,\n",
       " 1.6826,\n",
       " 6.1906,\n",
       " 5.626,\n",
       " 4.8234,\n",
       " 4.2962,\n",
       " 3.0824,\n",
       " 3.3239,\n",
       " 4.6631,\n",
       " 4.2394,\n",
       " 3.5785,\n",
       " 3.0751,\n",
       " 4.0306,\n",
       " 7.9028,\n",
       " 5.9089,\n",
       " 3.6065,\n",
       " 3.1764,\n",
       " 7.493]"
      ]
     },
     "execution_count": 11,
     "metadata": {},
     "output_type": "execute_result"
    }
   ],
   "execution_count": 11
  },
  {
   "metadata": {
    "ExecuteTime": {
     "end_time": "2024-10-08T15:49:49.364803Z",
     "start_time": "2024-10-08T15:49:49.361139Z"
    }
   },
   "cell_type": "code",
   "source": "posterior_mean_iqtree",
   "id": "59ad8fd34f7bbf11",
   "outputs": [
    {
     "data": {
      "text/plain": [
       "[9.6153,\n",
       " 9.311,\n",
       " 8.5472,\n",
       " 7.2118,\n",
       " 6.9038,\n",
       " 6.5292,\n",
       " 5.9376,\n",
       " 2.7045,\n",
       " 4.13,\n",
       " 2.92,\n",
       " 2.5087,\n",
       " 1.9165,\n",
       " 1.2811,\n",
       " 0.8431,\n",
       " 0.3617,\n",
       " 3.0521,\n",
       " 6.6283,\n",
       " 5.8638,\n",
       " 5.9299,\n",
       " 4.1667,\n",
       " 3.6186,\n",
       " 3.3169,\n",
       " 6.5022,\n",
       " 6.1026,\n",
       " 5.8293,\n",
       " 5.4692,\n",
       " 4.9608,\n",
       " 4.7546,\n",
       " 4.0641,\n",
       " 3.6572,\n",
       " 3.2811,\n",
       " 2.4522,\n",
       " 2.1635,\n",
       " 4.1776,\n",
       " 3.2857,\n",
       " 6.3255,\n",
       " 1.4832,\n",
       " 6.1224,\n",
       " 5.6359,\n",
       " 4.9171,\n",
       " 4.4631,\n",
       " 3.2259,\n",
       " 3.582,\n",
       " 4.7347,\n",
       " 4.4522,\n",
       " 3.934,\n",
       " 3.1096,\n",
       " 4.0072,\n",
       " 7.6733,\n",
       " 5.8118,\n",
       " 3.5911,\n",
       " 2.8489,\n",
       " 6.8413]"
      ]
     },
     "execution_count": 12,
     "metadata": {},
     "output_type": "execute_result"
    }
   ],
   "execution_count": 12
  },
  {
   "metadata": {
    "ExecuteTime": {
     "end_time": "2024-10-08T15:49:49.718050Z",
     "start_time": "2024-10-08T15:49:49.541798Z"
    }
   },
   "cell_type": "code",
   "source": [
    "# Calculate error bars\n",
    "xerr = [np.array(lower_ci_baseml), \n",
    "        np.array(upper_ci_baseml)]\n",
    "yerr = [np.array(lower_ci_iqtree), \n",
    "        np.array(upper_ci_iqtree)]\n",
    "\n",
    "# Plotting\n",
    "fig, ax = plt.subplots(figsize=(9 ,9))\n",
    "ax.plot([-0.1,17], \n",
    "        [-0.1, 17], \n",
    "        'k--', label='y=x')\n",
    "ax.plot(posterior_mean_baseml, posterior_mean_iqtree, 'o', label='Posterior mean age')\n",
    " \n",
    "# Labels and title\n",
    "ax.set_xlabel('Posterior mean age LG [Mya]', fontsize=18)\n",
    "ax.set_ylabel('Posterior mean age LG+G4 [Mya]', fontsize=18)\n",
    "ax.set_title('Posterior mean age comparison between LG and LG+G4 [t93 ~ B(5.3400 6.3610)]')\n",
    "ax.legend()\n",
    "\n",
    "# point_x = posterior_mean_baseml[0]  # Example: first point in the list\n",
    "# point_y = posterior_mean_iqtree[0]  # Example: first point in the list\n",
    "# ax.annotate('Root age', xy=(point_x, point_y), xytext=(point_x - 0.1, point_y - 0.1), color='red')\n",
    "# Show plot\n",
    "# plt.show()\n",
    "plt.savefig('./metazoa_posterior_mean_age_comparison_LG_G4_m12_scatter.png')"
   ],
   "id": "592d0bb72aa1ad4c",
   "outputs": [
    {
     "data": {
      "text/plain": [
       "<Figure size 900x900 with 1 Axes>"
      ],
      "image/png": "[encoded data removed]"
     },
     "metadata": {},
     "output_type": "display_data"
    }
   ],
   "execution_count": 13
  },
  {
   "metadata": {
    "ExecuteTime": {
     "end_time": "2024-10-08T15:49:49.726748Z",
     "start_time": "2024-10-08T15:49:49.724477Z"
    }
   },
   "cell_type": "code",
   "source": [
    "# fig, ax = plt.subplots(figsize=(9 ,9))\n",
    "# ax.plot([0.01,0.04], \n",
    "#         [0.01, 0.04], \n",
    "#         'k--', label='y=x')\n",
    "# ax.plot(posterior_mean_mu_baseml, posterior_mean_mu_iqtree, 'o', label='Posterior mean rates for partitions')\n",
    "#  \n",
    "# # Labels and title\n",
    "# ax.set_xlabel('Posterior mean rate [LG]', fontsize=18)\n",
    "# ax.set_ylabel('Posterior mean rate [LG+G4]', fontsize=18)\n",
    "# ax.set_title('Posterior mean rate comparison between LG and LG+G4 [Cherry only calibration/IQ-TREE]')\n",
    "# ax.legend()\n",
    "# \n",
    "# # point_x = posterior_mean_baseml[0]  # Example: first point in the list\n",
    "# # point_y = posterior_mean_iqtree[0]  # Example: first point in the list\n",
    "# # ax.annotate('Root age', xy=(point_x, point_y), xytext=(point_x - 0.1, point_y - 0.1), color='red')\n",
    "# # Show plot\n",
    "# # plt.show()\n",
    "# plt.savefig('./animal_origin__posterior_mean_rate_comparison_LG_G4_all_scatter.png')"
   ],
   "id": "c6d69ee36c77970c",
   "outputs": [],
   "execution_count": 14
  },
  {
   "metadata": {
    "ExecuteTime": {
     "end_time": "2024-10-08T15:49:49.769600Z",
     "start_time": "2024-10-08T15:49:49.767658Z"
    }
   },
   "cell_type": "code",
   "source": "",
   "id": "ca69d5b521db3aa7",
   "outputs": [],
   "execution_count": null
  }
 ],
 "metadata": {
  "kernelspec": {
   "display_name": "Python 3",
   "language": "python",
   "name": "python3"
  },
  "language_info": {
   "codemirror_mode": {
    "name": "ipython",
    "version": 2
   },
   "file_extension": ".py",
   "mimetype": "text/x-python",
   "name": "python",
   "nbconvert_exporter": "python",
   "pygments_lexer": "ipython2",
   "version": "2.7.6"
  }
 },
 "nbformat": 4,
 "nbformat_minor": 5
}
