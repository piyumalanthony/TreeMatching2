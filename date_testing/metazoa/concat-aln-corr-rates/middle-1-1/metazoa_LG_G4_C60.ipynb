{
 "cells": [
  {
   "cell_type": "code",
   "id": "initial_id",
   "metadata": {
    "collapsed": true,
    "ExecuteTime": {
     "end_time": "2024-10-08T15:44:54.429345Z",
     "start_time": "2024-10-08T15:44:53.963895Z"
    }
   },
   "source": [
    "# Code to get all the Posterior mean (95% Equal-tail CI) (95% HPD CI) HPD-CI-width from ./xenarthra_mcmc_out.txt\n",
    "import numpy as np\n",
    "import pandas as pd\n",
    "import matplotlib.pyplot as plt\n",
    "\n",
    "\n",
    "# Read the file\n",
    "file = open(\"LG_G4_C60_m11_out.txt\", \"r\")\n",
    "lines = file.readlines()\n",
    "file.close()\n",
    "\n",
    "# Extract the data\n",
    "data = []\n",
    "mu_data = []\n",
    "var_data = []\n",
    "\n",
    "read_flag = False\n",
    "for line in lines:\n",
    "    if line.startswith(\"Posterior\"):\n",
    "        read_flag = True\n",
    "    if read_flag and line.startswith(\"t\"):\n",
    "        data.append(line)\n",
    "    if read_flag and line.startswith(\"mu\"):\n",
    "        mu_data.append(line)\n",
    "    if read_flag and line.startswith(\"sigma\"):\n",
    "        var_data.append(line)"
   ],
   "outputs": [],
   "execution_count": 1
  },
  {
   "metadata": {
    "ExecuteTime": {
     "end_time": "2024-10-08T15:44:54.442354Z",
     "start_time": "2024-10-08T15:44:54.438146Z"
    }
   },
   "cell_type": "code",
   "source": "data",
   "id": "54808ee54195795",
   "outputs": [
    {
     "data": {
      "text/plain": [
       "['t_n55          8.0585 ( 7.5860,  8.3226) ( 7.6662,  8.3344)  0.6682 (Jnode 106)\\n',\n",
       " 't_n56          7.9219 ( 7.4659,  8.2616) ( 7.5265,  8.2937)  0.7672 (Jnode 105)\\n',\n",
       " 't_n57          7.5287 ( 7.1268,  7.8619) ( 7.1677,  7.8919)  0.7243 (Jnode 104)\\n',\n",
       " 't_n58          6.5570 ( 6.2927,  6.8817) ( 6.2749,  6.8606)  0.5857 (Jnode 103)\\n',\n",
       " 't_n59          6.3646 ( 6.1125,  6.6870) ( 6.0998,  6.6664)  0.5666 (Jnode 102)\\n',\n",
       " 't_n60          6.0911 ( 5.8424,  6.4161) ( 5.8178,  6.3833)  0.5655 (Jnode 101)\\n',\n",
       " 't_n61          5.6679 ( 5.4004,  6.0080) ( 5.3734,  5.9751)  0.6017 (Jnode 100)\\n',\n",
       " 't_n62          2.4544 ( 1.6086,  3.3089) ( 1.6185,  3.3164)  1.6979 (Jnode 99)\\n',\n",
       " 't_n63          3.8635 ( 3.2005,  4.4435) ( 3.2305,  4.4670)  1.2365 (Jnode 98)\\n',\n",
       " 't_n64          2.7100 ( 2.1061,  3.3018) ( 2.1038,  3.2985)  1.1947 (Jnode 97)\\n',\n",
       " 't_n65          2.3764 ( 1.8192,  2.9383) ( 1.8159,  2.9300)  1.1141 (Jnode 96)\\n',\n",
       " 't_n66          1.8261 ( 1.3636,  2.3256) ( 1.3527,  2.3137)  0.9610 (Jnode 95)\\n',\n",
       " 't_n67          1.2234 ( 0.8834,  1.6131) ( 0.8717,  1.5990)  0.7273 (Jnode 94)\\n',\n",
       " 't_n68          0.8108 ( 0.5722,  1.1051) ( 0.5574,  1.0844)  0.5270 (Jnode 93)\\n',\n",
       " 't_n69          0.3474 ( 0.2325,  0.4982) ( 0.2241,  0.4874)  0.2634 (Jnode 92)\\n',\n",
       " 't_n70          2.8447 ( 2.2018,  3.4692) ( 2.1962,  3.4620)  1.2658 (Jnode 91)\\n',\n",
       " 't_n71          6.2222 ( 5.9709,  6.5466) ( 5.9562,  6.5242)  0.5680 (Jnode 90)\\n',\n",
       " 't_n72          6.0441 ( 5.7467,  6.3942) ( 5.7248,  6.3669)  0.6421 (Jnode 89)\\n',\n",
       " 't_n73          5.6572 ( 5.3848,  6.0081) ( 5.3677,  5.9818)  0.6141 (Jnode 88)\\n',\n",
       " 't_n74          3.9622 ( 3.2059,  4.5908) ( 3.2637,  4.6353)  1.3716 (Jnode 87)\\n',\n",
       " 't_n75          3.5456 ( 2.7952,  4.2027) ( 2.8652,  4.2644)  1.3992 (Jnode 86)\\n',\n",
       " 't_n76          3.0541 ( 2.0559,  3.9353) ( 2.0700,  3.9478)  1.8778 (Jnode 85)\\n',\n",
       " 't_n77          6.0509 ( 5.8485,  6.3577) ( 5.8199,  6.3140)  0.4941 (Jnode 84)\\n',\n",
       " 't_n78          5.7851 ( 5.5828,  6.0882) ( 5.5685,  6.0600)  0.4915 (Jnode 83)\\n',\n",
       " 't_n79          5.6049 ( 5.3940,  5.9151) ( 5.3716,  5.8765)  0.5049 (Jnode 82)\\n',\n",
       " 't_n80          5.2468 ( 4.9766,  5.5788) ( 4.9711,  5.5709)  0.5998 (Jnode 81)\\n',\n",
       " 't_n81          4.8026 ( 4.4651,  5.1617) ( 4.4707,  5.1661)  0.6954 (Jnode 80)\\n',\n",
       " 't_n82          4.6674 ( 4.3112,  5.0331) ( 4.3161,  5.0359)  0.7198 (Jnode 79)\\n',\n",
       " 't_n83          4.0315 ( 3.6019,  4.4487) ( 3.6127,  4.4560)  0.8433 (Jnode 78)\\n',\n",
       " 't_n84          3.6598 ( 3.2177,  4.0896) ( 3.2234,  4.0939)  0.8705 (Jnode 77)\\n',\n",
       " 't_n85          3.3447 ( 2.8990,  3.7868) ( 2.9044,  3.7905)  0.8862 (Jnode 76)\\n',\n",
       " 't_n86          2.4733 ( 2.0184,  2.9267) ( 2.0114,  2.9193)  0.9080 (Jnode 75)\\n',\n",
       " 't_n87          2.2808 ( 1.8380,  2.7292) ( 1.8326,  2.7208)  0.8881 (Jnode 74)\\n',\n",
       " 't_n88          4.0648 ( 3.6055,  4.5003) ( 3.6264,  4.5167)  0.8903 (Jnode 73)\\n',\n",
       " 't_n89          3.2603 ( 2.7213,  3.7766) ( 2.7212,  3.7763)  1.0550 (Jnode 72)\\n',\n",
       " 't_n90          5.9451 ( 5.7501,  6.2499) ( 5.7189,  6.1996)  0.4807 (Jnode 71)\\n',\n",
       " 't_n91          1.2107 ( 0.6192,  1.9682) ( 0.5647,  1.8851)  1.3203 (Jnode 70)\\n',\n",
       " 't_n92          5.8207 ( 5.6411,  6.1201) ( 5.6227,  6.0757)  0.4529 (Jnode 69)\\n',\n",
       " 't_n93          5.4663 ( 5.3428,  5.7499) ( 5.3381,  5.6874)  0.3493 (Jnode 68)\\n',\n",
       " 't_n94          4.8609 ( 4.5819,  5.1748) ( 4.5782,  5.1688)  0.5906 (Jnode 67)\\n',\n",
       " 't_n95          4.5139 ( 4.1807,  4.8520) ( 4.1805,  4.8514)  0.6709 (Jnode 66)\\n',\n",
       " 't_n96          3.2842 ( 2.7044,  3.8071) ( 2.7041,  3.8066)  1.1025 (Jnode 65)\\n',\n",
       " 't_n97          3.7799 ( 3.3137,  4.2120) ( 3.3278,  4.2229)  0.8951 (Jnode 64)\\n',\n",
       " 't_n98          4.6690 ( 4.3252,  5.0109) ( 4.3260,  5.0110)  0.6850 (Jnode 63)\\n',\n",
       " 't_n99          4.5032 ( 4.1364,  4.8572) ( 4.1356,  4.8556)  0.7200 (Jnode 62)\\n',\n",
       " 't_n100         4.1999 ( 3.7878,  4.5892) ( 3.8024,  4.6018)  0.7994 (Jnode 61)\\n',\n",
       " 't_n101         3.0078 ( 2.3501,  3.5939) ( 2.3461,  3.5888)  1.2427 (Jnode 60)\\n',\n",
       " 't_n102         4.0575 ( 3.3774,  4.6015) ( 3.4338,  4.6412)  1.2074 (Jnode 59)\\n',\n",
       " 't_n103         6.8753 ( 6.4339,  7.2690) ( 6.4661,  7.2950)  0.8289 (Jnode 58)\\n',\n",
       " 't_n104         5.2047 ( 4.0801,  5.9534) ( 4.1696,  6.0072)  1.8376 (Jnode 57)\\n',\n",
       " 't_n105         3.1892 ( 2.0943,  4.2549) ( 2.1028,  4.2601)  2.1574 (Jnode 56)\\n',\n",
       " 't_n106         2.3313 ( 1.2818,  3.5016) ( 1.2520,  3.4586)  2.2065 (Jnode 55)\\n',\n",
       " 't_n107         5.6110 ( 4.1137,  6.5260) ( 4.2859,  6.6550)  2.3691 (Jnode 54)\\n']"
      ]
     },
     "execution_count": 2,
     "metadata": {},
     "output_type": "execute_result"
    }
   ],
   "execution_count": 2
  },
  {
   "metadata": {
    "ExecuteTime": {
     "end_time": "2024-10-08T15:44:54.493555Z",
     "start_time": "2024-10-08T15:44:54.489627Z"
    }
   },
   "cell_type": "code",
   "source": [
    "node_name = []\n",
    "posterior_mean_iqtree = []\n",
    "posterior_mean_baseml = []\n",
    "\n",
    "posterior_mean_mu_iqtree = []\n",
    "posterior_mean_mu_baseml = []\n",
    "\n",
    "posterior_mean_var_iqtree = []\n",
    "posterior_mean_var_baseml = []\n",
    "\n",
    "lower_ci_iqtree = []\n",
    "upper_ci_iqtree = []\n",
    "\n",
    "lower_ci_mu_iqtree = []\n",
    "upper_ci_mu_iqtree = []\n",
    "\n",
    "lower_ci_var_iqtree = []\n",
    "upper_ci_var_iqtree = []\n",
    "\n",
    "# Credible intervals for McmcDate\n",
    "lower_ci_baseml = []\n",
    "upper_ci_baseml = []\n",
    "\n",
    "lower_ci_mu_baseml = []\n",
    "upper_ci_mu_baseml = []\n",
    "\n",
    "lower_ci_var_baseml = []\n",
    "upper_ci_var_baseml = []"
   ],
   "id": "e5cf93a69d327e61",
   "outputs": [],
   "execution_count": 3
  },
  {
   "metadata": {
    "ExecuteTime": {
     "end_time": "2024-10-08T15:44:54.541502Z",
     "start_time": "2024-10-08T15:44:54.537110Z"
    }
   },
   "cell_type": "code",
   "source": [
    "for line in data:\n",
    "    line = line.strip().split()\n",
    "    node_name.append(line[0])\n",
    "    posterior_mean_iqtree.append(float(line[1]))\n",
    "#     if line[3].startswith('('):\n",
    "#         lower_ci_iqtree.append(float(line[3][1:-1]))\n",
    "#     else:\n",
    "#         lower_ci_iqtree.append(float(line[3][1:-1]))\n",
    "#     if line[4].startswith('('):\n",
    "#         upper_ci_iqtree.append(float(line[4][1:-1]))\n",
    "#     else:\n",
    "#         upper_ci_iqtree.append(float(line[4][:-1]))\n",
    "#     # posterior_mean_baseml.append(float(line[4]))\n",
    "#     # lower_ci_baseml.append(float(line[5]))\n",
    "#     # upper_ci_baseml.append(float(line[6]))\n",
    "# \n",
    "# for line in mu_data:\n",
    "#     line = line.strip().split()\n",
    "#     # node_name.append(line[0])\n",
    "#     posterior_mean_mu_iqtree.append(float(line[1]))\n",
    "#     lower_ci_mu_iqtree.append(float(line[3][:-1]))\n",
    "#     upper_ci_mu_iqtree.append(float(line[4][:-1]))\n",
    "#\n",
    "# for line in var_data:\n",
    "#     line = line.strip().split()\n",
    "#     # node_name.append(line[0])\n",
    "#     posterior_mean_var_iqtree.append(float(line[1]))\n",
    "#     lower_ci_var_iqtree.append(float(line[3][:-1]))\n",
    "#     upper_ci_var_iqtree.append(float(line[4][:-1]))"
   ],
   "id": "4e79ee928ea76b59",
   "outputs": [],
   "execution_count": 4
  },
  {
   "metadata": {
    "ExecuteTime": {
     "end_time": "2024-10-08T15:44:54.599766Z",
     "start_time": "2024-10-08T15:44:54.596341Z"
    }
   },
   "cell_type": "code",
   "source": "node_name",
   "id": "2c17f55ec9626a0b",
   "outputs": [
    {
     "data": {
      "text/plain": [
       "['t_n55',\n",
       " 't_n56',\n",
       " 't_n57',\n",
       " 't_n58',\n",
       " 't_n59',\n",
       " 't_n60',\n",
       " 't_n61',\n",
       " 't_n62',\n",
       " 't_n63',\n",
       " 't_n64',\n",
       " 't_n65',\n",
       " 't_n66',\n",
       " 't_n67',\n",
       " 't_n68',\n",
       " 't_n69',\n",
       " 't_n70',\n",
       " 't_n71',\n",
       " 't_n72',\n",
       " 't_n73',\n",
       " 't_n74',\n",
       " 't_n75',\n",
       " 't_n76',\n",
       " 't_n77',\n",
       " 't_n78',\n",
       " 't_n79',\n",
       " 't_n80',\n",
       " 't_n81',\n",
       " 't_n82',\n",
       " 't_n83',\n",
       " 't_n84',\n",
       " 't_n85',\n",
       " 't_n86',\n",
       " 't_n87',\n",
       " 't_n88',\n",
       " 't_n89',\n",
       " 't_n90',\n",
       " 't_n91',\n",
       " 't_n92',\n",
       " 't_n93',\n",
       " 't_n94',\n",
       " 't_n95',\n",
       " 't_n96',\n",
       " 't_n97',\n",
       " 't_n98',\n",
       " 't_n99',\n",
       " 't_n100',\n",
       " 't_n101',\n",
       " 't_n102',\n",
       " 't_n103',\n",
       " 't_n104',\n",
       " 't_n105',\n",
       " 't_n106',\n",
       " 't_n107']"
      ]
     },
     "execution_count": 5,
     "metadata": {},
     "output_type": "execute_result"
    }
   ],
   "execution_count": 5
  },
  {
   "metadata": {
    "ExecuteTime": {
     "end_time": "2024-10-08T15:44:54.664385Z",
     "start_time": "2024-10-08T15:44:54.659323Z"
    }
   },
   "cell_type": "code",
   "source": "posterior_mean_iqtree",
   "id": "24a55c806a41f33e",
   "outputs": [
    {
     "data": {
      "text/plain": [
       "[8.0585,\n",
       " 7.9219,\n",
       " 7.5287,\n",
       " 6.557,\n",
       " 6.3646,\n",
       " 6.0911,\n",
       " 5.6679,\n",
       " 2.4544,\n",
       " 3.8635,\n",
       " 2.71,\n",
       " 2.3764,\n",
       " 1.8261,\n",
       " 1.2234,\n",
       " 0.8108,\n",
       " 0.3474,\n",
       " 2.8447,\n",
       " 6.2222,\n",
       " 6.0441,\n",
       " 5.6572,\n",
       " 3.9622,\n",
       " 3.5456,\n",
       " 3.0541,\n",
       " 6.0509,\n",
       " 5.7851,\n",
       " 5.6049,\n",
       " 5.2468,\n",
       " 4.8026,\n",
       " 4.6674,\n",
       " 4.0315,\n",
       " 3.6598,\n",
       " 3.3447,\n",
       " 2.4733,\n",
       " 2.2808,\n",
       " 4.0648,\n",
       " 3.2603,\n",
       " 5.9451,\n",
       " 1.2107,\n",
       " 5.8207,\n",
       " 5.4663,\n",
       " 4.8609,\n",
       " 4.5139,\n",
       " 3.2842,\n",
       " 3.7799,\n",
       " 4.669,\n",
       " 4.5032,\n",
       " 4.1999,\n",
       " 3.0078,\n",
       " 4.0575,\n",
       " 6.8753,\n",
       " 5.2047,\n",
       " 3.1892,\n",
       " 2.3313,\n",
       " 5.611]"
      ]
     },
     "execution_count": 6,
     "metadata": {},
     "output_type": "execute_result"
    }
   ],
   "execution_count": 6
  },
  {
   "metadata": {
    "ExecuteTime": {
     "end_time": "2024-10-08T15:44:54.727345Z",
     "start_time": "2024-10-08T15:44:54.723974Z"
    }
   },
   "cell_type": "code",
   "source": "lower_ci_iqtree",
   "id": "388aa27ad336d43f",
   "outputs": [
    {
     "data": {
      "text/plain": [
       "[]"
      ]
     },
     "execution_count": 7,
     "metadata": {},
     "output_type": "execute_result"
    }
   ],
   "execution_count": 7
  },
  {
   "metadata": {
    "ExecuteTime": {
     "end_time": "2024-10-08T15:44:54.798648Z",
     "start_time": "2024-10-08T15:44:54.793536Z"
    }
   },
   "cell_type": "code",
   "source": "upper_ci_iqtree",
   "id": "816e569fb763e797",
   "outputs": [
    {
     "data": {
      "text/plain": [
       "[]"
      ]
     },
     "execution_count": 8,
     "metadata": {},
     "output_type": "execute_result"
    }
   ],
   "execution_count": 8
  },
  {
   "metadata": {
    "ExecuteTime": {
     "end_time": "2024-10-08T15:44:54.853814Z",
     "start_time": "2024-10-08T15:44:54.847378Z"
    }
   },
   "cell_type": "code",
   "source": [
    "file_LG = open(\"LG_m11_out.txt\", \"r\")\n",
    "lines1 = file_LG.readlines()\n",
    "file_LG.close()\n",
    "\n",
    "# Extract the data\n",
    "data1 = []\n",
    "mu_data1 = []\n",
    "var_data1 = []\n",
    "\n",
    "read_flag = False\n",
    "for line in lines1:\n",
    "    if line.startswith(\"Posterior\"):\n",
    "        read_flag = True\n",
    "    if read_flag and line.startswith(\"t\"):\n",
    "        data1.append(line)\n",
    "    if read_flag and line.startswith(\"mu\"):\n",
    "        mu_data1.append(line)\n",
    "    if read_flag and line.startswith(\"sigma\"):\n",
    "        var_data1.append(line)\n",
    "\n",
    "        \n",
    "for line in data1:\n",
    "    line = line.strip().split()\n",
    "    # node_name.append(line[0])\n",
    "    posterior_mean_baseml.append(float(line[1]))\n",
    "#     if line[3].startswith('('):\n",
    "#         lower_ci_baseml.append(float(line[3][1:-1]))\n",
    "#     else:\n",
    "#          lower_ci_baseml.append(float(line[3][:-1]))\n",
    "#     if line[4].startswith('('):\n",
    "#         upper_ci_baseml.append(float(line[4][1:-1]))\n",
    "#     else:\n",
    "#          upper_ci_baseml.append(float(line[4][:-1]))\n",
    "#         \n",
    "#     \n",
    "# for line in mu_data1:\n",
    "#     line = line.strip().split()\n",
    "#     # node_name.append(line[0])\n",
    "#     posterior_mean_mu_baseml.append(float(line[1]))\n",
    "#     lower_ci_mu_baseml.append(float(line[3][:-1]))\n",
    "#     upper_ci_mu_baseml.append(float(line[4][:-1]))\n",
    "    \n",
    "# for line in var_data1:\n",
    "#     line = line.strip().split()\n",
    "#     # node_name.append(line[0])\n",
    "#     posterior_mean_var_baseml.append(float(line[1]))\n",
    "#     lower_ci_var_baseml.append(float(line[3][:-1]))\n",
    "#     upper_ci_var_baseml.append(float(line[4][:-1]))"
   ],
   "id": "f75c012c6bef60a2",
   "outputs": [],
   "execution_count": 9
  },
  {
   "metadata": {
    "ExecuteTime": {
     "end_time": "2024-10-08T15:44:54.908113Z",
     "start_time": "2024-10-08T15:44:54.902312Z"
    }
   },
   "cell_type": "code",
   "source": [
    "import matplotlib.pyplot as plt\n",
    "import numpy as np\n",
    "\n",
    "# # Example data\n",
    "# # Posterior means for MCMCtree (x-axis) and McmcDate (y-axis)\n",
    "# posterior_mean_mcmctree = [100, 200, 300, 400, 500, 600, 700, 800, 900, 1000]\n",
    "# posterior_mean_mcmcdate = [110, 210, 310, 410, 510, 610, 710, 810, 910, 1010]\n",
    "# \n",
    "# # Credible intervals for MCMCtree\n",
    "# lower_ci_mcmctree = [90, 180, 270, 360, 450, 540, 630, 720, 810, 900]\n",
    "# upper_ci_mcmctree = [110, 220, 330, 440, 550, 660, 770, 880, 990, 1100]\n",
    "# \n",
    "# # Credible intervals for McmcDate\n",
    "# lower_ci_mcmcdate = [100, 200, 300, 400, 500, 600, 700, 800, 900, 1000]\n",
    "# upper_ci_mcmcdate = [120, 220, 320, 420, 520, 620, 720, 820, 920, 1020]\n",
    "\n",
    "# Calculate error bars\n",
    "# xerr = [np.array(lower_ci_baseml), \n",
    "#         np.array(upper_ci_baseml)]\n",
    "# yerr = [np.array(lower_ci_iqtree), \n",
    "#         np.array(upper_ci_iqtree)]\n",
    "# \n",
    "# # Plotting\n",
    "# fig, ax = plt.subplots(figsize=(15, 15))\n",
    "# ax.plot([-0.1,90], \n",
    "#         [-0.1, 90], \n",
    "#         'k--', label='y=x')\n",
    "# ax.errorbar(posterior_mean_baseml, posterior_mean_iqtree, \n",
    "#             xerr=xerr, yerr=yerr, fmt='*', ecolor='r', capsize=3, label='95% HPD CI')\n",
    "# \n",
    "# # Labels and title\n",
    "# ax.set_xlabel('Posterior mean age LG [100 Mya]', fontsize=18)\n",
    "# ax.set_ylabel('Posterior mean age LG+G4 [100 Mya]', fontsize=18)\n",
    "# ax.set_title('Posterior mean age comparison between LG and LG+G4 models [t116 ~ B(1.25,2.482)]')\n",
    "# ax.legend()\n",
    "# \n",
    "# # Show plot\n",
    "# # plt.show()\n",
    "# plt.savefig('./animal_origin_posterior_mean_age_comparison_LG_G4_c11.png')"
   ],
   "id": "12db486fa4fac82c",
   "outputs": [],
   "execution_count": 10
  },
  {
   "metadata": {
    "ExecuteTime": {
     "end_time": "2024-10-08T15:44:54.966547Z",
     "start_time": "2024-10-08T15:44:54.963281Z"
    }
   },
   "cell_type": "code",
   "source": "posterior_mean_baseml",
   "id": "917b2e31cff4b992",
   "outputs": [
    {
     "data": {
      "text/plain": [
       "[8.24,\n",
       " 8.1787,\n",
       " 7.5737,\n",
       " 6.7517,\n",
       " 6.4609,\n",
       " 6.0824,\n",
       " 5.5068,\n",
       " 2.7028,\n",
       " 3.9213,\n",
       " 2.7636,\n",
       " 2.3211,\n",
       " 1.7348,\n",
       " 1.1441,\n",
       " 0.7541,\n",
       " 0.3236,\n",
       " 2.8975,\n",
       " 6.146,\n",
       " 5.162,\n",
       " 5.522,\n",
       " 3.9832,\n",
       " 3.3867,\n",
       " 3.2628,\n",
       " 6.2157,\n",
       " 5.8234,\n",
       " 5.534,\n",
       " 5.1497,\n",
       " 4.65,\n",
       " 4.3905,\n",
       " 3.7061,\n",
       " 3.258,\n",
       " 2.8507,\n",
       " 2.1116,\n",
       " 1.7895,\n",
       " 3.87,\n",
       " 3.0078,\n",
       " 6.0284,\n",
       " 1.6416,\n",
       " 5.819,\n",
       " 5.3909,\n",
       " 4.6892,\n",
       " 4.1973,\n",
       " 3.0227,\n",
       " 3.2612,\n",
       " 4.5388,\n",
       " 4.1425,\n",
       " 3.5101,\n",
       " 3.0206,\n",
       " 3.9533,\n",
       " 6.8897,\n",
       " 5.391,\n",
       " 3.3789,\n",
       " 2.9296,\n",
       " 6.1536]"
      ]
     },
     "execution_count": 11,
     "metadata": {},
     "output_type": "execute_result"
    }
   ],
   "execution_count": 11
  },
  {
   "metadata": {
    "ExecuteTime": {
     "end_time": "2024-10-08T15:44:55.029963Z",
     "start_time": "2024-10-08T15:44:55.025699Z"
    }
   },
   "cell_type": "code",
   "source": "posterior_mean_iqtree",
   "id": "59ad8fd34f7bbf11",
   "outputs": [
    {
     "data": {
      "text/plain": [
       "[8.0585,\n",
       " 7.9219,\n",
       " 7.5287,\n",
       " 6.557,\n",
       " 6.3646,\n",
       " 6.0911,\n",
       " 5.6679,\n",
       " 2.4544,\n",
       " 3.8635,\n",
       " 2.71,\n",
       " 2.3764,\n",
       " 1.8261,\n",
       " 1.2234,\n",
       " 0.8108,\n",
       " 0.3474,\n",
       " 2.8447,\n",
       " 6.2222,\n",
       " 6.0441,\n",
       " 5.6572,\n",
       " 3.9622,\n",
       " 3.5456,\n",
       " 3.0541,\n",
       " 6.0509,\n",
       " 5.7851,\n",
       " 5.6049,\n",
       " 5.2468,\n",
       " 4.8026,\n",
       " 4.6674,\n",
       " 4.0315,\n",
       " 3.6598,\n",
       " 3.3447,\n",
       " 2.4733,\n",
       " 2.2808,\n",
       " 4.0648,\n",
       " 3.2603,\n",
       " 5.9451,\n",
       " 1.2107,\n",
       " 5.8207,\n",
       " 5.4663,\n",
       " 4.8609,\n",
       " 4.5139,\n",
       " 3.2842,\n",
       " 3.7799,\n",
       " 4.669,\n",
       " 4.5032,\n",
       " 4.1999,\n",
       " 3.0078,\n",
       " 4.0575,\n",
       " 6.8753,\n",
       " 5.2047,\n",
       " 3.1892,\n",
       " 2.3313,\n",
       " 5.611]"
      ]
     },
     "execution_count": 12,
     "metadata": {},
     "output_type": "execute_result"
    }
   ],
   "execution_count": 12
  },
  {
   "metadata": {
    "ExecuteTime": {
     "end_time": "2024-10-08T15:44:55.408037Z",
     "start_time": "2024-10-08T15:44:55.216776Z"
    }
   },
   "cell_type": "code",
   "source": [
    "# Calculate error bars\n",
    "xerr = [np.array(lower_ci_baseml), \n",
    "        np.array(upper_ci_baseml)]\n",
    "yerr = [np.array(lower_ci_iqtree), \n",
    "        np.array(upper_ci_iqtree)]\n",
    "\n",
    "# Plotting\n",
    "fig, ax = plt.subplots(figsize=(9 ,9))\n",
    "ax.plot([-0.1,17], \n",
    "        [-0.1, 17], \n",
    "        'k--', label='y=x')\n",
    "ax.plot(posterior_mean_baseml, posterior_mean_iqtree, 'o', label='Posterior mean age')\n",
    " \n",
    "# Labels and title\n",
    "ax.set_xlabel('Posterior mean age LG [Mya]', fontsize=18)\n",
    "ax.set_ylabel('Posterior mean age LG+G4+C60 [Mya]', fontsize=18)\n",
    "ax.set_title('Posterior mean age comparison between LG and LG+G4 [t93 ~ B(5.3400 6.3610)]')\n",
    "ax.legend()\n",
    "\n",
    "# point_x = posterior_mean_baseml[0]  # Example: first point in the list\n",
    "# point_y = posterior_mean_iqtree[0]  # Example: first point in the list\n",
    "# ax.annotate('Root age', xy=(point_x, point_y), xytext=(point_x - 0.1, point_y - 0.1), color='red')\n",
    "# Show plot\n",
    "# plt.show()\n",
    "plt.savefig('./metazoa_posterior_mean_age_comparison_LG_G4_C60_m11_scatter.png')"
   ],
   "id": "592d0bb72aa1ad4c",
   "outputs": [
    {
     "data": {
      "text/plain": [
       "<Figure size 900x900 with 1 Axes>"
      ],
      "image/png": "[encoded data removed]"
     },
     "metadata": {},
     "output_type": "display_data"
    }
   ],
   "execution_count": 13
  },
  {
   "metadata": {
    "ExecuteTime": {
     "end_time": "2024-10-08T15:44:55.417188Z",
     "start_time": "2024-10-08T15:44:55.414686Z"
    }
   },
   "cell_type": "code",
   "source": [
    "# fig, ax = plt.subplots(figsize=(9 ,9))\n",
    "# ax.plot([0.01,0.04], \n",
    "#         [0.01, 0.04], \n",
    "#         'k--', label='y=x')\n",
    "# ax.plot(posterior_mean_mu_baseml, posterior_mean_mu_iqtree, 'o', label='Posterior mean rates for partitions')\n",
    "#  \n",
    "# # Labels and title\n",
    "# ax.set_xlabel('Posterior mean rate [LG]', fontsize=18)\n",
    "# ax.set_ylabel('Posterior mean rate [LG+G4]', fontsize=18)\n",
    "# ax.set_title('Posterior mean rate comparison between LG and LG+G4 [Cherry only calibration/IQ-TREE]')\n",
    "# ax.legend()\n",
    "# \n",
    "# # point_x = posterior_mean_baseml[0]  # Example: first point in the list\n",
    "# # point_y = posterior_mean_iqtree[0]  # Example: first point in the list\n",
    "# # ax.annotate('Root age', xy=(point_x, point_y), xytext=(point_x - 0.1, point_y - 0.1), color='red')\n",
    "# # Show plot\n",
    "# # plt.show()\n",
    "# plt.savefig('./animal_origin__posterior_mean_rate_comparison_LG_G4_all_scatter.png')"
   ],
   "id": "c6d69ee36c77970c",
   "outputs": [],
   "execution_count": 14
  },
  {
   "metadata": {
    "ExecuteTime": {
     "end_time": "2024-10-08T15:44:55.460550Z",
     "start_time": "2024-10-08T15:44:55.458239Z"
    }
   },
   "cell_type": "code",
   "source": "",
   "id": "ca69d5b521db3aa7",
   "outputs": [],
   "execution_count": null
  }
 ],
 "metadata": {
  "kernelspec": {
   "display_name": "Python 3",
   "language": "python",
   "name": "python3"
  },
  "language_info": {
   "codemirror_mode": {
    "name": "ipython",
    "version": 2
   },
   "file_extension": ".py",
   "mimetype": "text/x-python",
   "name": "python",
   "nbconvert_exporter": "python",
   "pygments_lexer": "ipython2",
   "version": "2.7.6"
  }
 },
 "nbformat": 4,
 "nbformat_minor": 5
}
