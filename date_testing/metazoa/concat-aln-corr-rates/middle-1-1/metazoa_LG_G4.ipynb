{
 "cells": [
  {
   "cell_type": "code",
   "id": "initial_id",
   "metadata": {
    "collapsed": true,
    "ExecuteTime": {
     "end_time": "2024-10-08T15:43:27.572459Z",
     "start_time": "2024-10-08T15:43:27.170575Z"
    }
   },
   "source": [
    "# Code to get all the Posterior mean (95% Equal-tail CI) (95% HPD CI) HPD-CI-width from ./xenarthra_mcmc_out.txt\n",
    "import numpy as np\n",
    "import pandas as pd\n",
    "import matplotlib.pyplot as plt\n",
    "\n",
    "\n",
    "# Read the file\n",
    "file = open(\"LG_G4_m11_out.txt\", \"r\")\n",
    "lines = file.readlines()\n",
    "file.close()\n",
    "\n",
    "# Extract the data\n",
    "data = []\n",
    "mu_data = []\n",
    "var_data = []\n",
    "\n",
    "read_flag = False\n",
    "for line in lines:\n",
    "    if line.startswith(\"Posterior\"):\n",
    "        read_flag = True\n",
    "    if read_flag and line.startswith(\"t\"):\n",
    "        data.append(line)\n",
    "    if read_flag and line.startswith(\"mu\"):\n",
    "        mu_data.append(line)\n",
    "    if read_flag and line.startswith(\"sigma\"):\n",
    "        var_data.append(line)"
   ],
   "outputs": [],
   "execution_count": 1
  },
  {
   "metadata": {
    "ExecuteTime": {
     "end_time": "2024-10-08T15:43:27.585904Z",
     "start_time": "2024-10-08T15:43:27.581265Z"
    }
   },
   "cell_type": "code",
   "source": "data",
   "id": "54808ee54195795",
   "outputs": [
    {
     "data": {
      "text/plain": [
       "['t_n55          8.1970 ( 7.8878,  8.3289) ( 7.9546,  8.3374)  0.3828 (Jnode 106)\\n',\n",
       " 't_n56          8.1140 ( 7.7950,  8.3011) ( 7.8543,  8.3246)  0.4703 (Jnode 105)\\n',\n",
       " 't_n57          7.5950 ( 7.3196,  7.8088) ( 7.3453,  7.8266)  0.4813 (Jnode 104)\\n',\n",
       " 't_n58          6.6763 ( 6.4670,  6.9049) ( 6.4582,  6.8949)  0.4367 (Jnode 103)\\n',\n",
       " 't_n59          6.4310 ( 6.2350,  6.6585) ( 6.2294,  6.6527)  0.4233 (Jnode 102)\\n',\n",
       " 't_n60          6.1194 ( 5.9189,  6.3569) ( 5.9054,  6.3406)  0.4351 (Jnode 101)\\n',\n",
       " 't_n61          5.6091 ( 5.3726,  5.8886) ( 5.3608,  5.8717)  0.5109 (Jnode 100)\\n',\n",
       " 't_n62          2.6007 ( 1.7483,  3.4142) ( 1.7875,  3.4508)  1.6632 (Jnode 99)\\n',\n",
       " 't_n63          3.9375 ( 3.3374,  4.4734) ( 3.3806,  4.5109)  1.1303 (Jnode 98)\\n',\n",
       " 't_n64          2.7877 ( 2.2201,  3.3554) ( 2.2082,  3.3397)  1.1315 (Jnode 97)\\n',\n",
       " 't_n65          2.3962 ( 1.8715,  2.9389) ( 1.8509,  2.9136)  1.0627 (Jnode 96)\\n',\n",
       " 't_n66          1.8314 ( 1.3947,  2.3105) ( 1.3861,  2.2982)  0.9121 (Jnode 95)\\n',\n",
       " 't_n67          1.2254 ( 0.9030,  1.6060) ( 0.8913,  1.5894)  0.6981 (Jnode 94)\\n',\n",
       " 't_n68          0.8060 ( 0.5801,  1.0843) ( 0.5581,  1.0572)  0.4991 (Jnode 93)\\n',\n",
       " 't_n69          0.3469 ( 0.2366,  0.4949) ( 0.2225,  0.4737)  0.2512 (Jnode 92)\\n',\n",
       " 't_n70          2.9133 ( 2.3133,  3.5114) ( 2.3052,  3.5003)  1.1951 (Jnode 91)\\n',\n",
       " 't_n71          6.2034 ( 6.0082,  6.4342) ( 5.9908,  6.4131)  0.4223 (Jnode 90)\\n',\n",
       " 't_n72          5.5557 ( 5.2768,  5.8431) ( 5.3053,  5.8656)  0.5603 (Jnode 89)\\n',\n",
       " 't_n73          5.6043 ( 5.3687,  5.8806) ( 5.3598,  5.8668)  0.5070 (Jnode 88)\\n',\n",
       " 't_n74          3.9917 ( 3.3224,  4.5610) ( 3.3632,  4.5916)  1.2284 (Jnode 87)\\n',\n",
       " 't_n75          3.4746 ( 2.8093,  4.0892) ( 2.8465,  4.1201)  1.2735 (Jnode 86)\\n',\n",
       " 't_n76          3.1823 ( 2.2548,  3.9797) ( 2.2920,  4.0049)  1.7129 (Jnode 85)\\n',\n",
       " 't_n77          6.1276 ( 5.9653,  6.3402) ( 5.9504,  6.3184)  0.3680 (Jnode 84)\\n',\n",
       " 't_n78          5.7881 ( 5.6219,  6.0115) ( 5.6045,  5.9863)  0.3818 (Jnode 83)\\n',\n",
       " 't_n79          5.5459 ( 5.3676,  5.7852) ( 5.3511,  5.7603)  0.4092 (Jnode 82)\\n',\n",
       " 't_n80          5.2152 ( 4.9718,  5.4937) ( 4.9655,  5.4852)  0.5197 (Jnode 81)\\n',\n",
       " 't_n81          4.7411 ( 4.4207,  5.0716) ( 4.4187,  5.0684)  0.6498 (Jnode 80)\\n',\n",
       " 't_n82          4.5460 ( 4.1948,  4.8974) ( 4.2065,  4.9052)  0.6987 (Jnode 79)\\n',\n",
       " 't_n83          3.8882 ( 3.4639,  4.2967) ( 3.4557,  4.2875)  0.8317 (Jnode 78)\\n',\n",
       " 't_n84          3.4987 ( 3.0624,  3.9255) ( 3.0732,  3.9331)  0.8599 (Jnode 77)\\n',\n",
       " 't_n85          3.1384 ( 2.7061,  3.5753) ( 2.6920,  3.5593)  0.8674 (Jnode 76)\\n',\n",
       " 't_n86          2.3436 ( 1.9333,  2.7723) ( 1.9283,  2.7649)  0.8366 (Jnode 75)\\n',\n",
       " 't_n87          2.0669 ( 1.6794,  2.4824) ( 1.6867,  2.4875)  0.8008 (Jnode 74)\\n',\n",
       " 't_n88          3.9967 ( 3.5563,  4.4136) ( 3.5832,  4.4370)  0.8539 (Jnode 73)\\n',\n",
       " 't_n89          3.1431 ( 2.6305,  3.6403) ( 2.6355,  3.6448)  1.0092 (Jnode 72)\\n',\n",
       " 't_n90          5.9828 ( 5.8309,  6.1892) ( 5.8184,  6.1685)  0.3501 (Jnode 71)\\n',\n",
       " 't_n91          1.4360 ( 0.7717,  2.2448) ( 0.7032,  2.1665)  1.4633 (Jnode 70)\\n',\n",
       " 't_n92          5.8151 ( 5.6825,  6.0122) ( 5.6720,  5.9915)  0.3195 (Jnode 69)\\n',\n",
       " 't_n93          5.4109 ( 5.3409,  5.5856) ( 5.3366,  5.5464)  0.2098 (Jnode 68)\\n',\n",
       " 't_n94          4.7611 ( 4.5110,  4.9955) ( 4.5185,  5.0007)  0.4822 (Jnode 67)\\n',\n",
       " 't_n95          4.3366 ( 4.0136,  4.6194) ( 4.0224,  4.6256)  0.6032 (Jnode 66)\\n',\n",
       " 't_n96          3.1493 ( 2.6088,  3.6223) ( 2.6308,  3.6383)  1.0075 (Jnode 65)\\n',\n",
       " 't_n97          3.4943 ( 3.0414,  3.8985) ( 3.0620,  3.9151)  0.8531 (Jnode 64)\\n',\n",
       " 't_n98          4.5901 ( 4.2803,  4.8528) ( 4.2970,  4.8650)  0.5681 (Jnode 63)\\n',\n",
       " 't_n99          4.3239 ( 3.9749,  4.6210) ( 4.0084,  4.6490)  0.6406 (Jnode 62)\\n',\n",
       " 't_n100         3.8307 ( 3.4172,  4.1990) ( 3.4207,  4.2013)  0.7806 (Jnode 61)\\n',\n",
       " 't_n101         3.0373 ( 2.4346,  3.5687) ( 2.4765,  3.5997)  1.1232 (Jnode 60)\\n',\n",
       " 't_n102         3.9038 ( 3.1905,  4.4431) ( 3.2483,  4.4694)  1.2211 (Jnode 59)\\n',\n",
       " 't_n103         6.9447 ( 6.5970,  7.2368) ( 6.6107,  7.2463)  0.6356 (Jnode 58)\\n',\n",
       " 't_n104         5.4164 ( 4.4481,  5.9964) ( 4.5680,  6.0713)  1.5033 (Jnode 57)\\n',\n",
       " 't_n105         3.4063 ( 2.3550,  4.3132) ( 2.3782,  4.3341)  1.9559 (Jnode 56)\\n',\n",
       " 't_n106         2.6905 ( 1.5758,  3.8457) ( 1.5642,  3.8315)  2.2673 (Jnode 55)\\n',\n",
       " 't_n107         5.9511 ( 4.9196,  6.7804) ( 5.0995,  6.8878)  1.7884 (Jnode 54)\\n']"
      ]
     },
     "execution_count": 2,
     "metadata": {},
     "output_type": "execute_result"
    }
   ],
   "execution_count": 2
  },
  {
   "metadata": {
    "ExecuteTime": {
     "end_time": "2024-10-08T15:43:27.637851Z",
     "start_time": "2024-10-08T15:43:27.634720Z"
    }
   },
   "cell_type": "code",
   "source": [
    "node_name = []\n",
    "posterior_mean_iqtree = []\n",
    "posterior_mean_baseml = []\n",
    "\n",
    "posterior_mean_mu_iqtree = []\n",
    "posterior_mean_mu_baseml = []\n",
    "\n",
    "posterior_mean_var_iqtree = []\n",
    "posterior_mean_var_baseml = []\n",
    "\n",
    "lower_ci_iqtree = []\n",
    "upper_ci_iqtree = []\n",
    "\n",
    "lower_ci_mu_iqtree = []\n",
    "upper_ci_mu_iqtree = []\n",
    "\n",
    "lower_ci_var_iqtree = []\n",
    "upper_ci_var_iqtree = []\n",
    "\n",
    "# Credible intervals for McmcDate\n",
    "lower_ci_baseml = []\n",
    "upper_ci_baseml = []\n",
    "\n",
    "lower_ci_mu_baseml = []\n",
    "upper_ci_mu_baseml = []\n",
    "\n",
    "lower_ci_var_baseml = []\n",
    "upper_ci_var_baseml = []"
   ],
   "id": "e5cf93a69d327e61",
   "outputs": [],
   "execution_count": 3
  },
  {
   "metadata": {
    "ExecuteTime": {
     "end_time": "2024-10-08T15:43:27.688760Z",
     "start_time": "2024-10-08T15:43:27.684667Z"
    }
   },
   "cell_type": "code",
   "source": [
    "for line in data:\n",
    "    line = line.strip().split()\n",
    "    node_name.append(line[0])\n",
    "    posterior_mean_iqtree.append(float(line[1]))\n",
    "#     if line[3].startswith('('):\n",
    "#         lower_ci_iqtree.append(float(line[3][1:-1]))\n",
    "#     else:\n",
    "#         lower_ci_iqtree.append(float(line[3][1:-1]))\n",
    "#     if line[4].startswith('('):\n",
    "#         upper_ci_iqtree.append(float(line[4][1:-1]))\n",
    "#     else:\n",
    "#         upper_ci_iqtree.append(float(line[4][:-1]))\n",
    "#     # posterior_mean_baseml.append(float(line[4]))\n",
    "#     # lower_ci_baseml.append(float(line[5]))\n",
    "#     # upper_ci_baseml.append(float(line[6]))\n",
    "# \n",
    "# for line in mu_data:\n",
    "#     line = line.strip().split()\n",
    "#     # node_name.append(line[0])\n",
    "#     posterior_mean_mu_iqtree.append(float(line[1]))\n",
    "#     lower_ci_mu_iqtree.append(float(line[3][:-1]))\n",
    "#     upper_ci_mu_iqtree.append(float(line[4][:-1]))\n",
    "#\n",
    "# for line in var_data:\n",
    "#     line = line.strip().split()\n",
    "#     # node_name.append(line[0])\n",
    "#     posterior_mean_var_iqtree.append(float(line[1]))\n",
    "#     lower_ci_var_iqtree.append(float(line[3][:-1]))\n",
    "#     upper_ci_var_iqtree.append(float(line[4][:-1]))"
   ],
   "id": "4e79ee928ea76b59",
   "outputs": [],
   "execution_count": 4
  },
  {
   "metadata": {
    "ExecuteTime": {
     "end_time": "2024-10-08T15:43:27.750737Z",
     "start_time": "2024-10-08T15:43:27.745465Z"
    }
   },
   "cell_type": "code",
   "source": "node_name",
   "id": "2c17f55ec9626a0b",
   "outputs": [
    {
     "data": {
      "text/plain": [
       "['t_n55',\n",
       " 't_n56',\n",
       " 't_n57',\n",
       " 't_n58',\n",
       " 't_n59',\n",
       " 't_n60',\n",
       " 't_n61',\n",
       " 't_n62',\n",
       " 't_n63',\n",
       " 't_n64',\n",
       " 't_n65',\n",
       " 't_n66',\n",
       " 't_n67',\n",
       " 't_n68',\n",
       " 't_n69',\n",
       " 't_n70',\n",
       " 't_n71',\n",
       " 't_n72',\n",
       " 't_n73',\n",
       " 't_n74',\n",
       " 't_n75',\n",
       " 't_n76',\n",
       " 't_n77',\n",
       " 't_n78',\n",
       " 't_n79',\n",
       " 't_n80',\n",
       " 't_n81',\n",
       " 't_n82',\n",
       " 't_n83',\n",
       " 't_n84',\n",
       " 't_n85',\n",
       " 't_n86',\n",
       " 't_n87',\n",
       " 't_n88',\n",
       " 't_n89',\n",
       " 't_n90',\n",
       " 't_n91',\n",
       " 't_n92',\n",
       " 't_n93',\n",
       " 't_n94',\n",
       " 't_n95',\n",
       " 't_n96',\n",
       " 't_n97',\n",
       " 't_n98',\n",
       " 't_n99',\n",
       " 't_n100',\n",
       " 't_n101',\n",
       " 't_n102',\n",
       " 't_n103',\n",
       " 't_n104',\n",
       " 't_n105',\n",
       " 't_n106',\n",
       " 't_n107']"
      ]
     },
     "execution_count": 5,
     "metadata": {},
     "output_type": "execute_result"
    }
   ],
   "execution_count": 5
  },
  {
   "metadata": {
    "ExecuteTime": {
     "end_time": "2024-10-08T15:43:27.815921Z",
     "start_time": "2024-10-08T15:43:27.812106Z"
    }
   },
   "cell_type": "code",
   "source": "posterior_mean_iqtree",
   "id": "24a55c806a41f33e",
   "outputs": [
    {
     "data": {
      "text/plain": [
       "[8.197,\n",
       " 8.114,\n",
       " 7.595,\n",
       " 6.6763,\n",
       " 6.431,\n",
       " 6.1194,\n",
       " 5.6091,\n",
       " 2.6007,\n",
       " 3.9375,\n",
       " 2.7877,\n",
       " 2.3962,\n",
       " 1.8314,\n",
       " 1.2254,\n",
       " 0.806,\n",
       " 0.3469,\n",
       " 2.9133,\n",
       " 6.2034,\n",
       " 5.5557,\n",
       " 5.6043,\n",
       " 3.9917,\n",
       " 3.4746,\n",
       " 3.1823,\n",
       " 6.1276,\n",
       " 5.7881,\n",
       " 5.5459,\n",
       " 5.2152,\n",
       " 4.7411,\n",
       " 4.546,\n",
       " 3.8882,\n",
       " 3.4987,\n",
       " 3.1384,\n",
       " 2.3436,\n",
       " 2.0669,\n",
       " 3.9967,\n",
       " 3.1431,\n",
       " 5.9828,\n",
       " 1.436,\n",
       " 5.8151,\n",
       " 5.4109,\n",
       " 4.7611,\n",
       " 4.3366,\n",
       " 3.1493,\n",
       " 3.4943,\n",
       " 4.5901,\n",
       " 4.3239,\n",
       " 3.8307,\n",
       " 3.0373,\n",
       " 3.9038,\n",
       " 6.9447,\n",
       " 5.4164,\n",
       " 3.4063,\n",
       " 2.6905,\n",
       " 5.9511]"
      ]
     },
     "execution_count": 6,
     "metadata": {},
     "output_type": "execute_result"
    }
   ],
   "execution_count": 6
  },
  {
   "metadata": {
    "ExecuteTime": {
     "end_time": "2024-10-08T15:43:27.884400Z",
     "start_time": "2024-10-08T15:43:27.878562Z"
    }
   },
   "cell_type": "code",
   "source": "lower_ci_iqtree",
   "id": "388aa27ad336d43f",
   "outputs": [
    {
     "data": {
      "text/plain": [
       "[]"
      ]
     },
     "execution_count": 7,
     "metadata": {},
     "output_type": "execute_result"
    }
   ],
   "execution_count": 7
  },
  {
   "metadata": {
    "ExecuteTime": {
     "end_time": "2024-10-08T15:43:27.949325Z",
     "start_time": "2024-10-08T15:43:27.945628Z"
    }
   },
   "cell_type": "code",
   "source": "upper_ci_iqtree",
   "id": "816e569fb763e797",
   "outputs": [
    {
     "data": {
      "text/plain": [
       "[]"
      ]
     },
     "execution_count": 8,
     "metadata": {},
     "output_type": "execute_result"
    }
   ],
   "execution_count": 8
  },
  {
   "metadata": {
    "ExecuteTime": {
     "end_time": "2024-10-08T15:43:28.001945Z",
     "start_time": "2024-10-08T15:43:27.996843Z"
    }
   },
   "cell_type": "code",
   "source": [
    "file_LG = open(\"LG_m11_out.txt\", \"r\")\n",
    "lines1 = file_LG.readlines()\n",
    "file_LG.close()\n",
    "\n",
    "# Extract the data\n",
    "data1 = []\n",
    "mu_data1 = []\n",
    "var_data1 = []\n",
    "\n",
    "read_flag = False\n",
    "for line in lines1:\n",
    "    if line.startswith(\"Posterior\"):\n",
    "        read_flag = True\n",
    "    if read_flag and line.startswith(\"t\"):\n",
    "        data1.append(line)\n",
    "    if read_flag and line.startswith(\"mu\"):\n",
    "        mu_data1.append(line)\n",
    "    if read_flag and line.startswith(\"sigma\"):\n",
    "        var_data1.append(line)\n",
    "\n",
    "        \n",
    "for line in data1:\n",
    "    line = line.strip().split()\n",
    "    # node_name.append(line[0])\n",
    "    posterior_mean_baseml.append(float(line[1]))\n",
    "#     if line[3].startswith('('):\n",
    "#         lower_ci_baseml.append(float(line[3][1:-1]))\n",
    "#     else:\n",
    "#          lower_ci_baseml.append(float(line[3][:-1]))\n",
    "#     if line[4].startswith('('):\n",
    "#         upper_ci_baseml.append(float(line[4][1:-1]))\n",
    "#     else:\n",
    "#          upper_ci_baseml.append(float(line[4][:-1]))\n",
    "#         \n",
    "#     \n",
    "# for line in mu_data1:\n",
    "#     line = line.strip().split()\n",
    "#     # node_name.append(line[0])\n",
    "#     posterior_mean_mu_baseml.append(float(line[1]))\n",
    "#     lower_ci_mu_baseml.append(float(line[3][:-1]))\n",
    "#     upper_ci_mu_baseml.append(float(line[4][:-1]))\n",
    "    \n",
    "# for line in var_data1:\n",
    "#     line = line.strip().split()\n",
    "#     # node_name.append(line[0])\n",
    "#     posterior_mean_var_baseml.append(float(line[1]))\n",
    "#     lower_ci_var_baseml.append(float(line[3][:-1]))\n",
    "#     upper_ci_var_baseml.append(float(line[4][:-1]))"
   ],
   "id": "f75c012c6bef60a2",
   "outputs": [],
   "execution_count": 9
  },
  {
   "metadata": {
    "ExecuteTime": {
     "end_time": "2024-10-08T15:43:28.054468Z",
     "start_time": "2024-10-08T15:43:28.049271Z"
    }
   },
   "cell_type": "code",
   "source": [
    "import matplotlib.pyplot as plt\n",
    "import numpy as np\n",
    "\n",
    "# # Example data\n",
    "# # Posterior means for MCMCtree (x-axis) and McmcDate (y-axis)\n",
    "# posterior_mean_mcmctree = [100, 200, 300, 400, 500, 600, 700, 800, 900, 1000]\n",
    "# posterior_mean_mcmcdate = [110, 210, 310, 410, 510, 610, 710, 810, 910, 1010]\n",
    "# \n",
    "# # Credible intervals for MCMCtree\n",
    "# lower_ci_mcmctree = [90, 180, 270, 360, 450, 540, 630, 720, 810, 900]\n",
    "# upper_ci_mcmctree = [110, 220, 330, 440, 550, 660, 770, 880, 990, 1100]\n",
    "# \n",
    "# # Credible intervals for McmcDate\n",
    "# lower_ci_mcmcdate = [100, 200, 300, 400, 500, 600, 700, 800, 900, 1000]\n",
    "# upper_ci_mcmcdate = [120, 220, 320, 420, 520, 620, 720, 820, 920, 1020]\n",
    "\n",
    "# Calculate error bars\n",
    "# xerr = [np.array(lower_ci_baseml), \n",
    "#         np.array(upper_ci_baseml)]\n",
    "# yerr = [np.array(lower_ci_iqtree), \n",
    "#         np.array(upper_ci_iqtree)]\n",
    "# \n",
    "# # Plotting\n",
    "# fig, ax = plt.subplots(figsize=(15, 15))\n",
    "# ax.plot([-0.1,90], \n",
    "#         [-0.1, 90], \n",
    "#         'k--', label='y=x')\n",
    "# ax.errorbar(posterior_mean_baseml, posterior_mean_iqtree, \n",
    "#             xerr=xerr, yerr=yerr, fmt='*', ecolor='r', capsize=3, label='95% HPD CI')\n",
    "# \n",
    "# # Labels and title\n",
    "# ax.set_xlabel('Posterior mean age LG [100 Mya]', fontsize=18)\n",
    "# ax.set_ylabel('Posterior mean age LG+G4 [100 Mya]', fontsize=18)\n",
    "# ax.set_title('Posterior mean age comparison between LG and LG+G4 models [t116 ~ B(1.25,2.482)]')\n",
    "# ax.legend()\n",
    "# \n",
    "# # Show plot\n",
    "# # plt.show()\n",
    "# plt.savefig('./animal_origin_posterior_mean_age_comparison_LG_G4_c11.png')"
   ],
   "id": "12db486fa4fac82c",
   "outputs": [],
   "execution_count": 10
  },
  {
   "metadata": {
    "ExecuteTime": {
     "end_time": "2024-10-08T15:43:28.114748Z",
     "start_time": "2024-10-08T15:43:28.109958Z"
    }
   },
   "cell_type": "code",
   "source": "posterior_mean_baseml",
   "id": "917b2e31cff4b992",
   "outputs": [
    {
     "data": {
      "text/plain": [
       "[8.24,\n",
       " 8.1787,\n",
       " 7.5737,\n",
       " 6.7517,\n",
       " 6.4609,\n",
       " 6.0824,\n",
       " 5.5068,\n",
       " 2.7028,\n",
       " 3.9213,\n",
       " 2.7636,\n",
       " 2.3211,\n",
       " 1.7348,\n",
       " 1.1441,\n",
       " 0.7541,\n",
       " 0.3236,\n",
       " 2.8975,\n",
       " 6.146,\n",
       " 5.162,\n",
       " 5.522,\n",
       " 3.9832,\n",
       " 3.3867,\n",
       " 3.2628,\n",
       " 6.2157,\n",
       " 5.8234,\n",
       " 5.534,\n",
       " 5.1497,\n",
       " 4.65,\n",
       " 4.3905,\n",
       " 3.7061,\n",
       " 3.258,\n",
       " 2.8507,\n",
       " 2.1116,\n",
       " 1.7895,\n",
       " 3.87,\n",
       " 3.0078,\n",
       " 6.0284,\n",
       " 1.6416,\n",
       " 5.819,\n",
       " 5.3909,\n",
       " 4.6892,\n",
       " 4.1973,\n",
       " 3.0227,\n",
       " 3.2612,\n",
       " 4.5388,\n",
       " 4.1425,\n",
       " 3.5101,\n",
       " 3.0206,\n",
       " 3.9533,\n",
       " 6.8897,\n",
       " 5.391,\n",
       " 3.3789,\n",
       " 2.9296,\n",
       " 6.1536]"
      ]
     },
     "execution_count": 11,
     "metadata": {},
     "output_type": "execute_result"
    }
   ],
   "execution_count": 11
  },
  {
   "metadata": {
    "ExecuteTime": {
     "end_time": "2024-10-08T15:43:28.179226Z",
     "start_time": "2024-10-08T15:43:28.175693Z"
    }
   },
   "cell_type": "code",
   "source": "posterior_mean_iqtree",
   "id": "59ad8fd34f7bbf11",
   "outputs": [
    {
     "data": {
      "text/plain": [
       "[8.197,\n",
       " 8.114,\n",
       " 7.595,\n",
       " 6.6763,\n",
       " 6.431,\n",
       " 6.1194,\n",
       " 5.6091,\n",
       " 2.6007,\n",
       " 3.9375,\n",
       " 2.7877,\n",
       " 2.3962,\n",
       " 1.8314,\n",
       " 1.2254,\n",
       " 0.806,\n",
       " 0.3469,\n",
       " 2.9133,\n",
       " 6.2034,\n",
       " 5.5557,\n",
       " 5.6043,\n",
       " 3.9917,\n",
       " 3.4746,\n",
       " 3.1823,\n",
       " 6.1276,\n",
       " 5.7881,\n",
       " 5.5459,\n",
       " 5.2152,\n",
       " 4.7411,\n",
       " 4.546,\n",
       " 3.8882,\n",
       " 3.4987,\n",
       " 3.1384,\n",
       " 2.3436,\n",
       " 2.0669,\n",
       " 3.9967,\n",
       " 3.1431,\n",
       " 5.9828,\n",
       " 1.436,\n",
       " 5.8151,\n",
       " 5.4109,\n",
       " 4.7611,\n",
       " 4.3366,\n",
       " 3.1493,\n",
       " 3.4943,\n",
       " 4.5901,\n",
       " 4.3239,\n",
       " 3.8307,\n",
       " 3.0373,\n",
       " 3.9038,\n",
       " 6.9447,\n",
       " 5.4164,\n",
       " 3.4063,\n",
       " 2.6905,\n",
       " 5.9511]"
      ]
     },
     "execution_count": 12,
     "metadata": {},
     "output_type": "execute_result"
    }
   ],
   "execution_count": 12
  },
  {
   "metadata": {
    "ExecuteTime": {
     "end_time": "2024-10-08T15:43:28.534368Z",
     "start_time": "2024-10-08T15:43:28.354905Z"
    }
   },
   "cell_type": "code",
   "source": [
    "# Calculate error bars\n",
    "xerr = [np.array(lower_ci_baseml), \n",
    "        np.array(upper_ci_baseml)]\n",
    "yerr = [np.array(lower_ci_iqtree), \n",
    "        np.array(upper_ci_iqtree)]\n",
    "\n",
    "# Plotting\n",
    "fig, ax = plt.subplots(figsize=(9 ,9))\n",
    "ax.plot([-0.1,17], \n",
    "        [-0.1, 17], \n",
    "        'k--', label='y=x')\n",
    "ax.plot(posterior_mean_baseml, posterior_mean_iqtree, 'o', label='Posterior mean age')\n",
    " \n",
    "# Labels and title\n",
    "ax.set_xlabel('Posterior mean age LG [Mya]', fontsize=18)\n",
    "ax.set_ylabel('Posterior mean age LG+G4 [Mya]', fontsize=18)\n",
    "ax.set_title('Posterior mean age comparison between LG and LG+G4 [t93 ~ B(5.3400 6.3610)]')\n",
    "ax.legend()\n",
    "\n",
    "# point_x = posterior_mean_baseml[0]  # Example: first point in the list\n",
    "# point_y = posterior_mean_iqtree[0]  # Example: first point in the list\n",
    "# ax.annotate('Root age', xy=(point_x, point_y), xytext=(point_x - 0.1, point_y - 0.1), color='red')\n",
    "# Show plot\n",
    "# plt.show()\n",
    "plt.savefig('./metazoa_posterior_mean_age_comparison_LG_G4_m11_scatter.png')"
   ],
   "id": "592d0bb72aa1ad4c",
   "outputs": [
    {
     "data": {
      "text/plain": [
       "<Figure size 900x900 with 1 Axes>"
      ],
      "image/png": "[encoded data removed]"
     },
     "metadata": {},
     "output_type": "display_data"
    }
   ],
   "execution_count": 13
  },
  {
   "metadata": {
    "ExecuteTime": {
     "end_time": "2024-10-08T15:43:28.542843Z",
     "start_time": "2024-10-08T15:43:28.540537Z"
    }
   },
   "cell_type": "code",
   "source": [
    "# fig, ax = plt.subplots(figsize=(9 ,9))\n",
    "# ax.plot([0.01,0.04], \n",
    "#         [0.01, 0.04], \n",
    "#         'k--', label='y=x')\n",
    "# ax.plot(posterior_mean_mu_baseml, posterior_mean_mu_iqtree, 'o', label='Posterior mean rates for partitions')\n",
    "#  \n",
    "# # Labels and title\n",
    "# ax.set_xlabel('Posterior mean rate [LG]', fontsize=18)\n",
    "# ax.set_ylabel('Posterior mean rate [LG+G4]', fontsize=18)\n",
    "# ax.set_title('Posterior mean rate comparison between LG and LG+G4 [Cherry only calibration/IQ-TREE]')\n",
    "# ax.legend()\n",
    "# \n",
    "# # point_x = posterior_mean_baseml[0]  # Example: first point in the list\n",
    "# # point_y = posterior_mean_iqtree[0]  # Example: first point in the list\n",
    "# # ax.annotate('Root age', xy=(point_x, point_y), xytext=(point_x - 0.1, point_y - 0.1), color='red')\n",
    "# # Show plot\n",
    "# # plt.show()\n",
    "# plt.savefig('./animal_origin__posterior_mean_rate_comparison_LG_G4_all_scatter.png')"
   ],
   "id": "c6d69ee36c77970c",
   "outputs": [],
   "execution_count": 14
  },
  {
   "metadata": {
    "ExecuteTime": {
     "end_time": "2024-10-08T15:43:28.586520Z",
     "start_time": "2024-10-08T15:43:28.584684Z"
    }
   },
   "cell_type": "code",
   "source": "",
   "id": "ca69d5b521db3aa7",
   "outputs": [],
   "execution_count": null
  }
 ],
 "metadata": {
  "kernelspec": {
   "display_name": "Python 3",
   "language": "python",
   "name": "python3"
  },
  "language_info": {
   "codemirror_mode": {
    "name": "ipython",
    "version": 2
   },
   "file_extension": ".py",
   "mimetype": "text/x-python",
   "name": "python",
   "nbconvert_exporter": "python",
   "pygments_lexer": "ipython2",
   "version": "2.7.6"
  }
 },
 "nbformat": 4,
 "nbformat_minor": 5
}
