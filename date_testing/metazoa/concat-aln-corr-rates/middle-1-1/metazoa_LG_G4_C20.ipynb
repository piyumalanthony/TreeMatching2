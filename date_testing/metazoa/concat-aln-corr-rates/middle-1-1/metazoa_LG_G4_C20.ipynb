{
 "cells": [
  {
   "cell_type": "code",
   "id": "initial_id",
   "metadata": {
    "collapsed": true,
    "ExecuteTime": {
     "end_time": "2024-10-08T15:44:00.488659Z",
     "start_time": "2024-10-08T15:44:00.095980Z"
    }
   },
   "source": [
    "# Code to get all the Posterior mean (95% Equal-tail CI) (95% HPD CI) HPD-CI-width from ./xenarthra_mcmc_out.txt\n",
    "import numpy as np\n",
    "import pandas as pd\n",
    "import matplotlib.pyplot as plt\n",
    "\n",
    "\n",
    "# Read the file\n",
    "file = open(\"LG_G4_C20_m11_out.txt\", \"r\")\n",
    "lines = file.readlines()\n",
    "file.close()\n",
    "\n",
    "# Extract the data\n",
    "data = []\n",
    "mu_data = []\n",
    "var_data = []\n",
    "\n",
    "read_flag = False\n",
    "for line in lines:\n",
    "    if line.startswith(\"Posterior\"):\n",
    "        read_flag = True\n",
    "    if read_flag and line.startswith(\"t\"):\n",
    "        data.append(line)\n",
    "    if read_flag and line.startswith(\"mu\"):\n",
    "        mu_data.append(line)\n",
    "    if read_flag and line.startswith(\"sigma\"):\n",
    "        var_data.append(line)"
   ],
   "outputs": [],
   "execution_count": 1
  },
  {
   "metadata": {
    "ExecuteTime": {
     "end_time": "2024-10-08T15:44:00.507187Z",
     "start_time": "2024-10-08T15:44:00.499482Z"
    }
   },
   "cell_type": "code",
   "source": "data",
   "id": "54808ee54195795",
   "outputs": [
    {
     "data": {
      "text/plain": [
       "['t_n55          8.0741 ( 7.6040,  8.3238) ( 7.6921,  8.3338)  0.6417 (Jnode 106)\\n',\n",
       " 't_n56          7.9432 ( 7.5003,  8.2647) ( 7.5642,  8.3053)  0.7411 (Jnode 105)\\n',\n",
       " 't_n57          7.5209 ( 7.1380,  7.8406) ( 7.1600,  7.8559)  0.6959 (Jnode 104)\\n',\n",
       " 't_n58          6.5635 ( 6.3051,  6.8797) ( 6.2826,  6.8495)  0.5669 (Jnode 103)\\n',\n",
       " 't_n59          6.3550 ( 6.1125,  6.6693) ( 6.1004,  6.6518)  0.5514 (Jnode 102)\\n',\n",
       " 't_n60          6.0744 ( 5.8353,  6.3907) ( 5.8131,  6.3595)  0.5464 (Jnode 101)\\n',\n",
       " 't_n61          5.6535 ( 5.3934,  5.9879) ( 5.3734,  5.9589)  0.5856 (Jnode 100)\\n',\n",
       " 't_n62          2.4691 ( 1.6204,  3.3007) ( 1.5983,  3.2731)  1.6747 (Jnode 99)\\n',\n",
       " 't_n63          3.8746 ( 3.2408,  4.4402) ( 3.2546,  4.4485)  1.1939 (Jnode 98)\\n',\n",
       " 't_n64          2.7088 ( 2.1307,  3.2868) ( 2.1237,  3.2791)  1.1554 (Jnode 97)\\n',\n",
       " 't_n65          2.3604 ( 1.8265,  2.9159) ( 1.8177,  2.9048)  1.0872 (Jnode 96)\\n',\n",
       " 't_n66          1.8116 ( 1.3617,  2.3032) ( 1.3499,  2.2856)  0.9357 (Jnode 95)\\n',\n",
       " 't_n67          1.2113 ( 0.8817,  1.5991) ( 0.8668,  1.5787)  0.7120 (Jnode 94)\\n',\n",
       " 't_n68          0.8036 ( 0.5713,  1.0877) ( 0.5611,  1.0721)  0.5110 (Jnode 93)\\n',\n",
       " 't_n69          0.3422 ( 0.2322,  0.4872) ( 0.2241,  0.4764)  0.2524 (Jnode 92)\\n',\n",
       " 't_n70          2.8697 ( 2.2619,  3.4824) ( 2.2664,  3.4843)  1.2179 (Jnode 91)\\n',\n",
       " 't_n71          6.1982 ( 5.9566,  6.5154) ( 5.9425,  6.4969)  0.5543 (Jnode 90)\\n',\n",
       " 't_n72          5.9419 ( 5.6476,  6.2888) ( 5.6337,  6.2706)  0.6370 (Jnode 89)\\n',\n",
       " 't_n73          5.6464 ( 5.3835,  5.9863) ( 5.3661,  5.9591)  0.5930 (Jnode 88)\\n',\n",
       " 't_n74          3.9623 ( 3.2333,  4.5711) ( 3.2575,  4.5906)  1.3331 (Jnode 87)\\n',\n",
       " 't_n75          3.5458 ( 2.8239,  4.1864) ( 2.8320,  4.1935)  1.3615 (Jnode 86)\\n',\n",
       " 't_n76          3.0732 ( 2.1066,  3.9403) ( 2.1448,  3.9692)  1.8244 (Jnode 85)\\n',\n",
       " 't_n77          6.0575 ( 5.8605,  6.3531) ( 5.8415,  6.3191)  0.4777 (Jnode 84)\\n',\n",
       " 't_n78          5.7774 ( 5.5793,  6.0764) ( 5.5527,  6.0332)  0.4805 (Jnode 83)\\n',\n",
       " 't_n79          5.5943 ( 5.3888,  5.8958) ( 5.3603,  5.8496)  0.4893 (Jnode 82)\\n',\n",
       " 't_n80          5.2318 ( 4.9738,  5.5582) ( 4.9664,  5.5446)  0.5782 (Jnode 81)\\n',\n",
       " 't_n81          4.7980 ( 4.4826,  5.1453) ( 4.4736,  5.1345)  0.6609 (Jnode 80)\\n',\n",
       " 't_n82          4.6571 ( 4.3212,  5.0156) ( 4.3130,  5.0031)  0.6901 (Jnode 79)\\n',\n",
       " 't_n83          4.0373 ( 3.6285,  4.4446) ( 3.6424,  4.4559)  0.8135 (Jnode 78)\\n',\n",
       " 't_n84          3.6580 ( 3.2342,  4.0749) ( 3.2413,  4.0806)  0.8394 (Jnode 77)\\n',\n",
       " 't_n85          3.3473 ( 2.9173,  3.7727) ( 2.9167,  3.7711)  0.8544 (Jnode 76)\\n',\n",
       " 't_n86          2.4834 ( 2.0430,  2.9310) ( 2.0450,  2.9324)  0.8874 (Jnode 75)\\n',\n",
       " 't_n87          2.2695 ( 1.8442,  2.7092) ( 1.8425,  2.7049)  0.8624 (Jnode 74)\\n',\n",
       " 't_n88          4.0634 ( 3.6230,  4.4834) ( 3.6307,  4.4892)  0.8585 (Jnode 73)\\n',\n",
       " 't_n89          3.2429 ( 2.7201,  3.7469) ( 2.7032,  3.7282)  1.0251 (Jnode 72)\\n',\n",
       " 't_n90          5.9549 ( 5.7641,  6.2473) ( 5.7453,  6.2146)  0.4693 (Jnode 71)\\n',\n",
       " 't_n91          1.2443 ( 0.6432,  2.0154) ( 0.6005,  1.9494)  1.3489 (Jnode 70)\\n',\n",
       " 't_n92          5.8202 ( 5.6464,  6.1073) ( 5.6248,  6.0657)  0.4409 (Jnode 69)\\n',\n",
       " 't_n93          5.4609 ( 5.3425,  5.7305) ( 5.3375,  5.6760)  0.3385 (Jnode 68)\\n',\n",
       " 't_n94          4.8637 ( 4.5960,  5.1667) ( 4.5875,  5.1528)  0.5653 (Jnode 67)\\n',\n",
       " 't_n95          4.4904 ( 4.1597,  4.8225) ( 4.1595,  4.8221)  0.6626 (Jnode 66)\\n',\n",
       " 't_n96          3.2650 ( 2.6962,  3.7743) ( 2.7160,  3.7894)  1.0734 (Jnode 65)\\n',\n",
       " 't_n97          3.7468 ( 3.2811,  4.1649) ( 3.3045,  4.1840)  0.8795 (Jnode 64)\\n',\n",
       " 't_n98          4.6634 ( 4.3326,  4.9871) ( 4.3503,  5.0025)  0.6522 (Jnode 63)\\n',\n",
       " 't_n99          4.4887 ( 4.1330,  4.8254) ( 4.1472,  4.8370)  0.6898 (Jnode 62)\\n',\n",
       " 't_n100         4.1400 ( 3.7261,  4.5181) ( 3.7435,  4.5317)  0.7882 (Jnode 61)\\n',\n",
       " 't_n101         3.0295 ( 2.3829,  3.6037) ( 2.3996,  3.6145)  1.2149 (Jnode 60)\\n',\n",
       " 't_n102         4.0315 ( 3.3526,  4.5710) ( 3.3821,  4.5882)  1.2061 (Jnode 59)\\n',\n",
       " 't_n103         6.8576 ( 6.4278,  7.2447) ( 6.4399,  7.2513)  0.8114 (Jnode 58)\\n',\n",
       " 't_n104         5.1871 ( 4.0614,  5.9350) ( 4.1696,  5.9993)  1.8297 (Jnode 57)\\n',\n",
       " 't_n105         3.1780 ( 2.0725,  4.1991) ( 2.1172,  4.2412)  2.1240 (Jnode 56)\\n',\n",
       " 't_n106         2.3471 ( 1.2995,  3.5080) ( 1.2751,  3.4760)  2.2010 (Jnode 55)\\n',\n",
       " 't_n107         5.6556 ( 4.2205,  6.5626) ( 4.3780,  6.6604)  2.2825 (Jnode 54)\\n']"
      ]
     },
     "execution_count": 2,
     "metadata": {},
     "output_type": "execute_result"
    }
   ],
   "execution_count": 2
  },
  {
   "metadata": {
    "ExecuteTime": {
     "end_time": "2024-10-08T15:44:00.564796Z",
     "start_time": "2024-10-08T15:44:00.561270Z"
    }
   },
   "cell_type": "code",
   "source": [
    "node_name = []\n",
    "posterior_mean_iqtree = []\n",
    "posterior_mean_baseml = []\n",
    "\n",
    "posterior_mean_mu_iqtree = []\n",
    "posterior_mean_mu_baseml = []\n",
    "\n",
    "posterior_mean_var_iqtree = []\n",
    "posterior_mean_var_baseml = []\n",
    "\n",
    "lower_ci_iqtree = []\n",
    "upper_ci_iqtree = []\n",
    "\n",
    "lower_ci_mu_iqtree = []\n",
    "upper_ci_mu_iqtree = []\n",
    "\n",
    "lower_ci_var_iqtree = []\n",
    "upper_ci_var_iqtree = []\n",
    "\n",
    "# Credible intervals for McmcDate\n",
    "lower_ci_baseml = []\n",
    "upper_ci_baseml = []\n",
    "\n",
    "lower_ci_mu_baseml = []\n",
    "upper_ci_mu_baseml = []\n",
    "\n",
    "lower_ci_var_baseml = []\n",
    "upper_ci_var_baseml = []"
   ],
   "id": "e5cf93a69d327e61",
   "outputs": [],
   "execution_count": 3
  },
  {
   "metadata": {
    "ExecuteTime": {
     "end_time": "2024-10-08T15:44:00.610814Z",
     "start_time": "2024-10-08T15:44:00.606908Z"
    }
   },
   "cell_type": "code",
   "source": [
    "for line in data:\n",
    "    line = line.strip().split()\n",
    "    node_name.append(line[0])\n",
    "    posterior_mean_iqtree.append(float(line[1]))\n",
    "#     if line[3].startswith('('):\n",
    "#         lower_ci_iqtree.append(float(line[3][1:-1]))\n",
    "#     else:\n",
    "#         lower_ci_iqtree.append(float(line[3][1:-1]))\n",
    "#     if line[4].startswith('('):\n",
    "#         upper_ci_iqtree.append(float(line[4][1:-1]))\n",
    "#     else:\n",
    "#         upper_ci_iqtree.append(float(line[4][:-1]))\n",
    "#     # posterior_mean_baseml.append(float(line[4]))\n",
    "#     # lower_ci_baseml.append(float(line[5]))\n",
    "#     # upper_ci_baseml.append(float(line[6]))\n",
    "# \n",
    "# for line in mu_data:\n",
    "#     line = line.strip().split()\n",
    "#     # node_name.append(line[0])\n",
    "#     posterior_mean_mu_iqtree.append(float(line[1]))\n",
    "#     lower_ci_mu_iqtree.append(float(line[3][:-1]))\n",
    "#     upper_ci_mu_iqtree.append(float(line[4][:-1]))\n",
    "#\n",
    "# for line in var_data:\n",
    "#     line = line.strip().split()\n",
    "#     # node_name.append(line[0])\n",
    "#     posterior_mean_var_iqtree.append(float(line[1]))\n",
    "#     lower_ci_var_iqtree.append(float(line[3][:-1]))\n",
    "#     upper_ci_var_iqtree.append(float(line[4][:-1]))"
   ],
   "id": "4e79ee928ea76b59",
   "outputs": [],
   "execution_count": 4
  },
  {
   "metadata": {
    "ExecuteTime": {
     "end_time": "2024-10-08T15:44:00.671942Z",
     "start_time": "2024-10-08T15:44:00.666871Z"
    }
   },
   "cell_type": "code",
   "source": "node_name",
   "id": "2c17f55ec9626a0b",
   "outputs": [
    {
     "data": {
      "text/plain": [
       "['t_n55',\n",
       " 't_n56',\n",
       " 't_n57',\n",
       " 't_n58',\n",
       " 't_n59',\n",
       " 't_n60',\n",
       " 't_n61',\n",
       " 't_n62',\n",
       " 't_n63',\n",
       " 't_n64',\n",
       " 't_n65',\n",
       " 't_n66',\n",
       " 't_n67',\n",
       " 't_n68',\n",
       " 't_n69',\n",
       " 't_n70',\n",
       " 't_n71',\n",
       " 't_n72',\n",
       " 't_n73',\n",
       " 't_n74',\n",
       " 't_n75',\n",
       " 't_n76',\n",
       " 't_n77',\n",
       " 't_n78',\n",
       " 't_n79',\n",
       " 't_n80',\n",
       " 't_n81',\n",
       " 't_n82',\n",
       " 't_n83',\n",
       " 't_n84',\n",
       " 't_n85',\n",
       " 't_n86',\n",
       " 't_n87',\n",
       " 't_n88',\n",
       " 't_n89',\n",
       " 't_n90',\n",
       " 't_n91',\n",
       " 't_n92',\n",
       " 't_n93',\n",
       " 't_n94',\n",
       " 't_n95',\n",
       " 't_n96',\n",
       " 't_n97',\n",
       " 't_n98',\n",
       " 't_n99',\n",
       " 't_n100',\n",
       " 't_n101',\n",
       " 't_n102',\n",
       " 't_n103',\n",
       " 't_n104',\n",
       " 't_n105',\n",
       " 't_n106',\n",
       " 't_n107']"
      ]
     },
     "execution_count": 5,
     "metadata": {},
     "output_type": "execute_result"
    }
   ],
   "execution_count": 5
  },
  {
   "metadata": {
    "ExecuteTime": {
     "end_time": "2024-10-08T15:44:00.740492Z",
     "start_time": "2024-10-08T15:44:00.736421Z"
    }
   },
   "cell_type": "code",
   "source": "posterior_mean_iqtree",
   "id": "24a55c806a41f33e",
   "outputs": [
    {
     "data": {
      "text/plain": [
       "[8.0741,\n",
       " 7.9432,\n",
       " 7.5209,\n",
       " 6.5635,\n",
       " 6.355,\n",
       " 6.0744,\n",
       " 5.6535,\n",
       " 2.4691,\n",
       " 3.8746,\n",
       " 2.7088,\n",
       " 2.3604,\n",
       " 1.8116,\n",
       " 1.2113,\n",
       " 0.8036,\n",
       " 0.3422,\n",
       " 2.8697,\n",
       " 6.1982,\n",
       " 5.9419,\n",
       " 5.6464,\n",
       " 3.9623,\n",
       " 3.5458,\n",
       " 3.0732,\n",
       " 6.0575,\n",
       " 5.7774,\n",
       " 5.5943,\n",
       " 5.2318,\n",
       " 4.798,\n",
       " 4.6571,\n",
       " 4.0373,\n",
       " 3.658,\n",
       " 3.3473,\n",
       " 2.4834,\n",
       " 2.2695,\n",
       " 4.0634,\n",
       " 3.2429,\n",
       " 5.9549,\n",
       " 1.2443,\n",
       " 5.8202,\n",
       " 5.4609,\n",
       " 4.8637,\n",
       " 4.4904,\n",
       " 3.265,\n",
       " 3.7468,\n",
       " 4.6634,\n",
       " 4.4887,\n",
       " 4.14,\n",
       " 3.0295,\n",
       " 4.0315,\n",
       " 6.8576,\n",
       " 5.1871,\n",
       " 3.178,\n",
       " 2.3471,\n",
       " 5.6556]"
      ]
     },
     "execution_count": 6,
     "metadata": {},
     "output_type": "execute_result"
    }
   ],
   "execution_count": 6
  },
  {
   "metadata": {
    "ExecuteTime": {
     "end_time": "2024-10-08T15:44:00.800848Z",
     "start_time": "2024-10-08T15:44:00.797304Z"
    }
   },
   "cell_type": "code",
   "source": "lower_ci_iqtree",
   "id": "388aa27ad336d43f",
   "outputs": [
    {
     "data": {
      "text/plain": [
       "[]"
      ]
     },
     "execution_count": 7,
     "metadata": {},
     "output_type": "execute_result"
    }
   ],
   "execution_count": 7
  },
  {
   "metadata": {
    "ExecuteTime": {
     "end_time": "2024-10-08T15:44:00.854800Z",
     "start_time": "2024-10-08T15:44:00.851795Z"
    }
   },
   "cell_type": "code",
   "source": "upper_ci_iqtree",
   "id": "816e569fb763e797",
   "outputs": [
    {
     "data": {
      "text/plain": [
       "[]"
      ]
     },
     "execution_count": 8,
     "metadata": {},
     "output_type": "execute_result"
    }
   ],
   "execution_count": 8
  },
  {
   "metadata": {
    "ExecuteTime": {
     "end_time": "2024-10-08T15:44:00.920979Z",
     "start_time": "2024-10-08T15:44:00.911276Z"
    }
   },
   "cell_type": "code",
   "source": [
    "file_LG = open(\"LG_m11_out.txt\", \"r\")\n",
    "lines1 = file_LG.readlines()\n",
    "file_LG.close()\n",
    "\n",
    "# Extract the data\n",
    "data1 = []\n",
    "mu_data1 = []\n",
    "var_data1 = []\n",
    "\n",
    "read_flag = False\n",
    "for line in lines1:\n",
    "    if line.startswith(\"Posterior\"):\n",
    "        read_flag = True\n",
    "    if read_flag and line.startswith(\"t\"):\n",
    "        data1.append(line)\n",
    "    if read_flag and line.startswith(\"mu\"):\n",
    "        mu_data1.append(line)\n",
    "    if read_flag and line.startswith(\"sigma\"):\n",
    "        var_data1.append(line)\n",
    "\n",
    "        \n",
    "for line in data1:\n",
    "    line = line.strip().split()\n",
    "    # node_name.append(line[0])\n",
    "    posterior_mean_baseml.append(float(line[1]))\n",
    "#     if line[3].startswith('('):\n",
    "#         lower_ci_baseml.append(float(line[3][1:-1]))\n",
    "#     else:\n",
    "#          lower_ci_baseml.append(float(line[3][:-1]))\n",
    "#     if line[4].startswith('('):\n",
    "#         upper_ci_baseml.append(float(line[4][1:-1]))\n",
    "#     else:\n",
    "#          upper_ci_baseml.append(float(line[4][:-1]))\n",
    "#         \n",
    "#     \n",
    "# for line in mu_data1:\n",
    "#     line = line.strip().split()\n",
    "#     # node_name.append(line[0])\n",
    "#     posterior_mean_mu_baseml.append(float(line[1]))\n",
    "#     lower_ci_mu_baseml.append(float(line[3][:-1]))\n",
    "#     upper_ci_mu_baseml.append(float(line[4][:-1]))\n",
    "    \n",
    "# for line in var_data1:\n",
    "#     line = line.strip().split()\n",
    "#     # node_name.append(line[0])\n",
    "#     posterior_mean_var_baseml.append(float(line[1]))\n",
    "#     lower_ci_var_baseml.append(float(line[3][:-1]))\n",
    "#     upper_ci_var_baseml.append(float(line[4][:-1]))"
   ],
   "id": "f75c012c6bef60a2",
   "outputs": [],
   "execution_count": 9
  },
  {
   "metadata": {
    "ExecuteTime": {
     "end_time": "2024-10-08T15:44:00.973360Z",
     "start_time": "2024-10-08T15:44:00.967132Z"
    }
   },
   "cell_type": "code",
   "source": [
    "import matplotlib.pyplot as plt\n",
    "import numpy as np\n",
    "\n",
    "# # Example data\n",
    "# # Posterior means for MCMCtree (x-axis) and McmcDate (y-axis)\n",
    "# posterior_mean_mcmctree = [100, 200, 300, 400, 500, 600, 700, 800, 900, 1000]\n",
    "# posterior_mean_mcmcdate = [110, 210, 310, 410, 510, 610, 710, 810, 910, 1010]\n",
    "# \n",
    "# # Credible intervals for MCMCtree\n",
    "# lower_ci_mcmctree = [90, 180, 270, 360, 450, 540, 630, 720, 810, 900]\n",
    "# upper_ci_mcmctree = [110, 220, 330, 440, 550, 660, 770, 880, 990, 1100]\n",
    "# \n",
    "# # Credible intervals for McmcDate\n",
    "# lower_ci_mcmcdate = [100, 200, 300, 400, 500, 600, 700, 800, 900, 1000]\n",
    "# upper_ci_mcmcdate = [120, 220, 320, 420, 520, 620, 720, 820, 920, 1020]\n",
    "\n",
    "# Calculate error bars\n",
    "# xerr = [np.array(lower_ci_baseml), \n",
    "#         np.array(upper_ci_baseml)]\n",
    "# yerr = [np.array(lower_ci_iqtree), \n",
    "#         np.array(upper_ci_iqtree)]\n",
    "# \n",
    "# # Plotting\n",
    "# fig, ax = plt.subplots(figsize=(15, 15))\n",
    "# ax.plot([-0.1,90], \n",
    "#         [-0.1, 90], \n",
    "#         'k--', label='y=x')\n",
    "# ax.errorbar(posterior_mean_baseml, posterior_mean_iqtree, \n",
    "#             xerr=xerr, yerr=yerr, fmt='*', ecolor='r', capsize=3, label='95% HPD CI')\n",
    "# \n",
    "# # Labels and title\n",
    "# ax.set_xlabel('Posterior mean age LG [100 Mya]', fontsize=18)\n",
    "# ax.set_ylabel('Posterior mean age LG+G4 [100 Mya]', fontsize=18)\n",
    "# ax.set_title('Posterior mean age comparison between LG and LG+G4 models [t116 ~ B(1.25,2.482)]')\n",
    "# ax.legend()\n",
    "# \n",
    "# # Show plot\n",
    "# # plt.show()\n",
    "# plt.savefig('./animal_origin_posterior_mean_age_comparison_LG_G4_c11.png')"
   ],
   "id": "12db486fa4fac82c",
   "outputs": [],
   "execution_count": 10
  },
  {
   "metadata": {
    "ExecuteTime": {
     "end_time": "2024-10-08T15:44:01.031873Z",
     "start_time": "2024-10-08T15:44:01.026557Z"
    }
   },
   "cell_type": "code",
   "source": "posterior_mean_baseml",
   "id": "917b2e31cff4b992",
   "outputs": [
    {
     "data": {
      "text/plain": [
       "[8.24,\n",
       " 8.1787,\n",
       " 7.5737,\n",
       " 6.7517,\n",
       " 6.4609,\n",
       " 6.0824,\n",
       " 5.5068,\n",
       " 2.7028,\n",
       " 3.9213,\n",
       " 2.7636,\n",
       " 2.3211,\n",
       " 1.7348,\n",
       " 1.1441,\n",
       " 0.7541,\n",
       " 0.3236,\n",
       " 2.8975,\n",
       " 6.146,\n",
       " 5.162,\n",
       " 5.522,\n",
       " 3.9832,\n",
       " 3.3867,\n",
       " 3.2628,\n",
       " 6.2157,\n",
       " 5.8234,\n",
       " 5.534,\n",
       " 5.1497,\n",
       " 4.65,\n",
       " 4.3905,\n",
       " 3.7061,\n",
       " 3.258,\n",
       " 2.8507,\n",
       " 2.1116,\n",
       " 1.7895,\n",
       " 3.87,\n",
       " 3.0078,\n",
       " 6.0284,\n",
       " 1.6416,\n",
       " 5.819,\n",
       " 5.3909,\n",
       " 4.6892,\n",
       " 4.1973,\n",
       " 3.0227,\n",
       " 3.2612,\n",
       " 4.5388,\n",
       " 4.1425,\n",
       " 3.5101,\n",
       " 3.0206,\n",
       " 3.9533,\n",
       " 6.8897,\n",
       " 5.391,\n",
       " 3.3789,\n",
       " 2.9296,\n",
       " 6.1536]"
      ]
     },
     "execution_count": 11,
     "metadata": {},
     "output_type": "execute_result"
    }
   ],
   "execution_count": 11
  },
  {
   "metadata": {
    "ExecuteTime": {
     "end_time": "2024-10-08T15:44:01.097178Z",
     "start_time": "2024-10-08T15:44:01.093898Z"
    }
   },
   "cell_type": "code",
   "source": "posterior_mean_iqtree",
   "id": "59ad8fd34f7bbf11",
   "outputs": [
    {
     "data": {
      "text/plain": [
       "[8.0741,\n",
       " 7.9432,\n",
       " 7.5209,\n",
       " 6.5635,\n",
       " 6.355,\n",
       " 6.0744,\n",
       " 5.6535,\n",
       " 2.4691,\n",
       " 3.8746,\n",
       " 2.7088,\n",
       " 2.3604,\n",
       " 1.8116,\n",
       " 1.2113,\n",
       " 0.8036,\n",
       " 0.3422,\n",
       " 2.8697,\n",
       " 6.1982,\n",
       " 5.9419,\n",
       " 5.6464,\n",
       " 3.9623,\n",
       " 3.5458,\n",
       " 3.0732,\n",
       " 6.0575,\n",
       " 5.7774,\n",
       " 5.5943,\n",
       " 5.2318,\n",
       " 4.798,\n",
       " 4.6571,\n",
       " 4.0373,\n",
       " 3.658,\n",
       " 3.3473,\n",
       " 2.4834,\n",
       " 2.2695,\n",
       " 4.0634,\n",
       " 3.2429,\n",
       " 5.9549,\n",
       " 1.2443,\n",
       " 5.8202,\n",
       " 5.4609,\n",
       " 4.8637,\n",
       " 4.4904,\n",
       " 3.265,\n",
       " 3.7468,\n",
       " 4.6634,\n",
       " 4.4887,\n",
       " 4.14,\n",
       " 3.0295,\n",
       " 4.0315,\n",
       " 6.8576,\n",
       " 5.1871,\n",
       " 3.178,\n",
       " 2.3471,\n",
       " 5.6556]"
      ]
     },
     "execution_count": 12,
     "metadata": {},
     "output_type": "execute_result"
    }
   ],
   "execution_count": 12
  },
  {
   "metadata": {
    "ExecuteTime": {
     "end_time": "2024-10-08T15:44:01.480051Z",
     "start_time": "2024-10-08T15:44:01.276604Z"
    }
   },
   "cell_type": "code",
   "source": [
    "# Calculate error bars\n",
    "xerr = [np.array(lower_ci_baseml), \n",
    "        np.array(upper_ci_baseml)]\n",
    "yerr = [np.array(lower_ci_iqtree), \n",
    "        np.array(upper_ci_iqtree)]\n",
    "\n",
    "# Plotting\n",
    "fig, ax = plt.subplots(figsize=(9 ,9))\n",
    "ax.plot([-0.1,17], \n",
    "        [-0.1, 17], \n",
    "        'k--', label='y=x')\n",
    "ax.plot(posterior_mean_baseml, posterior_mean_iqtree, 'o', label='Posterior mean age')\n",
    " \n",
    "# Labels and title\n",
    "ax.set_xlabel('Posterior mean age LG [Mya]', fontsize=18)\n",
    "ax.set_ylabel('Posterior mean age LG+G4+C20 [Mya]', fontsize=18)\n",
    "ax.set_title('Posterior mean age comparison between LG and LG+G4 [t93 ~ B(5.3400 6.3610)]')\n",
    "ax.legend()\n",
    "\n",
    "# point_x = posterior_mean_baseml[0]  # Example: first point in the list\n",
    "# point_y = posterior_mean_iqtree[0]  # Example: first point in the list\n",
    "# ax.annotate('Root age', xy=(point_x, point_y), xytext=(point_x - 0.1, point_y - 0.1), color='red')\n",
    "# Show plot\n",
    "# plt.show()\n",
    "plt.savefig('metazoa_posterior_mean_age_comparison_LG_G4_C20_m11_scatter.png')"
   ],
   "id": "592d0bb72aa1ad4c",
   "outputs": [
    {
     "data": {
      "text/plain": [
       "<Figure size 900x900 with 1 Axes>"
      ],
      "image/png": "[encoded data removed]"
     },
     "metadata": {},
     "output_type": "display_data"
    }
   ],
   "execution_count": 13
  },
  {
   "metadata": {
    "ExecuteTime": {
     "end_time": "2024-10-08T15:44:01.489524Z",
     "start_time": "2024-10-08T15:44:01.487384Z"
    }
   },
   "cell_type": "code",
   "source": [
    "# fig, ax = plt.subplots(figsize=(9 ,9))\n",
    "# ax.plot([0.01,0.04], \n",
    "#         [0.01, 0.04], \n",
    "#         'k--', label='y=x')\n",
    "# ax.plot(posterior_mean_mu_baseml, posterior_mean_mu_iqtree, 'o', label='Posterior mean rates for partitions')\n",
    "#  \n",
    "# # Labels and title\n",
    "# ax.set_xlabel('Posterior mean rate [LG]', fontsize=18)\n",
    "# ax.set_ylabel('Posterior mean rate [LG+G4]', fontsize=18)\n",
    "# ax.set_title('Posterior mean rate comparison between LG and LG+G4 [Cherry only calibration/IQ-TREE]')\n",
    "# ax.legend()\n",
    "# \n",
    "# # point_x = posterior_mean_baseml[0]  # Example: first point in the list\n",
    "# # point_y = posterior_mean_iqtree[0]  # Example: first point in the list\n",
    "# # ax.annotate('Root age', xy=(point_x, point_y), xytext=(point_x - 0.1, point_y - 0.1), color='red')\n",
    "# # Show plot\n",
    "# # plt.show()\n",
    "# plt.savefig('./animal_origin__posterior_mean_rate_comparison_LG_G4_all_scatter.png')"
   ],
   "id": "c6d69ee36c77970c",
   "outputs": [],
   "execution_count": 14
  },
  {
   "metadata": {
    "ExecuteTime": {
     "end_time": "2024-10-08T15:44:01.531449Z",
     "start_time": "2024-10-08T15:44:01.529631Z"
    }
   },
   "cell_type": "code",
   "source": "",
   "id": "ca69d5b521db3aa7",
   "outputs": [],
   "execution_count": null
  }
 ],
 "metadata": {
  "kernelspec": {
   "display_name": "Python 3",
   "language": "python",
   "name": "python3"
  },
  "language_info": {
   "codemirror_mode": {
    "name": "ipython",
    "version": 2
   },
   "file_extension": ".py",
   "mimetype": "text/x-python",
   "name": "python",
   "nbconvert_exporter": "python",
   "pygments_lexer": "ipython2",
   "version": "2.7.6"
  }
 },
 "nbformat": 4,
 "nbformat_minor": 5
}
