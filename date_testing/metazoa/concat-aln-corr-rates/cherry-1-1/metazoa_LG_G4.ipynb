{
 "cells": [
  {
   "cell_type": "code",
   "id": "initial_id",
   "metadata": {
    "collapsed": true,
    "ExecuteTime": {
     "end_time": "2024-10-08T14:28:56.719382Z",
     "start_time": "2024-10-08T14:28:56.227720Z"
    }
   },
   "source": [
    "# Code to get all the Posterior mean (95% Equal-tail CI) (95% HPD CI) HPD-CI-width from ./xenarthra_mcmc_out.txt\n",
    "import numpy as np\n",
    "import pandas as pd\n",
    "import matplotlib.pyplot as plt\n",
    "\n",
    "\n",
    "# Read the file\n",
    "file = open(\"LG_G4_c11_out.txt\", \"r\")\n",
    "lines = file.readlines()\n",
    "file.close()\n",
    "\n",
    "# Extract the data\n",
    "data = []\n",
    "mu_data = []\n",
    "var_data = []\n",
    "\n",
    "read_flag = False\n",
    "for line in lines:\n",
    "    if line.startswith(\"Posterior\"):\n",
    "        read_flag = True\n",
    "    if read_flag and line.startswith(\"t\"):\n",
    "        data.append(line)\n",
    "    if read_flag and line.startswith(\"mu\"):\n",
    "        mu_data.append(line)\n",
    "    if read_flag and line.startswith(\"sigma\"):\n",
    "        var_data.append(line)"
   ],
   "outputs": [],
   "execution_count": 1
  },
  {
   "metadata": {
    "ExecuteTime": {
     "end_time": "2024-10-08T14:28:56.735280Z",
     "start_time": "2024-10-08T14:28:56.730735Z"
    }
   },
   "cell_type": "code",
   "source": "data",
   "id": "54808ee54195795",
   "outputs": [
    {
     "data": {
      "text/plain": [
       "['t_n55          8.1975 ( 7.8537,  8.3292) ( 7.9340,  8.3369)  0.4028 (Jnode 106)\\n',\n",
       " 't_n56          8.1260 ( 7.7621,  8.3077) ( 7.8421,  8.3262)  0.4840 (Jnode 105)\\n',\n",
       " 't_n57          7.6640 ( 7.3186,  7.8871) ( 7.3679,  7.9141)  0.5462 (Jnode 104)\\n',\n",
       " 't_n58          6.8523 ( 6.5036,  7.1416) ( 6.5198,  7.1547)  0.6349 (Jnode 103)\\n',\n",
       " 't_n59          6.6359 ( 6.2881,  6.9329) ( 6.3028,  6.9438)  0.6409 (Jnode 102)\\n',\n",
       " 't_n60          6.3683 ( 6.0223,  6.6750) ( 6.0477,  6.6944)  0.6467 (Jnode 101)\\n',\n",
       " 't_n61          5.9458 ( 5.5879,  6.2801) ( 5.5905,  6.2823)  0.6918 (Jnode 100)\\n',\n",
       " 't_n62          3.2877 ( 1.9885,  4.1498) ( 2.0618,  4.1977)  2.1359 (Jnode 99)\\n',\n",
       " 't_n63          4.6505 ( 4.3373,  5.0250) ( 4.3208,  5.0021)  0.6812 (Jnode 98)\\n',\n",
       " 't_n64          3.5505 ( 2.9480,  4.0775) ( 2.9764,  4.1012)  1.1248 (Jnode 97)\\n',\n",
       " 't_n65          3.1011 ( 2.4765,  3.6918) ( 2.5017,  3.7082)  1.2065 (Jnode 96)\\n',\n",
       " 't_n66          2.3986 ( 1.8199,  2.9891) ( 1.8177,  2.9841)  1.1664 (Jnode 95)\\n',\n",
       " 't_n67          1.6119 ( 1.1627,  2.1226) ( 1.1425,  2.0902)  0.9478 (Jnode 94)\\n',\n",
       " 't_n68          1.0595 ( 0.7386,  1.4496) ( 0.7245,  1.4285)  0.7039 (Jnode 93)\\n',\n",
       " 't_n69          0.4600 ( 0.3009,  0.6797) ( 0.2831,  0.6533)  0.3701 (Jnode 92)\\n',\n",
       " 't_n70          3.6379 ( 3.5829,  3.7843) ( 3.5768,  3.7504)  0.1736 (Jnode 91)\\n',\n",
       " 't_n71          6.4298 ( 6.0824,  6.7339) ( 6.1013,  6.7508)  0.6495 (Jnode 90)\\n',\n",
       " 't_n72          5.7939 ( 5.3599,  6.1873) ( 5.3753,  6.1974)  0.8221 (Jnode 89)\\n',\n",
       " 't_n73          5.8934 ( 5.5267,  6.2388) ( 5.5332,  6.2434)  0.7102 (Jnode 88)\\n',\n",
       " 't_n74          4.4509 ( 3.9632,  4.9779) ( 4.0022,  5.0018)  0.9996 (Jnode 87)\\n',\n",
       " 't_n75          3.9333 ( 3.4220,  4.4883) ( 3.5131,  4.5573)  1.0442 (Jnode 86)\\n',\n",
       " 't_n76          3.8288 ( 2.7524,  4.5067) ( 2.8671,  4.5921)  1.7251 (Jnode 85)\\n',\n",
       " 't_n77          6.3505 ( 5.9987,  6.6526) ( 5.9982,  6.6516)  0.6534 (Jnode 84)\\n',\n",
       " 't_n78          6.0429 ( 5.6835,  6.3576) ( 5.6952,  6.3646)  0.6694 (Jnode 83)\\n',\n",
       " 't_n79          5.8251 ( 5.4592,  6.1468) ( 5.4830,  6.1646)  0.6816 (Jnode 82)\\n',\n",
       " 't_n80          5.5403 ( 5.1609,  5.8754) ( 5.1970,  5.9041)  0.7071 (Jnode 81)\\n',\n",
       " 't_n81          5.1403 ( 4.7290,  5.4810) ( 4.7672,  5.5112)  0.7439 (Jnode 80)\\n',\n",
       " 't_n82          4.9715 ( 4.5474,  5.3141) ( 4.5770,  5.3353)  0.7583 (Jnode 79)\\n',\n",
       " 't_n83          4.3872 ( 3.9411,  4.7331) ( 3.9840,  4.7632)  0.7793 (Jnode 78)\\n',\n",
       " 't_n84          4.0145 ( 3.5733,  4.3562) ( 3.5946,  4.3658)  0.7712 (Jnode 77)\\n',\n",
       " 't_n85          3.6512 ( 3.1655,  3.9987) ( 3.1915,  4.0146)  0.8231 (Jnode 76)\\n',\n",
       " 't_n86          2.7641 ( 2.2474,  3.1782) ( 2.2757,  3.1950)  0.9193 (Jnode 75)\\n',\n",
       " 't_n87          2.4446 ( 1.9471,  2.8712) ( 1.9635,  2.8820)  0.9185 (Jnode 74)\\n',\n",
       " 't_n88          4.4909 ( 3.9691,  4.8581) ( 3.9821,  4.8639)  0.8818 (Jnode 73)\\n',\n",
       " 't_n89          3.7011 ( 3.0292,  4.1191) ( 3.0855,  4.1549)  1.0694 (Jnode 72)\\n',\n",
       " 't_n90          6.2151 ( 5.8631,  6.5205) ( 5.8787,  6.5334)  0.6548 (Jnode 71)\\n',\n",
       " 't_n91          1.5234 ( 0.7407,  2.5200) ( 0.6493,  2.4029)  1.7536 (Jnode 70)\\n',\n",
       " 't_n92          6.0573 ( 5.7043,  6.3665) ( 5.7148,  6.3751)  0.6604 (Jnode 69)\\n',\n",
       " 't_n93          5.6754 ( 5.3130,  5.9945) ( 5.3090,  5.9901)  0.6810 (Jnode 68)\\n',\n",
       " 't_n94          5.1035 ( 4.6969,  5.4514) ( 4.7289,  5.4730)  0.7441 (Jnode 67)\\n',\n",
       " 't_n95          4.7263 ( 4.3072,  5.0906) ( 4.3370,  5.1105)  0.7734 (Jnode 66)\\n',\n",
       " 't_n96          3.6702 ( 2.9706,  4.1033) ( 3.0084,  4.1256)  1.1172 (Jnode 65)\\n',\n",
       " 't_n97          3.9284 ( 3.4761,  4.3597) ( 3.5856,  4.4236)  0.8380 (Jnode 64)\\n',\n",
       " 't_n98          4.9361 ( 4.4863,  5.3172) ( 4.5099,  5.3363)  0.8264 (Jnode 63)\\n',\n",
       " 't_n99          4.6829 ( 4.2170,  5.0833) ( 4.2264,  5.0900)  0.8636 (Jnode 62)\\n',\n",
       " 't_n100         4.1941 ( 3.6927,  4.6543) ( 3.6660,  4.6245)  0.9586 (Jnode 61)\\n',\n",
       " 't_n101         3.5289 ( 2.6423,  4.0766) ( 2.7123,  4.1207)  1.4084 (Jnode 60)\\n',\n",
       " 't_n102         4.2087 ( 3.6534,  4.8254) ( 3.6341,  4.7975)  1.1634 (Jnode 59)\\n',\n",
       " 't_n103         7.0878 ( 6.6882,  7.4046) ( 6.7294,  7.4388)  0.7093 (Jnode 58)\\n',\n",
       " 't_n104         5.6714 ( 4.7689,  6.3036) ( 4.9285,  6.3853)  1.4567 (Jnode 57)\\n',\n",
       " 't_n105         3.8644 ( 2.6107,  4.7063) ( 2.6932,  4.7551)  2.0619 (Jnode 56)\\n',\n",
       " 't_n106         3.4038 ( 1.6641,  4.5291) ( 1.7629,  4.6043)  2.8414 (Jnode 55)\\n',\n",
       " 't_n107         5.8500 ( 4.3664,  6.9030) ( 4.5337,  7.0259)  2.4922 (Jnode 54)\\n']"
      ]
     },
     "execution_count": 2,
     "metadata": {},
     "output_type": "execute_result"
    }
   ],
   "execution_count": 2
  },
  {
   "metadata": {
    "ExecuteTime": {
     "end_time": "2024-10-08T14:28:56.786786Z",
     "start_time": "2024-10-08T14:28:56.783881Z"
    }
   },
   "cell_type": "code",
   "source": [
    "node_name = []\n",
    "posterior_mean_iqtree = []\n",
    "posterior_mean_baseml = []\n",
    "\n",
    "posterior_mean_mu_iqtree = []\n",
    "posterior_mean_mu_baseml = []\n",
    "\n",
    "posterior_mean_var_iqtree = []\n",
    "posterior_mean_var_baseml = []\n",
    "\n",
    "lower_ci_iqtree = []\n",
    "upper_ci_iqtree = []\n",
    "\n",
    "lower_ci_mu_iqtree = []\n",
    "upper_ci_mu_iqtree = []\n",
    "\n",
    "lower_ci_var_iqtree = []\n",
    "upper_ci_var_iqtree = []\n",
    "\n",
    "# Credible intervals for McmcDate\n",
    "lower_ci_baseml = []\n",
    "upper_ci_baseml = []\n",
    "\n",
    "lower_ci_mu_baseml = []\n",
    "upper_ci_mu_baseml = []\n",
    "\n",
    "lower_ci_var_baseml = []\n",
    "upper_ci_var_baseml = []"
   ],
   "id": "e5cf93a69d327e61",
   "outputs": [],
   "execution_count": 3
  },
  {
   "metadata": {
    "ExecuteTime": {
     "end_time": "2024-10-08T14:28:56.837381Z",
     "start_time": "2024-10-08T14:28:56.833404Z"
    }
   },
   "cell_type": "code",
   "source": [
    "for line in data:\n",
    "    line = line.strip().split()\n",
    "    node_name.append(line[0])\n",
    "    posterior_mean_iqtree.append(float(line[1]))\n",
    "#     if line[3].startswith('('):\n",
    "#         lower_ci_iqtree.append(float(line[3][1:-1]))\n",
    "#     else:\n",
    "#         lower_ci_iqtree.append(float(line[3][1:-1]))\n",
    "#     if line[4].startswith('('):\n",
    "#         upper_ci_iqtree.append(float(line[4][1:-1]))\n",
    "#     else:\n",
    "#         upper_ci_iqtree.append(float(line[4][:-1]))\n",
    "#     # posterior_mean_baseml.append(float(line[4]))\n",
    "#     # lower_ci_baseml.append(float(line[5]))\n",
    "#     # upper_ci_baseml.append(float(line[6]))\n",
    "# \n",
    "# for line in mu_data:\n",
    "#     line = line.strip().split()\n",
    "#     # node_name.append(line[0])\n",
    "#     posterior_mean_mu_iqtree.append(float(line[1]))\n",
    "#     lower_ci_mu_iqtree.append(float(line[3][:-1]))\n",
    "#     upper_ci_mu_iqtree.append(float(line[4][:-1]))\n",
    "#\n",
    "# for line in var_data:\n",
    "#     line = line.strip().split()\n",
    "#     # node_name.append(line[0])\n",
    "#     posterior_mean_var_iqtree.append(float(line[1]))\n",
    "#     lower_ci_var_iqtree.append(float(line[3][:-1]))\n",
    "#     upper_ci_var_iqtree.append(float(line[4][:-1]))"
   ],
   "id": "4e79ee928ea76b59",
   "outputs": [],
   "execution_count": 4
  },
  {
   "metadata": {
    "ExecuteTime": {
     "end_time": "2024-10-08T14:28:56.898976Z",
     "start_time": "2024-10-08T14:28:56.892181Z"
    }
   },
   "cell_type": "code",
   "source": "node_name",
   "id": "2c17f55ec9626a0b",
   "outputs": [
    {
     "data": {
      "text/plain": [
       "['t_n55',\n",
       " 't_n56',\n",
       " 't_n57',\n",
       " 't_n58',\n",
       " 't_n59',\n",
       " 't_n60',\n",
       " 't_n61',\n",
       " 't_n62',\n",
       " 't_n63',\n",
       " 't_n64',\n",
       " 't_n65',\n",
       " 't_n66',\n",
       " 't_n67',\n",
       " 't_n68',\n",
       " 't_n69',\n",
       " 't_n70',\n",
       " 't_n71',\n",
       " 't_n72',\n",
       " 't_n73',\n",
       " 't_n74',\n",
       " 't_n75',\n",
       " 't_n76',\n",
       " 't_n77',\n",
       " 't_n78',\n",
       " 't_n79',\n",
       " 't_n80',\n",
       " 't_n81',\n",
       " 't_n82',\n",
       " 't_n83',\n",
       " 't_n84',\n",
       " 't_n85',\n",
       " 't_n86',\n",
       " 't_n87',\n",
       " 't_n88',\n",
       " 't_n89',\n",
       " 't_n90',\n",
       " 't_n91',\n",
       " 't_n92',\n",
       " 't_n93',\n",
       " 't_n94',\n",
       " 't_n95',\n",
       " 't_n96',\n",
       " 't_n97',\n",
       " 't_n98',\n",
       " 't_n99',\n",
       " 't_n100',\n",
       " 't_n101',\n",
       " 't_n102',\n",
       " 't_n103',\n",
       " 't_n104',\n",
       " 't_n105',\n",
       " 't_n106',\n",
       " 't_n107']"
      ]
     },
     "execution_count": 5,
     "metadata": {},
     "output_type": "execute_result"
    }
   ],
   "execution_count": 5
  },
  {
   "metadata": {
    "ExecuteTime": {
     "end_time": "2024-10-08T14:28:56.970065Z",
     "start_time": "2024-10-08T14:28:56.964430Z"
    }
   },
   "cell_type": "code",
   "source": "posterior_mean_iqtree",
   "id": "24a55c806a41f33e",
   "outputs": [
    {
     "data": {
      "text/plain": [
       "[8.1975,\n",
       " 8.126,\n",
       " 7.664,\n",
       " 6.8523,\n",
       " 6.6359,\n",
       " 6.3683,\n",
       " 5.9458,\n",
       " 3.2877,\n",
       " 4.6505,\n",
       " 3.5505,\n",
       " 3.1011,\n",
       " 2.3986,\n",
       " 1.6119,\n",
       " 1.0595,\n",
       " 0.46,\n",
       " 3.6379,\n",
       " 6.4298,\n",
       " 5.7939,\n",
       " 5.8934,\n",
       " 4.4509,\n",
       " 3.9333,\n",
       " 3.8288,\n",
       " 6.3505,\n",
       " 6.0429,\n",
       " 5.8251,\n",
       " 5.5403,\n",
       " 5.1403,\n",
       " 4.9715,\n",
       " 4.3872,\n",
       " 4.0145,\n",
       " 3.6512,\n",
       " 2.7641,\n",
       " 2.4446,\n",
       " 4.4909,\n",
       " 3.7011,\n",
       " 6.2151,\n",
       " 1.5234,\n",
       " 6.0573,\n",
       " 5.6754,\n",
       " 5.1035,\n",
       " 4.7263,\n",
       " 3.6702,\n",
       " 3.9284,\n",
       " 4.9361,\n",
       " 4.6829,\n",
       " 4.1941,\n",
       " 3.5289,\n",
       " 4.2087,\n",
       " 7.0878,\n",
       " 5.6714,\n",
       " 3.8644,\n",
       " 3.4038,\n",
       " 5.85]"
      ]
     },
     "execution_count": 6,
     "metadata": {},
     "output_type": "execute_result"
    }
   ],
   "execution_count": 6
  },
  {
   "metadata": {
    "ExecuteTime": {
     "end_time": "2024-10-08T14:28:57.032850Z",
     "start_time": "2024-10-08T14:28:57.028259Z"
    }
   },
   "cell_type": "code",
   "source": "lower_ci_iqtree",
   "id": "388aa27ad336d43f",
   "outputs": [
    {
     "data": {
      "text/plain": [
       "[]"
      ]
     },
     "execution_count": 7,
     "metadata": {},
     "output_type": "execute_result"
    }
   ],
   "execution_count": 7
  },
  {
   "metadata": {
    "ExecuteTime": {
     "end_time": "2024-10-08T14:28:57.097916Z",
     "start_time": "2024-10-08T14:28:57.092661Z"
    }
   },
   "cell_type": "code",
   "source": "upper_ci_iqtree",
   "id": "816e569fb763e797",
   "outputs": [
    {
     "data": {
      "text/plain": [
       "[]"
      ]
     },
     "execution_count": 8,
     "metadata": {},
     "output_type": "execute_result"
    }
   ],
   "execution_count": 8
  },
  {
   "metadata": {
    "ExecuteTime": {
     "end_time": "2024-10-08T14:28:57.148877Z",
     "start_time": "2024-10-08T14:28:57.143928Z"
    }
   },
   "cell_type": "code",
   "source": [
    "file_LG = open(\"LG_c11_out.txt\", \"r\")\n",
    "lines1 = file_LG.readlines()\n",
    "file_LG.close()\n",
    "\n",
    "# Extract the data\n",
    "data1 = []\n",
    "mu_data1 = []\n",
    "var_data1 = []\n",
    "\n",
    "read_flag = False\n",
    "for line in lines1:\n",
    "    if line.startswith(\"Posterior\"):\n",
    "        read_flag = True\n",
    "    if read_flag and line.startswith(\"t\"):\n",
    "        data1.append(line)\n",
    "    if read_flag and line.startswith(\"mu\"):\n",
    "        mu_data1.append(line)\n",
    "    if read_flag and line.startswith(\"sigma\"):\n",
    "        var_data1.append(line)\n",
    "\n",
    "        \n",
    "for line in data1:\n",
    "    line = line.strip().split()\n",
    "    # node_name.append(line[0])\n",
    "    posterior_mean_baseml.append(float(line[1]))\n",
    "#     if line[3].startswith('('):\n",
    "#         lower_ci_baseml.append(float(line[3][1:-1]))\n",
    "#     else:\n",
    "#          lower_ci_baseml.append(float(line[3][:-1]))\n",
    "#     if line[4].startswith('('):\n",
    "#         upper_ci_baseml.append(float(line[4][1:-1]))\n",
    "#     else:\n",
    "#          upper_ci_baseml.append(float(line[4][:-1]))\n",
    "#         \n",
    "#     \n",
    "# for line in mu_data1:\n",
    "#     line = line.strip().split()\n",
    "#     # node_name.append(line[0])\n",
    "#     posterior_mean_mu_baseml.append(float(line[1]))\n",
    "#     lower_ci_mu_baseml.append(float(line[3][:-1]))\n",
    "#     upper_ci_mu_baseml.append(float(line[4][:-1]))\n",
    "    \n",
    "# for line in var_data1:\n",
    "#     line = line.strip().split()\n",
    "#     # node_name.append(line[0])\n",
    "#     posterior_mean_var_baseml.append(float(line[1]))\n",
    "#     lower_ci_var_baseml.append(float(line[3][:-1]))\n",
    "#     upper_ci_var_baseml.append(float(line[4][:-1]))"
   ],
   "id": "f75c012c6bef60a2",
   "outputs": [],
   "execution_count": 9
  },
  {
   "metadata": {
    "ExecuteTime": {
     "end_time": "2024-10-08T14:28:57.195536Z",
     "start_time": "2024-10-08T14:28:57.192500Z"
    }
   },
   "cell_type": "code",
   "source": [
    "import matplotlib.pyplot as plt\n",
    "import numpy as np\n",
    "\n",
    "# # Example data\n",
    "# # Posterior means for MCMCtree (x-axis) and McmcDate (y-axis)\n",
    "# posterior_mean_mcmctree = [100, 200, 300, 400, 500, 600, 700, 800, 900, 1000]\n",
    "# posterior_mean_mcmcdate = [110, 210, 310, 410, 510, 610, 710, 810, 910, 1010]\n",
    "# \n",
    "# # Credible intervals for MCMCtree\n",
    "# lower_ci_mcmctree = [90, 180, 270, 360, 450, 540, 630, 720, 810, 900]\n",
    "# upper_ci_mcmctree = [110, 220, 330, 440, 550, 660, 770, 880, 990, 1100]\n",
    "# \n",
    "# # Credible intervals for McmcDate\n",
    "# lower_ci_mcmcdate = [100, 200, 300, 400, 500, 600, 700, 800, 900, 1000]\n",
    "# upper_ci_mcmcdate = [120, 220, 320, 420, 520, 620, 720, 820, 920, 1020]\n",
    "\n",
    "# Calculate error bars\n",
    "# xerr = [np.array(lower_ci_baseml), \n",
    "#         np.array(upper_ci_baseml)]\n",
    "# yerr = [np.array(lower_ci_iqtree), \n",
    "#         np.array(upper_ci_iqtree)]\n",
    "# \n",
    "# # Plotting\n",
    "# fig, ax = plt.subplots(figsize=(15, 15))\n",
    "# ax.plot([-0.1,90], \n",
    "#         [-0.1, 90], \n",
    "#         'k--', label='y=x')\n",
    "# ax.errorbar(posterior_mean_baseml, posterior_mean_iqtree, \n",
    "#             xerr=xerr, yerr=yerr, fmt='*', ecolor='r', capsize=3, label='95% HPD CI')\n",
    "# \n",
    "# # Labels and title\n",
    "# ax.set_xlabel('Posterior mean age LG [100 Mya]', fontsize=18)\n",
    "# ax.set_ylabel('Posterior mean age LG+G4 [100 Mya]', fontsize=18)\n",
    "# ax.set_title('Posterior mean age comparison between LG and LG+G4 models [t116 ~ B(1.25,2.482)]')\n",
    "# ax.legend()\n",
    "# \n",
    "# # Show plot\n",
    "# # plt.show()\n",
    "# plt.savefig('./animal_origin_posterior_mean_age_comparison_LG_G4_c11.png')"
   ],
   "id": "12db486fa4fac82c",
   "outputs": [],
   "execution_count": 10
  },
  {
   "metadata": {
    "ExecuteTime": {
     "end_time": "2024-10-08T14:28:57.246908Z",
     "start_time": "2024-10-08T14:28:57.243062Z"
    }
   },
   "cell_type": "code",
   "source": "posterior_mean_baseml",
   "id": "917b2e31cff4b992",
   "outputs": [
    {
     "data": {
      "text/plain": [
       "[8.2126,\n",
       " 8.1459,\n",
       " 7.5902,\n",
       " 6.8374,\n",
       " 6.578,\n",
       " 6.2535,\n",
       " 5.7854,\n",
       " 3.3753,\n",
       " 4.5932,\n",
       " 3.4869,\n",
       " 2.9768,\n",
       " 2.2489,\n",
       " 1.488,\n",
       " 0.9797,\n",
       " 0.4233,\n",
       " 3.6312,\n",
       " 6.2924,\n",
       " 5.3229,\n",
       " 5.7347,\n",
       " 4.4041,\n",
       " 3.8239,\n",
       " 3.8127,\n",
       " 6.3379,\n",
       " 5.9854,\n",
       " 5.7306,\n",
       " 5.4056,\n",
       " 4.9911,\n",
       " 4.77,\n",
       " 4.1689,\n",
       " 3.7393,\n",
       " 3.321,\n",
       " 2.4907,\n",
       " 2.1167,\n",
       " 4.3125,\n",
       " 3.5018,\n",
       " 6.1616,\n",
       " 1.7235,\n",
       " 5.9629,\n",
       " 5.5611,\n",
       " 4.9628,\n",
       " 4.5399,\n",
       " 3.5036,\n",
       " 3.6866,\n",
       " 4.8304,\n",
       " 4.469,\n",
       " 3.8628,\n",
       " 3.4864,\n",
       " 4.1923,\n",
       " 6.9753,\n",
       " 5.5898,\n",
       " 3.7919,\n",
       " 3.6441,\n",
       " 6.0905]"
      ]
     },
     "execution_count": 11,
     "metadata": {},
     "output_type": "execute_result"
    }
   ],
   "execution_count": 11
  },
  {
   "metadata": {
    "ExecuteTime": {
     "end_time": "2024-10-08T14:28:57.305618Z",
     "start_time": "2024-10-08T14:28:57.301789Z"
    }
   },
   "cell_type": "code",
   "source": "posterior_mean_iqtree",
   "id": "59ad8fd34f7bbf11",
   "outputs": [
    {
     "data": {
      "text/plain": [
       "[8.1975,\n",
       " 8.126,\n",
       " 7.664,\n",
       " 6.8523,\n",
       " 6.6359,\n",
       " 6.3683,\n",
       " 5.9458,\n",
       " 3.2877,\n",
       " 4.6505,\n",
       " 3.5505,\n",
       " 3.1011,\n",
       " 2.3986,\n",
       " 1.6119,\n",
       " 1.0595,\n",
       " 0.46,\n",
       " 3.6379,\n",
       " 6.4298,\n",
       " 5.7939,\n",
       " 5.8934,\n",
       " 4.4509,\n",
       " 3.9333,\n",
       " 3.8288,\n",
       " 6.3505,\n",
       " 6.0429,\n",
       " 5.8251,\n",
       " 5.5403,\n",
       " 5.1403,\n",
       " 4.9715,\n",
       " 4.3872,\n",
       " 4.0145,\n",
       " 3.6512,\n",
       " 2.7641,\n",
       " 2.4446,\n",
       " 4.4909,\n",
       " 3.7011,\n",
       " 6.2151,\n",
       " 1.5234,\n",
       " 6.0573,\n",
       " 5.6754,\n",
       " 5.1035,\n",
       " 4.7263,\n",
       " 3.6702,\n",
       " 3.9284,\n",
       " 4.9361,\n",
       " 4.6829,\n",
       " 4.1941,\n",
       " 3.5289,\n",
       " 4.2087,\n",
       " 7.0878,\n",
       " 5.6714,\n",
       " 3.8644,\n",
       " 3.4038,\n",
       " 5.85]"
      ]
     },
     "execution_count": 12,
     "metadata": {},
     "output_type": "execute_result"
    }
   ],
   "execution_count": 12
  },
  {
   "metadata": {
    "ExecuteTime": {
     "end_time": "2024-10-08T14:28:57.675489Z",
     "start_time": "2024-10-08T14:28:57.496111Z"
    }
   },
   "cell_type": "code",
   "source": [
    "# Calculate error bars\n",
    "xerr = [np.array(lower_ci_baseml), \n",
    "        np.array(upper_ci_baseml)]\n",
    "yerr = [np.array(lower_ci_iqtree), \n",
    "        np.array(upper_ci_iqtree)]\n",
    "\n",
    "# Plotting\n",
    "fig, ax = plt.subplots(figsize=(9 ,9))\n",
    "ax.plot([-0.1,17], \n",
    "        [-0.1, 17], \n",
    "        'k--', label='y=x')\n",
    "ax.plot(posterior_mean_baseml, posterior_mean_iqtree, 'o', label='Posterior mean age')\n",
    " \n",
    "# Labels and title\n",
    "ax.set_xlabel('Posterior mean age LG [Mya]', fontsize=18)\n",
    "ax.set_ylabel('Posterior mean age LG+G4 [Mya]', fontsize=18)\n",
    "ax.set_title('Posterior mean age comparison between LG and LG+G4 [t70 ~ B (3.5850,6.3610)]')\n",
    "ax.legend()\n",
    "\n",
    "# point_x = posterior_mean_baseml[0]  # Example: first point in the list\n",
    "# point_y = posterior_mean_iqtree[0]  # Example: first point in the list\n",
    "# ax.annotate('Root age', xy=(point_x, point_y), xytext=(point_x - 0.1, point_y - 0.1), color='red')\n",
    "# Show plot\n",
    "# plt.show()\n",
    "plt.savefig('./metazoa_posterior_mean_age_comparison_LG_G4_c11_scatter.png')"
   ],
   "id": "592d0bb72aa1ad4c",
   "outputs": [
    {
     "data": {
      "text/plain": [
       "<Figure size 900x900 with 1 Axes>"
      ],
      "image/png": "[encoded data removed]"
     },
     "metadata": {},
     "output_type": "display_data"
    }
   ],
   "execution_count": 13
  },
  {
   "metadata": {
    "ExecuteTime": {
     "end_time": "2024-10-08T14:28:57.688840Z",
     "start_time": "2024-10-08T14:28:57.686280Z"
    }
   },
   "cell_type": "code",
   "source": [
    "# fig, ax = plt.subplots(figsize=(9 ,9))\n",
    "# ax.plot([0.01,0.04], \n",
    "#         [0.01, 0.04], \n",
    "#         'k--', label='y=x')\n",
    "# ax.plot(posterior_mean_mu_baseml, posterior_mean_mu_iqtree, 'o', label='Posterior mean rates for partitions')\n",
    "#  \n",
    "# # Labels and title\n",
    "# ax.set_xlabel('Posterior mean rate [LG]', fontsize=18)\n",
    "# ax.set_ylabel('Posterior mean rate [LG+G4]', fontsize=18)\n",
    "# ax.set_title('Posterior mean rate comparison between LG and LG+G4 [Cherry only calibration/IQ-TREE]')\n",
    "# ax.legend()\n",
    "# \n",
    "# # point_x = posterior_mean_baseml[0]  # Example: first point in the list\n",
    "# # point_y = posterior_mean_iqtree[0]  # Example: first point in the list\n",
    "# # ax.annotate('Root age', xy=(point_x, point_y), xytext=(point_x - 0.1, point_y - 0.1), color='red')\n",
    "# # Show plot\n",
    "# # plt.show()\n",
    "# plt.savefig('./animal_origin__posterior_mean_rate_comparison_LG_G4_all_scatter.png')"
   ],
   "id": "c6d69ee36c77970c",
   "outputs": [],
   "execution_count": 14
  },
  {
   "metadata": {
    "ExecuteTime": {
     "end_time": "2024-10-08T14:28:57.734403Z",
     "start_time": "2024-10-08T14:28:57.732414Z"
    }
   },
   "cell_type": "code",
   "source": "",
   "id": "ca69d5b521db3aa7",
   "outputs": [],
   "execution_count": null
  }
 ],
 "metadata": {
  "kernelspec": {
   "display_name": "Python 3",
   "language": "python",
   "name": "python3"
  },
  "language_info": {
   "codemirror_mode": {
    "name": "ipython",
    "version": 2
   },
   "file_extension": ".py",
   "mimetype": "text/x-python",
   "name": "python",
   "nbconvert_exporter": "python",
   "pygments_lexer": "ipython2",
   "version": "2.7.6"
  }
 },
 "nbformat": 4,
 "nbformat_minor": 5
}
