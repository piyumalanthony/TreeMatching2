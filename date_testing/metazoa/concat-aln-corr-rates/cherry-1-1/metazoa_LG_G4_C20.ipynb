{
 "cells": [
  {
   "cell_type": "code",
   "id": "initial_id",
   "metadata": {
    "collapsed": true,
    "ExecuteTime": {
     "end_time": "2024-10-08T14:30:13.564194Z",
     "start_time": "2024-10-08T14:30:13.182559Z"
    }
   },
   "source": [
    "# Code to get all the Posterior mean (95% Equal-tail CI) (95% HPD CI) HPD-CI-width from ./xenarthra_mcmc_out.txt\n",
    "import numpy as np\n",
    "import pandas as pd\n",
    "import matplotlib.pyplot as plt\n",
    "\n",
    "\n",
    "# Read the file\n",
    "file = open(\"LG_G4_C20_c11_out.txt\", \"r\")\n",
    "lines = file.readlines()\n",
    "file.close()\n",
    "\n",
    "# Extract the data\n",
    "data = []\n",
    "mu_data = []\n",
    "var_data = []\n",
    "\n",
    "read_flag = False\n",
    "for line in lines:\n",
    "    if line.startswith(\"Posterior\"):\n",
    "        read_flag = True\n",
    "    if read_flag and line.startswith(\"t\"):\n",
    "        data.append(line)\n",
    "    if read_flag and line.startswith(\"mu\"):\n",
    "        mu_data.append(line)\n",
    "    if read_flag and line.startswith(\"sigma\"):\n",
    "        var_data.append(line)"
   ],
   "outputs": [],
   "execution_count": 1
  },
  {
   "metadata": {
    "ExecuteTime": {
     "end_time": "2024-10-08T14:30:13.578550Z",
     "start_time": "2024-10-08T14:30:13.573381Z"
    }
   },
   "cell_type": "code",
   "source": "data",
   "id": "54808ee54195795",
   "outputs": [
    {
     "data": {
      "text/plain": [
       "['t_n55          8.1447 ( 7.6958,  8.3274) ( 7.7967,  8.3378)  0.5411 (Jnode 106)\\n',\n",
       " 't_n56          8.0572 ( 7.6011,  8.2974) ( 7.6913,  8.3232)  0.6319 (Jnode 105)\\n',\n",
       " 't_n57          7.6806 ( 7.2538,  7.9486) ( 7.3189,  7.9825)  0.6637 (Jnode 104)\\n',\n",
       " 't_n58          6.8387 ( 6.4419,  7.1703) ( 6.4706,  7.1882)  0.7176 (Jnode 103)\\n',\n",
       " 't_n59          6.6538 ( 6.2690,  6.9897) ( 6.2972,  7.0149)  0.7177 (Jnode 102)\\n',\n",
       " 't_n60          6.4085 ( 6.0290,  6.7497) ( 6.0371,  6.7557)  0.7185 (Jnode 101)\\n',\n",
       " 't_n61          6.0499 ( 5.6704,  6.4075) ( 5.6945,  6.4312)  0.7367 (Jnode 100)\\n',\n",
       " 't_n62          3.1050 ( 1.8292,  4.1193) ( 1.8856,  4.1654)  2.2798 (Jnode 99)\\n',\n",
       " 't_n63          4.6611 ( 4.3425,  5.0573) ( 4.3220,  5.0269)  0.7049 (Jnode 98)\\n',\n",
       " 't_n64          3.5047 ( 2.8915,  4.0653) ( 2.9016,  4.0711)  1.1695 (Jnode 97)\\n',\n",
       " 't_n65          3.0967 ( 2.4679,  3.7091) ( 2.4848,  3.7227)  1.2378 (Jnode 96)\\n',\n",
       " 't_n66          2.4067 ( 1.8325,  3.0249) ( 1.8211,  3.0118)  1.1907 (Jnode 95)\\n',\n",
       " 't_n67          1.6160 ( 1.1698,  2.1391) ( 1.1574,  2.1216)  0.9641 (Jnode 94)\\n',\n",
       " 't_n68          1.0705 ( 0.7477,  1.4785) ( 0.7105,  1.4290)  0.7185 (Jnode 93)\\n',\n",
       " 't_n69          0.4595 ( 0.2999,  0.6863) ( 0.2836,  0.6584)  0.3748 (Jnode 92)\\n',\n",
       " 't_n70          3.6603 ( 3.5844,  3.8621) ( 3.5774,  3.8140)  0.2366 (Jnode 91)\\n',\n",
       " 't_n71          6.5120 ( 6.1278,  6.8510) ( 6.1451,  6.8640)  0.7189 (Jnode 90)\\n',\n",
       " 't_n72          6.2772 ( 5.8709,  6.6455) ( 5.8817,  6.6524)  0.7708 (Jnode 89)\\n',\n",
       " 't_n73          6.0118 ( 5.6260,  6.3780) ( 5.6346,  6.3834)  0.7487 (Jnode 88)\\n',\n",
       " 't_n74          4.4589 ( 3.9914,  5.0256) ( 3.9903,  5.0225)  1.0322 (Jnode 87)\\n',\n",
       " 't_n75          4.0312 ( 3.6081,  4.6314) ( 3.5928,  4.6106)  1.0178 (Jnode 86)\\n',\n",
       " 't_n76          3.8116 ( 2.6441,  4.5068) ( 2.7739,  4.5802)  1.8063 (Jnode 85)\\n',\n",
       " 't_n77          6.3680 ( 5.9923,  6.7079) ( 6.0102,  6.7220)  0.7118 (Jnode 84)\\n',\n",
       " 't_n78          6.1052 ( 5.7387,  6.4499) ( 5.7616,  6.4677)  0.7061 (Jnode 83)\\n',\n",
       " 't_n79          5.9316 ( 5.5666,  6.2790) ( 5.5749,  6.2866)  0.7117 (Jnode 82)\\n',\n",
       " 't_n80          5.6044 ( 5.2472,  5.9560) ( 5.2458,  5.9543)  0.7084 (Jnode 81)\\n',\n",
       " 't_n81          5.2169 ( 4.8719,  5.5721) ( 4.8661,  5.5651)  0.6990 (Jnode 80)\\n',\n",
       " 't_n82          5.0878 ( 4.7463,  5.4446) ( 4.7630,  5.4589)  0.6958 (Jnode 79)\\n',\n",
       " 't_n83          4.5065 ( 4.1694,  4.8708) ( 4.1748,  4.8741)  0.6993 (Jnode 78)\\n',\n",
       " 't_n84          4.1292 ( 3.7785,  4.4963) ( 3.8090,  4.5244)  0.7154 (Jnode 77)\\n',\n",
       " 't_n85          3.8085 ( 3.4449,  4.1837) ( 3.4511,  4.1876)  0.7365 (Jnode 76)\\n',\n",
       " 't_n86          2.8505 ( 2.4019,  3.2949) ( 2.3902,  3.2760)  0.8858 (Jnode 75)\\n',\n",
       " 't_n87          2.6083 ( 2.1645,  3.0618) ( 2.1565,  3.0521)  0.8956 (Jnode 74)\\n',\n",
       " 't_n88          4.5511 ( 4.1492,  4.9180) ( 4.1814,  4.9410)  0.7596 (Jnode 73)\\n',\n",
       " 't_n89          3.7811 ( 3.2362,  4.1850) ( 3.3073,  4.2373)  0.9300 (Jnode 72)\\n',\n",
       " 't_n90          6.2702 ( 5.8981,  6.6122) ( 5.8957,  6.6079)  0.7123 (Jnode 71)\\n',\n",
       " 't_n91          1.3251 ( 0.6340,  2.2402) ( 0.5576,  2.1191)  1.5616 (Jnode 70)\\n',\n",
       " 't_n92          6.1401 ( 5.7720,  6.4808) ( 5.7808,  6.4872)  0.7064 (Jnode 69)\\n',\n",
       " 't_n93          5.7944 ( 5.4192,  6.1450) ( 5.4384,  6.1594)  0.7210 (Jnode 68)\\n',\n",
       " 't_n94          5.2415 ( 4.8463,  5.6154) ( 4.8535,  5.6182)  0.7647 (Jnode 67)\\n',\n",
       " 't_n95          4.8929 ( 4.4889,  5.2774) ( 4.4870,  5.2746)  0.7876 (Jnode 66)\\n',\n",
       " 't_n96          3.7676 ( 3.1159,  4.2276) ( 3.1553,  4.2571)  1.1018 (Jnode 65)\\n',\n",
       " 't_n97          4.1589 ( 3.7081,  4.6139) ( 3.6847,  4.5863)  0.9017 (Jnode 64)\\n',\n",
       " 't_n98          5.0527 ( 4.5570,  5.4608) ( 4.5847,  5.4786)  0.8940 (Jnode 63)\\n',\n",
       " 't_n99          4.8838 ( 4.3703,  5.3042) ( 4.3840,  5.3130)  0.9290 (Jnode 62)\\n',\n",
       " 't_n100         4.5362 ( 3.9736,  4.9970) ( 3.9922,  5.0099)  1.0177 (Jnode 61)\\n',\n",
       " 't_n101         3.5559 ( 2.6150,  4.1199) ( 2.6705,  4.1601)  1.4897 (Jnode 60)\\n',\n",
       " 't_n102         4.3636 ( 3.7354,  4.9787) ( 3.7374,  4.9801)  1.2427 (Jnode 59)\\n',\n",
       " 't_n103         7.0859 ( 6.6136,  7.4489) ( 6.6502,  7.4740)  0.8238 (Jnode 58)\\n',\n",
       " 't_n104         5.5530 ( 4.4615,  6.2468) ( 4.6122,  6.3170)  1.7048 (Jnode 57)\\n',\n",
       " 't_n105         3.7253 ( 2.3476,  4.5795) ( 2.4621,  4.6728)  2.2108 (Jnode 56)\\n',\n",
       " 't_n106         2.9341 ( 1.3999,  4.3090) ( 1.4210,  4.3270)  2.9060 (Jnode 55)\\n',\n",
       " 't_n107         5.4731 ( 4.0327,  6.6222) ( 4.0739,  6.6478)  2.5740 (Jnode 54)\\n']"
      ]
     },
     "execution_count": 2,
     "metadata": {},
     "output_type": "execute_result"
    }
   ],
   "execution_count": 2
  },
  {
   "metadata": {
    "ExecuteTime": {
     "end_time": "2024-10-08T14:30:13.630360Z",
     "start_time": "2024-10-08T14:30:13.627381Z"
    }
   },
   "cell_type": "code",
   "source": [
    "node_name = []\n",
    "posterior_mean_iqtree = []\n",
    "posterior_mean_baseml = []\n",
    "\n",
    "posterior_mean_mu_iqtree = []\n",
    "posterior_mean_mu_baseml = []\n",
    "\n",
    "posterior_mean_var_iqtree = []\n",
    "posterior_mean_var_baseml = []\n",
    "\n",
    "lower_ci_iqtree = []\n",
    "upper_ci_iqtree = []\n",
    "\n",
    "lower_ci_mu_iqtree = []\n",
    "upper_ci_mu_iqtree = []\n",
    "\n",
    "lower_ci_var_iqtree = []\n",
    "upper_ci_var_iqtree = []\n",
    "\n",
    "# Credible intervals for McmcDate\n",
    "lower_ci_baseml = []\n",
    "upper_ci_baseml = []\n",
    "\n",
    "lower_ci_mu_baseml = []\n",
    "upper_ci_mu_baseml = []\n",
    "\n",
    "lower_ci_var_baseml = []\n",
    "upper_ci_var_baseml = []"
   ],
   "id": "e5cf93a69d327e61",
   "outputs": [],
   "execution_count": 3
  },
  {
   "metadata": {
    "ExecuteTime": {
     "end_time": "2024-10-08T14:30:13.681871Z",
     "start_time": "2024-10-08T14:30:13.679104Z"
    }
   },
   "cell_type": "code",
   "source": [
    "for line in data:\n",
    "    line = line.strip().split()\n",
    "    node_name.append(line[0])\n",
    "    posterior_mean_iqtree.append(float(line[1]))\n",
    "#     if line[3].startswith('('):\n",
    "#         lower_ci_iqtree.append(float(line[3][1:-1]))\n",
    "#     else:\n",
    "#         lower_ci_iqtree.append(float(line[3][1:-1]))\n",
    "#     if line[4].startswith('('):\n",
    "#         upper_ci_iqtree.append(float(line[4][1:-1]))\n",
    "#     else:\n",
    "#         upper_ci_iqtree.append(float(line[4][:-1]))\n",
    "#     # posterior_mean_baseml.append(float(line[4]))\n",
    "#     # lower_ci_baseml.append(float(line[5]))\n",
    "#     # upper_ci_baseml.append(float(line[6]))\n",
    "# \n",
    "# for line in mu_data:\n",
    "#     line = line.strip().split()\n",
    "#     # node_name.append(line[0])\n",
    "#     posterior_mean_mu_iqtree.append(float(line[1]))\n",
    "#     lower_ci_mu_iqtree.append(float(line[3][:-1]))\n",
    "#     upper_ci_mu_iqtree.append(float(line[4][:-1]))\n",
    "#\n",
    "# for line in var_data:\n",
    "#     line = line.strip().split()\n",
    "#     # node_name.append(line[0])\n",
    "#     posterior_mean_var_iqtree.append(float(line[1]))\n",
    "#     lower_ci_var_iqtree.append(float(line[3][:-1]))\n",
    "#     upper_ci_var_iqtree.append(float(line[4][:-1]))"
   ],
   "id": "4e79ee928ea76b59",
   "outputs": [],
   "execution_count": 4
  },
  {
   "metadata": {
    "ExecuteTime": {
     "end_time": "2024-10-08T14:30:13.735628Z",
     "start_time": "2024-10-08T14:30:13.732571Z"
    }
   },
   "cell_type": "code",
   "source": "node_name",
   "id": "2c17f55ec9626a0b",
   "outputs": [
    {
     "data": {
      "text/plain": [
       "['t_n55',\n",
       " 't_n56',\n",
       " 't_n57',\n",
       " 't_n58',\n",
       " 't_n59',\n",
       " 't_n60',\n",
       " 't_n61',\n",
       " 't_n62',\n",
       " 't_n63',\n",
       " 't_n64',\n",
       " 't_n65',\n",
       " 't_n66',\n",
       " 't_n67',\n",
       " 't_n68',\n",
       " 't_n69',\n",
       " 't_n70',\n",
       " 't_n71',\n",
       " 't_n72',\n",
       " 't_n73',\n",
       " 't_n74',\n",
       " 't_n75',\n",
       " 't_n76',\n",
       " 't_n77',\n",
       " 't_n78',\n",
       " 't_n79',\n",
       " 't_n80',\n",
       " 't_n81',\n",
       " 't_n82',\n",
       " 't_n83',\n",
       " 't_n84',\n",
       " 't_n85',\n",
       " 't_n86',\n",
       " 't_n87',\n",
       " 't_n88',\n",
       " 't_n89',\n",
       " 't_n90',\n",
       " 't_n91',\n",
       " 't_n92',\n",
       " 't_n93',\n",
       " 't_n94',\n",
       " 't_n95',\n",
       " 't_n96',\n",
       " 't_n97',\n",
       " 't_n98',\n",
       " 't_n99',\n",
       " 't_n100',\n",
       " 't_n101',\n",
       " 't_n102',\n",
       " 't_n103',\n",
       " 't_n104',\n",
       " 't_n105',\n",
       " 't_n106',\n",
       " 't_n107']"
      ]
     },
     "execution_count": 5,
     "metadata": {},
     "output_type": "execute_result"
    }
   ],
   "execution_count": 5
  },
  {
   "metadata": {
    "ExecuteTime": {
     "end_time": "2024-10-08T14:30:13.808687Z",
     "start_time": "2024-10-08T14:30:13.801752Z"
    }
   },
   "cell_type": "code",
   "source": "posterior_mean_iqtree",
   "id": "24a55c806a41f33e",
   "outputs": [
    {
     "data": {
      "text/plain": [
       "[8.1447,\n",
       " 8.0572,\n",
       " 7.6806,\n",
       " 6.8387,\n",
       " 6.6538,\n",
       " 6.4085,\n",
       " 6.0499,\n",
       " 3.105,\n",
       " 4.6611,\n",
       " 3.5047,\n",
       " 3.0967,\n",
       " 2.4067,\n",
       " 1.616,\n",
       " 1.0705,\n",
       " 0.4595,\n",
       " 3.6603,\n",
       " 6.512,\n",
       " 6.2772,\n",
       " 6.0118,\n",
       " 4.4589,\n",
       " 4.0312,\n",
       " 3.8116,\n",
       " 6.368,\n",
       " 6.1052,\n",
       " 5.9316,\n",
       " 5.6044,\n",
       " 5.2169,\n",
       " 5.0878,\n",
       " 4.5065,\n",
       " 4.1292,\n",
       " 3.8085,\n",
       " 2.8505,\n",
       " 2.6083,\n",
       " 4.5511,\n",
       " 3.7811,\n",
       " 6.2702,\n",
       " 1.3251,\n",
       " 6.1401,\n",
       " 5.7944,\n",
       " 5.2415,\n",
       " 4.8929,\n",
       " 3.7676,\n",
       " 4.1589,\n",
       " 5.0527,\n",
       " 4.8838,\n",
       " 4.5362,\n",
       " 3.5559,\n",
       " 4.3636,\n",
       " 7.0859,\n",
       " 5.553,\n",
       " 3.7253,\n",
       " 2.9341,\n",
       " 5.4731]"
      ]
     },
     "execution_count": 6,
     "metadata": {},
     "output_type": "execute_result"
    }
   ],
   "execution_count": 6
  },
  {
   "metadata": {
    "ExecuteTime": {
     "end_time": "2024-10-08T14:30:13.868717Z",
     "start_time": "2024-10-08T14:30:13.863469Z"
    }
   },
   "cell_type": "code",
   "source": "lower_ci_iqtree",
   "id": "388aa27ad336d43f",
   "outputs": [
    {
     "data": {
      "text/plain": [
       "[]"
      ]
     },
     "execution_count": 7,
     "metadata": {},
     "output_type": "execute_result"
    }
   ],
   "execution_count": 7
  },
  {
   "metadata": {
    "ExecuteTime": {
     "end_time": "2024-10-08T14:30:13.932152Z",
     "start_time": "2024-10-08T14:30:13.923165Z"
    }
   },
   "cell_type": "code",
   "source": "upper_ci_iqtree",
   "id": "816e569fb763e797",
   "outputs": [
    {
     "data": {
      "text/plain": [
       "[]"
      ]
     },
     "execution_count": 8,
     "metadata": {},
     "output_type": "execute_result"
    }
   ],
   "execution_count": 8
  },
  {
   "metadata": {
    "ExecuteTime": {
     "end_time": "2024-10-08T14:30:13.985297Z",
     "start_time": "2024-10-08T14:30:13.979971Z"
    }
   },
   "cell_type": "code",
   "source": [
    "file_LG = open(\"LG_c11_out.txt\", \"r\")\n",
    "lines1 = file_LG.readlines()\n",
    "file_LG.close()\n",
    "\n",
    "# Extract the data\n",
    "data1 = []\n",
    "mu_data1 = []\n",
    "var_data1 = []\n",
    "\n",
    "read_flag = False\n",
    "for line in lines1:\n",
    "    if line.startswith(\"Posterior\"):\n",
    "        read_flag = True\n",
    "    if read_flag and line.startswith(\"t\"):\n",
    "        data1.append(line)\n",
    "    if read_flag and line.startswith(\"mu\"):\n",
    "        mu_data1.append(line)\n",
    "    if read_flag and line.startswith(\"sigma\"):\n",
    "        var_data1.append(line)\n",
    "\n",
    "        \n",
    "for line in data1:\n",
    "    line = line.strip().split()\n",
    "    # node_name.append(line[0])\n",
    "    posterior_mean_baseml.append(float(line[1]))\n",
    "#     if line[3].startswith('('):\n",
    "#         lower_ci_baseml.append(float(line[3][1:-1]))\n",
    "#     else:\n",
    "#          lower_ci_baseml.append(float(line[3][:-1]))\n",
    "#     if line[4].startswith('('):\n",
    "#         upper_ci_baseml.append(float(line[4][1:-1]))\n",
    "#     else:\n",
    "#          upper_ci_baseml.append(float(line[4][:-1]))\n",
    "#         \n",
    "#     \n",
    "# for line in mu_data1:\n",
    "#     line = line.strip().split()\n",
    "#     # node_name.append(line[0])\n",
    "#     posterior_mean_mu_baseml.append(float(line[1]))\n",
    "#     lower_ci_mu_baseml.append(float(line[3][:-1]))\n",
    "#     upper_ci_mu_baseml.append(float(line[4][:-1]))\n",
    "    \n",
    "# for line in var_data1:\n",
    "#     line = line.strip().split()\n",
    "#     # node_name.append(line[0])\n",
    "#     posterior_mean_var_baseml.append(float(line[1]))\n",
    "#     lower_ci_var_baseml.append(float(line[3][:-1]))\n",
    "#     upper_ci_var_baseml.append(float(line[4][:-1]))"
   ],
   "id": "f75c012c6bef60a2",
   "outputs": [],
   "execution_count": 9
  },
  {
   "metadata": {
    "ExecuteTime": {
     "end_time": "2024-10-08T14:30:14.031621Z",
     "start_time": "2024-10-08T14:30:14.028262Z"
    }
   },
   "cell_type": "code",
   "source": [
    "import matplotlib.pyplot as plt\n",
    "import numpy as np\n",
    "\n",
    "# # Example data\n",
    "# # Posterior means for MCMCtree (x-axis) and McmcDate (y-axis)\n",
    "# posterior_mean_mcmctree = [100, 200, 300, 400, 500, 600, 700, 800, 900, 1000]\n",
    "# posterior_mean_mcmcdate = [110, 210, 310, 410, 510, 610, 710, 810, 910, 1010]\n",
    "# \n",
    "# # Credible intervals for MCMCtree\n",
    "# lower_ci_mcmctree = [90, 180, 270, 360, 450, 540, 630, 720, 810, 900]\n",
    "# upper_ci_mcmctree = [110, 220, 330, 440, 550, 660, 770, 880, 990, 1100]\n",
    "# \n",
    "# # Credible intervals for McmcDate\n",
    "# lower_ci_mcmcdate = [100, 200, 300, 400, 500, 600, 700, 800, 900, 1000]\n",
    "# upper_ci_mcmcdate = [120, 220, 320, 420, 520, 620, 720, 820, 920, 1020]\n",
    "\n",
    "# Calculate error bars\n",
    "# xerr = [np.array(lower_ci_baseml), \n",
    "#         np.array(upper_ci_baseml)]\n",
    "# yerr = [np.array(lower_ci_iqtree), \n",
    "#         np.array(upper_ci_iqtree)]\n",
    "# \n",
    "# # Plotting\n",
    "# fig, ax = plt.subplots(figsize=(15, 15))\n",
    "# ax.plot([-0.1,90], \n",
    "#         [-0.1, 90], \n",
    "#         'k--', label='y=x')\n",
    "# ax.errorbar(posterior_mean_baseml, posterior_mean_iqtree, \n",
    "#             xerr=xerr, yerr=yerr, fmt='*', ecolor='r', capsize=3, label='95% HPD CI')\n",
    "# \n",
    "# # Labels and title\n",
    "# ax.set_xlabel('Posterior mean age LG [100 Mya]', fontsize=18)\n",
    "# ax.set_ylabel('Posterior mean age LG+G4 [100 Mya]', fontsize=18)\n",
    "# ax.set_title('Posterior mean age comparison between LG and LG+G4 models [t116 ~ B(1.25,2.482)]')\n",
    "# ax.legend()\n",
    "# \n",
    "# # Show plot\n",
    "# # plt.show()\n",
    "# plt.savefig('./animal_origin_posterior_mean_age_comparison_LG_G4_c11.png')"
   ],
   "id": "12db486fa4fac82c",
   "outputs": [],
   "execution_count": 10
  },
  {
   "metadata": {
    "ExecuteTime": {
     "end_time": "2024-10-08T14:30:14.087868Z",
     "start_time": "2024-10-08T14:30:14.083292Z"
    }
   },
   "cell_type": "code",
   "source": "posterior_mean_baseml",
   "id": "917b2e31cff4b992",
   "outputs": [
    {
     "data": {
      "text/plain": [
       "[8.2126,\n",
       " 8.1459,\n",
       " 7.5902,\n",
       " 6.8374,\n",
       " 6.578,\n",
       " 6.2535,\n",
       " 5.7854,\n",
       " 3.3753,\n",
       " 4.5932,\n",
       " 3.4869,\n",
       " 2.9768,\n",
       " 2.2489,\n",
       " 1.488,\n",
       " 0.9797,\n",
       " 0.4233,\n",
       " 3.6312,\n",
       " 6.2924,\n",
       " 5.3229,\n",
       " 5.7347,\n",
       " 4.4041,\n",
       " 3.8239,\n",
       " 3.8127,\n",
       " 6.3379,\n",
       " 5.9854,\n",
       " 5.7306,\n",
       " 5.4056,\n",
       " 4.9911,\n",
       " 4.77,\n",
       " 4.1689,\n",
       " 3.7393,\n",
       " 3.321,\n",
       " 2.4907,\n",
       " 2.1167,\n",
       " 4.3125,\n",
       " 3.5018,\n",
       " 6.1616,\n",
       " 1.7235,\n",
       " 5.9629,\n",
       " 5.5611,\n",
       " 4.9628,\n",
       " 4.5399,\n",
       " 3.5036,\n",
       " 3.6866,\n",
       " 4.8304,\n",
       " 4.469,\n",
       " 3.8628,\n",
       " 3.4864,\n",
       " 4.1923,\n",
       " 6.9753,\n",
       " 5.5898,\n",
       " 3.7919,\n",
       " 3.6441,\n",
       " 6.0905]"
      ]
     },
     "execution_count": 11,
     "metadata": {},
     "output_type": "execute_result"
    }
   ],
   "execution_count": 11
  },
  {
   "metadata": {
    "ExecuteTime": {
     "end_time": "2024-10-08T14:30:14.139929Z",
     "start_time": "2024-10-08T14:30:14.136396Z"
    }
   },
   "cell_type": "code",
   "source": "posterior_mean_iqtree",
   "id": "59ad8fd34f7bbf11",
   "outputs": [
    {
     "data": {
      "text/plain": [
       "[8.1447,\n",
       " 8.0572,\n",
       " 7.6806,\n",
       " 6.8387,\n",
       " 6.6538,\n",
       " 6.4085,\n",
       " 6.0499,\n",
       " 3.105,\n",
       " 4.6611,\n",
       " 3.5047,\n",
       " 3.0967,\n",
       " 2.4067,\n",
       " 1.616,\n",
       " 1.0705,\n",
       " 0.4595,\n",
       " 3.6603,\n",
       " 6.512,\n",
       " 6.2772,\n",
       " 6.0118,\n",
       " 4.4589,\n",
       " 4.0312,\n",
       " 3.8116,\n",
       " 6.368,\n",
       " 6.1052,\n",
       " 5.9316,\n",
       " 5.6044,\n",
       " 5.2169,\n",
       " 5.0878,\n",
       " 4.5065,\n",
       " 4.1292,\n",
       " 3.8085,\n",
       " 2.8505,\n",
       " 2.6083,\n",
       " 4.5511,\n",
       " 3.7811,\n",
       " 6.2702,\n",
       " 1.3251,\n",
       " 6.1401,\n",
       " 5.7944,\n",
       " 5.2415,\n",
       " 4.8929,\n",
       " 3.7676,\n",
       " 4.1589,\n",
       " 5.0527,\n",
       " 4.8838,\n",
       " 4.5362,\n",
       " 3.5559,\n",
       " 4.3636,\n",
       " 7.0859,\n",
       " 5.553,\n",
       " 3.7253,\n",
       " 2.9341,\n",
       " 5.4731]"
      ]
     },
     "execution_count": 12,
     "metadata": {},
     "output_type": "execute_result"
    }
   ],
   "execution_count": 12
  },
  {
   "metadata": {
    "ExecuteTime": {
     "end_time": "2024-10-08T14:30:14.550850Z",
     "start_time": "2024-10-08T14:30:14.322960Z"
    }
   },
   "cell_type": "code",
   "source": [
    "# Calculate error bars\n",
    "xerr = [np.array(lower_ci_baseml), \n",
    "        np.array(upper_ci_baseml)]\n",
    "yerr = [np.array(lower_ci_iqtree), \n",
    "        np.array(upper_ci_iqtree)]\n",
    "\n",
    "# Plotting\n",
    "fig, ax = plt.subplots(figsize=(9 ,9))\n",
    "ax.plot([-0.1,17], \n",
    "        [-0.1, 17], \n",
    "        'k--', label='y=x')\n",
    "ax.plot(posterior_mean_baseml, posterior_mean_iqtree, 'o', label='Posterior mean age')\n",
    " \n",
    "# Labels and title\n",
    "ax.set_xlabel('Posterior mean age LG [Mya]', fontsize=18)\n",
    "ax.set_ylabel('Posterior mean age LG+G4+C20 [Mya]', fontsize=18)\n",
    "ax.set_title('Posterior mean age comparison between LG and LG+G4 [t70 ~ B (3.5850,6.3610)]')\n",
    "ax.legend()\n",
    "\n",
    "# point_x = posterior_mean_baseml[0]  # Example: first point in the list\n",
    "# point_y = posterior_mean_iqtree[0]  # Example: first point in the list\n",
    "# ax.annotate('Root age', xy=(point_x, point_y), xytext=(point_x - 0.1, point_y - 0.1), color='red')\n",
    "# Show plot\n",
    "# plt.show()\n",
    "plt.savefig('metazoa_posterior_mean_age_comparison_LG_G4_C20_c11_scatter.png')"
   ],
   "id": "592d0bb72aa1ad4c",
   "outputs": [
    {
     "data": {
      "text/plain": [
       "<Figure size 900x900 with 1 Axes>"
      ],
      "image/png": "[encoded data removed]"
     },
     "metadata": {},
     "output_type": "display_data"
    }
   ],
   "execution_count": 13
  },
  {
   "metadata": {
    "ExecuteTime": {
     "end_time": "2024-10-08T14:30:14.567369Z",
     "start_time": "2024-10-08T14:30:14.564746Z"
    }
   },
   "cell_type": "code",
   "source": [
    "# fig, ax = plt.subplots(figsize=(9 ,9))\n",
    "# ax.plot([0.01,0.04], \n",
    "#         [0.01, 0.04], \n",
    "#         'k--', label='y=x')\n",
    "# ax.plot(posterior_mean_mu_baseml, posterior_mean_mu_iqtree, 'o', label='Posterior mean rates for partitions')\n",
    "#  \n",
    "# # Labels and title\n",
    "# ax.set_xlabel('Posterior mean rate [LG]', fontsize=18)\n",
    "# ax.set_ylabel('Posterior mean rate [LG+G4]', fontsize=18)\n",
    "# ax.set_title('Posterior mean rate comparison between LG and LG+G4 [Cherry only calibration/IQ-TREE]')\n",
    "# ax.legend()\n",
    "# \n",
    "# # point_x = posterior_mean_baseml[0]  # Example: first point in the list\n",
    "# # point_y = posterior_mean_iqtree[0]  # Example: first point in the list\n",
    "# # ax.annotate('Root age', xy=(point_x, point_y), xytext=(point_x - 0.1, point_y - 0.1), color='red')\n",
    "# # Show plot\n",
    "# # plt.show()\n",
    "# plt.savefig('./animal_origin__posterior_mean_rate_comparison_LG_G4_all_scatter.png')"
   ],
   "id": "c6d69ee36c77970c",
   "outputs": [],
   "execution_count": 14
  },
  {
   "metadata": {
    "ExecuteTime": {
     "end_time": "2024-10-08T14:30:14.611790Z",
     "start_time": "2024-10-08T14:30:14.609880Z"
    }
   },
   "cell_type": "code",
   "source": "",
   "id": "ca69d5b521db3aa7",
   "outputs": [],
   "execution_count": null
  }
 ],
 "metadata": {
  "kernelspec": {
   "display_name": "Python 3",
   "language": "python",
   "name": "python3"
  },
  "language_info": {
   "codemirror_mode": {
    "name": "ipython",
    "version": 2
   },
   "file_extension": ".py",
   "mimetype": "text/x-python",
   "name": "python",
   "nbconvert_exporter": "python",
   "pygments_lexer": "ipython2",
   "version": "2.7.6"
  }
 },
 "nbformat": 4,
 "nbformat_minor": 5
}
