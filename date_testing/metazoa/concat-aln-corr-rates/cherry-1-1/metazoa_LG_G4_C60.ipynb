{
 "cells": [
  {
   "cell_type": "code",
   "id": "initial_id",
   "metadata": {
    "collapsed": true,
    "ExecuteTime": {
     "end_time": "2024-10-08T14:31:35.430624Z",
     "start_time": "2024-10-08T14:31:35.009564Z"
    }
   },
   "source": [
    "# Code to get all the Posterior mean (95% Equal-tail CI) (95% HPD CI) HPD-CI-width from ./xenarthra_mcmc_out.txt\n",
    "import numpy as np\n",
    "import pandas as pd\n",
    "import matplotlib.pyplot as plt\n",
    "\n",
    "\n",
    "# Read the file\n",
    "file = open(\"LG_G4_C60_c11_out.txt\", \"r\")\n",
    "lines = file.readlines()\n",
    "file.close()\n",
    "\n",
    "# Extract the data\n",
    "data = []\n",
    "mu_data = []\n",
    "var_data = []\n",
    "\n",
    "read_flag = False\n",
    "for line in lines:\n",
    "    if line.startswith(\"Posterior\"):\n",
    "        read_flag = True\n",
    "    if read_flag and line.startswith(\"t\"):\n",
    "        data.append(line)\n",
    "    if read_flag and line.startswith(\"mu\"):\n",
    "        mu_data.append(line)\n",
    "    if read_flag and line.startswith(\"sigma\"):\n",
    "        var_data.append(line)"
   ],
   "outputs": [],
   "execution_count": 1
  },
  {
   "metadata": {
    "ExecuteTime": {
     "end_time": "2024-10-08T14:31:35.444540Z",
     "start_time": "2024-10-08T14:31:35.438084Z"
    }
   },
   "cell_type": "code",
   "source": "data",
   "id": "54808ee54195795",
   "outputs": [
    {
     "data": {
      "text/plain": [
       "['t_n55          8.1372 ( 7.6819,  8.3270) ( 7.7815,  8.3355)  0.5540 (Jnode 106)\\n',\n",
       " 't_n56          8.0477 ( 7.5877,  8.2971) ( 7.6786,  8.3275)  0.6489 (Jnode 105)\\n',\n",
       " 't_n57          7.6960 ( 7.2575,  7.9688) ( 7.3234,  8.0038)  0.6805 (Jnode 104)\\n',\n",
       " 't_n58          6.8432 ( 6.4390,  7.1722) ( 6.4632,  7.1899)  0.7267 (Jnode 103)\\n',\n",
       " 't_n59          6.6728 ( 6.2771,  7.0069) ( 6.3029,  7.0249)  0.7220 (Jnode 102)\\n',\n",
       " 't_n60          6.4344 ( 6.0456,  6.7778) ( 6.0657,  6.7915)  0.7258 (Jnode 101)\\n',\n",
       " 't_n61          6.0764 ( 5.6889,  6.4369) ( 5.7038,  6.4487)  0.7449 (Jnode 100)\\n',\n",
       " 't_n62          3.0970 ( 1.7955,  4.1191) ( 1.8857,  4.1788)  2.2931 (Jnode 99)\\n',\n",
       " 't_n63          4.6872 ( 4.3539,  5.0915) ( 4.3325,  5.0613)  0.7287 (Jnode 98)\\n',\n",
       " 't_n64          3.5593 ( 2.9178,  4.1124) ( 2.9519,  4.1379)  1.1859 (Jnode 97)\\n',\n",
       " 't_n65          3.1687 ( 2.5204,  3.7631) ( 2.5212,  3.7637)  1.2425 (Jnode 96)\\n',\n",
       " 't_n66          2.4697 ( 1.8658,  3.0809) ( 1.8545,  3.0684)  1.2139 (Jnode 95)\\n',\n",
       " 't_n67          1.6628 ( 1.1916,  2.2010) ( 1.1612,  2.1637)  1.0025 (Jnode 94)\\n',\n",
       " 't_n68          1.1013 ( 0.7625,  1.5251) ( 0.7369,  1.4838)  0.7469 (Jnode 93)\\n',\n",
       " 't_n69          0.4760 ( 0.3066,  0.7112) ( 0.2943,  0.6872)  0.3930 (Jnode 92)\\n',\n",
       " 't_n70          3.6625 ( 3.5840,  3.8601) ( 3.5762,  3.8149)  0.2388 (Jnode 91)\\n',\n",
       " 't_n71          6.5443 ( 6.1506,  6.8827) ( 6.1715,  6.8976)  0.7261 (Jnode 90)\\n',\n",
       " 't_n72          6.3823 ( 5.9703,  6.7490) ( 5.9939,  6.7694)  0.7754 (Jnode 89)\\n',\n",
       " 't_n73          6.0338 ( 5.6376,  6.4037) ( 5.6497,  6.4104)  0.7607 (Jnode 88)\\n',\n",
       " 't_n74          4.4715 ( 3.9926,  5.0507) ( 3.9727,  5.0227)  1.0499 (Jnode 87)\\n',\n",
       " 't_n75          4.0430 ( 3.6060,  4.6590) ( 3.5982,  4.6397)  1.0414 (Jnode 86)\\n',\n",
       " 't_n76          3.8073 ( 2.5894,  4.5314) ( 2.6649,  4.5729)  1.9079 (Jnode 85)\\n',\n",
       " 't_n77          6.3710 ( 5.9866,  6.7137) ( 5.9961,  6.7199)  0.7238 (Jnode 84)\\n',\n",
       " 't_n78          6.1208 ( 5.7450,  6.4675) ( 5.7470,  6.4686)  0.7216 (Jnode 83)\\n',\n",
       " 't_n79          5.9500 ( 5.5750,  6.3007) ( 5.5766,  6.3013)  0.7247 (Jnode 82)\\n',\n",
       " 't_n80          5.6263 ( 5.2619,  5.9810) ( 5.2651,  5.9834)  0.7184 (Jnode 81)\\n',\n",
       " 't_n81          5.2292 ( 4.8727,  5.5878) ( 4.8718,  5.5851)  0.7133 (Jnode 80)\\n',\n",
       " 't_n82          5.1050 ( 4.7494,  5.4687) ( 4.7589,  5.4770)  0.7182 (Jnode 79)\\n',\n",
       " 't_n83          4.5095 ( 4.1587,  4.8905) ( 4.1708,  4.8985)  0.7278 (Jnode 78)\\n',\n",
       " 't_n84          4.1387 ( 3.7756,  4.5294) ( 3.7935,  4.5402)  0.7466 (Jnode 77)\\n',\n",
       " 't_n85          3.8144 ( 3.4369,  4.2075) ( 3.4618,  4.2277)  0.7659 (Jnode 76)\\n',\n",
       " 't_n86          2.8503 ( 2.3938,  3.3159) ( 2.3895,  3.3104)  0.9209 (Jnode 75)\\n',\n",
       " 't_n87          2.6326 ( 2.1767,  3.1116) ( 2.1607,  3.0833)  0.9227 (Jnode 74)\\n',\n",
       " 't_n88          4.5582 ( 4.1604,  4.9390) ( 4.1806,  4.9538)  0.7732 (Jnode 73)\\n',\n",
       " 't_n89          3.7963 ( 3.2575,  4.2168) ( 3.3280,  4.2648)  0.9368 (Jnode 72)\\n',\n",
       " 't_n90          6.2692 ( 5.8866,  6.6158) ( 5.9111,  6.6364)  0.7253 (Jnode 71)\\n',\n",
       " 't_n91          1.3062 ( 0.6283,  2.2143) ( 0.5632,  2.1239)  1.5607 (Jnode 70)\\n',\n",
       " 't_n92          6.1491 ( 5.7684,  6.4952) ( 5.7937,  6.5176)  0.7238 (Jnode 69)\\n',\n",
       " 't_n93          5.8070 ( 5.4286,  6.1569) ( 5.4312,  6.1582)  0.7270 (Jnode 68)\\n',\n",
       " 't_n94          5.2419 ( 4.8341,  5.6197) ( 4.8601,  5.6418)  0.7817 (Jnode 67)\\n',\n",
       " 't_n95          4.9135 ( 4.5010,  5.3045) ( 4.5079,  5.3106)  0.8027 (Jnode 66)\\n',\n",
       " 't_n96          3.7780 ( 3.1222,  4.2488) ( 3.1605,  4.2750)  1.1144 (Jnode 65)\\n',\n",
       " 't_n97          4.1842 ( 3.7224,  4.6472) ( 3.7084,  4.6293)  0.9209 (Jnode 64)\\n',\n",
       " 't_n98          5.0608 ( 4.5637,  5.4731) ( 4.6036,  5.5026)  0.8990 (Jnode 63)\\n',\n",
       " 't_n99          4.8987 ( 4.3834,  5.3257) ( 4.4004,  5.3365)  0.9362 (Jnode 62)\\n',\n",
       " 't_n100         4.5960 ( 4.0368,  5.0581) ( 4.0658,  5.0806)  1.0147 (Jnode 61)\\n',\n",
       " 't_n101         3.5325 ( 2.5687,  4.1200) ( 2.6177,  4.1487)  1.5310 (Jnode 60)\\n',\n",
       " 't_n102         4.3930 ( 3.7489,  5.0276) ( 3.7113,  4.9822)  1.2709 (Jnode 59)\\n',\n",
       " 't_n103         7.1080 ( 6.6277,  7.4717) ( 6.6634,  7.4946)  0.8312 (Jnode 58)\\n',\n",
       " 't_n104         5.5674 ( 4.4428,  6.2712) ( 4.6101,  6.3632)  1.7532 (Jnode 57)\\n',\n",
       " 't_n105         3.7312 ( 2.3461,  4.6184) ( 2.4191,  4.6888)  2.2697 (Jnode 56)\\n',\n",
       " 't_n106         2.9105 ( 1.3319,  4.3039) ( 1.3307,  4.3006)  2.9699 (Jnode 55)\\n',\n",
       " 't_n107         5.4125 ( 3.9661,  6.5887) ( 4.0636,  6.6748)  2.6112 (Jnode 54)\\n']"
      ]
     },
     "execution_count": 2,
     "metadata": {},
     "output_type": "execute_result"
    }
   ],
   "execution_count": 2
  },
  {
   "metadata": {
    "ExecuteTime": {
     "end_time": "2024-10-08T14:31:35.493799Z",
     "start_time": "2024-10-08T14:31:35.489942Z"
    }
   },
   "cell_type": "code",
   "source": [
    "node_name = []\n",
    "posterior_mean_iqtree = []\n",
    "posterior_mean_baseml = []\n",
    "\n",
    "posterior_mean_mu_iqtree = []\n",
    "posterior_mean_mu_baseml = []\n",
    "\n",
    "posterior_mean_var_iqtree = []\n",
    "posterior_mean_var_baseml = []\n",
    "\n",
    "lower_ci_iqtree = []\n",
    "upper_ci_iqtree = []\n",
    "\n",
    "lower_ci_mu_iqtree = []\n",
    "upper_ci_mu_iqtree = []\n",
    "\n",
    "lower_ci_var_iqtree = []\n",
    "upper_ci_var_iqtree = []\n",
    "\n",
    "# Credible intervals for McmcDate\n",
    "lower_ci_baseml = []\n",
    "upper_ci_baseml = []\n",
    "\n",
    "lower_ci_mu_baseml = []\n",
    "upper_ci_mu_baseml = []\n",
    "\n",
    "lower_ci_var_baseml = []\n",
    "upper_ci_var_baseml = []"
   ],
   "id": "e5cf93a69d327e61",
   "outputs": [],
   "execution_count": 3
  },
  {
   "metadata": {
    "ExecuteTime": {
     "end_time": "2024-10-08T14:31:35.543566Z",
     "start_time": "2024-10-08T14:31:35.538981Z"
    }
   },
   "cell_type": "code",
   "source": [
    "for line in data:\n",
    "    line = line.strip().split()\n",
    "    node_name.append(line[0])\n",
    "    posterior_mean_iqtree.append(float(line[1]))\n",
    "#     if line[3].startswith('('):\n",
    "#         lower_ci_iqtree.append(float(line[3][1:-1]))\n",
    "#     else:\n",
    "#         lower_ci_iqtree.append(float(line[3][1:-1]))\n",
    "#     if line[4].startswith('('):\n",
    "#         upper_ci_iqtree.append(float(line[4][1:-1]))\n",
    "#     else:\n",
    "#         upper_ci_iqtree.append(float(line[4][:-1]))\n",
    "#     # posterior_mean_baseml.append(float(line[4]))\n",
    "#     # lower_ci_baseml.append(float(line[5]))\n",
    "#     # upper_ci_baseml.append(float(line[6]))\n",
    "# \n",
    "# for line in mu_data:\n",
    "#     line = line.strip().split()\n",
    "#     # node_name.append(line[0])\n",
    "#     posterior_mean_mu_iqtree.append(float(line[1]))\n",
    "#     lower_ci_mu_iqtree.append(float(line[3][:-1]))\n",
    "#     upper_ci_mu_iqtree.append(float(line[4][:-1]))\n",
    "#\n",
    "# for line in var_data:\n",
    "#     line = line.strip().split()\n",
    "#     # node_name.append(line[0])\n",
    "#     posterior_mean_var_iqtree.append(float(line[1]))\n",
    "#     lower_ci_var_iqtree.append(float(line[3][:-1]))\n",
    "#     upper_ci_var_iqtree.append(float(line[4][:-1]))"
   ],
   "id": "4e79ee928ea76b59",
   "outputs": [],
   "execution_count": 4
  },
  {
   "metadata": {
    "ExecuteTime": {
     "end_time": "2024-10-08T14:31:35.605977Z",
     "start_time": "2024-10-08T14:31:35.600683Z"
    }
   },
   "cell_type": "code",
   "source": "node_name",
   "id": "2c17f55ec9626a0b",
   "outputs": [
    {
     "data": {
      "text/plain": [
       "['t_n55',\n",
       " 't_n56',\n",
       " 't_n57',\n",
       " 't_n58',\n",
       " 't_n59',\n",
       " 't_n60',\n",
       " 't_n61',\n",
       " 't_n62',\n",
       " 't_n63',\n",
       " 't_n64',\n",
       " 't_n65',\n",
       " 't_n66',\n",
       " 't_n67',\n",
       " 't_n68',\n",
       " 't_n69',\n",
       " 't_n70',\n",
       " 't_n71',\n",
       " 't_n72',\n",
       " 't_n73',\n",
       " 't_n74',\n",
       " 't_n75',\n",
       " 't_n76',\n",
       " 't_n77',\n",
       " 't_n78',\n",
       " 't_n79',\n",
       " 't_n80',\n",
       " 't_n81',\n",
       " 't_n82',\n",
       " 't_n83',\n",
       " 't_n84',\n",
       " 't_n85',\n",
       " 't_n86',\n",
       " 't_n87',\n",
       " 't_n88',\n",
       " 't_n89',\n",
       " 't_n90',\n",
       " 't_n91',\n",
       " 't_n92',\n",
       " 't_n93',\n",
       " 't_n94',\n",
       " 't_n95',\n",
       " 't_n96',\n",
       " 't_n97',\n",
       " 't_n98',\n",
       " 't_n99',\n",
       " 't_n100',\n",
       " 't_n101',\n",
       " 't_n102',\n",
       " 't_n103',\n",
       " 't_n104',\n",
       " 't_n105',\n",
       " 't_n106',\n",
       " 't_n107']"
      ]
     },
     "execution_count": 5,
     "metadata": {},
     "output_type": "execute_result"
    }
   ],
   "execution_count": 5
  },
  {
   "metadata": {
    "ExecuteTime": {
     "end_time": "2024-10-08T14:31:35.674298Z",
     "start_time": "2024-10-08T14:31:35.670082Z"
    }
   },
   "cell_type": "code",
   "source": "posterior_mean_iqtree",
   "id": "24a55c806a41f33e",
   "outputs": [
    {
     "data": {
      "text/plain": [
       "[8.1372,\n",
       " 8.0477,\n",
       " 7.696,\n",
       " 6.8432,\n",
       " 6.6728,\n",
       " 6.4344,\n",
       " 6.0764,\n",
       " 3.097,\n",
       " 4.6872,\n",
       " 3.5593,\n",
       " 3.1687,\n",
       " 2.4697,\n",
       " 1.6628,\n",
       " 1.1013,\n",
       " 0.476,\n",
       " 3.6625,\n",
       " 6.5443,\n",
       " 6.3823,\n",
       " 6.0338,\n",
       " 4.4715,\n",
       " 4.043,\n",
       " 3.8073,\n",
       " 6.371,\n",
       " 6.1208,\n",
       " 5.95,\n",
       " 5.6263,\n",
       " 5.2292,\n",
       " 5.105,\n",
       " 4.5095,\n",
       " 4.1387,\n",
       " 3.8144,\n",
       " 2.8503,\n",
       " 2.6326,\n",
       " 4.5582,\n",
       " 3.7963,\n",
       " 6.2692,\n",
       " 1.3062,\n",
       " 6.1491,\n",
       " 5.807,\n",
       " 5.2419,\n",
       " 4.9135,\n",
       " 3.778,\n",
       " 4.1842,\n",
       " 5.0608,\n",
       " 4.8987,\n",
       " 4.596,\n",
       " 3.5325,\n",
       " 4.393,\n",
       " 7.108,\n",
       " 5.5674,\n",
       " 3.7312,\n",
       " 2.9105,\n",
       " 5.4125]"
      ]
     },
     "execution_count": 6,
     "metadata": {},
     "output_type": "execute_result"
    }
   ],
   "execution_count": 6
  },
  {
   "metadata": {
    "ExecuteTime": {
     "end_time": "2024-10-08T14:31:35.738112Z",
     "start_time": "2024-10-08T14:31:35.734972Z"
    }
   },
   "cell_type": "code",
   "source": "lower_ci_iqtree",
   "id": "388aa27ad336d43f",
   "outputs": [
    {
     "data": {
      "text/plain": [
       "[]"
      ]
     },
     "execution_count": 7,
     "metadata": {},
     "output_type": "execute_result"
    }
   ],
   "execution_count": 7
  },
  {
   "metadata": {
    "ExecuteTime": {
     "end_time": "2024-10-08T14:31:35.798389Z",
     "start_time": "2024-10-08T14:31:35.793349Z"
    }
   },
   "cell_type": "code",
   "source": "upper_ci_iqtree",
   "id": "816e569fb763e797",
   "outputs": [
    {
     "data": {
      "text/plain": [
       "[]"
      ]
     },
     "execution_count": 8,
     "metadata": {},
     "output_type": "execute_result"
    }
   ],
   "execution_count": 8
  },
  {
   "metadata": {
    "ExecuteTime": {
     "end_time": "2024-10-08T14:31:35.853863Z",
     "start_time": "2024-10-08T14:31:35.848614Z"
    }
   },
   "cell_type": "code",
   "source": [
    "file_LG = open(\"LG_c11_out.txt\", \"r\")\n",
    "lines1 = file_LG.readlines()\n",
    "file_LG.close()\n",
    "\n",
    "# Extract the data\n",
    "data1 = []\n",
    "mu_data1 = []\n",
    "var_data1 = []\n",
    "\n",
    "read_flag = False\n",
    "for line in lines1:\n",
    "    if line.startswith(\"Posterior\"):\n",
    "        read_flag = True\n",
    "    if read_flag and line.startswith(\"t\"):\n",
    "        data1.append(line)\n",
    "    if read_flag and line.startswith(\"mu\"):\n",
    "        mu_data1.append(line)\n",
    "    if read_flag and line.startswith(\"sigma\"):\n",
    "        var_data1.append(line)\n",
    "\n",
    "        \n",
    "for line in data1:\n",
    "    line = line.strip().split()\n",
    "    # node_name.append(line[0])\n",
    "    posterior_mean_baseml.append(float(line[1]))\n",
    "#     if line[3].startswith('('):\n",
    "#         lower_ci_baseml.append(float(line[3][1:-1]))\n",
    "#     else:\n",
    "#          lower_ci_baseml.append(float(line[3][:-1]))\n",
    "#     if line[4].startswith('('):\n",
    "#         upper_ci_baseml.append(float(line[4][1:-1]))\n",
    "#     else:\n",
    "#          upper_ci_baseml.append(float(line[4][:-1]))\n",
    "#         \n",
    "#     \n",
    "# for line in mu_data1:\n",
    "#     line = line.strip().split()\n",
    "#     # node_name.append(line[0])\n",
    "#     posterior_mean_mu_baseml.append(float(line[1]))\n",
    "#     lower_ci_mu_baseml.append(float(line[3][:-1]))\n",
    "#     upper_ci_mu_baseml.append(float(line[4][:-1]))\n",
    "    \n",
    "# for line in var_data1:\n",
    "#     line = line.strip().split()\n",
    "#     # node_name.append(line[0])\n",
    "#     posterior_mean_var_baseml.append(float(line[1]))\n",
    "#     lower_ci_var_baseml.append(float(line[3][:-1]))\n",
    "#     upper_ci_var_baseml.append(float(line[4][:-1]))"
   ],
   "id": "f75c012c6bef60a2",
   "outputs": [],
   "execution_count": 9
  },
  {
   "metadata": {
    "ExecuteTime": {
     "end_time": "2024-10-08T14:31:35.910459Z",
     "start_time": "2024-10-08T14:31:35.900773Z"
    }
   },
   "cell_type": "code",
   "source": [
    "import matplotlib.pyplot as plt\n",
    "import numpy as np\n",
    "\n",
    "# # Example data\n",
    "# # Posterior means for MCMCtree (x-axis) and McmcDate (y-axis)\n",
    "# posterior_mean_mcmctree = [100, 200, 300, 400, 500, 600, 700, 800, 900, 1000]\n",
    "# posterior_mean_mcmcdate = [110, 210, 310, 410, 510, 610, 710, 810, 910, 1010]\n",
    "# \n",
    "# # Credible intervals for MCMCtree\n",
    "# lower_ci_mcmctree = [90, 180, 270, 360, 450, 540, 630, 720, 810, 900]\n",
    "# upper_ci_mcmctree = [110, 220, 330, 440, 550, 660, 770, 880, 990, 1100]\n",
    "# \n",
    "# # Credible intervals for McmcDate\n",
    "# lower_ci_mcmcdate = [100, 200, 300, 400, 500, 600, 700, 800, 900, 1000]\n",
    "# upper_ci_mcmcdate = [120, 220, 320, 420, 520, 620, 720, 820, 920, 1020]\n",
    "\n",
    "# Calculate error bars\n",
    "# xerr = [np.array(lower_ci_baseml), \n",
    "#         np.array(upper_ci_baseml)]\n",
    "# yerr = [np.array(lower_ci_iqtree), \n",
    "#         np.array(upper_ci_iqtree)]\n",
    "# \n",
    "# # Plotting\n",
    "# fig, ax = plt.subplots(figsize=(15, 15))\n",
    "# ax.plot([-0.1,90], \n",
    "#         [-0.1, 90], \n",
    "#         'k--', label='y=x')\n",
    "# ax.errorbar(posterior_mean_baseml, posterior_mean_iqtree, \n",
    "#             xerr=xerr, yerr=yerr, fmt='*', ecolor='r', capsize=3, label='95% HPD CI')\n",
    "# \n",
    "# # Labels and title\n",
    "# ax.set_xlabel('Posterior mean age LG [100 Mya]', fontsize=18)\n",
    "# ax.set_ylabel('Posterior mean age LG+G4 [100 Mya]', fontsize=18)\n",
    "# ax.set_title('Posterior mean age comparison between LG and LG+G4 models [t116 ~ B(1.25,2.482)]')\n",
    "# ax.legend()\n",
    "# \n",
    "# # Show plot\n",
    "# # plt.show()\n",
    "# plt.savefig('./animal_origin_posterior_mean_age_comparison_LG_G4_c11.png')"
   ],
   "id": "12db486fa4fac82c",
   "outputs": [],
   "execution_count": 10
  },
  {
   "metadata": {
    "ExecuteTime": {
     "end_time": "2024-10-08T14:31:35.962224Z",
     "start_time": "2024-10-08T14:31:35.958574Z"
    }
   },
   "cell_type": "code",
   "source": "posterior_mean_baseml",
   "id": "917b2e31cff4b992",
   "outputs": [
    {
     "data": {
      "text/plain": [
       "[8.2126,\n",
       " 8.1459,\n",
       " 7.5902,\n",
       " 6.8374,\n",
       " 6.578,\n",
       " 6.2535,\n",
       " 5.7854,\n",
       " 3.3753,\n",
       " 4.5932,\n",
       " 3.4869,\n",
       " 2.9768,\n",
       " 2.2489,\n",
       " 1.488,\n",
       " 0.9797,\n",
       " 0.4233,\n",
       " 3.6312,\n",
       " 6.2924,\n",
       " 5.3229,\n",
       " 5.7347,\n",
       " 4.4041,\n",
       " 3.8239,\n",
       " 3.8127,\n",
       " 6.3379,\n",
       " 5.9854,\n",
       " 5.7306,\n",
       " 5.4056,\n",
       " 4.9911,\n",
       " 4.77,\n",
       " 4.1689,\n",
       " 3.7393,\n",
       " 3.321,\n",
       " 2.4907,\n",
       " 2.1167,\n",
       " 4.3125,\n",
       " 3.5018,\n",
       " 6.1616,\n",
       " 1.7235,\n",
       " 5.9629,\n",
       " 5.5611,\n",
       " 4.9628,\n",
       " 4.5399,\n",
       " 3.5036,\n",
       " 3.6866,\n",
       " 4.8304,\n",
       " 4.469,\n",
       " 3.8628,\n",
       " 3.4864,\n",
       " 4.1923,\n",
       " 6.9753,\n",
       " 5.5898,\n",
       " 3.7919,\n",
       " 3.6441,\n",
       " 6.0905]"
      ]
     },
     "execution_count": 11,
     "metadata": {},
     "output_type": "execute_result"
    }
   ],
   "execution_count": 11
  },
  {
   "metadata": {
    "ExecuteTime": {
     "end_time": "2024-10-08T14:31:36.020522Z",
     "start_time": "2024-10-08T14:31:36.016499Z"
    }
   },
   "cell_type": "code",
   "source": "posterior_mean_iqtree",
   "id": "59ad8fd34f7bbf11",
   "outputs": [
    {
     "data": {
      "text/plain": [
       "[8.1372,\n",
       " 8.0477,\n",
       " 7.696,\n",
       " 6.8432,\n",
       " 6.6728,\n",
       " 6.4344,\n",
       " 6.0764,\n",
       " 3.097,\n",
       " 4.6872,\n",
       " 3.5593,\n",
       " 3.1687,\n",
       " 2.4697,\n",
       " 1.6628,\n",
       " 1.1013,\n",
       " 0.476,\n",
       " 3.6625,\n",
       " 6.5443,\n",
       " 6.3823,\n",
       " 6.0338,\n",
       " 4.4715,\n",
       " 4.043,\n",
       " 3.8073,\n",
       " 6.371,\n",
       " 6.1208,\n",
       " 5.95,\n",
       " 5.6263,\n",
       " 5.2292,\n",
       " 5.105,\n",
       " 4.5095,\n",
       " 4.1387,\n",
       " 3.8144,\n",
       " 2.8503,\n",
       " 2.6326,\n",
       " 4.5582,\n",
       " 3.7963,\n",
       " 6.2692,\n",
       " 1.3062,\n",
       " 6.1491,\n",
       " 5.807,\n",
       " 5.2419,\n",
       " 4.9135,\n",
       " 3.778,\n",
       " 4.1842,\n",
       " 5.0608,\n",
       " 4.8987,\n",
       " 4.596,\n",
       " 3.5325,\n",
       " 4.393,\n",
       " 7.108,\n",
       " 5.5674,\n",
       " 3.7312,\n",
       " 2.9105,\n",
       " 5.4125]"
      ]
     },
     "execution_count": 12,
     "metadata": {},
     "output_type": "execute_result"
    }
   ],
   "execution_count": 12
  },
  {
   "metadata": {
    "ExecuteTime": {
     "end_time": "2024-10-08T14:31:36.392173Z",
     "start_time": "2024-10-08T14:31:36.212500Z"
    }
   },
   "cell_type": "code",
   "source": [
    "# Calculate error bars\n",
    "xerr = [np.array(lower_ci_baseml), \n",
    "        np.array(upper_ci_baseml)]\n",
    "yerr = [np.array(lower_ci_iqtree), \n",
    "        np.array(upper_ci_iqtree)]\n",
    "\n",
    "# Plotting\n",
    "fig, ax = plt.subplots(figsize=(9 ,9))\n",
    "ax.plot([-0.1,17], \n",
    "        [-0.1, 17], \n",
    "        'k--', label='y=x')\n",
    "ax.plot(posterior_mean_baseml, posterior_mean_iqtree, 'o', label='Posterior mean age')\n",
    " \n",
    "# Labels and title\n",
    "ax.set_xlabel('Posterior mean age LG [Mya]', fontsize=18)\n",
    "ax.set_ylabel('Posterior mean age LG+G4+C60 [Mya]', fontsize=18)\n",
    "ax.set_title('Posterior mean age comparison between LG and LG+G4 [t70 ~ B (3.5850,6.3610)]')\n",
    "ax.legend()\n",
    "\n",
    "# point_x = posterior_mean_baseml[0]  # Example: first point in the list\n",
    "# point_y = posterior_mean_iqtree[0]  # Example: first point in the list\n",
    "# ax.annotate('Root age', xy=(point_x, point_y), xytext=(point_x - 0.1, point_y - 0.1), color='red')\n",
    "# Show plot\n",
    "# plt.show()\n",
    "plt.savefig('./metazoa_posterior_mean_age_comparison_LG_G4_C60_c11_scatter.png')"
   ],
   "id": "592d0bb72aa1ad4c",
   "outputs": [
    {
     "data": {
      "text/plain": [
       "<Figure size 900x900 with 1 Axes>"
      ],
      "image/png": "[encoded data removed]"
     },
     "metadata": {},
     "output_type": "display_data"
    }
   ],
   "execution_count": 13
  },
  {
   "metadata": {
    "ExecuteTime": {
     "end_time": "2024-10-08T14:31:36.402359Z",
     "start_time": "2024-10-08T14:31:36.400309Z"
    }
   },
   "cell_type": "code",
   "source": [
    "# fig, ax = plt.subplots(figsize=(9 ,9))\n",
    "# ax.plot([0.01,0.04], \n",
    "#         [0.01, 0.04], \n",
    "#         'k--', label='y=x')\n",
    "# ax.plot(posterior_mean_mu_baseml, posterior_mean_mu_iqtree, 'o', label='Posterior mean rates for partitions')\n",
    "#  \n",
    "# # Labels and title\n",
    "# ax.set_xlabel('Posterior mean rate [LG]', fontsize=18)\n",
    "# ax.set_ylabel('Posterior mean rate [LG+G4]', fontsize=18)\n",
    "# ax.set_title('Posterior mean rate comparison between LG and LG+G4 [Cherry only calibration/IQ-TREE]')\n",
    "# ax.legend()\n",
    "# \n",
    "# # point_x = posterior_mean_baseml[0]  # Example: first point in the list\n",
    "# # point_y = posterior_mean_iqtree[0]  # Example: first point in the list\n",
    "# # ax.annotate('Root age', xy=(point_x, point_y), xytext=(point_x - 0.1, point_y - 0.1), color='red')\n",
    "# # Show plot\n",
    "# # plt.show()\n",
    "# plt.savefig('./animal_origin__posterior_mean_rate_comparison_LG_G4_all_scatter.png')"
   ],
   "id": "c6d69ee36c77970c",
   "outputs": [],
   "execution_count": 14
  },
  {
   "metadata": {
    "ExecuteTime": {
     "end_time": "2024-10-08T14:31:36.446746Z",
     "start_time": "2024-10-08T14:31:36.444835Z"
    }
   },
   "cell_type": "code",
   "source": "",
   "id": "ca69d5b521db3aa7",
   "outputs": [],
   "execution_count": null
  }
 ],
 "metadata": {
  "kernelspec": {
   "display_name": "Python 3",
   "language": "python",
   "name": "python3"
  },
  "language_info": {
   "codemirror_mode": {
    "name": "ipython",
    "version": 2
   },
   "file_extension": ".py",
   "mimetype": "text/x-python",
   "name": "python",
   "nbconvert_exporter": "python",
   "pygments_lexer": "ipython2",
   "version": "2.7.6"
  }
 },
 "nbformat": 4,
 "nbformat_minor": 5
}
