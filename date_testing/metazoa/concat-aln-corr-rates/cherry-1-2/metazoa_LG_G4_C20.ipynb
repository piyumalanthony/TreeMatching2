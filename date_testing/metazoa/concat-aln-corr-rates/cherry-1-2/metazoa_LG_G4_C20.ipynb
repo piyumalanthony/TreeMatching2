{
 "cells": [
  {
   "cell_type": "code",
   "id": "initial_id",
   "metadata": {
    "collapsed": true,
    "ExecuteTime": {
     "end_time": "2024-10-08T14:41:58.500167Z",
     "start_time": "2024-10-08T14:41:58.114051Z"
    }
   },
   "source": [
    "# Code to get all the Posterior mean (95% Equal-tail CI) (95% HPD CI) HPD-CI-width from ./xenarthra_mcmc_out.txt\n",
    "import numpy as np\n",
    "import pandas as pd\n",
    "import matplotlib.pyplot as plt\n",
    "\n",
    "\n",
    "# Read the file\n",
    "file = open(\"LG_G4_C20_c12_out.txt\", \"r\")\n",
    "lines = file.readlines()\n",
    "file.close()\n",
    "\n",
    "# Extract the data\n",
    "data = []\n",
    "mu_data = []\n",
    "var_data = []\n",
    "\n",
    "read_flag = False\n",
    "for line in lines:\n",
    "    if line.startswith(\"Posterior\"):\n",
    "        read_flag = True\n",
    "    if read_flag and line.startswith(\"t\"):\n",
    "        data.append(line)\n",
    "    if read_flag and line.startswith(\"mu\"):\n",
    "        mu_data.append(line)\n",
    "    if read_flag and line.startswith(\"sigma\"):\n",
    "        var_data.append(line)"
   ],
   "outputs": [],
   "execution_count": 1
  },
  {
   "metadata": {
    "ExecuteTime": {
     "end_time": "2024-10-08T14:41:58.513162Z",
     "start_time": "2024-10-08T14:41:58.508339Z"
    }
   },
   "cell_type": "code",
   "source": "data",
   "id": "54808ee54195795",
   "outputs": [
    {
     "data": {
      "text/plain": [
       "['t_n55         12.2856 ( 9.3075, 17.1403) ( 8.9110, 16.3852)  7.4742 (Jnode 106)\\n',\n",
       " 't_n56         11.9527 ( 9.1239, 16.6224) ( 8.7401, 15.9008)  7.1607 (Jnode 105)\\n',\n",
       " 't_n57         11.2580 ( 8.6415, 15.6446) ( 8.3009, 14.9770)  6.6760 (Jnode 104)\\n',\n",
       " 't_n58          9.6977 ( 7.5217, 13.4262) ( 7.2330, 12.8687)  5.6357 (Jnode 103)\\n',\n",
       " 't_n59          9.3861 ( 7.2905, 12.9855) ( 6.9937, 12.4237)  5.4300 (Jnode 102)\\n',\n",
       " 't_n60          8.9779 ( 6.9901, 12.4231) ( 6.6768, 11.8636)  5.1868 (Jnode 101)\\n',\n",
       " 't_n61          8.3865 ( 6.5454, 11.6198) ( 6.3342, 11.1549)  4.8208 (Jnode 100)\\n',\n",
       " 't_n62          4.2929 ( 2.4975,  6.2726) ( 2.4503,  6.1835)  3.7332 (Jnode 99)\\n',\n",
       " 't_n63          5.9867 ( 4.7662,  8.2918) ( 4.5912,  7.9002)  3.3090 (Jnode 98)\\n',\n",
       " 't_n64          4.4359 ( 3.3180,  6.2205) ( 3.1779,  6.0260)  2.8482 (Jnode 97)\\n',\n",
       " 't_n65          3.9126 ( 2.8670,  5.5577) ( 2.7137,  5.3348)  2.6211 (Jnode 96)\\n',\n",
       " 't_n66          3.0334 ( 2.1541,  4.3811) ( 2.0312,  4.1824)  2.1512 (Jnode 95)\\n',\n",
       " 't_n67          2.0331 ( 1.3993,  2.9912) ( 1.2917,  2.8372)  1.5455 (Jnode 94)\\n',\n",
       " 't_n68          1.3473 ( 0.9029,  2.0219) ( 0.8466,  1.9173)  1.0707 (Jnode 93)\\n',\n",
       " 't_n69          0.5747 ( 0.3666,  0.8999) ( 0.3385,  0.8448)  0.5063 (Jnode 92)\\n',\n",
       " 't_n70          4.2703 ( 3.6015,  5.8395) ( 3.5769,  5.5294)  1.9525 (Jnode 91)\\n',\n",
       " 't_n71          9.1533 ( 7.1209, 12.6898) ( 6.8659, 12.1610)  5.2951 (Jnode 90)\\n',\n",
       " 't_n72          8.7757 ( 6.8172, 12.1494) ( 6.6140, 11.7295)  5.1156 (Jnode 89)\\n',\n",
       " 't_n73          8.3392 ( 6.4918, 11.5376) ( 6.2974, 11.1044)  4.8070 (Jnode 88)\\n',\n",
       " 't_n74          5.9042 ( 4.4392,  8.3021) ( 4.3173,  8.0080)  3.6907 (Jnode 87)\\n',\n",
       " 't_n75          5.2905 ( 3.9262,  7.4682) ( 3.7435,  7.1300)  3.3864 (Jnode 86)\\n',\n",
       " 't_n76          4.8921 ( 3.6690,  6.9593) ( 3.6084,  6.8381)  3.2297 (Jnode 85)\\n',\n",
       " 't_n77          8.9114 ( 6.9295, 12.3335) ( 6.7216, 11.8746)  5.1530 (Jnode 84)\\n',\n",
       " 't_n78          8.4982 ( 6.6086, 11.7663) ( 6.3951, 11.3066)  4.9115 (Jnode 83)\\n',\n",
       " 't_n79          8.2317 ( 6.3960, 11.4003) ( 6.2031, 10.9828)  4.7797 (Jnode 82)\\n',\n",
       " 't_n80          7.7325 ( 5.9889, 10.7199) ( 5.7808, 10.2806)  4.4997 (Jnode 81)\\n',\n",
       " 't_n81          7.1511 ( 5.5125,  9.9528) ( 5.3260,  9.5296)  4.2036 (Jnode 80)\\n',\n",
       " 't_n82          6.9633 ( 5.3556,  9.7110) ( 5.1614,  9.2639)  4.1024 (Jnode 79)\\n',\n",
       " 't_n83          6.1398 ( 4.6497,  8.6573) ( 4.4476,  8.1804)  3.7328 (Jnode 78)\\n',\n",
       " 't_n84          5.6272 ( 4.2081,  8.0077) ( 4.0342,  7.5595)  3.5253 (Jnode 77)\\n',\n",
       " 't_n85          5.2019 ( 3.8464,  7.4620) ( 3.7023,  7.0643)  3.3620 (Jnode 76)\\n',\n",
       " 't_n86          4.0121 ( 2.7766,  5.9763) ( 2.6447,  5.6926)  3.0479 (Jnode 75)\\n',\n",
       " 't_n87          3.6990 ( 2.5132,  5.5687) ( 2.3838,  5.2974)  2.9136 (Jnode 74)\\n',\n",
       " 't_n88          6.1438 ( 4.7032,  8.5856) ( 4.5219,  8.2053)  3.6834 (Jnode 73)\\n',\n",
       " 't_n89          4.9787 ( 3.7758,  7.0368) ( 3.6299,  6.6595)  3.0296 (Jnode 72)\\n',\n",
       " 't_n90          8.7547 ( 6.8094, 12.1212) ( 6.6084, 11.6691)  5.0607 (Jnode 71)\\n',\n",
       " 't_n91          1.7975 ( 0.8578,  3.2254) ( 0.7429,  3.0009)  2.2580 (Jnode 70)\\n',\n",
       " 't_n92          8.5490 ( 6.6524, 11.8237) ( 6.4160, 11.3379)  4.9219 (Jnode 69)\\n',\n",
       " 't_n93          8.0015 ( 6.2340, 11.0544) ( 5.9672, 10.5660)  4.5988 (Jnode 68)\\n',\n",
       " 't_n94          7.1321 ( 5.5685,  9.8652) ( 5.3621,  9.4479)  4.0858 (Jnode 67)\\n',\n",
       " 't_n95          6.5949 ( 5.1494,  9.1230) ( 4.9838,  8.7702)  3.7864 (Jnode 66)\\n',\n",
       " 't_n96          4.8640 ( 3.7578,  6.8070) ( 3.6486,  6.5161)  2.8675 (Jnode 65)\\n',\n",
       " 't_n97          5.5155 ( 4.2428,  7.6759) ( 4.0840,  7.3658)  3.2818 (Jnode 64)\\n',\n",
       " 't_n98          6.8620 ( 5.3446,  9.4879) ( 5.1281,  9.0776)  3.9495 (Jnode 63)\\n',\n",
       " 't_n99          6.6139 ( 5.1521,  9.1505) ( 4.9851,  8.8041)  3.8190 (Jnode 62)\\n',\n",
       " 't_n100         6.1114 ( 4.7345,  8.4734) ( 4.6005,  8.1806)  3.5802 (Jnode 61)\\n',\n",
       " 't_n101         4.6532 ( 3.5644,  6.5038) ( 3.5472,  6.4770)  2.9297 (Jnode 60)\\n',\n",
       " 't_n102         5.8841 ( 4.3082,  8.3213) ( 4.1401,  8.0279)  3.8878 (Jnode 59)\\n',\n",
       " 't_n103        10.2336 ( 7.8811, 14.2234) ( 7.6125, 13.6238)  6.0113 (Jnode 58)\\n',\n",
       " 't_n104         7.7264 ( 5.8109, 10.8501) ( 5.5808, 10.4326)  4.8518 (Jnode 57)\\n',\n",
       " 't_n105         4.9129 ( 3.5701,  7.1204) ( 3.4758,  7.0144)  3.5387 (Jnode 56)\\n',\n",
       " 't_n106         4.3195 ( 2.0898,  6.5280) ( 1.9959,  6.4142)  4.4184 (Jnode 55)\\n',\n",
       " 't_n107         8.1552 ( 5.2501, 12.1637) ( 4.9478, 11.7597)  6.8119 (Jnode 54)\\n']"
      ]
     },
     "execution_count": 2,
     "metadata": {},
     "output_type": "execute_result"
    }
   ],
   "execution_count": 2
  },
  {
   "metadata": {
    "ExecuteTime": {
     "end_time": "2024-10-08T14:41:58.562176Z",
     "start_time": "2024-10-08T14:41:58.559282Z"
    }
   },
   "cell_type": "code",
   "source": [
    "node_name = []\n",
    "posterior_mean_iqtree = []\n",
    "posterior_mean_baseml = []\n",
    "\n",
    "posterior_mean_mu_iqtree = []\n",
    "posterior_mean_mu_baseml = []\n",
    "\n",
    "posterior_mean_var_iqtree = []\n",
    "posterior_mean_var_baseml = []\n",
    "\n",
    "lower_ci_iqtree = []\n",
    "upper_ci_iqtree = []\n",
    "\n",
    "lower_ci_mu_iqtree = []\n",
    "upper_ci_mu_iqtree = []\n",
    "\n",
    "lower_ci_var_iqtree = []\n",
    "upper_ci_var_iqtree = []\n",
    "\n",
    "# Credible intervals for McmcDate\n",
    "lower_ci_baseml = []\n",
    "upper_ci_baseml = []\n",
    "\n",
    "lower_ci_mu_baseml = []\n",
    "upper_ci_mu_baseml = []\n",
    "\n",
    "lower_ci_var_baseml = []\n",
    "upper_ci_var_baseml = []"
   ],
   "id": "e5cf93a69d327e61",
   "outputs": [],
   "execution_count": 3
  },
  {
   "metadata": {
    "ExecuteTime": {
     "end_time": "2024-10-08T14:41:58.611298Z",
     "start_time": "2024-10-08T14:41:58.606637Z"
    }
   },
   "cell_type": "code",
   "source": [
    "for line in data:\n",
    "    line = line.strip().split()\n",
    "    node_name.append(line[0])\n",
    "    posterior_mean_iqtree.append(float(line[1]))\n",
    "#     if line[3].startswith('('):\n",
    "#         lower_ci_iqtree.append(float(line[3][1:-1]))\n",
    "#     else:\n",
    "#         lower_ci_iqtree.append(float(line[3][1:-1]))\n",
    "#     if line[4].startswith('('):\n",
    "#         upper_ci_iqtree.append(float(line[4][1:-1]))\n",
    "#     else:\n",
    "#         upper_ci_iqtree.append(float(line[4][:-1]))\n",
    "#     # posterior_mean_baseml.append(float(line[4]))\n",
    "#     # lower_ci_baseml.append(float(line[5]))\n",
    "#     # upper_ci_baseml.append(float(line[6]))\n",
    "# \n",
    "# for line in mu_data:\n",
    "#     line = line.strip().split()\n",
    "#     # node_name.append(line[0])\n",
    "#     posterior_mean_mu_iqtree.append(float(line[1]))\n",
    "#     lower_ci_mu_iqtree.append(float(line[3][:-1]))\n",
    "#     upper_ci_mu_iqtree.append(float(line[4][:-1]))\n",
    "#\n",
    "# for line in var_data:\n",
    "#     line = line.strip().split()\n",
    "#     # node_name.append(line[0])\n",
    "#     posterior_mean_var_iqtree.append(float(line[1]))\n",
    "#     lower_ci_var_iqtree.append(float(line[3][:-1]))\n",
    "#     upper_ci_var_iqtree.append(float(line[4][:-1]))"
   ],
   "id": "4e79ee928ea76b59",
   "outputs": [],
   "execution_count": 4
  },
  {
   "metadata": {
    "ExecuteTime": {
     "end_time": "2024-10-08T14:41:58.666552Z",
     "start_time": "2024-10-08T14:41:58.662087Z"
    }
   },
   "cell_type": "code",
   "source": "node_name",
   "id": "2c17f55ec9626a0b",
   "outputs": [
    {
     "data": {
      "text/plain": [
       "['t_n55',\n",
       " 't_n56',\n",
       " 't_n57',\n",
       " 't_n58',\n",
       " 't_n59',\n",
       " 't_n60',\n",
       " 't_n61',\n",
       " 't_n62',\n",
       " 't_n63',\n",
       " 't_n64',\n",
       " 't_n65',\n",
       " 't_n66',\n",
       " 't_n67',\n",
       " 't_n68',\n",
       " 't_n69',\n",
       " 't_n70',\n",
       " 't_n71',\n",
       " 't_n72',\n",
       " 't_n73',\n",
       " 't_n74',\n",
       " 't_n75',\n",
       " 't_n76',\n",
       " 't_n77',\n",
       " 't_n78',\n",
       " 't_n79',\n",
       " 't_n80',\n",
       " 't_n81',\n",
       " 't_n82',\n",
       " 't_n83',\n",
       " 't_n84',\n",
       " 't_n85',\n",
       " 't_n86',\n",
       " 't_n87',\n",
       " 't_n88',\n",
       " 't_n89',\n",
       " 't_n90',\n",
       " 't_n91',\n",
       " 't_n92',\n",
       " 't_n93',\n",
       " 't_n94',\n",
       " 't_n95',\n",
       " 't_n96',\n",
       " 't_n97',\n",
       " 't_n98',\n",
       " 't_n99',\n",
       " 't_n100',\n",
       " 't_n101',\n",
       " 't_n102',\n",
       " 't_n103',\n",
       " 't_n104',\n",
       " 't_n105',\n",
       " 't_n106',\n",
       " 't_n107']"
      ]
     },
     "execution_count": 5,
     "metadata": {},
     "output_type": "execute_result"
    }
   ],
   "execution_count": 5
  },
  {
   "metadata": {
    "ExecuteTime": {
     "end_time": "2024-10-08T14:41:58.721929Z",
     "start_time": "2024-10-08T14:41:58.718315Z"
    }
   },
   "cell_type": "code",
   "source": "posterior_mean_iqtree",
   "id": "24a55c806a41f33e",
   "outputs": [
    {
     "data": {
      "text/plain": [
       "[12.2856,\n",
       " 11.9527,\n",
       " 11.258,\n",
       " 9.6977,\n",
       " 9.3861,\n",
       " 8.9779,\n",
       " 8.3865,\n",
       " 4.2929,\n",
       " 5.9867,\n",
       " 4.4359,\n",
       " 3.9126,\n",
       " 3.0334,\n",
       " 2.0331,\n",
       " 1.3473,\n",
       " 0.5747,\n",
       " 4.2703,\n",
       " 9.1533,\n",
       " 8.7757,\n",
       " 8.3392,\n",
       " 5.9042,\n",
       " 5.2905,\n",
       " 4.8921,\n",
       " 8.9114,\n",
       " 8.4982,\n",
       " 8.2317,\n",
       " 7.7325,\n",
       " 7.1511,\n",
       " 6.9633,\n",
       " 6.1398,\n",
       " 5.6272,\n",
       " 5.2019,\n",
       " 4.0121,\n",
       " 3.699,\n",
       " 6.1438,\n",
       " 4.9787,\n",
       " 8.7547,\n",
       " 1.7975,\n",
       " 8.549,\n",
       " 8.0015,\n",
       " 7.1321,\n",
       " 6.5949,\n",
       " 4.864,\n",
       " 5.5155,\n",
       " 6.862,\n",
       " 6.6139,\n",
       " 6.1114,\n",
       " 4.6532,\n",
       " 5.8841,\n",
       " 10.2336,\n",
       " 7.7264,\n",
       " 4.9129,\n",
       " 4.3195,\n",
       " 8.1552]"
      ]
     },
     "execution_count": 6,
     "metadata": {},
     "output_type": "execute_result"
    }
   ],
   "execution_count": 6
  },
  {
   "metadata": {
    "ExecuteTime": {
     "end_time": "2024-10-08T14:41:58.776084Z",
     "start_time": "2024-10-08T14:41:58.772855Z"
    }
   },
   "cell_type": "code",
   "source": "lower_ci_iqtree",
   "id": "388aa27ad336d43f",
   "outputs": [
    {
     "data": {
      "text/plain": [
       "[]"
      ]
     },
     "execution_count": 7,
     "metadata": {},
     "output_type": "execute_result"
    }
   ],
   "execution_count": 7
  },
  {
   "metadata": {
    "ExecuteTime": {
     "end_time": "2024-10-08T14:41:58.828810Z",
     "start_time": "2024-10-08T14:41:58.826028Z"
    }
   },
   "cell_type": "code",
   "source": "upper_ci_iqtree",
   "id": "816e569fb763e797",
   "outputs": [
    {
     "data": {
      "text/plain": [
       "[]"
      ]
     },
     "execution_count": 8,
     "metadata": {},
     "output_type": "execute_result"
    }
   ],
   "execution_count": 8
  },
  {
   "metadata": {
    "ExecuteTime": {
     "end_time": "2024-10-08T14:41:58.888364Z",
     "start_time": "2024-10-08T14:41:58.881673Z"
    }
   },
   "cell_type": "code",
   "source": [
    "file_LG = open(\"LG_c12_out.txt\", \"r\")\n",
    "lines1 = file_LG.readlines()\n",
    "file_LG.close()\n",
    "\n",
    "# Extract the data\n",
    "data1 = []\n",
    "mu_data1 = []\n",
    "var_data1 = []\n",
    "\n",
    "read_flag = False\n",
    "for line in lines1:\n",
    "    if line.startswith(\"Posterior\"):\n",
    "        read_flag = True\n",
    "    if read_flag and line.startswith(\"t\"):\n",
    "        data1.append(line)\n",
    "    if read_flag and line.startswith(\"mu\"):\n",
    "        mu_data1.append(line)\n",
    "    if read_flag and line.startswith(\"sigma\"):\n",
    "        var_data1.append(line)\n",
    "\n",
    "        \n",
    "for line in data1:\n",
    "    line = line.strip().split()\n",
    "    # node_name.append(line[0])\n",
    "    posterior_mean_baseml.append(float(line[1]))\n",
    "#     if line[3].startswith('('):\n",
    "#         lower_ci_baseml.append(float(line[3][1:-1]))\n",
    "#     else:\n",
    "#          lower_ci_baseml.append(float(line[3][:-1]))\n",
    "#     if line[4].startswith('('):\n",
    "#         upper_ci_baseml.append(float(line[4][1:-1]))\n",
    "#     else:\n",
    "#          upper_ci_baseml.append(float(line[4][:-1]))\n",
    "#         \n",
    "#     \n",
    "# for line in mu_data1:\n",
    "#     line = line.strip().split()\n",
    "#     # node_name.append(line[0])\n",
    "#     posterior_mean_mu_baseml.append(float(line[1]))\n",
    "#     lower_ci_mu_baseml.append(float(line[3][:-1]))\n",
    "#     upper_ci_mu_baseml.append(float(line[4][:-1]))\n",
    "    \n",
    "# for line in var_data1:\n",
    "#     line = line.strip().split()\n",
    "#     # node_name.append(line[0])\n",
    "#     posterior_mean_var_baseml.append(float(line[1]))\n",
    "#     lower_ci_var_baseml.append(float(line[3][:-1]))\n",
    "#     upper_ci_var_baseml.append(float(line[4][:-1]))"
   ],
   "id": "f75c012c6bef60a2",
   "outputs": [],
   "execution_count": 9
  },
  {
   "metadata": {
    "ExecuteTime": {
     "end_time": "2024-10-08T14:41:58.938060Z",
     "start_time": "2024-10-08T14:41:58.933037Z"
    }
   },
   "cell_type": "code",
   "source": [
    "import matplotlib.pyplot as plt\n",
    "import numpy as np\n",
    "\n",
    "# # Example data\n",
    "# # Posterior means for MCMCtree (x-axis) and McmcDate (y-axis)\n",
    "# posterior_mean_mcmctree = [100, 200, 300, 400, 500, 600, 700, 800, 900, 1000]\n",
    "# posterior_mean_mcmcdate = [110, 210, 310, 410, 510, 610, 710, 810, 910, 1010]\n",
    "# \n",
    "# # Credible intervals for MCMCtree\n",
    "# lower_ci_mcmctree = [90, 180, 270, 360, 450, 540, 630, 720, 810, 900]\n",
    "# upper_ci_mcmctree = [110, 220, 330, 440, 550, 660, 770, 880, 990, 1100]\n",
    "# \n",
    "# # Credible intervals for McmcDate\n",
    "# lower_ci_mcmcdate = [100, 200, 300, 400, 500, 600, 700, 800, 900, 1000]\n",
    "# upper_ci_mcmcdate = [120, 220, 320, 420, 520, 620, 720, 820, 920, 1020]\n",
    "\n",
    "# Calculate error bars\n",
    "# xerr = [np.array(lower_ci_baseml), \n",
    "#         np.array(upper_ci_baseml)]\n",
    "# yerr = [np.array(lower_ci_iqtree), \n",
    "#         np.array(upper_ci_iqtree)]\n",
    "# \n",
    "# # Plotting\n",
    "# fig, ax = plt.subplots(figsize=(15, 15))\n",
    "# ax.plot([-0.1,90], \n",
    "#         [-0.1, 90], \n",
    "#         'k--', label='y=x')\n",
    "# ax.errorbar(posterior_mean_baseml, posterior_mean_iqtree, \n",
    "#             xerr=xerr, yerr=yerr, fmt='*', ecolor='r', capsize=3, label='95% HPD CI')\n",
    "# \n",
    "# # Labels and title\n",
    "# ax.set_xlabel('Posterior mean age LG [100 Mya]', fontsize=18)\n",
    "# ax.set_ylabel('Posterior mean age LG+G4 [100 Mya]', fontsize=18)\n",
    "# ax.set_title('Posterior mean age comparison between LG and LG+G4 models [t116 ~ B(1.25,2.482)]')\n",
    "# ax.legend()\n",
    "# \n",
    "# # Show plot\n",
    "# # plt.show()\n",
    "# plt.savefig('./animal_origin_posterior_mean_age_comparison_LG_G4_c11.png')"
   ],
   "id": "12db486fa4fac82c",
   "outputs": [],
   "execution_count": 10
  },
  {
   "metadata": {
    "ExecuteTime": {
     "end_time": "2024-10-08T14:41:58.988141Z",
     "start_time": "2024-10-08T14:41:58.984302Z"
    }
   },
   "cell_type": "code",
   "source": "posterior_mean_baseml",
   "id": "917b2e31cff4b992",
   "outputs": [
    {
     "data": {
      "text/plain": [
       "[14.0783,\n",
       " 13.698,\n",
       " 12.2295,\n",
       " 10.3244,\n",
       " 9.7724,\n",
       " 9.1125,\n",
       " 8.1834,\n",
       " 4.3892,\n",
       " 5.8578,\n",
       " 4.2587,\n",
       " 3.5962,\n",
       " 2.6985,\n",
       " 1.7797,\n",
       " 1.1745,\n",
       " 0.5007,\n",
       " 4.1981,\n",
       " 9.2075,\n",
       " 7.5331,\n",
       " 8.1561,\n",
       " 5.8391,\n",
       " 4.9587,\n",
       " 4.8774,\n",
       " 9.275,\n",
       " 8.6121,\n",
       " 8.1564,\n",
       " 7.5918,\n",
       " 6.8935,\n",
       " 6.5357,\n",
       " 5.598,\n",
       " 4.97,\n",
       " 4.387,\n",
       " 3.2787,\n",
       " 2.7854,\n",
       " 5.808,\n",
       " 4.5801,\n",
       " 8.9384,\n",
       " 2.3536,\n",
       " 8.5683,\n",
       " 7.8384,\n",
       " 6.8007,\n",
       " 6.105,\n",
       " 4.4976,\n",
       " 4.7786,\n",
       " 6.5895,\n",
       " 6.0178,\n",
       " 5.1061,\n",
       " 4.5122,\n",
       " 5.6514,\n",
       " 10.8098,\n",
       " 8.0797,\n",
       " 5.0143,\n",
       " 4.8217,\n",
       " 10.0612]"
      ]
     },
     "execution_count": 11,
     "metadata": {},
     "output_type": "execute_result"
    }
   ],
   "execution_count": 11
  },
  {
   "metadata": {
    "ExecuteTime": {
     "end_time": "2024-10-08T14:41:59.050513Z",
     "start_time": "2024-10-08T14:41:59.046640Z"
    }
   },
   "cell_type": "code",
   "source": "posterior_mean_iqtree",
   "id": "59ad8fd34f7bbf11",
   "outputs": [
    {
     "data": {
      "text/plain": [
       "[12.2856,\n",
       " 11.9527,\n",
       " 11.258,\n",
       " 9.6977,\n",
       " 9.3861,\n",
       " 8.9779,\n",
       " 8.3865,\n",
       " 4.2929,\n",
       " 5.9867,\n",
       " 4.4359,\n",
       " 3.9126,\n",
       " 3.0334,\n",
       " 2.0331,\n",
       " 1.3473,\n",
       " 0.5747,\n",
       " 4.2703,\n",
       " 9.1533,\n",
       " 8.7757,\n",
       " 8.3392,\n",
       " 5.9042,\n",
       " 5.2905,\n",
       " 4.8921,\n",
       " 8.9114,\n",
       " 8.4982,\n",
       " 8.2317,\n",
       " 7.7325,\n",
       " 7.1511,\n",
       " 6.9633,\n",
       " 6.1398,\n",
       " 5.6272,\n",
       " 5.2019,\n",
       " 4.0121,\n",
       " 3.699,\n",
       " 6.1438,\n",
       " 4.9787,\n",
       " 8.7547,\n",
       " 1.7975,\n",
       " 8.549,\n",
       " 8.0015,\n",
       " 7.1321,\n",
       " 6.5949,\n",
       " 4.864,\n",
       " 5.5155,\n",
       " 6.862,\n",
       " 6.6139,\n",
       " 6.1114,\n",
       " 4.6532,\n",
       " 5.8841,\n",
       " 10.2336,\n",
       " 7.7264,\n",
       " 4.9129,\n",
       " 4.3195,\n",
       " 8.1552]"
      ]
     },
     "execution_count": 12,
     "metadata": {},
     "output_type": "execute_result"
    }
   ],
   "execution_count": 12
  },
  {
   "metadata": {
    "ExecuteTime": {
     "end_time": "2024-10-08T14:41:59.393679Z",
     "start_time": "2024-10-08T14:41:59.221626Z"
    }
   },
   "cell_type": "code",
   "source": [
    "# Calculate error bars\n",
    "xerr = [np.array(lower_ci_baseml), \n",
    "        np.array(upper_ci_baseml)]\n",
    "yerr = [np.array(lower_ci_iqtree), \n",
    "        np.array(upper_ci_iqtree)]\n",
    "\n",
    "# Plotting\n",
    "fig, ax = plt.subplots(figsize=(9 ,9))\n",
    "ax.plot([-0.1,17], \n",
    "        [-0.1, 17], \n",
    "        'k--', label='y=x')\n",
    "ax.plot(posterior_mean_baseml, posterior_mean_iqtree, 'o', label='Posterior mean age')\n",
    " \n",
    "# Labels and title\n",
    "ax.set_xlabel('Posterior mean age LG [Mya]', fontsize=18)\n",
    "ax.set_ylabel('Posterior mean age LG+G4+C20 [Mya]', fontsize=18)\n",
    "ax.set_title('Posterior mean age comparison between LG and LG+G4 [t70 ~ B (3.5850,6.3610)]')\n",
    "ax.legend()\n",
    "\n",
    "# point_x = posterior_mean_baseml[0]  # Example: first point in the list\n",
    "# point_y = posterior_mean_iqtree[0]  # Example: first point in the list\n",
    "# ax.annotate('Root age', xy=(point_x, point_y), xytext=(point_x - 0.1, point_y - 0.1), color='red')\n",
    "# Show plot\n",
    "# plt.show()\n",
    "plt.savefig('metazoa_posterior_mean_age_comparison_LG_G4_C20_c12_scatter.png')"
   ],
   "id": "592d0bb72aa1ad4c",
   "outputs": [
    {
     "data": {
      "text/plain": [
       "<Figure size 900x900 with 1 Axes>"
      ],
      "image/png": "[encoded data removed]"
     },
     "metadata": {},
     "output_type": "display_data"
    }
   ],
   "execution_count": 13
  },
  {
   "metadata": {
    "ExecuteTime": {
     "end_time": "2024-10-08T14:41:59.410623Z",
     "start_time": "2024-10-08T14:41:59.408151Z"
    }
   },
   "cell_type": "code",
   "source": [
    "# fig, ax = plt.subplots(figsize=(9 ,9))\n",
    "# ax.plot([0.01,0.04], \n",
    "#         [0.01, 0.04], \n",
    "#         'k--', label='y=x')\n",
    "# ax.plot(posterior_mean_mu_baseml, posterior_mean_mu_iqtree, 'o', label='Posterior mean rates for partitions')\n",
    "#  \n",
    "# # Labels and title\n",
    "# ax.set_xlabel('Posterior mean rate [LG]', fontsize=18)\n",
    "# ax.set_ylabel('Posterior mean rate [LG+G4]', fontsize=18)\n",
    "# ax.set_title('Posterior mean rate comparison between LG and LG+G4 [Cherry only calibration/IQ-TREE]')\n",
    "# ax.legend()\n",
    "# \n",
    "# # point_x = posterior_mean_baseml[0]  # Example: first point in the list\n",
    "# # point_y = posterior_mean_iqtree[0]  # Example: first point in the list\n",
    "# # ax.annotate('Root age', xy=(point_x, point_y), xytext=(point_x - 0.1, point_y - 0.1), color='red')\n",
    "# # Show plot\n",
    "# # plt.show()\n",
    "# plt.savefig('./animal_origin__posterior_mean_rate_comparison_LG_G4_all_scatter.png')"
   ],
   "id": "c6d69ee36c77970c",
   "outputs": [],
   "execution_count": 14
  },
  {
   "metadata": {
    "ExecuteTime": {
     "end_time": "2024-10-08T14:41:59.455947Z",
     "start_time": "2024-10-08T14:41:59.453863Z"
    }
   },
   "cell_type": "code",
   "source": "",
   "id": "ca69d5b521db3aa7",
   "outputs": [],
   "execution_count": null
  }
 ],
 "metadata": {
  "kernelspec": {
   "display_name": "Python 3",
   "language": "python",
   "name": "python3"
  },
  "language_info": {
   "codemirror_mode": {
    "name": "ipython",
    "version": 2
   },
   "file_extension": ".py",
   "mimetype": "text/x-python",
   "name": "python",
   "nbconvert_exporter": "python",
   "pygments_lexer": "ipython2",
   "version": "2.7.6"
  }
 },
 "nbformat": 4,
 "nbformat_minor": 5
}
