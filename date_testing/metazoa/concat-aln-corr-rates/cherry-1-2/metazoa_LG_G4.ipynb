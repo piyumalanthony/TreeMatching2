{
 "cells": [
  {
   "cell_type": "code",
   "id": "initial_id",
   "metadata": {
    "collapsed": true,
    "ExecuteTime": {
     "end_time": "2024-10-08T14:40:59.078090Z",
     "start_time": "2024-10-08T14:40:58.722293Z"
    }
   },
   "source": [
    "# Code to get all the Posterior mean (95% Equal-tail CI) (95% HPD CI) HPD-CI-width from ./xenarthra_mcmc_out.txt\n",
    "import numpy as np\n",
    "import pandas as pd\n",
    "import matplotlib.pyplot as plt\n",
    "\n",
    "\n",
    "# Read the file\n",
    "file = open(\"LG_G4_c12_out.txt\", \"r\")\n",
    "lines = file.readlines()\n",
    "file.close()\n",
    "\n",
    "# Extract the data\n",
    "data = []\n",
    "mu_data = []\n",
    "var_data = []\n",
    "\n",
    "read_flag = False\n",
    "for line in lines:\n",
    "    if line.startswith(\"Posterior\"):\n",
    "        read_flag = True\n",
    "    if read_flag and line.startswith(\"t\"):\n",
    "        data.append(line)\n",
    "    if read_flag and line.startswith(\"mu\"):\n",
    "        mu_data.append(line)\n",
    "    if read_flag and line.startswith(\"sigma\"):\n",
    "        var_data.append(line)"
   ],
   "outputs": [],
   "execution_count": 1
  },
  {
   "metadata": {
    "ExecuteTime": {
     "end_time": "2024-10-08T14:40:59.091097Z",
     "start_time": "2024-10-08T14:40:59.086251Z"
    }
   },
   "cell_type": "code",
   "source": "data",
   "id": "54808ee54195795",
   "outputs": [
    {
     "data": {
      "text/plain": [
       "['t_n55         12.9107 (10.1184, 17.7400) ( 9.7746, 17.0085)  7.2338 (Jnode 106)\\n',\n",
       " 't_n56         12.5591 ( 9.9248, 17.2500) ( 9.6172, 16.5259)  6.9087 (Jnode 105)\\n',\n",
       " 't_n57         11.5514 ( 9.2020, 15.8251) ( 8.8887, 15.1551)  6.2664 (Jnode 104)\\n',\n",
       " 't_n58          9.7996 ( 7.9043, 13.3599) ( 7.6364, 12.8087)  5.1723 (Jnode 103)\\n',\n",
       " 't_n59          9.3981 ( 7.5917, 12.8085) ( 7.3389, 12.2809)  4.9420 (Jnode 102)\\n',\n",
       " 't_n60          8.9167 ( 7.2132, 12.1467) ( 6.9602, 11.6282)  4.6680 (Jnode 101)\\n',\n",
       " 't_n61          8.1739 ( 6.6255, 11.1475) ( 6.4220, 10.6978)  4.2758 (Jnode 100)\\n',\n",
       " 't_n62          4.3100 ( 2.7696,  6.1415) ( 2.6868,  6.0114)  3.3246 (Jnode 99)\\n',\n",
       " 't_n63          5.8777 ( 4.8096,  8.0338) ( 4.6490,  7.6430)  2.9940 (Jnode 98)\\n',\n",
       " 't_n64          4.3449 ( 3.3903,  6.0017) ( 3.2742,  5.7814)  2.5072 (Jnode 97)\\n',\n",
       " 't_n65          3.7661 ( 2.8868,  5.2355) ( 2.7876,  5.0583)  2.2708 (Jnode 96)\\n',\n",
       " 't_n66          2.8961 ( 2.1667,  4.0861) ( 2.0814,  3.9338)  1.8524 (Jnode 95)\\n',\n",
       " 't_n67          1.9410 ( 1.3986,  2.7854) ( 1.3344,  2.6675)  1.3331 (Jnode 94)\\n',\n",
       " 't_n68          1.2773 ( 0.8984,  1.8528) ( 0.8419,  1.7638)  0.9219 (Jnode 93)\\n',\n",
       " 't_n69          0.5487 ( 0.3690,  0.8230) ( 0.3481,  0.7859)  0.4378 (Jnode 92)\\n',\n",
       " 't_n70          4.2333 ( 3.6002,  5.7514) ( 3.5782,  5.4352)  1.8570 (Jnode 91)\\n',\n",
       " 't_n71          9.0341 ( 7.3003, 12.2991) ( 7.0174, 11.7627)  4.7453 (Jnode 90)\\n',\n",
       " 't_n72          7.9935 ( 6.4236, 10.9282) ( 6.1944, 10.4613)  4.2668 (Jnode 89)\\n',\n",
       " 't_n73          8.1156 ( 6.5543, 11.0755) ( 6.3535, 10.6294)  4.2759 (Jnode 88)\\n',\n",
       " 't_n74          5.7873 ( 4.4981,  8.0263) ( 4.3465,  7.6577)  3.3112 (Jnode 87)\\n',\n",
       " 't_n75          5.0408 ( 3.8584,  7.0244) ( 3.6871,  6.6804)  2.9933 (Jnode 86)\\n',\n",
       " 't_n76          4.8173 ( 3.6957,  6.7377) ( 3.5953,  6.5431)  2.9478 (Jnode 85)\\n',\n",
       " 't_n77          8.8606 ( 7.1707, 12.0808) ( 6.9341, 11.5638)  4.6297 (Jnode 84)\\n',\n",
       " 't_n78          8.3293 ( 6.7460, 11.3716) ( 6.5512, 10.8796)  4.3284 (Jnode 83)\\n',\n",
       " 't_n79          7.9649 ( 6.4487, 10.8541) ( 6.2290, 10.3556)  4.1266 (Jnode 82)\\n',\n",
       " 't_n80          7.4927 ( 6.0676, 10.2393) ( 5.8824,  9.7558)  3.8734 (Jnode 81)\\n',\n",
       " 't_n81          6.8406 ( 5.5441,  9.3494) ( 5.3940,  8.9218)  3.5278 (Jnode 80)\\n',\n",
       " 't_n82          6.5742 ( 5.3278,  8.9957) ( 5.1748,  8.5762)  3.4014 (Jnode 79)\\n',\n",
       " 't_n83          5.6779 ( 4.5825,  7.8016) ( 4.4646,  7.4584)  2.9938 (Jnode 78)\\n',\n",
       " 't_n84          5.1394 ( 4.1325,  7.0791) ( 3.9995,  6.7383)  2.7387 (Jnode 77)\\n',\n",
       " 't_n85          4.6354 ( 3.7068,  6.4217) ( 3.6097,  6.1241)  2.5144 (Jnode 76)\\n',\n",
       " 't_n86          3.4994 ( 2.6935,  4.9507) ( 2.5759,  4.7302)  2.1543 (Jnode 75)\\n',\n",
       " 't_n87          3.0946 ( 2.3449,  4.4364) ( 2.2436,  4.2265)  1.9829 (Jnode 74)\\n',\n",
       " 't_n88          5.8291 ( 4.7072,  7.9775) ( 4.5599,  7.6161)  3.0562 (Jnode 73)\\n',\n",
       " 't_n89          4.6539 ( 3.7196,  6.4176) ( 3.6200,  6.1168)  2.4967 (Jnode 72)\\n',\n",
       " 't_n90          8.6270 ( 6.9897, 11.7749) ( 6.7583, 11.2587)  4.5003 (Jnode 71)\\n',\n",
       " 't_n91          2.0241 ( 1.0816,  3.3912) ( 1.0092,  3.2526)  2.2434 (Jnode 70)\\n',\n",
       " 't_n92          8.3597 ( 6.7774, 11.4100) ( 6.5165, 10.8575)  4.3410 (Jnode 69)\\n',\n",
       " 't_n93          7.7280 ( 6.2709, 10.5493) ( 6.0457, 10.0579)  4.0123 (Jnode 68)\\n',\n",
       " 't_n94          6.8012 ( 5.5100,  9.2942) ( 5.3036,  8.8663)  3.5627 (Jnode 67)\\n',\n",
       " 't_n95          6.2086 ( 5.0196,  8.4827) ( 4.8266,  8.0888)  3.2622 (Jnode 66)\\n',\n",
       " 't_n96          4.5995 ( 3.6833,  6.3262) ( 3.5932,  6.0725)  2.4792 (Jnode 65)\\n',\n",
       " 't_n97          5.0259 ( 3.9889,  6.9177) ( 3.8056,  6.5677)  2.7621 (Jnode 64)\\n',\n",
       " 't_n98          6.5752 ( 5.3167,  8.9863) ( 5.1280,  8.6176)  3.4896 (Jnode 63)\\n',\n",
       " 't_n99          6.2032 ( 4.9983,  8.4858) ( 4.8104,  8.1332)  3.3227 (Jnode 62)\\n',\n",
       " 't_n100         5.5096 ( 4.3813,  7.5575) ( 4.2491,  7.2691)  3.0200 (Jnode 61)\\n',\n",
       " 't_n101         4.5238 ( 3.5567,  6.2538) ( 3.4348,  6.1069)  2.6722 (Jnode 60)\\n',\n",
       " 't_n102         5.5223 ( 4.1697,  7.7247) ( 3.9983,  7.4178)  3.4195 (Jnode 59)\\n',\n",
       " 't_n103        10.4075 ( 8.3056, 14.2362) ( 8.0261, 13.6628)  5.6367 (Jnode 58)\\n',\n",
       " 't_n104         7.8745 ( 6.1109, 10.8591) ( 5.8568, 10.4343)  4.5775 (Jnode 57)\\n',\n",
       " 't_n105         4.9903 ( 3.7413,  7.1230) ( 3.6252,  6.8512)  3.2260 (Jnode 56)\\n',\n",
       " 't_n106         4.5868 ( 2.7311,  6.6089) ( 2.6600,  6.5148)  3.8548 (Jnode 55)\\n',\n",
       " 't_n107         8.9980 ( 6.1477, 13.0040) ( 5.9262, 12.6614)  6.7352 (Jnode 54)\\n']"
      ]
     },
     "execution_count": 2,
     "metadata": {},
     "output_type": "execute_result"
    }
   ],
   "execution_count": 2
  },
  {
   "metadata": {
    "ExecuteTime": {
     "end_time": "2024-10-08T14:40:59.141572Z",
     "start_time": "2024-10-08T14:40:59.138506Z"
    }
   },
   "cell_type": "code",
   "source": [
    "node_name = []\n",
    "posterior_mean_iqtree = []\n",
    "posterior_mean_baseml = []\n",
    "\n",
    "posterior_mean_mu_iqtree = []\n",
    "posterior_mean_mu_baseml = []\n",
    "\n",
    "posterior_mean_var_iqtree = []\n",
    "posterior_mean_var_baseml = []\n",
    "\n",
    "lower_ci_iqtree = []\n",
    "upper_ci_iqtree = []\n",
    "\n",
    "lower_ci_mu_iqtree = []\n",
    "upper_ci_mu_iqtree = []\n",
    "\n",
    "lower_ci_var_iqtree = []\n",
    "upper_ci_var_iqtree = []\n",
    "\n",
    "# Credible intervals for McmcDate\n",
    "lower_ci_baseml = []\n",
    "upper_ci_baseml = []\n",
    "\n",
    "lower_ci_mu_baseml = []\n",
    "upper_ci_mu_baseml = []\n",
    "\n",
    "lower_ci_var_baseml = []\n",
    "upper_ci_var_baseml = []"
   ],
   "id": "e5cf93a69d327e61",
   "outputs": [],
   "execution_count": 3
  },
  {
   "metadata": {
    "ExecuteTime": {
     "end_time": "2024-10-08T14:40:59.193657Z",
     "start_time": "2024-10-08T14:40:59.189274Z"
    }
   },
   "cell_type": "code",
   "source": [
    "for line in data:\n",
    "    line = line.strip().split()\n",
    "    node_name.append(line[0])\n",
    "    posterior_mean_iqtree.append(float(line[1]))\n",
    "#     if line[3].startswith('('):\n",
    "#         lower_ci_iqtree.append(float(line[3][1:-1]))\n",
    "#     else:\n",
    "#         lower_ci_iqtree.append(float(line[3][1:-1]))\n",
    "#     if line[4].startswith('('):\n",
    "#         upper_ci_iqtree.append(float(line[4][1:-1]))\n",
    "#     else:\n",
    "#         upper_ci_iqtree.append(float(line[4][:-1]))\n",
    "#     # posterior_mean_baseml.append(float(line[4]))\n",
    "#     # lower_ci_baseml.append(float(line[5]))\n",
    "#     # upper_ci_baseml.append(float(line[6]))\n",
    "# \n",
    "# for line in mu_data:\n",
    "#     line = line.strip().split()\n",
    "#     # node_name.append(line[0])\n",
    "#     posterior_mean_mu_iqtree.append(float(line[1]))\n",
    "#     lower_ci_mu_iqtree.append(float(line[3][:-1]))\n",
    "#     upper_ci_mu_iqtree.append(float(line[4][:-1]))\n",
    "#\n",
    "# for line in var_data:\n",
    "#     line = line.strip().split()\n",
    "#     # node_name.append(line[0])\n",
    "#     posterior_mean_var_iqtree.append(float(line[1]))\n",
    "#     lower_ci_var_iqtree.append(float(line[3][:-1]))\n",
    "#     upper_ci_var_iqtree.append(float(line[4][:-1]))"
   ],
   "id": "4e79ee928ea76b59",
   "outputs": [],
   "execution_count": 4
  },
  {
   "metadata": {
    "ExecuteTime": {
     "end_time": "2024-10-08T14:40:59.253856Z",
     "start_time": "2024-10-08T14:40:59.249791Z"
    }
   },
   "cell_type": "code",
   "source": "node_name",
   "id": "2c17f55ec9626a0b",
   "outputs": [
    {
     "data": {
      "text/plain": [
       "['t_n55',\n",
       " 't_n56',\n",
       " 't_n57',\n",
       " 't_n58',\n",
       " 't_n59',\n",
       " 't_n60',\n",
       " 't_n61',\n",
       " 't_n62',\n",
       " 't_n63',\n",
       " 't_n64',\n",
       " 't_n65',\n",
       " 't_n66',\n",
       " 't_n67',\n",
       " 't_n68',\n",
       " 't_n69',\n",
       " 't_n70',\n",
       " 't_n71',\n",
       " 't_n72',\n",
       " 't_n73',\n",
       " 't_n74',\n",
       " 't_n75',\n",
       " 't_n76',\n",
       " 't_n77',\n",
       " 't_n78',\n",
       " 't_n79',\n",
       " 't_n80',\n",
       " 't_n81',\n",
       " 't_n82',\n",
       " 't_n83',\n",
       " 't_n84',\n",
       " 't_n85',\n",
       " 't_n86',\n",
       " 't_n87',\n",
       " 't_n88',\n",
       " 't_n89',\n",
       " 't_n90',\n",
       " 't_n91',\n",
       " 't_n92',\n",
       " 't_n93',\n",
       " 't_n94',\n",
       " 't_n95',\n",
       " 't_n96',\n",
       " 't_n97',\n",
       " 't_n98',\n",
       " 't_n99',\n",
       " 't_n100',\n",
       " 't_n101',\n",
       " 't_n102',\n",
       " 't_n103',\n",
       " 't_n104',\n",
       " 't_n105',\n",
       " 't_n106',\n",
       " 't_n107']"
      ]
     },
     "execution_count": 5,
     "metadata": {},
     "output_type": "execute_result"
    }
   ],
   "execution_count": 5
  },
  {
   "metadata": {
    "ExecuteTime": {
     "end_time": "2024-10-08T14:40:59.320792Z",
     "start_time": "2024-10-08T14:40:59.315754Z"
    }
   },
   "cell_type": "code",
   "source": "posterior_mean_iqtree",
   "id": "24a55c806a41f33e",
   "outputs": [
    {
     "data": {
      "text/plain": [
       "[12.9107,\n",
       " 12.5591,\n",
       " 11.5514,\n",
       " 9.7996,\n",
       " 9.3981,\n",
       " 8.9167,\n",
       " 8.1739,\n",
       " 4.31,\n",
       " 5.8777,\n",
       " 4.3449,\n",
       " 3.7661,\n",
       " 2.8961,\n",
       " 1.941,\n",
       " 1.2773,\n",
       " 0.5487,\n",
       " 4.2333,\n",
       " 9.0341,\n",
       " 7.9935,\n",
       " 8.1156,\n",
       " 5.7873,\n",
       " 5.0408,\n",
       " 4.8173,\n",
       " 8.8606,\n",
       " 8.3293,\n",
       " 7.9649,\n",
       " 7.4927,\n",
       " 6.8406,\n",
       " 6.5742,\n",
       " 5.6779,\n",
       " 5.1394,\n",
       " 4.6354,\n",
       " 3.4994,\n",
       " 3.0946,\n",
       " 5.8291,\n",
       " 4.6539,\n",
       " 8.627,\n",
       " 2.0241,\n",
       " 8.3597,\n",
       " 7.728,\n",
       " 6.8012,\n",
       " 6.2086,\n",
       " 4.5995,\n",
       " 5.0259,\n",
       " 6.5752,\n",
       " 6.2032,\n",
       " 5.5096,\n",
       " 4.5238,\n",
       " 5.5223,\n",
       " 10.4075,\n",
       " 7.8745,\n",
       " 4.9903,\n",
       " 4.5868,\n",
       " 8.998]"
      ]
     },
     "execution_count": 6,
     "metadata": {},
     "output_type": "execute_result"
    }
   ],
   "execution_count": 6
  },
  {
   "metadata": {
    "ExecuteTime": {
     "end_time": "2024-10-08T14:40:59.381452Z",
     "start_time": "2024-10-08T14:40:59.377564Z"
    }
   },
   "cell_type": "code",
   "source": "lower_ci_iqtree",
   "id": "388aa27ad336d43f",
   "outputs": [
    {
     "data": {
      "text/plain": [
       "[]"
      ]
     },
     "execution_count": 7,
     "metadata": {},
     "output_type": "execute_result"
    }
   ],
   "execution_count": 7
  },
  {
   "metadata": {
    "ExecuteTime": {
     "end_time": "2024-10-08T14:40:59.445807Z",
     "start_time": "2024-10-08T14:40:59.440923Z"
    }
   },
   "cell_type": "code",
   "source": "upper_ci_iqtree",
   "id": "816e569fb763e797",
   "outputs": [
    {
     "data": {
      "text/plain": [
       "[]"
      ]
     },
     "execution_count": 8,
     "metadata": {},
     "output_type": "execute_result"
    }
   ],
   "execution_count": 8
  },
  {
   "metadata": {
    "ExecuteTime": {
     "end_time": "2024-10-08T14:40:59.506233Z",
     "start_time": "2024-10-08T14:40:59.501554Z"
    }
   },
   "cell_type": "code",
   "source": [
    "file_LG = open(\"LG_c12_out.txt\", \"r\")\n",
    "lines1 = file_LG.readlines()\n",
    "file_LG.close()\n",
    "\n",
    "# Extract the data\n",
    "data1 = []\n",
    "mu_data1 = []\n",
    "var_data1 = []\n",
    "\n",
    "read_flag = False\n",
    "for line in lines1:\n",
    "    if line.startswith(\"Posterior\"):\n",
    "        read_flag = True\n",
    "    if read_flag and line.startswith(\"t\"):\n",
    "        data1.append(line)\n",
    "    if read_flag and line.startswith(\"mu\"):\n",
    "        mu_data1.append(line)\n",
    "    if read_flag and line.startswith(\"sigma\"):\n",
    "        var_data1.append(line)\n",
    "\n",
    "        \n",
    "for line in data1:\n",
    "    line = line.strip().split()\n",
    "    # node_name.append(line[0])\n",
    "    posterior_mean_baseml.append(float(line[1]))\n",
    "#     if line[3].startswith('('):\n",
    "#         lower_ci_baseml.append(float(line[3][1:-1]))\n",
    "#     else:\n",
    "#          lower_ci_baseml.append(float(line[3][:-1]))\n",
    "#     if line[4].startswith('('):\n",
    "#         upper_ci_baseml.append(float(line[4][1:-1]))\n",
    "#     else:\n",
    "#          upper_ci_baseml.append(float(line[4][:-1]))\n",
    "#         \n",
    "#     \n",
    "# for line in mu_data1:\n",
    "#     line = line.strip().split()\n",
    "#     # node_name.append(line[0])\n",
    "#     posterior_mean_mu_baseml.append(float(line[1]))\n",
    "#     lower_ci_mu_baseml.append(float(line[3][:-1]))\n",
    "#     upper_ci_mu_baseml.append(float(line[4][:-1]))\n",
    "    \n",
    "# for line in var_data1:\n",
    "#     line = line.strip().split()\n",
    "#     # node_name.append(line[0])\n",
    "#     posterior_mean_var_baseml.append(float(line[1]))\n",
    "#     lower_ci_var_baseml.append(float(line[3][:-1]))\n",
    "#     upper_ci_var_baseml.append(float(line[4][:-1]))"
   ],
   "id": "f75c012c6bef60a2",
   "outputs": [],
   "execution_count": 9
  },
  {
   "metadata": {
    "ExecuteTime": {
     "end_time": "2024-10-08T14:40:59.557013Z",
     "start_time": "2024-10-08T14:40:59.554180Z"
    }
   },
   "cell_type": "code",
   "source": [
    "import matplotlib.pyplot as plt\n",
    "import numpy as np\n",
    "\n",
    "# # Example data\n",
    "# # Posterior means for MCMCtree (x-axis) and McmcDate (y-axis)\n",
    "# posterior_mean_mcmctree = [100, 200, 300, 400, 500, 600, 700, 800, 900, 1000]\n",
    "# posterior_mean_mcmcdate = [110, 210, 310, 410, 510, 610, 710, 810, 910, 1010]\n",
    "# \n",
    "# # Credible intervals for MCMCtree\n",
    "# lower_ci_mcmctree = [90, 180, 270, 360, 450, 540, 630, 720, 810, 900]\n",
    "# upper_ci_mcmctree = [110, 220, 330, 440, 550, 660, 770, 880, 990, 1100]\n",
    "# \n",
    "# # Credible intervals for McmcDate\n",
    "# lower_ci_mcmcdate = [100, 200, 300, 400, 500, 600, 700, 800, 900, 1000]\n",
    "# upper_ci_mcmcdate = [120, 220, 320, 420, 520, 620, 720, 820, 920, 1020]\n",
    "\n",
    "# Calculate error bars\n",
    "# xerr = [np.array(lower_ci_baseml), \n",
    "#         np.array(upper_ci_baseml)]\n",
    "# yerr = [np.array(lower_ci_iqtree), \n",
    "#         np.array(upper_ci_iqtree)]\n",
    "# \n",
    "# # Plotting\n",
    "# fig, ax = plt.subplots(figsize=(15, 15))\n",
    "# ax.plot([-0.1,90], \n",
    "#         [-0.1, 90], \n",
    "#         'k--', label='y=x')\n",
    "# ax.errorbar(posterior_mean_baseml, posterior_mean_iqtree, \n",
    "#             xerr=xerr, yerr=yerr, fmt='*', ecolor='r', capsize=3, label='95% HPD CI')\n",
    "# \n",
    "# # Labels and title\n",
    "# ax.set_xlabel('Posterior mean age LG [100 Mya]', fontsize=18)\n",
    "# ax.set_ylabel('Posterior mean age LG+G4 [100 Mya]', fontsize=18)\n",
    "# ax.set_title('Posterior mean age comparison between LG and LG+G4 models [t116 ~ B(1.25,2.482)]')\n",
    "# ax.legend()\n",
    "# \n",
    "# # Show plot\n",
    "# # plt.show()\n",
    "# plt.savefig('./animal_origin_posterior_mean_age_comparison_LG_G4_c11.png')"
   ],
   "id": "12db486fa4fac82c",
   "outputs": [],
   "execution_count": 10
  },
  {
   "metadata": {
    "ExecuteTime": {
     "end_time": "2024-10-08T14:40:59.618679Z",
     "start_time": "2024-10-08T14:40:59.612722Z"
    }
   },
   "cell_type": "code",
   "source": "posterior_mean_baseml",
   "id": "917b2e31cff4b992",
   "outputs": [
    {
     "data": {
      "text/plain": [
       "[14.0783,\n",
       " 13.698,\n",
       " 12.2295,\n",
       " 10.3244,\n",
       " 9.7724,\n",
       " 9.1125,\n",
       " 8.1834,\n",
       " 4.3892,\n",
       " 5.8578,\n",
       " 4.2587,\n",
       " 3.5962,\n",
       " 2.6985,\n",
       " 1.7797,\n",
       " 1.1745,\n",
       " 0.5007,\n",
       " 4.1981,\n",
       " 9.2075,\n",
       " 7.5331,\n",
       " 8.1561,\n",
       " 5.8391,\n",
       " 4.9587,\n",
       " 4.8774,\n",
       " 9.275,\n",
       " 8.6121,\n",
       " 8.1564,\n",
       " 7.5918,\n",
       " 6.8935,\n",
       " 6.5357,\n",
       " 5.598,\n",
       " 4.97,\n",
       " 4.387,\n",
       " 3.2787,\n",
       " 2.7854,\n",
       " 5.808,\n",
       " 4.5801,\n",
       " 8.9384,\n",
       " 2.3536,\n",
       " 8.5683,\n",
       " 7.8384,\n",
       " 6.8007,\n",
       " 6.105,\n",
       " 4.4976,\n",
       " 4.7786,\n",
       " 6.5895,\n",
       " 6.0178,\n",
       " 5.1061,\n",
       " 4.5122,\n",
       " 5.6514,\n",
       " 10.8098,\n",
       " 8.0797,\n",
       " 5.0143,\n",
       " 4.8217,\n",
       " 10.0612]"
      ]
     },
     "execution_count": 11,
     "metadata": {},
     "output_type": "execute_result"
    }
   ],
   "execution_count": 11
  },
  {
   "metadata": {
    "ExecuteTime": {
     "end_time": "2024-10-08T14:40:59.680725Z",
     "start_time": "2024-10-08T14:40:59.675521Z"
    }
   },
   "cell_type": "code",
   "source": "posterior_mean_iqtree",
   "id": "59ad8fd34f7bbf11",
   "outputs": [
    {
     "data": {
      "text/plain": [
       "[12.9107,\n",
       " 12.5591,\n",
       " 11.5514,\n",
       " 9.7996,\n",
       " 9.3981,\n",
       " 8.9167,\n",
       " 8.1739,\n",
       " 4.31,\n",
       " 5.8777,\n",
       " 4.3449,\n",
       " 3.7661,\n",
       " 2.8961,\n",
       " 1.941,\n",
       " 1.2773,\n",
       " 0.5487,\n",
       " 4.2333,\n",
       " 9.0341,\n",
       " 7.9935,\n",
       " 8.1156,\n",
       " 5.7873,\n",
       " 5.0408,\n",
       " 4.8173,\n",
       " 8.8606,\n",
       " 8.3293,\n",
       " 7.9649,\n",
       " 7.4927,\n",
       " 6.8406,\n",
       " 6.5742,\n",
       " 5.6779,\n",
       " 5.1394,\n",
       " 4.6354,\n",
       " 3.4994,\n",
       " 3.0946,\n",
       " 5.8291,\n",
       " 4.6539,\n",
       " 8.627,\n",
       " 2.0241,\n",
       " 8.3597,\n",
       " 7.728,\n",
       " 6.8012,\n",
       " 6.2086,\n",
       " 4.5995,\n",
       " 5.0259,\n",
       " 6.5752,\n",
       " 6.2032,\n",
       " 5.5096,\n",
       " 4.5238,\n",
       " 5.5223,\n",
       " 10.4075,\n",
       " 7.8745,\n",
       " 4.9903,\n",
       " 4.5868,\n",
       " 8.998]"
      ]
     },
     "execution_count": 12,
     "metadata": {},
     "output_type": "execute_result"
    }
   ],
   "execution_count": 12
  },
  {
   "metadata": {
    "ExecuteTime": {
     "end_time": "2024-10-08T14:41:00.045244Z",
     "start_time": "2024-10-08T14:40:59.867542Z"
    }
   },
   "cell_type": "code",
   "source": [
    "# Calculate error bars\n",
    "xerr = [np.array(lower_ci_baseml), \n",
    "        np.array(upper_ci_baseml)]\n",
    "yerr = [np.array(lower_ci_iqtree), \n",
    "        np.array(upper_ci_iqtree)]\n",
    "\n",
    "# Plotting\n",
    "fig, ax = plt.subplots(figsize=(9 ,9))\n",
    "ax.plot([-0.1,17], \n",
    "        [-0.1, 17], \n",
    "        'k--', label='y=x')\n",
    "ax.plot(posterior_mean_baseml, posterior_mean_iqtree, 'o', label='Posterior mean age')\n",
    " \n",
    "# Labels and title\n",
    "ax.set_xlabel('Posterior mean age LG [Mya]', fontsize=18)\n",
    "ax.set_ylabel('Posterior mean age LG+G4 [Mya]', fontsize=18)\n",
    "ax.set_title('Posterior mean age comparison between LG and LG+G4 [t70 ~ B (3.5850,6.3610)]')\n",
    "ax.legend()\n",
    "\n",
    "# point_x = posterior_mean_baseml[0]  # Example: first point in the list\n",
    "# point_y = posterior_mean_iqtree[0]  # Example: first point in the list\n",
    "# ax.annotate('Root age', xy=(point_x, point_y), xytext=(point_x - 0.1, point_y - 0.1), color='red')\n",
    "# Show plot\n",
    "# plt.show()\n",
    "plt.savefig('./metazoa_posterior_mean_age_comparison_LG_G4_c12_scatter.png')"
   ],
   "id": "592d0bb72aa1ad4c",
   "outputs": [
    {
     "data": {
      "text/plain": [
       "<Figure size 900x900 with 1 Axes>"
      ],
      "image/png": "[encoded data removed]"
     },
     "metadata": {},
     "output_type": "display_data"
    }
   ],
   "execution_count": 13
  },
  {
   "metadata": {
    "ExecuteTime": {
     "end_time": "2024-10-08T14:41:00.062679Z",
     "start_time": "2024-10-08T14:41:00.059976Z"
    }
   },
   "cell_type": "code",
   "source": [
    "# fig, ax = plt.subplots(figsize=(9 ,9))\n",
    "# ax.plot([0.01,0.04], \n",
    "#         [0.01, 0.04], \n",
    "#         'k--', label='y=x')\n",
    "# ax.plot(posterior_mean_mu_baseml, posterior_mean_mu_iqtree, 'o', label='Posterior mean rates for partitions')\n",
    "#  \n",
    "# # Labels and title\n",
    "# ax.set_xlabel('Posterior mean rate [LG]', fontsize=18)\n",
    "# ax.set_ylabel('Posterior mean rate [LG+G4]', fontsize=18)\n",
    "# ax.set_title('Posterior mean rate comparison between LG and LG+G4 [Cherry only calibration/IQ-TREE]')\n",
    "# ax.legend()\n",
    "# \n",
    "# # point_x = posterior_mean_baseml[0]  # Example: first point in the list\n",
    "# # point_y = posterior_mean_iqtree[0]  # Example: first point in the list\n",
    "# # ax.annotate('Root age', xy=(point_x, point_y), xytext=(point_x - 0.1, point_y - 0.1), color='red')\n",
    "# # Show plot\n",
    "# # plt.show()\n",
    "# plt.savefig('./animal_origin__posterior_mean_rate_comparison_LG_G4_all_scatter.png')"
   ],
   "id": "c6d69ee36c77970c",
   "outputs": [],
   "execution_count": 14
  },
  {
   "metadata": {
    "ExecuteTime": {
     "end_time": "2024-10-08T14:41:00.108677Z",
     "start_time": "2024-10-08T14:41:00.106666Z"
    }
   },
   "cell_type": "code",
   "source": "",
   "id": "ca69d5b521db3aa7",
   "outputs": [],
   "execution_count": null
  }
 ],
 "metadata": {
  "kernelspec": {
   "display_name": "Python 3",
   "language": "python",
   "name": "python3"
  },
  "language_info": {
   "codemirror_mode": {
    "name": "ipython",
    "version": 2
   },
   "file_extension": ".py",
   "mimetype": "text/x-python",
   "name": "python",
   "nbconvert_exporter": "python",
   "pygments_lexer": "ipython2",
   "version": "2.7.6"
  }
 },
 "nbformat": 4,
 "nbformat_minor": 5
}
