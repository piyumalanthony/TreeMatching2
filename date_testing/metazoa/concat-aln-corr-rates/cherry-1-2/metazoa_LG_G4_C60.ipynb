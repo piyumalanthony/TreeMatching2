{
 "cells": [
  {
   "cell_type": "code",
   "id": "initial_id",
   "metadata": {
    "collapsed": true,
    "ExecuteTime": {
     "end_time": "2024-10-08T14:43:06.068402Z",
     "start_time": "2024-10-08T14:43:05.711527Z"
    }
   },
   "source": [
    "# Code to get all the Posterior mean (95% Equal-tail CI) (95% HPD CI) HPD-CI-width from ./xenarthra_mcmc_out.txt\n",
    "import numpy as np\n",
    "import pandas as pd\n",
    "import matplotlib.pyplot as plt\n",
    "\n",
    "\n",
    "# Read the file\n",
    "file = open(\"LG_G4_C60_c12_out.txt\", \"r\")\n",
    "lines = file.readlines()\n",
    "file.close()\n",
    "\n",
    "# Extract the data\n",
    "data = []\n",
    "mu_data = []\n",
    "var_data = []\n",
    "\n",
    "read_flag = False\n",
    "for line in lines:\n",
    "    if line.startswith(\"Posterior\"):\n",
    "        read_flag = True\n",
    "    if read_flag and line.startswith(\"t\"):\n",
    "        data.append(line)\n",
    "    if read_flag and line.startswith(\"mu\"):\n",
    "        mu_data.append(line)\n",
    "    if read_flag and line.startswith(\"sigma\"):\n",
    "        var_data.append(line)"
   ],
   "outputs": [],
   "execution_count": 1
  },
  {
   "metadata": {
    "ExecuteTime": {
     "end_time": "2024-10-08T14:43:06.081567Z",
     "start_time": "2024-10-08T14:43:06.076509Z"
    }
   },
   "cell_type": "code",
   "source": "data",
   "id": "54808ee54195795",
   "outputs": [
    {
     "data": {
      "text/plain": [
       "['t_n55         12.3754 ( 9.3468, 17.2337) ( 8.9527, 16.5120)  7.5592 (Jnode 106)\\n',\n",
       " 't_n56         12.0388 ( 9.1645, 16.7580) ( 8.8591, 16.1145)  7.2554 (Jnode 105)\\n',\n",
       " 't_n57         11.3882 ( 8.7020, 15.8422) ( 8.4296, 15.2246)  6.7950 (Jnode 104)\\n',\n",
       " 't_n58          9.7953 ( 7.5613, 13.5562) ( 7.3585, 13.0456)  5.6870 (Jnode 103)\\n',\n",
       " 't_n59          9.5052 ( 7.3516, 13.1493) ( 7.1052, 12.6097)  5.5045 (Jnode 102)\\n',\n",
       " 't_n60          9.1044 ( 7.0613, 12.5824) ( 6.7816, 12.0210)  5.2394 (Jnode 101)\\n',\n",
       " 't_n61          8.5066 ( 6.6053, 11.7612) ( 6.4247, 11.2979)  4.8732 (Jnode 100)\\n',\n",
       " 't_n62          4.3328 ( 2.5295,  6.2874) ( 2.4029,  6.1303)  3.7275 (Jnode 99)\\n',\n",
       " 't_n63          6.0630 ( 4.8083,  8.3656) ( 4.6553,  8.0406)  3.3853 (Jnode 98)\\n',\n",
       " 't_n64          4.5240 ( 3.3967,  6.3349) ( 3.3048,  6.1713)  2.8665 (Jnode 97)\\n',\n",
       " 't_n65          4.0200 ( 2.9556,  5.6636) ( 2.8190,  5.4673)  2.6482 (Jnode 96)\\n',\n",
       " 't_n66          3.1227 ( 2.2346,  4.4534) ( 2.1259,  4.3010)  2.1751 (Jnode 95)\\n',\n",
       " 't_n67          2.0996 ( 1.4491,  3.0668) ( 1.3881,  2.9609)  1.5728 (Jnode 94)\\n',\n",
       " 't_n68          1.3897 ( 0.9329,  2.0656) ( 0.8884,  1.9878)  1.0993 (Jnode 93)\\n',\n",
       " 't_n69          0.5962 ( 0.3793,  0.9235) ( 0.3529,  0.8794)  0.5265 (Jnode 92)\\n',\n",
       " 't_n70          4.2761 ( 3.6040,  5.8243) ( 3.5767,  5.5345)  1.9578 (Jnode 91)\\n',\n",
       " 't_n71          9.2920 ( 7.1936, 12.8403) ( 6.9344, 12.3002)  5.3658 (Jnode 90)\\n',\n",
       " 't_n72          9.0263 ( 6.9855, 12.4555) ( 6.6561, 11.8951)  5.2390 (Jnode 89)\\n',\n",
       " 't_n73          8.4513 ( 6.5619, 11.6401) ( 6.3658, 11.2158)  4.8499 (Jnode 88)\\n',\n",
       " 't_n74          5.9665 ( 4.4628,  8.3679) ( 4.2859,  8.0250)  3.7391 (Jnode 87)\\n',\n",
       " 't_n75          5.3446 ( 3.9479,  7.5646) ( 3.7364,  7.1812)  3.4448 (Jnode 86)\\n',\n",
       " 't_n76          4.9244 ( 3.6778,  7.0229) ( 3.6155,  6.9080)  3.2925 (Jnode 85)\\n',\n",
       " 't_n77          9.0054 ( 6.9673, 12.4610) ( 6.7337, 11.9340)  5.2003 (Jnode 84)\\n',\n",
       " 't_n78          8.6115 ( 6.6547, 11.8931) ( 6.4087, 11.4004)  4.9917 (Jnode 83)\\n',\n",
       " 't_n79          8.3470 ( 6.4376, 11.5364) ( 6.1940, 11.0385)  4.8445 (Jnode 82)\\n',\n",
       " 't_n80          7.8544 ( 6.0464, 10.8871) ( 5.8249, 10.4177)  4.5928 (Jnode 81)\\n',\n",
       " 't_n81          7.2558 ( 5.5485, 10.0886) ( 5.3710,  9.6578)  4.2868 (Jnode 80)\\n',\n",
       " 't_n82          7.0757 ( 5.3931,  9.8466) ( 5.1772,  9.3817)  4.2045 (Jnode 79)\\n',\n",
       " 't_n83          6.2310 ( 4.6839,  8.7751) ( 4.4658,  8.2988)  3.8330 (Jnode 78)\\n',\n",
       " 't_n84          5.7281 ( 4.2499,  8.1082) ( 4.0760,  7.7101)  3.6341 (Jnode 77)\\n',\n",
       " 't_n85          5.2974 ( 3.8808,  7.5554) ( 3.6832,  7.1552)  3.4720 (Jnode 76)\\n',\n",
       " 't_n86          4.0999 ( 2.7849,  6.0335) ( 2.6369,  5.7408)  3.1039 (Jnode 75)\\n',\n",
       " 't_n87          3.8163 ( 2.5471,  5.6683) ( 2.4523,  5.4276)  2.9753 (Jnode 74)\\n',\n",
       " 't_n88          6.2314 ( 4.7283,  8.7123) ( 4.5195,  8.2697)  3.7503 (Jnode 73)\\n',\n",
       " 't_n89          5.0681 ( 3.8123,  7.1525) ( 3.6429,  6.7727)  3.1299 (Jnode 72)\\n',\n",
       " 't_n90          8.8423 ( 6.8359, 12.2396) ( 6.6378, 11.7450)  5.1072 (Jnode 71)\\n',\n",
       " 't_n91          1.7866 ( 0.8381,  3.2357) ( 0.7218,  2.9814)  2.2596 (Jnode 70)\\n',\n",
       " 't_n92          8.6519 ( 6.7002, 11.9718) ( 6.4886, 11.4870)  4.9984 (Jnode 69)\\n',\n",
       " 't_n93          8.1067 ( 6.2861, 11.2164) ( 6.0288, 10.6972)  4.6684 (Jnode 68)\\n',\n",
       " 't_n94          7.2120 ( 5.5919,  9.9929) ( 5.3777,  9.5312)  4.1536 (Jnode 67)\\n',\n",
       " 't_n95          6.7034 ( 5.1979,  9.2948) ( 5.0371,  8.9005)  3.8634 (Jnode 66)\\n',\n",
       " 't_n96          4.9360 ( 3.7896,  6.8957) ( 3.6700,  6.6135)  2.9434 (Jnode 65)\\n',\n",
       " 't_n97          5.6196 ( 4.3038,  7.8370) ( 4.1549,  7.5219)  3.3670 (Jnode 64)\\n',\n",
       " 't_n98          6.9560 ( 5.3979,  9.6253) ( 5.1905,  9.2139)  4.0234 (Jnode 63)\\n',\n",
       " 't_n99          6.7161 ( 5.2085,  9.3111) ( 4.9860,  8.8741)  3.8881 (Jnode 62)\\n',\n",
       " 't_n100         6.2757 ( 4.8440,  8.7170) ( 4.6930,  8.3764)  3.6834 (Jnode 61)\\n',\n",
       " 't_n101         4.6767 ( 3.5848,  6.5025) ( 3.5659,  6.4788)  2.9129 (Jnode 60)\\n',\n",
       " 't_n102         5.9984 ( 4.3883,  8.4861) ( 4.2397,  8.2172)  3.9776 (Jnode 59)\\n',\n",
       " 't_n103        10.3690 ( 7.9577, 14.3732) ( 7.7196, 13.8815)  6.1619 (Jnode 58)\\n',\n",
       " 't_n104         7.8190 ( 5.8728, 10.9177) ( 5.6956, 10.5986)  4.9031 (Jnode 57)\\n',\n",
       " 't_n105         4.9640 ( 3.6536,  7.1658) ( 3.5831,  7.0580)  3.4750 (Jnode 56)\\n',\n",
       " 't_n106         4.3395 ( 2.0460,  6.5687) ( 1.9477,  6.4512)  4.5034 (Jnode 55)\\n',\n",
       " 't_n107         8.1272 ( 5.2048, 12.1419) ( 4.9345, 11.7448)  6.8104 (Jnode 54)\\n']"
      ]
     },
     "execution_count": 2,
     "metadata": {},
     "output_type": "execute_result"
    }
   ],
   "execution_count": 2
  },
  {
   "metadata": {
    "ExecuteTime": {
     "end_time": "2024-10-08T14:43:06.131625Z",
     "start_time": "2024-10-08T14:43:06.128589Z"
    }
   },
   "cell_type": "code",
   "source": [
    "node_name = []\n",
    "posterior_mean_iqtree = []\n",
    "posterior_mean_baseml = []\n",
    "\n",
    "posterior_mean_mu_iqtree = []\n",
    "posterior_mean_mu_baseml = []\n",
    "\n",
    "posterior_mean_var_iqtree = []\n",
    "posterior_mean_var_baseml = []\n",
    "\n",
    "lower_ci_iqtree = []\n",
    "upper_ci_iqtree = []\n",
    "\n",
    "lower_ci_mu_iqtree = []\n",
    "upper_ci_mu_iqtree = []\n",
    "\n",
    "lower_ci_var_iqtree = []\n",
    "upper_ci_var_iqtree = []\n",
    "\n",
    "# Credible intervals for McmcDate\n",
    "lower_ci_baseml = []\n",
    "upper_ci_baseml = []\n",
    "\n",
    "lower_ci_mu_baseml = []\n",
    "upper_ci_mu_baseml = []\n",
    "\n",
    "lower_ci_var_baseml = []\n",
    "upper_ci_var_baseml = []"
   ],
   "id": "e5cf93a69d327e61",
   "outputs": [],
   "execution_count": 3
  },
  {
   "metadata": {
    "ExecuteTime": {
     "end_time": "2024-10-08T14:43:06.181334Z",
     "start_time": "2024-10-08T14:43:06.177139Z"
    }
   },
   "cell_type": "code",
   "source": [
    "for line in data:\n",
    "    line = line.strip().split()\n",
    "    node_name.append(line[0])\n",
    "    posterior_mean_iqtree.append(float(line[1]))\n",
    "#     if line[3].startswith('('):\n",
    "#         lower_ci_iqtree.append(float(line[3][1:-1]))\n",
    "#     else:\n",
    "#         lower_ci_iqtree.append(float(line[3][1:-1]))\n",
    "#     if line[4].startswith('('):\n",
    "#         upper_ci_iqtree.append(float(line[4][1:-1]))\n",
    "#     else:\n",
    "#         upper_ci_iqtree.append(float(line[4][:-1]))\n",
    "#     # posterior_mean_baseml.append(float(line[4]))\n",
    "#     # lower_ci_baseml.append(float(line[5]))\n",
    "#     # upper_ci_baseml.append(float(line[6]))\n",
    "# \n",
    "# for line in mu_data:\n",
    "#     line = line.strip().split()\n",
    "#     # node_name.append(line[0])\n",
    "#     posterior_mean_mu_iqtree.append(float(line[1]))\n",
    "#     lower_ci_mu_iqtree.append(float(line[3][:-1]))\n",
    "#     upper_ci_mu_iqtree.append(float(line[4][:-1]))\n",
    "#\n",
    "# for line in var_data:\n",
    "#     line = line.strip().split()\n",
    "#     # node_name.append(line[0])\n",
    "#     posterior_mean_var_iqtree.append(float(line[1]))\n",
    "#     lower_ci_var_iqtree.append(float(line[3][:-1]))\n",
    "#     upper_ci_var_iqtree.append(float(line[4][:-1]))"
   ],
   "id": "4e79ee928ea76b59",
   "outputs": [],
   "execution_count": 4
  },
  {
   "metadata": {
    "ExecuteTime": {
     "end_time": "2024-10-08T14:43:06.235035Z",
     "start_time": "2024-10-08T14:43:06.231242Z"
    }
   },
   "cell_type": "code",
   "source": "node_name",
   "id": "2c17f55ec9626a0b",
   "outputs": [
    {
     "data": {
      "text/plain": [
       "['t_n55',\n",
       " 't_n56',\n",
       " 't_n57',\n",
       " 't_n58',\n",
       " 't_n59',\n",
       " 't_n60',\n",
       " 't_n61',\n",
       " 't_n62',\n",
       " 't_n63',\n",
       " 't_n64',\n",
       " 't_n65',\n",
       " 't_n66',\n",
       " 't_n67',\n",
       " 't_n68',\n",
       " 't_n69',\n",
       " 't_n70',\n",
       " 't_n71',\n",
       " 't_n72',\n",
       " 't_n73',\n",
       " 't_n74',\n",
       " 't_n75',\n",
       " 't_n76',\n",
       " 't_n77',\n",
       " 't_n78',\n",
       " 't_n79',\n",
       " 't_n80',\n",
       " 't_n81',\n",
       " 't_n82',\n",
       " 't_n83',\n",
       " 't_n84',\n",
       " 't_n85',\n",
       " 't_n86',\n",
       " 't_n87',\n",
       " 't_n88',\n",
       " 't_n89',\n",
       " 't_n90',\n",
       " 't_n91',\n",
       " 't_n92',\n",
       " 't_n93',\n",
       " 't_n94',\n",
       " 't_n95',\n",
       " 't_n96',\n",
       " 't_n97',\n",
       " 't_n98',\n",
       " 't_n99',\n",
       " 't_n100',\n",
       " 't_n101',\n",
       " 't_n102',\n",
       " 't_n103',\n",
       " 't_n104',\n",
       " 't_n105',\n",
       " 't_n106',\n",
       " 't_n107']"
      ]
     },
     "execution_count": 5,
     "metadata": {},
     "output_type": "execute_result"
    }
   ],
   "execution_count": 5
  },
  {
   "metadata": {
    "ExecuteTime": {
     "end_time": "2024-10-08T14:43:06.290546Z",
     "start_time": "2024-10-08T14:43:06.287617Z"
    }
   },
   "cell_type": "code",
   "source": "posterior_mean_iqtree",
   "id": "24a55c806a41f33e",
   "outputs": [
    {
     "data": {
      "text/plain": [
       "[12.3754,\n",
       " 12.0388,\n",
       " 11.3882,\n",
       " 9.7953,\n",
       " 9.5052,\n",
       " 9.1044,\n",
       " 8.5066,\n",
       " 4.3328,\n",
       " 6.063,\n",
       " 4.524,\n",
       " 4.02,\n",
       " 3.1227,\n",
       " 2.0996,\n",
       " 1.3897,\n",
       " 0.5962,\n",
       " 4.2761,\n",
       " 9.292,\n",
       " 9.0263,\n",
       " 8.4513,\n",
       " 5.9665,\n",
       " 5.3446,\n",
       " 4.9244,\n",
       " 9.0054,\n",
       " 8.6115,\n",
       " 8.347,\n",
       " 7.8544,\n",
       " 7.2558,\n",
       " 7.0757,\n",
       " 6.231,\n",
       " 5.7281,\n",
       " 5.2974,\n",
       " 4.0999,\n",
       " 3.8163,\n",
       " 6.2314,\n",
       " 5.0681,\n",
       " 8.8423,\n",
       " 1.7866,\n",
       " 8.6519,\n",
       " 8.1067,\n",
       " 7.212,\n",
       " 6.7034,\n",
       " 4.936,\n",
       " 5.6196,\n",
       " 6.956,\n",
       " 6.7161,\n",
       " 6.2757,\n",
       " 4.6767,\n",
       " 5.9984,\n",
       " 10.369,\n",
       " 7.819,\n",
       " 4.964,\n",
       " 4.3395,\n",
       " 8.1272]"
      ]
     },
     "execution_count": 6,
     "metadata": {},
     "output_type": "execute_result"
    }
   ],
   "execution_count": 6
  },
  {
   "metadata": {
    "ExecuteTime": {
     "end_time": "2024-10-08T14:43:06.347857Z",
     "start_time": "2024-10-08T14:43:06.344163Z"
    }
   },
   "cell_type": "code",
   "source": "lower_ci_iqtree",
   "id": "388aa27ad336d43f",
   "outputs": [
    {
     "data": {
      "text/plain": [
       "[]"
      ]
     },
     "execution_count": 7,
     "metadata": {},
     "output_type": "execute_result"
    }
   ],
   "execution_count": 7
  },
  {
   "metadata": {
    "ExecuteTime": {
     "end_time": "2024-10-08T14:43:06.400688Z",
     "start_time": "2024-10-08T14:43:06.397181Z"
    }
   },
   "cell_type": "code",
   "source": "upper_ci_iqtree",
   "id": "816e569fb763e797",
   "outputs": [
    {
     "data": {
      "text/plain": [
       "[]"
      ]
     },
     "execution_count": 8,
     "metadata": {},
     "output_type": "execute_result"
    }
   ],
   "execution_count": 8
  },
  {
   "metadata": {
    "ExecuteTime": {
     "end_time": "2024-10-08T14:43:06.452454Z",
     "start_time": "2024-10-08T14:43:06.447684Z"
    }
   },
   "cell_type": "code",
   "source": [
    "file_LG = open(\"LG_c12_out.txt\", \"r\")\n",
    "lines1 = file_LG.readlines()\n",
    "file_LG.close()\n",
    "\n",
    "# Extract the data\n",
    "data1 = []\n",
    "mu_data1 = []\n",
    "var_data1 = []\n",
    "\n",
    "read_flag = False\n",
    "for line in lines1:\n",
    "    if line.startswith(\"Posterior\"):\n",
    "        read_flag = True\n",
    "    if read_flag and line.startswith(\"t\"):\n",
    "        data1.append(line)\n",
    "    if read_flag and line.startswith(\"mu\"):\n",
    "        mu_data1.append(line)\n",
    "    if read_flag and line.startswith(\"sigma\"):\n",
    "        var_data1.append(line)\n",
    "\n",
    "        \n",
    "for line in data1:\n",
    "    line = line.strip().split()\n",
    "    # node_name.append(line[0])\n",
    "    posterior_mean_baseml.append(float(line[1]))\n",
    "#     if line[3].startswith('('):\n",
    "#         lower_ci_baseml.append(float(line[3][1:-1]))\n",
    "#     else:\n",
    "#          lower_ci_baseml.append(float(line[3][:-1]))\n",
    "#     if line[4].startswith('('):\n",
    "#         upper_ci_baseml.append(float(line[4][1:-1]))\n",
    "#     else:\n",
    "#          upper_ci_baseml.append(float(line[4][:-1]))\n",
    "#         \n",
    "#     \n",
    "# for line in mu_data1:\n",
    "#     line = line.strip().split()\n",
    "#     # node_name.append(line[0])\n",
    "#     posterior_mean_mu_baseml.append(float(line[1]))\n",
    "#     lower_ci_mu_baseml.append(float(line[3][:-1]))\n",
    "#     upper_ci_mu_baseml.append(float(line[4][:-1]))\n",
    "    \n",
    "# for line in var_data1:\n",
    "#     line = line.strip().split()\n",
    "#     # node_name.append(line[0])\n",
    "#     posterior_mean_var_baseml.append(float(line[1]))\n",
    "#     lower_ci_var_baseml.append(float(line[3][:-1]))\n",
    "#     upper_ci_var_baseml.append(float(line[4][:-1]))"
   ],
   "id": "f75c012c6bef60a2",
   "outputs": [],
   "execution_count": 9
  },
  {
   "metadata": {
    "ExecuteTime": {
     "end_time": "2024-10-08T14:43:06.499267Z",
     "start_time": "2024-10-08T14:43:06.495905Z"
    }
   },
   "cell_type": "code",
   "source": [
    "import matplotlib.pyplot as plt\n",
    "import numpy as np\n",
    "\n",
    "# # Example data\n",
    "# # Posterior means for MCMCtree (x-axis) and McmcDate (y-axis)\n",
    "# posterior_mean_mcmctree = [100, 200, 300, 400, 500, 600, 700, 800, 900, 1000]\n",
    "# posterior_mean_mcmcdate = [110, 210, 310, 410, 510, 610, 710, 810, 910, 1010]\n",
    "# \n",
    "# # Credible intervals for MCMCtree\n",
    "# lower_ci_mcmctree = [90, 180, 270, 360, 450, 540, 630, 720, 810, 900]\n",
    "# upper_ci_mcmctree = [110, 220, 330, 440, 550, 660, 770, 880, 990, 1100]\n",
    "# \n",
    "# # Credible intervals for McmcDate\n",
    "# lower_ci_mcmcdate = [100, 200, 300, 400, 500, 600, 700, 800, 900, 1000]\n",
    "# upper_ci_mcmcdate = [120, 220, 320, 420, 520, 620, 720, 820, 920, 1020]\n",
    "\n",
    "# Calculate error bars\n",
    "# xerr = [np.array(lower_ci_baseml), \n",
    "#         np.array(upper_ci_baseml)]\n",
    "# yerr = [np.array(lower_ci_iqtree), \n",
    "#         np.array(upper_ci_iqtree)]\n",
    "# \n",
    "# # Plotting\n",
    "# fig, ax = plt.subplots(figsize=(15, 15))\n",
    "# ax.plot([-0.1,90], \n",
    "#         [-0.1, 90], \n",
    "#         'k--', label='y=x')\n",
    "# ax.errorbar(posterior_mean_baseml, posterior_mean_iqtree, \n",
    "#             xerr=xerr, yerr=yerr, fmt='*', ecolor='r', capsize=3, label='95% HPD CI')\n",
    "# \n",
    "# # Labels and title\n",
    "# ax.set_xlabel('Posterior mean age LG [100 Mya]', fontsize=18)\n",
    "# ax.set_ylabel('Posterior mean age LG+G4 [100 Mya]', fontsize=18)\n",
    "# ax.set_title('Posterior mean age comparison between LG and LG+G4 models [t116 ~ B(1.25,2.482)]')\n",
    "# ax.legend()\n",
    "# \n",
    "# # Show plot\n",
    "# # plt.show()\n",
    "# plt.savefig('./animal_origin_posterior_mean_age_comparison_LG_G4_c11.png')"
   ],
   "id": "12db486fa4fac82c",
   "outputs": [],
   "execution_count": 10
  },
  {
   "metadata": {
    "ExecuteTime": {
     "end_time": "2024-10-08T14:43:06.558954Z",
     "start_time": "2024-10-08T14:43:06.554520Z"
    }
   },
   "cell_type": "code",
   "source": "posterior_mean_baseml",
   "id": "917b2e31cff4b992",
   "outputs": [
    {
     "data": {
      "text/plain": [
       "[14.0783,\n",
       " 13.698,\n",
       " 12.2295,\n",
       " 10.3244,\n",
       " 9.7724,\n",
       " 9.1125,\n",
       " 8.1834,\n",
       " 4.3892,\n",
       " 5.8578,\n",
       " 4.2587,\n",
       " 3.5962,\n",
       " 2.6985,\n",
       " 1.7797,\n",
       " 1.1745,\n",
       " 0.5007,\n",
       " 4.1981,\n",
       " 9.2075,\n",
       " 7.5331,\n",
       " 8.1561,\n",
       " 5.8391,\n",
       " 4.9587,\n",
       " 4.8774,\n",
       " 9.275,\n",
       " 8.6121,\n",
       " 8.1564,\n",
       " 7.5918,\n",
       " 6.8935,\n",
       " 6.5357,\n",
       " 5.598,\n",
       " 4.97,\n",
       " 4.387,\n",
       " 3.2787,\n",
       " 2.7854,\n",
       " 5.808,\n",
       " 4.5801,\n",
       " 8.9384,\n",
       " 2.3536,\n",
       " 8.5683,\n",
       " 7.8384,\n",
       " 6.8007,\n",
       " 6.105,\n",
       " 4.4976,\n",
       " 4.7786,\n",
       " 6.5895,\n",
       " 6.0178,\n",
       " 5.1061,\n",
       " 4.5122,\n",
       " 5.6514,\n",
       " 10.8098,\n",
       " 8.0797,\n",
       " 5.0143,\n",
       " 4.8217,\n",
       " 10.0612]"
      ]
     },
     "execution_count": 11,
     "metadata": {},
     "output_type": "execute_result"
    }
   ],
   "execution_count": 11
  },
  {
   "metadata": {
    "ExecuteTime": {
     "end_time": "2024-10-08T14:43:06.614763Z",
     "start_time": "2024-10-08T14:43:06.611053Z"
    }
   },
   "cell_type": "code",
   "source": "posterior_mean_iqtree",
   "id": "59ad8fd34f7bbf11",
   "outputs": [
    {
     "data": {
      "text/plain": [
       "[12.3754,\n",
       " 12.0388,\n",
       " 11.3882,\n",
       " 9.7953,\n",
       " 9.5052,\n",
       " 9.1044,\n",
       " 8.5066,\n",
       " 4.3328,\n",
       " 6.063,\n",
       " 4.524,\n",
       " 4.02,\n",
       " 3.1227,\n",
       " 2.0996,\n",
       " 1.3897,\n",
       " 0.5962,\n",
       " 4.2761,\n",
       " 9.292,\n",
       " 9.0263,\n",
       " 8.4513,\n",
       " 5.9665,\n",
       " 5.3446,\n",
       " 4.9244,\n",
       " 9.0054,\n",
       " 8.6115,\n",
       " 8.347,\n",
       " 7.8544,\n",
       " 7.2558,\n",
       " 7.0757,\n",
       " 6.231,\n",
       " 5.7281,\n",
       " 5.2974,\n",
       " 4.0999,\n",
       " 3.8163,\n",
       " 6.2314,\n",
       " 5.0681,\n",
       " 8.8423,\n",
       " 1.7866,\n",
       " 8.6519,\n",
       " 8.1067,\n",
       " 7.212,\n",
       " 6.7034,\n",
       " 4.936,\n",
       " 5.6196,\n",
       " 6.956,\n",
       " 6.7161,\n",
       " 6.2757,\n",
       " 4.6767,\n",
       " 5.9984,\n",
       " 10.369,\n",
       " 7.819,\n",
       " 4.964,\n",
       " 4.3395,\n",
       " 8.1272]"
      ]
     },
     "execution_count": 12,
     "metadata": {},
     "output_type": "execute_result"
    }
   ],
   "execution_count": 12
  },
  {
   "metadata": {
    "ExecuteTime": {
     "end_time": "2024-10-08T14:43:06.974454Z",
     "start_time": "2024-10-08T14:43:06.799053Z"
    }
   },
   "cell_type": "code",
   "source": [
    "# Calculate error bars\n",
    "xerr = [np.array(lower_ci_baseml), \n",
    "        np.array(upper_ci_baseml)]\n",
    "yerr = [np.array(lower_ci_iqtree), \n",
    "        np.array(upper_ci_iqtree)]\n",
    "\n",
    "# Plotting\n",
    "fig, ax = plt.subplots(figsize=(9 ,9))\n",
    "ax.plot([-0.1,17], \n",
    "        [-0.1, 17], \n",
    "        'k--', label='y=x')\n",
    "ax.plot(posterior_mean_baseml, posterior_mean_iqtree, 'o', label='Posterior mean age')\n",
    " \n",
    "# Labels and title\n",
    "ax.set_xlabel('Posterior mean age LG [Mya]', fontsize=18)\n",
    "ax.set_ylabel('Posterior mean age LG+G4+C60 [Mya]', fontsize=18)\n",
    "ax.set_title('Posterior mean age comparison between LG and LG+G4 [t70 ~ B (3.5850,6.3610)]')\n",
    "ax.legend()\n",
    "\n",
    "# point_x = posterior_mean_baseml[0]  # Example: first point in the list\n",
    "# point_y = posterior_mean_iqtree[0]  # Example: first point in the list\n",
    "# ax.annotate('Root age', xy=(point_x, point_y), xytext=(point_x - 0.1, point_y - 0.1), color='red')\n",
    "# Show plot\n",
    "# plt.show()\n",
    "plt.savefig('./metazoa_posterior_mean_age_comparison_LG_G4_C60_c12_scatter.png')"
   ],
   "id": "592d0bb72aa1ad4c",
   "outputs": [
    {
     "data": {
      "text/plain": [
       "<Figure size 900x900 with 1 Axes>"
      ],
      "image/png": "[encoded data removed]"
     },
     "metadata": {},
     "output_type": "display_data"
    }
   ],
   "execution_count": 13
  },
  {
   "metadata": {
    "ExecuteTime": {
     "end_time": "2024-10-08T14:43:06.991615Z",
     "start_time": "2024-10-08T14:43:06.988884Z"
    }
   },
   "cell_type": "code",
   "source": [
    "# fig, ax = plt.subplots(figsize=(9 ,9))\n",
    "# ax.plot([0.01,0.04], \n",
    "#         [0.01, 0.04], \n",
    "#         'k--', label='y=x')\n",
    "# ax.plot(posterior_mean_mu_baseml, posterior_mean_mu_iqtree, 'o', label='Posterior mean rates for partitions')\n",
    "#  \n",
    "# # Labels and title\n",
    "# ax.set_xlabel('Posterior mean rate [LG]', fontsize=18)\n",
    "# ax.set_ylabel('Posterior mean rate [LG+G4]', fontsize=18)\n",
    "# ax.set_title('Posterior mean rate comparison between LG and LG+G4 [Cherry only calibration/IQ-TREE]')\n",
    "# ax.legend()\n",
    "# \n",
    "# # point_x = posterior_mean_baseml[0]  # Example: first point in the list\n",
    "# # point_y = posterior_mean_iqtree[0]  # Example: first point in the list\n",
    "# # ax.annotate('Root age', xy=(point_x, point_y), xytext=(point_x - 0.1, point_y - 0.1), color='red')\n",
    "# # Show plot\n",
    "# # plt.show()\n",
    "# plt.savefig('./animal_origin__posterior_mean_rate_comparison_LG_G4_all_scatter.png')"
   ],
   "id": "c6d69ee36c77970c",
   "outputs": [],
   "execution_count": 14
  },
  {
   "metadata": {
    "ExecuteTime": {
     "end_time": "2024-10-08T14:43:07.037628Z",
     "start_time": "2024-10-08T14:43:07.035591Z"
    }
   },
   "cell_type": "code",
   "source": "",
   "id": "ca69d5b521db3aa7",
   "outputs": [],
   "execution_count": null
  }
 ],
 "metadata": {
  "kernelspec": {
   "display_name": "Python 3",
   "language": "python",
   "name": "python3"
  },
  "language_info": {
   "codemirror_mode": {
    "name": "ipython",
    "version": 2
   },
   "file_extension": ".py",
   "mimetype": "text/x-python",
   "name": "python",
   "nbconvert_exporter": "python",
   "pygments_lexer": "ipython2",
   "version": "2.7.6"
  }
 },
 "nbformat": 4,
 "nbformat_minor": 5
}
