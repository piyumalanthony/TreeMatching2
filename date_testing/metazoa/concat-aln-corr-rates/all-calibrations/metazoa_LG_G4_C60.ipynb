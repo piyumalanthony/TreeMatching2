{
 "cells": [
  {
   "cell_type": "code",
   "id": "initial_id",
   "metadata": {
    "collapsed": true,
    "ExecuteTime": {
     "end_time": "2024-10-08T14:13:42.373462Z",
     "start_time": "2024-10-08T14:13:42.368141Z"
    }
   },
   "source": [
    "# Code to get all the Posterior mean (95% Equal-tail CI) (95% HPD CI) HPD-CI-width from ./xenarthra_mcmc_out.txt\n",
    "import numpy as np\n",
    "import pandas as pd\n",
    "import matplotlib.pyplot as plt\n",
    "\n",
    "\n",
    "# Read the file\n",
    "file = open(\"LG_G4_C60_all_out.txt\", \"r\")\n",
    "lines = file.readlines()\n",
    "file.close()\n",
    "\n",
    "# Extract the data\n",
    "data = []\n",
    "mu_data = []\n",
    "var_data = []\n",
    "\n",
    "read_flag = False\n",
    "for line in lines:\n",
    "    if line.startswith(\"Posterior\"):\n",
    "        read_flag = True\n",
    "    if read_flag and line.startswith(\"t\"):\n",
    "        data.append(line)\n",
    "    if read_flag and line.startswith(\"mu\"):\n",
    "        mu_data.append(line)\n",
    "    if read_flag and line.startswith(\"sigma\"):\n",
    "        var_data.append(line)"
   ],
   "outputs": [],
   "execution_count": 15
  },
  {
   "metadata": {
    "ExecuteTime": {
     "end_time": "2024-10-08T14:13:42.391409Z",
     "start_time": "2024-10-08T14:13:42.387930Z"
    }
   },
   "cell_type": "code",
   "source": "data",
   "id": "54808ee54195795",
   "outputs": [
    {
     "data": {
      "text/plain": [
       "['t_n55          6.6893 ( 6.4229,  7.2587) ( 6.3766,  7.1310)  0.7544 (Jnode 106)\\n',\n",
       " 't_n56          6.5083 ( 6.3651,  6.6803) ( 6.3603,  6.6735)  0.3132 (Jnode 105)\\n',\n",
       " 't_n57          6.3593 ( 6.2498,  6.4659) ( 6.2549,  6.4704)  0.2154 (Jnode 104)\\n',\n",
       " 't_n58          6.0565 ( 5.9410,  6.1679) ( 5.9404,  6.1666)  0.2262 (Jnode 103)\\n',\n",
       " 't_n59          5.9895 ( 5.8731,  6.1015) ( 5.8721,  6.1000)  0.2278 (Jnode 102)\\n',\n",
       " 't_n60          5.8903 ( 5.7617,  6.0104) ( 5.7611,  6.0093)  0.2482 (Jnode 101)\\n',\n",
       " 't_n61          5.7369 ( 5.5578,  5.8822) ( 5.5662,  5.8885)  0.3222 (Jnode 100)\\n',\n",
       " 't_n62          3.9874 ( 1.7977,  5.0496) ( 2.2494,  5.1859)  2.9365 (Jnode 99)\\n',\n",
       " 't_n63          5.0838 ( 4.8243,  5.3418) ( 4.8183,  5.3351)  0.5168 (Jnode 98)\\n',\n",
       " 't_n64          4.5204 ( 4.3774,  4.6779) ( 4.3796,  4.6797)  0.3000 (Jnode 97)\\n',\n",
       " 't_n65          4.2684 ( 4.2083,  4.4138) ( 4.2060,  4.3825)  0.1765 (Jnode 96)\\n',\n",
       " 't_n66          3.4966 ( 3.4523,  3.5184) ( 3.4584,  3.5213)  0.0628 (Jnode 95)\\n',\n",
       " 't_n67          3.1990 ( 3.1804,  3.2452) ( 3.1796,  3.2351)  0.0554 (Jnode 94)\\n',\n",
       " 't_n68          1.8823 ( 1.6697,  2.0209) ( 1.6780,  2.0260)  0.3481 (Jnode 93)\\n',\n",
       " 't_n69          0.9187 ( 0.6332,  1.3092) ( 0.6153,  1.2461)  0.6308 (Jnode 92)\\n',\n",
       " 't_n70          4.3744 ( 3.6989,  4.9026) ( 3.7244,  4.9201)  1.1957 (Jnode 91)\\n',\n",
       " 't_n71          5.9387 ( 5.8191,  6.0531) ( 5.8163,  6.0500)  0.2337 (Jnode 90)\\n',\n",
       " 't_n72          5.8690 ( 5.7240,  5.9991) ( 5.7304,  6.0040)  0.2735 (Jnode 89)\\n',\n",
       " 't_n73          5.7573 ( 5.6121,  5.8886) ( 5.6162,  5.8918)  0.2756 (Jnode 88)\\n',\n",
       " 't_n74          5.0400 ( 4.1984,  5.4109) ( 4.3748,  5.4905)  1.1157 (Jnode 87)\\n',\n",
       " 't_n75          4.7566 ( 3.6572,  5.2739) ( 3.9410,  5.3703)  1.4293 (Jnode 86)\\n',\n",
       " 't_n76          5.1644 ( 5.0478,  5.3908) ( 5.0425,  5.3493)  0.3068 (Jnode 85)\\n',\n",
       " 't_n77          5.8755 ( 5.7711,  5.9800) ( 5.7719,  5.9805)  0.2086 (Jnode 84)\\n',\n",
       " 't_n78          5.7685 ( 5.6703,  5.8686) ( 5.6688,  5.8668)  0.1979 (Jnode 83)\\n',\n",
       " 't_n79          5.6863 ( 5.5920,  5.7860) ( 5.5889,  5.7824)  0.1935 (Jnode 82)\\n',\n",
       " 't_n80          5.5306 ( 5.4550,  5.6187) ( 5.4487,  5.6120)  0.1633 (Jnode 81)\\n',\n",
       " 't_n81          5.3573 ( 5.3209,  5.3971) ( 5.3187,  5.3945)  0.0758 (Jnode 80)\\n',\n",
       " 't_n82          5.3079 ( 5.2818,  5.3282) ( 5.2827,  5.3289)  0.0462 (Jnode 79)\\n',\n",
       " 't_n83          5.1531 ( 5.1403,  5.1804) ( 5.1395,  5.1746)  0.0351 (Jnode 78)\\n',\n",
       " 't_n84          5.0210 ( 4.9911,  5.0715) ( 4.9895,  5.0621)  0.0726 (Jnode 77)\\n',\n",
       " 't_n85          4.8578 ( 4.7098,  4.9678) ( 4.7238,  4.9747)  0.2509 (Jnode 76)\\n',\n",
       " 't_n86          4.0683 ( 3.3981,  4.3900) ( 3.4347,  4.4155)  0.9808 (Jnode 75)\\n',\n",
       " 't_n87          3.8315 ( 3.1232,  4.1591) ( 3.1806,  4.1906)  1.0100 (Jnode 74)\\n',\n",
       " 't_n88          5.0795 ( 4.9818,  5.1808) ( 4.9749,  5.1683)  0.1934 (Jnode 73)\\n',\n",
       " 't_n89          4.6275 ( 4.2061,  4.9294) ( 4.2039,  4.9269)  0.7230 (Jnode 72)\\n',\n",
       " 't_n90          5.8350 ( 5.7331,  5.9371) ( 5.7322,  5.9355)  0.2034 (Jnode 71)\\n',\n",
       " 't_n91          2.7641 ( 0.5188,  4.5212) ( 0.5370,  4.5301)  3.9930 (Jnode 70)\\n',\n",
       " 't_n92          5.7872 ( 5.6912,  5.8855) ( 5.6908,  5.8848)  0.1939 (Jnode 69)\\n',\n",
       " 't_n93          5.6554 ( 5.5727,  5.7414) ( 5.5701,  5.7382)  0.1682 (Jnode 68)\\n',\n",
       " 't_n94          5.4510 ( 5.3991,  5.4913) ( 5.4041,  5.4944)  0.0903 (Jnode 67)\\n',\n",
       " 't_n95          5.3284 ( 5.3006,  5.3842) ( 5.2997,  5.3744)  0.0746 (Jnode 66)\\n',\n",
       " 't_n96          4.6098 ( 3.4813,  5.0721) ( 3.8104,  5.1678)  1.3574 (Jnode 65)\\n',\n",
       " 't_n97          4.9444 ( 4.7333,  5.1664) ( 4.7274,  5.1591)  0.4316 (Jnode 64)\\n',\n",
       " 't_n98          5.2666 ( 4.9402,  5.4490) ( 5.0122,  5.4814)  0.4693 (Jnode 63)\\n',\n",
       " 't_n99          5.1657 ( 4.7885,  5.3827) ( 4.8570,  5.4183)  0.5614 (Jnode 62)\\n',\n",
       " 't_n100         4.9536 ( 4.3722,  5.2802) ( 4.5023,  5.3390)  0.8368 (Jnode 61)\\n',\n",
       " 't_n101         4.0704 ( 2.5512,  4.8992) ( 3.1114,  5.0631)  1.9517 (Jnode 60)\\n',\n",
       " 't_n102         4.8596 ( 3.7911,  5.3321) ( 4.0819,  5.3809)  1.2990 (Jnode 59)\\n',\n",
       " 't_n103         6.1157 ( 5.8640,  6.2685) ( 5.8992,  6.2860)  0.3868 (Jnode 58)\\n',\n",
       " 't_n104         5.3723 ( 4.4285,  5.8902) ( 4.6843,  5.9892)  1.3049 (Jnode 57)\\n',\n",
       " 't_n105         4.2010 ( 2.1646,  5.3424) ( 2.5513,  5.4801)  2.9288 (Jnode 56)\\n',\n",
       " 't_n106         3.8772 ( 1.2374,  5.2602) ( 1.5398,  5.3805)  3.8407 (Jnode 55)\\n',\n",
       " 't_n107         5.4535 ( 3.9714,  6.4829) ( 4.0791,  6.5621)  2.4830 (Jnode 54)\\n']"
      ]
     },
     "execution_count": 16,
     "metadata": {},
     "output_type": "execute_result"
    }
   ],
   "execution_count": 16
  },
  {
   "metadata": {
    "ExecuteTime": {
     "end_time": "2024-10-08T14:13:42.445116Z",
     "start_time": "2024-10-08T14:13:42.441658Z"
    }
   },
   "cell_type": "code",
   "source": [
    "node_name = []\n",
    "posterior_mean_iqtree = []\n",
    "posterior_mean_baseml = []\n",
    "\n",
    "posterior_mean_mu_iqtree = []\n",
    "posterior_mean_mu_baseml = []\n",
    "\n",
    "posterior_mean_var_iqtree = []\n",
    "posterior_mean_var_baseml = []\n",
    "\n",
    "lower_ci_iqtree = []\n",
    "upper_ci_iqtree = []\n",
    "\n",
    "lower_ci_mu_iqtree = []\n",
    "upper_ci_mu_iqtree = []\n",
    "\n",
    "lower_ci_var_iqtree = []\n",
    "upper_ci_var_iqtree = []\n",
    "\n",
    "# Credible intervals for McmcDate\n",
    "lower_ci_baseml = []\n",
    "upper_ci_baseml = []\n",
    "\n",
    "lower_ci_mu_baseml = []\n",
    "upper_ci_mu_baseml = []\n",
    "\n",
    "lower_ci_var_baseml = []\n",
    "upper_ci_var_baseml = []"
   ],
   "id": "e5cf93a69d327e61",
   "outputs": [],
   "execution_count": 17
  },
  {
   "metadata": {
    "ExecuteTime": {
     "end_time": "2024-10-08T14:13:42.497608Z",
     "start_time": "2024-10-08T14:13:42.493656Z"
    }
   },
   "cell_type": "code",
   "source": [
    "for line in data:\n",
    "    line = line.strip().split()\n",
    "    node_name.append(line[0])\n",
    "    posterior_mean_iqtree.append(float(line[1]))\n",
    "#     if line[3].startswith('('):\n",
    "#         lower_ci_iqtree.append(float(line[3][1:-1]))\n",
    "#     else:\n",
    "#         lower_ci_iqtree.append(float(line[3][1:-1]))\n",
    "#     if line[4].startswith('('):\n",
    "#         upper_ci_iqtree.append(float(line[4][1:-1]))\n",
    "#     else:\n",
    "#         upper_ci_iqtree.append(float(line[4][:-1]))\n",
    "#     # posterior_mean_baseml.append(float(line[4]))\n",
    "#     # lower_ci_baseml.append(float(line[5]))\n",
    "#     # upper_ci_baseml.append(float(line[6]))\n",
    "# \n",
    "# for line in mu_data:\n",
    "#     line = line.strip().split()\n",
    "#     # node_name.append(line[0])\n",
    "#     posterior_mean_mu_iqtree.append(float(line[1]))\n",
    "#     lower_ci_mu_iqtree.append(float(line[3][:-1]))\n",
    "#     upper_ci_mu_iqtree.append(float(line[4][:-1]))\n",
    "#\n",
    "# for line in var_data:\n",
    "#     line = line.strip().split()\n",
    "#     # node_name.append(line[0])\n",
    "#     posterior_mean_var_iqtree.append(float(line[1]))\n",
    "#     lower_ci_var_iqtree.append(float(line[3][:-1]))\n",
    "#     upper_ci_var_iqtree.append(float(line[4][:-1]))"
   ],
   "id": "4e79ee928ea76b59",
   "outputs": [],
   "execution_count": 18
  },
  {
   "metadata": {
    "ExecuteTime": {
     "end_time": "2024-10-08T14:13:42.559871Z",
     "start_time": "2024-10-08T14:13:42.555778Z"
    }
   },
   "cell_type": "code",
   "source": "node_name",
   "id": "2c17f55ec9626a0b",
   "outputs": [
    {
     "data": {
      "text/plain": [
       "['t_n55',\n",
       " 't_n56',\n",
       " 't_n57',\n",
       " 't_n58',\n",
       " 't_n59',\n",
       " 't_n60',\n",
       " 't_n61',\n",
       " 't_n62',\n",
       " 't_n63',\n",
       " 't_n64',\n",
       " 't_n65',\n",
       " 't_n66',\n",
       " 't_n67',\n",
       " 't_n68',\n",
       " 't_n69',\n",
       " 't_n70',\n",
       " 't_n71',\n",
       " 't_n72',\n",
       " 't_n73',\n",
       " 't_n74',\n",
       " 't_n75',\n",
       " 't_n76',\n",
       " 't_n77',\n",
       " 't_n78',\n",
       " 't_n79',\n",
       " 't_n80',\n",
       " 't_n81',\n",
       " 't_n82',\n",
       " 't_n83',\n",
       " 't_n84',\n",
       " 't_n85',\n",
       " 't_n86',\n",
       " 't_n87',\n",
       " 't_n88',\n",
       " 't_n89',\n",
       " 't_n90',\n",
       " 't_n91',\n",
       " 't_n92',\n",
       " 't_n93',\n",
       " 't_n94',\n",
       " 't_n95',\n",
       " 't_n96',\n",
       " 't_n97',\n",
       " 't_n98',\n",
       " 't_n99',\n",
       " 't_n100',\n",
       " 't_n101',\n",
       " 't_n102',\n",
       " 't_n103',\n",
       " 't_n104',\n",
       " 't_n105',\n",
       " 't_n106',\n",
       " 't_n107']"
      ]
     },
     "execution_count": 19,
     "metadata": {},
     "output_type": "execute_result"
    }
   ],
   "execution_count": 19
  },
  {
   "metadata": {
    "ExecuteTime": {
     "end_time": "2024-10-08T14:13:42.615162Z",
     "start_time": "2024-10-08T14:13:42.611392Z"
    }
   },
   "cell_type": "code",
   "source": "posterior_mean_iqtree",
   "id": "24a55c806a41f33e",
   "outputs": [
    {
     "data": {
      "text/plain": [
       "[6.6893,\n",
       " 6.5083,\n",
       " 6.3593,\n",
       " 6.0565,\n",
       " 5.9895,\n",
       " 5.8903,\n",
       " 5.7369,\n",
       " 3.9874,\n",
       " 5.0838,\n",
       " 4.5204,\n",
       " 4.2684,\n",
       " 3.4966,\n",
       " 3.199,\n",
       " 1.8823,\n",
       " 0.9187,\n",
       " 4.3744,\n",
       " 5.9387,\n",
       " 5.869,\n",
       " 5.7573,\n",
       " 5.04,\n",
       " 4.7566,\n",
       " 5.1644,\n",
       " 5.8755,\n",
       " 5.7685,\n",
       " 5.6863,\n",
       " 5.5306,\n",
       " 5.3573,\n",
       " 5.3079,\n",
       " 5.1531,\n",
       " 5.021,\n",
       " 4.8578,\n",
       " 4.0683,\n",
       " 3.8315,\n",
       " 5.0795,\n",
       " 4.6275,\n",
       " 5.835,\n",
       " 2.7641,\n",
       " 5.7872,\n",
       " 5.6554,\n",
       " 5.451,\n",
       " 5.3284,\n",
       " 4.6098,\n",
       " 4.9444,\n",
       " 5.2666,\n",
       " 5.1657,\n",
       " 4.9536,\n",
       " 4.0704,\n",
       " 4.8596,\n",
       " 6.1157,\n",
       " 5.3723,\n",
       " 4.201,\n",
       " 3.8772,\n",
       " 5.4535]"
      ]
     },
     "execution_count": 20,
     "metadata": {},
     "output_type": "execute_result"
    }
   ],
   "execution_count": 20
  },
  {
   "metadata": {
    "ExecuteTime": {
     "end_time": "2024-10-08T14:13:42.681067Z",
     "start_time": "2024-10-08T14:13:42.675118Z"
    }
   },
   "cell_type": "code",
   "source": "lower_ci_iqtree",
   "id": "388aa27ad336d43f",
   "outputs": [
    {
     "data": {
      "text/plain": [
       "[]"
      ]
     },
     "execution_count": 21,
     "metadata": {},
     "output_type": "execute_result"
    }
   ],
   "execution_count": 21
  },
  {
   "metadata": {
    "ExecuteTime": {
     "end_time": "2024-10-08T14:13:42.733647Z",
     "start_time": "2024-10-08T14:13:42.730020Z"
    }
   },
   "cell_type": "code",
   "source": "upper_ci_iqtree",
   "id": "816e569fb763e797",
   "outputs": [
    {
     "data": {
      "text/plain": [
       "[]"
      ]
     },
     "execution_count": 22,
     "metadata": {},
     "output_type": "execute_result"
    }
   ],
   "execution_count": 22
  },
  {
   "metadata": {
    "ExecuteTime": {
     "end_time": "2024-10-08T14:13:42.788176Z",
     "start_time": "2024-10-08T14:13:42.782934Z"
    }
   },
   "cell_type": "code",
   "source": [
    "file_LG = open(\"LG_all_out.txt\", \"r\")\n",
    "lines1 = file_LG.readlines()\n",
    "file_LG.close()\n",
    "\n",
    "# Extract the data\n",
    "data1 = []\n",
    "mu_data1 = []\n",
    "var_data1 = []\n",
    "\n",
    "read_flag = False\n",
    "for line in lines1:\n",
    "    if line.startswith(\"Posterior\"):\n",
    "        read_flag = True\n",
    "    if read_flag and line.startswith(\"t\"):\n",
    "        data1.append(line)\n",
    "    if read_flag and line.startswith(\"mu\"):\n",
    "        mu_data1.append(line)\n",
    "    if read_flag and line.startswith(\"sigma\"):\n",
    "        var_data1.append(line)\n",
    "\n",
    "        \n",
    "for line in data1:\n",
    "    line = line.strip().split()\n",
    "    # node_name.append(line[0])\n",
    "    posterior_mean_baseml.append(float(line[1]))\n",
    "#     if line[3].startswith('('):\n",
    "#         lower_ci_baseml.append(float(line[3][1:-1]))\n",
    "#     else:\n",
    "#          lower_ci_baseml.append(float(line[3][:-1]))\n",
    "#     if line[4].startswith('('):\n",
    "#         upper_ci_baseml.append(float(line[4][1:-1]))\n",
    "#     else:\n",
    "#          upper_ci_baseml.append(float(line[4][:-1]))\n",
    "#         \n",
    "#     \n",
    "# for line in mu_data1:\n",
    "#     line = line.strip().split()\n",
    "#     # node_name.append(line[0])\n",
    "#     posterior_mean_mu_baseml.append(float(line[1]))\n",
    "#     lower_ci_mu_baseml.append(float(line[3][:-1]))\n",
    "#     upper_ci_mu_baseml.append(float(line[4][:-1]))\n",
    "    \n",
    "# for line in var_data1:\n",
    "#     line = line.strip().split()\n",
    "#     # node_name.append(line[0])\n",
    "#     posterior_mean_var_baseml.append(float(line[1]))\n",
    "#     lower_ci_var_baseml.append(float(line[3][:-1]))\n",
    "#     upper_ci_var_baseml.append(float(line[4][:-1]))"
   ],
   "id": "f75c012c6bef60a2",
   "outputs": [],
   "execution_count": 23
  },
  {
   "metadata": {
    "ExecuteTime": {
     "end_time": "2024-10-08T14:13:42.842763Z",
     "start_time": "2024-10-08T14:13:42.835853Z"
    }
   },
   "cell_type": "code",
   "source": [
    "import matplotlib.pyplot as plt\n",
    "import numpy as np\n",
    "\n",
    "# # Example data\n",
    "# # Posterior means for MCMCtree (x-axis) and McmcDate (y-axis)\n",
    "# posterior_mean_mcmctree = [100, 200, 300, 400, 500, 600, 700, 800, 900, 1000]\n",
    "# posterior_mean_mcmcdate = [110, 210, 310, 410, 510, 610, 710, 810, 910, 1010]\n",
    "# \n",
    "# # Credible intervals for MCMCtree\n",
    "# lower_ci_mcmctree = [90, 180, 270, 360, 450, 540, 630, 720, 810, 900]\n",
    "# upper_ci_mcmctree = [110, 220, 330, 440, 550, 660, 770, 880, 990, 1100]\n",
    "# \n",
    "# # Credible intervals for McmcDate\n",
    "# lower_ci_mcmcdate = [100, 200, 300, 400, 500, 600, 700, 800, 900, 1000]\n",
    "# upper_ci_mcmcdate = [120, 220, 320, 420, 520, 620, 720, 820, 920, 1020]\n",
    "\n",
    "# Calculate error bars\n",
    "# xerr = [np.array(lower_ci_baseml), \n",
    "#         np.array(upper_ci_baseml)]\n",
    "# yerr = [np.array(lower_ci_iqtree), \n",
    "#         np.array(upper_ci_iqtree)]\n",
    "# \n",
    "# # Plotting\n",
    "# fig, ax = plt.subplots(figsize=(15, 15))\n",
    "# ax.plot([-0.1,90], \n",
    "#         [-0.1, 90], \n",
    "#         'k--', label='y=x')\n",
    "# ax.errorbar(posterior_mean_baseml, posterior_mean_iqtree, \n",
    "#             xerr=xerr, yerr=yerr, fmt='*', ecolor='r', capsize=3, label='95% HPD CI')\n",
    "# \n",
    "# # Labels and title\n",
    "# ax.set_xlabel('Posterior mean age LG [100 Mya]', fontsize=18)\n",
    "# ax.set_ylabel('Posterior mean age LG+G4 [100 Mya]', fontsize=18)\n",
    "# ax.set_title('Posterior mean age comparison between LG and LG+G4 models [t116 ~ B(1.25,2.482)]')\n",
    "# ax.legend()\n",
    "# \n",
    "# # Show plot\n",
    "# # plt.show()\n",
    "# plt.savefig('./animal_origin_posterior_mean_age_comparison_LG_G4_c11.png')"
   ],
   "id": "12db486fa4fac82c",
   "outputs": [],
   "execution_count": 24
  },
  {
   "metadata": {
    "ExecuteTime": {
     "end_time": "2024-10-08T14:13:42.908917Z",
     "start_time": "2024-10-08T14:13:42.901944Z"
    }
   },
   "cell_type": "code",
   "source": "posterior_mean_baseml",
   "id": "917b2e31cff4b992",
   "outputs": [
    {
     "data": {
      "text/plain": [
       "[6.7495,\n",
       " 6.6133,\n",
       " 6.3623,\n",
       " 6.0956,\n",
       " 5.9964,\n",
       " 5.861,\n",
       " 5.651,\n",
       " 4.2052,\n",
       " 5.0787,\n",
       " 4.5599,\n",
       " 4.2716,\n",
       " 3.4944,\n",
       " 3.2013,\n",
       " 1.8776,\n",
       " 0.9233,\n",
       " 4.4281,\n",
       " 5.8848,\n",
       " 5.3372,\n",
       " 5.6848,\n",
       " 5.0547,\n",
       " 4.6493,\n",
       " 5.1645,\n",
       " 5.9212,\n",
       " 5.7859,\n",
       " 5.6801,\n",
       " 5.5436,\n",
       " 5.3807,\n",
       " 5.3049,\n",
       " 5.1558,\n",
       " 5.0196,\n",
       " 4.8201,\n",
       " 4.2208,\n",
       " 3.7903,\n",
       " 5.1008,\n",
       " 4.6188,\n",
       " 5.8597,\n",
       " 3.6637,\n",
       " 5.7911,\n",
       " 5.6534,\n",
       " 5.4606,\n",
       " 5.3256,\n",
       " 4.7504,\n",
       " 4.9187,\n",
       " 5.3106,\n",
       " 5.0963,\n",
       " 4.6439,\n",
       " 4.3634,\n",
       " 4.8983,\n",
       " 6.1082,\n",
       " 5.4725,\n",
       " 4.4263,\n",
       " 4.4383,\n",
       " 5.6273]"
      ]
     },
     "execution_count": 25,
     "metadata": {},
     "output_type": "execute_result"
    }
   ],
   "execution_count": 25
  },
  {
   "metadata": {
    "ExecuteTime": {
     "end_time": "2024-10-08T14:13:42.972408Z",
     "start_time": "2024-10-08T14:13:42.968338Z"
    }
   },
   "cell_type": "code",
   "source": "posterior_mean_iqtree",
   "id": "59ad8fd34f7bbf11",
   "outputs": [
    {
     "data": {
      "text/plain": [
       "[6.6893,\n",
       " 6.5083,\n",
       " 6.3593,\n",
       " 6.0565,\n",
       " 5.9895,\n",
       " 5.8903,\n",
       " 5.7369,\n",
       " 3.9874,\n",
       " 5.0838,\n",
       " 4.5204,\n",
       " 4.2684,\n",
       " 3.4966,\n",
       " 3.199,\n",
       " 1.8823,\n",
       " 0.9187,\n",
       " 4.3744,\n",
       " 5.9387,\n",
       " 5.869,\n",
       " 5.7573,\n",
       " 5.04,\n",
       " 4.7566,\n",
       " 5.1644,\n",
       " 5.8755,\n",
       " 5.7685,\n",
       " 5.6863,\n",
       " 5.5306,\n",
       " 5.3573,\n",
       " 5.3079,\n",
       " 5.1531,\n",
       " 5.021,\n",
       " 4.8578,\n",
       " 4.0683,\n",
       " 3.8315,\n",
       " 5.0795,\n",
       " 4.6275,\n",
       " 5.835,\n",
       " 2.7641,\n",
       " 5.7872,\n",
       " 5.6554,\n",
       " 5.451,\n",
       " 5.3284,\n",
       " 4.6098,\n",
       " 4.9444,\n",
       " 5.2666,\n",
       " 5.1657,\n",
       " 4.9536,\n",
       " 4.0704,\n",
       " 4.8596,\n",
       " 6.1157,\n",
       " 5.3723,\n",
       " 4.201,\n",
       " 3.8772,\n",
       " 5.4535]"
      ]
     },
     "execution_count": 26,
     "metadata": {},
     "output_type": "execute_result"
    }
   ],
   "execution_count": 26
  },
  {
   "metadata": {
    "ExecuteTime": {
     "end_time": "2024-10-08T14:13:43.318610Z",
     "start_time": "2024-10-08T14:13:43.153667Z"
    }
   },
   "cell_type": "code",
   "source": [
    "# Calculate error bars\n",
    "xerr = [np.array(lower_ci_baseml), \n",
    "        np.array(upper_ci_baseml)]\n",
    "yerr = [np.array(lower_ci_iqtree), \n",
    "        np.array(upper_ci_iqtree)]\n",
    "\n",
    "# Plotting\n",
    "fig, ax = plt.subplots(figsize=(9 ,9))\n",
    "ax.plot([-0.1,17], \n",
    "        [-0.1, 17], \n",
    "        'k--', label='y=x')\n",
    "ax.plot(posterior_mean_baseml, posterior_mean_iqtree, 'o', label='Posterior mean age')\n",
    " \n",
    "# Labels and title\n",
    "ax.set_xlabel('Posterior mean age LG [Mya]', fontsize=18)\n",
    "ax.set_ylabel('Posterior mean age LG+G4+C60 [Mya]', fontsize=18)\n",
    "ax.set_title('Posterior mean age comparison between LG and LG+G4 [root only calibration]')\n",
    "ax.legend()\n",
    "\n",
    "# point_x = posterior_mean_baseml[0]  # Example: first point in the list\n",
    "# point_y = posterior_mean_iqtree[0]  # Example: first point in the list\n",
    "# ax.annotate('Root age', xy=(point_x, point_y), xytext=(point_x - 0.1, point_y - 0.1), color='red')\n",
    "# Show plot\n",
    "# plt.show()\n",
    "plt.savefig('./metazoa_posterior_mean_age_comparison_LG_G4_C60_all_scatter.png')"
   ],
   "id": "592d0bb72aa1ad4c",
   "outputs": [
    {
     "data": {
      "text/plain": [
       "<Figure size 900x900 with 1 Axes>"
      ],
      "image/png": "[encoded data removed]"
     },
     "metadata": {},
     "output_type": "display_data"
    }
   ],
   "execution_count": 27
  },
  {
   "metadata": {
    "ExecuteTime": {
     "end_time": "2024-10-08T14:13:43.329340Z",
     "start_time": "2024-10-08T14:13:43.326742Z"
    }
   },
   "cell_type": "code",
   "source": [
    "# fig, ax = plt.subplots(figsize=(9 ,9))\n",
    "# ax.plot([0.01,0.04], \n",
    "#         [0.01, 0.04], \n",
    "#         'k--', label='y=x')\n",
    "# ax.plot(posterior_mean_mu_baseml, posterior_mean_mu_iqtree, 'o', label='Posterior mean rates for partitions')\n",
    "#  \n",
    "# # Labels and title\n",
    "# ax.set_xlabel('Posterior mean rate [LG]', fontsize=18)\n",
    "# ax.set_ylabel('Posterior mean rate [LG+G4]', fontsize=18)\n",
    "# ax.set_title('Posterior mean rate comparison between LG and LG+G4 [Cherry only calibration/IQ-TREE]')\n",
    "# ax.legend()\n",
    "# \n",
    "# # point_x = posterior_mean_baseml[0]  # Example: first point in the list\n",
    "# # point_y = posterior_mean_iqtree[0]  # Example: first point in the list\n",
    "# # ax.annotate('Root age', xy=(point_x, point_y), xytext=(point_x - 0.1, point_y - 0.1), color='red')\n",
    "# # Show plot\n",
    "# # plt.show()\n",
    "# plt.savefig('./animal_origin__posterior_mean_rate_comparison_LG_G4_all_scatter.png')"
   ],
   "id": "c6d69ee36c77970c",
   "outputs": [],
   "execution_count": 28
  },
  {
   "metadata": {
    "ExecuteTime": {
     "end_time": "2024-10-08T14:13:43.370485Z",
     "start_time": "2024-10-08T14:13:43.368090Z"
    }
   },
   "cell_type": "code",
   "source": "",
   "id": "ca69d5b521db3aa7",
   "outputs": [],
   "execution_count": null
  }
 ],
 "metadata": {
  "kernelspec": {
   "display_name": "Python 3",
   "language": "python",
   "name": "python3"
  },
  "language_info": {
   "codemirror_mode": {
    "name": "ipython",
    "version": 2
   },
   "file_extension": ".py",
   "mimetype": "text/x-python",
   "name": "python",
   "nbconvert_exporter": "python",
   "pygments_lexer": "ipython2",
   "version": "2.7.6"
  }
 },
 "nbformat": 4,
 "nbformat_minor": 5
}
