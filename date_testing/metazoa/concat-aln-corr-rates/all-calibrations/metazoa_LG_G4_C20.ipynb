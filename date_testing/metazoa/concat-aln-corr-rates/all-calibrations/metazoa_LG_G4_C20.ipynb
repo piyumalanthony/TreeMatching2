{
 "cells": [
  {
   "cell_type": "code",
   "id": "initial_id",
   "metadata": {
    "collapsed": true,
    "ExecuteTime": {
     "end_time": "2024-10-08T14:12:08.497075Z",
     "start_time": "2024-10-08T14:12:08.493664Z"
    }
   },
   "source": [
    "# Code to get all the Posterior mean (95% Equal-tail CI) (95% HPD CI) HPD-CI-width from ./xenarthra_mcmc_out.txt\n",
    "import numpy as np\n",
    "import pandas as pd\n",
    "import matplotlib.pyplot as plt\n",
    "\n",
    "\n",
    "# Read the file\n",
    "file = open(\"LG_G4_C20_all_out.txt\", \"r\")\n",
    "lines = file.readlines()\n",
    "file.close()\n",
    "\n",
    "# Extract the data\n",
    "data = []\n",
    "mu_data = []\n",
    "var_data = []\n",
    "\n",
    "read_flag = False\n",
    "for line in lines:\n",
    "    if line.startswith(\"Posterior\"):\n",
    "        read_flag = True\n",
    "    if read_flag and line.startswith(\"t\"):\n",
    "        data.append(line)\n",
    "    if read_flag and line.startswith(\"mu\"):\n",
    "        mu_data.append(line)\n",
    "    if read_flag and line.startswith(\"sigma\"):\n",
    "        var_data.append(line)"
   ],
   "outputs": [],
   "execution_count": 15
  },
  {
   "metadata": {
    "ExecuteTime": {
     "end_time": "2024-10-08T14:12:08.552500Z",
     "start_time": "2024-10-08T14:12:08.547372Z"
    }
   },
   "cell_type": "code",
   "source": "data",
   "id": "54808ee54195795",
   "outputs": [
    {
     "data": {
      "text/plain": [
       "['t_n55          6.6889 ( 6.4281,  7.2460) ( 6.3816,  7.1276)  0.7460 (Jnode 106)\\n',\n",
       " 't_n56          6.5162 ( 6.3710,  6.6957) ( 6.3651,  6.6871)  0.3220 (Jnode 105)\\n',\n",
       " 't_n57          6.3578 ( 6.2468,  6.4658) ( 6.2531,  6.4704)  0.2173 (Jnode 104)\\n',\n",
       " 't_n58          6.0604 ( 5.9462,  6.1699) ( 5.9453,  6.1683)  0.2230 (Jnode 103)\\n',\n",
       " 't_n59          5.9887 ( 5.8745,  6.0996) ( 5.8758,  6.1005)  0.2247 (Jnode 102)\\n',\n",
       " 't_n60          5.8867 ( 5.7602,  6.0069) ( 5.7633,  6.0093)  0.2460 (Jnode 101)\\n',\n",
       " 't_n61          5.7344 ( 5.5544,  5.8809) ( 5.5675,  5.8910)  0.3234 (Jnode 100)\\n',\n",
       " 't_n62          4.0240 ( 1.9470,  5.0611) ( 2.4893,  5.2244)  2.7351 (Jnode 99)\\n',\n",
       " 't_n63          5.0924 ( 4.8302,  5.3474) ( 4.8200,  5.3342)  0.5141 (Jnode 98)\\n',\n",
       " 't_n64          4.5290 ( 4.3854,  4.6804) ( 4.3942,  4.6878)  0.2936 (Jnode 97)\\n',\n",
       " 't_n65          4.2687 ( 4.2084,  4.4132) ( 4.2060,  4.3819)  0.1759 (Jnode 96)\\n',\n",
       " 't_n66          3.4970 ( 3.4537,  3.5189) ( 3.4599,  3.5220)  0.0621 (Jnode 95)\\n',\n",
       " 't_n67          3.1991 ( 3.1804,  3.2464) ( 3.1795,  3.2351)  0.0557 (Jnode 94)\\n',\n",
       " 't_n68          1.8820 ( 1.6700,  2.0216) ( 1.6787,  2.0267)  0.3480 (Jnode 93)\\n',\n",
       " 't_n69          0.9146 ( 0.6339,  1.3011) ( 0.6151,  1.2402)  0.6251 (Jnode 92)\\n',\n",
       " 't_n70          4.4026 ( 3.7136,  4.9113) ( 3.7493,  4.9359)  1.1866 (Jnode 91)\\n',\n",
       " 't_n71          5.9331 ( 5.8155,  6.0462) ( 5.8168,  6.0469)  0.2301 (Jnode 90)\\n',\n",
       " 't_n72          5.8315 ( 5.6757,  5.9678) ( 5.6862,  5.9766)  0.2904 (Jnode 89)\\n',\n",
       " 't_n73          5.7565 ( 5.6106,  5.8844) ( 5.6155,  5.8881)  0.2726 (Jnode 88)\\n',\n",
       " 't_n74          5.0397 ( 4.2238,  5.4129) ( 4.3782,  5.4707)  1.0925 (Jnode 87)\\n',\n",
       " 't_n75          4.7554 ( 3.6790,  5.2756) ( 3.9448,  5.3495)  1.4047 (Jnode 86)\\n',\n",
       " 't_n76          5.1660 ( 5.0480,  5.4005) ( 5.0426,  5.3544)  0.3118 (Jnode 85)\\n',\n",
       " 't_n77          5.8781 ( 5.7765,  5.9823) ( 5.7735,  5.9791)  0.2056 (Jnode 84)\\n',\n",
       " 't_n78          5.7666 ( 5.6714,  5.8664) ( 5.6682,  5.8629)  0.1947 (Jnode 83)\\n',\n",
       " 't_n79          5.6837 ( 5.5918,  5.7827) ( 5.5877,  5.7784)  0.1908 (Jnode 82)\\n',\n",
       " 't_n80          5.5274 ( 5.4545,  5.6114) ( 5.4511,  5.6073)  0.1563 (Jnode 81)\\n',\n",
       " 't_n81          5.3582 ( 5.3218,  5.3966) ( 5.3205,  5.3949)  0.0744 (Jnode 80)\\n',\n",
       " 't_n82          5.3074 ( 5.2809,  5.3276) ( 5.2824,  5.3287)  0.0463 (Jnode 79)\\n',\n",
       " 't_n83          5.1537 ( 5.1403,  5.1811) ( 5.1396,  5.1761)  0.0364 (Jnode 78)\\n',\n",
       " 't_n84          5.0200 ( 4.9910,  5.0701) ( 4.9895,  5.0613)  0.0718 (Jnode 77)\\n',\n",
       " 't_n85          4.8599 ( 4.7174,  4.9654) ( 4.7313,  4.9731)  0.2418 (Jnode 76)\\n',\n",
       " 't_n86          4.0879 ( 3.4155,  4.4107) ( 3.4517,  4.4346)  0.9829 (Jnode 75)\\n',\n",
       " 't_n87          3.8267 ( 3.1182,  4.1601) ( 3.1618,  4.1841)  1.0223 (Jnode 74)\\n',\n",
       " 't_n88          5.0797 ( 4.9821,  5.1808) ( 4.9753,  5.1700)  0.1947 (Jnode 73)\\n',\n",
       " 't_n89          4.6123 ( 4.2008,  4.9233) ( 4.1921,  4.9128)  0.7208 (Jnode 72)\\n',\n",
       " 't_n90          5.8389 ( 5.7406,  5.9405) ( 5.7377,  5.9366)  0.1989 (Jnode 71)\\n',\n",
       " 't_n91          2.8110 ( 0.5469,  4.5490) ( 0.5974,  4.5949)  3.9976 (Jnode 70)\\n',\n",
       " 't_n92          5.7874 ( 5.6942,  5.8834) ( 5.6931,  5.8817)  0.1886 (Jnode 69)\\n',\n",
       " 't_n93          5.6550 ( 5.5749,  5.7355) ( 5.5750,  5.7355)  0.1606 (Jnode 68)\\n',\n",
       " 't_n94          5.4553 ( 5.4049,  5.4923) ( 5.4099,  5.4955)  0.0856 (Jnode 67)\\n',\n",
       " 't_n95          5.3267 ( 5.3007,  5.3801) ( 5.2996,  5.3703)  0.0707 (Jnode 66)\\n',\n",
       " 't_n96          4.6175 ( 3.4936,  5.0653) ( 3.8498,  5.1698)  1.3200 (Jnode 65)\\n',\n",
       " 't_n97          4.9421 ( 4.7313,  5.1655) ( 4.7227,  5.1549)  0.4323 (Jnode 64)\\n',\n",
       " 't_n98          5.2710 ( 4.9348,  5.4482) ( 5.0024,  5.4758)  0.4734 (Jnode 63)\\n',\n",
       " 't_n99          5.1663 ( 4.7765,  5.3788) ( 4.8414,  5.4160)  0.5746 (Jnode 62)\\n',\n",
       " 't_n100         4.9187 ( 4.2821,  5.2525) ( 4.4074,  5.3242)  0.9168 (Jnode 61)\\n',\n",
       " 't_n101         4.1177 ( 2.6930,  4.9191) ( 3.1755,  5.0324)  1.8569 (Jnode 60)\\n',\n",
       " 't_n102         4.8465 ( 3.6906,  5.3327) ( 4.0405,  5.3897)  1.3492 (Jnode 59)\\n',\n",
       " 't_n103         6.1134 ( 5.8627,  6.2654) ( 5.9011,  6.2850)  0.3839 (Jnode 58)\\n',\n",
       " 't_n104         5.3912 ( 4.5302,  5.8894) ( 4.7258,  5.9500)  1.2242 (Jnode 57)\\n',\n",
       " 't_n105         4.2512 ( 2.3001,  5.3482) ( 2.8531,  5.5170)  2.6639 (Jnode 56)\\n',\n",
       " 't_n106         3.9318 ( 1.2048,  5.2912) ( 1.6612,  5.4674)  3.8062 (Jnode 55)\\n',\n",
       " 't_n107         5.4631 ( 3.9396,  6.5178) ( 4.0702,  6.6143)  2.5441 (Jnode 54)\\n']"
      ]
     },
     "execution_count": 16,
     "metadata": {},
     "output_type": "execute_result"
    }
   ],
   "execution_count": 16
  },
  {
   "metadata": {
    "ExecuteTime": {
     "end_time": "2024-10-08T14:12:08.609468Z",
     "start_time": "2024-10-08T14:12:08.605029Z"
    }
   },
   "cell_type": "code",
   "source": [
    "node_name = []\n",
    "posterior_mean_iqtree = []\n",
    "posterior_mean_baseml = []\n",
    "\n",
    "posterior_mean_mu_iqtree = []\n",
    "posterior_mean_mu_baseml = []\n",
    "\n",
    "posterior_mean_var_iqtree = []\n",
    "posterior_mean_var_baseml = []\n",
    "\n",
    "lower_ci_iqtree = []\n",
    "upper_ci_iqtree = []\n",
    "\n",
    "lower_ci_mu_iqtree = []\n",
    "upper_ci_mu_iqtree = []\n",
    "\n",
    "lower_ci_var_iqtree = []\n",
    "upper_ci_var_iqtree = []\n",
    "\n",
    "# Credible intervals for McmcDate\n",
    "lower_ci_baseml = []\n",
    "upper_ci_baseml = []\n",
    "\n",
    "lower_ci_mu_baseml = []\n",
    "upper_ci_mu_baseml = []\n",
    "\n",
    "lower_ci_var_baseml = []\n",
    "upper_ci_var_baseml = []"
   ],
   "id": "e5cf93a69d327e61",
   "outputs": [],
   "execution_count": 17
  },
  {
   "metadata": {
    "ExecuteTime": {
     "end_time": "2024-10-08T14:12:08.661044Z",
     "start_time": "2024-10-08T14:12:08.657219Z"
    }
   },
   "cell_type": "code",
   "source": [
    "for line in data:\n",
    "    line = line.strip().split()\n",
    "    node_name.append(line[0])\n",
    "    posterior_mean_iqtree.append(float(line[1]))\n",
    "#     if line[3].startswith('('):\n",
    "#         lower_ci_iqtree.append(float(line[3][1:-1]))\n",
    "#     else:\n",
    "#         lower_ci_iqtree.append(float(line[3][1:-1]))\n",
    "#     if line[4].startswith('('):\n",
    "#         upper_ci_iqtree.append(float(line[4][1:-1]))\n",
    "#     else:\n",
    "#         upper_ci_iqtree.append(float(line[4][:-1]))\n",
    "#     # posterior_mean_baseml.append(float(line[4]))\n",
    "#     # lower_ci_baseml.append(float(line[5]))\n",
    "#     # upper_ci_baseml.append(float(line[6]))\n",
    "# \n",
    "# for line in mu_data:\n",
    "#     line = line.strip().split()\n",
    "#     # node_name.append(line[0])\n",
    "#     posterior_mean_mu_iqtree.append(float(line[1]))\n",
    "#     lower_ci_mu_iqtree.append(float(line[3][:-1]))\n",
    "#     upper_ci_mu_iqtree.append(float(line[4][:-1]))\n",
    "#\n",
    "# for line in var_data:\n",
    "#     line = line.strip().split()\n",
    "#     # node_name.append(line[0])\n",
    "#     posterior_mean_var_iqtree.append(float(line[1]))\n",
    "#     lower_ci_var_iqtree.append(float(line[3][:-1]))\n",
    "#     upper_ci_var_iqtree.append(float(line[4][:-1]))"
   ],
   "id": "4e79ee928ea76b59",
   "outputs": [],
   "execution_count": 18
  },
  {
   "metadata": {
    "ExecuteTime": {
     "end_time": "2024-10-08T14:12:08.716558Z",
     "start_time": "2024-10-08T14:12:08.711065Z"
    }
   },
   "cell_type": "code",
   "source": "node_name",
   "id": "2c17f55ec9626a0b",
   "outputs": [
    {
     "data": {
      "text/plain": [
       "['t_n55',\n",
       " 't_n56',\n",
       " 't_n57',\n",
       " 't_n58',\n",
       " 't_n59',\n",
       " 't_n60',\n",
       " 't_n61',\n",
       " 't_n62',\n",
       " 't_n63',\n",
       " 't_n64',\n",
       " 't_n65',\n",
       " 't_n66',\n",
       " 't_n67',\n",
       " 't_n68',\n",
       " 't_n69',\n",
       " 't_n70',\n",
       " 't_n71',\n",
       " 't_n72',\n",
       " 't_n73',\n",
       " 't_n74',\n",
       " 't_n75',\n",
       " 't_n76',\n",
       " 't_n77',\n",
       " 't_n78',\n",
       " 't_n79',\n",
       " 't_n80',\n",
       " 't_n81',\n",
       " 't_n82',\n",
       " 't_n83',\n",
       " 't_n84',\n",
       " 't_n85',\n",
       " 't_n86',\n",
       " 't_n87',\n",
       " 't_n88',\n",
       " 't_n89',\n",
       " 't_n90',\n",
       " 't_n91',\n",
       " 't_n92',\n",
       " 't_n93',\n",
       " 't_n94',\n",
       " 't_n95',\n",
       " 't_n96',\n",
       " 't_n97',\n",
       " 't_n98',\n",
       " 't_n99',\n",
       " 't_n100',\n",
       " 't_n101',\n",
       " 't_n102',\n",
       " 't_n103',\n",
       " 't_n104',\n",
       " 't_n105',\n",
       " 't_n106',\n",
       " 't_n107']"
      ]
     },
     "execution_count": 19,
     "metadata": {},
     "output_type": "execute_result"
    }
   ],
   "execution_count": 19
  },
  {
   "metadata": {
    "ExecuteTime": {
     "end_time": "2024-10-08T14:12:08.778512Z",
     "start_time": "2024-10-08T14:12:08.774394Z"
    }
   },
   "cell_type": "code",
   "source": "posterior_mean_iqtree",
   "id": "24a55c806a41f33e",
   "outputs": [
    {
     "data": {
      "text/plain": [
       "[6.6889,\n",
       " 6.5162,\n",
       " 6.3578,\n",
       " 6.0604,\n",
       " 5.9887,\n",
       " 5.8867,\n",
       " 5.7344,\n",
       " 4.024,\n",
       " 5.0924,\n",
       " 4.529,\n",
       " 4.2687,\n",
       " 3.497,\n",
       " 3.1991,\n",
       " 1.882,\n",
       " 0.9146,\n",
       " 4.4026,\n",
       " 5.9331,\n",
       " 5.8315,\n",
       " 5.7565,\n",
       " 5.0397,\n",
       " 4.7554,\n",
       " 5.166,\n",
       " 5.8781,\n",
       " 5.7666,\n",
       " 5.6837,\n",
       " 5.5274,\n",
       " 5.3582,\n",
       " 5.3074,\n",
       " 5.1537,\n",
       " 5.02,\n",
       " 4.8599,\n",
       " 4.0879,\n",
       " 3.8267,\n",
       " 5.0797,\n",
       " 4.6123,\n",
       " 5.8389,\n",
       " 2.811,\n",
       " 5.7874,\n",
       " 5.655,\n",
       " 5.4553,\n",
       " 5.3267,\n",
       " 4.6175,\n",
       " 4.9421,\n",
       " 5.271,\n",
       " 5.1663,\n",
       " 4.9187,\n",
       " 4.1177,\n",
       " 4.8465,\n",
       " 6.1134,\n",
       " 5.3912,\n",
       " 4.2512,\n",
       " 3.9318,\n",
       " 5.4631]"
      ]
     },
     "execution_count": 20,
     "metadata": {},
     "output_type": "execute_result"
    }
   ],
   "execution_count": 20
  },
  {
   "metadata": {
    "ExecuteTime": {
     "end_time": "2024-10-08T14:12:08.829714Z",
     "start_time": "2024-10-08T14:12:08.826042Z"
    }
   },
   "cell_type": "code",
   "source": "lower_ci_iqtree",
   "id": "388aa27ad336d43f",
   "outputs": [
    {
     "data": {
      "text/plain": [
       "[]"
      ]
     },
     "execution_count": 21,
     "metadata": {},
     "output_type": "execute_result"
    }
   ],
   "execution_count": 21
  },
  {
   "metadata": {
    "ExecuteTime": {
     "end_time": "2024-10-08T14:12:08.894434Z",
     "start_time": "2024-10-08T14:12:08.890461Z"
    }
   },
   "cell_type": "code",
   "source": "upper_ci_iqtree",
   "id": "816e569fb763e797",
   "outputs": [
    {
     "data": {
      "text/plain": [
       "[]"
      ]
     },
     "execution_count": 22,
     "metadata": {},
     "output_type": "execute_result"
    }
   ],
   "execution_count": 22
  },
  {
   "metadata": {
    "ExecuteTime": {
     "end_time": "2024-10-08T14:12:08.948122Z",
     "start_time": "2024-10-08T14:12:08.942972Z"
    }
   },
   "cell_type": "code",
   "source": [
    "file_LG = open(\"LG_all_out.txt\", \"r\")\n",
    "lines1 = file_LG.readlines()\n",
    "file_LG.close()\n",
    "\n",
    "# Extract the data\n",
    "data1 = []\n",
    "mu_data1 = []\n",
    "var_data1 = []\n",
    "\n",
    "read_flag = False\n",
    "for line in lines1:\n",
    "    if line.startswith(\"Posterior\"):\n",
    "        read_flag = True\n",
    "    if read_flag and line.startswith(\"t\"):\n",
    "        data1.append(line)\n",
    "    if read_flag and line.startswith(\"mu\"):\n",
    "        mu_data1.append(line)\n",
    "    if read_flag and line.startswith(\"sigma\"):\n",
    "        var_data1.append(line)\n",
    "\n",
    "        \n",
    "for line in data1:\n",
    "    line = line.strip().split()\n",
    "    # node_name.append(line[0])\n",
    "    posterior_mean_baseml.append(float(line[1]))\n",
    "#     if line[3].startswith('('):\n",
    "#         lower_ci_baseml.append(float(line[3][1:-1]))\n",
    "#     else:\n",
    "#          lower_ci_baseml.append(float(line[3][:-1]))\n",
    "#     if line[4].startswith('('):\n",
    "#         upper_ci_baseml.append(float(line[4][1:-1]))\n",
    "#     else:\n",
    "#          upper_ci_baseml.append(float(line[4][:-1]))\n",
    "#         \n",
    "#     \n",
    "# for line in mu_data1:\n",
    "#     line = line.strip().split()\n",
    "#     # node_name.append(line[0])\n",
    "#     posterior_mean_mu_baseml.append(float(line[1]))\n",
    "#     lower_ci_mu_baseml.append(float(line[3][:-1]))\n",
    "#     upper_ci_mu_baseml.append(float(line[4][:-1]))\n",
    "    \n",
    "# for line in var_data1:\n",
    "#     line = line.strip().split()\n",
    "#     # node_name.append(line[0])\n",
    "#     posterior_mean_var_baseml.append(float(line[1]))\n",
    "#     lower_ci_var_baseml.append(float(line[3][:-1]))\n",
    "#     upper_ci_var_baseml.append(float(line[4][:-1]))"
   ],
   "id": "f75c012c6bef60a2",
   "outputs": [],
   "execution_count": 23
  },
  {
   "metadata": {
    "ExecuteTime": {
     "end_time": "2024-10-08T14:12:09.002339Z",
     "start_time": "2024-10-08T14:12:08.997138Z"
    }
   },
   "cell_type": "code",
   "source": [
    "import matplotlib.pyplot as plt\n",
    "import numpy as np\n",
    "\n",
    "# # Example data\n",
    "# # Posterior means for MCMCtree (x-axis) and McmcDate (y-axis)\n",
    "# posterior_mean_mcmctree = [100, 200, 300, 400, 500, 600, 700, 800, 900, 1000]\n",
    "# posterior_mean_mcmcdate = [110, 210, 310, 410, 510, 610, 710, 810, 910, 1010]\n",
    "# \n",
    "# # Credible intervals for MCMCtree\n",
    "# lower_ci_mcmctree = [90, 180, 270, 360, 450, 540, 630, 720, 810, 900]\n",
    "# upper_ci_mcmctree = [110, 220, 330, 440, 550, 660, 770, 880, 990, 1100]\n",
    "# \n",
    "# # Credible intervals for McmcDate\n",
    "# lower_ci_mcmcdate = [100, 200, 300, 400, 500, 600, 700, 800, 900, 1000]\n",
    "# upper_ci_mcmcdate = [120, 220, 320, 420, 520, 620, 720, 820, 920, 1020]\n",
    "\n",
    "# Calculate error bars\n",
    "# xerr = [np.array(lower_ci_baseml), \n",
    "#         np.array(upper_ci_baseml)]\n",
    "# yerr = [np.array(lower_ci_iqtree), \n",
    "#         np.array(upper_ci_iqtree)]\n",
    "# \n",
    "# # Plotting\n",
    "# fig, ax = plt.subplots(figsize=(15, 15))\n",
    "# ax.plot([-0.1,90], \n",
    "#         [-0.1, 90], \n",
    "#         'k--', label='y=x')\n",
    "# ax.errorbar(posterior_mean_baseml, posterior_mean_iqtree, \n",
    "#             xerr=xerr, yerr=yerr, fmt='*', ecolor='r', capsize=3, label='95% HPD CI')\n",
    "# \n",
    "# # Labels and title\n",
    "# ax.set_xlabel('Posterior mean age LG [100 Mya]', fontsize=18)\n",
    "# ax.set_ylabel('Posterior mean age LG+G4 [100 Mya]', fontsize=18)\n",
    "# ax.set_title('Posterior mean age comparison between LG and LG+G4 models [t116 ~ B(1.25,2.482)]')\n",
    "# ax.legend()\n",
    "# \n",
    "# # Show plot\n",
    "# # plt.show()\n",
    "# plt.savefig('./animal_origin_posterior_mean_age_comparison_LG_G4_c11.png')"
   ],
   "id": "12db486fa4fac82c",
   "outputs": [],
   "execution_count": 24
  },
  {
   "metadata": {
    "ExecuteTime": {
     "end_time": "2024-10-08T14:12:09.055469Z",
     "start_time": "2024-10-08T14:12:09.051305Z"
    }
   },
   "cell_type": "code",
   "source": "posterior_mean_baseml",
   "id": "917b2e31cff4b992",
   "outputs": [
    {
     "data": {
      "text/plain": [
       "[6.7495,\n",
       " 6.6133,\n",
       " 6.3623,\n",
       " 6.0956,\n",
       " 5.9964,\n",
       " 5.861,\n",
       " 5.651,\n",
       " 4.2052,\n",
       " 5.0787,\n",
       " 4.5599,\n",
       " 4.2716,\n",
       " 3.4944,\n",
       " 3.2013,\n",
       " 1.8776,\n",
       " 0.9233,\n",
       " 4.4281,\n",
       " 5.8848,\n",
       " 5.3372,\n",
       " 5.6848,\n",
       " 5.0547,\n",
       " 4.6493,\n",
       " 5.1645,\n",
       " 5.9212,\n",
       " 5.7859,\n",
       " 5.6801,\n",
       " 5.5436,\n",
       " 5.3807,\n",
       " 5.3049,\n",
       " 5.1558,\n",
       " 5.0196,\n",
       " 4.8201,\n",
       " 4.2208,\n",
       " 3.7903,\n",
       " 5.1008,\n",
       " 4.6188,\n",
       " 5.8597,\n",
       " 3.6637,\n",
       " 5.7911,\n",
       " 5.6534,\n",
       " 5.4606,\n",
       " 5.3256,\n",
       " 4.7504,\n",
       " 4.9187,\n",
       " 5.3106,\n",
       " 5.0963,\n",
       " 4.6439,\n",
       " 4.3634,\n",
       " 4.8983,\n",
       " 6.1082,\n",
       " 5.4725,\n",
       " 4.4263,\n",
       " 4.4383,\n",
       " 5.6273]"
      ]
     },
     "execution_count": 25,
     "metadata": {},
     "output_type": "execute_result"
    }
   ],
   "execution_count": 25
  },
  {
   "metadata": {
    "ExecuteTime": {
     "end_time": "2024-10-08T14:12:09.117097Z",
     "start_time": "2024-10-08T14:12:09.112551Z"
    }
   },
   "cell_type": "code",
   "source": "posterior_mean_iqtree",
   "id": "59ad8fd34f7bbf11",
   "outputs": [
    {
     "data": {
      "text/plain": [
       "[6.6889,\n",
       " 6.5162,\n",
       " 6.3578,\n",
       " 6.0604,\n",
       " 5.9887,\n",
       " 5.8867,\n",
       " 5.7344,\n",
       " 4.024,\n",
       " 5.0924,\n",
       " 4.529,\n",
       " 4.2687,\n",
       " 3.497,\n",
       " 3.1991,\n",
       " 1.882,\n",
       " 0.9146,\n",
       " 4.4026,\n",
       " 5.9331,\n",
       " 5.8315,\n",
       " 5.7565,\n",
       " 5.0397,\n",
       " 4.7554,\n",
       " 5.166,\n",
       " 5.8781,\n",
       " 5.7666,\n",
       " 5.6837,\n",
       " 5.5274,\n",
       " 5.3582,\n",
       " 5.3074,\n",
       " 5.1537,\n",
       " 5.02,\n",
       " 4.8599,\n",
       " 4.0879,\n",
       " 3.8267,\n",
       " 5.0797,\n",
       " 4.6123,\n",
       " 5.8389,\n",
       " 2.811,\n",
       " 5.7874,\n",
       " 5.655,\n",
       " 5.4553,\n",
       " 5.3267,\n",
       " 4.6175,\n",
       " 4.9421,\n",
       " 5.271,\n",
       " 5.1663,\n",
       " 4.9187,\n",
       " 4.1177,\n",
       " 4.8465,\n",
       " 6.1134,\n",
       " 5.3912,\n",
       " 4.2512,\n",
       " 3.9318,\n",
       " 5.4631]"
      ]
     },
     "execution_count": 26,
     "metadata": {},
     "output_type": "execute_result"
    }
   ],
   "execution_count": 26
  },
  {
   "metadata": {
    "ExecuteTime": {
     "end_time": "2024-10-08T14:12:09.479404Z",
     "start_time": "2024-10-08T14:12:09.298443Z"
    }
   },
   "cell_type": "code",
   "source": [
    "# Calculate error bars\n",
    "xerr = [np.array(lower_ci_baseml), \n",
    "        np.array(upper_ci_baseml)]\n",
    "yerr = [np.array(lower_ci_iqtree), \n",
    "        np.array(upper_ci_iqtree)]\n",
    "\n",
    "# Plotting\n",
    "fig, ax = plt.subplots(figsize=(9 ,9))\n",
    "ax.plot([-0.1,17], \n",
    "        [-0.1, 17], \n",
    "        'k--', label='y=x')\n",
    "ax.plot(posterior_mean_baseml, posterior_mean_iqtree, 'o', label='Posterior mean age')\n",
    " \n",
    "# Labels and title\n",
    "ax.set_xlabel('Posterior mean age LG [Mya]', fontsize=18)\n",
    "ax.set_ylabel('Posterior mean age LG+G4+C20 [Mya]', fontsize=18)\n",
    "ax.set_title('Posterior mean age comparison between LG and LG+G4 [all calibration]')\n",
    "ax.legend()\n",
    "\n",
    "# point_x = posterior_mean_baseml[0]  # Example: first point in the list\n",
    "# point_y = posterior_mean_iqtree[0]  # Example: first point in the list\n",
    "# ax.annotate('Root age', xy=(point_x, point_y), xytext=(point_x - 0.1, point_y - 0.1), color='red')\n",
    "# Show plot\n",
    "# plt.show()\n",
    "plt.savefig('metazoa_posterior_mean_age_comparison_LG_G4_C20_all_scatter.png')"
   ],
   "id": "592d0bb72aa1ad4c",
   "outputs": [
    {
     "data": {
      "text/plain": [
       "<Figure size 900x900 with 1 Axes>"
      ],
      "image/png": "[encoded data removed]"
     },
     "metadata": {},
     "output_type": "display_data"
    }
   ],
   "execution_count": 27
  },
  {
   "metadata": {
    "ExecuteTime": {
     "end_time": "2024-10-08T14:12:09.497492Z",
     "start_time": "2024-10-08T14:12:09.494449Z"
    }
   },
   "cell_type": "code",
   "source": [
    "# fig, ax = plt.subplots(figsize=(9 ,9))\n",
    "# ax.plot([0.01,0.04], \n",
    "#         [0.01, 0.04], \n",
    "#         'k--', label='y=x')\n",
    "# ax.plot(posterior_mean_mu_baseml, posterior_mean_mu_iqtree, 'o', label='Posterior mean rates for partitions')\n",
    "#  \n",
    "# # Labels and title\n",
    "# ax.set_xlabel('Posterior mean rate [LG]', fontsize=18)\n",
    "# ax.set_ylabel('Posterior mean rate [LG+G4]', fontsize=18)\n",
    "# ax.set_title('Posterior mean rate comparison between LG and LG+G4 [Cherry only calibration/IQ-TREE]')\n",
    "# ax.legend()\n",
    "# \n",
    "# # point_x = posterior_mean_baseml[0]  # Example: first point in the list\n",
    "# # point_y = posterior_mean_iqtree[0]  # Example: first point in the list\n",
    "# # ax.annotate('Root age', xy=(point_x, point_y), xytext=(point_x - 0.1, point_y - 0.1), color='red')\n",
    "# # Show plot\n",
    "# # plt.show()\n",
    "# plt.savefig('./animal_origin__posterior_mean_rate_comparison_LG_G4_all_scatter.png')"
   ],
   "id": "c6d69ee36c77970c",
   "outputs": [],
   "execution_count": 28
  },
  {
   "metadata": {
    "ExecuteTime": {
     "end_time": "2024-10-08T14:12:09.542865Z",
     "start_time": "2024-10-08T14:12:09.540810Z"
    }
   },
   "cell_type": "code",
   "source": "",
   "id": "ca69d5b521db3aa7",
   "outputs": [],
   "execution_count": null
  }
 ],
 "metadata": {
  "kernelspec": {
   "display_name": "Python 3",
   "language": "python",
   "name": "python3"
  },
  "language_info": {
   "codemirror_mode": {
    "name": "ipython",
    "version": 2
   },
   "file_extension": ".py",
   "mimetype": "text/x-python",
   "name": "python",
   "nbconvert_exporter": "python",
   "pygments_lexer": "ipython2",
   "version": "2.7.6"
  }
 },
 "nbformat": 4,
 "nbformat_minor": 5
}
