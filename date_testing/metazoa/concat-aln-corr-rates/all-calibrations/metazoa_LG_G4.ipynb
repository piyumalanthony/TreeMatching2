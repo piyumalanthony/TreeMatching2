{
 "cells": [
  {
   "cell_type": "code",
   "id": "initial_id",
   "metadata": {
    "collapsed": true,
    "ExecuteTime": {
     "end_time": "2024-10-08T14:08:57.327428Z",
     "start_time": "2024-10-08T14:08:57.322843Z"
    }
   },
   "source": [
    "# Code to get all the Posterior mean (95% Equal-tail CI) (95% HPD CI) HPD-CI-width from ./xenarthra_mcmc_out.txt\n",
    "import numpy as np\n",
    "import pandas as pd\n",
    "import matplotlib.pyplot as plt\n",
    "\n",
    "\n",
    "# Read the file\n",
    "file = open(\"LG_G4_all_out.txt\", \"r\")\n",
    "lines = file.readlines()\n",
    "file.close()\n",
    "\n",
    "# Extract the data\n",
    "data = []\n",
    "mu_data = []\n",
    "var_data = []\n",
    "\n",
    "read_flag = False\n",
    "for line in lines:\n",
    "    if line.startswith(\"Posterior\"):\n",
    "        read_flag = True\n",
    "    if read_flag and line.startswith(\"t\"):\n",
    "        data.append(line)\n",
    "    if read_flag and line.startswith(\"mu\"):\n",
    "        mu_data.append(line)\n",
    "    if read_flag and line.startswith(\"sigma\"):\n",
    "        var_data.append(line)"
   ],
   "outputs": [],
   "execution_count": 29
  },
  {
   "metadata": {
    "ExecuteTime": {
     "end_time": "2024-10-08T14:08:57.378716Z",
     "start_time": "2024-10-08T14:08:57.374372Z"
    }
   },
   "cell_type": "code",
   "source": "data",
   "id": "54808ee54195795",
   "outputs": [
    {
     "data": {
      "text/plain": [
       "['t_n55          6.7055 ( 6.4518,  7.2352) ( 6.3985,  7.1065)  0.7080 (Jnode 106)\\n',\n",
       " 't_n56          6.5605 ( 6.4051,  6.7723) ( 6.3859,  6.7455)  0.3597 (Jnode 105)\\n',\n",
       " 't_n57          6.3624 ( 6.2555,  6.4734) ( 6.2579,  6.4753)  0.2175 (Jnode 104)\\n',\n",
       " 't_n58          6.0792 ( 5.9645,  6.1901) ( 5.9688,  6.1938)  0.2251 (Jnode 103)\\n',\n",
       " 't_n59          5.9980 ( 5.8803,  6.1136) ( 5.8784,  6.1114)  0.2330 (Jnode 102)\\n',\n",
       " 't_n60          5.8898 ( 5.7528,  6.0182) ( 5.7560,  6.0213)  0.2653 (Jnode 101)\\n',\n",
       " 't_n61          5.7101 ( 5.5106,  5.8714) ( 5.5248,  5.8824)  0.3577 (Jnode 100)\\n',\n",
       " 't_n62          4.2028 ( 2.3965,  5.1264) ( 3.0277,  5.3413)  2.3136 (Jnode 99)\\n',\n",
       " 't_n63          5.0982 ( 4.8256,  5.3616) ( 4.8260,  5.3619)  0.5358 (Jnode 98)\\n',\n",
       " 't_n64          4.5489 ( 4.3987,  4.6854) ( 4.4082,  4.6906)  0.2823 (Jnode 97)\\n',\n",
       " 't_n65          4.2712 ( 4.2085,  4.4112) ( 4.2063,  4.3834)  0.1771 (Jnode 96)\\n',\n",
       " 't_n66          3.4954 ( 3.4479,  3.5184) ( 3.4552,  3.5220)  0.0668 (Jnode 95)\\n',\n",
       " 't_n67          3.2003 ( 3.1804,  3.2496) ( 3.1796,  3.2384)  0.0588 (Jnode 94)\\n',\n",
       " 't_n68          1.8805 ( 1.6684,  2.0207) ( 1.6800,  2.0290)  0.3490 (Jnode 93)\\n',\n",
       " 't_n69          0.9244 ( 0.6337,  1.3258) ( 0.6147,  1.2596)  0.6449 (Jnode 92)\\n',\n",
       " 't_n70          4.4180 ( 3.7212,  4.9180) ( 3.7619,  4.9456)  1.1837 (Jnode 91)\\n',\n",
       " 't_n71          5.9202 ( 5.7927,  6.0423) ( 5.7917,  6.0413)  0.2496 (Jnode 90)\\n',\n",
       " 't_n72          5.6342 ( 5.1490,  5.8531) ( 5.2877,  5.8911)  0.6034 (Jnode 89)\\n',\n",
       " 't_n73          5.7333 ( 5.5662,  5.8785) ( 5.5797,  5.8875)  0.3078 (Jnode 88)\\n',\n",
       " 't_n74          5.0646 ( 4.2793,  5.4361) ( 4.4602,  5.5111)  1.0509 (Jnode 87)\\n',\n",
       " 't_n75          4.7140 ( 3.6009,  5.2651) ( 3.8745,  5.3607)  1.4862 (Jnode 86)\\n',\n",
       " 't_n76          5.1715 ( 5.0481,  5.4186) ( 5.0416,  5.3729)  0.3313 (Jnode 85)\\n',\n",
       " 't_n77          5.8929 ( 5.7900,  5.9963) ( 5.7876,  5.9934)  0.2058 (Jnode 84)\\n',\n",
       " 't_n78          5.7674 ( 5.6729,  5.8658) ( 5.6725,  5.8652)  0.1927 (Jnode 83)\\n',\n",
       " 't_n79          5.6693 ( 5.5799,  5.7653) ( 5.5767,  5.7618)  0.1851 (Jnode 82)\\n',\n",
       " 't_n80          5.5396 ( 5.4651,  5.6260) ( 5.4635,  5.6235)  0.1600 (Jnode 81)\\n',\n",
       " 't_n81          5.3695 ( 5.3307,  5.4106) ( 5.3297,  5.4095)  0.0798 (Jnode 80)\\n',\n",
       " 't_n82          5.3067 ( 5.2801,  5.3267) ( 5.2810,  5.3275)  0.0464 (Jnode 79)\\n',\n",
       " 't_n83          5.1535 ( 5.1403,  5.1816) ( 5.1395,  5.1758)  0.0362 (Jnode 78)\\n',\n",
       " 't_n84          5.0222 ( 4.9911,  5.0745) ( 4.9894,  5.0652)  0.0758 (Jnode 77)\\n',\n",
       " 't_n85          4.8393 ( 4.6683,  4.9586) ( 4.6919,  4.9702)  0.2782 (Jnode 76)\\n',\n",
       " 't_n86          4.1721 ( 3.5226,  4.4842) ( 3.6270,  4.5349)  0.9079 (Jnode 75)\\n',\n",
       " 't_n87          3.8206 ( 3.1342,  4.1537) ( 3.1917,  4.1856)  0.9939 (Jnode 74)\\n',\n",
       " 't_n88          5.0929 ( 4.9841,  5.1975) ( 4.9753,  5.1853)  0.2100 (Jnode 73)\\n',\n",
       " 't_n89          4.6162 ( 4.2014,  4.9362) ( 4.1969,  4.9295)  0.7327 (Jnode 72)\\n',\n",
       " 't_n90          5.8421 ( 5.7435,  5.9428) ( 5.7460,  5.9449)  0.1989 (Jnode 71)\\n',\n",
       " 't_n91          3.2709 ( 0.6865,  4.8435) ( 0.8354,  4.9226)  4.0872 (Jnode 70)\\n',\n",
       " 't_n92          5.7838 ( 5.6913,  5.8803) ( 5.6878,  5.8761)  0.1884 (Jnode 69)\\n',\n",
       " 't_n93          5.6483 ( 5.5694,  5.7312) ( 5.5659,  5.7275)  0.1616 (Jnode 68)\\n',\n",
       " 't_n94          5.4563 ( 5.4066,  5.4923) ( 5.4105,  5.4946)  0.0842 (Jnode 67)\\n',\n",
       " 't_n95          5.3261 ( 5.3007,  5.3779) ( 5.2994,  5.3680)  0.0685 (Jnode 66)\\n',\n",
       " 't_n96          4.6731 ( 3.5056,  5.0993) ( 3.9411,  5.1805)  1.2394 (Jnode 65)\\n',\n",
       " 't_n97          4.9265 ( 4.7245,  5.1506) ( 4.7068,  5.1272)  0.4204 (Jnode 64)\\n',\n",
       " 't_n98          5.2923 ( 4.9547,  5.4654) ( 5.0334,  5.4970)  0.4636 (Jnode 63)\\n',\n",
       " 't_n99          5.1415 ( 4.7116,  5.3676) ( 4.7933,  5.4008)  0.6075 (Jnode 62)\\n',\n",
       " 't_n100         4.7844 ( 4.0540,  5.1911) ( 4.1686,  5.2422)  1.0736 (Jnode 61)\\n',\n",
       " 't_n101         4.2818 ( 3.0947,  5.0298) ( 3.2403,  5.0683)  1.8281 (Jnode 60)\\n',\n",
       " 't_n102         4.8478 ( 3.6715,  5.3445) ( 4.0402,  5.4238)  1.3836 (Jnode 59)\\n',\n",
       " 't_n103         6.1294 ( 5.8921,  6.2764) ( 5.9276,  6.2936)  0.3660 (Jnode 58)\\n',\n",
       " 't_n104         5.4690 ( 4.5794,  5.9257) ( 4.7784,  5.9789)  1.2005 (Jnode 57)\\n',\n",
       " 't_n105         4.3844 ( 2.2648,  5.4001) ( 2.9927,  5.6673)  2.6746 (Jnode 56)\\n',\n",
       " 't_n106         4.2898 ( 1.8166,  5.3635) ( 2.3308,  5.5948)  3.2640 (Jnode 55)\\n',\n",
       " 't_n107         5.5527 ( 4.0834,  6.6369) ( 4.1462,  6.6714)  2.5252 (Jnode 54)\\n']"
      ]
     },
     "execution_count": 30,
     "metadata": {},
     "output_type": "execute_result"
    }
   ],
   "execution_count": 30
  },
  {
   "metadata": {
    "ExecuteTime": {
     "end_time": "2024-10-08T14:08:57.431179Z",
     "start_time": "2024-10-08T14:08:57.427696Z"
    }
   },
   "cell_type": "code",
   "source": [
    "node_name = []\n",
    "posterior_mean_iqtree = []\n",
    "posterior_mean_baseml = []\n",
    "\n",
    "posterior_mean_mu_iqtree = []\n",
    "posterior_mean_mu_baseml = []\n",
    "\n",
    "posterior_mean_var_iqtree = []\n",
    "posterior_mean_var_baseml = []\n",
    "\n",
    "lower_ci_iqtree = []\n",
    "upper_ci_iqtree = []\n",
    "\n",
    "lower_ci_mu_iqtree = []\n",
    "upper_ci_mu_iqtree = []\n",
    "\n",
    "lower_ci_var_iqtree = []\n",
    "upper_ci_var_iqtree = []\n",
    "\n",
    "# Credible intervals for McmcDate\n",
    "lower_ci_baseml = []\n",
    "upper_ci_baseml = []\n",
    "\n",
    "lower_ci_mu_baseml = []\n",
    "upper_ci_mu_baseml = []\n",
    "\n",
    "lower_ci_var_baseml = []\n",
    "upper_ci_var_baseml = []"
   ],
   "id": "e5cf93a69d327e61",
   "outputs": [],
   "execution_count": 31
  },
  {
   "metadata": {
    "ExecuteTime": {
     "end_time": "2024-10-08T14:08:57.484272Z",
     "start_time": "2024-10-08T14:08:57.479491Z"
    }
   },
   "cell_type": "code",
   "source": [
    "for line in data:\n",
    "    line = line.strip().split()\n",
    "    node_name.append(line[0])\n",
    "    posterior_mean_iqtree.append(float(line[1]))\n",
    "#     if line[3].startswith('('):\n",
    "#         lower_ci_iqtree.append(float(line[3][1:-1]))\n",
    "#     else:\n",
    "#         lower_ci_iqtree.append(float(line[3][1:-1]))\n",
    "#     if line[4].startswith('('):\n",
    "#         upper_ci_iqtree.append(float(line[4][1:-1]))\n",
    "#     else:\n",
    "#         upper_ci_iqtree.append(float(line[4][:-1]))\n",
    "#     # posterior_mean_baseml.append(float(line[4]))\n",
    "#     # lower_ci_baseml.append(float(line[5]))\n",
    "#     # upper_ci_baseml.append(float(line[6]))\n",
    "# \n",
    "# for line in mu_data:\n",
    "#     line = line.strip().split()\n",
    "#     # node_name.append(line[0])\n",
    "#     posterior_mean_mu_iqtree.append(float(line[1]))\n",
    "#     lower_ci_mu_iqtree.append(float(line[3][:-1]))\n",
    "#     upper_ci_mu_iqtree.append(float(line[4][:-1]))\n",
    "#\n",
    "# for line in var_data:\n",
    "#     line = line.strip().split()\n",
    "#     # node_name.append(line[0])\n",
    "#     posterior_mean_var_iqtree.append(float(line[1]))\n",
    "#     lower_ci_var_iqtree.append(float(line[3][:-1]))\n",
    "#     upper_ci_var_iqtree.append(float(line[4][:-1]))"
   ],
   "id": "4e79ee928ea76b59",
   "outputs": [],
   "execution_count": 32
  },
  {
   "metadata": {
    "ExecuteTime": {
     "end_time": "2024-10-08T14:08:57.542240Z",
     "start_time": "2024-10-08T14:08:57.538236Z"
    }
   },
   "cell_type": "code",
   "source": "node_name",
   "id": "2c17f55ec9626a0b",
   "outputs": [
    {
     "data": {
      "text/plain": [
       "['t_n55',\n",
       " 't_n56',\n",
       " 't_n57',\n",
       " 't_n58',\n",
       " 't_n59',\n",
       " 't_n60',\n",
       " 't_n61',\n",
       " 't_n62',\n",
       " 't_n63',\n",
       " 't_n64',\n",
       " 't_n65',\n",
       " 't_n66',\n",
       " 't_n67',\n",
       " 't_n68',\n",
       " 't_n69',\n",
       " 't_n70',\n",
       " 't_n71',\n",
       " 't_n72',\n",
       " 't_n73',\n",
       " 't_n74',\n",
       " 't_n75',\n",
       " 't_n76',\n",
       " 't_n77',\n",
       " 't_n78',\n",
       " 't_n79',\n",
       " 't_n80',\n",
       " 't_n81',\n",
       " 't_n82',\n",
       " 't_n83',\n",
       " 't_n84',\n",
       " 't_n85',\n",
       " 't_n86',\n",
       " 't_n87',\n",
       " 't_n88',\n",
       " 't_n89',\n",
       " 't_n90',\n",
       " 't_n91',\n",
       " 't_n92',\n",
       " 't_n93',\n",
       " 't_n94',\n",
       " 't_n95',\n",
       " 't_n96',\n",
       " 't_n97',\n",
       " 't_n98',\n",
       " 't_n99',\n",
       " 't_n100',\n",
       " 't_n101',\n",
       " 't_n102',\n",
       " 't_n103',\n",
       " 't_n104',\n",
       " 't_n105',\n",
       " 't_n106',\n",
       " 't_n107']"
      ]
     },
     "execution_count": 33,
     "metadata": {},
     "output_type": "execute_result"
    }
   ],
   "execution_count": 33
  },
  {
   "metadata": {
    "ExecuteTime": {
     "end_time": "2024-10-08T14:08:57.608001Z",
     "start_time": "2024-10-08T14:08:57.601982Z"
    }
   },
   "cell_type": "code",
   "source": "posterior_mean_iqtree",
   "id": "24a55c806a41f33e",
   "outputs": [
    {
     "data": {
      "text/plain": [
       "[6.7055,\n",
       " 6.5605,\n",
       " 6.3624,\n",
       " 6.0792,\n",
       " 5.998,\n",
       " 5.8898,\n",
       " 5.7101,\n",
       " 4.2028,\n",
       " 5.0982,\n",
       " 4.5489,\n",
       " 4.2712,\n",
       " 3.4954,\n",
       " 3.2003,\n",
       " 1.8805,\n",
       " 0.9244,\n",
       " 4.418,\n",
       " 5.9202,\n",
       " 5.6342,\n",
       " 5.7333,\n",
       " 5.0646,\n",
       " 4.714,\n",
       " 5.1715,\n",
       " 5.8929,\n",
       " 5.7674,\n",
       " 5.6693,\n",
       " 5.5396,\n",
       " 5.3695,\n",
       " 5.3067,\n",
       " 5.1535,\n",
       " 5.0222,\n",
       " 4.8393,\n",
       " 4.1721,\n",
       " 3.8206,\n",
       " 5.0929,\n",
       " 4.6162,\n",
       " 5.8421,\n",
       " 3.2709,\n",
       " 5.7838,\n",
       " 5.6483,\n",
       " 5.4563,\n",
       " 5.3261,\n",
       " 4.6731,\n",
       " 4.9265,\n",
       " 5.2923,\n",
       " 5.1415,\n",
       " 4.7844,\n",
       " 4.2818,\n",
       " 4.8478,\n",
       " 6.1294,\n",
       " 5.469,\n",
       " 4.3844,\n",
       " 4.2898,\n",
       " 5.5527]"
      ]
     },
     "execution_count": 34,
     "metadata": {},
     "output_type": "execute_result"
    }
   ],
   "execution_count": 34
  },
  {
   "metadata": {
    "ExecuteTime": {
     "end_time": "2024-10-08T14:08:57.664407Z",
     "start_time": "2024-10-08T14:08:57.660493Z"
    }
   },
   "cell_type": "code",
   "source": "lower_ci_iqtree",
   "id": "388aa27ad336d43f",
   "outputs": [
    {
     "data": {
      "text/plain": [
       "[]"
      ]
     },
     "execution_count": 35,
     "metadata": {},
     "output_type": "execute_result"
    }
   ],
   "execution_count": 35
  },
  {
   "metadata": {
    "ExecuteTime": {
     "end_time": "2024-10-08T14:08:57.721158Z",
     "start_time": "2024-10-08T14:08:57.717894Z"
    }
   },
   "cell_type": "code",
   "source": "upper_ci_iqtree",
   "id": "816e569fb763e797",
   "outputs": [
    {
     "data": {
      "text/plain": [
       "[]"
      ]
     },
     "execution_count": 36,
     "metadata": {},
     "output_type": "execute_result"
    }
   ],
   "execution_count": 36
  },
  {
   "metadata": {
    "ExecuteTime": {
     "end_time": "2024-10-08T14:08:57.786277Z",
     "start_time": "2024-10-08T14:08:57.777686Z"
    }
   },
   "cell_type": "code",
   "source": [
    "file_LG = open(\"LG_all_out.txt\", \"r\")\n",
    "lines1 = file_LG.readlines()\n",
    "file_LG.close()\n",
    "\n",
    "# Extract the data\n",
    "data1 = []\n",
    "mu_data1 = []\n",
    "var_data1 = []\n",
    "\n",
    "read_flag = False\n",
    "for line in lines1:\n",
    "    if line.startswith(\"Posterior\"):\n",
    "        read_flag = True\n",
    "    if read_flag and line.startswith(\"t\"):\n",
    "        data1.append(line)\n",
    "    if read_flag and line.startswith(\"mu\"):\n",
    "        mu_data1.append(line)\n",
    "    if read_flag and line.startswith(\"sigma\"):\n",
    "        var_data1.append(line)\n",
    "\n",
    "        \n",
    "for line in data1:\n",
    "    line = line.strip().split()\n",
    "    # node_name.append(line[0])\n",
    "    posterior_mean_baseml.append(float(line[1]))\n",
    "#     if line[3].startswith('('):\n",
    "#         lower_ci_baseml.append(float(line[3][1:-1]))\n",
    "#     else:\n",
    "#          lower_ci_baseml.append(float(line[3][:-1]))\n",
    "#     if line[4].startswith('('):\n",
    "#         upper_ci_baseml.append(float(line[4][1:-1]))\n",
    "#     else:\n",
    "#          upper_ci_baseml.append(float(line[4][:-1]))\n",
    "#         \n",
    "#     \n",
    "# for line in mu_data1:\n",
    "#     line = line.strip().split()\n",
    "#     # node_name.append(line[0])\n",
    "#     posterior_mean_mu_baseml.append(float(line[1]))\n",
    "#     lower_ci_mu_baseml.append(float(line[3][:-1]))\n",
    "#     upper_ci_mu_baseml.append(float(line[4][:-1]))\n",
    "    \n",
    "# for line in var_data1:\n",
    "#     line = line.strip().split()\n",
    "#     # node_name.append(line[0])\n",
    "#     posterior_mean_var_baseml.append(float(line[1]))\n",
    "#     lower_ci_var_baseml.append(float(line[3][:-1]))\n",
    "#     upper_ci_var_baseml.append(float(line[4][:-1]))"
   ],
   "id": "f75c012c6bef60a2",
   "outputs": [],
   "execution_count": 37
  },
  {
   "metadata": {
    "ExecuteTime": {
     "end_time": "2024-10-08T14:08:57.834990Z",
     "start_time": "2024-10-08T14:08:57.831460Z"
    }
   },
   "cell_type": "code",
   "source": [
    "import matplotlib.pyplot as plt\n",
    "import numpy as np\n",
    "\n",
    "# # Example data\n",
    "# # Posterior means for MCMCtree (x-axis) and McmcDate (y-axis)\n",
    "# posterior_mean_mcmctree = [100, 200, 300, 400, 500, 600, 700, 800, 900, 1000]\n",
    "# posterior_mean_mcmcdate = [110, 210, 310, 410, 510, 610, 710, 810, 910, 1010]\n",
    "# \n",
    "# # Credible intervals for MCMCtree\n",
    "# lower_ci_mcmctree = [90, 180, 270, 360, 450, 540, 630, 720, 810, 900]\n",
    "# upper_ci_mcmctree = [110, 220, 330, 440, 550, 660, 770, 880, 990, 1100]\n",
    "# \n",
    "# # Credible intervals for McmcDate\n",
    "# lower_ci_mcmcdate = [100, 200, 300, 400, 500, 600, 700, 800, 900, 1000]\n",
    "# upper_ci_mcmcdate = [120, 220, 320, 420, 520, 620, 720, 820, 920, 1020]\n",
    "\n",
    "# Calculate error bars\n",
    "# xerr = [np.array(lower_ci_baseml), \n",
    "#         np.array(upper_ci_baseml)]\n",
    "# yerr = [np.array(lower_ci_iqtree), \n",
    "#         np.array(upper_ci_iqtree)]\n",
    "# \n",
    "# # Plotting\n",
    "# fig, ax = plt.subplots(figsize=(15, 15))\n",
    "# ax.plot([-0.1,90], \n",
    "#         [-0.1, 90], \n",
    "#         'k--', label='y=x')\n",
    "# ax.errorbar(posterior_mean_baseml, posterior_mean_iqtree, \n",
    "#             xerr=xerr, yerr=yerr, fmt='*', ecolor='r', capsize=3, label='95% HPD CI')\n",
    "# \n",
    "# # Labels and title\n",
    "# ax.set_xlabel('Posterior mean age LG [100 Mya]', fontsize=18)\n",
    "# ax.set_ylabel('Posterior mean age LG+G4 [100 Mya]', fontsize=18)\n",
    "# ax.set_title('Posterior mean age comparison between LG and LG+G4 models [t116 ~ B(1.25,2.482)]')\n",
    "# ax.legend()\n",
    "# \n",
    "# # Show plot\n",
    "# # plt.show()\n",
    "# plt.savefig('./animal_origin_posterior_mean_age_comparison_LG_G4_c11.png')"
   ],
   "id": "12db486fa4fac82c",
   "outputs": [],
   "execution_count": 38
  },
  {
   "metadata": {
    "ExecuteTime": {
     "end_time": "2024-10-08T14:08:57.887331Z",
     "start_time": "2024-10-08T14:08:57.884048Z"
    }
   },
   "cell_type": "code",
   "source": "posterior_mean_baseml",
   "id": "917b2e31cff4b992",
   "outputs": [
    {
     "data": {
      "text/plain": [
       "[6.7495,\n",
       " 6.6133,\n",
       " 6.3623,\n",
       " 6.0956,\n",
       " 5.9964,\n",
       " 5.861,\n",
       " 5.651,\n",
       " 4.2052,\n",
       " 5.0787,\n",
       " 4.5599,\n",
       " 4.2716,\n",
       " 3.4944,\n",
       " 3.2013,\n",
       " 1.8776,\n",
       " 0.9233,\n",
       " 4.4281,\n",
       " 5.8848,\n",
       " 5.3372,\n",
       " 5.6848,\n",
       " 5.0547,\n",
       " 4.6493,\n",
       " 5.1645,\n",
       " 5.9212,\n",
       " 5.7859,\n",
       " 5.6801,\n",
       " 5.5436,\n",
       " 5.3807,\n",
       " 5.3049,\n",
       " 5.1558,\n",
       " 5.0196,\n",
       " 4.8201,\n",
       " 4.2208,\n",
       " 3.7903,\n",
       " 5.1008,\n",
       " 4.6188,\n",
       " 5.8597,\n",
       " 3.6637,\n",
       " 5.7911,\n",
       " 5.6534,\n",
       " 5.4606,\n",
       " 5.3256,\n",
       " 4.7504,\n",
       " 4.9187,\n",
       " 5.3106,\n",
       " 5.0963,\n",
       " 4.6439,\n",
       " 4.3634,\n",
       " 4.8983,\n",
       " 6.1082,\n",
       " 5.4725,\n",
       " 4.4263,\n",
       " 4.4383,\n",
       " 5.6273]"
      ]
     },
     "execution_count": 39,
     "metadata": {},
     "output_type": "execute_result"
    }
   ],
   "execution_count": 39
  },
  {
   "metadata": {
    "ExecuteTime": {
     "end_time": "2024-10-08T14:08:57.952965Z",
     "start_time": "2024-10-08T14:08:57.949680Z"
    }
   },
   "cell_type": "code",
   "source": "posterior_mean_iqtree",
   "id": "59ad8fd34f7bbf11",
   "outputs": [
    {
     "data": {
      "text/plain": [
       "[6.7055,\n",
       " 6.5605,\n",
       " 6.3624,\n",
       " 6.0792,\n",
       " 5.998,\n",
       " 5.8898,\n",
       " 5.7101,\n",
       " 4.2028,\n",
       " 5.0982,\n",
       " 4.5489,\n",
       " 4.2712,\n",
       " 3.4954,\n",
       " 3.2003,\n",
       " 1.8805,\n",
       " 0.9244,\n",
       " 4.418,\n",
       " 5.9202,\n",
       " 5.6342,\n",
       " 5.7333,\n",
       " 5.0646,\n",
       " 4.714,\n",
       " 5.1715,\n",
       " 5.8929,\n",
       " 5.7674,\n",
       " 5.6693,\n",
       " 5.5396,\n",
       " 5.3695,\n",
       " 5.3067,\n",
       " 5.1535,\n",
       " 5.0222,\n",
       " 4.8393,\n",
       " 4.1721,\n",
       " 3.8206,\n",
       " 5.0929,\n",
       " 4.6162,\n",
       " 5.8421,\n",
       " 3.2709,\n",
       " 5.7838,\n",
       " 5.6483,\n",
       " 5.4563,\n",
       " 5.3261,\n",
       " 4.6731,\n",
       " 4.9265,\n",
       " 5.2923,\n",
       " 5.1415,\n",
       " 4.7844,\n",
       " 4.2818,\n",
       " 4.8478,\n",
       " 6.1294,\n",
       " 5.469,\n",
       " 4.3844,\n",
       " 4.2898,\n",
       " 5.5527]"
      ]
     },
     "execution_count": 40,
     "metadata": {},
     "output_type": "execute_result"
    }
   ],
   "execution_count": 40
  },
  {
   "metadata": {
    "ExecuteTime": {
     "end_time": "2024-10-08T14:10:05.263285Z",
     "start_time": "2024-10-08T14:10:05.093917Z"
    }
   },
   "cell_type": "code",
   "source": [
    "# Calculate error bars\n",
    "xerr = [np.array(lower_ci_baseml), \n",
    "        np.array(upper_ci_baseml)]\n",
    "yerr = [np.array(lower_ci_iqtree), \n",
    "        np.array(upper_ci_iqtree)]\n",
    "\n",
    "# Plotting\n",
    "fig, ax = plt.subplots(figsize=(9 ,9))\n",
    "ax.plot([-0.1,17], \n",
    "        [-0.1, 17], \n",
    "        'k--', label='y=x')\n",
    "ax.plot(posterior_mean_baseml, posterior_mean_iqtree, 'o', label='Posterior mean age')\n",
    " \n",
    "# Labels and title\n",
    "ax.set_xlabel('Posterior mean age LG [Mya]', fontsize=18)\n",
    "ax.set_ylabel('Posterior mean age LG+G4 [Mya]', fontsize=18)\n",
    "ax.set_title('Posterior mean age comparison between LG and LG+G4 [all calibrations]')\n",
    "ax.legend()\n",
    "\n",
    "# point_x = posterior_mean_baseml[0]  # Example: first point in the list\n",
    "# point_y = posterior_mean_iqtree[0]  # Example: first point in the list\n",
    "# ax.annotate('Root age', xy=(point_x, point_y), xytext=(point_x - 0.1, point_y - 0.1), color='red')\n",
    "# Show plot\n",
    "# plt.show()\n",
    "plt.savefig('./metazoa_posterior_mean_age_comparison_LG_G4_all_scatter.png')"
   ],
   "id": "592d0bb72aa1ad4c",
   "outputs": [
    {
     "data": {
      "text/plain": [
       "<Figure size 900x900 with 1 Axes>"
      ],
      "image/png": "[encoded data removed]"
     },
     "metadata": {},
     "output_type": "display_data"
    }
   ],
   "execution_count": 43
  },
  {
   "metadata": {
    "ExecuteTime": {
     "end_time": "2024-10-08T14:08:58.346970Z",
     "start_time": "2024-10-08T14:08:58.344994Z"
    }
   },
   "cell_type": "code",
   "source": [
    "# fig, ax = plt.subplots(figsize=(9 ,9))\n",
    "# ax.plot([0.01,0.04], \n",
    "#         [0.01, 0.04], \n",
    "#         'k--', label='y=x')\n",
    "# ax.plot(posterior_mean_mu_baseml, posterior_mean_mu_iqtree, 'o', label='Posterior mean rates for partitions')\n",
    "#  \n",
    "# # Labels and title\n",
    "# ax.set_xlabel('Posterior mean rate [LG]', fontsize=18)\n",
    "# ax.set_ylabel('Posterior mean rate [LG+G4]', fontsize=18)\n",
    "# ax.set_title('Posterior mean rate comparison between LG and LG+G4 [Cherry only calibration/IQ-TREE]')\n",
    "# ax.legend()\n",
    "# \n",
    "# # point_x = posterior_mean_baseml[0]  # Example: first point in the list\n",
    "# # point_y = posterior_mean_iqtree[0]  # Example: first point in the list\n",
    "# # ax.annotate('Root age', xy=(point_x, point_y), xytext=(point_x - 0.1, point_y - 0.1), color='red')\n",
    "# # Show plot\n",
    "# # plt.show()\n",
    "# plt.savefig('./animal_origin__posterior_mean_rate_comparison_LG_G4_all_scatter.png')"
   ],
   "id": "c6d69ee36c77970c",
   "outputs": [],
   "execution_count": 42
  },
  {
   "metadata": {
    "ExecuteTime": {
     "end_time": "2024-10-08T14:08:58.393513Z",
     "start_time": "2024-10-08T14:08:58.391649Z"
    }
   },
   "cell_type": "code",
   "source": "",
   "id": "ca69d5b521db3aa7",
   "outputs": [],
   "execution_count": null
  }
 ],
 "metadata": {
  "kernelspec": {
   "display_name": "Python 3",
   "language": "python",
   "name": "python3"
  },
  "language_info": {
   "codemirror_mode": {
    "name": "ipython",
    "version": 2
   },
   "file_extension": ".py",
   "mimetype": "text/x-python",
   "name": "python",
   "nbconvert_exporter": "python",
   "pygments_lexer": "ipython2",
   "version": "2.7.6"
  }
 },
 "nbformat": 4,
 "nbformat_minor": 5
}
