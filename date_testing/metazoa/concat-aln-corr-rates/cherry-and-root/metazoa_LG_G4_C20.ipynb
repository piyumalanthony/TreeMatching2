{
 "cells": [
  {
   "cell_type": "code",
   "id": "initial_id",
   "metadata": {
    "collapsed": true,
    "ExecuteTime": {
     "end_time": "2024-10-08T15:26:52.449643Z",
     "start_time": "2024-10-08T15:26:52.029704Z"
    }
   },
   "source": [
    "# Code to get all the Posterior mean (95% Equal-tail CI) (95% HPD CI) HPD-CI-width from ./xenarthra_mcmc_out.txt\n",
    "import numpy as np\n",
    "import pandas as pd\n",
    "import matplotlib.pyplot as plt\n",
    "\n",
    "\n",
    "# Read the file\n",
    "file = open(\"LG_G4_C20_cr_out.txt\", \"r\")\n",
    "lines = file.readlines()\n",
    "file.close()\n",
    "\n",
    "# Extract the data\n",
    "data = []\n",
    "mu_data = []\n",
    "var_data = []\n",
    "\n",
    "read_flag = False\n",
    "for line in lines:\n",
    "    if line.startswith(\"Posterior\"):\n",
    "        read_flag = True\n",
    "    if read_flag and line.startswith(\"t\"):\n",
    "        data.append(line)\n",
    "    if read_flag and line.startswith(\"mu\"):\n",
    "        mu_data.append(line)\n",
    "    if read_flag and line.startswith(\"sigma\"):\n",
    "        var_data.append(line)"
   ],
   "outputs": [],
   "execution_count": 1
  },
  {
   "metadata": {
    "ExecuteTime": {
     "end_time": "2024-10-08T15:26:52.462534Z",
     "start_time": "2024-10-08T15:26:52.458245Z"
    }
   },
   "cell_type": "code",
   "source": "data",
   "id": "54808ee54195795",
   "outputs": [
    {
     "data": {
      "text/plain": [
       "['t_n55          8.2298 ( 7.9639,  8.3301) ( 8.0264,  8.3382)  0.3118 (Jnode 106)\\n',\n",
       " 't_n56          8.1718 ( 7.8861,  8.3135) ( 7.9476,  8.3294)  0.3818 (Jnode 105)\\n',\n",
       " 't_n57          7.8777 ( 7.6057,  8.0534) ( 7.6480,  8.0784)  0.4304 (Jnode 104)\\n',\n",
       " 't_n58          7.2302 ( 6.9535,  7.4659) ( 6.9637,  7.4739)  0.5102 (Jnode 103)\\n',\n",
       " 't_n59          7.0773 ( 6.8026,  7.3206) ( 6.8007,  7.3172)  0.5165 (Jnode 102)\\n',\n",
       " 't_n60          6.8667 ( 6.5855,  7.1274) ( 6.5889,  7.1292)  0.5403 (Jnode 101)\\n',\n",
       " 't_n61          6.5467 ( 6.2356,  6.8461) ( 6.2386,  6.8484)  0.6098 (Jnode 100)\\n',\n",
       " 't_n62          3.6477 ( 2.0819,  4.7166) ( 2.2886,  4.8543)  2.5658 (Jnode 99)\\n',\n",
       " 't_n63          5.2385 ( 4.7275,  5.7732) ( 4.7264,  5.7714)  1.0450 (Jnode 98)\\n',\n",
       " 't_n64          4.1957 ( 3.5933,  4.8537) ( 3.5625,  4.8128)  1.2503 (Jnode 97)\\n',\n",
       " 't_n65          3.8136 ( 3.2078,  4.4978) ( 3.1730,  4.4437)  1.2707 (Jnode 96)\\n',\n",
       " 't_n66          3.1385 ( 2.5333,  3.8178) ( 2.4859,  3.7533)  1.2674 (Jnode 95)\\n',\n",
       " 't_n67          2.2607 ( 1.7735,  2.9105) ( 1.7329,  2.8318)  1.0989 (Jnode 94)\\n',\n",
       " 't_n68          1.5773 ( 1.2242,  2.1202) ( 1.1826,  2.0349)  0.8523 (Jnode 93)\\n',\n",
       " 't_n69          0.7594 ( 0.6197,  1.1021) ( 0.6132,  1.0155)  0.4023 (Jnode 92)\\n',\n",
       " 't_n70          4.1800 ( 3.6303,  4.9058) ( 3.5835,  4.7809)  1.1975 (Jnode 91)\\n',\n",
       " 't_n71          6.9599 ( 6.6844,  7.2109) ( 6.6901,  7.2141)  0.5240 (Jnode 90)\\n',\n",
       " 't_n72          6.7588 ( 6.4445,  7.0453) ( 6.4641,  7.0599)  0.5958 (Jnode 89)\\n',\n",
       " 't_n73          6.5668 ( 6.2862,  6.8452) ( 6.2851,  6.8431)  0.5580 (Jnode 88)\\n',\n",
       " 't_n74          5.1230 ( 4.2391,  5.7487) ( 4.3423,  5.8201)  1.4777 (Jnode 87)\\n',\n",
       " 't_n75          4.6782 ( 3.7171,  5.3986) ( 3.8136,  5.4642)  1.6506 (Jnode 86)\\n',\n",
       " 't_n76          5.2006 ( 5.0484,  5.5484) ( 5.0419,  5.4776)  0.4357 (Jnode 85)\\n',\n",
       " 't_n77          6.8352 ( 6.5612,  7.0908) ( 6.5640,  7.0925)  0.5285 (Jnode 84)\\n',\n",
       " 't_n78          6.6025 ( 6.3276,  6.8713) ( 6.3262,  6.8684)  0.5421 (Jnode 83)\\n',\n",
       " 't_n79          6.4452 ( 6.1622,  6.7264) ( 6.1721,  6.7340)  0.5619 (Jnode 82)\\n',\n",
       " 't_n80          6.1490 ( 5.8540,  6.4472) ( 5.8603,  6.4528)  0.5924 (Jnode 81)\\n',\n",
       " 't_n81          5.7937 ( 5.4932,  6.1123) ( 5.4810,  6.0972)  0.6163 (Jnode 80)\\n',\n",
       " 't_n82          5.6741 ( 5.3710,  6.0012) ( 5.3621,  5.9900)  0.6279 (Jnode 79)\\n',\n",
       " 't_n83          5.1287 ( 4.7994,  5.4963) ( 4.7924,  5.4869)  0.6945 (Jnode 78)\\n',\n",
       " 't_n84          4.7610 ( 4.4198,  5.1560) ( 4.4019,  5.1358)  0.7339 (Jnode 77)\\n',\n",
       " 't_n85          4.4451 ( 4.1085,  4.8600) ( 4.0978,  4.8469)  0.7491 (Jnode 76)\\n',\n",
       " 't_n86          3.5380 ( 3.2832,  3.9775) ( 3.2466,  3.8955)  0.6488 (Jnode 75)\\n',\n",
       " 't_n87          3.2826 ( 3.0622,  3.7291) ( 3.0529,  3.6311)  0.5781 (Jnode 74)\\n',\n",
       " 't_n88          5.1625 ( 4.8593,  5.5236) ( 4.8413,  5.5031)  0.6618 (Jnode 73)\\n',\n",
       " 't_n89          4.3888 ( 4.1678,  4.8260) ( 4.1575,  4.7374)  0.5798 (Jnode 72)\\n',\n",
       " 't_n90          6.7487 ( 6.4750,  7.0056) ( 6.4743,  7.0045)  0.5301 (Jnode 71)\\n',\n",
       " 't_n91          1.6372 ( 0.7265,  3.4150) ( 0.6724,  3.2923)  2.6198 (Jnode 70)\\n',\n",
       " 't_n92          6.6330 ( 6.3602,  6.8939) ( 6.3569,  6.8898)  0.5330 (Jnode 69)\\n',\n",
       " 't_n93          6.3208 ( 6.0535,  6.5953) ( 6.0567,  6.5974)  0.5407 (Jnode 68)\\n',\n",
       " 't_n94          5.8269 ( 5.5635,  6.1275) ( 5.5537,  6.1137)  0.5600 (Jnode 67)\\n',\n",
       " 't_n95          5.5107 ( 5.2656,  5.8242) ( 5.2473,  5.7989)  0.5516 (Jnode 66)\\n',\n",
       " 't_n96          4.2793 ( 3.5624,  4.8611) ( 3.5699,  4.8660)  1.2961 (Jnode 65)\\n',\n",
       " 't_n97          4.8706 ( 4.7067,  5.2186) ( 4.6999,  5.1450)  0.4451 (Jnode 64)\\n',\n",
       " 't_n98          5.5743 ( 5.1519,  5.9473) ( 5.1639,  5.9553)  0.7915 (Jnode 63)\\n',\n",
       " 't_n99          5.3971 ( 4.9427,  5.7983) ( 4.9598,  5.8113)  0.8515 (Jnode 62)\\n',\n",
       " 't_n100         5.0293 ( 4.4831,  5.5000) ( 4.5129,  5.5221)  1.0092 (Jnode 61)\\n',\n",
       " 't_n101         3.8767 ( 3.1447,  4.6465) ( 3.1566,  4.6553)  1.4988 (Jnode 60)\\n',\n",
       " 't_n102         4.9070 ( 3.9704,  5.5881) ( 4.0958,  5.6543)  1.5585 (Jnode 59)\\n',\n",
       " 't_n103         7.3757 ( 7.0227,  7.6558) ( 7.0507,  7.6763)  0.6256 (Jnode 58)\\n',\n",
       " 't_n104         5.8808 ( 4.9107,  6.6430) ( 4.9736,  6.6791)  1.7054 (Jnode 57)\\n',\n",
       " 't_n105         3.9627 ( 2.6072,  5.1771) ( 2.8001,  5.3236)  2.5235 (Jnode 56)\\n',\n",
       " 't_n106         3.4478 ( 1.5067,  4.8959) ( 1.5078,  4.8963)  3.3885 (Jnode 55)\\n',\n",
       " 't_n107         5.7893 ( 4.2078,  6.9603) ( 4.3436,  7.0388)  2.6952 (Jnode 54)\\n']"
      ]
     },
     "execution_count": 2,
     "metadata": {},
     "output_type": "execute_result"
    }
   ],
   "execution_count": 2
  },
  {
   "metadata": {
    "ExecuteTime": {
     "end_time": "2024-10-08T15:26:52.514814Z",
     "start_time": "2024-10-08T15:26:52.511389Z"
    }
   },
   "cell_type": "code",
   "source": [
    "node_name = []\n",
    "posterior_mean_iqtree = []\n",
    "posterior_mean_baseml = []\n",
    "\n",
    "posterior_mean_mu_iqtree = []\n",
    "posterior_mean_mu_baseml = []\n",
    "\n",
    "posterior_mean_var_iqtree = []\n",
    "posterior_mean_var_baseml = []\n",
    "\n",
    "lower_ci_iqtree = []\n",
    "upper_ci_iqtree = []\n",
    "\n",
    "lower_ci_mu_iqtree = []\n",
    "upper_ci_mu_iqtree = []\n",
    "\n",
    "lower_ci_var_iqtree = []\n",
    "upper_ci_var_iqtree = []\n",
    "\n",
    "# Credible intervals for McmcDate\n",
    "lower_ci_baseml = []\n",
    "upper_ci_baseml = []\n",
    "\n",
    "lower_ci_mu_baseml = []\n",
    "upper_ci_mu_baseml = []\n",
    "\n",
    "lower_ci_var_baseml = []\n",
    "upper_ci_var_baseml = []"
   ],
   "id": "e5cf93a69d327e61",
   "outputs": [],
   "execution_count": 3
  },
  {
   "metadata": {
    "ExecuteTime": {
     "end_time": "2024-10-08T15:26:52.568599Z",
     "start_time": "2024-10-08T15:26:52.561901Z"
    }
   },
   "cell_type": "code",
   "source": [
    "for line in data:\n",
    "    line = line.strip().split()\n",
    "    node_name.append(line[0])\n",
    "    posterior_mean_iqtree.append(float(line[1]))\n",
    "#     if line[3].startswith('('):\n",
    "#         lower_ci_iqtree.append(float(line[3][1:-1]))\n",
    "#     else:\n",
    "#         lower_ci_iqtree.append(float(line[3][1:-1]))\n",
    "#     if line[4].startswith('('):\n",
    "#         upper_ci_iqtree.append(float(line[4][1:-1]))\n",
    "#     else:\n",
    "#         upper_ci_iqtree.append(float(line[4][:-1]))\n",
    "#     # posterior_mean_baseml.append(float(line[4]))\n",
    "#     # lower_ci_baseml.append(float(line[5]))\n",
    "#     # upper_ci_baseml.append(float(line[6]))\n",
    "# \n",
    "# for line in mu_data:\n",
    "#     line = line.strip().split()\n",
    "#     # node_name.append(line[0])\n",
    "#     posterior_mean_mu_iqtree.append(float(line[1]))\n",
    "#     lower_ci_mu_iqtree.append(float(line[3][:-1]))\n",
    "#     upper_ci_mu_iqtree.append(float(line[4][:-1]))\n",
    "#\n",
    "# for line in var_data:\n",
    "#     line = line.strip().split()\n",
    "#     # node_name.append(line[0])\n",
    "#     posterior_mean_var_iqtree.append(float(line[1]))\n",
    "#     lower_ci_var_iqtree.append(float(line[3][:-1]))\n",
    "#     upper_ci_var_iqtree.append(float(line[4][:-1]))"
   ],
   "id": "4e79ee928ea76b59",
   "outputs": [],
   "execution_count": 4
  },
  {
   "metadata": {
    "ExecuteTime": {
     "end_time": "2024-10-08T15:26:52.625126Z",
     "start_time": "2024-10-08T15:26:52.621342Z"
    }
   },
   "cell_type": "code",
   "source": "node_name",
   "id": "2c17f55ec9626a0b",
   "outputs": [
    {
     "data": {
      "text/plain": [
       "['t_n55',\n",
       " 't_n56',\n",
       " 't_n57',\n",
       " 't_n58',\n",
       " 't_n59',\n",
       " 't_n60',\n",
       " 't_n61',\n",
       " 't_n62',\n",
       " 't_n63',\n",
       " 't_n64',\n",
       " 't_n65',\n",
       " 't_n66',\n",
       " 't_n67',\n",
       " 't_n68',\n",
       " 't_n69',\n",
       " 't_n70',\n",
       " 't_n71',\n",
       " 't_n72',\n",
       " 't_n73',\n",
       " 't_n74',\n",
       " 't_n75',\n",
       " 't_n76',\n",
       " 't_n77',\n",
       " 't_n78',\n",
       " 't_n79',\n",
       " 't_n80',\n",
       " 't_n81',\n",
       " 't_n82',\n",
       " 't_n83',\n",
       " 't_n84',\n",
       " 't_n85',\n",
       " 't_n86',\n",
       " 't_n87',\n",
       " 't_n88',\n",
       " 't_n89',\n",
       " 't_n90',\n",
       " 't_n91',\n",
       " 't_n92',\n",
       " 't_n93',\n",
       " 't_n94',\n",
       " 't_n95',\n",
       " 't_n96',\n",
       " 't_n97',\n",
       " 't_n98',\n",
       " 't_n99',\n",
       " 't_n100',\n",
       " 't_n101',\n",
       " 't_n102',\n",
       " 't_n103',\n",
       " 't_n104',\n",
       " 't_n105',\n",
       " 't_n106',\n",
       " 't_n107']"
      ]
     },
     "execution_count": 5,
     "metadata": {},
     "output_type": "execute_result"
    }
   ],
   "execution_count": 5
  },
  {
   "metadata": {
    "ExecuteTime": {
     "end_time": "2024-10-08T15:26:52.695990Z",
     "start_time": "2024-10-08T15:26:52.687770Z"
    }
   },
   "cell_type": "code",
   "source": "posterior_mean_iqtree",
   "id": "24a55c806a41f33e",
   "outputs": [
    {
     "data": {
      "text/plain": [
       "[8.2298,\n",
       " 8.1718,\n",
       " 7.8777,\n",
       " 7.2302,\n",
       " 7.0773,\n",
       " 6.8667,\n",
       " 6.5467,\n",
       " 3.6477,\n",
       " 5.2385,\n",
       " 4.1957,\n",
       " 3.8136,\n",
       " 3.1385,\n",
       " 2.2607,\n",
       " 1.5773,\n",
       " 0.7594,\n",
       " 4.18,\n",
       " 6.9599,\n",
       " 6.7588,\n",
       " 6.5668,\n",
       " 5.123,\n",
       " 4.6782,\n",
       " 5.2006,\n",
       " 6.8352,\n",
       " 6.6025,\n",
       " 6.4452,\n",
       " 6.149,\n",
       " 5.7937,\n",
       " 5.6741,\n",
       " 5.1287,\n",
       " 4.761,\n",
       " 4.4451,\n",
       " 3.538,\n",
       " 3.2826,\n",
       " 5.1625,\n",
       " 4.3888,\n",
       " 6.7487,\n",
       " 1.6372,\n",
       " 6.633,\n",
       " 6.3208,\n",
       " 5.8269,\n",
       " 5.5107,\n",
       " 4.2793,\n",
       " 4.8706,\n",
       " 5.5743,\n",
       " 5.3971,\n",
       " 5.0293,\n",
       " 3.8767,\n",
       " 4.907,\n",
       " 7.3757,\n",
       " 5.8808,\n",
       " 3.9627,\n",
       " 3.4478,\n",
       " 5.7893]"
      ]
     },
     "execution_count": 6,
     "metadata": {},
     "output_type": "execute_result"
    }
   ],
   "execution_count": 6
  },
  {
   "metadata": {
    "ExecuteTime": {
     "end_time": "2024-10-08T15:26:52.765972Z",
     "start_time": "2024-10-08T15:26:52.760909Z"
    }
   },
   "cell_type": "code",
   "source": "lower_ci_iqtree",
   "id": "388aa27ad336d43f",
   "outputs": [
    {
     "data": {
      "text/plain": [
       "[]"
      ]
     },
     "execution_count": 7,
     "metadata": {},
     "output_type": "execute_result"
    }
   ],
   "execution_count": 7
  },
  {
   "metadata": {
    "ExecuteTime": {
     "end_time": "2024-10-08T15:26:52.831264Z",
     "start_time": "2024-10-08T15:26:52.827209Z"
    }
   },
   "cell_type": "code",
   "source": "upper_ci_iqtree",
   "id": "816e569fb763e797",
   "outputs": [
    {
     "data": {
      "text/plain": [
       "[]"
      ]
     },
     "execution_count": 8,
     "metadata": {},
     "output_type": "execute_result"
    }
   ],
   "execution_count": 8
  },
  {
   "metadata": {
    "ExecuteTime": {
     "end_time": "2024-10-08T15:26:52.891821Z",
     "start_time": "2024-10-08T15:26:52.884566Z"
    }
   },
   "cell_type": "code",
   "source": [
    "file_LG = open(\"LG_cr_out.txt\", \"r\")\n",
    "lines1 = file_LG.readlines()\n",
    "file_LG.close()\n",
    "\n",
    "# Extract the data\n",
    "data1 = []\n",
    "mu_data1 = []\n",
    "var_data1 = []\n",
    "\n",
    "read_flag = False\n",
    "for line in lines1:\n",
    "    if line.startswith(\"Posterior\"):\n",
    "        read_flag = True\n",
    "    if read_flag and line.startswith(\"t\"):\n",
    "        data1.append(line)\n",
    "    if read_flag and line.startswith(\"mu\"):\n",
    "        mu_data1.append(line)\n",
    "    if read_flag and line.startswith(\"sigma\"):\n",
    "        var_data1.append(line)\n",
    "\n",
    "        \n",
    "for line in data1:\n",
    "    line = line.strip().split()\n",
    "    # node_name.append(line[0])\n",
    "    posterior_mean_baseml.append(float(line[1]))\n",
    "#     if line[3].startswith('('):\n",
    "#         lower_ci_baseml.append(float(line[3][1:-1]))\n",
    "#     else:\n",
    "#          lower_ci_baseml.append(float(line[3][:-1]))\n",
    "#     if line[4].startswith('('):\n",
    "#         upper_ci_baseml.append(float(line[4][1:-1]))\n",
    "#     else:\n",
    "#          upper_ci_baseml.append(float(line[4][:-1]))\n",
    "#         \n",
    "#     \n",
    "# for line in mu_data1:\n",
    "#     line = line.strip().split()\n",
    "#     # node_name.append(line[0])\n",
    "#     posterior_mean_mu_baseml.append(float(line[1]))\n",
    "#     lower_ci_mu_baseml.append(float(line[3][:-1]))\n",
    "#     upper_ci_mu_baseml.append(float(line[4][:-1]))\n",
    "    \n",
    "# for line in var_data1:\n",
    "#     line = line.strip().split()\n",
    "#     # node_name.append(line[0])\n",
    "#     posterior_mean_var_baseml.append(float(line[1]))\n",
    "#     lower_ci_var_baseml.append(float(line[3][:-1]))\n",
    "#     upper_ci_var_baseml.append(float(line[4][:-1]))"
   ],
   "id": "f75c012c6bef60a2",
   "outputs": [],
   "execution_count": 9
  },
  {
   "metadata": {
    "ExecuteTime": {
     "end_time": "2024-10-08T15:26:52.945080Z",
     "start_time": "2024-10-08T15:26:52.939746Z"
    }
   },
   "cell_type": "code",
   "source": [
    "import matplotlib.pyplot as plt\n",
    "import numpy as np\n",
    "\n",
    "# # Example data\n",
    "# # Posterior means for MCMCtree (x-axis) and McmcDate (y-axis)\n",
    "# posterior_mean_mcmctree = [100, 200, 300, 400, 500, 600, 700, 800, 900, 1000]\n",
    "# posterior_mean_mcmcdate = [110, 210, 310, 410, 510, 610, 710, 810, 910, 1010]\n",
    "# \n",
    "# # Credible intervals for MCMCtree\n",
    "# lower_ci_mcmctree = [90, 180, 270, 360, 450, 540, 630, 720, 810, 900]\n",
    "# upper_ci_mcmctree = [110, 220, 330, 440, 550, 660, 770, 880, 990, 1100]\n",
    "# \n",
    "# # Credible intervals for McmcDate\n",
    "# lower_ci_mcmcdate = [100, 200, 300, 400, 500, 600, 700, 800, 900, 1000]\n",
    "# upper_ci_mcmcdate = [120, 220, 320, 420, 520, 620, 720, 820, 920, 1020]\n",
    "\n",
    "# Calculate error bars\n",
    "# xerr = [np.array(lower_ci_baseml), \n",
    "#         np.array(upper_ci_baseml)]\n",
    "# yerr = [np.array(lower_ci_iqtree), \n",
    "#         np.array(upper_ci_iqtree)]\n",
    "# \n",
    "# # Plotting\n",
    "# fig, ax = plt.subplots(figsize=(15, 15))\n",
    "# ax.plot([-0.1,90], \n",
    "#         [-0.1, 90], \n",
    "#         'k--', label='y=x')\n",
    "# ax.errorbar(posterior_mean_baseml, posterior_mean_iqtree, \n",
    "#             xerr=xerr, yerr=yerr, fmt='*', ecolor='r', capsize=3, label='95% HPD CI')\n",
    "# \n",
    "# # Labels and title\n",
    "# ax.set_xlabel('Posterior mean age LG [100 Mya]', fontsize=18)\n",
    "# ax.set_ylabel('Posterior mean age LG+G4 [100 Mya]', fontsize=18)\n",
    "# ax.set_title('Posterior mean age comparison between LG and LG+G4 models [t116 ~ B(1.25,2.482)]')\n",
    "# ax.legend()\n",
    "# \n",
    "# # Show plot\n",
    "# # plt.show()\n",
    "# plt.savefig('./animal_origin_posterior_mean_age_comparison_LG_G4_c11.png')"
   ],
   "id": "12db486fa4fac82c",
   "outputs": [],
   "execution_count": 10
  },
  {
   "metadata": {
    "ExecuteTime": {
     "end_time": "2024-10-08T15:26:53.005569Z",
     "start_time": "2024-10-08T15:26:53.001585Z"
    }
   },
   "cell_type": "code",
   "source": "posterior_mean_baseml",
   "id": "917b2e31cff4b992",
   "outputs": [
    {
     "data": {
      "text/plain": [
       "[8.2351,\n",
       " 8.1831,\n",
       " 7.8003,\n",
       " 7.2715,\n",
       " 7.0746,\n",
       " 6.8148,\n",
       " 6.4195,\n",
       " 4.0747,\n",
       " 5.3769,\n",
       " 4.4653,\n",
       " 4.0182,\n",
       " 3.3143,\n",
       " 2.4125,\n",
       " 1.6939,\n",
       " 0.8328,\n",
       " 4.3638,\n",
       " 6.8532,\n",
       " 5.9805,\n",
       " 6.4305,\n",
       " 5.1471,\n",
       " 4.5115,\n",
       " 5.2452,\n",
       " 6.9001,\n",
       " 6.6225,\n",
       " 6.4158,\n",
       " 6.1489,\n",
       " 5.8045,\n",
       " 5.6179,\n",
       " 5.1093,\n",
       " 4.733,\n",
       " 4.3636,\n",
       " 3.6356,\n",
       " 3.2462,\n",
       " 5.2027,\n",
       " 4.4162,\n",
       " 6.7629,\n",
       " 2.801,\n",
       " 6.6043,\n",
       " 6.2802,\n",
       " 5.8111,\n",
       " 5.4784,\n",
       " 4.4257,\n",
       " 4.8271,\n",
       " 5.5866,\n",
       " 5.2054,\n",
       " 4.5232,\n",
       " 4.1161,\n",
       " 4.8933,\n",
       " 7.3254,\n",
       " 6.0679,\n",
       " 4.2593,\n",
       " 4.2254,\n",
       " 6.4094]"
      ]
     },
     "execution_count": 11,
     "metadata": {},
     "output_type": "execute_result"
    }
   ],
   "execution_count": 11
  },
  {
   "metadata": {
    "ExecuteTime": {
     "end_time": "2024-10-08T15:26:53.067479Z",
     "start_time": "2024-10-08T15:26:53.064303Z"
    }
   },
   "cell_type": "code",
   "source": "posterior_mean_iqtree",
   "id": "59ad8fd34f7bbf11",
   "outputs": [
    {
     "data": {
      "text/plain": [
       "[8.2298,\n",
       " 8.1718,\n",
       " 7.8777,\n",
       " 7.2302,\n",
       " 7.0773,\n",
       " 6.8667,\n",
       " 6.5467,\n",
       " 3.6477,\n",
       " 5.2385,\n",
       " 4.1957,\n",
       " 3.8136,\n",
       " 3.1385,\n",
       " 2.2607,\n",
       " 1.5773,\n",
       " 0.7594,\n",
       " 4.18,\n",
       " 6.9599,\n",
       " 6.7588,\n",
       " 6.5668,\n",
       " 5.123,\n",
       " 4.6782,\n",
       " 5.2006,\n",
       " 6.8352,\n",
       " 6.6025,\n",
       " 6.4452,\n",
       " 6.149,\n",
       " 5.7937,\n",
       " 5.6741,\n",
       " 5.1287,\n",
       " 4.761,\n",
       " 4.4451,\n",
       " 3.538,\n",
       " 3.2826,\n",
       " 5.1625,\n",
       " 4.3888,\n",
       " 6.7487,\n",
       " 1.6372,\n",
       " 6.633,\n",
       " 6.3208,\n",
       " 5.8269,\n",
       " 5.5107,\n",
       " 4.2793,\n",
       " 4.8706,\n",
       " 5.5743,\n",
       " 5.3971,\n",
       " 5.0293,\n",
       " 3.8767,\n",
       " 4.907,\n",
       " 7.3757,\n",
       " 5.8808,\n",
       " 3.9627,\n",
       " 3.4478,\n",
       " 5.7893]"
      ]
     },
     "execution_count": 12,
     "metadata": {},
     "output_type": "execute_result"
    }
   ],
   "execution_count": 12
  },
  {
   "metadata": {
    "ExecuteTime": {
     "end_time": "2024-10-08T15:26:53.453226Z",
     "start_time": "2024-10-08T15:26:53.250084Z"
    }
   },
   "cell_type": "code",
   "source": [
    "# Calculate error bars\n",
    "xerr = [np.array(lower_ci_baseml), \n",
    "        np.array(upper_ci_baseml)]\n",
    "yerr = [np.array(lower_ci_iqtree), \n",
    "        np.array(upper_ci_iqtree)]\n",
    "\n",
    "# Plotting\n",
    "fig, ax = plt.subplots(figsize=(9 ,9))\n",
    "ax.plot([-0.1,17], \n",
    "        [-0.1, 17], \n",
    "        'k--', label='y=x')\n",
    "ax.plot(posterior_mean_baseml, posterior_mean_iqtree, 'o', label='Posterior mean age')\n",
    " \n",
    "# Labels and title\n",
    "ax.set_xlabel('Posterior mean age LG [Mya]', fontsize=18)\n",
    "ax.set_ylabel('Posterior mean age LG+G4+C20 [Mya]', fontsize=18)\n",
    "ax.set_title('Posterior mean age comparison between LG and LG+G4 [cherry and root calibrations]')\n",
    "ax.legend()\n",
    "\n",
    "# point_x = posterior_mean_baseml[0]  # Example: first point in the list\n",
    "# point_y = posterior_mean_iqtree[0]  # Example: first point in the list\n",
    "# ax.annotate('Root age', xy=(point_x, point_y), xytext=(point_x - 0.1, point_y - 0.1), color='red')\n",
    "# Show plot\n",
    "# plt.show()\n",
    "plt.savefig('metazoa_posterior_mean_age_comparison_LG_G4_C20_cr_scatter.png')"
   ],
   "id": "592d0bb72aa1ad4c",
   "outputs": [
    {
     "data": {
      "text/plain": [
       "<Figure size 900x900 with 1 Axes>"
      ],
      "image/png": "[encoded data removed]"
     },
     "metadata": {},
     "output_type": "display_data"
    }
   ],
   "execution_count": 13
  },
  {
   "metadata": {
    "ExecuteTime": {
     "end_time": "2024-10-08T15:26:53.463109Z",
     "start_time": "2024-10-08T15:26:53.460295Z"
    }
   },
   "cell_type": "code",
   "source": [
    "# fig, ax = plt.subplots(figsize=(9 ,9))\n",
    "# ax.plot([0.01,0.04], \n",
    "#         [0.01, 0.04], \n",
    "#         'k--', label='y=x')\n",
    "# ax.plot(posterior_mean_mu_baseml, posterior_mean_mu_iqtree, 'o', label='Posterior mean rates for partitions')\n",
    "#  \n",
    "# # Labels and title\n",
    "# ax.set_xlabel('Posterior mean rate [LG]', fontsize=18)\n",
    "# ax.set_ylabel('Posterior mean rate [LG+G4]', fontsize=18)\n",
    "# ax.set_title('Posterior mean rate comparison between LG and LG+G4 [Cherry only calibration/IQ-TREE]')\n",
    "# ax.legend()\n",
    "# \n",
    "# # point_x = posterior_mean_baseml[0]  # Example: first point in the list\n",
    "# # point_y = posterior_mean_iqtree[0]  # Example: first point in the list\n",
    "# # ax.annotate('Root age', xy=(point_x, point_y), xytext=(point_x - 0.1, point_y - 0.1), color='red')\n",
    "# # Show plot\n",
    "# # plt.show()\n",
    "# plt.savefig('./animal_origin__posterior_mean_rate_comparison_LG_G4_all_scatter.png')"
   ],
   "id": "c6d69ee36c77970c",
   "outputs": [],
   "execution_count": 14
  },
  {
   "metadata": {
    "ExecuteTime": {
     "end_time": "2024-10-08T15:26:53.505813Z",
     "start_time": "2024-10-08T15:26:53.504127Z"
    }
   },
   "cell_type": "code",
   "source": "",
   "id": "ca69d5b521db3aa7",
   "outputs": [],
   "execution_count": null
  }
 ],
 "metadata": {
  "kernelspec": {
   "display_name": "Python 3",
   "language": "python",
   "name": "python3"
  },
  "language_info": {
   "codemirror_mode": {
    "name": "ipython",
    "version": 2
   },
   "file_extension": ".py",
   "mimetype": "text/x-python",
   "name": "python",
   "nbconvert_exporter": "python",
   "pygments_lexer": "ipython2",
   "version": "2.7.6"
  }
 },
 "nbformat": 4,
 "nbformat_minor": 5
}
