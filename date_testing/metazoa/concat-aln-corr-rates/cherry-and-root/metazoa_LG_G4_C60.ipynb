{
 "cells": [
  {
   "cell_type": "code",
   "id": "initial_id",
   "metadata": {
    "collapsed": true,
    "ExecuteTime": {
     "end_time": "2024-10-08T15:27:36.911507Z",
     "start_time": "2024-10-08T15:27:36.485657Z"
    }
   },
   "source": [
    "# Code to get all the Posterior mean (95% Equal-tail CI) (95% HPD CI) HPD-CI-width from ./xenarthra_mcmc_out.txt\n",
    "import numpy as np\n",
    "import pandas as pd\n",
    "import matplotlib.pyplot as plt\n",
    "\n",
    "\n",
    "# Read the file\n",
    "file = open(\"LG_G4_C60_cr_out.txt\", \"r\")\n",
    "lines = file.readlines()\n",
    "file.close()\n",
    "\n",
    "# Extract the data\n",
    "data = []\n",
    "mu_data = []\n",
    "var_data = []\n",
    "\n",
    "read_flag = False\n",
    "for line in lines:\n",
    "    if line.startswith(\"Posterior\"):\n",
    "        read_flag = True\n",
    "    if read_flag and line.startswith(\"t\"):\n",
    "        data.append(line)\n",
    "    if read_flag and line.startswith(\"mu\"):\n",
    "        mu_data.append(line)\n",
    "    if read_flag and line.startswith(\"sigma\"):\n",
    "        var_data.append(line)"
   ],
   "outputs": [],
   "execution_count": 1
  },
  {
   "metadata": {
    "ExecuteTime": {
     "end_time": "2024-10-08T15:27:36.923906Z",
     "start_time": "2024-10-08T15:27:36.920114Z"
    }
   },
   "cell_type": "code",
   "source": "data",
   "id": "54808ee54195795",
   "outputs": [
    {
     "data": {
      "text/plain": [
       "['t_n55          8.2286 ( 7.9638,  8.3300) ( 8.0266,  8.3393)  0.3127 (Jnode 106)\\n',\n",
       " 't_n56          8.1699 ( 7.8863,  8.3130) ( 7.9451,  8.3270)  0.3819 (Jnode 105)\\n',\n",
       " 't_n57          7.8922 ( 7.6210,  8.0669) ( 7.6537,  8.0838)  0.4302 (Jnode 104)\\n',\n",
       " 't_n58          7.2282 ( 6.9523,  7.4694) ( 6.9708,  7.4821)  0.5113 (Jnode 103)\\n',\n",
       " 't_n59          7.0858 ( 6.8139,  7.3345) ( 6.8197,  7.3398)  0.5201 (Jnode 102)\\n',\n",
       " 't_n60          6.8790 ( 6.6029,  7.1400) ( 6.6076,  7.1423)  0.5348 (Jnode 101)\\n',\n",
       " 't_n61          6.5552 ( 6.2494,  6.8554) ( 6.2563,  6.8602)  0.6039 (Jnode 100)\\n',\n",
       " 't_n62          3.6145 ( 2.0947,  4.6855) ( 2.2714,  4.8182)  2.5468 (Jnode 99)\\n',\n",
       " 't_n63          5.2239 ( 4.7221,  5.7488) ( 4.7150,  5.7399)  1.0250 (Jnode 98)\\n',\n",
       " 't_n64          4.1791 ( 3.5798,  4.8268) ( 3.5406,  4.7752)  1.2346 (Jnode 97)\\n',\n",
       " 't_n65          3.8129 ( 3.2115,  4.4779) ( 3.1771,  4.4301)  1.2531 (Jnode 96)\\n',\n",
       " 't_n66          3.1387 ( 2.5403,  3.8077) ( 2.5109,  3.7668)  1.2559 (Jnode 95)\\n',\n",
       " 't_n67          2.2632 ( 1.7761,  2.8931) ( 1.7424,  2.8327)  1.0903 (Jnode 94)\\n',\n",
       " 't_n68          1.5761 ( 1.2237,  2.1150) ( 1.1904,  2.0405)  0.8501 (Jnode 93)\\n',\n",
       " 't_n69          0.7592 ( 0.6196,  1.0916) ( 0.6129,  1.0140)  0.4011 (Jnode 92)\\n',\n",
       " 't_n70          4.1501 ( 3.6271,  4.8630) ( 3.5836,  4.7318)  1.1481 (Jnode 91)\\n',\n",
       " 't_n71          6.9786 ( 6.7047,  7.2340) ( 6.7068,  7.2354)  0.5286 (Jnode 90)\\n',\n",
       " 't_n72          6.8393 ( 6.5339,  7.1198) ( 6.5538,  7.1364)  0.5826 (Jnode 89)\\n',\n",
       " 't_n73          6.5767 ( 6.2977,  6.8571) ( 6.3031,  6.8613)  0.5581 (Jnode 88)\\n',\n",
       " 't_n74          5.1303 ( 4.2405,  5.7508) ( 4.3019,  5.7885)  1.4866 (Jnode 87)\\n',\n",
       " 't_n75          4.6856 ( 3.7278,  5.3940) ( 3.7885,  5.4320)  1.6435 (Jnode 86)\\n',\n",
       " 't_n76          5.1988 ( 5.0482,  5.5483) ( 5.0414,  5.4725)  0.4311 (Jnode 85)\\n',\n",
       " 't_n77          6.8299 ( 6.5586,  7.0882) ( 6.5596,  7.0887)  0.5290 (Jnode 84)\\n',\n",
       " 't_n78          6.6075 ( 6.3309,  6.8814) ( 6.3339,  6.8831)  0.5492 (Jnode 83)\\n',\n",
       " 't_n79          6.4521 ( 6.1688,  6.7389) ( 6.1634,  6.7330)  0.5697 (Jnode 82)\\n',\n",
       " 't_n80          6.1590 ( 5.8631,  6.4614) ( 5.8693,  6.4647)  0.5955 (Jnode 81)\\n',\n",
       " 't_n81          5.7947 ( 5.4932,  6.1200) ( 5.4782,  6.1018)  0.6236 (Jnode 80)\\n',\n",
       " 't_n82          5.6797 ( 5.3720,  6.0128) ( 5.3663,  6.0032)  0.6369 (Jnode 79)\\n',\n",
       " 't_n83          5.1207 ( 4.7891,  5.5044) ( 4.7805,  5.4936)  0.7131 (Jnode 78)\\n',\n",
       " 't_n84          4.7590 ( 4.4119,  5.1699) ( 4.3993,  5.1515)  0.7522 (Jnode 77)\\n',\n",
       " 't_n85          4.4374 ( 4.0936,  4.8688) ( 4.0787,  4.8453)  0.7666 (Jnode 76)\\n',\n",
       " 't_n86          3.5152 ( 3.2611,  3.9518) ( 3.2311,  3.8840)  0.6529 (Jnode 75)\\n',\n",
       " 't_n87          3.2846 ( 3.0619,  3.7257) ( 3.0527,  3.6400)  0.5873 (Jnode 74)\\n',\n",
       " 't_n88          5.1576 ( 4.8561,  5.5199) ( 4.8411,  5.4988)  0.6577 (Jnode 73)\\n',\n",
       " 't_n89          4.3940 ( 4.1690,  4.8311) ( 4.1589,  4.7420)  0.5831 (Jnode 72)\\n',\n",
       " 't_n90          6.7398 ( 6.4679,  7.0052) ( 6.4738,  7.0098)  0.5360 (Jnode 71)\\n',\n",
       " 't_n91          1.5847 ( 0.7125,  3.3261) ( 0.5419,  2.9283)  2.3864 (Jnode 70)\\n',\n",
       " 't_n92          6.6321 ( 6.3592,  6.9005) ( 6.3592,  6.9005)  0.5413 (Jnode 69)\\n',\n",
       " 't_n93          6.3211 ( 6.0505,  6.6013) ( 6.0463,  6.5967)  0.5504 (Jnode 68)\\n',\n",
       " 't_n94          5.8126 ( 5.5469,  6.1147) ( 5.5302,  6.0960)  0.5659 (Jnode 67)\\n',\n",
       " 't_n95          5.5138 ( 5.2656,  5.8244) ( 5.2491,  5.8009)  0.5518 (Jnode 66)\\n',\n",
       " 't_n96          4.2670 ( 3.5386,  4.8532) ( 3.5447,  4.8565)  1.3117 (Jnode 65)\\n',\n",
       " 't_n97          4.8759 ( 4.7071,  5.2201) ( 4.6999,  5.1518)  0.4518 (Jnode 64)\\n',\n",
       " 't_n98          5.5680 ( 5.1526,  5.9438) ( 5.1610,  5.9518)  0.7908 (Jnode 63)\\n',\n",
       " 't_n99          5.3975 ( 4.9566,  5.7976) ( 4.9813,  5.8195)  0.8383 (Jnode 62)\\n',\n",
       " 't_n100         5.0777 ( 4.5493,  5.5383) ( 4.5818,  5.5662)  0.9844 (Jnode 61)\\n',\n",
       " 't_n101         3.8355 ( 3.1008,  4.6053) ( 3.1370,  4.6362)  1.4992 (Jnode 60)\\n',\n",
       " 't_n102         4.9324 ( 3.9918,  5.5937) ( 4.1249,  5.6758)  1.5508 (Jnode 59)\\n',\n",
       " 't_n103         7.3921 ( 7.0280,  7.6708) ( 7.0635,  7.6927)  0.6291 (Jnode 58)\\n',\n",
       " 't_n104         5.8740 ( 4.9123,  6.6537) ( 5.0081,  6.7206)  1.7125 (Jnode 57)\\n',\n",
       " 't_n105         3.9433 ( 2.6111,  5.1870) ( 2.7883,  5.3097)  2.5214 (Jnode 56)\\n',\n",
       " 't_n106         3.4127 ( 1.4624,  4.8646) ( 1.5402,  4.9378)  3.3976 (Jnode 55)\\n',\n",
       " 't_n107         5.7438 ( 4.1938,  6.9226) ( 4.3226,  7.0040)  2.6814 (Jnode 54)\\n']"
      ]
     },
     "execution_count": 2,
     "metadata": {},
     "output_type": "execute_result"
    }
   ],
   "execution_count": 2
  },
  {
   "metadata": {
    "ExecuteTime": {
     "end_time": "2024-10-08T15:27:36.975291Z",
     "start_time": "2024-10-08T15:27:36.970711Z"
    }
   },
   "cell_type": "code",
   "source": [
    "node_name = []\n",
    "posterior_mean_iqtree = []\n",
    "posterior_mean_baseml = []\n",
    "\n",
    "posterior_mean_mu_iqtree = []\n",
    "posterior_mean_mu_baseml = []\n",
    "\n",
    "posterior_mean_var_iqtree = []\n",
    "posterior_mean_var_baseml = []\n",
    "\n",
    "lower_ci_iqtree = []\n",
    "upper_ci_iqtree = []\n",
    "\n",
    "lower_ci_mu_iqtree = []\n",
    "upper_ci_mu_iqtree = []\n",
    "\n",
    "lower_ci_var_iqtree = []\n",
    "upper_ci_var_iqtree = []\n",
    "\n",
    "# Credible intervals for McmcDate\n",
    "lower_ci_baseml = []\n",
    "upper_ci_baseml = []\n",
    "\n",
    "lower_ci_mu_baseml = []\n",
    "upper_ci_mu_baseml = []\n",
    "\n",
    "lower_ci_var_baseml = []\n",
    "upper_ci_var_baseml = []"
   ],
   "id": "e5cf93a69d327e61",
   "outputs": [],
   "execution_count": 3
  },
  {
   "metadata": {
    "ExecuteTime": {
     "end_time": "2024-10-08T15:27:37.022008Z",
     "start_time": "2024-10-08T15:27:37.018919Z"
    }
   },
   "cell_type": "code",
   "source": [
    "for line in data:\n",
    "    line = line.strip().split()\n",
    "    node_name.append(line[0])\n",
    "    posterior_mean_iqtree.append(float(line[1]))\n",
    "#     if line[3].startswith('('):\n",
    "#         lower_ci_iqtree.append(float(line[3][1:-1]))\n",
    "#     else:\n",
    "#         lower_ci_iqtree.append(float(line[3][1:-1]))\n",
    "#     if line[4].startswith('('):\n",
    "#         upper_ci_iqtree.append(float(line[4][1:-1]))\n",
    "#     else:\n",
    "#         upper_ci_iqtree.append(float(line[4][:-1]))\n",
    "#     # posterior_mean_baseml.append(float(line[4]))\n",
    "#     # lower_ci_baseml.append(float(line[5]))\n",
    "#     # upper_ci_baseml.append(float(line[6]))\n",
    "# \n",
    "# for line in mu_data:\n",
    "#     line = line.strip().split()\n",
    "#     # node_name.append(line[0])\n",
    "#     posterior_mean_mu_iqtree.append(float(line[1]))\n",
    "#     lower_ci_mu_iqtree.append(float(line[3][:-1]))\n",
    "#     upper_ci_mu_iqtree.append(float(line[4][:-1]))\n",
    "#\n",
    "# for line in var_data:\n",
    "#     line = line.strip().split()\n",
    "#     # node_name.append(line[0])\n",
    "#     posterior_mean_var_iqtree.append(float(line[1]))\n",
    "#     lower_ci_var_iqtree.append(float(line[3][:-1]))\n",
    "#     upper_ci_var_iqtree.append(float(line[4][:-1]))"
   ],
   "id": "4e79ee928ea76b59",
   "outputs": [],
   "execution_count": 4
  },
  {
   "metadata": {
    "ExecuteTime": {
     "end_time": "2024-10-08T15:27:37.073758Z",
     "start_time": "2024-10-08T15:27:37.070497Z"
    }
   },
   "cell_type": "code",
   "source": "node_name",
   "id": "2c17f55ec9626a0b",
   "outputs": [
    {
     "data": {
      "text/plain": [
       "['t_n55',\n",
       " 't_n56',\n",
       " 't_n57',\n",
       " 't_n58',\n",
       " 't_n59',\n",
       " 't_n60',\n",
       " 't_n61',\n",
       " 't_n62',\n",
       " 't_n63',\n",
       " 't_n64',\n",
       " 't_n65',\n",
       " 't_n66',\n",
       " 't_n67',\n",
       " 't_n68',\n",
       " 't_n69',\n",
       " 't_n70',\n",
       " 't_n71',\n",
       " 't_n72',\n",
       " 't_n73',\n",
       " 't_n74',\n",
       " 't_n75',\n",
       " 't_n76',\n",
       " 't_n77',\n",
       " 't_n78',\n",
       " 't_n79',\n",
       " 't_n80',\n",
       " 't_n81',\n",
       " 't_n82',\n",
       " 't_n83',\n",
       " 't_n84',\n",
       " 't_n85',\n",
       " 't_n86',\n",
       " 't_n87',\n",
       " 't_n88',\n",
       " 't_n89',\n",
       " 't_n90',\n",
       " 't_n91',\n",
       " 't_n92',\n",
       " 't_n93',\n",
       " 't_n94',\n",
       " 't_n95',\n",
       " 't_n96',\n",
       " 't_n97',\n",
       " 't_n98',\n",
       " 't_n99',\n",
       " 't_n100',\n",
       " 't_n101',\n",
       " 't_n102',\n",
       " 't_n103',\n",
       " 't_n104',\n",
       " 't_n105',\n",
       " 't_n106',\n",
       " 't_n107']"
      ]
     },
     "execution_count": 5,
     "metadata": {},
     "output_type": "execute_result"
    }
   ],
   "execution_count": 5
  },
  {
   "metadata": {
    "ExecuteTime": {
     "end_time": "2024-10-08T15:27:37.131586Z",
     "start_time": "2024-10-08T15:27:37.127408Z"
    }
   },
   "cell_type": "code",
   "source": "posterior_mean_iqtree",
   "id": "24a55c806a41f33e",
   "outputs": [
    {
     "data": {
      "text/plain": [
       "[8.2286,\n",
       " 8.1699,\n",
       " 7.8922,\n",
       " 7.2282,\n",
       " 7.0858,\n",
       " 6.879,\n",
       " 6.5552,\n",
       " 3.6145,\n",
       " 5.2239,\n",
       " 4.1791,\n",
       " 3.8129,\n",
       " 3.1387,\n",
       " 2.2632,\n",
       " 1.5761,\n",
       " 0.7592,\n",
       " 4.1501,\n",
       " 6.9786,\n",
       " 6.8393,\n",
       " 6.5767,\n",
       " 5.1303,\n",
       " 4.6856,\n",
       " 5.1988,\n",
       " 6.8299,\n",
       " 6.6075,\n",
       " 6.4521,\n",
       " 6.159,\n",
       " 5.7947,\n",
       " 5.6797,\n",
       " 5.1207,\n",
       " 4.759,\n",
       " 4.4374,\n",
       " 3.5152,\n",
       " 3.2846,\n",
       " 5.1576,\n",
       " 4.394,\n",
       " 6.7398,\n",
       " 1.5847,\n",
       " 6.6321,\n",
       " 6.3211,\n",
       " 5.8126,\n",
       " 5.5138,\n",
       " 4.267,\n",
       " 4.8759,\n",
       " 5.568,\n",
       " 5.3975,\n",
       " 5.0777,\n",
       " 3.8355,\n",
       " 4.9324,\n",
       " 7.3921,\n",
       " 5.874,\n",
       " 3.9433,\n",
       " 3.4127,\n",
       " 5.7438]"
      ]
     },
     "execution_count": 6,
     "metadata": {},
     "output_type": "execute_result"
    }
   ],
   "execution_count": 6
  },
  {
   "metadata": {
    "ExecuteTime": {
     "end_time": "2024-10-08T15:27:37.195774Z",
     "start_time": "2024-10-08T15:27:37.191298Z"
    }
   },
   "cell_type": "code",
   "source": "lower_ci_iqtree",
   "id": "388aa27ad336d43f",
   "outputs": [
    {
     "data": {
      "text/plain": [
       "[]"
      ]
     },
     "execution_count": 7,
     "metadata": {},
     "output_type": "execute_result"
    }
   ],
   "execution_count": 7
  },
  {
   "metadata": {
    "ExecuteTime": {
     "end_time": "2024-10-08T15:27:37.262230Z",
     "start_time": "2024-10-08T15:27:37.258525Z"
    }
   },
   "cell_type": "code",
   "source": "upper_ci_iqtree",
   "id": "816e569fb763e797",
   "outputs": [
    {
     "data": {
      "text/plain": [
       "[]"
      ]
     },
     "execution_count": 8,
     "metadata": {},
     "output_type": "execute_result"
    }
   ],
   "execution_count": 8
  },
  {
   "metadata": {
    "ExecuteTime": {
     "end_time": "2024-10-08T15:27:37.321499Z",
     "start_time": "2024-10-08T15:27:37.317531Z"
    }
   },
   "cell_type": "code",
   "source": [
    "file_LG = open(\"LG_cr_out.txt\", \"r\")\n",
    "lines1 = file_LG.readlines()\n",
    "file_LG.close()\n",
    "\n",
    "# Extract the data\n",
    "data1 = []\n",
    "mu_data1 = []\n",
    "var_data1 = []\n",
    "\n",
    "read_flag = False\n",
    "for line in lines1:\n",
    "    if line.startswith(\"Posterior\"):\n",
    "        read_flag = True\n",
    "    if read_flag and line.startswith(\"t\"):\n",
    "        data1.append(line)\n",
    "    if read_flag and line.startswith(\"mu\"):\n",
    "        mu_data1.append(line)\n",
    "    if read_flag and line.startswith(\"sigma\"):\n",
    "        var_data1.append(line)\n",
    "\n",
    "        \n",
    "for line in data1:\n",
    "    line = line.strip().split()\n",
    "    # node_name.append(line[0])\n",
    "    posterior_mean_baseml.append(float(line[1]))\n",
    "#     if line[3].startswith('('):\n",
    "#         lower_ci_baseml.append(float(line[3][1:-1]))\n",
    "#     else:\n",
    "#          lower_ci_baseml.append(float(line[3][:-1]))\n",
    "#     if line[4].startswith('('):\n",
    "#         upper_ci_baseml.append(float(line[4][1:-1]))\n",
    "#     else:\n",
    "#          upper_ci_baseml.append(float(line[4][:-1]))\n",
    "#         \n",
    "#     \n",
    "# for line in mu_data1:\n",
    "#     line = line.strip().split()\n",
    "#     # node_name.append(line[0])\n",
    "#     posterior_mean_mu_baseml.append(float(line[1]))\n",
    "#     lower_ci_mu_baseml.append(float(line[3][:-1]))\n",
    "#     upper_ci_mu_baseml.append(float(line[4][:-1]))\n",
    "    \n",
    "# for line in var_data1:\n",
    "#     line = line.strip().split()\n",
    "#     # node_name.append(line[0])\n",
    "#     posterior_mean_var_baseml.append(float(line[1]))\n",
    "#     lower_ci_var_baseml.append(float(line[3][:-1]))\n",
    "#     upper_ci_var_baseml.append(float(line[4][:-1]))"
   ],
   "id": "f75c012c6bef60a2",
   "outputs": [],
   "execution_count": 9
  },
  {
   "metadata": {
    "ExecuteTime": {
     "end_time": "2024-10-08T15:27:37.375875Z",
     "start_time": "2024-10-08T15:27:37.368177Z"
    }
   },
   "cell_type": "code",
   "source": [
    "import matplotlib.pyplot as plt\n",
    "import numpy as np\n",
    "\n",
    "# # Example data\n",
    "# # Posterior means for MCMCtree (x-axis) and McmcDate (y-axis)\n",
    "# posterior_mean_mcmctree = [100, 200, 300, 400, 500, 600, 700, 800, 900, 1000]\n",
    "# posterior_mean_mcmcdate = [110, 210, 310, 410, 510, 610, 710, 810, 910, 1010]\n",
    "# \n",
    "# # Credible intervals for MCMCtree\n",
    "# lower_ci_mcmctree = [90, 180, 270, 360, 450, 540, 630, 720, 810, 900]\n",
    "# upper_ci_mcmctree = [110, 220, 330, 440, 550, 660, 770, 880, 990, 1100]\n",
    "# \n",
    "# # Credible intervals for McmcDate\n",
    "# lower_ci_mcmcdate = [100, 200, 300, 400, 500, 600, 700, 800, 900, 1000]\n",
    "# upper_ci_mcmcdate = [120, 220, 320, 420, 520, 620, 720, 820, 920, 1020]\n",
    "\n",
    "# Calculate error bars\n",
    "# xerr = [np.array(lower_ci_baseml), \n",
    "#         np.array(upper_ci_baseml)]\n",
    "# yerr = [np.array(lower_ci_iqtree), \n",
    "#         np.array(upper_ci_iqtree)]\n",
    "# \n",
    "# # Plotting\n",
    "# fig, ax = plt.subplots(figsize=(15, 15))\n",
    "# ax.plot([-0.1,90], \n",
    "#         [-0.1, 90], \n",
    "#         'k--', label='y=x')\n",
    "# ax.errorbar(posterior_mean_baseml, posterior_mean_iqtree, \n",
    "#             xerr=xerr, yerr=yerr, fmt='*', ecolor='r', capsize=3, label='95% HPD CI')\n",
    "# \n",
    "# # Labels and title\n",
    "# ax.set_xlabel('Posterior mean age LG [100 Mya]', fontsize=18)\n",
    "# ax.set_ylabel('Posterior mean age LG+G4 [100 Mya]', fontsize=18)\n",
    "# ax.set_title('Posterior mean age comparison between LG and LG+G4 models [t116 ~ B(1.25,2.482)]')\n",
    "# ax.legend()\n",
    "# \n",
    "# # Show plot\n",
    "# # plt.show()\n",
    "# plt.savefig('./animal_origin_posterior_mean_age_comparison_LG_G4_c11.png')"
   ],
   "id": "12db486fa4fac82c",
   "outputs": [],
   "execution_count": 10
  },
  {
   "metadata": {
    "ExecuteTime": {
     "end_time": "2024-10-08T15:27:37.436222Z",
     "start_time": "2024-10-08T15:27:37.431589Z"
    }
   },
   "cell_type": "code",
   "source": "posterior_mean_baseml",
   "id": "917b2e31cff4b992",
   "outputs": [
    {
     "data": {
      "text/plain": [
       "[8.2351,\n",
       " 8.1831,\n",
       " 7.8003,\n",
       " 7.2715,\n",
       " 7.0746,\n",
       " 6.8148,\n",
       " 6.4195,\n",
       " 4.0747,\n",
       " 5.3769,\n",
       " 4.4653,\n",
       " 4.0182,\n",
       " 3.3143,\n",
       " 2.4125,\n",
       " 1.6939,\n",
       " 0.8328,\n",
       " 4.3638,\n",
       " 6.8532,\n",
       " 5.9805,\n",
       " 6.4305,\n",
       " 5.1471,\n",
       " 4.5115,\n",
       " 5.2452,\n",
       " 6.9001,\n",
       " 6.6225,\n",
       " 6.4158,\n",
       " 6.1489,\n",
       " 5.8045,\n",
       " 5.6179,\n",
       " 5.1093,\n",
       " 4.733,\n",
       " 4.3636,\n",
       " 3.6356,\n",
       " 3.2462,\n",
       " 5.2027,\n",
       " 4.4162,\n",
       " 6.7629,\n",
       " 2.801,\n",
       " 6.6043,\n",
       " 6.2802,\n",
       " 5.8111,\n",
       " 5.4784,\n",
       " 4.4257,\n",
       " 4.8271,\n",
       " 5.5866,\n",
       " 5.2054,\n",
       " 4.5232,\n",
       " 4.1161,\n",
       " 4.8933,\n",
       " 7.3254,\n",
       " 6.0679,\n",
       " 4.2593,\n",
       " 4.2254,\n",
       " 6.4094]"
      ]
     },
     "execution_count": 11,
     "metadata": {},
     "output_type": "execute_result"
    }
   ],
   "execution_count": 11
  },
  {
   "metadata": {
    "ExecuteTime": {
     "end_time": "2024-10-08T15:27:37.495844Z",
     "start_time": "2024-10-08T15:27:37.490718Z"
    }
   },
   "cell_type": "code",
   "source": "posterior_mean_iqtree",
   "id": "59ad8fd34f7bbf11",
   "outputs": [
    {
     "data": {
      "text/plain": [
       "[8.2286,\n",
       " 8.1699,\n",
       " 7.8922,\n",
       " 7.2282,\n",
       " 7.0858,\n",
       " 6.879,\n",
       " 6.5552,\n",
       " 3.6145,\n",
       " 5.2239,\n",
       " 4.1791,\n",
       " 3.8129,\n",
       " 3.1387,\n",
       " 2.2632,\n",
       " 1.5761,\n",
       " 0.7592,\n",
       " 4.1501,\n",
       " 6.9786,\n",
       " 6.8393,\n",
       " 6.5767,\n",
       " 5.1303,\n",
       " 4.6856,\n",
       " 5.1988,\n",
       " 6.8299,\n",
       " 6.6075,\n",
       " 6.4521,\n",
       " 6.159,\n",
       " 5.7947,\n",
       " 5.6797,\n",
       " 5.1207,\n",
       " 4.759,\n",
       " 4.4374,\n",
       " 3.5152,\n",
       " 3.2846,\n",
       " 5.1576,\n",
       " 4.394,\n",
       " 6.7398,\n",
       " 1.5847,\n",
       " 6.6321,\n",
       " 6.3211,\n",
       " 5.8126,\n",
       " 5.5138,\n",
       " 4.267,\n",
       " 4.8759,\n",
       " 5.568,\n",
       " 5.3975,\n",
       " 5.0777,\n",
       " 3.8355,\n",
       " 4.9324,\n",
       " 7.3921,\n",
       " 5.874,\n",
       " 3.9433,\n",
       " 3.4127,\n",
       " 5.7438]"
      ]
     },
     "execution_count": 12,
     "metadata": {},
     "output_type": "execute_result"
    }
   ],
   "execution_count": 12
  },
  {
   "metadata": {
    "ExecuteTime": {
     "end_time": "2024-10-08T15:27:37.848831Z",
     "start_time": "2024-10-08T15:27:37.676648Z"
    }
   },
   "cell_type": "code",
   "source": [
    "# Calculate error bars\n",
    "xerr = [np.array(lower_ci_baseml), \n",
    "        np.array(upper_ci_baseml)]\n",
    "yerr = [np.array(lower_ci_iqtree), \n",
    "        np.array(upper_ci_iqtree)]\n",
    "\n",
    "# Plotting\n",
    "fig, ax = plt.subplots(figsize=(9 ,9))\n",
    "ax.plot([-0.1,17], \n",
    "        [-0.1, 17], \n",
    "        'k--', label='y=x')\n",
    "ax.plot(posterior_mean_baseml, posterior_mean_iqtree, 'o', label='Posterior mean age')\n",
    " \n",
    "# Labels and title\n",
    "ax.set_xlabel('Posterior mean age LG [Mya]', fontsize=18)\n",
    "ax.set_ylabel('Posterior mean age LG+G4+C60 [Mya]', fontsize=18)\n",
    "ax.set_title('Posterior mean age comparison between LG and LG+G4 [cherry and root calibrations]')\n",
    "ax.legend()\n",
    "\n",
    "# point_x = posterior_mean_baseml[0]  # Example: first point in the list\n",
    "# point_y = posterior_mean_iqtree[0]  # Example: first point in the list\n",
    "# ax.annotate('Root age', xy=(point_x, point_y), xytext=(point_x - 0.1, point_y - 0.1), color='red')\n",
    "# Show plot\n",
    "# plt.show()\n",
    "plt.savefig('./metazoa_posterior_mean_age_comparison_LG_G4_C60_cr_scatter.png')"
   ],
   "id": "592d0bb72aa1ad4c",
   "outputs": [
    {
     "data": {
      "text/plain": [
       "<Figure size 900x900 with 1 Axes>"
      ],
      "image/png": "[encoded data removed]"
     },
     "metadata": {},
     "output_type": "display_data"
    }
   ],
   "execution_count": 13
  },
  {
   "metadata": {
    "ExecuteTime": {
     "end_time": "2024-10-08T15:27:37.865546Z",
     "start_time": "2024-10-08T15:27:37.862057Z"
    }
   },
   "cell_type": "code",
   "source": [
    "# fig, ax = plt.subplots(figsize=(9 ,9))\n",
    "# ax.plot([0.01,0.04], \n",
    "#         [0.01, 0.04], \n",
    "#         'k--', label='y=x')\n",
    "# ax.plot(posterior_mean_mu_baseml, posterior_mean_mu_iqtree, 'o', label='Posterior mean rates for partitions')\n",
    "#  \n",
    "# # Labels and title\n",
    "# ax.set_xlabel('Posterior mean rate [LG]', fontsize=18)\n",
    "# ax.set_ylabel('Posterior mean rate [LG+G4]', fontsize=18)\n",
    "# ax.set_title('Posterior mean rate comparison between LG and LG+G4 [Cherry only calibration/IQ-TREE]')\n",
    "# ax.legend()\n",
    "# \n",
    "# # point_x = posterior_mean_baseml[0]  # Example: first point in the list\n",
    "# # point_y = posterior_mean_iqtree[0]  # Example: first point in the list\n",
    "# # ax.annotate('Root age', xy=(point_x, point_y), xytext=(point_x - 0.1, point_y - 0.1), color='red')\n",
    "# # Show plot\n",
    "# # plt.show()\n",
    "# plt.savefig('./animal_origin__posterior_mean_rate_comparison_LG_G4_all_scatter.png')"
   ],
   "id": "c6d69ee36c77970c",
   "outputs": [],
   "execution_count": 14
  },
  {
   "metadata": {
    "ExecuteTime": {
     "end_time": "2024-10-08T15:27:37.910463Z",
     "start_time": "2024-10-08T15:27:37.908532Z"
    }
   },
   "cell_type": "code",
   "source": "",
   "id": "ca69d5b521db3aa7",
   "outputs": [],
   "execution_count": null
  }
 ],
 "metadata": {
  "kernelspec": {
   "display_name": "Python 3",
   "language": "python",
   "name": "python3"
  },
  "language_info": {
   "codemirror_mode": {
    "name": "ipython",
    "version": 2
   },
   "file_extension": ".py",
   "mimetype": "text/x-python",
   "name": "python",
   "nbconvert_exporter": "python",
   "pygments_lexer": "ipython2",
   "version": "2.7.6"
  }
 },
 "nbformat": 4,
 "nbformat_minor": 5
}
