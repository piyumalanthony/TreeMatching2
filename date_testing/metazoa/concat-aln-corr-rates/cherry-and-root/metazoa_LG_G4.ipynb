{
 "cells": [
  {
   "cell_type": "code",
   "id": "initial_id",
   "metadata": {
    "collapsed": true,
    "ExecuteTime": {
     "end_time": "2024-10-08T15:26:09.578727Z",
     "start_time": "2024-10-08T15:26:09.132513Z"
    }
   },
   "source": [
    "# Code to get all the Posterior mean (95% Equal-tail CI) (95% HPD CI) HPD-CI-width from ./xenarthra_mcmc_out.txt\n",
    "import numpy as np\n",
    "import pandas as pd\n",
    "import matplotlib.pyplot as plt\n",
    "\n",
    "\n",
    "# Read the file\n",
    "file = open(\"LG_G4_cr_out.txt\", \"r\")\n",
    "lines = file.readlines()\n",
    "file.close()\n",
    "\n",
    "# Extract the data\n",
    "data = []\n",
    "mu_data = []\n",
    "var_data = []\n",
    "\n",
    "read_flag = False\n",
    "for line in lines:\n",
    "    if line.startswith(\"Posterior\"):\n",
    "        read_flag = True\n",
    "    if read_flag and line.startswith(\"t\"):\n",
    "        data.append(line)\n",
    "    if read_flag and line.startswith(\"mu\"):\n",
    "        mu_data.append(line)\n",
    "    if read_flag and line.startswith(\"sigma\"):\n",
    "        var_data.append(line)"
   ],
   "outputs": [],
   "execution_count": 1
  },
  {
   "metadata": {
    "ExecuteTime": {
     "end_time": "2024-10-08T15:26:09.593029Z",
     "start_time": "2024-10-08T15:26:09.588620Z"
    }
   },
   "cell_type": "code",
   "source": "data",
   "id": "54808ee54195795",
   "outputs": [
    {
     "data": {
      "text/plain": [
       "['t_n55          8.2380 ( 7.9914,  8.3305) ( 8.0488,  8.3375)  0.2887 (Jnode 106)\\n',\n",
       " 't_n56          8.1841 ( 7.9108,  8.3149) ( 7.9743,  8.3301)  0.3558 (Jnode 105)\\n',\n",
       " 't_n57          7.8427 ( 7.5748,  8.0171) ( 7.6148,  8.0372)  0.4224 (Jnode 104)\\n',\n",
       " 't_n58          7.2440 ( 6.9672,  7.4848) ( 6.9832,  7.4968)  0.5136 (Jnode 103)\\n',\n",
       " 't_n59          7.0730 ( 6.7964,  7.3243) ( 6.8104,  7.3341)  0.5236 (Jnode 102)\\n',\n",
       " 't_n60          6.8517 ( 6.5676,  7.1200) ( 6.5762,  7.1253)  0.5491 (Jnode 101)\\n',\n",
       " 't_n61          6.4880 ( 6.1514,  6.8110) ( 6.1631,  6.8202)  0.6571 (Jnode 100)\\n',\n",
       " 't_n62          3.8946 ( 2.4106,  4.9584) ( 2.7025,  5.1312)  2.4288 (Jnode 99)\\n',\n",
       " 't_n63          5.3329 ( 4.7816,  5.8659) ( 4.7759,  5.8576)  1.0817 (Jnode 98)\\n',\n",
       " 't_n64          4.3743 ( 3.6911,  5.0375) ( 3.6832,  5.0262)  1.3430 (Jnode 97)\\n',\n",
       " 't_n65          3.9627 ( 3.2634,  4.6744) ( 3.2218,  4.6064)  1.3846 (Jnode 96)\\n',\n",
       " 't_n66          3.2792 ( 2.5801,  4.0447) ( 2.5256,  3.9604)  1.4348 (Jnode 95)\\n',\n",
       " 't_n67          2.3802 ( 1.8140,  3.1982) ( 1.7337,  3.0639)  1.3302 (Jnode 94)\\n',\n",
       " 't_n68          1.6557 ( 1.2369,  2.3461) ( 1.1734,  2.2156)  1.0421 (Jnode 93)\\n',\n",
       " 't_n69          0.8044 ( 0.6212,  1.2421) ( 0.6129,  1.1334)  0.5204 (Jnode 92)\\n',\n",
       " 't_n70          4.3005 ( 3.6653,  5.0589) ( 3.5864,  4.9278)  1.3415 (Jnode 91)\\n',\n",
       " 't_n71          6.9083 ( 6.6320,  7.1697) ( 6.6293,  7.1664)  0.5371 (Jnode 90)\\n',\n",
       " 't_n72          6.3580 ( 5.9188,  6.7258) ( 5.9547,  6.7565)  0.8018 (Jnode 89)\\n',\n",
       " 't_n73          6.4968 ( 6.2052,  6.7905) ( 6.2068,  6.7910)  0.5842 (Jnode 88)\\n',\n",
       " 't_n74          5.1200 ( 4.2579,  5.7711) ( 4.3371,  5.8303)  1.4932 (Jnode 87)\\n',\n",
       " 't_n75          4.5658 ( 3.6039,  5.3593) ( 3.6645,  5.4076)  1.7431 (Jnode 86)\\n',\n",
       " 't_n76          5.2221 ( 5.0494,  5.6084) ( 5.0422,  5.5246)  0.4824 (Jnode 85)\\n',\n",
       " 't_n77          6.8438 ( 6.5704,  7.1064) ( 6.5693,  7.1047)  0.5354 (Jnode 84)\\n',\n",
       " 't_n78          6.5817 ( 6.2992,  6.8581) ( 6.3105,  6.8673)  0.5568 (Jnode 83)\\n',\n",
       " 't_n79          6.3906 ( 6.0996,  6.6786) ( 6.0958,  6.6735)  0.5777 (Jnode 82)\\n',\n",
       " 't_n80          6.1376 ( 5.8340,  6.4451) ( 5.8322,  6.4424)  0.6102 (Jnode 81)\\n',\n",
       " 't_n81          5.7775 ( 5.4667,  6.1082) ( 5.4590,  6.0985)  0.6395 (Jnode 80)\\n',\n",
       " 't_n82          5.6235 ( 5.3099,  5.9615) ( 5.3064,  5.9559)  0.6495 (Jnode 79)\\n',\n",
       " 't_n83          5.0848 ( 4.7430,  5.4625) ( 4.7223,  5.4378)  0.7155 (Jnode 78)\\n',\n",
       " 't_n84          4.7314 ( 4.3824,  5.1287) ( 4.3655,  5.1108)  0.7453 (Jnode 77)\\n',\n",
       " 't_n85          4.3857 ( 4.0421,  4.8009) ( 4.0192,  4.7693)  0.7501 (Jnode 76)\\n',\n",
       " 't_n86          3.5845 ( 3.3372,  3.9955) ( 3.3048,  3.9346)  0.6298 (Jnode 75)\\n',\n",
       " 't_n87          3.2558 ( 3.0605,  3.6866) ( 3.0530,  3.5898)  0.5368 (Jnode 74)\\n',\n",
       " 't_n88          5.1705 ( 4.8539,  5.5436) ( 4.8380,  5.5237)  0.6857 (Jnode 73)\\n',\n",
       " 't_n89          4.3892 ( 4.1677,  4.8289) ( 4.1573,  4.7344)  0.5771 (Jnode 72)\\n',\n",
       " 't_n90          6.7309 ( 6.4546,  6.9965) ( 6.4559,  6.9968)  0.5410 (Jnode 71)\\n',\n",
       " 't_n91          2.1409 ( 0.8162,  4.0141) ( 0.7313,  3.8750)  3.1436 (Jnode 70)\\n',\n",
       " 't_n92          6.5969 ( 6.3219,  6.8673) ( 6.3219,  6.8673)  0.5454 (Jnode 69)\\n',\n",
       " 't_n93          6.2717 ( 5.9992,  6.5534) ( 5.9966,  6.5503)  0.5537 (Jnode 68)\\n',\n",
       " 't_n94          5.7930 ( 5.5348,  6.0863) ( 5.5348,  6.0863)  0.5515 (Jnode 67)\\n',\n",
       " 't_n95          5.4749 ( 5.2401,  5.7703) ( 5.2180,  5.7382)  0.5202 (Jnode 66)\\n',\n",
       " 't_n96          4.3633 ( 3.6158,  4.8989) ( 3.6894,  4.9566)  1.2672 (Jnode 65)\\n',\n",
       " 't_n97          4.8311 ( 4.7048,  5.1300) ( 4.7000,  5.0618)  0.3617 (Jnode 64)\\n',\n",
       " 't_n98          5.5527 ( 5.1156,  5.9457) ( 5.1389,  5.9634)  0.8245 (Jnode 63)\\n',\n",
       " 't_n99          5.2896 ( 4.8041,  5.7323) ( 4.8082,  5.7349)  0.9268 (Jnode 62)\\n',\n",
       " 't_n100         4.7606 ( 4.1506,  5.3258) ( 4.1753,  5.3467)  1.1714 (Jnode 61)\\n',\n",
       " 't_n101         3.9890 ( 3.1622,  4.7736) ( 3.1840,  4.7941)  1.6101 (Jnode 60)\\n',\n",
       " 't_n102         4.8053 ( 3.7755,  5.5675) ( 3.8696,  5.6185)  1.7489 (Jnode 59)\\n',\n",
       " 't_n103         7.3769 ( 7.0201,  7.6522) ( 7.0461,  7.6701)  0.6240 (Jnode 58)\\n',\n",
       " 't_n104         6.0473 ( 5.0132,  6.7849) ( 5.1330,  6.8662)  1.7331 (Jnode 57)\\n',\n",
       " 't_n105         4.2046 ( 2.8162,  5.4125) ( 3.0681,  5.5628)  2.4947 (Jnode 56)\\n',\n",
       " 't_n106         3.9230 ( 1.8644,  5.2844) ( 2.0894,  5.4463)  3.3570 (Jnode 55)\\n',\n",
       " 't_n107         6.1545 ( 4.3703,  7.3123) ( 4.5609,  7.4236)  2.8628 (Jnode 54)\\n']"
      ]
     },
     "execution_count": 2,
     "metadata": {},
     "output_type": "execute_result"
    }
   ],
   "execution_count": 2
  },
  {
   "metadata": {
    "ExecuteTime": {
     "end_time": "2024-10-08T15:26:09.645423Z",
     "start_time": "2024-10-08T15:26:09.642538Z"
    }
   },
   "cell_type": "code",
   "source": [
    "node_name = []\n",
    "posterior_mean_iqtree = []\n",
    "posterior_mean_baseml = []\n",
    "\n",
    "posterior_mean_mu_iqtree = []\n",
    "posterior_mean_mu_baseml = []\n",
    "\n",
    "posterior_mean_var_iqtree = []\n",
    "posterior_mean_var_baseml = []\n",
    "\n",
    "lower_ci_iqtree = []\n",
    "upper_ci_iqtree = []\n",
    "\n",
    "lower_ci_mu_iqtree = []\n",
    "upper_ci_mu_iqtree = []\n",
    "\n",
    "lower_ci_var_iqtree = []\n",
    "upper_ci_var_iqtree = []\n",
    "\n",
    "# Credible intervals for McmcDate\n",
    "lower_ci_baseml = []\n",
    "upper_ci_baseml = []\n",
    "\n",
    "lower_ci_mu_baseml = []\n",
    "upper_ci_mu_baseml = []\n",
    "\n",
    "lower_ci_var_baseml = []\n",
    "upper_ci_var_baseml = []"
   ],
   "id": "e5cf93a69d327e61",
   "outputs": [],
   "execution_count": 3
  },
  {
   "metadata": {
    "ExecuteTime": {
     "end_time": "2024-10-08T15:26:09.695549Z",
     "start_time": "2024-10-08T15:26:09.691235Z"
    }
   },
   "cell_type": "code",
   "source": [
    "for line in data:\n",
    "    line = line.strip().split()\n",
    "    node_name.append(line[0])\n",
    "    posterior_mean_iqtree.append(float(line[1]))\n",
    "#     if line[3].startswith('('):\n",
    "#         lower_ci_iqtree.append(float(line[3][1:-1]))\n",
    "#     else:\n",
    "#         lower_ci_iqtree.append(float(line[3][1:-1]))\n",
    "#     if line[4].startswith('('):\n",
    "#         upper_ci_iqtree.append(float(line[4][1:-1]))\n",
    "#     else:\n",
    "#         upper_ci_iqtree.append(float(line[4][:-1]))\n",
    "#     # posterior_mean_baseml.append(float(line[4]))\n",
    "#     # lower_ci_baseml.append(float(line[5]))\n",
    "#     # upper_ci_baseml.append(float(line[6]))\n",
    "# \n",
    "# for line in mu_data:\n",
    "#     line = line.strip().split()\n",
    "#     # node_name.append(line[0])\n",
    "#     posterior_mean_mu_iqtree.append(float(line[1]))\n",
    "#     lower_ci_mu_iqtree.append(float(line[3][:-1]))\n",
    "#     upper_ci_mu_iqtree.append(float(line[4][:-1]))\n",
    "#\n",
    "# for line in var_data:\n",
    "#     line = line.strip().split()\n",
    "#     # node_name.append(line[0])\n",
    "#     posterior_mean_var_iqtree.append(float(line[1]))\n",
    "#     lower_ci_var_iqtree.append(float(line[3][:-1]))\n",
    "#     upper_ci_var_iqtree.append(float(line[4][:-1]))"
   ],
   "id": "4e79ee928ea76b59",
   "outputs": [],
   "execution_count": 4
  },
  {
   "metadata": {
    "ExecuteTime": {
     "end_time": "2024-10-08T15:26:09.758300Z",
     "start_time": "2024-10-08T15:26:09.753702Z"
    }
   },
   "cell_type": "code",
   "source": "node_name",
   "id": "2c17f55ec9626a0b",
   "outputs": [
    {
     "data": {
      "text/plain": [
       "['t_n55',\n",
       " 't_n56',\n",
       " 't_n57',\n",
       " 't_n58',\n",
       " 't_n59',\n",
       " 't_n60',\n",
       " 't_n61',\n",
       " 't_n62',\n",
       " 't_n63',\n",
       " 't_n64',\n",
       " 't_n65',\n",
       " 't_n66',\n",
       " 't_n67',\n",
       " 't_n68',\n",
       " 't_n69',\n",
       " 't_n70',\n",
       " 't_n71',\n",
       " 't_n72',\n",
       " 't_n73',\n",
       " 't_n74',\n",
       " 't_n75',\n",
       " 't_n76',\n",
       " 't_n77',\n",
       " 't_n78',\n",
       " 't_n79',\n",
       " 't_n80',\n",
       " 't_n81',\n",
       " 't_n82',\n",
       " 't_n83',\n",
       " 't_n84',\n",
       " 't_n85',\n",
       " 't_n86',\n",
       " 't_n87',\n",
       " 't_n88',\n",
       " 't_n89',\n",
       " 't_n90',\n",
       " 't_n91',\n",
       " 't_n92',\n",
       " 't_n93',\n",
       " 't_n94',\n",
       " 't_n95',\n",
       " 't_n96',\n",
       " 't_n97',\n",
       " 't_n98',\n",
       " 't_n99',\n",
       " 't_n100',\n",
       " 't_n101',\n",
       " 't_n102',\n",
       " 't_n103',\n",
       " 't_n104',\n",
       " 't_n105',\n",
       " 't_n106',\n",
       " 't_n107']"
      ]
     },
     "execution_count": 5,
     "metadata": {},
     "output_type": "execute_result"
    }
   ],
   "execution_count": 5
  },
  {
   "metadata": {
    "ExecuteTime": {
     "end_time": "2024-10-08T15:26:09.827162Z",
     "start_time": "2024-10-08T15:26:09.822608Z"
    }
   },
   "cell_type": "code",
   "source": "posterior_mean_iqtree",
   "id": "24a55c806a41f33e",
   "outputs": [
    {
     "data": {
      "text/plain": [
       "[8.238,\n",
       " 8.1841,\n",
       " 7.8427,\n",
       " 7.244,\n",
       " 7.073,\n",
       " 6.8517,\n",
       " 6.488,\n",
       " 3.8946,\n",
       " 5.3329,\n",
       " 4.3743,\n",
       " 3.9627,\n",
       " 3.2792,\n",
       " 2.3802,\n",
       " 1.6557,\n",
       " 0.8044,\n",
       " 4.3005,\n",
       " 6.9083,\n",
       " 6.358,\n",
       " 6.4968,\n",
       " 5.12,\n",
       " 4.5658,\n",
       " 5.2221,\n",
       " 6.8438,\n",
       " 6.5817,\n",
       " 6.3906,\n",
       " 6.1376,\n",
       " 5.7775,\n",
       " 5.6235,\n",
       " 5.0848,\n",
       " 4.7314,\n",
       " 4.3857,\n",
       " 3.5845,\n",
       " 3.2558,\n",
       " 5.1705,\n",
       " 4.3892,\n",
       " 6.7309,\n",
       " 2.1409,\n",
       " 6.5969,\n",
       " 6.2717,\n",
       " 5.793,\n",
       " 5.4749,\n",
       " 4.3633,\n",
       " 4.8311,\n",
       " 5.5527,\n",
       " 5.2896,\n",
       " 4.7606,\n",
       " 3.989,\n",
       " 4.8053,\n",
       " 7.3769,\n",
       " 6.0473,\n",
       " 4.2046,\n",
       " 3.923,\n",
       " 6.1545]"
      ]
     },
     "execution_count": 6,
     "metadata": {},
     "output_type": "execute_result"
    }
   ],
   "execution_count": 6
  },
  {
   "metadata": {
    "ExecuteTime": {
     "end_time": "2024-10-08T15:26:09.884795Z",
     "start_time": "2024-10-08T15:26:09.881665Z"
    }
   },
   "cell_type": "code",
   "source": "lower_ci_iqtree",
   "id": "388aa27ad336d43f",
   "outputs": [
    {
     "data": {
      "text/plain": [
       "[]"
      ]
     },
     "execution_count": 7,
     "metadata": {},
     "output_type": "execute_result"
    }
   ],
   "execution_count": 7
  },
  {
   "metadata": {
    "ExecuteTime": {
     "end_time": "2024-10-08T15:26:09.944713Z",
     "start_time": "2024-10-08T15:26:09.941692Z"
    }
   },
   "cell_type": "code",
   "source": "upper_ci_iqtree",
   "id": "816e569fb763e797",
   "outputs": [
    {
     "data": {
      "text/plain": [
       "[]"
      ]
     },
     "execution_count": 8,
     "metadata": {},
     "output_type": "execute_result"
    }
   ],
   "execution_count": 8
  },
  {
   "metadata": {
    "ExecuteTime": {
     "end_time": "2024-10-08T15:26:10.003259Z",
     "start_time": "2024-10-08T15:26:09.999700Z"
    }
   },
   "cell_type": "code",
   "source": [
    "file_LG = open(\"LG_cr_out.txt\", \"r\")\n",
    "lines1 = file_LG.readlines()\n",
    "file_LG.close()\n",
    "\n",
    "# Extract the data\n",
    "data1 = []\n",
    "mu_data1 = []\n",
    "var_data1 = []\n",
    "\n",
    "read_flag = False\n",
    "for line in lines1:\n",
    "    if line.startswith(\"Posterior\"):\n",
    "        read_flag = True\n",
    "    if read_flag and line.startswith(\"t\"):\n",
    "        data1.append(line)\n",
    "    if read_flag and line.startswith(\"mu\"):\n",
    "        mu_data1.append(line)\n",
    "    if read_flag and line.startswith(\"sigma\"):\n",
    "        var_data1.append(line)\n",
    "\n",
    "        \n",
    "for line in data1:\n",
    "    line = line.strip().split()\n",
    "    # node_name.append(line[0])\n",
    "    posterior_mean_baseml.append(float(line[1]))\n",
    "#     if line[3].startswith('('):\n",
    "#         lower_ci_baseml.append(float(line[3][1:-1]))\n",
    "#     else:\n",
    "#          lower_ci_baseml.append(float(line[3][:-1]))\n",
    "#     if line[4].startswith('('):\n",
    "#         upper_ci_baseml.append(float(line[4][1:-1]))\n",
    "#     else:\n",
    "#          upper_ci_baseml.append(float(line[4][:-1]))\n",
    "#         \n",
    "#     \n",
    "# for line in mu_data1:\n",
    "#     line = line.strip().split()\n",
    "#     # node_name.append(line[0])\n",
    "#     posterior_mean_mu_baseml.append(float(line[1]))\n",
    "#     lower_ci_mu_baseml.append(float(line[3][:-1]))\n",
    "#     upper_ci_mu_baseml.append(float(line[4][:-1]))\n",
    "    \n",
    "# for line in var_data1:\n",
    "#     line = line.strip().split()\n",
    "#     # node_name.append(line[0])\n",
    "#     posterior_mean_var_baseml.append(float(line[1]))\n",
    "#     lower_ci_var_baseml.append(float(line[3][:-1]))\n",
    "#     upper_ci_var_baseml.append(float(line[4][:-1]))"
   ],
   "id": "f75c012c6bef60a2",
   "outputs": [],
   "execution_count": 9
  },
  {
   "metadata": {
    "ExecuteTime": {
     "end_time": "2024-10-08T15:26:10.053344Z",
     "start_time": "2024-10-08T15:26:10.050860Z"
    }
   },
   "cell_type": "code",
   "source": [
    "import matplotlib.pyplot as plt\n",
    "import numpy as np\n",
    "\n",
    "# # Example data\n",
    "# # Posterior means for MCMCtree (x-axis) and McmcDate (y-axis)\n",
    "# posterior_mean_mcmctree = [100, 200, 300, 400, 500, 600, 700, 800, 900, 1000]\n",
    "# posterior_mean_mcmcdate = [110, 210, 310, 410, 510, 610, 710, 810, 910, 1010]\n",
    "# \n",
    "# # Credible intervals for MCMCtree\n",
    "# lower_ci_mcmctree = [90, 180, 270, 360, 450, 540, 630, 720, 810, 900]\n",
    "# upper_ci_mcmctree = [110, 220, 330, 440, 550, 660, 770, 880, 990, 1100]\n",
    "# \n",
    "# # Credible intervals for McmcDate\n",
    "# lower_ci_mcmcdate = [100, 200, 300, 400, 500, 600, 700, 800, 900, 1000]\n",
    "# upper_ci_mcmcdate = [120, 220, 320, 420, 520, 620, 720, 820, 920, 1020]\n",
    "\n",
    "# Calculate error bars\n",
    "# xerr = [np.array(lower_ci_baseml), \n",
    "#         np.array(upper_ci_baseml)]\n",
    "# yerr = [np.array(lower_ci_iqtree), \n",
    "#         np.array(upper_ci_iqtree)]\n",
    "# \n",
    "# # Plotting\n",
    "# fig, ax = plt.subplots(figsize=(15, 15))\n",
    "# ax.plot([-0.1,90], \n",
    "#         [-0.1, 90], \n",
    "#         'k--', label='y=x')\n",
    "# ax.errorbar(posterior_mean_baseml, posterior_mean_iqtree, \n",
    "#             xerr=xerr, yerr=yerr, fmt='*', ecolor='r', capsize=3, label='95% HPD CI')\n",
    "# \n",
    "# # Labels and title\n",
    "# ax.set_xlabel('Posterior mean age LG [100 Mya]', fontsize=18)\n",
    "# ax.set_ylabel('Posterior mean age LG+G4 [100 Mya]', fontsize=18)\n",
    "# ax.set_title('Posterior mean age comparison between LG and LG+G4 models [t116 ~ B(1.25,2.482)]')\n",
    "# ax.legend()\n",
    "# \n",
    "# # Show plot\n",
    "# # plt.show()\n",
    "# plt.savefig('./animal_origin_posterior_mean_age_comparison_LG_G4_c11.png')"
   ],
   "id": "12db486fa4fac82c",
   "outputs": [],
   "execution_count": 10
  },
  {
   "metadata": {
    "ExecuteTime": {
     "end_time": "2024-10-08T15:26:10.117095Z",
     "start_time": "2024-10-08T15:26:10.110536Z"
    }
   },
   "cell_type": "code",
   "source": "posterior_mean_baseml",
   "id": "917b2e31cff4b992",
   "outputs": [
    {
     "data": {
      "text/plain": [
       "[8.2351,\n",
       " 8.1831,\n",
       " 7.8003,\n",
       " 7.2715,\n",
       " 7.0746,\n",
       " 6.8148,\n",
       " 6.4195,\n",
       " 4.0747,\n",
       " 5.3769,\n",
       " 4.4653,\n",
       " 4.0182,\n",
       " 3.3143,\n",
       " 2.4125,\n",
       " 1.6939,\n",
       " 0.8328,\n",
       " 4.3638,\n",
       " 6.8532,\n",
       " 5.9805,\n",
       " 6.4305,\n",
       " 5.1471,\n",
       " 4.5115,\n",
       " 5.2452,\n",
       " 6.9001,\n",
       " 6.6225,\n",
       " 6.4158,\n",
       " 6.1489,\n",
       " 5.8045,\n",
       " 5.6179,\n",
       " 5.1093,\n",
       " 4.733,\n",
       " 4.3636,\n",
       " 3.6356,\n",
       " 3.2462,\n",
       " 5.2027,\n",
       " 4.4162,\n",
       " 6.7629,\n",
       " 2.801,\n",
       " 6.6043,\n",
       " 6.2802,\n",
       " 5.8111,\n",
       " 5.4784,\n",
       " 4.4257,\n",
       " 4.8271,\n",
       " 5.5866,\n",
       " 5.2054,\n",
       " 4.5232,\n",
       " 4.1161,\n",
       " 4.8933,\n",
       " 7.3254,\n",
       " 6.0679,\n",
       " 4.2593,\n",
       " 4.2254,\n",
       " 6.4094]"
      ]
     },
     "execution_count": 11,
     "metadata": {},
     "output_type": "execute_result"
    }
   ],
   "execution_count": 11
  },
  {
   "metadata": {
    "ExecuteTime": {
     "end_time": "2024-10-08T15:26:10.179771Z",
     "start_time": "2024-10-08T15:26:10.174523Z"
    }
   },
   "cell_type": "code",
   "source": "posterior_mean_iqtree",
   "id": "59ad8fd34f7bbf11",
   "outputs": [
    {
     "data": {
      "text/plain": [
       "[8.238,\n",
       " 8.1841,\n",
       " 7.8427,\n",
       " 7.244,\n",
       " 7.073,\n",
       " 6.8517,\n",
       " 6.488,\n",
       " 3.8946,\n",
       " 5.3329,\n",
       " 4.3743,\n",
       " 3.9627,\n",
       " 3.2792,\n",
       " 2.3802,\n",
       " 1.6557,\n",
       " 0.8044,\n",
       " 4.3005,\n",
       " 6.9083,\n",
       " 6.358,\n",
       " 6.4968,\n",
       " 5.12,\n",
       " 4.5658,\n",
       " 5.2221,\n",
       " 6.8438,\n",
       " 6.5817,\n",
       " 6.3906,\n",
       " 6.1376,\n",
       " 5.7775,\n",
       " 5.6235,\n",
       " 5.0848,\n",
       " 4.7314,\n",
       " 4.3857,\n",
       " 3.5845,\n",
       " 3.2558,\n",
       " 5.1705,\n",
       " 4.3892,\n",
       " 6.7309,\n",
       " 2.1409,\n",
       " 6.5969,\n",
       " 6.2717,\n",
       " 5.793,\n",
       " 5.4749,\n",
       " 4.3633,\n",
       " 4.8311,\n",
       " 5.5527,\n",
       " 5.2896,\n",
       " 4.7606,\n",
       " 3.989,\n",
       " 4.8053,\n",
       " 7.3769,\n",
       " 6.0473,\n",
       " 4.2046,\n",
       " 3.923,\n",
       " 6.1545]"
      ]
     },
     "execution_count": 12,
     "metadata": {},
     "output_type": "execute_result"
    }
   ],
   "execution_count": 12
  },
  {
   "metadata": {
    "ExecuteTime": {
     "end_time": "2024-10-08T15:26:10.547495Z",
     "start_time": "2024-10-08T15:26:10.367986Z"
    }
   },
   "cell_type": "code",
   "source": [
    "# Calculate error bars\n",
    "xerr = [np.array(lower_ci_baseml), \n",
    "        np.array(upper_ci_baseml)]\n",
    "yerr = [np.array(lower_ci_iqtree), \n",
    "        np.array(upper_ci_iqtree)]\n",
    "\n",
    "# Plotting\n",
    "fig, ax = plt.subplots(figsize=(9 ,9))\n",
    "ax.plot([-0.1,17], \n",
    "        [-0.1, 17], \n",
    "        'k--', label='y=x')\n",
    "ax.plot(posterior_mean_baseml, posterior_mean_iqtree, 'o', label='Posterior mean age')\n",
    " \n",
    "# Labels and title\n",
    "ax.set_xlabel('Posterior mean age LG [Mya]', fontsize=18)\n",
    "ax.set_ylabel('Posterior mean age LG+G4 [Mya]', fontsize=18)\n",
    "ax.set_title('Posterior mean age comparison between LG and LG+G4 [cherry and root calibrations]')\n",
    "ax.legend()\n",
    "\n",
    "# point_x = posterior_mean_baseml[0]  # Example: first point in the list\n",
    "# point_y = posterior_mean_iqtree[0]  # Example: first point in the list\n",
    "# ax.annotate('Root age', xy=(point_x, point_y), xytext=(point_x - 0.1, point_y - 0.1), color='red')\n",
    "# Show plot\n",
    "# plt.show()\n",
    "plt.savefig('./metazoa_posterior_mean_age_comparison_LG_G4_cr_scatter.png')"
   ],
   "id": "592d0bb72aa1ad4c",
   "outputs": [
    {
     "data": {
      "text/plain": [
       "<Figure size 900x900 with 1 Axes>"
      ],
      "image/png": "[encoded data removed]"
     },
     "metadata": {},
     "output_type": "display_data"
    }
   ],
   "execution_count": 13
  },
  {
   "metadata": {
    "ExecuteTime": {
     "end_time": "2024-10-08T15:26:10.556357Z",
     "start_time": "2024-10-08T15:26:10.554180Z"
    }
   },
   "cell_type": "code",
   "source": [
    "# fig, ax = plt.subplots(figsize=(9 ,9))\n",
    "# ax.plot([0.01,0.04], \n",
    "#         [0.01, 0.04], \n",
    "#         'k--', label='y=x')\n",
    "# ax.plot(posterior_mean_mu_baseml, posterior_mean_mu_iqtree, 'o', label='Posterior mean rates for partitions')\n",
    "#  \n",
    "# # Labels and title\n",
    "# ax.set_xlabel('Posterior mean rate [LG]', fontsize=18)\n",
    "# ax.set_ylabel('Posterior mean rate [LG+G4]', fontsize=18)\n",
    "# ax.set_title('Posterior mean rate comparison between LG and LG+G4 [Cherry only calibration/IQ-TREE]')\n",
    "# ax.legend()\n",
    "# \n",
    "# # point_x = posterior_mean_baseml[0]  # Example: first point in the list\n",
    "# # point_y = posterior_mean_iqtree[0]  # Example: first point in the list\n",
    "# # ax.annotate('Root age', xy=(point_x, point_y), xytext=(point_x - 0.1, point_y - 0.1), color='red')\n",
    "# # Show plot\n",
    "# # plt.show()\n",
    "# plt.savefig('./animal_origin__posterior_mean_rate_comparison_LG_G4_all_scatter.png')"
   ],
   "id": "c6d69ee36c77970c",
   "outputs": [],
   "execution_count": 14
  },
  {
   "metadata": {
    "ExecuteTime": {
     "end_time": "2024-10-08T15:26:10.602870Z",
     "start_time": "2024-10-08T15:26:10.600573Z"
    }
   },
   "cell_type": "code",
   "source": "",
   "id": "ca69d5b521db3aa7",
   "outputs": [],
   "execution_count": null
  }
 ],
 "metadata": {
  "kernelspec": {
   "display_name": "Python 3",
   "language": "python",
   "name": "python3"
  },
  "language_info": {
   "codemirror_mode": {
    "name": "ipython",
    "version": 2
   },
   "file_extension": ".py",
   "mimetype": "text/x-python",
   "name": "python",
   "nbconvert_exporter": "python",
   "pygments_lexer": "ipython2",
   "version": "2.7.6"
  }
 },
 "nbformat": 4,
 "nbformat_minor": 5
}
