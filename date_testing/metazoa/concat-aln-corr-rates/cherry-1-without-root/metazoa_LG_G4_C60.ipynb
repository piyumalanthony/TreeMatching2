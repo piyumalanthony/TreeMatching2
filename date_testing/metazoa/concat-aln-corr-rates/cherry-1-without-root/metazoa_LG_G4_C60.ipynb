{
 "cells": [
  {
   "cell_type": "code",
   "id": "initial_id",
   "metadata": {
    "collapsed": true,
    "ExecuteTime": {
     "end_time": "2024-10-08T15:02:12.788990Z",
     "start_time": "2024-10-08T15:02:12.784293Z"
    }
   },
   "source": [
    "# Code to get all the Posterior mean (95% Equal-tail CI) (95% HPD CI) HPD-CI-width from ./xenarthra_mcmc_out.txt\n",
    "import numpy as np\n",
    "import pandas as pd\n",
    "import matplotlib.pyplot as plt\n",
    "\n",
    "\n",
    "# Read the file\n",
    "file = open(\"LG_G4_C60_cw_out.txt\", \"r\")\n",
    "lines = file.readlines()\n",
    "file.close()\n",
    "\n",
    "# Extract the data\n",
    "data = []\n",
    "mu_data = []\n",
    "var_data = []\n",
    "\n",
    "read_flag = False\n",
    "for line in lines:\n",
    "    if line.startswith(\"Posterior\"):\n",
    "        read_flag = True\n",
    "    if read_flag and line.startswith(\"t\"):\n",
    "        data.append(line)\n",
    "    if read_flag and line.startswith(\"mu\"):\n",
    "        mu_data.append(line)\n",
    "    if read_flag and line.startswith(\"sigma\"):\n",
    "        var_data.append(line)"
   ],
   "outputs": [],
   "execution_count": 15
  },
  {
   "metadata": {
    "ExecuteTime": {
     "end_time": "2024-10-08T15:02:12.813054Z",
     "start_time": "2024-10-08T15:02:12.809484Z"
    }
   },
   "cell_type": "code",
   "source": "data",
   "id": "54808ee54195795",
   "outputs": [
    {
     "data": {
      "text/plain": [
       "['t_n55          8.5648 ( 7.8618,  9.5016) ( 7.8126,  9.4418)  1.6291 (Jnode 106)\\n',\n",
       " 't_n56          8.4546 ( 7.7596,  9.3687) ( 7.7107,  9.3053)  1.5946 (Jnode 105)\\n',\n",
       " 't_n57          8.0684 ( 7.4186,  8.9158) ( 7.3803,  8.8627)  1.4825 (Jnode 104)\\n',\n",
       " 't_n58          7.1258 ( 6.5663,  7.8210) ( 6.5214,  7.7639)  1.2425 (Jnode 103)\\n',\n",
       " 't_n59          6.9408 ( 6.3991,  7.6116) ( 6.3688,  7.5668)  1.1981 (Jnode 102)\\n',\n",
       " 't_n60          6.6838 ( 6.1628,  7.3284) ( 6.1180,  7.2641)  1.1461 (Jnode 101)\\n',\n",
       " 't_n61          6.2986 ( 5.7962,  6.9094) ( 5.7720,  6.8697)  1.0977 (Jnode 100)\\n',\n",
       " 't_n62          3.2186 ( 1.8695,  4.2281) ( 1.9202,  4.2672)  2.3470 (Jnode 99)\\n',\n",
       " 't_n63          4.7947 ( 4.4024,  5.2956) ( 4.3712,  5.2442)  0.8731 (Jnode 98)\\n',\n",
       " 't_n64          3.6340 ( 2.9753,  4.2125) ( 2.9890,  4.2234)  1.2343 (Jnode 97)\\n',\n",
       " 't_n65          3.2353 ( 2.5659,  3.8450) ( 2.6068,  3.8810)  1.2742 (Jnode 96)\\n',\n",
       " 't_n66          2.5213 ( 1.9094,  3.1351) ( 1.9318,  3.1530)  1.2212 (Jnode 95)\\n',\n",
       " 't_n67          1.6984 ( 1.2238,  2.2413) ( 1.2101,  2.2192)  1.0092 (Jnode 94)\\n',\n",
       " 't_n68          1.1246 ( 0.7846,  1.5414) ( 0.7727,  1.5233)  0.7505 (Jnode 93)\\n',\n",
       " 't_n69          0.4847 ( 0.3152,  0.7157) ( 0.2989,  0.6879)  0.3889 (Jnode 92)\\n',\n",
       " 't_n70          3.6858 ( 3.5847,  3.9511) ( 3.5768,  3.8878)  0.3110 (Jnode 91)\\n',\n",
       " 't_n71          6.8021 ( 6.2690,  7.4571) ( 6.2390,  7.4094)  1.1704 (Jnode 90)\\n',\n",
       " 't_n72          6.6277 ( 6.0935,  7.2894) ( 6.0676,  7.2512)  1.1836 (Jnode 89)\\n',\n",
       " 't_n73          6.2549 ( 5.7460,  6.8660) ( 5.7123,  6.8240)  1.1117 (Jnode 88)\\n',\n",
       " 't_n74          4.5883 ( 4.0426,  5.2691) ( 4.0135,  5.2237)  1.2102 (Jnode 87)\\n',\n",
       " 't_n75          4.1408 ( 3.6359,  4.8398) ( 3.6020,  4.7809)  1.1789 (Jnode 86)\\n',\n",
       " 't_n76          3.8998 ( 2.7436,  4.6555) ( 2.8933,  4.7496)  1.8563 (Jnode 85)\\n',\n",
       " 't_n77          6.6139 ( 6.1007,  7.2462) ( 6.0747,  7.2083)  1.1336 (Jnode 84)\\n',\n",
       " 't_n78          6.3448 ( 5.8502,  6.9529) ( 5.8084,  6.8944)  1.0860 (Jnode 83)\\n',\n",
       " 't_n79          6.1613 ( 5.6833,  6.7583) ( 5.6413,  6.6994)  1.0581 (Jnode 82)\\n',\n",
       " 't_n80          5.8141 ( 5.3605,  6.3779) ( 5.3367,  6.3413)  1.0045 (Jnode 81)\\n',\n",
       " 't_n81          5.3880 ( 4.9652,  5.9327) ( 4.9356,  5.8847)  0.9491 (Jnode 80)\\n',\n",
       " 't_n82          5.2555 ( 4.8405,  5.7915) ( 4.8229,  5.7636)  0.9407 (Jnode 79)\\n',\n",
       " 't_n83          4.6243 ( 4.2392,  5.1650) ( 4.2059,  5.1244)  0.9185 (Jnode 78)\\n',\n",
       " 't_n84          4.2368 ( 3.8751,  4.7980) ( 3.8527,  4.7619)  0.9092 (Jnode 77)\\n',\n",
       " 't_n85          3.9000 ( 3.5426,  4.4748) ( 3.4824,  4.4105)  0.9281 (Jnode 76)\\n',\n",
       " 't_n86          2.9129 ( 2.4415,  3.6398) ( 2.3474,  3.4141)  1.0667 (Jnode 75)\\n',\n",
       " 't_n87          2.6908 ( 2.2157,  3.3982) ( 2.1327,  3.2020)  1.0692 (Jnode 74)\\n',\n",
       " 't_n88          4.6733 ( 4.2490,  5.1935) ( 4.2284,  5.1704)  0.9421 (Jnode 73)\\n',\n",
       " 't_n89          3.8695 ( 3.3688,  4.3763) ( 3.3793,  4.3839)  1.0046 (Jnode 72)\\n',\n",
       " 't_n90          6.5049 ( 6.0005,  7.1290) ( 5.9681,  7.0865)  1.1184 (Jnode 71)\\n',\n",
       " 't_n91          1.3425 ( 0.6538,  2.2591) ( 0.6032,  2.1797)  1.5765 (Jnode 70)\\n',\n",
       " 't_n92          6.3761 ( 5.8831,  6.9904) ( 5.8389,  6.9363)  1.0974 (Jnode 69)\\n',\n",
       " 't_n93          6.0114 ( 5.5349,  6.5914) ( 5.5298,  6.5807)  1.0509 (Jnode 68)\\n',\n",
       " 't_n94          5.4098 ( 4.9451,  5.9495) ( 4.9286,  5.9283)  0.9997 (Jnode 67)\\n',\n",
       " 't_n95          5.0624 ( 4.5944,  5.5813) ( 4.5933,  5.5795)  0.9861 (Jnode 66)\\n',\n",
       " 't_n96          3.8606 ( 3.2361,  4.3928) ( 3.3268,  4.4615)  1.1347 (Jnode 65)\\n',\n",
       " 't_n97          4.2981 ( 3.7879,  4.8502) ( 3.7546,  4.8105)  1.0559 (Jnode 64)\\n',\n",
       " 't_n98          5.2261 ( 4.6692,  5.7861) ( 4.6602,  5.7755)  1.1153 (Jnode 63)\\n',\n",
       " 't_n99          5.0572 ( 4.4800,  5.6160) ( 4.4549,  5.5852)  1.1302 (Jnode 62)\\n',\n",
       " 't_n100         4.7427 ( 4.1296,  5.3107) ( 4.1157,  5.2938)  1.1781 (Jnode 61)\\n',\n",
       " 't_n101         3.6416 ( 2.6787,  4.2414) ( 2.7426,  4.2879)  1.5452 (Jnode 60)\\n',\n",
       " 't_n102         4.5212 ( 3.7977,  5.2397) ( 3.7829,  5.2195)  1.4366 (Jnode 59)\\n',\n",
       " 't_n103         7.4328 ( 6.7834,  8.2176) ( 6.7256,  8.1449)  1.4193 (Jnode 58)\\n',\n",
       " 't_n104         5.7853 ( 4.6503,  6.6260) ( 4.7708,  6.7024)  1.9316 (Jnode 57)\\n',\n",
       " 't_n105         3.8499 ( 2.4815,  4.7668) ( 2.5346,  4.8010)  2.2664 (Jnode 56)\\n',\n",
       " 't_n106         3.0694 ( 1.4493,  4.4456) ( 1.4857,  4.4775)  2.9918 (Jnode 55)\\n',\n",
       " 't_n107         5.6710 ( 4.1064,  7.0167) ( 4.1218,  7.0284)  2.9067 (Jnode 54)\\n']"
      ]
     },
     "execution_count": 16,
     "metadata": {},
     "output_type": "execute_result"
    }
   ],
   "execution_count": 16
  },
  {
   "metadata": {
    "ExecuteTime": {
     "end_time": "2024-10-08T15:02:12.874467Z",
     "start_time": "2024-10-08T15:02:12.869790Z"
    }
   },
   "cell_type": "code",
   "source": [
    "node_name = []\n",
    "posterior_mean_iqtree = []\n",
    "posterior_mean_baseml = []\n",
    "\n",
    "posterior_mean_mu_iqtree = []\n",
    "posterior_mean_mu_baseml = []\n",
    "\n",
    "posterior_mean_var_iqtree = []\n",
    "posterior_mean_var_baseml = []\n",
    "\n",
    "lower_ci_iqtree = []\n",
    "upper_ci_iqtree = []\n",
    "\n",
    "lower_ci_mu_iqtree = []\n",
    "upper_ci_mu_iqtree = []\n",
    "\n",
    "lower_ci_var_iqtree = []\n",
    "upper_ci_var_iqtree = []\n",
    "\n",
    "# Credible intervals for McmcDate\n",
    "lower_ci_baseml = []\n",
    "upper_ci_baseml = []\n",
    "\n",
    "lower_ci_mu_baseml = []\n",
    "upper_ci_mu_baseml = []\n",
    "\n",
    "lower_ci_var_baseml = []\n",
    "upper_ci_var_baseml = []"
   ],
   "id": "e5cf93a69d327e61",
   "outputs": [],
   "execution_count": 17
  },
  {
   "metadata": {
    "ExecuteTime": {
     "end_time": "2024-10-08T15:02:12.926747Z",
     "start_time": "2024-10-08T15:02:12.921474Z"
    }
   },
   "cell_type": "code",
   "source": [
    "for line in data:\n",
    "    line = line.strip().split()\n",
    "    node_name.append(line[0])\n",
    "    posterior_mean_iqtree.append(float(line[1]))\n",
    "#     if line[3].startswith('('):\n",
    "#         lower_ci_iqtree.append(float(line[3][1:-1]))\n",
    "#     else:\n",
    "#         lower_ci_iqtree.append(float(line[3][1:-1]))\n",
    "#     if line[4].startswith('('):\n",
    "#         upper_ci_iqtree.append(float(line[4][1:-1]))\n",
    "#     else:\n",
    "#         upper_ci_iqtree.append(float(line[4][:-1]))\n",
    "#     # posterior_mean_baseml.append(float(line[4]))\n",
    "#     # lower_ci_baseml.append(float(line[5]))\n",
    "#     # upper_ci_baseml.append(float(line[6]))\n",
    "# \n",
    "# for line in mu_data:\n",
    "#     line = line.strip().split()\n",
    "#     # node_name.append(line[0])\n",
    "#     posterior_mean_mu_iqtree.append(float(line[1]))\n",
    "#     lower_ci_mu_iqtree.append(float(line[3][:-1]))\n",
    "#     upper_ci_mu_iqtree.append(float(line[4][:-1]))\n",
    "#\n",
    "# for line in var_data:\n",
    "#     line = line.strip().split()\n",
    "#     # node_name.append(line[0])\n",
    "#     posterior_mean_var_iqtree.append(float(line[1]))\n",
    "#     lower_ci_var_iqtree.append(float(line[3][:-1]))\n",
    "#     upper_ci_var_iqtree.append(float(line[4][:-1]))"
   ],
   "id": "4e79ee928ea76b59",
   "outputs": [],
   "execution_count": 18
  },
  {
   "metadata": {
    "ExecuteTime": {
     "end_time": "2024-10-08T15:02:12.984411Z",
     "start_time": "2024-10-08T15:02:12.980631Z"
    }
   },
   "cell_type": "code",
   "source": "node_name",
   "id": "2c17f55ec9626a0b",
   "outputs": [
    {
     "data": {
      "text/plain": [
       "['t_n55',\n",
       " 't_n56',\n",
       " 't_n57',\n",
       " 't_n58',\n",
       " 't_n59',\n",
       " 't_n60',\n",
       " 't_n61',\n",
       " 't_n62',\n",
       " 't_n63',\n",
       " 't_n64',\n",
       " 't_n65',\n",
       " 't_n66',\n",
       " 't_n67',\n",
       " 't_n68',\n",
       " 't_n69',\n",
       " 't_n70',\n",
       " 't_n71',\n",
       " 't_n72',\n",
       " 't_n73',\n",
       " 't_n74',\n",
       " 't_n75',\n",
       " 't_n76',\n",
       " 't_n77',\n",
       " 't_n78',\n",
       " 't_n79',\n",
       " 't_n80',\n",
       " 't_n81',\n",
       " 't_n82',\n",
       " 't_n83',\n",
       " 't_n84',\n",
       " 't_n85',\n",
       " 't_n86',\n",
       " 't_n87',\n",
       " 't_n88',\n",
       " 't_n89',\n",
       " 't_n90',\n",
       " 't_n91',\n",
       " 't_n92',\n",
       " 't_n93',\n",
       " 't_n94',\n",
       " 't_n95',\n",
       " 't_n96',\n",
       " 't_n97',\n",
       " 't_n98',\n",
       " 't_n99',\n",
       " 't_n100',\n",
       " 't_n101',\n",
       " 't_n102',\n",
       " 't_n103',\n",
       " 't_n104',\n",
       " 't_n105',\n",
       " 't_n106',\n",
       " 't_n107']"
      ]
     },
     "execution_count": 19,
     "metadata": {},
     "output_type": "execute_result"
    }
   ],
   "execution_count": 19
  },
  {
   "metadata": {
    "ExecuteTime": {
     "end_time": "2024-10-08T15:02:13.111216Z",
     "start_time": "2024-10-08T15:02:13.106435Z"
    }
   },
   "cell_type": "code",
   "source": "posterior_mean_iqtree",
   "id": "24a55c806a41f33e",
   "outputs": [
    {
     "data": {
      "text/plain": [
       "[8.5648,\n",
       " 8.4546,\n",
       " 8.0684,\n",
       " 7.1258,\n",
       " 6.9408,\n",
       " 6.6838,\n",
       " 6.2986,\n",
       " 3.2186,\n",
       " 4.7947,\n",
       " 3.634,\n",
       " 3.2353,\n",
       " 2.5213,\n",
       " 1.6984,\n",
       " 1.1246,\n",
       " 0.4847,\n",
       " 3.6858,\n",
       " 6.8021,\n",
       " 6.6277,\n",
       " 6.2549,\n",
       " 4.5883,\n",
       " 4.1408,\n",
       " 3.8998,\n",
       " 6.6139,\n",
       " 6.3448,\n",
       " 6.1613,\n",
       " 5.8141,\n",
       " 5.388,\n",
       " 5.2555,\n",
       " 4.6243,\n",
       " 4.2368,\n",
       " 3.9,\n",
       " 2.9129,\n",
       " 2.6908,\n",
       " 4.6733,\n",
       " 3.8695,\n",
       " 6.5049,\n",
       " 1.3425,\n",
       " 6.3761,\n",
       " 6.0114,\n",
       " 5.4098,\n",
       " 5.0624,\n",
       " 3.8606,\n",
       " 4.2981,\n",
       " 5.2261,\n",
       " 5.0572,\n",
       " 4.7427,\n",
       " 3.6416,\n",
       " 4.5212,\n",
       " 7.4328,\n",
       " 5.7853,\n",
       " 3.8499,\n",
       " 3.0694,\n",
       " 5.671]"
      ]
     },
     "execution_count": 20,
     "metadata": {},
     "output_type": "execute_result"
    }
   ],
   "execution_count": 20
  },
  {
   "metadata": {
    "ExecuteTime": {
     "end_time": "2024-10-08T15:02:13.230422Z",
     "start_time": "2024-10-08T15:02:13.226739Z"
    }
   },
   "cell_type": "code",
   "source": "lower_ci_iqtree",
   "id": "388aa27ad336d43f",
   "outputs": [
    {
     "data": {
      "text/plain": [
       "[]"
      ]
     },
     "execution_count": 21,
     "metadata": {},
     "output_type": "execute_result"
    }
   ],
   "execution_count": 21
  },
  {
   "metadata": {
    "ExecuteTime": {
     "end_time": "2024-10-08T15:02:13.280107Z",
     "start_time": "2024-10-08T15:02:13.277126Z"
    }
   },
   "cell_type": "code",
   "source": "upper_ci_iqtree",
   "id": "816e569fb763e797",
   "outputs": [
    {
     "data": {
      "text/plain": [
       "[]"
      ]
     },
     "execution_count": 22,
     "metadata": {},
     "output_type": "execute_result"
    }
   ],
   "execution_count": 22
  },
  {
   "metadata": {
    "ExecuteTime": {
     "end_time": "2024-10-08T15:02:13.398088Z",
     "start_time": "2024-10-08T15:02:13.387580Z"
    }
   },
   "cell_type": "code",
   "source": [
    "file_LG = open(\"LG_cw_out.txt\", \"r\")\n",
    "lines1 = file_LG.readlines()\n",
    "file_LG.close()\n",
    "\n",
    "# Extract the data\n",
    "data1 = []\n",
    "mu_data1 = []\n",
    "var_data1 = []\n",
    "\n",
    "read_flag = False\n",
    "for line in lines1:\n",
    "    if line.startswith(\"Posterior\"):\n",
    "        read_flag = True\n",
    "    if read_flag and line.startswith(\"t\"):\n",
    "        data1.append(line)\n",
    "    if read_flag and line.startswith(\"mu\"):\n",
    "        mu_data1.append(line)\n",
    "    if read_flag and line.startswith(\"sigma\"):\n",
    "        var_data1.append(line)\n",
    "\n",
    "        \n",
    "for line in data1:\n",
    "    line = line.strip().split()\n",
    "    # node_name.append(line[0])\n",
    "    posterior_mean_baseml.append(float(line[1]))\n",
    "#     if line[3].startswith('('):\n",
    "#         lower_ci_baseml.append(float(line[3][1:-1]))\n",
    "#     else:\n",
    "#          lower_ci_baseml.append(float(line[3][:-1]))\n",
    "#     if line[4].startswith('('):\n",
    "#         upper_ci_baseml.append(float(line[4][1:-1]))\n",
    "#     else:\n",
    "#          upper_ci_baseml.append(float(line[4][:-1]))\n",
    "#         \n",
    "#     \n",
    "# for line in mu_data1:\n",
    "#     line = line.strip().split()\n",
    "#     # node_name.append(line[0])\n",
    "#     posterior_mean_mu_baseml.append(float(line[1]))\n",
    "#     lower_ci_mu_baseml.append(float(line[3][:-1]))\n",
    "#     upper_ci_mu_baseml.append(float(line[4][:-1]))\n",
    "    \n",
    "# for line in var_data1:\n",
    "#     line = line.strip().split()\n",
    "#     # node_name.append(line[0])\n",
    "#     posterior_mean_var_baseml.append(float(line[1]))\n",
    "#     lower_ci_var_baseml.append(float(line[3][:-1]))\n",
    "#     upper_ci_var_baseml.append(float(line[4][:-1]))"
   ],
   "id": "f75c012c6bef60a2",
   "outputs": [],
   "execution_count": 23
  },
  {
   "metadata": {
    "ExecuteTime": {
     "end_time": "2024-10-08T15:02:13.444684Z",
     "start_time": "2024-10-08T15:02:13.440603Z"
    }
   },
   "cell_type": "code",
   "source": [
    "import matplotlib.pyplot as plt\n",
    "import numpy as np\n",
    "\n",
    "# # Example data\n",
    "# # Posterior means for MCMCtree (x-axis) and McmcDate (y-axis)\n",
    "# posterior_mean_mcmctree = [100, 200, 300, 400, 500, 600, 700, 800, 900, 1000]\n",
    "# posterior_mean_mcmcdate = [110, 210, 310, 410, 510, 610, 710, 810, 910, 1010]\n",
    "# \n",
    "# # Credible intervals for MCMCtree\n",
    "# lower_ci_mcmctree = [90, 180, 270, 360, 450, 540, 630, 720, 810, 900]\n",
    "# upper_ci_mcmctree = [110, 220, 330, 440, 550, 660, 770, 880, 990, 1100]\n",
    "# \n",
    "# # Credible intervals for McmcDate\n",
    "# lower_ci_mcmcdate = [100, 200, 300, 400, 500, 600, 700, 800, 900, 1000]\n",
    "# upper_ci_mcmcdate = [120, 220, 320, 420, 520, 620, 720, 820, 920, 1020]\n",
    "\n",
    "# Calculate error bars\n",
    "# xerr = [np.array(lower_ci_baseml), \n",
    "#         np.array(upper_ci_baseml)]\n",
    "# yerr = [np.array(lower_ci_iqtree), \n",
    "#         np.array(upper_ci_iqtree)]\n",
    "# \n",
    "# # Plotting\n",
    "# fig, ax = plt.subplots(figsize=(15, 15))\n",
    "# ax.plot([-0.1,90], \n",
    "#         [-0.1, 90], \n",
    "#         'k--', label='y=x')\n",
    "# ax.errorbar(posterior_mean_baseml, posterior_mean_iqtree, \n",
    "#             xerr=xerr, yerr=yerr, fmt='*', ecolor='r', capsize=3, label='95% HPD CI')\n",
    "# \n",
    "# # Labels and title\n",
    "# ax.set_xlabel('Posterior mean age LG [100 Mya]', fontsize=18)\n",
    "# ax.set_ylabel('Posterior mean age LG+G4 [100 Mya]', fontsize=18)\n",
    "# ax.set_title('Posterior mean age comparison between LG and LG+G4 models [t116 ~ B(1.25,2.482)]')\n",
    "# ax.legend()\n",
    "# \n",
    "# # Show plot\n",
    "# # plt.show()\n",
    "# plt.savefig('./animal_origin_posterior_mean_age_comparison_LG_G4_c11.png')"
   ],
   "id": "12db486fa4fac82c",
   "outputs": [],
   "execution_count": 24
  },
  {
   "metadata": {
    "ExecuteTime": {
     "end_time": "2024-10-08T15:02:13.492751Z",
     "start_time": "2024-10-08T15:02:13.489194Z"
    }
   },
   "cell_type": "code",
   "source": "posterior_mean_baseml",
   "id": "917b2e31cff4b992",
   "outputs": [
    {
     "data": {
      "text/plain": [
       "[9.7961,\n",
       " 9.6898,\n",
       " 8.8847,\n",
       " 7.8113,\n",
       " 7.4618,\n",
       " 7.0313,\n",
       " 6.4165,\n",
       " 3.6211,\n",
       " 4.8544,\n",
       " 3.6105,\n",
       " 3.0675,\n",
       " 2.3111,\n",
       " 1.5274,\n",
       " 1.0068,\n",
       " 0.4324,\n",
       " 3.6563,\n",
       " 7.0872,\n",
       " 5.9005,\n",
       " 6.3677,\n",
       " 4.7025,\n",
       " 4.0297,\n",
       " 4.0076,\n",
       " 7.126,\n",
       " 6.6824,\n",
       " 6.3702,\n",
       " 5.9771,\n",
       " 5.4847,\n",
       " 5.2257,\n",
       " 4.5336,\n",
       " 4.0545,\n",
       " 3.5977,\n",
       " 2.7009,\n",
       " 2.2965,\n",
       " 4.6952,\n",
       " 3.7754,\n",
       " 6.9014,\n",
       " 1.8724,\n",
       " 6.6507,\n",
       " 6.1497,\n",
       " 5.4221,\n",
       " 4.9203,\n",
       " 3.7321,\n",
       " 3.9266,\n",
       " 5.2615,\n",
       " 4.8356,\n",
       " 4.1361,\n",
       " 3.7283,\n",
       " 4.5148,\n",
       " 8.0156,\n",
       " 6.2312,\n",
       " 4.0489,\n",
       " 3.9098,\n",
       " 7.1152]"
      ]
     },
     "execution_count": 25,
     "metadata": {},
     "output_type": "execute_result"
    }
   ],
   "execution_count": 25
  },
  {
   "metadata": {
    "ExecuteTime": {
     "end_time": "2024-10-08T15:02:13.543049Z",
     "start_time": "2024-10-08T15:02:13.539751Z"
    }
   },
   "cell_type": "code",
   "source": "posterior_mean_iqtree",
   "id": "59ad8fd34f7bbf11",
   "outputs": [
    {
     "data": {
      "text/plain": [
       "[8.5648,\n",
       " 8.4546,\n",
       " 8.0684,\n",
       " 7.1258,\n",
       " 6.9408,\n",
       " 6.6838,\n",
       " 6.2986,\n",
       " 3.2186,\n",
       " 4.7947,\n",
       " 3.634,\n",
       " 3.2353,\n",
       " 2.5213,\n",
       " 1.6984,\n",
       " 1.1246,\n",
       " 0.4847,\n",
       " 3.6858,\n",
       " 6.8021,\n",
       " 6.6277,\n",
       " 6.2549,\n",
       " 4.5883,\n",
       " 4.1408,\n",
       " 3.8998,\n",
       " 6.6139,\n",
       " 6.3448,\n",
       " 6.1613,\n",
       " 5.8141,\n",
       " 5.388,\n",
       " 5.2555,\n",
       " 4.6243,\n",
       " 4.2368,\n",
       " 3.9,\n",
       " 2.9129,\n",
       " 2.6908,\n",
       " 4.6733,\n",
       " 3.8695,\n",
       " 6.5049,\n",
       " 1.3425,\n",
       " 6.3761,\n",
       " 6.0114,\n",
       " 5.4098,\n",
       " 5.0624,\n",
       " 3.8606,\n",
       " 4.2981,\n",
       " 5.2261,\n",
       " 5.0572,\n",
       " 4.7427,\n",
       " 3.6416,\n",
       " 4.5212,\n",
       " 7.4328,\n",
       " 5.7853,\n",
       " 3.8499,\n",
       " 3.0694,\n",
       " 5.671]"
      ]
     },
     "execution_count": 26,
     "metadata": {},
     "output_type": "execute_result"
    }
   ],
   "execution_count": 26
  },
  {
   "metadata": {
    "ExecuteTime": {
     "end_time": "2024-10-08T15:02:13.754880Z",
     "start_time": "2024-10-08T15:02:13.594426Z"
    }
   },
   "cell_type": "code",
   "source": [
    "# Calculate error bars\n",
    "xerr = [np.array(lower_ci_baseml), \n",
    "        np.array(upper_ci_baseml)]\n",
    "yerr = [np.array(lower_ci_iqtree), \n",
    "        np.array(upper_ci_iqtree)]\n",
    "\n",
    "# Plotting\n",
    "fig, ax = plt.subplots(figsize=(9 ,9))\n",
    "ax.plot([-0.1,17], \n",
    "        [-0.1, 17], \n",
    "        'k--', label='y=x')\n",
    "ax.plot(posterior_mean_baseml, posterior_mean_iqtree, 'o', label='Posterior mean age')\n",
    " \n",
    "# Labels and title\n",
    "ax.set_xlabel('Posterior mean age LG [Mya]', fontsize=18)\n",
    "ax.set_ylabel('Posterior mean age LG+G4+C60 [Mya]', fontsize=18)\n",
    "ax.set_title('Posterior mean age comparison between LG and LG+G4 [t70 ~ B (3.5850,6.3610)]')\n",
    "ax.legend()\n",
    "\n",
    "# point_x = posterior_mean_baseml[0]  # Example: first point in the list\n",
    "# point_y = posterior_mean_iqtree[0]  # Example: first point in the list\n",
    "# ax.annotate('Root age', xy=(point_x, point_y), xytext=(point_x - 0.1, point_y - 0.1), color='red')\n",
    "# Show plot\n",
    "# plt.show()\n",
    "plt.savefig('./metazoa_posterior_mean_age_comparison_LG_G4_C60_cw_scatter.png')"
   ],
   "id": "592d0bb72aa1ad4c",
   "outputs": [
    {
     "data": {
      "text/plain": [
       "<Figure size 900x900 with 1 Axes>"
      ],
      "image/png": "[encoded data removed]"
     },
     "metadata": {},
     "output_type": "display_data"
    }
   ],
   "execution_count": 27
  },
  {
   "metadata": {
    "ExecuteTime": {
     "end_time": "2024-10-08T15:02:13.763046Z",
     "start_time": "2024-10-08T15:02:13.760995Z"
    }
   },
   "cell_type": "code",
   "source": [
    "# fig, ax = plt.subplots(figsize=(9 ,9))\n",
    "# ax.plot([0.01,0.04], \n",
    "#         [0.01, 0.04], \n",
    "#         'k--', label='y=x')\n",
    "# ax.plot(posterior_mean_mu_baseml, posterior_mean_mu_iqtree, 'o', label='Posterior mean rates for partitions')\n",
    "#  \n",
    "# # Labels and title\n",
    "# ax.set_xlabel('Posterior mean rate [LG]', fontsize=18)\n",
    "# ax.set_ylabel('Posterior mean rate [LG+G4]', fontsize=18)\n",
    "# ax.set_title('Posterior mean rate comparison between LG and LG+G4 [Cherry only calibration/IQ-TREE]')\n",
    "# ax.legend()\n",
    "# \n",
    "# # point_x = posterior_mean_baseml[0]  # Example: first point in the list\n",
    "# # point_y = posterior_mean_iqtree[0]  # Example: first point in the list\n",
    "# # ax.annotate('Root age', xy=(point_x, point_y), xytext=(point_x - 0.1, point_y - 0.1), color='red')\n",
    "# # Show plot\n",
    "# # plt.show()\n",
    "# plt.savefig('./animal_origin__posterior_mean_rate_comparison_LG_G4_all_scatter.png')"
   ],
   "id": "c6d69ee36c77970c",
   "outputs": [],
   "execution_count": 28
  },
  {
   "metadata": {
    "ExecuteTime": {
     "end_time": "2024-10-08T15:02:13.808006Z",
     "start_time": "2024-10-08T15:02:13.805621Z"
    }
   },
   "cell_type": "code",
   "source": "",
   "id": "ca69d5b521db3aa7",
   "outputs": [],
   "execution_count": null
  }
 ],
 "metadata": {
  "kernelspec": {
   "display_name": "Python 3",
   "language": "python",
   "name": "python3"
  },
  "language_info": {
   "codemirror_mode": {
    "name": "ipython",
    "version": 2
   },
   "file_extension": ".py",
   "mimetype": "text/x-python",
   "name": "python",
   "nbconvert_exporter": "python",
   "pygments_lexer": "ipython2",
   "version": "2.7.6"
  }
 },
 "nbformat": 4,
 "nbformat_minor": 5
}
