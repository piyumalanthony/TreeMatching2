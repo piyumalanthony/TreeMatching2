{
 "cells": [
  {
   "cell_type": "code",
   "id": "initial_id",
   "metadata": {
    "collapsed": true,
    "ExecuteTime": {
     "end_time": "2024-10-08T15:01:38.371909Z",
     "start_time": "2024-10-08T15:01:37.965427Z"
    }
   },
   "source": [
    "# Code to get all the Posterior mean (95% Equal-tail CI) (95% HPD CI) HPD-CI-width from ./xenarthra_mcmc_out.txt\n",
    "import numpy as np\n",
    "import pandas as pd\n",
    "import matplotlib.pyplot as plt\n",
    "\n",
    "\n",
    "# Read the file\n",
    "file = open(\"LG_G4_C20_cw_out.txt\", \"r\")\n",
    "lines = file.readlines()\n",
    "file.close()\n",
    "\n",
    "# Extract the data\n",
    "data = []\n",
    "mu_data = []\n",
    "var_data = []\n",
    "\n",
    "read_flag = False\n",
    "for line in lines:\n",
    "    if line.startswith(\"Posterior\"):\n",
    "        read_flag = True\n",
    "    if read_flag and line.startswith(\"t\"):\n",
    "        data.append(line)\n",
    "    if read_flag and line.startswith(\"mu\"):\n",
    "        mu_data.append(line)\n",
    "    if read_flag and line.startswith(\"sigma\"):\n",
    "        var_data.append(line)"
   ],
   "outputs": [],
   "execution_count": 1
  },
  {
   "metadata": {
    "ExecuteTime": {
     "end_time": "2024-10-08T15:01:38.387869Z",
     "start_time": "2024-10-08T15:01:38.383225Z"
    }
   },
   "cell_type": "code",
   "source": "data",
   "id": "54808ee54195795",
   "outputs": [
    {
     "data": {
      "text/plain": [
       "['t_n55          8.5952 ( 7.9046,  9.5380) ( 7.8908,  9.5230)  1.6322 (Jnode 106)\\n',\n",
       " 't_n56          8.4855 ( 7.7876,  9.4122) ( 7.7649,  9.3756)  1.6107 (Jnode 105)\\n',\n",
       " 't_n57          8.0689 ( 7.4159,  8.9224) ( 7.3997,  8.8939)  1.4942 (Jnode 104)\\n',\n",
       " 't_n58          7.1343 ( 6.5735,  7.8510) ( 6.5098,  7.7705)  1.2607 (Jnode 103)\\n',\n",
       " 't_n59          6.9328 ( 6.3901,  7.6221) ( 6.3635,  7.5752)  1.2117 (Jnode 102)\\n',\n",
       " 't_n60          6.6666 ( 6.1481,  7.3236) ( 6.1118,  7.2742)  1.1624 (Jnode 101)\\n',\n",
       " 't_n61          6.2792 ( 5.7806,  6.9035) ( 5.7553,  6.8639)  1.1086 (Jnode 100)\\n',\n",
       " 't_n62          3.2206 ( 1.9274,  4.2143) ( 1.9643,  4.2473)  2.2830 (Jnode 99)\\n',\n",
       " 't_n63          4.7685 ( 4.3883,  5.2585) ( 4.3625,  5.2182)  0.8556 (Jnode 98)\\n',\n",
       " 't_n64          3.5753 ( 2.9365,  4.1639) ( 2.9461,  4.1707)  1.2246 (Jnode 97)\\n',\n",
       " 't_n65          3.1572 ( 2.5125,  3.7697) ( 2.5140,  3.7702)  1.2562 (Jnode 96)\\n',\n",
       " 't_n66          2.4510 ( 1.8629,  3.0555) ( 1.8661,  3.0573)  1.1912 (Jnode 95)\\n',\n",
       " 't_n67          1.6455 ( 1.1934,  2.1634) ( 1.1704,  2.1309)  0.9606 (Jnode 94)\\n',\n",
       " 't_n68          1.0904 ( 0.7651,  1.4847) ( 0.7482,  1.4573)  0.7091 (Jnode 93)\\n',\n",
       " 't_n69          0.4671 ( 0.3065,  0.6847) ( 0.2871,  0.6551)  0.3680 (Jnode 92)\\n',\n",
       " 't_n70          3.6828 ( 3.5848,  3.9389) ( 3.5761,  3.8762)  0.3002 (Jnode 91)\\n',\n",
       " 't_n71          6.7793 ( 6.2519,  7.4487) ( 6.2055,  7.3894)  1.1838 (Jnode 90)\\n',\n",
       " 't_n72          6.5261 ( 5.9888,  7.1858) ( 5.9439,  7.1284)  1.1845 (Jnode 89)\\n',\n",
       " 't_n73          6.2389 ( 5.7359,  6.8675) ( 5.7076,  6.8246)  1.1169 (Jnode 88)\\n',\n",
       " 't_n74          4.5754 ( 4.0385,  5.2376) ( 4.0102,  5.1976)  1.1874 (Jnode 87)\\n',\n",
       " 't_n75          4.1267 ( 3.6305,  4.8031) ( 3.6107,  4.7631)  1.1525 (Jnode 86)\\n',\n",
       " 't_n76          3.8917 ( 2.7580,  4.6352) ( 2.9372,  4.7727)  1.8355 (Jnode 85)\\n',\n",
       " 't_n77          6.6213 ( 6.1102,  7.2726) ( 6.0851,  7.2346)  1.1495 (Jnode 84)\\n',\n",
       " 't_n78          6.3379 ( 5.8482,  6.9591) ( 5.8226,  6.9206)  1.0980 (Jnode 83)\\n',\n",
       " 't_n79          6.1521 ( 5.6661,  6.7543) ( 5.6216,  6.6958)  1.0742 (Jnode 82)\\n',\n",
       " 't_n80          5.7985 ( 5.3473,  6.3777) ( 5.3312,  6.3525)  1.0213 (Jnode 81)\\n',\n",
       " 't_n81          5.3810 ( 4.9573,  5.9327) ( 4.9346,  5.8939)  0.9593 (Jnode 80)\\n',\n",
       " 't_n82          5.2433 ( 4.8290,  5.7833) ( 4.7879,  5.7368)  0.9489 (Jnode 79)\\n',\n",
       " 't_n83          4.6233 ( 4.2465,  5.1534) ( 4.2117,  5.1060)  0.8943 (Jnode 78)\\n',\n",
       " 't_n84          4.2266 ( 3.8717,  4.7575) ( 3.8482,  4.7226)  0.8744 (Jnode 77)\\n',\n",
       " 't_n85          3.8932 ( 3.5448,  4.4322) ( 3.5327,  4.4146)  0.8819 (Jnode 76)\\n',\n",
       " 't_n86          2.9133 ( 2.4570,  3.5163) ( 2.4074,  3.4095)  1.0021 (Jnode 75)\\n',\n",
       " 't_n87          2.6666 ( 2.2095,  3.2700) ( 2.1557,  3.1496)  0.9939 (Jnode 74)\\n',\n",
       " 't_n88          4.6705 ( 4.2522,  5.1844) ( 4.2429,  5.1714)  0.9286 (Jnode 73)\\n',\n",
       " 't_n89          3.8536 ( 3.3523,  4.3459) ( 3.3903,  4.3778)  0.9874 (Jnode 72)\\n',\n",
       " 't_n90          6.5158 ( 6.0122,  7.1557) ( 5.9820,  7.1142)  1.1322 (Jnode 71)\\n',\n",
       " 't_n91          1.3749 ( 0.6852,  2.2859) ( 0.6066,  2.1771)  1.5705 (Jnode 70)\\n',\n",
       " 't_n92          6.3761 ( 5.8839,  6.9963) ( 5.8668,  6.9751)  1.1083 (Jnode 69)\\n',\n",
       " 't_n93          6.0056 ( 5.5283,  6.5908) ( 5.5038,  6.5551)  1.0514 (Jnode 68)\\n',\n",
       " 't_n94          5.4137 ( 4.9475,  5.9560) ( 4.9280,  5.9319)  1.0039 (Jnode 67)\\n',\n",
       " 't_n95          5.0421 ( 4.5783,  5.5688) ( 4.5626,  5.5437)  0.9811 (Jnode 66)\\n',\n",
       " 't_n96          3.8485 ( 3.2310,  4.3690) ( 3.2639,  4.3871)  1.1233 (Jnode 65)\\n',\n",
       " 't_n97          4.2670 ( 3.7717,  4.8110) ( 3.7473,  4.7843)  1.0369 (Jnode 64)\\n',\n",
       " 't_n98          5.2187 ( 4.6790,  5.7688) ( 4.6826,  5.7712)  1.0887 (Jnode 63)\\n',\n",
       " 't_n99          5.0410 ( 4.4788,  5.5977) ( 4.4622,  5.5756)  1.1135 (Jnode 62)\\n',\n",
       " 't_n100         4.6785 ( 4.0891,  5.2397) ( 4.0873,  5.2364)  1.1491 (Jnode 61)\\n',\n",
       " 't_n101         3.6586 ( 2.7185,  4.2485) ( 2.7842,  4.2931)  1.5089 (Jnode 60)\\n',\n",
       " 't_n102         4.4931 ( 3.7839,  5.2149) ( 3.7299,  5.1477)  1.4179 (Jnode 59)\\n',\n",
       " 't_n103         7.4212 ( 6.7729,  8.2190) ( 6.7537,  8.1912)  1.4375 (Jnode 58)\\n',\n",
       " 't_n104         5.7738 ( 4.6676,  6.6305) ( 4.7857,  6.7236)  1.9379 (Jnode 57)\\n',\n",
       " 't_n105         3.8342 ( 2.4775,  4.7345) ( 2.5489,  4.7806)  2.2317 (Jnode 56)\\n',\n",
       " 't_n106         3.0984 ( 1.4980,  4.4328) ( 1.5099,  4.4377)  2.9278 (Jnode 55)\\n',\n",
       " 't_n107         5.7445 ( 4.1649,  7.0993) ( 4.2203,  7.1425)  2.9221 (Jnode 54)\\n']"
      ]
     },
     "execution_count": 2,
     "metadata": {},
     "output_type": "execute_result"
    }
   ],
   "execution_count": 2
  },
  {
   "metadata": {
    "ExecuteTime": {
     "end_time": "2024-10-08T15:01:38.438031Z",
     "start_time": "2024-10-08T15:01:38.434468Z"
    }
   },
   "cell_type": "code",
   "source": [
    "node_name = []\n",
    "posterior_mean_iqtree = []\n",
    "posterior_mean_baseml = []\n",
    "\n",
    "posterior_mean_mu_iqtree = []\n",
    "posterior_mean_mu_baseml = []\n",
    "\n",
    "posterior_mean_var_iqtree = []\n",
    "posterior_mean_var_baseml = []\n",
    "\n",
    "lower_ci_iqtree = []\n",
    "upper_ci_iqtree = []\n",
    "\n",
    "lower_ci_mu_iqtree = []\n",
    "upper_ci_mu_iqtree = []\n",
    "\n",
    "lower_ci_var_iqtree = []\n",
    "upper_ci_var_iqtree = []\n",
    "\n",
    "# Credible intervals for McmcDate\n",
    "lower_ci_baseml = []\n",
    "upper_ci_baseml = []\n",
    "\n",
    "lower_ci_mu_baseml = []\n",
    "upper_ci_mu_baseml = []\n",
    "\n",
    "lower_ci_var_baseml = []\n",
    "upper_ci_var_baseml = []"
   ],
   "id": "e5cf93a69d327e61",
   "outputs": [],
   "execution_count": 3
  },
  {
   "metadata": {
    "ExecuteTime": {
     "end_time": "2024-10-08T15:01:38.482871Z",
     "start_time": "2024-10-08T15:01:38.480420Z"
    }
   },
   "cell_type": "code",
   "source": [
    "for line in data:\n",
    "    line = line.strip().split()\n",
    "    node_name.append(line[0])\n",
    "    posterior_mean_iqtree.append(float(line[1]))\n",
    "#     if line[3].startswith('('):\n",
    "#         lower_ci_iqtree.append(float(line[3][1:-1]))\n",
    "#     else:\n",
    "#         lower_ci_iqtree.append(float(line[3][1:-1]))\n",
    "#     if line[4].startswith('('):\n",
    "#         upper_ci_iqtree.append(float(line[4][1:-1]))\n",
    "#     else:\n",
    "#         upper_ci_iqtree.append(float(line[4][:-1]))\n",
    "#     # posterior_mean_baseml.append(float(line[4]))\n",
    "#     # lower_ci_baseml.append(float(line[5]))\n",
    "#     # upper_ci_baseml.append(float(line[6]))\n",
    "# \n",
    "# for line in mu_data:\n",
    "#     line = line.strip().split()\n",
    "#     # node_name.append(line[0])\n",
    "#     posterior_mean_mu_iqtree.append(float(line[1]))\n",
    "#     lower_ci_mu_iqtree.append(float(line[3][:-1]))\n",
    "#     upper_ci_mu_iqtree.append(float(line[4][:-1]))\n",
    "#\n",
    "# for line in var_data:\n",
    "#     line = line.strip().split()\n",
    "#     # node_name.append(line[0])\n",
    "#     posterior_mean_var_iqtree.append(float(line[1]))\n",
    "#     lower_ci_var_iqtree.append(float(line[3][:-1]))\n",
    "#     upper_ci_var_iqtree.append(float(line[4][:-1]))"
   ],
   "id": "4e79ee928ea76b59",
   "outputs": [],
   "execution_count": 4
  },
  {
   "metadata": {
    "ExecuteTime": {
     "end_time": "2024-10-08T15:01:38.537987Z",
     "start_time": "2024-10-08T15:01:38.534326Z"
    }
   },
   "cell_type": "code",
   "source": "node_name",
   "id": "2c17f55ec9626a0b",
   "outputs": [
    {
     "data": {
      "text/plain": [
       "['t_n55',\n",
       " 't_n56',\n",
       " 't_n57',\n",
       " 't_n58',\n",
       " 't_n59',\n",
       " 't_n60',\n",
       " 't_n61',\n",
       " 't_n62',\n",
       " 't_n63',\n",
       " 't_n64',\n",
       " 't_n65',\n",
       " 't_n66',\n",
       " 't_n67',\n",
       " 't_n68',\n",
       " 't_n69',\n",
       " 't_n70',\n",
       " 't_n71',\n",
       " 't_n72',\n",
       " 't_n73',\n",
       " 't_n74',\n",
       " 't_n75',\n",
       " 't_n76',\n",
       " 't_n77',\n",
       " 't_n78',\n",
       " 't_n79',\n",
       " 't_n80',\n",
       " 't_n81',\n",
       " 't_n82',\n",
       " 't_n83',\n",
       " 't_n84',\n",
       " 't_n85',\n",
       " 't_n86',\n",
       " 't_n87',\n",
       " 't_n88',\n",
       " 't_n89',\n",
       " 't_n90',\n",
       " 't_n91',\n",
       " 't_n92',\n",
       " 't_n93',\n",
       " 't_n94',\n",
       " 't_n95',\n",
       " 't_n96',\n",
       " 't_n97',\n",
       " 't_n98',\n",
       " 't_n99',\n",
       " 't_n100',\n",
       " 't_n101',\n",
       " 't_n102',\n",
       " 't_n103',\n",
       " 't_n104',\n",
       " 't_n105',\n",
       " 't_n106',\n",
       " 't_n107']"
      ]
     },
     "execution_count": 5,
     "metadata": {},
     "output_type": "execute_result"
    }
   ],
   "execution_count": 5
  },
  {
   "metadata": {
    "ExecuteTime": {
     "end_time": "2024-10-08T15:01:38.591539Z",
     "start_time": "2024-10-08T15:01:38.588028Z"
    }
   },
   "cell_type": "code",
   "source": "posterior_mean_iqtree",
   "id": "24a55c806a41f33e",
   "outputs": [
    {
     "data": {
      "text/plain": [
       "[8.5952,\n",
       " 8.4855,\n",
       " 8.0689,\n",
       " 7.1343,\n",
       " 6.9328,\n",
       " 6.6666,\n",
       " 6.2792,\n",
       " 3.2206,\n",
       " 4.7685,\n",
       " 3.5753,\n",
       " 3.1572,\n",
       " 2.451,\n",
       " 1.6455,\n",
       " 1.0904,\n",
       " 0.4671,\n",
       " 3.6828,\n",
       " 6.7793,\n",
       " 6.5261,\n",
       " 6.2389,\n",
       " 4.5754,\n",
       " 4.1267,\n",
       " 3.8917,\n",
       " 6.6213,\n",
       " 6.3379,\n",
       " 6.1521,\n",
       " 5.7985,\n",
       " 5.381,\n",
       " 5.2433,\n",
       " 4.6233,\n",
       " 4.2266,\n",
       " 3.8932,\n",
       " 2.9133,\n",
       " 2.6666,\n",
       " 4.6705,\n",
       " 3.8536,\n",
       " 6.5158,\n",
       " 1.3749,\n",
       " 6.3761,\n",
       " 6.0056,\n",
       " 5.4137,\n",
       " 5.0421,\n",
       " 3.8485,\n",
       " 4.267,\n",
       " 5.2187,\n",
       " 5.041,\n",
       " 4.6785,\n",
       " 3.6586,\n",
       " 4.4931,\n",
       " 7.4212,\n",
       " 5.7738,\n",
       " 3.8342,\n",
       " 3.0984,\n",
       " 5.7445]"
      ]
     },
     "execution_count": 6,
     "metadata": {},
     "output_type": "execute_result"
    }
   ],
   "execution_count": 6
  },
  {
   "metadata": {
    "ExecuteTime": {
     "end_time": "2024-10-08T15:01:38.651031Z",
     "start_time": "2024-10-08T15:01:38.647225Z"
    }
   },
   "cell_type": "code",
   "source": "lower_ci_iqtree",
   "id": "388aa27ad336d43f",
   "outputs": [
    {
     "data": {
      "text/plain": [
       "[]"
      ]
     },
     "execution_count": 7,
     "metadata": {},
     "output_type": "execute_result"
    }
   ],
   "execution_count": 7
  },
  {
   "metadata": {
    "ExecuteTime": {
     "end_time": "2024-10-08T15:01:38.713432Z",
     "start_time": "2024-10-08T15:01:38.708745Z"
    }
   },
   "cell_type": "code",
   "source": "upper_ci_iqtree",
   "id": "816e569fb763e797",
   "outputs": [
    {
     "data": {
      "text/plain": [
       "[]"
      ]
     },
     "execution_count": 8,
     "metadata": {},
     "output_type": "execute_result"
    }
   ],
   "execution_count": 8
  },
  {
   "metadata": {
    "ExecuteTime": {
     "end_time": "2024-10-08T15:01:38.780391Z",
     "start_time": "2024-10-08T15:01:38.769815Z"
    }
   },
   "cell_type": "code",
   "source": [
    "file_LG = open(\"LG_cw_out.txt\", \"r\")\n",
    "lines1 = file_LG.readlines()\n",
    "file_LG.close()\n",
    "\n",
    "# Extract the data\n",
    "data1 = []\n",
    "mu_data1 = []\n",
    "var_data1 = []\n",
    "\n",
    "read_flag = False\n",
    "for line in lines1:\n",
    "    if line.startswith(\"Posterior\"):\n",
    "        read_flag = True\n",
    "    if read_flag and line.startswith(\"t\"):\n",
    "        data1.append(line)\n",
    "    if read_flag and line.startswith(\"mu\"):\n",
    "        mu_data1.append(line)\n",
    "    if read_flag and line.startswith(\"sigma\"):\n",
    "        var_data1.append(line)\n",
    "\n",
    "        \n",
    "for line in data1:\n",
    "    line = line.strip().split()\n",
    "    # node_name.append(line[0])\n",
    "    posterior_mean_baseml.append(float(line[1]))\n",
    "#     if line[3].startswith('('):\n",
    "#         lower_ci_baseml.append(float(line[3][1:-1]))\n",
    "#     else:\n",
    "#          lower_ci_baseml.append(float(line[3][:-1]))\n",
    "#     if line[4].startswith('('):\n",
    "#         upper_ci_baseml.append(float(line[4][1:-1]))\n",
    "#     else:\n",
    "#          upper_ci_baseml.append(float(line[4][:-1]))\n",
    "#         \n",
    "#     \n",
    "# for line in mu_data1:\n",
    "#     line = line.strip().split()\n",
    "#     # node_name.append(line[0])\n",
    "#     posterior_mean_mu_baseml.append(float(line[1]))\n",
    "#     lower_ci_mu_baseml.append(float(line[3][:-1]))\n",
    "#     upper_ci_mu_baseml.append(float(line[4][:-1]))\n",
    "    \n",
    "# for line in var_data1:\n",
    "#     line = line.strip().split()\n",
    "#     # node_name.append(line[0])\n",
    "#     posterior_mean_var_baseml.append(float(line[1]))\n",
    "#     lower_ci_var_baseml.append(float(line[3][:-1]))\n",
    "#     upper_ci_var_baseml.append(float(line[4][:-1]))"
   ],
   "id": "f75c012c6bef60a2",
   "outputs": [],
   "execution_count": 9
  },
  {
   "metadata": {
    "ExecuteTime": {
     "end_time": "2024-10-08T15:01:38.829375Z",
     "start_time": "2024-10-08T15:01:38.823992Z"
    }
   },
   "cell_type": "code",
   "source": [
    "import matplotlib.pyplot as plt\n",
    "import numpy as np\n",
    "\n",
    "# # Example data\n",
    "# # Posterior means for MCMCtree (x-axis) and McmcDate (y-axis)\n",
    "# posterior_mean_mcmctree = [100, 200, 300, 400, 500, 600, 700, 800, 900, 1000]\n",
    "# posterior_mean_mcmcdate = [110, 210, 310, 410, 510, 610, 710, 810, 910, 1010]\n",
    "# \n",
    "# # Credible intervals for MCMCtree\n",
    "# lower_ci_mcmctree = [90, 180, 270, 360, 450, 540, 630, 720, 810, 900]\n",
    "# upper_ci_mcmctree = [110, 220, 330, 440, 550, 660, 770, 880, 990, 1100]\n",
    "# \n",
    "# # Credible intervals for McmcDate\n",
    "# lower_ci_mcmcdate = [100, 200, 300, 400, 500, 600, 700, 800, 900, 1000]\n",
    "# upper_ci_mcmcdate = [120, 220, 320, 420, 520, 620, 720, 820, 920, 1020]\n",
    "\n",
    "# Calculate error bars\n",
    "# xerr = [np.array(lower_ci_baseml), \n",
    "#         np.array(upper_ci_baseml)]\n",
    "# yerr = [np.array(lower_ci_iqtree), \n",
    "#         np.array(upper_ci_iqtree)]\n",
    "# \n",
    "# # Plotting\n",
    "# fig, ax = plt.subplots(figsize=(15, 15))\n",
    "# ax.plot([-0.1,90], \n",
    "#         [-0.1, 90], \n",
    "#         'k--', label='y=x')\n",
    "# ax.errorbar(posterior_mean_baseml, posterior_mean_iqtree, \n",
    "#             xerr=xerr, yerr=yerr, fmt='*', ecolor='r', capsize=3, label='95% HPD CI')\n",
    "# \n",
    "# # Labels and title\n",
    "# ax.set_xlabel('Posterior mean age LG [100 Mya]', fontsize=18)\n",
    "# ax.set_ylabel('Posterior mean age LG+G4 [100 Mya]', fontsize=18)\n",
    "# ax.set_title('Posterior mean age comparison between LG and LG+G4 models [t116 ~ B(1.25,2.482)]')\n",
    "# ax.legend()\n",
    "# \n",
    "# # Show plot\n",
    "# # plt.show()\n",
    "# plt.savefig('./animal_origin_posterior_mean_age_comparison_LG_G4_c11.png')"
   ],
   "id": "12db486fa4fac82c",
   "outputs": [],
   "execution_count": 10
  },
  {
   "metadata": {
    "ExecuteTime": {
     "end_time": "2024-10-08T15:01:38.892363Z",
     "start_time": "2024-10-08T15:01:38.886376Z"
    }
   },
   "cell_type": "code",
   "source": "posterior_mean_baseml",
   "id": "917b2e31cff4b992",
   "outputs": [
    {
     "data": {
      "text/plain": [
       "[9.7961,\n",
       " 9.6898,\n",
       " 8.8847,\n",
       " 7.8113,\n",
       " 7.4618,\n",
       " 7.0313,\n",
       " 6.4165,\n",
       " 3.6211,\n",
       " 4.8544,\n",
       " 3.6105,\n",
       " 3.0675,\n",
       " 2.3111,\n",
       " 1.5274,\n",
       " 1.0068,\n",
       " 0.4324,\n",
       " 3.6563,\n",
       " 7.0872,\n",
       " 5.9005,\n",
       " 6.3677,\n",
       " 4.7025,\n",
       " 4.0297,\n",
       " 4.0076,\n",
       " 7.126,\n",
       " 6.6824,\n",
       " 6.3702,\n",
       " 5.9771,\n",
       " 5.4847,\n",
       " 5.2257,\n",
       " 4.5336,\n",
       " 4.0545,\n",
       " 3.5977,\n",
       " 2.7009,\n",
       " 2.2965,\n",
       " 4.6952,\n",
       " 3.7754,\n",
       " 6.9014,\n",
       " 1.8724,\n",
       " 6.6507,\n",
       " 6.1497,\n",
       " 5.4221,\n",
       " 4.9203,\n",
       " 3.7321,\n",
       " 3.9266,\n",
       " 5.2615,\n",
       " 4.8356,\n",
       " 4.1361,\n",
       " 3.7283,\n",
       " 4.5148,\n",
       " 8.0156,\n",
       " 6.2312,\n",
       " 4.0489,\n",
       " 3.9098,\n",
       " 7.1152]"
      ]
     },
     "execution_count": 11,
     "metadata": {},
     "output_type": "execute_result"
    }
   ],
   "execution_count": 11
  },
  {
   "metadata": {
    "ExecuteTime": {
     "end_time": "2024-10-08T15:01:38.951424Z",
     "start_time": "2024-10-08T15:01:38.947367Z"
    }
   },
   "cell_type": "code",
   "source": "posterior_mean_iqtree",
   "id": "59ad8fd34f7bbf11",
   "outputs": [
    {
     "data": {
      "text/plain": [
       "[8.5952,\n",
       " 8.4855,\n",
       " 8.0689,\n",
       " 7.1343,\n",
       " 6.9328,\n",
       " 6.6666,\n",
       " 6.2792,\n",
       " 3.2206,\n",
       " 4.7685,\n",
       " 3.5753,\n",
       " 3.1572,\n",
       " 2.451,\n",
       " 1.6455,\n",
       " 1.0904,\n",
       " 0.4671,\n",
       " 3.6828,\n",
       " 6.7793,\n",
       " 6.5261,\n",
       " 6.2389,\n",
       " 4.5754,\n",
       " 4.1267,\n",
       " 3.8917,\n",
       " 6.6213,\n",
       " 6.3379,\n",
       " 6.1521,\n",
       " 5.7985,\n",
       " 5.381,\n",
       " 5.2433,\n",
       " 4.6233,\n",
       " 4.2266,\n",
       " 3.8932,\n",
       " 2.9133,\n",
       " 2.6666,\n",
       " 4.6705,\n",
       " 3.8536,\n",
       " 6.5158,\n",
       " 1.3749,\n",
       " 6.3761,\n",
       " 6.0056,\n",
       " 5.4137,\n",
       " 5.0421,\n",
       " 3.8485,\n",
       " 4.267,\n",
       " 5.2187,\n",
       " 5.041,\n",
       " 4.6785,\n",
       " 3.6586,\n",
       " 4.4931,\n",
       " 7.4212,\n",
       " 5.7738,\n",
       " 3.8342,\n",
       " 3.0984,\n",
       " 5.7445]"
      ]
     },
     "execution_count": 12,
     "metadata": {},
     "output_type": "execute_result"
    }
   ],
   "execution_count": 12
  },
  {
   "metadata": {
    "ExecuteTime": {
     "end_time": "2024-10-08T15:01:39.317455Z",
     "start_time": "2024-10-08T15:01:39.139916Z"
    }
   },
   "cell_type": "code",
   "source": [
    "# Calculate error bars\n",
    "xerr = [np.array(lower_ci_baseml), \n",
    "        np.array(upper_ci_baseml)]\n",
    "yerr = [np.array(lower_ci_iqtree), \n",
    "        np.array(upper_ci_iqtree)]\n",
    "\n",
    "# Plotting\n",
    "fig, ax = plt.subplots(figsize=(9 ,9))\n",
    "ax.plot([-0.1,17], \n",
    "        [-0.1, 17], \n",
    "        'k--', label='y=x')\n",
    "ax.plot(posterior_mean_baseml, posterior_mean_iqtree, 'o', label='Posterior mean age')\n",
    " \n",
    "# Labels and title\n",
    "ax.set_xlabel('Posterior mean age LG [Mya]', fontsize=18)\n",
    "ax.set_ylabel('Posterior mean age LG+G4+C20 [Mya]', fontsize=18)\n",
    "ax.set_title('Posterior mean age comparison between LG and LG+G4 [t70 ~ B (3.5850,6.3610)]')\n",
    "ax.legend()\n",
    "\n",
    "# point_x = posterior_mean_baseml[0]  # Example: first point in the list\n",
    "# point_y = posterior_mean_iqtree[0]  # Example: first point in the list\n",
    "# ax.annotate('Root age', xy=(point_x, point_y), xytext=(point_x - 0.1, point_y - 0.1), color='red')\n",
    "# Show plot\n",
    "# plt.show()\n",
    "plt.savefig('metazoa_posterior_mean_age_comparison_LG_G4_C20_cw_scatter.png')"
   ],
   "id": "592d0bb72aa1ad4c",
   "outputs": [
    {
     "data": {
      "text/plain": [
       "<Figure size 900x900 with 1 Axes>"
      ],
      "image/png": "[encoded data removed]"
     },
     "metadata": {},
     "output_type": "display_data"
    }
   ],
   "execution_count": 13
  },
  {
   "metadata": {
    "ExecuteTime": {
     "end_time": "2024-10-08T15:01:39.328776Z",
     "start_time": "2024-10-08T15:01:39.326097Z"
    }
   },
   "cell_type": "code",
   "source": [
    "# fig, ax = plt.subplots(figsize=(9 ,9))\n",
    "# ax.plot([0.01,0.04], \n",
    "#         [0.01, 0.04], \n",
    "#         'k--', label='y=x')\n",
    "# ax.plot(posterior_mean_mu_baseml, posterior_mean_mu_iqtree, 'o', label='Posterior mean rates for partitions')\n",
    "#  \n",
    "# # Labels and title\n",
    "# ax.set_xlabel('Posterior mean rate [LG]', fontsize=18)\n",
    "# ax.set_ylabel('Posterior mean rate [LG+G4]', fontsize=18)\n",
    "# ax.set_title('Posterior mean rate comparison between LG and LG+G4 [Cherry only calibration/IQ-TREE]')\n",
    "# ax.legend()\n",
    "# \n",
    "# # point_x = posterior_mean_baseml[0]  # Example: first point in the list\n",
    "# # point_y = posterior_mean_iqtree[0]  # Example: first point in the list\n",
    "# # ax.annotate('Root age', xy=(point_x, point_y), xytext=(point_x - 0.1, point_y - 0.1), color='red')\n",
    "# # Show plot\n",
    "# # plt.show()\n",
    "# plt.savefig('./animal_origin__posterior_mean_rate_comparison_LG_G4_all_scatter.png')"
   ],
   "id": "c6d69ee36c77970c",
   "outputs": [],
   "execution_count": 14
  },
  {
   "metadata": {
    "ExecuteTime": {
     "end_time": "2024-10-08T15:01:39.371277Z",
     "start_time": "2024-10-08T15:01:39.369431Z"
    }
   },
   "cell_type": "code",
   "source": "",
   "id": "ca69d5b521db3aa7",
   "outputs": [],
   "execution_count": null
  }
 ],
 "metadata": {
  "kernelspec": {
   "display_name": "Python 3",
   "language": "python",
   "name": "python3"
  },
  "language_info": {
   "codemirror_mode": {
    "name": "ipython",
    "version": 2
   },
   "file_extension": ".py",
   "mimetype": "text/x-python",
   "name": "python",
   "nbconvert_exporter": "python",
   "pygments_lexer": "ipython2",
   "version": "2.7.6"
  }
 },
 "nbformat": 4,
 "nbformat_minor": 5
}
