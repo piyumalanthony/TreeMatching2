{
 "cells": [
  {
   "cell_type": "code",
   "id": "initial_id",
   "metadata": {
    "collapsed": true,
    "ExecuteTime": {
     "end_time": "2024-10-08T15:00:54.370236Z",
     "start_time": "2024-10-08T15:00:53.953760Z"
    }
   },
   "source": [
    "# Code to get all the Posterior mean (95% Equal-tail CI) (95% HPD CI) HPD-CI-width from ./xenarthra_mcmc_out.txt\n",
    "import numpy as np\n",
    "import pandas as pd\n",
    "import matplotlib.pyplot as plt\n",
    "\n",
    "\n",
    "# Read the file\n",
    "file = open(\"LG_G4_cw_out.txt\", \"r\")\n",
    "lines = file.readlines()\n",
    "file.close()\n",
    "\n",
    "# Extract the data\n",
    "data = []\n",
    "mu_data = []\n",
    "var_data = []\n",
    "\n",
    "read_flag = False\n",
    "for line in lines:\n",
    "    if line.startswith(\"Posterior\"):\n",
    "        read_flag = True\n",
    "    if read_flag and line.startswith(\"t\"):\n",
    "        data.append(line)\n",
    "    if read_flag and line.startswith(\"mu\"):\n",
    "        mu_data.append(line)\n",
    "    if read_flag and line.startswith(\"sigma\"):\n",
    "        var_data.append(line)"
   ],
   "outputs": [],
   "execution_count": 1
  },
  {
   "metadata": {
    "ExecuteTime": {
     "end_time": "2024-10-08T15:00:54.385438Z",
     "start_time": "2024-10-08T15:00:54.380086Z"
    }
   },
   "cell_type": "code",
   "source": "data",
   "id": "54808ee54195795",
   "outputs": [
    {
     "data": {
      "text/plain": [
       "['t_n55          9.1053 ( 8.2112, 10.2780) ( 8.1571, 10.1848)  2.0277 (Jnode 106)\\n',\n",
       " 't_n56          9.0039 ( 8.1245, 10.1326) ( 8.0552, 10.0478)  1.9927 (Jnode 105)\\n',\n",
       " 't_n57          8.4260 ( 7.6358,  9.4325) ( 7.5750,  9.3339)  1.7589 (Jnode 104)\\n',\n",
       " 't_n58          7.4109 ( 6.7781,  8.1986) ( 6.7474,  8.1646)  1.4172 (Jnode 103)\\n',\n",
       " 't_n59          7.1520 ( 6.5490,  7.8909) ( 6.5131,  7.8473)  1.3342 (Jnode 102)\\n',\n",
       " 't_n60          6.8352 ( 6.2705,  7.5251) ( 6.2368,  7.4876)  1.2508 (Jnode 101)\\n',\n",
       " 't_n61          6.3399 ( 5.8126,  6.9731) ( 5.7669,  6.9219)  1.1551 (Jnode 100)\\n',\n",
       " 't_n62          3.4547 ( 2.1621,  4.2510) ( 2.2186,  4.2843)  2.0657 (Jnode 99)\\n',\n",
       " 't_n63          4.8160 ( 4.4387,  5.2904) ( 4.4268,  5.2668)  0.8400 (Jnode 98)\\n',\n",
       " 't_n64          3.6341 ( 3.0429,  4.1488) ( 3.0575,  4.1598)  1.1023 (Jnode 97)\\n',\n",
       " 't_n65          3.1641 ( 2.5727,  3.7098) ( 2.5681,  3.7049)  1.1368 (Jnode 96)\\n',\n",
       " 't_n66          2.4423 ( 1.9055,  2.9782) ( 1.8990,  2.9686)  1.0696 (Jnode 95)\\n',\n",
       " 't_n67          1.6405 ( 1.2210,  2.0867) ( 1.2010,  2.0610)  0.8600 (Jnode 94)\\n',\n",
       " 't_n68          1.0793 ( 0.7782,  1.4209) ( 0.7569,  1.3936)  0.6368 (Jnode 93)\\n',\n",
       " 't_n69          0.4669 ( 0.3174,  0.6581) ( 0.3061,  0.6425)  0.3363 (Jnode 92)\\n',\n",
       " 't_n70          3.6637 ( 3.5839,  3.8759) ( 3.5764,  3.8258)  0.2494 (Jnode 91)\\n',\n",
       " 't_n71          6.9095 ( 6.3362,  7.6135) ( 6.2960,  7.5717)  1.2757 (Jnode 90)\\n',\n",
       " 't_n72          6.1846 ( 5.5963,  6.8526) ( 5.5552,  6.8086)  1.2535 (Jnode 89)\\n',\n",
       " 't_n73          6.2847 ( 5.7470,  6.9306) ( 5.7170,  6.8872)  1.1702 (Jnode 88)\\n',\n",
       " 't_n74          4.6340 ( 4.1186,  5.2852) ( 4.0885,  5.2467)  1.1583 (Jnode 87)\\n',\n",
       " 't_n75          4.0692 ( 3.6113,  4.7313) ( 3.5910,  4.6989)  1.1079 (Jnode 86)\\n',\n",
       " 't_n76          3.9509 ( 3.0237,  4.6857) ( 3.1676,  4.7875)  1.6199 (Jnode 85)\\n',\n",
       " 't_n77          6.8098 ( 6.2474,  7.4927) ( 6.2258,  7.4639)  1.2381 (Jnode 84)\\n',\n",
       " 't_n78          6.4505 ( 5.9201,  7.0820) ( 5.9063,  7.0605)  1.1542 (Jnode 83)\\n',\n",
       " 't_n79          6.1992 ( 5.6861,  6.7994) ( 5.6680,  6.7729)  1.1048 (Jnode 82)\\n',\n",
       " 't_n80          5.8714 ( 5.3807,  6.4376) ( 5.3484,  6.3974)  1.0490 (Jnode 81)\\n',\n",
       " 't_n81          5.4136 ( 4.9576,  5.9276) ( 4.9472,  5.9098)  0.9626 (Jnode 80)\\n',\n",
       " 't_n82          5.2224 ( 4.7777,  5.7194) ( 4.7760,  5.7145)  0.9385 (Jnode 79)\\n',\n",
       " 't_n83          4.5683 ( 4.1242,  5.0221) ( 4.1107,  5.0040)  0.8932 (Jnode 78)\\n',\n",
       " 't_n84          4.1605 ( 3.7128,  4.5882) ( 3.7108,  4.5840)  0.8732 (Jnode 77)\\n',\n",
       " 't_n85          3.7706 ( 3.3163,  4.1852) ( 3.3024,  4.1657)  0.8633 (Jnode 76)\\n',\n",
       " 't_n86          2.8448 ( 2.3918,  3.2746) ( 2.3873,  3.2690)  0.8817 (Jnode 75)\\n',\n",
       " 't_n87          2.5150 ( 2.0774,  2.9452) ( 2.0864,  2.9527)  0.8663 (Jnode 74)\\n',\n",
       " 't_n88          4.6880 ( 4.2345,  5.1597) ( 4.2512,  5.1725)  0.9213 (Jnode 73)\\n',\n",
       " 't_n89          3.8206 ( 3.2888,  4.2814) ( 3.3637,  4.3402)  0.9765 (Jnode 72)\\n',\n",
       " 't_n90          6.6522 ( 6.1084,  7.3112) ( 6.1115,  7.3126)  1.2012 (Jnode 71)\\n',\n",
       " 't_n91          1.6062 ( 0.8265,  2.5872) ( 0.7737,  2.4925)  1.7188 (Jnode 70)\\n',\n",
       " 't_n92          6.4693 ( 5.9379,  7.1064) ( 5.9146,  7.0754)  1.1607 (Jnode 69)\\n',\n",
       " 't_n93          6.0332 ( 5.5344,  6.6174) ( 5.5173,  6.5941)  1.0768 (Jnode 68)\\n',\n",
       " 't_n94          5.3828 ( 4.9191,  5.9137) ( 4.8983,  5.8905)  0.9922 (Jnode 67)\\n',\n",
       " 't_n95          4.9576 ( 4.5123,  5.4592) ( 4.5004,  5.4425)  0.9421 (Jnode 66)\\n',\n",
       " 't_n96          3.7857 ( 3.1757,  4.2599) ( 3.1875,  4.2699)  1.0824 (Jnode 65)\\n',\n",
       " 't_n97          4.0727 ( 3.6565,  4.5821) ( 3.6163,  4.5297)  0.9134 (Jnode 64)\\n',\n",
       " 't_n98          5.2090 ( 4.6864,  5.7432) ( 4.7083,  5.7644)  1.0561 (Jnode 63)\\n',\n",
       " 't_n99          4.9327 ( 4.3928,  5.4534) ( 4.3862,  5.4449)  1.0586 (Jnode 62)\\n',\n",
       " 't_n100         4.4045 ( 3.8357,  4.9355) ( 3.8389,  4.9373)  1.0983 (Jnode 61)\\n',\n",
       " 't_n101         3.6933 ( 2.8485,  4.2258) ( 2.9166,  4.2714)  1.3548 (Jnode 60)\\n',\n",
       " 't_n102         4.4025 ( 3.7271,  5.1256) ( 3.6815,  5.0548)  1.3733 (Jnode 59)\\n',\n",
       " 't_n103         7.7268 ( 6.9981,  8.6301) ( 6.9428,  8.5498)  1.6070 (Jnode 58)\\n',\n",
       " 't_n104         6.0719 ( 5.1997,  6.9280) ( 5.2262,  6.9484)  1.7222 (Jnode 57)\\n',\n",
       " 't_n105         4.0264 ( 2.9804,  4.9379) ( 3.0437,  4.9688)  1.9251 (Jnode 56)\\n',\n",
       " 't_n106         3.6267 ( 1.9149,  4.6944) ( 1.9384,  4.7061)  2.7677 (Jnode 55)\\n',\n",
       " 't_n107         6.4020 ( 4.7399,  7.8017) ( 4.8378,  7.8699)  3.0321 (Jnode 54)\\n']"
      ]
     },
     "execution_count": 2,
     "metadata": {},
     "output_type": "execute_result"
    }
   ],
   "execution_count": 2
  },
  {
   "metadata": {
    "ExecuteTime": {
     "end_time": "2024-10-08T15:00:54.437438Z",
     "start_time": "2024-10-08T15:00:54.434563Z"
    }
   },
   "cell_type": "code",
   "source": [
    "node_name = []\n",
    "posterior_mean_iqtree = []\n",
    "posterior_mean_baseml = []\n",
    "\n",
    "posterior_mean_mu_iqtree = []\n",
    "posterior_mean_mu_baseml = []\n",
    "\n",
    "posterior_mean_var_iqtree = []\n",
    "posterior_mean_var_baseml = []\n",
    "\n",
    "lower_ci_iqtree = []\n",
    "upper_ci_iqtree = []\n",
    "\n",
    "lower_ci_mu_iqtree = []\n",
    "upper_ci_mu_iqtree = []\n",
    "\n",
    "lower_ci_var_iqtree = []\n",
    "upper_ci_var_iqtree = []\n",
    "\n",
    "# Credible intervals for McmcDate\n",
    "lower_ci_baseml = []\n",
    "upper_ci_baseml = []\n",
    "\n",
    "lower_ci_mu_baseml = []\n",
    "upper_ci_mu_baseml = []\n",
    "\n",
    "lower_ci_var_baseml = []\n",
    "upper_ci_var_baseml = []"
   ],
   "id": "e5cf93a69d327e61",
   "outputs": [],
   "execution_count": 3
  },
  {
   "metadata": {
    "ExecuteTime": {
     "end_time": "2024-10-08T15:00:54.488312Z",
     "start_time": "2024-10-08T15:00:54.485133Z"
    }
   },
   "cell_type": "code",
   "source": [
    "for line in data:\n",
    "    line = line.strip().split()\n",
    "    node_name.append(line[0])\n",
    "    posterior_mean_iqtree.append(float(line[1]))\n",
    "#     if line[3].startswith('('):\n",
    "#         lower_ci_iqtree.append(float(line[3][1:-1]))\n",
    "#     else:\n",
    "#         lower_ci_iqtree.append(float(line[3][1:-1]))\n",
    "#     if line[4].startswith('('):\n",
    "#         upper_ci_iqtree.append(float(line[4][1:-1]))\n",
    "#     else:\n",
    "#         upper_ci_iqtree.append(float(line[4][:-1]))\n",
    "#     # posterior_mean_baseml.append(float(line[4]))\n",
    "#     # lower_ci_baseml.append(float(line[5]))\n",
    "#     # upper_ci_baseml.append(float(line[6]))\n",
    "# \n",
    "# for line in mu_data:\n",
    "#     line = line.strip().split()\n",
    "#     # node_name.append(line[0])\n",
    "#     posterior_mean_mu_iqtree.append(float(line[1]))\n",
    "#     lower_ci_mu_iqtree.append(float(line[3][:-1]))\n",
    "#     upper_ci_mu_iqtree.append(float(line[4][:-1]))\n",
    "#\n",
    "# for line in var_data:\n",
    "#     line = line.strip().split()\n",
    "#     # node_name.append(line[0])\n",
    "#     posterior_mean_var_iqtree.append(float(line[1]))\n",
    "#     lower_ci_var_iqtree.append(float(line[3][:-1]))\n",
    "#     upper_ci_var_iqtree.append(float(line[4][:-1]))"
   ],
   "id": "4e79ee928ea76b59",
   "outputs": [],
   "execution_count": 4
  },
  {
   "metadata": {
    "ExecuteTime": {
     "end_time": "2024-10-08T15:00:54.550843Z",
     "start_time": "2024-10-08T15:00:54.547704Z"
    }
   },
   "cell_type": "code",
   "source": "node_name",
   "id": "2c17f55ec9626a0b",
   "outputs": [
    {
     "data": {
      "text/plain": [
       "['t_n55',\n",
       " 't_n56',\n",
       " 't_n57',\n",
       " 't_n58',\n",
       " 't_n59',\n",
       " 't_n60',\n",
       " 't_n61',\n",
       " 't_n62',\n",
       " 't_n63',\n",
       " 't_n64',\n",
       " 't_n65',\n",
       " 't_n66',\n",
       " 't_n67',\n",
       " 't_n68',\n",
       " 't_n69',\n",
       " 't_n70',\n",
       " 't_n71',\n",
       " 't_n72',\n",
       " 't_n73',\n",
       " 't_n74',\n",
       " 't_n75',\n",
       " 't_n76',\n",
       " 't_n77',\n",
       " 't_n78',\n",
       " 't_n79',\n",
       " 't_n80',\n",
       " 't_n81',\n",
       " 't_n82',\n",
       " 't_n83',\n",
       " 't_n84',\n",
       " 't_n85',\n",
       " 't_n86',\n",
       " 't_n87',\n",
       " 't_n88',\n",
       " 't_n89',\n",
       " 't_n90',\n",
       " 't_n91',\n",
       " 't_n92',\n",
       " 't_n93',\n",
       " 't_n94',\n",
       " 't_n95',\n",
       " 't_n96',\n",
       " 't_n97',\n",
       " 't_n98',\n",
       " 't_n99',\n",
       " 't_n100',\n",
       " 't_n101',\n",
       " 't_n102',\n",
       " 't_n103',\n",
       " 't_n104',\n",
       " 't_n105',\n",
       " 't_n106',\n",
       " 't_n107']"
      ]
     },
     "execution_count": 5,
     "metadata": {},
     "output_type": "execute_result"
    }
   ],
   "execution_count": 5
  },
  {
   "metadata": {
    "ExecuteTime": {
     "end_time": "2024-10-08T15:00:54.617824Z",
     "start_time": "2024-10-08T15:00:54.612447Z"
    }
   },
   "cell_type": "code",
   "source": "posterior_mean_iqtree",
   "id": "24a55c806a41f33e",
   "outputs": [
    {
     "data": {
      "text/plain": [
       "[9.1053,\n",
       " 9.0039,\n",
       " 8.426,\n",
       " 7.4109,\n",
       " 7.152,\n",
       " 6.8352,\n",
       " 6.3399,\n",
       " 3.4547,\n",
       " 4.816,\n",
       " 3.6341,\n",
       " 3.1641,\n",
       " 2.4423,\n",
       " 1.6405,\n",
       " 1.0793,\n",
       " 0.4669,\n",
       " 3.6637,\n",
       " 6.9095,\n",
       " 6.1846,\n",
       " 6.2847,\n",
       " 4.634,\n",
       " 4.0692,\n",
       " 3.9509,\n",
       " 6.8098,\n",
       " 6.4505,\n",
       " 6.1992,\n",
       " 5.8714,\n",
       " 5.4136,\n",
       " 5.2224,\n",
       " 4.5683,\n",
       " 4.1605,\n",
       " 3.7706,\n",
       " 2.8448,\n",
       " 2.515,\n",
       " 4.688,\n",
       " 3.8206,\n",
       " 6.6522,\n",
       " 1.6062,\n",
       " 6.4693,\n",
       " 6.0332,\n",
       " 5.3828,\n",
       " 4.9576,\n",
       " 3.7857,\n",
       " 4.0727,\n",
       " 5.209,\n",
       " 4.9327,\n",
       " 4.4045,\n",
       " 3.6933,\n",
       " 4.4025,\n",
       " 7.7268,\n",
       " 6.0719,\n",
       " 4.0264,\n",
       " 3.6267,\n",
       " 6.402]"
      ]
     },
     "execution_count": 6,
     "metadata": {},
     "output_type": "execute_result"
    }
   ],
   "execution_count": 6
  },
  {
   "metadata": {
    "ExecuteTime": {
     "end_time": "2024-10-08T15:00:54.686428Z",
     "start_time": "2024-10-08T15:00:54.682416Z"
    }
   },
   "cell_type": "code",
   "source": "lower_ci_iqtree",
   "id": "388aa27ad336d43f",
   "outputs": [
    {
     "data": {
      "text/plain": [
       "[]"
      ]
     },
     "execution_count": 7,
     "metadata": {},
     "output_type": "execute_result"
    }
   ],
   "execution_count": 7
  },
  {
   "metadata": {
    "ExecuteTime": {
     "end_time": "2024-10-08T15:00:54.739142Z",
     "start_time": "2024-10-08T15:00:54.735466Z"
    }
   },
   "cell_type": "code",
   "source": "upper_ci_iqtree",
   "id": "816e569fb763e797",
   "outputs": [
    {
     "data": {
      "text/plain": [
       "[]"
      ]
     },
     "execution_count": 8,
     "metadata": {},
     "output_type": "execute_result"
    }
   ],
   "execution_count": 8
  },
  {
   "metadata": {
    "ExecuteTime": {
     "end_time": "2024-10-08T15:00:54.794417Z",
     "start_time": "2024-10-08T15:00:54.788483Z"
    }
   },
   "cell_type": "code",
   "source": [
    "file_LG = open(\"LG_cw_out.txt\", \"r\")\n",
    "lines1 = file_LG.readlines()\n",
    "file_LG.close()\n",
    "\n",
    "# Extract the data\n",
    "data1 = []\n",
    "mu_data1 = []\n",
    "var_data1 = []\n",
    "\n",
    "read_flag = False\n",
    "for line in lines1:\n",
    "    if line.startswith(\"Posterior\"):\n",
    "        read_flag = True\n",
    "    if read_flag and line.startswith(\"t\"):\n",
    "        data1.append(line)\n",
    "    if read_flag and line.startswith(\"mu\"):\n",
    "        mu_data1.append(line)\n",
    "    if read_flag and line.startswith(\"sigma\"):\n",
    "        var_data1.append(line)\n",
    "\n",
    "        \n",
    "for line in data1:\n",
    "    line = line.strip().split()\n",
    "    # node_name.append(line[0])\n",
    "    posterior_mean_baseml.append(float(line[1]))\n",
    "#     if line[3].startswith('('):\n",
    "#         lower_ci_baseml.append(float(line[3][1:-1]))\n",
    "#     else:\n",
    "#          lower_ci_baseml.append(float(line[3][:-1]))\n",
    "#     if line[4].startswith('('):\n",
    "#         upper_ci_baseml.append(float(line[4][1:-1]))\n",
    "#     else:\n",
    "#          upper_ci_baseml.append(float(line[4][:-1]))\n",
    "#         \n",
    "#     \n",
    "# for line in mu_data1:\n",
    "#     line = line.strip().split()\n",
    "#     # node_name.append(line[0])\n",
    "#     posterior_mean_mu_baseml.append(float(line[1]))\n",
    "#     lower_ci_mu_baseml.append(float(line[3][:-1]))\n",
    "#     upper_ci_mu_baseml.append(float(line[4][:-1]))\n",
    "    \n",
    "# for line in var_data1:\n",
    "#     line = line.strip().split()\n",
    "#     # node_name.append(line[0])\n",
    "#     posterior_mean_var_baseml.append(float(line[1]))\n",
    "#     lower_ci_var_baseml.append(float(line[3][:-1]))\n",
    "#     upper_ci_var_baseml.append(float(line[4][:-1]))"
   ],
   "id": "f75c012c6bef60a2",
   "outputs": [],
   "execution_count": 9
  },
  {
   "metadata": {
    "ExecuteTime": {
     "end_time": "2024-10-08T15:00:54.844609Z",
     "start_time": "2024-10-08T15:00:54.840965Z"
    }
   },
   "cell_type": "code",
   "source": [
    "import matplotlib.pyplot as plt\n",
    "import numpy as np\n",
    "\n",
    "# # Example data\n",
    "# # Posterior means for MCMCtree (x-axis) and McmcDate (y-axis)\n",
    "# posterior_mean_mcmctree = [100, 200, 300, 400, 500, 600, 700, 800, 900, 1000]\n",
    "# posterior_mean_mcmcdate = [110, 210, 310, 410, 510, 610, 710, 810, 910, 1010]\n",
    "# \n",
    "# # Credible intervals for MCMCtree\n",
    "# lower_ci_mcmctree = [90, 180, 270, 360, 450, 540, 630, 720, 810, 900]\n",
    "# upper_ci_mcmctree = [110, 220, 330, 440, 550, 660, 770, 880, 990, 1100]\n",
    "# \n",
    "# # Credible intervals for McmcDate\n",
    "# lower_ci_mcmcdate = [100, 200, 300, 400, 500, 600, 700, 800, 900, 1000]\n",
    "# upper_ci_mcmcdate = [120, 220, 320, 420, 520, 620, 720, 820, 920, 1020]\n",
    "\n",
    "# Calculate error bars\n",
    "# xerr = [np.array(lower_ci_baseml), \n",
    "#         np.array(upper_ci_baseml)]\n",
    "# yerr = [np.array(lower_ci_iqtree), \n",
    "#         np.array(upper_ci_iqtree)]\n",
    "# \n",
    "# # Plotting\n",
    "# fig, ax = plt.subplots(figsize=(15, 15))\n",
    "# ax.plot([-0.1,90], \n",
    "#         [-0.1, 90], \n",
    "#         'k--', label='y=x')\n",
    "# ax.errorbar(posterior_mean_baseml, posterior_mean_iqtree, \n",
    "#             xerr=xerr, yerr=yerr, fmt='*', ecolor='r', capsize=3, label='95% HPD CI')\n",
    "# \n",
    "# # Labels and title\n",
    "# ax.set_xlabel('Posterior mean age LG [100 Mya]', fontsize=18)\n",
    "# ax.set_ylabel('Posterior mean age LG+G4 [100 Mya]', fontsize=18)\n",
    "# ax.set_title('Posterior mean age comparison between LG and LG+G4 models [t116 ~ B(1.25,2.482)]')\n",
    "# ax.legend()\n",
    "# \n",
    "# # Show plot\n",
    "# # plt.show()\n",
    "# plt.savefig('./animal_origin_posterior_mean_age_comparison_LG_G4_c11.png')"
   ],
   "id": "12db486fa4fac82c",
   "outputs": [],
   "execution_count": 10
  },
  {
   "metadata": {
    "ExecuteTime": {
     "end_time": "2024-10-08T15:00:54.901453Z",
     "start_time": "2024-10-08T15:00:54.894707Z"
    }
   },
   "cell_type": "code",
   "source": "posterior_mean_baseml",
   "id": "917b2e31cff4b992",
   "outputs": [
    {
     "data": {
      "text/plain": [
       "[9.7961,\n",
       " 9.6898,\n",
       " 8.8847,\n",
       " 7.8113,\n",
       " 7.4618,\n",
       " 7.0313,\n",
       " 6.4165,\n",
       " 3.6211,\n",
       " 4.8544,\n",
       " 3.6105,\n",
       " 3.0675,\n",
       " 2.3111,\n",
       " 1.5274,\n",
       " 1.0068,\n",
       " 0.4324,\n",
       " 3.6563,\n",
       " 7.0872,\n",
       " 5.9005,\n",
       " 6.3677,\n",
       " 4.7025,\n",
       " 4.0297,\n",
       " 4.0076,\n",
       " 7.126,\n",
       " 6.6824,\n",
       " 6.3702,\n",
       " 5.9771,\n",
       " 5.4847,\n",
       " 5.2257,\n",
       " 4.5336,\n",
       " 4.0545,\n",
       " 3.5977,\n",
       " 2.7009,\n",
       " 2.2965,\n",
       " 4.6952,\n",
       " 3.7754,\n",
       " 6.9014,\n",
       " 1.8724,\n",
       " 6.6507,\n",
       " 6.1497,\n",
       " 5.4221,\n",
       " 4.9203,\n",
       " 3.7321,\n",
       " 3.9266,\n",
       " 5.2615,\n",
       " 4.8356,\n",
       " 4.1361,\n",
       " 3.7283,\n",
       " 4.5148,\n",
       " 8.0156,\n",
       " 6.2312,\n",
       " 4.0489,\n",
       " 3.9098,\n",
       " 7.1152]"
      ]
     },
     "execution_count": 11,
     "metadata": {},
     "output_type": "execute_result"
    }
   ],
   "execution_count": 11
  },
  {
   "metadata": {
    "ExecuteTime": {
     "end_time": "2024-10-08T15:00:54.953980Z",
     "start_time": "2024-10-08T15:00:54.950457Z"
    }
   },
   "cell_type": "code",
   "source": "posterior_mean_iqtree",
   "id": "59ad8fd34f7bbf11",
   "outputs": [
    {
     "data": {
      "text/plain": [
       "[9.1053,\n",
       " 9.0039,\n",
       " 8.426,\n",
       " 7.4109,\n",
       " 7.152,\n",
       " 6.8352,\n",
       " 6.3399,\n",
       " 3.4547,\n",
       " 4.816,\n",
       " 3.6341,\n",
       " 3.1641,\n",
       " 2.4423,\n",
       " 1.6405,\n",
       " 1.0793,\n",
       " 0.4669,\n",
       " 3.6637,\n",
       " 6.9095,\n",
       " 6.1846,\n",
       " 6.2847,\n",
       " 4.634,\n",
       " 4.0692,\n",
       " 3.9509,\n",
       " 6.8098,\n",
       " 6.4505,\n",
       " 6.1992,\n",
       " 5.8714,\n",
       " 5.4136,\n",
       " 5.2224,\n",
       " 4.5683,\n",
       " 4.1605,\n",
       " 3.7706,\n",
       " 2.8448,\n",
       " 2.515,\n",
       " 4.688,\n",
       " 3.8206,\n",
       " 6.6522,\n",
       " 1.6062,\n",
       " 6.4693,\n",
       " 6.0332,\n",
       " 5.3828,\n",
       " 4.9576,\n",
       " 3.7857,\n",
       " 4.0727,\n",
       " 5.209,\n",
       " 4.9327,\n",
       " 4.4045,\n",
       " 3.6933,\n",
       " 4.4025,\n",
       " 7.7268,\n",
       " 6.0719,\n",
       " 4.0264,\n",
       " 3.6267,\n",
       " 6.402]"
      ]
     },
     "execution_count": 12,
     "metadata": {},
     "output_type": "execute_result"
    }
   ],
   "execution_count": 12
  },
  {
   "metadata": {
    "ExecuteTime": {
     "end_time": "2024-10-08T15:00:55.327700Z",
     "start_time": "2024-10-08T15:00:55.136882Z"
    }
   },
   "cell_type": "code",
   "source": [
    "# Calculate error bars\n",
    "xerr = [np.array(lower_ci_baseml), \n",
    "        np.array(upper_ci_baseml)]\n",
    "yerr = [np.array(lower_ci_iqtree), \n",
    "        np.array(upper_ci_iqtree)]\n",
    "\n",
    "# Plotting\n",
    "fig, ax = plt.subplots(figsize=(9 ,9))\n",
    "ax.plot([-0.1,17], \n",
    "        [-0.1, 17], \n",
    "        'k--', label='y=x')\n",
    "ax.plot(posterior_mean_baseml, posterior_mean_iqtree, 'o', label='Posterior mean age')\n",
    " \n",
    "# Labels and title\n",
    "ax.set_xlabel('Posterior mean age LG [Mya]', fontsize=18)\n",
    "ax.set_ylabel('Posterior mean age LG+G4 [Mya]', fontsize=18)\n",
    "ax.set_title('Posterior mean age comparison between LG and LG+G4 [t70 ~ B (3.5850,6.3610)]')\n",
    "ax.legend()\n",
    "\n",
    "# point_x = posterior_mean_baseml[0]  # Example: first point in the list\n",
    "# point_y = posterior_mean_iqtree[0]  # Example: first point in the list\n",
    "# ax.annotate('Root age', xy=(point_x, point_y), xytext=(point_x - 0.1, point_y - 0.1), color='red')\n",
    "# Show plot\n",
    "# plt.show()\n",
    "plt.savefig('./metazoa_posterior_mean_age_comparison_LG_G4_cw_scatter.png')"
   ],
   "id": "592d0bb72aa1ad4c",
   "outputs": [
    {
     "data": {
      "text/plain": [
       "<Figure size 900x900 with 1 Axes>"
      ],
      "image/png": "[encoded data removed]"
     },
     "metadata": {},
     "output_type": "display_data"
    }
   ],
   "execution_count": 13
  },
  {
   "metadata": {
    "ExecuteTime": {
     "end_time": "2024-10-08T15:00:55.337411Z",
     "start_time": "2024-10-08T15:00:55.334946Z"
    }
   },
   "cell_type": "code",
   "source": [
    "# fig, ax = plt.subplots(figsize=(9 ,9))\n",
    "# ax.plot([0.01,0.04], \n",
    "#         [0.01, 0.04], \n",
    "#         'k--', label='y=x')\n",
    "# ax.plot(posterior_mean_mu_baseml, posterior_mean_mu_iqtree, 'o', label='Posterior mean rates for partitions')\n",
    "#  \n",
    "# # Labels and title\n",
    "# ax.set_xlabel('Posterior mean rate [LG]', fontsize=18)\n",
    "# ax.set_ylabel('Posterior mean rate [LG+G4]', fontsize=18)\n",
    "# ax.set_title('Posterior mean rate comparison between LG and LG+G4 [Cherry only calibration/IQ-TREE]')\n",
    "# ax.legend()\n",
    "# \n",
    "# # point_x = posterior_mean_baseml[0]  # Example: first point in the list\n",
    "# # point_y = posterior_mean_iqtree[0]  # Example: first point in the list\n",
    "# # ax.annotate('Root age', xy=(point_x, point_y), xytext=(point_x - 0.1, point_y - 0.1), color='red')\n",
    "# # Show plot\n",
    "# # plt.show()\n",
    "# plt.savefig('./animal_origin__posterior_mean_rate_comparison_LG_G4_all_scatter.png')"
   ],
   "id": "c6d69ee36c77970c",
   "outputs": [],
   "execution_count": 14
  },
  {
   "metadata": {
    "ExecuteTime": {
     "end_time": "2024-10-08T15:00:55.381233Z",
     "start_time": "2024-10-08T15:00:55.378673Z"
    }
   },
   "cell_type": "code",
   "source": "",
   "id": "ca69d5b521db3aa7",
   "outputs": [],
   "execution_count": null
  }
 ],
 "metadata": {
  "kernelspec": {
   "display_name": "Python 3",
   "language": "python",
   "name": "python3"
  },
  "language_info": {
   "codemirror_mode": {
    "name": "ipython",
    "version": 2
   },
   "file_extension": ".py",
   "mimetype": "text/x-python",
   "name": "python",
   "nbconvert_exporter": "python",
   "pygments_lexer": "ipython2",
   "version": "2.7.6"
  }
 },
 "nbformat": 4,
 "nbformat_minor": 5
}
