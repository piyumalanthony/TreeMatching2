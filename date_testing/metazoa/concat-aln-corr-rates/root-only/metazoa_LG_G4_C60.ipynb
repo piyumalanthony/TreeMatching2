{
 "cells": [
  {
   "cell_type": "code",
   "id": "initial_id",
   "metadata": {
    "collapsed": true,
    "ExecuteTime": {
     "end_time": "2024-10-08T16:00:29.606168Z",
     "start_time": "2024-10-08T16:00:29.237811Z"
    }
   },
   "source": [
    "# Code to get all the Posterior mean (95% Equal-tail CI) (95% HPD CI) HPD-CI-width from ./xenarthra_mcmc_out.txt\n",
    "import numpy as np\n",
    "import pandas as pd\n",
    "import matplotlib.pyplot as plt\n",
    "\n",
    "\n",
    "# Read the file\n",
    "file = open(\"LG_G4_C60_ro_out.txt\", \"r\")\n",
    "lines = file.readlines()\n",
    "file.close()\n",
    "\n",
    "# Extract the data\n",
    "data = []\n",
    "mu_data = []\n",
    "var_data = []\n",
    "\n",
    "read_flag = False\n",
    "for line in lines:\n",
    "    if line.startswith(\"Posterior\"):\n",
    "        read_flag = True\n",
    "    if read_flag and line.startswith(\"t\"):\n",
    "        data.append(line)\n",
    "    if read_flag and line.startswith(\"mu\"):\n",
    "        mu_data.append(line)\n",
    "    if read_flag and line.startswith(\"sigma\"):\n",
    "        var_data.append(line)"
   ],
   "outputs": [],
   "execution_count": 1
  },
  {
   "metadata": {
    "ExecuteTime": {
     "end_time": "2024-10-08T16:00:29.618954Z",
     "start_time": "2024-10-08T16:00:29.614459Z"
    }
   },
   "cell_type": "code",
   "source": "data",
   "id": "54808ee54195795",
   "outputs": [
    {
     "data": {
      "text/plain": [
       "['t_n55          5.8734 ( 5.5342,  6.8599) ( 5.5212,  6.5950)  1.0738 (Jnode 106)\\n',\n",
       " 't_n56          5.0790 ( 3.9824,  6.1103) ( 3.9808,  6.1038)  2.1231 (Jnode 105)\\n',\n",
       " 't_n57          4.7176 ( 3.6730,  5.6969) ( 3.6626,  5.6846)  2.0221 (Jnode 104)\\n',\n",
       " 't_n58          3.8719 ( 2.9749,  4.7542) ( 2.9617,  4.7336)  1.7719 (Jnode 103)\\n',\n",
       " 't_n59          3.7399 ( 2.8735,  4.5948) ( 2.8767,  4.5972)  1.7205 (Jnode 102)\\n',\n",
       " 't_n60          3.5599 ( 2.7279,  4.3777) ( 2.7448,  4.3925)  1.6477 (Jnode 101)\\n',\n",
       " 't_n61          3.2918 ( 2.5149,  4.0637) ( 2.5240,  4.0691)  1.5450 (Jnode 100)\\n',\n",
       " 't_n62          1.4115 ( 0.8665,  2.0214) ( 0.8400,  1.9917)  1.1516 (Jnode 99)\\n',\n",
       " 't_n63          2.2466 ( 1.6507,  2.8843) ( 1.6293,  2.8593)  1.2300 (Jnode 98)\\n',\n",
       " 't_n64          1.5865 ( 1.1216,  2.0987) ( 1.1073,  2.0807)  0.9734 (Jnode 97)\\n',\n",
       " 't_n65          1.3937 ( 0.9771,  1.8620) ( 0.9638,  1.8440)  0.8802 (Jnode 96)\\n',\n",
       " 't_n66          1.0742 ( 0.7370,  1.4663) ( 0.7065,  1.4273)  0.7208 (Jnode 95)\\n',\n",
       " 't_n67          0.7213 ( 0.4827,  1.0098) ( 0.4705,  0.9922)  0.5217 (Jnode 94)\\n',\n",
       " 't_n68          0.4790 ( 0.3132,  0.6875) ( 0.3032,  0.6701)  0.3669 (Jnode 93)\\n',\n",
       " 't_n69          0.2052 ( 0.1282,  0.3086) ( 0.1209,  0.2968)  0.1759 (Jnode 92)\\n',\n",
       " 't_n70          1.6560 ( 1.1703,  2.1990) ( 1.1474,  2.1681)  1.0207 (Jnode 91)\\n',\n",
       " 't_n71          3.6456 ( 2.7960,  4.4762) ( 2.8022,  4.4801)  1.6778 (Jnode 90)\\n',\n",
       " 't_n72          3.5306 ( 2.6977,  4.3478) ( 2.6914,  4.3396)  1.6481 (Jnode 89)\\n',\n",
       " 't_n73          3.2818 ( 2.4987,  4.0543) ( 2.5146,  4.0677)  1.5530 (Jnode 88)\\n',\n",
       " 't_n74          2.2759 ( 1.6265,  2.9462) ( 1.5864,  2.9017)  1.3153 (Jnode 87)\\n',\n",
       " 't_n75          2.0349 ( 1.4343,  2.6689) ( 1.4343,  2.6690)  1.2347 (Jnode 86)\\n',\n",
       " 't_n76          1.7616 ( 1.1224,  2.4482) ( 1.1164,  2.4414)  1.3250 (Jnode 85)\\n',\n",
       " 't_n77          3.5132 ( 2.6857,  4.3205) ( 2.6853,  4.3183)  1.6329 (Jnode 84)\\n',\n",
       " 't_n78          3.3419 ( 2.5525,  4.1104) ( 2.5535,  4.1109)  1.5574 (Jnode 83)\\n',\n",
       " 't_n79          3.2281 ( 2.4626,  3.9832) ( 2.4496,  3.9636)  1.5141 (Jnode 82)\\n',\n",
       " 't_n80          3.0132 ( 2.2929,  3.7250) ( 2.2914,  3.7200)  1.4286 (Jnode 81)\\n',\n",
       " 't_n81          2.7538 ( 2.0894,  3.4209) ( 2.0701,  3.3961)  1.3261 (Jnode 80)\\n',\n",
       " 't_n82          2.6760 ( 2.0261,  3.3335) ( 2.0032,  3.3064)  1.3033 (Jnode 79)\\n',\n",
       " 't_n83          2.3127 ( 1.7369,  2.9087) ( 1.7212,  2.8847)  1.1635 (Jnode 78)\\n',\n",
       " 't_n84          2.1012 ( 1.5687,  2.6532) ( 1.5440,  2.6202)  1.0762 (Jnode 77)\\n',\n",
       " 't_n85          1.9221 ( 1.4267,  2.4382) ( 1.4181,  2.4253)  1.0072 (Jnode 76)\\n',\n",
       " 't_n86          1.4259 ( 1.0320,  1.8510) ( 1.0292,  1.8469)  0.8177 (Jnode 75)\\n',\n",
       " 't_n87          1.3156 ( 0.9458,  1.7222) ( 0.9323,  1.7063)  0.7740 (Jnode 74)\\n',\n",
       " 't_n88          2.3308 ( 1.7464,  2.9336) ( 1.7475,  2.9342)  1.1868 (Jnode 73)\\n',\n",
       " 't_n89          1.8703 ( 1.3597,  2.4050) ( 1.3558,  2.3986)  1.0428 (Jnode 72)\\n',\n",
       " 't_n90          3.4434 ( 2.6303,  4.2360) ( 2.6175,  4.2151)  1.5976 (Jnode 71)\\n',\n",
       " 't_n91          0.6992 ( 0.3489,  1.1643) ( 0.3161,  1.1107)  0.7946 (Jnode 70)\\n',\n",
       " 't_n92          3.3626 ( 2.5700,  4.1427) ( 2.5322,  4.1004)  1.5682 (Jnode 69)\\n',\n",
       " 't_n93          3.1347 ( 2.3946,  3.8703) ( 2.3803,  3.8519)  1.4716 (Jnode 68)\\n',\n",
       " 't_n94          2.7704 ( 2.1047,  3.4441) ( 2.1133,  3.4503)  1.3370 (Jnode 67)\\n',\n",
       " 't_n95          2.5670 ( 1.9381,  3.2116) ( 1.9224,  3.1892)  1.2668 (Jnode 66)\\n',\n",
       " 't_n96          1.8634 ( 1.3481,  2.4192) ( 1.3366,  2.4033)  1.0667 (Jnode 65)\\n',\n",
       " 't_n97          2.1439 ( 1.5886,  2.7186) ( 1.5837,  2.7122)  1.1285 (Jnode 64)\\n',\n",
       " 't_n98          2.6594 ( 2.0122,  3.3238) ( 1.9998,  3.3043)  1.3045 (Jnode 63)\\n',\n",
       " 't_n99          2.5627 ( 1.9343,  3.2131) ( 1.8978,  3.1686)  1.2708 (Jnode 62)\\n',\n",
       " 't_n100         2.3873 ( 1.7878,  3.0087) ( 1.7653,  2.9832)  1.2180 (Jnode 61)\\n',\n",
       " 't_n101         1.7077 ( 1.1979,  2.2562) ( 1.1834,  2.2385)  1.0551 (Jnode 60)\\n',\n",
       " 't_n102         2.2946 ( 1.6626,  2.9559) ( 1.6616,  2.9538)  1.2922 (Jnode 59)\\n',\n",
       " 't_n103         4.1833 ( 3.2099,  5.1046) ( 3.1906,  5.0805)  1.8898 (Jnode 58)\\n',\n",
       " 't_n104         2.9574 ( 2.0664,  3.8464) ( 2.0346,  3.8103)  1.7757 (Jnode 57)\\n',\n",
       " 't_n105         1.7556 ( 1.0818,  2.5218) ( 1.0670,  2.5047)  1.4377 (Jnode 56)\\n',\n",
       " 't_n106         1.3563 ( 0.7047,  2.1351) ( 0.6682,  2.0807)  1.4125 (Jnode 55)\\n',\n",
       " 't_n107         4.3924 ( 2.8678,  5.9578) ( 2.8571,  5.9439)  3.0868 (Jnode 54)\\n']"
      ]
     },
     "execution_count": 2,
     "metadata": {},
     "output_type": "execute_result"
    }
   ],
   "execution_count": 2
  },
  {
   "metadata": {
    "ExecuteTime": {
     "end_time": "2024-10-08T16:00:29.669335Z",
     "start_time": "2024-10-08T16:00:29.666032Z"
    }
   },
   "cell_type": "code",
   "source": [
    "node_name = []\n",
    "posterior_mean_iqtree = []\n",
    "posterior_mean_baseml = []\n",
    "\n",
    "posterior_mean_mu_iqtree = []\n",
    "posterior_mean_mu_baseml = []\n",
    "\n",
    "posterior_mean_var_iqtree = []\n",
    "posterior_mean_var_baseml = []\n",
    "\n",
    "lower_ci_iqtree = []\n",
    "upper_ci_iqtree = []\n",
    "\n",
    "lower_ci_mu_iqtree = []\n",
    "upper_ci_mu_iqtree = []\n",
    "\n",
    "lower_ci_var_iqtree = []\n",
    "upper_ci_var_iqtree = []\n",
    "\n",
    "# Credible intervals for McmcDate\n",
    "lower_ci_baseml = []\n",
    "upper_ci_baseml = []\n",
    "\n",
    "lower_ci_mu_baseml = []\n",
    "upper_ci_mu_baseml = []\n",
    "\n",
    "lower_ci_var_baseml = []\n",
    "upper_ci_var_baseml = []"
   ],
   "id": "e5cf93a69d327e61",
   "outputs": [],
   "execution_count": 3
  },
  {
   "metadata": {
    "ExecuteTime": {
     "end_time": "2024-10-08T16:00:29.719350Z",
     "start_time": "2024-10-08T16:00:29.714302Z"
    }
   },
   "cell_type": "code",
   "source": [
    "for line in data:\n",
    "    line = line.strip().split()\n",
    "    node_name.append(line[0])\n",
    "    posterior_mean_iqtree.append(float(line[1]))\n",
    "#     if line[3].startswith('('):\n",
    "#         lower_ci_iqtree.append(float(line[3][1:-1]))\n",
    "#     else:\n",
    "#         lower_ci_iqtree.append(float(line[3][1:-1]))\n",
    "#     if line[4].startswith('('):\n",
    "#         upper_ci_iqtree.append(float(line[4][1:-1]))\n",
    "#     else:\n",
    "#         upper_ci_iqtree.append(float(line[4][:-1]))\n",
    "#     # posterior_mean_baseml.append(float(line[4]))\n",
    "#     # lower_ci_baseml.append(float(line[5]))\n",
    "#     # upper_ci_baseml.append(float(line[6]))\n",
    "# \n",
    "# for line in mu_data:\n",
    "#     line = line.strip().split()\n",
    "#     # node_name.append(line[0])\n",
    "#     posterior_mean_mu_iqtree.append(float(line[1]))\n",
    "#     lower_ci_mu_iqtree.append(float(line[3][:-1]))\n",
    "#     upper_ci_mu_iqtree.append(float(line[4][:-1]))\n",
    "#\n",
    "# for line in var_data:\n",
    "#     line = line.strip().split()\n",
    "#     # node_name.append(line[0])\n",
    "#     posterior_mean_var_iqtree.append(float(line[1]))\n",
    "#     lower_ci_var_iqtree.append(float(line[3][:-1]))\n",
    "#     upper_ci_var_iqtree.append(float(line[4][:-1]))"
   ],
   "id": "4e79ee928ea76b59",
   "outputs": [],
   "execution_count": 4
  },
  {
   "metadata": {
    "ExecuteTime": {
     "end_time": "2024-10-08T16:00:29.773026Z",
     "start_time": "2024-10-08T16:00:29.768166Z"
    }
   },
   "cell_type": "code",
   "source": "node_name",
   "id": "2c17f55ec9626a0b",
   "outputs": [
    {
     "data": {
      "text/plain": [
       "['t_n55',\n",
       " 't_n56',\n",
       " 't_n57',\n",
       " 't_n58',\n",
       " 't_n59',\n",
       " 't_n60',\n",
       " 't_n61',\n",
       " 't_n62',\n",
       " 't_n63',\n",
       " 't_n64',\n",
       " 't_n65',\n",
       " 't_n66',\n",
       " 't_n67',\n",
       " 't_n68',\n",
       " 't_n69',\n",
       " 't_n70',\n",
       " 't_n71',\n",
       " 't_n72',\n",
       " 't_n73',\n",
       " 't_n74',\n",
       " 't_n75',\n",
       " 't_n76',\n",
       " 't_n77',\n",
       " 't_n78',\n",
       " 't_n79',\n",
       " 't_n80',\n",
       " 't_n81',\n",
       " 't_n82',\n",
       " 't_n83',\n",
       " 't_n84',\n",
       " 't_n85',\n",
       " 't_n86',\n",
       " 't_n87',\n",
       " 't_n88',\n",
       " 't_n89',\n",
       " 't_n90',\n",
       " 't_n91',\n",
       " 't_n92',\n",
       " 't_n93',\n",
       " 't_n94',\n",
       " 't_n95',\n",
       " 't_n96',\n",
       " 't_n97',\n",
       " 't_n98',\n",
       " 't_n99',\n",
       " 't_n100',\n",
       " 't_n101',\n",
       " 't_n102',\n",
       " 't_n103',\n",
       " 't_n104',\n",
       " 't_n105',\n",
       " 't_n106',\n",
       " 't_n107']"
      ]
     },
     "execution_count": 5,
     "metadata": {},
     "output_type": "execute_result"
    }
   ],
   "execution_count": 5
  },
  {
   "metadata": {
    "ExecuteTime": {
     "end_time": "2024-10-08T16:00:29.832543Z",
     "start_time": "2024-10-08T16:00:29.828979Z"
    }
   },
   "cell_type": "code",
   "source": "posterior_mean_iqtree",
   "id": "24a55c806a41f33e",
   "outputs": [
    {
     "data": {
      "text/plain": [
       "[5.8734,\n",
       " 5.079,\n",
       " 4.7176,\n",
       " 3.8719,\n",
       " 3.7399,\n",
       " 3.5599,\n",
       " 3.2918,\n",
       " 1.4115,\n",
       " 2.2466,\n",
       " 1.5865,\n",
       " 1.3937,\n",
       " 1.0742,\n",
       " 0.7213,\n",
       " 0.479,\n",
       " 0.2052,\n",
       " 1.656,\n",
       " 3.6456,\n",
       " 3.5306,\n",
       " 3.2818,\n",
       " 2.2759,\n",
       " 2.0349,\n",
       " 1.7616,\n",
       " 3.5132,\n",
       " 3.3419,\n",
       " 3.2281,\n",
       " 3.0132,\n",
       " 2.7538,\n",
       " 2.676,\n",
       " 2.3127,\n",
       " 2.1012,\n",
       " 1.9221,\n",
       " 1.4259,\n",
       " 1.3156,\n",
       " 2.3308,\n",
       " 1.8703,\n",
       " 3.4434,\n",
       " 0.6992,\n",
       " 3.3626,\n",
       " 3.1347,\n",
       " 2.7704,\n",
       " 2.567,\n",
       " 1.8634,\n",
       " 2.1439,\n",
       " 2.6594,\n",
       " 2.5627,\n",
       " 2.3873,\n",
       " 1.7077,\n",
       " 2.2946,\n",
       " 4.1833,\n",
       " 2.9574,\n",
       " 1.7556,\n",
       " 1.3563,\n",
       " 4.3924]"
      ]
     },
     "execution_count": 6,
     "metadata": {},
     "output_type": "execute_result"
    }
   ],
   "execution_count": 6
  },
  {
   "metadata": {
    "ExecuteTime": {
     "end_time": "2024-10-08T16:00:29.893583Z",
     "start_time": "2024-10-08T16:00:29.888927Z"
    }
   },
   "cell_type": "code",
   "source": "lower_ci_iqtree",
   "id": "388aa27ad336d43f",
   "outputs": [
    {
     "data": {
      "text/plain": [
       "[]"
      ]
     },
     "execution_count": 7,
     "metadata": {},
     "output_type": "execute_result"
    }
   ],
   "execution_count": 7
  },
  {
   "metadata": {
    "ExecuteTime": {
     "end_time": "2024-10-08T16:00:29.957042Z",
     "start_time": "2024-10-08T16:00:29.952257Z"
    }
   },
   "cell_type": "code",
   "source": "upper_ci_iqtree",
   "id": "816e569fb763e797",
   "outputs": [
    {
     "data": {
      "text/plain": [
       "[]"
      ]
     },
     "execution_count": 8,
     "metadata": {},
     "output_type": "execute_result"
    }
   ],
   "execution_count": 8
  },
  {
   "metadata": {
    "ExecuteTime": {
     "end_time": "2024-10-08T16:00:30.022023Z",
     "start_time": "2024-10-08T16:00:30.013547Z"
    }
   },
   "cell_type": "code",
   "source": [
    "file_LG = open(\"LG_ro_out.txt\", \"r\")\n",
    "lines1 = file_LG.readlines()\n",
    "file_LG.close()\n",
    "\n",
    "# Extract the data\n",
    "data1 = []\n",
    "mu_data1 = []\n",
    "var_data1 = []\n",
    "\n",
    "read_flag = False\n",
    "for line in lines1:\n",
    "    if line.startswith(\"Posterior\"):\n",
    "        read_flag = True\n",
    "    if read_flag and line.startswith(\"t\"):\n",
    "        data1.append(line)\n",
    "    if read_flag and line.startswith(\"mu\"):\n",
    "        mu_data1.append(line)\n",
    "    if read_flag and line.startswith(\"sigma\"):\n",
    "        var_data1.append(line)\n",
    "\n",
    "        \n",
    "for line in data1:\n",
    "    line = line.strip().split()\n",
    "    # node_name.append(line[0])\n",
    "    posterior_mean_baseml.append(float(line[1]))\n",
    "#     if line[3].startswith('('):\n",
    "#         lower_ci_baseml.append(float(line[3][1:-1]))\n",
    "#     else:\n",
    "#          lower_ci_baseml.append(float(line[3][:-1]))\n",
    "#     if line[4].startswith('('):\n",
    "#         upper_ci_baseml.append(float(line[4][1:-1]))\n",
    "#     else:\n",
    "#          upper_ci_baseml.append(float(line[4][:-1]))\n",
    "#         \n",
    "#     \n",
    "# for line in mu_data1:\n",
    "#     line = line.strip().split()\n",
    "#     # node_name.append(line[0])\n",
    "#     posterior_mean_mu_baseml.append(float(line[1]))\n",
    "#     lower_ci_mu_baseml.append(float(line[3][:-1]))\n",
    "#     upper_ci_mu_baseml.append(float(line[4][:-1]))\n",
    "    \n",
    "# for line in var_data1:\n",
    "#     line = line.strip().split()\n",
    "#     # node_name.append(line[0])\n",
    "#     posterior_mean_var_baseml.append(float(line[1]))\n",
    "#     lower_ci_var_baseml.append(float(line[3][:-1]))\n",
    "#     upper_ci_var_baseml.append(float(line[4][:-1]))"
   ],
   "id": "f75c012c6bef60a2",
   "outputs": [],
   "execution_count": 9
  },
  {
   "metadata": {
    "ExecuteTime": {
     "end_time": "2024-10-08T16:00:30.073446Z",
     "start_time": "2024-10-08T16:00:30.068325Z"
    }
   },
   "cell_type": "code",
   "source": [
    "import matplotlib.pyplot as plt\n",
    "import numpy as np\n",
    "\n",
    "# # Example data\n",
    "# # Posterior means for MCMCtree (x-axis) and McmcDate (y-axis)\n",
    "# posterior_mean_mcmctree = [100, 200, 300, 400, 500, 600, 700, 800, 900, 1000]\n",
    "# posterior_mean_mcmcdate = [110, 210, 310, 410, 510, 610, 710, 810, 910, 1010]\n",
    "# \n",
    "# # Credible intervals for MCMCtree\n",
    "# lower_ci_mcmctree = [90, 180, 270, 360, 450, 540, 630, 720, 810, 900]\n",
    "# upper_ci_mcmctree = [110, 220, 330, 440, 550, 660, 770, 880, 990, 1100]\n",
    "# \n",
    "# # Credible intervals for McmcDate\n",
    "# lower_ci_mcmcdate = [100, 200, 300, 400, 500, 600, 700, 800, 900, 1000]\n",
    "# upper_ci_mcmcdate = [120, 220, 320, 420, 520, 620, 720, 820, 920, 1020]\n",
    "\n",
    "# Calculate error bars\n",
    "# xerr = [np.array(lower_ci_baseml), \n",
    "#         np.array(upper_ci_baseml)]\n",
    "# yerr = [np.array(lower_ci_iqtree), \n",
    "#         np.array(upper_ci_iqtree)]\n",
    "# \n",
    "# # Plotting\n",
    "# fig, ax = plt.subplots(figsize=(15, 15))\n",
    "# ax.plot([-0.1,90], \n",
    "#         [-0.1, 90], \n",
    "#         'k--', label='y=x')\n",
    "# ax.errorbar(posterior_mean_baseml, posterior_mean_iqtree, \n",
    "#             xerr=xerr, yerr=yerr, fmt='*', ecolor='r', capsize=3, label='95% HPD CI')\n",
    "# \n",
    "# # Labels and title\n",
    "# ax.set_xlabel('Posterior mean age LG [100 Mya]', fontsize=18)\n",
    "# ax.set_ylabel('Posterior mean age LG+G4 [100 Mya]', fontsize=18)\n",
    "# ax.set_title('Posterior mean age comparison between LG and LG+G4 models [t116 ~ B(1.25,2.482)]')\n",
    "# ax.legend()\n",
    "# \n",
    "# # Show plot\n",
    "# # plt.show()\n",
    "# plt.savefig('./animal_origin_posterior_mean_age_comparison_LG_G4_c11.png')"
   ],
   "id": "12db486fa4fac82c",
   "outputs": [],
   "execution_count": 10
  },
  {
   "metadata": {
    "ExecuteTime": {
     "end_time": "2024-10-08T16:00:30.134867Z",
     "start_time": "2024-10-08T16:00:30.126952Z"
    }
   },
   "cell_type": "code",
   "source": "posterior_mean_baseml",
   "id": "917b2e31cff4b992",
   "outputs": [
    {
     "data": {
      "text/plain": [
       "[5.9172,\n",
       " 5.4019,\n",
       " 4.6947,\n",
       " 3.8165,\n",
       " 3.5899,\n",
       " 3.325,\n",
       " 2.9569,\n",
       " 1.4217,\n",
       " 2.0881,\n",
       " 1.4757,\n",
       " 1.2412,\n",
       " 0.9299,\n",
       " 0.6148,\n",
       " 0.4064,\n",
       " 0.1729,\n",
       " 1.5442,\n",
       " 3.3662,\n",
       " 2.7291,\n",
       " 2.9592,\n",
       " 2.0925,\n",
       " 1.7722,\n",
       " 1.7063,\n",
       " 3.3786,\n",
       " 3.1128,\n",
       " 2.9332,\n",
       " 2.7117,\n",
       " 2.4397,\n",
       " 2.3024,\n",
       " 1.9466,\n",
       " 1.7147,\n",
       " 1.5039,\n",
       " 1.119,\n",
       " 0.9497,\n",
       " 2.0298,\n",
       " 1.5784,\n",
       " 3.2441,\n",
       " 0.8506,\n",
       " 3.0986,\n",
       " 2.8129,\n",
       " 2.4121,\n",
       " 2.1489,\n",
       " 1.5437,\n",
       " 1.6643,\n",
       " 2.3331,\n",
       " 2.1213,\n",
       " 1.7913,\n",
       " 1.5419,\n",
       " 2.0126,\n",
       " 4.0587,\n",
       " 2.9336,\n",
       " 1.7673,\n",
       " 1.6036,\n",
       " 4.5039]"
      ]
     },
     "execution_count": 11,
     "metadata": {},
     "output_type": "execute_result"
    }
   ],
   "execution_count": 11
  },
  {
   "metadata": {
    "ExecuteTime": {
     "end_time": "2024-10-08T16:00:30.202124Z",
     "start_time": "2024-10-08T16:00:30.195525Z"
    }
   },
   "cell_type": "code",
   "source": "posterior_mean_iqtree",
   "id": "59ad8fd34f7bbf11",
   "outputs": [
    {
     "data": {
      "text/plain": [
       "[5.8734,\n",
       " 5.079,\n",
       " 4.7176,\n",
       " 3.8719,\n",
       " 3.7399,\n",
       " 3.5599,\n",
       " 3.2918,\n",
       " 1.4115,\n",
       " 2.2466,\n",
       " 1.5865,\n",
       " 1.3937,\n",
       " 1.0742,\n",
       " 0.7213,\n",
       " 0.479,\n",
       " 0.2052,\n",
       " 1.656,\n",
       " 3.6456,\n",
       " 3.5306,\n",
       " 3.2818,\n",
       " 2.2759,\n",
       " 2.0349,\n",
       " 1.7616,\n",
       " 3.5132,\n",
       " 3.3419,\n",
       " 3.2281,\n",
       " 3.0132,\n",
       " 2.7538,\n",
       " 2.676,\n",
       " 2.3127,\n",
       " 2.1012,\n",
       " 1.9221,\n",
       " 1.4259,\n",
       " 1.3156,\n",
       " 2.3308,\n",
       " 1.8703,\n",
       " 3.4434,\n",
       " 0.6992,\n",
       " 3.3626,\n",
       " 3.1347,\n",
       " 2.7704,\n",
       " 2.567,\n",
       " 1.8634,\n",
       " 2.1439,\n",
       " 2.6594,\n",
       " 2.5627,\n",
       " 2.3873,\n",
       " 1.7077,\n",
       " 2.2946,\n",
       " 4.1833,\n",
       " 2.9574,\n",
       " 1.7556,\n",
       " 1.3563,\n",
       " 4.3924]"
      ]
     },
     "execution_count": 12,
     "metadata": {},
     "output_type": "execute_result"
    }
   ],
   "execution_count": 12
  },
  {
   "metadata": {
    "ExecuteTime": {
     "end_time": "2024-10-08T16:00:30.571069Z",
     "start_time": "2024-10-08T16:00:30.397205Z"
    }
   },
   "cell_type": "code",
   "source": [
    "# Calculate error bars\n",
    "xerr = [np.array(lower_ci_baseml), \n",
    "        np.array(upper_ci_baseml)]\n",
    "yerr = [np.array(lower_ci_iqtree), \n",
    "        np.array(upper_ci_iqtree)]\n",
    "\n",
    "# Plotting\n",
    "fig, ax = plt.subplots(figsize=(9 ,9))\n",
    "ax.plot([-0.1,17], \n",
    "        [-0.1, 17], \n",
    "        'k--', label='y=x')\n",
    "ax.plot(posterior_mean_baseml, posterior_mean_iqtree, 'o', label='Posterior mean age')\n",
    " \n",
    "# Labels and title\n",
    "ax.set_xlabel('Posterior mean age LG [Mya]', fontsize=18)\n",
    "ax.set_ylabel('Posterior mean age LG+G4+C60 [Mya]', fontsize=18)\n",
    "ax.set_title('Posterior mean age comparison between LG and LG+G4 [root only calibration]')\n",
    "ax.legend()\n",
    "\n",
    "# point_x = posterior_mean_baseml[0]  # Example: first point in the list\n",
    "# point_y = posterior_mean_iqtree[0]  # Example: first point in the list\n",
    "# ax.annotate('Root age', xy=(point_x, point_y), xytext=(point_x - 0.1, point_y - 0.1), color='red')\n",
    "# Show plot\n",
    "# plt.show()\n",
    "plt.savefig('./metazoa_posterior_mean_age_comparison_LG_G4_C60_ro_scatter.png')"
   ],
   "id": "592d0bb72aa1ad4c",
   "outputs": [
    {
     "data": {
      "text/plain": [
       "<Figure size 900x900 with 1 Axes>"
      ],
      "image/png": "[encoded data removed]"
     },
     "metadata": {},
     "output_type": "display_data"
    }
   ],
   "execution_count": 13
  },
  {
   "metadata": {
    "ExecuteTime": {
     "end_time": "2024-10-08T16:00:30.579444Z",
     "start_time": "2024-10-08T16:00:30.577413Z"
    }
   },
   "cell_type": "code",
   "source": [
    "# fig, ax = plt.subplots(figsize=(9 ,9))\n",
    "# ax.plot([0.01,0.04], \n",
    "#         [0.01, 0.04], \n",
    "#         'k--', label='y=x')\n",
    "# ax.plot(posterior_mean_mu_baseml, posterior_mean_mu_iqtree, 'o', label='Posterior mean rates for partitions')\n",
    "#  \n",
    "# # Labels and title\n",
    "# ax.set_xlabel('Posterior mean rate [LG]', fontsize=18)\n",
    "# ax.set_ylabel('Posterior mean rate [LG+G4]', fontsize=18)\n",
    "# ax.set_title('Posterior mean rate comparison between LG and LG+G4 [Cherry only calibration/IQ-TREE]')\n",
    "# ax.legend()\n",
    "# \n",
    "# # point_x = posterior_mean_baseml[0]  # Example: first point in the list\n",
    "# # point_y = posterior_mean_iqtree[0]  # Example: first point in the list\n",
    "# # ax.annotate('Root age', xy=(point_x, point_y), xytext=(point_x - 0.1, point_y - 0.1), color='red')\n",
    "# # Show plot\n",
    "# # plt.show()\n",
    "# plt.savefig('./animal_origin__posterior_mean_rate_comparison_LG_G4_all_scatter.png')"
   ],
   "id": "c6d69ee36c77970c",
   "outputs": [],
   "execution_count": 14
  },
  {
   "metadata": {
    "ExecuteTime": {
     "end_time": "2024-10-08T16:00:30.624471Z",
     "start_time": "2024-10-08T16:00:30.622545Z"
    }
   },
   "cell_type": "code",
   "source": "",
   "id": "ca69d5b521db3aa7",
   "outputs": [],
   "execution_count": null
  }
 ],
 "metadata": {
  "kernelspec": {
   "display_name": "Python 3",
   "language": "python",
   "name": "python3"
  },
  "language_info": {
   "codemirror_mode": {
    "name": "ipython",
    "version": 2
   },
   "file_extension": ".py",
   "mimetype": "text/x-python",
   "name": "python",
   "nbconvert_exporter": "python",
   "pygments_lexer": "ipython2",
   "version": "2.7.6"
  }
 },
 "nbformat": 4,
 "nbformat_minor": 5
}
