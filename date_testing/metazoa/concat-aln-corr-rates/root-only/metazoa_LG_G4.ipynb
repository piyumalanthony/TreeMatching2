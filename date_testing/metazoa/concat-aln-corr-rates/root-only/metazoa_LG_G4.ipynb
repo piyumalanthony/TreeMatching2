{
 "cells": [
  {
   "cell_type": "code",
   "id": "initial_id",
   "metadata": {
    "collapsed": true,
    "ExecuteTime": {
     "end_time": "2024-10-08T15:58:06.653468Z",
     "start_time": "2024-10-08T15:58:06.304258Z"
    }
   },
   "source": [
    "# Code to get all the Posterior mean (95% Equal-tail CI) (95% HPD CI) HPD-CI-width from ./xenarthra_mcmc_out.txt\n",
    "import numpy as np\n",
    "import pandas as pd\n",
    "import matplotlib.pyplot as plt\n",
    "\n",
    "\n",
    "# Read the file\n",
    "file = open(\"LG_G4_ro_out.txt\", \"r\")\n",
    "lines = file.readlines()\n",
    "file.close()\n",
    "\n",
    "# Extract the data\n",
    "data = []\n",
    "mu_data = []\n",
    "var_data = []\n",
    "\n",
    "read_flag = False\n",
    "for line in lines:\n",
    "    if line.startswith(\"Posterior\"):\n",
    "        read_flag = True\n",
    "    if read_flag and line.startswith(\"t\"):\n",
    "        data.append(line)\n",
    "    if read_flag and line.startswith(\"mu\"):\n",
    "        mu_data.append(line)\n",
    "    if read_flag and line.startswith(\"sigma\"):\n",
    "        var_data.append(line)"
   ],
   "outputs": [],
   "execution_count": 1
  },
  {
   "metadata": {
    "ExecuteTime": {
     "end_time": "2024-10-08T15:58:06.665689Z",
     "start_time": "2024-10-08T15:58:06.661147Z"
    }
   },
   "cell_type": "code",
   "source": "data",
   "id": "54808ee54195795",
   "outputs": [
    {
     "data": {
      "text/plain": [
       "['t_n55          5.8919 ( 5.5344,  6.9217) ( 5.5157,  6.6566)  1.1409 (Jnode 106)\\n',\n",
       " 't_n56          5.2663 ( 4.2413,  6.3214) ( 4.2104,  6.2788)  2.0683 (Jnode 105)\\n',\n",
       " 't_n57          4.7318 ( 3.7634,  5.7021) ( 3.7108,  5.6284)  1.9177 (Jnode 104)\\n',\n",
       " 't_n58          3.8406 ( 3.0064,  4.6533) ( 3.0027,  4.6469)  1.6442 (Jnode 103)\\n',\n",
       " 't_n59          3.6618 ( 2.8593,  4.4508) ( 2.8316,  4.4134)  1.5818 (Jnode 102)\\n',\n",
       " 't_n60          3.4510 ( 2.6909,  4.2071) ( 2.6461,  4.1542)  1.5081 (Jnode 101)\\n',\n",
       " 't_n61          3.1280 ( 2.4247,  3.8327) ( 2.3995,  3.8017)  1.4022 (Jnode 100)\\n',\n",
       " 't_n62          1.4287 ( 0.9220,  1.9805) ( 0.9197,  1.9750)  1.0553 (Jnode 99)\\n',\n",
       " 't_n63          2.1872 ( 1.6407,  2.7678) ( 1.6150,  2.7377)  1.1227 (Jnode 98)\\n',\n",
       " 't_n64          1.5569 ( 1.1302,  2.0208) ( 1.1109,  1.9927)  0.8818 (Jnode 97)\\n',\n",
       " 't_n65          1.3402 ( 0.9639,  1.7557) ( 0.9462,  1.7309)  0.7847 (Jnode 96)\\n',\n",
       " 't_n66          1.0273 ( 0.7282,  1.3709) ( 0.7072,  1.3459)  0.6387 (Jnode 95)\\n',\n",
       " 't_n67          0.6887 ( 0.4783,  0.9421) ( 0.4703,  0.9296)  0.4593 (Jnode 94)\\n',\n",
       " 't_n68          0.4541 ( 0.3091,  0.6323) ( 0.3022,  0.6204)  0.3182 (Jnode 93)\\n',\n",
       " 't_n69          0.1950 ( 0.1275,  0.2837) ( 0.1232,  0.2773)  0.1541 (Jnode 92)\\n',\n",
       " 't_n70          1.6216 ( 1.1765,  2.1146) ( 1.1496,  2.0849)  0.9354 (Jnode 91)\\n',\n",
       " 't_n71          3.5048 ( 2.7327,  4.2674) ( 2.7012,  4.2245)  1.5233 (Jnode 90)\\n',\n",
       " 't_n72          3.0725 ( 2.3775,  3.7745) ( 2.3573,  3.7486)  1.3914 (Jnode 89)\\n',\n",
       " 't_n73          3.1183 ( 2.4169,  3.8170) ( 2.3744,  3.7688)  1.3944 (Jnode 88)\\n',\n",
       " 't_n74          2.1845 ( 1.6118,  2.7792) ( 1.6129,  2.7796)  1.1667 (Jnode 87)\\n',\n",
       " 't_n75          1.8968 ( 1.3740,  2.4503) ( 1.3668,  2.4415)  1.0746 (Jnode 86)\\n',\n",
       " 't_n76          1.7419 ( 1.1768,  2.3533) ( 1.1482,  2.3143)  1.1661 (Jnode 85)\\n',\n",
       " 't_n77          3.4225 ( 2.6652,  4.1665) ( 2.6197,  4.1195)  1.4998 (Jnode 84)\\n',\n",
       " 't_n78          3.1979 ( 2.4828,  3.9075) ( 2.4558,  3.8721)  1.4163 (Jnode 83)\\n',\n",
       " 't_n79          3.0465 ( 2.3629,  3.7305) ( 2.3445,  3.7081)  1.3636 (Jnode 82)\\n',\n",
       " 't_n80          2.8513 ( 2.2073,  3.5001) ( 2.1946,  3.4809)  1.2862 (Jnode 81)\\n',\n",
       " 't_n81          2.5839 ( 1.9897,  3.1916) ( 1.9657,  3.1621)  1.1964 (Jnode 80)\\n',\n",
       " 't_n82          2.4764 ( 1.9006,  3.0585) ( 1.8840,  3.0366)  1.1526 (Jnode 79)\\n',\n",
       " 't_n83          2.1171 ( 1.6114,  2.6429) ( 1.6043,  2.6305)  1.0262 (Jnode 78)\\n',\n",
       " 't_n84          1.9064 ( 1.4455,  2.3957) ( 1.4381,  2.3833)  0.9452 (Jnode 77)\\n',\n",
       " 't_n85          1.7114 ( 1.2886,  2.1610) ( 1.2789,  2.1486)  0.8698 (Jnode 76)\\n',\n",
       " 't_n86          1.2820 ( 0.9460,  1.6552) ( 0.9348,  1.6363)  0.7016 (Jnode 75)\\n',\n",
       " 't_n87          1.1315 ( 0.8265,  1.4709) ( 0.8159,  1.4563)  0.6403 (Jnode 74)\\n',\n",
       " 't_n88          2.1761 ( 1.6597,  2.7138) ( 1.6540,  2.7010)  1.0470 (Jnode 73)\\n',\n",
       " 't_n89          1.7115 ( 1.2711,  2.1844) ( 1.2534,  2.1595)  0.9062 (Jnode 72)\\n',\n",
       " 't_n90          3.3236 ( 2.5823,  4.0488) ( 2.5464,  4.0077)  1.4613 (Jnode 71)\\n',\n",
       " 't_n91          0.7823 ( 0.4276,  1.2398) ( 0.4015,  1.2022)  0.8008 (Jnode 70)\\n',\n",
       " 't_n92          3.2118 ( 2.4948,  3.9211) ( 2.4808,  3.8992)  1.4185 (Jnode 69)\\n',\n",
       " 't_n93          2.9484 ( 2.2856,  3.6106) ( 2.2623,  3.5802)  1.3179 (Jnode 68)\\n',\n",
       " 't_n94          2.5695 ( 1.9734,  3.1697) ( 1.9419,  3.1363)  1.1944 (Jnode 67)\\n',\n",
       " 't_n95          2.3318 ( 1.7780,  2.8982) ( 1.7596,  2.8716)  1.1120 (Jnode 66)\\n',\n",
       " 't_n96          1.6877 ( 1.2372,  2.1574) ( 1.2127,  2.1278)  0.9151 (Jnode 65)\\n',\n",
       " 't_n97          1.8718 ( 1.4016,  2.3667) ( 1.4043,  2.3683)  0.9640 (Jnode 64)\\n',\n",
       " 't_n98          2.4745 ( 1.9007,  3.0584) ( 1.8698,  3.0222)  1.1524 (Jnode 63)\\n',\n",
       " 't_n99          2.3267 ( 1.7814,  2.8827) ( 1.7660,  2.8637)  1.0977 (Jnode 62)\\n',\n",
       " 't_n100         2.0561 ( 1.5579,  2.5693) ( 1.5523,  2.5625)  1.0102 (Jnode 61)\\n',\n",
       " 't_n101         1.6275 ( 1.1758,  2.1130) ( 1.1658,  2.1005)  0.9346 (Jnode 60)\\n',\n",
       " 't_n102         2.0856 ( 1.5217,  2.6736) ( 1.5053,  2.6539)  1.1486 (Jnode 59)\\n',\n",
       " 't_n103         4.1620 ( 3.2620,  5.0483) ( 3.2715,  5.0547)  1.7832 (Jnode 58)\\n',\n",
       " 't_n104         3.0114 ( 2.2017,  3.8286) ( 2.2045,  3.8306)  1.6261 (Jnode 57)\\n',\n",
       " 't_n105         1.8270 ( 1.1953,  2.5434) ( 1.1776,  2.5235)  1.3459 (Jnode 56)\\n',\n",
       " 't_n106         1.5126 ( 0.8647,  2.2803) ( 0.8240,  2.2280)  1.4040 (Jnode 55)\\n',\n",
       " 't_n107         4.4845 ( 3.1514,  5.9790) ( 3.1249,  5.9282)  2.8033 (Jnode 54)\\n']"
      ]
     },
     "execution_count": 2,
     "metadata": {},
     "output_type": "execute_result"
    }
   ],
   "execution_count": 2
  },
  {
   "metadata": {
    "ExecuteTime": {
     "end_time": "2024-10-08T15:58:06.713709Z",
     "start_time": "2024-10-08T15:58:06.710789Z"
    }
   },
   "cell_type": "code",
   "source": [
    "node_name = []\n",
    "posterior_mean_iqtree = []\n",
    "posterior_mean_baseml = []\n",
    "\n",
    "posterior_mean_mu_iqtree = []\n",
    "posterior_mean_mu_baseml = []\n",
    "\n",
    "posterior_mean_var_iqtree = []\n",
    "posterior_mean_var_baseml = []\n",
    "\n",
    "lower_ci_iqtree = []\n",
    "upper_ci_iqtree = []\n",
    "\n",
    "lower_ci_mu_iqtree = []\n",
    "upper_ci_mu_iqtree = []\n",
    "\n",
    "lower_ci_var_iqtree = []\n",
    "upper_ci_var_iqtree = []\n",
    "\n",
    "# Credible intervals for McmcDate\n",
    "lower_ci_baseml = []\n",
    "upper_ci_baseml = []\n",
    "\n",
    "lower_ci_mu_baseml = []\n",
    "upper_ci_mu_baseml = []\n",
    "\n",
    "lower_ci_var_baseml = []\n",
    "upper_ci_var_baseml = []"
   ],
   "id": "e5cf93a69d327e61",
   "outputs": [],
   "execution_count": 3
  },
  {
   "metadata": {
    "ExecuteTime": {
     "end_time": "2024-10-08T15:58:06.766621Z",
     "start_time": "2024-10-08T15:58:06.760971Z"
    }
   },
   "cell_type": "code",
   "source": [
    "for line in data:\n",
    "    line = line.strip().split()\n",
    "    node_name.append(line[0])\n",
    "    posterior_mean_iqtree.append(float(line[1]))\n",
    "#     if line[3].startswith('('):\n",
    "#         lower_ci_iqtree.append(float(line[3][1:-1]))\n",
    "#     else:\n",
    "#         lower_ci_iqtree.append(float(line[3][1:-1]))\n",
    "#     if line[4].startswith('('):\n",
    "#         upper_ci_iqtree.append(float(line[4][1:-1]))\n",
    "#     else:\n",
    "#         upper_ci_iqtree.append(float(line[4][:-1]))\n",
    "#     # posterior_mean_baseml.append(float(line[4]))\n",
    "#     # lower_ci_baseml.append(float(line[5]))\n",
    "#     # upper_ci_baseml.append(float(line[6]))\n",
    "# \n",
    "# for line in mu_data:\n",
    "#     line = line.strip().split()\n",
    "#     # node_name.append(line[0])\n",
    "#     posterior_mean_mu_iqtree.append(float(line[1]))\n",
    "#     lower_ci_mu_iqtree.append(float(line[3][:-1]))\n",
    "#     upper_ci_mu_iqtree.append(float(line[4][:-1]))\n",
    "#\n",
    "# for line in var_data:\n",
    "#     line = line.strip().split()\n",
    "#     # node_name.append(line[0])\n",
    "#     posterior_mean_var_iqtree.append(float(line[1]))\n",
    "#     lower_ci_var_iqtree.append(float(line[3][:-1]))\n",
    "#     upper_ci_var_iqtree.append(float(line[4][:-1]))"
   ],
   "id": "4e79ee928ea76b59",
   "outputs": [],
   "execution_count": 4
  },
  {
   "metadata": {
    "ExecuteTime": {
     "end_time": "2024-10-08T15:58:06.825394Z",
     "start_time": "2024-10-08T15:58:06.820211Z"
    }
   },
   "cell_type": "code",
   "source": "node_name",
   "id": "2c17f55ec9626a0b",
   "outputs": [
    {
     "data": {
      "text/plain": [
       "['t_n55',\n",
       " 't_n56',\n",
       " 't_n57',\n",
       " 't_n58',\n",
       " 't_n59',\n",
       " 't_n60',\n",
       " 't_n61',\n",
       " 't_n62',\n",
       " 't_n63',\n",
       " 't_n64',\n",
       " 't_n65',\n",
       " 't_n66',\n",
       " 't_n67',\n",
       " 't_n68',\n",
       " 't_n69',\n",
       " 't_n70',\n",
       " 't_n71',\n",
       " 't_n72',\n",
       " 't_n73',\n",
       " 't_n74',\n",
       " 't_n75',\n",
       " 't_n76',\n",
       " 't_n77',\n",
       " 't_n78',\n",
       " 't_n79',\n",
       " 't_n80',\n",
       " 't_n81',\n",
       " 't_n82',\n",
       " 't_n83',\n",
       " 't_n84',\n",
       " 't_n85',\n",
       " 't_n86',\n",
       " 't_n87',\n",
       " 't_n88',\n",
       " 't_n89',\n",
       " 't_n90',\n",
       " 't_n91',\n",
       " 't_n92',\n",
       " 't_n93',\n",
       " 't_n94',\n",
       " 't_n95',\n",
       " 't_n96',\n",
       " 't_n97',\n",
       " 't_n98',\n",
       " 't_n99',\n",
       " 't_n100',\n",
       " 't_n101',\n",
       " 't_n102',\n",
       " 't_n103',\n",
       " 't_n104',\n",
       " 't_n105',\n",
       " 't_n106',\n",
       " 't_n107']"
      ]
     },
     "execution_count": 5,
     "metadata": {},
     "output_type": "execute_result"
    }
   ],
   "execution_count": 5
  },
  {
   "metadata": {
    "ExecuteTime": {
     "end_time": "2024-10-08T15:58:06.888432Z",
     "start_time": "2024-10-08T15:58:06.884335Z"
    }
   },
   "cell_type": "code",
   "source": "posterior_mean_iqtree",
   "id": "24a55c806a41f33e",
   "outputs": [
    {
     "data": {
      "text/plain": [
       "[5.8919,\n",
       " 5.2663,\n",
       " 4.7318,\n",
       " 3.8406,\n",
       " 3.6618,\n",
       " 3.451,\n",
       " 3.128,\n",
       " 1.4287,\n",
       " 2.1872,\n",
       " 1.5569,\n",
       " 1.3402,\n",
       " 1.0273,\n",
       " 0.6887,\n",
       " 0.4541,\n",
       " 0.195,\n",
       " 1.6216,\n",
       " 3.5048,\n",
       " 3.0725,\n",
       " 3.1183,\n",
       " 2.1845,\n",
       " 1.8968,\n",
       " 1.7419,\n",
       " 3.4225,\n",
       " 3.1979,\n",
       " 3.0465,\n",
       " 2.8513,\n",
       " 2.5839,\n",
       " 2.4764,\n",
       " 2.1171,\n",
       " 1.9064,\n",
       " 1.7114,\n",
       " 1.282,\n",
       " 1.1315,\n",
       " 2.1761,\n",
       " 1.7115,\n",
       " 3.3236,\n",
       " 0.7823,\n",
       " 3.2118,\n",
       " 2.9484,\n",
       " 2.5695,\n",
       " 2.3318,\n",
       " 1.6877,\n",
       " 1.8718,\n",
       " 2.4745,\n",
       " 2.3267,\n",
       " 2.0561,\n",
       " 1.6275,\n",
       " 2.0856,\n",
       " 4.162,\n",
       " 3.0114,\n",
       " 1.827,\n",
       " 1.5126,\n",
       " 4.4845]"
      ]
     },
     "execution_count": 6,
     "metadata": {},
     "output_type": "execute_result"
    }
   ],
   "execution_count": 6
  },
  {
   "metadata": {
    "ExecuteTime": {
     "end_time": "2024-10-08T15:58:06.941231Z",
     "start_time": "2024-10-08T15:58:06.938676Z"
    }
   },
   "cell_type": "code",
   "source": "lower_ci_iqtree",
   "id": "388aa27ad336d43f",
   "outputs": [
    {
     "data": {
      "text/plain": [
       "[]"
      ]
     },
     "execution_count": 7,
     "metadata": {},
     "output_type": "execute_result"
    }
   ],
   "execution_count": 7
  },
  {
   "metadata": {
    "ExecuteTime": {
     "end_time": "2024-10-08T15:58:07.001031Z",
     "start_time": "2024-10-08T15:58:06.995833Z"
    }
   },
   "cell_type": "code",
   "source": "upper_ci_iqtree",
   "id": "816e569fb763e797",
   "outputs": [
    {
     "data": {
      "text/plain": [
       "[]"
      ]
     },
     "execution_count": 8,
     "metadata": {},
     "output_type": "execute_result"
    }
   ],
   "execution_count": 8
  },
  {
   "metadata": {
    "ExecuteTime": {
     "end_time": "2024-10-08T15:58:07.059957Z",
     "start_time": "2024-10-08T15:58:07.054946Z"
    }
   },
   "cell_type": "code",
   "source": [
    "file_LG = open(\"LG_ro_out.txt\", \"r\")\n",
    "lines1 = file_LG.readlines()\n",
    "file_LG.close()\n",
    "\n",
    "# Extract the data\n",
    "data1 = []\n",
    "mu_data1 = []\n",
    "var_data1 = []\n",
    "\n",
    "read_flag = False\n",
    "for line in lines1:\n",
    "    if line.startswith(\"Posterior\"):\n",
    "        read_flag = True\n",
    "    if read_flag and line.startswith(\"t\"):\n",
    "        data1.append(line)\n",
    "    if read_flag and line.startswith(\"mu\"):\n",
    "        mu_data1.append(line)\n",
    "    if read_flag and line.startswith(\"sigma\"):\n",
    "        var_data1.append(line)\n",
    "\n",
    "        \n",
    "for line in data1:\n",
    "    line = line.strip().split()\n",
    "    # node_name.append(line[0])\n",
    "    posterior_mean_baseml.append(float(line[1]))\n",
    "#     if line[3].startswith('('):\n",
    "#         lower_ci_baseml.append(float(line[3][1:-1]))\n",
    "#     else:\n",
    "#          lower_ci_baseml.append(float(line[3][:-1]))\n",
    "#     if line[4].startswith('('):\n",
    "#         upper_ci_baseml.append(float(line[4][1:-1]))\n",
    "#     else:\n",
    "#          upper_ci_baseml.append(float(line[4][:-1]))\n",
    "#         \n",
    "#     \n",
    "# for line in mu_data1:\n",
    "#     line = line.strip().split()\n",
    "#     # node_name.append(line[0])\n",
    "#     posterior_mean_mu_baseml.append(float(line[1]))\n",
    "#     lower_ci_mu_baseml.append(float(line[3][:-1]))\n",
    "#     upper_ci_mu_baseml.append(float(line[4][:-1]))\n",
    "    \n",
    "# for line in var_data1:\n",
    "#     line = line.strip().split()\n",
    "#     # node_name.append(line[0])\n",
    "#     posterior_mean_var_baseml.append(float(line[1]))\n",
    "#     lower_ci_var_baseml.append(float(line[3][:-1]))\n",
    "#     upper_ci_var_baseml.append(float(line[4][:-1]))"
   ],
   "id": "f75c012c6bef60a2",
   "outputs": [],
   "execution_count": 9
  },
  {
   "metadata": {
    "ExecuteTime": {
     "end_time": "2024-10-08T15:58:07.111654Z",
     "start_time": "2024-10-08T15:58:07.107669Z"
    }
   },
   "cell_type": "code",
   "source": [
    "import matplotlib.pyplot as plt\n",
    "import numpy as np\n",
    "\n",
    "# # Example data\n",
    "# # Posterior means for MCMCtree (x-axis) and McmcDate (y-axis)\n",
    "# posterior_mean_mcmctree = [100, 200, 300, 400, 500, 600, 700, 800, 900, 1000]\n",
    "# posterior_mean_mcmcdate = [110, 210, 310, 410, 510, 610, 710, 810, 910, 1010]\n",
    "# \n",
    "# # Credible intervals for MCMCtree\n",
    "# lower_ci_mcmctree = [90, 180, 270, 360, 450, 540, 630, 720, 810, 900]\n",
    "# upper_ci_mcmctree = [110, 220, 330, 440, 550, 660, 770, 880, 990, 1100]\n",
    "# \n",
    "# # Credible intervals for McmcDate\n",
    "# lower_ci_mcmcdate = [100, 200, 300, 400, 500, 600, 700, 800, 900, 1000]\n",
    "# upper_ci_mcmcdate = [120, 220, 320, 420, 520, 620, 720, 820, 920, 1020]\n",
    "\n",
    "# Calculate error bars\n",
    "# xerr = [np.array(lower_ci_baseml), \n",
    "#         np.array(upper_ci_baseml)]\n",
    "# yerr = [np.array(lower_ci_iqtree), \n",
    "#         np.array(upper_ci_iqtree)]\n",
    "# \n",
    "# # Plotting\n",
    "# fig, ax = plt.subplots(figsize=(15, 15))\n",
    "# ax.plot([-0.1,90], \n",
    "#         [-0.1, 90], \n",
    "#         'k--', label='y=x')\n",
    "# ax.errorbar(posterior_mean_baseml, posterior_mean_iqtree, \n",
    "#             xerr=xerr, yerr=yerr, fmt='*', ecolor='r', capsize=3, label='95% HPD CI')\n",
    "# \n",
    "# # Labels and title\n",
    "# ax.set_xlabel('Posterior mean age LG [100 Mya]', fontsize=18)\n",
    "# ax.set_ylabel('Posterior mean age LG+G4 [100 Mya]', fontsize=18)\n",
    "# ax.set_title('Posterior mean age comparison between LG and LG+G4 models [t116 ~ B(1.25,2.482)]')\n",
    "# ax.legend()\n",
    "# \n",
    "# # Show plot\n",
    "# # plt.show()\n",
    "# plt.savefig('./animal_origin_posterior_mean_age_comparison_LG_G4_c11.png')"
   ],
   "id": "12db486fa4fac82c",
   "outputs": [],
   "execution_count": 10
  },
  {
   "metadata": {
    "ExecuteTime": {
     "end_time": "2024-10-08T15:58:07.166839Z",
     "start_time": "2024-10-08T15:58:07.164236Z"
    }
   },
   "cell_type": "code",
   "source": "posterior_mean_baseml",
   "id": "917b2e31cff4b992",
   "outputs": [
    {
     "data": {
      "text/plain": [
       "[5.9172,\n",
       " 5.4019,\n",
       " 4.6947,\n",
       " 3.8165,\n",
       " 3.5899,\n",
       " 3.325,\n",
       " 2.9569,\n",
       " 1.4217,\n",
       " 2.0881,\n",
       " 1.4757,\n",
       " 1.2412,\n",
       " 0.9299,\n",
       " 0.6148,\n",
       " 0.4064,\n",
       " 0.1729,\n",
       " 1.5442,\n",
       " 3.3662,\n",
       " 2.7291,\n",
       " 2.9592,\n",
       " 2.0925,\n",
       " 1.7722,\n",
       " 1.7063,\n",
       " 3.3786,\n",
       " 3.1128,\n",
       " 2.9332,\n",
       " 2.7117,\n",
       " 2.4397,\n",
       " 2.3024,\n",
       " 1.9466,\n",
       " 1.7147,\n",
       " 1.5039,\n",
       " 1.119,\n",
       " 0.9497,\n",
       " 2.0298,\n",
       " 1.5784,\n",
       " 3.2441,\n",
       " 0.8506,\n",
       " 3.0986,\n",
       " 2.8129,\n",
       " 2.4121,\n",
       " 2.1489,\n",
       " 1.5437,\n",
       " 1.6643,\n",
       " 2.3331,\n",
       " 2.1213,\n",
       " 1.7913,\n",
       " 1.5419,\n",
       " 2.0126,\n",
       " 4.0587,\n",
       " 2.9336,\n",
       " 1.7673,\n",
       " 1.6036,\n",
       " 4.5039]"
      ]
     },
     "execution_count": 11,
     "metadata": {},
     "output_type": "execute_result"
    }
   ],
   "execution_count": 11
  },
  {
   "metadata": {
    "ExecuteTime": {
     "end_time": "2024-10-08T15:58:07.220905Z",
     "start_time": "2024-10-08T15:58:07.217122Z"
    }
   },
   "cell_type": "code",
   "source": "posterior_mean_iqtree",
   "id": "59ad8fd34f7bbf11",
   "outputs": [
    {
     "data": {
      "text/plain": [
       "[5.8919,\n",
       " 5.2663,\n",
       " 4.7318,\n",
       " 3.8406,\n",
       " 3.6618,\n",
       " 3.451,\n",
       " 3.128,\n",
       " 1.4287,\n",
       " 2.1872,\n",
       " 1.5569,\n",
       " 1.3402,\n",
       " 1.0273,\n",
       " 0.6887,\n",
       " 0.4541,\n",
       " 0.195,\n",
       " 1.6216,\n",
       " 3.5048,\n",
       " 3.0725,\n",
       " 3.1183,\n",
       " 2.1845,\n",
       " 1.8968,\n",
       " 1.7419,\n",
       " 3.4225,\n",
       " 3.1979,\n",
       " 3.0465,\n",
       " 2.8513,\n",
       " 2.5839,\n",
       " 2.4764,\n",
       " 2.1171,\n",
       " 1.9064,\n",
       " 1.7114,\n",
       " 1.282,\n",
       " 1.1315,\n",
       " 2.1761,\n",
       " 1.7115,\n",
       " 3.3236,\n",
       " 0.7823,\n",
       " 3.2118,\n",
       " 2.9484,\n",
       " 2.5695,\n",
       " 2.3318,\n",
       " 1.6877,\n",
       " 1.8718,\n",
       " 2.4745,\n",
       " 2.3267,\n",
       " 2.0561,\n",
       " 1.6275,\n",
       " 2.0856,\n",
       " 4.162,\n",
       " 3.0114,\n",
       " 1.827,\n",
       " 1.5126,\n",
       " 4.4845]"
      ]
     },
     "execution_count": 12,
     "metadata": {},
     "output_type": "execute_result"
    }
   ],
   "execution_count": 12
  },
  {
   "metadata": {
    "ExecuteTime": {
     "end_time": "2024-10-08T15:58:07.601172Z",
     "start_time": "2024-10-08T15:58:07.396329Z"
    }
   },
   "cell_type": "code",
   "source": [
    "# Calculate error bars\n",
    "xerr = [np.array(lower_ci_baseml), \n",
    "        np.array(upper_ci_baseml)]\n",
    "yerr = [np.array(lower_ci_iqtree), \n",
    "        np.array(upper_ci_iqtree)]\n",
    "\n",
    "# Plotting\n",
    "fig, ax = plt.subplots(figsize=(9 ,9))\n",
    "ax.plot([-0.1,17], \n",
    "        [-0.1, 17], \n",
    "        'k--', label='y=x')\n",
    "ax.plot(posterior_mean_baseml, posterior_mean_iqtree, 'o', label='Posterior mean age')\n",
    " \n",
    "# Labels and title\n",
    "ax.set_xlabel('Posterior mean age LG [Mya]', fontsize=18)\n",
    "ax.set_ylabel('Posterior mean age LG+G4 [Mya]', fontsize=18)\n",
    "ax.set_title('Posterior mean age comparison between LG and LG+G4 [root only calibration]')\n",
    "ax.legend()\n",
    "\n",
    "# point_x = posterior_mean_baseml[0]  # Example: first point in the list\n",
    "# point_y = posterior_mean_iqtree[0]  # Example: first point in the list\n",
    "# ax.annotate('Root age', xy=(point_x, point_y), xytext=(point_x - 0.1, point_y - 0.1), color='red')\n",
    "# Show plot\n",
    "# plt.show()\n",
    "plt.savefig('./metazoa_posterior_mean_age_comparison_LG_G4_ro_scatter.png')"
   ],
   "id": "592d0bb72aa1ad4c",
   "outputs": [
    {
     "data": {
      "text/plain": [
       "<Figure size 900x900 with 1 Axes>"
      ],
      "image/png": "[encoded data removed]"
     },
     "metadata": {},
     "output_type": "display_data"
    }
   ],
   "execution_count": 13
  },
  {
   "metadata": {
    "ExecuteTime": {
     "end_time": "2024-10-08T15:58:07.611648Z",
     "start_time": "2024-10-08T15:58:07.609081Z"
    }
   },
   "cell_type": "code",
   "source": [
    "# fig, ax = plt.subplots(figsize=(9 ,9))\n",
    "# ax.plot([0.01,0.04], \n",
    "#         [0.01, 0.04], \n",
    "#         'k--', label='y=x')\n",
    "# ax.plot(posterior_mean_mu_baseml, posterior_mean_mu_iqtree, 'o', label='Posterior mean rates for partitions')\n",
    "#  \n",
    "# # Labels and title\n",
    "# ax.set_xlabel('Posterior mean rate [LG]', fontsize=18)\n",
    "# ax.set_ylabel('Posterior mean rate [LG+G4]', fontsize=18)\n",
    "# ax.set_title('Posterior mean rate comparison between LG and LG+G4 [Cherry only calibration/IQ-TREE]')\n",
    "# ax.legend()\n",
    "# \n",
    "# # point_x = posterior_mean_baseml[0]  # Example: first point in the list\n",
    "# # point_y = posterior_mean_iqtree[0]  # Example: first point in the list\n",
    "# # ax.annotate('Root age', xy=(point_x, point_y), xytext=(point_x - 0.1, point_y - 0.1), color='red')\n",
    "# # Show plot\n",
    "# # plt.show()\n",
    "# plt.savefig('./animal_origin__posterior_mean_rate_comparison_LG_G4_all_scatter.png')"
   ],
   "id": "c6d69ee36c77970c",
   "outputs": [],
   "execution_count": 14
  },
  {
   "metadata": {
    "ExecuteTime": {
     "end_time": "2024-10-08T15:58:07.655041Z",
     "start_time": "2024-10-08T15:58:07.652982Z"
    }
   },
   "cell_type": "code",
   "source": "",
   "id": "ca69d5b521db3aa7",
   "outputs": [],
   "execution_count": null
  }
 ],
 "metadata": {
  "kernelspec": {
   "display_name": "Python 3",
   "language": "python",
   "name": "python3"
  },
  "language_info": {
   "codemirror_mode": {
    "name": "ipython",
    "version": 2
   },
   "file_extension": ".py",
   "mimetype": "text/x-python",
   "name": "python",
   "nbconvert_exporter": "python",
   "pygments_lexer": "ipython2",
   "version": "2.7.6"
  }
 },
 "nbformat": 4,
 "nbformat_minor": 5
}
