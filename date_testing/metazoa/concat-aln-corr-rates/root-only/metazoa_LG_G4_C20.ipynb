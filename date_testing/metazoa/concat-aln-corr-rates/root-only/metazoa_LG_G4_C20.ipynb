{
 "cells": [
  {
   "cell_type": "code",
   "id": "initial_id",
   "metadata": {
    "collapsed": true,
    "ExecuteTime": {
     "end_time": "2024-10-08T15:59:38.629027Z",
     "start_time": "2024-10-08T15:59:38.625691Z"
    }
   },
   "source": [
    "# Code to get all the Posterior mean (95% Equal-tail CI) (95% HPD CI) HPD-CI-width from ./xenarthra_mcmc_out.txt\n",
    "import numpy as np\n",
    "import pandas as pd\n",
    "import matplotlib.pyplot as plt\n",
    "\n",
    "\n",
    "# Read the file\n",
    "file = open(\"LG_G4_C20_ro_out.txt\", \"r\")\n",
    "lines = file.readlines()\n",
    "file.close()\n",
    "\n",
    "# Extract the data\n",
    "data = []\n",
    "mu_data = []\n",
    "var_data = []\n",
    "\n",
    "read_flag = False\n",
    "for line in lines:\n",
    "    if line.startswith(\"Posterior\"):\n",
    "        read_flag = True\n",
    "    if read_flag and line.startswith(\"t\"):\n",
    "        data.append(line)\n",
    "    if read_flag and line.startswith(\"mu\"):\n",
    "        mu_data.append(line)\n",
    "    if read_flag and line.startswith(\"sigma\"):\n",
    "        var_data.append(line)"
   ],
   "outputs": [],
   "execution_count": 3
  },
  {
   "metadata": {
    "ExecuteTime": {
     "end_time": "2024-10-08T15:59:38.683181Z",
     "start_time": "2024-10-08T15:59:38.677067Z"
    }
   },
   "cell_type": "code",
   "source": "data",
   "id": "54808ee54195795",
   "outputs": [
    {
     "data": {
      "text/plain": [
       "['t_n55          5.8659 ( 5.5342,  6.8271) ( 5.5172,  6.5710)  1.0538 (Jnode 106)\\n',\n",
       " 't_n56          5.0823 ( 4.0069,  6.1168) ( 4.0081,  6.1176)  2.1095 (Jnode 105)\\n',\n",
       " 't_n57          4.6952 ( 3.6629,  5.6681) ( 3.6439,  5.6413)  1.9973 (Jnode 104)\\n',\n",
       " 't_n58          3.8679 ( 2.9802,  4.7227) ( 2.9833,  4.7244)  1.7410 (Jnode 103)\\n',\n",
       " 't_n59          3.7251 ( 2.8669,  4.5545) ( 2.8503,  4.5323)  1.6821 (Jnode 102)\\n',\n",
       " 't_n60          3.5409 ( 2.7225,  4.3396) ( 2.7064,  4.3195)  1.6131 (Jnode 101)\\n',\n",
       " 't_n61          3.2749 ( 2.5086,  4.0288) ( 2.4996,  4.0137)  1.5141 (Jnode 100)\\n',\n",
       " 't_n62          1.4236 ( 0.8902,  2.0217) ( 0.8607,  1.9882)  1.1276 (Jnode 99)\\n',\n",
       " 't_n63          2.2492 ( 1.6509,  2.8664) ( 1.6586,  2.8718)  1.2133 (Jnode 98)\\n',\n",
       " 't_n64          1.5834 ( 1.1240,  2.0869) ( 1.0963,  2.0557)  0.9594 (Jnode 97)\\n',\n",
       " 't_n65          1.3824 ( 0.9727,  1.8416) ( 0.9560,  1.8226)  0.8666 (Jnode 96)\\n',\n",
       " 't_n66          1.0639 ( 0.7327,  1.4452) ( 0.7175,  1.4237)  0.7062 (Jnode 95)\\n',\n",
       " 't_n67          0.7130 ( 0.4795,  0.9905) ( 0.4638,  0.9708)  0.5069 (Jnode 94)\\n',\n",
       " 't_n68          0.4739 ( 0.3114,  0.6715) ( 0.3054,  0.6617)  0.3563 (Jnode 93)\\n',\n",
       " 't_n69          0.2018 ( 0.1268,  0.3006) ( 0.1200,  0.2903)  0.1703 (Jnode 92)\\n',\n",
       " 't_n70          1.6700 ( 1.1872,  2.1979) ( 1.1746,  2.1813)  1.0066 (Jnode 91)\\n',\n",
       " 't_n71          3.6218 ( 2.7806,  4.4299) ( 2.7661,  4.4098)  1.6436 (Jnode 90)\\n',\n",
       " 't_n72          3.4571 ( 2.6420,  4.2476) ( 2.6263,  4.2294)  1.6032 (Jnode 89)\\n',\n",
       " 't_n73          3.2672 ( 2.4918,  4.0202) ( 2.4824,  4.0047)  1.5222 (Jnode 88)\\n',\n",
       " 't_n74          2.2673 ( 1.6335,  2.9270) ( 1.6184,  2.9088)  1.2904 (Jnode 87)\\n',\n",
       " 't_n75          2.0260 ( 1.4350,  2.6455) ( 1.4305,  2.6382)  1.2076 (Jnode 86)\\n',\n",
       " 't_n76          1.7634 ( 1.1416,  2.4434) ( 1.1189,  2.4119)  1.2930 (Jnode 85)\\n',\n",
       " 't_n77          3.5095 ( 2.6903,  4.3048) ( 2.6960,  4.3076)  1.6116 (Jnode 84)\\n',\n",
       " 't_n78          3.3294 ( 2.5514,  4.0925) ( 2.5450,  4.0848)  1.5398 (Jnode 83)\\n',\n",
       " 't_n79          3.2145 ( 2.4562,  3.9569) ( 2.4664,  3.9634)  1.4970 (Jnode 82)\\n',\n",
       " 't_n80          2.9968 ( 2.2807,  3.7037) ( 2.2469,  3.6630)  1.4160 (Jnode 81)\\n',\n",
       " 't_n81          2.7435 ( 2.0840,  3.4058) ( 2.0429,  3.3629)  1.3201 (Jnode 80)\\n',\n",
       " 't_n82          2.6629 ( 2.0180,  3.3137) ( 1.9884,  3.2773)  1.2889 (Jnode 79)\\n',\n",
       " 't_n83          2.3092 ( 1.7376,  2.8950) ( 1.7303,  2.8866)  1.1563 (Jnode 78)\\n',\n",
       " 't_n84          2.0936 ( 1.5641,  2.6462) ( 1.5559,  2.6322)  1.0762 (Jnode 77)\\n',\n",
       " 't_n85          1.9167 ( 1.4272,  2.4320) ( 1.4089,  2.4123)  1.0034 (Jnode 76)\\n',\n",
       " 't_n86          1.4263 ( 1.0379,  1.8519) ( 1.0356,  1.8491)  0.8136 (Jnode 75)\\n',\n",
       " 't_n87          1.3043 ( 0.9404,  1.7085) ( 0.9285,  1.6923)  0.7638 (Jnode 74)\\n',\n",
       " 't_n88          2.3226 ( 1.7420,  2.9151) ( 1.7264,  2.8980)  1.1715 (Jnode 73)\\n',\n",
       " 't_n89          1.8547 ( 1.3557,  2.3837) ( 1.3395,  2.3624)  1.0229 (Jnode 72)\\n',\n",
       " 't_n90          3.4420 ( 2.6363,  4.2264) ( 2.6191,  4.2063)  1.5872 (Jnode 71)\\n',\n",
       " 't_n91          0.7132 ( 0.3619,  1.1967) ( 0.3218,  1.1334)  0.8115 (Jnode 70)\\n',\n",
       " 't_n92          3.3544 ( 2.5704,  4.1197) ( 2.5833,  4.1296)  1.5463 (Jnode 69)\\n',\n",
       " 't_n93          3.1235 ( 2.3861,  3.8512) ( 2.3665,  3.8250)  1.4586 (Jnode 68)\\n',\n",
       " 't_n94          2.7663 ( 2.1032,  3.4351) ( 2.0901,  3.4178)  1.3277 (Jnode 67)\\n',\n",
       " 't_n95          2.5500 ( 1.9305,  3.1820) ( 1.9237,  3.1739)  1.2502 (Jnode 66)\\n',\n",
       " 't_n96          1.8525 ( 1.3460,  2.3959) ( 1.3329,  2.3798)  1.0469 (Jnode 65)\\n',\n",
       " 't_n97          2.1249 ( 1.5853,  2.6869) ( 1.5757,  2.6749)  1.0993 (Jnode 64)\\n',\n",
       " 't_n98          2.6487 ( 2.0051,  3.3016) ( 1.9870,  3.2811)  1.2942 (Jnode 63)\\n',\n",
       " 't_n99          2.5478 ( 1.9267,  3.1844) ( 1.9267,  3.1844)  1.2578 (Jnode 62)\\n',\n",
       " 't_n100         2.3470 ( 1.7572,  2.9552) ( 1.7403,  2.9358)  1.1955 (Jnode 61)\\n',\n",
       " 't_n101         1.7141 ( 1.2070,  2.2583) ( 1.2002,  2.2491)  1.0490 (Jnode 60)\\n',\n",
       " 't_n102         2.2778 ( 1.6503,  2.9291) ( 1.6363,  2.9084)  1.2721 (Jnode 59)\\n',\n",
       " 't_n103         4.1552 ( 3.2049,  5.0717) ( 3.1830,  5.0438)  1.8608 (Jnode 58)\\n',\n",
       " 't_n104         2.9464 ( 2.0849,  3.8171) ( 2.0773,  3.8067)  1.7294 (Jnode 57)\\n',\n",
       " 't_n105         1.7528 ( 1.0946,  2.5125) ( 1.0609,  2.4641)  1.4032 (Jnode 56)\\n',\n",
       " 't_n106         1.3679 ( 0.7385,  2.1275) ( 0.6878,  2.0656)  1.3778 (Jnode 55)\\n',\n",
       " 't_n107         4.4205 ( 2.9496,  5.9340) ( 2.9553,  5.9372)  2.9820 (Jnode 54)\\n']"
      ]
     },
     "execution_count": 4,
     "metadata": {},
     "output_type": "execute_result"
    }
   ],
   "execution_count": 4
  },
  {
   "metadata": {
    "ExecuteTime": {
     "end_time": "2024-10-08T15:59:38.801094Z",
     "start_time": "2024-10-08T15:59:38.796987Z"
    }
   },
   "cell_type": "code",
   "source": [
    "node_name = []\n",
    "posterior_mean_iqtree = []\n",
    "posterior_mean_baseml = []\n",
    "\n",
    "posterior_mean_mu_iqtree = []\n",
    "posterior_mean_mu_baseml = []\n",
    "\n",
    "posterior_mean_var_iqtree = []\n",
    "posterior_mean_var_baseml = []\n",
    "\n",
    "lower_ci_iqtree = []\n",
    "upper_ci_iqtree = []\n",
    "\n",
    "lower_ci_mu_iqtree = []\n",
    "upper_ci_mu_iqtree = []\n",
    "\n",
    "lower_ci_var_iqtree = []\n",
    "upper_ci_var_iqtree = []\n",
    "\n",
    "# Credible intervals for McmcDate\n",
    "lower_ci_baseml = []\n",
    "upper_ci_baseml = []\n",
    "\n",
    "lower_ci_mu_baseml = []\n",
    "upper_ci_mu_baseml = []\n",
    "\n",
    "lower_ci_var_baseml = []\n",
    "upper_ci_var_baseml = []"
   ],
   "id": "e5cf93a69d327e61",
   "outputs": [],
   "execution_count": 5
  },
  {
   "metadata": {
    "ExecuteTime": {
     "end_time": "2024-10-08T15:59:38.849726Z",
     "start_time": "2024-10-08T15:59:38.845166Z"
    }
   },
   "cell_type": "code",
   "source": [
    "for line in data:\n",
    "    line = line.strip().split()\n",
    "    node_name.append(line[0])\n",
    "    posterior_mean_iqtree.append(float(line[1]))\n",
    "#     if line[3].startswith('('):\n",
    "#         lower_ci_iqtree.append(float(line[3][1:-1]))\n",
    "#     else:\n",
    "#         lower_ci_iqtree.append(float(line[3][1:-1]))\n",
    "#     if line[4].startswith('('):\n",
    "#         upper_ci_iqtree.append(float(line[4][1:-1]))\n",
    "#     else:\n",
    "#         upper_ci_iqtree.append(float(line[4][:-1]))\n",
    "#     # posterior_mean_baseml.append(float(line[4]))\n",
    "#     # lower_ci_baseml.append(float(line[5]))\n",
    "#     # upper_ci_baseml.append(float(line[6]))\n",
    "# \n",
    "# for line in mu_data:\n",
    "#     line = line.strip().split()\n",
    "#     # node_name.append(line[0])\n",
    "#     posterior_mean_mu_iqtree.append(float(line[1]))\n",
    "#     lower_ci_mu_iqtree.append(float(line[3][:-1]))\n",
    "#     upper_ci_mu_iqtree.append(float(line[4][:-1]))\n",
    "#\n",
    "# for line in var_data:\n",
    "#     line = line.strip().split()\n",
    "#     # node_name.append(line[0])\n",
    "#     posterior_mean_var_iqtree.append(float(line[1]))\n",
    "#     lower_ci_var_iqtree.append(float(line[3][:-1]))\n",
    "#     upper_ci_var_iqtree.append(float(line[4][:-1]))"
   ],
   "id": "4e79ee928ea76b59",
   "outputs": [],
   "execution_count": 6
  },
  {
   "metadata": {
    "ExecuteTime": {
     "end_time": "2024-10-08T15:59:38.906644Z",
     "start_time": "2024-10-08T15:59:38.899714Z"
    }
   },
   "cell_type": "code",
   "source": "node_name",
   "id": "2c17f55ec9626a0b",
   "outputs": [
    {
     "data": {
      "text/plain": [
       "['t_n55',\n",
       " 't_n56',\n",
       " 't_n57',\n",
       " 't_n58',\n",
       " 't_n59',\n",
       " 't_n60',\n",
       " 't_n61',\n",
       " 't_n62',\n",
       " 't_n63',\n",
       " 't_n64',\n",
       " 't_n65',\n",
       " 't_n66',\n",
       " 't_n67',\n",
       " 't_n68',\n",
       " 't_n69',\n",
       " 't_n70',\n",
       " 't_n71',\n",
       " 't_n72',\n",
       " 't_n73',\n",
       " 't_n74',\n",
       " 't_n75',\n",
       " 't_n76',\n",
       " 't_n77',\n",
       " 't_n78',\n",
       " 't_n79',\n",
       " 't_n80',\n",
       " 't_n81',\n",
       " 't_n82',\n",
       " 't_n83',\n",
       " 't_n84',\n",
       " 't_n85',\n",
       " 't_n86',\n",
       " 't_n87',\n",
       " 't_n88',\n",
       " 't_n89',\n",
       " 't_n90',\n",
       " 't_n91',\n",
       " 't_n92',\n",
       " 't_n93',\n",
       " 't_n94',\n",
       " 't_n95',\n",
       " 't_n96',\n",
       " 't_n97',\n",
       " 't_n98',\n",
       " 't_n99',\n",
       " 't_n100',\n",
       " 't_n101',\n",
       " 't_n102',\n",
       " 't_n103',\n",
       " 't_n104',\n",
       " 't_n105',\n",
       " 't_n106',\n",
       " 't_n107']"
      ]
     },
     "execution_count": 7,
     "metadata": {},
     "output_type": "execute_result"
    }
   ],
   "execution_count": 7
  },
  {
   "metadata": {
    "ExecuteTime": {
     "end_time": "2024-10-08T15:59:38.958516Z",
     "start_time": "2024-10-08T15:59:38.954781Z"
    }
   },
   "cell_type": "code",
   "source": "posterior_mean_iqtree",
   "id": "24a55c806a41f33e",
   "outputs": [
    {
     "data": {
      "text/plain": [
       "[5.8659,\n",
       " 5.0823,\n",
       " 4.6952,\n",
       " 3.8679,\n",
       " 3.7251,\n",
       " 3.5409,\n",
       " 3.2749,\n",
       " 1.4236,\n",
       " 2.2492,\n",
       " 1.5834,\n",
       " 1.3824,\n",
       " 1.0639,\n",
       " 0.713,\n",
       " 0.4739,\n",
       " 0.2018,\n",
       " 1.67,\n",
       " 3.6218,\n",
       " 3.4571,\n",
       " 3.2672,\n",
       " 2.2673,\n",
       " 2.026,\n",
       " 1.7634,\n",
       " 3.5095,\n",
       " 3.3294,\n",
       " 3.2145,\n",
       " 2.9968,\n",
       " 2.7435,\n",
       " 2.6629,\n",
       " 2.3092,\n",
       " 2.0936,\n",
       " 1.9167,\n",
       " 1.4263,\n",
       " 1.3043,\n",
       " 2.3226,\n",
       " 1.8547,\n",
       " 3.442,\n",
       " 0.7132,\n",
       " 3.3544,\n",
       " 3.1235,\n",
       " 2.7663,\n",
       " 2.55,\n",
       " 1.8525,\n",
       " 2.1249,\n",
       " 2.6487,\n",
       " 2.5478,\n",
       " 2.347,\n",
       " 1.7141,\n",
       " 2.2778,\n",
       " 4.1552,\n",
       " 2.9464,\n",
       " 1.7528,\n",
       " 1.3679,\n",
       " 4.4205]"
      ]
     },
     "execution_count": 8,
     "metadata": {},
     "output_type": "execute_result"
    }
   ],
   "execution_count": 8
  },
  {
   "metadata": {
    "ExecuteTime": {
     "end_time": "2024-10-08T15:59:39.008127Z",
     "start_time": "2024-10-08T15:59:39.004847Z"
    }
   },
   "cell_type": "code",
   "source": "lower_ci_iqtree",
   "id": "388aa27ad336d43f",
   "outputs": [
    {
     "data": {
      "text/plain": [
       "[]"
      ]
     },
     "execution_count": 9,
     "metadata": {},
     "output_type": "execute_result"
    }
   ],
   "execution_count": 9
  },
  {
   "metadata": {
    "ExecuteTime": {
     "end_time": "2024-10-08T15:59:39.062790Z",
     "start_time": "2024-10-08T15:59:39.059076Z"
    }
   },
   "cell_type": "code",
   "source": "upper_ci_iqtree",
   "id": "816e569fb763e797",
   "outputs": [
    {
     "data": {
      "text/plain": [
       "[]"
      ]
     },
     "execution_count": 10,
     "metadata": {},
     "output_type": "execute_result"
    }
   ],
   "execution_count": 10
  },
  {
   "metadata": {
    "ExecuteTime": {
     "end_time": "2024-10-08T15:59:39.121564Z",
     "start_time": "2024-10-08T15:59:39.116825Z"
    }
   },
   "cell_type": "code",
   "source": [
    "file_LG = open(\"LG_ro_out.txt\", \"r\")\n",
    "lines1 = file_LG.readlines()\n",
    "file_LG.close()\n",
    "\n",
    "# Extract the data\n",
    "data1 = []\n",
    "mu_data1 = []\n",
    "var_data1 = []\n",
    "\n",
    "read_flag = False\n",
    "for line in lines1:\n",
    "    if line.startswith(\"Posterior\"):\n",
    "        read_flag = True\n",
    "    if read_flag and line.startswith(\"t\"):\n",
    "        data1.append(line)\n",
    "    if read_flag and line.startswith(\"mu\"):\n",
    "        mu_data1.append(line)\n",
    "    if read_flag and line.startswith(\"sigma\"):\n",
    "        var_data1.append(line)\n",
    "\n",
    "        \n",
    "for line in data1:\n",
    "    line = line.strip().split()\n",
    "    # node_name.append(line[0])\n",
    "    posterior_mean_baseml.append(float(line[1]))\n",
    "#     if line[3].startswith('('):\n",
    "#         lower_ci_baseml.append(float(line[3][1:-1]))\n",
    "#     else:\n",
    "#          lower_ci_baseml.append(float(line[3][:-1]))\n",
    "#     if line[4].startswith('('):\n",
    "#         upper_ci_baseml.append(float(line[4][1:-1]))\n",
    "#     else:\n",
    "#          upper_ci_baseml.append(float(line[4][:-1]))\n",
    "#         \n",
    "#     \n",
    "# for line in mu_data1:\n",
    "#     line = line.strip().split()\n",
    "#     # node_name.append(line[0])\n",
    "#     posterior_mean_mu_baseml.append(float(line[1]))\n",
    "#     lower_ci_mu_baseml.append(float(line[3][:-1]))\n",
    "#     upper_ci_mu_baseml.append(float(line[4][:-1]))\n",
    "    \n",
    "# for line in var_data1:\n",
    "#     line = line.strip().split()\n",
    "#     # node_name.append(line[0])\n",
    "#     posterior_mean_var_baseml.append(float(line[1]))\n",
    "#     lower_ci_var_baseml.append(float(line[3][:-1]))\n",
    "#     upper_ci_var_baseml.append(float(line[4][:-1]))"
   ],
   "id": "f75c012c6bef60a2",
   "outputs": [],
   "execution_count": 11
  },
  {
   "metadata": {
    "ExecuteTime": {
     "end_time": "2024-10-08T15:59:39.164632Z",
     "start_time": "2024-10-08T15:59:39.161066Z"
    }
   },
   "cell_type": "code",
   "source": [
    "import matplotlib.pyplot as plt\n",
    "import numpy as np\n",
    "\n",
    "# # Example data\n",
    "# # Posterior means for MCMCtree (x-axis) and McmcDate (y-axis)\n",
    "# posterior_mean_mcmctree = [100, 200, 300, 400, 500, 600, 700, 800, 900, 1000]\n",
    "# posterior_mean_mcmcdate = [110, 210, 310, 410, 510, 610, 710, 810, 910, 1010]\n",
    "# \n",
    "# # Credible intervals for MCMCtree\n",
    "# lower_ci_mcmctree = [90, 180, 270, 360, 450, 540, 630, 720, 810, 900]\n",
    "# upper_ci_mcmctree = [110, 220, 330, 440, 550, 660, 770, 880, 990, 1100]\n",
    "# \n",
    "# # Credible intervals for McmcDate\n",
    "# lower_ci_mcmcdate = [100, 200, 300, 400, 500, 600, 700, 800, 900, 1000]\n",
    "# upper_ci_mcmcdate = [120, 220, 320, 420, 520, 620, 720, 820, 920, 1020]\n",
    "\n",
    "# Calculate error bars\n",
    "# xerr = [np.array(lower_ci_baseml), \n",
    "#         np.array(upper_ci_baseml)]\n",
    "# yerr = [np.array(lower_ci_iqtree), \n",
    "#         np.array(upper_ci_iqtree)]\n",
    "# \n",
    "# # Plotting\n",
    "# fig, ax = plt.subplots(figsize=(15, 15))\n",
    "# ax.plot([-0.1,90], \n",
    "#         [-0.1, 90], \n",
    "#         'k--', label='y=x')\n",
    "# ax.errorbar(posterior_mean_baseml, posterior_mean_iqtree, \n",
    "#             xerr=xerr, yerr=yerr, fmt='*', ecolor='r', capsize=3, label='95% HPD CI')\n",
    "# \n",
    "# # Labels and title\n",
    "# ax.set_xlabel('Posterior mean age LG [100 Mya]', fontsize=18)\n",
    "# ax.set_ylabel('Posterior mean age LG+G4 [100 Mya]', fontsize=18)\n",
    "# ax.set_title('Posterior mean age comparison between LG and LG+G4 models [t116 ~ B(1.25,2.482)]')\n",
    "# ax.legend()\n",
    "# \n",
    "# # Show plot\n",
    "# # plt.show()\n",
    "# plt.savefig('./animal_origin_posterior_mean_age_comparison_LG_G4_c11.png')"
   ],
   "id": "12db486fa4fac82c",
   "outputs": [],
   "execution_count": 12
  },
  {
   "metadata": {
    "ExecuteTime": {
     "end_time": "2024-10-08T15:59:39.218474Z",
     "start_time": "2024-10-08T15:59:39.214420Z"
    }
   },
   "cell_type": "code",
   "source": "posterior_mean_baseml",
   "id": "917b2e31cff4b992",
   "outputs": [
    {
     "data": {
      "text/plain": [
       "[5.9172,\n",
       " 5.4019,\n",
       " 4.6947,\n",
       " 3.8165,\n",
       " 3.5899,\n",
       " 3.325,\n",
       " 2.9569,\n",
       " 1.4217,\n",
       " 2.0881,\n",
       " 1.4757,\n",
       " 1.2412,\n",
       " 0.9299,\n",
       " 0.6148,\n",
       " 0.4064,\n",
       " 0.1729,\n",
       " 1.5442,\n",
       " 3.3662,\n",
       " 2.7291,\n",
       " 2.9592,\n",
       " 2.0925,\n",
       " 1.7722,\n",
       " 1.7063,\n",
       " 3.3786,\n",
       " 3.1128,\n",
       " 2.9332,\n",
       " 2.7117,\n",
       " 2.4397,\n",
       " 2.3024,\n",
       " 1.9466,\n",
       " 1.7147,\n",
       " 1.5039,\n",
       " 1.119,\n",
       " 0.9497,\n",
       " 2.0298,\n",
       " 1.5784,\n",
       " 3.2441,\n",
       " 0.8506,\n",
       " 3.0986,\n",
       " 2.8129,\n",
       " 2.4121,\n",
       " 2.1489,\n",
       " 1.5437,\n",
       " 1.6643,\n",
       " 2.3331,\n",
       " 2.1213,\n",
       " 1.7913,\n",
       " 1.5419,\n",
       " 2.0126,\n",
       " 4.0587,\n",
       " 2.9336,\n",
       " 1.7673,\n",
       " 1.6036,\n",
       " 4.5039]"
      ]
     },
     "execution_count": 13,
     "metadata": {},
     "output_type": "execute_result"
    }
   ],
   "execution_count": 13
  },
  {
   "metadata": {
    "ExecuteTime": {
     "end_time": "2024-10-08T15:59:39.275078Z",
     "start_time": "2024-10-08T15:59:39.271987Z"
    }
   },
   "cell_type": "code",
   "source": "posterior_mean_iqtree",
   "id": "59ad8fd34f7bbf11",
   "outputs": [
    {
     "data": {
      "text/plain": [
       "[5.8659,\n",
       " 5.0823,\n",
       " 4.6952,\n",
       " 3.8679,\n",
       " 3.7251,\n",
       " 3.5409,\n",
       " 3.2749,\n",
       " 1.4236,\n",
       " 2.2492,\n",
       " 1.5834,\n",
       " 1.3824,\n",
       " 1.0639,\n",
       " 0.713,\n",
       " 0.4739,\n",
       " 0.2018,\n",
       " 1.67,\n",
       " 3.6218,\n",
       " 3.4571,\n",
       " 3.2672,\n",
       " 2.2673,\n",
       " 2.026,\n",
       " 1.7634,\n",
       " 3.5095,\n",
       " 3.3294,\n",
       " 3.2145,\n",
       " 2.9968,\n",
       " 2.7435,\n",
       " 2.6629,\n",
       " 2.3092,\n",
       " 2.0936,\n",
       " 1.9167,\n",
       " 1.4263,\n",
       " 1.3043,\n",
       " 2.3226,\n",
       " 1.8547,\n",
       " 3.442,\n",
       " 0.7132,\n",
       " 3.3544,\n",
       " 3.1235,\n",
       " 2.7663,\n",
       " 2.55,\n",
       " 1.8525,\n",
       " 2.1249,\n",
       " 2.6487,\n",
       " 2.5478,\n",
       " 2.347,\n",
       " 1.7141,\n",
       " 2.2778,\n",
       " 4.1552,\n",
       " 2.9464,\n",
       " 1.7528,\n",
       " 1.3679,\n",
       " 4.4205]"
      ]
     },
     "execution_count": 14,
     "metadata": {},
     "output_type": "execute_result"
    }
   ],
   "execution_count": 14
  },
  {
   "metadata": {
    "ExecuteTime": {
     "end_time": "2024-10-08T15:59:39.510127Z",
     "start_time": "2024-10-08T15:59:39.327800Z"
    }
   },
   "cell_type": "code",
   "source": [
    "# Calculate error bars\n",
    "xerr = [np.array(lower_ci_baseml), \n",
    "        np.array(upper_ci_baseml)]\n",
    "yerr = [np.array(lower_ci_iqtree), \n",
    "        np.array(upper_ci_iqtree)]\n",
    "\n",
    "# Plotting\n",
    "fig, ax = plt.subplots(figsize=(9 ,9))\n",
    "ax.plot([-0.1,17], \n",
    "        [-0.1, 17], \n",
    "        'k--', label='y=x')\n",
    "ax.plot(posterior_mean_baseml, posterior_mean_iqtree, 'o', label='Posterior mean age')\n",
    " \n",
    "# Labels and title\n",
    "ax.set_xlabel('Posterior mean age LG [Mya]', fontsize=18)\n",
    "ax.set_ylabel('Posterior mean age LG+G4+C20 [Mya]', fontsize=18)\n",
    "ax.set_title('Posterior mean age comparison between LG and LG+G4 [root only calibration]')\n",
    "ax.legend()\n",
    "\n",
    "# point_x = posterior_mean_baseml[0]  # Example: first point in the list\n",
    "# point_y = posterior_mean_iqtree[0]  # Example: first point in the list\n",
    "# ax.annotate('Root age', xy=(point_x, point_y), xytext=(point_x - 0.1, point_y - 0.1), color='red')\n",
    "# Show plot\n",
    "# plt.show()\n",
    "plt.savefig('metazoa_posterior_mean_age_comparison_LG_G4_C20_ro_scatter.png')"
   ],
   "id": "592d0bb72aa1ad4c",
   "outputs": [
    {
     "data": {
      "text/plain": [
       "<Figure size 900x900 with 1 Axes>"
      ],
      "image/png": "[encoded data removed]"
     },
     "metadata": {},
     "output_type": "display_data"
    }
   ],
   "execution_count": 15
  },
  {
   "metadata": {
    "ExecuteTime": {
     "end_time": "2024-10-08T15:59:39.518735Z",
     "start_time": "2024-10-08T15:59:39.516618Z"
    }
   },
   "cell_type": "code",
   "source": [
    "# fig, ax = plt.subplots(figsize=(9 ,9))\n",
    "# ax.plot([0.01,0.04], \n",
    "#         [0.01, 0.04], \n",
    "#         'k--', label='y=x')\n",
    "# ax.plot(posterior_mean_mu_baseml, posterior_mean_mu_iqtree, 'o', label='Posterior mean rates for partitions')\n",
    "#  \n",
    "# # Labels and title\n",
    "# ax.set_xlabel('Posterior mean rate [LG]', fontsize=18)\n",
    "# ax.set_ylabel('Posterior mean rate [LG+G4]', fontsize=18)\n",
    "# ax.set_title('Posterior mean rate comparison between LG and LG+G4 [Cherry only calibration/IQ-TREE]')\n",
    "# ax.legend()\n",
    "# \n",
    "# # point_x = posterior_mean_baseml[0]  # Example: first point in the list\n",
    "# # point_y = posterior_mean_iqtree[0]  # Example: first point in the list\n",
    "# # ax.annotate('Root age', xy=(point_x, point_y), xytext=(point_x - 0.1, point_y - 0.1), color='red')\n",
    "# # Show plot\n",
    "# # plt.show()\n",
    "# plt.savefig('./animal_origin__posterior_mean_rate_comparison_LG_G4_all_scatter.png')"
   ],
   "id": "c6d69ee36c77970c",
   "outputs": [],
   "execution_count": 16
  },
  {
   "metadata": {
    "ExecuteTime": {
     "end_time": "2024-10-08T15:59:39.563308Z",
     "start_time": "2024-10-08T15:59:39.561332Z"
    }
   },
   "cell_type": "code",
   "source": "",
   "id": "ca69d5b521db3aa7",
   "outputs": [],
   "execution_count": null
  }
 ],
 "metadata": {
  "kernelspec": {
   "display_name": "Python 3",
   "language": "python",
   "name": "python3"
  },
  "language_info": {
   "codemirror_mode": {
    "name": "ipython",
    "version": 2
   },
   "file_extension": ".py",
   "mimetype": "text/x-python",
   "name": "python",
   "nbconvert_exporter": "python",
   "pygments_lexer": "ipython2",
   "version": "2.7.6"
  }
 },
 "nbformat": 4,
 "nbformat_minor": 5
}
