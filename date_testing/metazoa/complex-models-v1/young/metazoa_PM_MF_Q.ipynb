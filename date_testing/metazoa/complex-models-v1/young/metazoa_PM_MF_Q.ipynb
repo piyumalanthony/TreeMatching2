{
 "cells": [
  {
   "cell_type": "code",
   "id": "initial_id",
   "metadata": {
    "collapsed": true,
    "ExecuteTime": {
     "end_time": "2024-10-14T11:21:13.111732Z",
     "start_time": "2024-10-14T11:21:12.717354Z"
    }
   },
   "source": [
    "# Code to get all the Posterior mean (95% Equal-tail CI) (95% HPD CI) HPD-CI-width from ./xenarthra_mcmc_out.txt\n",
    "import numpy as np\n",
    "import pandas as pd\n",
    "import matplotlib.pyplot as plt\n",
    "\n",
    "\n",
    "# Read the file\n",
    "file = open(\"PM_MF_Q_cherry_out.txt\", \"r\")\n",
    "lines = file.readlines()\n",
    "file.close()\n",
    "\n",
    "# Extract the data\n",
    "data = []\n",
    "mu_data = []\n",
    "var_data = []\n",
    "\n",
    "read_flag = False\n",
    "for line in lines:\n",
    "    if line.startswith(\"Posterior\"):\n",
    "        read_flag = True\n",
    "    if read_flag and line.startswith(\"t\"):\n",
    "        data.append(line)\n",
    "    if read_flag and line.startswith(\"mu\"):\n",
    "        mu_data.append(line)\n",
    "    if read_flag and line.startswith(\"sigma\"):\n",
    "        var_data.append(line)"
   ],
   "outputs": [],
   "execution_count": 1
  },
  {
   "metadata": {
    "ExecuteTime": {
     "end_time": "2024-10-14T11:21:13.120947Z",
     "start_time": "2024-10-14T11:21:13.116264Z"
    }
   },
   "cell_type": "code",
   "source": "data",
   "id": "54808ee54195795",
   "outputs": [
    {
     "data": {
      "text/plain": [
       "['t_n55         12.7316 (11.5486, 14.2754) (11.4483, 14.1446)  2.6962 (Jnode 106)\\n',\n",
       " 't_n56         12.5471 (11.4254, 14.0006) (11.3668, 13.9056)  2.5388 (Jnode 105)\\n',\n",
       " 't_n57         11.5212 (10.5286, 12.8163) (10.4901, 12.7520)  2.2619 (Jnode 104)\\n',\n",
       " 't_n58          9.6357 ( 8.8584, 10.6891) ( 8.8010, 10.6092)  1.8083 (Jnode 103)\\n',\n",
       " 't_n59          9.2473 ( 8.5000, 10.2583) ( 8.4567, 10.1922)  1.7356 (Jnode 102)\\n',\n",
       " 't_n60          8.7742 ( 8.0619,  9.7298) ( 8.0278,  9.6827)  1.6549 (Jnode 101)\\n',\n",
       " 't_n61          8.0522 ( 7.3863,  8.9324) ( 7.3500,  8.8816)  1.5316 (Jnode 100)\\n',\n",
       " 't_n62          3.7080 ( 3.2151,  4.2805) ( 3.1959,  4.2551)  1.0593 (Jnode 99)\\n',\n",
       " 't_n63          5.6967 ( 5.1475,  6.3849) ( 5.1009,  6.3247)  1.2238 (Jnode 98)\\n',\n",
       " 't_n64          4.0831 ( 3.6346,  4.6281) ( 3.6030,  4.5859)  0.9829 (Jnode 97)\\n',\n",
       " 't_n65          3.5581 ( 3.1506,  4.0454) ( 3.1321,  4.0195)  0.8875 (Jnode 96)\\n',\n",
       " 't_n66          2.7732 ( 2.4335,  3.1775) ( 2.4251,  3.1643)  0.7392 (Jnode 95)\\n',\n",
       " 't_n67          1.8966 ( 1.6430,  2.1945) ( 1.6353,  2.1816)  0.5464 (Jnode 94)\\n',\n",
       " 't_n68          1.2706 ( 1.0891,  1.4842) ( 1.0815,  1.4716)  0.3901 (Jnode 93)\\n',\n",
       " 't_n69          0.5114 ( 0.4226,  0.6155) ( 0.4138,  0.6050)  0.1912 (Jnode 92)\\n',\n",
       " 't_n70          4.2924 ( 3.8199,  4.8711) ( 3.7926,  4.8343)  1.0417 (Jnode 91)\\n',\n",
       " 't_n71          8.8877 ( 8.1633,  9.8615) ( 8.1418,  9.8229)  1.6812 (Jnode 90)\\n',\n",
       " 't_n72          7.9618 ( 7.2704,  8.8695) ( 7.2217,  8.7954)  1.5737 (Jnode 89)\\n',\n",
       " 't_n73          8.0419 ( 7.3705,  8.9329) ( 7.3404,  8.8809)  1.5405 (Jnode 88)\\n',\n",
       " 't_n74          5.8310 ( 5.3014,  6.5097) ( 5.2868,  6.4891)  1.2023 (Jnode 87)\\n',\n",
       " 't_n75          5.1607 ( 4.6735,  5.7770) ( 4.6782,  5.7813)  1.1031 (Jnode 86)\\n',\n",
       " 't_n76          4.7703 ( 4.0770,  5.5153) ( 4.0792,  5.5158)  1.4366 (Jnode 85)\\n',\n",
       " 't_n77          8.7035 ( 8.0222,  9.6432) ( 7.9858,  9.5847)  1.5989 (Jnode 84)\\n',\n",
       " 't_n78          8.1988 ( 7.5516,  9.0923) ( 7.4957,  9.0173)  1.5217 (Jnode 83)\\n',\n",
       " 't_n79          7.8164 ( 7.1933,  8.6675) ( 7.1589,  8.6202)  1.4613 (Jnode 82)\\n',\n",
       " 't_n80          7.3671 ( 6.7772,  8.1887) ( 6.7282,  8.1155)  1.3873 (Jnode 81)\\n',\n",
       " 't_n81          6.7409 ( 6.1958,  7.5027) ( 6.1471,  7.4308)  1.2837 (Jnode 80)\\n',\n",
       " 't_n82          6.4874 ( 5.9569,  7.2342) ( 5.9172,  7.1648)  1.2476 (Jnode 79)\\n',\n",
       " 't_n83          5.6545 ( 5.1861,  6.3329) ( 5.1389,  6.2596)  1.1207 (Jnode 78)\\n',\n",
       " 't_n84          5.1514 ( 4.7289,  5.7815) ( 4.7053,  5.7383)  1.0330 (Jnode 77)\\n',\n",
       " 't_n85          4.6824 ( 4.2741,  5.2779) ( 4.2262,  5.2062)  0.9799 (Jnode 76)\\n',\n",
       " 't_n86          3.5513 ( 3.2041,  4.0251) ( 3.1716,  3.9806)  0.8090 (Jnode 75)\\n',\n",
       " 't_n87          3.1659 ( 2.8379,  3.6053) ( 2.8152,  3.5672)  0.7521 (Jnode 74)\\n',\n",
       " 't_n88          5.7553 ( 5.2484,  6.4602) ( 5.2226,  6.4160)  1.1935 (Jnode 73)\\n',\n",
       " 't_n89          4.6181 ( 4.1558,  5.2604) ( 4.1069,  5.1855)  1.0786 (Jnode 72)\\n',\n",
       " 't_n90          8.4731 ( 7.8069,  9.3844) ( 7.7586,  9.3161)  1.5575 (Jnode 71)\\n',\n",
       " 't_n91          2.0704 ( 1.6704,  2.5329) ( 1.6616,  2.5158)  0.8542 (Jnode 70)\\n',\n",
       " 't_n92          8.2042 ( 7.5691,  9.0874) ( 7.5065,  9.0013)  1.4948 (Jnode 69)\\n',\n",
       " 't_n93          7.5951 ( 7.0162,  8.3990) ( 6.9710,  8.3256)  1.3546 (Jnode 68)\\n',\n",
       " 't_n94          6.7087 ( 6.2213,  7.3937) ( 6.1852,  7.3443)  1.1591 (Jnode 67)\\n',\n",
       " 't_n95          6.1448 ( 5.7233,  6.7515) ( 5.6963,  6.7108)  1.0144 (Jnode 66)\\n',\n",
       " 't_n96          4.4945 ( 4.1207,  4.9776) ( 4.1058,  4.9579)  0.8522 (Jnode 65)\\n',\n",
       " 't_n97          4.9962 ( 4.7114,  5.4603) ( 4.7012,  5.4120)  0.7108 (Jnode 64)\\n',\n",
       " 't_n98          6.4780 ( 5.9695,  7.1701) ( 5.9518,  7.1412)  1.1894 (Jnode 63)\\n',\n",
       " 't_n99          6.1175 ( 5.6231,  6.7795) ( 5.5998,  6.7369)  1.1371 (Jnode 62)\\n',\n",
       " 't_n100         5.4835 ( 5.0104,  6.0955) ( 4.9842,  6.0602)  1.0760 (Jnode 61)\\n',\n",
       " 't_n101         4.3961 ( 3.9576,  4.9379) ( 3.9324,  4.9101)  0.9778 (Jnode 60)\\n',\n",
       " 't_n102         5.4930 ( 4.9645,  6.1669) ( 4.9453,  6.1314)  1.1862 (Jnode 59)\\n',\n",
       " 't_n103        10.3392 ( 9.4449, 11.5095) ( 9.4057, 11.4500)  2.0443 (Jnode 58)\\n',\n",
       " 't_n104         7.8852 ( 7.1140,  8.8105) ( 7.1156,  8.8113)  1.6957 (Jnode 57)\\n',\n",
       " 't_n105         5.1227 ( 4.4347,  5.7936) ( 4.4657,  5.8148)  1.3491 (Jnode 56)\\n',\n",
       " 't_n106         3.9067 ( 3.2483,  4.6649) ( 3.2146,  4.6132)  1.3986 (Jnode 55)\\n',\n",
       " 't_n107         8.7844 ( 7.6927, 10.2000) ( 7.6083, 10.0709)  2.4627 (Jnode 54)\\n']"
      ]
     },
     "execution_count": 2,
     "metadata": {},
     "output_type": "execute_result"
    }
   ],
   "execution_count": 2
  },
  {
   "metadata": {
    "ExecuteTime": {
     "end_time": "2024-10-14T11:21:13.174409Z",
     "start_time": "2024-10-14T11:21:13.170649Z"
    }
   },
   "cell_type": "code",
   "source": [
    "node_name = []\n",
    "posterior_mean_iqtree = []\n",
    "posterior_mean_baseml = []\n",
    "\n",
    "posterior_mean_mu_iqtree = []\n",
    "posterior_mean_mu_baseml = []\n",
    "\n",
    "posterior_mean_var_iqtree = []\n",
    "posterior_mean_var_baseml = []\n",
    "\n",
    "lower_ci_iqtree = []\n",
    "upper_ci_iqtree = []\n",
    "\n",
    "lower_ci_mu_iqtree = []\n",
    "upper_ci_mu_iqtree = []\n",
    "\n",
    "lower_ci_var_iqtree = []\n",
    "upper_ci_var_iqtree = []\n",
    "\n",
    "# Credible intervals for McmcDate\n",
    "lower_ci_baseml = []\n",
    "upper_ci_baseml = []\n",
    "\n",
    "lower_ci_mu_baseml = []\n",
    "upper_ci_mu_baseml = []\n",
    "\n",
    "lower_ci_var_baseml = []\n",
    "upper_ci_var_baseml = []"
   ],
   "id": "e5cf93a69d327e61",
   "outputs": [],
   "execution_count": 3
  },
  {
   "metadata": {
    "ExecuteTime": {
     "end_time": "2024-10-14T11:21:13.225873Z",
     "start_time": "2024-10-14T11:21:13.221635Z"
    }
   },
   "cell_type": "code",
   "source": [
    "for line in data:\n",
    "    line = line.strip().split()\n",
    "    node_name.append(line[0])\n",
    "    posterior_mean_iqtree.append(float(line[1]))\n",
    "#     if line[3].startswith('('):\n",
    "#         lower_ci_iqtree.append(float(line[3][1:-1]))\n",
    "#     else:\n",
    "#         lower_ci_iqtree.append(float(line[3][1:-1]))\n",
    "#     if line[4].startswith('('):\n",
    "#         upper_ci_iqtree.append(float(line[4][1:-1]))\n",
    "#     else:\n",
    "#         upper_ci_iqtree.append(float(line[4][:-1]))\n",
    "#     # posterior_mean_baseml.append(float(line[4]))\n",
    "#     # lower_ci_baseml.append(float(line[5]))\n",
    "#     # upper_ci_baseml.append(float(line[6]))\n",
    "# \n",
    "# for line in mu_data:\n",
    "#     line = line.strip().split()\n",
    "#     # node_name.append(line[0])\n",
    "#     posterior_mean_mu_iqtree.append(float(line[1]))\n",
    "#     lower_ci_mu_iqtree.append(float(line[3][:-1]))\n",
    "#     upper_ci_mu_iqtree.append(float(line[4][:-1]))\n",
    "#\n",
    "# for line in var_data:\n",
    "#     line = line.strip().split()\n",
    "#     # node_name.append(line[0])\n",
    "#     posterior_mean_var_iqtree.append(float(line[1]))\n",
    "#     lower_ci_var_iqtree.append(float(line[3][:-1]))\n",
    "#     upper_ci_var_iqtree.append(float(line[4][:-1]))"
   ],
   "id": "4e79ee928ea76b59",
   "outputs": [],
   "execution_count": 4
  },
  {
   "metadata": {
    "ExecuteTime": {
     "end_time": "2024-10-14T11:21:13.280547Z",
     "start_time": "2024-10-14T11:21:13.274579Z"
    }
   },
   "cell_type": "code",
   "source": "node_name",
   "id": "2c17f55ec9626a0b",
   "outputs": [
    {
     "data": {
      "text/plain": [
       "['t_n55',\n",
       " 't_n56',\n",
       " 't_n57',\n",
       " 't_n58',\n",
       " 't_n59',\n",
       " 't_n60',\n",
       " 't_n61',\n",
       " 't_n62',\n",
       " 't_n63',\n",
       " 't_n64',\n",
       " 't_n65',\n",
       " 't_n66',\n",
       " 't_n67',\n",
       " 't_n68',\n",
       " 't_n69',\n",
       " 't_n70',\n",
       " 't_n71',\n",
       " 't_n72',\n",
       " 't_n73',\n",
       " 't_n74',\n",
       " 't_n75',\n",
       " 't_n76',\n",
       " 't_n77',\n",
       " 't_n78',\n",
       " 't_n79',\n",
       " 't_n80',\n",
       " 't_n81',\n",
       " 't_n82',\n",
       " 't_n83',\n",
       " 't_n84',\n",
       " 't_n85',\n",
       " 't_n86',\n",
       " 't_n87',\n",
       " 't_n88',\n",
       " 't_n89',\n",
       " 't_n90',\n",
       " 't_n91',\n",
       " 't_n92',\n",
       " 't_n93',\n",
       " 't_n94',\n",
       " 't_n95',\n",
       " 't_n96',\n",
       " 't_n97',\n",
       " 't_n98',\n",
       " 't_n99',\n",
       " 't_n100',\n",
       " 't_n101',\n",
       " 't_n102',\n",
       " 't_n103',\n",
       " 't_n104',\n",
       " 't_n105',\n",
       " 't_n106',\n",
       " 't_n107']"
      ]
     },
     "execution_count": 5,
     "metadata": {},
     "output_type": "execute_result"
    }
   ],
   "execution_count": 5
  },
  {
   "metadata": {
    "ExecuteTime": {
     "end_time": "2024-10-14T11:21:13.341555Z",
     "start_time": "2024-10-14T11:21:13.336992Z"
    }
   },
   "cell_type": "code",
   "source": "posterior_mean_iqtree",
   "id": "24a55c806a41f33e",
   "outputs": [
    {
     "data": {
      "text/plain": [
       "[12.7316,\n",
       " 12.5471,\n",
       " 11.5212,\n",
       " 9.6357,\n",
       " 9.2473,\n",
       " 8.7742,\n",
       " 8.0522,\n",
       " 3.708,\n",
       " 5.6967,\n",
       " 4.0831,\n",
       " 3.5581,\n",
       " 2.7732,\n",
       " 1.8966,\n",
       " 1.2706,\n",
       " 0.5114,\n",
       " 4.2924,\n",
       " 8.8877,\n",
       " 7.9618,\n",
       " 8.0419,\n",
       " 5.831,\n",
       " 5.1607,\n",
       " 4.7703,\n",
       " 8.7035,\n",
       " 8.1988,\n",
       " 7.8164,\n",
       " 7.3671,\n",
       " 6.7409,\n",
       " 6.4874,\n",
       " 5.6545,\n",
       " 5.1514,\n",
       " 4.6824,\n",
       " 3.5513,\n",
       " 3.1659,\n",
       " 5.7553,\n",
       " 4.6181,\n",
       " 8.4731,\n",
       " 2.0704,\n",
       " 8.2042,\n",
       " 7.5951,\n",
       " 6.7087,\n",
       " 6.1448,\n",
       " 4.4945,\n",
       " 4.9962,\n",
       " 6.478,\n",
       " 6.1175,\n",
       " 5.4835,\n",
       " 4.3961,\n",
       " 5.493,\n",
       " 10.3392,\n",
       " 7.8852,\n",
       " 5.1227,\n",
       " 3.9067,\n",
       " 8.7844]"
      ]
     },
     "execution_count": 6,
     "metadata": {},
     "output_type": "execute_result"
    }
   ],
   "execution_count": 6
  },
  {
   "metadata": {
    "ExecuteTime": {
     "end_time": "2024-10-14T11:21:13.401557Z",
     "start_time": "2024-10-14T11:21:13.398295Z"
    }
   },
   "cell_type": "code",
   "source": "lower_ci_iqtree",
   "id": "388aa27ad336d43f",
   "outputs": [
    {
     "data": {
      "text/plain": [
       "[]"
      ]
     },
     "execution_count": 7,
     "metadata": {},
     "output_type": "execute_result"
    }
   ],
   "execution_count": 7
  },
  {
   "metadata": {
    "ExecuteTime": {
     "end_time": "2024-10-14T11:21:13.455677Z",
     "start_time": "2024-10-14T11:21:13.452668Z"
    }
   },
   "cell_type": "code",
   "source": "upper_ci_iqtree",
   "id": "816e569fb763e797",
   "outputs": [
    {
     "data": {
      "text/plain": [
       "[]"
      ]
     },
     "execution_count": 8,
     "metadata": {},
     "output_type": "execute_result"
    }
   ],
   "execution_count": 8
  },
  {
   "metadata": {
    "ExecuteTime": {
     "end_time": "2024-10-14T11:21:13.507229Z",
     "start_time": "2024-10-14T11:21:13.502744Z"
    }
   },
   "cell_type": "code",
   "source": [
    "file_LG = open(\"LG_cherry_out.txt\", \"r\")\n",
    "lines1 = file_LG.readlines()\n",
    "file_LG.close()\n",
    "\n",
    "# Extract the data\n",
    "data1 = []\n",
    "mu_data1 = []\n",
    "var_data1 = []\n",
    "\n",
    "read_flag = False\n",
    "for line in lines1:\n",
    "    if line.startswith(\"Posterior\"):\n",
    "        read_flag = True\n",
    "    if read_flag and line.startswith(\"t\"):\n",
    "        data1.append(line)\n",
    "    if read_flag and line.startswith(\"mu\"):\n",
    "        mu_data1.append(line)\n",
    "    if read_flag and line.startswith(\"sigma\"):\n",
    "        var_data1.append(line)\n",
    "\n",
    "        \n",
    "for line in data1:\n",
    "    line = line.strip().split()\n",
    "    # node_name.append(line[0])\n",
    "    posterior_mean_baseml.append(float(line[1]))\n",
    "#     if line[3].startswith('('):\n",
    "#         lower_ci_baseml.append(float(line[3][1:-1]))\n",
    "#     else:\n",
    "#          lower_ci_baseml.append(float(line[3][:-1]))\n",
    "#     if line[4].startswith('('):\n",
    "#         upper_ci_baseml.append(float(line[4][1:-1]))\n",
    "#     else:\n",
    "#          upper_ci_baseml.append(float(line[4][:-1]))\n",
    "#         \n",
    "#     \n",
    "# for line in mu_data1:\n",
    "#     line = line.strip().split()\n",
    "#     # node_name.append(line[0])\n",
    "#     posterior_mean_mu_baseml.append(float(line[1]))\n",
    "#     lower_ci_mu_baseml.append(float(line[3][:-1]))\n",
    "#     upper_ci_mu_baseml.append(float(line[4][:-1]))\n",
    "    \n",
    "# for line in var_data1:\n",
    "#     line = line.strip().split()\n",
    "#     # node_name.append(line[0])\n",
    "#     posterior_mean_var_baseml.append(float(line[1]))\n",
    "#     lower_ci_var_baseml.append(float(line[3][:-1]))\n",
    "#     upper_ci_var_baseml.append(float(line[4][:-1]))"
   ],
   "id": "f75c012c6bef60a2",
   "outputs": [],
   "execution_count": 9
  },
  {
   "metadata": {
    "ExecuteTime": {
     "end_time": "2024-10-14T11:21:13.559745Z",
     "start_time": "2024-10-14T11:21:13.555927Z"
    }
   },
   "cell_type": "code",
   "source": [
    "import matplotlib.pyplot as plt\n",
    "import numpy as np\n",
    "\n",
    "# # Example data\n",
    "# # Posterior means for MCMCtree (x-axis) and McmcDate (y-axis)\n",
    "# posterior_mean_mcmctree = [100, 200, 300, 400, 500, 600, 700, 800, 900, 1000]\n",
    "# posterior_mean_mcmcdate = [110, 210, 310, 410, 510, 610, 710, 810, 910, 1010]\n",
    "# \n",
    "# # Credible intervals for MCMCtree\n",
    "# lower_ci_mcmctree = [90, 180, 270, 360, 450, 540, 630, 720, 810, 900]\n",
    "# upper_ci_mcmctree = [110, 220, 330, 440, 550, 660, 770, 880, 990, 1100]\n",
    "# \n",
    "# # Credible intervals for McmcDate\n",
    "# lower_ci_mcmcdate = [100, 200, 300, 400, 500, 600, 700, 800, 900, 1000]\n",
    "# upper_ci_mcmcdate = [120, 220, 320, 420, 520, 620, 720, 820, 920, 1020]\n",
    "\n",
    "# Calculate error bars\n",
    "# xerr = [np.array(lower_ci_baseml), \n",
    "#         np.array(upper_ci_baseml)]\n",
    "# yerr = [np.array(lower_ci_iqtree), \n",
    "#         np.array(upper_ci_iqtree)]\n",
    "# \n",
    "# # Plotting\n",
    "# fig, ax = plt.subplots(figsize=(15, 15))\n",
    "# ax.plot([-0.1,90], \n",
    "#         [-0.1, 90], \n",
    "#         'k--', label='y=x')\n",
    "# ax.errorbar(posterior_mean_baseml, posterior_mean_iqtree, \n",
    "#             xerr=xerr, yerr=yerr, fmt='*', ecolor='r', capsize=3, label='95% HPD CI')\n",
    "# \n",
    "# # Labels and title\n",
    "# ax.set_xlabel('Posterior mean age LG [100 Mya]', fontsize=18)\n",
    "# ax.set_ylabel('Posterior mean age LG+G4 [100 Mya]', fontsize=18)\n",
    "# ax.set_title('Posterior mean age comparison between LG and LG+G4 models [t116 ~ B(1.25,2.482)]')\n",
    "# ax.legend()\n",
    "# \n",
    "# # Show plot\n",
    "# # plt.show()\n",
    "# plt.savefig('./animal_origin_posterior_mean_age_comparison_LG_G4_c11.png')"
   ],
   "id": "12db486fa4fac82c",
   "outputs": [],
   "execution_count": 10
  },
  {
   "metadata": {
    "ExecuteTime": {
     "end_time": "2024-10-14T11:21:13.616101Z",
     "start_time": "2024-10-14T11:21:13.609096Z"
    }
   },
   "cell_type": "code",
   "source": "posterior_mean_baseml",
   "id": "917b2e31cff4b992",
   "outputs": [
    {
     "data": {
      "text/plain": [
       "[16.5667,\n",
       " 16.1345,\n",
       " 14.4413,\n",
       " 12.2428,\n",
       " 11.611,\n",
       " 10.8731,\n",
       " 9.8583,\n",
       " 5.3799,\n",
       " 7.4229,\n",
       " 5.519,\n",
       " 4.7046,\n",
       " 3.5508,\n",
       " 2.3471,\n",
       " 1.5474,\n",
       " 0.6618,\n",
       " 5.6592,\n",
       " 10.9607,\n",
       " 9.0003,\n",
       " 9.7308,\n",
       " 6.9798,\n",
       " 5.9305,\n",
       " 5.8451,\n",
       " 10.9792,\n",
       " 10.1824,\n",
       " 9.6398,\n",
       " 8.9734,\n",
       " 8.1547,\n",
       " 7.7356,\n",
       " 6.6394,\n",
       " 5.9023,\n",
       " 5.2159,\n",
       " 3.9015,\n",
       " 3.3153,\n",
       " 6.8826,\n",
       " 5.4406,\n",
       " 10.5664,\n",
       " 2.7444,\n",
       " 10.1068,\n",
       " 9.1805,\n",
       " 7.816,\n",
       " 6.902,\n",
       " 5.0609,\n",
       " 5.0191,\n",
       " 7.6693,\n",
       " 6.9943,\n",
       " 5.9235,\n",
       " 5.2832,\n",
       " 6.5884,\n",
       " 12.7896,\n",
       " 9.5804,\n",
       " 5.9691,\n",
       " 5.7771,\n",
       " 11.8514]"
      ]
     },
     "execution_count": 11,
     "metadata": {},
     "output_type": "execute_result"
    }
   ],
   "execution_count": 11
  },
  {
   "metadata": {
    "ExecuteTime": {
     "end_time": "2024-10-14T11:21:13.731701Z",
     "start_time": "2024-10-14T11:21:13.727216Z"
    }
   },
   "cell_type": "code",
   "source": "posterior_mean_iqtree",
   "id": "59ad8fd34f7bbf11",
   "outputs": [
    {
     "data": {
      "text/plain": [
       "[12.7316,\n",
       " 12.5471,\n",
       " 11.5212,\n",
       " 9.6357,\n",
       " 9.2473,\n",
       " 8.7742,\n",
       " 8.0522,\n",
       " 3.708,\n",
       " 5.6967,\n",
       " 4.0831,\n",
       " 3.5581,\n",
       " 2.7732,\n",
       " 1.8966,\n",
       " 1.2706,\n",
       " 0.5114,\n",
       " 4.2924,\n",
       " 8.8877,\n",
       " 7.9618,\n",
       " 8.0419,\n",
       " 5.831,\n",
       " 5.1607,\n",
       " 4.7703,\n",
       " 8.7035,\n",
       " 8.1988,\n",
       " 7.8164,\n",
       " 7.3671,\n",
       " 6.7409,\n",
       " 6.4874,\n",
       " 5.6545,\n",
       " 5.1514,\n",
       " 4.6824,\n",
       " 3.5513,\n",
       " 3.1659,\n",
       " 5.7553,\n",
       " 4.6181,\n",
       " 8.4731,\n",
       " 2.0704,\n",
       " 8.2042,\n",
       " 7.5951,\n",
       " 6.7087,\n",
       " 6.1448,\n",
       " 4.4945,\n",
       " 4.9962,\n",
       " 6.478,\n",
       " 6.1175,\n",
       " 5.4835,\n",
       " 4.3961,\n",
       " 5.493,\n",
       " 10.3392,\n",
       " 7.8852,\n",
       " 5.1227,\n",
       " 3.9067,\n",
       " 8.7844]"
      ]
     },
     "execution_count": 12,
     "metadata": {},
     "output_type": "execute_result"
    }
   ],
   "execution_count": 12
  },
  {
   "metadata": {
    "ExecuteTime": {
     "end_time": "2024-10-14T11:21:14.018332Z",
     "start_time": "2024-10-14T11:21:13.839833Z"
    }
   },
   "cell_type": "code",
   "source": [
    "# Calculate error bars\n",
    "xerr = [np.array(lower_ci_baseml), \n",
    "        np.array(upper_ci_baseml)]\n",
    "yerr = [np.array(lower_ci_iqtree), \n",
    "        np.array(upper_ci_iqtree)]\n",
    "\n",
    "# Plotting\n",
    "fig, ax = plt.subplots(figsize=(9 ,9))\n",
    "ax.plot([-0.1,17], \n",
    "        [-0.1, 17], \n",
    "        'k--', label='y=x')\n",
    "ax.plot(posterior_mean_baseml, posterior_mean_iqtree, 'o', label='Posterior mean age')\n",
    " \n",
    "# Labels and title\n",
    "ax.set_xlabel('Posterior mean age LG [Mya]', fontsize=18)\n",
    "ax.set_ylabel('Posterior mean age Partition MF [-Q] [Mya]', fontsize=18)\n",
    "ax.set_title('Posterior mean age comparison between LG and Partition MF [-Q] [t97 ~ B(4.7020,5.4900)]')\n",
    "ax.legend()\n",
    "\n",
    "# point_x = posterior_mean_baseml[0]  # Example: first point in the list\n",
    "# point_y = posterior_mean_iqtree[0]  # Example: first point in the list\n",
    "# ax.annotate('Root age', xy=(point_x, point_y), xytext=(point_x - 0.1, point_y - 0.1), color='red')\n",
    "# Show plot\n",
    "# plt.show()\n",
    "plt.savefig('./metazoa_posterior_mean_age_comparison_partition_MF_Q_cherry_scatter.png')"
   ],
   "id": "592d0bb72aa1ad4c",
   "outputs": [
    {
     "data": {
      "text/plain": [
       "<Figure size 900x900 with 1 Axes>"
      ],
      "image/png": "[encoded data removed]"
     },
     "metadata": {},
     "output_type": "display_data"
    }
   ],
   "execution_count": 13
  },
  {
   "metadata": {
    "ExecuteTime": {
     "end_time": "2024-10-14T11:21:14.037072Z",
     "start_time": "2024-10-14T11:21:14.034180Z"
    }
   },
   "cell_type": "code",
   "source": [
    "# fig, ax = plt.subplots(figsize=(9 ,9))\n",
    "# ax.plot([0.01,0.04], \n",
    "#         [0.01, 0.04], \n",
    "#         'k--', label='y=x')\n",
    "# ax.plot(posterior_mean_mu_baseml, posterior_mean_mu_iqtree, 'o', label='Posterior mean rates for partitions')\n",
    "#  \n",
    "# # Labels and title\n",
    "# ax.set_xlabel('Posterior mean rate [LG]', fontsize=18)\n",
    "# ax.set_ylabel('Posterior mean rate [LG+G4]', fontsize=18)\n",
    "# ax.set_title('Posterior mean rate comparison between LG and LG+G4 [Cherry only calibration/IQ-TREE]')\n",
    "# ax.legend()\n",
    "# \n",
    "# # point_x = posterior_mean_baseml[0]  # Example: first point in the list\n",
    "# # point_y = posterior_mean_iqtree[0]  # Example: first point in the list\n",
    "# # ax.annotate('Root age', xy=(point_x, point_y), xytext=(point_x - 0.1, point_y - 0.1), color='red')\n",
    "# # Show plot\n",
    "# # plt.show()\n",
    "# plt.savefig('./animal_origin__posterior_mean_rate_comparison_LG_G4_all_scatter.png')"
   ],
   "id": "c6d69ee36c77970c",
   "outputs": [],
   "execution_count": 14
  },
  {
   "metadata": {
    "ExecuteTime": {
     "end_time": "2024-10-14T11:21:14.083388Z",
     "start_time": "2024-10-14T11:21:14.081372Z"
    }
   },
   "cell_type": "code",
   "source": "",
   "id": "ca69d5b521db3aa7",
   "outputs": [],
   "execution_count": null
  }
 ],
 "metadata": {
  "kernelspec": {
   "display_name": "Python 3",
   "language": "python",
   "name": "python3"
  },
  "language_info": {
   "codemirror_mode": {
    "name": "ipython",
    "version": 2
   },
   "file_extension": ".py",
   "mimetype": "text/x-python",
   "name": "python",
   "nbconvert_exporter": "python",
   "pygments_lexer": "ipython2",
   "version": "2.7.6"
  }
 },
 "nbformat": 4,
 "nbformat_minor": 5
}
