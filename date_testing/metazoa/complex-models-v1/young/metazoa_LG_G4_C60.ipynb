{
 "cells": [
  {
   "cell_type": "code",
   "id": "initial_id",
   "metadata": {
    "collapsed": true,
    "ExecuteTime": {
     "end_time": "2024-10-14T11:19:26.571261Z",
     "start_time": "2024-10-14T11:19:26.062383Z"
    }
   },
   "source": [
    "# Code to get all the Posterior mean (95% Equal-tail CI) (95% HPD CI) HPD-CI-width from ./xenarthra_mcmc_out.txt\n",
    "import numpy as np\n",
    "import pandas as pd\n",
    "import matplotlib.pyplot as plt\n",
    "\n",
    "\n",
    "# Read the file\n",
    "file = open(\"LG_G4_C60_cherry_out.txt\", \"r\")\n",
    "lines = file.readlines()\n",
    "file.close()\n",
    "\n",
    "# Extract the data\n",
    "data = []\n",
    "mu_data = []\n",
    "var_data = []\n",
    "\n",
    "read_flag = False\n",
    "for line in lines:\n",
    "    if line.startswith(\"Posterior\"):\n",
    "        read_flag = True\n",
    "    if read_flag and line.startswith(\"t\"):\n",
    "        data.append(line)\n",
    "    if read_flag and line.startswith(\"mu\"):\n",
    "        mu_data.append(line)\n",
    "    if read_flag and line.startswith(\"sigma\"):\n",
    "        var_data.append(line)"
   ],
   "outputs": [],
   "execution_count": 1
  },
  {
   "metadata": {
    "ExecuteTime": {
     "end_time": "2024-10-14T11:19:26.613326Z",
     "start_time": "2024-10-14T11:19:26.609576Z"
    }
   },
   "cell_type": "code",
   "source": "data",
   "id": "54808ee54195795",
   "outputs": [
    {
     "data": {
      "text/plain": [
       "['t_n55         13.1100 (10.5910, 16.2347) (10.3636, 15.9635)  5.5999 (Jnode 106)\\n',\n",
       " 't_n56         12.7791 (10.3798, 15.6717) (10.2218, 15.4401)  5.2183 (Jnode 105)\\n',\n",
       " 't_n57         12.1204 ( 9.8665, 14.8112) ( 9.7029, 14.5784)  4.8755 (Jnode 104)\\n',\n",
       " 't_n58         10.4934 ( 8.5962, 12.7240) ( 8.4733, 12.5474)  4.0741 (Jnode 103)\\n',\n",
       " 't_n59         10.1964 ( 8.3494, 12.3453) ( 8.2618, 12.2121)  3.9503 (Jnode 102)\\n',\n",
       " 't_n60          9.7930 ( 8.0019, 11.8354) ( 7.9490, 11.7579)  3.8088 (Jnode 101)\\n',\n",
       " 't_n61          9.2031 ( 7.4515, 11.1176) ( 7.3649, 11.0128)  3.6479 (Jnode 100)\\n',\n",
       " 't_n62          4.8124 ( 2.6157,  6.3555) ( 2.7024,  6.4238)  3.7214 (Jnode 99)\\n',\n",
       " 't_n63          6.9677 ( 5.0965,  8.4891) ( 4.9908,  8.3529)  3.3621 (Jnode 98)\\n',\n",
       " 't_n64          5.3135 ( 3.4706,  6.6200) ( 3.3840,  6.5053)  3.1213 (Jnode 97)\\n',\n",
       " 't_n65          4.7481 ( 3.0082,  6.0066) ( 2.9211,  5.8813)  2.9602 (Jnode 96)\\n',\n",
       " 't_n66          3.7121 ( 2.2674,  4.9530) ( 2.1822,  4.8040)  2.6218 (Jnode 95)\\n',\n",
       " 't_n67          2.4985 ( 1.4789,  3.4926) ( 1.3824,  3.3505)  1.9681 (Jnode 94)\\n',\n",
       " 't_n68          1.6514 ( 0.9627,  2.3895) ( 0.9104,  2.3126)  1.4022 (Jnode 93)\\n',\n",
       " 't_n69          0.7121 ( 0.3958,  1.1037) ( 0.3679,  1.0608)  0.6929 (Jnode 92)\\n',\n",
       " 't_n70          5.4014 ( 3.6512,  6.7694) ( 3.5754,  6.6762)  3.1008 (Jnode 91)\\n',\n",
       " 't_n71          9.9772 ( 8.1683, 12.0679) ( 8.0933, 11.9478)  3.8545 (Jnode 90)\\n',\n",
       " 't_n72          9.7026 ( 7.9319, 11.7294) ( 7.8358, 11.6004)  3.7646 (Jnode 89)\\n',\n",
       " 't_n73          9.1143 ( 7.4818, 10.9907) ( 7.4109, 10.8907)  3.4798 (Jnode 88)\\n',\n",
       " 't_n74          6.5531 ( 5.4108,  8.1074) ( 5.3150,  7.9576)  2.6426 (Jnode 87)\\n',\n",
       " 't_n75          5.8925 ( 4.8531,  7.3894) ( 4.7761,  7.2313)  2.4552 (Jnode 86)\\n',\n",
       " 't_n76          5.5278 ( 3.7917,  7.0286) ( 3.8616,  7.0828)  3.2212 (Jnode 85)\\n',\n",
       " 't_n77          9.6308 ( 7.9235, 11.6392) ( 7.8385, 11.5080)  3.6695 (Jnode 84)\\n',\n",
       " 't_n78          9.1988 ( 7.5955, 11.1114) ( 7.4791, 10.9757)  3.4966 (Jnode 83)\\n',\n",
       " 't_n79          8.9129 ( 7.3697, 10.7716) ( 7.2435, 10.6213)  3.3778 (Jnode 82)\\n',\n",
       " 't_n80          8.3867 ( 6.9543, 10.1624) ( 6.8882, 10.0779)  3.1897 (Jnode 81)\\n',\n",
       " 't_n81          7.7548 ( 6.4478,  9.4651) ( 6.3990,  9.3873)  2.9883 (Jnode 80)\\n',\n",
       " 't_n82          7.5637 ( 6.2938,  9.2556) ( 6.2149,  9.1544)  2.9394 (Jnode 79)\\n',\n",
       " 't_n83          6.6616 ( 5.5494,  8.2839) ( 5.5098,  8.2211)  2.7113 (Jnode 78)\\n',\n",
       " 't_n84          6.1182 ( 5.0987,  7.7038) ( 5.0708,  7.6666)  2.5959 (Jnode 77)\\n',\n",
       " 't_n85          5.6498 ( 4.6847,  7.2097) ( 4.7082,  7.2317)  2.5236 (Jnode 76)\\n',\n",
       " 't_n86          4.3110 ( 3.2668,  5.8494) ( 3.2412,  5.8184)  2.5772 (Jnode 75)\\n',\n",
       " 't_n87          4.0019 ( 2.9778,  5.5142) ( 2.9936,  5.5268)  2.5332 (Jnode 74)\\n',\n",
       " 't_n88          6.6975 ( 5.5882,  8.2525) ( 5.5477,  8.2004)  2.6527 (Jnode 73)\\n',\n",
       " 't_n89          5.4993 ( 4.4658,  6.8725) ( 4.4427,  6.8444)  2.4017 (Jnode 72)\\n',\n",
       " 't_n90          9.4491 ( 7.7851, 11.4041) ( 7.7258, 11.3205)  3.5947 (Jnode 71)\\n',\n",
       " 't_n91          1.8843 ( 0.8744,  3.3735) ( 0.7811,  3.1601)  2.3790 (Jnode 70)\\n',\n",
       " 't_n92          9.2319 ( 7.6127, 11.1498) ( 7.5096, 11.0015)  3.4919 (Jnode 69)\\n',\n",
       " 't_n93          8.5850 ( 7.1156, 10.3144) ( 7.0290, 10.2045)  3.1755 (Jnode 68)\\n',\n",
       " 't_n94          7.4155 ( 6.2515,  8.8280) ( 6.1583,  8.6930)  2.5346 (Jnode 67)\\n',\n",
       " 't_n95          6.7452 ( 5.7648,  7.9712) ( 5.6888,  7.8568)  2.1680 (Jnode 66)\\n',\n",
       " 't_n96          4.8656 ( 3.7793,  5.8044) ( 3.7739,  5.7971)  2.0232 (Jnode 65)\\n',\n",
       " 't_n97          5.0383 ( 4.7144,  5.4732) ( 4.7003,  5.4405)  0.7402 (Jnode 64)\\n',\n",
       " 't_n98          7.3005 ( 5.9679,  8.7608) ( 5.9416,  8.7164)  2.7748 (Jnode 63)\\n',\n",
       " 't_n99          7.0436 ( 5.7340,  8.4615) ( 5.6754,  8.3798)  2.7044 (Jnode 62)\\n',\n",
       " 't_n100         6.5693 ( 5.2952,  7.9256) ( 5.2648,  7.8906)  2.6258 (Jnode 61)\\n',\n",
       " 't_n101         4.9657 ( 3.4579,  6.1446) ( 3.4785,  6.1531)  2.6745 (Jnode 60)\\n',\n",
       " 't_n102         6.3286 ( 5.0671,  7.9330) ( 5.0232,  7.8522)  2.8290 (Jnode 59)\\n',\n",
       " 't_n103        11.0841 ( 8.9966, 13.5403) ( 8.9109, 13.3862)  4.4753 (Jnode 58)\\n',\n",
       " 't_n104         8.4864 ( 6.4568, 10.5335) ( 6.5333, 10.5872)  4.0539 (Jnode 57)\\n',\n",
       " 't_n105         5.5329 ( 3.5654,  7.2434) ( 3.5573,  7.2281)  3.6709 (Jnode 56)\\n',\n",
       " 't_n106         4.7071 ( 2.0510,  6.7223) ( 2.0387,  6.7067)  4.6680 (Jnode 55)\\n',\n",
       " 't_n107         8.6534 ( 5.7748, 11.9755) ( 5.4802, 11.6063)  6.1261 (Jnode 54)\\n']"
      ]
     },
     "execution_count": 2,
     "metadata": {},
     "output_type": "execute_result"
    }
   ],
   "execution_count": 2
  },
  {
   "metadata": {
    "ExecuteTime": {
     "end_time": "2024-10-14T11:19:26.665717Z",
     "start_time": "2024-10-14T11:19:26.662770Z"
    }
   },
   "cell_type": "code",
   "source": [
    "node_name = []\n",
    "posterior_mean_iqtree = []\n",
    "posterior_mean_baseml = []\n",
    "\n",
    "posterior_mean_mu_iqtree = []\n",
    "posterior_mean_mu_baseml = []\n",
    "\n",
    "posterior_mean_var_iqtree = []\n",
    "posterior_mean_var_baseml = []\n",
    "\n",
    "lower_ci_iqtree = []\n",
    "upper_ci_iqtree = []\n",
    "\n",
    "lower_ci_mu_iqtree = []\n",
    "upper_ci_mu_iqtree = []\n",
    "\n",
    "lower_ci_var_iqtree = []\n",
    "upper_ci_var_iqtree = []\n",
    "\n",
    "# Credible intervals for McmcDate\n",
    "lower_ci_baseml = []\n",
    "upper_ci_baseml = []\n",
    "\n",
    "lower_ci_mu_baseml = []\n",
    "upper_ci_mu_baseml = []\n",
    "\n",
    "lower_ci_var_baseml = []\n",
    "upper_ci_var_baseml = []"
   ],
   "id": "e5cf93a69d327e61",
   "outputs": [],
   "execution_count": 3
  },
  {
   "metadata": {
    "ExecuteTime": {
     "end_time": "2024-10-14T11:19:26.712640Z",
     "start_time": "2024-10-14T11:19:26.709973Z"
    }
   },
   "cell_type": "code",
   "source": [
    "for line in data:\n",
    "    line = line.strip().split()\n",
    "    node_name.append(line[0])\n",
    "    posterior_mean_iqtree.append(float(line[1]))\n",
    "#     if line[3].startswith('('):\n",
    "#         lower_ci_iqtree.append(float(line[3][1:-1]))\n",
    "#     else:\n",
    "#         lower_ci_iqtree.append(float(line[3][1:-1]))\n",
    "#     if line[4].startswith('('):\n",
    "#         upper_ci_iqtree.append(float(line[4][1:-1]))\n",
    "#     else:\n",
    "#         upper_ci_iqtree.append(float(line[4][:-1]))\n",
    "#     # posterior_mean_baseml.append(float(line[4]))\n",
    "#     # lower_ci_baseml.append(float(line[5]))\n",
    "#     # upper_ci_baseml.append(float(line[6]))\n",
    "# \n",
    "# for line in mu_data:\n",
    "#     line = line.strip().split()\n",
    "#     # node_name.append(line[0])\n",
    "#     posterior_mean_mu_iqtree.append(float(line[1]))\n",
    "#     lower_ci_mu_iqtree.append(float(line[3][:-1]))\n",
    "#     upper_ci_mu_iqtree.append(float(line[4][:-1]))\n",
    "#\n",
    "# for line in var_data:\n",
    "#     line = line.strip().split()\n",
    "#     # node_name.append(line[0])\n",
    "#     posterior_mean_var_iqtree.append(float(line[1]))\n",
    "#     lower_ci_var_iqtree.append(float(line[3][:-1]))\n",
    "#     upper_ci_var_iqtree.append(float(line[4][:-1]))"
   ],
   "id": "4e79ee928ea76b59",
   "outputs": [],
   "execution_count": 4
  },
  {
   "metadata": {
    "ExecuteTime": {
     "end_time": "2024-10-14T11:19:26.771926Z",
     "start_time": "2024-10-14T11:19:26.767921Z"
    }
   },
   "cell_type": "code",
   "source": "node_name",
   "id": "2c17f55ec9626a0b",
   "outputs": [
    {
     "data": {
      "text/plain": [
       "['t_n55',\n",
       " 't_n56',\n",
       " 't_n57',\n",
       " 't_n58',\n",
       " 't_n59',\n",
       " 't_n60',\n",
       " 't_n61',\n",
       " 't_n62',\n",
       " 't_n63',\n",
       " 't_n64',\n",
       " 't_n65',\n",
       " 't_n66',\n",
       " 't_n67',\n",
       " 't_n68',\n",
       " 't_n69',\n",
       " 't_n70',\n",
       " 't_n71',\n",
       " 't_n72',\n",
       " 't_n73',\n",
       " 't_n74',\n",
       " 't_n75',\n",
       " 't_n76',\n",
       " 't_n77',\n",
       " 't_n78',\n",
       " 't_n79',\n",
       " 't_n80',\n",
       " 't_n81',\n",
       " 't_n82',\n",
       " 't_n83',\n",
       " 't_n84',\n",
       " 't_n85',\n",
       " 't_n86',\n",
       " 't_n87',\n",
       " 't_n88',\n",
       " 't_n89',\n",
       " 't_n90',\n",
       " 't_n91',\n",
       " 't_n92',\n",
       " 't_n93',\n",
       " 't_n94',\n",
       " 't_n95',\n",
       " 't_n96',\n",
       " 't_n97',\n",
       " 't_n98',\n",
       " 't_n99',\n",
       " 't_n100',\n",
       " 't_n101',\n",
       " 't_n102',\n",
       " 't_n103',\n",
       " 't_n104',\n",
       " 't_n105',\n",
       " 't_n106',\n",
       " 't_n107']"
      ]
     },
     "execution_count": 5,
     "metadata": {},
     "output_type": "execute_result"
    }
   ],
   "execution_count": 5
  },
  {
   "metadata": {
    "ExecuteTime": {
     "end_time": "2024-10-14T11:19:26.841557Z",
     "start_time": "2024-10-14T11:19:26.837826Z"
    }
   },
   "cell_type": "code",
   "source": "posterior_mean_iqtree",
   "id": "24a55c806a41f33e",
   "outputs": [
    {
     "data": {
      "text/plain": [
       "[13.11,\n",
       " 12.7791,\n",
       " 12.1204,\n",
       " 10.4934,\n",
       " 10.1964,\n",
       " 9.793,\n",
       " 9.2031,\n",
       " 4.8124,\n",
       " 6.9677,\n",
       " 5.3135,\n",
       " 4.7481,\n",
       " 3.7121,\n",
       " 2.4985,\n",
       " 1.6514,\n",
       " 0.7121,\n",
       " 5.4014,\n",
       " 9.9772,\n",
       " 9.7026,\n",
       " 9.1143,\n",
       " 6.5531,\n",
       " 5.8925,\n",
       " 5.5278,\n",
       " 9.6308,\n",
       " 9.1988,\n",
       " 8.9129,\n",
       " 8.3867,\n",
       " 7.7548,\n",
       " 7.5637,\n",
       " 6.6616,\n",
       " 6.1182,\n",
       " 5.6498,\n",
       " 4.311,\n",
       " 4.0019,\n",
       " 6.6975,\n",
       " 5.4993,\n",
       " 9.4491,\n",
       " 1.8843,\n",
       " 9.2319,\n",
       " 8.585,\n",
       " 7.4155,\n",
       " 6.7452,\n",
       " 4.8656,\n",
       " 5.0383,\n",
       " 7.3005,\n",
       " 7.0436,\n",
       " 6.5693,\n",
       " 4.9657,\n",
       " 6.3286,\n",
       " 11.0841,\n",
       " 8.4864,\n",
       " 5.5329,\n",
       " 4.7071,\n",
       " 8.6534]"
      ]
     },
     "execution_count": 6,
     "metadata": {},
     "output_type": "execute_result"
    }
   ],
   "execution_count": 6
  },
  {
   "metadata": {
    "ExecuteTime": {
     "end_time": "2024-10-14T11:19:26.904563Z",
     "start_time": "2024-10-14T11:19:26.900793Z"
    }
   },
   "cell_type": "code",
   "source": "lower_ci_iqtree",
   "id": "388aa27ad336d43f",
   "outputs": [
    {
     "data": {
      "text/plain": [
       "[]"
      ]
     },
     "execution_count": 7,
     "metadata": {},
     "output_type": "execute_result"
    }
   ],
   "execution_count": 7
  },
  {
   "metadata": {
    "ExecuteTime": {
     "end_time": "2024-10-14T11:19:26.968491Z",
     "start_time": "2024-10-14T11:19:26.964402Z"
    }
   },
   "cell_type": "code",
   "source": "upper_ci_iqtree",
   "id": "816e569fb763e797",
   "outputs": [
    {
     "data": {
      "text/plain": [
       "[]"
      ]
     },
     "execution_count": 8,
     "metadata": {},
     "output_type": "execute_result"
    }
   ],
   "execution_count": 8
  },
  {
   "metadata": {
    "ExecuteTime": {
     "end_time": "2024-10-14T11:19:27.020501Z",
     "start_time": "2024-10-14T11:19:27.014042Z"
    }
   },
   "cell_type": "code",
   "source": [
    "file_LG = open(\"LG_cherry_out.txt\", \"r\")\n",
    "lines1 = file_LG.readlines()\n",
    "file_LG.close()\n",
    "\n",
    "# Extract the data\n",
    "data1 = []\n",
    "mu_data1 = []\n",
    "var_data1 = []\n",
    "\n",
    "read_flag = False\n",
    "for line in lines1:\n",
    "    if line.startswith(\"Posterior\"):\n",
    "        read_flag = True\n",
    "    if read_flag and line.startswith(\"t\"):\n",
    "        data1.append(line)\n",
    "    if read_flag and line.startswith(\"mu\"):\n",
    "        mu_data1.append(line)\n",
    "    if read_flag and line.startswith(\"sigma\"):\n",
    "        var_data1.append(line)\n",
    "\n",
    "        \n",
    "for line in data1:\n",
    "    line = line.strip().split()\n",
    "    # node_name.append(line[0])\n",
    "    posterior_mean_baseml.append(float(line[1]))\n",
    "#     if line[3].startswith('('):\n",
    "#         lower_ci_baseml.append(float(line[3][1:-1]))\n",
    "#     else:\n",
    "#          lower_ci_baseml.append(float(line[3][:-1]))\n",
    "#     if line[4].startswith('('):\n",
    "#         upper_ci_baseml.append(float(line[4][1:-1]))\n",
    "#     else:\n",
    "#          upper_ci_baseml.append(float(line[4][:-1]))\n",
    "#         \n",
    "#     \n",
    "# for line in mu_data1:\n",
    "#     line = line.strip().split()\n",
    "#     # node_name.append(line[0])\n",
    "#     posterior_mean_mu_baseml.append(float(line[1]))\n",
    "#     lower_ci_mu_baseml.append(float(line[3][:-1]))\n",
    "#     upper_ci_mu_baseml.append(float(line[4][:-1]))\n",
    "    \n",
    "# for line in var_data1:\n",
    "#     line = line.strip().split()\n",
    "#     # node_name.append(line[0])\n",
    "#     posterior_mean_var_baseml.append(float(line[1]))\n",
    "#     lower_ci_var_baseml.append(float(line[3][:-1]))\n",
    "#     upper_ci_var_baseml.append(float(line[4][:-1]))"
   ],
   "id": "f75c012c6bef60a2",
   "outputs": [],
   "execution_count": 9
  },
  {
   "metadata": {
    "ExecuteTime": {
     "end_time": "2024-10-14T11:19:27.071909Z",
     "start_time": "2024-10-14T11:19:27.065704Z"
    }
   },
   "cell_type": "code",
   "source": [
    "import matplotlib.pyplot as plt\n",
    "import numpy as np\n",
    "\n",
    "# # Example data\n",
    "# # Posterior means for MCMCtree (x-axis) and McmcDate (y-axis)\n",
    "# posterior_mean_mcmctree = [100, 200, 300, 400, 500, 600, 700, 800, 900, 1000]\n",
    "# posterior_mean_mcmcdate = [110, 210, 310, 410, 510, 610, 710, 810, 910, 1010]\n",
    "# \n",
    "# # Credible intervals for MCMCtree\n",
    "# lower_ci_mcmctree = [90, 180, 270, 360, 450, 540, 630, 720, 810, 900]\n",
    "# upper_ci_mcmctree = [110, 220, 330, 440, 550, 660, 770, 880, 990, 1100]\n",
    "# \n",
    "# # Credible intervals for McmcDate\n",
    "# lower_ci_mcmcdate = [100, 200, 300, 400, 500, 600, 700, 800, 900, 1000]\n",
    "# upper_ci_mcmcdate = [120, 220, 320, 420, 520, 620, 720, 820, 920, 1020]\n",
    "\n",
    "# Calculate error bars\n",
    "# xerr = [np.array(lower_ci_baseml), \n",
    "#         np.array(upper_ci_baseml)]\n",
    "# yerr = [np.array(lower_ci_iqtree), \n",
    "#         np.array(upper_ci_iqtree)]\n",
    "# \n",
    "# # Plotting\n",
    "# fig, ax = plt.subplots(figsize=(15, 15))\n",
    "# ax.plot([-0.1,90], \n",
    "#         [-0.1, 90], \n",
    "#         'k--', label='y=x')\n",
    "# ax.errorbar(posterior_mean_baseml, posterior_mean_iqtree, \n",
    "#             xerr=xerr, yerr=yerr, fmt='*', ecolor='r', capsize=3, label='95% HPD CI')\n",
    "# \n",
    "# # Labels and title\n",
    "# ax.set_xlabel('Posterior mean age LG [100 Mya]', fontsize=18)\n",
    "# ax.set_ylabel('Posterior mean age LG+G4 [100 Mya]', fontsize=18)\n",
    "# ax.set_title('Posterior mean age comparison between LG and LG+G4 models [t116 ~ B(1.25,2.482)]')\n",
    "# ax.legend()\n",
    "# \n",
    "# # Show plot\n",
    "# # plt.show()\n",
    "# plt.savefig('./animal_origin_posterior_mean_age_comparison_LG_G4_c11.png')"
   ],
   "id": "12db486fa4fac82c",
   "outputs": [],
   "execution_count": 10
  },
  {
   "metadata": {
    "ExecuteTime": {
     "end_time": "2024-10-14T11:19:27.139631Z",
     "start_time": "2024-10-14T11:19:27.129993Z"
    }
   },
   "cell_type": "code",
   "source": "posterior_mean_baseml",
   "id": "917b2e31cff4b992",
   "outputs": [
    {
     "data": {
      "text/plain": [
       "[16.5667,\n",
       " 16.1345,\n",
       " 14.4413,\n",
       " 12.2428,\n",
       " 11.611,\n",
       " 10.8731,\n",
       " 9.8583,\n",
       " 5.3799,\n",
       " 7.4229,\n",
       " 5.519,\n",
       " 4.7046,\n",
       " 3.5508,\n",
       " 2.3471,\n",
       " 1.5474,\n",
       " 0.6618,\n",
       " 5.6592,\n",
       " 10.9607,\n",
       " 9.0003,\n",
       " 9.7308,\n",
       " 6.9798,\n",
       " 5.9305,\n",
       " 5.8451,\n",
       " 10.9792,\n",
       " 10.1824,\n",
       " 9.6398,\n",
       " 8.9734,\n",
       " 8.1547,\n",
       " 7.7356,\n",
       " 6.6394,\n",
       " 5.9023,\n",
       " 5.2159,\n",
       " 3.9015,\n",
       " 3.3153,\n",
       " 6.8826,\n",
       " 5.4406,\n",
       " 10.5664,\n",
       " 2.7444,\n",
       " 10.1068,\n",
       " 9.1805,\n",
       " 7.816,\n",
       " 6.902,\n",
       " 5.0609,\n",
       " 5.0191,\n",
       " 7.6693,\n",
       " 6.9943,\n",
       " 5.9235,\n",
       " 5.2832,\n",
       " 6.5884,\n",
       " 12.7896,\n",
       " 9.5804,\n",
       " 5.9691,\n",
       " 5.7771,\n",
       " 11.8514]"
      ]
     },
     "execution_count": 11,
     "metadata": {},
     "output_type": "execute_result"
    }
   ],
   "execution_count": 11
  },
  {
   "metadata": {
    "ExecuteTime": {
     "end_time": "2024-10-14T11:19:27.202007Z",
     "start_time": "2024-10-14T11:19:27.198459Z"
    }
   },
   "cell_type": "code",
   "source": "posterior_mean_iqtree",
   "id": "59ad8fd34f7bbf11",
   "outputs": [
    {
     "data": {
      "text/plain": [
       "[13.11,\n",
       " 12.7791,\n",
       " 12.1204,\n",
       " 10.4934,\n",
       " 10.1964,\n",
       " 9.793,\n",
       " 9.2031,\n",
       " 4.8124,\n",
       " 6.9677,\n",
       " 5.3135,\n",
       " 4.7481,\n",
       " 3.7121,\n",
       " 2.4985,\n",
       " 1.6514,\n",
       " 0.7121,\n",
       " 5.4014,\n",
       " 9.9772,\n",
       " 9.7026,\n",
       " 9.1143,\n",
       " 6.5531,\n",
       " 5.8925,\n",
       " 5.5278,\n",
       " 9.6308,\n",
       " 9.1988,\n",
       " 8.9129,\n",
       " 8.3867,\n",
       " 7.7548,\n",
       " 7.5637,\n",
       " 6.6616,\n",
       " 6.1182,\n",
       " 5.6498,\n",
       " 4.311,\n",
       " 4.0019,\n",
       " 6.6975,\n",
       " 5.4993,\n",
       " 9.4491,\n",
       " 1.8843,\n",
       " 9.2319,\n",
       " 8.585,\n",
       " 7.4155,\n",
       " 6.7452,\n",
       " 4.8656,\n",
       " 5.0383,\n",
       " 7.3005,\n",
       " 7.0436,\n",
       " 6.5693,\n",
       " 4.9657,\n",
       " 6.3286,\n",
       " 11.0841,\n",
       " 8.4864,\n",
       " 5.5329,\n",
       " 4.7071,\n",
       " 8.6534]"
      ]
     },
     "execution_count": 12,
     "metadata": {},
     "output_type": "execute_result"
    }
   ],
   "execution_count": 12
  },
  {
   "metadata": {
    "ExecuteTime": {
     "end_time": "2024-10-14T11:19:27.595287Z",
     "start_time": "2024-10-14T11:19:27.400200Z"
    }
   },
   "cell_type": "code",
   "source": [
    "# Calculate error bars\n",
    "xerr = [np.array(lower_ci_baseml), \n",
    "        np.array(upper_ci_baseml)]\n",
    "yerr = [np.array(lower_ci_iqtree), \n",
    "        np.array(upper_ci_iqtree)]\n",
    "\n",
    "# Plotting\n",
    "fig, ax = plt.subplots(figsize=(9 ,9))\n",
    "ax.plot([-0.1,17], \n",
    "        [-0.1, 17], \n",
    "        'k--', label='y=x')\n",
    "ax.plot(posterior_mean_baseml, posterior_mean_iqtree, 'o', label='Posterior mean age')\n",
    " \n",
    "# Labels and title\n",
    "ax.set_xlabel('Posterior mean age LG [Mya]', fontsize=18)\n",
    "ax.set_ylabel('Posterior mean age LG+G4+C60 [Mya]', fontsize=18)\n",
    "ax.set_title('Posterior mean age comparison between LG and LG+G4+C60 [t97 ~ B(4.7020,5.4900)]')\n",
    "ax.legend()\n",
    "\n",
    "# point_x = posterior_mean_baseml[0]  # Example: first point in the list\n",
    "# point_y = posterior_mean_iqtree[0]  # Example: first point in the list\n",
    "# ax.annotate('Root age', xy=(point_x, point_y), xytext=(point_x - 0.1, point_y - 0.1), color='red')\n",
    "# Show plot\n",
    "# plt.show()\n",
    "plt.savefig('./metazoa_posterior_mean_age_comparison_LG_G4_C60_cherry_scatter.png')"
   ],
   "id": "592d0bb72aa1ad4c",
   "outputs": [
    {
     "data": {
      "text/plain": [
       "<Figure size 900x900 with 1 Axes>"
      ],
      "image/png": "[encoded data removed]"
     },
     "metadata": {},
     "output_type": "display_data"
    }
   ],
   "execution_count": 13
  },
  {
   "metadata": {
    "ExecuteTime": {
     "end_time": "2024-10-14T11:19:27.608490Z",
     "start_time": "2024-10-14T11:19:27.605710Z"
    }
   },
   "cell_type": "code",
   "source": [
    "# fig, ax = plt.subplots(figsize=(9 ,9))\n",
    "# ax.plot([0.01,0.04], \n",
    "#         [0.01, 0.04], \n",
    "#         'k--', label='y=x')\n",
    "# ax.plot(posterior_mean_mu_baseml, posterior_mean_mu_iqtree, 'o', label='Posterior mean rates for partitions')\n",
    "#  \n",
    "# # Labels and title\n",
    "# ax.set_xlabel('Posterior mean rate [LG]', fontsize=18)\n",
    "# ax.set_ylabel('Posterior mean rate [LG+G4]', fontsize=18)\n",
    "# ax.set_title('Posterior mean rate comparison between LG and LG+G4 [Cherry only calibration/IQ-TREE]')\n",
    "# ax.legend()\n",
    "# \n",
    "# # point_x = posterior_mean_baseml[0]  # Example: first point in the list\n",
    "# # point_y = posterior_mean_iqtree[0]  # Example: first point in the list\n",
    "# # ax.annotate('Root age', xy=(point_x, point_y), xytext=(point_x - 0.1, point_y - 0.1), color='red')\n",
    "# # Show plot\n",
    "# # plt.show()\n",
    "# plt.savefig('./animal_origin__posterior_mean_rate_comparison_LG_G4_all_scatter.png')"
   ],
   "id": "c6d69ee36c77970c",
   "outputs": [],
   "execution_count": 14
  },
  {
   "metadata": {
    "ExecuteTime": {
     "end_time": "2024-10-14T11:19:27.649971Z",
     "start_time": "2024-10-14T11:19:27.647819Z"
    }
   },
   "cell_type": "code",
   "source": "",
   "id": "ca69d5b521db3aa7",
   "outputs": [],
   "execution_count": null
  }
 ],
 "metadata": {
  "kernelspec": {
   "display_name": "Python 3",
   "language": "python",
   "name": "python3"
  },
  "language_info": {
   "codemirror_mode": {
    "name": "ipython",
    "version": 2
   },
   "file_extension": ".py",
   "mimetype": "text/x-python",
   "name": "python",
   "nbconvert_exporter": "python",
   "pygments_lexer": "ipython2",
   "version": "2.7.6"
  }
 },
 "nbformat": 4,
 "nbformat_minor": 5
}
