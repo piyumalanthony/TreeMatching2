{
 "cells": [
  {
   "cell_type": "code",
   "id": "initial_id",
   "metadata": {
    "collapsed": true,
    "ExecuteTime": {
     "end_time": "2024-10-14T11:15:12.000418Z",
     "start_time": "2024-10-14T11:15:11.993598Z"
    }
   },
   "source": [
    "# Code to get all the Posterior mean (95% Equal-tail CI) (95% HPD CI) HPD-CI-width from ./xenarthra_mcmc_out.txt\n",
    "import numpy as np\n",
    "import pandas as pd\n",
    "import matplotlib.pyplot as plt\n",
    "\n",
    "\n",
    "# Read the file\n",
    "file = open(\"PM_MF_Q_root_out.txt\", \"r\")\n",
    "lines = file.readlines()\n",
    "file.close()\n",
    "\n",
    "# Extract the data\n",
    "data = []\n",
    "mu_data = []\n",
    "var_data = []\n",
    "\n",
    "read_flag = False\n",
    "for line in lines:\n",
    "    if line.startswith(\"Posterior\"):\n",
    "        read_flag = True\n",
    "    if read_flag and line.startswith(\"t\"):\n",
    "        data.append(line)\n",
    "    if read_flag and line.startswith(\"mu\"):\n",
    "        mu_data.append(line)\n",
    "    if read_flag and line.startswith(\"sigma\"):\n",
    "        var_data.append(line)"
   ],
   "outputs": [],
   "execution_count": 4
  },
  {
   "metadata": {
    "ExecuteTime": {
     "end_time": "2024-10-14T11:15:12.010039Z",
     "start_time": "2024-10-14T11:15:12.005772Z"
    }
   },
   "cell_type": "code",
   "source": "data",
   "id": "54808ee54195795",
   "outputs": [
    {
     "data": {
      "text/plain": [
       "['t_n55          5.7168 ( 5.2966,  6.5260) ( 5.2403,  6.3981)  1.1579 (Jnode 106)\\n',\n",
       " 't_n56          5.5648 ( 5.0412,  6.3757) ( 4.9667,  6.2472)  1.2804 (Jnode 105)\\n',\n",
       " 't_n57          5.0893 ( 4.5964,  5.8338) ( 4.5388,  5.7258)  1.1870 (Jnode 104)\\n',\n",
       " 't_n58          4.2291 ( 3.8027,  4.8601) ( 3.7410,  4.7552)  1.0142 (Jnode 103)\\n',\n",
       " 't_n59          4.0546 ( 3.6431,  4.6586) ( 3.5969,  4.5713)  0.9743 (Jnode 102)\\n',\n",
       " 't_n60          3.8449 ( 3.4533,  4.4176) ( 3.4111,  4.3422)  0.9311 (Jnode 101)\\n',\n",
       " 't_n61          3.5266 ( 3.1630,  4.0615) ( 3.1136,  3.9719)  0.8583 (Jnode 100)\\n',\n",
       " 't_n62          1.6216 ( 1.3845,  1.9161) ( 1.3665,  1.8883)  0.5218 (Jnode 99)\\n',\n",
       " 't_n63          2.4966 ( 2.2132,  2.8879) ( 2.1757,  2.8340)  0.6583 (Jnode 98)\\n',\n",
       " 't_n64          1.7918 ( 1.5690,  2.0840) ( 1.5454,  2.0492)  0.5038 (Jnode 97)\\n',\n",
       " 't_n65          1.5619 ( 1.3628,  1.8228) ( 1.3450,  1.7954)  0.4504 (Jnode 96)\\n',\n",
       " 't_n66          1.2183 ( 1.0553,  1.4328) ( 1.0402,  1.4086)  0.3684 (Jnode 95)\\n',\n",
       " 't_n67          0.8340 ( 0.7149,  0.9866) ( 0.7034,  0.9684)  0.2650 (Jnode 94)\\n',\n",
       " 't_n68          0.5590 ( 0.4750,  0.6665) ( 0.4664,  0.6545)  0.1881 (Jnode 93)\\n',\n",
       " 't_n69          0.2251 ( 0.1851,  0.2753) ( 0.1828,  0.2714)  0.0886 (Jnode 92)\\n',\n",
       " 't_n70          1.8823 ( 1.6488,  2.1954) ( 1.6290,  2.1613)  0.5323 (Jnode 91)\\n',\n",
       " 't_n71          3.8934 ( 3.4959,  4.4730) ( 3.4586,  4.4066)  0.9480 (Jnode 90)\\n',\n",
       " 't_n72          3.4824 ( 3.1158,  4.0083) ( 3.0721,  3.9411)  0.8690 (Jnode 89)\\n',\n",
       " 't_n73          3.5101 ( 3.1471,  4.0310) ( 3.0878,  3.9475)  0.8597 (Jnode 88)\\n',\n",
       " 't_n74          2.5159 ( 2.2237,  2.9081) ( 2.1974,  2.8680)  0.6706 (Jnode 87)\\n',\n",
       " 't_n75          2.2166 ( 1.9458,  2.5758) ( 1.9046,  2.5186)  0.6139 (Jnode 86)\\n',\n",
       " 't_n76          2.0220 ( 1.7397,  2.3807) ( 1.7110,  2.3367)  0.6257 (Jnode 85)\\n',\n",
       " 't_n77          3.8144 ( 3.4256,  4.3902) ( 3.3770,  4.3013)  0.9243 (Jnode 84)\\n',\n",
       " 't_n78          3.5902 ( 3.2169,  4.1299) ( 3.1627,  4.0399)  0.8772 (Jnode 83)\\n',\n",
       " 't_n79          3.4198 ( 3.0649,  3.9382) ( 3.0257,  3.8650)  0.8393 (Jnode 82)\\n',\n",
       " 't_n80          3.2183 ( 2.8813,  3.7060) ( 2.8380,  3.6313)  0.7933 (Jnode 81)\\n',\n",
       " 't_n81          2.9385 ( 2.6272,  3.3842) ( 2.5918,  3.3210)  0.7293 (Jnode 80)\\n',\n",
       " 't_n82          2.8252 ( 2.5240,  3.2567) ( 2.4991,  3.2061)  0.7070 (Jnode 79)\\n',\n",
       " 't_n83          2.4541 ( 2.1871,  2.8279) ( 2.1508,  2.7763)  0.6255 (Jnode 78)\\n',\n",
       " 't_n84          2.2311 ( 1.9853,  2.5735) ( 1.9445,  2.5191)  0.5746 (Jnode 77)\\n',\n",
       " 't_n85          2.0260 ( 1.7992,  2.3411) ( 1.7693,  2.2940)  0.5247 (Jnode 76)\\n',\n",
       " 't_n86          1.5358 ( 1.3554,  1.7801) ( 1.3418,  1.7574)  0.4156 (Jnode 75)\\n',\n",
       " 't_n87          1.3691 ( 1.2024,  1.5881) ( 1.1808,  1.5599)  0.3791 (Jnode 74)\\n',\n",
       " 't_n88          2.5022 ( 2.2250,  2.8818) ( 2.1871,  2.8287)  0.6415 (Jnode 73)\\n',\n",
       " 't_n89          2.0012 ( 1.7646,  2.3167) ( 1.7432,  2.2807)  0.5375 (Jnode 72)\\n',\n",
       " 't_n90          3.7134 ( 3.3321,  4.2741) ( 3.2821,  4.1839)  0.9018 (Jnode 71)\\n',\n",
       " 't_n91          0.9093 ( 0.7249,  1.1227) ( 0.7156,  1.1094)  0.3939 (Jnode 70)\\n',\n",
       " 't_n92          3.5961 ( 3.2267,  4.1395) ( 3.1794,  4.0557)  0.8763 (Jnode 69)\\n',\n",
       " 't_n93          3.3328 ( 2.9873,  3.8339) ( 2.9462,  3.7637)  0.8175 (Jnode 68)\\n',\n",
       " 't_n94          2.9509 ( 2.6402,  3.4008) ( 2.6161,  3.3482)  0.7321 (Jnode 67)\\n',\n",
       " 't_n95          2.7086 ( 2.4205,  3.1239) ( 2.3907,  3.0731)  0.6825 (Jnode 66)\\n',\n",
       " 't_n96          1.9863 ( 1.7531,  2.3032) ( 1.7305,  2.2664)  0.5359 (Jnode 65)\\n',\n",
       " 't_n97          2.2150 ( 1.9662,  2.5603) ( 1.9321,  2.5122)  0.5801 (Jnode 64)\\n',\n",
       " 't_n98          2.8448 ( 2.5420,  3.2788) ( 2.5078,  3.2186)  0.7107 (Jnode 63)\\n',\n",
       " 't_n99          2.6869 ( 2.3972,  3.0980) ( 2.3591,  3.0384)  0.6793 (Jnode 62)\\n',\n",
       " 't_n100         2.4090 ( 2.1408,  2.7842) ( 2.1097,  2.7306)  0.6209 (Jnode 61)\\n',\n",
       " 't_n101         1.9328 ( 1.6974,  2.2455) ( 1.6778,  2.2107)  0.5330 (Jnode 60)\\n',\n",
       " 't_n102         2.4079 ( 2.1207,  2.7945) ( 2.0909,  2.7419)  0.6510 (Jnode 59)\\n',\n",
       " 't_n103         4.5494 ( 4.0970,  5.2250) ( 4.0250,  5.1042)  1.0791 (Jnode 58)\\n',\n",
       " 't_n104         3.4252 ( 3.0437,  3.9565) ( 3.0014,  3.8879)  0.8865 (Jnode 57)\\n',\n",
       " 't_n105         2.1722 ( 1.8698,  2.5544) ( 1.8513,  2.5244)  0.6732 (Jnode 56)\\n',\n",
       " 't_n106         1.7056 ( 1.4092,  2.0539) ( 1.3775,  2.0156)  0.6382 (Jnode 55)\\n',\n",
       " 't_n107         4.0079 ( 3.5337,  4.7147) ( 3.4911,  4.6354)  1.1443 (Jnode 54)\\n']"
      ]
     },
     "execution_count": 5,
     "metadata": {},
     "output_type": "execute_result"
    }
   ],
   "execution_count": 5
  },
  {
   "metadata": {
    "ExecuteTime": {
     "end_time": "2024-10-14T11:15:12.128621Z",
     "start_time": "2024-10-14T11:15:12.124380Z"
    }
   },
   "cell_type": "code",
   "source": [
    "node_name = []\n",
    "posterior_mean_iqtree = []\n",
    "posterior_mean_baseml = []\n",
    "\n",
    "posterior_mean_mu_iqtree = []\n",
    "posterior_mean_mu_baseml = []\n",
    "\n",
    "posterior_mean_var_iqtree = []\n",
    "posterior_mean_var_baseml = []\n",
    "\n",
    "lower_ci_iqtree = []\n",
    "upper_ci_iqtree = []\n",
    "\n",
    "lower_ci_mu_iqtree = []\n",
    "upper_ci_mu_iqtree = []\n",
    "\n",
    "lower_ci_var_iqtree = []\n",
    "upper_ci_var_iqtree = []\n",
    "\n",
    "# Credible intervals for McmcDate\n",
    "lower_ci_baseml = []\n",
    "upper_ci_baseml = []\n",
    "\n",
    "lower_ci_mu_baseml = []\n",
    "upper_ci_mu_baseml = []\n",
    "\n",
    "lower_ci_var_baseml = []\n",
    "upper_ci_var_baseml = []"
   ],
   "id": "e5cf93a69d327e61",
   "outputs": [],
   "execution_count": 6
  },
  {
   "metadata": {
    "ExecuteTime": {
     "end_time": "2024-10-14T11:15:12.175935Z",
     "start_time": "2024-10-14T11:15:12.172364Z"
    }
   },
   "cell_type": "code",
   "source": [
    "for line in data:\n",
    "    line = line.strip().split()\n",
    "    node_name.append(line[0])\n",
    "    posterior_mean_iqtree.append(float(line[1]))\n",
    "#     if line[3].startswith('('):\n",
    "#         lower_ci_iqtree.append(float(line[3][1:-1]))\n",
    "#     else:\n",
    "#         lower_ci_iqtree.append(float(line[3][1:-1]))\n",
    "#     if line[4].startswith('('):\n",
    "#         upper_ci_iqtree.append(float(line[4][1:-1]))\n",
    "#     else:\n",
    "#         upper_ci_iqtree.append(float(line[4][:-1]))\n",
    "#     # posterior_mean_baseml.append(float(line[4]))\n",
    "#     # lower_ci_baseml.append(float(line[5]))\n",
    "#     # upper_ci_baseml.append(float(line[6]))\n",
    "# \n",
    "# for line in mu_data:\n",
    "#     line = line.strip().split()\n",
    "#     # node_name.append(line[0])\n",
    "#     posterior_mean_mu_iqtree.append(float(line[1]))\n",
    "#     lower_ci_mu_iqtree.append(float(line[3][:-1]))\n",
    "#     upper_ci_mu_iqtree.append(float(line[4][:-1]))\n",
    "#\n",
    "# for line in var_data:\n",
    "#     line = line.strip().split()\n",
    "#     # node_name.append(line[0])\n",
    "#     posterior_mean_var_iqtree.append(float(line[1]))\n",
    "#     lower_ci_var_iqtree.append(float(line[3][:-1]))\n",
    "#     upper_ci_var_iqtree.append(float(line[4][:-1]))"
   ],
   "id": "4e79ee928ea76b59",
   "outputs": [],
   "execution_count": 7
  },
  {
   "metadata": {
    "ExecuteTime": {
     "end_time": "2024-10-14T11:15:12.229361Z",
     "start_time": "2024-10-14T11:15:12.223682Z"
    }
   },
   "cell_type": "code",
   "source": "node_name",
   "id": "2c17f55ec9626a0b",
   "outputs": [
    {
     "data": {
      "text/plain": [
       "['t_n55',\n",
       " 't_n56',\n",
       " 't_n57',\n",
       " 't_n58',\n",
       " 't_n59',\n",
       " 't_n60',\n",
       " 't_n61',\n",
       " 't_n62',\n",
       " 't_n63',\n",
       " 't_n64',\n",
       " 't_n65',\n",
       " 't_n66',\n",
       " 't_n67',\n",
       " 't_n68',\n",
       " 't_n69',\n",
       " 't_n70',\n",
       " 't_n71',\n",
       " 't_n72',\n",
       " 't_n73',\n",
       " 't_n74',\n",
       " 't_n75',\n",
       " 't_n76',\n",
       " 't_n77',\n",
       " 't_n78',\n",
       " 't_n79',\n",
       " 't_n80',\n",
       " 't_n81',\n",
       " 't_n82',\n",
       " 't_n83',\n",
       " 't_n84',\n",
       " 't_n85',\n",
       " 't_n86',\n",
       " 't_n87',\n",
       " 't_n88',\n",
       " 't_n89',\n",
       " 't_n90',\n",
       " 't_n91',\n",
       " 't_n92',\n",
       " 't_n93',\n",
       " 't_n94',\n",
       " 't_n95',\n",
       " 't_n96',\n",
       " 't_n97',\n",
       " 't_n98',\n",
       " 't_n99',\n",
       " 't_n100',\n",
       " 't_n101',\n",
       " 't_n102',\n",
       " 't_n103',\n",
       " 't_n104',\n",
       " 't_n105',\n",
       " 't_n106',\n",
       " 't_n107']"
      ]
     },
     "execution_count": 8,
     "metadata": {},
     "output_type": "execute_result"
    }
   ],
   "execution_count": 8
  },
  {
   "metadata": {
    "ExecuteTime": {
     "end_time": "2024-10-14T11:15:12.284605Z",
     "start_time": "2024-10-14T11:15:12.280005Z"
    }
   },
   "cell_type": "code",
   "source": "posterior_mean_iqtree",
   "id": "24a55c806a41f33e",
   "outputs": [
    {
     "data": {
      "text/plain": [
       "[5.7168,\n",
       " 5.5648,\n",
       " 5.0893,\n",
       " 4.2291,\n",
       " 4.0546,\n",
       " 3.8449,\n",
       " 3.5266,\n",
       " 1.6216,\n",
       " 2.4966,\n",
       " 1.7918,\n",
       " 1.5619,\n",
       " 1.2183,\n",
       " 0.834,\n",
       " 0.559,\n",
       " 0.2251,\n",
       " 1.8823,\n",
       " 3.8934,\n",
       " 3.4824,\n",
       " 3.5101,\n",
       " 2.5159,\n",
       " 2.2166,\n",
       " 2.022,\n",
       " 3.8144,\n",
       " 3.5902,\n",
       " 3.4198,\n",
       " 3.2183,\n",
       " 2.9385,\n",
       " 2.8252,\n",
       " 2.4541,\n",
       " 2.2311,\n",
       " 2.026,\n",
       " 1.5358,\n",
       " 1.3691,\n",
       " 2.5022,\n",
       " 2.0012,\n",
       " 3.7134,\n",
       " 0.9093,\n",
       " 3.5961,\n",
       " 3.3328,\n",
       " 2.9509,\n",
       " 2.7086,\n",
       " 1.9863,\n",
       " 2.215,\n",
       " 2.8448,\n",
       " 2.6869,\n",
       " 2.409,\n",
       " 1.9328,\n",
       " 2.4079,\n",
       " 4.5494,\n",
       " 3.4252,\n",
       " 2.1722,\n",
       " 1.7056,\n",
       " 4.0079]"
      ]
     },
     "execution_count": 9,
     "metadata": {},
     "output_type": "execute_result"
    }
   ],
   "execution_count": 9
  },
  {
   "metadata": {
    "ExecuteTime": {
     "end_time": "2024-10-14T11:15:12.342809Z",
     "start_time": "2024-10-14T11:15:12.337062Z"
    }
   },
   "cell_type": "code",
   "source": "lower_ci_iqtree",
   "id": "388aa27ad336d43f",
   "outputs": [
    {
     "data": {
      "text/plain": [
       "[]"
      ]
     },
     "execution_count": 10,
     "metadata": {},
     "output_type": "execute_result"
    }
   ],
   "execution_count": 10
  },
  {
   "metadata": {
    "ExecuteTime": {
     "end_time": "2024-10-14T11:15:12.400054Z",
     "start_time": "2024-10-14T11:15:12.396078Z"
    }
   },
   "cell_type": "code",
   "source": "upper_ci_iqtree",
   "id": "816e569fb763e797",
   "outputs": [
    {
     "data": {
      "text/plain": [
       "[]"
      ]
     },
     "execution_count": 11,
     "metadata": {},
     "output_type": "execute_result"
    }
   ],
   "execution_count": 11
  },
  {
   "metadata": {
    "ExecuteTime": {
     "end_time": "2024-10-14T11:15:12.459109Z",
     "start_time": "2024-10-14T11:15:12.450340Z"
    }
   },
   "cell_type": "code",
   "source": [
    "file_LG = open(\"LG_root_out.txt\", \"r\")\n",
    "lines1 = file_LG.readlines()\n",
    "file_LG.close()\n",
    "\n",
    "# Extract the data\n",
    "data1 = []\n",
    "mu_data1 = []\n",
    "var_data1 = []\n",
    "\n",
    "read_flag = False\n",
    "for line in lines1:\n",
    "    if line.startswith(\"Posterior\"):\n",
    "        read_flag = True\n",
    "    if read_flag and line.startswith(\"t\"):\n",
    "        data1.append(line)\n",
    "    if read_flag and line.startswith(\"mu\"):\n",
    "        mu_data1.append(line)\n",
    "    if read_flag and line.startswith(\"sigma\"):\n",
    "        var_data1.append(line)\n",
    "\n",
    "        \n",
    "for line in data1:\n",
    "    line = line.strip().split()\n",
    "    # node_name.append(line[0])\n",
    "    posterior_mean_baseml.append(float(line[1]))\n",
    "#     if line[3].startswith('('):\n",
    "#         lower_ci_baseml.append(float(line[3][1:-1]))\n",
    "#     else:\n",
    "#          lower_ci_baseml.append(float(line[3][:-1]))\n",
    "#     if line[4].startswith('('):\n",
    "#         upper_ci_baseml.append(float(line[4][1:-1]))\n",
    "#     else:\n",
    "#          upper_ci_baseml.append(float(line[4][:-1]))\n",
    "#         \n",
    "#     \n",
    "# for line in mu_data1:\n",
    "#     line = line.strip().split()\n",
    "#     # node_name.append(line[0])\n",
    "#     posterior_mean_mu_baseml.append(float(line[1]))\n",
    "#     lower_ci_mu_baseml.append(float(line[3][:-1]))\n",
    "#     upper_ci_mu_baseml.append(float(line[4][:-1]))\n",
    "    \n",
    "# for line in var_data1:\n",
    "#     line = line.strip().split()\n",
    "#     # node_name.append(line[0])\n",
    "#     posterior_mean_var_baseml.append(float(line[1]))\n",
    "#     lower_ci_var_baseml.append(float(line[3][:-1]))\n",
    "#     upper_ci_var_baseml.append(float(line[4][:-1]))"
   ],
   "id": "f75c012c6bef60a2",
   "outputs": [],
   "execution_count": 12
  },
  {
   "metadata": {
    "ExecuteTime": {
     "end_time": "2024-10-14T11:15:12.508003Z",
     "start_time": "2024-10-14T11:15:12.503736Z"
    }
   },
   "cell_type": "code",
   "source": [
    "import matplotlib.pyplot as plt\n",
    "import numpy as np\n",
    "\n",
    "# # Example data\n",
    "# # Posterior means for MCMCtree (x-axis) and McmcDate (y-axis)\n",
    "# posterior_mean_mcmctree = [100, 200, 300, 400, 500, 600, 700, 800, 900, 1000]\n",
    "# posterior_mean_mcmcdate = [110, 210, 310, 410, 510, 610, 710, 810, 910, 1010]\n",
    "# \n",
    "# # Credible intervals for MCMCtree\n",
    "# lower_ci_mcmctree = [90, 180, 270, 360, 450, 540, 630, 720, 810, 900]\n",
    "# upper_ci_mcmctree = [110, 220, 330, 440, 550, 660, 770, 880, 990, 1100]\n",
    "# \n",
    "# # Credible intervals for McmcDate\n",
    "# lower_ci_mcmcdate = [100, 200, 300, 400, 500, 600, 700, 800, 900, 1000]\n",
    "# upper_ci_mcmcdate = [120, 220, 320, 420, 520, 620, 720, 820, 920, 1020]\n",
    "\n",
    "# Calculate error bars\n",
    "# xerr = [np.array(lower_ci_baseml), \n",
    "#         np.array(upper_ci_baseml)]\n",
    "# yerr = [np.array(lower_ci_iqtree), \n",
    "#         np.array(upper_ci_iqtree)]\n",
    "# \n",
    "# # Plotting\n",
    "# fig, ax = plt.subplots(figsize=(15, 15))\n",
    "# ax.plot([-0.1,90], \n",
    "#         [-0.1, 90], \n",
    "#         'k--', label='y=x')\n",
    "# ax.errorbar(posterior_mean_baseml, posterior_mean_iqtree, \n",
    "#             xerr=xerr, yerr=yerr, fmt='*', ecolor='r', capsize=3, label='95% HPD CI')\n",
    "# \n",
    "# # Labels and title\n",
    "# ax.set_xlabel('Posterior mean age LG [100 Mya]', fontsize=18)\n",
    "# ax.set_ylabel('Posterior mean age LG+G4 [100 Mya]', fontsize=18)\n",
    "# ax.set_title('Posterior mean age comparison between LG and LG+G4 models [t116 ~ B(1.25,2.482)]')\n",
    "# ax.legend()\n",
    "# \n",
    "# # Show plot\n",
    "# # plt.show()\n",
    "# plt.savefig('./animal_origin_posterior_mean_age_comparison_LG_G4_c11.png')"
   ],
   "id": "12db486fa4fac82c",
   "outputs": [],
   "execution_count": 13
  },
  {
   "metadata": {
    "ExecuteTime": {
     "end_time": "2024-10-14T11:15:12.557557Z",
     "start_time": "2024-10-14T11:15:12.552857Z"
    }
   },
   "cell_type": "code",
   "source": "posterior_mean_baseml",
   "id": "917b2e31cff4b992",
   "outputs": [
    {
     "data": {
      "text/plain": [
       "[5.8295,\n",
       " 5.3294,\n",
       " 4.6322,\n",
       " 3.7672,\n",
       " 3.5438,\n",
       " 3.2829,\n",
       " 2.9208,\n",
       " 1.4046,\n",
       " 2.0669,\n",
       " 1.4629,\n",
       " 1.2307,\n",
       " 0.9226,\n",
       " 0.61,\n",
       " 0.4033,\n",
       " 0.1719,\n",
       " 1.5299,\n",
       " 3.3235,\n",
       " 2.6952,\n",
       " 2.9221,\n",
       " 2.0667,\n",
       " 1.7505,\n",
       " 1.6858,\n",
       " 3.3347,\n",
       " 3.073,\n",
       " 2.8958,\n",
       " 2.6776,\n",
       " 2.41,\n",
       " 2.2746,\n",
       " 1.9234,\n",
       " 1.6946,\n",
       " 1.4863,\n",
       " 1.106,\n",
       " 0.9388,\n",
       " 2.0052,\n",
       " 1.5604,\n",
       " 3.2021,\n",
       " 0.8357,\n",
       " 3.0584,\n",
       " 2.7767,\n",
       " 2.3821,\n",
       " 2.1225,\n",
       " 1.5258,\n",
       " 1.6431,\n",
       " 2.3024,\n",
       " 2.0939,\n",
       " 1.7684,\n",
       " 1.5215,\n",
       " 1.988,\n",
       " 4.0066,\n",
       " 2.8972,\n",
       " 1.7432,\n",
       " 1.5841,\n",
       " 4.4262]"
      ]
     },
     "execution_count": 14,
     "metadata": {},
     "output_type": "execute_result"
    }
   ],
   "execution_count": 14
  },
  {
   "metadata": {
    "ExecuteTime": {
     "end_time": "2024-10-14T11:15:12.609986Z",
     "start_time": "2024-10-14T11:15:12.605965Z"
    }
   },
   "cell_type": "code",
   "source": "posterior_mean_iqtree",
   "id": "59ad8fd34f7bbf11",
   "outputs": [
    {
     "data": {
      "text/plain": [
       "[5.7168,\n",
       " 5.5648,\n",
       " 5.0893,\n",
       " 4.2291,\n",
       " 4.0546,\n",
       " 3.8449,\n",
       " 3.5266,\n",
       " 1.6216,\n",
       " 2.4966,\n",
       " 1.7918,\n",
       " 1.5619,\n",
       " 1.2183,\n",
       " 0.834,\n",
       " 0.559,\n",
       " 0.2251,\n",
       " 1.8823,\n",
       " 3.8934,\n",
       " 3.4824,\n",
       " 3.5101,\n",
       " 2.5159,\n",
       " 2.2166,\n",
       " 2.022,\n",
       " 3.8144,\n",
       " 3.5902,\n",
       " 3.4198,\n",
       " 3.2183,\n",
       " 2.9385,\n",
       " 2.8252,\n",
       " 2.4541,\n",
       " 2.2311,\n",
       " 2.026,\n",
       " 1.5358,\n",
       " 1.3691,\n",
       " 2.5022,\n",
       " 2.0012,\n",
       " 3.7134,\n",
       " 0.9093,\n",
       " 3.5961,\n",
       " 3.3328,\n",
       " 2.9509,\n",
       " 2.7086,\n",
       " 1.9863,\n",
       " 2.215,\n",
       " 2.8448,\n",
       " 2.6869,\n",
       " 2.409,\n",
       " 1.9328,\n",
       " 2.4079,\n",
       " 4.5494,\n",
       " 3.4252,\n",
       " 2.1722,\n",
       " 1.7056,\n",
       " 4.0079]"
      ]
     },
     "execution_count": 15,
     "metadata": {},
     "output_type": "execute_result"
    }
   ],
   "execution_count": 15
  },
  {
   "metadata": {
    "ExecuteTime": {
     "end_time": "2024-10-14T11:15:12.893713Z",
     "start_time": "2024-10-14T11:15:12.657799Z"
    }
   },
   "cell_type": "code",
   "source": [
    "# Calculate error bars\n",
    "xerr = [np.array(lower_ci_baseml), \n",
    "        np.array(upper_ci_baseml)]\n",
    "yerr = [np.array(lower_ci_iqtree), \n",
    "        np.array(upper_ci_iqtree)]\n",
    "\n",
    "# Plotting\n",
    "fig, ax = plt.subplots(figsize=(9 ,9))\n",
    "ax.plot([-0.1,17], \n",
    "        [-0.1, 17], \n",
    "        'k--', label='y=x')\n",
    "ax.plot(posterior_mean_baseml, posterior_mean_iqtree, 'o', label='Posterior mean age')\n",
    " \n",
    "# Labels and title\n",
    "ax.set_xlabel('Posterior mean age LG [Mya]', fontsize=18)\n",
    "ax.set_ylabel('Posterior mean age Partition MF [-Q] [Mya]', fontsize=18)\n",
    "ax.set_title('Posterior mean age comparison between LG and Partition MF [-Q] [t55 ~ B(5.5285, 8.3300)]')\n",
    "ax.legend()\n",
    "\n",
    "# point_x = posterior_mean_baseml[0]  # Example: first point in the list\n",
    "# point_y = posterior_mean_iqtree[0]  # Example: first point in the list\n",
    "# ax.annotate('Root age', xy=(point_x, point_y), xytext=(point_x - 0.1, point_y - 0.1), color='red')\n",
    "# Show plot\n",
    "# plt.show()\n",
    "plt.savefig('./metazoa_posterior_mean_age_comparison_partition_MF_Q_root_scatter.png')"
   ],
   "id": "592d0bb72aa1ad4c",
   "outputs": [
    {
     "data": {
      "text/plain": [
       "<Figure size 900x900 with 1 Axes>"
      ],
      "image/png": "[encoded data removed]"
     },
     "metadata": {},
     "output_type": "display_data"
    }
   ],
   "execution_count": 16
  },
  {
   "metadata": {
    "ExecuteTime": {
     "end_time": "2024-10-14T11:15:12.908683Z",
     "start_time": "2024-10-14T11:15:12.904776Z"
    }
   },
   "cell_type": "code",
   "source": [
    "# fig, ax = plt.subplots(figsize=(9 ,9))\n",
    "# ax.plot([0.01,0.04], \n",
    "#         [0.01, 0.04], \n",
    "#         'k--', label='y=x')\n",
    "# ax.plot(posterior_mean_mu_baseml, posterior_mean_mu_iqtree, 'o', label='Posterior mean rates for partitions')\n",
    "#  \n",
    "# # Labels and title\n",
    "# ax.set_xlabel('Posterior mean rate [LG]', fontsize=18)\n",
    "# ax.set_ylabel('Posterior mean rate [LG+G4]', fontsize=18)\n",
    "# ax.set_title('Posterior mean rate comparison between LG and LG+G4 [Cherry only calibration/IQ-TREE]')\n",
    "# ax.legend()\n",
    "# \n",
    "# # point_x = posterior_mean_baseml[0]  # Example: first point in the list\n",
    "# # point_y = posterior_mean_iqtree[0]  # Example: first point in the list\n",
    "# # ax.annotate('Root age', xy=(point_x, point_y), xytext=(point_x - 0.1, point_y - 0.1), color='red')\n",
    "# # Show plot\n",
    "# # plt.show()\n",
    "# plt.savefig('./animal_origin__posterior_mean_rate_comparison_LG_G4_all_scatter.png')"
   ],
   "id": "c6d69ee36c77970c",
   "outputs": [],
   "execution_count": 17
  },
  {
   "metadata": {
    "ExecuteTime": {
     "end_time": "2024-10-14T11:15:12.955066Z",
     "start_time": "2024-10-14T11:15:12.951385Z"
    }
   },
   "cell_type": "code",
   "source": "",
   "id": "ca69d5b521db3aa7",
   "outputs": [],
   "execution_count": null
  }
 ],
 "metadata": {
  "kernelspec": {
   "display_name": "Python 3",
   "language": "python",
   "name": "python3"
  },
  "language_info": {
   "codemirror_mode": {
    "name": "ipython",
    "version": 2
   },
   "file_extension": ".py",
   "mimetype": "text/x-python",
   "name": "python",
   "nbconvert_exporter": "python",
   "pygments_lexer": "ipython2",
   "version": "2.7.6"
  }
 },
 "nbformat": 4,
 "nbformat_minor": 5
}
