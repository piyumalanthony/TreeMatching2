{
 "cells": [
  {
   "cell_type": "code",
   "id": "initial_id",
   "metadata": {
    "collapsed": true,
    "ExecuteTime": {
     "end_time": "2024-10-14T11:12:25.397666Z",
     "start_time": "2024-10-14T11:12:24.995344Z"
    }
   },
   "source": [
    "# Code to get all the Posterior mean (95% Equal-tail CI) (95% HPD CI) HPD-CI-width from ./xenarthra_mcmc_out.txt\n",
    "import numpy as np\n",
    "import pandas as pd\n",
    "import matplotlib.pyplot as plt\n",
    "\n",
    "\n",
    "# Read the file\n",
    "file = open(\"LG_G4_C60_root_out.txt\", \"r\")\n",
    "lines = file.readlines()\n",
    "file.close()\n",
    "\n",
    "# Extract the data\n",
    "data = []\n",
    "mu_data = []\n",
    "var_data = []\n",
    "\n",
    "read_flag = False\n",
    "for line in lines:\n",
    "    if line.startswith(\"Posterior\"):\n",
    "        read_flag = True\n",
    "    if read_flag and line.startswith(\"t\"):\n",
    "        data.append(line)\n",
    "    if read_flag and line.startswith(\"mu\"):\n",
    "        mu_data.append(line)\n",
    "    if read_flag and line.startswith(\"sigma\"):\n",
    "        var_data.append(line)"
   ],
   "outputs": [],
   "execution_count": 1
  },
  {
   "metadata": {
    "ExecuteTime": {
     "end_time": "2024-10-14T11:12:25.411305Z",
     "start_time": "2024-10-14T11:12:25.405937Z"
    }
   },
   "cell_type": "code",
   "source": "data",
   "id": "54808ee54195795",
   "outputs": [
    {
     "data": {
      "text/plain": [
       "['t_n55          5.7772 ( 5.3258,  6.7481) ( 5.2493,  6.5891)  1.3398 (Jnode 106)\\n',\n",
       " 't_n56          5.0102 ( 3.9032,  6.0671) ( 3.8968,  6.0562)  2.1594 (Jnode 105)\\n',\n",
       " 't_n57          4.6538 ( 3.6041,  5.6546) ( 3.6028,  5.6526)  2.0498 (Jnode 104)\\n',\n",
       " 't_n58          3.8224 ( 2.9176,  4.6733) ( 2.8990,  4.6511)  1.7521 (Jnode 103)\\n',\n",
       " 't_n59          3.6923 ( 2.8157,  4.5226) ( 2.8067,  4.5069)  1.7003 (Jnode 102)\\n',\n",
       " 't_n60          3.5150 ( 2.6815,  4.3148) ( 2.6856,  4.3183)  1.6327 (Jnode 101)\\n',\n",
       " 't_n61          3.2500 ( 2.4706,  4.0106) ( 2.4359,  3.9715)  1.5357 (Jnode 100)\\n',\n",
       " 't_n62          1.3956 ( 0.8508,  2.0002) ( 0.8434,  1.9879)  1.1445 (Jnode 99)\\n',\n",
       " 't_n63          2.2203 ( 1.6259,  2.8539) ( 1.5919,  2.8098)  1.2179 (Jnode 98)\\n',\n",
       " 't_n64          1.5687 ( 1.1136,  2.0856) ( 1.0858,  2.0498)  0.9640 (Jnode 97)\\n',\n",
       " 't_n65          1.3778 ( 0.9679,  1.8510) ( 0.9355,  1.8141)  0.8787 (Jnode 96)\\n',\n",
       " 't_n66          1.0615 ( 0.7310,  1.4513) ( 0.7128,  1.4268)  0.7140 (Jnode 95)\\n',\n",
       " 't_n67          0.7130 ( 0.4788,  0.9991) ( 0.4709,  0.9851)  0.5143 (Jnode 94)\\n',\n",
       " 't_n68          0.4733 ( 0.3104,  0.6784) ( 0.2913,  0.6527)  0.3614 (Jnode 93)\\n',\n",
       " 't_n69          0.2025 ( 0.1273,  0.3035) ( 0.1183,  0.2910)  0.1727 (Jnode 92)\\n',\n",
       " 't_n70          1.6387 ( 1.1569,  2.1806) ( 1.1315,  2.1445)  1.0129 (Jnode 91)\\n',\n",
       " 't_n71          3.5994 ( 2.7457,  4.4134) ( 2.7405,  4.4064)  1.6659 (Jnode 90)\\n',\n",
       " 't_n72          3.4859 ( 2.6539,  4.2893) ( 2.6572,  4.2915)  1.6343 (Jnode 89)\\n',\n",
       " 't_n73          3.2407 ( 2.4568,  4.0004) ( 2.4552,  3.9968)  1.5415 (Jnode 88)\\n',\n",
       " 't_n74          2.2472 ( 1.6099,  2.9169) ( 1.6077,  2.9127)  1.3050 (Jnode 87)\\n',\n",
       " 't_n75          2.0090 ( 1.4193,  2.6443) ( 1.4067,  2.6285)  1.2218 (Jnode 86)\\n',\n",
       " 't_n76          1.7350 ( 1.1010,  2.4172) ( 1.0693,  2.3777)  1.3084 (Jnode 85)\\n',\n",
       " 't_n77          3.4697 ( 2.6377,  4.2585) ( 2.6265,  4.2442)  1.6177 (Jnode 84)\\n',\n",
       " 't_n78          3.3007 ( 2.5019,  4.0628) ( 2.4942,  4.0497)  1.5555 (Jnode 83)\\n',\n",
       " 't_n79          3.1885 ( 2.4170,  3.9339) ( 2.4131,  3.9272)  1.5141 (Jnode 82)\\n',\n",
       " 't_n80          2.9768 ( 2.2529,  3.6839) ( 2.2606,  3.6897)  1.4292 (Jnode 81)\\n',\n",
       " 't_n81          2.7207 ( 2.0499,  3.3813) ( 2.0565,  3.3857)  1.3293 (Jnode 80)\\n',\n",
       " 't_n82          2.6440 ( 1.9942,  3.2911) ( 1.9927,  3.2881)  1.2954 (Jnode 79)\\n',\n",
       " 't_n83          2.2857 ( 1.7112,  2.8753) ( 1.7217,  2.8842)  1.1625 (Jnode 78)\\n',\n",
       " 't_n84          2.0766 ( 1.5463,  2.6259) ( 1.5182,  2.5946)  1.0763 (Jnode 77)\\n',\n",
       " 't_n85          1.8996 ( 1.4076,  2.4144) ( 1.3899,  2.3936)  1.0037 (Jnode 76)\\n',\n",
       " 't_n86          1.4091 ( 1.0167,  1.8356) ( 1.0147,  1.8321)  0.8174 (Jnode 75)\\n',\n",
       " 't_n87          1.2998 ( 0.9313,  1.7056) ( 0.9087,  1.6826)  0.7739 (Jnode 74)\\n',\n",
       " 't_n88          2.3023 ( 1.7197,  2.8982) ( 1.7306,  2.9078)  1.1772 (Jnode 73)\\n',\n",
       " 't_n89          1.8471 ( 1.3430,  2.3812) ( 1.3155,  2.3492)  1.0338 (Jnode 72)\\n',\n",
       " 't_n90          3.4010 ( 2.5838,  4.1803) ( 2.5788,  4.1742)  1.5954 (Jnode 71)\\n',\n",
       " 't_n91          0.6942 ( 0.3523,  1.1631) ( 0.3095,  1.1005)  0.7910 (Jnode 70)\\n',\n",
       " 't_n92          3.3209 ( 2.5185,  4.0803) ( 2.5206,  4.0810)  1.5604 (Jnode 69)\\n',\n",
       " 't_n93          3.0965 ( 2.3398,  3.8194) ( 2.3479,  3.8251)  1.4773 (Jnode 68)\\n',\n",
       " 't_n94          2.7371 ( 2.0549,  3.4014) ( 2.0493,  3.3925)  1.3432 (Jnode 67)\\n',\n",
       " 't_n95          2.5365 ( 1.9001,  3.1705) ( 1.8908,  3.1583)  1.2675 (Jnode 66)\\n',\n",
       " 't_n96          1.8402 ( 1.3154,  2.3859) ( 1.2980,  2.3676)  1.0697 (Jnode 65)\\n',\n",
       " 't_n97          2.1187 ( 1.5649,  2.6881) ( 1.5647,  2.6877)  1.1230 (Jnode 64)\\n',\n",
       " 't_n98          2.6281 ( 1.9723,  3.2714) ( 1.9954,  3.2925)  1.2971 (Jnode 63)\\n',\n",
       " 't_n99          2.5327 ( 1.8976,  3.1574) ( 1.8950,  3.1529)  1.2579 (Jnode 62)\\n',\n",
       " 't_n100         2.3591 ( 1.7563,  2.9578) ( 1.7491,  2.9485)  1.1994 (Jnode 61)\\n',\n",
       " 't_n101         1.6881 ( 1.1843,  2.2279) ( 1.1910,  2.2332)  1.0422 (Jnode 60)\\n',\n",
       " 't_n102         2.2696 ( 1.6317,  2.9241) ( 1.6046,  2.8930)  1.2884 (Jnode 59)\\n',\n",
       " 't_n103         4.1277 ( 3.1471,  5.0551) ( 3.1261,  5.0289)  1.9028 (Jnode 58)\\n',\n",
       " 't_n104         2.9236 ( 2.0513,  3.7854) ( 2.0547,  3.7870)  1.7322 (Jnode 57)\\n',\n",
       " 't_n105         1.7369 ( 1.0766,  2.4980) ( 1.0491,  2.4576)  1.4084 (Jnode 56)\\n',\n",
       " 't_n106         1.3412 ( 0.7028,  2.1092) ( 0.6602,  2.0469)  1.3868 (Jnode 55)\\n',\n",
       " 't_n107         4.2940 ( 2.8064,  5.8704) ( 2.7901,  5.8462)  3.0561 (Jnode 54)\\n']"
      ]
     },
     "execution_count": 2,
     "metadata": {},
     "output_type": "execute_result"
    }
   ],
   "execution_count": 2
  },
  {
   "metadata": {
    "ExecuteTime": {
     "end_time": "2024-10-14T11:12:25.462506Z",
     "start_time": "2024-10-14T11:12:25.458634Z"
    }
   },
   "cell_type": "code",
   "source": [
    "node_name = []\n",
    "posterior_mean_iqtree = []\n",
    "posterior_mean_baseml = []\n",
    "\n",
    "posterior_mean_mu_iqtree = []\n",
    "posterior_mean_mu_baseml = []\n",
    "\n",
    "posterior_mean_var_iqtree = []\n",
    "posterior_mean_var_baseml = []\n",
    "\n",
    "lower_ci_iqtree = []\n",
    "upper_ci_iqtree = []\n",
    "\n",
    "lower_ci_mu_iqtree = []\n",
    "upper_ci_mu_iqtree = []\n",
    "\n",
    "lower_ci_var_iqtree = []\n",
    "upper_ci_var_iqtree = []\n",
    "\n",
    "# Credible intervals for McmcDate\n",
    "lower_ci_baseml = []\n",
    "upper_ci_baseml = []\n",
    "\n",
    "lower_ci_mu_baseml = []\n",
    "upper_ci_mu_baseml = []\n",
    "\n",
    "lower_ci_var_baseml = []\n",
    "upper_ci_var_baseml = []"
   ],
   "id": "e5cf93a69d327e61",
   "outputs": [],
   "execution_count": 3
  },
  {
   "metadata": {
    "ExecuteTime": {
     "end_time": "2024-10-14T11:12:25.516001Z",
     "start_time": "2024-10-14T11:12:25.510561Z"
    }
   },
   "cell_type": "code",
   "source": [
    "for line in data:\n",
    "    line = line.strip().split()\n",
    "    node_name.append(line[0])\n",
    "    posterior_mean_iqtree.append(float(line[1]))\n",
    "#     if line[3].startswith('('):\n",
    "#         lower_ci_iqtree.append(float(line[3][1:-1]))\n",
    "#     else:\n",
    "#         lower_ci_iqtree.append(float(line[3][1:-1]))\n",
    "#     if line[4].startswith('('):\n",
    "#         upper_ci_iqtree.append(float(line[4][1:-1]))\n",
    "#     else:\n",
    "#         upper_ci_iqtree.append(float(line[4][:-1]))\n",
    "#     # posterior_mean_baseml.append(float(line[4]))\n",
    "#     # lower_ci_baseml.append(float(line[5]))\n",
    "#     # upper_ci_baseml.append(float(line[6]))\n",
    "# \n",
    "# for line in mu_data:\n",
    "#     line = line.strip().split()\n",
    "#     # node_name.append(line[0])\n",
    "#     posterior_mean_mu_iqtree.append(float(line[1]))\n",
    "#     lower_ci_mu_iqtree.append(float(line[3][:-1]))\n",
    "#     upper_ci_mu_iqtree.append(float(line[4][:-1]))\n",
    "#\n",
    "# for line in var_data:\n",
    "#     line = line.strip().split()\n",
    "#     # node_name.append(line[0])\n",
    "#     posterior_mean_var_iqtree.append(float(line[1]))\n",
    "#     lower_ci_var_iqtree.append(float(line[3][:-1]))\n",
    "#     upper_ci_var_iqtree.append(float(line[4][:-1]))"
   ],
   "id": "4e79ee928ea76b59",
   "outputs": [],
   "execution_count": 4
  },
  {
   "metadata": {
    "ExecuteTime": {
     "end_time": "2024-10-14T11:12:25.581692Z",
     "start_time": "2024-10-14T11:12:25.577602Z"
    }
   },
   "cell_type": "code",
   "source": "node_name",
   "id": "2c17f55ec9626a0b",
   "outputs": [
    {
     "data": {
      "text/plain": [
       "['t_n55',\n",
       " 't_n56',\n",
       " 't_n57',\n",
       " 't_n58',\n",
       " 't_n59',\n",
       " 't_n60',\n",
       " 't_n61',\n",
       " 't_n62',\n",
       " 't_n63',\n",
       " 't_n64',\n",
       " 't_n65',\n",
       " 't_n66',\n",
       " 't_n67',\n",
       " 't_n68',\n",
       " 't_n69',\n",
       " 't_n70',\n",
       " 't_n71',\n",
       " 't_n72',\n",
       " 't_n73',\n",
       " 't_n74',\n",
       " 't_n75',\n",
       " 't_n76',\n",
       " 't_n77',\n",
       " 't_n78',\n",
       " 't_n79',\n",
       " 't_n80',\n",
       " 't_n81',\n",
       " 't_n82',\n",
       " 't_n83',\n",
       " 't_n84',\n",
       " 't_n85',\n",
       " 't_n86',\n",
       " 't_n87',\n",
       " 't_n88',\n",
       " 't_n89',\n",
       " 't_n90',\n",
       " 't_n91',\n",
       " 't_n92',\n",
       " 't_n93',\n",
       " 't_n94',\n",
       " 't_n95',\n",
       " 't_n96',\n",
       " 't_n97',\n",
       " 't_n98',\n",
       " 't_n99',\n",
       " 't_n100',\n",
       " 't_n101',\n",
       " 't_n102',\n",
       " 't_n103',\n",
       " 't_n104',\n",
       " 't_n105',\n",
       " 't_n106',\n",
       " 't_n107']"
      ]
     },
     "execution_count": 5,
     "metadata": {},
     "output_type": "execute_result"
    }
   ],
   "execution_count": 5
  },
  {
   "metadata": {
    "ExecuteTime": {
     "end_time": "2024-10-14T11:12:25.641346Z",
     "start_time": "2024-10-14T11:12:25.638182Z"
    }
   },
   "cell_type": "code",
   "source": "posterior_mean_iqtree",
   "id": "24a55c806a41f33e",
   "outputs": [
    {
     "data": {
      "text/plain": [
       "[5.7772,\n",
       " 5.0102,\n",
       " 4.6538,\n",
       " 3.8224,\n",
       " 3.6923,\n",
       " 3.515,\n",
       " 3.25,\n",
       " 1.3956,\n",
       " 2.2203,\n",
       " 1.5687,\n",
       " 1.3778,\n",
       " 1.0615,\n",
       " 0.713,\n",
       " 0.4733,\n",
       " 0.2025,\n",
       " 1.6387,\n",
       " 3.5994,\n",
       " 3.4859,\n",
       " 3.2407,\n",
       " 2.2472,\n",
       " 2.009,\n",
       " 1.735,\n",
       " 3.4697,\n",
       " 3.3007,\n",
       " 3.1885,\n",
       " 2.9768,\n",
       " 2.7207,\n",
       " 2.644,\n",
       " 2.2857,\n",
       " 2.0766,\n",
       " 1.8996,\n",
       " 1.4091,\n",
       " 1.2998,\n",
       " 2.3023,\n",
       " 1.8471,\n",
       " 3.401,\n",
       " 0.6942,\n",
       " 3.3209,\n",
       " 3.0965,\n",
       " 2.7371,\n",
       " 2.5365,\n",
       " 1.8402,\n",
       " 2.1187,\n",
       " 2.6281,\n",
       " 2.5327,\n",
       " 2.3591,\n",
       " 1.6881,\n",
       " 2.2696,\n",
       " 4.1277,\n",
       " 2.9236,\n",
       " 1.7369,\n",
       " 1.3412,\n",
       " 4.294]"
      ]
     },
     "execution_count": 6,
     "metadata": {},
     "output_type": "execute_result"
    }
   ],
   "execution_count": 6
  },
  {
   "metadata": {
    "ExecuteTime": {
     "end_time": "2024-10-14T11:12:25.697542Z",
     "start_time": "2024-10-14T11:12:25.694176Z"
    }
   },
   "cell_type": "code",
   "source": "lower_ci_iqtree",
   "id": "388aa27ad336d43f",
   "outputs": [
    {
     "data": {
      "text/plain": [
       "[]"
      ]
     },
     "execution_count": 7,
     "metadata": {},
     "output_type": "execute_result"
    }
   ],
   "execution_count": 7
  },
  {
   "metadata": {
    "ExecuteTime": {
     "end_time": "2024-10-14T11:12:25.753805Z",
     "start_time": "2024-10-14T11:12:25.749797Z"
    }
   },
   "cell_type": "code",
   "source": "upper_ci_iqtree",
   "id": "816e569fb763e797",
   "outputs": [
    {
     "data": {
      "text/plain": [
       "[]"
      ]
     },
     "execution_count": 8,
     "metadata": {},
     "output_type": "execute_result"
    }
   ],
   "execution_count": 8
  },
  {
   "metadata": {
    "ExecuteTime": {
     "end_time": "2024-10-14T11:12:25.807826Z",
     "start_time": "2024-10-14T11:12:25.802748Z"
    }
   },
   "cell_type": "code",
   "source": [
    "file_LG = open(\"LG_root_out.txt\", \"r\")\n",
    "lines1 = file_LG.readlines()\n",
    "file_LG.close()\n",
    "\n",
    "# Extract the data\n",
    "data1 = []\n",
    "mu_data1 = []\n",
    "var_data1 = []\n",
    "\n",
    "read_flag = False\n",
    "for line in lines1:\n",
    "    if line.startswith(\"Posterior\"):\n",
    "        read_flag = True\n",
    "    if read_flag and line.startswith(\"t\"):\n",
    "        data1.append(line)\n",
    "    if read_flag and line.startswith(\"mu\"):\n",
    "        mu_data1.append(line)\n",
    "    if read_flag and line.startswith(\"sigma\"):\n",
    "        var_data1.append(line)\n",
    "\n",
    "        \n",
    "for line in data1:\n",
    "    line = line.strip().split()\n",
    "    # node_name.append(line[0])\n",
    "    posterior_mean_baseml.append(float(line[1]))\n",
    "#     if line[3].startswith('('):\n",
    "#         lower_ci_baseml.append(float(line[3][1:-1]))\n",
    "#     else:\n",
    "#          lower_ci_baseml.append(float(line[3][:-1]))\n",
    "#     if line[4].startswith('('):\n",
    "#         upper_ci_baseml.append(float(line[4][1:-1]))\n",
    "#     else:\n",
    "#          upper_ci_baseml.append(float(line[4][:-1]))\n",
    "#         \n",
    "#     \n",
    "# for line in mu_data1:\n",
    "#     line = line.strip().split()\n",
    "#     # node_name.append(line[0])\n",
    "#     posterior_mean_mu_baseml.append(float(line[1]))\n",
    "#     lower_ci_mu_baseml.append(float(line[3][:-1]))\n",
    "#     upper_ci_mu_baseml.append(float(line[4][:-1]))\n",
    "    \n",
    "# for line in var_data1:\n",
    "#     line = line.strip().split()\n",
    "#     # node_name.append(line[0])\n",
    "#     posterior_mean_var_baseml.append(float(line[1]))\n",
    "#     lower_ci_var_baseml.append(float(line[3][:-1]))\n",
    "#     upper_ci_var_baseml.append(float(line[4][:-1]))"
   ],
   "id": "f75c012c6bef60a2",
   "outputs": [],
   "execution_count": 9
  },
  {
   "metadata": {
    "ExecuteTime": {
     "end_time": "2024-10-14T11:12:25.854452Z",
     "start_time": "2024-10-14T11:12:25.850513Z"
    }
   },
   "cell_type": "code",
   "source": [
    "import matplotlib.pyplot as plt\n",
    "import numpy as np\n",
    "\n",
    "# # Example data\n",
    "# # Posterior means for MCMCtree (x-axis) and McmcDate (y-axis)\n",
    "# posterior_mean_mcmctree = [100, 200, 300, 400, 500, 600, 700, 800, 900, 1000]\n",
    "# posterior_mean_mcmcdate = [110, 210, 310, 410, 510, 610, 710, 810, 910, 1010]\n",
    "# \n",
    "# # Credible intervals for MCMCtree\n",
    "# lower_ci_mcmctree = [90, 180, 270, 360, 450, 540, 630, 720, 810, 900]\n",
    "# upper_ci_mcmctree = [110, 220, 330, 440, 550, 660, 770, 880, 990, 1100]\n",
    "# \n",
    "# # Credible intervals for McmcDate\n",
    "# lower_ci_mcmcdate = [100, 200, 300, 400, 500, 600, 700, 800, 900, 1000]\n",
    "# upper_ci_mcmcdate = [120, 220, 320, 420, 520, 620, 720, 820, 920, 1020]\n",
    "\n",
    "# Calculate error bars\n",
    "# xerr = [np.array(lower_ci_baseml), \n",
    "#         np.array(upper_ci_baseml)]\n",
    "# yerr = [np.array(lower_ci_iqtree), \n",
    "#         np.array(upper_ci_iqtree)]\n",
    "# \n",
    "# # Plotting\n",
    "# fig, ax = plt.subplots(figsize=(15, 15))\n",
    "# ax.plot([-0.1,90], \n",
    "#         [-0.1, 90], \n",
    "#         'k--', label='y=x')\n",
    "# ax.errorbar(posterior_mean_baseml, posterior_mean_iqtree, \n",
    "#             xerr=xerr, yerr=yerr, fmt='*', ecolor='r', capsize=3, label='95% HPD CI')\n",
    "# \n",
    "# # Labels and title\n",
    "# ax.set_xlabel('Posterior mean age LG [100 Mya]', fontsize=18)\n",
    "# ax.set_ylabel('Posterior mean age LG+G4 [100 Mya]', fontsize=18)\n",
    "# ax.set_title('Posterior mean age comparison between LG and LG+G4 models [t116 ~ B(1.25,2.482)]')\n",
    "# ax.legend()\n",
    "# \n",
    "# # Show plot\n",
    "# # plt.show()\n",
    "# plt.savefig('./animal_origin_posterior_mean_age_comparison_LG_G4_c11.png')"
   ],
   "id": "12db486fa4fac82c",
   "outputs": [],
   "execution_count": 10
  },
  {
   "metadata": {
    "ExecuteTime": {
     "end_time": "2024-10-14T11:12:25.907782Z",
     "start_time": "2024-10-14T11:12:25.904033Z"
    }
   },
   "cell_type": "code",
   "source": "posterior_mean_baseml",
   "id": "917b2e31cff4b992",
   "outputs": [
    {
     "data": {
      "text/plain": [
       "[5.8295,\n",
       " 5.3294,\n",
       " 4.6322,\n",
       " 3.7672,\n",
       " 3.5438,\n",
       " 3.2829,\n",
       " 2.9208,\n",
       " 1.4046,\n",
       " 2.0669,\n",
       " 1.4629,\n",
       " 1.2307,\n",
       " 0.9226,\n",
       " 0.61,\n",
       " 0.4033,\n",
       " 0.1719,\n",
       " 1.5299,\n",
       " 3.3235,\n",
       " 2.6952,\n",
       " 2.9221,\n",
       " 2.0667,\n",
       " 1.7505,\n",
       " 1.6858,\n",
       " 3.3347,\n",
       " 3.073,\n",
       " 2.8958,\n",
       " 2.6776,\n",
       " 2.41,\n",
       " 2.2746,\n",
       " 1.9234,\n",
       " 1.6946,\n",
       " 1.4863,\n",
       " 1.106,\n",
       " 0.9388,\n",
       " 2.0052,\n",
       " 1.5604,\n",
       " 3.2021,\n",
       " 0.8357,\n",
       " 3.0584,\n",
       " 2.7767,\n",
       " 2.3821,\n",
       " 2.1225,\n",
       " 1.5258,\n",
       " 1.6431,\n",
       " 2.3024,\n",
       " 2.0939,\n",
       " 1.7684,\n",
       " 1.5215,\n",
       " 1.988,\n",
       " 4.0066,\n",
       " 2.8972,\n",
       " 1.7432,\n",
       " 1.5841,\n",
       " 4.4262]"
      ]
     },
     "execution_count": 11,
     "metadata": {},
     "output_type": "execute_result"
    }
   ],
   "execution_count": 11
  },
  {
   "metadata": {
    "ExecuteTime": {
     "end_time": "2024-10-14T11:12:26.035200Z",
     "start_time": "2024-10-14T11:12:26.029187Z"
    }
   },
   "cell_type": "code",
   "source": "posterior_mean_iqtree",
   "id": "59ad8fd34f7bbf11",
   "outputs": [
    {
     "data": {
      "text/plain": [
       "[5.7772,\n",
       " 5.0102,\n",
       " 4.6538,\n",
       " 3.8224,\n",
       " 3.6923,\n",
       " 3.515,\n",
       " 3.25,\n",
       " 1.3956,\n",
       " 2.2203,\n",
       " 1.5687,\n",
       " 1.3778,\n",
       " 1.0615,\n",
       " 0.713,\n",
       " 0.4733,\n",
       " 0.2025,\n",
       " 1.6387,\n",
       " 3.5994,\n",
       " 3.4859,\n",
       " 3.2407,\n",
       " 2.2472,\n",
       " 2.009,\n",
       " 1.735,\n",
       " 3.4697,\n",
       " 3.3007,\n",
       " 3.1885,\n",
       " 2.9768,\n",
       " 2.7207,\n",
       " 2.644,\n",
       " 2.2857,\n",
       " 2.0766,\n",
       " 1.8996,\n",
       " 1.4091,\n",
       " 1.2998,\n",
       " 2.3023,\n",
       " 1.8471,\n",
       " 3.401,\n",
       " 0.6942,\n",
       " 3.3209,\n",
       " 3.0965,\n",
       " 2.7371,\n",
       " 2.5365,\n",
       " 1.8402,\n",
       " 2.1187,\n",
       " 2.6281,\n",
       " 2.5327,\n",
       " 2.3591,\n",
       " 1.6881,\n",
       " 2.2696,\n",
       " 4.1277,\n",
       " 2.9236,\n",
       " 1.7369,\n",
       " 1.3412,\n",
       " 4.294]"
      ]
     },
     "execution_count": 12,
     "metadata": {},
     "output_type": "execute_result"
    }
   ],
   "execution_count": 12
  },
  {
   "metadata": {
    "ExecuteTime": {
     "end_time": "2024-10-14T11:12:26.361807Z",
     "start_time": "2024-10-14T11:12:26.152345Z"
    }
   },
   "cell_type": "code",
   "source": [
    "# Calculate error bars\n",
    "xerr = [np.array(lower_ci_baseml), \n",
    "        np.array(upper_ci_baseml)]\n",
    "yerr = [np.array(lower_ci_iqtree), \n",
    "        np.array(upper_ci_iqtree)]\n",
    "\n",
    "# Plotting\n",
    "fig, ax = plt.subplots(figsize=(9 ,9))\n",
    "ax.plot([-0.1,17], \n",
    "        [-0.1, 17], \n",
    "        'k--', label='y=x')\n",
    "ax.plot(posterior_mean_baseml, posterior_mean_iqtree, 'o', label='Posterior mean age')\n",
    " \n",
    "# Labels and title\n",
    "ax.set_xlabel('Posterior mean age LG [Mya]', fontsize=18)\n",
    "ax.set_ylabel('Posterior mean age LG+G4+C60 [Mya]', fontsize=18)\n",
    "ax.set_title('Posterior mean age comparison between LG and LG+G4+C60 [t55 ~ B(5.5285, 8.3300)]')\n",
    "ax.legend()\n",
    "\n",
    "# point_x = posterior_mean_baseml[0]  # Example: first point in the list\n",
    "# point_y = posterior_mean_iqtree[0]  # Example: first point in the list\n",
    "# ax.annotate('Root age', xy=(point_x, point_y), xytext=(point_x - 0.1, point_y - 0.1), color='red')\n",
    "# Show plot\n",
    "# plt.show()\n",
    "plt.savefig('./metazoa_posterior_mean_age_comparison_LG_G4_C60_root_scatter.png')"
   ],
   "id": "592d0bb72aa1ad4c",
   "outputs": [
    {
     "data": {
      "text/plain": [
       "<Figure size 900x900 with 1 Axes>"
      ],
      "image/png": "[encoded data removed]"
     },
     "metadata": {},
     "output_type": "display_data"
    }
   ],
   "execution_count": 13
  },
  {
   "metadata": {
    "ExecuteTime": {
     "end_time": "2024-10-14T11:12:26.374282Z",
     "start_time": "2024-10-14T11:12:26.371127Z"
    }
   },
   "cell_type": "code",
   "source": [
    "# fig, ax = plt.subplots(figsize=(9 ,9))\n",
    "# ax.plot([0.01,0.04], \n",
    "#         [0.01, 0.04], \n",
    "#         'k--', label='y=x')\n",
    "# ax.plot(posterior_mean_mu_baseml, posterior_mean_mu_iqtree, 'o', label='Posterior mean rates for partitions')\n",
    "#  \n",
    "# # Labels and title\n",
    "# ax.set_xlabel('Posterior mean rate [LG]', fontsize=18)\n",
    "# ax.set_ylabel('Posterior mean rate [LG+G4]', fontsize=18)\n",
    "# ax.set_title('Posterior mean rate comparison between LG and LG+G4 [Cherry only calibration/IQ-TREE]')\n",
    "# ax.legend()\n",
    "# \n",
    "# # point_x = posterior_mean_baseml[0]  # Example: first point in the list\n",
    "# # point_y = posterior_mean_iqtree[0]  # Example: first point in the list\n",
    "# # ax.annotate('Root age', xy=(point_x, point_y), xytext=(point_x - 0.1, point_y - 0.1), color='red')\n",
    "# # Show plot\n",
    "# # plt.show()\n",
    "# plt.savefig('./animal_origin__posterior_mean_rate_comparison_LG_G4_all_scatter.png')"
   ],
   "id": "c6d69ee36c77970c",
   "outputs": [],
   "execution_count": 14
  },
  {
   "metadata": {
    "ExecuteTime": {
     "end_time": "2024-10-14T11:12:26.415563Z",
     "start_time": "2024-10-14T11:12:26.413509Z"
    }
   },
   "cell_type": "code",
   "source": "",
   "id": "ca69d5b521db3aa7",
   "outputs": [],
   "execution_count": null
  }
 ],
 "metadata": {
  "kernelspec": {
   "display_name": "Python 3",
   "language": "python",
   "name": "python3"
  },
  "language_info": {
   "codemirror_mode": {
    "name": "ipython",
    "version": 2
   },
   "file_extension": ".py",
   "mimetype": "text/x-python",
   "name": "python",
   "nbconvert_exporter": "python",
   "pygments_lexer": "ipython2",
   "version": "2.7.6"
  }
 },
 "nbformat": 4,
 "nbformat_minor": 5
}
