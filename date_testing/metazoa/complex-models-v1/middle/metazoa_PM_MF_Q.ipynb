{
 "cells": [
  {
   "cell_type": "code",
   "id": "initial_id",
   "metadata": {
    "collapsed": true,
    "ExecuteTime": {
     "end_time": "2024-10-14T11:09:46.658548Z",
     "start_time": "2024-10-14T11:09:46.653369Z"
    }
   },
   "source": [
    "# Code to get all the Posterior mean (95% Equal-tail CI) (95% HPD CI) HPD-CI-width from ./xenarthra_mcmc_out.txt\n",
    "import numpy as np\n",
    "import pandas as pd\n",
    "import matplotlib.pyplot as plt\n",
    "\n",
    "\n",
    "# Read the file\n",
    "file = open(\"PM_MF_Q_middle_out.txt\", \"r\")\n",
    "lines = file.readlines()\n",
    "file.close()\n",
    "\n",
    "# Extract the data\n",
    "data = []\n",
    "mu_data = []\n",
    "var_data = []\n",
    "\n",
    "read_flag = False\n",
    "for line in lines:\n",
    "    if line.startswith(\"Posterior\"):\n",
    "        read_flag = True\n",
    "    if read_flag and line.startswith(\"t\"):\n",
    "        data.append(line)\n",
    "    if read_flag and line.startswith(\"mu\"):\n",
    "        mu_data.append(line)\n",
    "    if read_flag and line.startswith(\"sigma\"):\n",
    "        var_data.append(line)"
   ],
   "outputs": [],
   "execution_count": 29
  },
  {
   "metadata": {
    "ExecuteTime": {
     "end_time": "2024-10-14T11:09:46.709688Z",
     "start_time": "2024-10-14T11:09:46.705087Z"
    }
   },
   "cell_type": "code",
   "source": "data",
   "id": "54808ee54195795",
   "outputs": [
    {
     "data": {
      "text/plain": [
       "['t_n55          9.5881 ( 8.8170, 10.8027) ( 8.7484, 10.6784)  1.9300 (Jnode 106)\\n',\n",
       " 't_n56          9.4470 ( 8.7377, 10.5991) ( 8.6670, 10.4887)  1.8217 (Jnode 105)\\n',\n",
       " 't_n57          8.6699 ( 8.0547,  9.7276) ( 7.9686,  9.5926)  1.6240 (Jnode 104)\\n',\n",
       " 't_n58          7.2528 ( 6.7858,  8.1263) ( 6.7283,  8.0108)  1.2825 (Jnode 103)\\n',\n",
       " 't_n59          6.9560 ( 6.5048,  7.7954) ( 6.4546,  7.6946)  1.2399 (Jnode 102)\\n',\n",
       " 't_n60          6.5994 ( 6.1654,  7.3958) ( 6.1270,  7.3109)  1.1839 (Jnode 101)\\n',\n",
       " 't_n61          6.0553 ( 5.6441,  6.7936) ( 5.5937,  6.7069)  1.1131 (Jnode 100)\\n',\n",
       " 't_n62          2.7883 ( 2.4325,  3.2292) ( 2.4100,  3.2017)  0.7917 (Jnode 99)\\n',\n",
       " 't_n63          4.2860 ( 3.9201,  4.8396) ( 3.8774,  4.7817)  0.9043 (Jnode 98)\\n',\n",
       " 't_n64          3.0735 ( 2.7634,  3.4968) ( 2.7445,  3.4643)  0.7198 (Jnode 97)\\n',\n",
       " 't_n65          2.6784 ( 2.3970,  3.0590) ( 2.3730,  3.0246)  0.6516 (Jnode 96)\\n',\n",
       " 't_n66          2.0883 ( 1.8494,  2.3968) ( 1.8361,  2.3804)  0.5443 (Jnode 95)\\n',\n",
       " 't_n67          1.4290 ( 1.2496,  1.6544) ( 1.2366,  1.6371)  0.4005 (Jnode 94)\\n',\n",
       " 't_n68          0.9573 ( 0.8295,  1.1182) ( 0.8247,  1.1101)  0.2854 (Jnode 93)\\n',\n",
       " 't_n69          0.3856 ( 0.3218,  0.4643) ( 0.3161,  0.4563)  0.1402 (Jnode 92)\\n',\n",
       " 't_n70          3.2301 ( 2.9047,  3.6807) ( 2.8759,  3.6417)  0.7658 (Jnode 91)\\n',\n",
       " 't_n71          6.6811 ( 6.2432,  7.4922) ( 6.1908,  7.3877)  1.1969 (Jnode 90)\\n',\n",
       " 't_n72          5.9791 ( 5.5432,  6.7158) ( 5.5091,  6.6413)  1.1322 (Jnode 89)\\n',\n",
       " 't_n73          6.0254 ( 5.6150,  6.7526) ( 5.5672,  6.6682)  1.1010 (Jnode 88)\\n',\n",
       " 't_n74          4.3215 ( 3.9327,  4.8885) ( 3.8993,  4.8367)  0.9375 (Jnode 87)\\n',\n",
       " 't_n75          3.8079 ( 3.4323,  4.3195) ( 3.3980,  4.2763)  0.8783 (Jnode 86)\\n',\n",
       " 't_n76          3.4732 ( 3.0555,  4.0020) ( 3.0308,  3.9678)  0.9371 (Jnode 85)\\n',\n",
       " 't_n77          6.5590 ( 6.1557,  7.3485) ( 6.1131,  7.2482)  1.1351 (Jnode 84)\\n',\n",
       " 't_n78          6.1815 ( 5.8062,  6.9206) ( 5.7673,  6.8339)  1.0666 (Jnode 83)\\n',\n",
       " 't_n79          5.8956 ( 5.5439,  6.6034) ( 5.4953,  6.5051)  1.0098 (Jnode 82)\\n',\n",
       " 't_n80          5.5608 ( 5.2525,  6.2324) ( 5.2072,  6.1319)  0.9248 (Jnode 81)\\n',\n",
       " 't_n81          5.0761 ( 4.7691,  5.6890) ( 4.7383,  5.6186)  0.8803 (Jnode 80)\\n',\n",
       " 't_n82          4.8811 ( 4.5742,  5.4737) ( 4.5431,  5.4076)  0.8645 (Jnode 79)\\n',\n",
       " 't_n83          4.2418 ( 3.9515,  4.7637) ( 3.9273,  4.7170)  0.7898 (Jnode 78)\\n',\n",
       " 't_n84          3.8569 ( 3.5793,  4.3366) ( 3.5385,  4.2779)  0.7394 (Jnode 77)\\n',\n",
       " 't_n85          3.5029 ( 3.2354,  3.9420) ( 3.2122,  3.8995)  0.6873 (Jnode 76)\\n',\n",
       " 't_n86          2.6549 ( 2.4245,  3.0003) ( 2.4053,  2.9755)  0.5702 (Jnode 75)\\n',\n",
       " 't_n87          2.3668 ( 2.1500,  2.6836) ( 2.1395,  2.6663)  0.5268 (Jnode 74)\\n',\n",
       " 't_n88          4.3257 ( 4.0172,  4.8573) ( 3.9824,  4.7980)  0.8156 (Jnode 73)\\n',\n",
       " 't_n89          3.4612 ( 3.1669,  3.9026) ( 3.1427,  3.8652)  0.7225 (Jnode 72)\\n',\n",
       " 't_n90          6.3872 ( 5.9903,  7.1562) ( 5.9371,  7.0493)  1.1122 (Jnode 71)\\n',\n",
       " 't_n91          1.5635 ( 1.2661,  1.9126) ( 1.2479,  1.8881)  0.6402 (Jnode 70)\\n',\n",
       " 't_n92          6.1867 ( 5.8012,  6.9367) ( 5.7390,  6.8213)  1.0823 (Jnode 69)\\n',\n",
       " 't_n93          5.7348 ( 5.3695,  6.4288) ( 5.3302,  6.3492)  1.0191 (Jnode 68)\\n',\n",
       " 't_n94          5.0786 ( 4.7295,  5.6984) ( 4.7017,  5.6362)  0.9344 (Jnode 67)\\n',\n",
       " 't_n95          4.6617 ( 4.3274,  5.2325) ( 4.2858,  5.1716)  0.8858 (Jnode 66)\\n',\n",
       " 't_n96          3.4177 ( 3.1066,  3.8683) ( 3.0768,  3.8250)  0.7482 (Jnode 65)\\n',\n",
       " 't_n97          3.8123 ( 3.4954,  4.3046) ( 3.4588,  4.2479)  0.7892 (Jnode 64)\\n',\n",
       " 't_n98          4.8954 ( 4.5510,  5.4922) ( 4.5160,  5.4291)  0.9131 (Jnode 63)\\n',\n",
       " 't_n99          4.6237 ( 4.2860,  5.1919) ( 4.2447,  5.1287)  0.8840 (Jnode 62)\\n',\n",
       " 't_n100         4.1459 ( 3.8112,  4.6686) ( 3.7796,  4.6192)  0.8396 (Jnode 61)\\n',\n",
       " 't_n101         3.3265 ( 3.0082,  3.7766) ( 2.9847,  3.7441)  0.7594 (Jnode 60)\\n',\n",
       " 't_n102         4.1478 ( 3.7704,  4.6910) ( 3.7370,  4.6427)  0.9057 (Jnode 59)\\n',\n",
       " 't_n103         7.7661 ( 7.2058,  8.7206) ( 7.1410,  8.6077)  1.4667 (Jnode 58)\\n',\n",
       " 't_n104         5.8688 ( 5.3806,  6.6204) ( 5.3329,  6.5426)  1.2098 (Jnode 57)\\n',\n",
       " 't_n105         3.7295 ( 3.2769,  4.3015) ( 3.2537,  4.2710)  1.0173 (Jnode 56)\\n',\n",
       " 't_n106         2.9176 ( 2.4442,  3.4681) ( 2.4516,  3.4722)  1.0206 (Jnode 55)\\n',\n",
       " 't_n107         6.6158 ( 5.8249,  7.7127) ( 5.7402,  7.5912)  1.8510 (Jnode 54)\\n']"
      ]
     },
     "execution_count": 30,
     "metadata": {},
     "output_type": "execute_result"
    }
   ],
   "execution_count": 30
  },
  {
   "metadata": {
    "ExecuteTime": {
     "end_time": "2024-10-14T11:09:46.764694Z",
     "start_time": "2024-10-14T11:09:46.760963Z"
    }
   },
   "cell_type": "code",
   "source": [
    "node_name = []\n",
    "posterior_mean_iqtree = []\n",
    "posterior_mean_baseml = []\n",
    "\n",
    "posterior_mean_mu_iqtree = []\n",
    "posterior_mean_mu_baseml = []\n",
    "\n",
    "posterior_mean_var_iqtree = []\n",
    "posterior_mean_var_baseml = []\n",
    "\n",
    "lower_ci_iqtree = []\n",
    "upper_ci_iqtree = []\n",
    "\n",
    "lower_ci_mu_iqtree = []\n",
    "upper_ci_mu_iqtree = []\n",
    "\n",
    "lower_ci_var_iqtree = []\n",
    "upper_ci_var_iqtree = []\n",
    "\n",
    "# Credible intervals for McmcDate\n",
    "lower_ci_baseml = []\n",
    "upper_ci_baseml = []\n",
    "\n",
    "lower_ci_mu_baseml = []\n",
    "upper_ci_mu_baseml = []\n",
    "\n",
    "lower_ci_var_baseml = []\n",
    "upper_ci_var_baseml = []"
   ],
   "id": "e5cf93a69d327e61",
   "outputs": [],
   "execution_count": 31
  },
  {
   "metadata": {
    "ExecuteTime": {
     "end_time": "2024-10-14T11:09:46.812644Z",
     "start_time": "2024-10-14T11:09:46.808672Z"
    }
   },
   "cell_type": "code",
   "source": [
    "for line in data:\n",
    "    line = line.strip().split()\n",
    "    node_name.append(line[0])\n",
    "    posterior_mean_iqtree.append(float(line[1]))\n",
    "#     if line[3].startswith('('):\n",
    "#         lower_ci_iqtree.append(float(line[3][1:-1]))\n",
    "#     else:\n",
    "#         lower_ci_iqtree.append(float(line[3][1:-1]))\n",
    "#     if line[4].startswith('('):\n",
    "#         upper_ci_iqtree.append(float(line[4][1:-1]))\n",
    "#     else:\n",
    "#         upper_ci_iqtree.append(float(line[4][:-1]))\n",
    "#     # posterior_mean_baseml.append(float(line[4]))\n",
    "#     # lower_ci_baseml.append(float(line[5]))\n",
    "#     # upper_ci_baseml.append(float(line[6]))\n",
    "# \n",
    "# for line in mu_data:\n",
    "#     line = line.strip().split()\n",
    "#     # node_name.append(line[0])\n",
    "#     posterior_mean_mu_iqtree.append(float(line[1]))\n",
    "#     lower_ci_mu_iqtree.append(float(line[3][:-1]))\n",
    "#     upper_ci_mu_iqtree.append(float(line[4][:-1]))\n",
    "#\n",
    "# for line in var_data:\n",
    "#     line = line.strip().split()\n",
    "#     # node_name.append(line[0])\n",
    "#     posterior_mean_var_iqtree.append(float(line[1]))\n",
    "#     lower_ci_var_iqtree.append(float(line[3][:-1]))\n",
    "#     upper_ci_var_iqtree.append(float(line[4][:-1]))"
   ],
   "id": "4e79ee928ea76b59",
   "outputs": [],
   "execution_count": 32
  },
  {
   "metadata": {
    "ExecuteTime": {
     "end_time": "2024-10-14T11:09:46.863534Z",
     "start_time": "2024-10-14T11:09:46.859920Z"
    }
   },
   "cell_type": "code",
   "source": "node_name",
   "id": "2c17f55ec9626a0b",
   "outputs": [
    {
     "data": {
      "text/plain": [
       "['t_n55',\n",
       " 't_n56',\n",
       " 't_n57',\n",
       " 't_n58',\n",
       " 't_n59',\n",
       " 't_n60',\n",
       " 't_n61',\n",
       " 't_n62',\n",
       " 't_n63',\n",
       " 't_n64',\n",
       " 't_n65',\n",
       " 't_n66',\n",
       " 't_n67',\n",
       " 't_n68',\n",
       " 't_n69',\n",
       " 't_n70',\n",
       " 't_n71',\n",
       " 't_n72',\n",
       " 't_n73',\n",
       " 't_n74',\n",
       " 't_n75',\n",
       " 't_n76',\n",
       " 't_n77',\n",
       " 't_n78',\n",
       " 't_n79',\n",
       " 't_n80',\n",
       " 't_n81',\n",
       " 't_n82',\n",
       " 't_n83',\n",
       " 't_n84',\n",
       " 't_n85',\n",
       " 't_n86',\n",
       " 't_n87',\n",
       " 't_n88',\n",
       " 't_n89',\n",
       " 't_n90',\n",
       " 't_n91',\n",
       " 't_n92',\n",
       " 't_n93',\n",
       " 't_n94',\n",
       " 't_n95',\n",
       " 't_n96',\n",
       " 't_n97',\n",
       " 't_n98',\n",
       " 't_n99',\n",
       " 't_n100',\n",
       " 't_n101',\n",
       " 't_n102',\n",
       " 't_n103',\n",
       " 't_n104',\n",
       " 't_n105',\n",
       " 't_n106',\n",
       " 't_n107']"
      ]
     },
     "execution_count": 33,
     "metadata": {},
     "output_type": "execute_result"
    }
   ],
   "execution_count": 33
  },
  {
   "metadata": {
    "ExecuteTime": {
     "end_time": "2024-10-14T11:09:46.917549Z",
     "start_time": "2024-10-14T11:09:46.913661Z"
    }
   },
   "cell_type": "code",
   "source": "posterior_mean_iqtree",
   "id": "24a55c806a41f33e",
   "outputs": [
    {
     "data": {
      "text/plain": [
       "[9.5881,\n",
       " 9.447,\n",
       " 8.6699,\n",
       " 7.2528,\n",
       " 6.956,\n",
       " 6.5994,\n",
       " 6.0553,\n",
       " 2.7883,\n",
       " 4.286,\n",
       " 3.0735,\n",
       " 2.6784,\n",
       " 2.0883,\n",
       " 1.429,\n",
       " 0.9573,\n",
       " 0.3856,\n",
       " 3.2301,\n",
       " 6.6811,\n",
       " 5.9791,\n",
       " 6.0254,\n",
       " 4.3215,\n",
       " 3.8079,\n",
       " 3.4732,\n",
       " 6.559,\n",
       " 6.1815,\n",
       " 5.8956,\n",
       " 5.5608,\n",
       " 5.0761,\n",
       " 4.8811,\n",
       " 4.2418,\n",
       " 3.8569,\n",
       " 3.5029,\n",
       " 2.6549,\n",
       " 2.3668,\n",
       " 4.3257,\n",
       " 3.4612,\n",
       " 6.3872,\n",
       " 1.5635,\n",
       " 6.1867,\n",
       " 5.7348,\n",
       " 5.0786,\n",
       " 4.6617,\n",
       " 3.4177,\n",
       " 3.8123,\n",
       " 4.8954,\n",
       " 4.6237,\n",
       " 4.1459,\n",
       " 3.3265,\n",
       " 4.1478,\n",
       " 7.7661,\n",
       " 5.8688,\n",
       " 3.7295,\n",
       " 2.9176,\n",
       " 6.6158]"
      ]
     },
     "execution_count": 34,
     "metadata": {},
     "output_type": "execute_result"
    }
   ],
   "execution_count": 34
  },
  {
   "metadata": {
    "ExecuteTime": {
     "end_time": "2024-10-14T11:09:46.973044Z",
     "start_time": "2024-10-14T11:09:46.969057Z"
    }
   },
   "cell_type": "code",
   "source": "lower_ci_iqtree",
   "id": "388aa27ad336d43f",
   "outputs": [
    {
     "data": {
      "text/plain": [
       "[]"
      ]
     },
     "execution_count": 35,
     "metadata": {},
     "output_type": "execute_result"
    }
   ],
   "execution_count": 35
  },
  {
   "metadata": {
    "ExecuteTime": {
     "end_time": "2024-10-14T11:09:47.026287Z",
     "start_time": "2024-10-14T11:09:47.022818Z"
    }
   },
   "cell_type": "code",
   "source": "upper_ci_iqtree",
   "id": "816e569fb763e797",
   "outputs": [
    {
     "data": {
      "text/plain": [
       "[]"
      ]
     },
     "execution_count": 36,
     "metadata": {},
     "output_type": "execute_result"
    }
   ],
   "execution_count": 36
  },
  {
   "metadata": {
    "ExecuteTime": {
     "end_time": "2024-10-14T11:09:47.083774Z",
     "start_time": "2024-10-14T11:09:47.076806Z"
    }
   },
   "cell_type": "code",
   "source": [
    "file_LG = open(\"LG_middle_out.txt\", \"r\")\n",
    "lines1 = file_LG.readlines()\n",
    "file_LG.close()\n",
    "\n",
    "# Extract the data\n",
    "data1 = []\n",
    "mu_data1 = []\n",
    "var_data1 = []\n",
    "\n",
    "read_flag = False\n",
    "for line in lines1:\n",
    "    if line.startswith(\"Posterior\"):\n",
    "        read_flag = True\n",
    "    if read_flag and line.startswith(\"t\"):\n",
    "        data1.append(line)\n",
    "    if read_flag and line.startswith(\"mu\"):\n",
    "        mu_data1.append(line)\n",
    "    if read_flag and line.startswith(\"sigma\"):\n",
    "        var_data1.append(line)\n",
    "\n",
    "        \n",
    "for line in data1:\n",
    "    line = line.strip().split()\n",
    "    # node_name.append(line[0])\n",
    "    posterior_mean_baseml.append(float(line[1]))\n",
    "#     if line[3].startswith('('):\n",
    "#         lower_ci_baseml.append(float(line[3][1:-1]))\n",
    "#     else:\n",
    "#          lower_ci_baseml.append(float(line[3][:-1]))\n",
    "#     if line[4].startswith('('):\n",
    "#         upper_ci_baseml.append(float(line[4][1:-1]))\n",
    "#     else:\n",
    "#          upper_ci_baseml.append(float(line[4][:-1]))\n",
    "#         \n",
    "#     \n",
    "# for line in mu_data1:\n",
    "#     line = line.strip().split()\n",
    "#     # node_name.append(line[0])\n",
    "#     posterior_mean_mu_baseml.append(float(line[1]))\n",
    "#     lower_ci_mu_baseml.append(float(line[3][:-1]))\n",
    "#     upper_ci_mu_baseml.append(float(line[4][:-1]))\n",
    "    \n",
    "# for line in var_data1:\n",
    "#     line = line.strip().split()\n",
    "#     # node_name.append(line[0])\n",
    "#     posterior_mean_var_baseml.append(float(line[1]))\n",
    "#     lower_ci_var_baseml.append(float(line[3][:-1]))\n",
    "#     upper_ci_var_baseml.append(float(line[4][:-1]))"
   ],
   "id": "f75c012c6bef60a2",
   "outputs": [],
   "execution_count": 37
  },
  {
   "metadata": {
    "ExecuteTime": {
     "end_time": "2024-10-14T11:09:47.128634Z",
     "start_time": "2024-10-14T11:09:47.125411Z"
    }
   },
   "cell_type": "code",
   "source": [
    "import matplotlib.pyplot as plt\n",
    "import numpy as np\n",
    "\n",
    "# # Example data\n",
    "# # Posterior means for MCMCtree (x-axis) and McmcDate (y-axis)\n",
    "# posterior_mean_mcmctree = [100, 200, 300, 400, 500, 600, 700, 800, 900, 1000]\n",
    "# posterior_mean_mcmcdate = [110, 210, 310, 410, 510, 610, 710, 810, 910, 1010]\n",
    "# \n",
    "# # Credible intervals for MCMCtree\n",
    "# lower_ci_mcmctree = [90, 180, 270, 360, 450, 540, 630, 720, 810, 900]\n",
    "# upper_ci_mcmctree = [110, 220, 330, 440, 550, 660, 770, 880, 990, 1100]\n",
    "# \n",
    "# # Credible intervals for McmcDate\n",
    "# lower_ci_mcmcdate = [100, 200, 300, 400, 500, 600, 700, 800, 900, 1000]\n",
    "# upper_ci_mcmcdate = [120, 220, 320, 420, 520, 620, 720, 820, 920, 1020]\n",
    "\n",
    "# Calculate error bars\n",
    "# xerr = [np.array(lower_ci_baseml), \n",
    "#         np.array(upper_ci_baseml)]\n",
    "# yerr = [np.array(lower_ci_iqtree), \n",
    "#         np.array(upper_ci_iqtree)]\n",
    "# \n",
    "# # Plotting\n",
    "# fig, ax = plt.subplots(figsize=(15, 15))\n",
    "# ax.plot([-0.1,90], \n",
    "#         [-0.1, 90], \n",
    "#         'k--', label='y=x')\n",
    "# ax.errorbar(posterior_mean_baseml, posterior_mean_iqtree, \n",
    "#             xerr=xerr, yerr=yerr, fmt='*', ecolor='r', capsize=3, label='95% HPD CI')\n",
    "# \n",
    "# # Labels and title\n",
    "# ax.set_xlabel('Posterior mean age LG [100 Mya]', fontsize=18)\n",
    "# ax.set_ylabel('Posterior mean age LG+G4 [100 Mya]', fontsize=18)\n",
    "# ax.set_title('Posterior mean age comparison between LG and LG+G4 models [t116 ~ B(1.25,2.482)]')\n",
    "# ax.legend()\n",
    "# \n",
    "# # Show plot\n",
    "# # plt.show()\n",
    "# plt.savefig('./animal_origin_posterior_mean_age_comparison_LG_G4_c11.png')"
   ],
   "id": "12db486fa4fac82c",
   "outputs": [],
   "execution_count": 38
  },
  {
   "metadata": {
    "ExecuteTime": {
     "end_time": "2024-10-14T11:09:47.179861Z",
     "start_time": "2024-10-14T11:09:47.175121Z"
    }
   },
   "cell_type": "code",
   "source": "posterior_mean_baseml",
   "id": "917b2e31cff4b992",
   "outputs": [
    {
     "data": {
      "text/plain": [
       "[10.5517,\n",
       " 10.2194,\n",
       " 9.0969,\n",
       " 7.6467,\n",
       " 7.2285,\n",
       " 6.7209,\n",
       " 5.9935,\n",
       " 2.8739,\n",
       " 4.2142,\n",
       " 2.9634,\n",
       " 2.4874,\n",
       " 1.8592,\n",
       " 1.2256,\n",
       " 0.8095,\n",
       " 0.345,\n",
       " 3.1082,\n",
       " 6.8085,\n",
       " 5.6188,\n",
       " 6.0189,\n",
       " 4.2701,\n",
       " 3.618,\n",
       " 3.4858,\n",
       " 6.8442,\n",
       " 6.3389,\n",
       " 5.9925,\n",
       " 5.5604,\n",
       " 5.0086,\n",
       " 4.7277,\n",
       " 3.9932,\n",
       " 3.5146,\n",
       " 3.0798,\n",
       " 2.2878,\n",
       " 1.9412,\n",
       " 4.1663,\n",
       " 3.2391,\n",
       " 6.5665,\n",
       " 1.711,\n",
       " 6.2833,\n",
       " 5.72,\n",
       " 4.9109,\n",
       " 4.3763,\n",
       " 3.1408,\n",
       " 3.386,\n",
       " 4.7469,\n",
       " 4.3172,\n",
       " 3.6455,\n",
       " 3.1343,\n",
       " 4.1039,\n",
       " 7.9701,\n",
       " 5.9345,\n",
       " 3.6057,\n",
       " 3.1978,\n",
       " 7.588]"
      ]
     },
     "execution_count": 39,
     "metadata": {},
     "output_type": "execute_result"
    }
   ],
   "execution_count": 39
  },
  {
   "metadata": {
    "ExecuteTime": {
     "end_time": "2024-10-14T11:09:47.239109Z",
     "start_time": "2024-10-14T11:09:47.234984Z"
    }
   },
   "cell_type": "code",
   "source": "posterior_mean_iqtree",
   "id": "59ad8fd34f7bbf11",
   "outputs": [
    {
     "data": {
      "text/plain": [
       "[9.5881,\n",
       " 9.447,\n",
       " 8.6699,\n",
       " 7.2528,\n",
       " 6.956,\n",
       " 6.5994,\n",
       " 6.0553,\n",
       " 2.7883,\n",
       " 4.286,\n",
       " 3.0735,\n",
       " 2.6784,\n",
       " 2.0883,\n",
       " 1.429,\n",
       " 0.9573,\n",
       " 0.3856,\n",
       " 3.2301,\n",
       " 6.6811,\n",
       " 5.9791,\n",
       " 6.0254,\n",
       " 4.3215,\n",
       " 3.8079,\n",
       " 3.4732,\n",
       " 6.559,\n",
       " 6.1815,\n",
       " 5.8956,\n",
       " 5.5608,\n",
       " 5.0761,\n",
       " 4.8811,\n",
       " 4.2418,\n",
       " 3.8569,\n",
       " 3.5029,\n",
       " 2.6549,\n",
       " 2.3668,\n",
       " 4.3257,\n",
       " 3.4612,\n",
       " 6.3872,\n",
       " 1.5635,\n",
       " 6.1867,\n",
       " 5.7348,\n",
       " 5.0786,\n",
       " 4.6617,\n",
       " 3.4177,\n",
       " 3.8123,\n",
       " 4.8954,\n",
       " 4.6237,\n",
       " 4.1459,\n",
       " 3.3265,\n",
       " 4.1478,\n",
       " 7.7661,\n",
       " 5.8688,\n",
       " 3.7295,\n",
       " 2.9176,\n",
       " 6.6158]"
      ]
     },
     "execution_count": 40,
     "metadata": {},
     "output_type": "execute_result"
    }
   ],
   "execution_count": 40
  },
  {
   "metadata": {
    "ExecuteTime": {
     "end_time": "2024-10-14T11:09:47.622719Z",
     "start_time": "2024-10-14T11:09:47.444961Z"
    }
   },
   "cell_type": "code",
   "source": [
    "# Calculate error bars\n",
    "xerr = [np.array(lower_ci_baseml), \n",
    "        np.array(upper_ci_baseml)]\n",
    "yerr = [np.array(lower_ci_iqtree), \n",
    "        np.array(upper_ci_iqtree)]\n",
    "\n",
    "# Plotting\n",
    "fig, ax = plt.subplots(figsize=(9 ,9))\n",
    "ax.plot([-0.1,17], \n",
    "        [-0.1, 17], \n",
    "        'k--', label='y=x')\n",
    "ax.plot(posterior_mean_baseml, posterior_mean_iqtree, 'o', label='Posterior mean age')\n",
    " \n",
    "# Labels and title\n",
    "ax.set_xlabel('Posterior mean age LG [Mya]', fontsize=18)\n",
    "ax.set_ylabel('Posterior mean age Partition MF [-Q] [Mya]', fontsize=18)\n",
    "ax.set_title('Posterior mean age comparison between LG and Partition MF [-Q] [t80 ~ B(5.2882,6.3610)]')\n",
    "ax.legend()\n",
    "\n",
    "# point_x = posterior_mean_baseml[0]  # Example: first point in the list\n",
    "# point_y = posterior_mean_iqtree[0]  # Example: first point in the list\n",
    "# ax.annotate('Root age', xy=(point_x, point_y), xytext=(point_x - 0.1, point_y - 0.1), color='red')\n",
    "# Show plot\n",
    "# plt.show()\n",
    "plt.savefig('./metazoa_posterior_mean_age_comparison_partition_MF_Q_middle_scatter.png')"
   ],
   "id": "592d0bb72aa1ad4c",
   "outputs": [
    {
     "data": {
      "text/plain": [
       "<Figure size 900x900 with 1 Axes>"
      ],
      "image/png": "[encoded data removed]"
     },
     "metadata": {},
     "output_type": "display_data"
    }
   ],
   "execution_count": 41
  },
  {
   "metadata": {
    "ExecuteTime": {
     "end_time": "2024-10-14T11:09:47.634914Z",
     "start_time": "2024-10-14T11:09:47.631183Z"
    }
   },
   "cell_type": "code",
   "source": [
    "# fig, ax = plt.subplots(figsize=(9 ,9))\n",
    "# ax.plot([0.01,0.04], \n",
    "#         [0.01, 0.04], \n",
    "#         'k--', label='y=x')\n",
    "# ax.plot(posterior_mean_mu_baseml, posterior_mean_mu_iqtree, 'o', label='Posterior mean rates for partitions')\n",
    "#  \n",
    "# # Labels and title\n",
    "# ax.set_xlabel('Posterior mean rate [LG]', fontsize=18)\n",
    "# ax.set_ylabel('Posterior mean rate [LG+G4]', fontsize=18)\n",
    "# ax.set_title('Posterior mean rate comparison between LG and LG+G4 [Cherry only calibration/IQ-TREE]')\n",
    "# ax.legend()\n",
    "# \n",
    "# # point_x = posterior_mean_baseml[0]  # Example: first point in the list\n",
    "# # point_y = posterior_mean_iqtree[0]  # Example: first point in the list\n",
    "# # ax.annotate('Root age', xy=(point_x, point_y), xytext=(point_x - 0.1, point_y - 0.1), color='red')\n",
    "# # Show plot\n",
    "# # plt.show()\n",
    "# plt.savefig('./animal_origin__posterior_mean_rate_comparison_LG_G4_all_scatter.png')"
   ],
   "id": "c6d69ee36c77970c",
   "outputs": [],
   "execution_count": 42
  },
  {
   "metadata": {
    "ExecuteTime": {
     "end_time": "2024-10-14T11:09:47.675852Z",
     "start_time": "2024-10-14T11:09:47.673860Z"
    }
   },
   "cell_type": "code",
   "source": "",
   "id": "ca69d5b521db3aa7",
   "outputs": [],
   "execution_count": null
  }
 ],
 "metadata": {
  "kernelspec": {
   "display_name": "Python 3",
   "language": "python",
   "name": "python3"
  },
  "language_info": {
   "codemirror_mode": {
    "name": "ipython",
    "version": 2
   },
   "file_extension": ".py",
   "mimetype": "text/x-python",
   "name": "python",
   "nbconvert_exporter": "python",
   "pygments_lexer": "ipython2",
   "version": "2.7.6"
  }
 },
 "nbformat": 4,
 "nbformat_minor": 5
}
