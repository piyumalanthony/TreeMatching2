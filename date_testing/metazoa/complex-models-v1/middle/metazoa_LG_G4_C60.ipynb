{
 "cells": [
  {
   "cell_type": "code",
   "id": "initial_id",
   "metadata": {
    "collapsed": true,
    "ExecuteTime": {
     "end_time": "2024-10-14T11:08:32.323591Z",
     "start_time": "2024-10-14T11:08:32.319142Z"
    }
   },
   "source": [
    "# Code to get all the Posterior mean (95% Equal-tail CI) (95% HPD CI) HPD-CI-width from ./xenarthra_mcmc_out.txt\n",
    "import numpy as np\n",
    "import pandas as pd\n",
    "import matplotlib.pyplot as plt\n",
    "\n",
    "\n",
    "# Read the file\n",
    "file = open(\"LG_G4_C60_middle_out.txt\", \"r\")\n",
    "lines = file.readlines()\n",
    "file.close()\n",
    "\n",
    "# Extract the data\n",
    "data = []\n",
    "mu_data = []\n",
    "var_data = []\n",
    "\n",
    "read_flag = False\n",
    "for line in lines:\n",
    "    if line.startswith(\"Posterior\"):\n",
    "        read_flag = True\n",
    "    if read_flag and line.startswith(\"t\"):\n",
    "        data.append(line)\n",
    "    if read_flag and line.startswith(\"mu\"):\n",
    "        mu_data.append(line)\n",
    "    if read_flag and line.startswith(\"sigma\"):\n",
    "        var_data.append(line)"
   ],
   "outputs": [],
   "execution_count": 43
  },
  {
   "metadata": {
    "ExecuteTime": {
     "end_time": "2024-10-14T11:08:32.375130Z",
     "start_time": "2024-10-14T11:08:32.371176Z"
    }
   },
   "cell_type": "code",
   "source": "data",
   "id": "54808ee54195795",
   "outputs": [
    {
     "data": {
      "text/plain": [
       "['t_n55          8.9193 ( 7.8488, 10.4407) ( 7.7183, 10.2295)  2.5112 (Jnode 106)\\n',\n",
       " 't_n56          8.6338 ( 7.7039,  9.9058) ( 7.6247,  9.7642)  2.1395 (Jnode 105)\\n',\n",
       " 't_n57          8.1552 ( 7.3378,  9.2942) ( 7.2935,  9.2106)  1.9171 (Jnode 104)\\n',\n",
       " 't_n58          6.9742 ( 6.4170,  7.8584) ( 6.3455,  7.7525)  1.4070 (Jnode 103)\\n',\n",
       " 't_n59          6.7554 ( 6.2278,  7.6063) ( 6.1867,  7.5325)  1.3458 (Jnode 102)\\n',\n",
       " 't_n60          6.4484 ( 5.9390,  7.2611) ( 5.8954,  7.1841)  1.2887 (Jnode 101)\\n',\n",
       " 't_n61          5.9776 ( 5.4689,  6.7514) ( 5.4223,  6.6796)  1.2573 (Jnode 100)\\n',\n",
       " 't_n62          2.5491 ( 1.6520,  3.4721) ( 1.6528,  3.4725)  1.8198 (Jnode 99)\\n',\n",
       " 't_n63          4.0511 ( 3.3189,  4.8182) ( 3.3116,  4.8087)  1.4971 (Jnode 98)\\n',\n",
       " 't_n64          2.8399 ( 2.1928,  3.5309) ( 2.1690,  3.5004)  1.3314 (Jnode 97)\\n',\n",
       " 't_n65          2.4897 ( 1.8937,  3.1308) ( 1.8797,  3.1162)  1.2365 (Jnode 96)\\n',\n",
       " 't_n66          1.9129 ( 1.4190,  2.4696) ( 1.4055,  2.4491)  1.0436 (Jnode 95)\\n',\n",
       " 't_n67          1.2807 ( 0.9195,  1.7096) ( 0.9100,  1.6934)  0.7834 (Jnode 94)\\n',\n",
       " 't_n68          0.8486 ( 0.5954,  1.1610) ( 0.5820,  1.1404)  0.5584 (Jnode 93)\\n',\n",
       " 't_n69          0.3629 ( 0.2429,  0.5229) ( 0.2303,  0.5028)  0.2725 (Jnode 92)\\n',\n",
       " 't_n70          2.9782 ( 2.2922,  3.7136) ( 2.2886,  3.7058)  1.4172 (Jnode 91)\\n',\n",
       " 't_n71          6.5956 ( 6.0767,  7.4284) ( 6.0280,  7.3477)  1.3197 (Jnode 90)\\n',\n",
       " 't_n72          6.3977 ( 5.8644,  7.2219) ( 5.8050,  7.1363)  1.3313 (Jnode 89)\\n',\n",
       " 't_n73          5.9622 ( 5.4495,  6.7342) ( 5.3905,  6.6533)  1.2628 (Jnode 88)\\n',\n",
       " 't_n74          4.1450 ( 3.2904,  4.9745) ( 3.3139,  4.9923)  1.6785 (Jnode 87)\\n',\n",
       " 't_n75          3.7058 ( 2.8766,  4.5228) ( 2.8718,  4.5152)  1.6434 (Jnode 86)\\n',\n",
       " 't_n76          3.1905 ( 2.1521,  4.1892) ( 2.1715,  4.2056)  2.0342 (Jnode 85)\\n',\n",
       " 't_n77          6.4028 ( 5.9456,  7.1858) ( 5.8809,  7.0907)  1.2099 (Jnode 84)\\n',\n",
       " 't_n78          6.1193 ( 5.7027,  6.8532) ( 5.6636,  6.7866)  1.1231 (Jnode 83)\\n',\n",
       " 't_n79          5.9297 ( 5.5381,  6.6422) ( 5.5002,  6.5696)  1.0694 (Jnode 82)\\n',\n",
       " 't_n80          5.5739 ( 5.2513,  6.2382) ( 5.2219,  6.1676)  0.9457 (Jnode 81)\\n',\n",
       " 't_n81          5.1070 ( 4.7351,  5.7260) ( 4.7132,  5.6896)  0.9763 (Jnode 80)\\n',\n",
       " 't_n82          4.9665 ( 4.5783,  5.5749) ( 4.5607,  5.5473)  0.9866 (Jnode 79)\\n',\n",
       " 't_n83          4.2979 ( 3.8416,  4.8771) ( 3.8413,  4.8766)  1.0353 (Jnode 78)\\n',\n",
       " 't_n84          3.9045 ( 3.4329,  4.4671) ( 3.4217,  4.4507)  1.0291 (Jnode 77)\\n',\n",
       " 't_n85          3.5702 ( 3.0956,  4.1154) ( 3.0907,  4.1078)  1.0172 (Jnode 76)\\n',\n",
       " 't_n86          2.6438 ( 2.1688,  3.1585) ( 2.1595,  3.1446)  0.9851 (Jnode 75)\\n',\n",
       " 't_n87          2.4384 ( 1.9775,  2.9395) ( 1.9553,  2.9131)  0.9578 (Jnode 74)\\n',\n",
       " 't_n88          4.3334 ( 3.8492,  4.9373) ( 3.8216,  4.9053)  1.0837 (Jnode 73)\\n',\n",
       " 't_n89          3.4811 ( 2.9177,  4.0856) ( 2.9116,  4.0765)  1.1649 (Jnode 72)\\n',\n",
       " 't_n90          6.2849 ( 5.8386,  7.0467) ( 5.7870,  6.9690)  1.1820 (Jnode 71)\\n',\n",
       " 't_n91          1.2676 ( 0.6517,  2.0704) ( 0.5995,  1.9905)  1.3909 (Jnode 70)\\n',\n",
       " 't_n92          6.1465 ( 5.7153,  6.8893) ( 5.6678,  6.8101)  1.1423 (Jnode 69)\\n',\n",
       " 't_n93          5.7487 ( 5.3351,  6.4478) ( 5.2976,  6.3773)  1.0797 (Jnode 68)\\n',\n",
       " 't_n94          5.0924 ( 4.6255,  5.7582) ( 4.5953,  5.7112)  1.1159 (Jnode 67)\\n',\n",
       " 't_n95          4.7213 ( 4.2255,  5.3708) ( 4.1940,  5.3294)  1.1355 (Jnode 66)\\n',\n",
       " 't_n96          3.4212 ( 2.7653,  4.0862) ( 2.7552,  4.0733)  1.3181 (Jnode 65)\\n',\n",
       " 't_n97          3.9453 ( 3.3740,  4.5830) ( 3.3837,  4.5908)  1.2072 (Jnode 64)\\n',\n",
       " 't_n98          4.8887 ( 4.3813,  5.5419) ( 4.3633,  5.5202)  1.1569 (Jnode 63)\\n',\n",
       " 't_n99          4.7124 ( 4.1921,  5.3565) ( 4.1825,  5.3460)  1.1635 (Jnode 62)\\n',\n",
       " 't_n100         4.3902 ( 3.8374,  5.0329) ( 3.8330,  5.0264)  1.1934 (Jnode 61)\\n',\n",
       " 't_n101         3.1350 ( 2.4048,  3.8492) ( 2.3918,  3.8337)  1.4419 (Jnode 60)\\n',\n",
       " 't_n102         4.2452 ( 3.4628,  5.0023) ( 3.4715,  5.0083)  1.5367 (Jnode 59)\\n',\n",
       " 't_n103         7.3966 ( 6.6515,  8.4247) ( 6.5900,  8.3391)  1.7491 (Jnode 58)\\n',\n",
       " 't_n104         5.5540 ( 4.2712,  6.5562) ( 4.3946,  6.6464)  2.2518 (Jnode 57)\\n',\n",
       " 't_n105         3.3790 ( 2.1806,  4.4939) ( 2.2228,  4.5243)  2.3016 (Jnode 56)\\n',\n",
       " 't_n106         2.4656 ( 1.3407,  3.7127) ( 1.3160,  3.6864)  2.3704 (Jnode 55)\\n',\n",
       " 't_n107         6.1559 ( 4.5231,  7.8870) ( 4.4977,  7.8472)  3.3496 (Jnode 54)\\n']"
      ]
     },
     "execution_count": 44,
     "metadata": {},
     "output_type": "execute_result"
    }
   ],
   "execution_count": 44
  },
  {
   "metadata": {
    "ExecuteTime": {
     "end_time": "2024-10-14T11:08:32.429105Z",
     "start_time": "2024-10-14T11:08:32.425691Z"
    }
   },
   "cell_type": "code",
   "source": [
    "node_name = []\n",
    "posterior_mean_iqtree = []\n",
    "posterior_mean_baseml = []\n",
    "\n",
    "posterior_mean_mu_iqtree = []\n",
    "posterior_mean_mu_baseml = []\n",
    "\n",
    "posterior_mean_var_iqtree = []\n",
    "posterior_mean_var_baseml = []\n",
    "\n",
    "lower_ci_iqtree = []\n",
    "upper_ci_iqtree = []\n",
    "\n",
    "lower_ci_mu_iqtree = []\n",
    "upper_ci_mu_iqtree = []\n",
    "\n",
    "lower_ci_var_iqtree = []\n",
    "upper_ci_var_iqtree = []\n",
    "\n",
    "# Credible intervals for McmcDate\n",
    "lower_ci_baseml = []\n",
    "upper_ci_baseml = []\n",
    "\n",
    "lower_ci_mu_baseml = []\n",
    "upper_ci_mu_baseml = []\n",
    "\n",
    "lower_ci_var_baseml = []\n",
    "upper_ci_var_baseml = []"
   ],
   "id": "e5cf93a69d327e61",
   "outputs": [],
   "execution_count": 45
  },
  {
   "metadata": {
    "ExecuteTime": {
     "end_time": "2024-10-14T11:08:32.479810Z",
     "start_time": "2024-10-14T11:08:32.475477Z"
    }
   },
   "cell_type": "code",
   "source": [
    "for line in data:\n",
    "    line = line.strip().split()\n",
    "    node_name.append(line[0])\n",
    "    posterior_mean_iqtree.append(float(line[1]))\n",
    "#     if line[3].startswith('('):\n",
    "#         lower_ci_iqtree.append(float(line[3][1:-1]))\n",
    "#     else:\n",
    "#         lower_ci_iqtree.append(float(line[3][1:-1]))\n",
    "#     if line[4].startswith('('):\n",
    "#         upper_ci_iqtree.append(float(line[4][1:-1]))\n",
    "#     else:\n",
    "#         upper_ci_iqtree.append(float(line[4][:-1]))\n",
    "#     # posterior_mean_baseml.append(float(line[4]))\n",
    "#     # lower_ci_baseml.append(float(line[5]))\n",
    "#     # upper_ci_baseml.append(float(line[6]))\n",
    "# \n",
    "# for line in mu_data:\n",
    "#     line = line.strip().split()\n",
    "#     # node_name.append(line[0])\n",
    "#     posterior_mean_mu_iqtree.append(float(line[1]))\n",
    "#     lower_ci_mu_iqtree.append(float(line[3][:-1]))\n",
    "#     upper_ci_mu_iqtree.append(float(line[4][:-1]))\n",
    "#\n",
    "# for line in var_data:\n",
    "#     line = line.strip().split()\n",
    "#     # node_name.append(line[0])\n",
    "#     posterior_mean_var_iqtree.append(float(line[1]))\n",
    "#     lower_ci_var_iqtree.append(float(line[3][:-1]))\n",
    "#     upper_ci_var_iqtree.append(float(line[4][:-1]))"
   ],
   "id": "4e79ee928ea76b59",
   "outputs": [],
   "execution_count": 46
  },
  {
   "metadata": {
    "ExecuteTime": {
     "end_time": "2024-10-14T11:08:32.540773Z",
     "start_time": "2024-10-14T11:08:32.535957Z"
    }
   },
   "cell_type": "code",
   "source": "node_name",
   "id": "2c17f55ec9626a0b",
   "outputs": [
    {
     "data": {
      "text/plain": [
       "['t_n55',\n",
       " 't_n56',\n",
       " 't_n57',\n",
       " 't_n58',\n",
       " 't_n59',\n",
       " 't_n60',\n",
       " 't_n61',\n",
       " 't_n62',\n",
       " 't_n63',\n",
       " 't_n64',\n",
       " 't_n65',\n",
       " 't_n66',\n",
       " 't_n67',\n",
       " 't_n68',\n",
       " 't_n69',\n",
       " 't_n70',\n",
       " 't_n71',\n",
       " 't_n72',\n",
       " 't_n73',\n",
       " 't_n74',\n",
       " 't_n75',\n",
       " 't_n76',\n",
       " 't_n77',\n",
       " 't_n78',\n",
       " 't_n79',\n",
       " 't_n80',\n",
       " 't_n81',\n",
       " 't_n82',\n",
       " 't_n83',\n",
       " 't_n84',\n",
       " 't_n85',\n",
       " 't_n86',\n",
       " 't_n87',\n",
       " 't_n88',\n",
       " 't_n89',\n",
       " 't_n90',\n",
       " 't_n91',\n",
       " 't_n92',\n",
       " 't_n93',\n",
       " 't_n94',\n",
       " 't_n95',\n",
       " 't_n96',\n",
       " 't_n97',\n",
       " 't_n98',\n",
       " 't_n99',\n",
       " 't_n100',\n",
       " 't_n101',\n",
       " 't_n102',\n",
       " 't_n103',\n",
       " 't_n104',\n",
       " 't_n105',\n",
       " 't_n106',\n",
       " 't_n107']"
      ]
     },
     "execution_count": 47,
     "metadata": {},
     "output_type": "execute_result"
    }
   ],
   "execution_count": 47
  },
  {
   "metadata": {
    "ExecuteTime": {
     "end_time": "2024-10-14T11:08:32.604640Z",
     "start_time": "2024-10-14T11:08:32.600755Z"
    }
   },
   "cell_type": "code",
   "source": "posterior_mean_iqtree",
   "id": "24a55c806a41f33e",
   "outputs": [
    {
     "data": {
      "text/plain": [
       "[8.9193,\n",
       " 8.6338,\n",
       " 8.1552,\n",
       " 6.9742,\n",
       " 6.7554,\n",
       " 6.4484,\n",
       " 5.9776,\n",
       " 2.5491,\n",
       " 4.0511,\n",
       " 2.8399,\n",
       " 2.4897,\n",
       " 1.9129,\n",
       " 1.2807,\n",
       " 0.8486,\n",
       " 0.3629,\n",
       " 2.9782,\n",
       " 6.5956,\n",
       " 6.3977,\n",
       " 5.9622,\n",
       " 4.145,\n",
       " 3.7058,\n",
       " 3.1905,\n",
       " 6.4028,\n",
       " 6.1193,\n",
       " 5.9297,\n",
       " 5.5739,\n",
       " 5.107,\n",
       " 4.9665,\n",
       " 4.2979,\n",
       " 3.9045,\n",
       " 3.5702,\n",
       " 2.6438,\n",
       " 2.4384,\n",
       " 4.3334,\n",
       " 3.4811,\n",
       " 6.2849,\n",
       " 1.2676,\n",
       " 6.1465,\n",
       " 5.7487,\n",
       " 5.0924,\n",
       " 4.7213,\n",
       " 3.4212,\n",
       " 3.9453,\n",
       " 4.8887,\n",
       " 4.7124,\n",
       " 4.3902,\n",
       " 3.135,\n",
       " 4.2452,\n",
       " 7.3966,\n",
       " 5.554,\n",
       " 3.379,\n",
       " 2.4656,\n",
       " 6.1559]"
      ]
     },
     "execution_count": 48,
     "metadata": {},
     "output_type": "execute_result"
    }
   ],
   "execution_count": 48
  },
  {
   "metadata": {
    "ExecuteTime": {
     "end_time": "2024-10-14T11:08:32.661585Z",
     "start_time": "2024-10-14T11:08:32.658837Z"
    }
   },
   "cell_type": "code",
   "source": "lower_ci_iqtree",
   "id": "388aa27ad336d43f",
   "outputs": [
    {
     "data": {
      "text/plain": [
       "[]"
      ]
     },
     "execution_count": 49,
     "metadata": {},
     "output_type": "execute_result"
    }
   ],
   "execution_count": 49
  },
  {
   "metadata": {
    "ExecuteTime": {
     "end_time": "2024-10-14T11:08:32.713998Z",
     "start_time": "2024-10-14T11:08:32.710929Z"
    }
   },
   "cell_type": "code",
   "source": "upper_ci_iqtree",
   "id": "816e569fb763e797",
   "outputs": [
    {
     "data": {
      "text/plain": [
       "[]"
      ]
     },
     "execution_count": 50,
     "metadata": {},
     "output_type": "execute_result"
    }
   ],
   "execution_count": 50
  },
  {
   "metadata": {
    "ExecuteTime": {
     "end_time": "2024-10-14T11:08:32.777373Z",
     "start_time": "2024-10-14T11:08:32.770356Z"
    }
   },
   "cell_type": "code",
   "source": [
    "file_LG = open(\"LG_middle_out.txt\", \"r\")\n",
    "lines1 = file_LG.readlines()\n",
    "file_LG.close()\n",
    "\n",
    "# Extract the data\n",
    "data1 = []\n",
    "mu_data1 = []\n",
    "var_data1 = []\n",
    "\n",
    "read_flag = False\n",
    "for line in lines1:\n",
    "    if line.startswith(\"Posterior\"):\n",
    "        read_flag = True\n",
    "    if read_flag and line.startswith(\"t\"):\n",
    "        data1.append(line)\n",
    "    if read_flag and line.startswith(\"mu\"):\n",
    "        mu_data1.append(line)\n",
    "    if read_flag and line.startswith(\"sigma\"):\n",
    "        var_data1.append(line)\n",
    "\n",
    "        \n",
    "for line in data1:\n",
    "    line = line.strip().split()\n",
    "    # node_name.append(line[0])\n",
    "    posterior_mean_baseml.append(float(line[1]))\n",
    "#     if line[3].startswith('('):\n",
    "#         lower_ci_baseml.append(float(line[3][1:-1]))\n",
    "#     else:\n",
    "#          lower_ci_baseml.append(float(line[3][:-1]))\n",
    "#     if line[4].startswith('('):\n",
    "#         upper_ci_baseml.append(float(line[4][1:-1]))\n",
    "#     else:\n",
    "#          upper_ci_baseml.append(float(line[4][:-1]))\n",
    "#         \n",
    "#     \n",
    "# for line in mu_data1:\n",
    "#     line = line.strip().split()\n",
    "#     # node_name.append(line[0])\n",
    "#     posterior_mean_mu_baseml.append(float(line[1]))\n",
    "#     lower_ci_mu_baseml.append(float(line[3][:-1]))\n",
    "#     upper_ci_mu_baseml.append(float(line[4][:-1]))\n",
    "    \n",
    "# for line in var_data1:\n",
    "#     line = line.strip().split()\n",
    "#     # node_name.append(line[0])\n",
    "#     posterior_mean_var_baseml.append(float(line[1]))\n",
    "#     lower_ci_var_baseml.append(float(line[3][:-1]))\n",
    "#     upper_ci_var_baseml.append(float(line[4][:-1]))"
   ],
   "id": "f75c012c6bef60a2",
   "outputs": [],
   "execution_count": 51
  },
  {
   "metadata": {
    "ExecuteTime": {
     "end_time": "2024-10-14T11:08:32.834027Z",
     "start_time": "2024-10-14T11:08:32.826077Z"
    }
   },
   "cell_type": "code",
   "source": [
    "import matplotlib.pyplot as plt\n",
    "import numpy as np\n",
    "\n",
    "# # Example data\n",
    "# # Posterior means for MCMCtree (x-axis) and McmcDate (y-axis)\n",
    "# posterior_mean_mcmctree = [100, 200, 300, 400, 500, 600, 700, 800, 900, 1000]\n",
    "# posterior_mean_mcmcdate = [110, 210, 310, 410, 510, 610, 710, 810, 910, 1010]\n",
    "# \n",
    "# # Credible intervals for MCMCtree\n",
    "# lower_ci_mcmctree = [90, 180, 270, 360, 450, 540, 630, 720, 810, 900]\n",
    "# upper_ci_mcmctree = [110, 220, 330, 440, 550, 660, 770, 880, 990, 1100]\n",
    "# \n",
    "# # Credible intervals for McmcDate\n",
    "# lower_ci_mcmcdate = [100, 200, 300, 400, 500, 600, 700, 800, 900, 1000]\n",
    "# upper_ci_mcmcdate = [120, 220, 320, 420, 520, 620, 720, 820, 920, 1020]\n",
    "\n",
    "# Calculate error bars\n",
    "# xerr = [np.array(lower_ci_baseml), \n",
    "#         np.array(upper_ci_baseml)]\n",
    "# yerr = [np.array(lower_ci_iqtree), \n",
    "#         np.array(upper_ci_iqtree)]\n",
    "# \n",
    "# # Plotting\n",
    "# fig, ax = plt.subplots(figsize=(15, 15))\n",
    "# ax.plot([-0.1,90], \n",
    "#         [-0.1, 90], \n",
    "#         'k--', label='y=x')\n",
    "# ax.errorbar(posterior_mean_baseml, posterior_mean_iqtree, \n",
    "#             xerr=xerr, yerr=yerr, fmt='*', ecolor='r', capsize=3, label='95% HPD CI')\n",
    "# \n",
    "# # Labels and title\n",
    "# ax.set_xlabel('Posterior mean age LG [100 Mya]', fontsize=18)\n",
    "# ax.set_ylabel('Posterior mean age LG+G4 [100 Mya]', fontsize=18)\n",
    "# ax.set_title('Posterior mean age comparison between LG and LG+G4 models [t116 ~ B(1.25,2.482)]')\n",
    "# ax.legend()\n",
    "# \n",
    "# # Show plot\n",
    "# # plt.show()\n",
    "# plt.savefig('./animal_origin_posterior_mean_age_comparison_LG_G4_c11.png')"
   ],
   "id": "12db486fa4fac82c",
   "outputs": [],
   "execution_count": 52
  },
  {
   "metadata": {
    "ExecuteTime": {
     "end_time": "2024-10-14T11:08:32.892500Z",
     "start_time": "2024-10-14T11:08:32.889399Z"
    }
   },
   "cell_type": "code",
   "source": "posterior_mean_baseml",
   "id": "917b2e31cff4b992",
   "outputs": [
    {
     "data": {
      "text/plain": [
       "[10.5517,\n",
       " 10.2194,\n",
       " 9.0969,\n",
       " 7.6467,\n",
       " 7.2285,\n",
       " 6.7209,\n",
       " 5.9935,\n",
       " 2.8739,\n",
       " 4.2142,\n",
       " 2.9634,\n",
       " 2.4874,\n",
       " 1.8592,\n",
       " 1.2256,\n",
       " 0.8095,\n",
       " 0.345,\n",
       " 3.1082,\n",
       " 6.8085,\n",
       " 5.6188,\n",
       " 6.0189,\n",
       " 4.2701,\n",
       " 3.618,\n",
       " 3.4858,\n",
       " 6.8442,\n",
       " 6.3389,\n",
       " 5.9925,\n",
       " 5.5604,\n",
       " 5.0086,\n",
       " 4.7277,\n",
       " 3.9932,\n",
       " 3.5146,\n",
       " 3.0798,\n",
       " 2.2878,\n",
       " 1.9412,\n",
       " 4.1663,\n",
       " 3.2391,\n",
       " 6.5665,\n",
       " 1.711,\n",
       " 6.2833,\n",
       " 5.72,\n",
       " 4.9109,\n",
       " 4.3763,\n",
       " 3.1408,\n",
       " 3.386,\n",
       " 4.7469,\n",
       " 4.3172,\n",
       " 3.6455,\n",
       " 3.1343,\n",
       " 4.1039,\n",
       " 7.9701,\n",
       " 5.9345,\n",
       " 3.6057,\n",
       " 3.1978,\n",
       " 7.588]"
      ]
     },
     "execution_count": 53,
     "metadata": {},
     "output_type": "execute_result"
    }
   ],
   "execution_count": 53
  },
  {
   "metadata": {
    "ExecuteTime": {
     "end_time": "2024-10-14T11:08:32.960547Z",
     "start_time": "2024-10-14T11:08:32.955379Z"
    }
   },
   "cell_type": "code",
   "source": "posterior_mean_iqtree",
   "id": "59ad8fd34f7bbf11",
   "outputs": [
    {
     "data": {
      "text/plain": [
       "[8.9193,\n",
       " 8.6338,\n",
       " 8.1552,\n",
       " 6.9742,\n",
       " 6.7554,\n",
       " 6.4484,\n",
       " 5.9776,\n",
       " 2.5491,\n",
       " 4.0511,\n",
       " 2.8399,\n",
       " 2.4897,\n",
       " 1.9129,\n",
       " 1.2807,\n",
       " 0.8486,\n",
       " 0.3629,\n",
       " 2.9782,\n",
       " 6.5956,\n",
       " 6.3977,\n",
       " 5.9622,\n",
       " 4.145,\n",
       " 3.7058,\n",
       " 3.1905,\n",
       " 6.4028,\n",
       " 6.1193,\n",
       " 5.9297,\n",
       " 5.5739,\n",
       " 5.107,\n",
       " 4.9665,\n",
       " 4.2979,\n",
       " 3.9045,\n",
       " 3.5702,\n",
       " 2.6438,\n",
       " 2.4384,\n",
       " 4.3334,\n",
       " 3.4811,\n",
       " 6.2849,\n",
       " 1.2676,\n",
       " 6.1465,\n",
       " 5.7487,\n",
       " 5.0924,\n",
       " 4.7213,\n",
       " 3.4212,\n",
       " 3.9453,\n",
       " 4.8887,\n",
       " 4.7124,\n",
       " 4.3902,\n",
       " 3.135,\n",
       " 4.2452,\n",
       " 7.3966,\n",
       " 5.554,\n",
       " 3.379,\n",
       " 2.4656,\n",
       " 6.1559]"
      ]
     },
     "execution_count": 54,
     "metadata": {},
     "output_type": "execute_result"
    }
   ],
   "execution_count": 54
  },
  {
   "metadata": {
    "ExecuteTime": {
     "end_time": "2024-10-14T11:08:33.320395Z",
     "start_time": "2024-10-14T11:08:33.155292Z"
    }
   },
   "cell_type": "code",
   "source": [
    "# Calculate error bars\n",
    "xerr = [np.array(lower_ci_baseml), \n",
    "        np.array(upper_ci_baseml)]\n",
    "yerr = [np.array(lower_ci_iqtree), \n",
    "        np.array(upper_ci_iqtree)]\n",
    "\n",
    "# Plotting\n",
    "fig, ax = plt.subplots(figsize=(9 ,9))\n",
    "ax.plot([-0.1,17], \n",
    "        [-0.1, 17], \n",
    "        'k--', label='y=x')\n",
    "ax.plot(posterior_mean_baseml, posterior_mean_iqtree, 'o', label='Posterior mean age')\n",
    " \n",
    "# Labels and title\n",
    "ax.set_xlabel('Posterior mean age LG [Mya]', fontsize=18)\n",
    "ax.set_ylabel('Posterior mean age LG+G4+C60 [Mya]', fontsize=18)\n",
    "ax.set_title('Posterior mean age comparison between LG and LG+G4+C60 [t80 ~ B(5.2882,6.3610)]')\n",
    "ax.legend()\n",
    "\n",
    "# point_x = posterior_mean_baseml[0]  # Example: first point in the list\n",
    "# point_y = posterior_mean_iqtree[0]  # Example: first point in the list\n",
    "# ax.annotate('Root age', xy=(point_x, point_y), xytext=(point_x - 0.1, point_y - 0.1), color='red')\n",
    "# Show plot\n",
    "# plt.show()\n",
    "plt.savefig('./metazoa_posterior_mean_age_comparison_LG_G4_C60_middle_scatter.png')"
   ],
   "id": "592d0bb72aa1ad4c",
   "outputs": [
    {
     "data": {
      "text/plain": [
       "<Figure size 900x900 with 1 Axes>"
      ],
      "image/png": "[encoded data removed]"
     },
     "metadata": {},
     "output_type": "display_data"
    }
   ],
   "execution_count": 55
  },
  {
   "metadata": {
    "ExecuteTime": {
     "end_time": "2024-10-14T11:08:33.331278Z",
     "start_time": "2024-10-14T11:08:33.328608Z"
    }
   },
   "cell_type": "code",
   "source": [
    "# fig, ax = plt.subplots(figsize=(9 ,9))\n",
    "# ax.plot([0.01,0.04], \n",
    "#         [0.01, 0.04], \n",
    "#         'k--', label='y=x')\n",
    "# ax.plot(posterior_mean_mu_baseml, posterior_mean_mu_iqtree, 'o', label='Posterior mean rates for partitions')\n",
    "#  \n",
    "# # Labels and title\n",
    "# ax.set_xlabel('Posterior mean rate [LG]', fontsize=18)\n",
    "# ax.set_ylabel('Posterior mean rate [LG+G4]', fontsize=18)\n",
    "# ax.set_title('Posterior mean rate comparison between LG and LG+G4 [Cherry only calibration/IQ-TREE]')\n",
    "# ax.legend()\n",
    "# \n",
    "# # point_x = posterior_mean_baseml[0]  # Example: first point in the list\n",
    "# # point_y = posterior_mean_iqtree[0]  # Example: first point in the list\n",
    "# # ax.annotate('Root age', xy=(point_x, point_y), xytext=(point_x - 0.1, point_y - 0.1), color='red')\n",
    "# # Show plot\n",
    "# # plt.show()\n",
    "# plt.savefig('./animal_origin__posterior_mean_rate_comparison_LG_G4_all_scatter.png')"
   ],
   "id": "c6d69ee36c77970c",
   "outputs": [],
   "execution_count": 56
  },
  {
   "metadata": {
    "ExecuteTime": {
     "end_time": "2024-10-14T11:08:33.373551Z",
     "start_time": "2024-10-14T11:08:33.371731Z"
    }
   },
   "cell_type": "code",
   "source": "",
   "id": "ca69d5b521db3aa7",
   "outputs": [],
   "execution_count": null
  }
 ],
 "metadata": {
  "kernelspec": {
   "display_name": "Python 3",
   "language": "python",
   "name": "python3"
  },
  "language_info": {
   "codemirror_mode": {
    "name": "ipython",
    "version": 2
   },
   "file_extension": ".py",
   "mimetype": "text/x-python",
   "name": "python",
   "nbconvert_exporter": "python",
   "pygments_lexer": "ipython2",
   "version": "2.7.6"
  }
 },
 "nbformat": 4,
 "nbformat_minor": 5
}
