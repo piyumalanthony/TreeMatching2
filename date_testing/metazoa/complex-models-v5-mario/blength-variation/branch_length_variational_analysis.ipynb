{
 "cells": [
  {
   "cell_type": "code",
   "id": "initial_id",
   "metadata": {
    "collapsed": true,
    "ExecuteTime": {
     "end_time": "2024-12-09T05:34:02.428076Z",
     "start_time": "2024-12-09T05:34:02.103254Z"
    }
   },
   "source": [
    "import copy\n",
    "import numpy as np\n",
    "import matplotlib.pyplot as plt\n",
    "from ete3.utils import color"
   ],
   "outputs": [],
   "execution_count": 1
  },
  {
   "metadata": {
    "ExecuteTime": {
     "end_time": "2024-12-09T05:34:02.446116Z",
     "start_time": "2024-12-09T05:34:02.443671Z"
    }
   },
   "cell_type": "code",
   "source": [
    "LG_G4_file = \"/home/piyumal/PHD/Implementation/Phylogenetics/TreeMatching2/date_testing/metazoa/complex-models-v5-mario/blength-variation/LG_G4_in.BV\"\n",
    "\n",
    "LG_G4_C60_file = \"/home/piyumal/PHD/Implementation/Phylogenetics/TreeMatching2/date_testing/metazoa/complex-models-v5-mario/blength-variation/LG_G4_C60_in.BV\""
   ],
   "id": "3cd3ac3463b9f8e3",
   "outputs": [],
   "execution_count": 2
  },
  {
   "metadata": {
    "ExecuteTime": {
     "end_time": "2024-12-09T05:34:02.503744Z",
     "start_time": "2024-12-09T05:34:02.498793Z"
    }
   },
   "cell_type": "code",
   "source": [
    "import copy\n",
    "\n",
    "def parse_iqtree_file(file_path):\n",
    "    \"\"\"\n",
    "    Parses an IQ-TREE file to extract Hessian matrices and gradient vectors.\n",
    "\n",
    "    Parameters:\n",
    "    - file_path (str): Path to the IQ-TREE output file.\n",
    "\n",
    "    Returns:\n",
    "    - hessians (list): A list of Hessian matrices.\n",
    "    - gradient_vectors (list): A list of gradient vectors.\n",
    "    \"\"\"\n",
    "    hessians = []\n",
    "    treestrings = []\n",
    "    branch_lengths = []\n",
    "    gradient_vectors = []\n",
    "    hessian_list = []\n",
    "    counter = 0\n",
    "\n",
    "    with open(file_path) as f:\n",
    "        for k, line in enumerate(f.readlines()):\n",
    "            if counter == 3:\n",
    "                treestrings.append(line.strip())\n",
    "                print('tree string', k)\n",
    "            if counter == 5:\n",
    "                branch_lengths_numerical = line.strip().split()\n",
    "                branch_lengths.append([float(i) for i in branch_lengths_numerical])\n",
    "                print('branch lengths', k)\n",
    "            if counter == 7:\n",
    "                gradients_numerical = line.strip().split()\n",
    "                gradient_vectors.append([float(i) for i in gradients_numerical])\n",
    "                print('gradients', k)\n",
    "\n",
    "            if counter > 10 and line.strip() == '':\n",
    "                hessians.append(copy.deepcopy(hessian_list))\n",
    "                hessian_list = []\n",
    "                counter = 0\n",
    "                print('Hessian all string', k)\n",
    "            elif counter > 10:\n",
    "                hessian_row_numerical = line.strip().split()\n",
    "                hessian_list.append([float(i) for i in hessian_row_numerical])\n",
    "                print('local hessian', k)\n",
    "            counter += 1\n",
    "        else:\n",
    "            if hessian_list:  # Append the last Hessian if the file doesn't end with an empty line\n",
    "                hessians.append(copy.deepcopy(hessian_list))\n",
    "\n",
    "    return hessians[0], branch_lengths[0]\n"
   ],
   "id": "61e8ccf990446594",
   "outputs": [],
   "execution_count": 3
  },
  {
   "metadata": {
    "ExecuteTime": {
     "end_time": "2024-12-09T05:34:02.563133Z",
     "start_time": "2024-12-09T05:34:02.550046Z"
    }
   },
   "cell_type": "code",
   "source": [
    "LG_G4_h, LG_G4_b = parse_iqtree_file(LG_G4_file)\n",
    "LG_G4_C60_h, LG_G4_C60_b = parse_iqtree_file(LG_G4_C60_file)"
   ],
   "id": "d382a98d39a23121",
   "outputs": [
    {
     "name": "stdout",
     "output_type": "stream",
     "text": [
      "tree string 3\n",
      "branch lengths 5\n",
      "gradients 7\n",
      "local hessian 11\n",
      "local hessian 12\n",
      "local hessian 13\n",
      "local hessian 14\n",
      "local hessian 15\n",
      "local hessian 16\n",
      "local hessian 17\n",
      "local hessian 18\n",
      "local hessian 19\n",
      "local hessian 20\n",
      "local hessian 21\n",
      "local hessian 22\n",
      "local hessian 23\n",
      "local hessian 24\n",
      "local hessian 25\n",
      "local hessian 26\n",
      "local hessian 27\n",
      "local hessian 28\n",
      "local hessian 29\n",
      "local hessian 30\n",
      "local hessian 31\n",
      "local hessian 32\n",
      "local hessian 33\n",
      "local hessian 34\n",
      "local hessian 35\n",
      "local hessian 36\n",
      "local hessian 37\n",
      "local hessian 38\n",
      "local hessian 39\n",
      "local hessian 40\n",
      "local hessian 41\n",
      "local hessian 42\n",
      "local hessian 43\n",
      "local hessian 44\n",
      "local hessian 45\n",
      "local hessian 46\n",
      "local hessian 47\n",
      "local hessian 48\n",
      "local hessian 49\n",
      "local hessian 50\n",
      "local hessian 51\n",
      "local hessian 52\n",
      "local hessian 53\n",
      "local hessian 54\n",
      "local hessian 55\n",
      "local hessian 56\n",
      "local hessian 57\n",
      "local hessian 58\n",
      "local hessian 59\n",
      "local hessian 60\n",
      "local hessian 61\n",
      "local hessian 62\n",
      "local hessian 63\n",
      "local hessian 64\n",
      "local hessian 65\n",
      "local hessian 66\n",
      "local hessian 67\n",
      "local hessian 68\n",
      "local hessian 69\n",
      "local hessian 70\n",
      "local hessian 71\n",
      "local hessian 72\n",
      "local hessian 73\n",
      "local hessian 74\n",
      "local hessian 75\n",
      "local hessian 76\n",
      "local hessian 77\n",
      "local hessian 78\n",
      "local hessian 79\n",
      "local hessian 80\n",
      "local hessian 81\n",
      "local hessian 82\n",
      "local hessian 83\n",
      "local hessian 84\n",
      "local hessian 85\n",
      "local hessian 86\n",
      "local hessian 87\n",
      "local hessian 88\n",
      "local hessian 89\n",
      "local hessian 90\n",
      "local hessian 91\n",
      "local hessian 92\n",
      "local hessian 93\n",
      "local hessian 94\n",
      "local hessian 95\n",
      "local hessian 96\n",
      "local hessian 97\n",
      "local hessian 98\n",
      "local hessian 99\n",
      "local hessian 100\n",
      "local hessian 101\n",
      "local hessian 102\n",
      "local hessian 103\n",
      "local hessian 104\n",
      "local hessian 105\n",
      "local hessian 106\n",
      "local hessian 107\n",
      "local hessian 108\n",
      "local hessian 109\n",
      "local hessian 110\n",
      "local hessian 111\n",
      "local hessian 112\n",
      "local hessian 113\n",
      "local hessian 114\n",
      "local hessian 115\n",
      "tree string 3\n",
      "branch lengths 5\n",
      "gradients 7\n",
      "local hessian 11\n",
      "local hessian 12\n",
      "local hessian 13\n",
      "local hessian 14\n",
      "local hessian 15\n",
      "local hessian 16\n",
      "local hessian 17\n",
      "local hessian 18\n",
      "local hessian 19\n",
      "local hessian 20\n",
      "local hessian 21\n",
      "local hessian 22\n",
      "local hessian 23\n",
      "local hessian 24\n",
      "local hessian 25\n",
      "local hessian 26\n",
      "local hessian 27\n",
      "local hessian 28\n",
      "local hessian 29\n",
      "local hessian 30\n",
      "local hessian 31\n",
      "local hessian 32\n",
      "local hessian 33\n",
      "local hessian 34\n",
      "local hessian 35\n",
      "local hessian 36\n",
      "local hessian 37\n",
      "local hessian 38\n",
      "local hessian 39\n",
      "local hessian 40\n",
      "local hessian 41\n",
      "local hessian 42\n",
      "local hessian 43\n",
      "local hessian 44\n",
      "local hessian 45\n",
      "local hessian 46\n",
      "local hessian 47\n",
      "local hessian 48\n",
      "local hessian 49\n",
      "local hessian 50\n",
      "local hessian 51\n",
      "local hessian 52\n",
      "local hessian 53\n",
      "local hessian 54\n",
      "local hessian 55\n",
      "local hessian 56\n",
      "local hessian 57\n",
      "local hessian 58\n",
      "local hessian 59\n",
      "local hessian 60\n",
      "local hessian 61\n",
      "local hessian 62\n",
      "local hessian 63\n",
      "local hessian 64\n",
      "local hessian 65\n",
      "local hessian 66\n",
      "local hessian 67\n",
      "local hessian 68\n",
      "local hessian 69\n",
      "local hessian 70\n",
      "local hessian 71\n",
      "local hessian 72\n",
      "local hessian 73\n",
      "local hessian 74\n",
      "local hessian 75\n",
      "local hessian 76\n",
      "local hessian 77\n",
      "local hessian 78\n",
      "local hessian 79\n",
      "local hessian 80\n",
      "local hessian 81\n",
      "local hessian 82\n",
      "local hessian 83\n",
      "local hessian 84\n",
      "local hessian 85\n",
      "local hessian 86\n",
      "local hessian 87\n",
      "local hessian 88\n",
      "local hessian 89\n",
      "local hessian 90\n",
      "local hessian 91\n",
      "local hessian 92\n",
      "local hessian 93\n",
      "local hessian 94\n",
      "local hessian 95\n",
      "local hessian 96\n",
      "local hessian 97\n",
      "local hessian 98\n",
      "local hessian 99\n",
      "local hessian 100\n",
      "local hessian 101\n",
      "local hessian 102\n",
      "local hessian 103\n",
      "local hessian 104\n",
      "local hessian 105\n",
      "local hessian 106\n",
      "local hessian 107\n",
      "local hessian 108\n",
      "local hessian 109\n",
      "local hessian 110\n",
      "local hessian 111\n",
      "local hessian 112\n",
      "local hessian 113\n",
      "local hessian 114\n",
      "local hessian 115\n"
     ]
    }
   ],
   "execution_count": 4
  },
  {
   "metadata": {
    "ExecuteTime": {
     "end_time": "2024-12-09T05:34:02.603351Z",
     "start_time": "2024-12-09T05:34:02.599775Z"
    }
   },
   "cell_type": "code",
   "source": [
    "LG_G4_h = np.array(LG_G4_h)\n",
    "LG_G4_b = np.array(LG_G4_b)\n",
    "\n",
    "\n",
    "LG_G4_C60_h = np.array(LG_G4_C60_h)\n",
    "LG_G4_C60_b = np.array(LG_G4_C60_b)"
   ],
   "id": "20386abf8fedbcc6",
   "outputs": [],
   "execution_count": 5
  },
  {
   "metadata": {
    "ExecuteTime": {
     "end_time": "2024-12-09T05:34:02.653014Z",
     "start_time": "2024-12-09T05:34:02.648233Z"
    }
   },
   "cell_type": "code",
   "source": "LG_G4_h.shape",
   "id": "159771b607c15d25",
   "outputs": [
    {
     "data": {
      "text/plain": [
       "(105, 105)"
      ]
     },
     "execution_count": 6,
     "metadata": {},
     "output_type": "execute_result"
    }
   ],
   "execution_count": 6
  },
  {
   "metadata": {
    "ExecuteTime": {
     "end_time": "2024-12-09T05:34:02.710742Z",
     "start_time": "2024-12-09T05:34:02.706128Z"
    }
   },
   "cell_type": "code",
   "source": "LG_G4_h",
   "id": "8354294f0d173c20",
   "outputs": [
    {
     "data": {
      "text/plain": [
       "array([[-3.01935e+05, -1.75196e+04, -2.26212e+03, ..., -3.59240e+04,\n",
       "        -4.85588e+03, -1.10417e+04],\n",
       "       [-1.75196e+04, -2.79412e+05, -3.20790e+04, ..., -5.77643e+03,\n",
       "         2.56869e+02, -2.98951e+03],\n",
       "       [-2.26212e+03, -3.20790e+04, -9.77181e+05, ...,  1.13222e+03,\n",
       "         3.98380e+03,  1.18467e+03],\n",
       "       ...,\n",
       "       [-3.59240e+04, -5.77643e+03,  1.13222e+03, ..., -1.08240e+05,\n",
       "        -6.79390e+03, -2.62650e+04],\n",
       "       [-4.85588e+03,  2.56869e+02,  3.98380e+03, ..., -6.79390e+03,\n",
       "        -6.49107e+04, -5.39287e+03],\n",
       "       [-1.10417e+04, -2.98951e+03,  1.18467e+03, ..., -2.62650e+04,\n",
       "        -5.39287e+03, -7.61844e+04]])"
      ]
     },
     "execution_count": 7,
     "metadata": {},
     "output_type": "execute_result"
    }
   ],
   "execution_count": 7
  },
  {
   "metadata": {
    "ExecuteTime": {
     "end_time": "2024-12-09T05:34:02.911515Z",
     "start_time": "2024-12-09T05:34:02.908086Z"
    }
   },
   "cell_type": "code",
   "source": "LG_G4_b.shape",
   "id": "2bf96d16c3b0c866",
   "outputs": [
    {
     "data": {
      "text/plain": [
       "(105,)"
      ]
     },
     "execution_count": 8,
     "metadata": {},
     "output_type": "execute_result"
    }
   ],
   "execution_count": 8
  },
  {
   "metadata": {
    "ExecuteTime": {
     "end_time": "2024-12-09T05:34:02.970289Z",
     "start_time": "2024-12-09T05:34:02.964151Z"
    }
   },
   "cell_type": "code",
   "source": "LG_G4_C60_h.shape",
   "id": "d3453b2b781eab43",
   "outputs": [
    {
     "data": {
      "text/plain": [
       "(105, 105)"
      ]
     },
     "execution_count": 9,
     "metadata": {},
     "output_type": "execute_result"
    }
   ],
   "execution_count": 9
  },
  {
   "metadata": {
    "ExecuteTime": {
     "end_time": "2024-12-09T05:34:03.037135Z",
     "start_time": "2024-12-09T05:34:03.034382Z"
    }
   },
   "cell_type": "code",
   "source": "LG_G4_C60_b.shape",
   "id": "4f9a8a8ac057a613",
   "outputs": [
    {
     "data": {
      "text/plain": [
       "(105,)"
      ]
     },
     "execution_count": 10,
     "metadata": {},
     "output_type": "execute_result"
    }
   ],
   "execution_count": 10
  },
  {
   "metadata": {
    "ExecuteTime": {
     "end_time": "2024-12-09T05:34:03.149227Z",
     "start_time": "2024-12-09T05:34:03.092159Z"
    }
   },
   "cell_type": "code",
   "source": "LG_G4_h_inv = np.linalg.inv((-1)*LG_G4_h)",
   "id": "a6f149e8f9af598d",
   "outputs": [],
   "execution_count": 11
  },
  {
   "metadata": {
    "ExecuteTime": {
     "end_time": "2024-12-09T05:34:03.184860Z",
     "start_time": "2024-12-09T05:34:03.180040Z"
    }
   },
   "cell_type": "code",
   "source": "identity = np.dot(LG_G4_h, LG_G4_h_inv)",
   "id": "1ec7a600c42ab451",
   "outputs": [],
   "execution_count": 12
  },
  {
   "metadata": {
    "ExecuteTime": {
     "end_time": "2024-12-09T05:34:03.228926Z",
     "start_time": "2024-12-09T05:34:03.222376Z"
    }
   },
   "cell_type": "code",
   "source": "identity",
   "id": "d38f7e3a2303a983",
   "outputs": [
    {
     "data": {
      "text/plain": [
       "array([[-1.00000000e+00,  8.31220652e-18, -4.28157747e-19, ...,\n",
       "         2.54852468e-16,  2.30777950e-17, -5.08034781e-18],\n",
       "       [ 1.56981087e-17, -1.00000000e+00,  8.49676700e-18, ...,\n",
       "         1.30089069e-17, -1.84655847e-17,  1.07412715e-17],\n",
       "       [ 8.59140409e-19, -1.90136762e-17, -1.00000000e+00, ...,\n",
       "        -5.27199137e-18,  7.97797452e-18, -7.16605454e-19],\n",
       "       ...,\n",
       "       [ 2.78420789e-17,  1.38848552e-18,  1.57222012e-18, ...,\n",
       "        -1.00000000e+00,  5.03836373e-18, -3.24972661e-17],\n",
       "       [ 1.33613521e-17,  7.72335095e-19,  1.37425755e-18, ...,\n",
       "         6.34884799e-18, -1.00000000e+00, -5.50171412e-18],\n",
       "       [ 6.93889390e-18, -6.93889390e-18,  1.30104261e-18, ...,\n",
       "         0.00000000e+00,  2.45545596e-19, -1.00000000e+00]])"
      ]
     },
     "execution_count": 13,
     "metadata": {},
     "output_type": "execute_result"
    }
   ],
   "execution_count": 13
  },
  {
   "metadata": {
    "ExecuteTime": {
     "end_time": "2024-12-09T05:34:03.297134Z",
     "start_time": "2024-12-09T05:34:03.269577Z"
    }
   },
   "cell_type": "code",
   "source": "LG_G4_C60_h_inv = np.linalg.inv((-1)*LG_G4_C60_h)",
   "id": "9a0556385863fe4c",
   "outputs": [],
   "execution_count": 14
  },
  {
   "metadata": {
    "ExecuteTime": {
     "end_time": "2024-12-09T05:34:03.353965Z",
     "start_time": "2024-12-09T05:34:03.350158Z"
    }
   },
   "cell_type": "code",
   "source": "LG_G4_h_inv_diag = np.diag(LG_G4_h_inv)",
   "id": "c3c1f26f44c1b35b",
   "outputs": [],
   "execution_count": 15
  },
  {
   "metadata": {
    "ExecuteTime": {
     "end_time": "2024-12-09T05:34:03.404014Z",
     "start_time": "2024-12-09T05:34:03.397101Z"
    }
   },
   "cell_type": "code",
   "source": "LG_G4_h_inv_diag.shape",
   "id": "a6a353bedd9ce702",
   "outputs": [
    {
     "data": {
      "text/plain": [
       "(105,)"
      ]
     },
     "execution_count": 16,
     "metadata": {},
     "output_type": "execute_result"
    }
   ],
   "execution_count": 16
  },
  {
   "metadata": {
    "ExecuteTime": {
     "end_time": "2024-12-09T05:34:03.470546Z",
     "start_time": "2024-12-09T05:34:03.468597Z"
    }
   },
   "cell_type": "code",
   "source": "LG_G4_C60_h_inv_diag = np.diag(LG_G4_C60_h_inv)",
   "id": "c8839ca49e65e700",
   "outputs": [],
   "execution_count": 17
  },
  {
   "metadata": {
    "ExecuteTime": {
     "end_time": "2024-12-09T05:34:03.522069Z",
     "start_time": "2024-12-09T05:34:03.519171Z"
    }
   },
   "cell_type": "code",
   "source": "LG_G4_C60_h_inv_diag.shape",
   "id": "d063fd2feea94a18",
   "outputs": [
    {
     "data": {
      "text/plain": [
       "(105,)"
      ]
     },
     "execution_count": 18,
     "metadata": {},
     "output_type": "execute_result"
    }
   ],
   "execution_count": 18
  },
  {
   "metadata": {
    "ExecuteTime": {
     "end_time": "2024-12-09T05:34:03.700123Z",
     "start_time": "2024-12-09T05:34:03.581592Z"
    }
   },
   "cell_type": "code",
   "source": [
    "plt.figure(figsize=(6, 6))\n",
    "plt.scatter(LG_G4_h_inv_diag,LG_G4_C60_h_inv_diag, color='black')\n",
    "min_value = min(min(LG_G4_h_inv_diag), min(LG_G4_C60_h_inv_diag))\n",
    "max_value = max(max(LG_G4_h_inv_diag), max(LG_G4_C60_h_inv_diag))\n",
    "\n",
    "# Add y = x line\n",
    "plt.plot([min_value, max_value], [min_value, max_value], color='red', linestyle='--', label='y = x')\n",
    "\n",
    "\n",
    "# Add labels and title\n",
    "plt.xlabel('LG+G4')\n",
    "plt.ylabel('LG+G4+C60')\n",
    "plt.title('Branch-Length Variation')\n",
    "\n",
    "# Show the plot\n",
    "plt.savefig(\"./bv_LG_G4_C60.png\")"
   ],
   "id": "f74e2068863ad417",
   "outputs": [
    {
     "data": {
      "text/plain": [
       "<Figure size 600x600 with 1 Axes>"
      ],
      "image/png": "[encoded data removed]"
     },
     "metadata": {},
     "output_type": "display_data"
    }
   ],
   "execution_count": 19
  },
  {
   "metadata": {
    "ExecuteTime": {
     "end_time": "2024-12-09T05:34:03.819139Z",
     "start_time": "2024-12-09T05:34:03.708759Z"
    }
   },
   "cell_type": "code",
   "source": [
    "plt.figure(figsize=(6, 6))\n",
    "plt.scatter(LG_G4_b, LG_G4_C60_b, color='black')\n",
    "min_value = min(min(LG_G4_b), min(LG_G4_C60_b))\n",
    "max_value = max(max(LG_G4_b), max(LG_G4_C60_b))\n",
    "\n",
    "# Add y = x line\n",
    "plt.plot([min_value, max_value], [min_value, max_value], color='red', linestyle='--', label='y = x')\n",
    "\n",
    "\n",
    "# Add labels and title\n",
    "plt.xlabel('LG+G4')\n",
    "plt.ylabel('LG+G4+C60')\n",
    "plt.title('Branch-Lengths')\n",
    "\n",
    "# Show the plot\n",
    "plt.savefig(\"./b_LG_G4_C60.png\")"
   ],
   "id": "4243e2d449f4c671",
   "outputs": [
    {
     "data": {
      "text/plain": [
       "<Figure size 600x600 with 1 Axes>"
      ],
      "image/png": "[encoded data removed]"
     },
     "metadata": {},
     "output_type": "display_data"
    }
   ],
   "execution_count": 20
  },
  {
   "metadata": {
    "ExecuteTime": {
     "end_time": "2024-12-09T05:34:03.828649Z",
     "start_time": "2024-12-09T05:34:03.827023Z"
    }
   },
   "cell_type": "code",
   "source": "",
   "id": "68fe65f0df5d52f5",
   "outputs": [],
   "execution_count": null
  }
 ],
 "metadata": {
  "kernelspec": {
   "display_name": "Python 3",
   "language": "python",
   "name": "python3"
  },
  "language_info": {
   "codemirror_mode": {
    "name": "ipython",
    "version": 2
   },
   "file_extension": ".py",
   "mimetype": "text/x-python",
   "name": "python",
   "nbconvert_exporter": "python",
   "pygments_lexer": "ipython2",
   "version": "2.7.6"
  }
 },
 "nbformat": 4,
 "nbformat_minor": 5
}
