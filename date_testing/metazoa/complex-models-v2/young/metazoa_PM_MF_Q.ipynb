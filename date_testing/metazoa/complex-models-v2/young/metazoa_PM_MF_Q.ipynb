{
 "cells": [
  {
   "cell_type": "code",
   "id": "initial_id",
   "metadata": {
    "collapsed": true,
    "ExecuteTime": {
     "end_time": "2024-10-31T08:56:47.313570Z",
     "start_time": "2024-10-31T08:56:47.309544Z"
    }
   },
   "source": [
    "# Code to get all the Posterior mean (95% Equal-tail CI) (95% HPD CI) HPD-CI-width from ./xenarthra_mcmc_out.txt\n",
    "import numpy as np\n",
    "import pandas as pd\n",
    "import matplotlib.pyplot as plt\n",
    "\n",
    "\n",
    "# Read the file\n",
    "file = open(\"PM_MF_Q_young_out.txt\", \"r\")\n",
    "lines = file.readlines()\n",
    "file.close()\n",
    "\n",
    "# Extract the data\n",
    "data = []\n",
    "mu_data = []\n",
    "var_data = []\n",
    "\n",
    "read_flag = False\n",
    "for line in lines:\n",
    "    if line.startswith(\"Posterior\"):\n",
    "        read_flag = True\n",
    "    if read_flag and line.startswith(\"t\"):\n",
    "        data.append(line)\n",
    "    if read_flag and line.startswith(\"mu\"):\n",
    "        mu_data.append(line)\n",
    "    if read_flag and line.startswith(\"sigma\"):\n",
    "        var_data.append(line)"
   ],
   "outputs": [],
   "execution_count": 43
  },
  {
   "metadata": {
    "ExecuteTime": {
     "end_time": "2024-10-31T08:56:47.366191Z",
     "start_time": "2024-10-31T08:56:47.360556Z"
    }
   },
   "cell_type": "code",
   "source": "data",
   "id": "54808ee54195795",
   "outputs": [
    {
     "data": {
      "text/plain": [
       "['t_n55         10.3547 ( 9.7769, 10.9863) ( 9.7758, 10.9833)  1.2075 (Jnode 106)\\n',\n",
       " 't_n56         10.3073 ( 9.7370, 10.9330) ( 9.7062, 10.9000)  1.1938 (Jnode 105)\\n',\n",
       " 't_n57          9.5611 ( 9.0565, 10.1177) ( 9.0302, 10.0899)  1.0597 (Jnode 104)\\n',\n",
       " 't_n58          8.1710 ( 7.7772,  8.6093) ( 7.7702,  8.6007)  0.8305 (Jnode 103)\\n',\n",
       " 't_n59          7.8518 ( 7.4740,  8.2789) ( 7.4719,  8.2761)  0.8042 (Jnode 102)\\n',\n",
       " 't_n60          7.4629 ( 7.1025,  7.8735) ( 7.1009,  7.8713)  0.7704 (Jnode 101)\\n',\n",
       " 't_n61          6.8644 ( 6.5246,  7.2523) ( 6.5119,  7.2352)  0.7233 (Jnode 100)\\n',\n",
       " 't_n62          3.1891 ( 2.8202,  3.5688) ( 2.8132,  3.5611)  0.7479 (Jnode 99)\\n',\n",
       " 't_n63          4.8946 ( 4.6171,  5.2295) ( 4.6161,  5.2274)  0.6112 (Jnode 98)\\n',\n",
       " 't_n64          3.5179 ( 3.2509,  3.8191) ( 3.2359,  3.8025)  0.5667 (Jnode 97)\\n',\n",
       " 't_n65          3.0679 ( 2.8171,  3.3514) ( 2.8028,  3.3343)  0.5315 (Jnode 96)\\n',\n",
       " 't_n66          2.3932 ( 2.1699,  2.6374) ( 2.1641,  2.6296)  0.4654 (Jnode 95)\\n',\n",
       " 't_n67          1.6370 ( 1.4627,  1.8290) ( 1.4574,  1.8227)  0.3653 (Jnode 94)\\n',\n",
       " 't_n68          1.0967 ( 0.9654,  1.2402) ( 0.9640,  1.2375)  0.2734 (Jnode 93)\\n',\n",
       " 't_n69          0.4428 ( 0.3749,  0.5199) ( 0.3716,  0.5156)  0.1440 (Jnode 92)\\n',\n",
       " 't_n70          3.6980 ( 3.4168,  4.0152) ( 3.4085,  4.0046)  0.5961 (Jnode 91)\\n',\n",
       " 't_n71          7.5549 ( 7.1854,  7.9744) ( 7.1684,  7.9555)  0.7871 (Jnode 90)\\n',\n",
       " 't_n72          6.7834 ( 6.4105,  7.1974) ( 6.3925,  7.1786)  0.7862 (Jnode 89)\\n',\n",
       " 't_n73          6.8399 ( 6.4936,  7.2447) ( 6.4942,  7.2450)  0.7508 (Jnode 88)\\n',\n",
       " 't_n74          4.9670 ( 4.6344,  5.3937) ( 4.6439,  5.4013)  0.7574 (Jnode 87)\\n',\n",
       " 't_n75          4.3904 ( 4.0421,  4.8204) ( 4.0389,  4.8155)  0.7766 (Jnode 86)\\n',\n",
       " 't_n76          3.9793 ( 3.5407,  4.4476) ( 3.5272,  4.4270)  0.8998 (Jnode 85)\\n',\n",
       " 't_n77          7.4569 ( 7.1114,  7.8392) ( 7.1084,  7.8339)  0.7255 (Jnode 84)\\n',\n",
       " 't_n78          7.0414 ( 6.7112,  7.4114) ( 6.6931,  7.3902)  0.6971 (Jnode 83)\\n',\n",
       " 't_n79          6.7214 ( 6.4018,  7.0813) ( 6.3930,  7.0698)  0.6768 (Jnode 82)\\n',\n",
       " 't_n80          6.3378 ( 6.0327,  6.6910) ( 6.0270,  6.6830)  0.6560 (Jnode 81)\\n',\n",
       " 't_n81          5.8017 ( 5.5201,  6.1421) ( 5.5110,  6.1320)  0.6210 (Jnode 80)\\n',\n",
       " 't_n82          5.5826 ( 5.3037,  5.9250) ( 5.3020,  5.9231)  0.6212 (Jnode 79)\\n',\n",
       " 't_n83          4.8628 ( 4.6120,  5.2014) ( 4.6048,  5.1930)  0.5883 (Jnode 78)\\n',\n",
       " 't_n84          4.4245 ( 4.1795,  4.7555) ( 4.1774,  4.7524)  0.5749 (Jnode 77)\\n',\n",
       " 't_n85          4.0198 ( 3.7814,  4.3350) ( 3.7752,  4.3276)  0.5524 (Jnode 76)\\n',\n",
       " 't_n86          3.0483 ( 2.8290,  3.3183) ( 2.8237,  3.3125)  0.4888 (Jnode 75)\\n',\n",
       " 't_n87          2.7170 ( 2.5047,  2.9716) ( 2.4980,  2.9617)  0.4637 (Jnode 74)\\n',\n",
       " 't_n88          4.9536 ( 4.6821,  5.2887) ( 4.6743,  5.2771)  0.6028 (Jnode 73)\\n',\n",
       " 't_n89          3.9706 ( 3.6992,  4.2870) ( 3.6919,  4.2772)  0.5854 (Jnode 72)\\n',\n",
       " 't_n90          7.2800 ( 6.9465,  7.6478) ( 6.9479,  7.6489)  0.7009 (Jnode 71)\\n',\n",
       " 't_n91          1.8033 ( 1.4685,  2.1635) ( 1.4587,  2.1504)  0.6917 (Jnode 70)\\n',\n",
       " 't_n92          7.0732 ( 6.7536,  7.4227) ( 6.7505,  7.4185)  0.6680 (Jnode 69)\\n',\n",
       " 't_n93          6.6107 ( 6.3243,  6.9144) ( 6.3206,  6.9094)  0.5887 (Jnode 68)\\n',\n",
       " 't_n94          5.9454 ( 5.7041,  6.1829) ( 5.7087,  6.1864)  0.4777 (Jnode 67)\\n',\n",
       " 't_n95          5.5265 ( 5.3121,  5.7191) ( 5.3187,  5.7232)  0.4045 (Jnode 66)\\n',\n",
       " 't_n96          4.1234 ( 3.8924,  4.3369) ( 3.8954,  4.3393)  0.4439 (Jnode 65)\\n',\n",
       " 't_n97          4.6737 ( 4.5130,  4.7837) ( 4.5266,  4.7919)  0.2653 (Jnode 64)\\n',\n",
       " 't_n98          5.6881 ( 5.4341,  5.9559) ( 5.4271,  5.9472)  0.5200 (Jnode 63)\\n',\n",
       " 't_n99          5.3830 ( 5.1352,  5.6417) ( 5.1361,  5.6422)  0.5061 (Jnode 62)\\n',\n",
       " 't_n100         4.8453 ( 4.6067,  5.1018) ( 4.6066,  5.1014)  0.4947 (Jnode 61)\\n',\n",
       " 't_n101         3.9031 ( 3.6214,  4.1831) ( 3.6264,  4.1871)  0.5607 (Jnode 60)\\n',\n",
       " 't_n102         4.8498 ( 4.5766,  5.1552) ( 4.5803,  5.1578)  0.5775 (Jnode 59)\\n',\n",
       " 't_n103         8.6149 ( 8.1391,  9.1339) ( 8.1271,  9.1184)  0.9913 (Jnode 58)\\n',\n",
       " 't_n104         6.5775 ( 6.0750,  7.1372) ( 6.0822,  7.1429)  1.0607 (Jnode 57)\\n',\n",
       " 't_n105         4.2389 ( 3.7193,  4.8391) ( 3.7212,  4.8403)  1.1191 (Jnode 56)\\n',\n",
       " 't_n106         3.2871 ( 2.7804,  3.8188) ( 2.7708,  3.8067)  1.0359 (Jnode 55)\\n',\n",
       " 't_n107         7.1212 ( 6.4799,  7.7664) ( 6.4767,  7.7613)  1.2846 (Jnode 54)\\n']"
      ]
     },
     "execution_count": 44,
     "metadata": {},
     "output_type": "execute_result"
    }
   ],
   "execution_count": 44
  },
  {
   "metadata": {
    "ExecuteTime": {
     "end_time": "2024-10-31T08:56:47.554608Z",
     "start_time": "2024-10-31T08:56:47.551352Z"
    }
   },
   "cell_type": "code",
   "source": [
    "node_name = []\n",
    "posterior_mean_iqtree = []\n",
    "posterior_mean_baseml = []\n",
    "\n",
    "posterior_mean_mu_iqtree = []\n",
    "posterior_mean_mu_baseml = []\n",
    "\n",
    "posterior_mean_var_iqtree = []\n",
    "posterior_mean_var_baseml = []\n",
    "\n",
    "lower_ci_iqtree = []\n",
    "upper_ci_iqtree = []\n",
    "\n",
    "lower_ci_mu_iqtree = []\n",
    "upper_ci_mu_iqtree = []\n",
    "\n",
    "lower_ci_var_iqtree = []\n",
    "upper_ci_var_iqtree = []\n",
    "\n",
    "# Credible intervals for McmcDate\n",
    "lower_ci_baseml = []\n",
    "upper_ci_baseml = []\n",
    "\n",
    "lower_ci_mu_baseml = []\n",
    "upper_ci_mu_baseml = []\n",
    "\n",
    "lower_ci_var_baseml = []\n",
    "upper_ci_var_baseml = []"
   ],
   "id": "e5cf93a69d327e61",
   "outputs": [],
   "execution_count": 45
  },
  {
   "metadata": {
    "ExecuteTime": {
     "end_time": "2024-10-31T08:56:47.601840Z",
     "start_time": "2024-10-31T08:56:47.597701Z"
    }
   },
   "cell_type": "code",
   "source": [
    "for line in data:\n",
    "    line = line.strip().split()\n",
    "    node_name.append(line[0])\n",
    "    posterior_mean_iqtree.append(float(line[1]))\n",
    "#     if line[3].startswith('('):\n",
    "#         lower_ci_iqtree.append(float(line[3][1:-1]))\n",
    "#     else:\n",
    "#         lower_ci_iqtree.append(float(line[3][1:-1]))\n",
    "#     if line[4].startswith('('):\n",
    "#         upper_ci_iqtree.append(float(line[4][1:-1]))\n",
    "#     else:\n",
    "#         upper_ci_iqtree.append(float(line[4][:-1]))\n",
    "#     # posterior_mean_baseml.append(float(line[4]))\n",
    "#     # lower_ci_baseml.append(float(line[5]))\n",
    "#     # upper_ci_baseml.append(float(line[6]))\n",
    "# \n",
    "# for line in mu_data:\n",
    "#     line = line.strip().split()\n",
    "#     # node_name.append(line[0])\n",
    "#     posterior_mean_mu_iqtree.append(float(line[1]))\n",
    "#     lower_ci_mu_iqtree.append(float(line[3][:-1]))\n",
    "#     upper_ci_mu_iqtree.append(float(line[4][:-1]))\n",
    "#\n",
    "# for line in var_data:\n",
    "#     line = line.strip().split()\n",
    "#     # node_name.append(line[0])\n",
    "#     posterior_mean_var_iqtree.append(float(line[1]))\n",
    "#     lower_ci_var_iqtree.append(float(line[3][:-1]))\n",
    "#     upper_ci_var_iqtree.append(float(line[4][:-1]))"
   ],
   "id": "4e79ee928ea76b59",
   "outputs": [],
   "execution_count": 46
  },
  {
   "metadata": {
    "ExecuteTime": {
     "end_time": "2024-10-31T08:56:47.655456Z",
     "start_time": "2024-10-31T08:56:47.651416Z"
    }
   },
   "cell_type": "code",
   "source": "node_name",
   "id": "2c17f55ec9626a0b",
   "outputs": [
    {
     "data": {
      "text/plain": [
       "['t_n55',\n",
       " 't_n56',\n",
       " 't_n57',\n",
       " 't_n58',\n",
       " 't_n59',\n",
       " 't_n60',\n",
       " 't_n61',\n",
       " 't_n62',\n",
       " 't_n63',\n",
       " 't_n64',\n",
       " 't_n65',\n",
       " 't_n66',\n",
       " 't_n67',\n",
       " 't_n68',\n",
       " 't_n69',\n",
       " 't_n70',\n",
       " 't_n71',\n",
       " 't_n72',\n",
       " 't_n73',\n",
       " 't_n74',\n",
       " 't_n75',\n",
       " 't_n76',\n",
       " 't_n77',\n",
       " 't_n78',\n",
       " 't_n79',\n",
       " 't_n80',\n",
       " 't_n81',\n",
       " 't_n82',\n",
       " 't_n83',\n",
       " 't_n84',\n",
       " 't_n85',\n",
       " 't_n86',\n",
       " 't_n87',\n",
       " 't_n88',\n",
       " 't_n89',\n",
       " 't_n90',\n",
       " 't_n91',\n",
       " 't_n92',\n",
       " 't_n93',\n",
       " 't_n94',\n",
       " 't_n95',\n",
       " 't_n96',\n",
       " 't_n97',\n",
       " 't_n98',\n",
       " 't_n99',\n",
       " 't_n100',\n",
       " 't_n101',\n",
       " 't_n102',\n",
       " 't_n103',\n",
       " 't_n104',\n",
       " 't_n105',\n",
       " 't_n106',\n",
       " 't_n107']"
      ]
     },
     "execution_count": 47,
     "metadata": {},
     "output_type": "execute_result"
    }
   ],
   "execution_count": 47
  },
  {
   "metadata": {
    "ExecuteTime": {
     "end_time": "2024-10-31T08:56:47.715235Z",
     "start_time": "2024-10-31T08:56:47.710908Z"
    }
   },
   "cell_type": "code",
   "source": "posterior_mean_iqtree",
   "id": "24a55c806a41f33e",
   "outputs": [
    {
     "data": {
      "text/plain": [
       "[10.3547,\n",
       " 10.3073,\n",
       " 9.5611,\n",
       " 8.171,\n",
       " 7.8518,\n",
       " 7.4629,\n",
       " 6.8644,\n",
       " 3.1891,\n",
       " 4.8946,\n",
       " 3.5179,\n",
       " 3.0679,\n",
       " 2.3932,\n",
       " 1.637,\n",
       " 1.0967,\n",
       " 0.4428,\n",
       " 3.698,\n",
       " 7.5549,\n",
       " 6.7834,\n",
       " 6.8399,\n",
       " 4.967,\n",
       " 4.3904,\n",
       " 3.9793,\n",
       " 7.4569,\n",
       " 7.0414,\n",
       " 6.7214,\n",
       " 6.3378,\n",
       " 5.8017,\n",
       " 5.5826,\n",
       " 4.8628,\n",
       " 4.4245,\n",
       " 4.0198,\n",
       " 3.0483,\n",
       " 2.717,\n",
       " 4.9536,\n",
       " 3.9706,\n",
       " 7.28,\n",
       " 1.8033,\n",
       " 7.0732,\n",
       " 6.6107,\n",
       " 5.9454,\n",
       " 5.5265,\n",
       " 4.1234,\n",
       " 4.6737,\n",
       " 5.6881,\n",
       " 5.383,\n",
       " 4.8453,\n",
       " 3.9031,\n",
       " 4.8498,\n",
       " 8.6149,\n",
       " 6.5775,\n",
       " 4.2389,\n",
       " 3.2871,\n",
       " 7.1212]"
      ]
     },
     "execution_count": 48,
     "metadata": {},
     "output_type": "execute_result"
    }
   ],
   "execution_count": 48
  },
  {
   "metadata": {
    "ExecuteTime": {
     "end_time": "2024-10-31T08:56:47.767242Z",
     "start_time": "2024-10-31T08:56:47.764277Z"
    }
   },
   "cell_type": "code",
   "source": "lower_ci_iqtree",
   "id": "388aa27ad336d43f",
   "outputs": [
    {
     "data": {
      "text/plain": [
       "[]"
      ]
     },
     "execution_count": 49,
     "metadata": {},
     "output_type": "execute_result"
    }
   ],
   "execution_count": 49
  },
  {
   "metadata": {
    "ExecuteTime": {
     "end_time": "2024-10-31T08:56:47.829006Z",
     "start_time": "2024-10-31T08:56:47.822754Z"
    }
   },
   "cell_type": "code",
   "source": "upper_ci_iqtree",
   "id": "816e569fb763e797",
   "outputs": [
    {
     "data": {
      "text/plain": [
       "[]"
      ]
     },
     "execution_count": 50,
     "metadata": {},
     "output_type": "execute_result"
    }
   ],
   "execution_count": 50
  },
  {
   "metadata": {
    "ExecuteTime": {
     "end_time": "2024-10-31T08:56:47.881587Z",
     "start_time": "2024-10-31T08:56:47.876183Z"
    }
   },
   "cell_type": "code",
   "source": [
    "file_LG = open(\"LG_G4_codeml_young_out.txt\", \"r\")\n",
    "lines1 = file_LG.readlines()\n",
    "file_LG.close()\n",
    "\n",
    "# Extract the data\n",
    "data1 = []\n",
    "mu_data1 = []\n",
    "var_data1 = []\n",
    "\n",
    "read_flag = False\n",
    "for line in lines1:\n",
    "    if line.startswith(\"Posterior\"):\n",
    "        read_flag = True\n",
    "    if read_flag and line.startswith(\"t\"):\n",
    "        data1.append(line)\n",
    "    if read_flag and line.startswith(\"mu\"):\n",
    "        mu_data1.append(line)\n",
    "    if read_flag and line.startswith(\"sigma\"):\n",
    "        var_data1.append(line)\n",
    "\n",
    "        \n",
    "for line in data1:\n",
    "    line = line.strip().split()\n",
    "    # node_name.append(line[0])\n",
    "    posterior_mean_baseml.append(float(line[1]))\n",
    "#     if line[3].startswith('('):\n",
    "#         lower_ci_baseml.append(float(line[3][1:-1]))\n",
    "#     else:\n",
    "#          lower_ci_baseml.append(float(line[3][:-1]))\n",
    "#     if line[4].startswith('('):\n",
    "#         upper_ci_baseml.append(float(line[4][1:-1]))\n",
    "#     else:\n",
    "#          upper_ci_baseml.append(float(line[4][:-1]))\n",
    "#         \n",
    "#     \n",
    "# for line in mu_data1:\n",
    "#     line = line.strip().split()\n",
    "#     # node_name.append(line[0])\n",
    "#     posterior_mean_mu_baseml.append(float(line[1]))\n",
    "#     lower_ci_mu_baseml.append(float(line[3][:-1]))\n",
    "#     upper_ci_mu_baseml.append(float(line[4][:-1]))\n",
    "    \n",
    "# for line in var_data1:\n",
    "#     line = line.strip().split()\n",
    "#     # node_name.append(line[0])\n",
    "#     posterior_mean_var_baseml.append(float(line[1]))\n",
    "#     lower_ci_var_baseml.append(float(line[3][:-1]))\n",
    "#     upper_ci_var_baseml.append(float(line[4][:-1]))"
   ],
   "id": "f75c012c6bef60a2",
   "outputs": [],
   "execution_count": 51
  },
  {
   "metadata": {
    "ExecuteTime": {
     "end_time": "2024-10-31T08:56:47.927209Z",
     "start_time": "2024-10-31T08:56:47.923869Z"
    }
   },
   "cell_type": "code",
   "source": [
    "import matplotlib.pyplot as plt\n",
    "import numpy as np\n",
    "\n",
    "# # Example data\n",
    "# # Posterior means for MCMCtree (x-axis) and McmcDate (y-axis)\n",
    "# posterior_mean_mcmctree = [100, 200, 300, 400, 500, 600, 700, 800, 900, 1000]\n",
    "# posterior_mean_mcmcdate = [110, 210, 310, 410, 510, 610, 710, 810, 910, 1010]\n",
    "# \n",
    "# # Credible intervals for MCMCtree\n",
    "# lower_ci_mcmctree = [90, 180, 270, 360, 450, 540, 630, 720, 810, 900]\n",
    "# upper_ci_mcmctree = [110, 220, 330, 440, 550, 660, 770, 880, 990, 1100]\n",
    "# \n",
    "# # Credible intervals for McmcDate\n",
    "# lower_ci_mcmcdate = [100, 200, 300, 400, 500, 600, 700, 800, 900, 1000]\n",
    "# upper_ci_mcmcdate = [120, 220, 320, 420, 520, 620, 720, 820, 920, 1020]\n",
    "\n",
    "# Calculate error bars\n",
    "# xerr = [np.array(lower_ci_baseml), \n",
    "#         np.array(upper_ci_baseml)]\n",
    "# yerr = [np.array(lower_ci_iqtree), \n",
    "#         np.array(upper_ci_iqtree)]\n",
    "# \n",
    "# # Plotting\n",
    "# fig, ax = plt.subplots(figsize=(15, 15))\n",
    "# ax.plot([-0.1,90], \n",
    "#         [-0.1, 90], \n",
    "#         'k--', label='y=x')\n",
    "# ax.errorbar(posterior_mean_baseml, posterior_mean_iqtree, \n",
    "#             xerr=xerr, yerr=yerr, fmt='*', ecolor='r', capsize=3, label='95% HPD CI')\n",
    "# \n",
    "# # Labels and title\n",
    "# ax.set_xlabel('Posterior mean age LG [100 Mya]', fontsize=18)\n",
    "# ax.set_ylabel('Posterior mean age LG+G4 [100 Mya]', fontsize=18)\n",
    "# ax.set_title('Posterior mean age comparison between LG and LG+G4 models [t116 ~ B(1.25,2.482)]')\n",
    "# ax.legend()\n",
    "# \n",
    "# # Show plot\n",
    "# # plt.show()\n",
    "# plt.savefig('./animal_origin_posterior_mean_age_comparison_LG_G4_c11.png')"
   ],
   "id": "12db486fa4fac82c",
   "outputs": [],
   "execution_count": 52
  },
  {
   "metadata": {
    "ExecuteTime": {
     "end_time": "2024-10-31T08:56:47.985912Z",
     "start_time": "2024-10-31T08:56:47.981741Z"
    }
   },
   "cell_type": "code",
   "source": "posterior_mean_baseml",
   "id": "917b2e31cff4b992",
   "outputs": [
    {
     "data": {
      "text/plain": [
       "[10.446,\n",
       " 10.3978,\n",
       " 9.6282,\n",
       " 8.2142,\n",
       " 7.8848,\n",
       " 7.4854,\n",
       " 6.8846,\n",
       " 3.2498,\n",
       " 4.8954,\n",
       " 3.525,\n",
       " 3.0696,\n",
       " 2.3873,\n",
       " 1.6376,\n",
       " 1.0978,\n",
       " 0.4448,\n",
       " 3.7028,\n",
       " 7.5891,\n",
       " 6.7745,\n",
       " 6.8514,\n",
       " 4.9883,\n",
       " 4.3863,\n",
       " 3.9818,\n",
       " 7.5033,\n",
       " 7.0698,\n",
       " 6.7622,\n",
       " 6.3619,\n",
       " 5.8224,\n",
       " 5.5889,\n",
       " 4.8621,\n",
       " 4.4088,\n",
       " 3.9995,\n",
       " 3.0428,\n",
       " 2.7041,\n",
       " 4.9784,\n",
       " 3.9836,\n",
       " 7.3108,\n",
       " 1.8658,\n",
       " 7.1009,\n",
       " 6.63,\n",
       " 5.9674,\n",
       " 5.5283,\n",
       " 4.1341,\n",
       " 4.6722,\n",
       " 5.6981,\n",
       " 5.3834,\n",
       " 4.8213,\n",
       " 3.911,\n",
       " 4.8775,\n",
       " 8.6609,\n",
       " 6.6131,\n",
       " 4.2602,\n",
       " 3.3723,\n",
       " 7.2714]"
      ]
     },
     "execution_count": 53,
     "metadata": {},
     "output_type": "execute_result"
    }
   ],
   "execution_count": 53
  },
  {
   "metadata": {
    "ExecuteTime": {
     "end_time": "2024-10-31T08:56:48.042450Z",
     "start_time": "2024-10-31T08:56:48.038339Z"
    }
   },
   "cell_type": "code",
   "source": "posterior_mean_iqtree",
   "id": "59ad8fd34f7bbf11",
   "outputs": [
    {
     "data": {
      "text/plain": [
       "[10.3547,\n",
       " 10.3073,\n",
       " 9.5611,\n",
       " 8.171,\n",
       " 7.8518,\n",
       " 7.4629,\n",
       " 6.8644,\n",
       " 3.1891,\n",
       " 4.8946,\n",
       " 3.5179,\n",
       " 3.0679,\n",
       " 2.3932,\n",
       " 1.637,\n",
       " 1.0967,\n",
       " 0.4428,\n",
       " 3.698,\n",
       " 7.5549,\n",
       " 6.7834,\n",
       " 6.8399,\n",
       " 4.967,\n",
       " 4.3904,\n",
       " 3.9793,\n",
       " 7.4569,\n",
       " 7.0414,\n",
       " 6.7214,\n",
       " 6.3378,\n",
       " 5.8017,\n",
       " 5.5826,\n",
       " 4.8628,\n",
       " 4.4245,\n",
       " 4.0198,\n",
       " 3.0483,\n",
       " 2.717,\n",
       " 4.9536,\n",
       " 3.9706,\n",
       " 7.28,\n",
       " 1.8033,\n",
       " 7.0732,\n",
       " 6.6107,\n",
       " 5.9454,\n",
       " 5.5265,\n",
       " 4.1234,\n",
       " 4.6737,\n",
       " 5.6881,\n",
       " 5.383,\n",
       " 4.8453,\n",
       " 3.9031,\n",
       " 4.8498,\n",
       " 8.6149,\n",
       " 6.5775,\n",
       " 4.2389,\n",
       " 3.2871,\n",
       " 7.1212]"
      ]
     },
     "execution_count": 54,
     "metadata": {},
     "output_type": "execute_result"
    }
   ],
   "execution_count": 54
  },
  {
   "metadata": {
    "ExecuteTime": {
     "end_time": "2024-10-31T08:56:48.417385Z",
     "start_time": "2024-10-31T08:56:48.206616Z"
    }
   },
   "cell_type": "code",
   "source": [
    "# Calculate error bars\n",
    "xerr = [np.array(lower_ci_baseml), \n",
    "        np.array(upper_ci_baseml)]\n",
    "yerr = [np.array(lower_ci_iqtree), \n",
    "        np.array(upper_ci_iqtree)]\n",
    "\n",
    "# Plotting\n",
    "fig, ax = plt.subplots(figsize=(9 ,9))\n",
    "ax.plot([-0.1,11], \n",
    "        [-0.1, 1], \n",
    "        'k--', label='y=x')\n",
    "points = ax.plot(posterior_mean_iqtree, posterior_mean_baseml, 'o', label='Posterior mean age')\n",
    "\n",
    "points[0].set_markerfacecolor('blue')\n",
    "# points[23].set_markerfacecolor('blue')# Set default face color (for other points)\n",
    "\n",
    "# Now plot the highlighted point with a different color\n",
    "ax.scatter(posterior_mean_iqtree[0], posterior_mean_baseml[0], color='red', s=100)\n",
    "ax.scatter(posterior_mean_iqtree[-11], posterior_mean_baseml[-11], color='red', s=100)\n",
    "# ax.scatter(posterior_mean_iqtree[0], posterior_mean_baseml[0], color='red', label='Root age')\n",
    "ax.annotate('root calibration:\\n B(5.5285, 8.3300)', \n",
    "        xy=(posterior_mean_iqtree[0], posterior_mean_baseml[0]), \n",
    "        xytext=(posterior_mean_iqtree[0] -2,  posterior_mean_baseml[0] + 0.3),  # Offset position for the label\n",
    "        arrowprops=dict(arrowstyle='->', color='red'),  # Arrow style\n",
    "        fontsize=12, color='red') \n",
    "ax.annotate('young calibration:\\n B(4.7020,5.4900)', \n",
    "        xy=(posterior_mean_iqtree[-11], posterior_mean_baseml[-11]), \n",
    "        xytext=(posterior_mean_iqtree[-11] -1.5,  posterior_mean_baseml[-11] + 1.5),  # Offset position for the label\n",
    "        arrowprops=dict(arrowstyle='->', color='red'),  # Arrow style\n",
    "        fontsize=12, color='red') \n",
    " \n",
    "# Labels and title\n",
    "ax.set_ylabel('Posterior mean age LG+G4 [Mya]', fontsize=18)\n",
    "ax.set_xlabel('Posterior mean age Partition MF [-Q] [Mya]', fontsize=18)\n",
    "# ax.set_title('Posterior mean age comparison between LG and Partition MF [-Q] [t97 ~ B(4.7020,5.4900)]')\n",
    "ax.legend()\n",
    "\n",
    "# point_x = posterior_mean_baseml[0]  # Example: first point in the list\n",
    "# point_y = posterior_mean_iqtree[0]  # Example: first point in the list\n",
    "# ax.annotate('Root age', xy=(point_x, point_y), xytext=(point_x - 0.1, point_y - 0.1), color='red')\n",
    "# Show plot\n",
    "# plt.show()\n",
    "plt.savefig('./metazoa_posterior_mean_age_comparison_partition_MF_Q_cherry_scatter.png')"
   ],
   "id": "592d0bb72aa1ad4c",
   "outputs": [
    {
     "data": {
      "text/plain": [
       "<Figure size 900x900 with 1 Axes>"
      ],
      "image/png": "[encoded data removed]"
     },
     "metadata": {},
     "output_type": "display_data"
    }
   ],
   "execution_count": 55
  },
  {
   "metadata": {
    "ExecuteTime": {
     "end_time": "2024-10-31T08:56:48.427464Z",
     "start_time": "2024-10-31T08:56:48.425089Z"
    }
   },
   "cell_type": "code",
   "source": [
    "# fig, ax = plt.subplots(figsize=(9 ,9))\n",
    "# ax.plot([0.01,0.04], \n",
    "#         [0.01, 0.04], \n",
    "#         'k--', label='y=x')\n",
    "# ax.plot(posterior_mean_mu_baseml, posterior_mean_mu_iqtree, 'o', label='Posterior mean rates for partitions')\n",
    "#  \n",
    "# # Labels and title\n",
    "# ax.set_xlabel('Posterior mean rate [LG]', fontsize=18)\n",
    "# ax.set_ylabel('Posterior mean rate [LG+G4]', fontsize=18)\n",
    "# ax.set_title('Posterior mean rate comparison between LG and LG+G4 [Cherry only calibration/IQ-TREE]')\n",
    "# ax.legend()\n",
    "# \n",
    "# # point_x = posterior_mean_baseml[0]  # Example: first point in the list\n",
    "# # point_y = posterior_mean_iqtree[0]  # Example: first point in the list\n",
    "# # ax.annotate('Root age', xy=(point_x, point_y), xytext=(point_x - 0.1, point_y - 0.1), color='red')\n",
    "# # Show plot\n",
    "# # plt.show()\n",
    "# plt.savefig('./animal_origin__posterior_mean_rate_comparison_LG_G4_all_scatter.png')"
   ],
   "id": "c6d69ee36c77970c",
   "outputs": [],
   "execution_count": 56
  },
  {
   "metadata": {
    "ExecuteTime": {
     "end_time": "2024-10-31T08:56:48.472838Z",
     "start_time": "2024-10-31T08:56:48.470782Z"
    }
   },
   "cell_type": "code",
   "source": "",
   "id": "ca69d5b521db3aa7",
   "outputs": [],
   "execution_count": null
  }
 ],
 "metadata": {
  "kernelspec": {
   "display_name": "Python 3",
   "language": "python",
   "name": "python3"
  },
  "language_info": {
   "codemirror_mode": {
    "name": "ipython",
    "version": 2
   },
   "file_extension": ".py",
   "mimetype": "text/x-python",
   "name": "python",
   "nbconvert_exporter": "python",
   "pygments_lexer": "ipython2",
   "version": "2.7.6"
  }
 },
 "nbformat": 4,
 "nbformat_minor": 5
}
