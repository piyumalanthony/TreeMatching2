{
 "cells": [
  {
   "cell_type": "code",
   "id": "initial_id",
   "metadata": {
    "collapsed": true,
    "ExecuteTime": {
     "end_time": "2024-10-31T08:26:19.881072Z",
     "start_time": "2024-10-31T08:26:19.117363Z"
    }
   },
   "source": [
    "# Code to get all the Posterior mean (95% Equal-tail CI) (95% HPD CI) HPD-CI-width from ./xenarthra_mcmc_out.txt\n",
    "import numpy as np\n",
    "import pandas as pd\n",
    "import matplotlib.pyplot as plt\n",
    "\n",
    "\n",
    "# Read the file\n",
    "file = open(\"LG_G4_C60_young_out.txt\", \"r\")\n",
    "lines = file.readlines()\n",
    "file.close()\n",
    "\n",
    "# Extract the data\n",
    "data = []\n",
    "mu_data = []\n",
    "var_data = []\n",
    "\n",
    "read_flag = False\n",
    "for line in lines:\n",
    "    if line.startswith(\"Posterior\"):\n",
    "        read_flag = True\n",
    "    if read_flag and line.startswith(\"t\"):\n",
    "        data.append(line)\n",
    "    if read_flag and line.startswith(\"mu\"):\n",
    "        mu_data.append(line)\n",
    "    if read_flag and line.startswith(\"sigma\"):\n",
    "        var_data.append(line)"
   ],
   "outputs": [],
   "execution_count": 1
  },
  {
   "metadata": {
    "ExecuteTime": {
     "end_time": "2024-10-31T08:26:19.902610Z",
     "start_time": "2024-10-31T08:26:19.896248Z"
    }
   },
   "cell_type": "code",
   "source": "data",
   "id": "54808ee54195795",
   "outputs": [
    {
     "data": {
      "text/plain": [
       "['t_n55          8.3524 ( 8.0005,  8.7455) ( 7.9900,  8.7321)  0.7422 (Jnode 106)\\n',\n",
       " 't_n56          8.2821 ( 7.9147,  8.6839) ( 7.9084,  8.6744)  0.7660 (Jnode 105)\\n',\n",
       " 't_n57          7.9518 ( 7.5975,  8.3309) ( 7.5822,  8.3122)  0.7301 (Jnode 104)\\n',\n",
       " 't_n58          7.1647 ( 6.8099,  7.5310) ( 6.8067,  7.5257)  0.7190 (Jnode 103)\\n',\n",
       " 't_n59          6.9963 ( 6.6361,  7.3615) ( 6.6321,  7.3552)  0.7232 (Jnode 102)\\n',\n",
       " 't_n60          6.7483 ( 6.3697,  7.1261) ( 6.3695,  7.1257)  0.7562 (Jnode 101)\\n',\n",
       " 't_n61          6.3499 ( 5.9016,  6.7663) ( 5.9217,  6.7846)  0.8629 (Jnode 100)\\n',\n",
       " 't_n62          2.8518 ( 1.6555,  4.0232) ( 1.6525,  4.0152)  2.3627 (Jnode 99)\\n',\n",
       " 't_n63          4.6192 ( 3.5935,  5.2708) ( 3.6308,  5.2980)  1.6673 (Jnode 98)\\n',\n",
       " 't_n64          3.2789 ( 2.3618,  4.0386) ( 2.3815,  4.0532)  1.6716 (Jnode 97)\\n',\n",
       " 't_n65          2.8799 ( 2.0428,  3.6263) ( 2.0409,  3.6232)  1.5823 (Jnode 96)\\n',\n",
       " 't_n66          2.2132 ( 1.5264,  2.9069) ( 1.5211,  2.9001)  1.3790 (Jnode 95)\\n',\n",
       " 't_n67          1.4817 ( 0.9831,  2.0550) ( 0.9554,  2.0115)  1.0561 (Jnode 94)\\n',\n",
       " 't_n68          0.9799 ( 0.6366,  1.4102) ( 0.6001,  1.3579)  0.7578 (Jnode 93)\\n',\n",
       " 't_n69          0.4224 ( 0.2613,  0.6444) ( 0.2508,  0.6254)  0.3747 (Jnode 92)\\n',\n",
       " 't_n70          3.4583 ( 2.4736,  4.2537) ( 2.4687,  4.2462)  1.7775 (Jnode 91)\\n',\n",
       " 't_n71          6.8693 ( 6.4985,  7.2382) ( 6.5085,  7.2468)  0.7383 (Jnode 90)\\n',\n",
       " 't_n72          6.7078 ( 6.3028,  7.1045) ( 6.2952,  7.0951)  0.7999 (Jnode 89)\\n',\n",
       " 't_n73          6.3756 ( 5.9072,  6.7832) ( 5.9189,  6.7905)  0.8716 (Jnode 88)\\n',\n",
       " 't_n74          4.9671 ( 3.8230,  5.5501) ( 3.9745,  5.6383)  1.6638 (Jnode 87)\\n',\n",
       " 't_n75          4.5521 ( 3.3602,  5.1809) ( 3.5120,  5.2756)  1.7636 (Jnode 86)\\n',\n",
       " 't_n76          3.7978 ( 2.2678,  5.1057) ( 2.3903,  5.1913)  2.8010 (Jnode 85)\\n',\n",
       " 't_n77          6.7302 ( 6.3875,  7.0886) ( 6.3807,  7.0790)  0.6982 (Jnode 84)\\n',\n",
       " 't_n78          6.4960 ( 6.1528,  6.8605) ( 6.1464,  6.8505)  0.7041 (Jnode 83)\\n',\n",
       " 't_n79          6.3337 ( 5.9815,  6.7044) ( 5.9656,  6.6851)  0.7195 (Jnode 82)\\n',\n",
       " 't_n80          6.0245 ( 5.6434,  6.4202) ( 5.6473,  6.4228)  0.7754 (Jnode 81)\\n',\n",
       " 't_n81          5.6373 ( 5.1779,  6.0798) ( 5.2095,  6.1008)  0.8913 (Jnode 80)\\n',\n",
       " 't_n82          5.5147 ( 5.0292,  5.9755) ( 5.0536,  5.9900)  0.9364 (Jnode 79)\\n',\n",
       " 't_n83          4.9182 ( 4.3003,  5.4660) ( 4.3864,  5.5294)  1.1430 (Jnode 78)\\n',\n",
       " 't_n84          4.5246 ( 3.8725,  5.1290) ( 3.9660,  5.2051)  1.2391 (Jnode 77)\\n',\n",
       " 't_n85          4.1690 ( 3.5060,  4.8254) ( 3.5634,  4.8612)  1.2978 (Jnode 76)\\n',\n",
       " 't_n86          3.1131 ( 2.4395,  3.8440) ( 2.4642,  3.8656)  1.4013 (Jnode 75)\\n',\n",
       " 't_n87          2.8758 ( 2.2198,  3.5945) ( 2.2083,  3.5807)  1.3724 (Jnode 74)\\n',\n",
       " 't_n88          4.9440 ( 4.3403,  5.5179) ( 4.4262,  5.5840)  1.1578 (Jnode 73)\\n',\n",
       " 't_n89          4.0793 ( 3.3499,  4.8739) ( 3.4112,  4.9183)  1.5071 (Jnode 72)\\n',\n",
       " 't_n90          6.6361 ( 6.2979,  6.9932) ( 6.2941,  6.9871)  0.6929 (Jnode 71)\\n',\n",
       " 't_n91          1.4165 ( 0.6406,  2.4609) ( 0.5818,  2.3650)  1.7832 (Jnode 70)\\n',\n",
       " 't_n92          6.5249 ( 6.1937,  6.8757) ( 6.1843,  6.8622)  0.6779 (Jnode 69)\\n',\n",
       " 't_n93          6.2064 ( 5.9055,  6.5382) ( 5.8963,  6.5267)  0.6304 (Jnode 68)\\n',\n",
       " 't_n94          5.6875 ( 5.4402,  5.9810) ( 5.4298,  5.9639)  0.5340 (Jnode 67)\\n',\n",
       " 't_n95          5.3834 ( 5.1754,  5.6518) ( 5.1597,  5.6251)  0.4654 (Jnode 66)\\n',\n",
       " 't_n96          4.1128 ( 3.4456,  4.6736) ( 3.4379,  4.6645)  1.2266 (Jnode 65)\\n',\n",
       " 't_n97          4.7361 ( 4.6282,  4.9073) ( 4.6106,  4.8825)  0.2718 (Jnode 64)\\n',\n",
       " 't_n98          5.4536 ( 5.1478,  5.8141) ( 5.1285,  5.7907)  0.6622 (Jnode 63)\\n',\n",
       " 't_n99          5.2849 ( 4.9756,  5.6537) ( 4.9686,  5.6423)  0.6737 (Jnode 62)\\n',\n",
       " 't_n100         4.9741 ( 4.6538,  5.3777) ( 4.6473,  5.3689)  0.7216 (Jnode 61)\\n',\n",
       " 't_n101         3.6071 ( 2.7192,  4.3698) ( 2.7429,  4.3874)  1.6444 (Jnode 60)\\n',\n",
       " 't_n102         4.9421 ( 4.2652,  5.4477) ( 4.3792,  5.5136)  1.1344 (Jnode 59)\\n',\n",
       " 't_n103         7.3547 ( 6.9200,  7.7724) ( 6.9296,  7.7793)  0.8497 (Jnode 58)\\n',\n",
       " 't_n104         5.6426 ( 4.7794,  6.6005) ( 4.7404,  6.5494)  1.8090 (Jnode 57)\\n',\n",
       " 't_n105         3.5469 ( 2.2702,  5.0944) ( 2.2933,  5.1119)  2.8186 (Jnode 56)\\n',\n",
       " 't_n106         2.5739 ( 1.2774,  4.2833) ( 1.1383,  3.9955)  2.8572 (Jnode 55)\\n',\n",
       " 't_n107         5.7522 ( 4.7542,  6.8376) ( 4.7417,  6.8144)  2.0727 (Jnode 54)\\n']"
      ]
     },
     "execution_count": 2,
     "metadata": {},
     "output_type": "execute_result"
    }
   ],
   "execution_count": 2
  },
  {
   "metadata": {
    "ExecuteTime": {
     "end_time": "2024-10-31T08:26:19.954083Z",
     "start_time": "2024-10-31T08:26:19.950313Z"
    }
   },
   "cell_type": "code",
   "source": [
    "node_name = []\n",
    "posterior_mean_iqtree = []\n",
    "posterior_mean_baseml = []\n",
    "\n",
    "posterior_mean_mu_iqtree = []\n",
    "posterior_mean_mu_baseml = []\n",
    "\n",
    "posterior_mean_var_iqtree = []\n",
    "posterior_mean_var_baseml = []\n",
    "\n",
    "lower_ci_iqtree = []\n",
    "upper_ci_iqtree = []\n",
    "\n",
    "lower_ci_mu_iqtree = []\n",
    "upper_ci_mu_iqtree = []\n",
    "\n",
    "lower_ci_var_iqtree = []\n",
    "upper_ci_var_iqtree = []\n",
    "\n",
    "# Credible intervals for McmcDate\n",
    "lower_ci_baseml = []\n",
    "upper_ci_baseml = []\n",
    "\n",
    "lower_ci_mu_baseml = []\n",
    "upper_ci_mu_baseml = []\n",
    "\n",
    "lower_ci_var_baseml = []\n",
    "upper_ci_var_baseml = []"
   ],
   "id": "e5cf93a69d327e61",
   "outputs": [],
   "execution_count": 3
  },
  {
   "metadata": {
    "ExecuteTime": {
     "end_time": "2024-10-31T08:26:20.000629Z",
     "start_time": "2024-10-31T08:26:19.997681Z"
    }
   },
   "cell_type": "code",
   "source": [
    "for line in data:\n",
    "    line = line.strip().split()\n",
    "    node_name.append(line[0])\n",
    "    posterior_mean_iqtree.append(float(line[1]))\n",
    "#     if line[3].startswith('('):\n",
    "#         lower_ci_iqtree.append(float(line[3][1:-1]))\n",
    "#     else:\n",
    "#         lower_ci_iqtree.append(float(line[3][1:-1]))\n",
    "#     if line[4].startswith('('):\n",
    "#         upper_ci_iqtree.append(float(line[4][1:-1]))\n",
    "#     else:\n",
    "#         upper_ci_iqtree.append(float(line[4][:-1]))\n",
    "#     # posterior_mean_baseml.append(float(line[4]))\n",
    "#     # lower_ci_baseml.append(float(line[5]))\n",
    "#     # upper_ci_baseml.append(float(line[6]))\n",
    "# \n",
    "# for line in mu_data:\n",
    "#     line = line.strip().split()\n",
    "#     # node_name.append(line[0])\n",
    "#     posterior_mean_mu_iqtree.append(float(line[1]))\n",
    "#     lower_ci_mu_iqtree.append(float(line[3][:-1]))\n",
    "#     upper_ci_mu_iqtree.append(float(line[4][:-1]))\n",
    "#\n",
    "# for line in var_data:\n",
    "#     line = line.strip().split()\n",
    "#     # node_name.append(line[0])\n",
    "#     posterior_mean_var_iqtree.append(float(line[1]))\n",
    "#     lower_ci_var_iqtree.append(float(line[3][:-1]))\n",
    "#     upper_ci_var_iqtree.append(float(line[4][:-1]))"
   ],
   "id": "4e79ee928ea76b59",
   "outputs": [],
   "execution_count": 4
  },
  {
   "metadata": {
    "ExecuteTime": {
     "end_time": "2024-10-31T08:26:20.055205Z",
     "start_time": "2024-10-31T08:26:20.051359Z"
    }
   },
   "cell_type": "code",
   "source": "node_name",
   "id": "2c17f55ec9626a0b",
   "outputs": [
    {
     "data": {
      "text/plain": [
       "['t_n55',\n",
       " 't_n56',\n",
       " 't_n57',\n",
       " 't_n58',\n",
       " 't_n59',\n",
       " 't_n60',\n",
       " 't_n61',\n",
       " 't_n62',\n",
       " 't_n63',\n",
       " 't_n64',\n",
       " 't_n65',\n",
       " 't_n66',\n",
       " 't_n67',\n",
       " 't_n68',\n",
       " 't_n69',\n",
       " 't_n70',\n",
       " 't_n71',\n",
       " 't_n72',\n",
       " 't_n73',\n",
       " 't_n74',\n",
       " 't_n75',\n",
       " 't_n76',\n",
       " 't_n77',\n",
       " 't_n78',\n",
       " 't_n79',\n",
       " 't_n80',\n",
       " 't_n81',\n",
       " 't_n82',\n",
       " 't_n83',\n",
       " 't_n84',\n",
       " 't_n85',\n",
       " 't_n86',\n",
       " 't_n87',\n",
       " 't_n88',\n",
       " 't_n89',\n",
       " 't_n90',\n",
       " 't_n91',\n",
       " 't_n92',\n",
       " 't_n93',\n",
       " 't_n94',\n",
       " 't_n95',\n",
       " 't_n96',\n",
       " 't_n97',\n",
       " 't_n98',\n",
       " 't_n99',\n",
       " 't_n100',\n",
       " 't_n101',\n",
       " 't_n102',\n",
       " 't_n103',\n",
       " 't_n104',\n",
       " 't_n105',\n",
       " 't_n106',\n",
       " 't_n107']"
      ]
     },
     "execution_count": 5,
     "metadata": {},
     "output_type": "execute_result"
    }
   ],
   "execution_count": 5
  },
  {
   "metadata": {
    "ExecuteTime": {
     "end_time": "2024-10-31T08:26:20.116700Z",
     "start_time": "2024-10-31T08:26:20.110538Z"
    }
   },
   "cell_type": "code",
   "source": "posterior_mean_iqtree",
   "id": "24a55c806a41f33e",
   "outputs": [
    {
     "data": {
      "text/plain": [
       "[8.3524,\n",
       " 8.2821,\n",
       " 7.9518,\n",
       " 7.1647,\n",
       " 6.9963,\n",
       " 6.7483,\n",
       " 6.3499,\n",
       " 2.8518,\n",
       " 4.6192,\n",
       " 3.2789,\n",
       " 2.8799,\n",
       " 2.2132,\n",
       " 1.4817,\n",
       " 0.9799,\n",
       " 0.4224,\n",
       " 3.4583,\n",
       " 6.8693,\n",
       " 6.7078,\n",
       " 6.3756,\n",
       " 4.9671,\n",
       " 4.5521,\n",
       " 3.7978,\n",
       " 6.7302,\n",
       " 6.496,\n",
       " 6.3337,\n",
       " 6.0245,\n",
       " 5.6373,\n",
       " 5.5147,\n",
       " 4.9182,\n",
       " 4.5246,\n",
       " 4.169,\n",
       " 3.1131,\n",
       " 2.8758,\n",
       " 4.944,\n",
       " 4.0793,\n",
       " 6.6361,\n",
       " 1.4165,\n",
       " 6.5249,\n",
       " 6.2064,\n",
       " 5.6875,\n",
       " 5.3834,\n",
       " 4.1128,\n",
       " 4.7361,\n",
       " 5.4536,\n",
       " 5.2849,\n",
       " 4.9741,\n",
       " 3.6071,\n",
       " 4.9421,\n",
       " 7.3547,\n",
       " 5.6426,\n",
       " 3.5469,\n",
       " 2.5739,\n",
       " 5.7522]"
      ]
     },
     "execution_count": 6,
     "metadata": {},
     "output_type": "execute_result"
    }
   ],
   "execution_count": 6
  },
  {
   "metadata": {
    "ExecuteTime": {
     "end_time": "2024-10-31T08:26:20.171919Z",
     "start_time": "2024-10-31T08:26:20.169127Z"
    }
   },
   "cell_type": "code",
   "source": "lower_ci_iqtree",
   "id": "388aa27ad336d43f",
   "outputs": [
    {
     "data": {
      "text/plain": [
       "[]"
      ]
     },
     "execution_count": 7,
     "metadata": {},
     "output_type": "execute_result"
    }
   ],
   "execution_count": 7
  },
  {
   "metadata": {
    "ExecuteTime": {
     "end_time": "2024-10-31T08:26:20.231948Z",
     "start_time": "2024-10-31T08:26:20.228868Z"
    }
   },
   "cell_type": "code",
   "source": "upper_ci_iqtree",
   "id": "816e569fb763e797",
   "outputs": [
    {
     "data": {
      "text/plain": [
       "[]"
      ]
     },
     "execution_count": 8,
     "metadata": {},
     "output_type": "execute_result"
    }
   ],
   "execution_count": 8
  },
  {
   "metadata": {
    "ExecuteTime": {
     "end_time": "2024-10-31T08:26:20.286417Z",
     "start_time": "2024-10-31T08:26:20.279645Z"
    }
   },
   "cell_type": "code",
   "source": [
    "file_LG = open(\"LG_G4_codeml_young_out.txt\", \"r\")\n",
    "lines1 = file_LG.readlines()\n",
    "file_LG.close()\n",
    "\n",
    "# Extract the data\n",
    "data1 = []\n",
    "mu_data1 = []\n",
    "var_data1 = []\n",
    "\n",
    "read_flag = False\n",
    "for line in lines1:\n",
    "    if line.startswith(\"Posterior\"):\n",
    "        read_flag = True\n",
    "    if read_flag and line.startswith(\"t\"):\n",
    "        data1.append(line)\n",
    "    if read_flag and line.startswith(\"mu\"):\n",
    "        mu_data1.append(line)\n",
    "    if read_flag and line.startswith(\"sigma\"):\n",
    "        var_data1.append(line)\n",
    "\n",
    "        \n",
    "for line in data1:\n",
    "    line = line.strip().split()\n",
    "    # node_name.append(line[0])\n",
    "    posterior_mean_baseml.append(float(line[1]))\n",
    "#     if line[3].startswith('('):\n",
    "#         lower_ci_baseml.append(float(line[3][1:-1]))\n",
    "#     else:\n",
    "#          lower_ci_baseml.append(float(line[3][:-1]))\n",
    "#     if line[4].startswith('('):\n",
    "#         upper_ci_baseml.append(float(line[4][1:-1]))\n",
    "#     else:\n",
    "#          upper_ci_baseml.append(float(line[4][:-1]))\n",
    "#         \n",
    "#     \n",
    "# for line in mu_data1:\n",
    "#     line = line.strip().split()\n",
    "#     # node_name.append(line[0])\n",
    "#     posterior_mean_mu_baseml.append(float(line[1]))\n",
    "#     lower_ci_mu_baseml.append(float(line[3][:-1]))\n",
    "#     upper_ci_mu_baseml.append(float(line[4][:-1]))\n",
    "    \n",
    "# for line in var_data1:\n",
    "#     line = line.strip().split()\n",
    "#     # node_name.append(line[0])\n",
    "#     posterior_mean_var_baseml.append(float(line[1]))\n",
    "#     lower_ci_var_baseml.append(float(line[3][:-1]))\n",
    "#     upper_ci_var_baseml.append(float(line[4][:-1]))"
   ],
   "id": "f75c012c6bef60a2",
   "outputs": [],
   "execution_count": 9
  },
  {
   "metadata": {
    "ExecuteTime": {
     "end_time": "2024-10-31T08:26:20.335070Z",
     "start_time": "2024-10-31T08:26:20.330205Z"
    }
   },
   "cell_type": "code",
   "source": [
    "import matplotlib.pyplot as plt\n",
    "import numpy as np\n",
    "\n",
    "# # Example data\n",
    "# # Posterior means for MCMCtree (x-axis) and McmcDate (y-axis)\n",
    "# posterior_mean_mcmctree = [100, 200, 300, 400, 500, 600, 700, 800, 900, 1000]\n",
    "# posterior_mean_mcmcdate = [110, 210, 310, 410, 510, 610, 710, 810, 910, 1010]\n",
    "# \n",
    "# # Credible intervals for MCMCtree\n",
    "# lower_ci_mcmctree = [90, 180, 270, 360, 450, 540, 630, 720, 810, 900]\n",
    "# upper_ci_mcmctree = [110, 220, 330, 440, 550, 660, 770, 880, 990, 1100]\n",
    "# \n",
    "# # Credible intervals for McmcDate\n",
    "# lower_ci_mcmcdate = [100, 200, 300, 400, 500, 600, 700, 800, 900, 1000]\n",
    "# upper_ci_mcmcdate = [120, 220, 320, 420, 520, 620, 720, 820, 920, 1020]\n",
    "\n",
    "# Calculate error bars\n",
    "# xerr = [np.array(lower_ci_baseml), \n",
    "#         np.array(upper_ci_baseml)]\n",
    "# yerr = [np.array(lower_ci_iqtree), \n",
    "#         np.array(upper_ci_iqtree)]\n",
    "# \n",
    "# # Plotting\n",
    "# fig, ax = plt.subplots(figsize=(15, 15))\n",
    "# ax.plot([-0.1,90], \n",
    "#         [-0.1, 90], \n",
    "#         'k--', label='y=x')\n",
    "# ax.errorbar(posterior_mean_baseml, posterior_mean_iqtree, \n",
    "#             xerr=xerr, yerr=yerr, fmt='*', ecolor='r', capsize=3, label='95% HPD CI')\n",
    "# \n",
    "# # Labels and title\n",
    "# ax.set_xlabel('Posterior mean age LG [100 Mya]', fontsize=18)\n",
    "# ax.set_ylabel('Posterior mean age LG+G4 [100 Mya]', fontsize=18)\n",
    "# ax.set_title('Posterior mean age comparison between LG and LG+G4 models [t116 ~ B(1.25,2.482)]')\n",
    "# ax.legend()\n",
    "# \n",
    "# # Show plot\n",
    "# # plt.show()\n",
    "# plt.savefig('./animal_origin_posterior_mean_age_comparison_LG_G4_c11.png')"
   ],
   "id": "12db486fa4fac82c",
   "outputs": [],
   "execution_count": 10
  },
  {
   "metadata": {
    "ExecuteTime": {
     "end_time": "2024-10-31T08:26:20.393364Z",
     "start_time": "2024-10-31T08:26:20.389923Z"
    }
   },
   "cell_type": "code",
   "source": "posterior_mean_baseml",
   "id": "917b2e31cff4b992",
   "outputs": [
    {
     "data": {
      "text/plain": [
       "[10.446,\n",
       " 10.3978,\n",
       " 9.6282,\n",
       " 8.2142,\n",
       " 7.8848,\n",
       " 7.4854,\n",
       " 6.8846,\n",
       " 3.2498,\n",
       " 4.8954,\n",
       " 3.525,\n",
       " 3.0696,\n",
       " 2.3873,\n",
       " 1.6376,\n",
       " 1.0978,\n",
       " 0.4448,\n",
       " 3.7028,\n",
       " 7.5891,\n",
       " 6.7745,\n",
       " 6.8514,\n",
       " 4.9883,\n",
       " 4.3863,\n",
       " 3.9818,\n",
       " 7.5033,\n",
       " 7.0698,\n",
       " 6.7622,\n",
       " 6.3619,\n",
       " 5.8224,\n",
       " 5.5889,\n",
       " 4.8621,\n",
       " 4.4088,\n",
       " 3.9995,\n",
       " 3.0428,\n",
       " 2.7041,\n",
       " 4.9784,\n",
       " 3.9836,\n",
       " 7.3108,\n",
       " 1.8658,\n",
       " 7.1009,\n",
       " 6.63,\n",
       " 5.9674,\n",
       " 5.5283,\n",
       " 4.1341,\n",
       " 4.6722,\n",
       " 5.6981,\n",
       " 5.3834,\n",
       " 4.8213,\n",
       " 3.911,\n",
       " 4.8775,\n",
       " 8.6609,\n",
       " 6.6131,\n",
       " 4.2602,\n",
       " 3.3723,\n",
       " 7.2714]"
      ]
     },
     "execution_count": 11,
     "metadata": {},
     "output_type": "execute_result"
    }
   ],
   "execution_count": 11
  },
  {
   "metadata": {
    "ExecuteTime": {
     "end_time": "2024-10-31T08:26:20.525477Z",
     "start_time": "2024-10-31T08:26:20.521945Z"
    }
   },
   "cell_type": "code",
   "source": "posterior_mean_iqtree",
   "id": "59ad8fd34f7bbf11",
   "outputs": [
    {
     "data": {
      "text/plain": [
       "[8.3524,\n",
       " 8.2821,\n",
       " 7.9518,\n",
       " 7.1647,\n",
       " 6.9963,\n",
       " 6.7483,\n",
       " 6.3499,\n",
       " 2.8518,\n",
       " 4.6192,\n",
       " 3.2789,\n",
       " 2.8799,\n",
       " 2.2132,\n",
       " 1.4817,\n",
       " 0.9799,\n",
       " 0.4224,\n",
       " 3.4583,\n",
       " 6.8693,\n",
       " 6.7078,\n",
       " 6.3756,\n",
       " 4.9671,\n",
       " 4.5521,\n",
       " 3.7978,\n",
       " 6.7302,\n",
       " 6.496,\n",
       " 6.3337,\n",
       " 6.0245,\n",
       " 5.6373,\n",
       " 5.5147,\n",
       " 4.9182,\n",
       " 4.5246,\n",
       " 4.169,\n",
       " 3.1131,\n",
       " 2.8758,\n",
       " 4.944,\n",
       " 4.0793,\n",
       " 6.6361,\n",
       " 1.4165,\n",
       " 6.5249,\n",
       " 6.2064,\n",
       " 5.6875,\n",
       " 5.3834,\n",
       " 4.1128,\n",
       " 4.7361,\n",
       " 5.4536,\n",
       " 5.2849,\n",
       " 4.9741,\n",
       " 3.6071,\n",
       " 4.9421,\n",
       " 7.3547,\n",
       " 5.6426,\n",
       " 3.5469,\n",
       " 2.5739,\n",
       " 5.7522]"
      ]
     },
     "execution_count": 12,
     "metadata": {},
     "output_type": "execute_result"
    }
   ],
   "execution_count": 12
  },
  {
   "metadata": {
    "ExecuteTime": {
     "end_time": "2024-10-31T08:37:14.049442Z",
     "start_time": "2024-10-31T08:37:13.868663Z"
    }
   },
   "cell_type": "code",
   "source": [
    "# Calculate error bars\n",
    "xerr = [np.array(lower_ci_baseml), \n",
    "        np.array(upper_ci_baseml)]\n",
    "yerr = [np.array(lower_ci_iqtree), \n",
    "        np.array(upper_ci_iqtree)]\n",
    "\n",
    "# Plotting\n",
    "fig, ax = plt.subplots(figsize=(9 ,9))\n",
    "ax.plot([-0.1,11], \n",
    "        [-0.1, 11], \n",
    "        'k--', label='y=x')\n",
    "points = ax.plot(posterior_mean_iqtree,posterior_mean_baseml, 'o', label='Posterior mean age')\n",
    "\n",
    "points[0].set_markerfacecolor('blue')\n",
    "# points[23].set_markerfacecolor('blue')# Set default face color (for other points)\n",
    "\n",
    "# Now plot the highlighted point with a different color\n",
    "ax.scatter(posterior_mean_iqtree[0], posterior_mean_baseml[0], color='red', s=100)\n",
    "ax.scatter(posterior_mean_iqtree[-11], posterior_mean_baseml[-11], color='red', s=100)\n",
    "# ax.scatter(posterior_mean_iqtree[0], posterior_mean_baseml[0], color='red', label='Root age')\n",
    "ax.annotate('root calibration:\\n B(5.5285, 8.3300)', \n",
    "        xy=(posterior_mean_iqtree[0], posterior_mean_baseml[0]), \n",
    "        xytext=(posterior_mean_iqtree[0] -2,  posterior_mean_baseml[0] + 0.3),  # Offset position for the label\n",
    "        arrowprops=dict(arrowstyle='->', color='red'),  # Arrow style\n",
    "        fontsize=12, color='red') \n",
    "ax.annotate('young calibration:\\n B(4.7020,5.4900)', \n",
    "        xy=(posterior_mean_iqtree[-11], posterior_mean_baseml[-11]), \n",
    "        xytext=(posterior_mean_iqtree[-11] -1.5,  posterior_mean_baseml[-11] + 1.5),  # Offset position for the label\n",
    "        arrowprops=dict(arrowstyle='->', color='red'),  # Arrow style\n",
    "        fontsize=12, color='red') \n",
    " \n",
    " \n",
    "# Labels and title\n",
    "ax.set_ylabel('Posterior mean age LG+G4 [Mya]', fontsize=18)\n",
    "ax.set_xlabel('Posterior mean age LG+G4+C60 [Mya]', fontsize=18)\n",
    "# ax.set_title('Posterior mean age comparison between LG and LG+G4+C60 [t97 ~ B(4.7020,5.4900)]')\n",
    "ax.legend()\n",
    "\n",
    "# point_x = posterior_mean_baseml[0]  # Example: first point in the list\n",
    "# point_y = posterior_mean_iqtree[0]  # Example: first point in the list\n",
    "# ax.annotate('Root age', xy=(point_x, point_y), xytext=(point_x - 0.1, point_y - 0.1), color='red')\n",
    "# Show plot\n",
    "# plt.show()\n",
    "plt.savefig('./metazoa_posterior_mean_age_comparison_LG_G4_C60_cherry_scatter.png')"
   ],
   "id": "592d0bb72aa1ad4c",
   "outputs": [
    {
     "data": {
      "text/plain": [
       "<Figure size 900x900 with 1 Axes>"
      ],
      "image/png": "[encoded data removed]"
     },
     "metadata": {},
     "output_type": "display_data"
    }
   ],
   "execution_count": 16
  },
  {
   "metadata": {
    "ExecuteTime": {
     "end_time": "2024-10-31T08:26:20.854321Z",
     "start_time": "2024-10-31T08:26:20.852017Z"
    }
   },
   "cell_type": "code",
   "source": [
    "# fig, ax = plt.subplots(figsize=(9 ,9))\n",
    "# ax.plot([0.01,0.04], \n",
    "#         [0.01, 0.04], \n",
    "#         'k--', label='y=x')\n",
    "# ax.plot(posterior_mean_mu_baseml, posterior_mean_mu_iqtree, 'o', label='Posterior mean rates for partitions')\n",
    "#  \n",
    "# # Labels and title\n",
    "# ax.set_xlabel('Posterior mean rate [LG]', fontsize=18)\n",
    "# ax.set_ylabel('Posterior mean rate [LG+G4]', fontsize=18)\n",
    "# ax.set_title('Posterior mean rate comparison between LG and LG+G4 [Cherry only calibration/IQ-TREE]')\n",
    "# ax.legend()\n",
    "# \n",
    "# # point_x = posterior_mean_baseml[0]  # Example: first point in the list\n",
    "# # point_y = posterior_mean_iqtree[0]  # Example: first point in the list\n",
    "# # ax.annotate('Root age', xy=(point_x, point_y), xytext=(point_x - 0.1, point_y - 0.1), color='red')\n",
    "# # Show plot\n",
    "# # plt.show()\n",
    "# plt.savefig('./animal_origin__posterior_mean_rate_comparison_LG_G4_all_scatter.png')"
   ],
   "id": "c6d69ee36c77970c",
   "outputs": [],
   "execution_count": 14
  },
  {
   "metadata": {
    "ExecuteTime": {
     "end_time": "2024-10-31T08:26:20.901617Z",
     "start_time": "2024-10-31T08:26:20.899424Z"
    }
   },
   "cell_type": "code",
   "source": "",
   "id": "ca69d5b521db3aa7",
   "outputs": [],
   "execution_count": null
  }
 ],
 "metadata": {
  "kernelspec": {
   "display_name": "Python 3",
   "language": "python",
   "name": "python3"
  },
  "language_info": {
   "codemirror_mode": {
    "name": "ipython",
    "version": 2
   },
   "file_extension": ".py",
   "mimetype": "text/x-python",
   "name": "python",
   "nbconvert_exporter": "python",
   "pygments_lexer": "ipython2",
   "version": "2.7.6"
  }
 },
 "nbformat": 4,
 "nbformat_minor": 5
}
