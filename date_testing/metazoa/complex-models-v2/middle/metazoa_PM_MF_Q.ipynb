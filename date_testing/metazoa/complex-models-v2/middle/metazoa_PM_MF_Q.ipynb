{
 "cells": [
  {
   "cell_type": "code",
   "id": "initial_id",
   "metadata": {
    "collapsed": true,
    "ExecuteTime": {
     "end_time": "2024-10-31T10:29:35.108927Z",
     "start_time": "2024-10-31T10:29:35.103698Z"
    }
   },
   "source": [
    "# Code to get all the Posterior mean (95% Equal-tail CI) (95% HPD CI) HPD-CI-width from ./xenarthra_mcmc_out.txt\n",
    "import numpy as np\n",
    "import pandas as pd\n",
    "import matplotlib.pyplot as plt\n",
    "\n",
    "\n",
    "# Read the file\n",
    "file = open(\"PM_MF_Q_middle_out.txt\", \"r\")\n",
    "lines = file.readlines()\n",
    "file.close()\n",
    "\n",
    "# Extract the data\n",
    "data = []\n",
    "mu_data = []\n",
    "var_data = []\n",
    "\n",
    "read_flag = False\n",
    "for line in lines:\n",
    "    if line.startswith(\"Posterior\"):\n",
    "        read_flag = True\n",
    "    if read_flag and line.startswith(\"t\"):\n",
    "        data.append(line)\n",
    "    if read_flag and line.startswith(\"mu\"):\n",
    "        mu_data.append(line)\n",
    "    if read_flag and line.startswith(\"sigma\"):\n",
    "        var_data.append(line)"
   ],
   "outputs": [],
   "execution_count": 16
  },
  {
   "metadata": {
    "ExecuteTime": {
     "end_time": "2024-10-31T10:29:35.157857Z",
     "start_time": "2024-10-31T10:29:35.153405Z"
    }
   },
   "cell_type": "code",
   "source": "data",
   "id": "54808ee54195795",
   "outputs": [
    {
     "data": {
      "text/plain": [
       "['t_n55          8.5905 ( 8.2855,  8.9694) ( 8.2702,  8.9468)  0.6765 (Jnode 106)\\n',\n",
       " 't_n56          8.5444 ( 8.2391,  8.9108) ( 8.2158,  8.8820)  0.6662 (Jnode 105)\\n',\n",
       " 't_n57          7.9079 ( 7.6297,  8.2194) ( 7.6223,  8.2099)  0.5876 (Jnode 104)\\n',\n",
       " 't_n58          6.7261 ( 6.4947,  6.9508) ( 6.4938,  6.9496)  0.4558 (Jnode 103)\\n',\n",
       " 't_n59          6.4586 ( 6.2306,  6.6786) ( 6.2306,  6.6786)  0.4480 (Jnode 102)\\n',\n",
       " 't_n60          6.1345 ( 5.9103,  6.3522) ( 5.9074,  6.3489)  0.4415 (Jnode 101)\\n',\n",
       " 't_n61          5.6362 ( 5.4129,  5.8523) ( 5.4146,  5.8534)  0.4387 (Jnode 100)\\n',\n",
       " 't_n62          2.6067 ( 2.3185,  2.8988) ( 2.3071,  2.8861)  0.5790 (Jnode 99)\\n',\n",
       " 't_n63          3.9987 ( 3.7555,  4.2400) ( 3.7570,  4.2410)  0.4840 (Jnode 98)\\n',\n",
       " 't_n64          2.8694 ( 2.6406,  3.1019) ( 2.6447,  3.1047)  0.4600 (Jnode 97)\\n',\n",
       " 't_n65          2.5006 ( 2.2894,  2.7210) ( 2.2938,  2.7250)  0.4311 (Jnode 96)\\n',\n",
       " 't_n66          1.9490 ( 1.7623,  2.1450) ( 1.7599,  2.1412)  0.3813 (Jnode 95)\\n',\n",
       " 't_n67          1.3334 ( 1.1883,  1.4879) ( 1.1874,  1.4865)  0.2991 (Jnode 94)\\n',\n",
       " 't_n68          0.8938 ( 0.7861,  1.0092) ( 0.7871,  1.0100)  0.2229 (Jnode 93)\\n',\n",
       " 't_n69          0.3598 ( 0.3045,  0.4219) ( 0.3035,  0.4203)  0.1168 (Jnode 92)\\n',\n",
       " 't_n70          3.0149 ( 2.7714,  3.2588) ( 2.7757,  3.2620)  0.4863 (Jnode 91)\\n',\n",
       " 't_n71          6.2100 ( 5.9825,  6.4308) ( 5.9821,  6.4302)  0.4481 (Jnode 90)\\n',\n",
       " 't_n72          5.5697 ( 5.3208,  5.8162) ( 5.3258,  5.8201)  0.4943 (Jnode 89)\\n',\n",
       " 't_n73          5.6089 ( 5.3858,  5.8287) ( 5.3895,  5.8318)  0.4423 (Jnode 88)\\n',\n",
       " 't_n74          4.0356 ( 3.7697,  4.2948) ( 3.7725,  4.2972)  0.5247 (Jnode 87)\\n',\n",
       " 't_n75          3.5583 ( 3.2878,  3.8264) ( 3.2887,  3.8271)  0.5384 (Jnode 86)\\n',\n",
       " 't_n76          3.2523 ( 2.9190,  3.5817) ( 2.9270,  3.5890)  0.6619 (Jnode 85)\\n',\n",
       " 't_n77          6.1249 ( 5.9166,  6.3133) ( 5.9185,  6.3144)  0.3960 (Jnode 84)\\n',\n",
       " 't_n78          5.7930 ( 5.5934,  5.9669) ( 5.5952,  5.9680)  0.3727 (Jnode 83)\\n',\n",
       " 't_n79          5.5418 ( 5.3478,  5.7052) ( 5.3598,  5.7144)  0.3546 (Jnode 82)\\n',\n",
       " 't_n80          5.2541 ( 5.0757,  5.3909) ( 5.0775,  5.3923)  0.3148 (Jnode 81)\\n',\n",
       " 't_n81          4.7955 ( 4.6170,  4.9415) ( 4.6245,  4.9471)  0.3226 (Jnode 80)\\n',\n",
       " 't_n82          4.6141 ( 4.4342,  4.7675) ( 4.4386,  4.7706)  0.3320 (Jnode 79)\\n',\n",
       " 't_n83          4.0160 ( 3.8370,  4.1762) ( 3.8381,  4.1766)  0.3385 (Jnode 78)\\n',\n",
       " 't_n84          3.6531 ( 3.4766,  3.8160) ( 3.4800,  3.8184)  0.3384 (Jnode 77)\\n',\n",
       " 't_n85          3.3188 ( 3.1439,  3.4853) ( 3.1494,  3.4892)  0.3398 (Jnode 76)\\n',\n",
       " 't_n86          2.5163 ( 2.3525,  2.6789) ( 2.3518,  2.6775)  0.3257 (Jnode 75)\\n',\n",
       " 't_n87          2.2427 ( 2.0827,  2.4030) ( 2.0857,  2.4053)  0.3196 (Jnode 74)\\n',\n",
       " 't_n88          4.0954 ( 3.9020,  4.2696) ( 3.9020,  4.2696)  0.3675 (Jnode 73)\\n',\n",
       " 't_n89          3.2825 ( 3.0796,  3.4764) ( 3.0818,  3.4779)  0.3961 (Jnode 72)\\n',\n",
       " 't_n90          5.9693 ( 5.7622,  6.1585) ( 5.7650,  6.1606)  0.3956 (Jnode 71)\\n',\n",
       " 't_n91          1.4687 ( 1.2052,  1.7595) ( 1.1910,  1.7396)  0.5486 (Jnode 70)\\n',\n",
       " 't_n92          5.7859 ( 5.5828,  5.9704) ( 5.5843,  5.9709)  0.3866 (Jnode 69)\\n',\n",
       " 't_n93          5.3695 ( 5.1733,  5.5501) ( 5.1835,  5.5580)  0.3745 (Jnode 68)\\n',\n",
       " 't_n94          4.7598 ( 4.5629,  4.9462) ( 4.5718,  4.9539)  0.3820 (Jnode 67)\\n',\n",
       " 't_n95          4.3715 ( 4.1747,  4.5620) ( 4.1767,  4.5633)  0.3866 (Jnode 66)\\n',\n",
       " 't_n96          3.2074 ( 2.9906,  3.4214) ( 2.9936,  3.4237)  0.4301 (Jnode 65)\\n',\n",
       " 't_n97          3.5766 ( 3.3728,  3.7789) ( 3.3762,  3.7821)  0.4059 (Jnode 64)\\n',\n",
       " 't_n98          4.5891 ( 4.3920,  4.7749) ( 4.3919,  4.7747)  0.3828 (Jnode 63)\\n',\n",
       " 't_n99          4.3349 ( 4.1359,  4.5277) ( 4.1370,  4.5284)  0.3914 (Jnode 62)\\n',\n",
       " 't_n100         3.8886 ( 3.6760,  4.0951) ( 3.6757,  4.0947)  0.4190 (Jnode 61)\\n',\n",
       " 't_n101         3.1221 ( 2.8950,  3.3474) ( 2.8995,  3.3506)  0.4512 (Jnode 60)\\n',\n",
       " 't_n102         3.8971 ( 3.6324,  4.1544) ( 3.6339,  4.1550)  0.5211 (Jnode 59)\\n',\n",
       " 't_n103         7.1186 ( 6.8459,  7.4047) ( 6.8437,  7.4008)  0.5571 (Jnode 58)\\n',\n",
       " 't_n104         5.4301 ( 5.1361,  5.7368) ( 5.1469,  5.7456)  0.5987 (Jnode 57)\\n',\n",
       " 't_n105         3.4744 ( 3.1318,  3.8309) ( 3.1335,  3.8324)  0.6989 (Jnode 56)\\n',\n",
       " 't_n106         2.7047 ( 2.3117,  3.1146) ( 2.3093,  3.1108)  0.8014 (Jnode 55)\\n',\n",
       " 't_n107         5.8921 ( 5.4199,  6.3776) ( 5.4013,  6.3570)  0.9557 (Jnode 54)\\n']"
      ]
     },
     "execution_count": 17,
     "metadata": {},
     "output_type": "execute_result"
    }
   ],
   "execution_count": 17
  },
  {
   "metadata": {
    "ExecuteTime": {
     "end_time": "2024-10-31T10:29:35.218102Z",
     "start_time": "2024-10-31T10:29:35.213422Z"
    }
   },
   "cell_type": "code",
   "source": [
    "node_name = []\n",
    "posterior_mean_iqtree = []\n",
    "posterior_mean_baseml = []\n",
    "\n",
    "posterior_mean_mu_iqtree = []\n",
    "posterior_mean_mu_baseml = []\n",
    "\n",
    "posterior_mean_var_iqtree = []\n",
    "posterior_mean_var_baseml = []\n",
    "\n",
    "lower_ci_iqtree = []\n",
    "upper_ci_iqtree = []\n",
    "\n",
    "lower_ci_mu_iqtree = []\n",
    "upper_ci_mu_iqtree = []\n",
    "\n",
    "lower_ci_var_iqtree = []\n",
    "upper_ci_var_iqtree = []\n",
    "\n",
    "# Credible intervals for McmcDate\n",
    "lower_ci_baseml = []\n",
    "upper_ci_baseml = []\n",
    "\n",
    "lower_ci_mu_baseml = []\n",
    "upper_ci_mu_baseml = []\n",
    "\n",
    "lower_ci_var_baseml = []\n",
    "upper_ci_var_baseml = []"
   ],
   "id": "e5cf93a69d327e61",
   "outputs": [],
   "execution_count": 18
  },
  {
   "metadata": {
    "ExecuteTime": {
     "end_time": "2024-10-31T10:29:35.266688Z",
     "start_time": "2024-10-31T10:29:35.262580Z"
    }
   },
   "cell_type": "code",
   "source": [
    "for line in data:\n",
    "    line = line.strip().split()\n",
    "    node_name.append(line[0])\n",
    "    posterior_mean_iqtree.append(float(line[1]))\n",
    "#     if line[3].startswith('('):\n",
    "#         lower_ci_iqtree.append(float(line[3][1:-1]))\n",
    "#     else:\n",
    "#         lower_ci_iqtree.append(float(line[3][1:-1]))\n",
    "#     if line[4].startswith('('):\n",
    "#         upper_ci_iqtree.append(float(line[4][1:-1]))\n",
    "#     else:\n",
    "#         upper_ci_iqtree.append(float(line[4][:-1]))\n",
    "#     # posterior_mean_baseml.append(float(line[4]))\n",
    "#     # lower_ci_baseml.append(float(line[5]))\n",
    "#     # upper_ci_baseml.append(float(line[6]))\n",
    "# \n",
    "# for line in mu_data:\n",
    "#     line = line.strip().split()\n",
    "#     # node_name.append(line[0])\n",
    "#     posterior_mean_mu_iqtree.append(float(line[1]))\n",
    "#     lower_ci_mu_iqtree.append(float(line[3][:-1]))\n",
    "#     upper_ci_mu_iqtree.append(float(line[4][:-1]))\n",
    "#\n",
    "# for line in var_data:\n",
    "#     line = line.strip().split()\n",
    "#     # node_name.append(line[0])\n",
    "#     posterior_mean_var_iqtree.append(float(line[1]))\n",
    "#     lower_ci_var_iqtree.append(float(line[3][:-1]))\n",
    "#     upper_ci_var_iqtree.append(float(line[4][:-1]))"
   ],
   "id": "4e79ee928ea76b59",
   "outputs": [],
   "execution_count": 19
  },
  {
   "metadata": {
    "ExecuteTime": {
     "end_time": "2024-10-31T10:29:35.328758Z",
     "start_time": "2024-10-31T10:29:35.321548Z"
    }
   },
   "cell_type": "code",
   "source": "node_name",
   "id": "2c17f55ec9626a0b",
   "outputs": [
    {
     "data": {
      "text/plain": [
       "['t_n55',\n",
       " 't_n56',\n",
       " 't_n57',\n",
       " 't_n58',\n",
       " 't_n59',\n",
       " 't_n60',\n",
       " 't_n61',\n",
       " 't_n62',\n",
       " 't_n63',\n",
       " 't_n64',\n",
       " 't_n65',\n",
       " 't_n66',\n",
       " 't_n67',\n",
       " 't_n68',\n",
       " 't_n69',\n",
       " 't_n70',\n",
       " 't_n71',\n",
       " 't_n72',\n",
       " 't_n73',\n",
       " 't_n74',\n",
       " 't_n75',\n",
       " 't_n76',\n",
       " 't_n77',\n",
       " 't_n78',\n",
       " 't_n79',\n",
       " 't_n80',\n",
       " 't_n81',\n",
       " 't_n82',\n",
       " 't_n83',\n",
       " 't_n84',\n",
       " 't_n85',\n",
       " 't_n86',\n",
       " 't_n87',\n",
       " 't_n88',\n",
       " 't_n89',\n",
       " 't_n90',\n",
       " 't_n91',\n",
       " 't_n92',\n",
       " 't_n93',\n",
       " 't_n94',\n",
       " 't_n95',\n",
       " 't_n96',\n",
       " 't_n97',\n",
       " 't_n98',\n",
       " 't_n99',\n",
       " 't_n100',\n",
       " 't_n101',\n",
       " 't_n102',\n",
       " 't_n103',\n",
       " 't_n104',\n",
       " 't_n105',\n",
       " 't_n106',\n",
       " 't_n107']"
      ]
     },
     "execution_count": 20,
     "metadata": {},
     "output_type": "execute_result"
    }
   ],
   "execution_count": 20
  },
  {
   "metadata": {
    "ExecuteTime": {
     "end_time": "2024-10-31T10:29:35.381176Z",
     "start_time": "2024-10-31T10:29:35.377526Z"
    }
   },
   "cell_type": "code",
   "source": "posterior_mean_iqtree",
   "id": "24a55c806a41f33e",
   "outputs": [
    {
     "data": {
      "text/plain": [
       "[8.5905,\n",
       " 8.5444,\n",
       " 7.9079,\n",
       " 6.7261,\n",
       " 6.4586,\n",
       " 6.1345,\n",
       " 5.6362,\n",
       " 2.6067,\n",
       " 3.9987,\n",
       " 2.8694,\n",
       " 2.5006,\n",
       " 1.949,\n",
       " 1.3334,\n",
       " 0.8938,\n",
       " 0.3598,\n",
       " 3.0149,\n",
       " 6.21,\n",
       " 5.5697,\n",
       " 5.6089,\n",
       " 4.0356,\n",
       " 3.5583,\n",
       " 3.2523,\n",
       " 6.1249,\n",
       " 5.793,\n",
       " 5.5418,\n",
       " 5.2541,\n",
       " 4.7955,\n",
       " 4.6141,\n",
       " 4.016,\n",
       " 3.6531,\n",
       " 3.3188,\n",
       " 2.5163,\n",
       " 2.2427,\n",
       " 4.0954,\n",
       " 3.2825,\n",
       " 5.9693,\n",
       " 1.4687,\n",
       " 5.7859,\n",
       " 5.3695,\n",
       " 4.7598,\n",
       " 4.3715,\n",
       " 3.2074,\n",
       " 3.5766,\n",
       " 4.5891,\n",
       " 4.3349,\n",
       " 3.8886,\n",
       " 3.1221,\n",
       " 3.8971,\n",
       " 7.1186,\n",
       " 5.4301,\n",
       " 3.4744,\n",
       " 2.7047,\n",
       " 5.8921]"
      ]
     },
     "execution_count": 21,
     "metadata": {},
     "output_type": "execute_result"
    }
   ],
   "execution_count": 21
  },
  {
   "metadata": {
    "ExecuteTime": {
     "end_time": "2024-10-31T10:29:35.434142Z",
     "start_time": "2024-10-31T10:29:35.430624Z"
    }
   },
   "cell_type": "code",
   "source": "lower_ci_iqtree",
   "id": "388aa27ad336d43f",
   "outputs": [
    {
     "data": {
      "text/plain": [
       "[]"
      ]
     },
     "execution_count": 22,
     "metadata": {},
     "output_type": "execute_result"
    }
   ],
   "execution_count": 22
  },
  {
   "metadata": {
    "ExecuteTime": {
     "end_time": "2024-10-31T10:29:35.487381Z",
     "start_time": "2024-10-31T10:29:35.483730Z"
    }
   },
   "cell_type": "code",
   "source": "upper_ci_iqtree",
   "id": "816e569fb763e797",
   "outputs": [
    {
     "data": {
      "text/plain": [
       "[]"
      ]
     },
     "execution_count": 23,
     "metadata": {},
     "output_type": "execute_result"
    }
   ],
   "execution_count": 23
  },
  {
   "metadata": {
    "ExecuteTime": {
     "end_time": "2024-10-31T10:29:35.540274Z",
     "start_time": "2024-10-31T10:29:35.533987Z"
    }
   },
   "cell_type": "code",
   "source": [
    "file_LG = open(\"LG_G4_codeml_middle_out.txt\", \"r\")\n",
    "lines1 = file_LG.readlines()\n",
    "file_LG.close()\n",
    "\n",
    "# Extract the data\n",
    "data1 = []\n",
    "mu_data1 = []\n",
    "var_data1 = []\n",
    "\n",
    "read_flag = False\n",
    "for line in lines1:\n",
    "    if line.startswith(\"Posterior\"):\n",
    "        read_flag = True\n",
    "    if read_flag and line.startswith(\"t\"):\n",
    "        data1.append(line)\n",
    "    if read_flag and line.startswith(\"mu\"):\n",
    "        mu_data1.append(line)\n",
    "    if read_flag and line.startswith(\"sigma\"):\n",
    "        var_data1.append(line)\n",
    "\n",
    "        \n",
    "for line in data1:\n",
    "    line = line.strip().split()\n",
    "    # node_name.append(line[0])\n",
    "    posterior_mean_baseml.append(float(line[1]))\n",
    "#     if line[3].startswith('('):\n",
    "#         lower_ci_baseml.append(float(line[3][1:-1]))\n",
    "#     else:\n",
    "#          lower_ci_baseml.append(float(line[3][:-1]))\n",
    "#     if line[4].startswith('('):\n",
    "#         upper_ci_baseml.append(float(line[4][1:-1]))\n",
    "#     else:\n",
    "#          upper_ci_baseml.append(float(line[4][:-1]))\n",
    "#         \n",
    "#     \n",
    "# for line in mu_data1:\n",
    "#     line = line.strip().split()\n",
    "#     # node_name.append(line[0])\n",
    "#     posterior_mean_mu_baseml.append(float(line[1]))\n",
    "#     lower_ci_mu_baseml.append(float(line[3][:-1]))\n",
    "#     upper_ci_mu_baseml.append(float(line[4][:-1]))\n",
    "    \n",
    "# for line in var_data1:\n",
    "#     line = line.strip().split()\n",
    "#     # node_name.append(line[0])\n",
    "#     posterior_mean_var_baseml.append(float(line[1]))\n",
    "#     lower_ci_var_baseml.append(float(line[3][:-1]))\n",
    "#     upper_ci_var_baseml.append(float(line[4][:-1]))"
   ],
   "id": "f75c012c6bef60a2",
   "outputs": [],
   "execution_count": 24
  },
  {
   "metadata": {
    "ExecuteTime": {
     "end_time": "2024-10-31T10:29:35.587195Z",
     "start_time": "2024-10-31T10:29:35.583438Z"
    }
   },
   "cell_type": "code",
   "source": [
    "import matplotlib.pyplot as plt\n",
    "import numpy as np\n",
    "\n",
    "# # Example data\n",
    "# # Posterior means for MCMCtree (x-axis) and McmcDate (y-axis)\n",
    "# posterior_mean_mcmctree = [100, 200, 300, 400, 500, 600, 700, 800, 900, 1000]\n",
    "# posterior_mean_mcmcdate = [110, 210, 310, 410, 510, 610, 710, 810, 910, 1010]\n",
    "# \n",
    "# # Credible intervals for MCMCtree\n",
    "# lower_ci_mcmctree = [90, 180, 270, 360, 450, 540, 630, 720, 810, 900]\n",
    "# upper_ci_mcmctree = [110, 220, 330, 440, 550, 660, 770, 880, 990, 1100]\n",
    "# \n",
    "# # Credible intervals for McmcDate\n",
    "# lower_ci_mcmcdate = [100, 200, 300, 400, 500, 600, 700, 800, 900, 1000]\n",
    "# upper_ci_mcmcdate = [120, 220, 320, 420, 520, 620, 720, 820, 920, 1020]\n",
    "\n",
    "# Calculate error bars\n",
    "# xerr = [np.array(lower_ci_baseml), \n",
    "#         np.array(upper_ci_baseml)]\n",
    "# yerr = [np.array(lower_ci_iqtree), \n",
    "#         np.array(upper_ci_iqtree)]\n",
    "# \n",
    "# # Plotting\n",
    "# fig, ax = plt.subplots(figsize=(15, 15))\n",
    "# ax.plot([-0.1,90], \n",
    "#         [-0.1, 90], \n",
    "#         'k--', label='y=x')\n",
    "# ax.errorbar(posterior_mean_baseml, posterior_mean_iqtree, \n",
    "#             xerr=xerr, yerr=yerr, fmt='*', ecolor='r', capsize=3, label='95% HPD CI')\n",
    "# \n",
    "# # Labels and title\n",
    "# ax.set_xlabel('Posterior mean age LG [100 Mya]', fontsize=18)\n",
    "# ax.set_ylabel('Posterior mean age LG+G4 [100 Mya]', fontsize=18)\n",
    "# ax.set_title('Posterior mean age comparison between LG and LG+G4 models [t116 ~ B(1.25,2.482)]')\n",
    "# ax.legend()\n",
    "# \n",
    "# # Show plot\n",
    "# # plt.show()\n",
    "# plt.savefig('./animal_origin_posterior_mean_age_comparison_LG_G4_c11.png')"
   ],
   "id": "12db486fa4fac82c",
   "outputs": [],
   "execution_count": 25
  },
  {
   "metadata": {
    "ExecuteTime": {
     "end_time": "2024-10-31T10:29:35.639307Z",
     "start_time": "2024-10-31T10:29:35.635706Z"
    }
   },
   "cell_type": "code",
   "source": "posterior_mean_baseml",
   "id": "917b2e31cff4b992",
   "outputs": [
    {
     "data": {
      "text/plain": [
       "[8.6238,\n",
       " 8.578,\n",
       " 7.9256,\n",
       " 6.7301,\n",
       " 6.4557,\n",
       " 6.1244,\n",
       " 5.6265,\n",
       " 2.6441,\n",
       " 3.9803,\n",
       " 2.8612,\n",
       " 2.4905,\n",
       " 1.9354,\n",
       " 1.3282,\n",
       " 0.891,\n",
       " 0.3598,\n",
       " 3.0053,\n",
       " 6.2095,\n",
       " 5.5369,\n",
       " 5.5946,\n",
       " 4.0403,\n",
       " 3.544,\n",
       " 3.2402,\n",
       " 6.135,\n",
       " 5.7912,\n",
       " 5.5501,\n",
       " 5.2502,\n",
       " 4.7911,\n",
       " 4.5993,\n",
       " 3.9975,\n",
       " 3.6241,\n",
       " 3.2875,\n",
       " 2.5015,\n",
       " 2.2227,\n",
       " 4.0967,\n",
       " 3.2785,\n",
       " 5.9671,\n",
       " 1.515,\n",
       " 5.7816,\n",
       " 5.3591,\n",
       " 4.7547,\n",
       " 4.3502,\n",
       " 3.2014,\n",
       " 3.5592,\n",
       " 4.5726,\n",
       " 4.3111,\n",
       " 3.8446,\n",
       " 3.1132,\n",
       " 3.9117,\n",
       " 7.1204,\n",
       " 5.4288,\n",
       " 3.4698,\n",
       " 2.761,\n",
       " 5.9806]"
      ]
     },
     "execution_count": 26,
     "metadata": {},
     "output_type": "execute_result"
    }
   ],
   "execution_count": 26
  },
  {
   "metadata": {
    "ExecuteTime": {
     "end_time": "2024-10-31T10:29:35.704928Z",
     "start_time": "2024-10-31T10:29:35.699592Z"
    }
   },
   "cell_type": "code",
   "source": "posterior_mean_iqtree",
   "id": "59ad8fd34f7bbf11",
   "outputs": [
    {
     "data": {
      "text/plain": [
       "[8.5905,\n",
       " 8.5444,\n",
       " 7.9079,\n",
       " 6.7261,\n",
       " 6.4586,\n",
       " 6.1345,\n",
       " 5.6362,\n",
       " 2.6067,\n",
       " 3.9987,\n",
       " 2.8694,\n",
       " 2.5006,\n",
       " 1.949,\n",
       " 1.3334,\n",
       " 0.8938,\n",
       " 0.3598,\n",
       " 3.0149,\n",
       " 6.21,\n",
       " 5.5697,\n",
       " 5.6089,\n",
       " 4.0356,\n",
       " 3.5583,\n",
       " 3.2523,\n",
       " 6.1249,\n",
       " 5.793,\n",
       " 5.5418,\n",
       " 5.2541,\n",
       " 4.7955,\n",
       " 4.6141,\n",
       " 4.016,\n",
       " 3.6531,\n",
       " 3.3188,\n",
       " 2.5163,\n",
       " 2.2427,\n",
       " 4.0954,\n",
       " 3.2825,\n",
       " 5.9693,\n",
       " 1.4687,\n",
       " 5.7859,\n",
       " 5.3695,\n",
       " 4.7598,\n",
       " 4.3715,\n",
       " 3.2074,\n",
       " 3.5766,\n",
       " 4.5891,\n",
       " 4.3349,\n",
       " 3.8886,\n",
       " 3.1221,\n",
       " 3.8971,\n",
       " 7.1186,\n",
       " 5.4301,\n",
       " 3.4744,\n",
       " 2.7047,\n",
       " 5.8921]"
      ]
     },
     "execution_count": 27,
     "metadata": {},
     "output_type": "execute_result"
    }
   ],
   "execution_count": 27
  },
  {
   "metadata": {
    "ExecuteTime": {
     "end_time": "2024-10-31T10:29:35.960224Z",
     "start_time": "2024-10-31T10:29:35.761321Z"
    }
   },
   "cell_type": "code",
   "source": [
    "# Calculate error bars\n",
    "xerr = [np.array(lower_ci_baseml), \n",
    "        np.array(upper_ci_baseml)]\n",
    "yerr = [np.array(lower_ci_iqtree), \n",
    "        np.array(upper_ci_iqtree)]\n",
    "\n",
    "# Plotting\n",
    "fig, ax = plt.subplots(figsize=(9 ,9))\n",
    "ax.plot([-0.1, 11], \n",
    "        [-0.1, 11], \n",
    "        'k--', label='y=x')\n",
    "points = ax.plot(posterior_mean_iqtree, posterior_mean_baseml, 'o', label='Posterior mean age')\n",
    "\n",
    "\n",
    "points[0].set_markerfacecolor('blue')\n",
    "# points[23].set_markerfacecolor('blue')# Set default face color (for other points)\n",
    "\n",
    "# Now plot the highlighted point with a different color\n",
    "ax.scatter(posterior_mean_iqtree[0], posterior_mean_baseml[0], color='red', s=100)\n",
    "ax.scatter(posterior_mean_iqtree[25], posterior_mean_baseml[25], color='red', s=100)\n",
    "# ax.scatter(posterior_mean_iqtree[0], posterior_mean_baseml[0], color='red', label='Root age')\n",
    "ax.annotate('root calibration:\\n B(5.5285, 8.3300)', \n",
    "        xy=(posterior_mean_iqtree[0], posterior_mean_baseml[0]), \n",
    "        xytext=(posterior_mean_iqtree[0] -2,  posterior_mean_baseml[0] + 0.3),  # Offset position for the label\n",
    "        arrowprops=dict(arrowstyle='->', color='red'),  # Arrow style\n",
    "        fontsize=12, color='red') \n",
    "ax.annotate('middle calibration:\\n B(5.2882,6.3610)', \n",
    "        xy=(posterior_mean_iqtree[25], posterior_mean_baseml[25]), \n",
    "        xytext=(posterior_mean_iqtree[25] -1.5,  posterior_mean_baseml[25] + 1.5),  # Offset position for the label\n",
    "        arrowprops=dict(arrowstyle='->', color='red'),  # Arrow style\n",
    "        fontsize=12, color='red') \n",
    " \n",
    " \n",
    "# Labels and title\n",
    "ax.set_ylabel('Posterior mean age LG+G4 [Mya]', fontsize=18)\n",
    "ax.set_xlabel('Posterior mean age Partition MF [-Q] [Mya]', fontsize=18)\n",
    "# ax.set_title('Posterior mean age comparison between LG and Partition MF [-Q] [t80 ~ B(5.2882,6.3610)]')\n",
    "ax.legend()\n",
    "\n",
    "# point_x = posterior_mean_baseml[0]  # Example: first point in the list\n",
    "# point_y = posterior_mean_iqtree[0]  # Example: first point in the list\n",
    "# ax.annotate('Root age', xy=(point_x, point_y), xytext=(point_x - 0.1, point_y - 0.1), color='red')\n",
    "# Show plot\n",
    "# plt.show()\n",
    "plt.savefig('./metazoa_posterior_mean_age_comparison_partition_MF_Q_middle_scatter.png')"
   ],
   "id": "592d0bb72aa1ad4c",
   "outputs": [
    {
     "data": {
      "text/plain": [
       "<Figure size 900x900 with 1 Axes>"
      ],
      "image/png": "[encoded data removed]"
     },
     "metadata": {},
     "output_type": "display_data"
    }
   ],
   "execution_count": 28
  },
  {
   "metadata": {
    "ExecuteTime": {
     "end_time": "2024-10-31T10:29:35.988096Z",
     "start_time": "2024-10-31T10:29:35.985174Z"
    }
   },
   "cell_type": "code",
   "source": [
    "# fig, ax = plt.subplots(figsize=(9 ,9))\n",
    "# ax.plot([0.01,0.04], \n",
    "#         [0.01, 0.04], \n",
    "#         'k--', label='y=x')\n",
    "# ax.plot(posterior_mean_mu_baseml, posterior_mean_mu_iqtree, 'o', label='Posterior mean rates for partitions')\n",
    "#  \n",
    "# # Labels and title\n",
    "# ax.set_xlabel('Posterior mean rate [LG]', fontsize=18)\n",
    "# ax.set_ylabel('Posterior mean rate [LG+G4]', fontsize=18)\n",
    "# ax.set_title('Posterior mean rate comparison between LG and LG+G4 [Cherry only calibration/IQ-TREE]')\n",
    "# ax.legend()\n",
    "# \n",
    "# # point_x = posterior_mean_baseml[0]  # Example: first point in the list\n",
    "# # point_y = posterior_mean_iqtree[0]  # Example: first point in the list\n",
    "# # ax.annotate('Root age', xy=(point_x, point_y), xytext=(point_x - 0.1, point_y - 0.1), color='red')\n",
    "# # Show plot\n",
    "# # plt.show()\n",
    "# plt.savefig('./animal_origin__posterior_mean_rate_comparison_LG_G4_all_scatter.png')"
   ],
   "id": "c6d69ee36c77970c",
   "outputs": [],
   "execution_count": 29
  },
  {
   "metadata": {
    "ExecuteTime": {
     "end_time": "2024-10-31T10:29:36.039046Z",
     "start_time": "2024-10-31T10:29:36.037113Z"
    }
   },
   "cell_type": "code",
   "source": "",
   "id": "ca69d5b521db3aa7",
   "outputs": [],
   "execution_count": null
  }
 ],
 "metadata": {
  "kernelspec": {
   "display_name": "Python 3",
   "language": "python",
   "name": "python3"
  },
  "language_info": {
   "codemirror_mode": {
    "name": "ipython",
    "version": 2
   },
   "file_extension": ".py",
   "mimetype": "text/x-python",
   "name": "python",
   "nbconvert_exporter": "python",
   "pygments_lexer": "ipython2",
   "version": "2.7.6"
  }
 },
 "nbformat": 4,
 "nbformat_minor": 5
}
