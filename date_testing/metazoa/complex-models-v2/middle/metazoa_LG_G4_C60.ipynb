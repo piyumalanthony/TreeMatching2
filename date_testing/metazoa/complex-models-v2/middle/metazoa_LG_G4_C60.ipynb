{
 "cells": [
  {
   "cell_type": "code",
   "id": "initial_id",
   "metadata": {
    "collapsed": true,
    "ExecuteTime": {
     "end_time": "2024-10-31T08:47:30.346369Z",
     "start_time": "2024-10-31T08:47:30.341975Z"
    }
   },
   "source": [
    "# Code to get all the Posterior mean (95% Equal-tail CI) (95% HPD CI) HPD-CI-width from ./xenarthra_mcmc_out.txt\n",
    "import numpy as np\n",
    "import pandas as pd\n",
    "import matplotlib.pyplot as plt\n",
    "\n",
    "\n",
    "# Read the file\n",
    "file = open(\"LG_G4_C60_middle_out.txt\", \"r\")\n",
    "lines = file.readlines()\n",
    "file.close()\n",
    "\n",
    "# Extract the data\n",
    "data = []\n",
    "mu_data = []\n",
    "var_data = []\n",
    "\n",
    "read_flag = False\n",
    "for line in lines:\n",
    "    if line.startswith(\"Posterior\"):\n",
    "        read_flag = True\n",
    "    if read_flag and line.startswith(\"t\"):\n",
    "        data.append(line)\n",
    "    if read_flag and line.startswith(\"mu\"):\n",
    "        mu_data.append(line)\n",
    "    if read_flag and line.startswith(\"sigma\"):\n",
    "        var_data.append(line)"
   ],
   "outputs": [],
   "execution_count": 36
  },
  {
   "metadata": {
    "ExecuteTime": {
     "end_time": "2024-10-31T08:47:30.359947Z",
     "start_time": "2024-10-31T08:47:30.355721Z"
    }
   },
   "cell_type": "code",
   "source": "data",
   "id": "54808ee54195795",
   "outputs": [
    {
     "data": {
      "text/plain": [
       "['t_n55          8.1338 ( 7.6356,  8.4768) ( 7.6676,  8.5017)  0.8341 (Jnode 106)\\n',\n",
       " 't_n56          7.9974 ( 7.5129,  8.3777) ( 7.5323,  8.3922)  0.8600 (Jnode 105)\\n',\n",
       " 't_n57          7.6017 ( 7.1757,  7.9661) ( 7.1941,  7.9816)  0.7876 (Jnode 104)\\n',\n",
       " 't_n58          6.6252 ( 6.3268,  6.9709) ( 6.3175,  6.9567)  0.6392 (Jnode 103)\\n',\n",
       " 't_n59          6.4296 ( 6.1435,  6.7709) ( 6.1269,  6.7494)  0.6224 (Jnode 102)\\n',\n",
       " 't_n60          6.1505 ( 5.8637,  6.4923) ( 5.8442,  6.4672)  0.6230 (Jnode 101)\\n',\n",
       " 't_n61          5.7167 ( 5.3944,  6.0815) ( 5.3889,  6.0748)  0.6859 (Jnode 100)\\n',\n",
       " 't_n62          2.4643 ( 1.5848,  3.3294) ( 1.5847,  3.3272)  1.7426 (Jnode 99)\\n',\n",
       " 't_n63          3.8971 ( 3.2365,  4.4902) ( 3.2576,  4.5027)  1.2451 (Jnode 98)\\n',\n",
       " 't_n64          2.7361 ( 2.1360,  3.3403) ( 2.1490,  3.3501)  1.2011 (Jnode 97)\\n',\n",
       " 't_n65          2.3992 ( 1.8435,  2.9749) ( 1.8285,  2.9546)  1.1260 (Jnode 96)\\n',\n",
       " 't_n66          1.8433 ( 1.3855,  2.3464) ( 1.3543,  2.3098)  0.9555 (Jnode 95)\\n',\n",
       " 't_n67          1.2347 ( 0.9007,  1.6253) ( 0.8880,  1.6103)  0.7222 (Jnode 94)\\n',\n",
       " 't_n68          0.8185 ( 0.5823,  1.1086) ( 0.5599,  1.0803)  0.5204 (Jnode 93)\\n',\n",
       " 't_n69          0.3506 ( 0.2360,  0.5014) ( 0.2273,  0.4879)  0.2606 (Jnode 92)\\n',\n",
       " 't_n70          2.8685 ( 2.2329,  3.5051) ( 2.2402,  3.5103)  1.2702 (Jnode 91)\\n',\n",
       " 't_n71          6.2844 ( 5.9973,  6.6283) ( 5.9758,  6.5975)  0.6218 (Jnode 90)\\n',\n",
       " 't_n72          6.1035 ( 5.7761,  6.4706) ( 5.7604,  6.4511)  0.6906 (Jnode 89)\\n',\n",
       " 't_n73          5.7012 ( 5.3744,  6.0736) ( 5.3660,  6.0604)  0.6944 (Jnode 88)\\n',\n",
       " 't_n74          3.9794 ( 3.2103,  4.6399) ( 3.2603,  4.6757)  1.4154 (Jnode 87)\\n',\n",
       " 't_n75          3.5612 ( 2.8001,  4.2527) ( 2.8227,  4.2634)  1.4407 (Jnode 86)\\n',\n",
       " 't_n76          3.0749 ( 2.0662,  3.9753) ( 2.0955,  3.9971)  1.9017 (Jnode 85)\\n',\n",
       " 't_n77          6.1243 ( 5.8815,  6.4454) ( 5.8632,  6.4157)  0.5526 (Jnode 84)\\n',\n",
       " 't_n78          5.8707 ( 5.6536,  6.1829) ( 5.6375,  6.1554)  0.5179 (Jnode 83)\\n',\n",
       " 't_n79          5.6997 ( 5.4963,  6.0045) ( 5.4805,  5.9743)  0.4937 (Jnode 82)\\n',\n",
       " 't_n80          5.3805 ( 5.2229,  5.6711) ( 5.1970,  5.6292)  0.4322 (Jnode 81)\\n',\n",
       " 't_n81          4.9404 ( 4.7020,  5.2441) ( 4.6810,  5.2180)  0.5370 (Jnode 80)\\n',\n",
       " 't_n82          4.8069 ( 4.5464,  5.1155) ( 4.5309,  5.0976)  0.5667 (Jnode 79)\\n',\n",
       " 't_n83          4.1666 ( 3.7969,  4.5207) ( 3.7906,  4.5119)  0.7212 (Jnode 78)\\n',\n",
       " 't_n84          3.7866 ( 3.3927,  4.1607) ( 3.4019,  4.1668)  0.7649 (Jnode 77)\\n',\n",
       " 't_n85          3.4636 ( 3.0544,  3.8506) ( 3.0656,  3.8596)  0.7941 (Jnode 76)\\n',\n",
       " 't_n86          2.5644 ( 2.1282,  2.9989) ( 2.1366,  3.0057)  0.8691 (Jnode 75)\\n',\n",
       " 't_n87          2.3650 ( 1.9374,  2.7965) ( 1.9411,  2.7988)  0.8577 (Jnode 74)\\n',\n",
       " 't_n88          4.2031 ( 3.8043,  4.5750) ( 3.8052,  4.5757)  0.7705 (Jnode 73)\\n',\n",
       " 't_n89          3.3810 ( 2.8698,  3.8561) ( 2.8850,  3.8670)  0.9821 (Jnode 72)\\n',\n",
       " 't_n90          6.0178 ( 5.7791,  6.3396) ( 5.7649,  6.3108)  0.5459 (Jnode 71)\\n',\n",
       " 't_n91          1.2283 ( 0.6245,  2.0074) ( 0.5534,  1.9187)  1.3653 (Jnode 70)\\n',\n",
       " 't_n92          5.8915 ( 5.6604,  6.2079) ( 5.6420,  6.1773)  0.5354 (Jnode 69)\\n',\n",
       " 't_n93          5.5230 ( 5.2942,  5.8398) ( 5.2763,  5.8138)  0.5375 (Jnode 68)\\n',\n",
       " 't_n94          4.9047 ( 4.5658,  5.2626) ( 4.5567,  5.2522)  0.6955 (Jnode 67)\\n',\n",
       " 't_n95          4.5523 ( 4.1716,  4.9364) ( 4.1661,  4.9291)  0.7630 (Jnode 66)\\n',\n",
       " 't_n96          3.3079 ( 2.7103,  3.8558) ( 2.7126,  3.8565)  1.1439 (Jnode 65)\\n',\n",
       " 't_n97          3.8087 ( 3.3132,  4.2755) ( 3.3232,  4.2840)  0.9608 (Jnode 64)\\n',\n",
       " 't_n98          4.7087 ( 4.3223,  5.0891) ( 4.3316,  5.0966)  0.7649 (Jnode 63)\\n',\n",
       " 't_n99          4.5406 ( 4.1341,  4.9320) ( 4.1416,  4.9365)  0.7950 (Jnode 62)\\n',\n",
       " 't_n100         4.2328 ( 3.7843,  4.6553) ( 3.7872,  4.6572)  0.8699 (Jnode 61)\\n',\n",
       " 't_n101         3.0310 ( 2.3491,  3.6465) ( 2.3711,  3.6636)  1.2926 (Jnode 60)\\n',\n",
       " 't_n102         4.1030 ( 3.3925,  4.6795) ( 3.4578,  4.7279)  1.2701 (Jnode 59)\\n',\n",
       " 't_n103         6.9491 ( 6.5010,  7.3609) ( 6.5236,  7.3789)  0.8553 (Jnode 58)\\n',\n",
       " 't_n104         5.2953 ( 4.1675,  5.9916) ( 4.3052,  6.0833)  1.7781 (Jnode 57)\\n',\n",
       " 't_n105         3.2489 ( 2.1341,  4.2571) ( 2.1417,  4.2619)  2.1201 (Jnode 56)\\n',\n",
       " 't_n106         2.3536 ( 1.2911,  3.5506) ( 1.2579,  3.5014)  2.2435 (Jnode 55)\\n',\n",
       " 't_n107         5.6473 ( 4.2283,  6.5822) ( 4.3468,  6.6598)  2.3130 (Jnode 54)\\n']"
      ]
     },
     "execution_count": 37,
     "metadata": {},
     "output_type": "execute_result"
    }
   ],
   "execution_count": 37
  },
  {
   "metadata": {
    "ExecuteTime": {
     "end_time": "2024-10-31T08:47:30.417569Z",
     "start_time": "2024-10-31T08:47:30.412639Z"
    }
   },
   "cell_type": "code",
   "source": [
    "node_name = []\n",
    "posterior_mean_iqtree = []\n",
    "posterior_mean_baseml = []\n",
    "\n",
    "posterior_mean_mu_iqtree = []\n",
    "posterior_mean_mu_baseml = []\n",
    "\n",
    "posterior_mean_var_iqtree = []\n",
    "posterior_mean_var_baseml = []\n",
    "\n",
    "lower_ci_iqtree = []\n",
    "upper_ci_iqtree = []\n",
    "\n",
    "lower_ci_mu_iqtree = []\n",
    "upper_ci_mu_iqtree = []\n",
    "\n",
    "lower_ci_var_iqtree = []\n",
    "upper_ci_var_iqtree = []\n",
    "\n",
    "# Credible intervals for McmcDate\n",
    "lower_ci_baseml = []\n",
    "upper_ci_baseml = []\n",
    "\n",
    "lower_ci_mu_baseml = []\n",
    "upper_ci_mu_baseml = []\n",
    "\n",
    "lower_ci_var_baseml = []\n",
    "upper_ci_var_baseml = []"
   ],
   "id": "e5cf93a69d327e61",
   "outputs": [],
   "execution_count": 38
  },
  {
   "metadata": {
    "ExecuteTime": {
     "end_time": "2024-10-31T08:47:30.467346Z",
     "start_time": "2024-10-31T08:47:30.462207Z"
    }
   },
   "cell_type": "code",
   "source": [
    "for line in data:\n",
    "    line = line.strip().split()\n",
    "    node_name.append(line[0])\n",
    "    posterior_mean_iqtree.append(float(line[1]))\n",
    "#     if line[3].startswith('('):\n",
    "#         lower_ci_iqtree.append(float(line[3][1:-1]))\n",
    "#     else:\n",
    "#         lower_ci_iqtree.append(float(line[3][1:-1]))\n",
    "#     if line[4].startswith('('):\n",
    "#         upper_ci_iqtree.append(float(line[4][1:-1]))\n",
    "#     else:\n",
    "#         upper_ci_iqtree.append(float(line[4][:-1]))\n",
    "#     # posterior_mean_baseml.append(float(line[4]))\n",
    "#     # lower_ci_baseml.append(float(line[5]))\n",
    "#     # upper_ci_baseml.append(float(line[6]))\n",
    "# \n",
    "# for line in mu_data:\n",
    "#     line = line.strip().split()\n",
    "#     # node_name.append(line[0])\n",
    "#     posterior_mean_mu_iqtree.append(float(line[1]))\n",
    "#     lower_ci_mu_iqtree.append(float(line[3][:-1]))\n",
    "#     upper_ci_mu_iqtree.append(float(line[4][:-1]))\n",
    "#\n",
    "# for line in var_data:\n",
    "#     line = line.strip().split()\n",
    "#     # node_name.append(line[0])\n",
    "#     posterior_mean_var_iqtree.append(float(line[1]))\n",
    "#     lower_ci_var_iqtree.append(float(line[3][:-1]))\n",
    "#     upper_ci_var_iqtree.append(float(line[4][:-1]))"
   ],
   "id": "4e79ee928ea76b59",
   "outputs": [],
   "execution_count": 39
  },
  {
   "metadata": {
    "ExecuteTime": {
     "end_time": "2024-10-31T08:47:30.523524Z",
     "start_time": "2024-10-31T08:47:30.518892Z"
    }
   },
   "cell_type": "code",
   "source": "node_name",
   "id": "2c17f55ec9626a0b",
   "outputs": [
    {
     "data": {
      "text/plain": [
       "['t_n55',\n",
       " 't_n56',\n",
       " 't_n57',\n",
       " 't_n58',\n",
       " 't_n59',\n",
       " 't_n60',\n",
       " 't_n61',\n",
       " 't_n62',\n",
       " 't_n63',\n",
       " 't_n64',\n",
       " 't_n65',\n",
       " 't_n66',\n",
       " 't_n67',\n",
       " 't_n68',\n",
       " 't_n69',\n",
       " 't_n70',\n",
       " 't_n71',\n",
       " 't_n72',\n",
       " 't_n73',\n",
       " 't_n74',\n",
       " 't_n75',\n",
       " 't_n76',\n",
       " 't_n77',\n",
       " 't_n78',\n",
       " 't_n79',\n",
       " 't_n80',\n",
       " 't_n81',\n",
       " 't_n82',\n",
       " 't_n83',\n",
       " 't_n84',\n",
       " 't_n85',\n",
       " 't_n86',\n",
       " 't_n87',\n",
       " 't_n88',\n",
       " 't_n89',\n",
       " 't_n90',\n",
       " 't_n91',\n",
       " 't_n92',\n",
       " 't_n93',\n",
       " 't_n94',\n",
       " 't_n95',\n",
       " 't_n96',\n",
       " 't_n97',\n",
       " 't_n98',\n",
       " 't_n99',\n",
       " 't_n100',\n",
       " 't_n101',\n",
       " 't_n102',\n",
       " 't_n103',\n",
       " 't_n104',\n",
       " 't_n105',\n",
       " 't_n106',\n",
       " 't_n107']"
      ]
     },
     "execution_count": 40,
     "metadata": {},
     "output_type": "execute_result"
    }
   ],
   "execution_count": 40
  },
  {
   "metadata": {
    "ExecuteTime": {
     "end_time": "2024-10-31T08:47:30.586358Z",
     "start_time": "2024-10-31T08:47:30.579573Z"
    }
   },
   "cell_type": "code",
   "source": "posterior_mean_iqtree",
   "id": "24a55c806a41f33e",
   "outputs": [
    {
     "data": {
      "text/plain": [
       "[8.1338,\n",
       " 7.9974,\n",
       " 7.6017,\n",
       " 6.6252,\n",
       " 6.4296,\n",
       " 6.1505,\n",
       " 5.7167,\n",
       " 2.4643,\n",
       " 3.8971,\n",
       " 2.7361,\n",
       " 2.3992,\n",
       " 1.8433,\n",
       " 1.2347,\n",
       " 0.8185,\n",
       " 0.3506,\n",
       " 2.8685,\n",
       " 6.2844,\n",
       " 6.1035,\n",
       " 5.7012,\n",
       " 3.9794,\n",
       " 3.5612,\n",
       " 3.0749,\n",
       " 6.1243,\n",
       " 5.8707,\n",
       " 5.6997,\n",
       " 5.3805,\n",
       " 4.9404,\n",
       " 4.8069,\n",
       " 4.1666,\n",
       " 3.7866,\n",
       " 3.4636,\n",
       " 2.5644,\n",
       " 2.365,\n",
       " 4.2031,\n",
       " 3.381,\n",
       " 6.0178,\n",
       " 1.2283,\n",
       " 5.8915,\n",
       " 5.523,\n",
       " 4.9047,\n",
       " 4.5523,\n",
       " 3.3079,\n",
       " 3.8087,\n",
       " 4.7087,\n",
       " 4.5406,\n",
       " 4.2328,\n",
       " 3.031,\n",
       " 4.103,\n",
       " 6.9491,\n",
       " 5.2953,\n",
       " 3.2489,\n",
       " 2.3536,\n",
       " 5.6473]"
      ]
     },
     "execution_count": 41,
     "metadata": {},
     "output_type": "execute_result"
    }
   ],
   "execution_count": 41
  },
  {
   "metadata": {
    "ExecuteTime": {
     "end_time": "2024-10-31T08:47:30.642649Z",
     "start_time": "2024-10-31T08:47:30.638814Z"
    }
   },
   "cell_type": "code",
   "source": "lower_ci_iqtree",
   "id": "388aa27ad336d43f",
   "outputs": [
    {
     "data": {
      "text/plain": [
       "[]"
      ]
     },
     "execution_count": 42,
     "metadata": {},
     "output_type": "execute_result"
    }
   ],
   "execution_count": 42
  },
  {
   "metadata": {
    "ExecuteTime": {
     "end_time": "2024-10-31T08:47:30.695729Z",
     "start_time": "2024-10-31T08:47:30.692749Z"
    }
   },
   "cell_type": "code",
   "source": "upper_ci_iqtree",
   "id": "816e569fb763e797",
   "outputs": [
    {
     "data": {
      "text/plain": [
       "[]"
      ]
     },
     "execution_count": 43,
     "metadata": {},
     "output_type": "execute_result"
    }
   ],
   "execution_count": 43
  },
  {
   "metadata": {
    "ExecuteTime": {
     "end_time": "2024-10-31T08:47:30.747901Z",
     "start_time": "2024-10-31T08:47:30.742612Z"
    }
   },
   "cell_type": "code",
   "source": [
    "file_LG = open(\"LG_G4_codeml_middle_out.txt\", \"r\")\n",
    "lines1 = file_LG.readlines()\n",
    "file_LG.close()\n",
    "\n",
    "# Extract the data\n",
    "data1 = []\n",
    "mu_data1 = []\n",
    "var_data1 = []\n",
    "\n",
    "read_flag = False\n",
    "for line in lines1:\n",
    "    if line.startswith(\"Posterior\"):\n",
    "        read_flag = True\n",
    "    if read_flag and line.startswith(\"t\"):\n",
    "        data1.append(line)\n",
    "    if read_flag and line.startswith(\"mu\"):\n",
    "        mu_data1.append(line)\n",
    "    if read_flag and line.startswith(\"sigma\"):\n",
    "        var_data1.append(line)\n",
    "\n",
    "        \n",
    "for line in data1:\n",
    "    line = line.strip().split()\n",
    "    # node_name.append(line[0])\n",
    "    posterior_mean_baseml.append(float(line[1]))\n",
    "#     if line[3].startswith('('):\n",
    "#         lower_ci_baseml.append(float(line[3][1:-1]))\n",
    "#     else:\n",
    "#          lower_ci_baseml.append(float(line[3][:-1]))\n",
    "#     if line[4].startswith('('):\n",
    "#         upper_ci_baseml.append(float(line[4][1:-1]))\n",
    "#     else:\n",
    "#          upper_ci_baseml.append(float(line[4][:-1]))\n",
    "#         \n",
    "#     \n",
    "# for line in mu_data1:\n",
    "#     line = line.strip().split()\n",
    "#     # node_name.append(line[0])\n",
    "#     posterior_mean_mu_baseml.append(float(line[1]))\n",
    "#     lower_ci_mu_baseml.append(float(line[3][:-1]))\n",
    "#     upper_ci_mu_baseml.append(float(line[4][:-1]))\n",
    "    \n",
    "# for line in var_data1:\n",
    "#     line = line.strip().split()\n",
    "#     # node_name.append(line[0])\n",
    "#     posterior_mean_var_baseml.append(float(line[1]))\n",
    "#     lower_ci_var_baseml.append(float(line[3][:-1]))\n",
    "#     upper_ci_var_baseml.append(float(line[4][:-1]))"
   ],
   "id": "f75c012c6bef60a2",
   "outputs": [],
   "execution_count": 44
  },
  {
   "metadata": {
    "ExecuteTime": {
     "end_time": "2024-10-31T08:47:30.795924Z",
     "start_time": "2024-10-31T08:47:30.792148Z"
    }
   },
   "cell_type": "code",
   "source": [
    "import matplotlib.pyplot as plt\n",
    "import numpy as np\n",
    "\n",
    "# # Example data\n",
    "# # Posterior means for MCMCtree (x-axis) and McmcDate (y-axis)\n",
    "# posterior_mean_mcmctree = [100, 200, 300, 400, 500, 600, 700, 800, 900, 1000]\n",
    "# posterior_mean_mcmcdate = [110, 210, 310, 410, 510, 610, 710, 810, 910, 1010]\n",
    "# \n",
    "# # Credible intervals for MCMCtree\n",
    "# lower_ci_mcmctree = [90, 180, 270, 360, 450, 540, 630, 720, 810, 900]\n",
    "# upper_ci_mcmctree = [110, 220, 330, 440, 550, 660, 770, 880, 990, 1100]\n",
    "# \n",
    "# # Credible intervals for McmcDate\n",
    "# lower_ci_mcmcdate = [100, 200, 300, 400, 500, 600, 700, 800, 900, 1000]\n",
    "# upper_ci_mcmcdate = [120, 220, 320, 420, 520, 620, 720, 820, 920, 1020]\n",
    "\n",
    "# Calculate error bars\n",
    "# xerr = [np.array(lower_ci_baseml), \n",
    "#         np.array(upper_ci_baseml)]\n",
    "# yerr = [np.array(lower_ci_iqtree), \n",
    "#         np.array(upper_ci_iqtree)]\n",
    "# \n",
    "# # Plotting\n",
    "# fig, ax = plt.subplots(figsize=(15, 15))\n",
    "# ax.plot([-0.1,90], \n",
    "#         [-0.1, 90], \n",
    "#         'k--', label='y=x')\n",
    "# ax.errorbar(posterior_mean_baseml, posterior_mean_iqtree, \n",
    "#             xerr=xerr, yerr=yerr, fmt='*', ecolor='r', capsize=3, label='95% HPD CI')\n",
    "# \n",
    "# # Labels and title\n",
    "# ax.set_xlabel('Posterior mean age LG [100 Mya]', fontsize=18)\n",
    "# ax.set_ylabel('Posterior mean age LG+G4 [100 Mya]', fontsize=18)\n",
    "# ax.set_title('Posterior mean age comparison between LG and LG+G4 models [t116 ~ B(1.25,2.482)]')\n",
    "# ax.legend()\n",
    "# \n",
    "# # Show plot\n",
    "# # plt.show()\n",
    "# plt.savefig('./animal_origin_posterior_mean_age_comparison_LG_G4_c11.png')"
   ],
   "id": "12db486fa4fac82c",
   "outputs": [],
   "execution_count": 45
  },
  {
   "metadata": {
    "ExecuteTime": {
     "end_time": "2024-10-31T08:47:30.855837Z",
     "start_time": "2024-10-31T08:47:30.851609Z"
    }
   },
   "cell_type": "code",
   "source": "posterior_mean_baseml",
   "id": "917b2e31cff4b992",
   "outputs": [
    {
     "data": {
      "text/plain": [
       "[8.6238,\n",
       " 8.578,\n",
       " 7.9256,\n",
       " 6.7301,\n",
       " 6.4557,\n",
       " 6.1244,\n",
       " 5.6265,\n",
       " 2.6441,\n",
       " 3.9803,\n",
       " 2.8612,\n",
       " 2.4905,\n",
       " 1.9354,\n",
       " 1.3282,\n",
       " 0.891,\n",
       " 0.3598,\n",
       " 3.0053,\n",
       " 6.2095,\n",
       " 5.5369,\n",
       " 5.5946,\n",
       " 4.0403,\n",
       " 3.544,\n",
       " 3.2402,\n",
       " 6.135,\n",
       " 5.7912,\n",
       " 5.5501,\n",
       " 5.2502,\n",
       " 4.7911,\n",
       " 4.5993,\n",
       " 3.9975,\n",
       " 3.6241,\n",
       " 3.2875,\n",
       " 2.5015,\n",
       " 2.2227,\n",
       " 4.0967,\n",
       " 3.2785,\n",
       " 5.9671,\n",
       " 1.515,\n",
       " 5.7816,\n",
       " 5.3591,\n",
       " 4.7547,\n",
       " 4.3502,\n",
       " 3.2014,\n",
       " 3.5592,\n",
       " 4.5726,\n",
       " 4.3111,\n",
       " 3.8446,\n",
       " 3.1132,\n",
       " 3.9117,\n",
       " 7.1204,\n",
       " 5.4288,\n",
       " 3.4698,\n",
       " 2.761,\n",
       " 5.9806]"
      ]
     },
     "execution_count": 46,
     "metadata": {},
     "output_type": "execute_result"
    }
   ],
   "execution_count": 46
  },
  {
   "metadata": {
    "ExecuteTime": {
     "end_time": "2024-10-31T08:47:30.911552Z",
     "start_time": "2024-10-31T08:47:30.907593Z"
    }
   },
   "cell_type": "code",
   "source": "posterior_mean_iqtree",
   "id": "59ad8fd34f7bbf11",
   "outputs": [
    {
     "data": {
      "text/plain": [
       "[8.1338,\n",
       " 7.9974,\n",
       " 7.6017,\n",
       " 6.6252,\n",
       " 6.4296,\n",
       " 6.1505,\n",
       " 5.7167,\n",
       " 2.4643,\n",
       " 3.8971,\n",
       " 2.7361,\n",
       " 2.3992,\n",
       " 1.8433,\n",
       " 1.2347,\n",
       " 0.8185,\n",
       " 0.3506,\n",
       " 2.8685,\n",
       " 6.2844,\n",
       " 6.1035,\n",
       " 5.7012,\n",
       " 3.9794,\n",
       " 3.5612,\n",
       " 3.0749,\n",
       " 6.1243,\n",
       " 5.8707,\n",
       " 5.6997,\n",
       " 5.3805,\n",
       " 4.9404,\n",
       " 4.8069,\n",
       " 4.1666,\n",
       " 3.7866,\n",
       " 3.4636,\n",
       " 2.5644,\n",
       " 2.365,\n",
       " 4.2031,\n",
       " 3.381,\n",
       " 6.0178,\n",
       " 1.2283,\n",
       " 5.8915,\n",
       " 5.523,\n",
       " 4.9047,\n",
       " 4.5523,\n",
       " 3.3079,\n",
       " 3.8087,\n",
       " 4.7087,\n",
       " 4.5406,\n",
       " 4.2328,\n",
       " 3.031,\n",
       " 4.103,\n",
       " 6.9491,\n",
       " 5.2953,\n",
       " 3.2489,\n",
       " 2.3536,\n",
       " 5.6473]"
      ]
     },
     "execution_count": 47,
     "metadata": {},
     "output_type": "execute_result"
    }
   ],
   "execution_count": 47
  },
  {
   "metadata": {
    "ExecuteTime": {
     "end_time": "2024-10-31T08:47:31.303336Z",
     "start_time": "2024-10-31T08:47:31.096255Z"
    }
   },
   "cell_type": "code",
   "source": [
    "# Calculate error bars\n",
    "xerr = [np.array(lower_ci_baseml), \n",
    "        np.array(upper_ci_baseml)]\n",
    "yerr = [np.array(lower_ci_iqtree), \n",
    "        np.array(upper_ci_iqtree)]\n",
    "\n",
    "# Plotting\n",
    "fig, ax = plt.subplots(figsize=(9 ,9))\n",
    "ax.plot([-0.1,11], \n",
    "        [-0.1, 11], \n",
    "        'k--', label='y=x')\n",
    "points = ax.plot(posterior_mean_iqtree, posterior_mean_baseml, 'o', label='Posterior mean age')\n",
    "\n",
    "points[0].set_markerfacecolor('blue')\n",
    "# points[23].set_markerfacecolor('blue')# Set default face color (for other points)\n",
    "\n",
    "# Now plot the highlighted point with a different color\n",
    "ax.scatter(posterior_mean_iqtree[0], posterior_mean_baseml[0], color='red', s=100)\n",
    "ax.scatter(posterior_mean_iqtree[25], posterior_mean_baseml[25], color='red', s=100)\n",
    "# ax.scatter(posterior_mean_iqtree[0], posterior_mean_baseml[0], color='red', label='Root age')\n",
    "ax.annotate('root calibration:\\n B(5.5285, 8.3300)', \n",
    "        xy=(posterior_mean_iqtree[0], posterior_mean_baseml[0]), \n",
    "        xytext=(posterior_mean_iqtree[0] -2,  posterior_mean_baseml[0] + 0.3),  # Offset position for the label\n",
    "        arrowprops=dict(arrowstyle='->', color='red'),  # Arrow style\n",
    "        fontsize=12, color='red') \n",
    "ax.annotate('middle calibration:\\n B(5.2882,6.3610)', \n",
    "        xy=(posterior_mean_iqtree[25], posterior_mean_baseml[25]), \n",
    "        xytext=(posterior_mean_iqtree[25] -1.5,  posterior_mean_baseml[25] + 1.5),  # Offset position for the label\n",
    "        arrowprops=dict(arrowstyle='->', color='red'),  # Arrow style\n",
    "        fontsize=12, color='red') \n",
    " \n",
    "# Labels and title\n",
    "ax.set_ylabel('Posterior mean age LG+G4 [Mya]', fontsize=18)\n",
    "ax.set_xlabel('Posterior mean age LG+G4+C60 [Mya]', fontsize=18)\n",
    "# ax.set_title('Posterior mean age comparison between LG+G4 and LG+G4+C60 [t80 ~ B(5.2882,6.3610)]')\n",
    "ax.legend()\n",
    "\n",
    "# point_x = posterior_mean_baseml[0]  # Example: first point in the list\n",
    "# point_y = posterior_mean_iqtree[0]  # Example: first point in the list\n",
    "# ax.annotate('Root age', xy=(point_x, point_y), xytext=(point_x - 0.1, point_y - 0.1), color='red')\n",
    "# Show plot\n",
    "# plt.show()\n",
    "plt.savefig('./metazoa_posterior_mean_age_comparison_LG_G4_C60_middle_scatter.png')"
   ],
   "id": "592d0bb72aa1ad4c",
   "outputs": [
    {
     "data": {
      "text/plain": [
       "<Figure size 900x900 with 1 Axes>"
      ],
      "image/png": "[encoded data removed]"
     },
     "metadata": {},
     "output_type": "display_data"
    }
   ],
   "execution_count": 48
  },
  {
   "metadata": {
    "ExecuteTime": {
     "end_time": "2024-10-31T08:47:31.313867Z",
     "start_time": "2024-10-31T08:47:31.311547Z"
    }
   },
   "cell_type": "code",
   "source": [
    "# fig, ax = plt.subplots(figsize=(9 ,9))\n",
    "# ax.plot([0.01,0.04], \n",
    "#         [0.01, 0.04], \n",
    "#         'k--', label='y=x')\n",
    "# ax.plot(posterior_mean_mu_baseml, posterior_mean_mu_iqtree, 'o', label='Posterior mean rates for partitions')\n",
    "#  \n",
    "# # Labels and title\n",
    "# ax.set_xlabel('Posterior mean rate [LG]', fontsize=18)\n",
    "# ax.set_ylabel('Posterior mean rate [LG+G4]', fontsize=18)\n",
    "# ax.set_title('Posterior mean rate comparison between LG and LG+G4 [Cherry only calibration/IQ-TREE]')\n",
    "# ax.legend()\n",
    "# \n",
    "# # point_x = posterior_mean_baseml[0]  # Example: first point in the list\n",
    "# # point_y = posterior_mean_iqtree[0]  # Example: first point in the list\n",
    "# # ax.annotate('Root age', xy=(point_x, point_y), xytext=(point_x - 0.1, point_y - 0.1), color='red')\n",
    "# # Show plot\n",
    "# # plt.show()\n",
    "# plt.savefig('./animal_origin__posterior_mean_rate_comparison_LG_G4_all_scatter.png')"
   ],
   "id": "c6d69ee36c77970c",
   "outputs": [],
   "execution_count": 49
  },
  {
   "metadata": {
    "ExecuteTime": {
     "end_time": "2024-10-31T08:47:31.358527Z",
     "start_time": "2024-10-31T08:47:31.356755Z"
    }
   },
   "cell_type": "code",
   "source": "",
   "id": "ca69d5b521db3aa7",
   "outputs": [],
   "execution_count": null
  }
 ],
 "metadata": {
  "kernelspec": {
   "display_name": "Python 3",
   "language": "python",
   "name": "python3"
  },
  "language_info": {
   "codemirror_mode": {
    "name": "ipython",
    "version": 2
   },
   "file_extension": ".py",
   "mimetype": "text/x-python",
   "name": "python",
   "nbconvert_exporter": "python",
   "pygments_lexer": "ipython2",
   "version": "2.7.6"
  }
 },
 "nbformat": 4,
 "nbformat_minor": 5
}
