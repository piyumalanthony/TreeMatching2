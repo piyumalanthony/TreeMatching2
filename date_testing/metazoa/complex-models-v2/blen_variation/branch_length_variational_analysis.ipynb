{
 "cells": [
  {
   "cell_type": "code",
   "id": "initial_id",
   "metadata": {
    "collapsed": true,
    "ExecuteTime": {
     "end_time": "2024-11-27T05:30:18.809190Z",
     "start_time": "2024-11-27T05:30:18.585570Z"
    }
   },
   "source": [
    "import copy\n",
    "import numpy as np\n",
    "import matplotlib.pyplot as plt"
   ],
   "outputs": [],
   "execution_count": 6
  },
  {
   "metadata": {
    "ExecuteTime": {
     "end_time": "2024-11-27T05:30:18.940286Z",
     "start_time": "2024-11-27T05:30:18.938123Z"
    }
   },
   "cell_type": "code",
   "source": [
    "PM_MF_p_file = \"/home/piyumal/PHD/TimeTree/TreeMatching2/date_testing/metazoa/complex-models-v2/blen_variation/aln_10P_mf.nex.best_model.nex.PM_MF_p.in.BV\"\n",
    "\n",
    "LG_G4_file = \"/home/piyumal/PHD/TimeTree/TreeMatching2/date_testing/metazoa/complex-models-v2/blen_variation/aln_10P_v2.phy.LG_G4.in.BV\"\n",
    "\n",
    "LG_G4_C60_file = \"/home/piyumal/PHD/TimeTree/TreeMatching2/date_testing/metazoa/complex-models-v2/blen_variation/aln_10P_v2.phy.LG_G4_C60.in.BV\""
   ],
   "id": "3cd3ac3463b9f8e3",
   "outputs": [],
   "execution_count": 7
  },
  {
   "metadata": {
    "ExecuteTime": {
     "end_time": "2024-11-27T05:30:19.366129Z",
     "start_time": "2024-11-27T05:30:19.360928Z"
    }
   },
   "cell_type": "code",
   "source": [
    "import copy\n",
    "\n",
    "def parse_iqtree_file(file_path):\n",
    "    \"\"\"\n",
    "    Parses an IQ-TREE file to extract Hessian matrices and gradient vectors.\n",
    "\n",
    "    Parameters:\n",
    "    - file_path (str): Path to the IQ-TREE output file.\n",
    "\n",
    "    Returns:\n",
    "    - hessians (list): A list of Hessian matrices.\n",
    "    - gradient_vectors (list): A list of gradient vectors.\n",
    "    \"\"\"\n",
    "    hessians = []\n",
    "    treestrings = []\n",
    "    branch_lengths = []\n",
    "    gradient_vectors = []\n",
    "    hessian_list = []\n",
    "    counter = 0\n",
    "\n",
    "    with open(file_path) as f:\n",
    "        for k, line in enumerate(f.readlines()):\n",
    "            if counter == 3:\n",
    "                treestrings.append(line.strip())\n",
    "                print('tree string', k)\n",
    "            if counter == 5:\n",
    "                branch_lengths_numerical = line.strip().split()\n",
    "                branch_lengths.append([float(i) for i in branch_lengths_numerical])\n",
    "                print('branch lengths', k)\n",
    "            if counter == 7:\n",
    "                gradients_numerical = line.strip().split()\n",
    "                gradient_vectors.append([float(i) for i in gradients_numerical])\n",
    "                print('gradients', k)\n",
    "\n",
    "            if counter > 10 and line.strip() == '':\n",
    "                hessians.append(copy.deepcopy(hessian_list))\n",
    "                hessian_list = []\n",
    "                counter = 0\n",
    "                print('Hessian all string', k)\n",
    "            elif counter > 10:\n",
    "                hessian_row_numerical = line.strip().split()\n",
    "                hessian_list.append([float(i) for i in hessian_row_numerical])\n",
    "                print('local hessian', k)\n",
    "            counter += 1\n",
    "        else:\n",
    "            if hessian_list:  # Append the last Hessian if the file doesn't end with an empty line\n",
    "                hessians.append(copy.deepcopy(hessian_list))\n",
    "\n",
    "    return hessians[0], branch_lengths[0]\n"
   ],
   "id": "61e8ccf990446594",
   "outputs": [],
   "execution_count": 8
  },
  {
   "metadata": {
    "ExecuteTime": {
     "end_time": "2024-11-27T05:30:20.174760Z",
     "start_time": "2024-11-27T05:30:20.147480Z"
    }
   },
   "cell_type": "code",
   "source": [
    "LG_G4_h, LG_G4_b = parse_iqtree_file(LG_G4_file)\n",
    "MF_p_h, MF_p_b = parse_iqtree_file(PM_MF_p_file)\n",
    "LG_G4_C60_h, LG_G4_C60_b = parse_iqtree_file(LG_G4_C60_file)"
   ],
   "id": "d382a98d39a23121",
   "outputs": [
    {
     "name": "stdout",
     "output_type": "stream",
     "text": [
      "tree string 3\n",
      "branch lengths 5\n",
      "gradients 7\n",
      "local hessian 11\n",
      "local hessian 12\n",
      "local hessian 13\n",
      "local hessian 14\n",
      "local hessian 15\n",
      "local hessian 16\n",
      "local hessian 17\n",
      "local hessian 18\n",
      "local hessian 19\n",
      "local hessian 20\n",
      "local hessian 21\n",
      "local hessian 22\n",
      "local hessian 23\n",
      "local hessian 24\n",
      "local hessian 25\n",
      "local hessian 26\n",
      "local hessian 27\n",
      "local hessian 28\n",
      "local hessian 29\n",
      "local hessian 30\n",
      "local hessian 31\n",
      "local hessian 32\n",
      "local hessian 33\n",
      "local hessian 34\n",
      "local hessian 35\n",
      "local hessian 36\n",
      "local hessian 37\n",
      "local hessian 38\n",
      "local hessian 39\n",
      "local hessian 40\n",
      "local hessian 41\n",
      "local hessian 42\n",
      "local hessian 43\n",
      "local hessian 44\n",
      "local hessian 45\n",
      "local hessian 46\n",
      "local hessian 47\n",
      "local hessian 48\n",
      "local hessian 49\n",
      "local hessian 50\n",
      "local hessian 51\n",
      "local hessian 52\n",
      "local hessian 53\n",
      "local hessian 54\n",
      "local hessian 55\n",
      "local hessian 56\n",
      "local hessian 57\n",
      "local hessian 58\n",
      "local hessian 59\n",
      "local hessian 60\n",
      "local hessian 61\n",
      "local hessian 62\n",
      "local hessian 63\n",
      "local hessian 64\n",
      "local hessian 65\n",
      "local hessian 66\n",
      "local hessian 67\n",
      "local hessian 68\n",
      "local hessian 69\n",
      "local hessian 70\n",
      "local hessian 71\n",
      "local hessian 72\n",
      "local hessian 73\n",
      "local hessian 74\n",
      "local hessian 75\n",
      "local hessian 76\n",
      "local hessian 77\n",
      "local hessian 78\n",
      "local hessian 79\n",
      "local hessian 80\n",
      "local hessian 81\n",
      "local hessian 82\n",
      "local hessian 83\n",
      "local hessian 84\n",
      "local hessian 85\n",
      "local hessian 86\n",
      "local hessian 87\n",
      "local hessian 88\n",
      "local hessian 89\n",
      "local hessian 90\n",
      "local hessian 91\n",
      "local hessian 92\n",
      "local hessian 93\n",
      "local hessian 94\n",
      "local hessian 95\n",
      "local hessian 96\n",
      "local hessian 97\n",
      "local hessian 98\n",
      "local hessian 99\n",
      "local hessian 100\n",
      "local hessian 101\n",
      "local hessian 102\n",
      "local hessian 103\n",
      "local hessian 104\n",
      "local hessian 105\n",
      "local hessian 106\n",
      "local hessian 107\n",
      "local hessian 108\n",
      "local hessian 109\n",
      "local hessian 110\n",
      "local hessian 111\n",
      "local hessian 112\n",
      "local hessian 113\n",
      "local hessian 114\n",
      "local hessian 115\n",
      "tree string 3\n",
      "branch lengths 5\n",
      "gradients 7\n",
      "local hessian 11\n",
      "local hessian 12\n",
      "local hessian 13\n",
      "local hessian 14\n",
      "local hessian 15\n",
      "local hessian 16\n",
      "local hessian 17\n",
      "local hessian 18\n",
      "local hessian 19\n",
      "local hessian 20\n",
      "local hessian 21\n",
      "local hessian 22\n",
      "local hessian 23\n",
      "local hessian 24\n",
      "local hessian 25\n",
      "local hessian 26\n",
      "local hessian 27\n",
      "local hessian 28\n",
      "local hessian 29\n",
      "local hessian 30\n",
      "local hessian 31\n",
      "local hessian 32\n",
      "local hessian 33\n",
      "local hessian 34\n",
      "local hessian 35\n",
      "local hessian 36\n",
      "local hessian 37\n",
      "local hessian 38\n",
      "local hessian 39\n",
      "local hessian 40\n",
      "local hessian 41\n",
      "local hessian 42\n",
      "local hessian 43\n",
      "local hessian 44\n",
      "local hessian 45\n",
      "local hessian 46\n",
      "local hessian 47\n",
      "local hessian 48\n",
      "local hessian 49\n",
      "local hessian 50\n",
      "local hessian 51\n",
      "local hessian 52\n",
      "local hessian 53\n",
      "local hessian 54\n",
      "local hessian 55\n",
      "local hessian 56\n",
      "local hessian 57\n",
      "local hessian 58\n",
      "local hessian 59\n",
      "local hessian 60\n",
      "local hessian 61\n",
      "local hessian 62\n",
      "local hessian 63\n",
      "local hessian 64\n",
      "local hessian 65\n",
      "local hessian 66\n",
      "local hessian 67\n",
      "local hessian 68\n",
      "local hessian 69\n",
      "local hessian 70\n",
      "local hessian 71\n",
      "local hessian 72\n",
      "local hessian 73\n",
      "local hessian 74\n",
      "local hessian 75\n",
      "local hessian 76\n",
      "local hessian 77\n",
      "local hessian 78\n",
      "local hessian 79\n",
      "local hessian 80\n",
      "local hessian 81\n",
      "local hessian 82\n",
      "local hessian 83\n",
      "local hessian 84\n",
      "local hessian 85\n",
      "local hessian 86\n",
      "local hessian 87\n",
      "local hessian 88\n",
      "local hessian 89\n",
      "local hessian 90\n",
      "local hessian 91\n",
      "local hessian 92\n",
      "local hessian 93\n",
      "local hessian 94\n",
      "local hessian 95\n",
      "local hessian 96\n",
      "local hessian 97\n",
      "local hessian 98\n",
      "local hessian 99\n",
      "local hessian 100\n",
      "local hessian 101\n",
      "local hessian 102\n",
      "local hessian 103\n",
      "local hessian 104\n",
      "local hessian 105\n",
      "local hessian 106\n",
      "local hessian 107\n",
      "local hessian 108\n",
      "local hessian 109\n",
      "local hessian 110\n",
      "local hessian 111\n",
      "local hessian 112\n",
      "local hessian 113\n",
      "local hessian 114\n",
      "local hessian 115\n",
      "tree string 3\n",
      "branch lengths 5\n",
      "gradients 7\n",
      "local hessian 11\n",
      "local hessian 12\n",
      "local hessian 13\n",
      "local hessian 14\n",
      "local hessian 15\n",
      "local hessian 16\n",
      "local hessian 17\n",
      "local hessian 18\n",
      "local hessian 19\n",
      "local hessian 20\n",
      "local hessian 21\n",
      "local hessian 22\n",
      "local hessian 23\n",
      "local hessian 24\n",
      "local hessian 25\n",
      "local hessian 26\n",
      "local hessian 27\n",
      "local hessian 28\n",
      "local hessian 29\n",
      "local hessian 30\n",
      "local hessian 31\n",
      "local hessian 32\n",
      "local hessian 33\n",
      "local hessian 34\n",
      "local hessian 35\n",
      "local hessian 36\n",
      "local hessian 37\n",
      "local hessian 38\n",
      "local hessian 39\n",
      "local hessian 40\n",
      "local hessian 41\n",
      "local hessian 42\n",
      "local hessian 43\n",
      "local hessian 44\n",
      "local hessian 45\n",
      "local hessian 46\n",
      "local hessian 47\n",
      "local hessian 48\n",
      "local hessian 49\n",
      "local hessian 50\n",
      "local hessian 51\n",
      "local hessian 52\n",
      "local hessian 53\n",
      "local hessian 54\n",
      "local hessian 55\n",
      "local hessian 56\n",
      "local hessian 57\n",
      "local hessian 58\n",
      "local hessian 59\n",
      "local hessian 60\n",
      "local hessian 61\n",
      "local hessian 62\n",
      "local hessian 63\n",
      "local hessian 64\n",
      "local hessian 65\n",
      "local hessian 66\n",
      "local hessian 67\n",
      "local hessian 68\n",
      "local hessian 69\n",
      "local hessian 70\n",
      "local hessian 71\n",
      "local hessian 72\n",
      "local hessian 73\n",
      "local hessian 74\n",
      "local hessian 75\n",
      "local hessian 76\n",
      "local hessian 77\n",
      "local hessian 78\n",
      "local hessian 79\n",
      "local hessian 80\n",
      "local hessian 81\n",
      "local hessian 82\n",
      "local hessian 83\n",
      "local hessian 84\n",
      "local hessian 85\n",
      "local hessian 86\n",
      "local hessian 87\n",
      "local hessian 88\n",
      "local hessian 89\n",
      "local hessian 90\n",
      "local hessian 91\n",
      "local hessian 92\n",
      "local hessian 93\n",
      "local hessian 94\n",
      "local hessian 95\n",
      "local hessian 96\n",
      "local hessian 97\n",
      "local hessian 98\n",
      "local hessian 99\n",
      "local hessian 100\n",
      "local hessian 101\n",
      "local hessian 102\n",
      "local hessian 103\n",
      "local hessian 104\n",
      "local hessian 105\n",
      "local hessian 106\n",
      "local hessian 107\n",
      "local hessian 108\n",
      "local hessian 109\n",
      "local hessian 110\n",
      "local hessian 111\n",
      "local hessian 112\n",
      "local hessian 113\n",
      "local hessian 114\n",
      "local hessian 115\n"
     ]
    }
   ],
   "execution_count": 9
  },
  {
   "metadata": {
    "ExecuteTime": {
     "end_time": "2024-11-27T05:30:23.851534Z",
     "start_time": "2024-11-27T05:30:23.843368Z"
    }
   },
   "cell_type": "code",
   "source": [
    "LG_G4_h = np.array(LG_G4_h)\n",
    "LG_G4_b = np.array(LG_G4_b)\n",
    "\n",
    "MF_p_h = np.array(MF_p_h)\n",
    "MF_p_b = np.array(MF_p_b)\n",
    "\n",
    "LG_G4_C60_h = np.array(LG_G4_C60_h)\n",
    "LG_G4_C60_b = np.array(LG_G4_C60_b)"
   ],
   "id": "20386abf8fedbcc6",
   "outputs": [],
   "execution_count": 10
  },
  {
   "metadata": {
    "ExecuteTime": {
     "end_time": "2024-11-27T05:30:26.370833Z",
     "start_time": "2024-11-27T05:30:26.362759Z"
    }
   },
   "cell_type": "code",
   "source": "LG_G4_h.shape",
   "id": "159771b607c15d25",
   "outputs": [
    {
     "data": {
      "text/plain": [
       "(105, 105)"
      ]
     },
     "execution_count": 11,
     "metadata": {},
     "output_type": "execute_result"
    }
   ],
   "execution_count": 11
  },
  {
   "metadata": {
    "ExecuteTime": {
     "end_time": "2024-11-27T05:30:33.988646Z",
     "start_time": "2024-11-27T05:30:33.983796Z"
    }
   },
   "cell_type": "code",
   "source": "LG_G4_h",
   "id": "8354294f0d173c20",
   "outputs": [
    {
     "data": {
      "text/plain": [
       "array([[-3.01935e+05, -1.75196e+04, -2.26212e+03, ..., -3.59240e+04,\n",
       "        -4.85588e+03, -1.10417e+04],\n",
       "       [-1.75196e+04, -2.79412e+05, -3.20790e+04, ..., -5.77643e+03,\n",
       "         2.56869e+02, -2.98951e+03],\n",
       "       [-2.26212e+03, -3.20790e+04, -9.77181e+05, ...,  1.13222e+03,\n",
       "         3.98380e+03,  1.18467e+03],\n",
       "       ...,\n",
       "       [-3.59240e+04, -5.77643e+03,  1.13222e+03, ..., -1.08240e+05,\n",
       "        -6.79390e+03, -2.62650e+04],\n",
       "       [-4.85588e+03,  2.56869e+02,  3.98380e+03, ..., -6.79390e+03,\n",
       "        -6.49107e+04, -5.39287e+03],\n",
       "       [-1.10417e+04, -2.98951e+03,  1.18467e+03, ..., -2.62650e+04,\n",
       "        -5.39287e+03, -7.61844e+04]])"
      ]
     },
     "execution_count": 12,
     "metadata": {},
     "output_type": "execute_result"
    }
   ],
   "execution_count": 12
  },
  {
   "metadata": {
    "ExecuteTime": {
     "end_time": "2024-11-27T05:30:48.737521Z",
     "start_time": "2024-11-27T05:30:48.732859Z"
    }
   },
   "cell_type": "code",
   "source": "LG_G4_b.shape",
   "id": "2bf96d16c3b0c866",
   "outputs": [
    {
     "data": {
      "text/plain": [
       "(105,)"
      ]
     },
     "execution_count": 13,
     "metadata": {},
     "output_type": "execute_result"
    }
   ],
   "execution_count": 13
  },
  {
   "metadata": {
    "ExecuteTime": {
     "end_time": "2024-11-27T05:31:02.600591Z",
     "start_time": "2024-11-27T05:31:02.597042Z"
    }
   },
   "cell_type": "code",
   "source": "LG_G4_C60_h.shape",
   "id": "d3453b2b781eab43",
   "outputs": [
    {
     "data": {
      "text/plain": [
       "(105, 105)"
      ]
     },
     "execution_count": 14,
     "metadata": {},
     "output_type": "execute_result"
    }
   ],
   "execution_count": 14
  },
  {
   "metadata": {
    "ExecuteTime": {
     "end_time": "2024-11-27T05:31:14.132239Z",
     "start_time": "2024-11-27T05:31:14.127229Z"
    }
   },
   "cell_type": "code",
   "source": "LG_G4_C60_b.shape",
   "id": "4f9a8a8ac057a613",
   "outputs": [
    {
     "data": {
      "text/plain": [
       "(105,)"
      ]
     },
     "execution_count": 15,
     "metadata": {},
     "output_type": "execute_result"
    }
   ],
   "execution_count": 15
  },
  {
   "metadata": {
    "ExecuteTime": {
     "end_time": "2024-11-27T05:31:25.429941Z",
     "start_time": "2024-11-27T05:31:25.426623Z"
    }
   },
   "cell_type": "code",
   "source": "MF_p_h.shape",
   "id": "5c4982c4141e7dc6",
   "outputs": [
    {
     "data": {
      "text/plain": [
       "(105, 105)"
      ]
     },
     "execution_count": 16,
     "metadata": {},
     "output_type": "execute_result"
    }
   ],
   "execution_count": 16
  },
  {
   "metadata": {
    "ExecuteTime": {
     "end_time": "2024-11-27T05:31:26.129023Z",
     "start_time": "2024-11-27T05:31:26.125681Z"
    }
   },
   "cell_type": "code",
   "source": "MF_p_b.shape",
   "id": "4206d433ab360578",
   "outputs": [
    {
     "data": {
      "text/plain": [
       "(105,)"
      ]
     },
     "execution_count": 17,
     "metadata": {},
     "output_type": "execute_result"
    }
   ],
   "execution_count": 17
  },
  {
   "metadata": {
    "ExecuteTime": {
     "end_time": "2024-11-27T05:31:41.979960Z",
     "start_time": "2024-11-27T05:31:41.972957Z"
    }
   },
   "cell_type": "code",
   "source": "LG_G4_h_inv = np.linalg.inv((-1)*LG_G4_h)",
   "id": "a6f149e8f9af598d",
   "outputs": [],
   "execution_count": 18
  },
  {
   "metadata": {
    "ExecuteTime": {
     "end_time": "2024-11-27T05:31:54.941100Z",
     "start_time": "2024-11-27T05:31:54.938368Z"
    }
   },
   "cell_type": "code",
   "source": "identity = np.dot(LG_G4_h, LG_G4_h_inv)",
   "id": "1ec7a600c42ab451",
   "outputs": [],
   "execution_count": 19
  },
  {
   "metadata": {
    "ExecuteTime": {
     "end_time": "2024-11-27T04:56:02.359726Z",
     "start_time": "2024-11-27T04:56:02.355436Z"
    }
   },
   "cell_type": "code",
   "source": "identity",
   "id": "d38f7e3a2303a983",
   "outputs": [
    {
     "data": {
      "text/plain": [
       "array([[-1.00000000e+00,  1.07641094e-16,  2.99543825e-16, ...,\n",
       "        -7.39732402e-17, -1.85508686e-17, -4.68121229e-17],\n",
       "       [-2.55863821e-16, -1.00000000e+00,  3.01837818e-16, ...,\n",
       "        -2.51174650e-17, -1.02325815e-17,  5.45743328e-18],\n",
       "       [-6.70293796e-18,  2.12943300e-16, -1.00000000e+00, ...,\n",
       "         4.31307805e-17,  8.01877440e-18,  1.65380733e-17],\n",
       "       ...,\n",
       "       [ 1.29273224e-18,  1.51543271e-18, -1.49263025e-18, ...,\n",
       "        -1.00000000e+00, -6.52172115e-19,  6.99365004e-18],\n",
       "       [-1.55072807e-17, -1.18345740e-17, -7.18986712e-18, ...,\n",
       "         9.50265088e-19, -1.00000000e+00, -5.12116120e-17],\n",
       "       [-4.61276938e-18, -5.20552054e-18, -2.12130137e-18, ...,\n",
       "         1.19548218e-16,  5.92567309e-17, -1.00000000e+00]])"
      ]
     },
     "execution_count": 15,
     "metadata": {},
     "output_type": "execute_result"
    }
   ],
   "execution_count": 15
  },
  {
   "metadata": {
    "ExecuteTime": {
     "end_time": "2024-11-27T05:32:22.994853Z",
     "start_time": "2024-11-27T05:32:22.991720Z"
    }
   },
   "cell_type": "code",
   "source": "MF_p_h_inv = np.linalg.inv((-1)*MF_p_h)",
   "id": "8e0bd03a9bbea7ac",
   "outputs": [],
   "execution_count": 20
  },
  {
   "metadata": {
    "ExecuteTime": {
     "end_time": "2024-11-27T05:32:56.381590Z",
     "start_time": "2024-11-27T05:32:56.376085Z"
    }
   },
   "cell_type": "code",
   "source": "LG_G4_C60_h_inv = np.linalg.inv((-1)*LG_G4_C60_h)",
   "id": "9a0556385863fe4c",
   "outputs": [],
   "execution_count": 21
  },
  {
   "metadata": {
    "ExecuteTime": {
     "end_time": "2024-11-27T05:33:31.389806Z",
     "start_time": "2024-11-27T05:33:31.386882Z"
    }
   },
   "cell_type": "code",
   "source": "LG_G4_h_inv_diag = np.diag(LG_G4_h_inv)",
   "id": "c3c1f26f44c1b35b",
   "outputs": [],
   "execution_count": 22
  },
  {
   "metadata": {
    "ExecuteTime": {
     "end_time": "2024-11-27T05:33:38.270542Z",
     "start_time": "2024-11-27T05:33:38.267043Z"
    }
   },
   "cell_type": "code",
   "source": "LG_G4_h_inv_diag.shape",
   "id": "a6a353bedd9ce702",
   "outputs": [
    {
     "data": {
      "text/plain": [
       "(105,)"
      ]
     },
     "execution_count": 23,
     "metadata": {},
     "output_type": "execute_result"
    }
   ],
   "execution_count": 23
  },
  {
   "metadata": {
    "ExecuteTime": {
     "end_time": "2024-11-27T05:33:44.502654Z",
     "start_time": "2024-11-27T05:33:44.499972Z"
    }
   },
   "cell_type": "code",
   "source": "MF_p_h_inv_diag = np.diag(MF_p_h_inv)",
   "id": "b9b55fabc476b2df",
   "outputs": [],
   "execution_count": 24
  },
  {
   "metadata": {
    "ExecuteTime": {
     "end_time": "2024-11-27T05:33:44.970841Z",
     "start_time": "2024-11-27T05:33:44.967748Z"
    }
   },
   "cell_type": "code",
   "source": "MF_p_h_inv_diag.shape",
   "id": "872a4a9ffe81f51a",
   "outputs": [
    {
     "data": {
      "text/plain": [
       "(105,)"
      ]
     },
     "execution_count": 25,
     "metadata": {},
     "output_type": "execute_result"
    }
   ],
   "execution_count": 25
  },
  {
   "metadata": {
    "ExecuteTime": {
     "end_time": "2024-11-27T05:34:03.921761Z",
     "start_time": "2024-11-27T05:34:03.919135Z"
    }
   },
   "cell_type": "code",
   "source": "LG_G4_C60_h_inv_diag = np.diag(LG_G4_C60_h_inv)",
   "id": "c8839ca49e65e700",
   "outputs": [],
   "execution_count": 26
  },
  {
   "metadata": {
    "ExecuteTime": {
     "end_time": "2024-11-27T05:34:09.611979Z",
     "start_time": "2024-11-27T05:34:09.608185Z"
    }
   },
   "cell_type": "code",
   "source": "LG_G4_C60_h_inv_diag.shape",
   "id": "d063fd2feea94a18",
   "outputs": [
    {
     "data": {
      "text/plain": [
       "(105,)"
      ]
     },
     "execution_count": 27,
     "metadata": {},
     "output_type": "execute_result"
    }
   ],
   "execution_count": 27
  },
  {
   "metadata": {
    "ExecuteTime": {
     "end_time": "2024-11-27T05:35:51.988071Z",
     "start_time": "2024-11-27T05:35:51.870524Z"
    }
   },
   "cell_type": "code",
   "source": [
    "plt.figure(figsize=(6, 6))\n",
    "plt.scatter(LG_G4_h_inv_diag,LG_G4_C60_h_inv_diag)\n",
    "min_value = min(min(LG_G4_h_inv_diag), min(LG_G4_C60_h_inv_diag))\n",
    "max_value = max(max(LG_G4_h_inv_diag), max(LG_G4_C60_h_inv_diag))\n",
    "\n",
    "# Add y = x line\n",
    "plt.plot([min_value, max_value], [min_value, max_value], color='red', linestyle='--', label='y = x')\n",
    "\n",
    "\n",
    "# Add labels and title\n",
    "plt.xlabel('LG+G4')\n",
    "plt.ylabel('LG+G4+C60')\n",
    "plt.title('Branch-Length Variation')\n",
    "\n",
    "# Show the plot\n",
    "plt.savefig(\"/home/piyumal/PHD/TimeTree/TreeMatching2/date_testing/metazoa/complex-models-v2/blen_variation/bv_LG_G4_C60.png\")"
   ],
   "id": "f74e2068863ad417",
   "outputs": [
    {
     "data": {
      "text/plain": [
       "<Figure size 600x600 with 1 Axes>"
      ],
      "image/png": "[encoded data removed]"
     },
     "metadata": {},
     "output_type": "display_data"
    }
   ],
   "execution_count": 28
  },
  {
   "metadata": {
    "ExecuteTime": {
     "end_time": "2024-11-27T05:37:54.643550Z",
     "start_time": "2024-11-27T05:37:54.541826Z"
    }
   },
   "cell_type": "code",
   "source": [
    "plt.figure(figsize=(6, 6))\n",
    "plt.scatter(LG_G4_b, LG_G4_C60_b)\n",
    "min_value = min(min(LG_G4_b), min(LG_G4_C60_b))\n",
    "max_value = max(max(LG_G4_b), max(LG_G4_C60_b))\n",
    "\n",
    "# Add y = x line\n",
    "plt.plot([min_value, max_value], [min_value, max_value], color='red', linestyle='--', label='y = x')\n",
    "\n",
    "\n",
    "# Add labels and title\n",
    "plt.xlabel('LG+G4')\n",
    "plt.ylabel('LG+G4+C60')\n",
    "plt.title('Branch-Lengths')\n",
    "\n",
    "# Show the plot\n",
    "plt.savefig(\"/home/piyumal/PHD/TimeTree/TreeMatching2/date_testing/metazoa/complex-models-v2/blen_variation/b_LG_G4_C60.png\")"
   ],
   "id": "4243e2d449f4c671",
   "outputs": [
    {
     "data": {
      "text/plain": [
       "<Figure size 600x600 with 1 Axes>"
      ],
      "image/png": "[encoded data removed]"
     },
     "metadata": {},
     "output_type": "display_data"
    }
   ],
   "execution_count": 29
  },
  {
   "metadata": {
    "ExecuteTime": {
     "end_time": "2024-11-27T05:47:17.844419Z",
     "start_time": "2024-11-27T05:47:17.733558Z"
    }
   },
   "cell_type": "code",
   "source": [
    "plt.figure(figsize=(6, 6))\n",
    "plt.scatter(LG_G4_h_inv_diag, MF_p_h_inv_diag)\n",
    "min_value = min(min(LG_G4_h_inv_diag), min(MF_p_h_inv_diag))\n",
    "max_value = max(max(LG_G4_h_inv_diag), max(MF_p_h_inv_diag))\n",
    "\n",
    "# Add y = x line\n",
    "plt.plot([min_value, max_value], [min_value, max_value], color='red', linestyle='--', label='y = x')\n",
    "\n",
    "\n",
    "# Add labels and title\n",
    "plt.xlabel('LG+G4')\n",
    "plt.ylabel('ModelFinder[p]')\n",
    "plt.title('Branch-Length Variation')\n",
    "\n",
    "# Show the plot\n",
    "plt.savefig(\"/home/piyumal/PHD/TimeTree/TreeMatching2/date_testing/metazoa/complex-models-v2/blen_variation/bv_MF_P.png\")"
   ],
   "id": "d8cdc98c0657df0e",
   "outputs": [
    {
     "data": {
      "text/plain": [
       "<Figure size 600x600 with 1 Axes>"
      ],
      "image/png": "[encoded data removed]"
     },
     "metadata": {},
     "output_type": "display_data"
    }
   ],
   "execution_count": 30
  },
  {
   "metadata": {
    "ExecuteTime": {
     "end_time": "2024-11-27T05:48:40.581190Z",
     "start_time": "2024-11-27T05:48:40.482892Z"
    }
   },
   "cell_type": "code",
   "source": [
    "plt.figure(figsize=(6, 6))\n",
    "plt.scatter(LG_G4_b, MF_p_b)\n",
    "min_value = min(min(LG_G4_b), min(MF_p_b))\n",
    "max_value = max(max(LG_G4_b), max(MF_p_b))\n",
    "\n",
    "# Add y = x line\n",
    "plt.plot([min_value, max_value], [min_value, max_value], color='red', linestyle='--', label='y = x')\n",
    "\n",
    "\n",
    "# Add labels and title\n",
    "plt.xlabel('LG+G4')\n",
    "plt.ylabel('ModelFinder[p]')\n",
    "plt.title('Branch-Lengths')\n",
    "\n",
    "# Show the plot\n",
    "plt.savefig(\"/home/piyumal/PHD/TimeTree/TreeMatching2/date_testing/metazoa/complex-models-v2/blen_variation/b_MF_P.png\")"
   ],
   "id": "5659147655edf3ce",
   "outputs": [
    {
     "data": {
      "text/plain": [
       "<Figure size 600x600 with 1 Axes>"
      ],
      "image/png": "[encoded data removed]"
     },
     "metadata": {},
     "output_type": "display_data"
    }
   ],
   "execution_count": 31
  },
  {
   "metadata": {},
   "cell_type": "code",
   "outputs": [],
   "execution_count": null,
   "source": "",
   "id": "68fe65f0df5d52f5"
  }
 ],
 "metadata": {
  "kernelspec": {
   "display_name": "Python 3",
   "language": "python",
   "name": "python3"
  },
  "language_info": {
   "codemirror_mode": {
    "name": "ipython",
    "version": 2
   },
   "file_extension": ".py",
   "mimetype": "text/x-python",
   "name": "python",
   "nbconvert_exporter": "python",
   "pygments_lexer": "ipython2",
   "version": "2.7.6"
  }
 },
 "nbformat": 4,
 "nbformat_minor": 5
}
