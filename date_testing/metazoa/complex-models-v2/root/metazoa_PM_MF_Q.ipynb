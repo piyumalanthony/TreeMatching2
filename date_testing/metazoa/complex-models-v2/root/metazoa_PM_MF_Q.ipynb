{
 "cells": [
  {
   "cell_type": "code",
   "id": "initial_id",
   "metadata": {
    "collapsed": true,
    "ExecuteTime": {
     "end_time": "2024-10-31T10:30:12.017356Z",
     "start_time": "2024-10-31T10:30:12.012038Z"
    }
   },
   "source": [
    "# Code to get all the Posterior mean (95% Equal-tail CI) (95% HPD CI) HPD-CI-width from ./xenarthra_mcmc_out.txt\n",
    "import numpy as np\n",
    "import pandas as pd\n",
    "import matplotlib.pyplot as plt\n",
    "\n",
    "\n",
    "# Read the file\n",
    "file = open(\"PM_MF_Q_root_out.txt\", \"r\")\n",
    "lines = file.readlines()\n",
    "file.close()\n",
    "\n",
    "# Extract the data\n",
    "data = []\n",
    "mu_data = []\n",
    "var_data = []\n",
    "\n",
    "read_flag = False\n",
    "for line in lines:\n",
    "    if line.startswith(\"Posterior\"):\n",
    "        read_flag = True\n",
    "    if read_flag and line.startswith(\"t\"):\n",
    "        data.append(line)\n",
    "    if read_flag and line.startswith(\"mu\"):\n",
    "        mu_data.append(line)\n",
    "    if read_flag and line.startswith(\"sigma\"):\n",
    "        var_data.append(line)"
   ],
   "outputs": [],
   "execution_count": 16
  },
  {
   "metadata": {
    "ExecuteTime": {
     "end_time": "2024-10-31T10:30:12.067895Z",
     "start_time": "2024-10-31T10:30:12.063677Z"
    }
   },
   "cell_type": "code",
   "source": "data",
   "id": "54808ee54195795",
   "outputs": [
    {
     "data": {
      "text/plain": [
       "['t_n55          5.7198 ( 5.3011,  6.5128) ( 5.2313,  6.3964)  1.1651 (Jnode 106)\\n',\n",
       " 't_n56          5.5687 ( 5.0536,  6.3638) ( 4.9866,  6.2538)  1.2672 (Jnode 105)\\n',\n",
       " 't_n57          5.0927 ( 4.6121,  5.8252) ( 4.5354,  5.7114)  1.1760 (Jnode 104)\\n',\n",
       " 't_n58          4.2318 ( 3.8142,  4.8508) ( 3.7745,  4.7707)  0.9962 (Jnode 103)\\n',\n",
       " 't_n59          4.0574 ( 3.6549,  4.6535) ( 3.6109,  4.5688)  0.9579 (Jnode 102)\\n',\n",
       " 't_n60          3.8476 ( 3.4651,  4.4144) ( 3.4215,  4.3392)  0.9177 (Jnode 101)\\n',\n",
       " 't_n61          3.5293 ( 3.1738,  4.0480) ( 3.1294,  3.9816)  0.8522 (Jnode 100)\\n',\n",
       " 't_n62          1.6238 ( 1.3857,  1.9120) ( 1.3751,  1.8949)  0.5198 (Jnode 99)\\n',\n",
       " 't_n63          2.4986 ( 2.2199,  2.8817) ( 2.1896,  2.8395)  0.6499 (Jnode 98)\\n',\n",
       " 't_n64          1.7932 ( 1.5747,  2.0861) ( 1.5671,  2.0693)  0.5022 (Jnode 97)\\n',\n",
       " 't_n65          1.5630 ( 1.3663,  1.8240) ( 1.3554,  1.8045)  0.4491 (Jnode 96)\\n',\n",
       " 't_n66          1.2189 ( 1.0571,  1.4296) ( 1.0474,  1.4117)  0.3643 (Jnode 95)\\n',\n",
       " 't_n67          0.8344 ( 0.7155,  0.9852) ( 0.7065,  0.9713)  0.2648 (Jnode 94)\\n',\n",
       " 't_n68          0.5593 ( 0.4752,  0.6651) ( 0.4694,  0.6548)  0.1854 (Jnode 93)\\n',\n",
       " 't_n69          0.2254 ( 0.1852,  0.2750) ( 0.1823,  0.2709)  0.0887 (Jnode 92)\\n',\n",
       " 't_n70          1.8839 ( 1.6525,  2.1877) ( 1.6293,  2.1558)  0.5265 (Jnode 91)\\n',\n",
       " 't_n71          3.8963 ( 3.5092,  4.4682) ( 3.4611,  4.3873)  0.9262 (Jnode 90)\\n',\n",
       " 't_n72          3.4846 ( 3.1252,  3.9980) ( 3.0933,  3.9488)  0.8555 (Jnode 89)\\n',\n",
       " 't_n73          3.5123 ( 3.1541,  4.0322) ( 3.1216,  3.9676)  0.8461 (Jnode 88)\\n',\n",
       " 't_n74          2.5173 ( 2.2276,  2.9158) ( 2.1979,  2.8683)  0.6704 (Jnode 87)\\n',\n",
       " 't_n75          2.2176 ( 1.9493,  2.5758) ( 1.9241,  2.5387)  0.6146 (Jnode 86)\\n',\n",
       " 't_n76          2.0238 ( 1.7426,  2.3743) ( 1.7175,  2.3378)  0.6203 (Jnode 85)\\n',\n",
       " 't_n77          3.8165 ( 3.4352,  4.3758) ( 3.3890,  4.3017)  0.9127 (Jnode 84)\\n',\n",
       " 't_n78          3.5923 ( 3.2300,  4.1184) ( 3.1889,  4.0544)  0.8655 (Jnode 83)\\n',\n",
       " 't_n79          3.4221 ( 3.0762,  3.9292) ( 3.0361,  3.8643)  0.8281 (Jnode 82)\\n',\n",
       " 't_n80          3.2205 ( 2.8908,  3.6939) ( 2.8478,  3.6329)  0.7850 (Jnode 81)\\n',\n",
       " 't_n81          2.9407 ( 2.6360,  3.3733) ( 2.5992,  3.3220)  0.7228 (Jnode 80)\\n',\n",
       " 't_n82          2.8274 ( 2.5307,  3.2450) ( 2.4977,  3.1971)  0.6994 (Jnode 79)\\n',\n",
       " 't_n83          2.4562 ( 2.1932,  2.8252) ( 2.1665,  2.7823)  0.6158 (Jnode 78)\\n',\n",
       " 't_n84          2.2332 ( 1.9884,  2.5719) ( 1.9643,  2.5309)  0.5666 (Jnode 77)\\n',\n",
       " 't_n85          2.0283 ( 1.8030,  2.3377) ( 1.7772,  2.3006)  0.5234 (Jnode 76)\\n',\n",
       " 't_n86          1.5372 ( 1.3555,  1.7794) ( 1.3423,  1.7579)  0.4156 (Jnode 75)\\n',\n",
       " 't_n87          1.3702 ( 1.2031,  1.5899) ( 1.1911,  1.5695)  0.3784 (Jnode 74)\\n',\n",
       " 't_n88          2.5043 ( 2.2329,  2.8845) ( 2.2033,  2.8384)  0.6351 (Jnode 73)\\n',\n",
       " 't_n89          2.0033 ( 1.7741,  2.3188) ( 1.7566,  2.2884)  0.5318 (Jnode 72)\\n',\n",
       " 't_n90          3.7156 ( 3.3458,  4.2615) ( 3.3046,  4.1959)  0.8913 (Jnode 71)\\n',\n",
       " 't_n91          0.9102 ( 0.7292,  1.1207) ( 0.7208,  1.1104)  0.3897 (Jnode 70)\\n',\n",
       " 't_n92          3.5981 ( 3.2369,  4.1254) ( 3.1985,  4.0629)  0.8645 (Jnode 69)\\n',\n",
       " 't_n93          3.3342 ( 2.9975,  3.8260) ( 2.9671,  3.7766)  0.8095 (Jnode 68)\\n',\n",
       " 't_n94          2.9518 ( 2.6455,  3.3935) ( 2.6054,  3.3327)  0.7273 (Jnode 67)\\n',\n",
       " 't_n95          2.7092 ( 2.4234,  3.1157) ( 2.3956,  3.0664)  0.6709 (Jnode 66)\\n',\n",
       " 't_n96          1.9865 ( 1.7545,  2.2989) ( 1.7343,  2.2677)  0.5334 (Jnode 65)\\n',\n",
       " 't_n97          2.2152 ( 1.9677,  2.5570) ( 1.9381,  2.5084)  0.5703 (Jnode 64)\\n',\n",
       " 't_n98          2.8454 ( 2.5503,  3.2675) ( 2.5188,  3.2191)  0.7003 (Jnode 63)\\n',\n",
       " 't_n99          2.6875 ( 2.4069,  3.0909) ( 2.3826,  3.0503)  0.6677 (Jnode 62)\\n',\n",
       " 't_n100         2.4094 ( 2.1456,  2.7781) ( 2.1120,  2.7312)  0.6192 (Jnode 61)\\n',\n",
       " 't_n101         1.9326 ( 1.7038,  2.2397) ( 1.6858,  2.2095)  0.5237 (Jnode 60)\\n',\n",
       " 't_n102         2.4088 ( 2.1269,  2.7905) ( 2.0974,  2.7446)  0.6471 (Jnode 59)\\n',\n",
       " 't_n103         4.5524 ( 4.1100,  5.2120) ( 4.0658,  5.1363)  1.0706 (Jnode 58)\\n',\n",
       " 't_n104         3.4274 ( 3.0485,  3.9440) ( 3.0067,  3.8875)  0.8808 (Jnode 57)\\n',\n",
       " 't_n105         2.1738 ( 1.8687,  2.5514) ( 1.8587,  2.5326)  0.6739 (Jnode 56)\\n',\n",
       " 't_n106         1.7050 ( 1.4137,  2.0522) ( 1.3859,  2.0203)  0.6344 (Jnode 55)\\n',\n",
       " 't_n107         4.0069 ( 3.5308,  4.7068) ( 3.4714,  4.6126)  1.1412 (Jnode 54)\\n']"
      ]
     },
     "execution_count": 17,
     "metadata": {},
     "output_type": "execute_result"
    }
   ],
   "execution_count": 17
  },
  {
   "metadata": {
    "ExecuteTime": {
     "end_time": "2024-10-31T10:30:12.257014Z",
     "start_time": "2024-10-31T10:30:12.253775Z"
    }
   },
   "cell_type": "code",
   "source": [
    "node_name = []\n",
    "posterior_mean_iqtree = []\n",
    "posterior_mean_baseml = []\n",
    "\n",
    "posterior_mean_mu_iqtree = []\n",
    "posterior_mean_mu_baseml = []\n",
    "\n",
    "posterior_mean_var_iqtree = []\n",
    "posterior_mean_var_baseml = []\n",
    "\n",
    "lower_ci_iqtree = []\n",
    "upper_ci_iqtree = []\n",
    "\n",
    "lower_ci_mu_iqtree = []\n",
    "upper_ci_mu_iqtree = []\n",
    "\n",
    "lower_ci_var_iqtree = []\n",
    "upper_ci_var_iqtree = []\n",
    "\n",
    "# Credible intervals for McmcDate\n",
    "lower_ci_baseml = []\n",
    "upper_ci_baseml = []\n",
    "\n",
    "lower_ci_mu_baseml = []\n",
    "upper_ci_mu_baseml = []\n",
    "\n",
    "lower_ci_var_baseml = []\n",
    "upper_ci_var_baseml = []"
   ],
   "id": "e5cf93a69d327e61",
   "outputs": [],
   "execution_count": 18
  },
  {
   "metadata": {
    "ExecuteTime": {
     "end_time": "2024-10-31T10:30:12.304272Z",
     "start_time": "2024-10-31T10:30:12.300131Z"
    }
   },
   "cell_type": "code",
   "source": [
    "for line in data:\n",
    "    line = line.strip().split()\n",
    "    node_name.append(line[0])\n",
    "    posterior_mean_iqtree.append(float(line[1]))\n",
    "#     if line[3].startswith('('):\n",
    "#         lower_ci_iqtree.append(float(line[3][1:-1]))\n",
    "#     else:\n",
    "#         lower_ci_iqtree.append(float(line[3][1:-1]))\n",
    "#     if line[4].startswith('('):\n",
    "#         upper_ci_iqtree.append(float(line[4][1:-1]))\n",
    "#     else:\n",
    "#         upper_ci_iqtree.append(float(line[4][:-1]))\n",
    "#     # posterior_mean_baseml.append(float(line[4]))\n",
    "#     # lower_ci_baseml.append(float(line[5]))\n",
    "#     # upper_ci_baseml.append(float(line[6]))\n",
    "# \n",
    "# for line in mu_data:\n",
    "#     line = line.strip().split()\n",
    "#     # node_name.append(line[0])\n",
    "#     posterior_mean_mu_iqtree.append(float(line[1]))\n",
    "#     lower_ci_mu_iqtree.append(float(line[3][:-1]))\n",
    "#     upper_ci_mu_iqtree.append(float(line[4][:-1]))\n",
    "#\n",
    "# for line in var_data:\n",
    "#     line = line.strip().split()\n",
    "#     # node_name.append(line[0])\n",
    "#     posterior_mean_var_iqtree.append(float(line[1]))\n",
    "#     lower_ci_var_iqtree.append(float(line[3][:-1]))\n",
    "#     upper_ci_var_iqtree.append(float(line[4][:-1]))"
   ],
   "id": "4e79ee928ea76b59",
   "outputs": [],
   "execution_count": 19
  },
  {
   "metadata": {
    "ExecuteTime": {
     "end_time": "2024-10-31T10:30:12.355606Z",
     "start_time": "2024-10-31T10:30:12.352085Z"
    }
   },
   "cell_type": "code",
   "source": "node_name",
   "id": "2c17f55ec9626a0b",
   "outputs": [
    {
     "data": {
      "text/plain": [
       "['t_n55',\n",
       " 't_n56',\n",
       " 't_n57',\n",
       " 't_n58',\n",
       " 't_n59',\n",
       " 't_n60',\n",
       " 't_n61',\n",
       " 't_n62',\n",
       " 't_n63',\n",
       " 't_n64',\n",
       " 't_n65',\n",
       " 't_n66',\n",
       " 't_n67',\n",
       " 't_n68',\n",
       " 't_n69',\n",
       " 't_n70',\n",
       " 't_n71',\n",
       " 't_n72',\n",
       " 't_n73',\n",
       " 't_n74',\n",
       " 't_n75',\n",
       " 't_n76',\n",
       " 't_n77',\n",
       " 't_n78',\n",
       " 't_n79',\n",
       " 't_n80',\n",
       " 't_n81',\n",
       " 't_n82',\n",
       " 't_n83',\n",
       " 't_n84',\n",
       " 't_n85',\n",
       " 't_n86',\n",
       " 't_n87',\n",
       " 't_n88',\n",
       " 't_n89',\n",
       " 't_n90',\n",
       " 't_n91',\n",
       " 't_n92',\n",
       " 't_n93',\n",
       " 't_n94',\n",
       " 't_n95',\n",
       " 't_n96',\n",
       " 't_n97',\n",
       " 't_n98',\n",
       " 't_n99',\n",
       " 't_n100',\n",
       " 't_n101',\n",
       " 't_n102',\n",
       " 't_n103',\n",
       " 't_n104',\n",
       " 't_n105',\n",
       " 't_n106',\n",
       " 't_n107']"
      ]
     },
     "execution_count": 20,
     "metadata": {},
     "output_type": "execute_result"
    }
   ],
   "execution_count": 20
  },
  {
   "metadata": {
    "ExecuteTime": {
     "end_time": "2024-10-31T10:30:12.417258Z",
     "start_time": "2024-10-31T10:30:12.413501Z"
    }
   },
   "cell_type": "code",
   "source": "posterior_mean_iqtree",
   "id": "24a55c806a41f33e",
   "outputs": [
    {
     "data": {
      "text/plain": [
       "[5.7198,\n",
       " 5.5687,\n",
       " 5.0927,\n",
       " 4.2318,\n",
       " 4.0574,\n",
       " 3.8476,\n",
       " 3.5293,\n",
       " 1.6238,\n",
       " 2.4986,\n",
       " 1.7932,\n",
       " 1.563,\n",
       " 1.2189,\n",
       " 0.8344,\n",
       " 0.5593,\n",
       " 0.2254,\n",
       " 1.8839,\n",
       " 3.8963,\n",
       " 3.4846,\n",
       " 3.5123,\n",
       " 2.5173,\n",
       " 2.2176,\n",
       " 2.0238,\n",
       " 3.8165,\n",
       " 3.5923,\n",
       " 3.4221,\n",
       " 3.2205,\n",
       " 2.9407,\n",
       " 2.8274,\n",
       " 2.4562,\n",
       " 2.2332,\n",
       " 2.0283,\n",
       " 1.5372,\n",
       " 1.3702,\n",
       " 2.5043,\n",
       " 2.0033,\n",
       " 3.7156,\n",
       " 0.9102,\n",
       " 3.5981,\n",
       " 3.3342,\n",
       " 2.9518,\n",
       " 2.7092,\n",
       " 1.9865,\n",
       " 2.2152,\n",
       " 2.8454,\n",
       " 2.6875,\n",
       " 2.4094,\n",
       " 1.9326,\n",
       " 2.4088,\n",
       " 4.5524,\n",
       " 3.4274,\n",
       " 2.1738,\n",
       " 1.705,\n",
       " 4.0069]"
      ]
     },
     "execution_count": 21,
     "metadata": {},
     "output_type": "execute_result"
    }
   ],
   "execution_count": 21
  },
  {
   "metadata": {
    "ExecuteTime": {
     "end_time": "2024-10-31T10:30:12.472570Z",
     "start_time": "2024-10-31T10:30:12.468947Z"
    }
   },
   "cell_type": "code",
   "source": "lower_ci_iqtree",
   "id": "388aa27ad336d43f",
   "outputs": [
    {
     "data": {
      "text/plain": [
       "[]"
      ]
     },
     "execution_count": 22,
     "metadata": {},
     "output_type": "execute_result"
    }
   ],
   "execution_count": 22
  },
  {
   "metadata": {
    "ExecuteTime": {
     "end_time": "2024-10-31T10:30:12.525981Z",
     "start_time": "2024-10-31T10:30:12.522658Z"
    }
   },
   "cell_type": "code",
   "source": "upper_ci_iqtree",
   "id": "816e569fb763e797",
   "outputs": [
    {
     "data": {
      "text/plain": [
       "[]"
      ]
     },
     "execution_count": 23,
     "metadata": {},
     "output_type": "execute_result"
    }
   ],
   "execution_count": 23
  },
  {
   "metadata": {
    "ExecuteTime": {
     "end_time": "2024-10-31T10:30:12.579134Z",
     "start_time": "2024-10-31T10:30:12.573012Z"
    }
   },
   "cell_type": "code",
   "source": [
    "file_LG = open(\"LG_G4_codeml_root_out.txt\", \"r\")\n",
    "lines1 = file_LG.readlines()\n",
    "file_LG.close()\n",
    "\n",
    "# Extract the data\n",
    "data1 = []\n",
    "mu_data1 = []\n",
    "var_data1 = []\n",
    "\n",
    "read_flag = False\n",
    "for line in lines1:\n",
    "    if line.startswith(\"Posterior\"):\n",
    "        read_flag = True\n",
    "    if read_flag and line.startswith(\"t\"):\n",
    "        data1.append(line)\n",
    "    if read_flag and line.startswith(\"mu\"):\n",
    "        mu_data1.append(line)\n",
    "    if read_flag and line.startswith(\"sigma\"):\n",
    "        var_data1.append(line)\n",
    "\n",
    "        \n",
    "for line in data1:\n",
    "    line = line.strip().split()\n",
    "    # node_name.append(line[0])\n",
    "    posterior_mean_baseml.append(float(line[1]))\n",
    "#     if line[3].startswith('('):\n",
    "#         lower_ci_baseml.append(float(line[3][1:-1]))\n",
    "#     else:\n",
    "#          lower_ci_baseml.append(float(line[3][:-1]))\n",
    "#     if line[4].startswith('('):\n",
    "#         upper_ci_baseml.append(float(line[4][1:-1]))\n",
    "#     else:\n",
    "#          upper_ci_baseml.append(float(line[4][:-1]))\n",
    "#         \n",
    "#     \n",
    "# for line in mu_data1:\n",
    "#     line = line.strip().split()\n",
    "#     # node_name.append(line[0])\n",
    "#     posterior_mean_mu_baseml.append(float(line[1]))\n",
    "#     lower_ci_mu_baseml.append(float(line[3][:-1]))\n",
    "#     upper_ci_mu_baseml.append(float(line[4][:-1]))\n",
    "    \n",
    "# for line in var_data1:\n",
    "#     line = line.strip().split()\n",
    "#     # node_name.append(line[0])\n",
    "#     posterior_mean_var_baseml.append(float(line[1]))\n",
    "#     lower_ci_var_baseml.append(float(line[3][:-1]))\n",
    "#     upper_ci_var_baseml.append(float(line[4][:-1]))"
   ],
   "id": "f75c012c6bef60a2",
   "outputs": [],
   "execution_count": 24
  },
  {
   "metadata": {
    "ExecuteTime": {
     "end_time": "2024-10-31T10:30:12.629314Z",
     "start_time": "2024-10-31T10:30:12.624324Z"
    }
   },
   "cell_type": "code",
   "source": [
    "import matplotlib.pyplot as plt\n",
    "import numpy as np\n",
    "\n",
    "# # Example data\n",
    "# # Posterior means for MCMCtree (x-axis) and McmcDate (y-axis)\n",
    "# posterior_mean_mcmctree = [100, 200, 300, 400, 500, 600, 700, 800, 900, 1000]\n",
    "# posterior_mean_mcmcdate = [110, 210, 310, 410, 510, 610, 710, 810, 910, 1010]\n",
    "# \n",
    "# # Credible intervals for MCMCtree\n",
    "# lower_ci_mcmctree = [90, 180, 270, 360, 450, 540, 630, 720, 810, 900]\n",
    "# upper_ci_mcmctree = [110, 220, 330, 440, 550, 660, 770, 880, 990, 1100]\n",
    "# \n",
    "# # Credible intervals for McmcDate\n",
    "# lower_ci_mcmcdate = [100, 200, 300, 400, 500, 600, 700, 800, 900, 1000]\n",
    "# upper_ci_mcmcdate = [120, 220, 320, 420, 520, 620, 720, 820, 920, 1020]\n",
    "\n",
    "# Calculate error bars\n",
    "# xerr = [np.array(lower_ci_baseml), \n",
    "#         np.array(upper_ci_baseml)]\n",
    "# yerr = [np.array(lower_ci_iqtree), \n",
    "#         np.array(upper_ci_iqtree)]\n",
    "# \n",
    "# # Plotting\n",
    "# fig, ax = plt.subplots(figsize=(15, 15))\n",
    "# ax.plot([-0.1,90], \n",
    "#         [-0.1, 90], \n",
    "#         'k--', label='y=x')\n",
    "# ax.errorbar(posterior_mean_baseml, posterior_mean_iqtree, \n",
    "#             xerr=xerr, yerr=yerr, fmt='*', ecolor='r', capsize=3, label='95% HPD CI')\n",
    "# \n",
    "# # Labels and title\n",
    "# ax.set_xlabel('Posterior mean age LG [100 Mya]', fontsize=18)\n",
    "# ax.set_ylabel('Posterior mean age LG+G4 [100 Mya]', fontsize=18)\n",
    "# ax.set_title('Posterior mean age comparison between LG and LG+G4 models [t116 ~ B(1.25,2.482)]')\n",
    "# ax.legend()\n",
    "# \n",
    "# # Show plot\n",
    "# # plt.show()\n",
    "# plt.savefig('./animal_origin_posterior_mean_age_comparison_LG_G4_c11.png')"
   ],
   "id": "12db486fa4fac82c",
   "outputs": [],
   "execution_count": 25
  },
  {
   "metadata": {
    "ExecuteTime": {
     "end_time": "2024-10-31T10:30:12.684623Z",
     "start_time": "2024-10-31T10:30:12.679601Z"
    }
   },
   "cell_type": "code",
   "source": "posterior_mean_baseml",
   "id": "917b2e31cff4b992",
   "outputs": [
    {
     "data": {
      "text/plain": [
       "[5.7188,\n",
       " 5.5667,\n",
       " 5.0832,\n",
       " 4.2186,\n",
       " 4.0408,\n",
       " 3.8279,\n",
       " 3.5116,\n",
       " 1.6426,\n",
       " 2.4792,\n",
       " 1.7826,\n",
       " 1.5518,\n",
       " 1.2065,\n",
       " 0.8283,\n",
       " 0.5556,\n",
       " 0.2245,\n",
       " 1.8719,\n",
       " 3.8822,\n",
       " 3.4525,\n",
       " 3.4913,\n",
       " 2.5127,\n",
       " 2.2025,\n",
       " 2.011,\n",
       " 3.8099,\n",
       " 3.5784,\n",
       " 3.4161,\n",
       " 3.2076,\n",
       " 2.9284,\n",
       " 2.8091,\n",
       " 2.4376,\n",
       " 2.209,\n",
       " 2.0031,\n",
       " 1.5239,\n",
       " 1.3545,\n",
       " 2.4978,\n",
       " 1.9948,\n",
       " 3.7013,\n",
       " 0.9326,\n",
       " 3.5827,\n",
       " 3.3162,\n",
       " 2.9387,\n",
       " 2.6872,\n",
       " 1.9759,\n",
       " 2.1969,\n",
       " 2.8249,\n",
       " 2.6625,\n",
       " 2.3731,\n",
       " 1.9192,\n",
       " 2.4095,\n",
       " 4.5358,\n",
       " 3.4153,\n",
       " 2.1653,\n",
       " 1.7338,\n",
       " 4.0553]"
      ]
     },
     "execution_count": 26,
     "metadata": {},
     "output_type": "execute_result"
    }
   ],
   "execution_count": 26
  },
  {
   "metadata": {
    "ExecuteTime": {
     "end_time": "2024-10-31T10:30:12.743748Z",
     "start_time": "2024-10-31T10:30:12.739292Z"
    }
   },
   "cell_type": "code",
   "source": "posterior_mean_iqtree",
   "id": "59ad8fd34f7bbf11",
   "outputs": [
    {
     "data": {
      "text/plain": [
       "[5.7198,\n",
       " 5.5687,\n",
       " 5.0927,\n",
       " 4.2318,\n",
       " 4.0574,\n",
       " 3.8476,\n",
       " 3.5293,\n",
       " 1.6238,\n",
       " 2.4986,\n",
       " 1.7932,\n",
       " 1.563,\n",
       " 1.2189,\n",
       " 0.8344,\n",
       " 0.5593,\n",
       " 0.2254,\n",
       " 1.8839,\n",
       " 3.8963,\n",
       " 3.4846,\n",
       " 3.5123,\n",
       " 2.5173,\n",
       " 2.2176,\n",
       " 2.0238,\n",
       " 3.8165,\n",
       " 3.5923,\n",
       " 3.4221,\n",
       " 3.2205,\n",
       " 2.9407,\n",
       " 2.8274,\n",
       " 2.4562,\n",
       " 2.2332,\n",
       " 2.0283,\n",
       " 1.5372,\n",
       " 1.3702,\n",
       " 2.5043,\n",
       " 2.0033,\n",
       " 3.7156,\n",
       " 0.9102,\n",
       " 3.5981,\n",
       " 3.3342,\n",
       " 2.9518,\n",
       " 2.7092,\n",
       " 1.9865,\n",
       " 2.2152,\n",
       " 2.8454,\n",
       " 2.6875,\n",
       " 2.4094,\n",
       " 1.9326,\n",
       " 2.4088,\n",
       " 4.5524,\n",
       " 3.4274,\n",
       " 2.1738,\n",
       " 1.705,\n",
       " 4.0069]"
      ]
     },
     "execution_count": 27,
     "metadata": {},
     "output_type": "execute_result"
    }
   ],
   "execution_count": 27
  },
  {
   "metadata": {
    "ExecuteTime": {
     "end_time": "2024-10-31T10:30:13.097509Z",
     "start_time": "2024-10-31T10:30:12.925797Z"
    }
   },
   "cell_type": "code",
   "source": [
    "# Calculate error bars\n",
    "xerr = [np.array(lower_ci_baseml), \n",
    "        np.array(upper_ci_baseml)]\n",
    "yerr = [np.array(lower_ci_iqtree), \n",
    "        np.array(upper_ci_iqtree)]\n",
    "\n",
    "# Plotting\n",
    "fig, ax = plt.subplots(figsize=(9 ,9))\n",
    "ax.plot([-0.1,11], \n",
    "        [-0.1,11], \n",
    "        'k--', label='y=x')\n",
    "points = ax.plot(posterior_mean_iqtree, posterior_mean_baseml, 'o', label='Posterior mean age')\n",
    "\n",
    "points[0].set_markerfacecolor('blue')\n",
    "# points[23].set_markerfacecolor('blue')# Set default face color (for other points)\n",
    "\n",
    "# Now plot the highlighted point with a different color\n",
    "ax.scatter(posterior_mean_iqtree[0], posterior_mean_baseml[0], color='red', s=100)\n",
    "# ax.scatter(posterior_mean_iqtree[25], posterior_mean_baseml[25], color='red', s=100)\n",
    "# ax.scatter(posterior_mean_iqtree[0], posterior_mean_baseml[0], color='red', label='Root age')\n",
    "ax.annotate('root calibration:\\n B(5.5285, 8.3300)', \n",
    "        xy=(posterior_mean_iqtree[0], posterior_mean_baseml[0]), \n",
    "        xytext=(posterior_mean_iqtree[0] -2,  posterior_mean_baseml[0] + 0.3),  # Offset position for the label\n",
    "        arrowprops=dict(arrowstyle='->', color='red'),  # Arrow style\n",
    "        fontsize=12, color='red') \n",
    " \n",
    "# Labels and title\n",
    "ax.set_ylabel('Posterior mean age LG+G4 [Mya]', fontsize=18)\n",
    "ax.set_xlabel('Posterior mean age Partition MF [-Q] [Mya]', fontsize=18)\n",
    "# ax.set_title('Posterior mean age comparison between LG and Partition MF [-Q] [t55 ~ B(5.5285, 8.3300)]')\n",
    "ax.legend()\n",
    "\n",
    "# point_x = posterior_mean_baseml[0]  # Example: first point in the list\n",
    "# point_y = posterior_mean_iqtree[0]  # Example: first point in the list\n",
    "# ax.annotate('Root age', xy=(point_x, point_y), xytext=(point_x - 0.1, point_y - 0.1), color='red')\n",
    "# Show plot\n",
    "# plt.show()\n",
    "plt.savefig('./metazoa_posterior_mean_age_comparison_partition_MF_Q_root_scatter.png')"
   ],
   "id": "592d0bb72aa1ad4c",
   "outputs": [
    {
     "data": {
      "text/plain": [
       "<Figure size 900x900 with 1 Axes>"
      ],
      "image/png": "[encoded data removed]"
     },
     "metadata": {},
     "output_type": "display_data"
    }
   ],
   "execution_count": 28
  },
  {
   "metadata": {
    "ExecuteTime": {
     "end_time": "2024-10-31T10:30:13.122345Z",
     "start_time": "2024-10-31T10:30:13.119687Z"
    }
   },
   "cell_type": "code",
   "source": [
    "# fig, ax = plt.subplots(figsize=(9 ,9))\n",
    "# ax.plot([0.01,0.04], \n",
    "#         [0.01, 0.04], \n",
    "#         'k--', label='y=x')\n",
    "# ax.plot(posterior_mean_mu_baseml, posterior_mean_mu_iqtree, 'o', label='Posterior mean rates for partitions')\n",
    "#  \n",
    "# # Labels and title\n",
    "# ax.set_xlabel('Posterior mean rate [LG]', fontsize=18)\n",
    "# ax.set_ylabel('Posterior mean rate [LG+G4]', fontsize=18)\n",
    "# ax.set_title('Posterior mean rate comparison between LG and LG+G4 [Cherry only calibration/IQ-TREE]')\n",
    "# ax.legend()\n",
    "# \n",
    "# # point_x = posterior_mean_baseml[0]  # Example: first point in the list\n",
    "# # point_y = posterior_mean_iqtree[0]  # Example: first point in the list\n",
    "# # ax.annotate('Root age', xy=(point_x, point_y), xytext=(point_x - 0.1, point_y - 0.1), color='red')\n",
    "# # Show plot\n",
    "# # plt.show()\n",
    "# plt.savefig('./animal_origin__posterior_mean_rate_comparison_LG_G4_all_scatter.png')"
   ],
   "id": "c6d69ee36c77970c",
   "outputs": [],
   "execution_count": 29
  },
  {
   "metadata": {
    "ExecuteTime": {
     "end_time": "2024-10-31T10:30:13.177076Z",
     "start_time": "2024-10-31T10:30:13.175150Z"
    }
   },
   "cell_type": "code",
   "source": "",
   "id": "ca69d5b521db3aa7",
   "outputs": [],
   "execution_count": null
  }
 ],
 "metadata": {
  "kernelspec": {
   "display_name": "Python 3",
   "language": "python",
   "name": "python3"
  },
  "language_info": {
   "codemirror_mode": {
    "name": "ipython",
    "version": 2
   },
   "file_extension": ".py",
   "mimetype": "text/x-python",
   "name": "python",
   "nbconvert_exporter": "python",
   "pygments_lexer": "ipython2",
   "version": "2.7.6"
  }
 },
 "nbformat": 4,
 "nbformat_minor": 5
}
