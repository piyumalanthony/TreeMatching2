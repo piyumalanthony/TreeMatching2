{
 "cells": [
  {
   "cell_type": "code",
   "id": "initial_id",
   "metadata": {
    "collapsed": true,
    "ExecuteTime": {
     "end_time": "2024-10-31T08:43:58.935382Z",
     "start_time": "2024-10-31T08:43:58.553950Z"
    }
   },
   "source": [
    "# Code to get all the Posterior mean (95% Equal-tail CI) (95% HPD CI) HPD-CI-width from ./xenarthra_mcmc_out.txt\n",
    "import numpy as np\n",
    "import pandas as pd\n",
    "import matplotlib.pyplot as plt\n",
    "\n",
    "\n",
    "# Read the file\n",
    "file = open(\"LG_G4_C60_root_out.txt\", \"r\")\n",
    "lines = file.readlines()\n",
    "file.close()\n",
    "\n",
    "# Extract the data\n",
    "data = []\n",
    "mu_data = []\n",
    "var_data = []\n",
    "\n",
    "read_flag = False\n",
    "for line in lines:\n",
    "    if line.startswith(\"Posterior\"):\n",
    "        read_flag = True\n",
    "    if read_flag and line.startswith(\"t\"):\n",
    "        data.append(line)\n",
    "    if read_flag and line.startswith(\"mu\"):\n",
    "        mu_data.append(line)\n",
    "    if read_flag and line.startswith(\"sigma\"):\n",
    "        var_data.append(line)"
   ],
   "outputs": [],
   "execution_count": 2
  },
  {
   "metadata": {
    "ExecuteTime": {
     "end_time": "2024-10-31T08:43:58.955493Z",
     "start_time": "2024-10-31T08:43:58.948586Z"
    }
   },
   "cell_type": "code",
   "source": "data",
   "id": "54808ee54195795",
   "outputs": [
    {
     "data": {
      "text/plain": [
       "['t_n55          5.7820 ( 5.3327,  6.7560) ( 5.2342,  6.5688)  1.3346 (Jnode 106)\\n',\n",
       " 't_n56          5.0021 ( 3.9010,  6.0434) ( 3.8841,  6.0204)  2.1363 (Jnode 105)\\n',\n",
       " 't_n57          4.6448 ( 3.6023,  5.6318) ( 3.5895,  5.6157)  2.0261 (Jnode 104)\\n',\n",
       " 't_n58          3.8112 ( 2.9005,  4.6861) ( 2.8960,  4.6783)  1.7823 (Jnode 103)\\n',\n",
       " 't_n59          3.6815 ( 2.8011,  4.5316) ( 2.8087,  4.5367)  1.7281 (Jnode 102)\\n',\n",
       " 't_n60          3.5045 ( 2.6626,  4.3226) ( 2.6500,  4.3040)  1.6539 (Jnode 101)\\n',\n",
       " 't_n61          3.2406 ( 2.4499,  4.0068) ( 2.4406,  3.9903)  1.5497 (Jnode 100)\\n',\n",
       " 't_n62          1.3861 ( 0.8485,  1.9884) ( 0.8286,  1.9627)  1.1341 (Jnode 99)\\n',\n",
       " 't_n63          2.2140 ( 1.6106,  2.8342) ( 1.6127,  2.8349)  1.2222 (Jnode 98)\\n',\n",
       " 't_n64          1.5639 ( 1.0988,  2.0649) ( 1.0697,  2.0327)  0.9630 (Jnode 97)\\n',\n",
       " 't_n65          1.3732 ( 0.9531,  1.8324) ( 0.9319,  1.8052)  0.8733 (Jnode 96)\\n',\n",
       " 't_n66          1.0581 ( 0.7249,  1.4398) ( 0.7095,  1.4211)  0.7116 (Jnode 95)\\n',\n",
       " 't_n67          0.7105 ( 0.4742,  0.9938) ( 0.4625,  0.9774)  0.5148 (Jnode 94)\\n',\n",
       " 't_n68          0.4711 ( 0.3091,  0.6732) ( 0.2982,  0.6558)  0.3576 (Jnode 93)\\n',\n",
       " 't_n69          0.2018 ( 0.1268,  0.3023) ( 0.1189,  0.2909)  0.1720 (Jnode 92)\\n',\n",
       " 't_n70          1.6333 ( 1.1487,  2.1658) ( 1.1365,  2.1521)  1.0156 (Jnode 91)\\n',\n",
       " 't_n71          3.5886 ( 2.7241,  4.4215) ( 2.7082,  4.3998)  1.6916 (Jnode 90)\\n',\n",
       " 't_n72          3.4750 ( 2.6362,  4.2898) ( 2.6414,  4.2927)  1.6513 (Jnode 89)\\n',\n",
       " 't_n73          3.2294 ( 2.4396,  4.0040) ( 2.4589,  4.0187)  1.5598 (Jnode 88)\\n',\n",
       " 't_n74          2.2389 ( 1.5944,  2.9059) ( 1.5868,  2.8957)  1.3088 (Jnode 87)\\n',\n",
       " 't_n75          2.0013 ( 1.4026,  2.6284) ( 1.3897,  2.6106)  1.2208 (Jnode 86)\\n',\n",
       " 't_n76          1.7294 ( 1.0938,  2.4107) ( 1.0653,  2.3778)  1.3125 (Jnode 85)\\n',\n",
       " 't_n77          3.4581 ( 2.6235,  4.2643) ( 2.6270,  4.2662)  1.6392 (Jnode 84)\\n',\n",
       " 't_n78          3.2894 ( 2.4888,  4.0632) ( 2.4658,  4.0352)  1.5695 (Jnode 83)\\n',\n",
       " 't_n79          3.1777 ( 2.4002,  3.9338) ( 2.3802,  3.9074)  1.5272 (Jnode 82)\\n',\n",
       " 't_n80          2.9666 ( 2.2377,  3.6837) ( 2.2303,  3.6736)  1.4433 (Jnode 81)\\n',\n",
       " 't_n81          2.7107 ( 2.0330,  3.3727) ( 2.0121,  3.3504)  1.3383 (Jnode 80)\\n',\n",
       " 't_n82          2.6343 ( 1.9723,  3.2809) ( 1.9673,  3.2740)  1.3067 (Jnode 79)\\n',\n",
       " 't_n83          2.2764 ( 1.6955,  2.8601) ( 1.6933,  2.8569)  1.1636 (Jnode 78)\\n',\n",
       " 't_n84          2.0678 ( 1.5307,  2.6167) ( 1.5051,  2.5863)  1.0812 (Jnode 77)\\n',\n",
       " 't_n85          1.8913 ( 1.3924,  2.4075) ( 1.3865,  2.3974)  1.0109 (Jnode 76)\\n',\n",
       " 't_n86          1.4023 ( 1.0060,  1.8328) ( 0.9931,  1.8159)  0.8228 (Jnode 75)\\n',\n",
       " 't_n87          1.2934 ( 0.9218,  1.6988) ( 0.9134,  1.6867)  0.7733 (Jnode 74)\\n',\n",
       " 't_n88          2.2931 ( 1.7037,  2.8847) ( 1.6785,  2.8574)  1.1789 (Jnode 73)\\n',\n",
       " 't_n89          1.8393 ( 1.3314,  2.3750) ( 1.3160,  2.3581)  1.0421 (Jnode 72)\\n',\n",
       " 't_n90          3.3895 ( 2.5667,  4.1810) ( 2.5658,  4.1785)  1.6126 (Jnode 71)\\n',\n",
       " 't_n91          0.6878 ( 0.3480,  1.1530) ( 0.3193,  1.1052)  0.7859 (Jnode 70)\\n',\n",
       " 't_n92          3.3098 ( 2.5063,  4.0870) ( 2.5170,  4.0959)  1.5789 (Jnode 69)\\n',\n",
       " 't_n93          3.0858 ( 2.3343,  3.8270) ( 2.3418,  3.8330)  1.4912 (Jnode 68)\\n',\n",
       " 't_n94          2.7278 ( 2.0524,  3.4066) ( 2.0252,  3.3741)  1.3488 (Jnode 67)\\n',\n",
       " 't_n95          2.5278 ( 1.8955,  3.1691) ( 1.8836,  3.1525)  1.2688 (Jnode 66)\\n',\n",
       " 't_n96          1.8333 ( 1.3156,  2.3855) ( 1.3038,  2.3660)  1.0622 (Jnode 65)\\n',\n",
       " 't_n97          2.1108 ( 1.5547,  2.6890) ( 1.5434,  2.6725)  1.1291 (Jnode 64)\\n',\n",
       " 't_n98          2.6189 ( 1.9684,  3.2818) ( 1.9460,  3.2579)  1.3119 (Jnode 63)\\n',\n",
       " 't_n99          2.5237 ( 1.8922,  3.1698) ( 1.8776,  3.1519)  1.2743 (Jnode 62)\\n',\n",
       " 't_n100         2.3503 ( 1.7485,  2.9662) ( 1.7389,  2.9535)  1.2146 (Jnode 61)\\n',\n",
       " 't_n101         1.6824 ( 1.1705,  2.2263) ( 1.1431,  2.1962)  1.0532 (Jnode 60)\\n',\n",
       " 't_n102         2.2602 ( 1.6259,  2.9251) ( 1.6074,  2.8956)  1.2882 (Jnode 59)\\n',\n",
       " 't_n103         4.1180 ( 3.1489,  5.0417) ( 3.1538,  5.0436)  1.8899 (Jnode 58)\\n',\n",
       " 't_n104         2.9127 ( 2.0328,  3.7975) ( 2.0005,  3.7578)  1.7573 (Jnode 57)\\n',\n",
       " 't_n105         1.7304 ( 1.0649,  2.5017) ( 1.0130,  2.4381)  1.4250 (Jnode 56)\\n',\n",
       " 't_n106         1.3362 ( 0.6976,  2.1105) ( 0.6507,  2.0485)  1.3978 (Jnode 55)\\n',\n",
       " 't_n107         4.3167 ( 2.8341,  5.8925) ( 2.8023,  5.8396)  3.0373 (Jnode 54)\\n']"
      ]
     },
     "execution_count": 3,
     "metadata": {},
     "output_type": "execute_result"
    }
   ],
   "execution_count": 3
  },
  {
   "metadata": {
    "ExecuteTime": {
     "end_time": "2024-10-31T08:43:59.008696Z",
     "start_time": "2024-10-31T08:43:59.004702Z"
    }
   },
   "cell_type": "code",
   "source": [
    "node_name = []\n",
    "posterior_mean_iqtree = []\n",
    "posterior_mean_baseml = []\n",
    "\n",
    "posterior_mean_mu_iqtree = []\n",
    "posterior_mean_mu_baseml = []\n",
    "\n",
    "posterior_mean_var_iqtree = []\n",
    "posterior_mean_var_baseml = []\n",
    "\n",
    "lower_ci_iqtree = []\n",
    "upper_ci_iqtree = []\n",
    "\n",
    "lower_ci_mu_iqtree = []\n",
    "upper_ci_mu_iqtree = []\n",
    "\n",
    "lower_ci_var_iqtree = []\n",
    "upper_ci_var_iqtree = []\n",
    "\n",
    "# Credible intervals for McmcDate\n",
    "lower_ci_baseml = []\n",
    "upper_ci_baseml = []\n",
    "\n",
    "lower_ci_mu_baseml = []\n",
    "upper_ci_mu_baseml = []\n",
    "\n",
    "lower_ci_var_baseml = []\n",
    "upper_ci_var_baseml = []"
   ],
   "id": "e5cf93a69d327e61",
   "outputs": [],
   "execution_count": 4
  },
  {
   "metadata": {
    "ExecuteTime": {
     "end_time": "2024-10-31T08:43:59.057083Z",
     "start_time": "2024-10-31T08:43:59.053244Z"
    }
   },
   "cell_type": "code",
   "source": [
    "for line in data:\n",
    "    line = line.strip().split()\n",
    "    node_name.append(line[0])\n",
    "    posterior_mean_iqtree.append(float(line[1]))\n",
    "#     if line[3].startswith('('):\n",
    "#         lower_ci_iqtree.append(float(line[3][1:-1]))\n",
    "#     else:\n",
    "#         lower_ci_iqtree.append(float(line[3][1:-1]))\n",
    "#     if line[4].startswith('('):\n",
    "#         upper_ci_iqtree.append(float(line[4][1:-1]))\n",
    "#     else:\n",
    "#         upper_ci_iqtree.append(float(line[4][:-1]))\n",
    "#     # posterior_mean_baseml.append(float(line[4]))\n",
    "#     # lower_ci_baseml.append(float(line[5]))\n",
    "#     # upper_ci_baseml.append(float(line[6]))\n",
    "# \n",
    "# for line in mu_data:\n",
    "#     line = line.strip().split()\n",
    "#     # node_name.append(line[0])\n",
    "#     posterior_mean_mu_iqtree.append(float(line[1]))\n",
    "#     lower_ci_mu_iqtree.append(float(line[3][:-1]))\n",
    "#     upper_ci_mu_iqtree.append(float(line[4][:-1]))\n",
    "#\n",
    "# for line in var_data:\n",
    "#     line = line.strip().split()\n",
    "#     # node_name.append(line[0])\n",
    "#     posterior_mean_var_iqtree.append(float(line[1]))\n",
    "#     lower_ci_var_iqtree.append(float(line[3][:-1]))\n",
    "#     upper_ci_var_iqtree.append(float(line[4][:-1]))"
   ],
   "id": "4e79ee928ea76b59",
   "outputs": [],
   "execution_count": 5
  },
  {
   "metadata": {
    "ExecuteTime": {
     "end_time": "2024-10-31T08:43:59.110200Z",
     "start_time": "2024-10-31T08:43:59.105819Z"
    }
   },
   "cell_type": "code",
   "source": "node_name",
   "id": "2c17f55ec9626a0b",
   "outputs": [
    {
     "data": {
      "text/plain": [
       "['t_n55',\n",
       " 't_n56',\n",
       " 't_n57',\n",
       " 't_n58',\n",
       " 't_n59',\n",
       " 't_n60',\n",
       " 't_n61',\n",
       " 't_n62',\n",
       " 't_n63',\n",
       " 't_n64',\n",
       " 't_n65',\n",
       " 't_n66',\n",
       " 't_n67',\n",
       " 't_n68',\n",
       " 't_n69',\n",
       " 't_n70',\n",
       " 't_n71',\n",
       " 't_n72',\n",
       " 't_n73',\n",
       " 't_n74',\n",
       " 't_n75',\n",
       " 't_n76',\n",
       " 't_n77',\n",
       " 't_n78',\n",
       " 't_n79',\n",
       " 't_n80',\n",
       " 't_n81',\n",
       " 't_n82',\n",
       " 't_n83',\n",
       " 't_n84',\n",
       " 't_n85',\n",
       " 't_n86',\n",
       " 't_n87',\n",
       " 't_n88',\n",
       " 't_n89',\n",
       " 't_n90',\n",
       " 't_n91',\n",
       " 't_n92',\n",
       " 't_n93',\n",
       " 't_n94',\n",
       " 't_n95',\n",
       " 't_n96',\n",
       " 't_n97',\n",
       " 't_n98',\n",
       " 't_n99',\n",
       " 't_n100',\n",
       " 't_n101',\n",
       " 't_n102',\n",
       " 't_n103',\n",
       " 't_n104',\n",
       " 't_n105',\n",
       " 't_n106',\n",
       " 't_n107']"
      ]
     },
     "execution_count": 6,
     "metadata": {},
     "output_type": "execute_result"
    }
   ],
   "execution_count": 6
  },
  {
   "metadata": {
    "ExecuteTime": {
     "end_time": "2024-10-31T08:43:59.167470Z",
     "start_time": "2024-10-31T08:43:59.163353Z"
    }
   },
   "cell_type": "code",
   "source": "posterior_mean_iqtree",
   "id": "24a55c806a41f33e",
   "outputs": [
    {
     "data": {
      "text/plain": [
       "[5.782,\n",
       " 5.0021,\n",
       " 4.6448,\n",
       " 3.8112,\n",
       " 3.6815,\n",
       " 3.5045,\n",
       " 3.2406,\n",
       " 1.3861,\n",
       " 2.214,\n",
       " 1.5639,\n",
       " 1.3732,\n",
       " 1.0581,\n",
       " 0.7105,\n",
       " 0.4711,\n",
       " 0.2018,\n",
       " 1.6333,\n",
       " 3.5886,\n",
       " 3.475,\n",
       " 3.2294,\n",
       " 2.2389,\n",
       " 2.0013,\n",
       " 1.7294,\n",
       " 3.4581,\n",
       " 3.2894,\n",
       " 3.1777,\n",
       " 2.9666,\n",
       " 2.7107,\n",
       " 2.6343,\n",
       " 2.2764,\n",
       " 2.0678,\n",
       " 1.8913,\n",
       " 1.4023,\n",
       " 1.2934,\n",
       " 2.2931,\n",
       " 1.8393,\n",
       " 3.3895,\n",
       " 0.6878,\n",
       " 3.3098,\n",
       " 3.0858,\n",
       " 2.7278,\n",
       " 2.5278,\n",
       " 1.8333,\n",
       " 2.1108,\n",
       " 2.6189,\n",
       " 2.5237,\n",
       " 2.3503,\n",
       " 1.6824,\n",
       " 2.2602,\n",
       " 4.118,\n",
       " 2.9127,\n",
       " 1.7304,\n",
       " 1.3362,\n",
       " 4.3167]"
      ]
     },
     "execution_count": 7,
     "metadata": {},
     "output_type": "execute_result"
    }
   ],
   "execution_count": 7
  },
  {
   "metadata": {
    "ExecuteTime": {
     "end_time": "2024-10-31T08:43:59.222024Z",
     "start_time": "2024-10-31T08:43:59.218895Z"
    }
   },
   "cell_type": "code",
   "source": "lower_ci_iqtree",
   "id": "388aa27ad336d43f",
   "outputs": [
    {
     "data": {
      "text/plain": [
       "[]"
      ]
     },
     "execution_count": 8,
     "metadata": {},
     "output_type": "execute_result"
    }
   ],
   "execution_count": 8
  },
  {
   "metadata": {
    "ExecuteTime": {
     "end_time": "2024-10-31T08:43:59.277495Z",
     "start_time": "2024-10-31T08:43:59.274222Z"
    }
   },
   "cell_type": "code",
   "source": "upper_ci_iqtree",
   "id": "816e569fb763e797",
   "outputs": [
    {
     "data": {
      "text/plain": [
       "[]"
      ]
     },
     "execution_count": 9,
     "metadata": {},
     "output_type": "execute_result"
    }
   ],
   "execution_count": 9
  },
  {
   "metadata": {
    "ExecuteTime": {
     "end_time": "2024-10-31T08:43:59.332478Z",
     "start_time": "2024-10-31T08:43:59.324926Z"
    }
   },
   "cell_type": "code",
   "source": [
    "file_LG = open(\"LG_G4_codeml_root_out.txt\", \"r\")\n",
    "lines1 = file_LG.readlines()\n",
    "file_LG.close()\n",
    "\n",
    "# Extract the data\n",
    "data1 = []\n",
    "mu_data1 = []\n",
    "var_data1 = []\n",
    "\n",
    "read_flag = False\n",
    "for line in lines1:\n",
    "    if line.startswith(\"Posterior\"):\n",
    "        read_flag = True\n",
    "    if read_flag and line.startswith(\"t\"):\n",
    "        data1.append(line)\n",
    "    if read_flag and line.startswith(\"mu\"):\n",
    "        mu_data1.append(line)\n",
    "    if read_flag and line.startswith(\"sigma\"):\n",
    "        var_data1.append(line)\n",
    "\n",
    "        \n",
    "for line in data1:\n",
    "    line = line.strip().split()\n",
    "    # node_name.append(line[0])\n",
    "    posterior_mean_baseml.append(float(line[1]))\n",
    "#     if line[3].startswith('('):\n",
    "#         lower_ci_baseml.append(float(line[3][1:-1]))\n",
    "#     else:\n",
    "#          lower_ci_baseml.append(float(line[3][:-1]))\n",
    "#     if line[4].startswith('('):\n",
    "#         upper_ci_baseml.append(float(line[4][1:-1]))\n",
    "#     else:\n",
    "#          upper_ci_baseml.append(float(line[4][:-1]))\n",
    "#         \n",
    "#     \n",
    "# for line in mu_data1:\n",
    "#     line = line.strip().split()\n",
    "#     # node_name.append(line[0])\n",
    "#     posterior_mean_mu_baseml.append(float(line[1]))\n",
    "#     lower_ci_mu_baseml.append(float(line[3][:-1]))\n",
    "#     upper_ci_mu_baseml.append(float(line[4][:-1]))\n",
    "    \n",
    "# for line in var_data1:\n",
    "#     line = line.strip().split()\n",
    "#     # node_name.append(line[0])\n",
    "#     posterior_mean_var_baseml.append(float(line[1]))\n",
    "#     lower_ci_var_baseml.append(float(line[3][:-1]))\n",
    "#     upper_ci_var_baseml.append(float(line[4][:-1]))"
   ],
   "id": "f75c012c6bef60a2",
   "outputs": [],
   "execution_count": 10
  },
  {
   "metadata": {
    "ExecuteTime": {
     "end_time": "2024-10-31T08:43:59.375325Z",
     "start_time": "2024-10-31T08:43:59.372483Z"
    }
   },
   "cell_type": "code",
   "source": [
    "import matplotlib.pyplot as plt\n",
    "import numpy as np\n",
    "\n",
    "# # Example data\n",
    "# # Posterior means for MCMCtree (x-axis) and McmcDate (y-axis)\n",
    "# posterior_mean_mcmctree = [100, 200, 300, 400, 500, 600, 700, 800, 900, 1000]\n",
    "# posterior_mean_mcmcdate = [110, 210, 310, 410, 510, 610, 710, 810, 910, 1010]\n",
    "# \n",
    "# # Credible intervals for MCMCtree\n",
    "# lower_ci_mcmctree = [90, 180, 270, 360, 450, 540, 630, 720, 810, 900]\n",
    "# upper_ci_mcmctree = [110, 220, 330, 440, 550, 660, 770, 880, 990, 1100]\n",
    "# \n",
    "# # Credible intervals for McmcDate\n",
    "# lower_ci_mcmcdate = [100, 200, 300, 400, 500, 600, 700, 800, 900, 1000]\n",
    "# upper_ci_mcmcdate = [120, 220, 320, 420, 520, 620, 720, 820, 920, 1020]\n",
    "\n",
    "# Calculate error bars\n",
    "# xerr = [np.array(lower_ci_baseml), \n",
    "#         np.array(upper_ci_baseml)]\n",
    "# yerr = [np.array(lower_ci_iqtree), \n",
    "#         np.array(upper_ci_iqtree)]\n",
    "# \n",
    "# # Plotting\n",
    "# fig, ax = plt.subplots(figsize=(15, 15))\n",
    "# ax.plot([-0.1,90], \n",
    "#         [-0.1, 90], \n",
    "#         'k--', label='y=x')\n",
    "# ax.errorbar(posterior_mean_baseml, posterior_mean_iqtree, \n",
    "#             xerr=xerr, yerr=yerr, fmt='*', ecolor='r', capsize=3, label='95% HPD CI')\n",
    "# \n",
    "# # Labels and title\n",
    "# ax.set_xlabel('Posterior mean age LG [100 Mya]', fontsize=18)\n",
    "# ax.set_ylabel('Posterior mean age LG+G4 [100 Mya]', fontsize=18)\n",
    "# ax.set_title('Posterior mean age comparison between LG and LG+G4 models [t116 ~ B(1.25,2.482)]')\n",
    "# ax.legend()\n",
    "# \n",
    "# # Show plot\n",
    "# # plt.show()\n",
    "# plt.savefig('./animal_origin_posterior_mean_age_comparison_LG_G4_c11.png')"
   ],
   "id": "12db486fa4fac82c",
   "outputs": [],
   "execution_count": 11
  },
  {
   "metadata": {
    "ExecuteTime": {
     "end_time": "2024-10-31T08:43:59.434657Z",
     "start_time": "2024-10-31T08:43:59.427751Z"
    }
   },
   "cell_type": "code",
   "source": "posterior_mean_baseml",
   "id": "917b2e31cff4b992",
   "outputs": [
    {
     "data": {
      "text/plain": [
       "[5.7188,\n",
       " 5.5667,\n",
       " 5.0832,\n",
       " 4.2186,\n",
       " 4.0408,\n",
       " 3.8279,\n",
       " 3.5116,\n",
       " 1.6426,\n",
       " 2.4792,\n",
       " 1.7826,\n",
       " 1.5518,\n",
       " 1.2065,\n",
       " 0.8283,\n",
       " 0.5556,\n",
       " 0.2245,\n",
       " 1.8719,\n",
       " 3.8822,\n",
       " 3.4525,\n",
       " 3.4913,\n",
       " 2.5127,\n",
       " 2.2025,\n",
       " 2.011,\n",
       " 3.8099,\n",
       " 3.5784,\n",
       " 3.4161,\n",
       " 3.2076,\n",
       " 2.9284,\n",
       " 2.8091,\n",
       " 2.4376,\n",
       " 2.209,\n",
       " 2.0031,\n",
       " 1.5239,\n",
       " 1.3545,\n",
       " 2.4978,\n",
       " 1.9948,\n",
       " 3.7013,\n",
       " 0.9326,\n",
       " 3.5827,\n",
       " 3.3162,\n",
       " 2.9387,\n",
       " 2.6872,\n",
       " 1.9759,\n",
       " 2.1969,\n",
       " 2.8249,\n",
       " 2.6625,\n",
       " 2.3731,\n",
       " 1.9192,\n",
       " 2.4095,\n",
       " 4.5358,\n",
       " 3.4153,\n",
       " 2.1653,\n",
       " 1.7338,\n",
       " 4.0553]"
      ]
     },
     "execution_count": 12,
     "metadata": {},
     "output_type": "execute_result"
    }
   ],
   "execution_count": 12
  },
  {
   "metadata": {
    "ExecuteTime": {
     "end_time": "2024-10-31T08:43:59.487128Z",
     "start_time": "2024-10-31T08:43:59.483596Z"
    }
   },
   "cell_type": "code",
   "source": "posterior_mean_iqtree",
   "id": "59ad8fd34f7bbf11",
   "outputs": [
    {
     "data": {
      "text/plain": [
       "[5.782,\n",
       " 5.0021,\n",
       " 4.6448,\n",
       " 3.8112,\n",
       " 3.6815,\n",
       " 3.5045,\n",
       " 3.2406,\n",
       " 1.3861,\n",
       " 2.214,\n",
       " 1.5639,\n",
       " 1.3732,\n",
       " 1.0581,\n",
       " 0.7105,\n",
       " 0.4711,\n",
       " 0.2018,\n",
       " 1.6333,\n",
       " 3.5886,\n",
       " 3.475,\n",
       " 3.2294,\n",
       " 2.2389,\n",
       " 2.0013,\n",
       " 1.7294,\n",
       " 3.4581,\n",
       " 3.2894,\n",
       " 3.1777,\n",
       " 2.9666,\n",
       " 2.7107,\n",
       " 2.6343,\n",
       " 2.2764,\n",
       " 2.0678,\n",
       " 1.8913,\n",
       " 1.4023,\n",
       " 1.2934,\n",
       " 2.2931,\n",
       " 1.8393,\n",
       " 3.3895,\n",
       " 0.6878,\n",
       " 3.3098,\n",
       " 3.0858,\n",
       " 2.7278,\n",
       " 2.5278,\n",
       " 1.8333,\n",
       " 2.1108,\n",
       " 2.6189,\n",
       " 2.5237,\n",
       " 2.3503,\n",
       " 1.6824,\n",
       " 2.2602,\n",
       " 4.118,\n",
       " 2.9127,\n",
       " 1.7304,\n",
       " 1.3362,\n",
       " 4.3167]"
      ]
     },
     "execution_count": 13,
     "metadata": {},
     "output_type": "execute_result"
    }
   ],
   "execution_count": 13
  },
  {
   "metadata": {
    "ExecuteTime": {
     "end_time": "2024-10-31T08:43:59.732431Z",
     "start_time": "2024-10-31T08:43:59.537298Z"
    }
   },
   "cell_type": "code",
   "source": [
    "# Calculate error bars\n",
    "xerr = [np.array(lower_ci_baseml), \n",
    "        np.array(upper_ci_baseml)]\n",
    "yerr = [np.array(lower_ci_iqtree), \n",
    "        np.array(upper_ci_iqtree)]\n",
    "\n",
    "# Plotting\n",
    "fig, ax = plt.subplots(figsize=(9 ,9))\n",
    "ax.plot([-0.1,11], \n",
    "        [-0.1, 11], \n",
    "        'k--', label='y=x')\n",
    "points = ax.plot(posterior_mean_iqtree, posterior_mean_baseml, 'o', label='Posterior mean age')\n",
    "\n",
    "points[0].set_markerfacecolor('blue')\n",
    "# points[23].set_markerfacecolor('blue')# Set default face color (for other points)\n",
    "\n",
    "# Now plot the highlighted point with a different color\n",
    "ax.scatter(posterior_mean_iqtree[0], posterior_mean_baseml[0], color='red', s=100)\n",
    "# ax.scatter(posterior_mean_iqtree[25], posterior_mean_baseml[25], color='red', s=100)\n",
    "# ax.scatter(posterior_mean_iqtree[0], posterior_mean_baseml[0], color='red', label='Root age')\n",
    "ax.annotate('root calibration:\\n B(5.5285, 8.3300)', \n",
    "        xy=(posterior_mean_iqtree[0], posterior_mean_baseml[0]), \n",
    "        xytext=(posterior_mean_iqtree[0] -2,  posterior_mean_baseml[0] + 0.3),  # Offset position for the label\n",
    "        arrowprops=dict(arrowstyle='->', color='red'),  # Arrow style\n",
    "        fontsize=12, color='red') \n",
    "# ax.annotate('middle calibration:\\n B(5.2882,6.3610)', \n",
    "#         xy=(posterior_mean_iqtree[25], posterior_mean_baseml[25]), \n",
    "#         xytext=(posterior_mean_iqtree[25] -1.5,  posterior_mean_baseml[25] + 1.5),  # Offset position for the label\n",
    "#         arrowprops=dict(arrowstyle='->', color='red'),  # Arrow style\n",
    "#         fontsize=12, color='red') \n",
    " \n",
    " \n",
    "# Labels and title\n",
    "ax.set_ylabel('Posterior mean age LG+G4 [Mya]', fontsize=18)\n",
    "ax.set_xlabel('Posterior mean age LG+G4+C60 [Mya]', fontsize=18)\n",
    "# ax.set_title('Posterior mean age comparison between LG+G4 and LG+G4+C60 [t55 ~ B(5.5285, 8.3300)]')\n",
    "ax.legend()\n",
    "\n",
    "# point_x = posterior_mean_baseml[0]  # Example: first point in the list\n",
    "# point_y = posterior_mean_iqtree[0]  # Example: first point in the list\n",
    "# ax.annotate('Root age', xy=(point_x, point_y), xytext=(point_x - 0.1, point_y - 0.1), color='red')\n",
    "# Show plot\n",
    "# plt.show()\n",
    "plt.savefig('./metazoa_posterior_mean_age_comparison_LG_G4_C60_root_scatter.png')"
   ],
   "id": "592d0bb72aa1ad4c",
   "outputs": [
    {
     "data": {
      "text/plain": [
       "<Figure size 900x900 with 1 Axes>"
      ],
      "image/png": "[encoded data removed]"
     },
     "metadata": {},
     "output_type": "display_data"
    }
   ],
   "execution_count": 14
  },
  {
   "metadata": {
    "ExecuteTime": {
     "end_time": "2024-10-31T08:43:59.743955Z",
     "start_time": "2024-10-31T08:43:59.741447Z"
    }
   },
   "cell_type": "code",
   "source": [
    "# fig, ax = plt.subplots(figsize=(9 ,9))\n",
    "# ax.plot([0.01,0.04], \n",
    "#         [0.01, 0.04], \n",
    "#         'k--', label='y=x')\n",
    "# ax.plot(posterior_mean_mu_baseml, posterior_mean_mu_iqtree, 'o', label='Posterior mean rates for partitions')\n",
    "#  \n",
    "# # Labels and title\n",
    "# ax.set_xlabel('Posterior mean rate [LG]', fontsize=18)\n",
    "# ax.set_ylabel('Posterior mean rate [LG+G4]', fontsize=18)\n",
    "# ax.set_title('Posterior mean rate comparison between LG and LG+G4 [Cherry only calibration/IQ-TREE]')\n",
    "# ax.legend()\n",
    "# \n",
    "# # point_x = posterior_mean_baseml[0]  # Example: first point in the list\n",
    "# # point_y = posterior_mean_iqtree[0]  # Example: first point in the list\n",
    "# # ax.annotate('Root age', xy=(point_x, point_y), xytext=(point_x - 0.1, point_y - 0.1), color='red')\n",
    "# # Show plot\n",
    "# # plt.show()\n",
    "# plt.savefig('./animal_origin__posterior_mean_rate_comparison_LG_G4_all_scatter.png')"
   ],
   "id": "c6d69ee36c77970c",
   "outputs": [],
   "execution_count": 15
  },
  {
   "metadata": {
    "ExecuteTime": {
     "end_time": "2024-10-31T08:43:59.785925Z",
     "start_time": "2024-10-31T08:43:59.784007Z"
    }
   },
   "cell_type": "code",
   "source": "",
   "id": "ca69d5b521db3aa7",
   "outputs": [],
   "execution_count": null
  }
 ],
 "metadata": {
  "kernelspec": {
   "display_name": "Python 3",
   "language": "python",
   "name": "python3"
  },
  "language_info": {
   "codemirror_mode": {
    "name": "ipython",
    "version": 2
   },
   "file_extension": ".py",
   "mimetype": "text/x-python",
   "name": "python",
   "nbconvert_exporter": "python",
   "pygments_lexer": "ipython2",
   "version": "2.7.6"
  }
 },
 "nbformat": 4,
 "nbformat_minor": 5
}
