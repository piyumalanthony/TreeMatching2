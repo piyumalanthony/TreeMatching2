{
 "cells": [
  {
   "cell_type": "code",
   "id": "initial_id",
   "metadata": {
    "collapsed": true,
    "ExecuteTime": {
     "end_time": "2024-10-31T19:18:01.980957Z",
     "start_time": "2024-10-31T19:18:01.447112Z"
    }
   },
   "source": [
    "# Code to get all the Posterior mean (95% Equal-tail CI) (95% HPD CI) HPD-CI-width from ./xenarthra_mcmc_out.txt\n",
    "import numpy as np\n",
    "import pandas as pd\n",
    "import matplotlib.pyplot as plt\n",
    "\n",
    "\n",
    "# Read the file\n",
    "file = open(\"MF_root_out.txt\", \"r\")\n",
    "lines = file.readlines()\n",
    "file.close()\n",
    "\n",
    "# Extract the data\n",
    "data = []\n",
    "mu_data = []\n",
    "var_data = []\n",
    "\n",
    "read_flag = False\n",
    "for line in lines:\n",
    "    if line.startswith(\"Posterior\"):\n",
    "        read_flag = True\n",
    "    if read_flag and line.startswith(\"t\"):\n",
    "        data.append(line)\n",
    "    if read_flag and line.startswith(\"mu\"):\n",
    "        mu_data.append(line)\n",
    "    if read_flag and line.startswith(\"sigma\"):\n",
    "        var_data.append(line)"
   ],
   "outputs": [],
   "execution_count": 1
  },
  {
   "metadata": {
    "ExecuteTime": {
     "end_time": "2024-10-31T19:18:01.997632Z",
     "start_time": "2024-10-31T19:18:01.992669Z"
    }
   },
   "cell_type": "code",
   "source": "data",
   "id": "54808ee54195795",
   "outputs": [
    {
     "data": {
      "text/plain": [
       "['t_n61          3.1430 ( 2.5228,  3.8155) ( 2.5089,  3.7974)  1.2885 (Jnode 118)\\n',\n",
       " 't_n62          1.7468 ( 1.3133,  2.2617) ( 1.2912,  2.2299)  0.9387 (Jnode 117)\\n',\n",
       " 't_n63          1.6970 ( 1.2743,  2.1976) ( 1.2610,  2.1771)  0.9162 (Jnode 116)\\n',\n",
       " 't_n64          1.6536 ( 1.2413,  2.1430) ( 1.2198,  2.1154)  0.8955 (Jnode 115)\\n',\n",
       " 't_n65          1.2776 ( 0.9465,  1.6779) ( 0.9364,  1.6610)  0.7246 (Jnode 114)\\n',\n",
       " 't_n66          0.6966 ( 0.4908,  0.9539) ( 0.4793,  0.9356)  0.4563 (Jnode 113)\\n',\n",
       " 't_n67          0.5913 ( 0.4117,  0.8149) ( 0.4017,  0.7994)  0.3978 (Jnode 112)\\n',\n",
       " 't_n68          0.3872 ( 0.2576,  0.5534) ( 0.2458,  0.5366)  0.2908 (Jnode 111)\\n',\n",
       " 't_n69          0.0414 ( 0.0173,  0.0839) ( 0.0140,  0.0759)  0.0619 (Jnode 110)\\n',\n",
       " 't_n70          0.4844 ( 0.3311,  0.6771) ( 0.3229,  0.6622)  0.3393 (Jnode 109)\\n',\n",
       " 't_n71          0.3618 ( 0.2140,  0.5439) ( 0.2050,  0.5311)  0.3262 (Jnode 108)\\n',\n",
       " 't_n72          0.1028 ( 0.0574,  0.1693) ( 0.0535,  0.1625)  0.1090 (Jnode 107)\\n',\n",
       " 't_n73          0.5990 ( 0.4159,  0.8284) ( 0.3983,  0.8044)  0.4061 (Jnode 106)\\n',\n",
       " 't_n74          0.4101 ( 0.2751,  0.5848) ( 0.2661,  0.5694)  0.3032 (Jnode 105)\\n',\n",
       " 't_n75          0.4793 ( 0.3259,  0.6739) ( 0.3118,  0.6537)  0.3419 (Jnode 104)\\n',\n",
       " 't_n76          0.1413 ( 0.0863,  0.2187) ( 0.0812,  0.2093)  0.1281 (Jnode 103)\\n',\n",
       " 't_n77          0.0506 ( 0.0195,  0.1074) ( 0.0148,  0.0954)  0.0806 (Jnode 102)\\n',\n",
       " 't_n78          0.0131 ( 0.0021,  0.0364) ( 0.0004,  0.0306)  0.0302 (Jnode 101)\\n',\n",
       " 't_n79          1.5490 ( 1.1594,  2.0098) ( 1.1422,  1.9859)  0.8438 (Jnode 100)\\n',\n",
       " 't_n80          1.2523 ( 0.9265,  1.6458) ( 0.9058,  1.6176)  0.7118 (Jnode 99)\\n',\n",
       " 't_n81          0.9111 ( 0.6605,  1.2195) ( 0.6477,  1.1992)  0.5515 (Jnode 98)\\n',\n",
       " 't_n82          0.6983 ( 0.4925,  0.9540) ( 0.4734,  0.9296)  0.4562 (Jnode 97)\\n',\n",
       " 't_n83          0.3597 ( 0.2078,  0.5584) ( 0.1923,  0.5369)  0.3446 (Jnode 96)\\n',\n",
       " 't_n84          0.5746 ( 0.3825,  0.8174) ( 0.3737,  0.8033)  0.4296 (Jnode 95)\\n',\n",
       " 't_n85          0.7548 ( 0.5352,  1.0268) ( 0.5206,  1.0072)  0.4867 (Jnode 94)\\n',\n",
       " 't_n86          0.7071 ( 0.4969,  0.9712) ( 0.4858,  0.9540)  0.4683 (Jnode 93)\\n',\n",
       " 't_n87          0.4744 ( 0.3142,  0.6860) ( 0.2987,  0.6621)  0.3633 (Jnode 92)\\n',\n",
       " 't_n88          0.2783 ( 0.1647,  0.4334) ( 0.1585,  0.4214)  0.2629 (Jnode 91)\\n',\n",
       " 't_n89          0.2031 ( 0.1153,  0.3271) ( 0.1056,  0.3129)  0.2073 (Jnode 90)\\n',\n",
       " 't_n90          0.0843 ( 0.0427,  0.1494) ( 0.0379,  0.1392)  0.1013 (Jnode 89)\\n',\n",
       " 't_n91          0.3979 ( 0.2553,  0.5845) ( 0.2419,  0.5658)  0.3239 (Jnode 88)\\n',\n",
       " 't_n92          0.2969 ( 0.1830,  0.4479) ( 0.1728,  0.4310)  0.2582 (Jnode 87)\\n',\n",
       " 't_n93          0.4446 ( 0.2096,  0.7549) ( 0.1966,  0.7301)  0.5335 (Jnode 86)\\n',\n",
       " 't_n94          0.6741 ( 0.4579,  0.9441) ( 0.4464,  0.9259)  0.4795 (Jnode 85)\\n',\n",
       " 't_n95          0.5400 ( 0.3585,  0.7726) ( 0.3477,  0.7533)  0.4056 (Jnode 84)\\n',\n",
       " 't_n96          0.4182 ( 0.2712,  0.6072) ( 0.2581,  0.5881)  0.3299 (Jnode 83)\\n',\n",
       " 't_n97          0.2784 ( 0.1569,  0.4379) ( 0.1477,  0.4225)  0.2749 (Jnode 82)\\n',\n",
       " 't_n98          0.1098 ( 0.0375,  0.2172) ( 0.0297,  0.2027)  0.1730 (Jnode 81)\\n',\n",
       " 't_n99          0.0808 ( 0.0225,  0.1725) ( 0.0141,  0.1571)  0.1429 (Jnode 80)\\n',\n",
       " 't_n100         0.0600 ( 0.0124,  0.1403) ( 0.0058,  0.1247)  0.1189 (Jnode 79)\\n',\n",
       " 't_n101         0.0378 ( 0.0028,  0.1060) ( 0.0000,  0.0907)  0.0907 (Jnode 78)\\n',\n",
       " 't_n102         0.1960 ( 0.0903,  0.3372) ( 0.0791,  0.3213)  0.2422 (Jnode 77)\\n',\n",
       " 't_n103         0.0671 ( 0.0115,  0.1599) ( 0.0057,  0.1446)  0.1389 (Jnode 76)\\n',\n",
       " 't_n104         0.3890 ( 0.2439,  0.5755) ( 0.2303,  0.5545)  0.3242 (Jnode 75)\\n',\n",
       " 't_n105         0.2682 ( 0.1356,  0.4377) ( 0.1283,  0.4269)  0.2985 (Jnode 74)\\n',\n",
       " 't_n106         0.1790 ( 0.0726,  0.3274) ( 0.0627,  0.3123)  0.2497 (Jnode 73)\\n',\n",
       " 't_n107         0.0513 ( 0.0023,  0.1642) ( 0.0000,  0.1361)  0.1361 (Jnode 72)\\n',\n",
       " 't_n108         0.4240 ( 0.2352,  0.6623) ( 0.2222,  0.6453)  0.4231 (Jnode 71)\\n',\n",
       " 't_n109         0.2705 ( 0.1006,  0.4935) ( 0.0885,  0.4703)  0.3818 (Jnode 70)\\n',\n",
       " 't_n110         1.4457 ( 1.0739,  1.8921) ( 1.0588,  1.8690)  0.8102 (Jnode 69)\\n',\n",
       " 't_n111         1.3541 ( 1.0005,  1.7806) ( 0.9725,  1.7429)  0.7704 (Jnode 68)\\n',\n",
       " 't_n112         0.5538 ( 0.3489,  0.8125) ( 0.3286,  0.7839)  0.4553 (Jnode 67)\\n',\n",
       " 't_n113         0.1380 ( 0.0760,  0.2303) ( 0.0697,  0.2175)  0.1479 (Jnode 66)\\n',\n",
       " 't_n114         0.1088 ( 0.0600,  0.1804) ( 0.0560,  0.1726)  0.1166 (Jnode 65)\\n',\n",
       " 't_n115         0.0377 ( 0.0145,  0.0802) ( 0.0112,  0.0718)  0.0606 (Jnode 64)\\n',\n",
       " 't_n116         0.2925 ( 0.1694,  0.4635) ( 0.1531,  0.4392)  0.2861 (Jnode 63)\\n',\n",
       " 't_n117         0.2240 ( 0.1250,  0.3649) ( 0.1181,  0.3500)  0.2319 (Jnode 62)\\n',\n",
       " 't_n118         1.9675 ( 1.2961,  2.7606) ( 1.2762,  2.7310)  1.4548 (Jnode 61)\\n',\n",
       " 't_n119         0.9128 ( 0.5044,  1.4797) ( 0.4725,  1.4245)  0.9520 (Jnode 60)\\n']"
      ]
     },
     "execution_count": 2,
     "metadata": {},
     "output_type": "execute_result"
    }
   ],
   "execution_count": 2
  },
  {
   "metadata": {
    "ExecuteTime": {
     "end_time": "2024-10-31T19:18:02.050789Z",
     "start_time": "2024-10-31T19:18:02.045536Z"
    }
   },
   "cell_type": "code",
   "source": [
    "node_name = []\n",
    "posterior_mean_iqtree = []\n",
    "posterior_mean_baseml = []\n",
    "\n",
    "posterior_mean_mu_iqtree = []\n",
    "posterior_mean_mu_baseml = []\n",
    "\n",
    "posterior_mean_var_iqtree = []\n",
    "posterior_mean_var_baseml = []\n",
    "\n",
    "lower_ci_iqtree = []\n",
    "upper_ci_iqtree = []\n",
    "\n",
    "lower_ci_mu_iqtree = []\n",
    "upper_ci_mu_iqtree = []\n",
    "\n",
    "lower_ci_var_iqtree = []\n",
    "upper_ci_var_iqtree = []\n",
    "\n",
    "# Credible intervals for McmcDate\n",
    "lower_ci_baseml = []\n",
    "upper_ci_baseml = []\n",
    "\n",
    "lower_ci_mu_baseml = []\n",
    "upper_ci_mu_baseml = []\n",
    "\n",
    "lower_ci_var_baseml = []\n",
    "upper_ci_var_baseml = []"
   ],
   "id": "e5cf93a69d327e61",
   "outputs": [],
   "execution_count": 3
  },
  {
   "metadata": {
    "ExecuteTime": {
     "end_time": "2024-10-31T19:18:02.107881Z",
     "start_time": "2024-10-31T19:18:02.102179Z"
    }
   },
   "cell_type": "code",
   "source": [
    "for line in data:\n",
    "    line = line.strip().split()\n",
    "    node_name.append(line[0])\n",
    "    posterior_mean_iqtree.append(float(line[1]))\n",
    "#     if line[3].startswith('('):\n",
    "#         lower_ci_iqtree.append(float(line[3][1:-1]))\n",
    "#     else:\n",
    "#         lower_ci_iqtree.append(float(line[3][1:-1]))\n",
    "#     if line[4].startswith('('):\n",
    "#         upper_ci_iqtree.append(float(line[4][1:-1]))\n",
    "#     else:\n",
    "#         upper_ci_iqtree.append(float(line[4][:-1]))\n",
    "#     # posterior_mean_baseml.append(float(line[4]))\n",
    "#     # lower_ci_baseml.append(float(line[5]))\n",
    "#     # upper_ci_baseml.append(float(line[6]))\n",
    "# \n",
    "# for line in mu_data:\n",
    "#     line = line.strip().split()\n",
    "#     # node_name.append(line[0])\n",
    "#     posterior_mean_mu_iqtree.append(float(line[1]))\n",
    "#     lower_ci_mu_iqtree.append(float(line[3][:-1]))\n",
    "#     upper_ci_mu_iqtree.append(float(line[4][:-1]))\n",
    "#\n",
    "# for line in var_data:\n",
    "#     line = line.strip().split()\n",
    "#     # node_name.append(line[0])\n",
    "#     posterior_mean_var_iqtree.append(float(line[1]))\n",
    "#     lower_ci_var_iqtree.append(float(line[3][:-1]))\n",
    "#     upper_ci_var_iqtree.append(float(line[4][:-1]))"
   ],
   "id": "4e79ee928ea76b59",
   "outputs": [],
   "execution_count": 4
  },
  {
   "metadata": {
    "ExecuteTime": {
     "end_time": "2024-10-31T19:18:02.163616Z",
     "start_time": "2024-10-31T19:18:02.159754Z"
    }
   },
   "cell_type": "code",
   "source": "node_name",
   "id": "2c17f55ec9626a0b",
   "outputs": [
    {
     "data": {
      "text/plain": [
       "['t_n61',\n",
       " 't_n62',\n",
       " 't_n63',\n",
       " 't_n64',\n",
       " 't_n65',\n",
       " 't_n66',\n",
       " 't_n67',\n",
       " 't_n68',\n",
       " 't_n69',\n",
       " 't_n70',\n",
       " 't_n71',\n",
       " 't_n72',\n",
       " 't_n73',\n",
       " 't_n74',\n",
       " 't_n75',\n",
       " 't_n76',\n",
       " 't_n77',\n",
       " 't_n78',\n",
       " 't_n79',\n",
       " 't_n80',\n",
       " 't_n81',\n",
       " 't_n82',\n",
       " 't_n83',\n",
       " 't_n84',\n",
       " 't_n85',\n",
       " 't_n86',\n",
       " 't_n87',\n",
       " 't_n88',\n",
       " 't_n89',\n",
       " 't_n90',\n",
       " 't_n91',\n",
       " 't_n92',\n",
       " 't_n93',\n",
       " 't_n94',\n",
       " 't_n95',\n",
       " 't_n96',\n",
       " 't_n97',\n",
       " 't_n98',\n",
       " 't_n99',\n",
       " 't_n100',\n",
       " 't_n101',\n",
       " 't_n102',\n",
       " 't_n103',\n",
       " 't_n104',\n",
       " 't_n105',\n",
       " 't_n106',\n",
       " 't_n107',\n",
       " 't_n108',\n",
       " 't_n109',\n",
       " 't_n110',\n",
       " 't_n111',\n",
       " 't_n112',\n",
       " 't_n113',\n",
       " 't_n114',\n",
       " 't_n115',\n",
       " 't_n116',\n",
       " 't_n117',\n",
       " 't_n118',\n",
       " 't_n119']"
      ]
     },
     "execution_count": 5,
     "metadata": {},
     "output_type": "execute_result"
    }
   ],
   "execution_count": 5
  },
  {
   "metadata": {
    "ExecuteTime": {
     "end_time": "2024-10-31T19:18:02.222177Z",
     "start_time": "2024-10-31T19:18:02.216385Z"
    }
   },
   "cell_type": "code",
   "source": "posterior_mean_iqtree",
   "id": "24a55c806a41f33e",
   "outputs": [
    {
     "data": {
      "text/plain": [
       "[3.143,\n",
       " 1.7468,\n",
       " 1.697,\n",
       " 1.6536,\n",
       " 1.2776,\n",
       " 0.6966,\n",
       " 0.5913,\n",
       " 0.3872,\n",
       " 0.0414,\n",
       " 0.4844,\n",
       " 0.3618,\n",
       " 0.1028,\n",
       " 0.599,\n",
       " 0.4101,\n",
       " 0.4793,\n",
       " 0.1413,\n",
       " 0.0506,\n",
       " 0.0131,\n",
       " 1.549,\n",
       " 1.2523,\n",
       " 0.9111,\n",
       " 0.6983,\n",
       " 0.3597,\n",
       " 0.5746,\n",
       " 0.7548,\n",
       " 0.7071,\n",
       " 0.4744,\n",
       " 0.2783,\n",
       " 0.2031,\n",
       " 0.0843,\n",
       " 0.3979,\n",
       " 0.2969,\n",
       " 0.4446,\n",
       " 0.6741,\n",
       " 0.54,\n",
       " 0.4182,\n",
       " 0.2784,\n",
       " 0.1098,\n",
       " 0.0808,\n",
       " 0.06,\n",
       " 0.0378,\n",
       " 0.196,\n",
       " 0.0671,\n",
       " 0.389,\n",
       " 0.2682,\n",
       " 0.179,\n",
       " 0.0513,\n",
       " 0.424,\n",
       " 0.2705,\n",
       " 1.4457,\n",
       " 1.3541,\n",
       " 0.5538,\n",
       " 0.138,\n",
       " 0.1088,\n",
       " 0.0377,\n",
       " 0.2925,\n",
       " 0.224,\n",
       " 1.9675,\n",
       " 0.9128]"
      ]
     },
     "execution_count": 6,
     "metadata": {},
     "output_type": "execute_result"
    }
   ],
   "execution_count": 6
  },
  {
   "metadata": {
    "ExecuteTime": {
     "end_time": "2024-10-31T19:18:02.283726Z",
     "start_time": "2024-10-31T19:18:02.279457Z"
    }
   },
   "cell_type": "code",
   "source": "lower_ci_iqtree",
   "id": "388aa27ad336d43f",
   "outputs": [
    {
     "data": {
      "text/plain": [
       "[]"
      ]
     },
     "execution_count": 7,
     "metadata": {},
     "output_type": "execute_result"
    }
   ],
   "execution_count": 7
  },
  {
   "metadata": {
    "ExecuteTime": {
     "end_time": "2024-10-31T19:18:02.337123Z",
     "start_time": "2024-10-31T19:18:02.333412Z"
    }
   },
   "cell_type": "code",
   "source": "upper_ci_iqtree",
   "id": "816e569fb763e797",
   "outputs": [
    {
     "data": {
      "text/plain": [
       "[]"
      ]
     },
     "execution_count": 8,
     "metadata": {},
     "output_type": "execute_result"
    }
   ],
   "execution_count": 8
  },
  {
   "metadata": {
    "ExecuteTime": {
     "end_time": "2024-10-31T19:18:02.388985Z",
     "start_time": "2024-10-31T19:18:02.382565Z"
    }
   },
   "cell_type": "code",
   "source": [
    "file_LG = open(\"GTR_G4_root_out.txt\", \"r\")\n",
    "lines1 = file_LG.readlines()\n",
    "file_LG.close()\n",
    "\n",
    "# Extract the data\n",
    "data1 = []\n",
    "mu_data1 = []\n",
    "var_data1 = []\n",
    "\n",
    "read_flag = False\n",
    "for line in lines1:\n",
    "    if line.startswith(\"Posterior\"):\n",
    "        read_flag = True\n",
    "    if read_flag and line.startswith(\"t\"):\n",
    "        data1.append(line)\n",
    "    if read_flag and line.startswith(\"mu\"):\n",
    "        mu_data1.append(line)\n",
    "    if read_flag and line.startswith(\"sigma\"):\n",
    "        var_data1.append(line)\n",
    "\n",
    "        \n",
    "for line in data1:\n",
    "    line = line.strip().split()\n",
    "    # node_name.append(line[0])\n",
    "    posterior_mean_baseml.append(float(line[1]))\n",
    "#     if line[3].startswith('('):\n",
    "#         lower_ci_baseml.append(float(line[3][1:-1]))\n",
    "#     else:\n",
    "#          lower_ci_baseml.append(float(line[3][:-1]))\n",
    "#     if line[4].startswith('('):\n",
    "#         upper_ci_baseml.append(float(line[4][1:-1]))\n",
    "#     else:\n",
    "#          upper_ci_baseml.append(float(line[4][:-1]))\n",
    "#         \n",
    "#     \n",
    "# for line in mu_data1:\n",
    "#     line = line.strip().split()\n",
    "#     # node_name.append(line[0])\n",
    "#     posterior_mean_mu_baseml.append(float(line[1]))\n",
    "#     lower_ci_mu_baseml.append(float(line[3][:-1]))\n",
    "#     upper_ci_mu_baseml.append(float(line[4][:-1]))\n",
    "    \n",
    "# for line in var_data1:\n",
    "#     line = line.strip().split()\n",
    "#     # node_name.append(line[0])\n",
    "#     posterior_mean_var_baseml.append(float(line[1]))\n",
    "#     lower_ci_var_baseml.append(float(line[3][:-1]))\n",
    "#     upper_ci_var_baseml.append(float(line[4][:-1]))"
   ],
   "id": "f75c012c6bef60a2",
   "outputs": [],
   "execution_count": 9
  },
  {
   "metadata": {
    "ExecuteTime": {
     "end_time": "2024-10-31T19:18:02.434540Z",
     "start_time": "2024-10-31T19:18:02.431181Z"
    }
   },
   "cell_type": "code",
   "source": [
    "import matplotlib.pyplot as plt\n",
    "import numpy as np\n",
    "\n",
    "# # Example data\n",
    "# # Posterior means for MCMCtree (x-axis) and McmcDate (y-axis)\n",
    "# posterior_mean_mcmctree = [100, 200, 300, 400, 500, 600, 700, 800, 900, 1000]\n",
    "# posterior_mean_mcmcdate = [110, 210, 310, 410, 510, 610, 710, 810, 910, 1010]\n",
    "# \n",
    "# # Credible intervals for MCMCtree\n",
    "# lower_ci_mcmctree = [90, 180, 270, 360, 450, 540, 630, 720, 810, 900]\n",
    "# upper_ci_mcmctree = [110, 220, 330, 440, 550, 660, 770, 880, 990, 1100]\n",
    "# \n",
    "# # Credible intervals for McmcDate\n",
    "# lower_ci_mcmcdate = [100, 200, 300, 400, 500, 600, 700, 800, 900, 1000]\n",
    "# upper_ci_mcmcdate = [120, 220, 320, 420, 520, 620, 720, 820, 920, 1020]\n",
    "\n",
    "# Calculate error bars\n",
    "# xerr = [np.array(lower_ci_baseml), \n",
    "#         np.array(upper_ci_baseml)]\n",
    "# yerr = [np.array(lower_ci_iqtree), \n",
    "#         np.array(upper_ci_iqtree)]\n",
    "# \n",
    "# # Plotting\n",
    "# fig, ax = plt.subplots(figsize=(15, 15))\n",
    "# ax.plot([-0.1,90], \n",
    "#         [-0.1, 90], \n",
    "#         'k--', label='y=x')\n",
    "# ax.errorbar(posterior_mean_baseml, posterior_mean_iqtree, \n",
    "#             xerr=xerr, yerr=yerr, fmt='*', ecolor='r', capsize=3, label='95% HPD CI')\n",
    "# \n",
    "# # Labels and title\n",
    "# ax.set_xlabel('Posterior mean age LG [100 Mya]', fontsize=18)\n",
    "# ax.set_ylabel('Posterior mean age LG+G4 [100 Mya]', fontsize=18)\n",
    "# ax.set_title('Posterior mean age comparison between LG and LG+G4 models [t116 ~ B(1.25,2.482)]')\n",
    "# ax.legend()\n",
    "# \n",
    "# # Show plot\n",
    "# # plt.show()\n",
    "# plt.savefig('./animal_origin_posterior_mean_age_comparison_LG_G4_c11.png')"
   ],
   "id": "12db486fa4fac82c",
   "outputs": [],
   "execution_count": 10
  },
  {
   "metadata": {
    "ExecuteTime": {
     "end_time": "2024-10-31T19:18:02.486610Z",
     "start_time": "2024-10-31T19:18:02.482606Z"
    }
   },
   "cell_type": "code",
   "source": "posterior_mean_baseml",
   "id": "917b2e31cff4b992",
   "outputs": [
    {
     "data": {
      "text/plain": [
       "[3.1263,\n",
       " 1.7379,\n",
       " 1.6833,\n",
       " 1.639,\n",
       " 1.2734,\n",
       " 0.6992,\n",
       " 0.5941,\n",
       " 0.3916,\n",
       " 0.0425,\n",
       " 0.4862,\n",
       " 0.3627,\n",
       " 0.1023,\n",
       " 0.6048,\n",
       " 0.4177,\n",
       " 0.4877,\n",
       " 0.1477,\n",
       " 0.0513,\n",
       " 0.0133,\n",
       " 1.533,\n",
       " 1.2387,\n",
       " 0.9032,\n",
       " 0.6941,\n",
       " 0.3581,\n",
       " 0.5715,\n",
       " 0.7453,\n",
       " 0.6981,\n",
       " 0.4698,\n",
       " 0.2744,\n",
       " 0.2046,\n",
       " 0.0848,\n",
       " 0.3936,\n",
       " 0.2932,\n",
       " 0.4409,\n",
       " 0.6722,\n",
       " 0.5382,\n",
       " 0.4203,\n",
       " 0.2792,\n",
       " 0.1098,\n",
       " 0.0806,\n",
       " 0.0599,\n",
       " 0.0379,\n",
       " 0.1961,\n",
       " 0.0666,\n",
       " 0.3905,\n",
       " 0.2701,\n",
       " 0.1802,\n",
       " 0.0513,\n",
       " 0.4247,\n",
       " 0.2702,\n",
       " 1.4401,\n",
       " 1.3458,\n",
       " 0.5548,\n",
       " 0.1385,\n",
       " 0.1091,\n",
       " 0.0359,\n",
       " 0.2995,\n",
       " 0.2299,\n",
       " 1.9709,\n",
       " 0.9138]"
      ]
     },
     "execution_count": 11,
     "metadata": {},
     "output_type": "execute_result"
    }
   ],
   "execution_count": 11
  },
  {
   "metadata": {
    "ExecuteTime": {
     "end_time": "2024-10-31T19:18:02.540120Z",
     "start_time": "2024-10-31T19:18:02.536872Z"
    }
   },
   "cell_type": "code",
   "source": "posterior_mean_iqtree",
   "id": "59ad8fd34f7bbf11",
   "outputs": [
    {
     "data": {
      "text/plain": [
       "[3.143,\n",
       " 1.7468,\n",
       " 1.697,\n",
       " 1.6536,\n",
       " 1.2776,\n",
       " 0.6966,\n",
       " 0.5913,\n",
       " 0.3872,\n",
       " 0.0414,\n",
       " 0.4844,\n",
       " 0.3618,\n",
       " 0.1028,\n",
       " 0.599,\n",
       " 0.4101,\n",
       " 0.4793,\n",
       " 0.1413,\n",
       " 0.0506,\n",
       " 0.0131,\n",
       " 1.549,\n",
       " 1.2523,\n",
       " 0.9111,\n",
       " 0.6983,\n",
       " 0.3597,\n",
       " 0.5746,\n",
       " 0.7548,\n",
       " 0.7071,\n",
       " 0.4744,\n",
       " 0.2783,\n",
       " 0.2031,\n",
       " 0.0843,\n",
       " 0.3979,\n",
       " 0.2969,\n",
       " 0.4446,\n",
       " 0.6741,\n",
       " 0.54,\n",
       " 0.4182,\n",
       " 0.2784,\n",
       " 0.1098,\n",
       " 0.0808,\n",
       " 0.06,\n",
       " 0.0378,\n",
       " 0.196,\n",
       " 0.0671,\n",
       " 0.389,\n",
       " 0.2682,\n",
       " 0.179,\n",
       " 0.0513,\n",
       " 0.424,\n",
       " 0.2705,\n",
       " 1.4457,\n",
       " 1.3541,\n",
       " 0.5538,\n",
       " 0.138,\n",
       " 0.1088,\n",
       " 0.0377,\n",
       " 0.2925,\n",
       " 0.224,\n",
       " 1.9675,\n",
       " 0.9128]"
      ]
     },
     "execution_count": 12,
     "metadata": {},
     "output_type": "execute_result"
    }
   ],
   "execution_count": 12
  },
  {
   "metadata": {
    "ExecuteTime": {
     "end_time": "2024-10-31T19:18:40.836720Z",
     "start_time": "2024-10-31T19:18:40.662562Z"
    }
   },
   "cell_type": "code",
   "source": [
    "# Calculate error bars\n",
    "xerr = [np.array(lower_ci_baseml), \n",
    "        np.array(upper_ci_baseml)]\n",
    "yerr = [np.array(lower_ci_iqtree), \n",
    "        np.array(upper_ci_iqtree)]\n",
    "\n",
    "# Plotting\n",
    "fig, ax = plt.subplots(figsize=(9 ,9))\n",
    "ax.plot([-0.1,3.3], \n",
    "        [-0.1, 3.3], \n",
    "        'k--', label='y=x')\n",
    "points = ax.plot(posterior_mean_iqtree, posterior_mean_baseml, 'o', label='Posterior mean age')\n",
    "\n",
    "points[0].set_markerfacecolor('blue')\n",
    "# points[23].set_markerfacecolor('blue')# Set default face color (for other points)\n",
    "\n",
    "# Now plot the highlighted point with a different color\n",
    "ax.scatter(posterior_mean_iqtree[0], posterior_mean_baseml[0], color='red', s=100)\n",
    "# ax.scatter(posterior_mean_iqtree[4], posterior_mean_baseml[4], color='red', s=100)\n",
    "# ax.scatter(posterior_mean_iqtree[0], posterior_mean_baseml[0], color='red', label='Root age')\n",
    "ax.annotate('root calibration:\\n ST(1.6419,0.4248,12.6518,1714.5649)', \n",
    "        xy=(posterior_mean_iqtree[0], posterior_mean_baseml[0]), \n",
    "        xytext=(posterior_mean_iqtree[0]-1.8,  posterior_mean_baseml[0]+0.1 ),  # Offset position for the label\n",
    "        arrowprops=dict(arrowstyle='->', color='red'),  # Arrow style\n",
    "        fontsize=12, color='red') \n",
    "# ax.annotate('middle calibration:\\n B(0.2304,0.5600)', \n",
    "#         xy=(posterior_mean_iqtree[4], posterior_mean_baseml[4]), \n",
    "#         xytext=(posterior_mean_iqtree[4]+0.8 ,  posterior_mean_baseml[4] ),  # Offset position for the label\n",
    "#         arrowprops=dict(arrowstyle='->', color='red'),  # Arrow style\n",
    "#         fontsize=12, color='red') \n",
    " \n",
    "# Labels and title\n",
    "ax.set_ylabel('Posterior mean age GTR+G4 [100 Mya]', fontsize=18)\n",
    "ax.set_xlabel('Posterior mean age Partition MF [-Q] [100 Mya]', fontsize=18)\n",
    "# ax.set_title('Posterior mean age comparison between LG and Partition MF [-p] [t199 ~ B(10.3300,45.2000)]')\n",
    "ax.legend()\n",
    "\n",
    "# point_x = posterior_mean_baseml[0]  # Example: first point in the list\n",
    "# point_y = posterior_mean_iqtree[0]  # Example: first point in the list\n",
    "# ax.annotate('Root age', xy=(point_x, point_y), xytext=(point_x - 0.1, point_y - 0.1), color='red')\n",
    "# Show plot\n",
    "# plt.show()\n",
    "plt.savefig('./afrotheria_posterior_mean_age_comparison_partition_MF_p_root_scatter.png')"
   ],
   "id": "592d0bb72aa1ad4c",
   "outputs": [
    {
     "data": {
      "text/plain": [
       "<Figure size 900x900 with 1 Axes>"
      ],
      "image/png": "[encoded data removed]"
     },
     "metadata": {},
     "output_type": "display_data"
    }
   ],
   "execution_count": 16
  },
  {
   "metadata": {
    "ExecuteTime": {
     "end_time": "2024-10-31T19:18:02.938026Z",
     "start_time": "2024-10-31T19:18:02.935211Z"
    }
   },
   "cell_type": "code",
   "source": [
    "# fig, ax = plt.subplots(figsize=(9 ,9))\n",
    "# ax.plot([0.01,0.04], \n",
    "#         [0.01, 0.04], \n",
    "#         'k--', label='y=x')\n",
    "# ax.plot(posterior_mean_mu_baseml, posterior_mean_mu_iqtree, 'o', label='Posterior mean rates for partitions')\n",
    "#  \n",
    "# # Labels and title\n",
    "# ax.set_xlabel('Posterior mean rate [LG]', fontsize=18)\n",
    "# ax.set_ylabel('Posterior mean rate [LG+G4]', fontsize=18)\n",
    "# ax.set_title('Posterior mean rate comparison between LG and LG+G4 [Cherry only calibration/IQ-TREE]')\n",
    "# ax.legend()\n",
    "# \n",
    "# # point_x = posterior_mean_baseml[0]  # Example: first point in the list\n",
    "# # point_y = posterior_mean_iqtree[0]  # Example: first point in the list\n",
    "# # ax.annotate('Root age', xy=(point_x, point_y), xytext=(point_x - 0.1, point_y - 0.1), color='red')\n",
    "# # Show plot\n",
    "# # plt.show()\n",
    "# plt.savefig('./animal_origin__posterior_mean_rate_comparison_LG_G4_all_scatter.png')"
   ],
   "id": "c6d69ee36c77970c",
   "outputs": [],
   "execution_count": 14
  },
  {
   "metadata": {
    "ExecuteTime": {
     "end_time": "2024-10-31T19:18:02.986719Z",
     "start_time": "2024-10-31T19:18:02.984871Z"
    }
   },
   "cell_type": "code",
   "source": "",
   "id": "ca69d5b521db3aa7",
   "outputs": [],
   "execution_count": null
  }
 ],
 "metadata": {
  "kernelspec": {
   "display_name": "Python 3",
   "language": "python",
   "name": "python3"
  },
  "language_info": {
   "codemirror_mode": {
    "name": "ipython",
    "version": 2
   },
   "file_extension": ".py",
   "mimetype": "text/x-python",
   "name": "python",
   "nbconvert_exporter": "python",
   "pygments_lexer": "ipython2",
   "version": "2.7.6"
  }
 },
 "nbformat": 4,
 "nbformat_minor": 5
}
