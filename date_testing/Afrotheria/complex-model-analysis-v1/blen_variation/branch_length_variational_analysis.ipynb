{
 "cells": [
  {
   "cell_type": "code",
   "id": "initial_id",
   "metadata": {
    "collapsed": true,
    "ExecuteTime": {
     "end_time": "2024-11-27T04:56:01.331082Z",
     "start_time": "2024-11-27T04:56:01.102977Z"
    }
   },
   "source": [
    "import copy\n",
    "import numpy as np\n",
    "import matplotlib.pyplot as plt"
   ],
   "outputs": [],
   "execution_count": 1
  },
  {
   "metadata": {
    "ExecuteTime": {
     "end_time": "2024-11-27T04:56:01.338061Z",
     "start_time": "2024-11-27T04:56:01.335472Z"
    }
   },
   "cell_type": "code",
   "source": [
    "MF_p_file = \"/home/piyumal/PHD/TimeTree/TreeMatching2/date_testing/Afrotheria/complex-model-analysis-v1/blen_variation/Afotheria_5parts_iqtree.nex.best_model.nex.MF_p.in.BV\"\n",
    "\n",
    "GTR_G4_file = \"/home/piyumal/PHD/TimeTree/TreeMatching2/date_testing/Afrotheria/complex-model-analysis-v1/blen_variation/Afotheria_5parts_iqtree.phy.GTR_G4_single_aln.in.BV\"\n",
    "\n",
    "MIX_MF_file = \"/home/piyumal/PHD/TimeTree/TreeMatching2/date_testing/Afrotheria/complex-model-analysis-v1/blen_variation/Afotheria_5parts_iqtree.phy.MIX_MF.in.BV\""
   ],
   "id": "3cd3ac3463b9f8e3",
   "outputs": [],
   "execution_count": 2
  },
  {
   "metadata": {
    "ExecuteTime": {
     "end_time": "2024-11-27T04:56:01.391546Z",
     "start_time": "2024-11-27T04:56:01.383105Z"
    }
   },
   "cell_type": "code",
   "source": [
    "import copy\n",
    "\n",
    "def parse_iqtree_file(file_path):\n",
    "    \"\"\"\n",
    "    Parses an IQ-TREE file to extract Hessian matrices and gradient vectors.\n",
    "\n",
    "    Parameters:\n",
    "    - file_path (str): Path to the IQ-TREE output file.\n",
    "\n",
    "    Returns:\n",
    "    - hessians (list): A list of Hessian matrices.\n",
    "    - gradient_vectors (list): A list of gradient vectors.\n",
    "    \"\"\"\n",
    "    hessians = []\n",
    "    treestrings = []\n",
    "    branch_lengths = []\n",
    "    gradient_vectors = []\n",
    "    hessian_list = []\n",
    "    counter = 0\n",
    "\n",
    "    with open(file_path) as f:\n",
    "        for k, line in enumerate(f.readlines()):\n",
    "            if counter == 3:\n",
    "                treestrings.append(line.strip())\n",
    "                print('tree string', k)\n",
    "            if counter == 5:\n",
    "                branch_lengths_numerical = line.strip().split()\n",
    "                branch_lengths.append([float(i) for i in branch_lengths_numerical])\n",
    "                print('branch lengths', k)\n",
    "            if counter == 7:\n",
    "                gradients_numerical = line.strip().split()\n",
    "                gradient_vectors.append([float(i) for i in gradients_numerical])\n",
    "                print('gradients', k)\n",
    "\n",
    "            if counter > 10 and line.strip() == '':\n",
    "                hessians.append(copy.deepcopy(hessian_list))\n",
    "                hessian_list = []\n",
    "                counter = 0\n",
    "                print('Hessian all string', k)\n",
    "            elif counter > 10:\n",
    "                hessian_row_numerical = line.strip().split()\n",
    "                hessian_list.append([float(i) for i in hessian_row_numerical])\n",
    "                print('local hessian', k)\n",
    "            counter += 1\n",
    "        else:\n",
    "            if hessian_list:  # Append the last Hessian if the file doesn't end with an empty line\n",
    "                hessians.append(copy.deepcopy(hessian_list))\n",
    "\n",
    "    return hessians[0], branch_lengths[0]\n"
   ],
   "id": "61e8ccf990446594",
   "outputs": [],
   "execution_count": 3
  },
  {
   "metadata": {
    "ExecuteTime": {
     "end_time": "2024-11-27T04:56:01.468695Z",
     "start_time": "2024-11-27T04:56:01.442366Z"
    }
   },
   "cell_type": "code",
   "source": [
    "GTR_h, GTR_b = parse_iqtree_file(GTR_G4_file)\n",
    "MF_p_h, MF_p_b = parse_iqtree_file(MF_p_file)\n",
    "MIX_MF_h, MIX_MF_b = parse_iqtree_file(MIX_MF_file)"
   ],
   "id": "d382a98d39a23121",
   "outputs": [
    {
     "name": "stdout",
     "output_type": "stream",
     "text": [
      "tree string 3\n",
      "branch lengths 5\n",
      "gradients 7\n",
      "local hessian 11\n",
      "local hessian 12\n",
      "local hessian 13\n",
      "local hessian 14\n",
      "local hessian 15\n",
      "local hessian 16\n",
      "local hessian 17\n",
      "local hessian 18\n",
      "local hessian 19\n",
      "local hessian 20\n",
      "local hessian 21\n",
      "local hessian 22\n",
      "local hessian 23\n",
      "local hessian 24\n",
      "local hessian 25\n",
      "local hessian 26\n",
      "local hessian 27\n",
      "local hessian 28\n",
      "local hessian 29\n",
      "local hessian 30\n",
      "local hessian 31\n",
      "local hessian 32\n",
      "local hessian 33\n",
      "local hessian 34\n",
      "local hessian 35\n",
      "local hessian 36\n",
      "local hessian 37\n",
      "local hessian 38\n",
      "local hessian 39\n",
      "local hessian 40\n",
      "local hessian 41\n",
      "local hessian 42\n",
      "local hessian 43\n",
      "local hessian 44\n",
      "local hessian 45\n",
      "local hessian 46\n",
      "local hessian 47\n",
      "local hessian 48\n",
      "local hessian 49\n",
      "local hessian 50\n",
      "local hessian 51\n",
      "local hessian 52\n",
      "local hessian 53\n",
      "local hessian 54\n",
      "local hessian 55\n",
      "local hessian 56\n",
      "local hessian 57\n",
      "local hessian 58\n",
      "local hessian 59\n",
      "local hessian 60\n",
      "local hessian 61\n",
      "local hessian 62\n",
      "local hessian 63\n",
      "local hessian 64\n",
      "local hessian 65\n",
      "local hessian 66\n",
      "local hessian 67\n",
      "local hessian 68\n",
      "local hessian 69\n",
      "local hessian 70\n",
      "local hessian 71\n",
      "local hessian 72\n",
      "local hessian 73\n",
      "local hessian 74\n",
      "local hessian 75\n",
      "local hessian 76\n",
      "local hessian 77\n",
      "local hessian 78\n",
      "local hessian 79\n",
      "local hessian 80\n",
      "local hessian 81\n",
      "local hessian 82\n",
      "local hessian 83\n",
      "local hessian 84\n",
      "local hessian 85\n",
      "local hessian 86\n",
      "local hessian 87\n",
      "local hessian 88\n",
      "local hessian 89\n",
      "local hessian 90\n",
      "local hessian 91\n",
      "local hessian 92\n",
      "local hessian 93\n",
      "local hessian 94\n",
      "local hessian 95\n",
      "local hessian 96\n",
      "local hessian 97\n",
      "local hessian 98\n",
      "local hessian 99\n",
      "local hessian 100\n",
      "local hessian 101\n",
      "local hessian 102\n",
      "local hessian 103\n",
      "local hessian 104\n",
      "local hessian 105\n",
      "local hessian 106\n",
      "local hessian 107\n",
      "local hessian 108\n",
      "local hessian 109\n",
      "local hessian 110\n",
      "local hessian 111\n",
      "local hessian 112\n",
      "local hessian 113\n",
      "local hessian 114\n",
      "local hessian 115\n",
      "local hessian 116\n",
      "local hessian 117\n",
      "local hessian 118\n",
      "local hessian 119\n",
      "local hessian 120\n",
      "local hessian 121\n",
      "local hessian 122\n",
      "local hessian 123\n",
      "local hessian 124\n",
      "local hessian 125\n",
      "local hessian 126\n",
      "local hessian 127\n",
      "tree string 3\n",
      "branch lengths 5\n",
      "gradients 7\n",
      "local hessian 11\n",
      "local hessian 12\n",
      "local hessian 13\n",
      "local hessian 14\n",
      "local hessian 15\n",
      "local hessian 16\n",
      "local hessian 17\n",
      "local hessian 18\n",
      "local hessian 19\n",
      "local hessian 20\n",
      "local hessian 21\n",
      "local hessian 22\n",
      "local hessian 23\n",
      "local hessian 24\n",
      "local hessian 25\n",
      "local hessian 26\n",
      "local hessian 27\n",
      "local hessian 28\n",
      "local hessian 29\n",
      "local hessian 30\n",
      "local hessian 31\n",
      "local hessian 32\n",
      "local hessian 33\n",
      "local hessian 34\n",
      "local hessian 35\n",
      "local hessian 36\n",
      "local hessian 37\n",
      "local hessian 38\n",
      "local hessian 39\n",
      "local hessian 40\n",
      "local hessian 41\n",
      "local hessian 42\n",
      "local hessian 43\n",
      "local hessian 44\n",
      "local hessian 45\n",
      "local hessian 46\n",
      "local hessian 47\n",
      "local hessian 48\n",
      "local hessian 49\n",
      "local hessian 50\n",
      "local hessian 51\n",
      "local hessian 52\n",
      "local hessian 53\n",
      "local hessian 54\n",
      "local hessian 55\n",
      "local hessian 56\n",
      "local hessian 57\n",
      "local hessian 58\n",
      "local hessian 59\n",
      "local hessian 60\n",
      "local hessian 61\n",
      "local hessian 62\n",
      "local hessian 63\n",
      "local hessian 64\n",
      "local hessian 65\n",
      "local hessian 66\n",
      "local hessian 67\n",
      "local hessian 68\n",
      "local hessian 69\n",
      "local hessian 70\n",
      "local hessian 71\n",
      "local hessian 72\n",
      "local hessian 73\n",
      "local hessian 74\n",
      "local hessian 75\n",
      "local hessian 76\n",
      "local hessian 77\n",
      "local hessian 78\n",
      "local hessian 79\n",
      "local hessian 80\n",
      "local hessian 81\n",
      "local hessian 82\n",
      "local hessian 83\n",
      "local hessian 84\n",
      "local hessian 85\n",
      "local hessian 86\n",
      "local hessian 87\n",
      "local hessian 88\n",
      "local hessian 89\n",
      "local hessian 90\n",
      "local hessian 91\n",
      "local hessian 92\n",
      "local hessian 93\n",
      "local hessian 94\n",
      "local hessian 95\n",
      "local hessian 96\n",
      "local hessian 97\n",
      "local hessian 98\n",
      "local hessian 99\n",
      "local hessian 100\n",
      "local hessian 101\n",
      "local hessian 102\n",
      "local hessian 103\n",
      "local hessian 104\n",
      "local hessian 105\n",
      "local hessian 106\n",
      "local hessian 107\n",
      "local hessian 108\n",
      "local hessian 109\n",
      "local hessian 110\n",
      "local hessian 111\n",
      "local hessian 112\n",
      "local hessian 113\n",
      "local hessian 114\n",
      "local hessian 115\n",
      "local hessian 116\n",
      "local hessian 117\n",
      "local hessian 118\n",
      "local hessian 119\n",
      "local hessian 120\n",
      "local hessian 121\n",
      "local hessian 122\n",
      "local hessian 123\n",
      "local hessian 124\n",
      "local hessian 125\n",
      "local hessian 126\n",
      "local hessian 127\n",
      "tree string 3\n",
      "branch lengths 5\n",
      "gradients 7\n",
      "local hessian 11\n",
      "local hessian 12\n",
      "local hessian 13\n",
      "local hessian 14\n",
      "local hessian 15\n",
      "local hessian 16\n",
      "local hessian 17\n",
      "local hessian 18\n",
      "local hessian 19\n",
      "local hessian 20\n",
      "local hessian 21\n",
      "local hessian 22\n",
      "local hessian 23\n",
      "local hessian 24\n",
      "local hessian 25\n",
      "local hessian 26\n",
      "local hessian 27\n",
      "local hessian 28\n",
      "local hessian 29\n",
      "local hessian 30\n",
      "local hessian 31\n",
      "local hessian 32\n",
      "local hessian 33\n",
      "local hessian 34\n",
      "local hessian 35\n",
      "local hessian 36\n",
      "local hessian 37\n",
      "local hessian 38\n",
      "local hessian 39\n",
      "local hessian 40\n",
      "local hessian 41\n",
      "local hessian 42\n",
      "local hessian 43\n",
      "local hessian 44\n",
      "local hessian 45\n",
      "local hessian 46\n",
      "local hessian 47\n",
      "local hessian 48\n",
      "local hessian 49\n",
      "local hessian 50\n",
      "local hessian 51\n",
      "local hessian 52\n",
      "local hessian 53\n",
      "local hessian 54\n",
      "local hessian 55\n",
      "local hessian 56\n",
      "local hessian 57\n",
      "local hessian 58\n",
      "local hessian 59\n",
      "local hessian 60\n",
      "local hessian 61\n",
      "local hessian 62\n",
      "local hessian 63\n",
      "local hessian 64\n",
      "local hessian 65\n",
      "local hessian 66\n",
      "local hessian 67\n",
      "local hessian 68\n",
      "local hessian 69\n",
      "local hessian 70\n",
      "local hessian 71\n",
      "local hessian 72\n",
      "local hessian 73\n",
      "local hessian 74\n",
      "local hessian 75\n",
      "local hessian 76\n",
      "local hessian 77\n",
      "local hessian 78\n",
      "local hessian 79\n",
      "local hessian 80\n",
      "local hessian 81\n",
      "local hessian 82\n",
      "local hessian 83\n",
      "local hessian 84\n",
      "local hessian 85\n",
      "local hessian 86\n",
      "local hessian 87\n",
      "local hessian 88\n",
      "local hessian 89\n",
      "local hessian 90\n",
      "local hessian 91\n",
      "local hessian 92\n",
      "local hessian 93\n",
      "local hessian 94\n",
      "local hessian 95\n",
      "local hessian 96\n",
      "local hessian 97\n",
      "local hessian 98\n",
      "local hessian 99\n",
      "local hessian 100\n",
      "local hessian 101\n",
      "local hessian 102\n",
      "local hessian 103\n",
      "local hessian 104\n",
      "local hessian 105\n",
      "local hessian 106\n",
      "local hessian 107\n",
      "local hessian 108\n",
      "local hessian 109\n",
      "local hessian 110\n",
      "local hessian 111\n",
      "local hessian 112\n",
      "local hessian 113\n",
      "local hessian 114\n",
      "local hessian 115\n",
      "local hessian 116\n",
      "local hessian 117\n",
      "local hessian 118\n",
      "local hessian 119\n",
      "local hessian 120\n",
      "local hessian 121\n",
      "local hessian 122\n",
      "local hessian 123\n",
      "local hessian 124\n",
      "local hessian 125\n",
      "local hessian 126\n",
      "local hessian 127\n"
     ]
    }
   ],
   "execution_count": 4
  },
  {
   "metadata": {
    "ExecuteTime": {
     "end_time": "2024-11-27T04:56:01.504733Z",
     "start_time": "2024-11-27T04:56:01.500724Z"
    }
   },
   "cell_type": "code",
   "source": [
    "GTR_h = np.array(GTR_h)\n",
    "GTR_b = np.array(GTR_b)\n",
    "\n",
    "MF_p_h = np.array(MF_p_h)\n",
    "MF_p_b = np.array(MF_p_b)\n",
    "\n",
    "MIX_MF_h = np.array(MIX_MF_h)\n",
    "MIX_MF_b = np.array(MIX_MF_b)"
   ],
   "id": "20386abf8fedbcc6",
   "outputs": [],
   "execution_count": 5
  },
  {
   "metadata": {
    "ExecuteTime": {
     "end_time": "2024-11-27T04:56:01.561854Z",
     "start_time": "2024-11-27T04:56:01.557566Z"
    }
   },
   "cell_type": "code",
   "source": "GTR_h.shape",
   "id": "159771b607c15d25",
   "outputs": [
    {
     "data": {
      "text/plain": [
       "(117, 117)"
      ]
     },
     "execution_count": 6,
     "metadata": {},
     "output_type": "execute_result"
    }
   ],
   "execution_count": 6
  },
  {
   "metadata": {
    "ExecuteTime": {
     "end_time": "2024-11-27T04:56:01.630216Z",
     "start_time": "2024-11-27T04:56:01.626427Z"
    }
   },
   "cell_type": "code",
   "source": "GTR_h",
   "id": "8354294f0d173c20",
   "outputs": [
    {
     "data": {
      "text/plain": [
       "array([[-1.72920e+06, -7.03846e+05, -4.87397e+05, ...,  2.74569e+03,\n",
       "         1.71910e+04,  1.29010e+04],\n",
       "       [-7.03846e+05, -2.13651e+06, -7.23878e+05, ..., -8.79126e+02,\n",
       "         1.70323e+04,  1.55645e+04],\n",
       "       [-4.87397e+05, -7.23878e+05, -1.31689e+06, ..., -1.11225e+03,\n",
       "         5.82617e+03,  1.29562e+04],\n",
       "       ...,\n",
       "       [ 2.74569e+03, -8.79126e+02, -1.11225e+03, ..., -1.10179e+05,\n",
       "         5.01945e+03, -1.35176e+04],\n",
       "       [ 1.71910e+04,  1.70323e+04,  5.82617e+03, ...,  5.01945e+03,\n",
       "        -4.07777e+05, -1.83410e+05],\n",
       "       [ 1.29010e+04,  1.55645e+04,  1.29562e+04, ..., -1.35176e+04,\n",
       "        -1.83410e+05, -5.15222e+05]])"
      ]
     },
     "execution_count": 7,
     "metadata": {},
     "output_type": "execute_result"
    }
   ],
   "execution_count": 7
  },
  {
   "metadata": {
    "ExecuteTime": {
     "end_time": "2024-11-27T04:56:01.833526Z",
     "start_time": "2024-11-27T04:56:01.830674Z"
    }
   },
   "cell_type": "code",
   "source": "GTR_b.shape",
   "id": "2bf96d16c3b0c866",
   "outputs": [
    {
     "data": {
      "text/plain": [
       "(117,)"
      ]
     },
     "execution_count": 8,
     "metadata": {},
     "output_type": "execute_result"
    }
   ],
   "execution_count": 8
  },
  {
   "metadata": {
    "ExecuteTime": {
     "end_time": "2024-11-27T04:56:01.902249Z",
     "start_time": "2024-11-27T04:56:01.899125Z"
    }
   },
   "cell_type": "code",
   "source": "MIX_MF_h.shape",
   "id": "d3453b2b781eab43",
   "outputs": [
    {
     "data": {
      "text/plain": [
       "(117, 117)"
      ]
     },
     "execution_count": 9,
     "metadata": {},
     "output_type": "execute_result"
    }
   ],
   "execution_count": 9
  },
  {
   "metadata": {
    "ExecuteTime": {
     "end_time": "2024-11-27T04:56:01.977029Z",
     "start_time": "2024-11-27T04:56:01.973147Z"
    }
   },
   "cell_type": "code",
   "source": "MIX_MF_b.shape",
   "id": "4f9a8a8ac057a613",
   "outputs": [
    {
     "data": {
      "text/plain": [
       "(117,)"
      ]
     },
     "execution_count": 10,
     "metadata": {},
     "output_type": "execute_result"
    }
   ],
   "execution_count": 10
  },
  {
   "metadata": {
    "ExecuteTime": {
     "end_time": "2024-11-27T04:56:02.137115Z",
     "start_time": "2024-11-27T04:56:02.133266Z"
    }
   },
   "cell_type": "code",
   "source": "MF_p_h.shape",
   "id": "5c4982c4141e7dc6",
   "outputs": [
    {
     "data": {
      "text/plain": [
       "(117, 117)"
      ]
     },
     "execution_count": 11,
     "metadata": {},
     "output_type": "execute_result"
    }
   ],
   "execution_count": 11
  },
  {
   "metadata": {
    "ExecuteTime": {
     "end_time": "2024-11-27T04:56:02.206696Z",
     "start_time": "2024-11-27T04:56:02.202584Z"
    }
   },
   "cell_type": "code",
   "source": "MF_p_b.shape",
   "id": "4206d433ab360578",
   "outputs": [
    {
     "data": {
      "text/plain": [
       "(117,)"
      ]
     },
     "execution_count": 12,
     "metadata": {},
     "output_type": "execute_result"
    }
   ],
   "execution_count": 12
  },
  {
   "metadata": {
    "ExecuteTime": {
     "end_time": "2024-11-27T04:56:02.273775Z",
     "start_time": "2024-11-27T04:56:02.254111Z"
    }
   },
   "cell_type": "code",
   "source": "GTR_h_inv = np.linalg.inv((-1)*GTR_h)",
   "id": "a6f149e8f9af598d",
   "outputs": [],
   "execution_count": 13
  },
  {
   "metadata": {
    "ExecuteTime": {
     "end_time": "2024-11-27T04:56:02.304134Z",
     "start_time": "2024-11-27T04:56:02.301342Z"
    }
   },
   "cell_type": "code",
   "source": "identity = np.dot(GTR_h, GTR_h_inv)",
   "id": "1ec7a600c42ab451",
   "outputs": [],
   "execution_count": 14
  },
  {
   "metadata": {
    "ExecuteTime": {
     "end_time": "2024-11-27T04:56:02.359726Z",
     "start_time": "2024-11-27T04:56:02.355436Z"
    }
   },
   "cell_type": "code",
   "source": "identity",
   "id": "d38f7e3a2303a983",
   "outputs": [
    {
     "data": {
      "text/plain": [
       "array([[-1.00000000e+00,  1.07641094e-16,  2.99543825e-16, ...,\n",
       "        -7.39732402e-17, -1.85508686e-17, -4.68121229e-17],\n",
       "       [-2.55863821e-16, -1.00000000e+00,  3.01837818e-16, ...,\n",
       "        -2.51174650e-17, -1.02325815e-17,  5.45743328e-18],\n",
       "       [-6.70293796e-18,  2.12943300e-16, -1.00000000e+00, ...,\n",
       "         4.31307805e-17,  8.01877440e-18,  1.65380733e-17],\n",
       "       ...,\n",
       "       [ 1.29273224e-18,  1.51543271e-18, -1.49263025e-18, ...,\n",
       "        -1.00000000e+00, -6.52172115e-19,  6.99365004e-18],\n",
       "       [-1.55072807e-17, -1.18345740e-17, -7.18986712e-18, ...,\n",
       "         9.50265088e-19, -1.00000000e+00, -5.12116120e-17],\n",
       "       [-4.61276938e-18, -5.20552054e-18, -2.12130137e-18, ...,\n",
       "         1.19548218e-16,  5.92567309e-17, -1.00000000e+00]])"
      ]
     },
     "execution_count": 15,
     "metadata": {},
     "output_type": "execute_result"
    }
   ],
   "execution_count": 15
  },
  {
   "metadata": {
    "ExecuteTime": {
     "end_time": "2024-11-27T04:56:02.441349Z",
     "start_time": "2024-11-27T04:56:02.438615Z"
    }
   },
   "cell_type": "code",
   "source": "MF_p_h_inv = np.linalg.inv((-1)*MF_p_h)",
   "id": "8e0bd03a9bbea7ac",
   "outputs": [],
   "execution_count": 16
  },
  {
   "metadata": {
    "ExecuteTime": {
     "end_time": "2024-11-27T04:56:02.488864Z",
     "start_time": "2024-11-27T04:56:02.484821Z"
    }
   },
   "cell_type": "code",
   "source": "MIX_MF_h_inv = np.linalg.inv((-1)*MIX_MF_h)",
   "id": "9a0556385863fe4c",
   "outputs": [],
   "execution_count": 17
  },
  {
   "metadata": {
    "ExecuteTime": {
     "end_time": "2024-11-27T04:56:02.571168Z",
     "start_time": "2024-11-27T04:56:02.568814Z"
    }
   },
   "cell_type": "code",
   "source": "identity_MIX_MF = np.dot(MIX_MF_h, MIX_MF_h_inv)",
   "id": "a467c7468ba48e6",
   "outputs": [],
   "execution_count": 18
  },
  {
   "metadata": {
    "ExecuteTime": {
     "end_time": "2024-11-27T04:56:02.637143Z",
     "start_time": "2024-11-27T04:56:02.633365Z"
    }
   },
   "cell_type": "code",
   "source": "identity_MIX_MF",
   "id": "2a341c3ca8a11e12",
   "outputs": [
    {
     "data": {
      "text/plain": [
       "array([[-1.00000000e+00,  8.84361579e-17,  3.18351398e-17, ...,\n",
       "         3.58530043e-17,  2.85643354e-17, -6.03599019e-17],\n",
       "       [-4.24517339e-17, -1.00000000e+00,  3.17308407e-16, ...,\n",
       "        -5.43133725e-17,  2.53424239e-17, -2.04285380e-15],\n",
       "       [-5.13708542e-17, -5.52028312e-16, -1.00000000e+00, ...,\n",
       "         4.74118222e-17, -3.10491785e-16, -9.83561106e-16],\n",
       "       ...,\n",
       "       [ 1.52328687e-17,  1.75827930e-16, -2.62357287e-17, ...,\n",
       "        -1.00000000e+00, -1.15071000e-17,  8.70122632e-18],\n",
       "       [-3.13185219e-17,  2.89807673e-17,  1.41272459e-16, ...,\n",
       "         1.08752390e-16, -1.00000000e+00, -1.55570474e-16],\n",
       "       [-1.40382022e-16, -5.36362675e-16,  1.29510859e-15, ...,\n",
       "        -2.26328125e-16,  2.35165947e-16, -1.00000000e+00]])"
      ]
     },
     "execution_count": 19,
     "metadata": {},
     "output_type": "execute_result"
    }
   ],
   "execution_count": 19
  },
  {
   "metadata": {
    "ExecuteTime": {
     "end_time": "2024-11-27T04:56:02.718862Z",
     "start_time": "2024-11-27T04:56:02.716864Z"
    }
   },
   "cell_type": "code",
   "source": "GTR_h_inv_diag = np.diag(GTR_h_inv)",
   "id": "c3c1f26f44c1b35b",
   "outputs": [],
   "execution_count": 20
  },
  {
   "metadata": {
    "ExecuteTime": {
     "end_time": "2024-11-27T04:56:02.774896Z",
     "start_time": "2024-11-27T04:56:02.770706Z"
    }
   },
   "cell_type": "code",
   "source": "GTR_h_inv_diag.shape",
   "id": "a6a353bedd9ce702",
   "outputs": [
    {
     "data": {
      "text/plain": [
       "(117,)"
      ]
     },
     "execution_count": 21,
     "metadata": {},
     "output_type": "execute_result"
    }
   ],
   "execution_count": 21
  },
  {
   "metadata": {
    "ExecuteTime": {
     "end_time": "2024-11-27T04:56:02.844775Z",
     "start_time": "2024-11-27T04:56:02.842202Z"
    }
   },
   "cell_type": "code",
   "source": "MF_p_h_inv_diag = np.diag(MF_p_h_inv)",
   "id": "b9b55fabc476b2df",
   "outputs": [],
   "execution_count": 22
  },
  {
   "metadata": {
    "ExecuteTime": {
     "end_time": "2024-11-27T04:56:02.900914Z",
     "start_time": "2024-11-27T04:56:02.897380Z"
    }
   },
   "cell_type": "code",
   "source": "MF_p_h_inv_diag.shape",
   "id": "872a4a9ffe81f51a",
   "outputs": [
    {
     "data": {
      "text/plain": [
       "(117,)"
      ]
     },
     "execution_count": 23,
     "metadata": {},
     "output_type": "execute_result"
    }
   ],
   "execution_count": 23
  },
  {
   "metadata": {
    "ExecuteTime": {
     "end_time": "2024-11-27T04:56:03.021727Z",
     "start_time": "2024-11-27T04:56:03.017509Z"
    }
   },
   "cell_type": "code",
   "source": "MIX_MF_h_inv_diag = np.diag(MIX_MF_h_inv)",
   "id": "c8839ca49e65e700",
   "outputs": [],
   "execution_count": 24
  },
  {
   "metadata": {
    "ExecuteTime": {
     "end_time": "2024-11-27T04:56:03.073135Z",
     "start_time": "2024-11-27T04:56:03.068688Z"
    }
   },
   "cell_type": "code",
   "source": "MIX_MF_h_inv_diag.shape",
   "id": "d063fd2feea94a18",
   "outputs": [
    {
     "data": {
      "text/plain": [
       "(117,)"
      ]
     },
     "execution_count": 25,
     "metadata": {},
     "output_type": "execute_result"
    }
   ],
   "execution_count": 25
  },
  {
   "metadata": {
    "ExecuteTime": {
     "end_time": "2024-11-27T06:11:41.564999Z",
     "start_time": "2024-11-27T06:11:41.444804Z"
    }
   },
   "cell_type": "code",
   "source": [
    "plt.figure(figsize=(6, 6))\n",
    "plt.subplots_adjust(left=0.15, right=0.95, top=0.9, bottom=0.15)\n",
    "plt.scatter(GTR_h_inv_diag,MIX_MF_h_inv_diag)\n",
    "min_value = min(min(GTR_h_inv_diag), min(MIX_MF_h_inv_diag))\n",
    "max_value = max(max(GTR_h_inv_diag), max(MIX_MF_h_inv_diag))\n",
    "\n",
    "# Add y = x line\n",
    "plt.plot([min_value, max_value], [min_value, max_value], color='red', linestyle='--', label='y = x')\n",
    "\n",
    "\n",
    "# Add labels and title\n",
    "plt.xlabel('GTR+G4')\n",
    "plt.ylabel('MixtureFinder')\n",
    "plt.title('Branch-Length Variation')\n",
    "\n",
    "# Show the plot\n",
    "plt.savefig(\"/home/piyumal/PHD/TimeTree/TreeMatching2/date_testing/Afrotheria/complex-model-analysis-v1/blen_variation/bv_MIX.png\")"
   ],
   "id": "f74e2068863ad417",
   "outputs": [
    {
     "data": {
      "text/plain": [
       "<Figure size 600x600 with 1 Axes>"
      ],
      "image/png": "[encoded data removed]"
     },
     "metadata": {},
     "output_type": "display_data"
    }
   ],
   "execution_count": 54
  },
  {
   "metadata": {
    "ExecuteTime": {
     "end_time": "2024-11-27T05:15:15.971619Z",
     "start_time": "2024-11-27T05:15:15.812223Z"
    }
   },
   "cell_type": "code",
   "source": [
    "plt.figure(figsize=(6, 6))\n",
    "plt.scatter(GTR_b, MIX_MF_b)\n",
    "min_value = min(min(GTR_b), min(MIX_MF_b))\n",
    "max_value = max(max(GTR_b), max(MIX_MF_b))\n",
    "\n",
    "# Add y = x line\n",
    "plt.plot([min_value, max_value], [min_value, max_value], color='red', linestyle='--', label='y = x')\n",
    "\n",
    "\n",
    "# Add labels and title\n",
    "plt.xlabel('GTR+G4')\n",
    "plt.ylabel('MixtureFinder')\n",
    "plt.title('Branch-Lengths')\n",
    "\n",
    "# Show the plot\n",
    "plt.savefig(\"/home/piyumal/PHD/TimeTree/TreeMatching2/date_testing/Afrotheria/complex-model-analysis-v1/blen_variation/b_MIX.png\")"
   ],
   "id": "4243e2d449f4c671",
   "outputs": [
    {
     "data": {
      "text/plain": [
       "<Figure size 600x600 with 1 Axes>"
      ],
      "image/png": "[encoded data removed]"
     },
     "metadata": {},
     "output_type": "display_data"
    }
   ],
   "execution_count": 49
  },
  {
   "metadata": {
    "ExecuteTime": {
     "end_time": "2024-11-27T04:56:03.288509Z",
     "start_time": "2024-11-27T04:56:03.285086Z"
    }
   },
   "cell_type": "code",
   "source": "GTR_h_inv_diag",
   "id": "ef9ac81c35e5c0f7",
   "outputs": [
    {
     "data": {
      "text/plain": [
       "array([ 1.12352174e-06,  6.52941181e-07,  1.23449098e-06,  6.10531378e-06,\n",
       "        1.72258050e-06,  1.47515727e-06,  1.85509087e-04,  7.56289627e-05,\n",
       "        7.01793134e-05,  1.29699388e-05,  8.10007836e-05,  2.48041382e-05,\n",
       "        2.44067264e-05,  4.30560585e-06, -2.49531743e-04,  2.24172181e-05,\n",
       "        9.73013277e-06,  3.06942084e-04,  3.06942189e-04,  3.72432978e-06,\n",
       "        3.06942154e-04,  7.80674330e-06, -2.41839654e-04, -2.41839865e-04,\n",
       "       -2.41839983e-04,  1.19324685e-05,  1.97827875e-05,  3.61164365e-06,\n",
       "        7.41681826e-06,  1.12181509e-05,  1.03580401e-05,  2.80990841e-05,\n",
       "        1.04200262e-05,  3.78036457e-06,  2.39219063e-05,  4.57434048e-05,\n",
       "        5.59610707e-06,  1.02129910e-05,  7.59922135e-06,  1.84803892e-05,\n",
       "        3.56155766e-05,  1.52409305e-05,  8.93804711e-06,  8.62026066e-06,\n",
       "        4.34621406e-06,  1.11855009e-05,  5.95510098e-06,  4.76750706e-05,\n",
       "        9.38391584e-05,  4.18424759e-05,  3.84721466e-05,  4.07809838e-05,\n",
       "        3.66808470e-05,  5.86407310e-05,  7.02677194e-05,  8.47055135e-05,\n",
       "        4.75645311e-05,  2.97749012e-05,  1.55159846e-05,  5.56674922e-05,\n",
       "        3.38985544e-05,  2.61996847e-05,  2.08696459e-04,  1.57969107e-04,\n",
       "        1.90585066e-04,  5.23624389e-06,  8.03314487e-06,  3.87323228e-06,\n",
       "        1.19124192e-05,  1.40271407e-05,  1.73497789e-05,  7.62617744e-06,\n",
       "        1.25539904e-06,  3.40347081e-06,  2.48277389e-05,  3.32910722e-05,\n",
       "        1.03451114e-04,  8.34619078e-06,  1.10858683e-05,  3.64837953e-06,\n",
       "        5.79990058e-06,  1.21649094e-05,  1.95959012e-05,  2.10276920e-05,\n",
       "        7.03452114e-06,  1.09142250e-05,  9.51060588e-06,  6.07829069e-06,\n",
       "        2.50664536e-05,  1.47758989e-05,  7.55501168e-07,  2.75678171e-07,\n",
       "        7.01273811e-08,  7.95590635e-07,  8.25994091e-06,  1.53874412e-06,\n",
       "        2.71648676e-07,  2.15533811e-06,  1.41212351e-06,  1.64192583e-06,\n",
       "        7.53567107e-07,  9.18253079e-08,  9.86638848e-07,  1.23014801e-07,\n",
       "        8.33271082e-07,  4.24601043e-06,  6.71996603e-07,  2.06107299e-06,\n",
       "        4.86342912e-06,  2.72402810e-06,  7.60375694e-07,  1.42820386e-06,\n",
       "        3.26557103e-05,  1.70754561e-05,  1.46919929e-05,  2.94631554e-06,\n",
       "        2.34170670e-06])"
      ]
     },
     "execution_count": 27,
     "metadata": {},
     "output_type": "execute_result"
    }
   ],
   "execution_count": 27
  },
  {
   "metadata": {
    "ExecuteTime": {
     "end_time": "2024-11-27T04:56:03.336656Z",
     "start_time": "2024-11-27T04:56:03.332925Z"
    }
   },
   "cell_type": "code",
   "source": "MIX_MF_h_inv_diag",
   "id": "697632c0fab13b5c",
   "outputs": [
    {
     "data": {
      "text/plain": [
       "array([ 4.18539320e-05,  2.18808691e-04,  1.35142611e-04,  3.80152797e-04,\n",
       "        5.02087454e-06,  8.53435967e-06,  4.69413067e-05,  1.11524680e-05,\n",
       "        4.40710049e-05,  6.74624847e-05,  2.33596418e-05,  4.51662671e-05,\n",
       "        4.05433583e-05,  5.09515310e-05,  4.44860956e-06,  2.08607203e-06,\n",
       "        1.43400652e-05,  1.09908718e-04,  1.28019354e-04,  2.86431481e-04,\n",
       "        3.74531728e-05,  1.70330681e-05,  1.01569419e-05,  3.11439824e-05,\n",
       "        4.46193427e-05,  6.49790340e-05,  6.63404115e-05,  3.24675911e-05,\n",
       "        4.89750869e-05,  2.14629353e-05,  1.75587816e-05,  8.63359791e-05,\n",
       "        1.08797373e-04,  3.12634815e-06,  3.21601676e-07,  1.19245247e-07,\n",
       "        3.39296246e-06,  5.14307765e-06,  5.15969225e-05,  2.87678944e-05,\n",
       "        2.67813546e-05,  8.97637317e-07,  1.09578613e-05,  4.11361629e-06,\n",
       "        4.74211413e-06,  4.31619803e-06,  3.19319140e-07,  5.51030264e-07,\n",
       "        2.17716504e-07,  1.09932007e-06,  2.44517063e-06,  6.77432318e-07,\n",
       "        1.28803896e-05,  1.36296485e-05,  9.42311728e-06,  1.84069832e-06,\n",
       "        4.00269488e-06,  4.87677552e-04,  1.38219750e-04,  1.24847569e-04,\n",
       "        4.49504561e-06,  4.00721183e-06,  5.45535853e-05,  8.54498344e-05,\n",
       "        4.82733593e-05,  9.60193706e-05,  1.99995040e-04,  6.52176081e-05,\n",
       "        3.24959968e-05,  2.60347701e-05,  1.37836774e-05,  6.37131920e-05,\n",
       "        2.70288338e-05,  2.80488950e-04,  3.32807883e-04,  1.25530425e-04,\n",
       "        7.22696539e-05,  4.97875810e-05,  4.78423293e-05,  7.60638431e-05,\n",
       "        1.34054562e-04,  4.77527958e-04,  2.24098950e-04,  1.17482969e-04,\n",
       "        7.25804572e-05,  2.65320300e-04,  1.76379303e-04,  1.18973385e-04,\n",
       "        1.90254625e-03,  1.00855272e-03,  1.60926802e-03,  5.46133924e-04,\n",
       "        3.87967674e-04,  8.91700006e-06,  6.35383925e-05,  1.77337388e-04,\n",
       "        2.96089659e-05,  5.49756798e-05,  2.33660960e-05, -8.21922758e-05,\n",
       "       -8.21897905e-05,  9.30564322e-06, -8.21897078e-05,  2.48630990e-05,\n",
       "       -3.18208737e-04, -3.18206097e-04, -3.18213490e-04,  3.60309861e-05,\n",
       "        5.37790525e-05,  7.85679299e-06,  1.58337009e-05,  3.01013816e-05,\n",
       "        8.66999164e-05,  5.27772300e-06, -4.14234573e-04,  8.51200877e-05,\n",
       "        1.67019618e-04])"
      ]
     },
     "execution_count": 28,
     "metadata": {},
     "output_type": "execute_result"
    }
   ],
   "execution_count": 28
  },
  {
   "metadata": {
    "ExecuteTime": {
     "end_time": "2024-11-27T06:11:24.184500Z",
     "start_time": "2024-11-27T06:11:24.088660Z"
    }
   },
   "cell_type": "code",
   "source": [
    "plt.figure(figsize=(6, 6))\n",
    "plt.subplots_adjust(left=0.15, right=0.95, top=0.9, bottom=0.15)\n",
    "plt.scatter(GTR_h_inv_diag, MF_p_h_inv_diag)\n",
    "min_value = min(min(GTR_h_inv_diag), min(MF_p_h_inv_diag))\n",
    "max_value = max(max(GTR_h_inv_diag), max(MF_p_h_inv_diag))\n",
    "\n",
    "# Add y = x line\n",
    "plt.plot([min_value, max_value], [min_value, max_value], color='red', linestyle='--', label='y = x')\n",
    "\n",
    "\n",
    "# Add labels and title\n",
    "plt.xlabel('GTR+G4')\n",
    "plt.ylabel('ModelFinder[p]')\n",
    "plt.title('Branch-Length Variation')\n",
    "\n",
    "# Show the plot\n",
    "plt.savefig(\"/home/piyumal/PHD/TimeTree/TreeMatching2/date_testing/Afrotheria/complex-model-analysis-v1/blen_variation/bv_MF_p.png\")"
   ],
   "id": "d8cdc98c0657df0e",
   "outputs": [
    {
     "data": {
      "text/plain": [
       "<Figure size 600x600 with 1 Axes>"
      ],
      "image/png": "[encoded data removed]"
     },
     "metadata": {},
     "output_type": "display_data"
    }
   ],
   "execution_count": 53
  },
  {
   "metadata": {
    "ExecuteTime": {
     "end_time": "2024-11-27T05:16:17.062613Z",
     "start_time": "2024-11-27T05:16:16.937184Z"
    }
   },
   "cell_type": "code",
   "source": [
    "plt.figure(figsize=(6, 6))\n",
    "plt.scatter(GTR_b, MF_p_b)\n",
    "min_value = min(min(GTR_b), min(MF_p_b))\n",
    "max_value = max(max(GTR_b), max(MF_p_b))\n",
    "\n",
    "# Add y = x line\n",
    "plt.plot([min_value, max_value], [min_value, max_value], color='red', linestyle='--', label='y = x')\n",
    "\n",
    "\n",
    "# Add labels and title\n",
    "plt.xlabel('GTR+G4')\n",
    "plt.ylabel('ModelFinder[p]')\n",
    "plt.title('Branch-Lengths')\n",
    "\n",
    "# Show the plot\n",
    "plt.savefig(\"/home/piyumal/PHD/TimeTree/TreeMatching2/date_testing/Afrotheria/complex-model-analysis-v1/blen_variation/b_MF_P.png\")"
   ],
   "id": "5659147655edf3ce",
   "outputs": [
    {
     "data": {
      "text/plain": [
       "<Figure size 600x600 with 1 Axes>"
      ],
      "image/png": "[encoded data removed]"
     },
     "metadata": {},
     "output_type": "display_data"
    }
   ],
   "execution_count": 52
  },
  {
   "metadata": {},
   "cell_type": "code",
   "outputs": [],
   "execution_count": null,
   "source": "",
   "id": "68fe65f0df5d52f5"
  }
 ],
 "metadata": {
  "kernelspec": {
   "display_name": "Python 3",
   "language": "python",
   "name": "python3"
  },
  "language_info": {
   "codemirror_mode": {
    "name": "ipython",
    "version": 2
   },
   "file_extension": ".py",
   "mimetype": "text/x-python",
   "name": "python",
   "nbconvert_exporter": "python",
   "pygments_lexer": "ipython2",
   "version": "2.7.6"
  }
 },
 "nbformat": 4,
 "nbformat_minor": 5
}
