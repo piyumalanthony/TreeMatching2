{
 "cells": [
  {
   "cell_type": "code",
   "id": "initial_id",
   "metadata": {
    "collapsed": true,
    "ExecuteTime": {
     "end_time": "2024-10-31T19:19:52.199778Z",
     "start_time": "2024-10-31T19:19:52.195022Z"
    }
   },
   "source": [
    "# Code to get all the Posterior mean (95% Equal-tail CI) (95% HPD CI) HPD-CI-width from ./xenarthra_mcmc_out.txt\n",
    "import numpy as np\n",
    "import pandas as pd\n",
    "import matplotlib.pyplot as plt\n",
    "\n",
    "\n",
    "# Read the file\n",
    "file = open(\"MF_middle_out.txt\", \"r\")\n",
    "lines = file.readlines()\n",
    "file.close()\n",
    "\n",
    "# Extract the data\n",
    "data = []\n",
    "mu_data = []\n",
    "var_data = []\n",
    "\n",
    "read_flag = False\n",
    "for line in lines:\n",
    "    if line.startswith(\"Posterior\"):\n",
    "        read_flag = True\n",
    "    if read_flag and line.startswith(\"t\"):\n",
    "        data.append(line)\n",
    "    if read_flag and line.startswith(\"mu\"):\n",
    "        mu_data.append(line)\n",
    "    if read_flag and line.startswith(\"sigma\"):\n",
    "        var_data.append(line)"
   ],
   "outputs": [],
   "execution_count": 19
  },
  {
   "metadata": {
    "ExecuteTime": {
     "end_time": "2024-10-31T19:19:52.226368Z",
     "start_time": "2024-10-31T19:19:52.222630Z"
    }
   },
   "cell_type": "code",
   "source": "data",
   "id": "54808ee54195795",
   "outputs": [
    {
     "data": {
      "text/plain": [
       "['t_n61          2.5091 ( 1.9481,  3.1081) ( 1.9367,  3.0912)  1.1545 (Jnode 118)\\n',\n",
       " 't_n62          0.7802 ( 0.6108,  0.9848) ( 0.6012,  0.9726)  0.3715 (Jnode 117)\\n',\n",
       " 't_n63          0.7538 ( 0.5907,  0.9484) ( 0.5762,  0.9324)  0.3563 (Jnode 116)\\n',\n",
       " 't_n64          0.7310 ( 0.5737,  0.9198) ( 0.5650,  0.9088)  0.3438 (Jnode 115)\\n',\n",
       " 't_n65          0.5223 ( 0.4195,  0.5771) ( 0.4363,  0.5874)  0.1511 (Jnode 114)\\n',\n",
       " 't_n66          0.2871 ( 0.2192,  0.3446) ( 0.2221,  0.3469)  0.1248 (Jnode 113)\\n',\n",
       " 't_n67          0.2430 ( 0.1837,  0.2970) ( 0.1872,  0.2999)  0.1127 (Jnode 112)\\n',\n",
       " 't_n68          0.1584 ( 0.1155,  0.2024) ( 0.1138,  0.2006)  0.0867 (Jnode 111)\\n',\n",
       " 't_n69          0.0156 ( 0.0073,  0.0284) ( 0.0062,  0.0263)  0.0201 (Jnode 110)\\n',\n",
       " 't_n70          0.1984 ( 0.1477,  0.2478) ( 0.1465,  0.2463)  0.0998 (Jnode 109)\\n',\n",
       " 't_n71          0.1470 ( 0.0944,  0.2015) ( 0.0936,  0.2004)  0.1068 (Jnode 108)\\n',\n",
       " 't_n72          0.0412 ( 0.0256,  0.0616) ( 0.0243,  0.0598)  0.0356 (Jnode 107)\\n',\n",
       " 't_n73          0.2473 ( 0.1873,  0.3015) ( 0.1880,  0.3021)  0.1140 (Jnode 106)\\n',\n",
       " 't_n74          0.1687 ( 0.1230,  0.2149) ( 0.1227,  0.2145)  0.0917 (Jnode 105)\\n',\n",
       " 't_n75          0.1963 ( 0.1455,  0.2454) ( 0.1477,  0.2472)  0.0995 (Jnode 104)\\n',\n",
       " 't_n76          0.0574 ( 0.0383,  0.0803) ( 0.0363,  0.0778)  0.0415 (Jnode 103)\\n',\n",
       " 't_n77          0.0186 ( 0.0078,  0.0361) ( 0.0066,  0.0332)  0.0266 (Jnode 102)\\n',\n",
       " 't_n78          0.0048 ( 0.0007,  0.0125) ( 0.0001,  0.0107)  0.0106 (Jnode 101)\\n',\n",
       " 't_n79          0.6788 ( 0.5339,  0.8528) ( 0.5236,  0.8406)  0.3169 (Jnode 100)\\n',\n",
       " 't_n80          0.5368 ( 0.4194,  0.6855) ( 0.4155,  0.6805)  0.2650 (Jnode 99)\\n',\n",
       " 't_n81          0.3888 ( 0.2975,  0.5019) ( 0.2960,  0.4995)  0.2035 (Jnode 98)\\n',\n",
       " 't_n82          0.2961 ( 0.2203,  0.3899) ( 0.2144,  0.3825)  0.1681 (Jnode 97)\\n',\n",
       " 't_n83          0.1500 ( 0.0927,  0.2235) ( 0.0869,  0.2160)  0.1291 (Jnode 96)\\n',\n",
       " 't_n84          0.2445 ( 0.1736,  0.3327) ( 0.1665,  0.3240)  0.1575 (Jnode 95)\\n',\n",
       " 't_n85          0.3214 ( 0.2408,  0.4213) ( 0.2382,  0.4178)  0.1795 (Jnode 94)\\n',\n",
       " 't_n86          0.3010 ( 0.2229,  0.3979) ( 0.2136,  0.3873)  0.1737 (Jnode 93)\\n',\n",
       " 't_n87          0.1983 ( 0.1380,  0.2751) ( 0.1330,  0.2687)  0.1357 (Jnode 92)\\n',\n",
       " 't_n88          0.1165 ( 0.0725,  0.1738) ( 0.0701,  0.1699)  0.0998 (Jnode 91)\\n',\n",
       " 't_n89          0.0857 ( 0.0514,  0.1329) ( 0.0470,  0.1265)  0.0795 (Jnode 90)\\n',\n",
       " 't_n90          0.0360 ( 0.0198,  0.0600) ( 0.0184,  0.0571)  0.0387 (Jnode 89)\\n',\n",
       " 't_n91          0.1691 ( 0.1139,  0.2374) ( 0.1089,  0.2306)  0.1217 (Jnode 88)\\n',\n",
       " 't_n92          0.1273 ( 0.0838,  0.1833) ( 0.0790,  0.1765)  0.0974 (Jnode 87)\\n',\n",
       " 't_n93          0.1869 ( 0.0948,  0.3052) ( 0.0878,  0.2929)  0.2051 (Jnode 86)\\n',\n",
       " 't_n94          0.2850 ( 0.2048,  0.3844) ( 0.2001,  0.3776)  0.1775 (Jnode 85)\\n',\n",
       " 't_n95          0.2290 ( 0.1612,  0.3148) ( 0.1568,  0.3070)  0.1502 (Jnode 84)\\n',\n",
       " 't_n96          0.1777 ( 0.1222,  0.2471) ( 0.1190,  0.2426)  0.1236 (Jnode 83)\\n',\n",
       " 't_n97          0.1187 ( 0.0696,  0.1794) ( 0.0639,  0.1728)  0.1089 (Jnode 82)\\n',\n",
       " 't_n98          0.0470 ( 0.0165,  0.0904) ( 0.0135,  0.0853)  0.0717 (Jnode 81)\\n',\n",
       " 't_n99          0.0346 ( 0.0101,  0.0721) ( 0.0073,  0.0666)  0.0593 (Jnode 80)\\n',\n",
       " 't_n100         0.0259 ( 0.0057,  0.0593) ( 0.0036,  0.0536)  0.0500 (Jnode 79)\\n',\n",
       " 't_n101         0.0166 ( 0.0014,  0.0452) ( 0.0000,  0.0390)  0.0390 (Jnode 78)\\n',\n",
       " 't_n102         0.0840 ( 0.0410,  0.1408) ( 0.0377,  0.1356)  0.0979 (Jnode 77)\\n',\n",
       " 't_n103         0.0284 ( 0.0049,  0.0669) ( 0.0018,  0.0597)  0.0579 (Jnode 76)\\n',\n",
       " 't_n104         0.1654 ( 0.1093,  0.2345) ( 0.1048,  0.2279)  0.1231 (Jnode 75)\\n',\n",
       " 't_n105         0.1151 ( 0.0614,  0.1820) ( 0.0579,  0.1768)  0.1190 (Jnode 74)\\n',\n",
       " 't_n106         0.0780 ( 0.0331,  0.1392) ( 0.0289,  0.1320)  0.1031 (Jnode 73)\\n',\n",
       " 't_n107         0.0214 ( 0.0011,  0.0670) ( 0.0000,  0.0563)  0.0563 (Jnode 72)\\n',\n",
       " 't_n108         0.1806 ( 0.1053,  0.2710) ( 0.1008,  0.2651)  0.1644 (Jnode 71)\\n',\n",
       " 't_n109         0.1151 ( 0.0442,  0.2023) ( 0.0394,  0.1953)  0.1559 (Jnode 70)\\n',\n",
       " 't_n110         0.6263 ( 0.4793,  0.8016) ( 0.4742,  0.7944)  0.3202 (Jnode 69)\\n',\n",
       " 't_n111         0.5806 ( 0.4414,  0.7465) ( 0.4342,  0.7376)  0.3034 (Jnode 68)\\n',\n",
       " 't_n112         0.2300 ( 0.1524,  0.3288) ( 0.1469,  0.3192)  0.1723 (Jnode 67)\\n',\n",
       " 't_n113         0.0545 ( 0.0321,  0.0878) ( 0.0302,  0.0838)  0.0535 (Jnode 66)\\n',\n",
       " 't_n114         0.0432 ( 0.0254,  0.0698) ( 0.0231,  0.0657)  0.0426 (Jnode 65)\\n',\n",
       " 't_n115         0.0143 ( 0.0061,  0.0287) ( 0.0050,  0.0261)  0.0211 (Jnode 64)\\n',\n",
       " 't_n116         0.1228 ( 0.0749,  0.1863) ( 0.0711,  0.1806)  0.1094 (Jnode 63)\\n',\n",
       " 't_n117         0.0941 ( 0.0554,  0.1487) ( 0.0515,  0.1426)  0.0910 (Jnode 62)\\n',\n",
       " 't_n118         2.0406 ( 1.2624,  2.7890) ( 1.2498,  2.7718)  1.5220 (Jnode 61)\\n',\n",
       " 't_n119         1.0479 ( 0.4767,  1.6530) ( 0.4473,  1.5993)  1.1520 (Jnode 60)\\n']"
      ]
     },
     "execution_count": 20,
     "metadata": {},
     "output_type": "execute_result"
    }
   ],
   "execution_count": 20
  },
  {
   "metadata": {
    "ExecuteTime": {
     "end_time": "2024-10-31T19:19:52.278869Z",
     "start_time": "2024-10-31T19:19:52.274679Z"
    }
   },
   "cell_type": "code",
   "source": [
    "node_name = []\n",
    "posterior_mean_iqtree = []\n",
    "posterior_mean_baseml = []\n",
    "\n",
    "posterior_mean_mu_iqtree = []\n",
    "posterior_mean_mu_baseml = []\n",
    "\n",
    "posterior_mean_var_iqtree = []\n",
    "posterior_mean_var_baseml = []\n",
    "\n",
    "lower_ci_iqtree = []\n",
    "upper_ci_iqtree = []\n",
    "\n",
    "lower_ci_mu_iqtree = []\n",
    "upper_ci_mu_iqtree = []\n",
    "\n",
    "lower_ci_var_iqtree = []\n",
    "upper_ci_var_iqtree = []\n",
    "\n",
    "# Credible intervals for McmcDate\n",
    "lower_ci_baseml = []\n",
    "upper_ci_baseml = []\n",
    "\n",
    "lower_ci_mu_baseml = []\n",
    "upper_ci_mu_baseml = []\n",
    "\n",
    "lower_ci_var_baseml = []\n",
    "upper_ci_var_baseml = []"
   ],
   "id": "e5cf93a69d327e61",
   "outputs": [],
   "execution_count": 21
  },
  {
   "metadata": {
    "ExecuteTime": {
     "end_time": "2024-10-31T19:19:52.324929Z",
     "start_time": "2024-10-31T19:19:52.322191Z"
    }
   },
   "cell_type": "code",
   "source": [
    "for line in data:\n",
    "    line = line.strip().split()\n",
    "    node_name.append(line[0])\n",
    "    posterior_mean_iqtree.append(float(line[1]))\n",
    "#     if line[3].startswith('('):\n",
    "#         lower_ci_iqtree.append(float(line[3][1:-1]))\n",
    "#     else:\n",
    "#         lower_ci_iqtree.append(float(line[3][1:-1]))\n",
    "#     if line[4].startswith('('):\n",
    "#         upper_ci_iqtree.append(float(line[4][1:-1]))\n",
    "#     else:\n",
    "#         upper_ci_iqtree.append(float(line[4][:-1]))\n",
    "#     # posterior_mean_baseml.append(float(line[4]))\n",
    "#     # lower_ci_baseml.append(float(line[5]))\n",
    "#     # upper_ci_baseml.append(float(line[6]))\n",
    "# \n",
    "# for line in mu_data:\n",
    "#     line = line.strip().split()\n",
    "#     # node_name.append(line[0])\n",
    "#     posterior_mean_mu_iqtree.append(float(line[1]))\n",
    "#     lower_ci_mu_iqtree.append(float(line[3][:-1]))\n",
    "#     upper_ci_mu_iqtree.append(float(line[4][:-1]))\n",
    "#\n",
    "# for line in var_data:\n",
    "#     line = line.strip().split()\n",
    "#     # node_name.append(line[0])\n",
    "#     posterior_mean_var_iqtree.append(float(line[1]))\n",
    "#     lower_ci_var_iqtree.append(float(line[3][:-1]))\n",
    "#     upper_ci_var_iqtree.append(float(line[4][:-1]))"
   ],
   "id": "4e79ee928ea76b59",
   "outputs": [],
   "execution_count": 22
  },
  {
   "metadata": {
    "ExecuteTime": {
     "end_time": "2024-10-31T19:19:52.383656Z",
     "start_time": "2024-10-31T19:19:52.374435Z"
    }
   },
   "cell_type": "code",
   "source": "node_name",
   "id": "2c17f55ec9626a0b",
   "outputs": [
    {
     "data": {
      "text/plain": [
       "['t_n61',\n",
       " 't_n62',\n",
       " 't_n63',\n",
       " 't_n64',\n",
       " 't_n65',\n",
       " 't_n66',\n",
       " 't_n67',\n",
       " 't_n68',\n",
       " 't_n69',\n",
       " 't_n70',\n",
       " 't_n71',\n",
       " 't_n72',\n",
       " 't_n73',\n",
       " 't_n74',\n",
       " 't_n75',\n",
       " 't_n76',\n",
       " 't_n77',\n",
       " 't_n78',\n",
       " 't_n79',\n",
       " 't_n80',\n",
       " 't_n81',\n",
       " 't_n82',\n",
       " 't_n83',\n",
       " 't_n84',\n",
       " 't_n85',\n",
       " 't_n86',\n",
       " 't_n87',\n",
       " 't_n88',\n",
       " 't_n89',\n",
       " 't_n90',\n",
       " 't_n91',\n",
       " 't_n92',\n",
       " 't_n93',\n",
       " 't_n94',\n",
       " 't_n95',\n",
       " 't_n96',\n",
       " 't_n97',\n",
       " 't_n98',\n",
       " 't_n99',\n",
       " 't_n100',\n",
       " 't_n101',\n",
       " 't_n102',\n",
       " 't_n103',\n",
       " 't_n104',\n",
       " 't_n105',\n",
       " 't_n106',\n",
       " 't_n107',\n",
       " 't_n108',\n",
       " 't_n109',\n",
       " 't_n110',\n",
       " 't_n111',\n",
       " 't_n112',\n",
       " 't_n113',\n",
       " 't_n114',\n",
       " 't_n115',\n",
       " 't_n116',\n",
       " 't_n117',\n",
       " 't_n118',\n",
       " 't_n119']"
      ]
     },
     "execution_count": 23,
     "metadata": {},
     "output_type": "execute_result"
    }
   ],
   "execution_count": 23
  },
  {
   "metadata": {
    "ExecuteTime": {
     "end_time": "2024-10-31T19:19:52.445632Z",
     "start_time": "2024-10-31T19:19:52.441Z"
    }
   },
   "cell_type": "code",
   "source": "posterior_mean_iqtree",
   "id": "24a55c806a41f33e",
   "outputs": [
    {
     "data": {
      "text/plain": [
       "[2.5091,\n",
       " 0.7802,\n",
       " 0.7538,\n",
       " 0.731,\n",
       " 0.5223,\n",
       " 0.2871,\n",
       " 0.243,\n",
       " 0.1584,\n",
       " 0.0156,\n",
       " 0.1984,\n",
       " 0.147,\n",
       " 0.0412,\n",
       " 0.2473,\n",
       " 0.1687,\n",
       " 0.1963,\n",
       " 0.0574,\n",
       " 0.0186,\n",
       " 0.0048,\n",
       " 0.6788,\n",
       " 0.5368,\n",
       " 0.3888,\n",
       " 0.2961,\n",
       " 0.15,\n",
       " 0.2445,\n",
       " 0.3214,\n",
       " 0.301,\n",
       " 0.1983,\n",
       " 0.1165,\n",
       " 0.0857,\n",
       " 0.036,\n",
       " 0.1691,\n",
       " 0.1273,\n",
       " 0.1869,\n",
       " 0.285,\n",
       " 0.229,\n",
       " 0.1777,\n",
       " 0.1187,\n",
       " 0.047,\n",
       " 0.0346,\n",
       " 0.0259,\n",
       " 0.0166,\n",
       " 0.084,\n",
       " 0.0284,\n",
       " 0.1654,\n",
       " 0.1151,\n",
       " 0.078,\n",
       " 0.0214,\n",
       " 0.1806,\n",
       " 0.1151,\n",
       " 0.6263,\n",
       " 0.5806,\n",
       " 0.23,\n",
       " 0.0545,\n",
       " 0.0432,\n",
       " 0.0143,\n",
       " 0.1228,\n",
       " 0.0941,\n",
       " 2.0406,\n",
       " 1.0479]"
      ]
     },
     "execution_count": 24,
     "metadata": {},
     "output_type": "execute_result"
    }
   ],
   "execution_count": 24
  },
  {
   "metadata": {
    "ExecuteTime": {
     "end_time": "2024-10-31T19:19:52.502935Z",
     "start_time": "2024-10-31T19:19:52.496459Z"
    }
   },
   "cell_type": "code",
   "source": "lower_ci_iqtree",
   "id": "388aa27ad336d43f",
   "outputs": [
    {
     "data": {
      "text/plain": [
       "[]"
      ]
     },
     "execution_count": 25,
     "metadata": {},
     "output_type": "execute_result"
    }
   ],
   "execution_count": 25
  },
  {
   "metadata": {
    "ExecuteTime": {
     "end_time": "2024-10-31T19:19:52.559623Z",
     "start_time": "2024-10-31T19:19:52.555501Z"
    }
   },
   "cell_type": "code",
   "source": "upper_ci_iqtree",
   "id": "816e569fb763e797",
   "outputs": [
    {
     "data": {
      "text/plain": [
       "[]"
      ]
     },
     "execution_count": 26,
     "metadata": {},
     "output_type": "execute_result"
    }
   ],
   "execution_count": 26
  },
  {
   "metadata": {
    "ExecuteTime": {
     "end_time": "2024-10-31T19:19:52.612350Z",
     "start_time": "2024-10-31T19:19:52.605631Z"
    }
   },
   "cell_type": "code",
   "source": [
    "file_LG = open(\"GTR_G4_middle_out.txt\", \"r\")\n",
    "lines1 = file_LG.readlines()\n",
    "file_LG.close()\n",
    "\n",
    "# Extract the data\n",
    "data1 = []\n",
    "mu_data1 = []\n",
    "var_data1 = []\n",
    "\n",
    "read_flag = False\n",
    "for line in lines1:\n",
    "    if line.startswith(\"Posterior\"):\n",
    "        read_flag = True\n",
    "    if read_flag and line.startswith(\"t\"):\n",
    "        data1.append(line)\n",
    "    if read_flag and line.startswith(\"mu\"):\n",
    "        mu_data1.append(line)\n",
    "    if read_flag and line.startswith(\"sigma\"):\n",
    "        var_data1.append(line)\n",
    "\n",
    "        \n",
    "for line in data1:\n",
    "    line = line.strip().split()\n",
    "    # node_name.append(line[0])\n",
    "    posterior_mean_baseml.append(float(line[1]))\n",
    "#     if line[3].startswith('('):\n",
    "#         lower_ci_baseml.append(float(line[3][1:-1]))\n",
    "#     else:\n",
    "#          lower_ci_baseml.append(float(line[3][:-1]))\n",
    "#     if line[4].startswith('('):\n",
    "#         upper_ci_baseml.append(float(line[4][1:-1]))\n",
    "#     else:\n",
    "#          upper_ci_baseml.append(float(line[4][:-1]))\n",
    "#         \n",
    "#     \n",
    "# for line in mu_data1:\n",
    "#     line = line.strip().split()\n",
    "#     # node_name.append(line[0])\n",
    "#     posterior_mean_mu_baseml.append(float(line[1]))\n",
    "#     lower_ci_mu_baseml.append(float(line[3][:-1]))\n",
    "#     upper_ci_mu_baseml.append(float(line[4][:-1]))\n",
    "    \n",
    "# for line in var_data1:\n",
    "#     line = line.strip().split()\n",
    "#     # node_name.append(line[0])\n",
    "#     posterior_mean_var_baseml.append(float(line[1]))\n",
    "#     lower_ci_var_baseml.append(float(line[3][:-1]))\n",
    "#     upper_ci_var_baseml.append(float(line[4][:-1]))"
   ],
   "id": "f75c012c6bef60a2",
   "outputs": [],
   "execution_count": 27
  },
  {
   "metadata": {
    "ExecuteTime": {
     "end_time": "2024-10-31T19:19:52.656259Z",
     "start_time": "2024-10-31T19:19:52.653106Z"
    }
   },
   "cell_type": "code",
   "source": [
    "import matplotlib.pyplot as plt\n",
    "import numpy as np\n",
    "\n",
    "# # Example data\n",
    "# # Posterior means for MCMCtree (x-axis) and McmcDate (y-axis)\n",
    "# posterior_mean_mcmctree = [100, 200, 300, 400, 500, 600, 700, 800, 900, 1000]\n",
    "# posterior_mean_mcmcdate = [110, 210, 310, 410, 510, 610, 710, 810, 910, 1010]\n",
    "# \n",
    "# # Credible intervals for MCMCtree\n",
    "# lower_ci_mcmctree = [90, 180, 270, 360, 450, 540, 630, 720, 810, 900]\n",
    "# upper_ci_mcmctree = [110, 220, 330, 440, 550, 660, 770, 880, 990, 1100]\n",
    "# \n",
    "# # Credible intervals for McmcDate\n",
    "# lower_ci_mcmcdate = [100, 200, 300, 400, 500, 600, 700, 800, 900, 1000]\n",
    "# upper_ci_mcmcdate = [120, 220, 320, 420, 520, 620, 720, 820, 920, 1020]\n",
    "\n",
    "# Calculate error bars\n",
    "# xerr = [np.array(lower_ci_baseml), \n",
    "#         np.array(upper_ci_baseml)]\n",
    "# yerr = [np.array(lower_ci_iqtree), \n",
    "#         np.array(upper_ci_iqtree)]\n",
    "# \n",
    "# # Plotting\n",
    "# fig, ax = plt.subplots(figsize=(15, 15))\n",
    "# ax.plot([-0.1,90], \n",
    "#         [-0.1, 90], \n",
    "#         'k--', label='y=x')\n",
    "# ax.errorbar(posterior_mean_baseml, posterior_mean_iqtree, \n",
    "#             xerr=xerr, yerr=yerr, fmt='*', ecolor='r', capsize=3, label='95% HPD CI')\n",
    "# \n",
    "# # Labels and title\n",
    "# ax.set_xlabel('Posterior mean age LG [100 Mya]', fontsize=18)\n",
    "# ax.set_ylabel('Posterior mean age LG+G4 [100 Mya]', fontsize=18)\n",
    "# ax.set_title('Posterior mean age comparison between LG and LG+G4 models [t116 ~ B(1.25,2.482)]')\n",
    "# ax.legend()\n",
    "# \n",
    "# # Show plot\n",
    "# # plt.show()\n",
    "# plt.savefig('./animal_origin_posterior_mean_age_comparison_LG_G4_c11.png')"
   ],
   "id": "12db486fa4fac82c",
   "outputs": [],
   "execution_count": 28
  },
  {
   "metadata": {
    "ExecuteTime": {
     "end_time": "2024-10-31T19:19:52.717664Z",
     "start_time": "2024-10-31T19:19:52.712535Z"
    }
   },
   "cell_type": "code",
   "source": "posterior_mean_baseml",
   "id": "917b2e31cff4b992",
   "outputs": [
    {
     "data": {
      "text/plain": [
       "[2.4912,\n",
       " 0.7752,\n",
       " 0.7462,\n",
       " 0.7228,\n",
       " 0.5226,\n",
       " 0.2888,\n",
       " 0.2448,\n",
       " 0.1606,\n",
       " 0.0162,\n",
       " 0.1997,\n",
       " 0.148,\n",
       " 0.0409,\n",
       " 0.2501,\n",
       " 0.1723,\n",
       " 0.2013,\n",
       " 0.0604,\n",
       " 0.0189,\n",
       " 0.0048,\n",
       " 0.6702,\n",
       " 0.5297,\n",
       " 0.3845,\n",
       " 0.2939,\n",
       " 0.1494,\n",
       " 0.2426,\n",
       " 0.3163,\n",
       " 0.2963,\n",
       " 0.1963,\n",
       " 0.1143,\n",
       " 0.0861,\n",
       " 0.0361,\n",
       " 0.1667,\n",
       " 0.1253,\n",
       " 0.1843,\n",
       " 0.2842,\n",
       " 0.2285,\n",
       " 0.1787,\n",
       " 0.1191,\n",
       " 0.0471,\n",
       " 0.0349,\n",
       " 0.0261,\n",
       " 0.0167,\n",
       " 0.0844,\n",
       " 0.0288,\n",
       " 0.1664,\n",
       " 0.1157,\n",
       " 0.0781,\n",
       " 0.0215,\n",
       " 0.1801,\n",
       " 0.1147,\n",
       " 0.6242,\n",
       " 0.5776,\n",
       " 0.2303,\n",
       " 0.055,\n",
       " 0.0436,\n",
       " 0.0138,\n",
       " 0.1257,\n",
       " 0.0963,\n",
       " 2.0416,\n",
       " 1.0502]"
      ]
     },
     "execution_count": 29,
     "metadata": {},
     "output_type": "execute_result"
    }
   ],
   "execution_count": 29
  },
  {
   "metadata": {
    "ExecuteTime": {
     "end_time": "2024-10-31T19:19:52.840364Z",
     "start_time": "2024-10-31T19:19:52.836655Z"
    }
   },
   "cell_type": "code",
   "source": "posterior_mean_iqtree",
   "id": "59ad8fd34f7bbf11",
   "outputs": [
    {
     "data": {
      "text/plain": [
       "[2.5091,\n",
       " 0.7802,\n",
       " 0.7538,\n",
       " 0.731,\n",
       " 0.5223,\n",
       " 0.2871,\n",
       " 0.243,\n",
       " 0.1584,\n",
       " 0.0156,\n",
       " 0.1984,\n",
       " 0.147,\n",
       " 0.0412,\n",
       " 0.2473,\n",
       " 0.1687,\n",
       " 0.1963,\n",
       " 0.0574,\n",
       " 0.0186,\n",
       " 0.0048,\n",
       " 0.6788,\n",
       " 0.5368,\n",
       " 0.3888,\n",
       " 0.2961,\n",
       " 0.15,\n",
       " 0.2445,\n",
       " 0.3214,\n",
       " 0.301,\n",
       " 0.1983,\n",
       " 0.1165,\n",
       " 0.0857,\n",
       " 0.036,\n",
       " 0.1691,\n",
       " 0.1273,\n",
       " 0.1869,\n",
       " 0.285,\n",
       " 0.229,\n",
       " 0.1777,\n",
       " 0.1187,\n",
       " 0.047,\n",
       " 0.0346,\n",
       " 0.0259,\n",
       " 0.0166,\n",
       " 0.084,\n",
       " 0.0284,\n",
       " 0.1654,\n",
       " 0.1151,\n",
       " 0.078,\n",
       " 0.0214,\n",
       " 0.1806,\n",
       " 0.1151,\n",
       " 0.6263,\n",
       " 0.5806,\n",
       " 0.23,\n",
       " 0.0545,\n",
       " 0.0432,\n",
       " 0.0143,\n",
       " 0.1228,\n",
       " 0.0941,\n",
       " 2.0406,\n",
       " 1.0479]"
      ]
     },
     "execution_count": 30,
     "metadata": {},
     "output_type": "execute_result"
    }
   ],
   "execution_count": 30
  },
  {
   "metadata": {
    "ExecuteTime": {
     "end_time": "2024-10-31T19:19:53.189517Z",
     "start_time": "2024-10-31T19:19:52.986558Z"
    }
   },
   "cell_type": "code",
   "source": [
    "# Calculate error bars\n",
    "xerr = [np.array(lower_ci_baseml), \n",
    "        np.array(upper_ci_baseml)]\n",
    "yerr = [np.array(lower_ci_iqtree), \n",
    "        np.array(upper_ci_iqtree)]\n",
    "\n",
    "# Plotting\n",
    "fig, ax = plt.subplots(figsize=(9 ,9))\n",
    "ax.plot([-0.1,3.3], \n",
    "        [-0.1, 3.3], \n",
    "        'k--', label='y=x')\n",
    "points = ax.plot(posterior_mean_iqtree, posterior_mean_baseml, 'o', label='Posterior mean age')\n",
    "\n",
    "points[0].set_markerfacecolor('blue')\n",
    "# points[23].set_markerfacecolor('blue')# Set default face color (for other points)\n",
    "\n",
    "# Now plot the highlighted point with a different color\n",
    "ax.scatter(posterior_mean_iqtree[0], posterior_mean_baseml[0], color='red', s=100)\n",
    "ax.scatter(posterior_mean_iqtree[4], posterior_mean_baseml[4], color='red', s=100)\n",
    "# ax.scatter(posterior_mean_iqtree[0], posterior_mean_baseml[0], color='red', label='Root age')\n",
    "ax.annotate('root calibration:\\n ST(1.6419,0.4248,12.6518,1714.5649)', \n",
    "        xy=(posterior_mean_iqtree[0], posterior_mean_baseml[0]), \n",
    "        xytext=(posterior_mean_iqtree[0]-1.5,  posterior_mean_baseml[0]+0.2 ),  # Offset position for the label\n",
    "        arrowprops=dict(arrowstyle='->', color='red'),  # Arrow style\n",
    "        fontsize=12, color='red') \n",
    "ax.annotate('middle calibration:\\n B(0.2304,0.5600)', \n",
    "        xy=(posterior_mean_iqtree[4], posterior_mean_baseml[4]), \n",
    "        xytext=(posterior_mean_iqtree[4]+0.8 ,  posterior_mean_baseml[4] ),  # Offset position for the label\n",
    "        arrowprops=dict(arrowstyle='->', color='red'),  # Arrow style\n",
    "        fontsize=12, color='red') \n",
    " \n",
    "# Labels and title\n",
    "ax.set_ylabel('Posterior mean age GTR+G4 [100 Mya]', fontsize=18)\n",
    "ax.set_xlabel('Posterior mean age Partition MF [-Q] [100 Mya]', fontsize=18)\n",
    "# ax.set_title('Posterior mean age comparison between LG and Partition MF [-p] [t199 ~ B(10.3300,45.2000)]')\n",
    "ax.legend()\n",
    "\n",
    "# point_x = posterior_mean_baseml[0]  # Example: first point in the list\n",
    "# point_y = posterior_mean_iqtree[0]  # Example: first point in the list\n",
    "# ax.annotate('Root age', xy=(point_x, point_y), xytext=(point_x - 0.1, point_y - 0.1), color='red')\n",
    "# Show plot\n",
    "# plt.show()\n",
    "plt.savefig('./afrotheria_posterior_mean_age_comparison_partition_MF_p_middle_scatter.png')"
   ],
   "id": "592d0bb72aa1ad4c",
   "outputs": [
    {
     "data": {
      "text/plain": [
       "<Figure size 900x900 with 1 Axes>"
      ],
      "image/png": "[encoded data removed]"
     },
     "metadata": {},
     "output_type": "display_data"
    }
   ],
   "execution_count": 31
  },
  {
   "metadata": {
    "ExecuteTime": {
     "end_time": "2024-10-31T19:19:53.198256Z",
     "start_time": "2024-10-31T19:19:53.195191Z"
    }
   },
   "cell_type": "code",
   "source": [
    "# fig, ax = plt.subplots(figsize=(9 ,9))\n",
    "# ax.plot([0.01,0.04], \n",
    "#         [0.01, 0.04], \n",
    "#         'k--', label='y=x')\n",
    "# ax.plot(posterior_mean_mu_baseml, posterior_mean_mu_iqtree, 'o', label='Posterior mean rates for partitions')\n",
    "#  \n",
    "# # Labels and title\n",
    "# ax.set_xlabel('Posterior mean rate [LG]', fontsize=18)\n",
    "# ax.set_ylabel('Posterior mean rate [LG+G4]', fontsize=18)\n",
    "# ax.set_title('Posterior mean rate comparison between LG and LG+G4 [Cherry only calibration/IQ-TREE]')\n",
    "# ax.legend()\n",
    "# \n",
    "# # point_x = posterior_mean_baseml[0]  # Example: first point in the list\n",
    "# # point_y = posterior_mean_iqtree[0]  # Example: first point in the list\n",
    "# # ax.annotate('Root age', xy=(point_x, point_y), xytext=(point_x - 0.1, point_y - 0.1), color='red')\n",
    "# # Show plot\n",
    "# # plt.show()\n",
    "# plt.savefig('./animal_origin__posterior_mean_rate_comparison_LG_G4_all_scatter.png')"
   ],
   "id": "c6d69ee36c77970c",
   "outputs": [],
   "execution_count": 32
  },
  {
   "metadata": {
    "ExecuteTime": {
     "end_time": "2024-10-31T19:19:53.244275Z",
     "start_time": "2024-10-31T19:19:53.242655Z"
    }
   },
   "cell_type": "code",
   "source": "",
   "id": "ca69d5b521db3aa7",
   "outputs": [],
   "execution_count": null
  }
 ],
 "metadata": {
  "kernelspec": {
   "display_name": "Python 3",
   "language": "python",
   "name": "python3"
  },
  "language_info": {
   "codemirror_mode": {
    "name": "ipython",
    "version": 2
   },
   "file_extension": ".py",
   "mimetype": "text/x-python",
   "name": "python",
   "nbconvert_exporter": "python",
   "pygments_lexer": "ipython2",
   "version": "2.7.6"
  }
 },
 "nbformat": 4,
 "nbformat_minor": 5
}
