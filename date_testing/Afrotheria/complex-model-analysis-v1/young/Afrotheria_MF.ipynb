{
 "cells": [
  {
   "cell_type": "code",
   "id": "initial_id",
   "metadata": {
    "collapsed": true,
    "ExecuteTime": {
     "end_time": "2024-10-31T19:23:48.297246Z",
     "start_time": "2024-10-31T19:23:48.293234Z"
    }
   },
   "source": [
    "# Code to get all the Posterior mean (95% Equal-tail CI) (95% HPD CI) HPD-CI-width from ./xenarthra_mcmc_out.txt\n",
    "import numpy as np\n",
    "import pandas as pd\n",
    "import matplotlib.pyplot as plt\n",
    "\n",
    "\n",
    "# Read the file\n",
    "file = open(\"MF_young_out.txt\", \"r\")\n",
    "lines = file.readlines()\n",
    "file.close()\n",
    "\n",
    "# Extract the data\n",
    "data = []\n",
    "mu_data = []\n",
    "var_data = []\n",
    "\n",
    "read_flag = False\n",
    "for line in lines:\n",
    "    if line.startswith(\"Posterior\"):\n",
    "        read_flag = True\n",
    "    if read_flag and line.startswith(\"t\"):\n",
    "        data.append(line)\n",
    "    if read_flag and line.startswith(\"mu\"):\n",
    "        mu_data.append(line)\n",
    "    if read_flag and line.startswith(\"sigma\"):\n",
    "        var_data.append(line)"
   ],
   "outputs": [],
   "execution_count": 30
  },
  {
   "metadata": {
    "ExecuteTime": {
     "end_time": "2024-10-31T19:23:48.316562Z",
     "start_time": "2024-10-31T19:23:48.312483Z"
    }
   },
   "cell_type": "code",
   "source": "data",
   "id": "54808ee54195795",
   "outputs": [
    {
     "data": {
      "text/plain": [
       "['t_n61          2.9857 ( 2.3534,  3.6453) ( 2.3403,  3.6306)  1.2903 (Jnode 118)\\n',\n",
       " 't_n62          1.4658 ( 1.0392,  1.9367) ( 1.0280,  1.9221)  0.8941 (Jnode 117)\\n',\n",
       " 't_n63          1.4216 ( 1.0075,  1.8803) ( 0.9919,  1.8621)  0.8703 (Jnode 116)\\n',\n",
       " 't_n64          1.3837 ( 0.9790,  1.8327) ( 0.9668,  1.8158)  0.8490 (Jnode 115)\\n',\n",
       " 't_n65          1.0548 ( 0.7141,  1.4222) ( 0.7064,  1.4104)  0.7040 (Jnode 114)\\n',\n",
       " 't_n66          0.5529 ( 0.2799,  0.7874) ( 0.2882,  0.7951)  0.5069 (Jnode 113)\\n',\n",
       " 't_n67          0.4679 ( 0.2313,  0.6721) ( 0.2239,  0.6636)  0.4397 (Jnode 112)\\n',\n",
       " 't_n68          0.3053 ( 0.1474,  0.4531) ( 0.1424,  0.4473)  0.3049 (Jnode 111)\\n',\n",
       " 't_n69          0.0321 ( 0.0121,  0.0649) ( 0.0091,  0.0598)  0.0507 (Jnode 110)\\n',\n",
       " 't_n70          0.3814 ( 0.1852,  0.5561) ( 0.1765,  0.5467)  0.3703 (Jnode 109)\\n',\n",
       " 't_n71          0.2842 ( 0.1315,  0.4469) ( 0.1254,  0.4378)  0.3124 (Jnode 108)\\n',\n",
       " 't_n72          0.0781 ( 0.0357,  0.1303) ( 0.0331,  0.1263)  0.0932 (Jnode 107)\\n',\n",
       " 't_n73          0.4732 ( 0.2346,  0.6811) ( 0.2402,  0.6861)  0.4459 (Jnode 106)\\n',\n",
       " 't_n74          0.3219 ( 0.1547,  0.4784) ( 0.1563,  0.4794)  0.3230 (Jnode 105)\\n',\n",
       " 't_n75          0.3758 ( 0.1808,  0.5519) ( 0.1850,  0.5553)  0.3703 (Jnode 104)\\n',\n",
       " 't_n76          0.1068 ( 0.0509,  0.1709) ( 0.0465,  0.1654)  0.1189 (Jnode 103)\\n',\n",
       " 't_n77          0.0393 ( 0.0145,  0.0818) ( 0.0109,  0.0740)  0.0631 (Jnode 102)\\n',\n",
       " 't_n78          0.0101 ( 0.0015,  0.0281) ( 0.0003,  0.0237)  0.0234 (Jnode 101)\\n',\n",
       " 't_n79          1.2922 ( 0.9111,  1.7147) ( 0.9027,  1.7044)  0.8017 (Jnode 100)\\n',\n",
       " 't_n80          1.0334 ( 0.7019,  1.3964) ( 0.6851,  1.3743)  0.6892 (Jnode 99)\\n',\n",
       " 't_n81          0.7394 ( 0.4743,  1.0234) ( 0.4621,  1.0095)  0.5474 (Jnode 98)\\n',\n",
       " 't_n82          0.5627 ( 0.3482,  0.7968) ( 0.3437,  0.7898)  0.4461 (Jnode 97)\\n',\n",
       " 't_n83          0.2850 ( 0.1471,  0.4567) ( 0.1346,  0.4399)  0.3053 (Jnode 96)\\n',\n",
       " 't_n84          0.4632 ( 0.2780,  0.6755) ( 0.2713,  0.6664)  0.3951 (Jnode 95)\\n',\n",
       " 't_n85          0.6074 ( 0.3750,  0.8574) ( 0.3665,  0.8456)  0.4791 (Jnode 94)\\n',\n",
       " 't_n86          0.5681 ( 0.3478,  0.8068) ( 0.3443,  0.8013)  0.4570 (Jnode 93)\\n',\n",
       " 't_n87          0.3713 ( 0.2041,  0.5586) ( 0.1928,  0.5446)  0.3518 (Jnode 92)\\n',\n",
       " 't_n88          0.2096 ( 0.1067,  0.3461) ( 0.0975,  0.3319)  0.2343 (Jnode 91)\\n',\n",
       " 't_n89          0.1510 ( 0.0754,  0.2596) ( 0.0686,  0.2475)  0.1789 (Jnode 90)\\n',\n",
       " 't_n90          0.0622 ( 0.0291,  0.1121) ( 0.0260,  0.1058)  0.0798 (Jnode 89)\\n',\n",
       " 't_n91          0.3141 ( 0.1710,  0.4796) ( 0.1602,  0.4657)  0.3054 (Jnode 88)\\n',\n",
       " 't_n92          0.2358 ( 0.1276,  0.3708) ( 0.1174,  0.3562)  0.2389 (Jnode 87)\\n',\n",
       " 't_n93          0.3570 ( 0.1492,  0.6234) ( 0.1344,  0.5996)  0.4651 (Jnode 86)\\n',\n",
       " 't_n94          0.5055 ( 0.2895,  0.7518) ( 0.2754,  0.7347)  0.4592 (Jnode 85)\\n',\n",
       " 't_n95          0.3994 ( 0.2207,  0.6070) ( 0.2057,  0.5863)  0.3805 (Jnode 84)\\n',\n",
       " 't_n96          0.3048 ( 0.1640,  0.4738) ( 0.1541,  0.4591)  0.3050 (Jnode 83)\\n',\n",
       " 't_n97          0.1917 ( 0.0896,  0.3324) ( 0.0781,  0.3139)  0.2358 (Jnode 82)\\n',\n",
       " 't_n98          0.0706 ( 0.0241,  0.1395) ( 0.0203,  0.1306)  0.1103 (Jnode 81)\\n',\n",
       " 't_n99          0.0520 ( 0.0143,  0.1095) ( 0.0092,  0.0996)  0.0903 (Jnode 80)\\n',\n",
       " 't_n100         0.0385 ( 0.0080,  0.0886) ( 0.0031,  0.0785)  0.0754 (Jnode 79)\\n',\n",
       " 't_n101         0.0239 ( 0.0018,  0.0669) ( 0.0000,  0.0574)  0.0574 (Jnode 78)\\n',\n",
       " 't_n102         0.1278 ( 0.0537,  0.2488) ( 0.0463,  0.2328)  0.1865 (Jnode 77)\\n',\n",
       " 't_n103         0.0428 ( 0.0069,  0.1037) ( 0.0013,  0.0904)  0.0891 (Jnode 76)\\n',\n",
       " 't_n104         0.2812 ( 0.1469,  0.4443) ( 0.1304,  0.4238)  0.2934 (Jnode 75)\\n',\n",
       " 't_n105         0.1807 ( 0.0778,  0.3344) ( 0.0644,  0.3107)  0.2462 (Jnode 74)\\n',\n",
       " 't_n106         0.1123 ( 0.0423,  0.2379) ( 0.0329,  0.2176)  0.1847 (Jnode 73)\\n',\n",
       " 't_n107         0.0345 ( 0.0017,  0.1052) ( 0.0000,  0.0896)  0.0896 (Jnode 72)\\n',\n",
       " 't_n108         0.3037 ( 0.1367,  0.5137) ( 0.1238,  0.4929)  0.3691 (Jnode 71)\\n',\n",
       " 't_n109         0.1791 ( 0.0555,  0.3692) ( 0.0455,  0.3462)  0.3007 (Jnode 70)\\n',\n",
       " 't_n110         1.2064 ( 0.8577,  1.6054) ( 0.8450,  1.5889)  0.7439 (Jnode 69)\\n',\n",
       " 't_n111         1.1287 ( 0.8010,  1.5071) ( 0.7880,  1.4907)  0.7028 (Jnode 68)\\n',\n",
       " 't_n112         0.4508 ( 0.2672,  0.6768) ( 0.2518,  0.6597)  0.4079 (Jnode 67)\\n',\n",
       " 't_n113         0.1253 ( 0.0673,  0.2188) ( 0.0616,  0.2115)  0.1499 (Jnode 66)\\n',\n",
       " 't_n114         0.0986 ( 0.0528,  0.1716) ( 0.0491,  0.1651)  0.1159 (Jnode 65)\\n',\n",
       " 't_n115         0.0345 ( 0.0127,  0.0777) ( 0.0092,  0.0684)  0.0592 (Jnode 64)\\n',\n",
       " 't_n116         0.2238 ( 0.1120,  0.3768) ( 0.1015,  0.3579)  0.2563 (Jnode 63)\\n',\n",
       " 't_n117         0.1704 ( 0.0836,  0.2960) ( 0.0722,  0.2778)  0.2056 (Jnode 62)\\n',\n",
       " 't_n118         2.0417 ( 1.3657,  2.8318) ( 1.3140,  2.7713)  1.4573 (Jnode 61)\\n',\n",
       " 't_n119         0.9920 ( 0.5544,  1.5879) ( 0.5122,  1.5175)  1.0053 (Jnode 60)\\n']"
      ]
     },
     "execution_count": 31,
     "metadata": {},
     "output_type": "execute_result"
    }
   ],
   "execution_count": 31
  },
  {
   "metadata": {
    "ExecuteTime": {
     "end_time": "2024-10-31T19:23:48.367771Z",
     "start_time": "2024-10-31T19:23:48.362635Z"
    }
   },
   "cell_type": "code",
   "source": [
    "node_name = []\n",
    "posterior_mean_iqtree = []\n",
    "posterior_mean_baseml = []\n",
    "\n",
    "posterior_mean_mu_iqtree = []\n",
    "posterior_mean_mu_baseml = []\n",
    "\n",
    "posterior_mean_var_iqtree = []\n",
    "posterior_mean_var_baseml = []\n",
    "\n",
    "lower_ci_iqtree = []\n",
    "upper_ci_iqtree = []\n",
    "\n",
    "lower_ci_mu_iqtree = []\n",
    "upper_ci_mu_iqtree = []\n",
    "\n",
    "lower_ci_var_iqtree = []\n",
    "upper_ci_var_iqtree = []\n",
    "\n",
    "# Credible intervals for McmcDate\n",
    "lower_ci_baseml = []\n",
    "upper_ci_baseml = []\n",
    "\n",
    "lower_ci_mu_baseml = []\n",
    "upper_ci_mu_baseml = []\n",
    "\n",
    "lower_ci_var_baseml = []\n",
    "upper_ci_var_baseml = []"
   ],
   "id": "e5cf93a69d327e61",
   "outputs": [],
   "execution_count": 32
  },
  {
   "metadata": {
    "ExecuteTime": {
     "end_time": "2024-10-31T19:23:48.413723Z",
     "start_time": "2024-10-31T19:23:48.410750Z"
    }
   },
   "cell_type": "code",
   "source": [
    "for line in data:\n",
    "    line = line.strip().split()\n",
    "    node_name.append(line[0])\n",
    "    posterior_mean_iqtree.append(float(line[1]))\n",
    "#     if line[3].startswith('('):\n",
    "#         lower_ci_iqtree.append(float(line[3][1:-1]))\n",
    "#     else:\n",
    "#         lower_ci_iqtree.append(float(line[3][1:-1]))\n",
    "#     if line[4].startswith('('):\n",
    "#         upper_ci_iqtree.append(float(line[4][1:-1]))\n",
    "#     else:\n",
    "#         upper_ci_iqtree.append(float(line[4][:-1]))\n",
    "#     # posterior_mean_baseml.append(float(line[4]))\n",
    "#     # lower_ci_baseml.append(float(line[5]))\n",
    "#     # upper_ci_baseml.append(float(line[6]))\n",
    "# \n",
    "# for line in mu_data:\n",
    "#     line = line.strip().split()\n",
    "#     # node_name.append(line[0])\n",
    "#     posterior_mean_mu_iqtree.append(float(line[1]))\n",
    "#     lower_ci_mu_iqtree.append(float(line[3][:-1]))\n",
    "#     upper_ci_mu_iqtree.append(float(line[4][:-1]))\n",
    "#\n",
    "# for line in var_data:\n",
    "#     line = line.strip().split()\n",
    "#     # node_name.append(line[0])\n",
    "#     posterior_mean_var_iqtree.append(float(line[1]))\n",
    "#     lower_ci_var_iqtree.append(float(line[3][:-1]))\n",
    "#     upper_ci_var_iqtree.append(float(line[4][:-1]))"
   ],
   "id": "4e79ee928ea76b59",
   "outputs": [],
   "execution_count": 33
  },
  {
   "metadata": {
    "ExecuteTime": {
     "end_time": "2024-10-31T19:23:48.476345Z",
     "start_time": "2024-10-31T19:23:48.469523Z"
    }
   },
   "cell_type": "code",
   "source": "node_name",
   "id": "2c17f55ec9626a0b",
   "outputs": [
    {
     "data": {
      "text/plain": [
       "['t_n61',\n",
       " 't_n62',\n",
       " 't_n63',\n",
       " 't_n64',\n",
       " 't_n65',\n",
       " 't_n66',\n",
       " 't_n67',\n",
       " 't_n68',\n",
       " 't_n69',\n",
       " 't_n70',\n",
       " 't_n71',\n",
       " 't_n72',\n",
       " 't_n73',\n",
       " 't_n74',\n",
       " 't_n75',\n",
       " 't_n76',\n",
       " 't_n77',\n",
       " 't_n78',\n",
       " 't_n79',\n",
       " 't_n80',\n",
       " 't_n81',\n",
       " 't_n82',\n",
       " 't_n83',\n",
       " 't_n84',\n",
       " 't_n85',\n",
       " 't_n86',\n",
       " 't_n87',\n",
       " 't_n88',\n",
       " 't_n89',\n",
       " 't_n90',\n",
       " 't_n91',\n",
       " 't_n92',\n",
       " 't_n93',\n",
       " 't_n94',\n",
       " 't_n95',\n",
       " 't_n96',\n",
       " 't_n97',\n",
       " 't_n98',\n",
       " 't_n99',\n",
       " 't_n100',\n",
       " 't_n101',\n",
       " 't_n102',\n",
       " 't_n103',\n",
       " 't_n104',\n",
       " 't_n105',\n",
       " 't_n106',\n",
       " 't_n107',\n",
       " 't_n108',\n",
       " 't_n109',\n",
       " 't_n110',\n",
       " 't_n111',\n",
       " 't_n112',\n",
       " 't_n113',\n",
       " 't_n114',\n",
       " 't_n115',\n",
       " 't_n116',\n",
       " 't_n117',\n",
       " 't_n118',\n",
       " 't_n119']"
      ]
     },
     "execution_count": 34,
     "metadata": {},
     "output_type": "execute_result"
    }
   ],
   "execution_count": 34
  },
  {
   "metadata": {
    "ExecuteTime": {
     "end_time": "2024-10-31T19:23:48.528310Z",
     "start_time": "2024-10-31T19:23:48.524522Z"
    }
   },
   "cell_type": "code",
   "source": "posterior_mean_iqtree",
   "id": "24a55c806a41f33e",
   "outputs": [
    {
     "data": {
      "text/plain": [
       "[2.9857,\n",
       " 1.4658,\n",
       " 1.4216,\n",
       " 1.3837,\n",
       " 1.0548,\n",
       " 0.5529,\n",
       " 0.4679,\n",
       " 0.3053,\n",
       " 0.0321,\n",
       " 0.3814,\n",
       " 0.2842,\n",
       " 0.0781,\n",
       " 0.4732,\n",
       " 0.3219,\n",
       " 0.3758,\n",
       " 0.1068,\n",
       " 0.0393,\n",
       " 0.0101,\n",
       " 1.2922,\n",
       " 1.0334,\n",
       " 0.7394,\n",
       " 0.5627,\n",
       " 0.285,\n",
       " 0.4632,\n",
       " 0.6074,\n",
       " 0.5681,\n",
       " 0.3713,\n",
       " 0.2096,\n",
       " 0.151,\n",
       " 0.0622,\n",
       " 0.3141,\n",
       " 0.2358,\n",
       " 0.357,\n",
       " 0.5055,\n",
       " 0.3994,\n",
       " 0.3048,\n",
       " 0.1917,\n",
       " 0.0706,\n",
       " 0.052,\n",
       " 0.0385,\n",
       " 0.0239,\n",
       " 0.1278,\n",
       " 0.0428,\n",
       " 0.2812,\n",
       " 0.1807,\n",
       " 0.1123,\n",
       " 0.0345,\n",
       " 0.3037,\n",
       " 0.1791,\n",
       " 1.2064,\n",
       " 1.1287,\n",
       " 0.4508,\n",
       " 0.1253,\n",
       " 0.0986,\n",
       " 0.0345,\n",
       " 0.2238,\n",
       " 0.1704,\n",
       " 2.0417,\n",
       " 0.992]"
      ]
     },
     "execution_count": 35,
     "metadata": {},
     "output_type": "execute_result"
    }
   ],
   "execution_count": 35
  },
  {
   "metadata": {
    "ExecuteTime": {
     "end_time": "2024-10-31T19:23:48.589757Z",
     "start_time": "2024-10-31T19:23:48.586551Z"
    }
   },
   "cell_type": "code",
   "source": "lower_ci_iqtree",
   "id": "388aa27ad336d43f",
   "outputs": [
    {
     "data": {
      "text/plain": [
       "[]"
      ]
     },
     "execution_count": 36,
     "metadata": {},
     "output_type": "execute_result"
    }
   ],
   "execution_count": 36
  },
  {
   "metadata": {
    "ExecuteTime": {
     "end_time": "2024-10-31T19:23:48.646424Z",
     "start_time": "2024-10-31T19:23:48.642392Z"
    }
   },
   "cell_type": "code",
   "source": "upper_ci_iqtree",
   "id": "816e569fb763e797",
   "outputs": [
    {
     "data": {
      "text/plain": [
       "[]"
      ]
     },
     "execution_count": 37,
     "metadata": {},
     "output_type": "execute_result"
    }
   ],
   "execution_count": 37
  },
  {
   "metadata": {
    "ExecuteTime": {
     "end_time": "2024-10-31T19:23:48.697190Z",
     "start_time": "2024-10-31T19:23:48.693309Z"
    }
   },
   "cell_type": "code",
   "source": [
    "file_LG = open(\"GTR_G4_young_out.txt\", \"r\")\n",
    "lines1 = file_LG.readlines()\n",
    "file_LG.close()\n",
    "\n",
    "# Extract the data\n",
    "data1 = []\n",
    "mu_data1 = []\n",
    "var_data1 = []\n",
    "\n",
    "read_flag = False\n",
    "for line in lines1:\n",
    "    if line.startswith(\"Posterior\"):\n",
    "        read_flag = True\n",
    "    if read_flag and line.startswith(\"t\"):\n",
    "        data1.append(line)\n",
    "    if read_flag and line.startswith(\"mu\"):\n",
    "        mu_data1.append(line)\n",
    "    if read_flag and line.startswith(\"sigma\"):\n",
    "        var_data1.append(line)\n",
    "\n",
    "        \n",
    "for line in data1:\n",
    "    line = line.strip().split()\n",
    "    # node_name.append(line[0])\n",
    "    posterior_mean_baseml.append(float(line[1]))\n",
    "#     if line[3].startswith('('):\n",
    "#         lower_ci_baseml.append(float(line[3][1:-1]))\n",
    "#     else:\n",
    "#          lower_ci_baseml.append(float(line[3][:-1]))\n",
    "#     if line[4].startswith('('):\n",
    "#         upper_ci_baseml.append(float(line[4][1:-1]))\n",
    "#     else:\n",
    "#          upper_ci_baseml.append(float(line[4][:-1]))\n",
    "#         \n",
    "#     \n",
    "# for line in mu_data1:\n",
    "#     line = line.strip().split()\n",
    "#     # node_name.append(line[0])\n",
    "#     posterior_mean_mu_baseml.append(float(line[1]))\n",
    "#     lower_ci_mu_baseml.append(float(line[3][:-1]))\n",
    "#     upper_ci_mu_baseml.append(float(line[4][:-1]))\n",
    "    \n",
    "# for line in var_data1:\n",
    "#     line = line.strip().split()\n",
    "#     # node_name.append(line[0])\n",
    "#     posterior_mean_var_baseml.append(float(line[1]))\n",
    "#     lower_ci_var_baseml.append(float(line[3][:-1]))\n",
    "#     upper_ci_var_baseml.append(float(line[4][:-1]))"
   ],
   "id": "f75c012c6bef60a2",
   "outputs": [],
   "execution_count": 38
  },
  {
   "metadata": {
    "ExecuteTime": {
     "end_time": "2024-10-31T19:23:48.744939Z",
     "start_time": "2024-10-31T19:23:48.740992Z"
    }
   },
   "cell_type": "code",
   "source": [
    "import matplotlib.pyplot as plt\n",
    "import numpy as np\n",
    "\n",
    "# # Example data\n",
    "# # Posterior means for MCMCtree (x-axis) and McmcDate (y-axis)\n",
    "# posterior_mean_mcmctree = [100, 200, 300, 400, 500, 600, 700, 800, 900, 1000]\n",
    "# posterior_mean_mcmcdate = [110, 210, 310, 410, 510, 610, 710, 810, 910, 1010]\n",
    "# \n",
    "# # Credible intervals for MCMCtree\n",
    "# lower_ci_mcmctree = [90, 180, 270, 360, 450, 540, 630, 720, 810, 900]\n",
    "# upper_ci_mcmctree = [110, 220, 330, 440, 550, 660, 770, 880, 990, 1100]\n",
    "# \n",
    "# # Credible intervals for McmcDate\n",
    "# lower_ci_mcmcdate = [100, 200, 300, 400, 500, 600, 700, 800, 900, 1000]\n",
    "# upper_ci_mcmcdate = [120, 220, 320, 420, 520, 620, 720, 820, 920, 1020]\n",
    "\n",
    "# Calculate error bars\n",
    "# xerr = [np.array(lower_ci_baseml), \n",
    "#         np.array(upper_ci_baseml)]\n",
    "# yerr = [np.array(lower_ci_iqtree), \n",
    "#         np.array(upper_ci_iqtree)]\n",
    "# \n",
    "# # Plotting\n",
    "# fig, ax = plt.subplots(figsize=(15, 15))\n",
    "# ax.plot([-0.1,90], \n",
    "#         [-0.1, 90], \n",
    "#         'k--', label='y=x')\n",
    "# ax.errorbar(posterior_mean_baseml, posterior_mean_iqtree, \n",
    "#             xerr=xerr, yerr=yerr, fmt='*', ecolor='r', capsize=3, label='95% HPD CI')\n",
    "# \n",
    "# # Labels and title\n",
    "# ax.set_xlabel('Posterior mean age LG [100 Mya]', fontsize=18)\n",
    "# ax.set_ylabel('Posterior mean age LG+G4 [100 Mya]', fontsize=18)\n",
    "# ax.set_title('Posterior mean age comparison between LG and LG+G4 models [t116 ~ B(1.25,2.482)]')\n",
    "# ax.legend()\n",
    "# \n",
    "# # Show plot\n",
    "# # plt.show()\n",
    "# plt.savefig('./animal_origin_posterior_mean_age_comparison_LG_G4_c11.png')"
   ],
   "id": "12db486fa4fac82c",
   "outputs": [],
   "execution_count": 39
  },
  {
   "metadata": {
    "ExecuteTime": {
     "end_time": "2024-10-31T19:23:48.796356Z",
     "start_time": "2024-10-31T19:23:48.792336Z"
    }
   },
   "cell_type": "code",
   "source": "posterior_mean_baseml",
   "id": "917b2e31cff4b992",
   "outputs": [
    {
     "data": {
      "text/plain": [
       "[2.9713,\n",
       " 1.4751,\n",
       " 1.4265,\n",
       " 1.3872,\n",
       " 1.0655,\n",
       " 0.567,\n",
       " 0.4805,\n",
       " 0.3159,\n",
       " 0.0338,\n",
       " 0.3915,\n",
       " 0.2916,\n",
       " 0.0792,\n",
       " 0.4886,\n",
       " 0.3357,\n",
       " 0.3922,\n",
       " 0.1148,\n",
       " 0.0406,\n",
       " 0.0105,\n",
       " 1.2939,\n",
       " 1.0353,\n",
       " 0.7442,\n",
       " 0.5686,\n",
       " 0.2894,\n",
       " 0.4681,\n",
       " 0.6095,\n",
       " 0.5701,\n",
       " 0.3748,\n",
       " 0.2109,\n",
       " 0.1556,\n",
       " 0.064,\n",
       " 0.316,\n",
       " 0.2366,\n",
       " 0.3601,\n",
       " 0.5167,\n",
       " 0.4085,\n",
       " 0.3148,\n",
       " 0.1977,\n",
       " 0.0722,\n",
       " 0.0533,\n",
       " 0.0395,\n",
       " 0.0247,\n",
       " 0.1317,\n",
       " 0.0441,\n",
       " 0.2908,\n",
       " 0.1871,\n",
       " 0.1157,\n",
       " 0.0356,\n",
       " 0.3118,\n",
       " 0.1841,\n",
       " 1.2155,\n",
       " 1.1347,\n",
       " 0.4581,\n",
       " 0.1237,\n",
       " 0.0974,\n",
       " 0.0321,\n",
       " 0.2352,\n",
       " 0.1792,\n",
       " 2.0273,\n",
       " 0.9771]"
      ]
     },
     "execution_count": 40,
     "metadata": {},
     "output_type": "execute_result"
    }
   ],
   "execution_count": 40
  },
  {
   "metadata": {
    "ExecuteTime": {
     "end_time": "2024-10-31T19:23:48.850022Z",
     "start_time": "2024-10-31T19:23:48.846369Z"
    }
   },
   "cell_type": "code",
   "source": "posterior_mean_iqtree",
   "id": "59ad8fd34f7bbf11",
   "outputs": [
    {
     "data": {
      "text/plain": [
       "[2.9857,\n",
       " 1.4658,\n",
       " 1.4216,\n",
       " 1.3837,\n",
       " 1.0548,\n",
       " 0.5529,\n",
       " 0.4679,\n",
       " 0.3053,\n",
       " 0.0321,\n",
       " 0.3814,\n",
       " 0.2842,\n",
       " 0.0781,\n",
       " 0.4732,\n",
       " 0.3219,\n",
       " 0.3758,\n",
       " 0.1068,\n",
       " 0.0393,\n",
       " 0.0101,\n",
       " 1.2922,\n",
       " 1.0334,\n",
       " 0.7394,\n",
       " 0.5627,\n",
       " 0.285,\n",
       " 0.4632,\n",
       " 0.6074,\n",
       " 0.5681,\n",
       " 0.3713,\n",
       " 0.2096,\n",
       " 0.151,\n",
       " 0.0622,\n",
       " 0.3141,\n",
       " 0.2358,\n",
       " 0.357,\n",
       " 0.5055,\n",
       " 0.3994,\n",
       " 0.3048,\n",
       " 0.1917,\n",
       " 0.0706,\n",
       " 0.052,\n",
       " 0.0385,\n",
       " 0.0239,\n",
       " 0.1278,\n",
       " 0.0428,\n",
       " 0.2812,\n",
       " 0.1807,\n",
       " 0.1123,\n",
       " 0.0345,\n",
       " 0.3037,\n",
       " 0.1791,\n",
       " 1.2064,\n",
       " 1.1287,\n",
       " 0.4508,\n",
       " 0.1253,\n",
       " 0.0986,\n",
       " 0.0345,\n",
       " 0.2238,\n",
       " 0.1704,\n",
       " 2.0417,\n",
       " 0.992]"
      ]
     },
     "execution_count": 41,
     "metadata": {},
     "output_type": "execute_result"
    }
   ],
   "execution_count": 41
  },
  {
   "metadata": {
    "ExecuteTime": {
     "end_time": "2024-10-31T19:23:49.258599Z",
     "start_time": "2024-10-31T19:23:49.044534Z"
    }
   },
   "cell_type": "code",
   "source": [
    "# Calculate error bars\n",
    "xerr = [np.array(lower_ci_baseml), \n",
    "        np.array(upper_ci_baseml)]\n",
    "yerr = [np.array(lower_ci_iqtree), \n",
    "        np.array(upper_ci_iqtree)]\n",
    "\n",
    "# Plotting\n",
    "fig, ax = plt.subplots(figsize=(9 ,9))\n",
    "ax.plot([-0.1,3.3], \n",
    "        [-0.1, 3.3], \n",
    "        'k--', label='y=x')\n",
    "points = ax.plot(posterior_mean_iqtree, posterior_mean_baseml, 'o', label='Posterior mean age')\n",
    "\n",
    "points[0].set_markerfacecolor('blue')\n",
    "# points[23].set_markerfacecolor('blue')# Set default face color (for other points)\n",
    "\n",
    "# Now plot the highlighted point with a different color\n",
    "ax.scatter(posterior_mean_iqtree[0], posterior_mean_baseml[0], color='red', s=100)\n",
    "ax.scatter(posterior_mean_iqtree[-7], posterior_mean_baseml[-7], color='red', s=100)\n",
    "# ax.scatter(posterior_mean_iqtree[0], posterior_mean_baseml[0], color='red', label='Root age')\n",
    "ax.annotate('root calibration:\\n ST(1.6419,0.4248,12.6518,1714.5649)', \n",
    "        xy=(posterior_mean_iqtree[0], posterior_mean_baseml[0]), \n",
    "        xytext=(posterior_mean_iqtree[0]-1.8,  posterior_mean_baseml[0]+0.2 ),  # Offset position for the label\n",
    "        arrowprops=dict(arrowstyle='->', color='red'),  # Arrow style\n",
    "        fontsize=12, color='red') \n",
    "ax.annotate('young calibration:\\n B(0.0533,0.2304)', \n",
    "        xy=(posterior_mean_iqtree[-7], posterior_mean_baseml[-7]), \n",
    "        xytext=(posterior_mean_iqtree[-7]+0.5 ,  posterior_mean_baseml[-7] ),  # Offset position for the label\n",
    "        arrowprops=dict(arrowstyle='->', color='red'),  # Arrow style\n",
    "        fontsize=12, color='red') \n",
    " \n",
    "# Labels and title\n",
    "ax.set_ylabel('Posterior mean age GTR+G4 [100 Mya]', fontsize=18)\n",
    "ax.set_xlabel('Posterior mean age Partition MF [-Q] [100 Mya]', fontsize=18)\n",
    "# ax.set_title('Posterior mean age comparison between LG and Partition MF [-p] [t199 ~ B(10.3300,45.2000)]')\n",
    "ax.legend()\n",
    "\n",
    "# point_x = posterior_mean_baseml[0]  # Example: first point in the list\n",
    "# point_y = posterior_mean_iqtree[0]  # Example: first point in the list\n",
    "# ax.annotate('Root age', xy=(point_x, point_y), xytext=(point_x - 0.1, point_y - 0.1), color='red')\n",
    "# Show plot\n",
    "# plt.show()\n",
    "plt.savefig('./afrotheria_posterior_mean_age_comparison_partition_MF_p_young_scatter.png')"
   ],
   "id": "592d0bb72aa1ad4c",
   "outputs": [
    {
     "data": {
      "text/plain": [
       "<Figure size 900x900 with 1 Axes>"
      ],
      "image/png": "[encoded data removed]"
     },
     "metadata": {},
     "output_type": "display_data"
    }
   ],
   "execution_count": 42
  },
  {
   "metadata": {
    "ExecuteTime": {
     "end_time": "2024-10-31T19:23:49.272751Z",
     "start_time": "2024-10-31T19:23:49.269619Z"
    }
   },
   "cell_type": "code",
   "source": [
    "# fig, ax = plt.subplots(figsize=(9 ,9))\n",
    "# ax.plot([0.01,0.04], \n",
    "#         [0.01, 0.04], \n",
    "#         'k--', label='y=x')\n",
    "# ax.plot(posterior_mean_mu_baseml, posterior_mean_mu_iqtree, 'o', label='Posterior mean rates for partitions')\n",
    "#  \n",
    "# # Labels and title\n",
    "# ax.set_xlabel('Posterior mean rate [LG]', fontsize=18)\n",
    "# ax.set_ylabel('Posterior mean rate [LG+G4]', fontsize=18)\n",
    "# ax.set_title('Posterior mean rate comparison between LG and LG+G4 [Cherry only calibration/IQ-TREE]')\n",
    "# ax.legend()\n",
    "# \n",
    "# # point_x = posterior_mean_baseml[0]  # Example: first point in the list\n",
    "# # point_y = posterior_mean_iqtree[0]  # Example: first point in the list\n",
    "# # ax.annotate('Root age', xy=(point_x, point_y), xytext=(point_x - 0.1, point_y - 0.1), color='red')\n",
    "# # Show plot\n",
    "# # plt.show()\n",
    "# plt.savefig('./animal_origin__posterior_mean_rate_comparison_LG_G4_all_scatter.png')"
   ],
   "id": "c6d69ee36c77970c",
   "outputs": [],
   "execution_count": 43
  },
  {
   "metadata": {
    "ExecuteTime": {
     "end_time": "2024-10-31T19:23:49.313209Z",
     "start_time": "2024-10-31T19:23:49.311210Z"
    }
   },
   "cell_type": "code",
   "source": "",
   "id": "ca69d5b521db3aa7",
   "outputs": [],
   "execution_count": null
  }
 ],
 "metadata": {
  "kernelspec": {
   "display_name": "Python 3",
   "language": "python",
   "name": "python3"
  },
  "language_info": {
   "codemirror_mode": {
    "name": "ipython",
    "version": 2
   },
   "file_extension": ".py",
   "mimetype": "text/x-python",
   "name": "python",
   "nbconvert_exporter": "python",
   "pygments_lexer": "ipython2",
   "version": "2.7.6"
  }
 },
 "nbformat": 4,
 "nbformat_minor": 5
}
